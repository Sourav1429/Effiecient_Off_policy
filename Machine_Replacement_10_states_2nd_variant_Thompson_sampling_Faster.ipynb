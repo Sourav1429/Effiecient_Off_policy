{
 "cells": [
  {
   "cell_type": "markdown",
   "id": "a461fd3d",
   "metadata": {},
   "source": [
    "We begin by importing all the necssary packages and modules. Next our task is to build the Machine_Replacement environment. For doing that, we create a class named as Machine_Replacement which accepts the number_of_states(nS), number_of_actions(nA) and replacement_cost(rep_cost) as input and generate the environment. Later we just need to cal the function gen_probability() and gen_expected_reward_function() to get the Probability distribution matrix and Reward matrix"
   ]
  },
  {
   "cell_type": "code",
   "execution_count": 1,
   "id": "18b12dd6",
   "metadata": {},
   "outputs": [],
   "source": [
    "import torch\n",
    "import torch.nn as nn\n",
    "import torch.optim as optim\n",
    "import torch.nn.functional as F\n",
    "import numpy as np\n",
    "import numpy as np\n",
    "import pandas as pd\n",
    "import pickle\n",
    "from itertools import product\n",
    "import multiprocessing as mp\n",
    "mp.set_start_method('spawn',True)\n",
    "torch.multiprocessing.set_start_method('spawn',True)\n",
    "from tqdm import tqdm\n",
    "\n",
    "device = torch.device(\"cuda\" if torch.cuda.is_available() else \"cpu\")\n",
    "class Machine_Replacement:\n",
    "    def __init__(self,rep_cost=0.7,nS=6,nA=2):\n",
    "        self.nS = nS;\n",
    "        self.nA = nA;\n",
    "        self.cost = np.linspace(0.1, 0.99,nS);\n",
    "        self.rep_cost = rep_cost;\n",
    "    def gen_probability(self):\n",
    "        self.P = np.zeros((self.nA,self.nS,self.nS));\n",
    "        for i in range(self.nS):\n",
    "            for j in range(self.nS):\n",
    "                if(i<=j):\n",
    "                    self.P[0,i,j]=(i+1)*(j+1);\n",
    "                else:\n",
    "                    continue;\n",
    "            self.P[0,i,:]=self.P[0,i,:]/np.sum(self.P[0,i,:])\n",
    "            self.P[1,i,0]=1;\n",
    "        return self.P;\n",
    "    def gen_reward(self):\n",
    "        self.R=np.zeros((self.nA,self.nS,self.nS));\n",
    "        for i in range(self.nS):\n",
    "            self.R[0,i,:] = self.cost[i];\n",
    "            self.R[1,i,0] = self.rep_cost+self.cost[0];\n",
    "        return self.R;\n",
    "    def gen_expected_reward(self):\n",
    "        self.R = np.zeros((self.nA,self.nS));\n",
    "        for i in range(self.nS):\n",
    "            self.R[0,i] = self.cost[i];\n",
    "            self.R[1,i] = self.rep_cost + self.cost[0];\n",
    "        return self.R;"
   ]
  },
  {
   "cell_type": "markdown",
   "id": "5b424ede",
   "metadata": {},
   "source": [
    "Next we create another class specifying the hyperparameters that might be required in our algorithm. Later when required we can just call ret_hyperparameters() to get the hyperparameters."
   ]
  },
  {
   "cell_type": "code",
   "execution_count": 2,
   "id": "a9483d06",
   "metadata": {},
   "outputs": [],
   "source": [
    "class get_hyperparameters:\n",
    "    def __init__(self):\n",
    "        self.T = 50000;\n",
    "        self.runs = 5;\n",
    "        self.lr = 0.1;\n",
    "        self.batch_size = 50;\n",
    "        self.start = 0;\n",
    "        self.nS = 10;\n",
    "        self.nA = 2;\n",
    "        self.rep_cost = 0.7\n",
    "        self.alpha = 0.5\n",
    "        self.gamma = 0.95\n",
    "    \n",
    "    def ret_hyperparameters(self):\n",
    "        return (self.T,self.runs,self.lr,self.batch_size,self.start,self.nS,self.nA,self.rep_cost,self.alpha,self.gamma)"
   ]
  },
  {
   "cell_type": "markdown",
   "id": "d25f8964",
   "metadata": {},
   "source": [
    "Let us now define the pytorch model. So for doing that, we create a class named weights. There are 3 parameters, input_size which defines the number of perceptrons in the input layer. input_size = number of states(nS). The output size is the number of perceptrons in the output_layer. output_size = 1(which gives us the state distribution ratio for a particular state).\n",
    "\n",
    "Later when we want to update or find the state distribution ratio of any state, just pass that state to the forward(). First that particular state is converted into one_hot vector and then fed to the network. Finally the network returns the output value as the ratio of state distribution."
   ]
  },
  {
   "cell_type": "code",
   "execution_count": 3,
   "id": "437250f6",
   "metadata": {},
   "outputs": [],
   "source": [
    "class weights(nn.Module):\n",
    "    def __init__(self,input_size,output_size,hidden_size = 0):\n",
    "        super(weights,self).__init__()\n",
    "        self.input_size = input_size;\n",
    "        self.hidden_size = hidden_size;\n",
    "        self.output_size = output_size;\n",
    "        if(hidden_size!=0):\n",
    "            self.linear1 = nn.Linear(self.input_size, self.hidden_size, bias=False)\n",
    "            self.linear2 = nn.Linear(self.hidden_size, self.output_size, bias=False)\n",
    "        else:\n",
    "            self.linear1 = nn.Linear(self.input_size, self.output_size, bias=False)\n",
    "    '''\n",
    "        forward(): We accept a state 's' as input. Then we convert this into one hot encoding which is accomplished by first two lines.\n",
    "        Further we convert this one_hot vector 's' into pytorch tensor and then pass it through the network to obtain a output which is returned \n",
    "    '''\n",
    "    def forward(self,state):\n",
    "        s = np.zeros(self.input_size);\n",
    "        #print(state,end='===>');\n",
    "        s[state] = 1;\n",
    "        state = torch.FloatTensor(s).to(device)\n",
    "        #print(state);\n",
    "        if(self.hidden_size == 0):\n",
    "            output = torch.exp(self.linear1(state)) #To ensure that the outputs are always positive. giving Relu will cause problems.\n",
    "        else:\n",
    "            output = torch.exp(self.linear2(torch.exp(self.linear1(state))));\n",
    "        return output\n",
    "    \n",
    "    def forward_batch(self,states):\n",
    "        s = np.zeros((len(states),self.input_size));\n",
    "        #print(state,end='===>');\n",
    "        for i in range(len(states)):\n",
    "            s[i][states[i]] = 1\n",
    "        states = torch.FloatTensor(s).to(device)\n",
    "        #print(state);\n",
    "        if(self.hidden_size == 0):\n",
    "            output = torch.exp(self.linear1(states)) #To ensure that the outputs are always positive. giving Relu will cause problems.\n",
    "        else:\n",
    "            output = torch.exp(self.linear2(torch.exp(self.linear1(state))));\n",
    "        return output\n",
    "    \n",
    "    def fast_forward(self,s1,ns1,s2,ns2):\n",
    "        return self.forward(s1),self.forward(ns1),self.forward(s2),self.forward(ns2);"
   ]
  },
  {
   "cell_type": "markdown",
   "id": "0990760e",
   "metadata": {},
   "source": [
    "Now it is evident that the network written above will give me the ratio of state distribution. But the requirement is state distribution of the target_policy. So for doing that we need to to follow the below equation\n",
    "\n",
    "state_distribution_of_target_policy = Normalize(state_distribution_ratio_obtained_from_network * behaviour_policy_state_distribution).\n",
    "\n",
    "Now to get the target_policy_state_distribution, we need to obtain the behaviour_policy_state_distribution. To find that we use the class below. Now using the "
   ]
  },
  {
   "cell_type": "code",
   "execution_count": 4,
   "id": "682ebf42",
   "metadata": {},
   "outputs": [],
   "source": [
    "class beh_pol_sd:\n",
    "    def __init__(self,P,policy,nS,nA):\n",
    "        self.P = P\n",
    "        self.policy = policy\n",
    "        self.nS = nS;\n",
    "        self.nA = nA;\n",
    "    \n",
    "    def onehot(self):\n",
    "        pol = np.zeros((self.nS,self.nA));\n",
    "        for i in range(self.nS):\n",
    "            pol[i][int(self.policy[i])]=1;\n",
    "        return pol;\n",
    "    def find_transition_matrix(self,onehot_encode=1):\n",
    "        if(onehot_encode==1):\n",
    "            self.policy = self.onehot()\n",
    "        T_s_s_next = np.zeros((self.nS,self.nS));\n",
    "        for s in range(self.nS):\n",
    "            for s_next in range(self.nS):\n",
    "                for a in range(self.nA):\n",
    "                    #print(s,s_next,a);\n",
    "                    #print(T[a,s,s_next]);\n",
    "                    T_s_s_next[s,s_next]+=self.P[a,s,s_next]*self.policy[s,a];\n",
    "        return T_s_s_next;\n",
    "    def state_distribution_simulated(self,onehot_encode=1):\n",
    "        P_policy = self.find_transition_matrix(onehot_encode)\n",
    "        #print(P_policy);\n",
    "        P_dash = np.append(P_policy - np.eye(self.nS),np.ones((self.nS,1)),axis=1);\n",
    "        #print(P_dash);\n",
    "        P_last = np.linalg.pinv(np.transpose(P_dash))[:,-1]\n",
    "        return P_last;"
   ]
  },
  {
   "cell_type": "code",
   "execution_count": 5,
   "id": "557d10c3",
   "metadata": {},
   "outputs": [],
   "source": [
    "def one_hot(target_policy,nS,nA):\n",
    "    one_hot_tp = [];\n",
    "    for i in range(len(target_policy)):\n",
    "        policy = target_policy[i];\n",
    "        print(policy);\n",
    "        tp=np.zeros((nS,nA));\n",
    "        for j in range(nS):\n",
    "            tp[j][policy[j]] = 1;\n",
    "        one_hot_tp.append(tp);\n",
    "    return np.array(one_hot_tp);"
   ]
  },
  {
   "cell_type": "markdown",
   "id": "30ed6867",
   "metadata": {},
   "source": [
    "Now that we are all ready got our ingedients, let us define a separate class where we will define the average_case technique to find the state_distribution_ratio. Any object of the average_case class must possess the environment details such as number of states(nS) and number of actions(nA). The behaviour_policy, learning_rate,list_of_beta_values, a weight_object to refer to the weights class. The batch_size and the optimizer to be used(Adam_optimzer). \n",
    "\n",
    "Since in this variant, we will be having only 1 Neural Network and update the network for the sample that is obtained from the theta values. For this reason, we need to store all the beta values. Hence, we define our first function\n",
    "1) find_beta(): This function finds all the beta(importance sampling) values. So beta values = target_policy[s,a]/behaviour_policy[s,a]. Now there are nPOL policies so for each policies we need to find the beta values for the ith target_policy, beta value will be beta[i,s,a]=target_policy[i,s,a]/behaviour_policy[s,a]. Now it is certain that a(action) can be {0,1} only. So instead of creating a new loop, we manually define two lines once for a=0 when beta value becomes beta[i,s,0]=target_policy[i,s,0]/behaviour_policy[s,0] and beta[i,s,1] = target_policy[i,s,1]/behaviour_policy[s,1]. Finally return all the beta values.\n",
    "\n",
    "2) set_batch(): This function is used to set a data batch which is sampled from the behaviour_policy. Now the batch is set to be used for updating the state_distribution_ratio.\n",
    "\n",
    "3) get_batch(): This function is used to get a random batch of 50 samples from the set data to be used to update our state_distribution_ratio. We actually create a batch of 50 data samples 10000 times in order to reach to a good value of state_distribution_ratio(Like in Linear regression we use a batch for several times until our gradient converges)\n",
    "\n",
    "4) get_w(): This function is used to find the numerator and denominator of the loss function as mentioned in the paper 'Breaking the curse of horizon'. Now for finding the numerator paarameter pair = 0. To find the denominator pair = 1. Now it is observed that the denominator value easily goes to 0. So, to avoid divide by zero error, we add a small noise value of 0.000000001. This makes sure that the denominator value never goes to zero.\n",
    "\n",
    "5) get_state_distribution_ratio(): This function uses the set data in the self.set_data() to get batches of size 50. Then calculate the loss using the equation mentioned in the paper 'Breaking the curse of horizon'. We use this calculated loss to update our weights of the Neural network by using Adam optimizer."
   ]
  },
  {
   "cell_type": "code",
   "execution_count": 6,
   "id": "8f27bcf0",
   "metadata": {},
   "outputs": [],
   "source": [
    "import numpy as np\n",
    "class average_case_version_2:\n",
    "  def __init__(self,nS,nA,behaviour_policy,state,lr,target_policy,batch_size,data_used):\n",
    "    self.nS = nS;\n",
    "    self.nPOL = nS\n",
    "    self.nA = nA;\n",
    "    self.behaviour_policy = behaviour_policy;\n",
    "    self.lr = lr;\n",
    "    self.beta = self.find_beta(target_policy,behaviour_policy)\n",
    "    self.W_loss = 0\n",
    "    self.weight_obj = weights(nS,1).to(device);\n",
    "    self.batch_size = batch_size\n",
    "    self.optimizerW = optim.Adam(self.weight_obj.parameters(),lr = self.lr);\n",
    "    self.loss = [];\n",
    "    self.Z = [];\n",
    "    self.data_used = data_used\n",
    "  def find_beta(self,target_policy,behaviour_policy):\n",
    "    beta = np.zeros((self.nPOL,self.nS,self.nA))\n",
    "    for i in range(self.nPOL):\n",
    "      for s in range(self.nS):\n",
    "        beta[i][s][0] = target_policy[i,s,0]/behaviour_policy[s,0];\n",
    "        beta[i,s,1] = target_policy[i,s,1]/behaviour_policy[s,1];\n",
    "    return beta;\n",
    "  def set_batch(self,data):\n",
    "        self.data = data;\n",
    "        self.T = len(data);\n",
    "  def get_batch(self):\n",
    "      if(self.T<=50):\n",
    "          return self.data\n",
    "      else:\n",
    "          i = 1;\n",
    "          j = np.random.randint(0,self.T,self.batch_size);\n",
    "          batch = [[self.data[k][0],self.data[k][1],self.data[k][2]] for k in j]\n",
    "          '''while(i<=self.batch_size):\n",
    "                if(np.random.random()<=0.5):\n",
    "                    batch.append([self.data[j][0],self.data[j][1],self.data[j][2]])\n",
    "                    j = (j+1)%self.T;\n",
    "                i+=1;'''\n",
    "          return batch; \n",
    "  def get_w(self,data,weight_obj,m,pair=0):\n",
    "        if(pair == 1):\n",
    "            Z_w_state = 0;\n",
    "            for i in range(len(data)):\n",
    "                val = weight_obj(data[i][0]);\n",
    "                #print(val);\n",
    "                Z_w_state+=val;\n",
    "            #print(Z_w_state.detach().numpy()[0]/self.batch_size);\n",
    "            Z_w_state = Z_w_state.cpu().detach().numpy()[0]/self.batch_size;\n",
    "            if(Z_w_state<0.00000000000005):\n",
    "                Z_w_state+=0.000000000001;\n",
    "            return Z_w_state;\n",
    "        else:\n",
    "            state1,state2,w_state1,w_state2,w_next_state1,w_next_state2,beta1,beta2 = list(),list(),list(),list(),list(),list(),list(),list();\n",
    "            K = list();\n",
    "            for i in range(len(data)):\n",
    "#                 print(data[i][0],data[i][1])\n",
    "#                 print(np.shape(data))\n",
    "                sample1 = data[i][0];\n",
    "                sample2 = data[i][1];\n",
    "                state1.append(sample1[0]);\n",
    "                #print(sample1);\n",
    "                w1,wn1,w2,wn2 = weight_obj.fast_forward(sample1[0],sample1[2],sample2[0],sample2[2]);\n",
    "                w_state1.append(w1);\n",
    "                w_next_state1.append(wn1);\n",
    "                state2.append(sample2[0]);\n",
    "                w_state2.append(w2);\n",
    "                w_next_state2.append(wn2);\n",
    "                #beta1.append(self.target_policy[sample1[0],sample1[1]]/self.behaviour_policy[sample1[0],sample1[1]]);\n",
    "                beta1.append(self.beta[self.selected_policy,sample1[0],sample1[1]]);\n",
    "                #beta2.append(self.target_policy[sample2[0],sample2[1]]/self.behaviour_policy[sample2[0],sample2[1]]);\n",
    "                beta2.append(self.beta[self.selected_policy,sample2[0],sample2[1]])\n",
    "                K.append(sample1[2]==sample2[2]);\n",
    "            return (state1,state2,w_state1,w_state2,w_next_state1,w_next_state2,beta1,beta2,K);\n",
    "        \n",
    "  def get_w_updated(self,data,weight_obj,m,Z_w_state,pair=0): #data should be batch. note all inputs to be passed \n",
    "        if(pair == 1):\n",
    "            Z_w_state = 0;\n",
    "            for i in range(len(data)):\n",
    "                val = weight_obj(data[i][0]);\n",
    "                #print(val);\n",
    "                Z_w_state+=val;\n",
    "            #print(Z_w_state.detach().numpy()[0]/self.batch_size);\n",
    "            Z_w_state = Z_w_state.cpu().detach().numpy()[0]/self.batch_size;\n",
    "            if(Z_w_state<0.00000000000005):\n",
    "                Z_w_state+=0.000000000001;\n",
    "            return Z_w_state;\n",
    "        else:\n",
    "            data = torch.tensor(data)\n",
    "#             print(data[:,0])\n",
    "#             print(data[:,2])\n",
    "#             print(data[:,0].size())\n",
    "            new_data_current = torch.reshape(data[:,0],(50,1))\n",
    "#             w_current_state = weight_obj.forward_batch(new_data_current)\n",
    "            \n",
    "            new_data_next = torch.reshape(data[:,2],(50,1))\n",
    "            new_data = torch.cat((new_data_current,new_data_next),0)\n",
    "            w = weight_obj.forward_batch(new_data)\n",
    "            w = w/Z_w_state\n",
    "#             print(w)\n",
    "#             print(new_data.size())\n",
    "#             print(w.size())\n",
    "            w = torch.reshape(w,(2,50))\n",
    "            beta = torch.zeros(50,1)\n",
    "            for i in range(len(data)):\n",
    "                beta[i] = self.beta[self.selected_policy,data[i][0],data[i][1]]\n",
    "            \n",
    "            K = torch.zeros(50,50)\n",
    "            for i in range(len(data)):\n",
    "                for j in range(len(data)):\n",
    "                    K[i][j] = (data[i][2] == data[j][2])\n",
    "#             print(\"here\")\n",
    "#             print(w.size())\n",
    "#             print(beta.size())\n",
    "#             print(K.size())\n",
    "            w_0 = torch.reshape(w[0], (50,1))\n",
    "            w_1 = torch.reshape(w[1], (50,1))\n",
    "#             print(w_0)\n",
    "#             print(beta)\n",
    "#             print(w_1)\n",
    "#             print(w_0 * beta - w_1)\n",
    "#check here only\n",
    "            delta = w_0 * beta - w_1\n",
    "            temp1 = torch.matmul(K,delta) #50,50:50,1 = 50, 1\n",
    "            final_sum = torch.matmul(torch.transpose(delta,0,1),temp1)\n",
    "#             print(w_0)\n",
    "#             print(w_1)\n",
    "#             print(Z_w_state)\n",
    "#             print(final_sum)\n",
    "#             print(\".........\")\n",
    "            return final_sum\n",
    "            \n",
    "            \n",
    "            \n",
    "            \n",
    "#             state1,state2,w_state1,w_state2,w_next_state1,w_next_state2,beta1,beta2 = list(),list(),list(),list(),list(),list(),list(),list();\n",
    "#             K = list();\n",
    "#             for i in range(len(data)):\n",
    "#                 sample1 = data[i][0];\n",
    "#                 sample2 = data[i][1];\n",
    "#                 state1.append(sample1[0]);\n",
    "#                 #print(sample1);\n",
    "#                 w1,wn1,w2,wn2 = weight_obj.fast_forward(sample1[0],sample1[2],sample2[0],sample2[2]);\n",
    "#                 w_state1.append(w1);\n",
    "#                 w_next_state1.append(wn1);\n",
    "#                 state2.append(sample2[0]);\n",
    "#                 w_state2.append(w2);\n",
    "#                 w_next_state2.append(wn2);\n",
    "#                 #beta1.append(self.target_policy[sample1[0],sample1[1]]/self.behaviour_policy[sample1[0],sample1[1]]);\n",
    "#                 beta1.append(self.beta[self.selected_policy,sample1[0],sample1[1]]);\n",
    "#                 #beta2.append(self.target_policy[sample2[0],sample2[1]]/self.behaviour_policy[sample2[0],sample2[1]]);\n",
    "#                 beta2.append(self.beta[self.selected_policy,sample2[0],sample2[1]])\n",
    "#                 K.append(sample1[2]==sample2[2]);\n",
    "#             return (state1,state2,w_state1,w_state2,w_next_state1,w_next_state2,beta1,beta2,K);\n",
    "\n",
    "    \n",
    "  def get_state_distribution_ratio(self,selected_policy,run,t):\n",
    "        batch = self.get_batch();\n",
    "        eps = 0.04;\n",
    "        self.data_used[run] =self.data_used[run]+batch;\n",
    "        self.selected_policy = selected_policy\n",
    "        pairs = list(product(batch,repeat=2));\n",
    "        self.loss_episode = [];\n",
    "#         print(np.shape(batch))\n",
    "        for _ in range(5):\n",
    "#             batch = self.get_batch();\n",
    "            start = time.time()\n",
    "            Z_w_state = self.get_w(batch, self.weight_obj, len(batch),1);\n",
    "#             state1,state2,w_state1,w_state2,w_next_state1,w_next_state2,beta1,beta2,K = self.get_w(pairs, self.weight_obj, len(batch));\n",
    "            self.w_loss = 0\n",
    "            self.w_loss = self.get_w_updated(batch,self.weight_obj,len(batch),Z_w_state)\n",
    "#             print(time.time() - start)\n",
    "#             print(\"*******\")\n",
    "#             for i in range(len(state1)):\n",
    "#                 self.w_loss+=(beta1[i]*(w_state1[i]/Z_w_state) - (w_next_state1[i]/Z_w_state))*(beta2[i]*(w_state2[i]/Z_w_state)-(w_next_state2[i]/Z_w_state))*K[i];\n",
    "#             print(\"sourav\")\n",
    "#             print(self.w_loss)\n",
    "            self.w_loss/=(2*self.batch_size);\n",
    "            start = time.time()\n",
    "            self.optimizerW.zero_grad();\n",
    "            self.w_loss.backward(); #Improving the forward pass computation\n",
    "            self.optimizerW.step();\n",
    "            self.optimizerW.zero_grad();\n",
    "#             print(time.time() - start)\n",
    "            self.Z.append(Z_w_state)\n",
    "            \n",
    "        self.loss.append(self.w_loss.cpu().detach().numpy()[0]);\n",
    "        state_dist=[];\n",
    "        for i in range(self.nS):\n",
    "            w_state = self.weight_obj(i);\n",
    "            w_state = w_state.cpu().detach().numpy()[0];\n",
    "            state_dist.append(w_state);\n",
    "        return np.array(state_dist);"
   ]
  },
  {
   "cell_type": "markdown",
   "id": "bf1d3752",
   "metadata": {},
   "source": [
    "Instead of sampling state, action, next_state values on the go, we do it before hand and store it in a list named 'data'. So, that when required we can simply pass this data and save some time by before hand sampling the data."
   ]
  },
  {
   "cell_type": "code",
   "execution_count": 7,
   "id": "89a6fd97",
   "metadata": {},
   "outputs": [],
   "source": [
    "def simulate_episode(T,state,behaviour_policy,P,batch_size):\n",
    "  #global P,behaviour_policy,batch_size;\n",
    "  data={};temp=[];\n",
    "  for t in range(1,T+1):\n",
    "    action = np.argmax(np.random.multinomial(1,behaviour_policy[state,:]))\n",
    "    next_state = np.argmax(np.random.multinomial(1,P[action,state,:]));\n",
    "    state = next_state;\n",
    "    temp.append([state,action,next_state]);\n",
    "    if(t%batch_size==0):\n",
    "      data[int(t/batch_size)-1]=temp[:];\n",
    "  return data;"
   ]
  },
  {
   "cell_type": "markdown",
   "id": "21dc8069",
   "metadata": {},
   "source": [
    "For our help we create a softmax function."
   ]
  },
  {
   "cell_type": "code",
   "execution_count": 8,
   "id": "8fbc674b",
   "metadata": {},
   "outputs": [],
   "source": [
    "def softmax(theta):\n",
    "  theta = np.exp(theta);\n",
    "  sum = np.sum(theta)\n",
    "  return theta/sum;"
   ]
  },
  {
   "cell_type": "markdown",
   "id": "a3e8ea85",
   "metadata": {},
   "source": [
    "We create a function naemd as preprocessing() which is responsible to perform the theta update. After every val=50 times, our learning rate is divided by 10. So if we start with lr = 1. After 50 instances, lr = 0.1. After 100 steps lr = 0.01 and so on...\n",
    "Now at each instant, we found the softmax of the theta values. Now from the given probability values we sample a policy that will be updated next. "
   ]
  },
  {
   "cell_type": "code",
   "execution_count": 9,
   "id": "92ca25a3",
   "metadata": {},
   "outputs": [],
   "source": [
    "import time\n",
    "def processing(nPOL,run,policy_sampled,policy_selected,loss,estimated_value,T_update,P,R,val,val2,behaviour_policy_state_distribution,beta,batch_size,alpha,data):\n",
    "    lr = 1\n",
    "    nS = nPOL;\n",
    "    theta = np.ones(nPOL);\n",
    "    c=0;\n",
    "    rew = np.zeros(nPOL);\n",
    "    S = np.ones(nPOL);\n",
    "    F = np.ones(nPOL);\n",
    "    n = np.ones(nPOL);\n",
    "    for t in tqdm(range(1,T_update+1)):\n",
    "      sampled_policy = np.argmin([np.random.beta(S[j],F[j]) for j in range(nPOL)])\n",
    "      #policy_selected[t,run]=selected_policy;\n",
    "      policy_sampled[t-1,run] = sampled_policy;\n",
    "      #loss[t,run] = w_obj.w_loss.cpu().detach().numpy()[0];\n",
    "\n",
    "      start = time.time()\n",
    "      w_obj.set_batch(data[t-1]);\n",
    "      sd = w_obj.get_state_distribution_ratio(sampled_policy,run,t-1);\n",
    "      print(time.time() - start)\n",
    "      sd = sd * behaviour_policy_state_distribution;\n",
    "      sd = sd/np.sum(sd)\n",
    "      rho_i = sum([sd[s]*R[target_policy[sampled_policy,s],s] for s in range(nS)]);\n",
    "      rew[sampled_policy] = (1-alpha)*rew[sampled_policy] + alpha*rho_i\n",
    "      S[sampled_policy]+=rew[sampled_policy];\n",
    "      F[sampled_policy]=F[sampled_policy]+t-rew[sampled_policy]\n",
    "      estimated_value[t-1,run] = rho_i;\n",
    "    #print(data)"
   ]
  },
  {
   "cell_type": "markdown",
   "id": "601d62d1",
   "metadata": {},
   "source": [
    "Finally call the hyperparameters, create the environment and call the pre-processing function."
   ]
  },
  {
   "cell_type": "code",
   "execution_count": 11,
   "id": "8afaddbc",
   "metadata": {
    "scrolled": true
   },
   "outputs": [
    {
     "name": "stdout",
     "output_type": "stream",
     "text": [
      "10 2\n",
      "[[0.5 0.5]\n",
      " [0.5 0.5]\n",
      " [0.5 0.5]\n",
      " [0.5 0.5]\n",
      " [0.5 0.5]\n",
      " [0.5 0.5]\n",
      " [0.5 0.5]\n",
      " [0.5 0.5]\n",
      " [0.5 0.5]\n",
      " [0.5 0.5]] [[[0.01818182 0.03636364 0.05454545 0.07272727 0.09090909 0.10909091\n",
      "   0.12727273 0.14545455 0.16363636 0.18181818]\n",
      "  [0.         0.03703704 0.05555556 0.07407407 0.09259259 0.11111111\n",
      "   0.12962963 0.14814815 0.16666667 0.18518519]\n",
      "  [0.         0.         0.05769231 0.07692308 0.09615385 0.11538462\n",
      "   0.13461538 0.15384615 0.17307692 0.19230769]\n",
      "  [0.         0.         0.         0.08163265 0.10204082 0.12244898\n",
      "   0.14285714 0.16326531 0.18367347 0.20408163]\n",
      "  [0.         0.         0.         0.         0.11111111 0.13333333\n",
      "   0.15555556 0.17777778 0.2        0.22222222]\n",
      "  [0.         0.         0.         0.         0.         0.15\n",
      "   0.175      0.2        0.225      0.25      ]\n",
      "  [0.         0.         0.         0.         0.         0.\n",
      "   0.20588235 0.23529412 0.26470588 0.29411765]\n",
      "  [0.         0.         0.         0.         0.         0.\n",
      "   0.         0.2962963  0.33333333 0.37037037]\n",
      "  [0.         0.         0.         0.         0.         0.\n",
      "   0.         0.         0.47368421 0.52631579]\n",
      "  [0.         0.         0.         0.         0.         0.\n",
      "   0.         0.         0.         1.        ]]\n",
      "\n",
      " [[1.         0.         0.         0.         0.         0.\n",
      "   0.         0.         0.         0.        ]\n",
      "  [1.         0.         0.         0.         0.         0.\n",
      "   0.         0.         0.         0.        ]\n",
      "  [1.         0.         0.         0.         0.         0.\n",
      "   0.         0.         0.         0.        ]\n",
      "  [1.         0.         0.         0.         0.         0.\n",
      "   0.         0.         0.         0.        ]\n",
      "  [1.         0.         0.         0.         0.         0.\n",
      "   0.         0.         0.         0.        ]\n",
      "  [1.         0.         0.         0.         0.         0.\n",
      "   0.         0.         0.         0.        ]\n",
      "  [1.         0.         0.         0.         0.         0.\n",
      "   0.         0.         0.         0.        ]\n",
      "  [1.         0.         0.         0.         0.         0.\n",
      "   0.         0.         0.         0.        ]\n",
      "  [1.         0.         0.         0.         0.         0.\n",
      "   0.         0.         0.         0.        ]\n",
      "  [1.         0.         0.         0.         0.         0.\n",
      "   0.         0.         0.         0.        ]]]\n",
      "[0 0 0 0 0 0 0 0 0 1]\n",
      "[0 0 0 0 0 0 0 0 1 1]\n",
      "[0 0 0 0 0 0 0 1 1 1]\n",
      "[0 0 0 0 0 0 1 1 1 1]\n",
      "[0 0 0 0 0 1 1 1 1 1]\n",
      "[0 0 0 0 1 1 1 1 1 1]\n",
      "[0 0 0 1 1 1 1 1 1 1]\n",
      "[0 0 1 1 1 1 1 1 1 1]\n",
      "[0 1 1 1 1 1 1 1 1 1]\n",
      "[1 1 1 1 1 1 1 1 1 1]\n"
     ]
    },
    {
     "name": "stderr",
     "output_type": "stream",
     "text": [
      "  0%|                                                     | 0/5 [00:00<?, ?it/s]\n",
      "  0%|                                                  | 0/1000 [00:00<?, ?it/s]\u001b[A\n",
      "  0%|                                          | 2/1000 [00:00<01:29, 11.15it/s]"
     ]
    },
    {
     "name": "stdout",
     "output_type": "stream",
     "text": [
      "0.09106826782226562\n",
      "0.08799600601196289\n"
     ]
    },
    {
     "name": "stderr",
     "output_type": "stream",
     "text": [
      "\u001b[A"
     ]
    },
    {
     "name": "stdout",
     "output_type": "stream",
     "text": [
      "0.08850359916687012\n"
     ]
    },
    {
     "name": "stderr",
     "output_type": "stream",
     "text": [
      "\n",
      "  0%|▏                                         | 4/1000 [00:00<01:29, 11.13it/s]\u001b[A"
     ]
    },
    {
     "name": "stdout",
     "output_type": "stream",
     "text": [
      "0.09030866622924805\n",
      "0.0899205207824707\n"
     ]
    },
    {
     "name": "stderr",
     "output_type": "stream",
     "text": [
      "\n",
      "  1%|▎                                         | 6/1000 [00:00<01:28, 11.20it/s]\u001b[A"
     ]
    },
    {
     "name": "stdout",
     "output_type": "stream",
     "text": [
      "0.08580446243286133\n"
     ]
    },
    {
     "name": "stderr",
     "output_type": "stream",
     "text": [
      "\n",
      "  1%|▎                                         | 8/1000 [00:00<01:29, 11.14it/s]\u001b[A"
     ]
    },
    {
     "name": "stdout",
     "output_type": "stream",
     "text": [
      "0.0900576114654541\n",
      "0.0900571346282959\n",
      "0.08853697776794434\n"
     ]
    },
    {
     "name": "stderr",
     "output_type": "stream",
     "text": [
      "\n",
      "  1%|▍                                        | 10/1000 [00:00<01:28, 11.19it/s]\u001b[A"
     ]
    },
    {
     "name": "stdout",
     "output_type": "stream",
     "text": [
      "0.08781647682189941\n",
      "0.08943390846252441\n"
     ]
    },
    {
     "name": "stderr",
     "output_type": "stream",
     "text": [
      "\n",
      "  1%|▍                                        | 12/1000 [00:01<01:28, 11.15it/s]\u001b[A"
     ]
    },
    {
     "name": "stdout",
     "output_type": "stream",
     "text": [
      "0.08971166610717773\n"
     ]
    },
    {
     "name": "stderr",
     "output_type": "stream",
     "text": [
      "\n",
      "  1%|▌                                        | 14/1000 [00:01<01:28, 11.18it/s]\u001b[A"
     ]
    },
    {
     "name": "stdout",
     "output_type": "stream",
     "text": [
      "0.08806681632995605\n",
      "0.08880066871643066\n",
      "0.08976316452026367\n"
     ]
    },
    {
     "name": "stderr",
     "output_type": "stream",
     "text": [
      "\n",
      "  2%|▋                                        | 16/1000 [00:01<01:27, 11.19it/s]\u001b[A"
     ]
    },
    {
     "name": "stdout",
     "output_type": "stream",
     "text": [
      "0.08750271797180176\n",
      "0.08522200584411621\n"
     ]
    },
    {
     "name": "stderr",
     "output_type": "stream",
     "text": [
      "\n",
      "  2%|▋                                        | 18/1000 [00:01<01:26, 11.29it/s]\u001b[A"
     ]
    },
    {
     "name": "stdout",
     "output_type": "stream",
     "text": [
      "0.08716464042663574\n"
     ]
    },
    {
     "name": "stderr",
     "output_type": "stream",
     "text": [
      "\n",
      "  2%|▊                                        | 20/1000 [00:01<01:26, 11.34it/s]\u001b[A"
     ]
    },
    {
     "name": "stdout",
     "output_type": "stream",
     "text": [
      "0.0887598991394043\n",
      "0.08456707000732422\n",
      "0.0922555923461914\n"
     ]
    },
    {
     "name": "stderr",
     "output_type": "stream",
     "text": [
      "\n",
      "  2%|▉                                        | 22/1000 [00:01<01:26, 11.32it/s]\u001b[A"
     ]
    },
    {
     "name": "stdout",
     "output_type": "stream",
     "text": [
      "0.0841529369354248\n",
      "0.09075450897216797\n"
     ]
    },
    {
     "name": "stderr",
     "output_type": "stream",
     "text": [
      "\n",
      "  2%|▉                                        | 24/1000 [00:02<01:26, 11.23it/s]\u001b[A"
     ]
    },
    {
     "name": "stdout",
     "output_type": "stream",
     "text": [
      "0.08981013298034668\n"
     ]
    },
    {
     "name": "stderr",
     "output_type": "stream",
     "text": [
      "\n",
      "  3%|█                                        | 26/1000 [00:02<01:26, 11.32it/s]\u001b[A"
     ]
    },
    {
     "name": "stdout",
     "output_type": "stream",
     "text": [
      "0.0858314037322998\n",
      "0.08614969253540039\n",
      "0.0865018367767334\n"
     ]
    },
    {
     "name": "stderr",
     "output_type": "stream",
     "text": [
      "\n",
      "  3%|█▏                                       | 28/1000 [00:02<01:25, 11.38it/s]\u001b[A"
     ]
    },
    {
     "name": "stdout",
     "output_type": "stream",
     "text": [
      "0.0861058235168457\n",
      "0.0857686996459961\n"
     ]
    },
    {
     "name": "stderr",
     "output_type": "stream",
     "text": [
      "\n",
      "  3%|█▏                                       | 30/1000 [00:02<01:24, 11.46it/s]\u001b[A"
     ]
    },
    {
     "name": "stdout",
     "output_type": "stream",
     "text": [
      "0.0846107006072998\n"
     ]
    },
    {
     "name": "stderr",
     "output_type": "stream",
     "text": [
      "\n",
      "  3%|█▎                                       | 32/1000 [00:02<01:24, 11.51it/s]\u001b[A"
     ]
    },
    {
     "name": "stdout",
     "output_type": "stream",
     "text": [
      "0.08707451820373535\n",
      "0.0838780403137207\n",
      "0.08644270896911621\n"
     ]
    },
    {
     "name": "stderr",
     "output_type": "stream",
     "text": [
      "\n",
      "  3%|█▍                                       | 34/1000 [00:03<01:23, 11.50it/s]\u001b[A"
     ]
    },
    {
     "name": "stdout",
     "output_type": "stream",
     "text": [
      "0.0866706371307373\n",
      "0.08621406555175781\n"
     ]
    },
    {
     "name": "stderr",
     "output_type": "stream",
     "text": [
      "\n",
      "  4%|█▍                                       | 36/1000 [00:03<01:23, 11.52it/s]\u001b[A"
     ]
    },
    {
     "name": "stdout",
     "output_type": "stream",
     "text": [
      "0.0856180191040039\n"
     ]
    },
    {
     "name": "stderr",
     "output_type": "stream",
     "text": [
      "\n",
      "  4%|█▌                                       | 38/1000 [00:03<01:23, 11.58it/s]\u001b[A"
     ]
    },
    {
     "name": "stdout",
     "output_type": "stream",
     "text": [
      "0.08606934547424316\n",
      "0.0836644172668457\n",
      "0.08395814895629883\n"
     ]
    },
    {
     "name": "stderr",
     "output_type": "stream",
     "text": [
      "\n",
      "  4%|█▋                                       | 40/1000 [00:03<01:22, 11.66it/s]\u001b[A"
     ]
    },
    {
     "name": "stdout",
     "output_type": "stream",
     "text": [
      "0.0840611457824707\n",
      "0.08567595481872559\n"
     ]
    },
    {
     "name": "stderr",
     "output_type": "stream",
     "text": [
      "\n",
      "  4%|█▋                                       | 42/1000 [00:03<01:23, 11.53it/s]\u001b[A"
     ]
    },
    {
     "name": "stdout",
     "output_type": "stream",
     "text": [
      "0.09094953536987305\n"
     ]
    },
    {
     "name": "stderr",
     "output_type": "stream",
     "text": [
      "\n",
      "  4%|█▊                                       | 44/1000 [00:03<01:23, 11.40it/s]\u001b[A"
     ]
    },
    {
     "name": "stdout",
     "output_type": "stream",
     "text": [
      "0.09161686897277832\n",
      "0.08704304695129395\n",
      "0.09229302406311035\n"
     ]
    },
    {
     "name": "stderr",
     "output_type": "stream",
     "text": [
      "\n",
      "  5%|█▉                                       | 46/1000 [00:04<01:24, 11.25it/s]\u001b[A"
     ]
    },
    {
     "name": "stdout",
     "output_type": "stream",
     "text": [
      "0.09002900123596191\n",
      "0.08635640144348145\n"
     ]
    },
    {
     "name": "stderr",
     "output_type": "stream",
     "text": [
      "\n",
      "  5%|█▉                                       | 48/1000 [00:04<01:24, 11.25it/s]\u001b[A"
     ]
    },
    {
     "name": "stdout",
     "output_type": "stream",
     "text": [
      "0.09019017219543457\n"
     ]
    },
    {
     "name": "stderr",
     "output_type": "stream",
     "text": [
      "\n",
      "  5%|██                                       | 50/1000 [00:04<01:24, 11.27it/s]\u001b[A"
     ]
    },
    {
     "name": "stdout",
     "output_type": "stream",
     "text": [
      "0.0893707275390625\n",
      "0.08602261543273926\n",
      "0.08972859382629395\n"
     ]
    },
    {
     "name": "stderr",
     "output_type": "stream",
     "text": [
      "\n",
      "  5%|██▏                                      | 52/1000 [00:04<01:24, 11.23it/s]\u001b[A"
     ]
    },
    {
     "name": "stdout",
     "output_type": "stream",
     "text": [
      "0.08879446983337402\n",
      "0.08903813362121582\n"
     ]
    },
    {
     "name": "stderr",
     "output_type": "stream",
     "text": [
      "\n",
      "  5%|██▏                                      | 54/1000 [00:04<01:24, 11.22it/s]\u001b[A"
     ]
    },
    {
     "name": "stdout",
     "output_type": "stream",
     "text": [
      "0.0879371166229248\n"
     ]
    },
    {
     "name": "stderr",
     "output_type": "stream",
     "text": [
      "\n",
      "  6%|██▎                                      | 56/1000 [00:04<01:24, 11.19it/s]\u001b[A"
     ]
    },
    {
     "name": "stdout",
     "output_type": "stream",
     "text": [
      "0.09004545211791992\n",
      "0.08876967430114746\n",
      "0.0861825942993164\n"
     ]
    },
    {
     "name": "stderr",
     "output_type": "stream",
     "text": [
      "\n",
      "  6%|██▍                                      | 58/1000 [00:05<01:23, 11.23it/s]\u001b[A"
     ]
    },
    {
     "name": "stdout",
     "output_type": "stream",
     "text": [
      "0.08943510055541992\n",
      "0.09032344818115234\n"
     ]
    },
    {
     "name": "stderr",
     "output_type": "stream",
     "text": [
      "\n",
      "  6%|██▍                                      | 60/1000 [00:05<01:23, 11.23it/s]\u001b[A"
     ]
    },
    {
     "name": "stdout",
     "output_type": "stream",
     "text": [
      "0.086456298828125\n"
     ]
    },
    {
     "name": "stderr",
     "output_type": "stream",
     "text": [
      "\n",
      "  6%|██▌                                      | 62/1000 [00:05<01:23, 11.24it/s]\u001b[A"
     ]
    },
    {
     "name": "stdout",
     "output_type": "stream",
     "text": [
      "0.08768820762634277\n",
      "0.08871769905090332\n",
      "0.0888066291809082\n"
     ]
    },
    {
     "name": "stderr",
     "output_type": "stream",
     "text": [
      "\n",
      "  6%|██▌                                      | 64/1000 [00:05<01:23, 11.26it/s]\u001b[A"
     ]
    },
    {
     "name": "stdout",
     "output_type": "stream",
     "text": [
      "0.08674812316894531\n",
      "0.08984231948852539\n"
     ]
    },
    {
     "name": "stderr",
     "output_type": "stream",
     "text": [
      "\n",
      "  7%|██▋                                      | 66/1000 [00:05<01:23, 11.21it/s]\u001b[A"
     ]
    },
    {
     "name": "stdout",
     "output_type": "stream",
     "text": [
      "0.0892174243927002\n"
     ]
    },
    {
     "name": "stderr",
     "output_type": "stream",
     "text": [
      "\n",
      "  7%|██▊                                      | 68/1000 [00:06<01:22, 11.34it/s]\u001b[A"
     ]
    },
    {
     "name": "stdout",
     "output_type": "stream",
     "text": [
      "0.08739995956420898\n",
      "0.08304667472839355\n",
      "0.08564138412475586\n"
     ]
    },
    {
     "name": "stderr",
     "output_type": "stream",
     "text": [
      "\n",
      "  7%|██▊                                      | 70/1000 [00:06<01:21, 11.42it/s]\u001b[A"
     ]
    },
    {
     "name": "stdout",
     "output_type": "stream",
     "text": [
      "0.0857079029083252\n",
      "0.0850839614868164\n"
     ]
    },
    {
     "name": "stderr",
     "output_type": "stream",
     "text": [
      "\n",
      "  7%|██▉                                      | 72/1000 [00:06<01:20, 11.52it/s]\u001b[A"
     ]
    },
    {
     "name": "stdout",
     "output_type": "stream",
     "text": [
      "0.0840158462524414\n"
     ]
    },
    {
     "name": "stderr",
     "output_type": "stream",
     "text": [
      "\n",
      "  7%|███                                      | 74/1000 [00:06<01:19, 11.59it/s]\u001b[A"
     ]
    },
    {
     "name": "stdout",
     "output_type": "stream",
     "text": [
      "0.08516573905944824\n",
      "0.08389425277709961\n",
      "0.08492827415466309\n"
     ]
    },
    {
     "name": "stderr",
     "output_type": "stream",
     "text": [
      "\n",
      "  8%|███                                      | 76/1000 [00:06<01:19, 11.63it/s]\u001b[A"
     ]
    },
    {
     "name": "stdout",
     "output_type": "stream",
     "text": [
      "0.08485722541809082\n",
      "0.08374929428100586\n"
     ]
    },
    {
     "name": "stderr",
     "output_type": "stream",
     "text": [
      "\n",
      "  8%|███▏                                     | 78/1000 [00:06<01:18, 11.69it/s]\u001b[A"
     ]
    },
    {
     "name": "stdout",
     "output_type": "stream",
     "text": [
      "0.08403992652893066\n"
     ]
    },
    {
     "name": "stderr",
     "output_type": "stream",
     "text": [
      "\n",
      "  8%|███▎                                     | 80/1000 [00:07<01:18, 11.75it/s]\u001b[A"
     ]
    },
    {
     "name": "stdout",
     "output_type": "stream",
     "text": [
      "0.08381438255310059\n",
      "0.08333921432495117\n",
      "0.0841972827911377\n"
     ]
    },
    {
     "name": "stderr",
     "output_type": "stream",
     "text": [
      "\n",
      "  8%|███▎                                     | 82/1000 [00:07<01:18, 11.77it/s]\u001b[A"
     ]
    },
    {
     "name": "stdout",
     "output_type": "stream",
     "text": [
      "0.08399319648742676\n",
      "0.08394289016723633\n"
     ]
    },
    {
     "name": "stderr",
     "output_type": "stream",
     "text": [
      "\n",
      "  8%|███▍                                     | 84/1000 [00:07<01:18, 11.71it/s]\u001b[A"
     ]
    },
    {
     "name": "stdout",
     "output_type": "stream",
     "text": [
      "0.08752727508544922\n"
     ]
    },
    {
     "name": "stderr",
     "output_type": "stream",
     "text": [
      "\n",
      "  9%|███▌                                     | 86/1000 [00:07<01:18, 11.70it/s]\u001b[A"
     ]
    },
    {
     "name": "stdout",
     "output_type": "stream",
     "text": [
      "0.08513474464416504\n",
      "0.0851595401763916\n",
      "0.08488798141479492\n"
     ]
    },
    {
     "name": "stderr",
     "output_type": "stream",
     "text": [
      "\n",
      "  9%|███▌                                     | 88/1000 [00:07<01:17, 11.72it/s]\u001b[A"
     ]
    },
    {
     "name": "stdout",
     "output_type": "stream",
     "text": [
      "0.08415627479553223\n",
      "0.08349967002868652\n"
     ]
    },
    {
     "name": "stderr",
     "output_type": "stream",
     "text": [
      "\n",
      "  9%|███▋                                     | 90/1000 [00:07<01:17, 11.75it/s]\u001b[A"
     ]
    },
    {
     "name": "stdout",
     "output_type": "stream",
     "text": [
      "0.08441567420959473\n"
     ]
    },
    {
     "name": "stderr",
     "output_type": "stream",
     "text": [
      "\n",
      "  9%|███▊                                     | 92/1000 [00:08<01:16, 11.80it/s]\u001b[A"
     ]
    },
    {
     "name": "stdout",
     "output_type": "stream",
     "text": [
      "0.0838775634765625\n",
      "0.08317804336547852\n",
      "0.08364129066467285\n"
     ]
    },
    {
     "name": "stderr",
     "output_type": "stream",
     "text": [
      "\n",
      "  9%|███▊                                     | 94/1000 [00:08<01:16, 11.81it/s]\u001b[A"
     ]
    },
    {
     "name": "stdout",
     "output_type": "stream",
     "text": [
      "0.08453774452209473\n",
      "0.08343172073364258\n"
     ]
    },
    {
     "name": "stderr",
     "output_type": "stream",
     "text": [
      "\n",
      " 10%|███▉                                     | 96/1000 [00:08<01:16, 11.81it/s]\u001b[A"
     ]
    },
    {
     "name": "stdout",
     "output_type": "stream",
     "text": [
      "0.08475518226623535\n"
     ]
    },
    {
     "name": "stderr",
     "output_type": "stream",
     "text": [
      "\n",
      " 10%|████                                     | 98/1000 [00:08<01:16, 11.78it/s]\u001b[A"
     ]
    },
    {
     "name": "stdout",
     "output_type": "stream",
     "text": [
      "0.08618688583374023\n",
      "0.08360576629638672\n",
      "0.08444762229919434\n"
     ]
    },
    {
     "name": "stderr",
     "output_type": "stream",
     "text": [
      "\n",
      " 10%|████                                    | 100/1000 [00:08<01:16, 11.75it/s]\u001b[A"
     ]
    },
    {
     "name": "stdout",
     "output_type": "stream",
     "text": [
      "0.08595895767211914\n",
      "0.08379006385803223\n"
     ]
    },
    {
     "name": "stderr",
     "output_type": "stream",
     "text": [
      "\n",
      " 10%|████                                    | 102/1000 [00:08<01:16, 11.79it/s]\u001b[A"
     ]
    },
    {
     "name": "stdout",
     "output_type": "stream",
     "text": [
      "0.08345913887023926\n"
     ]
    },
    {
     "name": "stderr",
     "output_type": "stream",
     "text": [
      "\n",
      " 10%|████▏                                   | 104/1000 [00:09<01:16, 11.76it/s]\u001b[A"
     ]
    },
    {
     "name": "stdout",
     "output_type": "stream",
     "text": [
      "0.0861215591430664\n",
      "0.08398580551147461\n",
      "0.08490204811096191\n"
     ]
    },
    {
     "name": "stderr",
     "output_type": "stream",
     "text": [
      "\n",
      " 11%|████▏                                   | 106/1000 [00:09<01:16, 11.76it/s]\u001b[A"
     ]
    },
    {
     "name": "stdout",
     "output_type": "stream",
     "text": [
      "0.08408975601196289\n",
      "0.08660149574279785\n"
     ]
    },
    {
     "name": "stderr",
     "output_type": "stream",
     "text": [
      "\n",
      " 11%|████▎                                   | 108/1000 [00:09<01:16, 11.71it/s]\u001b[A"
     ]
    },
    {
     "name": "stdout",
     "output_type": "stream",
     "text": [
      "0.08519721031188965\n"
     ]
    },
    {
     "name": "stderr",
     "output_type": "stream",
     "text": [
      "\n",
      " 11%|████▍                                   | 110/1000 [00:09<01:15, 11.72it/s]\u001b[A"
     ]
    },
    {
     "name": "stdout",
     "output_type": "stream",
     "text": [
      "0.08516716957092285\n",
      "0.08321475982666016\n",
      "0.08643388748168945\n"
     ]
    },
    {
     "name": "stderr",
     "output_type": "stream",
     "text": [
      "\n",
      " 11%|████▍                                   | 112/1000 [00:09<01:16, 11.64it/s]\u001b[A"
     ]
    },
    {
     "name": "stdout",
     "output_type": "stream",
     "text": [
      "0.0870814323425293\n",
      "0.08409333229064941\n"
     ]
    },
    {
     "name": "stderr",
     "output_type": "stream",
     "text": [
      "\n",
      " 11%|████▌                                   | 114/1000 [00:09<01:16, 11.65it/s]\u001b[A"
     ]
    },
    {
     "name": "stdout",
     "output_type": "stream",
     "text": [
      "0.08618664741516113\n"
     ]
    },
    {
     "name": "stderr",
     "output_type": "stream",
     "text": [
      "\n",
      " 12%|████▋                                   | 116/1000 [00:10<01:15, 11.66it/s]\u001b[A"
     ]
    },
    {
     "name": "stdout",
     "output_type": "stream",
     "text": [
      "0.0872042179107666\n",
      "0.08311176300048828\n",
      "0.08519792556762695\n"
     ]
    },
    {
     "name": "stderr",
     "output_type": "stream",
     "text": [
      "\n",
      " 12%|████▋                                   | 118/1000 [00:10<01:15, 11.65it/s]\u001b[A"
     ]
    },
    {
     "name": "stdout",
     "output_type": "stream",
     "text": [
      "0.08545422554016113\n",
      "0.08385705947875977\n"
     ]
    },
    {
     "name": "stderr",
     "output_type": "stream",
     "text": [
      "\n",
      " 12%|████▊                                   | 120/1000 [00:10<01:15, 11.73it/s]\u001b[A"
     ]
    },
    {
     "name": "stdout",
     "output_type": "stream",
     "text": [
      "0.08335113525390625\n"
     ]
    },
    {
     "name": "stderr",
     "output_type": "stream",
     "text": [
      "\n",
      " 12%|████▉                                   | 122/1000 [00:10<01:14, 11.78it/s]\u001b[A"
     ]
    },
    {
     "name": "stdout",
     "output_type": "stream",
     "text": [
      "0.08355093002319336\n",
      "0.08350586891174316\n",
      "0.0846107006072998\n"
     ]
    },
    {
     "name": "stderr",
     "output_type": "stream",
     "text": [
      "\n",
      " 12%|████▉                                   | 124/1000 [00:10<01:14, 11.72it/s]\u001b[A"
     ]
    },
    {
     "name": "stdout",
     "output_type": "stream",
     "text": [
      "0.08695340156555176\n",
      "0.08380365371704102\n"
     ]
    },
    {
     "name": "stderr",
     "output_type": "stream",
     "text": [
      "\n",
      " 13%|█████                                   | 126/1000 [00:10<01:14, 11.74it/s]\u001b[A"
     ]
    },
    {
     "name": "stdout",
     "output_type": "stream",
     "text": [
      "0.08497500419616699\n"
     ]
    },
    {
     "name": "stderr",
     "output_type": "stream",
     "text": [
      "\n",
      " 13%|█████                                   | 128/1000 [00:11<01:15, 11.56it/s]\u001b[A"
     ]
    },
    {
     "name": "stdout",
     "output_type": "stream",
     "text": [
      "0.09298944473266602\n",
      "0.08496212959289551\n",
      "0.0852351188659668\n"
     ]
    },
    {
     "name": "stderr",
     "output_type": "stream",
     "text": [
      "\n",
      " 13%|█████▏                                  | 130/1000 [00:11<01:14, 11.62it/s]\u001b[A"
     ]
    },
    {
     "name": "stdout",
     "output_type": "stream",
     "text": [
      "0.08396291732788086\n",
      "0.08339476585388184\n"
     ]
    },
    {
     "name": "stderr",
     "output_type": "stream",
     "text": [
      "\n",
      " 13%|█████▎                                  | 132/1000 [00:11<01:14, 11.69it/s]\u001b[A"
     ]
    },
    {
     "name": "stdout",
     "output_type": "stream",
     "text": [
      "0.08420491218566895\n"
     ]
    },
    {
     "name": "stderr",
     "output_type": "stream",
     "text": [
      "\n",
      " 13%|█████▎                                  | 134/1000 [00:11<01:13, 11.72it/s]\u001b[A"
     ]
    },
    {
     "name": "stdout",
     "output_type": "stream",
     "text": [
      "0.08364582061767578\n",
      "0.08514189720153809\n",
      "0.08768820762634277\n"
     ]
    },
    {
     "name": "stderr",
     "output_type": "stream",
     "text": [
      "\n",
      " 14%|█████▍                                  | 136/1000 [00:11<01:13, 11.68it/s]\u001b[A"
     ]
    },
    {
     "name": "stdout",
     "output_type": "stream",
     "text": [
      "0.08383369445800781\n",
      "0.08502054214477539\n"
     ]
    },
    {
     "name": "stderr",
     "output_type": "stream",
     "text": [
      "\n",
      " 14%|█████▌                                  | 138/1000 [00:11<01:13, 11.71it/s]\u001b[A"
     ]
    },
    {
     "name": "stdout",
     "output_type": "stream",
     "text": [
      "0.08404016494750977\n"
     ]
    },
    {
     "name": "stderr",
     "output_type": "stream",
     "text": [
      "\n",
      " 14%|█████▌                                  | 140/1000 [00:12<01:13, 11.72it/s]\u001b[A"
     ]
    },
    {
     "name": "stdout",
     "output_type": "stream",
     "text": [
      "0.08494305610656738\n",
      "0.08412742614746094\n",
      "0.08424520492553711\n"
     ]
    },
    {
     "name": "stderr",
     "output_type": "stream",
     "text": [
      "\n",
      " 14%|█████▋                                  | 142/1000 [00:12<01:12, 11.76it/s]\u001b[A"
     ]
    },
    {
     "name": "stdout",
     "output_type": "stream",
     "text": [
      "0.08378243446350098\n",
      "0.08337926864624023\n"
     ]
    },
    {
     "name": "stderr",
     "output_type": "stream",
     "text": [
      "\n",
      " 14%|█████▊                                  | 144/1000 [00:12<01:12, 11.80it/s]\u001b[A"
     ]
    },
    {
     "name": "stdout",
     "output_type": "stream",
     "text": [
      "0.08355855941772461\n"
     ]
    },
    {
     "name": "stderr",
     "output_type": "stream",
     "text": [
      "\n",
      " 15%|█████▊                                  | 146/1000 [00:12<01:12, 11.81it/s]\u001b[A"
     ]
    },
    {
     "name": "stdout",
     "output_type": "stream",
     "text": [
      "0.08376574516296387\n",
      "0.08406996726989746\n",
      "0.08456540107727051\n"
     ]
    },
    {
     "name": "stderr",
     "output_type": "stream",
     "text": [
      "\n",
      " 15%|█████▉                                  | 148/1000 [00:12<01:12, 11.81it/s]\u001b[A"
     ]
    },
    {
     "name": "stdout",
     "output_type": "stream",
     "text": [
      "0.08373260498046875\n",
      "0.08330273628234863\n"
     ]
    },
    {
     "name": "stderr",
     "output_type": "stream",
     "text": [
      "\n",
      " 15%|██████                                  | 150/1000 [00:12<01:11, 11.81it/s]\u001b[A"
     ]
    },
    {
     "name": "stdout",
     "output_type": "stream",
     "text": [
      "0.08554553985595703\n"
     ]
    },
    {
     "name": "stderr",
     "output_type": "stream",
     "text": [
      "\n",
      " 15%|██████                                  | 152/1000 [00:13<01:11, 11.83it/s]\u001b[A"
     ]
    },
    {
     "name": "stdout",
     "output_type": "stream",
     "text": [
      "0.08437895774841309\n",
      "0.08300995826721191\n",
      "0.08719730377197266\n"
     ]
    },
    {
     "name": "stderr",
     "output_type": "stream",
     "text": [
      "\n",
      " 15%|██████▏                                 | 154/1000 [00:13<01:11, 11.77it/s]\u001b[A"
     ]
    },
    {
     "name": "stdout",
     "output_type": "stream",
     "text": [
      "0.08353471755981445\n",
      "0.08327889442443848\n"
     ]
    },
    {
     "name": "stderr",
     "output_type": "stream",
     "text": [
      "\n",
      " 16%|██████▏                                 | 156/1000 [00:13<01:11, 11.78it/s]\u001b[A"
     ]
    },
    {
     "name": "stdout",
     "output_type": "stream",
     "text": [
      "0.08557438850402832\n"
     ]
    },
    {
     "name": "stderr",
     "output_type": "stream",
     "text": [
      "\n",
      " 16%|██████▎                                 | 158/1000 [00:13<01:11, 11.83it/s]\u001b[A"
     ]
    },
    {
     "name": "stdout",
     "output_type": "stream",
     "text": [
      "0.08366155624389648\n",
      "0.0828244686126709\n",
      "0.08519721031188965\n"
     ]
    },
    {
     "name": "stderr",
     "output_type": "stream",
     "text": [
      "\n",
      " 16%|██████▍                                 | 160/1000 [00:13<01:11, 11.79it/s]\u001b[A"
     ]
    },
    {
     "name": "stdout",
     "output_type": "stream",
     "text": [
      "0.08486700057983398\n",
      "0.08390617370605469\n"
     ]
    },
    {
     "name": "stderr",
     "output_type": "stream",
     "text": [
      "\n",
      " 16%|██████▍                                 | 162/1000 [00:14<01:11, 11.77it/s]\u001b[A"
     ]
    },
    {
     "name": "stdout",
     "output_type": "stream",
     "text": [
      "0.0856022834777832\n"
     ]
    },
    {
     "name": "stderr",
     "output_type": "stream",
     "text": [
      "\n",
      " 16%|██████▌                                 | 164/1000 [00:14<01:10, 11.80it/s]\u001b[A"
     ]
    },
    {
     "name": "stdout",
     "output_type": "stream",
     "text": [
      "0.08420300483703613\n",
      "0.08335638046264648\n",
      "0.08578920364379883\n"
     ]
    },
    {
     "name": "stderr",
     "output_type": "stream",
     "text": [
      "\n",
      " 17%|██████▋                                 | 166/1000 [00:14<01:11, 11.73it/s]\u001b[A"
     ]
    },
    {
     "name": "stdout",
     "output_type": "stream",
     "text": [
      "0.0857551097869873\n",
      "0.08376574516296387\n"
     ]
    },
    {
     "name": "stderr",
     "output_type": "stream",
     "text": [
      "\n",
      " 17%|██████▋                                 | 168/1000 [00:14<01:10, 11.77it/s]\u001b[A"
     ]
    },
    {
     "name": "stdout",
     "output_type": "stream",
     "text": [
      "0.08401322364807129\n"
     ]
    },
    {
     "name": "stderr",
     "output_type": "stream",
     "text": [
      "\n",
      " 17%|██████▊                                 | 170/1000 [00:14<01:10, 11.73it/s]\u001b[A"
     ]
    },
    {
     "name": "stdout",
     "output_type": "stream",
     "text": [
      "0.0855708122253418\n",
      "0.08513975143432617\n",
      "0.08423256874084473\n"
     ]
    },
    {
     "name": "stderr",
     "output_type": "stream",
     "text": [
      "\n",
      " 17%|██████▉                                 | 172/1000 [00:14<01:10, 11.75it/s]\u001b[A"
     ]
    },
    {
     "name": "stdout",
     "output_type": "stream",
     "text": [
      "0.08415961265563965\n",
      "0.08530712127685547\n"
     ]
    },
    {
     "name": "stderr",
     "output_type": "stream",
     "text": [
      "\n",
      " 17%|██████▉                                 | 174/1000 [00:15<01:10, 11.73it/s]\u001b[A"
     ]
    },
    {
     "name": "stdout",
     "output_type": "stream",
     "text": [
      "0.08476519584655762\n"
     ]
    },
    {
     "name": "stderr",
     "output_type": "stream",
     "text": [
      "\n",
      " 18%|███████                                 | 176/1000 [00:15<01:10, 11.76it/s]\u001b[A"
     ]
    },
    {
     "name": "stdout",
     "output_type": "stream",
     "text": [
      "0.08425784111022949\n",
      "0.08369326591491699\n",
      "0.08414745330810547\n"
     ]
    },
    {
     "name": "stderr",
     "output_type": "stream",
     "text": [
      "\n",
      " 18%|███████                                 | 178/1000 [00:15<01:09, 11.79it/s]\u001b[A"
     ]
    },
    {
     "name": "stdout",
     "output_type": "stream",
     "text": [
      "0.08379888534545898\n",
      "0.08530163764953613\n"
     ]
    },
    {
     "name": "stderr",
     "output_type": "stream",
     "text": [
      "\n",
      " 18%|███████▏                                | 180/1000 [00:15<01:09, 11.74it/s]\u001b[A"
     ]
    },
    {
     "name": "stdout",
     "output_type": "stream",
     "text": [
      "0.08551502227783203\n"
     ]
    },
    {
     "name": "stderr",
     "output_type": "stream",
     "text": [
      "\n",
      " 18%|███████▎                                | 182/1000 [00:15<01:09, 11.72it/s]\u001b[A"
     ]
    },
    {
     "name": "stdout",
     "output_type": "stream",
     "text": [
      "0.08459115028381348\n",
      "0.08545136451721191\n",
      "0.08473634719848633\n"
     ]
    },
    {
     "name": "stderr",
     "output_type": "stream",
     "text": [
      "\n",
      " 18%|███████▎                                | 184/1000 [00:15<01:09, 11.73it/s]\u001b[A"
     ]
    },
    {
     "name": "stdout",
     "output_type": "stream",
     "text": [
      "0.08439421653747559\n",
      "0.08400487899780273\n"
     ]
    },
    {
     "name": "stderr",
     "output_type": "stream",
     "text": [
      "\n",
      " 19%|███████▍                                | 186/1000 [00:16<01:09, 11.75it/s]\u001b[A"
     ]
    },
    {
     "name": "stdout",
     "output_type": "stream",
     "text": [
      "0.08451724052429199\n"
     ]
    },
    {
     "name": "stderr",
     "output_type": "stream",
     "text": [
      "\n",
      " 19%|███████▌                                | 188/1000 [00:16<01:09, 11.72it/s]\u001b[A"
     ]
    },
    {
     "name": "stdout",
     "output_type": "stream",
     "text": [
      "0.08445310592651367\n",
      "0.08612656593322754\n",
      "0.08865833282470703\n"
     ]
    },
    {
     "name": "stderr",
     "output_type": "stream",
     "text": [
      "\n",
      " 19%|███████▌                                | 190/1000 [00:16<01:09, 11.64it/s]\u001b[A"
     ]
    },
    {
     "name": "stdout",
     "output_type": "stream",
     "text": [
      "0.08455610275268555\n",
      "0.08414721488952637\n"
     ]
    },
    {
     "name": "stderr",
     "output_type": "stream",
     "text": [
      "\n",
      " 19%|███████▋                                | 192/1000 [00:16<01:09, 11.70it/s]\u001b[A"
     ]
    },
    {
     "name": "stdout",
     "output_type": "stream",
     "text": [
      "0.08388471603393555\n"
     ]
    },
    {
     "name": "stderr",
     "output_type": "stream",
     "text": [
      "\n",
      " 19%|███████▊                                | 194/1000 [00:16<01:08, 11.71it/s]\u001b[A"
     ]
    },
    {
     "name": "stdout",
     "output_type": "stream",
     "text": [
      "0.08520698547363281\n",
      "0.08420896530151367\n",
      "0.08467984199523926\n"
     ]
    },
    {
     "name": "stderr",
     "output_type": "stream",
     "text": [
      "\n",
      " 20%|███████▊                                | 196/1000 [00:16<01:08, 11.73it/s]\u001b[A"
     ]
    },
    {
     "name": "stdout",
     "output_type": "stream",
     "text": [
      "0.08407020568847656\n",
      "0.08363914489746094\n"
     ]
    },
    {
     "name": "stderr",
     "output_type": "stream",
     "text": [
      "\n",
      " 20%|███████▉                                | 198/1000 [00:17<01:08, 11.76it/s]\u001b[A"
     ]
    },
    {
     "name": "stdout",
     "output_type": "stream",
     "text": [
      "0.08475327491760254\n"
     ]
    },
    {
     "name": "stderr",
     "output_type": "stream",
     "text": [
      "\n",
      " 20%|████████                                | 200/1000 [00:17<01:07, 11.77it/s]\u001b[A"
     ]
    },
    {
     "name": "stdout",
     "output_type": "stream",
     "text": [
      "0.08436822891235352\n",
      "0.08379292488098145\n",
      "0.08431386947631836\n"
     ]
    },
    {
     "name": "stderr",
     "output_type": "stream",
     "text": [
      "\n",
      " 20%|████████                                | 202/1000 [00:17<01:07, 11.80it/s]\u001b[A"
     ]
    },
    {
     "name": "stdout",
     "output_type": "stream",
     "text": [
      "0.08347535133361816\n",
      "0.0838770866394043\n"
     ]
    },
    {
     "name": "stderr",
     "output_type": "stream",
     "text": [
      "\n",
      " 20%|████████▏                               | 204/1000 [00:17<01:07, 11.77it/s]\u001b[A"
     ]
    },
    {
     "name": "stdout",
     "output_type": "stream",
     "text": [
      "0.08603596687316895\n"
     ]
    },
    {
     "name": "stderr",
     "output_type": "stream",
     "text": [
      "\n",
      " 21%|████████▏                               | 206/1000 [00:17<01:07, 11.79it/s]\u001b[A"
     ]
    },
    {
     "name": "stdout",
     "output_type": "stream",
     "text": [
      "0.0842447280883789\n",
      "0.08357548713684082\n",
      "0.08597874641418457\n"
     ]
    },
    {
     "name": "stderr",
     "output_type": "stream",
     "text": [
      "\n",
      " 21%|████████▎                               | 208/1000 [00:17<01:07, 11.77it/s]\u001b[A"
     ]
    },
    {
     "name": "stdout",
     "output_type": "stream",
     "text": [
      "0.08375167846679688\n",
      "0.08811616897583008\n"
     ]
    },
    {
     "name": "stderr",
     "output_type": "stream",
     "text": [
      "\n",
      " 21%|████████▍                               | 210/1000 [00:18<01:07, 11.68it/s]\u001b[A"
     ]
    },
    {
     "name": "stdout",
     "output_type": "stream",
     "text": [
      "0.08508086204528809\n"
     ]
    },
    {
     "name": "stderr",
     "output_type": "stream",
     "text": [
      "\n",
      " 21%|████████▍                               | 212/1000 [00:18<01:07, 11.69it/s]\u001b[A"
     ]
    },
    {
     "name": "stdout",
     "output_type": "stream",
     "text": [
      "0.08666563034057617\n",
      "0.08339738845825195\n",
      "0.08518218994140625\n"
     ]
    },
    {
     "name": "stderr",
     "output_type": "stream",
     "text": [
      "\n",
      " 21%|████████▌                               | 214/1000 [00:18<01:07, 11.70it/s]\u001b[A"
     ]
    },
    {
     "name": "stdout",
     "output_type": "stream",
     "text": [
      "0.08398962020874023\n",
      "0.08527898788452148\n"
     ]
    },
    {
     "name": "stderr",
     "output_type": "stream",
     "text": [
      "\n",
      " 22%|████████▋                               | 216/1000 [00:18<01:06, 11.72it/s]\u001b[A"
     ]
    },
    {
     "name": "stdout",
     "output_type": "stream",
     "text": [
      "0.08381843566894531\n"
     ]
    },
    {
     "name": "stderr",
     "output_type": "stream",
     "text": [
      "\n",
      " 22%|████████▋                               | 218/1000 [00:18<01:06, 11.69it/s]\u001b[A"
     ]
    },
    {
     "name": "stdout",
     "output_type": "stream",
     "text": [
      "0.08495807647705078\n",
      "0.08611226081848145\n",
      "0.08469820022583008\n"
     ]
    },
    {
     "name": "stderr",
     "output_type": "stream",
     "text": [
      "\n",
      " 22%|████████▊                               | 220/1000 [00:18<01:06, 11.68it/s]\u001b[A"
     ]
    },
    {
     "name": "stdout",
     "output_type": "stream",
     "text": [
      "0.08600902557373047\n",
      "0.08611154556274414\n"
     ]
    },
    {
     "name": "stderr",
     "output_type": "stream",
     "text": [
      "\n",
      " 22%|████████▉                               | 222/1000 [00:19<01:06, 11.66it/s]\u001b[A"
     ]
    },
    {
     "name": "stdout",
     "output_type": "stream",
     "text": [
      "0.08475947380065918\n"
     ]
    },
    {
     "name": "stderr",
     "output_type": "stream",
     "text": [
      "\n",
      " 22%|████████▉                               | 224/1000 [00:19<01:06, 11.68it/s]\u001b[A"
     ]
    },
    {
     "name": "stdout",
     "output_type": "stream",
     "text": [
      "0.08437442779541016\n",
      "0.08537459373474121\n",
      "0.08418631553649902\n"
     ]
    },
    {
     "name": "stderr",
     "output_type": "stream",
     "text": [
      "\n",
      " 23%|█████████                               | 226/1000 [00:19<01:06, 11.72it/s]\u001b[A"
     ]
    },
    {
     "name": "stdout",
     "output_type": "stream",
     "text": [
      "0.08395147323608398\n",
      "0.08358931541442871\n"
     ]
    },
    {
     "name": "stderr",
     "output_type": "stream",
     "text": [
      "\n",
      " 23%|█████████                               | 228/1000 [00:19<01:05, 11.76it/s]\u001b[A"
     ]
    },
    {
     "name": "stdout",
     "output_type": "stream",
     "text": [
      "0.08397531509399414\n"
     ]
    },
    {
     "name": "stderr",
     "output_type": "stream",
     "text": [
      "\n",
      " 23%|█████████▏                              | 230/1000 [00:19<01:05, 11.79it/s]\u001b[A"
     ]
    },
    {
     "name": "stdout",
     "output_type": "stream",
     "text": [
      "0.0840768814086914\n",
      "0.08367013931274414\n",
      "0.08391904830932617\n"
     ]
    },
    {
     "name": "stderr",
     "output_type": "stream",
     "text": [
      "\n",
      " 23%|█████████▎                              | 232/1000 [00:19<01:04, 11.82it/s]\u001b[A"
     ]
    },
    {
     "name": "stdout",
     "output_type": "stream",
     "text": [
      "0.083251953125\n",
      "0.08417177200317383\n"
     ]
    },
    {
     "name": "stderr",
     "output_type": "stream",
     "text": [
      "\n",
      " 23%|█████████▎                              | 234/1000 [00:20<01:04, 11.82it/s]\u001b[A"
     ]
    },
    {
     "name": "stdout",
     "output_type": "stream",
     "text": [
      "0.08403801918029785\n"
     ]
    },
    {
     "name": "stderr",
     "output_type": "stream",
     "text": [
      "\n",
      " 24%|█████████▍                              | 236/1000 [00:20<01:04, 11.80it/s]\u001b[A"
     ]
    },
    {
     "name": "stdout",
     "output_type": "stream",
     "text": [
      "0.08489060401916504\n",
      "0.0841214656829834\n",
      "0.08545041084289551\n"
     ]
    },
    {
     "name": "stderr",
     "output_type": "stream",
     "text": [
      "\n",
      " 24%|█████████▌                              | 238/1000 [00:20<01:04, 11.74it/s]\u001b[A"
     ]
    },
    {
     "name": "stdout",
     "output_type": "stream",
     "text": [
      "0.08592653274536133\n",
      "0.08562326431274414\n"
     ]
    },
    {
     "name": "stderr",
     "output_type": "stream",
     "text": [
      "\n",
      " 24%|█████████▌                              | 240/1000 [00:20<01:05, 11.69it/s]\u001b[A"
     ]
    },
    {
     "name": "stdout",
     "output_type": "stream",
     "text": [
      "0.08601665496826172\n"
     ]
    },
    {
     "name": "stderr",
     "output_type": "stream",
     "text": [
      "\n",
      " 24%|█████████▋                              | 242/1000 [00:20<01:04, 11.68it/s]\u001b[A"
     ]
    },
    {
     "name": "stdout",
     "output_type": "stream",
     "text": [
      "0.08518409729003906\n",
      "0.08550834655761719\n",
      "0.0858774185180664\n"
     ]
    },
    {
     "name": "stderr",
     "output_type": "stream",
     "text": [
      "\n",
      " 24%|█████████▊                              | 244/1000 [00:21<01:04, 11.69it/s]\u001b[A"
     ]
    },
    {
     "name": "stdout",
     "output_type": "stream",
     "text": [
      "0.08404731750488281\n",
      "0.08491325378417969\n"
     ]
    },
    {
     "name": "stderr",
     "output_type": "stream",
     "text": [
      "\n",
      " 25%|█████████▊                              | 246/1000 [00:21<01:04, 11.67it/s]\u001b[A"
     ]
    },
    {
     "name": "stdout",
     "output_type": "stream",
     "text": [
      "0.0861198902130127\n"
     ]
    },
    {
     "name": "stderr",
     "output_type": "stream",
     "text": [
      "\n",
      " 25%|█████████▉                              | 248/1000 [00:21<01:04, 11.69it/s]\u001b[A"
     ]
    },
    {
     "name": "stdout",
     "output_type": "stream",
     "text": [
      "0.08534097671508789\n",
      "0.08382487297058105\n",
      "0.08506345748901367\n"
     ]
    },
    {
     "name": "stderr",
     "output_type": "stream",
     "text": [
      "\n",
      " 25%|██████████                              | 250/1000 [00:21<01:04, 11.70it/s]\u001b[A"
     ]
    },
    {
     "name": "stdout",
     "output_type": "stream",
     "text": [
      "0.08429956436157227\n",
      "0.08404135704040527\n"
     ]
    },
    {
     "name": "stderr",
     "output_type": "stream",
     "text": [
      "\n",
      " 25%|██████████                              | 252/1000 [00:21<01:03, 11.74it/s]\u001b[A"
     ]
    },
    {
     "name": "stdout",
     "output_type": "stream",
     "text": [
      "0.08422684669494629\n"
     ]
    },
    {
     "name": "stderr",
     "output_type": "stream",
     "text": [
      "\n",
      " 25%|██████████▏                             | 254/1000 [00:21<01:03, 11.73it/s]\u001b[A"
     ]
    },
    {
     "name": "stdout",
     "output_type": "stream",
     "text": [
      "0.08593368530273438\n",
      "0.083831787109375\n",
      "0.08625650405883789\n"
     ]
    },
    {
     "name": "stderr",
     "output_type": "stream",
     "text": [
      "\n",
      " 26%|██████████▏                             | 256/1000 [00:22<01:03, 11.68it/s]\u001b[A"
     ]
    },
    {
     "name": "stdout",
     "output_type": "stream",
     "text": [
      "0.08551406860351562\n",
      "0.08425092697143555\n"
     ]
    },
    {
     "name": "stderr",
     "output_type": "stream",
     "text": [
      "\n",
      " 26%|██████████▎                             | 258/1000 [00:22<01:03, 11.71it/s]\u001b[A"
     ]
    },
    {
     "name": "stdout",
     "output_type": "stream",
     "text": [
      "0.08462381362915039\n"
     ]
    },
    {
     "name": "stderr",
     "output_type": "stream",
     "text": [
      "\n",
      " 26%|██████████▍                             | 260/1000 [00:22<01:03, 11.72it/s]\u001b[A"
     ]
    },
    {
     "name": "stdout",
     "output_type": "stream",
     "text": [
      "0.08437252044677734\n",
      "0.08464384078979492\n",
      "0.08540081977844238\n"
     ]
    },
    {
     "name": "stderr",
     "output_type": "stream",
     "text": [
      "\n",
      " 26%|██████████▍                             | 262/1000 [00:22<01:03, 11.67it/s]\u001b[A"
     ]
    },
    {
     "name": "stdout",
     "output_type": "stream",
     "text": [
      "0.08674192428588867\n",
      "0.0842893123626709\n"
     ]
    },
    {
     "name": "stderr",
     "output_type": "stream",
     "text": [
      "\n",
      " 26%|██████████▌                             | 264/1000 [00:22<01:02, 11.71it/s]\u001b[A"
     ]
    },
    {
     "name": "stdout",
     "output_type": "stream",
     "text": [
      "0.08410429954528809\n"
     ]
    },
    {
     "name": "stderr",
     "output_type": "stream",
     "text": [
      "\n",
      " 27%|██████████▋                             | 266/1000 [00:22<01:02, 11.74it/s]\u001b[A"
     ]
    },
    {
     "name": "stdout",
     "output_type": "stream",
     "text": [
      "0.08414435386657715\n",
      "0.08390569686889648\n",
      "0.08485960960388184\n"
     ]
    },
    {
     "name": "stderr",
     "output_type": "stream",
     "text": [
      "\n",
      " 27%|██████████▋                             | 268/1000 [00:23<01:02, 11.76it/s]\u001b[A"
     ]
    },
    {
     "name": "stdout",
     "output_type": "stream",
     "text": [
      "0.08355903625488281\n",
      "0.08416581153869629\n"
     ]
    },
    {
     "name": "stderr",
     "output_type": "stream",
     "text": [
      "\n",
      " 27%|██████████▊                             | 270/1000 [00:23<01:01, 11.78it/s]\u001b[A"
     ]
    },
    {
     "name": "stdout",
     "output_type": "stream",
     "text": [
      "0.08414435386657715\n"
     ]
    },
    {
     "name": "stderr",
     "output_type": "stream",
     "text": [
      "\n",
      " 27%|██████████▉                             | 272/1000 [00:23<01:01, 11.79it/s]\u001b[A"
     ]
    },
    {
     "name": "stdout",
     "output_type": "stream",
     "text": [
      "0.08453226089477539\n",
      "0.08352947235107422\n",
      "0.08800506591796875\n"
     ]
    },
    {
     "name": "stderr",
     "output_type": "stream",
     "text": [
      "\n",
      " 27%|██████████▉                             | 274/1000 [00:23<01:02, 11.60it/s]\u001b[A"
     ]
    },
    {
     "name": "stdout",
     "output_type": "stream",
     "text": [
      "0.0897531509399414\n",
      "0.08580327033996582\n"
     ]
    },
    {
     "name": "stderr",
     "output_type": "stream",
     "text": [
      "\n",
      " 28%|███████████                             | 276/1000 [00:23<01:03, 11.45it/s]\u001b[A"
     ]
    },
    {
     "name": "stdout",
     "output_type": "stream",
     "text": [
      "0.09325122833251953\n"
     ]
    },
    {
     "name": "stderr",
     "output_type": "stream",
     "text": [
      "\n",
      " 28%|███████████                             | 278/1000 [00:23<01:02, 11.53it/s]\u001b[A"
     ]
    },
    {
     "name": "stdout",
     "output_type": "stream",
     "text": [
      "0.0861513614654541\n",
      "0.0831751823425293\n",
      "0.08602738380432129\n"
     ]
    },
    {
     "name": "stderr",
     "output_type": "stream",
     "text": [
      "\n",
      " 28%|███████████▏                            | 280/1000 [00:24<01:02, 11.51it/s]\u001b[A"
     ]
    },
    {
     "name": "stdout",
     "output_type": "stream",
     "text": [
      "0.08731794357299805\n",
      "0.08495831489562988\n"
     ]
    },
    {
     "name": "stderr",
     "output_type": "stream",
     "text": [
      "\n",
      " 28%|███████████▎                            | 282/1000 [00:24<01:02, 11.53it/s]\u001b[A"
     ]
    },
    {
     "name": "stdout",
     "output_type": "stream",
     "text": [
      "0.0867459774017334\n"
     ]
    },
    {
     "name": "stderr",
     "output_type": "stream",
     "text": [
      "\n",
      " 28%|███████████▎                            | 284/1000 [00:24<01:01, 11.57it/s]\u001b[A"
     ]
    },
    {
     "name": "stdout",
     "output_type": "stream",
     "text": [
      "0.08563852310180664\n",
      "0.08466243743896484\n",
      "0.08645009994506836\n"
     ]
    },
    {
     "name": "stderr",
     "output_type": "stream",
     "text": [
      "\n",
      " 29%|███████████▍                            | 286/1000 [00:24<01:01, 11.56it/s]\u001b[A"
     ]
    },
    {
     "name": "stdout",
     "output_type": "stream",
     "text": [
      "0.0859687328338623\n",
      "0.08578109741210938\n"
     ]
    },
    {
     "name": "stderr",
     "output_type": "stream",
     "text": [
      "\n",
      " 29%|███████████▌                            | 288/1000 [00:24<01:01, 11.55it/s]\u001b[A"
     ]
    },
    {
     "name": "stdout",
     "output_type": "stream",
     "text": [
      "0.08638787269592285\n"
     ]
    },
    {
     "name": "stderr",
     "output_type": "stream",
     "text": [
      "\n",
      " 29%|███████████▌                            | 290/1000 [00:24<01:01, 11.53it/s]\u001b[A"
     ]
    },
    {
     "name": "stdout",
     "output_type": "stream",
     "text": [
      "0.08708953857421875\n",
      "0.08624124526977539\n",
      "0.08835458755493164\n"
     ]
    },
    {
     "name": "stderr",
     "output_type": "stream",
     "text": [
      "\n",
      " 29%|███████████▋                            | 292/1000 [00:25<01:01, 11.45it/s]\u001b[A"
     ]
    },
    {
     "name": "stdout",
     "output_type": "stream",
     "text": [
      "0.0877065658569336\n",
      "0.08777499198913574\n"
     ]
    },
    {
     "name": "stderr",
     "output_type": "stream",
     "text": [
      "\n",
      " 29%|███████████▊                            | 294/1000 [00:25<01:01, 11.44it/s]\u001b[A"
     ]
    },
    {
     "name": "stdout",
     "output_type": "stream",
     "text": [
      "0.0864408016204834\n"
     ]
    },
    {
     "name": "stderr",
     "output_type": "stream",
     "text": [
      "\n",
      " 30%|███████████▊                            | 296/1000 [00:25<01:01, 11.46it/s]\u001b[A"
     ]
    },
    {
     "name": "stdout",
     "output_type": "stream",
     "text": [
      "0.08920717239379883\n",
      "0.08353304862976074\n",
      "0.085479736328125\n"
     ]
    },
    {
     "name": "stderr",
     "output_type": "stream",
     "text": [
      "\n",
      " 30%|███████████▉                            | 298/1000 [00:25<01:00, 11.54it/s]\u001b[A"
     ]
    },
    {
     "name": "stdout",
     "output_type": "stream",
     "text": [
      "0.08394789695739746\n",
      "0.08431005477905273\n"
     ]
    },
    {
     "name": "stderr",
     "output_type": "stream",
     "text": [
      "\n",
      " 30%|████████████                            | 300/1000 [00:25<01:00, 11.61it/s]\u001b[A"
     ]
    },
    {
     "name": "stdout",
     "output_type": "stream",
     "text": [
      "0.08430719375610352\n"
     ]
    },
    {
     "name": "stderr",
     "output_type": "stream",
     "text": [
      "\n",
      " 30%|████████████                            | 302/1000 [00:25<00:59, 11.70it/s]\u001b[A"
     ]
    },
    {
     "name": "stdout",
     "output_type": "stream",
     "text": [
      "0.0835723876953125\n",
      "0.08368110656738281\n",
      "0.08873534202575684\n"
     ]
    },
    {
     "name": "stderr",
     "output_type": "stream",
     "text": [
      "\n",
      " 30%|████████████▏                           | 304/1000 [00:26<00:59, 11.62it/s]\u001b[A"
     ]
    },
    {
     "name": "stdout",
     "output_type": "stream",
     "text": [
      "0.08509588241577148\n",
      "0.08786344528198242\n"
     ]
    },
    {
     "name": "stderr",
     "output_type": "stream",
     "text": [
      "\n",
      " 31%|████████████▏                           | 306/1000 [00:26<01:00, 11.51it/s]\u001b[A"
     ]
    },
    {
     "name": "stdout",
     "output_type": "stream",
     "text": [
      "0.0885775089263916\n"
     ]
    },
    {
     "name": "stderr",
     "output_type": "stream",
     "text": [
      "\n",
      " 31%|████████████▎                           | 308/1000 [00:26<01:00, 11.51it/s]\u001b[A"
     ]
    },
    {
     "name": "stdout",
     "output_type": "stream",
     "text": [
      "0.08792495727539062\n",
      "0.08470559120178223\n",
      "0.08955574035644531\n"
     ]
    },
    {
     "name": "stderr",
     "output_type": "stream",
     "text": [
      "\n",
      " 31%|████████████▍                           | 310/1000 [00:26<01:00, 11.46it/s]\u001b[A"
     ]
    },
    {
     "name": "stdout",
     "output_type": "stream",
     "text": [
      "0.08572983741760254\n",
      "0.08864831924438477\n"
     ]
    },
    {
     "name": "stderr",
     "output_type": "stream",
     "text": [
      "\n",
      " 31%|████████████▍                           | 312/1000 [00:26<01:00, 11.41it/s]\u001b[A"
     ]
    },
    {
     "name": "stdout",
     "output_type": "stream",
     "text": [
      "0.08745026588439941\n"
     ]
    },
    {
     "name": "stderr",
     "output_type": "stream",
     "text": [
      "\n",
      " 31%|████████████▌                           | 314/1000 [00:27<01:00, 11.40it/s]\u001b[A"
     ]
    },
    {
     "name": "stdout",
     "output_type": "stream",
     "text": [
      "0.08903336524963379\n",
      "0.08527278900146484\n",
      "0.0884859561920166\n"
     ]
    },
    {
     "name": "stderr",
     "output_type": "stream",
     "text": [
      "\n",
      " 32%|████████████▋                           | 316/1000 [00:27<01:00, 11.40it/s]\u001b[A"
     ]
    },
    {
     "name": "stdout",
     "output_type": "stream",
     "text": [
      "0.08620262145996094\n",
      "0.0892024040222168\n"
     ]
    },
    {
     "name": "stderr",
     "output_type": "stream",
     "text": [
      "\n",
      " 32%|████████████▋                           | 318/1000 [00:27<01:00, 11.35it/s]\u001b[A"
     ]
    },
    {
     "name": "stdout",
     "output_type": "stream",
     "text": [
      "0.08750319480895996\n"
     ]
    },
    {
     "name": "stderr",
     "output_type": "stream",
     "text": [
      "\n",
      " 32%|████████████▊                           | 320/1000 [00:27<00:59, 11.37it/s]\u001b[A"
     ]
    },
    {
     "name": "stdout",
     "output_type": "stream",
     "text": [
      "0.0891273021697998\n",
      "0.08484339714050293\n",
      "0.0905003547668457\n"
     ]
    },
    {
     "name": "stderr",
     "output_type": "stream",
     "text": [
      "\n",
      " 32%|████████████▉                           | 322/1000 [00:27<00:59, 11.33it/s]\u001b[A"
     ]
    },
    {
     "name": "stdout",
     "output_type": "stream",
     "text": [
      "0.08622026443481445\n",
      "0.08829331398010254\n"
     ]
    },
    {
     "name": "stderr",
     "output_type": "stream",
     "text": [
      "\n",
      " 32%|████████████▉                           | 324/1000 [00:27<00:59, 11.32it/s]\u001b[A"
     ]
    },
    {
     "name": "stdout",
     "output_type": "stream",
     "text": [
      "0.08755922317504883\n"
     ]
    },
    {
     "name": "stderr",
     "output_type": "stream",
     "text": [
      "\n",
      " 33%|█████████████                           | 326/1000 [00:28<00:59, 11.36it/s]\u001b[A"
     ]
    },
    {
     "name": "stdout",
     "output_type": "stream",
     "text": [
      "0.08855199813842773\n",
      "0.08503603935241699\n",
      "0.09076762199401855\n"
     ]
    },
    {
     "name": "stderr",
     "output_type": "stream",
     "text": [
      "\n",
      " 33%|█████████████                           | 328/1000 [00:28<00:59, 11.33it/s]\u001b[A"
     ]
    },
    {
     "name": "stdout",
     "output_type": "stream",
     "text": [
      "0.0857400894165039\n",
      "0.0876162052154541\n"
     ]
    },
    {
     "name": "stderr",
     "output_type": "stream",
     "text": [
      "\n",
      " 33%|█████████████▏                          | 330/1000 [00:28<00:59, 11.34it/s]\u001b[A"
     ]
    },
    {
     "name": "stdout",
     "output_type": "stream",
     "text": [
      "0.08738040924072266\n"
     ]
    },
    {
     "name": "stderr",
     "output_type": "stream",
     "text": [
      "\n",
      " 33%|█████████████▎                          | 332/1000 [00:28<00:58, 11.37it/s]\u001b[A"
     ]
    },
    {
     "name": "stdout",
     "output_type": "stream",
     "text": [
      "0.08846259117126465\n",
      "0.08494377136230469\n",
      "0.09006214141845703\n"
     ]
    },
    {
     "name": "stderr",
     "output_type": "stream",
     "text": [
      "\n",
      " 33%|█████████████▎                          | 334/1000 [00:28<00:58, 11.34it/s]\u001b[A"
     ]
    },
    {
     "name": "stdout",
     "output_type": "stream",
     "text": [
      "0.08660244941711426\n",
      "0.08802056312561035\n"
     ]
    },
    {
     "name": "stderr",
     "output_type": "stream",
     "text": [
      "\n",
      " 34%|█████████████▍                          | 336/1000 [00:28<00:58, 11.34it/s]\u001b[A"
     ]
    },
    {
     "name": "stdout",
     "output_type": "stream",
     "text": [
      "0.08728265762329102\n"
     ]
    },
    {
     "name": "stderr",
     "output_type": "stream",
     "text": [
      "\n",
      " 34%|█████████████▌                          | 338/1000 [00:29<00:58, 11.35it/s]\u001b[A"
     ]
    },
    {
     "name": "stdout",
     "output_type": "stream",
     "text": [
      "0.08917474746704102\n",
      "0.0853879451751709\n",
      "0.08969688415527344\n"
     ]
    },
    {
     "name": "stderr",
     "output_type": "stream",
     "text": [
      "\n",
      " 34%|█████████████▌                          | 340/1000 [00:29<00:58, 11.35it/s]\u001b[A"
     ]
    },
    {
     "name": "stdout",
     "output_type": "stream",
     "text": [
      "0.08529996871948242\n",
      "0.08776688575744629\n"
     ]
    },
    {
     "name": "stderr",
     "output_type": "stream",
     "text": [
      "\n",
      " 34%|█████████████▋                          | 342/1000 [00:29<00:57, 11.37it/s]\u001b[A"
     ]
    },
    {
     "name": "stdout",
     "output_type": "stream",
     "text": [
      "0.08615636825561523\n"
     ]
    },
    {
     "name": "stderr",
     "output_type": "stream",
     "text": [
      "\n",
      " 34%|█████████████▊                          | 344/1000 [00:29<00:57, 11.41it/s]\u001b[A"
     ]
    },
    {
     "name": "stdout",
     "output_type": "stream",
     "text": [
      "0.08792591094970703\n",
      "0.0848698616027832\n",
      "0.09064817428588867\n"
     ]
    },
    {
     "name": "stderr",
     "output_type": "stream",
     "text": [
      "\n",
      " 35%|█████████████▊                          | 346/1000 [00:29<00:57, 11.38it/s]\u001b[A"
     ]
    },
    {
     "name": "stdout",
     "output_type": "stream",
     "text": [
      "0.08533859252929688\n",
      "0.08810830116271973\n"
     ]
    },
    {
     "name": "stderr",
     "output_type": "stream",
     "text": [
      "\n",
      " 35%|█████████████▉                          | 348/1000 [00:30<00:57, 11.27it/s]\u001b[A"
     ]
    },
    {
     "name": "stdout",
     "output_type": "stream",
     "text": [
      "0.09207940101623535\n"
     ]
    },
    {
     "name": "stderr",
     "output_type": "stream",
     "text": [
      "\n",
      " 35%|██████████████                          | 350/1000 [00:30<00:57, 11.34it/s]\u001b[A"
     ]
    },
    {
     "name": "stdout",
     "output_type": "stream",
     "text": [
      "0.08823871612548828\n",
      "0.08443474769592285\n",
      "0.09055733680725098\n"
     ]
    },
    {
     "name": "stderr",
     "output_type": "stream",
     "text": [
      "\n",
      " 35%|██████████████                          | 352/1000 [00:30<00:57, 11.32it/s]\u001b[A"
     ]
    },
    {
     "name": "stdout",
     "output_type": "stream",
     "text": [
      "0.0853877067565918\n",
      "0.08793950080871582\n"
     ]
    },
    {
     "name": "stderr",
     "output_type": "stream",
     "text": [
      "\n",
      " 35%|██████████████▏                         | 354/1000 [00:30<00:56, 11.37it/s]\u001b[A"
     ]
    },
    {
     "name": "stdout",
     "output_type": "stream",
     "text": [
      "0.08536481857299805\n"
     ]
    },
    {
     "name": "stderr",
     "output_type": "stream",
     "text": [
      "\n",
      " 36%|██████████████▏                         | 356/1000 [00:30<00:56, 11.40it/s]\u001b[A"
     ]
    },
    {
     "name": "stdout",
     "output_type": "stream",
     "text": [
      "0.08929920196533203\n",
      "0.0839834213256836\n",
      "0.08838343620300293\n"
     ]
    },
    {
     "name": "stderr",
     "output_type": "stream",
     "text": [
      "\n",
      " 36%|██████████████▎                         | 358/1000 [00:30<00:56, 11.38it/s]\u001b[A"
     ]
    },
    {
     "name": "stdout",
     "output_type": "stream",
     "text": [
      "0.08688926696777344\n",
      "0.08766460418701172\n"
     ]
    },
    {
     "name": "stderr",
     "output_type": "stream",
     "text": [
      "\n",
      " 36%|██████████████▍                         | 360/1000 [00:31<00:56, 11.39it/s]\u001b[A"
     ]
    },
    {
     "name": "stdout",
     "output_type": "stream",
     "text": [
      "0.08661222457885742\n"
     ]
    },
    {
     "name": "stderr",
     "output_type": "stream",
     "text": [
      "\n",
      " 36%|██████████████▍                         | 362/1000 [00:31<00:55, 11.42it/s]\u001b[A"
     ]
    },
    {
     "name": "stdout",
     "output_type": "stream",
     "text": [
      "0.08836984634399414\n",
      "0.08444809913635254\n",
      "0.0883183479309082\n"
     ]
    },
    {
     "name": "stderr",
     "output_type": "stream",
     "text": [
      "\n",
      " 36%|██████████████▌                         | 364/1000 [00:31<00:55, 11.42it/s]\u001b[A"
     ]
    },
    {
     "name": "stdout",
     "output_type": "stream",
     "text": [
      "0.08565878868103027\n",
      "0.08666491508483887\n"
     ]
    },
    {
     "name": "stderr",
     "output_type": "stream",
     "text": [
      "\n",
      " 37%|██████████████▋                         | 366/1000 [00:31<00:55, 11.42it/s]\u001b[A"
     ]
    },
    {
     "name": "stdout",
     "output_type": "stream",
     "text": [
      "0.0872960090637207\n"
     ]
    },
    {
     "name": "stderr",
     "output_type": "stream",
     "text": [
      "\n",
      " 37%|██████████████▋                         | 368/1000 [00:31<00:55, 11.41it/s]\u001b[A"
     ]
    },
    {
     "name": "stdout",
     "output_type": "stream",
     "text": [
      "0.08896613121032715\n",
      "0.08587884902954102\n",
      "0.08902525901794434\n"
     ]
    },
    {
     "name": "stderr",
     "output_type": "stream",
     "text": [
      "\n",
      " 37%|██████████████▊                         | 370/1000 [00:31<00:55, 11.37it/s]\u001b[A"
     ]
    },
    {
     "name": "stdout",
     "output_type": "stream",
     "text": [
      "0.08725881576538086\n",
      "0.08653569221496582\n"
     ]
    },
    {
     "name": "stderr",
     "output_type": "stream",
     "text": [
      "\n",
      " 37%|██████████████▉                         | 372/1000 [00:32<00:55, 11.41it/s]\u001b[A"
     ]
    },
    {
     "name": "stdout",
     "output_type": "stream",
     "text": [
      "0.08610224723815918\n"
     ]
    },
    {
     "name": "stderr",
     "output_type": "stream",
     "text": [
      "\n",
      " 37%|██████████████▉                         | 374/1000 [00:32<00:54, 11.44it/s]\u001b[A"
     ]
    },
    {
     "name": "stdout",
     "output_type": "stream",
     "text": [
      "0.08769512176513672\n",
      "0.08520174026489258\n",
      "0.09001874923706055\n"
     ]
    },
    {
     "name": "stderr",
     "output_type": "stream",
     "text": [
      "\n",
      " 38%|███████████████                         | 376/1000 [00:32<00:54, 11.38it/s]\u001b[A"
     ]
    },
    {
     "name": "stdout",
     "output_type": "stream",
     "text": [
      "0.08669114112854004\n",
      "0.08558511734008789\n"
     ]
    },
    {
     "name": "stderr",
     "output_type": "stream",
     "text": [
      "\n",
      " 38%|███████████████                         | 378/1000 [00:32<00:54, 11.41it/s]\u001b[A"
     ]
    },
    {
     "name": "stdout",
     "output_type": "stream",
     "text": [
      "0.08769583702087402\n"
     ]
    },
    {
     "name": "stderr",
     "output_type": "stream",
     "text": [
      "\n",
      " 38%|███████████████▏                        | 380/1000 [00:32<00:54, 11.42it/s]\u001b[A"
     ]
    },
    {
     "name": "stdout",
     "output_type": "stream",
     "text": [
      "0.08912301063537598\n",
      "0.08436107635498047\n",
      "0.08758354187011719\n"
     ]
    },
    {
     "name": "stderr",
     "output_type": "stream",
     "text": [
      "\n",
      " 38%|███████████████▎                        | 382/1000 [00:33<00:54, 11.40it/s]\u001b[A"
     ]
    },
    {
     "name": "stdout",
     "output_type": "stream",
     "text": [
      "0.08771157264709473\n",
      "0.08624982833862305\n"
     ]
    },
    {
     "name": "stderr",
     "output_type": "stream",
     "text": [
      "\n",
      " 38%|███████████████▎                        | 384/1000 [00:33<00:53, 11.43it/s]\u001b[A"
     ]
    },
    {
     "name": "stdout",
     "output_type": "stream",
     "text": [
      "0.08664464950561523\n"
     ]
    },
    {
     "name": "stderr",
     "output_type": "stream",
     "text": [
      "\n",
      " 39%|███████████████▍                        | 386/1000 [00:33<00:53, 11.46it/s]\u001b[A"
     ]
    },
    {
     "name": "stdout",
     "output_type": "stream",
     "text": [
      "0.08729219436645508\n",
      "0.08531951904296875\n",
      "0.08746790885925293\n"
     ]
    },
    {
     "name": "stderr",
     "output_type": "stream",
     "text": [
      "\n",
      " 39%|███████████████▌                        | 388/1000 [00:33<00:53, 11.46it/s]\u001b[A"
     ]
    },
    {
     "name": "stdout",
     "output_type": "stream",
     "text": [
      "0.0859684944152832\n",
      "0.08611369132995605\n"
     ]
    },
    {
     "name": "stderr",
     "output_type": "stream",
     "text": [
      "\n",
      " 39%|███████████████▌                        | 390/1000 [00:33<00:53, 11.46it/s]\u001b[A"
     ]
    },
    {
     "name": "stdout",
     "output_type": "stream",
     "text": [
      "0.08744454383850098\n"
     ]
    },
    {
     "name": "stderr",
     "output_type": "stream",
     "text": [
      "\n",
      " 39%|███████████████▋                        | 392/1000 [00:33<00:52, 11.49it/s]\u001b[A"
     ]
    },
    {
     "name": "stdout",
     "output_type": "stream",
     "text": [
      "0.08761882781982422\n",
      "0.08445906639099121\n",
      "0.09000778198242188\n"
     ]
    },
    {
     "name": "stderr",
     "output_type": "stream",
     "text": [
      "\n",
      " 39%|███████████████▊                        | 394/1000 [00:34<00:53, 11.40it/s]\u001b[A"
     ]
    },
    {
     "name": "stdout",
     "output_type": "stream",
     "text": [
      "0.08724236488342285\n",
      "0.08469414710998535\n"
     ]
    },
    {
     "name": "stderr",
     "output_type": "stream",
     "text": [
      "\n",
      " 40%|███████████████▊                        | 396/1000 [00:34<00:52, 11.42it/s]\u001b[A"
     ]
    },
    {
     "name": "stdout",
     "output_type": "stream",
     "text": [
      "0.08860373497009277\n"
     ]
    },
    {
     "name": "stderr",
     "output_type": "stream",
     "text": [
      "\n",
      " 40%|███████████████▉                        | 398/1000 [00:34<00:52, 11.44it/s]\u001b[A"
     ]
    },
    {
     "name": "stdout",
     "output_type": "stream",
     "text": [
      "0.08639717102050781\n",
      "0.08662891387939453\n",
      "0.08693146705627441\n"
     ]
    },
    {
     "name": "stderr",
     "output_type": "stream",
     "text": [
      "\n",
      " 40%|████████████████                        | 400/1000 [00:34<00:52, 11.41it/s]\u001b[A"
     ]
    },
    {
     "name": "stdout",
     "output_type": "stream",
     "text": [
      "0.08844161033630371\n",
      "0.08540058135986328\n"
     ]
    },
    {
     "name": "stderr",
     "output_type": "stream",
     "text": [
      "\n",
      " 40%|████████████████                        | 402/1000 [00:34<00:52, 11.41it/s]\u001b[A"
     ]
    },
    {
     "name": "stdout",
     "output_type": "stream",
     "text": [
      "0.0888674259185791\n"
     ]
    },
    {
     "name": "stderr",
     "output_type": "stream",
     "text": [
      "\n",
      " 40%|████████████████▏                       | 404/1000 [00:34<00:52, 11.43it/s]\u001b[A"
     ]
    },
    {
     "name": "stdout",
     "output_type": "stream",
     "text": [
      "0.08758234977722168\n",
      "0.08569765090942383\n",
      "0.08712553977966309\n"
     ]
    },
    {
     "name": "stderr",
     "output_type": "stream",
     "text": [
      "\n",
      " 41%|████████████████▏                       | 406/1000 [00:35<00:52, 11.40it/s]\u001b[A"
     ]
    },
    {
     "name": "stdout",
     "output_type": "stream",
     "text": [
      "0.08785724639892578\n",
      "0.08529233932495117\n"
     ]
    },
    {
     "name": "stderr",
     "output_type": "stream",
     "text": [
      "\n",
      " 41%|████████████████▎                       | 408/1000 [00:35<00:51, 11.43it/s]\u001b[A"
     ]
    },
    {
     "name": "stdout",
     "output_type": "stream",
     "text": [
      "0.0874936580657959\n"
     ]
    },
    {
     "name": "stderr",
     "output_type": "stream",
     "text": [
      "\n",
      " 41%|████████████████▍                       | 410/1000 [00:35<00:51, 11.47it/s]\u001b[A"
     ]
    },
    {
     "name": "stdout",
     "output_type": "stream",
     "text": [
      "0.08580279350280762\n",
      "0.08584189414978027\n",
      "0.0862114429473877\n"
     ]
    },
    {
     "name": "stderr",
     "output_type": "stream",
     "text": [
      "\n",
      " 41%|████████████████▍                       | 412/1000 [00:35<00:51, 11.46it/s]\u001b[A"
     ]
    },
    {
     "name": "stdout",
     "output_type": "stream",
     "text": [
      "0.08797168731689453\n",
      "0.08626747131347656\n"
     ]
    },
    {
     "name": "stderr",
     "output_type": "stream",
     "text": [
      "\n",
      " 41%|████████████████▌                       | 414/1000 [00:35<00:51, 11.37it/s]\u001b[A"
     ]
    },
    {
     "name": "stdout",
     "output_type": "stream",
     "text": [
      "0.0915069580078125\n"
     ]
    },
    {
     "name": "stderr",
     "output_type": "stream",
     "text": [
      "\n",
      " 42%|████████████████▋                       | 416/1000 [00:36<00:51, 11.40it/s]\u001b[A"
     ]
    },
    {
     "name": "stdout",
     "output_type": "stream",
     "text": [
      "0.08783793449401855\n",
      "0.08546948432922363\n",
      "0.08728885650634766\n"
     ]
    },
    {
     "name": "stderr",
     "output_type": "stream",
     "text": [
      "\n",
      " 42%|████████████████▋                       | 418/1000 [00:36<00:51, 11.38it/s]\u001b[A"
     ]
    },
    {
     "name": "stdout",
     "output_type": "stream",
     "text": [
      "0.08793759346008301\n",
      "0.08681464195251465\n"
     ]
    },
    {
     "name": "stderr",
     "output_type": "stream",
     "text": [
      "\n",
      " 42%|████████████████▊                       | 420/1000 [00:36<00:50, 11.39it/s]\u001b[A"
     ]
    },
    {
     "name": "stdout",
     "output_type": "stream",
     "text": [
      "0.0873262882232666\n"
     ]
    },
    {
     "name": "stderr",
     "output_type": "stream",
     "text": [
      "\n",
      " 42%|████████████████▉                       | 422/1000 [00:36<00:50, 11.42it/s]\u001b[A"
     ]
    },
    {
     "name": "stdout",
     "output_type": "stream",
     "text": [
      "0.08709096908569336\n",
      "0.08608841896057129\n",
      "0.08676862716674805\n"
     ]
    },
    {
     "name": "stderr",
     "output_type": "stream",
     "text": [
      "\n",
      " 42%|████████████████▉                       | 424/1000 [00:36<00:50, 11.40it/s]\u001b[A"
     ]
    },
    {
     "name": "stdout",
     "output_type": "stream",
     "text": [
      "0.0878446102142334\n",
      "0.08563089370727539\n"
     ]
    },
    {
     "name": "stderr",
     "output_type": "stream",
     "text": [
      "\n",
      " 43%|█████████████████                       | 426/1000 [00:36<00:50, 11.40it/s]\u001b[A"
     ]
    },
    {
     "name": "stdout",
     "output_type": "stream",
     "text": [
      "0.08840012550354004\n"
     ]
    },
    {
     "name": "stderr",
     "output_type": "stream",
     "text": [
      "\n",
      " 43%|█████████████████                       | 428/1000 [00:37<00:50, 11.42it/s]\u001b[A"
     ]
    },
    {
     "name": "stdout",
     "output_type": "stream",
     "text": [
      "0.08705878257751465\n",
      "0.08648991584777832\n",
      "0.08745360374450684\n"
     ]
    },
    {
     "name": "stderr",
     "output_type": "stream",
     "text": [
      "\n",
      " 43%|█████████████████▏                      | 430/1000 [00:37<00:50, 11.38it/s]\u001b[A"
     ]
    },
    {
     "name": "stdout",
     "output_type": "stream",
     "text": [
      "0.08858537673950195\n",
      "0.08429956436157227\n"
     ]
    },
    {
     "name": "stderr",
     "output_type": "stream",
     "text": [
      "\n",
      " 43%|█████████████████▎                      | 432/1000 [00:37<00:49, 11.42it/s]\u001b[A"
     ]
    },
    {
     "name": "stdout",
     "output_type": "stream",
     "text": [
      "0.0884702205657959\n"
     ]
    },
    {
     "name": "stderr",
     "output_type": "stream",
     "text": [
      "\n",
      " 43%|█████████████████▎                      | 434/1000 [00:37<00:49, 11.43it/s]\u001b[A"
     ]
    },
    {
     "name": "stdout",
     "output_type": "stream",
     "text": [
      "0.08687186241149902\n",
      "0.08678436279296875\n",
      "0.08687043190002441\n"
     ]
    },
    {
     "name": "stderr",
     "output_type": "stream",
     "text": [
      "\n",
      " 44%|█████████████████▍                      | 436/1000 [00:37<00:49, 11.40it/s]\u001b[A"
     ]
    },
    {
     "name": "stdout",
     "output_type": "stream",
     "text": [
      "0.08826947212219238\n",
      "0.08493208885192871\n"
     ]
    },
    {
     "name": "stderr",
     "output_type": "stream",
     "text": [
      "\n",
      " 44%|█████████████████▌                      | 438/1000 [00:37<00:49, 11.37it/s]\u001b[A"
     ]
    },
    {
     "name": "stdout",
     "output_type": "stream",
     "text": [
      "0.09111237525939941\n"
     ]
    },
    {
     "name": "stderr",
     "output_type": "stream",
     "text": [
      "\n",
      " 44%|█████████████████▌                      | 440/1000 [00:38<00:49, 11.36it/s]\u001b[A"
     ]
    },
    {
     "name": "stdout",
     "output_type": "stream",
     "text": [
      "0.08826613426208496\n",
      "0.08698177337646484\n",
      "0.08711695671081543\n"
     ]
    },
    {
     "name": "stderr",
     "output_type": "stream",
     "text": [
      "\n",
      " 44%|█████████████████▋                      | 442/1000 [00:38<00:49, 11.37it/s]\u001b[A"
     ]
    },
    {
     "name": "stdout",
     "output_type": "stream",
     "text": [
      "0.0872645378112793\n",
      "0.08403468132019043\n"
     ]
    },
    {
     "name": "stderr",
     "output_type": "stream",
     "text": [
      "\n",
      " 44%|█████████████████▊                      | 444/1000 [00:38<00:48, 11.41it/s]\u001b[A"
     ]
    },
    {
     "name": "stdout",
     "output_type": "stream",
     "text": [
      "0.0885159969329834\n"
     ]
    },
    {
     "name": "stderr",
     "output_type": "stream",
     "text": [
      "\n",
      " 45%|█████████████████▊                      | 446/1000 [00:38<00:48, 11.44it/s]\u001b[A"
     ]
    },
    {
     "name": "stdout",
     "output_type": "stream",
     "text": [
      "0.08687758445739746\n",
      "0.08560037612915039\n",
      "0.08654212951660156\n"
     ]
    },
    {
     "name": "stderr",
     "output_type": "stream",
     "text": [
      "\n",
      " 45%|█████████████████▉                      | 448/1000 [00:38<00:48, 11.32it/s]\u001b[A"
     ]
    },
    {
     "name": "stdout",
     "output_type": "stream",
     "text": [
      "0.09355854988098145\n",
      "0.08467292785644531\n"
     ]
    },
    {
     "name": "stderr",
     "output_type": "stream",
     "text": [
      "\n",
      " 45%|██████████████████                      | 450/1000 [00:38<00:48, 11.29it/s]\u001b[A"
     ]
    },
    {
     "name": "stdout",
     "output_type": "stream",
     "text": [
      "0.09230804443359375\n"
     ]
    },
    {
     "name": "stderr",
     "output_type": "stream",
     "text": [
      "\n",
      " 45%|██████████████████                      | 452/1000 [00:39<00:48, 11.32it/s]\u001b[A"
     ]
    },
    {
     "name": "stdout",
     "output_type": "stream",
     "text": [
      "0.08832216262817383\n",
      "0.08602619171142578\n",
      "0.08685421943664551\n"
     ]
    },
    {
     "name": "stderr",
     "output_type": "stream",
     "text": [
      "\n",
      " 45%|██████████████████▏                     | 454/1000 [00:39<00:48, 11.31it/s]\u001b[A"
     ]
    },
    {
     "name": "stdout",
     "output_type": "stream",
     "text": [
      "0.08939385414123535\n",
      "0.08534908294677734\n"
     ]
    },
    {
     "name": "stderr",
     "output_type": "stream",
     "text": [
      "\n",
      " 46%|██████████████████▏                     | 456/1000 [00:39<00:47, 11.36it/s]\u001b[A"
     ]
    },
    {
     "name": "stdout",
     "output_type": "stream",
     "text": [
      "0.08704042434692383\n"
     ]
    },
    {
     "name": "stderr",
     "output_type": "stream",
     "text": [
      "\n",
      " 46%|██████████████████▎                     | 458/1000 [00:39<00:47, 11.39it/s]\u001b[A"
     ]
    },
    {
     "name": "stdout",
     "output_type": "stream",
     "text": [
      "0.08733677864074707\n",
      "0.08639717102050781\n",
      "0.08746528625488281\n"
     ]
    },
    {
     "name": "stderr",
     "output_type": "stream",
     "text": [
      "\n",
      " 46%|██████████████████▍                     | 460/1000 [00:39<00:47, 11.37it/s]\u001b[A"
     ]
    },
    {
     "name": "stdout",
     "output_type": "stream",
     "text": [
      "0.08807945251464844\n",
      "0.0855863094329834\n"
     ]
    },
    {
     "name": "stderr",
     "output_type": "stream",
     "text": [
      "\n",
      " 46%|██████████████████▍                     | 462/1000 [00:40<00:47, 11.35it/s]\u001b[A"
     ]
    },
    {
     "name": "stdout",
     "output_type": "stream",
     "text": [
      "0.08985733985900879\n"
     ]
    },
    {
     "name": "stderr",
     "output_type": "stream",
     "text": [
      "\n",
      " 46%|██████████████████▌                     | 464/1000 [00:40<00:47, 11.38it/s]\u001b[A"
     ]
    },
    {
     "name": "stdout",
     "output_type": "stream",
     "text": [
      "0.08750224113464355\n",
      "0.0858149528503418\n",
      "0.0882108211517334\n"
     ]
    },
    {
     "name": "stderr",
     "output_type": "stream",
     "text": [
      "\n",
      " 47%|██████████████████▋                     | 466/1000 [00:40<00:47, 11.34it/s]\u001b[A"
     ]
    },
    {
     "name": "stdout",
     "output_type": "stream",
     "text": [
      "0.08852601051330566\n",
      "0.08425331115722656\n"
     ]
    },
    {
     "name": "stderr",
     "output_type": "stream",
     "text": [
      "\n",
      " 47%|██████████████████▋                     | 468/1000 [00:40<00:46, 11.40it/s]\u001b[A"
     ]
    },
    {
     "name": "stdout",
     "output_type": "stream",
     "text": [
      "0.08768057823181152\n"
     ]
    },
    {
     "name": "stderr",
     "output_type": "stream",
     "text": [
      "\n",
      " 47%|██████████████████▊                     | 470/1000 [00:40<00:46, 11.43it/s]\u001b[A"
     ]
    },
    {
     "name": "stdout",
     "output_type": "stream",
     "text": [
      "0.0865166187286377\n",
      "0.0863499641418457\n",
      "0.08679771423339844\n"
     ]
    },
    {
     "name": "stderr",
     "output_type": "stream",
     "text": [
      "\n",
      " 47%|██████████████████▉                     | 472/1000 [00:40<00:46, 11.42it/s]\u001b[A"
     ]
    },
    {
     "name": "stdout",
     "output_type": "stream",
     "text": [
      "0.08754801750183105\n",
      "0.08495521545410156\n"
     ]
    },
    {
     "name": "stderr",
     "output_type": "stream",
     "text": [
      "\n",
      " 47%|██████████████████▉                     | 474/1000 [00:41<00:46, 11.43it/s]\u001b[A"
     ]
    },
    {
     "name": "stdout",
     "output_type": "stream",
     "text": [
      "0.08852195739746094\n"
     ]
    },
    {
     "name": "stderr",
     "output_type": "stream",
     "text": [
      "\n",
      " 48%|███████████████████                     | 476/1000 [00:41<00:45, 11.46it/s]\u001b[A"
     ]
    },
    {
     "name": "stdout",
     "output_type": "stream",
     "text": [
      "0.08662009239196777\n",
      "0.08595848083496094\n",
      "0.08637428283691406\n"
     ]
    },
    {
     "name": "stderr",
     "output_type": "stream",
     "text": [
      "\n",
      " 48%|███████████████████                     | 478/1000 [00:41<00:45, 11.41it/s]\u001b[A"
     ]
    },
    {
     "name": "stdout",
     "output_type": "stream",
     "text": [
      "0.08943986892700195\n",
      "0.0846712589263916\n"
     ]
    },
    {
     "name": "stderr",
     "output_type": "stream",
     "text": [
      "\n",
      " 48%|███████████████████▏                    | 480/1000 [00:41<00:45, 11.44it/s]\u001b[A"
     ]
    },
    {
     "name": "stdout",
     "output_type": "stream",
     "text": [
      "0.08784675598144531\n"
     ]
    },
    {
     "name": "stderr",
     "output_type": "stream",
     "text": [
      "\n",
      " 48%|███████████████████▎                    | 482/1000 [00:41<00:45, 11.45it/s]\u001b[A"
     ]
    },
    {
     "name": "stdout",
     "output_type": "stream",
     "text": [
      "0.08623218536376953\n",
      "0.08673882484436035\n",
      "0.08674478530883789\n"
     ]
    },
    {
     "name": "stderr",
     "output_type": "stream",
     "text": [
      "\n",
      " 48%|███████████████████▎                    | 484/1000 [00:41<00:45, 11.43it/s]\u001b[A"
     ]
    },
    {
     "name": "stdout",
     "output_type": "stream",
     "text": [
      "0.08789277076721191\n",
      "0.08670830726623535\n"
     ]
    },
    {
     "name": "stderr",
     "output_type": "stream",
     "text": [
      "\n",
      " 49%|███████████████████▍                    | 486/1000 [00:42<00:45, 11.31it/s]\u001b[A"
     ]
    },
    {
     "name": "stdout",
     "output_type": "stream",
     "text": [
      "0.09329867362976074\n"
     ]
    },
    {
     "name": "stderr",
     "output_type": "stream",
     "text": [
      "\n",
      " 49%|███████████████████▌                    | 488/1000 [00:42<00:45, 11.33it/s]\u001b[A"
     ]
    },
    {
     "name": "stdout",
     "output_type": "stream",
     "text": [
      "0.0877234935760498\n",
      "0.08722758293151855\n",
      "0.08766365051269531\n"
     ]
    },
    {
     "name": "stderr",
     "output_type": "stream",
     "text": [
      "\n",
      " 49%|███████████████████▌                    | 490/1000 [00:42<00:45, 11.30it/s]\u001b[A"
     ]
    },
    {
     "name": "stdout",
     "output_type": "stream",
     "text": [
      "0.08944010734558105\n",
      "0.08593988418579102\n"
     ]
    },
    {
     "name": "stderr",
     "output_type": "stream",
     "text": [
      "\n",
      " 49%|███████████████████▋                    | 492/1000 [00:42<00:44, 11.30it/s]\u001b[A"
     ]
    },
    {
     "name": "stdout",
     "output_type": "stream",
     "text": [
      "0.08957338333129883\n"
     ]
    },
    {
     "name": "stderr",
     "output_type": "stream",
     "text": [
      "\n",
      " 49%|███████████████████▊                    | 494/1000 [00:42<00:44, 11.29it/s]\u001b[A"
     ]
    },
    {
     "name": "stdout",
     "output_type": "stream",
     "text": [
      "0.08863639831542969\n",
      "0.08771729469299316\n",
      "0.08823537826538086\n"
     ]
    },
    {
     "name": "stderr",
     "output_type": "stream",
     "text": [
      "\n",
      " 50%|███████████████████▊                    | 496/1000 [00:43<00:44, 11.26it/s]\u001b[A"
     ]
    },
    {
     "name": "stdout",
     "output_type": "stream",
     "text": [
      "0.08941817283630371\n",
      "0.08467888832092285\n"
     ]
    },
    {
     "name": "stderr",
     "output_type": "stream",
     "text": [
      "\n",
      " 50%|███████████████████▉                    | 498/1000 [00:43<00:44, 11.30it/s]\u001b[A"
     ]
    },
    {
     "name": "stdout",
     "output_type": "stream",
     "text": [
      "0.08977270126342773\n"
     ]
    },
    {
     "name": "stderr",
     "output_type": "stream",
     "text": [
      "\n",
      " 50%|████████████████████                    | 500/1000 [00:43<00:44, 11.33it/s]\u001b[A"
     ]
    },
    {
     "name": "stdout",
     "output_type": "stream",
     "text": [
      "0.08795428276062012\n",
      "0.08650398254394531\n",
      "0.08829689025878906\n"
     ]
    },
    {
     "name": "stderr",
     "output_type": "stream",
     "text": [
      "\n",
      " 50%|████████████████████                    | 502/1000 [00:43<00:44, 11.28it/s]\u001b[A"
     ]
    },
    {
     "name": "stdout",
     "output_type": "stream",
     "text": [
      "0.08923888206481934\n",
      "0.08502316474914551\n"
     ]
    },
    {
     "name": "stderr",
     "output_type": "stream",
     "text": [
      "\n",
      " 50%|████████████████████▏                   | 504/1000 [00:43<00:43, 11.32it/s]\u001b[A"
     ]
    },
    {
     "name": "stdout",
     "output_type": "stream",
     "text": [
      "0.08898735046386719\n"
     ]
    },
    {
     "name": "stderr",
     "output_type": "stream",
     "text": [
      "\n",
      " 51%|████████████████████▏                   | 506/1000 [00:43<00:43, 11.32it/s]\u001b[A"
     ]
    },
    {
     "name": "stdout",
     "output_type": "stream",
     "text": [
      "0.08848690986633301\n",
      "0.08708810806274414\n",
      "0.08877825736999512\n"
     ]
    },
    {
     "name": "stderr",
     "output_type": "stream",
     "text": [
      "\n",
      " 51%|████████████████████▎                   | 508/1000 [00:44<00:43, 11.27it/s]\u001b[A"
     ]
    },
    {
     "name": "stdout",
     "output_type": "stream",
     "text": [
      "0.08939790725708008\n",
      "0.08545446395874023\n"
     ]
    },
    {
     "name": "stderr",
     "output_type": "stream",
     "text": [
      "\n",
      " 51%|████████████████████▍                   | 510/1000 [00:44<00:43, 11.32it/s]\u001b[A"
     ]
    },
    {
     "name": "stdout",
     "output_type": "stream",
     "text": [
      "0.08826518058776855\n"
     ]
    },
    {
     "name": "stderr",
     "output_type": "stream",
     "text": [
      "\n",
      " 51%|████████████████████▍                   | 512/1000 [00:44<00:43, 11.33it/s]\u001b[A"
     ]
    },
    {
     "name": "stdout",
     "output_type": "stream",
     "text": [
      "0.08742141723632812\n",
      "0.08727431297302246\n",
      "0.08800840377807617\n"
     ]
    },
    {
     "name": "stderr",
     "output_type": "stream",
     "text": [
      "\n",
      " 51%|████████████████████▌                   | 514/1000 [00:44<00:42, 11.31it/s]\u001b[A"
     ]
    },
    {
     "name": "stdout",
     "output_type": "stream",
     "text": [
      "0.08870863914489746\n",
      "0.08496332168579102\n"
     ]
    },
    {
     "name": "stderr",
     "output_type": "stream",
     "text": [
      "\n",
      " 52%|████████████████████▋                   | 516/1000 [00:44<00:42, 11.34it/s]\u001b[A"
     ]
    },
    {
     "name": "stdout",
     "output_type": "stream",
     "text": [
      "0.0885000228881836\n"
     ]
    },
    {
     "name": "stderr",
     "output_type": "stream",
     "text": [
      "\n",
      " 52%|████████████████████▋                   | 518/1000 [00:44<00:42, 11.35it/s]\u001b[A"
     ]
    },
    {
     "name": "stdout",
     "output_type": "stream",
     "text": [
      "0.08822131156921387\n",
      "0.08664870262145996\n",
      "0.08885741233825684\n"
     ]
    },
    {
     "name": "stderr",
     "output_type": "stream",
     "text": [
      "\n",
      " 52%|████████████████████▊                   | 520/1000 [00:45<00:42, 11.31it/s]\u001b[A"
     ]
    },
    {
     "name": "stdout",
     "output_type": "stream",
     "text": [
      "0.08849477767944336\n",
      "0.0865335464477539\n"
     ]
    },
    {
     "name": "stderr",
     "output_type": "stream",
     "text": [
      "\n",
      " 52%|████████████████████▉                   | 522/1000 [00:45<00:42, 11.30it/s]\u001b[A"
     ]
    },
    {
     "name": "stdout",
     "output_type": "stream",
     "text": [
      "0.08920907974243164\n"
     ]
    },
    {
     "name": "stderr",
     "output_type": "stream",
     "text": [
      "\n",
      " 52%|████████████████████▉                   | 524/1000 [00:45<00:41, 11.34it/s]\u001b[A"
     ]
    },
    {
     "name": "stdout",
     "output_type": "stream",
     "text": [
      "0.08762264251708984\n",
      "0.08643484115600586\n",
      "0.0873873233795166\n"
     ]
    },
    {
     "name": "stderr",
     "output_type": "stream",
     "text": [
      "\n",
      " 53%|█████████████████████                   | 526/1000 [00:45<00:41, 11.32it/s]\u001b[A"
     ]
    },
    {
     "name": "stdout",
     "output_type": "stream",
     "text": [
      "0.08874964714050293\n",
      "0.08587050437927246\n"
     ]
    },
    {
     "name": "stderr",
     "output_type": "stream",
     "text": [
      "\n",
      " 53%|█████████████████████                   | 528/1000 [00:45<00:41, 11.34it/s]\u001b[A"
     ]
    },
    {
     "name": "stdout",
     "output_type": "stream",
     "text": [
      "0.08865642547607422\n"
     ]
    },
    {
     "name": "stderr",
     "output_type": "stream",
     "text": [
      "\n",
      " 53%|█████████████████████▏                  | 530/1000 [00:46<00:41, 11.37it/s]\u001b[A"
     ]
    },
    {
     "name": "stdout",
     "output_type": "stream",
     "text": [
      "0.08769726753234863\n",
      "0.08616900444030762\n",
      "0.08663058280944824\n"
     ]
    },
    {
     "name": "stderr",
     "output_type": "stream",
     "text": [
      "\n",
      " 53%|█████████████████████▎                  | 532/1000 [00:46<00:41, 11.37it/s]\u001b[A"
     ]
    },
    {
     "name": "stdout",
     "output_type": "stream",
     "text": [
      "0.08780550956726074\n",
      "0.0847783088684082\n"
     ]
    },
    {
     "name": "stderr",
     "output_type": "stream",
     "text": [
      "\n",
      " 53%|█████████████████████▎                  | 534/1000 [00:46<00:40, 11.39it/s]\u001b[A"
     ]
    },
    {
     "name": "stdout",
     "output_type": "stream",
     "text": [
      "0.08877086639404297\n"
     ]
    },
    {
     "name": "stderr",
     "output_type": "stream",
     "text": [
      "\n",
      " 54%|█████████████████████▍                  | 536/1000 [00:46<00:40, 11.41it/s]\u001b[A"
     ]
    },
    {
     "name": "stdout",
     "output_type": "stream",
     "text": [
      "0.08693456649780273\n",
      "0.08687686920166016\n",
      "0.08781719207763672\n"
     ]
    },
    {
     "name": "stderr",
     "output_type": "stream",
     "text": [
      "\n",
      " 54%|█████████████████████▌                  | 538/1000 [00:46<00:40, 11.37it/s]\u001b[A"
     ]
    },
    {
     "name": "stdout",
     "output_type": "stream",
     "text": [
      "0.0880897045135498\n",
      "0.08603596687316895\n"
     ]
    },
    {
     "name": "stderr",
     "output_type": "stream",
     "text": [
      "\n",
      " 54%|█████████████████████▌                  | 540/1000 [00:46<00:40, 11.35it/s]\u001b[A"
     ]
    },
    {
     "name": "stdout",
     "output_type": "stream",
     "text": [
      "0.08956646919250488\n"
     ]
    },
    {
     "name": "stderr",
     "output_type": "stream",
     "text": [
      "\n",
      " 54%|█████████████████████▋                  | 542/1000 [00:47<00:40, 11.36it/s]\u001b[A"
     ]
    },
    {
     "name": "stdout",
     "output_type": "stream",
     "text": [
      "0.08701634407043457\n",
      "0.08750271797180176\n",
      "0.08824753761291504\n"
     ]
    },
    {
     "name": "stderr",
     "output_type": "stream",
     "text": [
      "\n",
      " 54%|█████████████████████▊                  | 544/1000 [00:47<00:40, 11.30it/s]\u001b[A"
     ]
    },
    {
     "name": "stdout",
     "output_type": "stream",
     "text": [
      "0.08948731422424316\n",
      "0.08510255813598633\n"
     ]
    },
    {
     "name": "stderr",
     "output_type": "stream",
     "text": [
      "\n",
      " 55%|█████████████████████▊                  | 546/1000 [00:47<00:40, 11.33it/s]\u001b[A"
     ]
    },
    {
     "name": "stdout",
     "output_type": "stream",
     "text": [
      "0.08894038200378418\n"
     ]
    },
    {
     "name": "stderr",
     "output_type": "stream",
     "text": [
      "\n",
      " 55%|█████████████████████▉                  | 548/1000 [00:47<00:39, 11.34it/s]\u001b[A"
     ]
    },
    {
     "name": "stdout",
     "output_type": "stream",
     "text": [
      "0.08765745162963867\n",
      "0.0876457691192627\n",
      "0.0877993106842041\n"
     ]
    },
    {
     "name": "stderr",
     "output_type": "stream",
     "text": [
      "\n",
      " 55%|██████████████████████                  | 550/1000 [00:47<00:39, 11.28it/s]\u001b[A"
     ]
    },
    {
     "name": "stdout",
     "output_type": "stream",
     "text": [
      "0.09026384353637695\n",
      "0.08405828475952148\n"
     ]
    },
    {
     "name": "stderr",
     "output_type": "stream",
     "text": [
      "\n",
      " 55%|██████████████████████                  | 552/1000 [00:47<00:39, 11.35it/s]\u001b[A"
     ]
    },
    {
     "name": "stdout",
     "output_type": "stream",
     "text": [
      "0.08840823173522949\n"
     ]
    },
    {
     "name": "stderr",
     "output_type": "stream",
     "text": [
      "\n",
      " 55%|██████████████████████▏                 | 554/1000 [00:48<00:39, 11.38it/s]\u001b[A"
     ]
    },
    {
     "name": "stdout",
     "output_type": "stream",
     "text": [
      "0.08634734153747559\n",
      "0.0872657299041748\n",
      "0.0873715877532959\n"
     ]
    },
    {
     "name": "stderr",
     "output_type": "stream",
     "text": [
      "\n",
      " 56%|██████████████████████▏                 | 556/1000 [00:48<00:39, 11.33it/s]\u001b[A"
     ]
    },
    {
     "name": "stdout",
     "output_type": "stream",
     "text": [
      "0.08957219123840332\n",
      "0.08588075637817383\n"
     ]
    },
    {
     "name": "stderr",
     "output_type": "stream",
     "text": [
      "\n",
      " 56%|██████████████████████▎                 | 558/1000 [00:48<00:39, 11.33it/s]\u001b[A"
     ]
    },
    {
     "name": "stdout",
     "output_type": "stream",
     "text": [
      "0.0894308090209961\n"
     ]
    },
    {
     "name": "stderr",
     "output_type": "stream",
     "text": [
      "\n",
      " 56%|██████████████████████▍                 | 560/1000 [00:48<00:38, 11.33it/s]\u001b[A"
     ]
    },
    {
     "name": "stdout",
     "output_type": "stream",
     "text": [
      "0.08863544464111328\n",
      "0.08651900291442871\n",
      "0.08796191215515137\n"
     ]
    },
    {
     "name": "stderr",
     "output_type": "stream",
     "text": [
      "\n",
      " 56%|██████████████████████▍                 | 562/1000 [00:48<00:38, 11.31it/s]\u001b[A"
     ]
    },
    {
     "name": "stdout",
     "output_type": "stream",
     "text": [
      "0.08859658241271973\n",
      "0.08590984344482422\n"
     ]
    },
    {
     "name": "stderr",
     "output_type": "stream",
     "text": [
      "\n",
      " 56%|██████████████████████▌                 | 564/1000 [00:49<00:38, 11.32it/s]\u001b[A"
     ]
    },
    {
     "name": "stdout",
     "output_type": "stream",
     "text": [
      "0.08924531936645508\n"
     ]
    },
    {
     "name": "stderr",
     "output_type": "stream",
     "text": [
      "\n",
      " 57%|██████████████████████▋                 | 566/1000 [00:49<00:38, 11.34it/s]\u001b[A"
     ]
    },
    {
     "name": "stdout",
     "output_type": "stream",
     "text": [
      "0.08849263191223145\n",
      "0.08585000038146973\n",
      "0.08774280548095703\n"
     ]
    },
    {
     "name": "stderr",
     "output_type": "stream",
     "text": [
      "\n",
      " 57%|██████████████████████▋                 | 568/1000 [00:49<00:38, 11.32it/s]\u001b[A"
     ]
    },
    {
     "name": "stdout",
     "output_type": "stream",
     "text": [
      "0.08822870254516602\n",
      "0.08573174476623535\n"
     ]
    },
    {
     "name": "stderr",
     "output_type": "stream",
     "text": [
      "\n",
      " 57%|██████████████████████▊                 | 570/1000 [00:49<00:38, 11.28it/s]\u001b[A"
     ]
    },
    {
     "name": "stdout",
     "output_type": "stream",
     "text": [
      "0.09193801879882812\n"
     ]
    },
    {
     "name": "stderr",
     "output_type": "stream",
     "text": [
      "\n",
      " 57%|██████████████████████▉                 | 572/1000 [00:49<00:37, 11.35it/s]\u001b[A"
     ]
    },
    {
     "name": "stdout",
     "output_type": "stream",
     "text": [
      "0.0866696834564209\n",
      "0.08617973327636719\n",
      "0.08803033828735352\n"
     ]
    },
    {
     "name": "stderr",
     "output_type": "stream",
     "text": [
      "\n",
      " 57%|██████████████████████▉                 | 574/1000 [00:49<00:37, 11.32it/s]\u001b[A"
     ]
    },
    {
     "name": "stdout",
     "output_type": "stream",
     "text": [
      "0.0882425308227539\n",
      "0.08512091636657715\n"
     ]
    },
    {
     "name": "stderr",
     "output_type": "stream",
     "text": [
      "\n",
      " 58%|███████████████████████                 | 576/1000 [00:50<00:37, 11.33it/s]\u001b[A"
     ]
    },
    {
     "name": "stdout",
     "output_type": "stream",
     "text": [
      "0.09006619453430176\n"
     ]
    },
    {
     "name": "stderr",
     "output_type": "stream",
     "text": [
      "\n",
      " 58%|███████████████████████                 | 578/1000 [00:50<00:37, 11.34it/s]\u001b[A"
     ]
    },
    {
     "name": "stdout",
     "output_type": "stream",
     "text": [
      "0.08820629119873047\n",
      "0.08669638633728027\n",
      "0.08777093887329102\n"
     ]
    },
    {
     "name": "stderr",
     "output_type": "stream",
     "text": [
      "\n",
      " 58%|███████████████████████▏                | 580/1000 [00:50<00:37, 11.31it/s]\u001b[A"
     ]
    },
    {
     "name": "stdout",
     "output_type": "stream",
     "text": [
      "0.08873319625854492\n",
      "0.08453106880187988\n"
     ]
    },
    {
     "name": "stderr",
     "output_type": "stream",
     "text": [
      "\n",
      " 58%|███████████████████████▎                | 582/1000 [00:50<00:36, 11.37it/s]\u001b[A"
     ]
    },
    {
     "name": "stdout",
     "output_type": "stream",
     "text": [
      "0.08799886703491211\n"
     ]
    },
    {
     "name": "stderr",
     "output_type": "stream",
     "text": [
      "\n",
      " 58%|███████████████████████▎                | 584/1000 [00:50<00:36, 11.37it/s]\u001b[A"
     ]
    },
    {
     "name": "stdout",
     "output_type": "stream",
     "text": [
      "0.08753585815429688\n",
      "0.08726072311401367\n",
      "0.08793258666992188\n"
     ]
    },
    {
     "name": "stderr",
     "output_type": "stream",
     "text": [
      "\n",
      " 59%|███████████████████████▍                | 586/1000 [00:50<00:36, 11.32it/s]\u001b[A"
     ]
    },
    {
     "name": "stdout",
     "output_type": "stream",
     "text": [
      "0.08946776390075684\n",
      "0.08506488800048828\n"
     ]
    },
    {
     "name": "stderr",
     "output_type": "stream",
     "text": [
      "\n",
      " 59%|███████████████████████▌                | 588/1000 [00:51<00:36, 11.35it/s]\u001b[A"
     ]
    },
    {
     "name": "stdout",
     "output_type": "stream",
     "text": [
      "0.08880162239074707\n"
     ]
    },
    {
     "name": "stderr",
     "output_type": "stream",
     "text": [
      "\n",
      " 59%|███████████████████████▌                | 590/1000 [00:51<00:36, 11.35it/s]\u001b[A"
     ]
    },
    {
     "name": "stdout",
     "output_type": "stream",
     "text": [
      "0.08696246147155762\n",
      "0.08814358711242676\n",
      "0.08841204643249512\n"
     ]
    },
    {
     "name": "stderr",
     "output_type": "stream",
     "text": [
      "\n",
      " 59%|███████████████████████▋                | 592/1000 [00:51<00:36, 11.31it/s]\u001b[A"
     ]
    },
    {
     "name": "stdout",
     "output_type": "stream",
     "text": [
      "0.08912110328674316\n",
      "0.08480644226074219\n"
     ]
    },
    {
     "name": "stderr",
     "output_type": "stream",
     "text": [
      "\n",
      " 59%|███████████████████████▊                | 594/1000 [00:51<00:35, 11.34it/s]\u001b[A"
     ]
    },
    {
     "name": "stdout",
     "output_type": "stream",
     "text": [
      "0.08931422233581543\n"
     ]
    },
    {
     "name": "stderr",
     "output_type": "stream",
     "text": [
      "\n",
      " 60%|███████████████████████▊                | 596/1000 [00:51<00:35, 11.34it/s]\u001b[A"
     ]
    },
    {
     "name": "stdout",
     "output_type": "stream",
     "text": [
      "0.08864641189575195\n",
      "0.08675765991210938\n",
      "0.08653640747070312\n"
     ]
    },
    {
     "name": "stderr",
     "output_type": "stream",
     "text": [
      "\n",
      " 60%|███████████████████████▉                | 598/1000 [00:52<00:35, 11.32it/s]\u001b[A"
     ]
    },
    {
     "name": "stdout",
     "output_type": "stream",
     "text": [
      "0.08933568000793457\n",
      "0.08495974540710449\n"
     ]
    },
    {
     "name": "stderr",
     "output_type": "stream",
     "text": [
      "\n",
      " 60%|████████████████████████                | 600/1000 [00:52<00:35, 11.36it/s]\u001b[A"
     ]
    },
    {
     "name": "stdout",
     "output_type": "stream",
     "text": [
      "0.08843111991882324\n"
     ]
    },
    {
     "name": "stderr",
     "output_type": "stream",
     "text": [
      "\n",
      " 60%|████████████████████████                | 602/1000 [00:52<00:35, 11.36it/s]\u001b[A"
     ]
    },
    {
     "name": "stdout",
     "output_type": "stream",
     "text": [
      "0.08814334869384766\n",
      "0.08661055564880371\n",
      "0.08756375312805176\n"
     ]
    },
    {
     "name": "stderr",
     "output_type": "stream",
     "text": [
      "\n",
      " 60%|████████████████████████▏               | 604/1000 [00:52<00:34, 11.32it/s]\u001b[A"
     ]
    },
    {
     "name": "stdout",
     "output_type": "stream",
     "text": [
      "0.08956170082092285\n",
      "0.08552956581115723\n"
     ]
    },
    {
     "name": "stderr",
     "output_type": "stream",
     "text": [
      "\n",
      " 61%|████████████████████████▏               | 606/1000 [00:52<00:34, 11.34it/s]\u001b[A"
     ]
    },
    {
     "name": "stdout",
     "output_type": "stream",
     "text": [
      "0.08923983573913574\n"
     ]
    },
    {
     "name": "stderr",
     "output_type": "stream",
     "text": [
      "\n",
      " 61%|████████████████████████▎               | 608/1000 [00:52<00:34, 11.35it/s]\u001b[A"
     ]
    },
    {
     "name": "stdout",
     "output_type": "stream",
     "text": [
      "0.08852505683898926\n",
      "0.08564019203186035\n",
      "0.08764863014221191\n"
     ]
    },
    {
     "name": "stderr",
     "output_type": "stream",
     "text": [
      "\n",
      " 61%|████████████████████████▍               | 610/1000 [00:53<00:34, 11.28it/s]\u001b[A"
     ]
    },
    {
     "name": "stdout",
     "output_type": "stream",
     "text": [
      "0.0913388729095459\n",
      "0.08523869514465332\n"
     ]
    },
    {
     "name": "stderr",
     "output_type": "stream",
     "text": [
      "\n",
      " 61%|████████████████████████▍               | 612/1000 [00:53<00:34, 11.34it/s]\u001b[A"
     ]
    },
    {
     "name": "stdout",
     "output_type": "stream",
     "text": [
      "0.08748269081115723\n"
     ]
    },
    {
     "name": "stderr",
     "output_type": "stream",
     "text": [
      "\n",
      " 61%|████████████████████████▌               | 614/1000 [00:53<00:33, 11.36it/s]\u001b[A"
     ]
    },
    {
     "name": "stdout",
     "output_type": "stream",
     "text": [
      "0.08637285232543945\n",
      "0.08775210380554199\n",
      "0.08745408058166504\n"
     ]
    },
    {
     "name": "stderr",
     "output_type": "stream",
     "text": [
      "\n",
      " 62%|████████████████████████▋               | 616/1000 [00:53<00:33, 11.35it/s]\u001b[A"
     ]
    },
    {
     "name": "stdout",
     "output_type": "stream",
     "text": [
      "0.08833646774291992\n",
      "0.08466625213623047\n"
     ]
    },
    {
     "name": "stderr",
     "output_type": "stream",
     "text": [
      "\n",
      " 62%|████████████████████████▋               | 618/1000 [00:53<00:33, 11.36it/s]\u001b[A"
     ]
    },
    {
     "name": "stdout",
     "output_type": "stream",
     "text": [
      "0.08954906463623047\n"
     ]
    },
    {
     "name": "stderr",
     "output_type": "stream",
     "text": [
      "\n",
      " 62%|████████████████████████▊               | 620/1000 [00:53<00:33, 11.39it/s]\u001b[A"
     ]
    },
    {
     "name": "stdout",
     "output_type": "stream",
     "text": [
      "0.0867300033569336\n",
      "0.08666276931762695\n",
      "0.08839702606201172\n"
     ]
    },
    {
     "name": "stderr",
     "output_type": "stream",
     "text": [
      "\n",
      " 62%|████████████████████████▉               | 622/1000 [00:54<00:33, 11.33it/s]\u001b[A"
     ]
    },
    {
     "name": "stdout",
     "output_type": "stream",
     "text": [
      "0.08912396430969238\n",
      "0.0888814926147461\n"
     ]
    },
    {
     "name": "stderr",
     "output_type": "stream",
     "text": [
      "\n",
      " 62%|████████████████████████▉               | 624/1000 [00:54<00:33, 11.25it/s]\u001b[A"
     ]
    },
    {
     "name": "stdout",
     "output_type": "stream",
     "text": [
      "0.09070205688476562\n"
     ]
    },
    {
     "name": "stderr",
     "output_type": "stream",
     "text": [
      "\n",
      " 63%|█████████████████████████               | 626/1000 [00:54<00:33, 11.28it/s]\u001b[A"
     ]
    },
    {
     "name": "stdout",
     "output_type": "stream",
     "text": [
      "0.08850336074829102\n",
      "0.08671355247497559\n",
      "0.08659863471984863\n"
     ]
    },
    {
     "name": "stderr",
     "output_type": "stream",
     "text": [
      "\n",
      " 63%|█████████████████████████               | 628/1000 [00:54<00:33, 11.25it/s]\u001b[A"
     ]
    },
    {
     "name": "stdout",
     "output_type": "stream",
     "text": [
      "0.09108281135559082\n",
      "0.08693528175354004\n"
     ]
    },
    {
     "name": "stderr",
     "output_type": "stream",
     "text": [
      "\n",
      " 63%|█████████████████████████▏              | 630/1000 [00:54<00:32, 11.22it/s]\u001b[A"
     ]
    },
    {
     "name": "stdout",
     "output_type": "stream",
     "text": [
      "0.09142708778381348\n"
     ]
    },
    {
     "name": "stderr",
     "output_type": "stream",
     "text": [
      "\n",
      " 63%|█████████████████████████▎              | 632/1000 [00:55<00:32, 11.19it/s]\u001b[A"
     ]
    },
    {
     "name": "stdout",
     "output_type": "stream",
     "text": [
      "0.08773970603942871\n",
      "0.09077310562133789\n",
      "0.08766746520996094\n"
     ]
    },
    {
     "name": "stderr",
     "output_type": "stream",
     "text": [
      "\n",
      " 63%|█████████████████████████▎              | 634/1000 [00:55<00:32, 11.17it/s]\u001b[A"
     ]
    },
    {
     "name": "stdout",
     "output_type": "stream",
     "text": [
      "0.09071207046508789\n",
      "0.08497118949890137\n"
     ]
    },
    {
     "name": "stderr",
     "output_type": "stream",
     "text": [
      "\n",
      " 64%|█████████████████████████▍              | 636/1000 [00:55<00:32, 11.26it/s]\u001b[A"
     ]
    },
    {
     "name": "stdout",
     "output_type": "stream",
     "text": [
      "0.08810710906982422\n"
     ]
    },
    {
     "name": "stderr",
     "output_type": "stream",
     "text": [
      "\n",
      " 64%|█████████████████████████▌              | 638/1000 [00:55<00:32, 11.24it/s]\u001b[A"
     ]
    },
    {
     "name": "stdout",
     "output_type": "stream",
     "text": [
      "0.08933830261230469\n",
      "0.08806848526000977\n",
      "0.08674931526184082\n"
     ]
    },
    {
     "name": "stderr",
     "output_type": "stream",
     "text": [
      "\n",
      " 64%|█████████████████████████▌              | 640/1000 [00:55<00:31, 11.26it/s]\u001b[A"
     ]
    },
    {
     "name": "stdout",
     "output_type": "stream",
     "text": [
      "0.08896732330322266\n",
      "0.08524680137634277\n"
     ]
    },
    {
     "name": "stderr",
     "output_type": "stream",
     "text": [
      "\n",
      " 64%|█████████████████████████▋              | 642/1000 [00:55<00:31, 11.30it/s]\u001b[A"
     ]
    },
    {
     "name": "stdout",
     "output_type": "stream",
     "text": [
      "0.08917927742004395\n"
     ]
    },
    {
     "name": "stderr",
     "output_type": "stream",
     "text": [
      "\n",
      " 64%|█████████████████████████▊              | 644/1000 [00:56<00:31, 11.33it/s]\u001b[A"
     ]
    },
    {
     "name": "stdout",
     "output_type": "stream",
     "text": [
      "0.08812689781188965\n",
      "0.08623385429382324\n",
      "0.08626437187194824\n"
     ]
    },
    {
     "name": "stderr",
     "output_type": "stream",
     "text": [
      "\n",
      " 65%|█████████████████████████▊              | 646/1000 [00:56<00:31, 11.34it/s]\u001b[A"
     ]
    },
    {
     "name": "stdout",
     "output_type": "stream",
     "text": [
      "0.08844375610351562\n",
      "0.08517932891845703\n"
     ]
    },
    {
     "name": "stderr",
     "output_type": "stream",
     "text": [
      "\n",
      " 65%|█████████████████████████▉              | 648/1000 [00:56<00:30, 11.38it/s]\u001b[A"
     ]
    },
    {
     "name": "stdout",
     "output_type": "stream",
     "text": [
      "0.0878751277923584\n"
     ]
    },
    {
     "name": "stderr",
     "output_type": "stream",
     "text": [
      "\n",
      " 65%|██████████████████████████              | 650/1000 [00:56<00:30, 11.32it/s]\u001b[A"
     ]
    },
    {
     "name": "stdout",
     "output_type": "stream",
     "text": [
      "0.08872056007385254\n",
      "0.0889747142791748\n",
      "0.08727192878723145\n"
     ]
    },
    {
     "name": "stderr",
     "output_type": "stream",
     "text": [
      "\n",
      " 65%|██████████████████████████              | 652/1000 [00:56<00:30, 11.28it/s]\u001b[A"
     ]
    },
    {
     "name": "stdout",
     "output_type": "stream",
     "text": [
      "0.09009599685668945\n",
      "0.08603882789611816\n"
     ]
    },
    {
     "name": "stderr",
     "output_type": "stream",
     "text": [
      "\n",
      " 65%|██████████████████████████▏             | 654/1000 [00:56<00:30, 11.32it/s]\u001b[A"
     ]
    },
    {
     "name": "stdout",
     "output_type": "stream",
     "text": [
      "0.08814144134521484\n"
     ]
    },
    {
     "name": "stderr",
     "output_type": "stream",
     "text": [
      "\n",
      " 66%|██████████████████████████▏             | 656/1000 [00:57<00:30, 11.34it/s]\u001b[A"
     ]
    },
    {
     "name": "stdout",
     "output_type": "stream",
     "text": [
      "0.08693432807922363\n",
      "0.08675742149353027\n",
      "0.08608555793762207\n"
     ]
    },
    {
     "name": "stderr",
     "output_type": "stream",
     "text": [
      "\n",
      " 66%|██████████████████████████▎             | 658/1000 [00:57<00:30, 11.35it/s]\u001b[A"
     ]
    },
    {
     "name": "stdout",
     "output_type": "stream",
     "text": [
      "0.08847308158874512\n",
      "0.08589339256286621\n"
     ]
    },
    {
     "name": "stderr",
     "output_type": "stream",
     "text": [
      "\n",
      " 66%|██████████████████████████▍             | 660/1000 [00:57<00:29, 11.38it/s]\u001b[A"
     ]
    },
    {
     "name": "stdout",
     "output_type": "stream",
     "text": [
      "0.08760881423950195\n"
     ]
    },
    {
     "name": "stderr",
     "output_type": "stream",
     "text": [
      "\n",
      " 66%|██████████████████████████▍             | 662/1000 [00:57<00:29, 11.40it/s]\u001b[A"
     ]
    },
    {
     "name": "stdout",
     "output_type": "stream",
     "text": [
      "0.08686184883117676\n",
      "0.08670306205749512\n",
      "0.08712458610534668\n"
     ]
    },
    {
     "name": "stderr",
     "output_type": "stream",
     "text": [
      "\n",
      " 66%|██████████████████████████▌             | 664/1000 [00:57<00:29, 11.36it/s]\u001b[A"
     ]
    },
    {
     "name": "stdout",
     "output_type": "stream",
     "text": [
      "0.08913946151733398\n",
      "0.08630847930908203\n"
     ]
    },
    {
     "name": "stderr",
     "output_type": "stream",
     "text": [
      "\n",
      " 67%|██████████████████████████▋             | 666/1000 [00:58<00:29, 11.39it/s]\u001b[A"
     ]
    },
    {
     "name": "stdout",
     "output_type": "stream",
     "text": [
      "0.08672094345092773\n"
     ]
    },
    {
     "name": "stderr",
     "output_type": "stream",
     "text": [
      "\n",
      " 67%|██████████████████████████▋             | 668/1000 [00:58<00:29, 11.42it/s]\u001b[A"
     ]
    },
    {
     "name": "stdout",
     "output_type": "stream",
     "text": [
      "0.08716011047363281\n",
      "0.08603572845458984\n",
      "0.0857703685760498\n"
     ]
    },
    {
     "name": "stderr",
     "output_type": "stream",
     "text": [
      "\n",
      " 67%|██████████████████████████▊             | 670/1000 [00:58<00:28, 11.42it/s]\u001b[A"
     ]
    },
    {
     "name": "stdout",
     "output_type": "stream",
     "text": [
      "0.08824563026428223\n",
      "0.0855097770690918\n"
     ]
    },
    {
     "name": "stderr",
     "output_type": "stream",
     "text": [
      "\n",
      " 67%|██████████████████████████▉             | 672/1000 [00:58<00:28, 11.47it/s]\u001b[A"
     ]
    },
    {
     "name": "stdout",
     "output_type": "stream",
     "text": [
      "0.08619117736816406\n"
     ]
    },
    {
     "name": "stderr",
     "output_type": "stream",
     "text": [
      "\n",
      " 67%|██████████████████████████▉             | 674/1000 [00:58<00:28, 11.47it/s]\u001b[A"
     ]
    },
    {
     "name": "stdout",
     "output_type": "stream",
     "text": [
      "0.08695840835571289\n",
      "0.0862264633178711\n",
      "0.08649945259094238\n"
     ]
    },
    {
     "name": "stderr",
     "output_type": "stream",
     "text": [
      "\n",
      " 68%|███████████████████████████             | 676/1000 [00:58<00:28, 11.43it/s]\u001b[A"
     ]
    },
    {
     "name": "stdout",
     "output_type": "stream",
     "text": [
      "0.08874249458312988\n",
      "0.0847160816192627\n"
     ]
    },
    {
     "name": "stderr",
     "output_type": "stream",
     "text": [
      "\n",
      " 68%|███████████████████████████             | 678/1000 [00:59<00:28, 11.47it/s]\u001b[A"
     ]
    },
    {
     "name": "stdout",
     "output_type": "stream",
     "text": [
      "0.08690071105957031\n"
     ]
    },
    {
     "name": "stderr",
     "output_type": "stream",
     "text": [
      "\n",
      " 68%|███████████████████████████▏            | 680/1000 [00:59<00:27, 11.46it/s]\u001b[A"
     ]
    },
    {
     "name": "stdout",
     "output_type": "stream",
     "text": [
      "0.08665752410888672\n",
      "0.08680582046508789\n",
      "0.08666801452636719\n"
     ]
    },
    {
     "name": "stderr",
     "output_type": "stream",
     "text": [
      "\n",
      " 68%|███████████████████████████▎            | 682/1000 [00:59<00:27, 11.45it/s]\u001b[A"
     ]
    },
    {
     "name": "stdout",
     "output_type": "stream",
     "text": [
      "0.08739757537841797\n",
      "0.08638596534729004\n"
     ]
    },
    {
     "name": "stderr",
     "output_type": "stream",
     "text": [
      "\n",
      " 68%|███████████████████████████▎            | 684/1000 [00:59<00:27, 11.49it/s]\u001b[A"
     ]
    },
    {
     "name": "stdout",
     "output_type": "stream",
     "text": [
      "0.08527302742004395\n"
     ]
    },
    {
     "name": "stderr",
     "output_type": "stream",
     "text": [
      "\n",
      " 69%|███████████████████████████▍            | 686/1000 [00:59<00:27, 11.45it/s]\u001b[A"
     ]
    },
    {
     "name": "stdout",
     "output_type": "stream",
     "text": [
      "0.0875399112701416\n",
      "0.08689212799072266\n",
      "0.0866079330444336\n"
     ]
    },
    {
     "name": "stderr",
     "output_type": "stream",
     "text": [
      "\n",
      " 69%|███████████████████████████▌            | 688/1000 [00:59<00:27, 11.43it/s]\u001b[A"
     ]
    },
    {
     "name": "stdout",
     "output_type": "stream",
     "text": [
      "0.08779525756835938\n",
      "0.08688044548034668\n"
     ]
    },
    {
     "name": "stderr",
     "output_type": "stream",
     "text": [
      "\n",
      " 69%|███████████████████████████▌            | 690/1000 [01:00<00:27, 11.45it/s]\u001b[A"
     ]
    },
    {
     "name": "stdout",
     "output_type": "stream",
     "text": [
      "0.08585023880004883\n"
     ]
    },
    {
     "name": "stderr",
     "output_type": "stream",
     "text": [
      "\n",
      " 69%|███████████████████████████▋            | 692/1000 [01:00<00:26, 11.44it/s]\u001b[A"
     ]
    },
    {
     "name": "stdout",
     "output_type": "stream",
     "text": [
      "0.0869760513305664\n",
      "0.08686470985412598\n",
      "0.08597493171691895\n"
     ]
    },
    {
     "name": "stderr",
     "output_type": "stream",
     "text": [
      "\n",
      " 69%|███████████████████████████▊            | 694/1000 [01:00<00:26, 11.45it/s]\u001b[A"
     ]
    },
    {
     "name": "stdout",
     "output_type": "stream",
     "text": [
      "0.08701729774475098\n",
      "0.08711719512939453\n"
     ]
    },
    {
     "name": "stderr",
     "output_type": "stream",
     "text": [
      "\n",
      " 70%|███████████████████████████▊            | 696/1000 [01:00<00:26, 11.48it/s]\u001b[A"
     ]
    },
    {
     "name": "stdout",
     "output_type": "stream",
     "text": [
      "0.08506131172180176\n"
     ]
    },
    {
     "name": "stderr",
     "output_type": "stream",
     "text": [
      "\n",
      " 70%|███████████████████████████▉            | 698/1000 [01:00<00:26, 11.45it/s]\u001b[A"
     ]
    },
    {
     "name": "stdout",
     "output_type": "stream",
     "text": [
      "0.08878040313720703\n",
      "0.08528947830200195\n",
      "0.08801007270812988\n"
     ]
    },
    {
     "name": "stderr",
     "output_type": "stream",
     "text": [
      "\n",
      " 70%|████████████████████████████            | 700/1000 [01:01<00:26, 11.40it/s]\u001b[A"
     ]
    },
    {
     "name": "stdout",
     "output_type": "stream",
     "text": [
      "0.08797478675842285\n",
      "0.08790230751037598\n"
     ]
    },
    {
     "name": "stderr",
     "output_type": "stream",
     "text": [
      "\n",
      " 70%|████████████████████████████            | 702/1000 [01:01<00:26, 11.41it/s]\u001b[A"
     ]
    },
    {
     "name": "stdout",
     "output_type": "stream",
     "text": [
      "0.08569526672363281\n"
     ]
    },
    {
     "name": "stderr",
     "output_type": "stream",
     "text": [
      "\n",
      " 70%|████████████████████████████▏           | 704/1000 [01:01<00:25, 11.41it/s]\u001b[A"
     ]
    },
    {
     "name": "stdout",
     "output_type": "stream",
     "text": [
      "0.08859682083129883\n",
      "0.08513140678405762\n",
      "0.08926630020141602\n"
     ]
    },
    {
     "name": "stderr",
     "output_type": "stream",
     "text": [
      "\n",
      " 71%|████████████████████████████▏           | 706/1000 [01:01<00:25, 11.39it/s]\u001b[A"
     ]
    },
    {
     "name": "stdout",
     "output_type": "stream",
     "text": [
      "0.08607053756713867\n",
      "0.08918976783752441\n"
     ]
    },
    {
     "name": "stderr",
     "output_type": "stream",
     "text": [
      "\n",
      " 71%|████████████████████████████▎           | 708/1000 [01:01<00:25, 11.40it/s]\u001b[A"
     ]
    },
    {
     "name": "stdout",
     "output_type": "stream",
     "text": [
      "0.08495283126831055\n"
     ]
    },
    {
     "name": "stderr",
     "output_type": "stream",
     "text": [
      "\n",
      " 71%|████████████████████████████▍           | 710/1000 [01:01<00:25, 11.36it/s]\u001b[A"
     ]
    },
    {
     "name": "stdout",
     "output_type": "stream",
     "text": [
      "0.09062886238098145\n",
      "0.08543729782104492\n",
      "0.08848214149475098\n"
     ]
    },
    {
     "name": "stderr",
     "output_type": "stream",
     "text": [
      "\n",
      " 71%|████████████████████████████▍           | 712/1000 [01:02<00:25, 11.36it/s]\u001b[A"
     ]
    },
    {
     "name": "stdout",
     "output_type": "stream",
     "text": [
      "0.08658862113952637\n",
      "0.0908658504486084\n"
     ]
    },
    {
     "name": "stderr",
     "output_type": "stream",
     "text": [
      "\n",
      " 71%|████████████████████████████▌           | 714/1000 [01:02<00:25, 11.32it/s]\u001b[A"
     ]
    },
    {
     "name": "stdout",
     "output_type": "stream",
     "text": [
      "0.08615756034851074\n"
     ]
    },
    {
     "name": "stderr",
     "output_type": "stream",
     "text": [
      "\n",
      " 72%|████████████████████████████▋           | 716/1000 [01:02<00:25, 11.30it/s]\u001b[A"
     ]
    },
    {
     "name": "stdout",
     "output_type": "stream",
     "text": [
      "0.09109020233154297\n",
      "0.08556580543518066\n"
     ]
    },
    {
     "name": "stderr",
     "output_type": "stream",
     "text": [
      "\n",
      " 72%|████████████████████████████▋           | 718/1000 [01:02<00:30,  9.25it/s]\u001b[A"
     ]
    },
    {
     "name": "stdout",
     "output_type": "stream",
     "text": [
      "0.22286391258239746\n",
      "0.08343029022216797\n",
      "0.08952188491821289\n"
     ]
    },
    {
     "name": "stderr",
     "output_type": "stream",
     "text": [
      "\n",
      " 72%|████████████████████████████▊           | 720/1000 [01:02<00:28,  9.76it/s]\u001b[A\n",
      " 72%|████████████████████████████▉           | 722/1000 [01:03<00:27, 10.23it/s]\u001b[A"
     ]
    },
    {
     "name": "stdout",
     "output_type": "stream",
     "text": [
      "0.08775758743286133\n",
      "0.08847832679748535\n",
      "0.08426165580749512\n"
     ]
    },
    {
     "name": "stderr",
     "output_type": "stream",
     "text": [
      "\n",
      " 72%|████████████████████████████▉           | 724/1000 [01:03<00:26, 10.47it/s]\u001b[A"
     ]
    },
    {
     "name": "stdout",
     "output_type": "stream",
     "text": [
      "0.09586787223815918\n",
      "0.08289575576782227\n",
      "0.09003949165344238\n"
     ]
    },
    {
     "name": "stderr",
     "output_type": "stream",
     "text": [
      "\n",
      " 73%|█████████████████████████████           | 726/1000 [01:03<00:25, 10.69it/s]\u001b[A\n",
      " 73%|█████████████████████████████           | 728/1000 [01:03<00:24, 10.89it/s]\u001b[A"
     ]
    },
    {
     "name": "stdout",
     "output_type": "stream",
     "text": [
      "0.08715128898620605\n",
      "0.09054756164550781\n",
      "0.08400559425354004\n"
     ]
    },
    {
     "name": "stderr",
     "output_type": "stream",
     "text": [
      "\n",
      " 73%|█████████████████████████████▏          | 730/1000 [01:03<00:24, 10.90it/s]\u001b[A"
     ]
    },
    {
     "name": "stdout",
     "output_type": "stream",
     "text": [
      "0.09266829490661621\n",
      "0.08913278579711914\n",
      "0.09045052528381348\n"
     ]
    },
    {
     "name": "stderr",
     "output_type": "stream",
     "text": [
      "\n",
      " 73%|█████████████████████████████▎          | 732/1000 [01:03<00:24, 10.97it/s]\u001b[A\n",
      " 73%|█████████████████████████████▎          | 734/1000 [01:04<00:24, 11.04it/s]\u001b[A"
     ]
    },
    {
     "name": "stdout",
     "output_type": "stream",
     "text": [
      "0.08817839622497559\n",
      "0.09224486351013184\n",
      "0.08490800857543945\n"
     ]
    },
    {
     "name": "stderr",
     "output_type": "stream",
     "text": [
      "\n",
      " 74%|█████████████████████████████▍          | 736/1000 [01:04<00:23, 11.05it/s]\u001b[A"
     ]
    },
    {
     "name": "stdout",
     "output_type": "stream",
     "text": [
      "0.09588074684143066\n",
      "0.08382034301757812\n",
      "0.08866381645202637\n"
     ]
    },
    {
     "name": "stderr",
     "output_type": "stream",
     "text": [
      "\n",
      " 74%|█████████████████████████████▌          | 738/1000 [01:04<00:23, 11.13it/s]\u001b[A\n",
      " 74%|█████████████████████████████▌          | 740/1000 [01:04<00:23, 11.26it/s]\u001b[A"
     ]
    },
    {
     "name": "stdout",
     "output_type": "stream",
     "text": [
      "0.08665680885314941\n",
      "0.08770418167114258\n",
      "0.08390665054321289\n"
     ]
    },
    {
     "name": "stderr",
     "output_type": "stream",
     "text": [
      "\n",
      " 74%|█████████████████████████████▋          | 742/1000 [01:04<00:22, 11.25it/s]\u001b[A"
     ]
    },
    {
     "name": "stdout",
     "output_type": "stream",
     "text": [
      "0.09224152565002441\n",
      "0.08466529846191406\n",
      "0.09102582931518555\n"
     ]
    },
    {
     "name": "stderr",
     "output_type": "stream",
     "text": [
      "\n",
      " 74%|█████████████████████████████▊          | 744/1000 [01:05<00:22, 11.23it/s]\u001b[A\n",
      " 75%|█████████████████████████████▊          | 746/1000 [01:05<00:22, 11.31it/s]\u001b[A"
     ]
    },
    {
     "name": "stdout",
     "output_type": "stream",
     "text": [
      "0.0868222713470459\n",
      "0.08842086791992188\n",
      "0.0840904712677002\n"
     ]
    },
    {
     "name": "stderr",
     "output_type": "stream",
     "text": [
      "\n",
      " 75%|█████████████████████████████▉          | 748/1000 [01:05<00:22, 11.35it/s]\u001b[A"
     ]
    },
    {
     "name": "stdout",
     "output_type": "stream",
     "text": [
      "0.09051752090454102\n",
      "0.08303380012512207\n",
      "0.08818936347961426\n"
     ]
    },
    {
     "name": "stderr",
     "output_type": "stream",
     "text": [
      "\n",
      " 75%|██████████████████████████████          | 750/1000 [01:05<00:21, 11.37it/s]\u001b[A\n",
      " 75%|██████████████████████████████          | 752/1000 [01:05<00:21, 11.43it/s]\u001b[A"
     ]
    },
    {
     "name": "stdout",
     "output_type": "stream",
     "text": [
      "0.0858759880065918\n",
      "0.08738446235656738\n",
      "0.08380317687988281\n"
     ]
    },
    {
     "name": "stderr",
     "output_type": "stream",
     "text": [
      "\n",
      " 75%|██████████████████████████████▏         | 754/1000 [01:05<00:21, 11.42it/s]\u001b[A"
     ]
    },
    {
     "name": "stdout",
     "output_type": "stream",
     "text": [
      "0.09011268615722656\n",
      "0.0840914249420166\n",
      "0.08693242073059082\n"
     ]
    },
    {
     "name": "stderr",
     "output_type": "stream",
     "text": [
      "\n",
      " 76%|██████████████████████████████▏         | 756/1000 [01:06<00:21, 11.40it/s]\u001b[A\n",
      " 76%|██████████████████████████████▎         | 758/1000 [01:06<00:21, 11.47it/s]\u001b[A"
     ]
    },
    {
     "name": "stdout",
     "output_type": "stream",
     "text": [
      "0.08810615539550781\n",
      "0.08840632438659668\n",
      "0.08277177810668945\n"
     ]
    },
    {
     "name": "stderr",
     "output_type": "stream",
     "text": [
      "\n",
      " 76%|██████████████████████████████▍         | 760/1000 [01:06<00:20, 11.45it/s]\u001b[A"
     ]
    },
    {
     "name": "stdout",
     "output_type": "stream",
     "text": [
      "0.0895230770111084\n",
      "0.08454608917236328\n",
      "0.08750128746032715\n"
     ]
    },
    {
     "name": "stderr",
     "output_type": "stream",
     "text": [
      "\n",
      " 76%|██████████████████████████████▍         | 762/1000 [01:06<00:20, 11.43it/s]\u001b[A\n",
      " 76%|██████████████████████████████▌         | 764/1000 [01:06<00:20, 11.49it/s]\u001b[A"
     ]
    },
    {
     "name": "stdout",
     "output_type": "stream",
     "text": [
      "0.08675122261047363\n",
      "0.08694028854370117\n",
      "0.08379697799682617\n"
     ]
    },
    {
     "name": "stderr",
     "output_type": "stream",
     "text": [
      "\n",
      " 77%|██████████████████████████████▋         | 766/1000 [01:06<00:20, 11.42it/s]\u001b[A"
     ]
    },
    {
     "name": "stdout",
     "output_type": "stream",
     "text": [
      "0.09017443656921387\n",
      "0.0863187313079834\n",
      "0.08709859848022461\n"
     ]
    },
    {
     "name": "stderr",
     "output_type": "stream",
     "text": [
      "\n",
      " 77%|██████████████████████████████▋         | 768/1000 [01:07<00:20, 11.41it/s]\u001b[A\n",
      " 77%|██████████████████████████████▊         | 770/1000 [01:07<00:20, 11.42it/s]\u001b[A"
     ]
    },
    {
     "name": "stdout",
     "output_type": "stream",
     "text": [
      "0.0875711441040039\n",
      "0.08714628219604492\n",
      "0.08659934997558594\n"
     ]
    },
    {
     "name": "stderr",
     "output_type": "stream",
     "text": [
      "\n",
      " 77%|██████████████████████████████▉         | 772/1000 [01:07<00:19, 11.42it/s]\u001b[A"
     ]
    },
    {
     "name": "stdout",
     "output_type": "stream",
     "text": [
      "0.08767914772033691\n",
      "0.08640480041503906\n",
      "0.08548784255981445\n"
     ]
    },
    {
     "name": "stderr",
     "output_type": "stream",
     "text": [
      "\n",
      " 77%|██████████████████████████████▉         | 774/1000 [01:07<00:19, 11.46it/s]\u001b[A\n",
      " 78%|███████████████████████████████         | 776/1000 [01:07<00:19, 11.49it/s]\u001b[A"
     ]
    },
    {
     "name": "stdout",
     "output_type": "stream",
     "text": [
      "0.08676767349243164\n",
      "0.08579325675964355\n",
      "0.0858149528503418\n"
     ]
    },
    {
     "name": "stderr",
     "output_type": "stream",
     "text": [
      "\n",
      " 78%|███████████████████████████████         | 778/1000 [01:08<00:19, 11.45it/s]\u001b[A"
     ]
    },
    {
     "name": "stdout",
     "output_type": "stream",
     "text": [
      "0.08802366256713867\n",
      "0.08694291114807129\n",
      "0.08357071876525879\n"
     ]
    },
    {
     "name": "stderr",
     "output_type": "stream",
     "text": [
      "\n",
      " 78%|███████████████████████████████▏        | 780/1000 [01:08<00:19, 11.50it/s]\u001b[A\n",
      " 78%|███████████████████████████████▎        | 782/1000 [01:08<00:18, 11.52it/s]\u001b[A"
     ]
    },
    {
     "name": "stdout",
     "output_type": "stream",
     "text": [
      "0.08756637573242188\n",
      "0.08563876152038574\n",
      "0.08612799644470215\n"
     ]
    },
    {
     "name": "stderr",
     "output_type": "stream",
     "text": [
      "\n",
      " 78%|███████████████████████████████▎        | 784/1000 [01:08<00:18, 11.50it/s]\u001b[A"
     ]
    },
    {
     "name": "stdout",
     "output_type": "stream",
     "text": [
      "0.08688712120056152\n",
      "0.0865335464477539\n",
      "0.08411431312561035\n"
     ]
    },
    {
     "name": "stderr",
     "output_type": "stream",
     "text": [
      "\n",
      " 79%|███████████████████████████████▍        | 786/1000 [01:08<00:18, 11.50it/s]\u001b[A\n",
      " 79%|███████████████████████████████▌        | 788/1000 [01:08<00:18, 11.52it/s]\u001b[A"
     ]
    },
    {
     "name": "stdout",
     "output_type": "stream",
     "text": [
      "0.08846473693847656\n",
      "0.0863347053527832\n",
      "0.08544230461120605\n"
     ]
    },
    {
     "name": "stderr",
     "output_type": "stream",
     "text": [
      "\n",
      " 79%|███████████████████████████████▌        | 790/1000 [01:09<00:18, 11.46it/s]\u001b[A"
     ]
    },
    {
     "name": "stdout",
     "output_type": "stream",
     "text": [
      "0.08779025077819824\n",
      "0.08787226676940918\n",
      "0.08524250984191895\n"
     ]
    },
    {
     "name": "stderr",
     "output_type": "stream",
     "text": [
      "\n",
      " 79%|███████████████████████████████▋        | 792/1000 [01:09<00:18, 11.47it/s]\u001b[A\n",
      " 79%|███████████████████████████████▊        | 794/1000 [01:09<00:17, 11.51it/s]\u001b[A"
     ]
    },
    {
     "name": "stdout",
     "output_type": "stream",
     "text": [
      "0.08775973320007324\n",
      "0.08631563186645508\n",
      "0.08494877815246582\n"
     ]
    },
    {
     "name": "stderr",
     "output_type": "stream",
     "text": [
      "\n",
      " 80%|███████████████████████████████▊        | 796/1000 [01:09<00:17, 11.51it/s]\u001b[A"
     ]
    },
    {
     "name": "stdout",
     "output_type": "stream",
     "text": [
      "0.08565926551818848\n",
      "0.08687543869018555\n",
      "0.08977675437927246\n"
     ]
    },
    {
     "name": "stderr",
     "output_type": "stream",
     "text": [
      "\n",
      " 80%|███████████████████████████████▉        | 798/1000 [01:09<00:17, 11.40it/s]\u001b[A\n",
      " 80%|████████████████████████████████        | 800/1000 [01:09<00:17, 11.39it/s]\u001b[A"
     ]
    },
    {
     "name": "stdout",
     "output_type": "stream",
     "text": [
      "0.08870673179626465\n",
      "0.08683347702026367\n",
      "0.0874183177947998\n"
     ]
    },
    {
     "name": "stderr",
     "output_type": "stream",
     "text": [
      "\n",
      " 80%|████████████████████████████████        | 802/1000 [01:10<00:17, 11.38it/s]\u001b[A"
     ]
    },
    {
     "name": "stdout",
     "output_type": "stream",
     "text": [
      "0.08755016326904297\n",
      "0.08749675750732422\n",
      "0.08362436294555664\n"
     ]
    },
    {
     "name": "stderr",
     "output_type": "stream",
     "text": [
      "\n",
      " 80%|████████████████████████████████▏       | 804/1000 [01:10<00:17, 11.45it/s]\u001b[A\n",
      " 81%|████████████████████████████████▏       | 806/1000 [01:10<00:16, 11.52it/s]\u001b[A"
     ]
    },
    {
     "name": "stdout",
     "output_type": "stream",
     "text": [
      "0.08750605583190918\n",
      "0.0837409496307373\n",
      "0.08595538139343262\n"
     ]
    },
    {
     "name": "stderr",
     "output_type": "stream",
     "text": [
      "\n",
      " 81%|████████████████████████████████▎       | 808/1000 [01:10<00:16, 11.52it/s]\u001b[A"
     ]
    },
    {
     "name": "stdout",
     "output_type": "stream",
     "text": [
      "0.08524703979492188\n",
      "0.08732271194458008\n",
      "0.08499431610107422\n"
     ]
    },
    {
     "name": "stderr",
     "output_type": "stream",
     "text": [
      "\n",
      " 81%|████████████████████████████████▍       | 810/1000 [01:10<00:16, 11.52it/s]\u001b[A\n",
      " 81%|████████████████████████████████▍       | 812/1000 [01:10<00:16, 11.52it/s]\u001b[A"
     ]
    },
    {
     "name": "stdout",
     "output_type": "stream",
     "text": [
      "0.08749508857727051\n",
      "0.0859372615814209\n",
      "0.08649396896362305\n"
     ]
    },
    {
     "name": "stderr",
     "output_type": "stream",
     "text": [
      "\n",
      " 81%|████████████████████████████████▌       | 814/1000 [01:11<00:16, 11.50it/s]\u001b[A"
     ]
    },
    {
     "name": "stdout",
     "output_type": "stream",
     "text": [
      "0.08703136444091797\n",
      "0.0862431526184082\n",
      "0.08493566513061523\n"
     ]
    },
    {
     "name": "stderr",
     "output_type": "stream",
     "text": [
      "\n",
      " 82%|████████████████████████████████▋       | 816/1000 [01:11<00:15, 11.53it/s]\u001b[A\n",
      " 82%|████████████████████████████████▋       | 818/1000 [01:11<00:15, 11.54it/s]\u001b[A"
     ]
    },
    {
     "name": "stdout",
     "output_type": "stream",
     "text": [
      "0.08595561981201172\n",
      "0.0859076976776123\n",
      "0.08623290061950684\n"
     ]
    },
    {
     "name": "stderr",
     "output_type": "stream",
     "text": [
      "\n",
      " 82%|████████████████████████████████▊       | 820/1000 [01:11<00:15, 11.53it/s]\u001b[A"
     ]
    },
    {
     "name": "stdout",
     "output_type": "stream",
     "text": [
      "0.08605217933654785\n",
      "0.08632516860961914\n",
      "0.08681797981262207\n"
     ]
    },
    {
     "name": "stderr",
     "output_type": "stream",
     "text": [
      "\n",
      " 82%|████████████████████████████████▉       | 822/1000 [01:11<00:15, 11.52it/s]\u001b[A\n",
      " 82%|████████████████████████████████▉       | 824/1000 [01:12<00:15, 11.52it/s]\u001b[A"
     ]
    },
    {
     "name": "stdout",
     "output_type": "stream",
     "text": [
      "0.08609652519226074\n",
      "0.08640265464782715\n",
      "0.08581256866455078\n"
     ]
    },
    {
     "name": "stderr",
     "output_type": "stream",
     "text": [
      "\n",
      " 83%|█████████████████████████████████       | 826/1000 [01:12<00:15, 11.51it/s]\u001b[A"
     ]
    },
    {
     "name": "stdout",
     "output_type": "stream",
     "text": [
      "0.08780407905578613\n",
      "0.08506608009338379\n",
      "0.08895468711853027\n"
     ]
    },
    {
     "name": "stderr",
     "output_type": "stream",
     "text": [
      "\n",
      " 83%|█████████████████████████████████       | 828/1000 [01:12<00:14, 11.50it/s]\u001b[A\n",
      " 83%|█████████████████████████████████▏      | 830/1000 [01:12<00:14, 11.51it/s]\u001b[A"
     ]
    },
    {
     "name": "stdout",
     "output_type": "stream",
     "text": [
      "0.08392667770385742\n",
      "0.08675599098205566\n",
      "0.08572244644165039\n"
     ]
    },
    {
     "name": "stderr",
     "output_type": "stream",
     "text": [
      "\n",
      " 83%|█████████████████████████████████▎      | 832/1000 [01:12<00:14, 11.51it/s]\u001b[A"
     ]
    },
    {
     "name": "stdout",
     "output_type": "stream",
     "text": [
      "0.08827853202819824\n",
      "0.08459734916687012\n",
      "0.08937644958496094\n"
     ]
    },
    {
     "name": "stderr",
     "output_type": "stream",
     "text": [
      "\n",
      " 83%|█████████████████████████████████▎      | 834/1000 [01:12<00:14, 11.42it/s]\u001b[A\n",
      " 84%|█████████████████████████████████▍      | 836/1000 [01:13<00:14, 11.34it/s]\u001b[A"
     ]
    },
    {
     "name": "stdout",
     "output_type": "stream",
     "text": [
      "0.08776211738586426\n",
      "0.08816218376159668\n",
      "0.09012365341186523\n"
     ]
    },
    {
     "name": "stderr",
     "output_type": "stream",
     "text": [
      "\n",
      " 84%|█████████████████████████████████▌      | 838/1000 [01:13<00:14, 11.37it/s]\u001b[A"
     ]
    },
    {
     "name": "stdout",
     "output_type": "stream",
     "text": [
      "0.08781695365905762\n",
      "0.08540153503417969\n",
      "0.08833980560302734\n"
     ]
    },
    {
     "name": "stderr",
     "output_type": "stream",
     "text": [
      "\n",
      " 84%|█████████████████████████████████▌      | 840/1000 [01:13<00:14, 11.41it/s]\u001b[A\n",
      " 84%|█████████████████████████████████▋      | 842/1000 [01:13<00:13, 11.44it/s]\u001b[A"
     ]
    },
    {
     "name": "stdout",
     "output_type": "stream",
     "text": [
      "0.08456206321716309\n",
      "0.08629298210144043\n",
      "0.08620643615722656\n"
     ]
    },
    {
     "name": "stderr",
     "output_type": "stream",
     "text": [
      "\n",
      " 84%|█████████████████████████████████▊      | 844/1000 [01:13<00:13, 11.44it/s]\u001b[A"
     ]
    },
    {
     "name": "stdout",
     "output_type": "stream",
     "text": [
      "0.08868098258972168\n",
      "0.08485198020935059\n",
      "0.08840084075927734\n"
     ]
    },
    {
     "name": "stderr",
     "output_type": "stream",
     "text": [
      "\n",
      " 85%|█████████████████████████████████▊      | 846/1000 [01:13<00:13, 11.43it/s]\u001b[A\n",
      " 85%|█████████████████████████████████▉      | 848/1000 [01:14<00:13, 11.44it/s]\u001b[A"
     ]
    },
    {
     "name": "stdout",
     "output_type": "stream",
     "text": [
      "0.08575844764709473\n",
      "0.08744978904724121\n",
      "0.08589315414428711\n"
     ]
    },
    {
     "name": "stderr",
     "output_type": "stream",
     "text": [
      "\n",
      " 85%|██████████████████████████████████      | 850/1000 [01:14<00:13, 11.47it/s]\u001b[A"
     ]
    },
    {
     "name": "stdout",
     "output_type": "stream",
     "text": [
      "0.08793163299560547\n",
      "0.08417749404907227\n",
      "0.08931517601013184\n"
     ]
    },
    {
     "name": "stderr",
     "output_type": "stream",
     "text": [
      "\n",
      " 85%|██████████████████████████████████      | 852/1000 [01:14<00:12, 11.43it/s]\u001b[A\n",
      " 85%|██████████████████████████████████▏     | 854/1000 [01:14<00:12, 11.47it/s]\u001b[A"
     ]
    },
    {
     "name": "stdout",
     "output_type": "stream",
     "text": [
      "0.0857081413269043\n",
      "0.08699822425842285\n",
      "0.08482074737548828\n"
     ]
    },
    {
     "name": "stderr",
     "output_type": "stream",
     "text": [
      "\n",
      " 86%|██████████████████████████████████▏     | 856/1000 [01:14<00:12, 11.45it/s]\u001b[A"
     ]
    },
    {
     "name": "stdout",
     "output_type": "stream",
     "text": [
      "0.0902872085571289\n",
      "0.08416175842285156\n",
      "0.08811283111572266\n"
     ]
    },
    {
     "name": "stderr",
     "output_type": "stream",
     "text": [
      "\n",
      " 86%|██████████████████████████████████▎     | 858/1000 [01:14<00:12, 11.42it/s]\u001b[A\n",
      " 86%|██████████████████████████████████▍     | 860/1000 [01:15<00:12, 11.34it/s]\u001b[A"
     ]
    },
    {
     "name": "stdout",
     "output_type": "stream",
     "text": [
      "0.08672451972961426\n",
      "0.09164071083068848\n",
      "0.08628344535827637\n"
     ]
    },
    {
     "name": "stderr",
     "output_type": "stream",
     "text": [
      "\n",
      " 86%|██████████████████████████████████▍     | 862/1000 [01:15<00:12, 11.44it/s]\u001b[A"
     ]
    },
    {
     "name": "stdout",
     "output_type": "stream",
     "text": [
      "0.08707427978515625\n",
      "0.0829622745513916\n",
      "0.08551692962646484\n"
     ]
    },
    {
     "name": "stderr",
     "output_type": "stream",
     "text": [
      "\n",
      " 86%|██████████████████████████████████▌     | 864/1000 [01:15<00:11, 11.48it/s]\u001b[A\n",
      " 87%|██████████████████████████████████▋     | 866/1000 [01:15<00:11, 11.56it/s]\u001b[A"
     ]
    },
    {
     "name": "stdout",
     "output_type": "stream",
     "text": [
      "0.08623743057250977\n",
      "0.08629345893859863\n",
      "0.08274316787719727\n"
     ]
    },
    {
     "name": "stderr",
     "output_type": "stream",
     "text": [
      "\n",
      " 87%|██████████████████████████████████▋     | 868/1000 [01:15<00:11, 11.44it/s]\u001b[A"
     ]
    },
    {
     "name": "stdout",
     "output_type": "stream",
     "text": [
      "0.09246492385864258\n",
      "0.08552098274230957\n",
      "0.08710360527038574\n"
     ]
    },
    {
     "name": "stderr",
     "output_type": "stream",
     "text": [
      "\n",
      " 87%|██████████████████████████████████▊     | 870/1000 [01:16<00:11, 11.45it/s]\u001b[A\n",
      " 87%|██████████████████████████████████▉     | 872/1000 [01:16<00:11, 11.53it/s]\u001b[A"
     ]
    },
    {
     "name": "stdout",
     "output_type": "stream",
     "text": [
      "0.08642339706420898\n",
      "0.08674931526184082\n",
      "0.08264756202697754\n"
     ]
    },
    {
     "name": "stderr",
     "output_type": "stream",
     "text": [
      "\n",
      " 87%|██████████████████████████████████▉     | 874/1000 [01:16<00:10, 11.53it/s]\u001b[A"
     ]
    },
    {
     "name": "stdout",
     "output_type": "stream",
     "text": [
      "0.0885016918182373\n",
      "0.08392834663391113\n",
      "0.08592963218688965\n"
     ]
    },
    {
     "name": "stderr",
     "output_type": "stream",
     "text": [
      "\n",
      " 88%|███████████████████████████████████     | 876/1000 [01:16<00:10, 11.57it/s]\u001b[A\n",
      " 88%|███████████████████████████████████     | 878/1000 [01:16<00:10, 11.58it/s]\u001b[A"
     ]
    },
    {
     "name": "stdout",
     "output_type": "stream",
     "text": [
      "0.0846107006072998\n",
      "0.08820176124572754\n",
      "0.0826408863067627\n"
     ]
    },
    {
     "name": "stderr",
     "output_type": "stream",
     "text": [
      "\n",
      " 88%|███████████████████████████████████▏    | 880/1000 [01:16<00:10, 11.55it/s]\u001b[A"
     ]
    },
    {
     "name": "stdout",
     "output_type": "stream",
     "text": [
      "0.08834123611450195\n",
      "0.0848088264465332\n",
      "0.08545994758605957\n"
     ]
    },
    {
     "name": "stderr",
     "output_type": "stream",
     "text": [
      "\n",
      " 88%|███████████████████████████████████▎    | 882/1000 [01:17<00:10, 11.59it/s]\u001b[A\n",
      " 88%|███████████████████████████████████▎    | 884/1000 [01:17<00:09, 11.61it/s]\u001b[A"
     ]
    },
    {
     "name": "stdout",
     "output_type": "stream",
     "text": [
      "0.08492636680603027\n",
      "0.08692193031311035\n",
      "0.08367705345153809\n"
     ]
    },
    {
     "name": "stderr",
     "output_type": "stream",
     "text": [
      "\n",
      " 89%|███████████████████████████████████▍    | 886/1000 [01:17<00:09, 11.59it/s]\u001b[A"
     ]
    },
    {
     "name": "stdout",
     "output_type": "stream",
     "text": [
      "0.08669662475585938\n",
      "0.08528804779052734\n",
      "0.08621811866760254\n"
     ]
    },
    {
     "name": "stderr",
     "output_type": "stream",
     "text": [
      "\n",
      " 89%|███████████████████████████████████▌    | 888/1000 [01:17<00:09, 11.61it/s]\u001b[A\n",
      " 89%|███████████████████████████████████▌    | 890/1000 [01:17<00:09, 11.58it/s]\u001b[A"
     ]
    },
    {
     "name": "stdout",
     "output_type": "stream",
     "text": [
      "0.08462882041931152\n",
      "0.08718395233154297\n",
      "0.08518624305725098\n"
     ]
    },
    {
     "name": "stderr",
     "output_type": "stream",
     "text": [
      "\n",
      " 89%|███████████████████████████████████▋    | 892/1000 [01:17<00:09, 11.55it/s]\u001b[A"
     ]
    },
    {
     "name": "stdout",
     "output_type": "stream",
     "text": [
      "0.0870673656463623\n",
      "0.08601188659667969\n",
      "0.0885779857635498\n"
     ]
    },
    {
     "name": "stderr",
     "output_type": "stream",
     "text": [
      "\n",
      " 89%|███████████████████████████████████▊    | 894/1000 [01:18<00:09, 11.45it/s]\u001b[A\n",
      " 90%|███████████████████████████████████▊    | 896/1000 [01:18<00:09, 11.47it/s]\u001b[A"
     ]
    },
    {
     "name": "stdout",
     "output_type": "stream",
     "text": [
      "0.08849978446960449\n",
      "0.08809328079223633\n",
      "0.08464503288269043\n"
     ]
    },
    {
     "name": "stderr",
     "output_type": "stream",
     "text": [
      "\n",
      " 90%|███████████████████████████████████▉    | 898/1000 [01:18<00:08, 11.47it/s]\u001b[A"
     ]
    },
    {
     "name": "stdout",
     "output_type": "stream",
     "text": [
      "0.08643126487731934\n",
      "0.08669233322143555\n",
      "0.08503103256225586\n"
     ]
    },
    {
     "name": "stderr",
     "output_type": "stream",
     "text": [
      "\n",
      " 90%|████████████████████████████████████    | 900/1000 [01:18<00:08, 11.49it/s]\u001b[A\n",
      " 90%|████████████████████████████████████    | 902/1000 [01:18<00:08, 11.49it/s]\u001b[A"
     ]
    },
    {
     "name": "stdout",
     "output_type": "stream",
     "text": [
      "0.08739948272705078\n",
      "0.0869450569152832\n",
      "0.08563232421875\n"
     ]
    },
    {
     "name": "stderr",
     "output_type": "stream",
     "text": [
      "\n",
      " 90%|████████████████████████████████████▏   | 904/1000 [01:18<00:08, 11.44it/s]\u001b[A"
     ]
    },
    {
     "name": "stdout",
     "output_type": "stream",
     "text": [
      "0.08739233016967773\n",
      "0.08830714225769043\n",
      "0.08385109901428223\n"
     ]
    },
    {
     "name": "stderr",
     "output_type": "stream",
     "text": [
      "\n",
      " 91%|████████████████████████████████████▏   | 906/1000 [01:19<00:08, 11.49it/s]\u001b[A\n",
      " 91%|████████████████████████████████████▎   | 908/1000 [01:19<00:07, 11.52it/s]\u001b[A"
     ]
    },
    {
     "name": "stdout",
     "output_type": "stream",
     "text": [
      "0.08729910850524902\n",
      "0.08531522750854492\n",
      "0.08641719818115234\n"
     ]
    },
    {
     "name": "stderr",
     "output_type": "stream",
     "text": [
      "\n",
      " 91%|████████████████████████████████████▍   | 910/1000 [01:19<00:07, 11.50it/s]\u001b[A"
     ]
    },
    {
     "name": "stdout",
     "output_type": "stream",
     "text": [
      "0.08605146408081055\n",
      "0.0873725414276123\n",
      "0.08278059959411621\n"
     ]
    },
    {
     "name": "stderr",
     "output_type": "stream",
     "text": [
      "\n",
      " 91%|████████████████████████████████████▍   | 912/1000 [01:19<00:07, 11.57it/s]\u001b[A\n",
      " 91%|████████████████████████████████████▌   | 914/1000 [01:19<00:07, 11.58it/s]\u001b[A"
     ]
    },
    {
     "name": "stdout",
     "output_type": "stream",
     "text": [
      "0.08657670021057129\n",
      "0.08569025993347168\n",
      "0.0854647159576416\n"
     ]
    },
    {
     "name": "stderr",
     "output_type": "stream",
     "text": [
      "\n",
      " 92%|████████████████████████████████████▋   | 916/1000 [01:20<00:07, 11.55it/s]\u001b[A"
     ]
    },
    {
     "name": "stdout",
     "output_type": "stream",
     "text": [
      "0.08492708206176758\n",
      "0.08811187744140625\n",
      "0.08307814598083496\n"
     ]
    },
    {
     "name": "stderr",
     "output_type": "stream",
     "text": [
      "\n",
      " 92%|████████████████████████████████████▋   | 918/1000 [01:20<00:07, 11.58it/s]\u001b[A\n",
      " 92%|████████████████████████████████████▊   | 920/1000 [01:20<00:06, 11.55it/s]\u001b[A"
     ]
    },
    {
     "name": "stdout",
     "output_type": "stream",
     "text": [
      "0.0876150131225586\n",
      "0.08633255958557129\n",
      "0.08665299415588379\n"
     ]
    },
    {
     "name": "stderr",
     "output_type": "stream",
     "text": [
      "\n",
      " 92%|████████████████████████████████████▉   | 922/1000 [01:20<00:06, 11.56it/s]\u001b[A"
     ]
    },
    {
     "name": "stdout",
     "output_type": "stream",
     "text": [
      "0.08467698097229004\n",
      "0.08696126937866211\n",
      "0.08305025100708008\n"
     ]
    },
    {
     "name": "stderr",
     "output_type": "stream",
     "text": [
      "\n",
      " 92%|████████████████████████████████████▉   | 924/1000 [01:20<00:06, 11.61it/s]\u001b[A\n",
      " 93%|█████████████████████████████████████   | 926/1000 [01:20<00:06, 11.62it/s]\u001b[A"
     ]
    },
    {
     "name": "stdout",
     "output_type": "stream",
     "text": [
      "0.0860447883605957\n",
      "0.08426284790039062\n",
      "0.08607220649719238\n"
     ]
    },
    {
     "name": "stderr",
     "output_type": "stream",
     "text": [
      "\n",
      " 93%|█████████████████████████████████████   | 928/1000 [01:21<00:06, 11.61it/s]\u001b[A"
     ]
    },
    {
     "name": "stdout",
     "output_type": "stream",
     "text": [
      "0.08411669731140137\n",
      "0.08731317520141602\n",
      "0.08445119857788086\n"
     ]
    },
    {
     "name": "stderr",
     "output_type": "stream",
     "text": [
      "\n",
      " 93%|█████████████████████████████████████▏  | 930/1000 [01:21<00:06, 11.61it/s]\u001b[A\n",
      " 93%|█████████████████████████████████████▎  | 932/1000 [01:21<00:05, 11.61it/s]\u001b[A"
     ]
    },
    {
     "name": "stdout",
     "output_type": "stream",
     "text": [
      "0.08667898178100586\n",
      "0.08338022232055664\n",
      "0.0874643325805664\n"
     ]
    },
    {
     "name": "stderr",
     "output_type": "stream",
     "text": [
      "\n",
      " 93%|█████████████████████████████████████▎  | 934/1000 [01:21<00:05, 11.63it/s]\u001b[A"
     ]
    },
    {
     "name": "stdout",
     "output_type": "stream",
     "text": [
      "0.08464717864990234\n",
      "0.0854041576385498\n",
      "0.08611130714416504\n"
     ]
    },
    {
     "name": "stderr",
     "output_type": "stream",
     "text": [
      "\n",
      " 94%|█████████████████████████████████████▍  | 936/1000 [01:21<00:05, 11.61it/s]\u001b[A\n",
      " 94%|█████████████████████████████████████▌  | 938/1000 [01:21<00:05, 11.57it/s]\u001b[A"
     ]
    },
    {
     "name": "stdout",
     "output_type": "stream",
     "text": [
      "0.08585071563720703\n",
      "0.08541464805603027\n",
      "0.08719849586486816\n"
     ]
    },
    {
     "name": "stderr",
     "output_type": "stream",
     "text": [
      "\n",
      " 94%|█████████████████████████████████████▌  | 940/1000 [01:22<00:05, 11.62it/s]\u001b[A"
     ]
    },
    {
     "name": "stdout",
     "output_type": "stream",
     "text": [
      "0.08494877815246582\n",
      "0.08397483825683594\n",
      "0.0862271785736084\n"
     ]
    },
    {
     "name": "stderr",
     "output_type": "stream",
     "text": [
      "\n",
      " 94%|█████████████████████████████████████▋  | 942/1000 [01:22<00:04, 11.64it/s]\u001b[A\n",
      " 94%|█████████████████████████████████████▊  | 944/1000 [01:22<00:04, 11.63it/s]\u001b[A"
     ]
    },
    {
     "name": "stdout",
     "output_type": "stream",
     "text": [
      "0.0834965705871582\n",
      "0.08635163307189941\n",
      "0.0846548080444336\n"
     ]
    },
    {
     "name": "stderr",
     "output_type": "stream",
     "text": [
      "\n",
      " 95%|█████████████████████████████████████▊  | 946/1000 [01:22<00:04, 11.65it/s]\u001b[A"
     ]
    },
    {
     "name": "stdout",
     "output_type": "stream",
     "text": [
      "0.08681774139404297\n",
      "0.08266282081604004\n",
      "0.08785152435302734\n"
     ]
    },
    {
     "name": "stderr",
     "output_type": "stream",
     "text": [
      "\n",
      " 95%|█████████████████████████████████████▉  | 948/1000 [01:22<00:04, 11.64it/s]\u001b[A\n",
      " 95%|██████████████████████████████████████  | 950/1000 [01:22<00:04, 11.57it/s]\u001b[A"
     ]
    },
    {
     "name": "stdout",
     "output_type": "stream",
     "text": [
      "0.08323884010314941\n",
      "0.08844208717346191\n",
      "0.08566474914550781\n"
     ]
    },
    {
     "name": "stderr",
     "output_type": "stream",
     "text": [
      "\n",
      " 95%|██████████████████████████████████████  | 952/1000 [01:23<00:04, 11.55it/s]\u001b[A"
     ]
    },
    {
     "name": "stdout",
     "output_type": "stream",
     "text": [
      "0.0896921157836914\n",
      "0.08286881446838379\n",
      "0.08753490447998047\n"
     ]
    },
    {
     "name": "stderr",
     "output_type": "stream",
     "text": [
      "\n",
      " 95%|██████████████████████████████████████▏ | 954/1000 [01:23<00:03, 11.57it/s]\u001b[A\n",
      " 96%|██████████████████████████████████████▏ | 956/1000 [01:23<00:03, 11.58it/s]\u001b[A"
     ]
    },
    {
     "name": "stdout",
     "output_type": "stream",
     "text": [
      "0.08354902267456055\n",
      "0.08676600456237793\n",
      "0.0842888355255127\n"
     ]
    },
    {
     "name": "stderr",
     "output_type": "stream",
     "text": [
      "\n",
      " 96%|██████████████████████████████████████▎ | 958/1000 [01:23<00:03, 11.58it/s]\u001b[A"
     ]
    },
    {
     "name": "stdout",
     "output_type": "stream",
     "text": [
      "0.08873748779296875\n",
      "0.08283782005310059\n",
      "0.08704519271850586\n"
     ]
    },
    {
     "name": "stderr",
     "output_type": "stream",
     "text": [
      "\n",
      " 96%|██████████████████████████████████████▍ | 960/1000 [01:23<00:03, 11.54it/s]\u001b[A\n",
      " 96%|██████████████████████████████████████▍ | 962/1000 [01:23<00:03, 11.60it/s]\u001b[A"
     ]
    },
    {
     "name": "stdout",
     "output_type": "stream",
     "text": [
      "0.08649301528930664\n",
      "0.08618688583374023\n",
      "0.08275318145751953\n"
     ]
    },
    {
     "name": "stderr",
     "output_type": "stream",
     "text": [
      "\n",
      " 96%|██████████████████████████████████████▌ | 964/1000 [01:24<00:03, 11.57it/s]\u001b[A"
     ]
    },
    {
     "name": "stdout",
     "output_type": "stream",
     "text": [
      "0.08951044082641602\n",
      "0.08325076103210449\n",
      "0.08658838272094727\n"
     ]
    },
    {
     "name": "stderr",
     "output_type": "stream",
     "text": [
      "\n",
      " 97%|██████████████████████████████████████▋ | 966/1000 [01:24<00:02, 11.54it/s]\u001b[A\n",
      " 97%|██████████████████████████████████████▋ | 968/1000 [01:24<00:02, 11.60it/s]\u001b[A"
     ]
    },
    {
     "name": "stdout",
     "output_type": "stream",
     "text": [
      "0.08636808395385742\n",
      "0.08589839935302734\n",
      "0.08345198631286621\n"
     ]
    },
    {
     "name": "stderr",
     "output_type": "stream",
     "text": [
      "\n",
      " 97%|██████████████████████████████████████▊ | 970/1000 [01:24<00:02, 11.52it/s]\u001b[A"
     ]
    },
    {
     "name": "stdout",
     "output_type": "stream",
     "text": [
      "0.08935356140136719\n",
      "0.08600854873657227\n",
      "0.08707404136657715\n"
     ]
    },
    {
     "name": "stderr",
     "output_type": "stream",
     "text": [
      "\n",
      " 97%|██████████████████████████████████████▉ | 972/1000 [01:24<00:02, 11.48it/s]\u001b[A\n",
      " 97%|██████████████████████████████████████▉ | 974/1000 [01:25<00:02, 11.50it/s]\u001b[A"
     ]
    },
    {
     "name": "stdout",
     "output_type": "stream",
     "text": [
      "0.08756566047668457\n",
      "0.08577728271484375\n",
      "0.08600854873657227\n"
     ]
    },
    {
     "name": "stderr",
     "output_type": "stream",
     "text": [
      "\n",
      " 98%|███████████████████████████████████████ | 976/1000 [01:25<00:02, 11.48it/s]\u001b[A"
     ]
    },
    {
     "name": "stdout",
     "output_type": "stream",
     "text": [
      "0.0884394645690918\n",
      "0.08531022071838379\n",
      "0.08408927917480469\n"
     ]
    },
    {
     "name": "stderr",
     "output_type": "stream",
     "text": [
      "\n",
      " 98%|███████████████████████████████████████ | 978/1000 [01:25<00:01, 11.49it/s]\u001b[A\n",
      " 98%|███████████████████████████████████████▏| 980/1000 [01:25<00:01, 11.50it/s]\u001b[A"
     ]
    },
    {
     "name": "stdout",
     "output_type": "stream",
     "text": [
      "0.08808493614196777\n",
      "0.08607769012451172\n",
      "0.08656001091003418\n"
     ]
    },
    {
     "name": "stderr",
     "output_type": "stream",
     "text": [
      "\n",
      " 98%|███████████████████████████████████████▎| 982/1000 [01:25<00:01, 11.44it/s]\u001b[A"
     ]
    },
    {
     "name": "stdout",
     "output_type": "stream",
     "text": [
      "0.08773279190063477\n",
      "0.08791780471801758\n",
      "0.0859067440032959\n"
     ]
    },
    {
     "name": "stderr",
     "output_type": "stream",
     "text": [
      "\n",
      " 98%|███████████████████████████████████████▎| 984/1000 [01:25<00:01, 11.39it/s]\u001b[A\n",
      " 99%|███████████████████████████████████████▍| 986/1000 [01:26<00:01, 11.40it/s]\u001b[A"
     ]
    },
    {
     "name": "stdout",
     "output_type": "stream",
     "text": [
      "0.08967757225036621\n",
      "0.08629679679870605\n",
      "0.08774280548095703\n"
     ]
    },
    {
     "name": "stderr",
     "output_type": "stream",
     "text": [
      "\n",
      " 99%|███████████████████████████████████████▌| 988/1000 [01:26<00:01, 11.39it/s]\u001b[A"
     ]
    },
    {
     "name": "stdout",
     "output_type": "stream",
     "text": [
      "0.0875394344329834\n",
      "0.08728981018066406\n",
      "0.0858161449432373\n"
     ]
    },
    {
     "name": "stderr",
     "output_type": "stream",
     "text": [
      "\n",
      " 99%|███████████████████████████████████████▌| 990/1000 [01:26<00:00, 11.19it/s]\u001b[A\n",
      " 99%|███████████████████████████████████████▋| 992/1000 [01:26<00:00, 11.13it/s]\u001b[A"
     ]
    },
    {
     "name": "stdout",
     "output_type": "stream",
     "text": [
      "0.09877681732177734\n",
      "0.08551883697509766\n",
      "0.09491705894470215\n"
     ]
    },
    {
     "name": "stderr",
     "output_type": "stream",
     "text": [
      "\n",
      " 99%|███████████████████████████████████████▊| 994/1000 [01:26<00:00, 11.08it/s]\u001b[A"
     ]
    },
    {
     "name": "stdout",
     "output_type": "stream",
     "text": [
      "0.0903782844543457\n",
      "0.09076523780822754\n",
      "0.08733797073364258\n"
     ]
    },
    {
     "name": "stderr",
     "output_type": "stream",
     "text": [
      "\n",
      "100%|███████████████████████████████████████▊| 996/1000 [01:26<00:00, 11.02it/s]\u001b[A\n",
      "100%|███████████████████████████████████████▉| 998/1000 [01:27<00:00, 11.13it/s]\u001b[A"
     ]
    },
    {
     "name": "stdout",
     "output_type": "stream",
     "text": [
      "0.09534168243408203\n",
      "0.08757519721984863\n",
      "0.08652234077453613\n"
     ]
    },
    {
     "name": "stderr",
     "output_type": "stream",
     "text": [
      "\n",
      "100%|███████████████████████████████████████| 1000/1000 [01:27<00:00, 11.45it/s]\u001b[A\n",
      " 20%|█████████                                    | 1/5 [01:27<05:49, 87.34s/it]"
     ]
    },
    {
     "name": "stdout",
     "output_type": "stream",
     "text": [
      "0.08881473541259766\n",
      "0.08633065223693848\n",
      "One run completed\n"
     ]
    },
    {
     "name": "stderr",
     "output_type": "stream",
     "text": [
      "\n",
      "  0%|                                                  | 0/1000 [00:00<?, ?it/s]\u001b[A"
     ]
    },
    {
     "name": "stdout",
     "output_type": "stream",
     "text": [
      "0.08554315567016602\n"
     ]
    },
    {
     "name": "stderr",
     "output_type": "stream",
     "text": [
      "\n",
      "  0%|                                          | 2/1000 [00:00<01:27, 11.47it/s]\u001b[A"
     ]
    },
    {
     "name": "stdout",
     "output_type": "stream",
     "text": [
      "0.0886697769165039\n",
      "0.08555316925048828\n"
     ]
    },
    {
     "name": "stderr",
     "output_type": "stream",
     "text": [
      "\n",
      "  0%|▏                                         | 4/1000 [00:00<01:27, 11.45it/s]\u001b[A"
     ]
    },
    {
     "name": "stdout",
     "output_type": "stream",
     "text": [
      "0.08819222450256348\n"
     ]
    },
    {
     "name": "stderr",
     "output_type": "stream",
     "text": [
      "\n",
      "  1%|▎                                         | 6/1000 [00:00<01:27, 11.40it/s]\u001b[A"
     ]
    },
    {
     "name": "stdout",
     "output_type": "stream",
     "text": [
      "0.08765578269958496\n",
      "0.08704185485839844\n",
      "0.0854346752166748\n"
     ]
    },
    {
     "name": "stderr",
     "output_type": "stream",
     "text": [
      "\n",
      "  1%|▎                                         | 8/1000 [00:00<01:27, 11.39it/s]\u001b[A"
     ]
    },
    {
     "name": "stdout",
     "output_type": "stream",
     "text": [
      "0.08930182456970215\n",
      "0.08450698852539062\n"
     ]
    },
    {
     "name": "stderr",
     "output_type": "stream",
     "text": [
      "\n",
      "  1%|▍                                        | 10/1000 [00:00<01:26, 11.42it/s]\u001b[A"
     ]
    },
    {
     "name": "stdout",
     "output_type": "stream",
     "text": [
      "0.08820629119873047\n"
     ]
    },
    {
     "name": "stderr",
     "output_type": "stream",
     "text": [
      "\n",
      "  1%|▍                                        | 12/1000 [00:01<01:26, 11.42it/s]\u001b[A"
     ]
    },
    {
     "name": "stdout",
     "output_type": "stream",
     "text": [
      "0.08714461326599121\n",
      "0.08686518669128418\n",
      "0.0857548713684082\n"
     ]
    },
    {
     "name": "stderr",
     "output_type": "stream",
     "text": [
      "\n",
      "  1%|▌                                        | 14/1000 [00:01<01:26, 11.41it/s]\u001b[A"
     ]
    },
    {
     "name": "stdout",
     "output_type": "stream",
     "text": [
      "0.08864641189575195\n",
      "0.08501553535461426\n"
     ]
    },
    {
     "name": "stderr",
     "output_type": "stream",
     "text": [
      "\n",
      "  2%|▋                                        | 16/1000 [00:01<01:25, 11.44it/s]\u001b[A"
     ]
    },
    {
     "name": "stdout",
     "output_type": "stream",
     "text": [
      "0.08732867240905762\n"
     ]
    },
    {
     "name": "stderr",
     "output_type": "stream",
     "text": [
      "\n",
      "  2%|▋                                        | 18/1000 [00:01<01:25, 11.44it/s]\u001b[A"
     ]
    },
    {
     "name": "stdout",
     "output_type": "stream",
     "text": [
      "0.08744072914123535\n",
      "0.08593106269836426\n",
      "0.08526754379272461\n"
     ]
    },
    {
     "name": "stderr",
     "output_type": "stream",
     "text": [
      "\n",
      "  2%|▊                                        | 20/1000 [00:01<01:25, 11.42it/s]\u001b[A"
     ]
    },
    {
     "name": "stdout",
     "output_type": "stream",
     "text": [
      "0.08921217918395996\n",
      "0.08476638793945312\n"
     ]
    },
    {
     "name": "stderr",
     "output_type": "stream",
     "text": [
      "\n",
      "  2%|▉                                        | 22/1000 [00:01<01:25, 11.44it/s]\u001b[A"
     ]
    },
    {
     "name": "stdout",
     "output_type": "stream",
     "text": [
      "0.08823943138122559\n"
     ]
    },
    {
     "name": "stderr",
     "output_type": "stream",
     "text": [
      "\n",
      "  2%|▉                                        | 24/1000 [00:02<01:25, 11.43it/s]\u001b[A"
     ]
    },
    {
     "name": "stdout",
     "output_type": "stream",
     "text": [
      "0.08654904365539551\n",
      "0.08739972114562988\n",
      "0.08499908447265625\n"
     ]
    },
    {
     "name": "stderr",
     "output_type": "stream",
     "text": [
      "\n",
      "  3%|█                                        | 26/1000 [00:02<01:25, 11.46it/s]\u001b[A"
     ]
    },
    {
     "name": "stdout",
     "output_type": "stream",
     "text": [
      "0.0872347354888916\n",
      "0.08499789237976074\n"
     ]
    },
    {
     "name": "stderr",
     "output_type": "stream",
     "text": [
      "\n",
      "  3%|█▏                                       | 28/1000 [00:02<01:24, 11.49it/s]\u001b[A"
     ]
    },
    {
     "name": "stdout",
     "output_type": "stream",
     "text": [
      "0.08661389350891113\n"
     ]
    },
    {
     "name": "stderr",
     "output_type": "stream",
     "text": [
      "\n",
      "  3%|█▏                                       | 30/1000 [00:02<01:24, 11.48it/s]\u001b[A"
     ]
    },
    {
     "name": "stdout",
     "output_type": "stream",
     "text": [
      "0.08610081672668457\n",
      "0.0871589183807373\n",
      "0.0864706039428711\n"
     ]
    },
    {
     "name": "stderr",
     "output_type": "stream",
     "text": [
      "\n",
      "  3%|█▎                                       | 32/1000 [00:02<01:24, 11.48it/s]\u001b[A"
     ]
    },
    {
     "name": "stdout",
     "output_type": "stream",
     "text": [
      "0.08608436584472656\n",
      "0.08756279945373535\n"
     ]
    },
    {
     "name": "stderr",
     "output_type": "stream",
     "text": [
      "\n",
      "  3%|█▍                                       | 34/1000 [00:02<01:24, 11.46it/s]\u001b[A"
     ]
    },
    {
     "name": "stdout",
     "output_type": "stream",
     "text": [
      "0.08601164817810059\n"
     ]
    },
    {
     "name": "stderr",
     "output_type": "stream",
     "text": [
      "\n",
      "  4%|█▍                                       | 36/1000 [00:03<01:24, 11.47it/s]\u001b[A"
     ]
    },
    {
     "name": "stdout",
     "output_type": "stream",
     "text": [
      "0.08646750450134277\n",
      "0.08633780479431152\n",
      "0.08681368827819824\n"
     ]
    },
    {
     "name": "stderr",
     "output_type": "stream",
     "text": [
      "\n",
      "  4%|█▌                                       | 38/1000 [00:03<01:23, 11.49it/s]\u001b[A"
     ]
    },
    {
     "name": "stdout",
     "output_type": "stream",
     "text": [
      "0.08501100540161133\n",
      "0.0875849723815918\n"
     ]
    },
    {
     "name": "stderr",
     "output_type": "stream",
     "text": [
      "\n",
      "  4%|█▋                                       | 40/1000 [00:03<01:23, 11.49it/s]\u001b[A"
     ]
    },
    {
     "name": "stdout",
     "output_type": "stream",
     "text": [
      "0.08510303497314453\n"
     ]
    },
    {
     "name": "stderr",
     "output_type": "stream",
     "text": [
      "\n",
      "  4%|█▋                                       | 42/1000 [00:03<01:23, 11.45it/s]\u001b[A"
     ]
    },
    {
     "name": "stdout",
     "output_type": "stream",
     "text": [
      "0.08852243423461914\n",
      "0.08613109588623047\n",
      "0.08768224716186523\n"
     ]
    },
    {
     "name": "stderr",
     "output_type": "stream",
     "text": [
      "\n",
      "  4%|█▊                                       | 44/1000 [00:03<01:23, 11.47it/s]\u001b[A"
     ]
    },
    {
     "name": "stdout",
     "output_type": "stream",
     "text": [
      "0.08480596542358398\n",
      "0.08881664276123047\n"
     ]
    },
    {
     "name": "stderr",
     "output_type": "stream",
     "text": [
      "\n",
      "  5%|█▉                                       | 46/1000 [00:04<01:23, 11.45it/s]\u001b[A"
     ]
    },
    {
     "name": "stdout",
     "output_type": "stream",
     "text": [
      "0.08531403541564941\n"
     ]
    },
    {
     "name": "stderr",
     "output_type": "stream",
     "text": [
      "\n",
      "  5%|█▉                                       | 48/1000 [00:04<01:22, 11.48it/s]\u001b[A"
     ]
    },
    {
     "name": "stdout",
     "output_type": "stream",
     "text": [
      "0.08692622184753418\n",
      "0.08524775505065918\n",
      "0.08796286582946777\n"
     ]
    },
    {
     "name": "stderr",
     "output_type": "stream",
     "text": [
      "\n",
      "  5%|██                                       | 50/1000 [00:04<01:22, 11.46it/s]\u001b[A"
     ]
    },
    {
     "name": "stdout",
     "output_type": "stream",
     "text": [
      "0.08562326431274414\n",
      "0.08713126182556152\n"
     ]
    },
    {
     "name": "stderr",
     "output_type": "stream",
     "text": [
      "\n",
      "  5%|██▏                                      | 52/1000 [00:04<01:22, 11.47it/s]\u001b[A"
     ]
    },
    {
     "name": "stdout",
     "output_type": "stream",
     "text": [
      "0.08574104309082031\n"
     ]
    },
    {
     "name": "stderr",
     "output_type": "stream",
     "text": [
      "\n",
      "  5%|██▏                                      | 54/1000 [00:04<01:22, 11.47it/s]\u001b[A"
     ]
    },
    {
     "name": "stdout",
     "output_type": "stream",
     "text": [
      "0.08790397644042969\n",
      "0.08554434776306152\n",
      "0.08986163139343262\n"
     ]
    },
    {
     "name": "stderr",
     "output_type": "stream",
     "text": [
      "\n",
      "  6%|██▎                                      | 56/1000 [00:04<01:22, 11.42it/s]\u001b[A"
     ]
    },
    {
     "name": "stdout",
     "output_type": "stream",
     "text": [
      "0.0854029655456543\n",
      "0.0876471996307373\n"
     ]
    },
    {
     "name": "stderr",
     "output_type": "stream",
     "text": [
      "\n",
      "  6%|██▍                                      | 58/1000 [00:05<01:22, 11.46it/s]\u001b[A"
     ]
    },
    {
     "name": "stdout",
     "output_type": "stream",
     "text": [
      "0.0845174789428711\n"
     ]
    },
    {
     "name": "stderr",
     "output_type": "stream",
     "text": [
      "\n",
      "  6%|██▍                                      | 60/1000 [00:05<01:22, 11.46it/s]\u001b[A"
     ]
    },
    {
     "name": "stdout",
     "output_type": "stream",
     "text": [
      "0.0880730152130127\n",
      "0.08491969108581543\n",
      "0.08835506439208984\n"
     ]
    },
    {
     "name": "stderr",
     "output_type": "stream",
     "text": [
      "\n",
      "  6%|██▌                                      | 62/1000 [00:05<01:21, 11.46it/s]\u001b[A"
     ]
    },
    {
     "name": "stdout",
     "output_type": "stream",
     "text": [
      "0.08494138717651367\n",
      "0.08767938613891602\n"
     ]
    },
    {
     "name": "stderr",
     "output_type": "stream",
     "text": [
      "\n",
      "  6%|██▌                                      | 64/1000 [00:05<01:21, 11.45it/s]\u001b[A"
     ]
    },
    {
     "name": "stdout",
     "output_type": "stream",
     "text": [
      "0.08620762825012207\n"
     ]
    },
    {
     "name": "stderr",
     "output_type": "stream",
     "text": [
      "\n",
      "  7%|██▋                                      | 66/1000 [00:05<01:21, 11.46it/s]\u001b[A"
     ]
    },
    {
     "name": "stdout",
     "output_type": "stream",
     "text": [
      "0.0879368782043457\n",
      "0.0848841667175293\n",
      "0.0891265869140625\n"
     ]
    },
    {
     "name": "stderr",
     "output_type": "stream",
     "text": [
      "\n",
      "  7%|██▊                                      | 68/1000 [00:05<01:21, 11.42it/s]\u001b[A"
     ]
    },
    {
     "name": "stdout",
     "output_type": "stream",
     "text": [
      "0.08617711067199707\n",
      "0.08623361587524414\n"
     ]
    },
    {
     "name": "stderr",
     "output_type": "stream",
     "text": [
      "\n",
      "  7%|██▊                                      | 70/1000 [00:06<01:21, 11.43it/s]\u001b[A"
     ]
    },
    {
     "name": "stdout",
     "output_type": "stream",
     "text": [
      "0.08714628219604492\n"
     ]
    },
    {
     "name": "stderr",
     "output_type": "stream",
     "text": [
      "\n",
      "  7%|██▉                                      | 72/1000 [00:06<01:20, 11.48it/s]\u001b[A"
     ]
    },
    {
     "name": "stdout",
     "output_type": "stream",
     "text": [
      "0.08624792098999023\n",
      "0.08483719825744629\n",
      "0.0874490737915039\n"
     ]
    },
    {
     "name": "stderr",
     "output_type": "stream",
     "text": [
      "\n",
      "  7%|███                                      | 74/1000 [00:06<01:20, 11.46it/s]\u001b[A"
     ]
    },
    {
     "name": "stdout",
     "output_type": "stream",
     "text": [
      "0.08671736717224121\n",
      "0.08529257774353027\n"
     ]
    },
    {
     "name": "stderr",
     "output_type": "stream",
     "text": [
      "\n",
      "  8%|███                                      | 76/1000 [00:06<01:20, 11.42it/s]\u001b[A"
     ]
    },
    {
     "name": "stdout",
     "output_type": "stream",
     "text": [
      "0.08949661254882812\n"
     ]
    },
    {
     "name": "stderr",
     "output_type": "stream",
     "text": [
      "\n",
      "  8%|███▏                                     | 78/1000 [00:06<01:20, 11.44it/s]\u001b[A"
     ]
    },
    {
     "name": "stdout",
     "output_type": "stream",
     "text": [
      "0.08623814582824707\n",
      "0.0867772102355957\n",
      "0.08693456649780273\n"
     ]
    },
    {
     "name": "stderr",
     "output_type": "stream",
     "text": [
      "\n",
      "  8%|███▎                                     | 80/1000 [00:06<01:20, 11.41it/s]\u001b[A"
     ]
    },
    {
     "name": "stdout",
     "output_type": "stream",
     "text": [
      "0.08817458152770996\n",
      "0.08382606506347656\n"
     ]
    },
    {
     "name": "stderr",
     "output_type": "stream",
     "text": [
      "\n",
      "  8%|███▎                                     | 82/1000 [00:07<01:20, 11.44it/s]\u001b[A"
     ]
    },
    {
     "name": "stdout",
     "output_type": "stream",
     "text": [
      "0.08870625495910645\n"
     ]
    },
    {
     "name": "stderr",
     "output_type": "stream",
     "text": [
      "\n",
      "  8%|███▍                                     | 84/1000 [00:07<01:19, 11.47it/s]\u001b[A"
     ]
    },
    {
     "name": "stdout",
     "output_type": "stream",
     "text": [
      "0.0851144790649414\n",
      "0.08661270141601562\n",
      "0.08748483657836914\n"
     ]
    },
    {
     "name": "stderr",
     "output_type": "stream",
     "text": [
      "\n",
      "  9%|███▌                                     | 86/1000 [00:07<01:19, 11.43it/s]\u001b[A"
     ]
    },
    {
     "name": "stdout",
     "output_type": "stream",
     "text": [
      "0.08795928955078125\n",
      "0.08389472961425781\n"
     ]
    },
    {
     "name": "stderr",
     "output_type": "stream",
     "text": [
      "\n",
      "  9%|███▌                                     | 88/1000 [00:07<01:19, 11.45it/s]\u001b[A"
     ]
    },
    {
     "name": "stdout",
     "output_type": "stream",
     "text": [
      "0.08899164199829102\n"
     ]
    },
    {
     "name": "stderr",
     "output_type": "stream",
     "text": [
      "\n",
      "  9%|███▋                                     | 90/1000 [00:07<01:19, 11.48it/s]\u001b[A"
     ]
    },
    {
     "name": "stdout",
     "output_type": "stream",
     "text": [
      "0.08530831336975098\n",
      "0.08649992942810059\n",
      "0.08648061752319336\n"
     ]
    },
    {
     "name": "stderr",
     "output_type": "stream",
     "text": [
      "\n",
      "  9%|███▊                                     | 92/1000 [00:08<01:19, 11.44it/s]\u001b[A"
     ]
    },
    {
     "name": "stdout",
     "output_type": "stream",
     "text": [
      "0.08836603164672852\n",
      "0.0842905044555664\n"
     ]
    },
    {
     "name": "stderr",
     "output_type": "stream",
     "text": [
      "\n",
      "  9%|███▊                                     | 94/1000 [00:08<01:19, 11.46it/s]\u001b[A"
     ]
    },
    {
     "name": "stdout",
     "output_type": "stream",
     "text": [
      "0.08823585510253906\n"
     ]
    },
    {
     "name": "stderr",
     "output_type": "stream",
     "text": [
      "\n",
      " 10%|███▉                                     | 96/1000 [00:08<01:19, 11.35it/s]\u001b[A"
     ]
    },
    {
     "name": "stdout",
     "output_type": "stream",
     "text": [
      "0.08656597137451172\n",
      "0.09254622459411621\n",
      "0.08689069747924805\n"
     ]
    },
    {
     "name": "stderr",
     "output_type": "stream",
     "text": [
      "\n",
      " 10%|████                                     | 98/1000 [00:08<01:19, 11.32it/s]\u001b[A"
     ]
    },
    {
     "name": "stdout",
     "output_type": "stream",
     "text": [
      "0.08953309059143066\n",
      "0.08569765090942383\n"
     ]
    },
    {
     "name": "stderr",
     "output_type": "stream",
     "text": [
      "\n",
      " 10%|████                                    | 100/1000 [00:08<01:19, 11.36it/s]\u001b[A"
     ]
    },
    {
     "name": "stdout",
     "output_type": "stream",
     "text": [
      "0.08737921714782715\n"
     ]
    },
    {
     "name": "stderr",
     "output_type": "stream",
     "text": [
      "\n",
      " 10%|████                                    | 102/1000 [00:08<01:18, 11.39it/s]\u001b[A"
     ]
    },
    {
     "name": "stdout",
     "output_type": "stream",
     "text": [
      "0.08715319633483887\n",
      "0.08620786666870117\n",
      "0.08491802215576172\n"
     ]
    },
    {
     "name": "stderr",
     "output_type": "stream",
     "text": [
      "\n",
      " 10%|████▏                                   | 104/1000 [00:09<01:18, 11.41it/s]\u001b[A"
     ]
    },
    {
     "name": "stdout",
     "output_type": "stream",
     "text": [
      "0.08786392211914062\n",
      "0.08464241027832031\n"
     ]
    },
    {
     "name": "stderr",
     "output_type": "stream",
     "text": [
      "\n",
      " 11%|████▏                                   | 106/1000 [00:09<01:17, 11.51it/s]\u001b[A"
     ]
    },
    {
     "name": "stdout",
     "output_type": "stream",
     "text": [
      "0.08384323120117188\n"
     ]
    },
    {
     "name": "stderr",
     "output_type": "stream",
     "text": [
      "\n",
      " 11%|████▎                                   | 108/1000 [00:09<01:17, 11.56it/s]\u001b[A"
     ]
    },
    {
     "name": "stdout",
     "output_type": "stream",
     "text": [
      "0.08751034736633301\n",
      "0.08214259147644043\n",
      "0.08800792694091797\n"
     ]
    },
    {
     "name": "stderr",
     "output_type": "stream",
     "text": [
      "\n",
      " 11%|████▍                                   | 110/1000 [00:09<01:17, 11.53it/s]\u001b[A"
     ]
    },
    {
     "name": "stdout",
     "output_type": "stream",
     "text": [
      "0.08506298065185547\n",
      "0.0854027271270752\n"
     ]
    },
    {
     "name": "stderr",
     "output_type": "stream",
     "text": [
      "\n",
      " 11%|████▍                                   | 112/1000 [00:09<01:16, 11.62it/s]\u001b[A"
     ]
    },
    {
     "name": "stdout",
     "output_type": "stream",
     "text": [
      "0.08264684677124023\n"
     ]
    },
    {
     "name": "stderr",
     "output_type": "stream",
     "text": [
      "\n",
      " 11%|████▌                                   | 114/1000 [00:09<01:16, 11.61it/s]\u001b[A"
     ]
    },
    {
     "name": "stdout",
     "output_type": "stream",
     "text": [
      "0.0885012149810791\n",
      "0.08302807807922363\n",
      "0.08743619918823242\n"
     ]
    },
    {
     "name": "stderr",
     "output_type": "stream",
     "text": [
      "\n",
      " 12%|████▋                                   | 116/1000 [00:10<01:16, 11.57it/s]\u001b[A"
     ]
    },
    {
     "name": "stdout",
     "output_type": "stream",
     "text": [
      "0.08538556098937988\n",
      "0.08583426475524902\n"
     ]
    },
    {
     "name": "stderr",
     "output_type": "stream",
     "text": [
      "\n",
      " 12%|████▋                                   | 118/1000 [00:10<01:15, 11.62it/s]\u001b[A"
     ]
    },
    {
     "name": "stdout",
     "output_type": "stream",
     "text": [
      "0.08321261405944824\n"
     ]
    },
    {
     "name": "stderr",
     "output_type": "stream",
     "text": [
      "\n",
      " 12%|████▊                                   | 120/1000 [00:10<01:15, 11.63it/s]\u001b[A"
     ]
    },
    {
     "name": "stdout",
     "output_type": "stream",
     "text": [
      "0.08755135536193848\n",
      "0.08307933807373047\n",
      "0.08722925186157227\n"
     ]
    },
    {
     "name": "stderr",
     "output_type": "stream",
     "text": [
      "\n",
      " 12%|████▉                                   | 122/1000 [00:10<01:15, 11.60it/s]\u001b[A"
     ]
    },
    {
     "name": "stdout",
     "output_type": "stream",
     "text": [
      "0.08484387397766113\n",
      "0.08744001388549805\n"
     ]
    },
    {
     "name": "stderr",
     "output_type": "stream",
     "text": [
      "\n",
      " 12%|████▉                                   | 124/1000 [00:10<01:15, 11.59it/s]\u001b[A"
     ]
    },
    {
     "name": "stdout",
     "output_type": "stream",
     "text": [
      "0.08414411544799805\n"
     ]
    },
    {
     "name": "stderr",
     "output_type": "stream",
     "text": [
      "\n",
      " 13%|█████                                   | 126/1000 [00:10<01:15, 11.55it/s]\u001b[A"
     ]
    },
    {
     "name": "stdout",
     "output_type": "stream",
     "text": [
      "0.08910346031188965\n",
      "0.08409404754638672\n",
      "0.08744239807128906\n"
     ]
    },
    {
     "name": "stderr",
     "output_type": "stream",
     "text": [
      "\n",
      " 13%|█████                                   | 128/1000 [00:11<01:15, 11.56it/s]\u001b[A"
     ]
    },
    {
     "name": "stdout",
     "output_type": "stream",
     "text": [
      "0.08398938179016113\n",
      "0.0879054069519043\n"
     ]
    },
    {
     "name": "stderr",
     "output_type": "stream",
     "text": [
      "\n",
      " 13%|█████▏                                  | 130/1000 [00:11<01:15, 11.56it/s]\u001b[A"
     ]
    },
    {
     "name": "stdout",
     "output_type": "stream",
     "text": [
      "0.0839548110961914\n"
     ]
    },
    {
     "name": "stderr",
     "output_type": "stream",
     "text": [
      "\n",
      " 13%|█████▎                                  | 132/1000 [00:11<01:15, 11.55it/s]\u001b[A"
     ]
    },
    {
     "name": "stdout",
     "output_type": "stream",
     "text": [
      "0.08702707290649414\n",
      "0.08532166481018066\n",
      "0.08646368980407715\n"
     ]
    },
    {
     "name": "stderr",
     "output_type": "stream",
     "text": [
      "\n",
      " 13%|█████▎                                  | 134/1000 [00:11<01:14, 11.55it/s]\u001b[A"
     ]
    },
    {
     "name": "stdout",
     "output_type": "stream",
     "text": [
      "0.08570146560668945\n",
      "0.08771491050720215\n"
     ]
    },
    {
     "name": "stderr",
     "output_type": "stream",
     "text": [
      "\n",
      " 14%|█████▍                                  | 136/1000 [00:11<01:15, 11.51it/s]\u001b[A"
     ]
    },
    {
     "name": "stdout",
     "output_type": "stream",
     "text": [
      "0.08661556243896484\n"
     ]
    },
    {
     "name": "stderr",
     "output_type": "stream",
     "text": [
      "\n",
      " 14%|█████▌                                  | 138/1000 [00:12<01:14, 11.50it/s]\u001b[A"
     ]
    },
    {
     "name": "stdout",
     "output_type": "stream",
     "text": [
      "0.08797264099121094\n",
      "0.08529925346374512\n",
      "0.08760404586791992\n"
     ]
    },
    {
     "name": "stderr",
     "output_type": "stream",
     "text": [
      "\n",
      " 14%|█████▌                                  | 140/1000 [00:12<01:14, 11.48it/s]\u001b[A"
     ]
    },
    {
     "name": "stdout",
     "output_type": "stream",
     "text": [
      "0.08620166778564453\n",
      "0.0874626636505127\n"
     ]
    },
    {
     "name": "stderr",
     "output_type": "stream",
     "text": [
      "\n",
      " 14%|█████▋                                  | 142/1000 [00:12<01:14, 11.47it/s]\u001b[A"
     ]
    },
    {
     "name": "stdout",
     "output_type": "stream",
     "text": [
      "0.08631515502929688\n"
     ]
    },
    {
     "name": "stderr",
     "output_type": "stream",
     "text": [
      "\n",
      " 14%|█████▊                                  | 144/1000 [00:12<01:14, 11.46it/s]\u001b[A"
     ]
    },
    {
     "name": "stdout",
     "output_type": "stream",
     "text": [
      "0.08562684059143066\n",
      "0.08789491653442383\n",
      "0.08628177642822266\n"
     ]
    },
    {
     "name": "stderr",
     "output_type": "stream",
     "text": [
      "\n",
      " 15%|█████▊                                  | 146/1000 [00:12<01:14, 11.47it/s]\u001b[A"
     ]
    },
    {
     "name": "stdout",
     "output_type": "stream",
     "text": [
      "0.08686208724975586\n",
      "0.08751654624938965\n"
     ]
    },
    {
     "name": "stderr",
     "output_type": "stream",
     "text": [
      "\n",
      " 15%|█████▉                                  | 148/1000 [00:12<01:14, 11.43it/s]\u001b[A"
     ]
    },
    {
     "name": "stdout",
     "output_type": "stream",
     "text": [
      "0.08768081665039062\n"
     ]
    },
    {
     "name": "stderr",
     "output_type": "stream",
     "text": [
      "\n",
      " 15%|██████                                  | 150/1000 [00:13<01:14, 11.44it/s]\u001b[A"
     ]
    },
    {
     "name": "stdout",
     "output_type": "stream",
     "text": [
      "0.08699917793273926\n",
      "0.08633542060852051\n",
      "0.08545970916748047\n"
     ]
    },
    {
     "name": "stderr",
     "output_type": "stream",
     "text": [
      "\n",
      " 15%|██████                                  | 152/1000 [00:13<01:14, 11.46it/s]\u001b[A"
     ]
    },
    {
     "name": "stdout",
     "output_type": "stream",
     "text": [
      "0.08719348907470703\n",
      "0.08641409873962402\n"
     ]
    },
    {
     "name": "stderr",
     "output_type": "stream",
     "text": [
      "\n",
      " 15%|██████▏                                 | 154/1000 [00:13<01:13, 11.46it/s]\u001b[A"
     ]
    },
    {
     "name": "stdout",
     "output_type": "stream",
     "text": [
      "0.0871891975402832\n"
     ]
    },
    {
     "name": "stderr",
     "output_type": "stream",
     "text": [
      "\n",
      " 16%|██████▏                                 | 156/1000 [00:13<01:13, 11.43it/s]\u001b[A"
     ]
    },
    {
     "name": "stdout",
     "output_type": "stream",
     "text": [
      "0.08569955825805664\n",
      "0.08888459205627441\n",
      "0.08569812774658203\n"
     ]
    },
    {
     "name": "stderr",
     "output_type": "stream",
     "text": [
      "\n",
      " 16%|██████▎                                 | 158/1000 [00:13<01:13, 11.46it/s]\u001b[A"
     ]
    },
    {
     "name": "stdout",
     "output_type": "stream",
     "text": [
      "0.08672952651977539\n",
      "0.08520174026489258\n"
     ]
    },
    {
     "name": "stderr",
     "output_type": "stream",
     "text": [
      "\n",
      " 16%|██████▍                                 | 160/1000 [00:13<01:13, 11.49it/s]\u001b[A"
     ]
    },
    {
     "name": "stdout",
     "output_type": "stream",
     "text": [
      "0.08647561073303223\n"
     ]
    },
    {
     "name": "stderr",
     "output_type": "stream",
     "text": [
      "\n",
      " 16%|██████▍                                 | 162/1000 [00:14<01:12, 11.53it/s]\u001b[A"
     ]
    },
    {
     "name": "stdout",
     "output_type": "stream",
     "text": [
      "0.08379411697387695\n",
      "0.08758115768432617\n",
      "0.0841975212097168\n"
     ]
    },
    {
     "name": "stderr",
     "output_type": "stream",
     "text": [
      "\n",
      " 16%|██████▌                                 | 164/1000 [00:14<01:12, 11.57it/s]\u001b[A"
     ]
    },
    {
     "name": "stdout",
     "output_type": "stream",
     "text": [
      "0.08587217330932617\n",
      "0.08566617965698242\n"
     ]
    },
    {
     "name": "stderr",
     "output_type": "stream",
     "text": [
      "\n",
      " 17%|██████▋                                 | 166/1000 [00:14<01:12, 11.56it/s]\u001b[A"
     ]
    },
    {
     "name": "stdout",
     "output_type": "stream",
     "text": [
      "0.08645129203796387\n"
     ]
    },
    {
     "name": "stderr",
     "output_type": "stream",
     "text": [
      "\n",
      " 17%|██████▋                                 | 168/1000 [00:14<01:12, 11.55it/s]\u001b[A"
     ]
    },
    {
     "name": "stdout",
     "output_type": "stream",
     "text": [
      "0.0850381851196289\n",
      "0.08767485618591309\n",
      "0.08488798141479492\n"
     ]
    },
    {
     "name": "stderr",
     "output_type": "stream",
     "text": [
      "\n",
      " 17%|██████▊                                 | 170/1000 [00:14<01:11, 11.54it/s]\u001b[A"
     ]
    },
    {
     "name": "stdout",
     "output_type": "stream",
     "text": [
      "0.087432861328125\n",
      "0.08601570129394531\n"
     ]
    },
    {
     "name": "stderr",
     "output_type": "stream",
     "text": [
      "\n",
      " 17%|██████▉                                 | 172/1000 [00:14<01:11, 11.53it/s]\u001b[A"
     ]
    },
    {
     "name": "stdout",
     "output_type": "stream",
     "text": [
      "0.08677887916564941\n"
     ]
    },
    {
     "name": "stderr",
     "output_type": "stream",
     "text": [
      "\n",
      " 17%|██████▉                                 | 174/1000 [00:15<01:11, 11.51it/s]\u001b[A"
     ]
    },
    {
     "name": "stdout",
     "output_type": "stream",
     "text": [
      "0.08620667457580566\n",
      "0.0869755744934082\n",
      "0.08399343490600586\n"
     ]
    },
    {
     "name": "stderr",
     "output_type": "stream",
     "text": [
      "\n",
      " 18%|███████                                 | 176/1000 [00:15<01:11, 11.58it/s]\u001b[A"
     ]
    },
    {
     "name": "stdout",
     "output_type": "stream",
     "text": [
      "0.08546972274780273\n",
      "0.08500480651855469\n"
     ]
    },
    {
     "name": "stderr",
     "output_type": "stream",
     "text": [
      "\n",
      " 18%|███████                                 | 178/1000 [00:15<01:11, 11.56it/s]\u001b[A"
     ]
    },
    {
     "name": "stdout",
     "output_type": "stream",
     "text": [
      "0.08749008178710938\n"
     ]
    },
    {
     "name": "stderr",
     "output_type": "stream",
     "text": [
      "\n",
      " 18%|███████▏                                | 180/1000 [00:15<01:11, 11.49it/s]\u001b[A"
     ]
    },
    {
     "name": "stdout",
     "output_type": "stream",
     "text": [
      "0.08586382865905762\n",
      "0.08931994438171387\n",
      "0.08553838729858398\n"
     ]
    },
    {
     "name": "stderr",
     "output_type": "stream",
     "text": [
      "\n",
      " 18%|███████▎                                | 182/1000 [00:15<01:11, 11.50it/s]\u001b[A"
     ]
    },
    {
     "name": "stdout",
     "output_type": "stream",
     "text": [
      "0.0867009162902832\n",
      "0.08451485633850098\n"
     ]
    },
    {
     "name": "stderr",
     "output_type": "stream",
     "text": [
      "\n",
      " 18%|███████▎                                | 184/1000 [00:16<01:10, 11.52it/s]\u001b[A"
     ]
    },
    {
     "name": "stdout",
     "output_type": "stream",
     "text": [
      "0.08746099472045898\n"
     ]
    },
    {
     "name": "stderr",
     "output_type": "stream",
     "text": [
      "\n",
      " 19%|███████▍                                | 186/1000 [00:16<01:10, 11.57it/s]\u001b[A"
     ]
    },
    {
     "name": "stdout",
     "output_type": "stream",
     "text": [
      "0.08502674102783203\n",
      "0.08513927459716797\n",
      "0.08559703826904297\n"
     ]
    },
    {
     "name": "stderr",
     "output_type": "stream",
     "text": [
      "\n",
      " 19%|███████▌                                | 188/1000 [00:16<01:10, 11.55it/s]\u001b[A"
     ]
    },
    {
     "name": "stdout",
     "output_type": "stream",
     "text": [
      "0.0871114730834961\n",
      "0.08482003211975098\n"
     ]
    },
    {
     "name": "stderr",
     "output_type": "stream",
     "text": [
      "\n",
      " 19%|███████▌                                | 190/1000 [00:16<01:10, 11.44it/s]\u001b[A"
     ]
    },
    {
     "name": "stdout",
     "output_type": "stream",
     "text": [
      "0.09258747100830078\n"
     ]
    },
    {
     "name": "stderr",
     "output_type": "stream",
     "text": [
      "\n",
      " 19%|███████▋                                | 192/1000 [00:16<01:10, 11.43it/s]\u001b[A"
     ]
    },
    {
     "name": "stdout",
     "output_type": "stream",
     "text": [
      "0.08689141273498535\n",
      "0.08702445030212402\n",
      "0.08547449111938477\n"
     ]
    },
    {
     "name": "stderr",
     "output_type": "stream",
     "text": [
      "\n",
      " 19%|███████▊                                | 194/1000 [00:16<01:10, 11.46it/s]\u001b[A"
     ]
    },
    {
     "name": "stdout",
     "output_type": "stream",
     "text": [
      "0.08706426620483398\n",
      "0.0840902328491211\n"
     ]
    },
    {
     "name": "stderr",
     "output_type": "stream",
     "text": [
      "\n",
      " 20%|███████▊                                | 196/1000 [00:17<01:10, 11.47it/s]\u001b[A"
     ]
    },
    {
     "name": "stdout",
     "output_type": "stream",
     "text": [
      "0.08826565742492676\n"
     ]
    },
    {
     "name": "stderr",
     "output_type": "stream",
     "text": [
      "\n",
      " 20%|███████▉                                | 198/1000 [00:17<01:09, 11.52it/s]\u001b[A"
     ]
    },
    {
     "name": "stdout",
     "output_type": "stream",
     "text": [
      "0.08504128456115723\n",
      "0.0855247974395752\n",
      "0.0873558521270752\n"
     ]
    },
    {
     "name": "stderr",
     "output_type": "stream",
     "text": [
      "\n",
      " 20%|████████                                | 200/1000 [00:17<01:09, 11.49it/s]\u001b[A"
     ]
    },
    {
     "name": "stdout",
     "output_type": "stream",
     "text": [
      "0.08685541152954102\n",
      "0.08339476585388184\n"
     ]
    },
    {
     "name": "stderr",
     "output_type": "stream",
     "text": [
      "\n",
      " 20%|████████                                | 202/1000 [00:17<01:09, 11.48it/s]\u001b[A"
     ]
    },
    {
     "name": "stdout",
     "output_type": "stream",
     "text": [
      "0.08951306343078613\n"
     ]
    },
    {
     "name": "stderr",
     "output_type": "stream",
     "text": [
      "\n",
      " 20%|████████▏                               | 204/1000 [00:17<01:09, 11.50it/s]\u001b[A"
     ]
    },
    {
     "name": "stdout",
     "output_type": "stream",
     "text": [
      "0.08720636367797852\n",
      "0.08494329452514648\n",
      "0.09352946281433105\n"
     ]
    },
    {
     "name": "stderr",
     "output_type": "stream",
     "text": [
      "\n",
      " 21%|████████▏                               | 206/1000 [00:17<01:10, 11.33it/s]\u001b[A"
     ]
    },
    {
     "name": "stdout",
     "output_type": "stream",
     "text": [
      "0.08784842491149902\n",
      "0.08346199989318848\n"
     ]
    },
    {
     "name": "stderr",
     "output_type": "stream",
     "text": [
      "\n",
      " 21%|████████▎                               | 208/1000 [00:18<01:09, 11.39it/s]\u001b[A"
     ]
    },
    {
     "name": "stdout",
     "output_type": "stream",
     "text": [
      "0.0884408950805664\n"
     ]
    },
    {
     "name": "stderr",
     "output_type": "stream",
     "text": [
      "\n",
      " 21%|████████▍                               | 210/1000 [00:18<01:08, 11.48it/s]\u001b[A"
     ]
    },
    {
     "name": "stdout",
     "output_type": "stream",
     "text": [
      "0.08626461029052734\n",
      "0.08384990692138672\n",
      "0.08888602256774902\n"
     ]
    },
    {
     "name": "stderr",
     "output_type": "stream",
     "text": [
      "\n",
      " 21%|████████▍                               | 212/1000 [00:18<01:08, 11.42it/s]\u001b[A"
     ]
    },
    {
     "name": "stdout",
     "output_type": "stream",
     "text": [
      "0.08647561073303223\n",
      "0.0861504077911377\n"
     ]
    },
    {
     "name": "stderr",
     "output_type": "stream",
     "text": [
      "\n",
      " 21%|████████▌                               | 214/1000 [00:18<01:08, 11.43it/s]\u001b[A"
     ]
    },
    {
     "name": "stdout",
     "output_type": "stream",
     "text": [
      "0.08752012252807617\n"
     ]
    },
    {
     "name": "stderr",
     "output_type": "stream",
     "text": [
      "\n",
      " 22%|████████▋                               | 216/1000 [00:18<01:08, 11.44it/s]\u001b[A"
     ]
    },
    {
     "name": "stdout",
     "output_type": "stream",
     "text": [
      "0.0878903865814209\n",
      "0.08524441719055176\n",
      "0.0873558521270752\n"
     ]
    },
    {
     "name": "stderr",
     "output_type": "stream",
     "text": [
      "\n",
      " 22%|████████▋                               | 218/1000 [00:18<01:08, 11.43it/s]\u001b[A"
     ]
    },
    {
     "name": "stdout",
     "output_type": "stream",
     "text": [
      "0.08690667152404785\n",
      "0.08881235122680664\n"
     ]
    },
    {
     "name": "stderr",
     "output_type": "stream",
     "text": [
      "\n",
      " 22%|████████▊                               | 220/1000 [00:19<01:08, 11.38it/s]\u001b[A"
     ]
    },
    {
     "name": "stdout",
     "output_type": "stream",
     "text": [
      "0.08710932731628418\n"
     ]
    },
    {
     "name": "stderr",
     "output_type": "stream",
     "text": [
      "\n",
      " 22%|████████▉                               | 222/1000 [00:19<01:08, 11.43it/s]\u001b[A"
     ]
    },
    {
     "name": "stdout",
     "output_type": "stream",
     "text": [
      "0.08754801750183105\n",
      "0.08463764190673828\n",
      "0.08773374557495117\n"
     ]
    },
    {
     "name": "stderr",
     "output_type": "stream",
     "text": [
      "\n",
      " 22%|████████▉                               | 224/1000 [00:19<01:24,  9.18it/s]\u001b[A\n",
      " 23%|█████████                               | 226/1000 [00:19<01:18,  9.80it/s]\u001b[A"
     ]
    },
    {
     "name": "stdout",
     "output_type": "stream",
     "text": [
      "0.22860193252563477\n",
      "0.08679938316345215\n",
      "0.08395957946777344\n"
     ]
    },
    {
     "name": "stderr",
     "output_type": "stream",
     "text": [
      "\n",
      " 23%|█████████                               | 228/1000 [00:20<01:15, 10.27it/s]\u001b[A"
     ]
    },
    {
     "name": "stdout",
     "output_type": "stream",
     "text": [
      "0.08851957321166992\n",
      "0.08355545997619629\n",
      "0.08959412574768066\n"
     ]
    },
    {
     "name": "stderr",
     "output_type": "stream",
     "text": [
      "\n",
      " 23%|█████████▏                              | 230/1000 [00:20<01:13, 10.54it/s]\u001b[A\n",
      " 23%|█████████▎                              | 232/1000 [00:20<01:10, 10.83it/s]\u001b[A"
     ]
    },
    {
     "name": "stdout",
     "output_type": "stream",
     "text": [
      "0.08728289604187012\n",
      "0.08811807632446289\n",
      "0.08362150192260742\n"
     ]
    },
    {
     "name": "stderr",
     "output_type": "stream",
     "text": [
      "\n",
      " 23%|█████████▎                              | 234/1000 [00:20<01:09, 10.98it/s]\u001b[A"
     ]
    },
    {
     "name": "stdout",
     "output_type": "stream",
     "text": [
      "0.09023499488830566\n",
      "0.08466410636901855\n",
      "0.08713150024414062\n"
     ]
    },
    {
     "name": "stderr",
     "output_type": "stream",
     "text": [
      "\n",
      " 24%|█████████▍                              | 236/1000 [00:20<01:08, 11.09it/s]\u001b[A\n",
      " 24%|█████████▌                              | 238/1000 [00:20<01:07, 11.21it/s]\u001b[A"
     ]
    },
    {
     "name": "stdout",
     "output_type": "stream",
     "text": [
      "0.08804154396057129\n",
      "0.089141845703125\n",
      "0.08339309692382812\n"
     ]
    },
    {
     "name": "stderr",
     "output_type": "stream",
     "text": [
      "\n",
      " 24%|█████████▌                              | 240/1000 [00:21<01:07, 11.27it/s]\u001b[A"
     ]
    },
    {
     "name": "stdout",
     "output_type": "stream",
     "text": [
      "0.09004616737365723\n",
      "0.08423280715942383\n",
      "0.09049224853515625\n"
     ]
    },
    {
     "name": "stderr",
     "output_type": "stream",
     "text": [
      "\n",
      " 24%|█████████▋                              | 242/1000 [00:21<01:07, 11.23it/s]\u001b[A\n",
      " 24%|█████████▊                              | 244/1000 [00:21<01:06, 11.32it/s]\u001b[A"
     ]
    },
    {
     "name": "stdout",
     "output_type": "stream",
     "text": [
      "0.08784985542297363\n",
      "0.08818674087524414\n",
      "0.0843050479888916\n"
     ]
    },
    {
     "name": "stderr",
     "output_type": "stream",
     "text": [
      "\n",
      " 25%|█████████▊                              | 246/1000 [00:21<01:06, 11.33it/s]\u001b[A"
     ]
    },
    {
     "name": "stdout",
     "output_type": "stream",
     "text": [
      "0.09108757972717285\n",
      "0.08398199081420898\n",
      "0.08891868591308594\n"
     ]
    },
    {
     "name": "stderr",
     "output_type": "stream",
     "text": [
      "\n",
      " 25%|█████████▉                              | 248/1000 [00:21<01:06, 11.28it/s]\u001b[A\n",
      " 25%|██████████                              | 250/1000 [00:21<01:05, 11.37it/s]\u001b[A"
     ]
    },
    {
     "name": "stdout",
     "output_type": "stream",
     "text": [
      "0.08879709243774414\n",
      "0.08759140968322754\n",
      "0.08367753028869629\n"
     ]
    },
    {
     "name": "stderr",
     "output_type": "stream",
     "text": [
      "\n",
      " 25%|██████████                              | 252/1000 [00:22<01:05, 11.34it/s]\u001b[A"
     ]
    },
    {
     "name": "stdout",
     "output_type": "stream",
     "text": [
      "0.09162116050720215\n",
      "0.08498024940490723\n",
      "0.0866096019744873\n"
     ]
    },
    {
     "name": "stderr",
     "output_type": "stream",
     "text": [
      "\n",
      " 25%|██████████▏                             | 254/1000 [00:22<01:05, 11.35it/s]\u001b[A\n",
      " 26%|██████████▏                             | 256/1000 [00:22<01:05, 11.41it/s]\u001b[A"
     ]
    },
    {
     "name": "stdout",
     "output_type": "stream",
     "text": [
      "0.08796024322509766\n",
      "0.08837890625\n",
      "0.08332252502441406\n"
     ]
    },
    {
     "name": "stderr",
     "output_type": "stream",
     "text": [
      "\n",
      " 26%|██████████▎                             | 258/1000 [00:22<01:05, 11.37it/s]\u001b[A"
     ]
    },
    {
     "name": "stdout",
     "output_type": "stream",
     "text": [
      "0.09113883972167969\n",
      "0.08531761169433594\n",
      "0.08734583854675293\n"
     ]
    },
    {
     "name": "stderr",
     "output_type": "stream",
     "text": [
      "\n",
      " 26%|██████████▍                             | 260/1000 [00:22<01:05, 11.35it/s]\u001b[A\n",
      " 26%|██████████▍                             | 262/1000 [00:22<01:04, 11.38it/s]\u001b[A"
     ]
    },
    {
     "name": "stdout",
     "output_type": "stream",
     "text": [
      "0.0882418155670166\n",
      "0.08958053588867188\n",
      "0.08391761779785156\n"
     ]
    },
    {
     "name": "stderr",
     "output_type": "stream",
     "text": [
      "\n",
      " 26%|██████████▌                             | 264/1000 [00:23<01:04, 11.36it/s]\u001b[A"
     ]
    },
    {
     "name": "stdout",
     "output_type": "stream",
     "text": [
      "0.09186387062072754\n",
      "0.08394265174865723\n",
      "0.08915996551513672\n"
     ]
    },
    {
     "name": "stderr",
     "output_type": "stream",
     "text": [
      "\n",
      " 27%|██████████▋                             | 266/1000 [00:23<01:04, 11.33it/s]\u001b[A\n",
      " 27%|██████████▋                             | 268/1000 [00:23<01:04, 11.36it/s]\u001b[A"
     ]
    },
    {
     "name": "stdout",
     "output_type": "stream",
     "text": [
      "0.08734416961669922\n",
      "0.08862805366516113\n",
      "0.08495163917541504\n"
     ]
    },
    {
     "name": "stderr",
     "output_type": "stream",
     "text": [
      "\n",
      " 27%|██████████▊                             | 270/1000 [00:23<01:04, 11.37it/s]\u001b[A"
     ]
    },
    {
     "name": "stdout",
     "output_type": "stream",
     "text": [
      "0.09055948257446289\n",
      "0.08391475677490234\n",
      "0.0883035659790039\n"
     ]
    },
    {
     "name": "stderr",
     "output_type": "stream",
     "text": [
      "\n",
      " 27%|██████████▉                             | 272/1000 [00:23<01:04, 11.34it/s]\u001b[A\n",
      " 27%|██████████▉                             | 274/1000 [00:24<01:03, 11.39it/s]\u001b[A"
     ]
    },
    {
     "name": "stdout",
     "output_type": "stream",
     "text": [
      "0.0876767635345459\n",
      "0.08948421478271484\n",
      "0.08355522155761719\n"
     ]
    },
    {
     "name": "stderr",
     "output_type": "stream",
     "text": [
      "\n",
      " 28%|███████████                             | 276/1000 [00:24<01:03, 11.41it/s]\u001b[A"
     ]
    },
    {
     "name": "stdout",
     "output_type": "stream",
     "text": [
      "0.0890045166015625\n",
      "0.08434391021728516\n",
      "0.08814382553100586\n"
     ]
    },
    {
     "name": "stderr",
     "output_type": "stream",
     "text": [
      "\n",
      " 28%|███████████                             | 278/1000 [00:24<01:03, 11.40it/s]\u001b[A\n",
      " 28%|███████████▏                            | 280/1000 [00:24<01:03, 11.40it/s]\u001b[A"
     ]
    },
    {
     "name": "stdout",
     "output_type": "stream",
     "text": [
      "0.08655834197998047\n",
      "0.08986997604370117\n",
      "0.08440876007080078\n"
     ]
    },
    {
     "name": "stderr",
     "output_type": "stream",
     "text": [
      "\n",
      " 28%|███████████▎                            | 282/1000 [00:24<01:03, 11.37it/s]\u001b[A"
     ]
    },
    {
     "name": "stdout",
     "output_type": "stream",
     "text": [
      "0.09184622764587402\n",
      "0.08394002914428711\n",
      "0.08999371528625488\n"
     ]
    },
    {
     "name": "stderr",
     "output_type": "stream",
     "text": [
      "\n",
      " 28%|███████████▎                            | 284/1000 [00:24<01:03, 11.32it/s]\u001b[A\n",
      " 29%|███████████▍                            | 286/1000 [00:25<01:02, 11.40it/s]\u001b[A"
     ]
    },
    {
     "name": "stdout",
     "output_type": "stream",
     "text": [
      "0.0874631404876709\n",
      "0.08706474304199219\n",
      "0.08439421653747559\n"
     ]
    },
    {
     "name": "stderr",
     "output_type": "stream",
     "text": [
      "\n",
      " 29%|███████████▌                            | 288/1000 [00:25<01:02, 11.39it/s]\u001b[A"
     ]
    },
    {
     "name": "stdout",
     "output_type": "stream",
     "text": [
      "0.09061384201049805\n",
      "0.08411383628845215\n",
      "0.0894014835357666\n"
     ]
    },
    {
     "name": "stderr",
     "output_type": "stream",
     "text": [
      "\n",
      " 29%|███████████▌                            | 290/1000 [00:25<01:02, 11.38it/s]\u001b[A\n",
      " 29%|███████████▋                            | 292/1000 [00:25<01:02, 11.36it/s]\u001b[A"
     ]
    },
    {
     "name": "stdout",
     "output_type": "stream",
     "text": [
      "0.08565592765808105\n",
      "0.09161162376403809\n",
      "0.08395576477050781\n"
     ]
    },
    {
     "name": "stderr",
     "output_type": "stream",
     "text": [
      "\n",
      " 29%|███████████▊                            | 294/1000 [00:25<01:02, 11.38it/s]\u001b[A"
     ]
    },
    {
     "name": "stdout",
     "output_type": "stream",
     "text": [
      "0.08911728858947754\n",
      "0.08483219146728516\n",
      "0.08916163444519043\n"
     ]
    },
    {
     "name": "stderr",
     "output_type": "stream",
     "text": [
      "\n",
      " 30%|███████████▊                            | 296/1000 [00:25<01:02, 11.33it/s]\u001b[A\n",
      " 30%|███████████▉                            | 298/1000 [00:26<01:02, 11.31it/s]\u001b[A"
     ]
    },
    {
     "name": "stdout",
     "output_type": "stream",
     "text": [
      "0.08795952796936035\n",
      "0.09200930595397949\n",
      "0.08435893058776855\n"
     ]
    },
    {
     "name": "stderr",
     "output_type": "stream",
     "text": [
      "\n",
      " 30%|████████████                            | 300/1000 [00:26<01:02, 11.25it/s]\u001b[A"
     ]
    },
    {
     "name": "stdout",
     "output_type": "stream",
     "text": [
      "0.09520745277404785\n",
      "0.0836033821105957\n",
      "0.08933377265930176\n"
     ]
    },
    {
     "name": "stderr",
     "output_type": "stream",
     "text": [
      "\n",
      " 30%|████████████                            | 302/1000 [00:26<01:02, 11.22it/s]\u001b[A\n",
      " 30%|████████████▏                           | 304/1000 [00:26<01:02, 11.22it/s]\u001b[A"
     ]
    },
    {
     "name": "stdout",
     "output_type": "stream",
     "text": [
      "0.08839845657348633\n",
      "0.09051322937011719\n",
      "0.08663487434387207\n"
     ]
    },
    {
     "name": "stderr",
     "output_type": "stream",
     "text": [
      "\n",
      " 31%|████████████▏                           | 306/1000 [00:26<01:01, 11.21it/s]\u001b[A"
     ]
    },
    {
     "name": "stdout",
     "output_type": "stream",
     "text": [
      "0.09393763542175293\n",
      "0.08364534378051758\n",
      "0.08904457092285156\n"
     ]
    },
    {
     "name": "stderr",
     "output_type": "stream",
     "text": [
      "\n",
      " 31%|████████████▎                           | 308/1000 [00:27<01:01, 11.23it/s]\u001b[A\n",
      " 31%|████████████▍                           | 310/1000 [00:27<01:01, 11.30it/s]\u001b[A"
     ]
    },
    {
     "name": "stdout",
     "output_type": "stream",
     "text": [
      "0.08718276023864746\n",
      "0.08957791328430176\n",
      "0.0836648941040039\n"
     ]
    },
    {
     "name": "stderr",
     "output_type": "stream",
     "text": [
      "\n",
      " 31%|████████████▍                           | 312/1000 [00:27<01:00, 11.32it/s]\u001b[A"
     ]
    },
    {
     "name": "stdout",
     "output_type": "stream",
     "text": [
      "0.09125518798828125\n",
      "0.08360719680786133\n",
      "0.09192776679992676\n"
     ]
    },
    {
     "name": "stderr",
     "output_type": "stream",
     "text": [
      "\n",
      " 31%|████████████▌                           | 314/1000 [00:27<01:01, 11.23it/s]\u001b[A\n",
      " 32%|████████████▋                           | 316/1000 [00:27<01:00, 11.25it/s]\u001b[A"
     ]
    },
    {
     "name": "stdout",
     "output_type": "stream",
     "text": [
      "0.08818674087524414\n",
      "0.08979225158691406\n",
      "0.08606791496276855\n"
     ]
    },
    {
     "name": "stderr",
     "output_type": "stream",
     "text": [
      "\n",
      " 32%|████████████▋                           | 318/1000 [00:27<01:00, 11.24it/s]\u001b[A"
     ]
    },
    {
     "name": "stdout",
     "output_type": "stream",
     "text": [
      "0.09324073791503906\n",
      "0.08401894569396973\n",
      "0.09068870544433594\n"
     ]
    },
    {
     "name": "stderr",
     "output_type": "stream",
     "text": [
      "\n",
      " 32%|████████████▊                           | 320/1000 [00:28<01:00, 11.15it/s]\u001b[A\n",
      " 32%|████████████▉                           | 322/1000 [00:28<01:00, 11.21it/s]\u001b[A"
     ]
    },
    {
     "name": "stdout",
     "output_type": "stream",
     "text": [
      "0.09052252769470215\n",
      "0.08866381645202637\n",
      "0.08662867546081543\n"
     ]
    },
    {
     "name": "stderr",
     "output_type": "stream",
     "text": [
      "\n",
      " 32%|████████████▉                           | 324/1000 [00:28<01:00, 11.25it/s]\u001b[A"
     ]
    },
    {
     "name": "stdout",
     "output_type": "stream",
     "text": [
      "0.09126424789428711\n",
      "0.08355569839477539\n",
      "0.08905863761901855\n"
     ]
    },
    {
     "name": "stderr",
     "output_type": "stream",
     "text": [
      "\n",
      " 33%|█████████████                           | 326/1000 [00:28<00:59, 11.26it/s]\u001b[A\n",
      " 33%|█████████████                           | 328/1000 [00:28<00:59, 11.30it/s]\u001b[A"
     ]
    },
    {
     "name": "stdout",
     "output_type": "stream",
     "text": [
      "0.08754372596740723\n",
      "0.08844161033630371\n",
      "0.08560585975646973\n"
     ]
    },
    {
     "name": "stderr",
     "output_type": "stream",
     "text": [
      "\n",
      " 33%|█████████████▏                          | 330/1000 [00:29<00:59, 11.34it/s]\u001b[A"
     ]
    },
    {
     "name": "stdout",
     "output_type": "stream",
     "text": [
      "0.08970808982849121\n",
      "0.0840916633605957\n",
      "0.08875060081481934\n"
     ]
    },
    {
     "name": "stderr",
     "output_type": "stream",
     "text": [
      "\n",
      " 33%|█████████████▎                          | 332/1000 [00:29<00:59, 11.31it/s]\u001b[A\n",
      " 33%|█████████████▎                          | 334/1000 [00:29<00:58, 11.35it/s]\u001b[A"
     ]
    },
    {
     "name": "stdout",
     "output_type": "stream",
     "text": [
      "0.08813977241516113\n",
      "0.08791041374206543\n",
      "0.08576130867004395\n"
     ]
    },
    {
     "name": "stderr",
     "output_type": "stream",
     "text": [
      "\n",
      " 34%|█████████████▍                          | 336/1000 [00:29<00:58, 11.36it/s]\u001b[A"
     ]
    },
    {
     "name": "stdout",
     "output_type": "stream",
     "text": [
      "0.08954453468322754\n",
      "0.08510541915893555\n",
      "0.08905959129333496\n"
     ]
    },
    {
     "name": "stderr",
     "output_type": "stream",
     "text": [
      "\n",
      " 34%|█████████████▌                          | 338/1000 [00:29<00:58, 11.34it/s]\u001b[A\n",
      " 34%|█████████████▌                          | 340/1000 [00:29<00:58, 11.37it/s]\u001b[A"
     ]
    },
    {
     "name": "stdout",
     "output_type": "stream",
     "text": [
      "0.08643078804016113\n",
      "0.08784961700439453\n",
      "0.08579611778259277\n"
     ]
    },
    {
     "name": "stderr",
     "output_type": "stream",
     "text": [
      "\n",
      " 34%|█████████████▋                          | 342/1000 [00:30<00:57, 11.41it/s]\u001b[A"
     ]
    },
    {
     "name": "stdout",
     "output_type": "stream",
     "text": [
      "0.0877828598022461\n",
      "0.08488631248474121\n",
      "0.08749985694885254\n"
     ]
    },
    {
     "name": "stderr",
     "output_type": "stream",
     "text": [
      "\n",
      " 34%|█████████████▊                          | 344/1000 [00:30<00:57, 11.39it/s]\u001b[A\n",
      " 35%|█████████████▊                          | 346/1000 [00:30<00:57, 11.41it/s]\u001b[A"
     ]
    },
    {
     "name": "stdout",
     "output_type": "stream",
     "text": [
      "0.08760261535644531\n",
      "0.0859992504119873\n",
      "0.08702254295349121\n"
     ]
    },
    {
     "name": "stderr",
     "output_type": "stream",
     "text": [
      "\n",
      " 35%|█████████████▉                          | 348/1000 [00:30<00:56, 11.45it/s]\u001b[A"
     ]
    },
    {
     "name": "stdout",
     "output_type": "stream",
     "text": [
      "0.08707356452941895\n",
      "0.08507466316223145\n",
      "0.08753299713134766\n"
     ]
    },
    {
     "name": "stderr",
     "output_type": "stream",
     "text": [
      "\n",
      " 35%|██████████████                          | 350/1000 [00:30<00:56, 11.44it/s]\u001b[A\n",
      " 35%|██████████████                          | 352/1000 [00:30<00:56, 11.38it/s]\u001b[A"
     ]
    },
    {
     "name": "stdout",
     "output_type": "stream",
     "text": [
      "0.0860130786895752\n",
      "0.08925318717956543\n",
      "0.08722162246704102\n"
     ]
    },
    {
     "name": "stderr",
     "output_type": "stream",
     "text": [
      "\n",
      " 35%|██████████████▏                         | 354/1000 [00:31<00:56, 11.42it/s]\u001b[A"
     ]
    },
    {
     "name": "stdout",
     "output_type": "stream",
     "text": [
      "0.0872201919555664\n",
      "0.08507609367370605\n",
      "0.08745312690734863\n"
     ]
    },
    {
     "name": "stderr",
     "output_type": "stream",
     "text": [
      "\n",
      " 36%|██████████████▏                         | 356/1000 [00:31<00:56, 11.39it/s]\u001b[A\n",
      " 36%|██████████████▎                         | 358/1000 [00:31<00:56, 11.41it/s]\u001b[A"
     ]
    },
    {
     "name": "stdout",
     "output_type": "stream",
     "text": [
      "0.08793473243713379\n",
      "0.08628106117248535\n",
      "0.08713531494140625\n"
     ]
    },
    {
     "name": "stderr",
     "output_type": "stream",
     "text": [
      "\n",
      " 36%|██████████████▍                         | 360/1000 [00:31<00:55, 11.43it/s]\u001b[A"
     ]
    },
    {
     "name": "stdout",
     "output_type": "stream",
     "text": [
      "0.08746075630187988\n",
      "0.08511209487915039\n",
      "0.0888214111328125\n"
     ]
    },
    {
     "name": "stderr",
     "output_type": "stream",
     "text": [
      "\n",
      " 36%|██████████████▍                         | 362/1000 [00:31<00:55, 11.40it/s]\u001b[A\n",
      " 36%|██████████████▌                         | 364/1000 [00:31<00:55, 11.39it/s]\u001b[A"
     ]
    },
    {
     "name": "stdout",
     "output_type": "stream",
     "text": [
      "0.08657503128051758\n",
      "0.08646106719970703\n",
      "0.0881345272064209\n"
     ]
    },
    {
     "name": "stderr",
     "output_type": "stream",
     "text": [
      "\n",
      " 37%|██████████████▋                         | 366/1000 [00:32<00:55, 11.34it/s]\u001b[A"
     ]
    },
    {
     "name": "stdout",
     "output_type": "stream",
     "text": [
      "0.08770561218261719\n",
      "0.08854556083679199\n",
      "0.08759713172912598\n"
     ]
    },
    {
     "name": "stderr",
     "output_type": "stream",
     "text": [
      "\n",
      " 37%|██████████████▋                         | 368/1000 [00:32<00:55, 11.30it/s]\u001b[A\n",
      " 37%|██████████████▊                         | 370/1000 [00:32<00:55, 11.25it/s]\u001b[A"
     ]
    },
    {
     "name": "stdout",
     "output_type": "stream",
     "text": [
      "0.08982348442077637\n",
      "0.08791875839233398\n",
      "0.09023571014404297\n"
     ]
    },
    {
     "name": "stderr",
     "output_type": "stream",
     "text": [
      "\n",
      " 37%|██████████████▉                         | 372/1000 [00:32<00:55, 11.29it/s]\u001b[A"
     ]
    },
    {
     "name": "stdout",
     "output_type": "stream",
     "text": [
      "0.08655619621276855\n",
      "0.08756208419799805\n",
      "0.08818769454956055\n"
     ]
    },
    {
     "name": "stderr",
     "output_type": "stream",
     "text": [
      "\n",
      " 37%|██████████████▉                         | 374/1000 [00:32<00:55, 11.20it/s]\u001b[A\n",
      " 38%|███████████████                         | 376/1000 [00:33<00:55, 11.28it/s]\u001b[A"
     ]
    },
    {
     "name": "stdout",
     "output_type": "stream",
     "text": [
      "0.09266519546508789\n",
      "0.0845339298248291\n",
      "0.0885002613067627\n"
     ]
    },
    {
     "name": "stderr",
     "output_type": "stream",
     "text": [
      "\n",
      " 38%|███████████████                         | 378/1000 [00:33<00:55, 11.24it/s]\u001b[A"
     ]
    },
    {
     "name": "stdout",
     "output_type": "stream",
     "text": [
      "0.09076714515686035\n",
      "0.08720684051513672\n",
      "0.08832645416259766\n"
     ]
    },
    {
     "name": "stderr",
     "output_type": "stream",
     "text": [
      "\n",
      " 38%|███████████████▏                        | 380/1000 [00:33<00:55, 11.20it/s]\u001b[A\n",
      " 38%|███████████████▎                        | 382/1000 [00:33<00:55, 11.23it/s]\u001b[A"
     ]
    },
    {
     "name": "stdout",
     "output_type": "stream",
     "text": [
      "0.0905904769897461\n",
      "0.08710169792175293\n",
      "0.0884401798248291\n"
     ]
    },
    {
     "name": "stderr",
     "output_type": "stream",
     "text": [
      "\n",
      " 38%|███████████████▎                        | 384/1000 [00:33<00:54, 11.27it/s]\u001b[A"
     ]
    },
    {
     "name": "stdout",
     "output_type": "stream",
     "text": [
      "0.08614873886108398\n",
      "0.08832716941833496\n",
      "0.08570122718811035\n"
     ]
    },
    {
     "name": "stderr",
     "output_type": "stream",
     "text": [
      "\n",
      " 39%|███████████████▍                        | 386/1000 [00:33<00:54, 11.33it/s]\u001b[A\n",
      " 39%|███████████████▌                        | 388/1000 [00:34<00:53, 11.34it/s]\u001b[A"
     ]
    },
    {
     "name": "stdout",
     "output_type": "stream",
     "text": [
      "0.08781194686889648\n",
      "0.0863807201385498\n",
      "0.0881357192993164\n"
     ]
    },
    {
     "name": "stderr",
     "output_type": "stream",
     "text": [
      "\n",
      " 39%|███████████████▌                        | 390/1000 [00:34<00:54, 11.21it/s]\u001b[A"
     ]
    },
    {
     "name": "stdout",
     "output_type": "stream",
     "text": [
      "0.08903741836547852\n",
      "0.09297871589660645\n",
      "0.08431649208068848\n"
     ]
    },
    {
     "name": "stderr",
     "output_type": "stream",
     "text": [
      "\n",
      " 39%|███████████████▋                        | 392/1000 [00:34<00:54, 11.25it/s]\u001b[A\n",
      " 39%|███████████████▊                        | 394/1000 [00:34<00:53, 11.24it/s]\u001b[A"
     ]
    },
    {
     "name": "stdout",
     "output_type": "stream",
     "text": [
      "0.09093546867370605\n",
      "0.08941936492919922\n",
      "0.08744525909423828\n"
     ]
    },
    {
     "name": "stderr",
     "output_type": "stream",
     "text": [
      "\n",
      " 40%|███████████████▊                        | 396/1000 [00:34<00:53, 11.29it/s]\u001b[A"
     ]
    },
    {
     "name": "stdout",
     "output_type": "stream",
     "text": [
      "0.08602643013000488\n",
      "0.08799910545349121\n",
      "0.0880136489868164\n"
     ]
    },
    {
     "name": "stderr",
     "output_type": "stream",
     "text": [
      "\n",
      " 40%|███████████████▉                        | 398/1000 [00:35<00:53, 11.24it/s]\u001b[A\n",
      " 40%|████████████████                        | 400/1000 [00:35<00:53, 11.28it/s]\u001b[A"
     ]
    },
    {
     "name": "stdout",
     "output_type": "stream",
     "text": [
      "0.09078264236450195\n",
      "0.08746123313903809\n",
      "0.08724594116210938\n"
     ]
    },
    {
     "name": "stderr",
     "output_type": "stream",
     "text": [
      "\n",
      " 40%|████████████████                        | 402/1000 [00:35<00:52, 11.32it/s]\u001b[A"
     ]
    },
    {
     "name": "stdout",
     "output_type": "stream",
     "text": [
      "0.08562064170837402\n",
      "0.08820986747741699\n",
      "0.08465290069580078\n"
     ]
    },
    {
     "name": "stderr",
     "output_type": "stream",
     "text": [
      "\n",
      " 40%|████████████████▏                       | 404/1000 [00:35<00:52, 11.37it/s]\u001b[A\n",
      " 41%|████████████████▏                       | 406/1000 [00:35<00:52, 11.40it/s]\u001b[A"
     ]
    },
    {
     "name": "stdout",
     "output_type": "stream",
     "text": [
      "0.08810997009277344\n",
      "0.08667135238647461\n",
      "0.08634829521179199\n"
     ]
    },
    {
     "name": "stderr",
     "output_type": "stream",
     "text": [
      "\n",
      " 41%|████████████████▎                       | 408/1000 [00:35<00:51, 11.41it/s]\u001b[A"
     ]
    },
    {
     "name": "stdout",
     "output_type": "stream",
     "text": [
      "0.08605718612670898\n",
      "0.0879971981048584\n",
      "0.08439421653747559\n"
     ]
    },
    {
     "name": "stderr",
     "output_type": "stream",
     "text": [
      "\n",
      " 41%|████████████████▍                       | 410/1000 [00:36<00:51, 11.43it/s]\u001b[A\n",
      " 41%|████████████████▍                       | 412/1000 [00:36<00:51, 11.38it/s]\u001b[A"
     ]
    },
    {
     "name": "stdout",
     "output_type": "stream",
     "text": [
      "0.08872365951538086\n",
      "0.0891108512878418\n",
      "0.08716011047363281\n"
     ]
    },
    {
     "name": "stderr",
     "output_type": "stream",
     "text": [
      "\n",
      " 41%|████████████████▌                       | 414/1000 [00:36<00:51, 11.37it/s]\u001b[A"
     ]
    },
    {
     "name": "stdout",
     "output_type": "stream",
     "text": [
      "0.08691072463989258\n",
      "0.0882418155670166\n",
      "0.08490276336669922\n"
     ]
    },
    {
     "name": "stderr",
     "output_type": "stream",
     "text": [
      "\n",
      " 42%|████████████████▋                       | 416/1000 [00:36<00:51, 11.41it/s]\u001b[A\n",
      " 42%|████████████████▋                       | 418/1000 [00:36<00:50, 11.41it/s]\u001b[A"
     ]
    },
    {
     "name": "stdout",
     "output_type": "stream",
     "text": [
      "0.0879814624786377\n",
      "0.08669805526733398\n",
      "0.08718299865722656\n"
     ]
    },
    {
     "name": "stderr",
     "output_type": "stream",
     "text": [
      "\n",
      " 42%|████████████████▊                       | 420/1000 [00:36<00:50, 11.43it/s]\u001b[A"
     ]
    },
    {
     "name": "stdout",
     "output_type": "stream",
     "text": [
      "0.08511710166931152\n",
      "0.08808493614196777\n",
      "0.0875236988067627\n"
     ]
    },
    {
     "name": "stderr",
     "output_type": "stream",
     "text": [
      "\n",
      " 42%|████████████████▉                       | 422/1000 [00:37<00:50, 11.41it/s]\u001b[A\n",
      " 42%|████████████████▉                       | 424/1000 [00:37<00:50, 11.38it/s]\u001b[A"
     ]
    },
    {
     "name": "stdout",
     "output_type": "stream",
     "text": [
      "0.08729100227355957\n",
      "0.08983492851257324\n",
      "0.08581686019897461\n"
     ]
    },
    {
     "name": "stderr",
     "output_type": "stream",
     "text": [
      "\n",
      " 43%|█████████████████                       | 426/1000 [00:37<00:50, 11.33it/s]\u001b[A"
     ]
    },
    {
     "name": "stdout",
     "output_type": "stream",
     "text": [
      "0.08901023864746094\n",
      "0.08808755874633789\n",
      "0.08778882026672363\n"
     ]
    },
    {
     "name": "stderr",
     "output_type": "stream",
     "text": [
      "\n",
      " 43%|█████████████████                       | 428/1000 [00:37<00:50, 11.32it/s]\u001b[A\n",
      " 43%|█████████████████▏                      | 430/1000 [00:37<00:50, 11.28it/s]\u001b[A"
     ]
    },
    {
     "name": "stdout",
     "output_type": "stream",
     "text": [
      "0.08846402168273926\n",
      "0.0904386043548584\n",
      "0.08728790283203125\n"
     ]
    },
    {
     "name": "stderr",
     "output_type": "stream",
     "text": [
      "\n",
      " 43%|█████████████████▎                      | 432/1000 [00:38<00:50, 11.26it/s]\u001b[A"
     ]
    },
    {
     "name": "stdout",
     "output_type": "stream",
     "text": [
      "0.08765554428100586\n",
      "0.08939814567565918\n",
      "0.08506512641906738\n"
     ]
    },
    {
     "name": "stderr",
     "output_type": "stream",
     "text": [
      "\n",
      " 43%|█████████████████▎                      | 434/1000 [00:38<00:50, 11.32it/s]\u001b[A\n",
      " 44%|█████████████████▍                      | 436/1000 [00:38<00:49, 11.39it/s]\u001b[A"
     ]
    },
    {
     "name": "stdout",
     "output_type": "stream",
     "text": [
      "0.08847856521606445\n",
      "0.08642578125\n",
      "0.08549141883850098\n"
     ]
    },
    {
     "name": "stderr",
     "output_type": "stream",
     "text": [
      "\n",
      " 44%|█████████████████▌                      | 438/1000 [00:38<00:49, 11.39it/s]\u001b[A"
     ]
    },
    {
     "name": "stdout",
     "output_type": "stream",
     "text": [
      "0.08589744567871094\n",
      "0.08849501609802246\n",
      "0.08492088317871094\n"
     ]
    },
    {
     "name": "stderr",
     "output_type": "stream",
     "text": [
      "\n",
      " 44%|█████████████████▌                      | 440/1000 [00:38<00:49, 11.42it/s]\u001b[A\n",
      " 44%|█████████████████▋                      | 442/1000 [00:38<00:48, 11.43it/s]\u001b[A"
     ]
    },
    {
     "name": "stdout",
     "output_type": "stream",
     "text": [
      "0.08821415901184082\n",
      "0.08606696128845215\n",
      "0.08751678466796875\n"
     ]
    },
    {
     "name": "stderr",
     "output_type": "stream",
     "text": [
      "\n",
      " 44%|█████████████████▊                      | 444/1000 [00:39<00:48, 11.35it/s]\u001b[A"
     ]
    },
    {
     "name": "stdout",
     "output_type": "stream",
     "text": [
      "0.08841633796691895\n",
      "0.08946704864501953\n",
      "0.08563399314880371\n"
     ]
    },
    {
     "name": "stderr",
     "output_type": "stream",
     "text": [
      "\n",
      " 45%|█████████████████▊                      | 446/1000 [00:39<00:48, 11.39it/s]\u001b[A\n",
      " 45%|█████████████████▉                      | 448/1000 [00:39<00:48, 11.38it/s]\u001b[A"
     ]
    },
    {
     "name": "stdout",
     "output_type": "stream",
     "text": [
      "0.08750414848327637\n",
      "0.08764123916625977\n",
      "0.08707022666931152\n"
     ]
    },
    {
     "name": "stderr",
     "output_type": "stream",
     "text": [
      "\n",
      " 45%|██████████████████                      | 450/1000 [00:39<00:48, 11.32it/s]\u001b[A"
     ]
    },
    {
     "name": "stdout",
     "output_type": "stream",
     "text": [
      "0.08910107612609863\n",
      "0.08894562721252441\n",
      "0.08561921119689941\n"
     ]
    },
    {
     "name": "stderr",
     "output_type": "stream",
     "text": [
      "\n",
      " 45%|██████████████████                      | 452/1000 [00:39<00:48, 11.31it/s]\u001b[A\n",
      " 45%|██████████████████▏                     | 454/1000 [00:39<00:48, 11.25it/s]\u001b[A"
     ]
    },
    {
     "name": "stdout",
     "output_type": "stream",
     "text": [
      "0.09042906761169434\n",
      "0.0880887508392334\n",
      "0.090576171875\n"
     ]
    },
    {
     "name": "stderr",
     "output_type": "stream",
     "text": [
      "\n",
      " 46%|██████████████████▏                     | 456/1000 [00:40<00:48, 11.26it/s]\u001b[A"
     ]
    },
    {
     "name": "stdout",
     "output_type": "stream",
     "text": [
      "0.08744311332702637\n",
      "0.08832168579101562\n",
      "0.08823776245117188\n"
     ]
    },
    {
     "name": "stderr",
     "output_type": "stream",
     "text": [
      "\n",
      " 46%|██████████████████▎                     | 458/1000 [00:40<00:48, 11.23it/s]\u001b[A\n",
      " 46%|██████████████████▍                     | 460/1000 [00:40<00:47, 11.26it/s]\u001b[A"
     ]
    },
    {
     "name": "stdout",
     "output_type": "stream",
     "text": [
      "0.08975982666015625\n",
      "0.0892951488494873\n",
      "0.08639001846313477\n"
     ]
    },
    {
     "name": "stderr",
     "output_type": "stream",
     "text": [
      "\n",
      " 46%|██████████████████▍                     | 462/1000 [00:40<00:47, 11.21it/s]\u001b[A"
     ]
    },
    {
     "name": "stdout",
     "output_type": "stream",
     "text": [
      "0.09002399444580078\n",
      "0.088775634765625\n",
      "0.08769631385803223\n"
     ]
    },
    {
     "name": "stderr",
     "output_type": "stream",
     "text": [
      "\n",
      " 46%|██████████████████▌                     | 464/1000 [00:40<00:47, 11.22it/s]\u001b[A\n",
      " 47%|██████████████████▋                     | 466/1000 [00:41<00:47, 11.28it/s]\u001b[A"
     ]
    },
    {
     "name": "stdout",
     "output_type": "stream",
     "text": [
      "0.08921313285827637\n",
      "0.08771538734436035\n",
      "0.08645105361938477\n"
     ]
    },
    {
     "name": "stderr",
     "output_type": "stream",
     "text": [
      "\n",
      " 47%|██████████████████▋                     | 468/1000 [00:41<00:47, 11.31it/s]\u001b[A"
     ]
    },
    {
     "name": "stdout",
     "output_type": "stream",
     "text": [
      "0.08788943290710449\n",
      "0.08680438995361328\n",
      "0.08560633659362793\n"
     ]
    },
    {
     "name": "stderr",
     "output_type": "stream",
     "text": [
      "\n",
      " 47%|██████████████████▊                     | 470/1000 [00:41<00:46, 11.34it/s]\u001b[A\n",
      " 47%|██████████████████▉                     | 472/1000 [00:41<00:46, 11.39it/s]\u001b[A"
     ]
    },
    {
     "name": "stdout",
     "output_type": "stream",
     "text": [
      "0.08811402320861816\n",
      "0.08797764778137207\n",
      "0.08484458923339844\n"
     ]
    },
    {
     "name": "stderr",
     "output_type": "stream",
     "text": [
      "\n",
      " 47%|██████████████████▉                     | 474/1000 [00:41<00:46, 11.26it/s]\u001b[A"
     ]
    },
    {
     "name": "stdout",
     "output_type": "stream",
     "text": [
      "0.09127020835876465\n",
      "0.08951640129089355\n",
      "0.08651018142700195\n"
     ]
    },
    {
     "name": "stderr",
     "output_type": "stream",
     "text": [
      "\n",
      " 48%|███████████████████                     | 476/1000 [00:41<00:46, 11.33it/s]\u001b[A\n",
      " 48%|███████████████████                     | 478/1000 [00:42<00:45, 11.36it/s]\u001b[A"
     ]
    },
    {
     "name": "stdout",
     "output_type": "stream",
     "text": [
      "0.0861055850982666\n",
      "0.08876872062683105\n",
      "0.08531832695007324\n"
     ]
    },
    {
     "name": "stderr",
     "output_type": "stream",
     "text": [
      "\n",
      " 48%|███████████████████▏                    | 480/1000 [00:42<00:45, 11.31it/s]\u001b[A"
     ]
    },
    {
     "name": "stdout",
     "output_type": "stream",
     "text": [
      "0.0912322998046875\n",
      "0.08613371849060059\n",
      "0.08661651611328125\n"
     ]
    },
    {
     "name": "stderr",
     "output_type": "stream",
     "text": [
      "\n",
      " 48%|███████████████████▎                    | 482/1000 [00:42<00:45, 11.37it/s]\u001b[A\n",
      " 48%|███████████████████▎                    | 484/1000 [00:42<00:45, 11.37it/s]\u001b[A"
     ]
    },
    {
     "name": "stdout",
     "output_type": "stream",
     "text": [
      "0.08604001998901367\n",
      "0.08922362327575684\n",
      "0.08569550514221191\n"
     ]
    },
    {
     "name": "stderr",
     "output_type": "stream",
     "text": [
      "\n",
      " 49%|███████████████████▍                    | 486/1000 [00:42<00:45, 11.29it/s]\u001b[A"
     ]
    },
    {
     "name": "stdout",
     "output_type": "stream",
     "text": [
      "0.09165430068969727\n",
      "0.08708453178405762\n",
      "0.08864092826843262\n"
     ]
    },
    {
     "name": "stderr",
     "output_type": "stream",
     "text": [
      "\n",
      " 49%|███████████████████▌                    | 488/1000 [00:42<00:45, 11.26it/s]\u001b[A\n",
      " 49%|███████████████████▌                    | 490/1000 [00:43<00:44, 11.37it/s]\u001b[A"
     ]
    },
    {
     "name": "stdout",
     "output_type": "stream",
     "text": [
      "0.08879280090332031\n",
      "0.08728218078613281\n",
      "0.0835886001586914\n"
     ]
    },
    {
     "name": "stderr",
     "output_type": "stream",
     "text": [
      "\n",
      " 49%|███████████████████▋                    | 492/1000 [00:43<00:44, 11.37it/s]\u001b[A"
     ]
    },
    {
     "name": "stdout",
     "output_type": "stream",
     "text": [
      "0.08924460411071777\n",
      "0.08545446395874023\n",
      "0.09002327919006348\n"
     ]
    },
    {
     "name": "stderr",
     "output_type": "stream",
     "text": [
      "\n",
      " 49%|███████████████████▊                    | 494/1000 [00:43<00:44, 11.34it/s]\u001b[A\n",
      " 50%|███████████████████▊                    | 496/1000 [00:43<00:44, 11.39it/s]\u001b[A"
     ]
    },
    {
     "name": "stdout",
     "output_type": "stream",
     "text": [
      "0.08640289306640625\n",
      "0.08942914009094238\n",
      "0.08353281021118164\n"
     ]
    },
    {
     "name": "stderr",
     "output_type": "stream",
     "text": [
      "\n",
      " 50%|███████████████████▉                    | 498/1000 [00:43<00:44, 11.37it/s]\u001b[A"
     ]
    },
    {
     "name": "stdout",
     "output_type": "stream",
     "text": [
      "0.08916902542114258\n",
      "0.08632850646972656\n",
      "0.08732056617736816\n"
     ]
    },
    {
     "name": "stderr",
     "output_type": "stream",
     "text": [
      "\n",
      " 50%|████████████████████                    | 500/1000 [00:44<00:43, 11.38it/s]\u001b[A\n",
      " 50%|████████████████████                    | 502/1000 [00:44<00:43, 11.39it/s]\u001b[A"
     ]
    },
    {
     "name": "stdout",
     "output_type": "stream",
     "text": [
      "0.08709931373596191\n",
      "0.08894848823547363\n",
      "0.08495187759399414\n"
     ]
    },
    {
     "name": "stderr",
     "output_type": "stream",
     "text": [
      "\n",
      " 50%|████████████████████▏                   | 504/1000 [00:44<00:43, 11.34it/s]\u001b[A"
     ]
    },
    {
     "name": "stdout",
     "output_type": "stream",
     "text": [
      "0.0912938117980957\n",
      "0.08553600311279297\n",
      "0.09028816223144531\n"
     ]
    },
    {
     "name": "stderr",
     "output_type": "stream",
     "text": [
      "\n",
      " 51%|████████████████████▏                   | 506/1000 [00:44<00:43, 11.30it/s]\u001b[A\n",
      " 51%|████████████████████▎                   | 508/1000 [00:44<00:43, 11.31it/s]\u001b[A"
     ]
    },
    {
     "name": "stdout",
     "output_type": "stream",
     "text": [
      "0.08707499504089355\n",
      "0.09023094177246094\n",
      "0.08503532409667969\n"
     ]
    },
    {
     "name": "stderr",
     "output_type": "stream",
     "text": [
      "\n",
      " 51%|████████████████████▍                   | 510/1000 [00:44<00:43, 11.31it/s]\u001b[A"
     ]
    },
    {
     "name": "stdout",
     "output_type": "stream",
     "text": [
      "0.0913841724395752\n",
      "0.08418130874633789\n",
      "0.09111237525939941\n"
     ]
    },
    {
     "name": "stderr",
     "output_type": "stream",
     "text": [
      "\n",
      " 51%|████████████████████▍                   | 512/1000 [00:45<00:43, 11.25it/s]\u001b[A\n",
      " 51%|████████████████████▌                   | 514/1000 [00:45<00:43, 11.19it/s]\u001b[A"
     ]
    },
    {
     "name": "stdout",
     "output_type": "stream",
     "text": [
      "0.0875704288482666\n",
      "0.09535455703735352\n",
      "0.08411622047424316\n"
     ]
    },
    {
     "name": "stderr",
     "output_type": "stream",
     "text": [
      "\n",
      " 52%|████████████████████▋                   | 516/1000 [00:45<00:43, 11.18it/s]\u001b[A"
     ]
    },
    {
     "name": "stdout",
     "output_type": "stream",
     "text": [
      "0.09257030487060547\n",
      "0.08595514297485352\n",
      "0.08949637413024902\n"
     ]
    },
    {
     "name": "stderr",
     "output_type": "stream",
     "text": [
      "\n",
      " 52%|████████████████████▋                   | 518/1000 [00:45<00:43, 11.14it/s]\u001b[A\n",
      " 52%|████████████████████▊                   | 520/1000 [00:45<00:42, 11.22it/s]\u001b[A"
     ]
    },
    {
     "name": "stdout",
     "output_type": "stream",
     "text": [
      "0.0898735523223877\n",
      "0.0901031494140625\n",
      "0.08389639854431152\n"
     ]
    },
    {
     "name": "stderr",
     "output_type": "stream",
     "text": [
      "\n",
      " 52%|████████████████████▉                   | 522/1000 [00:45<00:42, 11.24it/s]\u001b[A"
     ]
    },
    {
     "name": "stdout",
     "output_type": "stream",
     "text": [
      "0.0923151969909668\n",
      "0.08383774757385254\n",
      "0.08925700187683105\n"
     ]
    },
    {
     "name": "stderr",
     "output_type": "stream",
     "text": [
      "\n",
      " 52%|████████████████████▉                   | 524/1000 [00:46<00:42, 11.23it/s]\u001b[A\n",
      " 53%|█████████████████████                   | 526/1000 [00:46<00:41, 11.31it/s]\u001b[A"
     ]
    },
    {
     "name": "stdout",
     "output_type": "stream",
     "text": [
      "0.08782958984375\n",
      "0.08890843391418457\n",
      "0.08381223678588867\n"
     ]
    },
    {
     "name": "stderr",
     "output_type": "stream",
     "text": [
      "\n",
      " 53%|█████████████████████                   | 528/1000 [00:46<00:41, 11.27it/s]\u001b[A"
     ]
    },
    {
     "name": "stdout",
     "output_type": "stream",
     "text": [
      "0.09285855293273926\n",
      "0.08481597900390625\n",
      "0.08986639976501465\n"
     ]
    },
    {
     "name": "stderr",
     "output_type": "stream",
     "text": [
      "\n",
      " 53%|█████████████████████▏                  | 530/1000 [00:46<00:41, 11.23it/s]\u001b[A\n",
      " 53%|█████████████████████▎                  | 532/1000 [00:46<00:41, 11.29it/s]\u001b[A"
     ]
    },
    {
     "name": "stdout",
     "output_type": "stream",
     "text": [
      "0.0885012149810791\n",
      "0.09006571769714355\n",
      "0.08386921882629395\n"
     ]
    },
    {
     "name": "stderr",
     "output_type": "stream",
     "text": [
      "\n",
      " 53%|█████████████████████▎                  | 534/1000 [00:47<00:41, 11.29it/s]\u001b[A"
     ]
    },
    {
     "name": "stdout",
     "output_type": "stream",
     "text": [
      "0.09207606315612793\n",
      "0.08377695083618164\n",
      "0.08914542198181152\n"
     ]
    },
    {
     "name": "stderr",
     "output_type": "stream",
     "text": [
      "\n",
      " 54%|█████████████████████▍                  | 536/1000 [00:47<00:41, 11.26it/s]\u001b[A\n",
      " 54%|█████████████████████▌                  | 538/1000 [00:47<00:40, 11.34it/s]\u001b[A"
     ]
    },
    {
     "name": "stdout",
     "output_type": "stream",
     "text": [
      "0.08823227882385254\n",
      "0.0886220932006836\n",
      "0.08386397361755371\n"
     ]
    },
    {
     "name": "stderr",
     "output_type": "stream",
     "text": [
      "\n",
      " 54%|█████████████████████▌                  | 540/1000 [00:47<00:40, 11.31it/s]\u001b[A"
     ]
    },
    {
     "name": "stdout",
     "output_type": "stream",
     "text": [
      "0.09280133247375488\n",
      "0.08411550521850586\n",
      "0.08922219276428223\n"
     ]
    },
    {
     "name": "stderr",
     "output_type": "stream",
     "text": [
      "\n",
      " 54%|█████████████████████▋                  | 542/1000 [00:47<00:40, 11.27it/s]\u001b[A\n",
      " 54%|█████████████████████▊                  | 544/1000 [00:47<00:40, 11.33it/s]\u001b[A"
     ]
    },
    {
     "name": "stdout",
     "output_type": "stream",
     "text": [
      "0.0880434513092041\n",
      "0.08898210525512695\n",
      "0.08437991142272949\n"
     ]
    },
    {
     "name": "stderr",
     "output_type": "stream",
     "text": [
      "\n",
      " 55%|█████████████████████▊                  | 546/1000 [00:48<00:40, 11.31it/s]\u001b[A"
     ]
    },
    {
     "name": "stdout",
     "output_type": "stream",
     "text": [
      "0.09262299537658691\n",
      "0.08397293090820312\n",
      "0.0898137092590332\n"
     ]
    },
    {
     "name": "stderr",
     "output_type": "stream",
     "text": [
      "\n",
      " 55%|█████████████████████▉                  | 548/1000 [00:48<00:40, 11.26it/s]\u001b[A\n",
      " 55%|██████████████████████                  | 550/1000 [00:48<00:39, 11.30it/s]\u001b[A"
     ]
    },
    {
     "name": "stdout",
     "output_type": "stream",
     "text": [
      "0.08846449851989746\n",
      "0.09042596817016602\n",
      "0.08369660377502441\n"
     ]
    },
    {
     "name": "stderr",
     "output_type": "stream",
     "text": [
      "\n",
      " 55%|██████████████████████                  | 552/1000 [00:48<00:39, 11.28it/s]\u001b[A"
     ]
    },
    {
     "name": "stdout",
     "output_type": "stream",
     "text": [
      "0.0921945571899414\n",
      "0.08471512794494629\n",
      "0.09004426002502441\n"
     ]
    },
    {
     "name": "stderr",
     "output_type": "stream",
     "text": [
      "\n",
      " 55%|██████████████████████▏                 | 554/1000 [00:48<00:39, 11.23it/s]\u001b[A\n",
      " 56%|██████████████████████▏                 | 556/1000 [00:48<00:39, 11.33it/s]\u001b[A"
     ]
    },
    {
     "name": "stdout",
     "output_type": "stream",
     "text": [
      "0.08866500854492188\n",
      "0.08703374862670898\n",
      "0.08456063270568848\n"
     ]
    },
    {
     "name": "stderr",
     "output_type": "stream",
     "text": [
      "\n",
      " 56%|██████████████████████▎                 | 558/1000 [00:49<00:39, 11.27it/s]\u001b[A"
     ]
    },
    {
     "name": "stdout",
     "output_type": "stream",
     "text": [
      "0.09201622009277344\n",
      "0.08635735511779785\n",
      "0.0873100757598877\n"
     ]
    },
    {
     "name": "stderr",
     "output_type": "stream",
     "text": [
      "\n",
      " 56%|██████████████████████▍                 | 560/1000 [00:49<00:39, 11.27it/s]\u001b[A\n",
      " 56%|██████████████████████▍                 | 562/1000 [00:49<00:38, 11.30it/s]\u001b[A"
     ]
    },
    {
     "name": "stdout",
     "output_type": "stream",
     "text": [
      "0.08893322944641113\n",
      "0.08784770965576172\n",
      "0.08635425567626953\n"
     ]
    },
    {
     "name": "stderr",
     "output_type": "stream",
     "text": [
      "\n",
      " 56%|██████████████████████▌                 | 564/1000 [00:49<00:38, 11.27it/s]\u001b[A"
     ]
    },
    {
     "name": "stdout",
     "output_type": "stream",
     "text": [
      "0.09075284004211426\n",
      "0.08655571937561035\n",
      "0.08772993087768555\n"
     ]
    },
    {
     "name": "stderr",
     "output_type": "stream",
     "text": [
      "\n",
      " 57%|██████████████████████▋                 | 566/1000 [00:49<00:38, 11.25it/s]\u001b[A\n",
      " 57%|██████████████████████▋                 | 568/1000 [00:50<00:38, 11.34it/s]\u001b[A"
     ]
    },
    {
     "name": "stdout",
     "output_type": "stream",
     "text": [
      "0.08891034126281738\n",
      "0.08672308921813965\n",
      "0.08506894111633301\n"
     ]
    },
    {
     "name": "stderr",
     "output_type": "stream",
     "text": [
      "\n",
      " 57%|██████████████████████▊                 | 570/1000 [00:50<00:37, 11.35it/s]\u001b[A"
     ]
    },
    {
     "name": "stdout",
     "output_type": "stream",
     "text": [
      "0.08937883377075195\n",
      "0.08484625816345215\n",
      "0.08676886558532715\n"
     ]
    },
    {
     "name": "stderr",
     "output_type": "stream",
     "text": [
      "\n",
      " 57%|██████████████████████▉                 | 572/1000 [00:50<00:37, 11.36it/s]\u001b[A\n",
      " 57%|██████████████████████▉                 | 574/1000 [00:50<00:37, 11.39it/s]\u001b[A"
     ]
    },
    {
     "name": "stdout",
     "output_type": "stream",
     "text": [
      "0.08760857582092285\n",
      "0.08818840980529785\n",
      "0.08502507209777832\n"
     ]
    },
    {
     "name": "stderr",
     "output_type": "stream",
     "text": [
      "\n",
      " 58%|███████████████████████                 | 576/1000 [00:50<00:37, 11.34it/s]\u001b[A"
     ]
    },
    {
     "name": "stdout",
     "output_type": "stream",
     "text": [
      "0.0885615348815918\n",
      "0.08821249008178711\n",
      "0.08772897720336914\n"
     ]
    },
    {
     "name": "stderr",
     "output_type": "stream",
     "text": [
      "\n",
      " 58%|███████████████████████                 | 578/1000 [00:50<00:37, 11.28it/s]\u001b[A\n",
      " 58%|███████████████████████▏                | 580/1000 [00:51<00:37, 11.34it/s]\u001b[A"
     ]
    },
    {
     "name": "stdout",
     "output_type": "stream",
     "text": [
      "0.0903158187866211\n",
      "0.08730459213256836\n",
      "0.0852959156036377\n"
     ]
    },
    {
     "name": "stderr",
     "output_type": "stream",
     "text": [
      "\n",
      " 58%|███████████████████████▎                | 582/1000 [00:51<00:36, 11.36it/s]\u001b[A"
     ]
    },
    {
     "name": "stdout",
     "output_type": "stream",
     "text": [
      "0.08923745155334473\n",
      "0.0847628116607666\n",
      "0.08638930320739746\n"
     ]
    },
    {
     "name": "stderr",
     "output_type": "stream",
     "text": [
      "\n",
      " 58%|███████████████████████▎                | 584/1000 [00:51<00:36, 11.36it/s]\u001b[A\n",
      " 59%|███████████████████████▍                | 586/1000 [00:51<00:36, 11.42it/s]\u001b[A"
     ]
    },
    {
     "name": "stdout",
     "output_type": "stream",
     "text": [
      "0.08822274208068848\n",
      "0.08683204650878906\n",
      "0.08511066436767578\n"
     ]
    },
    {
     "name": "stderr",
     "output_type": "stream",
     "text": [
      "\n",
      " 59%|███████████████████████▌                | 588/1000 [00:51<00:36, 11.41it/s]\u001b[A"
     ]
    },
    {
     "name": "stdout",
     "output_type": "stream",
     "text": [
      "0.0894923210144043\n",
      "0.08447957038879395\n",
      "0.08709979057312012\n"
     ]
    },
    {
     "name": "stderr",
     "output_type": "stream",
     "text": [
      "\n",
      " 59%|███████████████████████▌                | 590/1000 [00:51<00:36, 11.38it/s]\u001b[A\n",
      " 59%|███████████████████████▋                | 592/1000 [00:52<00:35, 11.40it/s]\u001b[A"
     ]
    },
    {
     "name": "stdout",
     "output_type": "stream",
     "text": [
      "0.08822965621948242\n",
      "0.08720088005065918\n",
      "0.08577418327331543\n"
     ]
    },
    {
     "name": "stderr",
     "output_type": "stream",
     "text": [
      "\n",
      " 59%|███████████████████████▊                | 594/1000 [00:52<00:35, 11.35it/s]\u001b[A"
     ]
    },
    {
     "name": "stdout",
     "output_type": "stream",
     "text": [
      "0.08999204635620117\n",
      "0.08653473854064941\n",
      "0.08711004257202148\n"
     ]
    },
    {
     "name": "stderr",
     "output_type": "stream",
     "text": [
      "\n",
      " 60%|███████████████████████▊                | 596/1000 [00:52<00:35, 11.31it/s]\u001b[A\n",
      " 60%|███████████████████████▉                | 598/1000 [00:52<00:35, 11.31it/s]\u001b[A"
     ]
    },
    {
     "name": "stdout",
     "output_type": "stream",
     "text": [
      "0.08994531631469727\n",
      "0.08962583541870117\n",
      "0.08595514297485352\n"
     ]
    },
    {
     "name": "stderr",
     "output_type": "stream",
     "text": [
      "\n",
      " 60%|████████████████████████                | 600/1000 [00:52<00:35, 11.28it/s]\u001b[A"
     ]
    },
    {
     "name": "stdout",
     "output_type": "stream",
     "text": [
      "0.09049129486083984\n",
      "0.08667516708374023\n",
      "0.08694338798522949\n"
     ]
    },
    {
     "name": "stderr",
     "output_type": "stream",
     "text": [
      "\n",
      " 60%|████████████████████████                | 602/1000 [00:53<00:35, 11.24it/s]\u001b[A\n",
      " 60%|████████████████████████▏               | 604/1000 [00:53<00:35, 11.22it/s]\u001b[A"
     ]
    },
    {
     "name": "stdout",
     "output_type": "stream",
     "text": [
      "0.09093213081359863\n",
      "0.08869814872741699\n",
      "0.08879876136779785\n"
     ]
    },
    {
     "name": "stderr",
     "output_type": "stream",
     "text": [
      "\n",
      " 61%|████████████████████████▏               | 606/1000 [00:53<00:35, 11.22it/s]\u001b[A"
     ]
    },
    {
     "name": "stdout",
     "output_type": "stream",
     "text": [
      "0.08928084373474121\n",
      "0.08761310577392578\n",
      "0.08765792846679688\n"
     ]
    },
    {
     "name": "stderr",
     "output_type": "stream",
     "text": [
      "\n",
      " 61%|████████████████████████▎               | 608/1000 [00:53<00:35, 11.17it/s]\u001b[A\n",
      " 61%|████████████████████████▍               | 610/1000 [00:53<00:34, 11.21it/s]\u001b[A"
     ]
    },
    {
     "name": "stdout",
     "output_type": "stream",
     "text": [
      "0.09192013740539551\n",
      "0.08509469032287598\n",
      "0.09026718139648438\n"
     ]
    },
    {
     "name": "stderr",
     "output_type": "stream",
     "text": [
      "\n",
      " 61%|████████████████████████▍               | 612/1000 [00:53<00:34, 11.17it/s]\u001b[A"
     ]
    },
    {
     "name": "stdout",
     "output_type": "stream",
     "text": [
      "0.08923888206481934\n",
      "0.08970785140991211\n",
      "0.08670258522033691\n"
     ]
    },
    {
     "name": "stderr",
     "output_type": "stream",
     "text": [
      "\n",
      " 61%|████████████████████████▌               | 614/1000 [00:54<00:34, 11.16it/s]\u001b[A\n",
      " 62%|████████████████████████▋               | 616/1000 [00:54<00:34, 11.21it/s]\u001b[A"
     ]
    },
    {
     "name": "stdout",
     "output_type": "stream",
     "text": [
      "0.09163618087768555\n",
      "0.08624839782714844\n",
      "0.08946394920349121\n"
     ]
    },
    {
     "name": "stderr",
     "output_type": "stream",
     "text": [
      "\n",
      " 62%|████████████████████████▋               | 618/1000 [00:54<00:34, 11.20it/s]\u001b[A"
     ]
    },
    {
     "name": "stdout",
     "output_type": "stream",
     "text": [
      "0.08925771713256836\n",
      "0.0879204273223877\n",
      "0.08698582649230957\n"
     ]
    },
    {
     "name": "stderr",
     "output_type": "stream",
     "text": [
      "\n",
      " 62%|████████████████████████▊               | 620/1000 [00:54<00:33, 11.18it/s]\u001b[A\n",
      " 62%|████████████████████████▉               | 622/1000 [00:54<00:33, 11.19it/s]\u001b[A"
     ]
    },
    {
     "name": "stdout",
     "output_type": "stream",
     "text": [
      "0.09175229072570801\n",
      "0.08757209777832031\n",
      "0.0894768238067627\n"
     ]
    },
    {
     "name": "stderr",
     "output_type": "stream",
     "text": [
      "\n",
      " 62%|████████████████████████▉               | 624/1000 [00:55<00:33, 11.24it/s]\u001b[A"
     ]
    },
    {
     "name": "stdout",
     "output_type": "stream",
     "text": [
      "0.0879981517791748\n",
      "0.0871725082397461\n",
      "0.08691120147705078\n"
     ]
    },
    {
     "name": "stderr",
     "output_type": "stream",
     "text": [
      "\n",
      " 63%|█████████████████████████               | 626/1000 [00:55<00:33, 11.26it/s]\u001b[A\n",
      " 63%|█████████████████████████               | 628/1000 [00:55<00:32, 11.31it/s]\u001b[A"
     ]
    },
    {
     "name": "stdout",
     "output_type": "stream",
     "text": [
      "0.08885645866394043\n",
      "0.08526039123535156\n",
      "0.08842062950134277\n"
     ]
    },
    {
     "name": "stderr",
     "output_type": "stream",
     "text": [
      "\n",
      " 63%|█████████████████████████▏              | 630/1000 [00:55<00:32, 11.37it/s]\u001b[A"
     ]
    },
    {
     "name": "stdout",
     "output_type": "stream",
     "text": [
      "0.08600568771362305\n",
      "0.08660674095153809\n",
      "0.08661890029907227\n"
     ]
    },
    {
     "name": "stderr",
     "output_type": "stream",
     "text": [
      "\n",
      " 63%|█████████████████████████▎              | 632/1000 [00:55<00:32, 11.36it/s]\u001b[A\n",
      " 63%|█████████████████████████▎              | 634/1000 [00:55<00:32, 11.41it/s]\u001b[A"
     ]
    },
    {
     "name": "stdout",
     "output_type": "stream",
     "text": [
      "0.08819460868835449\n",
      "0.08529973030090332\n",
      "0.0872797966003418\n"
     ]
    },
    {
     "name": "stderr",
     "output_type": "stream",
     "text": [
      "\n",
      " 64%|█████████████████████████▍              | 636/1000 [00:56<00:31, 11.42it/s]\u001b[A"
     ]
    },
    {
     "name": "stdout",
     "output_type": "stream",
     "text": [
      "0.08647370338439941\n",
      "0.08692646026611328\n",
      "0.08600473403930664\n"
     ]
    },
    {
     "name": "stderr",
     "output_type": "stream",
     "text": [
      "\n",
      " 64%|█████████████████████████▌              | 638/1000 [00:56<00:31, 11.40it/s]\u001b[A\n",
      " 64%|█████████████████████████▌              | 640/1000 [00:56<00:31, 11.34it/s]\u001b[A"
     ]
    },
    {
     "name": "stdout",
     "output_type": "stream",
     "text": [
      "0.0888981819152832\n",
      "0.08495116233825684\n",
      "0.09241652488708496\n"
     ]
    },
    {
     "name": "stderr",
     "output_type": "stream",
     "text": [
      "\n",
      " 64%|█████████████████████████▋              | 642/1000 [00:56<00:31, 11.33it/s]\u001b[A"
     ]
    },
    {
     "name": "stdout",
     "output_type": "stream",
     "text": [
      "0.08784747123718262\n",
      "0.08795595169067383\n",
      "0.08714628219604492\n"
     ]
    },
    {
     "name": "stderr",
     "output_type": "stream",
     "text": [
      "\n",
      " 64%|█████████████████████████▊              | 644/1000 [00:56<00:31, 11.27it/s]\u001b[A\n",
      " 65%|█████████████████████████▊              | 646/1000 [00:56<00:31, 11.30it/s]\u001b[A"
     ]
    },
    {
     "name": "stdout",
     "output_type": "stream",
     "text": [
      "0.09093785285949707\n",
      "0.08575081825256348\n",
      "0.08878326416015625\n"
     ]
    },
    {
     "name": "stderr",
     "output_type": "stream",
     "text": [
      "\n",
      " 65%|█████████████████████████▉              | 648/1000 [00:57<00:31, 11.31it/s]\u001b[A"
     ]
    },
    {
     "name": "stdout",
     "output_type": "stream",
     "text": [
      "0.08743643760681152\n",
      "0.08792281150817871\n",
      "0.08640885353088379\n"
     ]
    },
    {
     "name": "stderr",
     "output_type": "stream",
     "text": [
      "\n",
      " 65%|██████████████████████████              | 650/1000 [00:57<00:31, 11.27it/s]\u001b[A\n",
      " 65%|██████████████████████████              | 652/1000 [00:57<00:30, 11.29it/s]\u001b[A"
     ]
    },
    {
     "name": "stdout",
     "output_type": "stream",
     "text": [
      "0.0916433334350586\n",
      "0.0861508846282959\n",
      "0.08920812606811523\n"
     ]
    },
    {
     "name": "stderr",
     "output_type": "stream",
     "text": [
      "\n",
      " 65%|██████████████████████████▏             | 654/1000 [00:57<00:30, 11.30it/s]\u001b[A"
     ]
    },
    {
     "name": "stdout",
     "output_type": "stream",
     "text": [
      "0.08682823181152344\n",
      "0.08871841430664062\n",
      "0.08776283264160156\n"
     ]
    },
    {
     "name": "stderr",
     "output_type": "stream",
     "text": [
      "\n",
      " 66%|██████████████████████████▏             | 656/1000 [00:57<00:30, 11.23it/s]\u001b[A\n",
      " 66%|██████████████████████████▎             | 658/1000 [00:58<00:30, 11.29it/s]\u001b[A"
     ]
    },
    {
     "name": "stdout",
     "output_type": "stream",
     "text": [
      "0.09127521514892578\n",
      "0.08483648300170898\n",
      "0.08883047103881836\n"
     ]
    },
    {
     "name": "stderr",
     "output_type": "stream",
     "text": [
      "\n",
      " 66%|██████████████████████████▍             | 660/1000 [00:58<00:30, 11.33it/s]\u001b[A"
     ]
    },
    {
     "name": "stdout",
     "output_type": "stream",
     "text": [
      "0.08661651611328125\n",
      "0.08754515647888184\n",
      "0.08551621437072754\n"
     ]
    },
    {
     "name": "stderr",
     "output_type": "stream",
     "text": [
      "\n",
      " 66%|██████████████████████████▍             | 662/1000 [00:58<00:29, 11.35it/s]\u001b[A\n",
      " 66%|██████████████████████████▌             | 664/1000 [00:58<00:29, 11.38it/s]\u001b[A"
     ]
    },
    {
     "name": "stdout",
     "output_type": "stream",
     "text": [
      "0.08887219429016113\n",
      "0.08486437797546387\n",
      "0.0887441635131836\n"
     ]
    },
    {
     "name": "stderr",
     "output_type": "stream",
     "text": [
      "\n",
      " 67%|██████████████████████████▋             | 666/1000 [00:58<00:29, 11.30it/s]\u001b[A"
     ]
    },
    {
     "name": "stdout",
     "output_type": "stream",
     "text": [
      "0.0885007381439209\n",
      "0.08964848518371582\n",
      "0.08701109886169434\n"
     ]
    },
    {
     "name": "stderr",
     "output_type": "stream",
     "text": [
      "\n",
      " 67%|██████████████████████████▋             | 668/1000 [00:58<00:29, 11.29it/s]\u001b[A\n",
      " 67%|██████████████████████████▊             | 670/1000 [00:59<00:29, 11.22it/s]\u001b[A"
     ]
    },
    {
     "name": "stdout",
     "output_type": "stream",
     "text": [
      "0.0891578197479248\n",
      "0.08844876289367676\n",
      "0.09090232849121094\n"
     ]
    },
    {
     "name": "stderr",
     "output_type": "stream",
     "text": [
      "\n",
      " 67%|██████████████████████████▉             | 672/1000 [00:59<00:29, 11.27it/s]\u001b[A"
     ]
    },
    {
     "name": "stdout",
     "output_type": "stream",
     "text": [
      "0.0859532356262207\n",
      "0.08860135078430176\n",
      "0.08713769912719727\n"
     ]
    },
    {
     "name": "stderr",
     "output_type": "stream",
     "text": [
      "\n",
      " 67%|██████████████████████████▉             | 674/1000 [00:59<00:28, 11.25it/s]\u001b[A\n",
      " 68%|███████████████████████████             | 676/1000 [00:59<00:28, 11.26it/s]\u001b[A"
     ]
    },
    {
     "name": "stdout",
     "output_type": "stream",
     "text": [
      "0.09043502807617188\n",
      "0.08506917953491211\n",
      "0.09087109565734863\n"
     ]
    },
    {
     "name": "stderr",
     "output_type": "stream",
     "text": [
      "\n",
      " 68%|███████████████████████████             | 678/1000 [00:59<00:28, 11.29it/s]\u001b[A"
     ]
    },
    {
     "name": "stdout",
     "output_type": "stream",
     "text": [
      "0.08759784698486328\n",
      "0.08682107925415039\n",
      "0.08707737922668457\n"
     ]
    },
    {
     "name": "stderr",
     "output_type": "stream",
     "text": [
      "\n",
      " 68%|███████████████████████████▏            | 680/1000 [00:59<00:28, 11.28it/s]\u001b[A\n",
      " 68%|███████████████████████████▎            | 682/1000 [01:00<00:28, 11.34it/s]\u001b[A"
     ]
    },
    {
     "name": "stdout",
     "output_type": "stream",
     "text": [
      "0.08935785293579102\n",
      "0.08443760871887207\n",
      "0.08848023414611816\n"
     ]
    },
    {
     "name": "stderr",
     "output_type": "stream",
     "text": [
      "\n",
      " 68%|███████████████████████████▎            | 684/1000 [01:00<00:27, 11.32it/s]\u001b[A"
     ]
    },
    {
     "name": "stdout",
     "output_type": "stream",
     "text": [
      "0.08843851089477539\n",
      "0.08754539489746094\n",
      "0.0870828628540039\n"
     ]
    },
    {
     "name": "stderr",
     "output_type": "stream",
     "text": [
      "\n",
      " 69%|███████████████████████████▍            | 686/1000 [01:00<00:27, 11.31it/s]\u001b[A\n",
      " 69%|███████████████████████████▌            | 688/1000 [01:00<00:27, 11.32it/s]\u001b[A"
     ]
    },
    {
     "name": "stdout",
     "output_type": "stream",
     "text": [
      "0.08901810646057129\n",
      "0.08553028106689453\n",
      "0.08962893486022949\n"
     ]
    },
    {
     "name": "stderr",
     "output_type": "stream",
     "text": [
      "\n",
      " 69%|███████████████████████████▌            | 690/1000 [01:00<00:27, 11.35it/s]\u001b[A"
     ]
    },
    {
     "name": "stdout",
     "output_type": "stream",
     "text": [
      "0.08636355400085449\n",
      "0.08760452270507812\n",
      "0.08610939979553223\n"
     ]
    },
    {
     "name": "stderr",
     "output_type": "stream",
     "text": [
      "\n",
      " 69%|███████████████████████████▋            | 692/1000 [01:01<00:27, 11.33it/s]\u001b[A\n",
      " 69%|███████████████████████████▊            | 694/1000 [01:01<00:26, 11.34it/s]\u001b[A"
     ]
    },
    {
     "name": "stdout",
     "output_type": "stream",
     "text": [
      "0.0901637077331543\n",
      "0.08543038368225098\n",
      "0.08901143074035645\n"
     ]
    },
    {
     "name": "stderr",
     "output_type": "stream",
     "text": [
      "\n",
      " 70%|███████████████████████████▊            | 696/1000 [01:01<00:26, 11.39it/s]\u001b[A"
     ]
    },
    {
     "name": "stdout",
     "output_type": "stream",
     "text": [
      "0.08610367774963379\n",
      "0.08668017387390137\n",
      "0.08692431449890137\n"
     ]
    },
    {
     "name": "stderr",
     "output_type": "stream",
     "text": [
      "\n",
      " 70%|███████████████████████████▉            | 698/1000 [01:01<00:26, 11.35it/s]\u001b[A\n",
      " 70%|████████████████████████████            | 700/1000 [01:01<00:26, 11.33it/s]\u001b[A"
     ]
    },
    {
     "name": "stdout",
     "output_type": "stream",
     "text": [
      "0.08950233459472656\n",
      "0.08598136901855469\n",
      "0.0900876522064209\n"
     ]
    },
    {
     "name": "stderr",
     "output_type": "stream",
     "text": [
      "\n",
      " 70%|████████████████████████████            | 702/1000 [01:01<00:26, 11.33it/s]\u001b[A"
     ]
    },
    {
     "name": "stdout",
     "output_type": "stream",
     "text": [
      "0.08777785301208496\n",
      "0.08740615844726562\n",
      "0.0866231918334961\n"
     ]
    },
    {
     "name": "stderr",
     "output_type": "stream",
     "text": [
      "\n",
      " 70%|████████████████████████████▏           | 704/1000 [01:02<00:26, 11.31it/s]\u001b[A\n",
      " 71%|████████████████████████████▏           | 706/1000 [01:02<00:25, 11.36it/s]\u001b[A"
     ]
    },
    {
     "name": "stdout",
     "output_type": "stream",
     "text": [
      "0.08954572677612305\n",
      "0.08432745933532715\n",
      "0.08879542350769043\n"
     ]
    },
    {
     "name": "stderr",
     "output_type": "stream",
     "text": [
      "\n",
      " 71%|████████████████████████████▎           | 708/1000 [01:02<00:25, 11.33it/s]\u001b[A"
     ]
    },
    {
     "name": "stdout",
     "output_type": "stream",
     "text": [
      "0.08911013603210449\n",
      "0.08709001541137695\n",
      "0.08615422248840332\n"
     ]
    },
    {
     "name": "stderr",
     "output_type": "stream",
     "text": [
      "\n",
      " 71%|████████████████████████████▍           | 710/1000 [01:02<00:25, 11.32it/s]\u001b[A\n",
      " 71%|████████████████████████████▍           | 712/1000 [01:02<00:25, 11.34it/s]\u001b[A"
     ]
    },
    {
     "name": "stdout",
     "output_type": "stream",
     "text": [
      "0.08980488777160645\n",
      "0.08582901954650879\n",
      "0.08873438835144043\n"
     ]
    },
    {
     "name": "stderr",
     "output_type": "stream",
     "text": [
      "\n",
      " 71%|████████████████████████████▌           | 714/1000 [01:02<00:25, 11.34it/s]\u001b[A"
     ]
    },
    {
     "name": "stdout",
     "output_type": "stream",
     "text": [
      "0.0871429443359375\n",
      "0.08794140815734863\n",
      "0.08628273010253906\n"
     ]
    },
    {
     "name": "stderr",
     "output_type": "stream",
     "text": [
      "\n",
      " 72%|████████████████████████████▋           | 716/1000 [01:03<00:25, 11.33it/s]\u001b[A\n",
      " 72%|████████████████████████████▋           | 718/1000 [01:03<00:24, 11.34it/s]\u001b[A"
     ]
    },
    {
     "name": "stdout",
     "output_type": "stream",
     "text": [
      "0.08910775184631348\n",
      "0.08571243286132812\n",
      "0.0894320011138916\n"
     ]
    },
    {
     "name": "stderr",
     "output_type": "stream",
     "text": [
      "\n",
      " 72%|████████████████████████████▊           | 720/1000 [01:03<00:24, 11.35it/s]\u001b[A"
     ]
    },
    {
     "name": "stdout",
     "output_type": "stream",
     "text": [
      "0.08735847473144531\n",
      "0.0869603157043457\n",
      "0.08693480491638184\n"
     ]
    },
    {
     "name": "stderr",
     "output_type": "stream",
     "text": [
      "\n",
      " 72%|████████████████████████████▉           | 722/1000 [01:03<00:24, 11.33it/s]\u001b[A\n",
      " 72%|████████████████████████████▉           | 724/1000 [01:03<00:24, 11.37it/s]\u001b[A"
     ]
    },
    {
     "name": "stdout",
     "output_type": "stream",
     "text": [
      "0.08906102180480957\n",
      "0.08502006530761719\n",
      "0.08853292465209961\n"
     ]
    },
    {
     "name": "stderr",
     "output_type": "stream",
     "text": [
      "\n",
      " 73%|█████████████████████████████           | 726/1000 [01:04<00:24, 11.37it/s]\u001b[A"
     ]
    },
    {
     "name": "stdout",
     "output_type": "stream",
     "text": [
      "0.0877535343170166\n",
      "0.0865166187286377\n",
      "0.08575916290283203\n"
     ]
    },
    {
     "name": "stderr",
     "output_type": "stream",
     "text": [
      "\n",
      " 73%|█████████████████████████████           | 728/1000 [01:04<00:23, 11.36it/s]\u001b[A\n",
      " 73%|█████████████████████████████▏          | 730/1000 [01:04<00:23, 11.37it/s]\u001b[A"
     ]
    },
    {
     "name": "stdout",
     "output_type": "stream",
     "text": [
      "0.08953070640563965\n",
      "0.0868983268737793\n",
      "0.08759212493896484\n"
     ]
    },
    {
     "name": "stderr",
     "output_type": "stream",
     "text": [
      "\n",
      " 73%|█████████████████████████████▎          | 732/1000 [01:04<00:23, 11.38it/s]\u001b[A"
     ]
    },
    {
     "name": "stdout",
     "output_type": "stream",
     "text": [
      "0.08662176132202148\n",
      "0.08778762817382812\n",
      "0.08722305297851562\n"
     ]
    },
    {
     "name": "stderr",
     "output_type": "stream",
     "text": [
      "\n",
      " 73%|█████████████████████████████▎          | 734/1000 [01:04<00:23, 11.32it/s]\u001b[A\n",
      " 74%|█████████████████████████████▍          | 736/1000 [01:04<00:23, 11.37it/s]\u001b[A"
     ]
    },
    {
     "name": "stdout",
     "output_type": "stream",
     "text": [
      "0.09029436111450195\n",
      "0.0850074291229248\n",
      "0.08799552917480469\n"
     ]
    },
    {
     "name": "stderr",
     "output_type": "stream",
     "text": [
      "\n",
      " 74%|█████████████████████████████▌          | 738/1000 [01:05<00:22, 11.40it/s]\u001b[A"
     ]
    },
    {
     "name": "stdout",
     "output_type": "stream",
     "text": [
      "0.0868983268737793\n",
      "0.08634734153747559\n",
      "0.08773398399353027\n"
     ]
    },
    {
     "name": "stderr",
     "output_type": "stream",
     "text": [
      "\n",
      " 74%|█████████████████████████████▌          | 740/1000 [01:05<00:22, 11.37it/s]\u001b[A\n",
      " 74%|█████████████████████████████▋          | 742/1000 [01:05<00:22, 11.28it/s]\u001b[A"
     ]
    },
    {
     "name": "stdout",
     "output_type": "stream",
     "text": [
      "0.08821773529052734\n",
      "0.08609342575073242\n",
      "0.0930171012878418\n"
     ]
    },
    {
     "name": "stderr",
     "output_type": "stream",
     "text": [
      "\n",
      " 74%|█████████████████████████████▊          | 744/1000 [01:05<00:22, 11.36it/s]\u001b[A"
     ]
    },
    {
     "name": "stdout",
     "output_type": "stream",
     "text": [
      "0.0847938060760498\n",
      "0.08719110488891602\n",
      "0.08674263954162598\n"
     ]
    },
    {
     "name": "stderr",
     "output_type": "stream",
     "text": [
      "\n",
      " 75%|█████████████████████████████▊          | 746/1000 [01:05<00:22, 11.33it/s]\u001b[A\n",
      " 75%|█████████████████████████████▉          | 748/1000 [01:05<00:22, 11.37it/s]\u001b[A"
     ]
    },
    {
     "name": "stdout",
     "output_type": "stream",
     "text": [
      "0.08941149711608887\n",
      "0.08535337448120117\n",
      "0.08791065216064453\n"
     ]
    },
    {
     "name": "stderr",
     "output_type": "stream",
     "text": [
      "\n",
      " 75%|██████████████████████████████          | 750/1000 [01:06<00:21, 11.40it/s]\u001b[A"
     ]
    },
    {
     "name": "stdout",
     "output_type": "stream",
     "text": [
      "0.08575081825256348\n",
      "0.08756351470947266\n",
      "0.08552384376525879\n"
     ]
    },
    {
     "name": "stderr",
     "output_type": "stream",
     "text": [
      "\n",
      " 75%|██████████████████████████████          | 752/1000 [01:06<00:21, 11.38it/s]\u001b[A\n",
      " 75%|██████████████████████████████▏         | 754/1000 [01:06<00:21, 11.42it/s]\u001b[A"
     ]
    },
    {
     "name": "stdout",
     "output_type": "stream",
     "text": [
      "0.08948183059692383\n",
      "0.08524298667907715\n",
      "0.08751225471496582\n"
     ]
    },
    {
     "name": "stderr",
     "output_type": "stream",
     "text": [
      "\n",
      " 76%|██████████████████████████████▏         | 756/1000 [01:06<00:21, 11.43it/s]\u001b[A"
     ]
    },
    {
     "name": "stdout",
     "output_type": "stream",
     "text": [
      "0.08683419227600098\n",
      "0.0861659049987793\n",
      "0.08610939979553223\n"
     ]
    },
    {
     "name": "stderr",
     "output_type": "stream",
     "text": [
      "\n",
      " 76%|██████████████████████████████▎         | 758/1000 [01:06<00:21, 11.40it/s]\u001b[A\n",
      " 76%|██████████████████████████████▍         | 760/1000 [01:06<00:20, 11.49it/s]\u001b[A"
     ]
    },
    {
     "name": "stdout",
     "output_type": "stream",
     "text": [
      "0.08952045440673828\n",
      "0.08393454551696777\n",
      "0.08586478233337402\n"
     ]
    },
    {
     "name": "stderr",
     "output_type": "stream",
     "text": [
      "\n",
      " 76%|██████████████████████████████▍         | 762/1000 [01:07<00:20, 11.47it/s]\u001b[A"
     ]
    },
    {
     "name": "stdout",
     "output_type": "stream",
     "text": [
      "0.08743524551391602\n",
      "0.08618474006652832\n",
      "0.08494400978088379\n"
     ]
    },
    {
     "name": "stderr",
     "output_type": "stream",
     "text": [
      "\n",
      " 76%|██████████████████████████████▌         | 764/1000 [01:07<00:20, 11.41it/s]\u001b[A\n",
      " 77%|██████████████████████████████▋         | 766/1000 [01:07<00:20, 11.44it/s]\u001b[A"
     ]
    },
    {
     "name": "stdout",
     "output_type": "stream",
     "text": [
      "0.09105658531188965\n",
      "0.08591723442077637\n",
      "0.08671021461486816\n"
     ]
    },
    {
     "name": "stderr",
     "output_type": "stream",
     "text": [
      "\n",
      " 77%|██████████████████████████████▋         | 768/1000 [01:07<00:24,  9.29it/s]\u001b[A"
     ]
    },
    {
     "name": "stdout",
     "output_type": "stream",
     "text": [
      "0.22293519973754883\n",
      "0.08528327941894531\n",
      "0.08595776557922363\n"
     ]
    },
    {
     "name": "stderr",
     "output_type": "stream",
     "text": [
      "\n",
      " 77%|██████████████████████████████▊         | 770/1000 [01:07<00:23,  9.90it/s]\u001b[A\n",
      " 77%|██████████████████████████████▉         | 772/1000 [01:08<00:22, 10.35it/s]\u001b[A"
     ]
    },
    {
     "name": "stdout",
     "output_type": "stream",
     "text": [
      "0.08428287506103516\n",
      "0.08923935890197754\n",
      "0.08231806755065918\n"
     ]
    },
    {
     "name": "stderr",
     "output_type": "stream",
     "text": [
      "\n",
      " 77%|██████████████████████████████▉         | 774/1000 [01:08<00:21, 10.64it/s]\u001b[A"
     ]
    },
    {
     "name": "stdout",
     "output_type": "stream",
     "text": [
      "0.08949971199035645\n",
      "0.08521628379821777\n",
      "0.08779358863830566\n"
     ]
    },
    {
     "name": "stderr",
     "output_type": "stream",
     "text": [
      "\n",
      " 78%|███████████████████████████████         | 776/1000 [01:08<00:20, 10.89it/s]\u001b[A\n",
      " 78%|███████████████████████████████         | 778/1000 [01:08<00:20, 11.03it/s]\u001b[A"
     ]
    },
    {
     "name": "stdout",
     "output_type": "stream",
     "text": [
      "0.08438777923583984\n",
      "0.09105992317199707\n",
      "0.08374762535095215\n"
     ]
    },
    {
     "name": "stderr",
     "output_type": "stream",
     "text": [
      "\n",
      " 78%|███████████████████████████████▏        | 780/1000 [01:08<00:19, 11.16it/s]\u001b[A"
     ]
    },
    {
     "name": "stdout",
     "output_type": "stream",
     "text": [
      "0.08818507194519043\n",
      "0.08475017547607422\n",
      "0.08877038955688477\n"
     ]
    },
    {
     "name": "stderr",
     "output_type": "stream",
     "text": [
      "\n",
      " 78%|███████████████████████████████▎        | 782/1000 [01:09<00:19, 11.25it/s]\u001b[A\n",
      " 78%|███████████████████████████████▎        | 784/1000 [01:09<00:19, 11.34it/s]\u001b[A"
     ]
    },
    {
     "name": "stdout",
     "output_type": "stream",
     "text": [
      "0.08444905281066895\n",
      "0.08902788162231445\n",
      "0.08301281929016113\n"
     ]
    },
    {
     "name": "stderr",
     "output_type": "stream",
     "text": [
      "\n",
      " 79%|███████████████████████████████▍        | 786/1000 [01:09<00:18, 11.35it/s]\u001b[A"
     ]
    },
    {
     "name": "stdout",
     "output_type": "stream",
     "text": [
      "0.08961081504821777\n",
      "0.08482122421264648\n",
      "0.08679413795471191\n"
     ]
    },
    {
     "name": "stderr",
     "output_type": "stream",
     "text": [
      "\n",
      " 79%|███████████████████████████████▌        | 788/1000 [01:09<00:18, 11.42it/s]\u001b[A\n",
      " 79%|███████████████████████████████▌        | 790/1000 [01:09<00:18, 11.45it/s]\u001b[A"
     ]
    },
    {
     "name": "stdout",
     "output_type": "stream",
     "text": [
      "0.08469271659851074\n",
      "0.08956313133239746\n",
      "0.08276891708374023\n"
     ]
    },
    {
     "name": "stderr",
     "output_type": "stream",
     "text": [
      "\n",
      " 79%|███████████████████████████████▋        | 792/1000 [01:09<00:18, 11.43it/s]\u001b[A"
     ]
    },
    {
     "name": "stdout",
     "output_type": "stream",
     "text": [
      "0.08968329429626465\n",
      "0.0849461555480957\n",
      "0.0867617130279541\n"
     ]
    },
    {
     "name": "stderr",
     "output_type": "stream",
     "text": [
      "\n",
      " 79%|███████████████████████████████▊        | 794/1000 [01:10<00:17, 11.46it/s]\u001b[A\n",
      " 80%|███████████████████████████████▊        | 796/1000 [01:10<00:17, 11.44it/s]\u001b[A"
     ]
    },
    {
     "name": "stdout",
     "output_type": "stream",
     "text": [
      "0.08534646034240723\n",
      "0.08989739418029785\n",
      "0.08453679084777832\n"
     ]
    },
    {
     "name": "stderr",
     "output_type": "stream",
     "text": [
      "\n",
      " 80%|███████████████████████████████▉        | 798/1000 [01:10<00:17, 11.44it/s]\u001b[A"
     ]
    },
    {
     "name": "stdout",
     "output_type": "stream",
     "text": [
      "0.08869004249572754\n",
      "0.0851738452911377\n",
      "0.08971405029296875\n"
     ]
    },
    {
     "name": "stderr",
     "output_type": "stream",
     "text": [
      "\n",
      " 80%|████████████████████████████████        | 800/1000 [01:10<00:17, 11.40it/s]\u001b[A\n",
      " 80%|████████████████████████████████        | 802/1000 [01:10<00:17, 11.39it/s]\u001b[A"
     ]
    },
    {
     "name": "stdout",
     "output_type": "stream",
     "text": [
      "0.08594822883605957\n",
      "0.08934617042541504\n",
      "0.08541512489318848\n"
     ]
    },
    {
     "name": "stderr",
     "output_type": "stream",
     "text": [
      "\n",
      " 80%|████████████████████████████████▏       | 804/1000 [01:10<00:17, 11.42it/s]\u001b[A"
     ]
    },
    {
     "name": "stdout",
     "output_type": "stream",
     "text": [
      "0.08899044990539551\n",
      "0.08377838134765625\n",
      "0.08990645408630371\n"
     ]
    },
    {
     "name": "stderr",
     "output_type": "stream",
     "text": [
      "\n",
      " 81%|████████████████████████████████▏       | 806/1000 [01:11<00:17, 11.39it/s]\u001b[A\n",
      " 81%|████████████████████████████████▎       | 808/1000 [01:11<00:16, 11.43it/s]\u001b[A"
     ]
    },
    {
     "name": "stdout",
     "output_type": "stream",
     "text": [
      "0.08534789085388184\n",
      "0.0886991024017334\n",
      "0.08364224433898926\n"
     ]
    },
    {
     "name": "stderr",
     "output_type": "stream",
     "text": [
      "\n",
      " 81%|████████████████████████████████▍       | 810/1000 [01:11<00:16, 11.47it/s]\u001b[A"
     ]
    },
    {
     "name": "stdout",
     "output_type": "stream",
     "text": [
      "0.08856344223022461\n",
      "0.08337783813476562\n",
      "0.08799386024475098\n"
     ]
    },
    {
     "name": "stderr",
     "output_type": "stream",
     "text": [
      "\n",
      " 81%|████████████████████████████████▍       | 812/1000 [01:11<00:16, 11.47it/s]\u001b[A\n",
      " 81%|████████████████████████████████▌       | 814/1000 [01:11<00:16, 11.50it/s]\u001b[A"
     ]
    },
    {
     "name": "stdout",
     "output_type": "stream",
     "text": [
      "0.08516287803649902\n",
      "0.08764052391052246\n",
      "0.08393096923828125\n"
     ]
    },
    {
     "name": "stderr",
     "output_type": "stream",
     "text": [
      "\n",
      " 82%|████████████████████████████████▋       | 816/1000 [01:12<00:16, 11.49it/s]\u001b[A"
     ]
    },
    {
     "name": "stdout",
     "output_type": "stream",
     "text": [
      "0.08896279335021973\n",
      "0.08455610275268555\n",
      "0.08871293067932129\n"
     ]
    },
    {
     "name": "stderr",
     "output_type": "stream",
     "text": [
      "\n",
      " 82%|████████████████████████████████▋       | 818/1000 [01:12<00:15, 11.48it/s]\u001b[A\n",
      " 82%|████████████████████████████████▊       | 820/1000 [01:12<00:15, 11.43it/s]\u001b[A"
     ]
    },
    {
     "name": "stdout",
     "output_type": "stream",
     "text": [
      "0.08466267585754395\n",
      "0.08712148666381836\n",
      "0.08836865425109863\n"
     ]
    },
    {
     "name": "stderr",
     "output_type": "stream",
     "text": [
      "\n",
      " 82%|████████████████████████████████▉       | 822/1000 [01:12<00:15, 11.28it/s]\u001b[A"
     ]
    },
    {
     "name": "stdout",
     "output_type": "stream",
     "text": [
      "0.09643387794494629\n",
      "0.0851898193359375\n",
      "0.09319710731506348\n"
     ]
    },
    {
     "name": "stderr",
     "output_type": "stream",
     "text": [
      "\n",
      " 82%|████████████████████████████████▉       | 824/1000 [01:12<00:15, 11.22it/s]\u001b[A\n",
      " 83%|█████████████████████████████████       | 826/1000 [01:12<00:15, 11.11it/s]\u001b[A"
     ]
    },
    {
     "name": "stdout",
     "output_type": "stream",
     "text": [
      "0.08603930473327637\n",
      "0.09897470474243164\n",
      "0.08377671241760254\n"
     ]
    },
    {
     "name": "stderr",
     "output_type": "stream",
     "text": [
      "\n",
      " 83%|█████████████████████████████████       | 828/1000 [01:13<00:15, 10.96it/s]\u001b[A"
     ]
    },
    {
     "name": "stdout",
     "output_type": "stream",
     "text": [
      "0.09911942481994629\n",
      "0.08789849281311035\n",
      "0.09882688522338867\n"
     ]
    },
    {
     "name": "stderr",
     "output_type": "stream",
     "text": [
      "\n",
      " 83%|█████████████████████████████████▏      | 830/1000 [01:13<00:15, 10.93it/s]\u001b[A\n",
      " 83%|█████████████████████████████████▎      | 832/1000 [01:13<00:15, 10.94it/s]\u001b[A"
     ]
    },
    {
     "name": "stdout",
     "output_type": "stream",
     "text": [
      "0.08425068855285645\n",
      "0.0992884635925293\n",
      "0.08199214935302734\n"
     ]
    },
    {
     "name": "stderr",
     "output_type": "stream",
     "text": [
      "\n",
      " 83%|█████████████████████████████████▎      | 834/1000 [01:13<00:15, 10.84it/s]\u001b[A"
     ]
    },
    {
     "name": "stdout",
     "output_type": "stream",
     "text": [
      "0.09567999839782715\n",
      "0.09152746200561523\n",
      "0.09148216247558594\n"
     ]
    },
    {
     "name": "stderr",
     "output_type": "stream",
     "text": [
      "\n",
      " 84%|█████████████████████████████████▍      | 836/1000 [01:13<00:15, 10.88it/s]\u001b[A\n",
      " 84%|█████████████████████████████████▌      | 838/1000 [01:14<00:14, 10.86it/s]\u001b[A"
     ]
    },
    {
     "name": "stdout",
     "output_type": "stream",
     "text": [
      "0.08906245231628418\n",
      "0.09267473220825195\n",
      "0.09077239036560059\n"
     ]
    },
    {
     "name": "stderr",
     "output_type": "stream",
     "text": [
      "\n",
      " 84%|█████████████████████████████████▌      | 840/1000 [01:14<00:14, 10.88it/s]\u001b[A"
     ]
    },
    {
     "name": "stdout",
     "output_type": "stream",
     "text": [
      "0.08769822120666504\n",
      "0.09365177154541016\n",
      "0.08495903015136719\n"
     ]
    },
    {
     "name": "stderr",
     "output_type": "stream",
     "text": [
      "\n",
      " 84%|█████████████████████████████████▋      | 842/1000 [01:14<00:14, 10.91it/s]\u001b[A\n",
      " 84%|█████████████████████████████████▊      | 844/1000 [01:14<00:14, 11.04it/s]\u001b[A"
     ]
    },
    {
     "name": "stdout",
     "output_type": "stream",
     "text": [
      "0.09597182273864746\n",
      "0.08587026596069336\n",
      "0.08915877342224121\n"
     ]
    },
    {
     "name": "stderr",
     "output_type": "stream",
     "text": [
      "\n",
      " 85%|█████████████████████████████████▊      | 846/1000 [01:14<00:13, 11.00it/s]\u001b[A"
     ]
    },
    {
     "name": "stdout",
     "output_type": "stream",
     "text": [
      "0.08794856071472168\n",
      "0.0941767692565918\n",
      "0.08767151832580566\n"
     ]
    },
    {
     "name": "stderr",
     "output_type": "stream",
     "text": [
      "\n",
      " 85%|█████████████████████████████████▉      | 848/1000 [01:14<00:13, 11.10it/s]\u001b[A\n",
      " 85%|██████████████████████████████████      | 850/1000 [01:15<00:13, 11.23it/s]\u001b[A"
     ]
    },
    {
     "name": "stdout",
     "output_type": "stream",
     "text": [
      "0.08768796920776367\n",
      "0.08436155319213867\n",
      "0.08776140213012695\n"
     ]
    },
    {
     "name": "stderr",
     "output_type": "stream",
     "text": [
      "\n",
      " 85%|██████████████████████████████████      | 852/1000 [01:15<00:13, 11.33it/s]\u001b[A"
     ]
    },
    {
     "name": "stdout",
     "output_type": "stream",
     "text": [
      "0.08625292778015137\n",
      "0.0857539176940918\n",
      "0.08511066436767578\n"
     ]
    },
    {
     "name": "stderr",
     "output_type": "stream",
     "text": [
      "\n",
      " 85%|██████████████████████████████████▏     | 854/1000 [01:15<00:12, 11.36it/s]\u001b[A\n",
      " 86%|██████████████████████████████████▏     | 856/1000 [01:15<00:12, 11.41it/s]\u001b[A"
     ]
    },
    {
     "name": "stdout",
     "output_type": "stream",
     "text": [
      "0.08839821815490723\n",
      "0.08404088020324707\n",
      "0.08844208717346191\n"
     ]
    },
    {
     "name": "stderr",
     "output_type": "stream",
     "text": [
      "\n",
      " 86%|██████████████████████████████████▎     | 858/1000 [01:15<00:12, 11.45it/s]\u001b[A"
     ]
    },
    {
     "name": "stdout",
     "output_type": "stream",
     "text": [
      "0.0862276554107666\n",
      "0.08585000038146973\n",
      "0.0847024917602539\n"
     ]
    },
    {
     "name": "stderr",
     "output_type": "stream",
     "text": [
      "\n",
      " 86%|██████████████████████████████████▍     | 860/1000 [01:15<00:12, 11.47it/s]\u001b[A\n",
      " 86%|██████████████████████████████████▍     | 862/1000 [01:16<00:11, 11.56it/s]\u001b[A"
     ]
    },
    {
     "name": "stdout",
     "output_type": "stream",
     "text": [
      "0.08795595169067383\n",
      "0.08299422264099121\n",
      "0.08548855781555176\n"
     ]
    },
    {
     "name": "stderr",
     "output_type": "stream",
     "text": [
      "\n",
      " 86%|██████████████████████████████████▌     | 864/1000 [01:16<00:11, 11.57it/s]\u001b[A"
     ]
    },
    {
     "name": "stdout",
     "output_type": "stream",
     "text": [
      "0.08588981628417969\n",
      "0.0853579044342041\n",
      "0.0842428207397461\n"
     ]
    },
    {
     "name": "stderr",
     "output_type": "stream",
     "text": [
      "\n",
      " 87%|██████████████████████████████████▋     | 866/1000 [01:16<00:11, 11.56it/s]\u001b[A\n",
      " 87%|██████████████████████████████████▋     | 868/1000 [01:16<00:11, 11.56it/s]\u001b[A"
     ]
    },
    {
     "name": "stdout",
     "output_type": "stream",
     "text": [
      "0.08820414543151855\n",
      "0.08457636833190918\n",
      "0.08726263046264648\n"
     ]
    },
    {
     "name": "stderr",
     "output_type": "stream",
     "text": [
      "\n",
      " 87%|██████████████████████████████████▊     | 870/1000 [01:16<00:11, 11.51it/s]\u001b[A"
     ]
    },
    {
     "name": "stdout",
     "output_type": "stream",
     "text": [
      "0.08730888366699219\n",
      "0.08679056167602539\n",
      "0.086944580078125\n"
     ]
    },
    {
     "name": "stderr",
     "output_type": "stream",
     "text": [
      "\n",
      " 87%|██████████████████████████████████▉     | 872/1000 [01:17<00:11, 11.36it/s]\u001b[A\n",
      " 87%|██████████████████████████████████▉     | 874/1000 [01:17<00:10, 11.49it/s]\u001b[A"
     ]
    },
    {
     "name": "stdout",
     "output_type": "stream",
     "text": [
      "0.09311294555664062\n",
      "0.0828859806060791\n",
      "0.08516144752502441\n"
     ]
    },
    {
     "name": "stderr",
     "output_type": "stream",
     "text": [
      "\n",
      " 88%|███████████████████████████████████     | 876/1000 [01:17<00:10, 11.47it/s]\u001b[A"
     ]
    },
    {
     "name": "stdout",
     "output_type": "stream",
     "text": [
      "0.08852863311767578\n",
      "0.08541202545166016\n",
      "0.08513307571411133\n"
     ]
    },
    {
     "name": "stderr",
     "output_type": "stream",
     "text": [
      "\n",
      " 88%|███████████████████████████████████     | 878/1000 [01:17<00:10, 11.45it/s]\u001b[A\n",
      " 88%|███████████████████████████████████▏    | 880/1000 [01:17<00:10, 11.53it/s]\u001b[A"
     ]
    },
    {
     "name": "stdout",
     "output_type": "stream",
     "text": [
      "0.0889132022857666\n",
      "0.08506345748901367\n",
      "0.08446693420410156\n"
     ]
    },
    {
     "name": "stderr",
     "output_type": "stream",
     "text": [
      "\n",
      " 88%|███████████████████████████████████▎    | 882/1000 [01:17<00:10, 11.53it/s]\u001b[A"
     ]
    },
    {
     "name": "stdout",
     "output_type": "stream",
     "text": [
      "0.08810067176818848\n",
      "0.08415079116821289\n",
      "0.08669447898864746\n"
     ]
    },
    {
     "name": "stderr",
     "output_type": "stream",
     "text": [
      "\n",
      " 88%|███████████████████████████████████▎    | 884/1000 [01:18<00:10, 11.48it/s]\u001b[A\n",
      " 89%|███████████████████████████████████▍    | 886/1000 [01:18<00:09, 11.54it/s]\u001b[A"
     ]
    },
    {
     "name": "stdout",
     "output_type": "stream",
     "text": [
      "0.08779716491699219\n",
      "0.08587288856506348\n",
      "0.08356285095214844\n"
     ]
    },
    {
     "name": "stderr",
     "output_type": "stream",
     "text": [
      "\n",
      " 89%|███████████████████████████████████▌    | 888/1000 [01:18<00:09, 11.56it/s]\u001b[A"
     ]
    },
    {
     "name": "stdout",
     "output_type": "stream",
     "text": [
      "0.08875250816345215\n",
      "0.0823824405670166\n",
      "0.0874030590057373\n"
     ]
    },
    {
     "name": "stderr",
     "output_type": "stream",
     "text": [
      "\n",
      " 89%|███████████████████████████████████▌    | 890/1000 [01:18<00:09, 11.52it/s]\u001b[A\n",
      " 89%|███████████████████████████████████▋    | 892/1000 [01:18<00:09, 11.54it/s]\u001b[A"
     ]
    },
    {
     "name": "stdout",
     "output_type": "stream",
     "text": [
      "0.08654189109802246\n",
      "0.08707308769226074\n",
      "0.08455157279968262\n"
     ]
    },
    {
     "name": "stderr",
     "output_type": "stream",
     "text": [
      "\n",
      " 89%|███████████████████████████████████▊    | 894/1000 [01:18<00:09, 11.55it/s]\u001b[A"
     ]
    },
    {
     "name": "stdout",
     "output_type": "stream",
     "text": [
      "0.08914971351623535\n",
      "0.08252382278442383\n",
      "0.08907198905944824\n"
     ]
    },
    {
     "name": "stderr",
     "output_type": "stream",
     "text": [
      "\n",
      " 90%|███████████████████████████████████▊    | 896/1000 [01:19<00:09, 11.47it/s]\u001b[A\n",
      " 90%|███████████████████████████████████▉    | 898/1000 [01:19<00:08, 11.56it/s]\u001b[A"
     ]
    },
    {
     "name": "stdout",
     "output_type": "stream",
     "text": [
      "0.08673810958862305\n",
      "0.08644795417785645\n",
      "0.08225107192993164\n"
     ]
    },
    {
     "name": "stderr",
     "output_type": "stream",
     "text": [
      "\n",
      " 90%|████████████████████████████████████    | 900/1000 [01:19<00:08, 11.51it/s]\u001b[A"
     ]
    },
    {
     "name": "stdout",
     "output_type": "stream",
     "text": [
      "0.09163713455200195\n",
      "0.08273983001708984\n",
      "0.08682799339294434\n"
     ]
    },
    {
     "name": "stderr",
     "output_type": "stream",
     "text": [
      "\n",
      " 90%|████████████████████████████████████    | 902/1000 [01:19<00:08, 11.50it/s]\u001b[A\n",
      " 90%|████████████████████████████████████▏   | 904/1000 [01:19<00:08, 11.54it/s]\u001b[A"
     ]
    },
    {
     "name": "stdout",
     "output_type": "stream",
     "text": [
      "0.08647489547729492\n",
      "0.08803558349609375\n",
      "0.08273458480834961\n"
     ]
    },
    {
     "name": "stderr",
     "output_type": "stream",
     "text": [
      "\n",
      " 91%|████████████████████████████████████▏   | 906/1000 [01:19<00:08, 11.54it/s]\u001b[A"
     ]
    },
    {
     "name": "stdout",
     "output_type": "stream",
     "text": [
      "0.08909392356872559\n",
      "0.0826408863067627\n",
      "0.08662128448486328\n"
     ]
    },
    {
     "name": "stderr",
     "output_type": "stream",
     "text": [
      "\n",
      " 91%|████████████████████████████████████▎   | 908/1000 [01:20<00:07, 11.54it/s]\u001b[A\n",
      " 91%|████████████████████████████████████▍   | 910/1000 [01:20<00:07, 11.53it/s]\u001b[A"
     ]
    },
    {
     "name": "stdout",
     "output_type": "stream",
     "text": [
      "0.08578658103942871\n",
      "0.08779001235961914\n",
      "0.08498072624206543\n"
     ]
    },
    {
     "name": "stderr",
     "output_type": "stream",
     "text": [
      "\n",
      " 91%|████████████████████████████████████▍   | 912/1000 [01:20<00:07, 11.53it/s]\u001b[A"
     ]
    },
    {
     "name": "stdout",
     "output_type": "stream",
     "text": [
      "0.08998775482177734\n",
      "0.08253765106201172\n",
      "0.08806562423706055\n"
     ]
    },
    {
     "name": "stderr",
     "output_type": "stream",
     "text": [
      "\n",
      " 91%|████████████████████████████████████▌   | 914/1000 [01:20<00:07, 11.46it/s]\u001b[A\n",
      " 92%|████████████████████████████████████▋   | 916/1000 [01:20<00:07, 11.50it/s]\u001b[A"
     ]
    },
    {
     "name": "stdout",
     "output_type": "stream",
     "text": [
      "0.08768320083618164\n",
      "0.08810663223266602\n",
      "0.08310222625732422\n"
     ]
    },
    {
     "name": "stderr",
     "output_type": "stream",
     "text": [
      "\n",
      " 92%|████████████████████████████████████▋   | 918/1000 [01:20<00:07, 11.49it/s]\u001b[A"
     ]
    },
    {
     "name": "stdout",
     "output_type": "stream",
     "text": [
      "0.08974337577819824\n",
      "0.08368325233459473\n",
      "0.08842921257019043\n"
     ]
    },
    {
     "name": "stderr",
     "output_type": "stream",
     "text": [
      "\n",
      " 92%|████████████████████████████████████▊   | 920/1000 [01:21<00:06, 11.44it/s]\u001b[A\n",
      " 92%|████████████████████████████████████▉   | 922/1000 [01:21<00:06, 11.51it/s]\u001b[A"
     ]
    },
    {
     "name": "stdout",
     "output_type": "stream",
     "text": [
      "0.08692812919616699\n",
      "0.0874934196472168\n",
      "0.08257484436035156\n"
     ]
    },
    {
     "name": "stderr",
     "output_type": "stream",
     "text": [
      "\n",
      " 92%|████████████████████████████████████▉   | 924/1000 [01:21<00:06, 11.50it/s]\u001b[A"
     ]
    },
    {
     "name": "stdout",
     "output_type": "stream",
     "text": [
      "0.08910179138183594\n",
      "0.08399534225463867\n",
      "0.08588838577270508\n"
     ]
    },
    {
     "name": "stderr",
     "output_type": "stream",
     "text": [
      "\n",
      " 93%|█████████████████████████████████████   | 926/1000 [01:21<00:06, 11.51it/s]\u001b[A\n",
      " 93%|█████████████████████████████████████   | 928/1000 [01:21<00:06, 11.50it/s]\u001b[A"
     ]
    },
    {
     "name": "stdout",
     "output_type": "stream",
     "text": [
      "0.08644771575927734\n",
      "0.0897054672241211\n",
      "0.0831289291381836\n"
     ]
    },
    {
     "name": "stderr",
     "output_type": "stream",
     "text": [
      "\n",
      " 93%|█████████████████████████████████████▏  | 930/1000 [01:22<00:06, 11.50it/s]\u001b[A"
     ]
    },
    {
     "name": "stdout",
     "output_type": "stream",
     "text": [
      "0.08797001838684082\n",
      "0.0849609375\n",
      "0.0872962474822998\n"
     ]
    },
    {
     "name": "stderr",
     "output_type": "stream",
     "text": [
      "\n",
      " 93%|█████████████████████████████████████▎  | 932/1000 [01:22<00:05, 11.47it/s]\u001b[A\n",
      " 93%|█████████████████████████████████████▎  | 934/1000 [01:22<00:05, 11.50it/s]\u001b[A"
     ]
    },
    {
     "name": "stdout",
     "output_type": "stream",
     "text": [
      "0.08700919151306152\n",
      "0.08809614181518555\n",
      "0.0838918685913086\n"
     ]
    },
    {
     "name": "stderr",
     "output_type": "stream",
     "text": [
      "\n",
      " 94%|█████████████████████████████████████▍  | 936/1000 [01:22<00:05, 11.50it/s]\u001b[A"
     ]
    },
    {
     "name": "stdout",
     "output_type": "stream",
     "text": [
      "0.08758211135864258\n",
      "0.08496546745300293\n",
      "0.08611941337585449\n"
     ]
    },
    {
     "name": "stderr",
     "output_type": "stream",
     "text": [
      "\n",
      " 94%|█████████████████████████████████████▌  | 938/1000 [01:22<00:05, 11.50it/s]\u001b[A\n",
      " 94%|█████████████████████████████████████▌  | 940/1000 [01:22<00:05, 11.49it/s]\u001b[A"
     ]
    },
    {
     "name": "stdout",
     "output_type": "stream",
     "text": [
      "0.08668875694274902\n",
      "0.0875844955444336\n",
      "0.08557653427124023\n"
     ]
    },
    {
     "name": "stderr",
     "output_type": "stream",
     "text": [
      "\n",
      " 94%|█████████████████████████████████████▋  | 942/1000 [01:23<00:05, 11.46it/s]\u001b[A"
     ]
    },
    {
     "name": "stdout",
     "output_type": "stream",
     "text": [
      "0.08863186836242676\n",
      "0.08580231666564941\n",
      "0.08557963371276855\n"
     ]
    },
    {
     "name": "stderr",
     "output_type": "stream",
     "text": [
      "\n",
      " 94%|█████████████████████████████████████▊  | 944/1000 [01:23<00:04, 11.45it/s]\u001b[A\n",
      " 95%|█████████████████████████████████████▊  | 946/1000 [01:23<00:04, 11.44it/s]\u001b[A"
     ]
    },
    {
     "name": "stdout",
     "output_type": "stream",
     "text": [
      "0.0882105827331543\n",
      "0.08754801750183105\n",
      "0.08657264709472656\n"
     ]
    },
    {
     "name": "stderr",
     "output_type": "stream",
     "text": [
      "\n",
      " 95%|█████████████████████████████████████▉  | 948/1000 [01:23<00:04, 11.43it/s]\u001b[A"
     ]
    },
    {
     "name": "stdout",
     "output_type": "stream",
     "text": [
      "0.08662962913513184\n",
      "0.08734369277954102\n",
      "0.08506655693054199\n"
     ]
    },
    {
     "name": "stderr",
     "output_type": "stream",
     "text": [
      "\n",
      " 95%|██████████████████████████████████████  | 950/1000 [01:23<00:04, 11.47it/s]\u001b[A\n",
      " 95%|██████████████████████████████████████  | 952/1000 [01:23<00:04, 11.46it/s]\u001b[A"
     ]
    },
    {
     "name": "stdout",
     "output_type": "stream",
     "text": [
      "0.08674335479736328\n",
      "0.08617138862609863\n",
      "0.08758902549743652\n"
     ]
    },
    {
     "name": "stderr",
     "output_type": "stream",
     "text": [
      "\n",
      " 95%|██████████████████████████████████████▏ | 954/1000 [01:24<00:04, 11.46it/s]\u001b[A"
     ]
    },
    {
     "name": "stdout",
     "output_type": "stream",
     "text": [
      "0.08501243591308594\n",
      "0.08831191062927246\n",
      "0.08440947532653809\n"
     ]
    },
    {
     "name": "stderr",
     "output_type": "stream",
     "text": [
      "\n",
      " 96%|██████████████████████████████████████▏ | 956/1000 [01:24<00:03, 11.47it/s]\u001b[A\n",
      " 96%|██████████████████████████████████████▎ | 958/1000 [01:24<00:03, 11.50it/s]\u001b[A"
     ]
    },
    {
     "name": "stdout",
     "output_type": "stream",
     "text": [
      "0.08857870101928711\n",
      "0.08589315414428711\n",
      "0.08587026596069336\n"
     ]
    },
    {
     "name": "stderr",
     "output_type": "stream",
     "text": [
      "\n",
      " 96%|██████████████████████████████████████▍ | 960/1000 [01:24<00:03, 11.47it/s]\u001b[A"
     ]
    },
    {
     "name": "stdout",
     "output_type": "stream",
     "text": [
      "0.08468055725097656\n",
      "0.08946371078491211\n",
      "0.08438515663146973\n"
     ]
    },
    {
     "name": "stderr",
     "output_type": "stream",
     "text": [
      "\n",
      " 96%|██████████████████████████████████████▍ | 962/1000 [01:24<00:03, 11.47it/s]\u001b[A\n",
      " 96%|██████████████████████████████████████▌ | 964/1000 [01:25<00:03, 11.47it/s]\u001b[A"
     ]
    },
    {
     "name": "stdout",
     "output_type": "stream",
     "text": [
      "0.08916234970092773\n",
      "0.08695793151855469\n",
      "0.08595657348632812\n"
     ]
    },
    {
     "name": "stderr",
     "output_type": "stream",
     "text": [
      "\n",
      " 97%|██████████████████████████████████████▋ | 966/1000 [01:25<00:02, 11.48it/s]\u001b[A"
     ]
    },
    {
     "name": "stdout",
     "output_type": "stream",
     "text": [
      "0.08477234840393066\n",
      "0.0881800651550293\n",
      "0.08401966094970703\n"
     ]
    },
    {
     "name": "stderr",
     "output_type": "stream",
     "text": [
      "\n",
      " 97%|██████████████████████████████████████▋ | 968/1000 [01:25<00:02, 11.52it/s]\u001b[A\n",
      " 97%|██████████████████████████████████████▊ | 970/1000 [01:25<00:02, 11.52it/s]\u001b[A"
     ]
    },
    {
     "name": "stdout",
     "output_type": "stream",
     "text": [
      "0.08694171905517578\n",
      "0.08498477935791016\n",
      "0.08752775192260742\n"
     ]
    },
    {
     "name": "stderr",
     "output_type": "stream",
     "text": [
      "\n",
      " 97%|██████████████████████████████████████▉ | 972/1000 [01:25<00:02, 11.48it/s]\u001b[A"
     ]
    },
    {
     "name": "stdout",
     "output_type": "stream",
     "text": [
      "0.0852820873260498\n",
      "0.08935236930847168\n",
      "0.08392620086669922\n"
     ]
    },
    {
     "name": "stderr",
     "output_type": "stream",
     "text": [
      "\n",
      " 97%|██████████████████████████████████████▉ | 974/1000 [01:25<00:02, 11.52it/s]\u001b[A\n",
      " 98%|███████████████████████████████████████ | 976/1000 [01:26<00:02, 11.53it/s]\u001b[A"
     ]
    },
    {
     "name": "stdout",
     "output_type": "stream",
     "text": [
      "0.0870046615600586\n",
      "0.08596324920654297\n",
      "0.08564925193786621\n"
     ]
    },
    {
     "name": "stderr",
     "output_type": "stream",
     "text": [
      "\n",
      " 98%|███████████████████████████████████████ | 978/1000 [01:26<00:01, 11.52it/s]\u001b[A"
     ]
    },
    {
     "name": "stdout",
     "output_type": "stream",
     "text": [
      "0.0854637622833252\n",
      "0.08756279945373535\n",
      "0.08567190170288086\n"
     ]
    },
    {
     "name": "stderr",
     "output_type": "stream",
     "text": [
      "\n",
      " 98%|███████████████████████████████████████▏| 980/1000 [01:26<00:01, 11.49it/s]\u001b[A\n",
      " 98%|███████████████████████████████████████▎| 982/1000 [01:26<00:01, 11.44it/s]\u001b[A"
     ]
    },
    {
     "name": "stdout",
     "output_type": "stream",
     "text": [
      "0.08844161033630371\n",
      "0.08747553825378418\n",
      "0.0877389907836914\n"
     ]
    },
    {
     "name": "stderr",
     "output_type": "stream",
     "text": [
      "\n",
      " 98%|███████████████████████████████████████▎| 984/1000 [01:26<00:01, 11.39it/s]\u001b[A"
     ]
    },
    {
     "name": "stdout",
     "output_type": "stream",
     "text": [
      "0.0874330997467041\n",
      "0.08864665031433105\n",
      "0.08519268035888672\n"
     ]
    },
    {
     "name": "stderr",
     "output_type": "stream",
     "text": [
      "\n",
      " 99%|███████████████████████████████████████▍| 986/1000 [01:26<00:01, 11.39it/s]\u001b[A\n",
      " 99%|███████████████████████████████████████▌| 988/1000 [01:27<00:01, 11.38it/s]\u001b[A"
     ]
    },
    {
     "name": "stdout",
     "output_type": "stream",
     "text": [
      "0.08892583847045898\n",
      "0.08687400817871094\n",
      "0.08794474601745605\n"
     ]
    },
    {
     "name": "stderr",
     "output_type": "stream",
     "text": [
      "\n",
      " 99%|███████████████████████████████████████▌| 990/1000 [01:27<00:00, 11.41it/s]\u001b[A"
     ]
    },
    {
     "name": "stdout",
     "output_type": "stream",
     "text": [
      "0.08667707443237305\n",
      "0.08638119697570801\n",
      "0.08484840393066406\n"
     ]
    },
    {
     "name": "stderr",
     "output_type": "stream",
     "text": [
      "\n",
      " 99%|███████████████████████████████████████▋| 992/1000 [01:27<00:00, 11.31it/s]\u001b[A\n",
      " 99%|███████████████████████████████████████▊| 994/1000 [01:27<00:00, 11.35it/s]\u001b[A"
     ]
    },
    {
     "name": "stdout",
     "output_type": "stream",
     "text": [
      "0.09410691261291504\n",
      "0.08501434326171875\n",
      "0.08824563026428223\n"
     ]
    },
    {
     "name": "stderr",
     "output_type": "stream",
     "text": [
      "\n",
      "100%|███████████████████████████████████████▊| 996/1000 [01:27<00:00, 11.36it/s]\u001b[A"
     ]
    },
    {
     "name": "stdout",
     "output_type": "stream",
     "text": [
      "0.0881035327911377\n",
      "0.08599233627319336\n",
      "0.08568453788757324\n"
     ]
    },
    {
     "name": "stderr",
     "output_type": "stream",
     "text": [
      "\n",
      "100%|███████████████████████████████████████▉| 998/1000 [01:27<00:00, 11.40it/s]\u001b[A\n",
      "100%|███████████████████████████████████████| 1000/1000 [01:28<00:00, 11.34it/s]\u001b[A\n",
      " 40%|██████████████████                           | 2/5 [02:55<04:23, 87.82s/it]"
     ]
    },
    {
     "name": "stdout",
     "output_type": "stream",
     "text": [
      "0.08722472190856934\n",
      "0.0855405330657959\n",
      "0.08739376068115234\n",
      "One run completed\n"
     ]
    },
    {
     "name": "stderr",
     "output_type": "stream",
     "text": [
      "\n",
      "  0%|                                                  | 0/1000 [00:00<?, ?it/s]\u001b[A\n",
      "  0%|                                          | 2/1000 [00:00<01:25, 11.66it/s]\u001b[A"
     ]
    },
    {
     "name": "stdout",
     "output_type": "stream",
     "text": [
      "0.08595061302185059\n",
      "0.08522176742553711\n",
      "0.0864415168762207\n"
     ]
    },
    {
     "name": "stderr",
     "output_type": "stream",
     "text": [
      "\n",
      "  0%|▏                                         | 4/1000 [00:00<01:25, 11.61it/s]\u001b[A\n",
      "  1%|▎                                         | 6/1000 [00:00<01:25, 11.57it/s]\u001b[A"
     ]
    },
    {
     "name": "stdout",
     "output_type": "stream",
     "text": [
      "0.08523821830749512\n",
      "0.08507895469665527\n",
      "0.08706831932067871\n"
     ]
    },
    {
     "name": "stderr",
     "output_type": "stream",
     "text": [
      "\n",
      "  1%|▎                                         | 8/1000 [00:00<01:25, 11.56it/s]\u001b[A"
     ]
    },
    {
     "name": "stdout",
     "output_type": "stream",
     "text": [
      "0.08856582641601562\n",
      "0.08356714248657227\n",
      "0.08597016334533691\n"
     ]
    },
    {
     "name": "stderr",
     "output_type": "stream",
     "text": [
      "\n",
      "  1%|▍                                        | 10/1000 [00:00<01:25, 11.58it/s]\u001b[A\n",
      "  1%|▍                                        | 12/1000 [00:01<01:25, 11.57it/s]\u001b[A"
     ]
    },
    {
     "name": "stdout",
     "output_type": "stream",
     "text": [
      "0.08466696739196777\n",
      "0.08586978912353516\n",
      "0.08600139617919922\n"
     ]
    },
    {
     "name": "stderr",
     "output_type": "stream",
     "text": [
      "\n",
      "  1%|▌                                        | 14/1000 [00:01<01:25, 11.59it/s]\u001b[A"
     ]
    },
    {
     "name": "stdout",
     "output_type": "stream",
     "text": [
      "0.0882718563079834\n",
      "0.08232474327087402\n",
      "0.08768177032470703\n"
     ]
    },
    {
     "name": "stderr",
     "output_type": "stream",
     "text": [
      "\n",
      "  2%|▋                                        | 16/1000 [00:01<01:24, 11.59it/s]\u001b[A\n",
      "  2%|▋                                        | 18/1000 [00:01<01:25, 11.55it/s]\u001b[A"
     ]
    },
    {
     "name": "stdout",
     "output_type": "stream",
     "text": [
      "0.08387994766235352\n",
      "0.08666324615478516\n",
      "0.08639907836914062\n"
     ]
    },
    {
     "name": "stderr",
     "output_type": "stream",
     "text": [
      "\n",
      "  2%|▊                                        | 20/1000 [00:01<01:24, 11.59it/s]\u001b[A"
     ]
    },
    {
     "name": "stdout",
     "output_type": "stream",
     "text": [
      "0.08766937255859375\n",
      "0.08273124694824219\n",
      "0.08653426170349121\n"
     ]
    },
    {
     "name": "stderr",
     "output_type": "stream",
     "text": [
      "\n",
      "  2%|▉                                        | 22/1000 [00:01<01:24, 11.62it/s]\u001b[A\n",
      "  2%|▉                                        | 24/1000 [00:02<01:24, 11.59it/s]\u001b[A"
     ]
    },
    {
     "name": "stdout",
     "output_type": "stream",
     "text": [
      "0.08359050750732422\n",
      "0.08755946159362793\n",
      "0.08464360237121582\n"
     ]
    },
    {
     "name": "stderr",
     "output_type": "stream",
     "text": [
      "\n",
      "  3%|█                                        | 26/1000 [00:02<01:24, 11.59it/s]\u001b[A"
     ]
    },
    {
     "name": "stdout",
     "output_type": "stream",
     "text": [
      "0.08873248100280762\n",
      "0.0826411247253418\n",
      "0.08586716651916504\n"
     ]
    },
    {
     "name": "stderr",
     "output_type": "stream",
     "text": [
      "\n",
      "  3%|█▏                                       | 28/1000 [00:02<01:24, 11.57it/s]\u001b[A\n",
      "  3%|█▏                                       | 30/1000 [00:02<01:23, 11.62it/s]\u001b[A"
     ]
    },
    {
     "name": "stdout",
     "output_type": "stream",
     "text": [
      "0.08662009239196777\n",
      "0.08536386489868164\n",
      "0.08405470848083496\n"
     ]
    },
    {
     "name": "stderr",
     "output_type": "stream",
     "text": [
      "\n",
      "  3%|█▎                                       | 32/1000 [00:02<01:23, 11.56it/s]\u001b[A"
     ]
    },
    {
     "name": "stdout",
     "output_type": "stream",
     "text": [
      "0.08886957168579102\n",
      "0.08475399017333984\n",
      "0.08653044700622559\n"
     ]
    },
    {
     "name": "stderr",
     "output_type": "stream",
     "text": [
      "\n",
      "  3%|█▍                                       | 34/1000 [00:02<01:23, 11.54it/s]\u001b[A\n",
      "  4%|█▍                                       | 36/1000 [00:03<01:23, 11.59it/s]\u001b[A"
     ]
    },
    {
     "name": "stdout",
     "output_type": "stream",
     "text": [
      "0.08671069145202637\n",
      "0.08573603630065918\n",
      "0.08405232429504395\n"
     ]
    },
    {
     "name": "stderr",
     "output_type": "stream",
     "text": [
      "\n",
      "  4%|█▌                                       | 38/1000 [00:03<01:23, 11.59it/s]\u001b[A"
     ]
    },
    {
     "name": "stdout",
     "output_type": "stream",
     "text": [
      "0.08656191825866699\n",
      "0.08505082130432129\n",
      "0.08357715606689453\n"
     ]
    },
    {
     "name": "stderr",
     "output_type": "stream",
     "text": [
      "\n",
      "  4%|█▋                                       | 40/1000 [00:03<01:22, 11.59it/s]\u001b[A\n",
      "  4%|█▋                                       | 42/1000 [00:03<01:22, 11.59it/s]\u001b[A"
     ]
    },
    {
     "name": "stdout",
     "output_type": "stream",
     "text": [
      "0.08768272399902344\n",
      "0.08458256721496582\n",
      "0.08658909797668457\n"
     ]
    },
    {
     "name": "stderr",
     "output_type": "stream",
     "text": [
      "\n",
      "  4%|█▊                                       | 44/1000 [00:03<01:22, 11.58it/s]\u001b[A"
     ]
    },
    {
     "name": "stdout",
     "output_type": "stream",
     "text": [
      "0.08614540100097656\n",
      "0.0859220027923584\n",
      "0.0831599235534668\n"
     ]
    },
    {
     "name": "stderr",
     "output_type": "stream",
     "text": [
      "\n",
      "  5%|█▉                                       | 46/1000 [00:03<01:22, 11.59it/s]\u001b[A\n",
      "  5%|█▉                                       | 48/1000 [00:04<01:21, 11.62it/s]\u001b[A"
     ]
    },
    {
     "name": "stdout",
     "output_type": "stream",
     "text": [
      "0.0881204605102539\n",
      "0.08438420295715332\n",
      "0.08562326431274414\n"
     ]
    },
    {
     "name": "stderr",
     "output_type": "stream",
     "text": [
      "\n",
      "  5%|██                                       | 50/1000 [00:04<01:21, 11.61it/s]\u001b[A"
     ]
    },
    {
     "name": "stdout",
     "output_type": "stream",
     "text": [
      "0.0868520736694336\n",
      "0.08449912071228027\n",
      "0.08225274085998535\n"
     ]
    },
    {
     "name": "stderr",
     "output_type": "stream",
     "text": [
      "\n",
      "  5%|██▏                                      | 52/1000 [00:04<01:21, 11.64it/s]\u001b[A\n",
      "  5%|██▏                                      | 54/1000 [00:04<01:21, 11.66it/s]\u001b[A"
     ]
    },
    {
     "name": "stdout",
     "output_type": "stream",
     "text": [
      "0.08725690841674805\n",
      "0.08411669731140137\n",
      "0.08589601516723633\n"
     ]
    },
    {
     "name": "stderr",
     "output_type": "stream",
     "text": [
      "\n",
      "  6%|██▎                                      | 56/1000 [00:04<01:21, 11.63it/s]\u001b[A"
     ]
    },
    {
     "name": "stdout",
     "output_type": "stream",
     "text": [
      "0.08593559265136719\n",
      "0.08565592765808105\n",
      "0.08232522010803223\n"
     ]
    },
    {
     "name": "stderr",
     "output_type": "stream",
     "text": [
      "\n",
      "  6%|██▍                                      | 58/1000 [00:04<01:20, 11.67it/s]\u001b[A\n",
      "  6%|██▍                                      | 60/1000 [00:05<01:20, 11.65it/s]\u001b[A"
     ]
    },
    {
     "name": "stdout",
     "output_type": "stream",
     "text": [
      "0.08677911758422852\n",
      "0.08498096466064453\n",
      "0.08585906028747559\n"
     ]
    },
    {
     "name": "stderr",
     "output_type": "stream",
     "text": [
      "\n",
      "  6%|██▌                                      | 62/1000 [00:05<01:23, 11.27it/s]\u001b[A"
     ]
    },
    {
     "name": "stdout",
     "output_type": "stream",
     "text": [
      "0.08778500556945801\n",
      "0.10202980041503906\n",
      "0.08453941345214844\n"
     ]
    },
    {
     "name": "stderr",
     "output_type": "stream",
     "text": [
      "\n",
      "  6%|██▌                                      | 64/1000 [00:05<01:22, 11.34it/s]\u001b[A\n",
      "  7%|██▋                                      | 66/1000 [00:05<01:21, 11.43it/s]\u001b[A"
     ]
    },
    {
     "name": "stdout",
     "output_type": "stream",
     "text": [
      "0.08788704872131348\n",
      "0.0847330093383789\n",
      "0.08567667007446289\n"
     ]
    },
    {
     "name": "stderr",
     "output_type": "stream",
     "text": [
      "\n",
      "  7%|██▊                                      | 68/1000 [00:05<01:21, 11.45it/s]\u001b[A"
     ]
    },
    {
     "name": "stdout",
     "output_type": "stream",
     "text": [
      "0.08425664901733398\n",
      "0.08811688423156738\n",
      "0.08370709419250488\n"
     ]
    },
    {
     "name": "stderr",
     "output_type": "stream",
     "text": [
      "\n",
      "  7%|██▊                                      | 70/1000 [00:06<01:20, 11.51it/s]\u001b[A\n",
      "  7%|██▉                                      | 72/1000 [00:06<01:20, 11.52it/s]\u001b[A"
     ]
    },
    {
     "name": "stdout",
     "output_type": "stream",
     "text": [
      "0.08632349967956543\n",
      "0.08805990219116211\n",
      "0.08392548561096191\n"
     ]
    },
    {
     "name": "stderr",
     "output_type": "stream",
     "text": [
      "\n",
      "  7%|███                                      | 74/1000 [00:06<01:20, 11.54it/s]\u001b[A"
     ]
    },
    {
     "name": "stdout",
     "output_type": "stream",
     "text": [
      "0.08547139167785645\n",
      "0.08563613891601562\n",
      "0.08441853523254395\n"
     ]
    },
    {
     "name": "stderr",
     "output_type": "stream",
     "text": [
      "\n",
      "  8%|███                                      | 76/1000 [00:06<01:19, 11.61it/s]\u001b[A\n",
      "  8%|███▏                                     | 78/1000 [00:06<01:19, 11.62it/s]\u001b[A"
     ]
    },
    {
     "name": "stdout",
     "output_type": "stream",
     "text": [
      "0.08443665504455566\n",
      "0.08854484558105469\n",
      "0.08193135261535645\n"
     ]
    },
    {
     "name": "stderr",
     "output_type": "stream",
     "text": [
      "\n",
      "  8%|███▎                                     | 80/1000 [00:06<01:19, 11.62it/s]\u001b[A"
     ]
    },
    {
     "name": "stdout",
     "output_type": "stream",
     "text": [
      "0.0864109992980957\n",
      "0.08423709869384766\n",
      "0.08543705940246582\n"
     ]
    },
    {
     "name": "stderr",
     "output_type": "stream",
     "text": [
      "\n",
      "  8%|███▎                                     | 82/1000 [00:07<01:18, 11.67it/s]\u001b[A\n",
      "  8%|███▍                                     | 84/1000 [00:07<01:18, 11.61it/s]\u001b[A"
     ]
    },
    {
     "name": "stdout",
     "output_type": "stream",
     "text": [
      "0.08319830894470215\n",
      "0.09065628051757812\n",
      "0.0822439193725586\n"
     ]
    },
    {
     "name": "stderr",
     "output_type": "stream",
     "text": [
      "\n",
      "  9%|███▌                                     | 86/1000 [00:07<01:18, 11.60it/s]\u001b[A"
     ]
    },
    {
     "name": "stdout",
     "output_type": "stream",
     "text": [
      "0.08693695068359375\n",
      "0.0850057601928711\n",
      "0.08686351776123047\n"
     ]
    },
    {
     "name": "stderr",
     "output_type": "stream",
     "text": [
      "\n",
      "  9%|███▌                                     | 88/1000 [00:07<01:18, 11.62it/s]\u001b[A\n",
      "  9%|███▋                                     | 90/1000 [00:07<01:18, 11.64it/s]\u001b[A"
     ]
    },
    {
     "name": "stdout",
     "output_type": "stream",
     "text": [
      "0.08331847190856934\n",
      "0.08765101432800293\n",
      "0.08259034156799316\n"
     ]
    },
    {
     "name": "stderr",
     "output_type": "stream",
     "text": [
      "\n",
      "  9%|███▊                                     | 92/1000 [00:07<01:18, 11.61it/s]\u001b[A"
     ]
    },
    {
     "name": "stdout",
     "output_type": "stream",
     "text": [
      "0.08803749084472656\n",
      "0.08393073081970215\n",
      "0.08861255645751953\n"
     ]
    },
    {
     "name": "stderr",
     "output_type": "stream",
     "text": [
      "\n",
      "  9%|███▊                                     | 94/1000 [00:08<01:18, 11.51it/s]\u001b[A\n",
      " 10%|███▉                                     | 96/1000 [00:08<01:18, 11.55it/s]\u001b[A"
     ]
    },
    {
     "name": "stdout",
     "output_type": "stream",
     "text": [
      "0.08715105056762695\n",
      "0.08737039566040039\n",
      "0.0835878849029541\n"
     ]
    },
    {
     "name": "stderr",
     "output_type": "stream",
     "text": [
      "\n",
      " 10%|████                                     | 98/1000 [00:08<01:17, 11.60it/s]\u001b[A"
     ]
    },
    {
     "name": "stdout",
     "output_type": "stream",
     "text": [
      "0.08656835556030273\n",
      "0.08280730247497559\n",
      "0.08671379089355469\n"
     ]
    },
    {
     "name": "stderr",
     "output_type": "stream",
     "text": [
      "\n",
      " 10%|████                                    | 100/1000 [00:08<01:17, 11.56it/s]\u001b[A\n",
      " 10%|████                                    | 102/1000 [00:08<01:17, 11.57it/s]\u001b[A"
     ]
    },
    {
     "name": "stdout",
     "output_type": "stream",
     "text": [
      "0.08666682243347168\n",
      "0.08359909057617188\n",
      "0.0876011848449707\n"
     ]
    },
    {
     "name": "stderr",
     "output_type": "stream",
     "text": [
      "\n",
      " 10%|████▏                                   | 104/1000 [00:08<01:17, 11.59it/s]\u001b[A"
     ]
    },
    {
     "name": "stdout",
     "output_type": "stream",
     "text": [
      "0.08372664451599121\n",
      "0.08735370635986328\n",
      "0.0861060619354248\n"
     ]
    },
    {
     "name": "stderr",
     "output_type": "stream",
     "text": [
      "\n",
      " 11%|████▏                                   | 106/1000 [00:09<01:17, 11.51it/s]\u001b[A\n",
      " 11%|████▎                                   | 108/1000 [00:09<01:17, 11.54it/s]\u001b[A"
     ]
    },
    {
     "name": "stdout",
     "output_type": "stream",
     "text": [
      "0.08911895751953125\n",
      "0.08426499366760254\n",
      "0.0868525505065918\n"
     ]
    },
    {
     "name": "stderr",
     "output_type": "stream",
     "text": [
      "\n",
      " 11%|████▍                                   | 110/1000 [00:09<01:17, 11.56it/s]\u001b[A"
     ]
    },
    {
     "name": "stdout",
     "output_type": "stream",
     "text": [
      "0.0844111442565918\n",
      "0.08695340156555176\n",
      "0.08655095100402832\n"
     ]
    },
    {
     "name": "stderr",
     "output_type": "stream",
     "text": [
      "\n",
      " 11%|████▍                                   | 112/1000 [00:09<01:17, 11.51it/s]\u001b[A\n",
      " 11%|████▌                                   | 114/1000 [00:09<01:16, 11.54it/s]\u001b[A"
     ]
    },
    {
     "name": "stdout",
     "output_type": "stream",
     "text": [
      "0.08784890174865723\n",
      "0.0843362808227539\n",
      "0.08686351776123047\n"
     ]
    },
    {
     "name": "stderr",
     "output_type": "stream",
     "text": [
      "\n",
      " 12%|████▋                                   | 116/1000 [00:10<01:16, 11.58it/s]\u001b[A"
     ]
    },
    {
     "name": "stdout",
     "output_type": "stream",
     "text": [
      "0.08435416221618652\n",
      "0.08571195602416992\n",
      "0.09212493896484375\n"
     ]
    },
    {
     "name": "stderr",
     "output_type": "stream",
     "text": [
      "\n",
      " 12%|████▋                                   | 118/1000 [00:10<01:18, 11.28it/s]\u001b[A\n",
      " 12%|████▊                                   | 120/1000 [00:10<01:17, 11.41it/s]\u001b[A"
     ]
    },
    {
     "name": "stdout",
     "output_type": "stream",
     "text": [
      "0.09467196464538574\n",
      "0.08318829536437988\n",
      "0.08636140823364258\n"
     ]
    },
    {
     "name": "stderr",
     "output_type": "stream",
     "text": [
      "\n",
      " 12%|████▉                                   | 122/1000 [00:10<01:16, 11.49it/s]\u001b[A"
     ]
    },
    {
     "name": "stdout",
     "output_type": "stream",
     "text": [
      "0.08393740653991699\n",
      "0.08595728874206543\n",
      "0.08488321304321289\n"
     ]
    },
    {
     "name": "stderr",
     "output_type": "stream",
     "text": [
      "\n",
      " 12%|████▉                                   | 124/1000 [00:10<01:16, 11.47it/s]\u001b[A\n",
      " 13%|█████                                   | 126/1000 [00:10<01:15, 11.57it/s]\u001b[A"
     ]
    },
    {
     "name": "stdout",
     "output_type": "stream",
     "text": [
      "0.08898615837097168\n",
      "0.08428311347961426\n",
      "0.08321738243103027\n"
     ]
    },
    {
     "name": "stderr",
     "output_type": "stream",
     "text": [
      "\n",
      " 13%|█████                                   | 128/1000 [00:11<01:15, 11.63it/s]\u001b[A"
     ]
    },
    {
     "name": "stdout",
     "output_type": "stream",
     "text": [
      "0.08647537231445312\n",
      "0.08242607116699219\n",
      "0.08753681182861328\n"
     ]
    },
    {
     "name": "stderr",
     "output_type": "stream",
     "text": [
      "\n",
      " 13%|█████▏                                  | 130/1000 [00:11<01:15, 11.57it/s]\u001b[A\n",
      " 13%|█████▎                                  | 132/1000 [00:11<01:14, 11.61it/s]\u001b[A"
     ]
    },
    {
     "name": "stdout",
     "output_type": "stream",
     "text": [
      "0.08585000038146973\n",
      "0.08771467208862305\n",
      "0.08224058151245117\n"
     ]
    },
    {
     "name": "stderr",
     "output_type": "stream",
     "text": [
      "\n",
      " 13%|█████▎                                  | 134/1000 [00:11<01:14, 11.60it/s]\u001b[A"
     ]
    },
    {
     "name": "stdout",
     "output_type": "stream",
     "text": [
      "0.08893871307373047\n",
      "0.08253741264343262\n",
      "0.0866856575012207\n"
     ]
    },
    {
     "name": "stderr",
     "output_type": "stream",
     "text": [
      "\n",
      " 14%|█████▍                                  | 136/1000 [00:11<01:14, 11.58it/s]\u001b[A\n",
      " 14%|█████▌                                  | 138/1000 [00:11<01:14, 11.64it/s]\u001b[A"
     ]
    },
    {
     "name": "stdout",
     "output_type": "stream",
     "text": [
      "0.08548450469970703\n",
      "0.0868983268737793\n",
      "0.08192634582519531\n"
     ]
    },
    {
     "name": "stderr",
     "output_type": "stream",
     "text": [
      "\n",
      " 14%|█████▌                                  | 140/1000 [00:12<01:13, 11.63it/s]\u001b[A"
     ]
    },
    {
     "name": "stdout",
     "output_type": "stream",
     "text": [
      "0.08795046806335449\n",
      "0.08302903175354004\n",
      "0.0858466625213623\n"
     ]
    },
    {
     "name": "stderr",
     "output_type": "stream",
     "text": [
      "\n",
      " 14%|█████▋                                  | 142/1000 [00:12<01:13, 11.67it/s]\u001b[A\n",
      " 14%|█████▊                                  | 144/1000 [00:12<01:13, 11.67it/s]\u001b[A"
     ]
    },
    {
     "name": "stdout",
     "output_type": "stream",
     "text": [
      "0.08334827423095703\n",
      "0.0874643325805664\n",
      "0.08251309394836426\n"
     ]
    },
    {
     "name": "stderr",
     "output_type": "stream",
     "text": [
      "\n",
      " 15%|█████▊                                  | 146/1000 [00:12<01:13, 11.62it/s]\u001b[A"
     ]
    },
    {
     "name": "stdout",
     "output_type": "stream",
     "text": [
      "0.08682966232299805\n",
      "0.08556437492370605\n",
      "0.08420658111572266\n"
     ]
    },
    {
     "name": "stderr",
     "output_type": "stream",
     "text": [
      "\n",
      " 15%|█████▉                                  | 148/1000 [00:12<01:13, 11.60it/s]\u001b[A\n",
      " 15%|██████                                  | 150/1000 [00:12<01:12, 11.64it/s]\u001b[A"
     ]
    },
    {
     "name": "stdout",
     "output_type": "stream",
     "text": [
      "0.0875697135925293\n",
      "0.0861968994140625\n",
      "0.08320188522338867\n"
     ]
    },
    {
     "name": "stderr",
     "output_type": "stream",
     "text": [
      "\n",
      " 15%|██████                                  | 152/1000 [00:13<01:12, 11.64it/s]\u001b[A"
     ]
    },
    {
     "name": "stdout",
     "output_type": "stream",
     "text": [
      "0.08383440971374512\n",
      "0.08707380294799805\n",
      "0.08414149284362793\n"
     ]
    },
    {
     "name": "stderr",
     "output_type": "stream",
     "text": [
      "\n",
      " 15%|██████▏                                 | 154/1000 [00:13<01:12, 11.65it/s]\u001b[A\n",
      " 16%|██████▏                                 | 156/1000 [00:13<01:12, 11.63it/s]\u001b[A"
     ]
    },
    {
     "name": "stdout",
     "output_type": "stream",
     "text": [
      "0.0860748291015625\n",
      "0.08575153350830078\n",
      "0.08553171157836914\n"
     ]
    },
    {
     "name": "stderr",
     "output_type": "stream",
     "text": [
      "\n",
      " 16%|██████▎                                 | 158/1000 [00:13<01:12, 11.57it/s]\u001b[A"
     ]
    },
    {
     "name": "stdout",
     "output_type": "stream",
     "text": [
      "0.08573365211486816\n",
      "0.08800315856933594\n",
      "0.08406758308410645\n"
     ]
    },
    {
     "name": "stderr",
     "output_type": "stream",
     "text": [
      "\n",
      " 16%|██████▍                                 | 160/1000 [00:13<01:12, 11.59it/s]\u001b[A\n",
      " 16%|██████▍                                 | 162/1000 [00:13<01:12, 11.59it/s]\u001b[A"
     ]
    },
    {
     "name": "stdout",
     "output_type": "stream",
     "text": [
      "0.08692550659179688\n",
      "0.08605217933654785\n",
      "0.08548879623413086\n"
     ]
    },
    {
     "name": "stderr",
     "output_type": "stream",
     "text": [
      "\n",
      " 16%|██████▌                                 | 164/1000 [00:14<01:12, 11.59it/s]\u001b[A"
     ]
    },
    {
     "name": "stdout",
     "output_type": "stream",
     "text": [
      "0.08403396606445312\n",
      "0.08743023872375488\n",
      "0.08343744277954102\n"
     ]
    },
    {
     "name": "stderr",
     "output_type": "stream",
     "text": [
      "\n",
      " 17%|██████▋                                 | 166/1000 [00:14<01:11, 11.59it/s]\u001b[A\n",
      " 17%|██████▋                                 | 168/1000 [00:14<01:12, 11.55it/s]\u001b[A"
     ]
    },
    {
     "name": "stdout",
     "output_type": "stream",
     "text": [
      "0.08776450157165527\n",
      "0.08545613288879395\n",
      "0.08774018287658691\n"
     ]
    },
    {
     "name": "stderr",
     "output_type": "stream",
     "text": [
      "\n",
      " 17%|██████▊                                 | 170/1000 [00:14<01:11, 11.53it/s]\u001b[A"
     ]
    },
    {
     "name": "stdout",
     "output_type": "stream",
     "text": [
      "0.08500385284423828\n",
      "0.08787727355957031\n",
      "0.08422136306762695\n"
     ]
    },
    {
     "name": "stderr",
     "output_type": "stream",
     "text": [
      "\n",
      " 17%|██████▉                                 | 172/1000 [00:14<01:11, 11.55it/s]\u001b[A\n",
      " 17%|██████▉                                 | 174/1000 [00:15<01:11, 11.57it/s]\u001b[A"
     ]
    },
    {
     "name": "stdout",
     "output_type": "stream",
     "text": [
      "0.08689117431640625\n",
      "0.08382153511047363\n",
      "0.08679461479187012\n"
     ]
    },
    {
     "name": "stderr",
     "output_type": "stream",
     "text": [
      "\n",
      " 18%|███████                                 | 176/1000 [00:15<01:10, 11.62it/s]\u001b[A"
     ]
    },
    {
     "name": "stdout",
     "output_type": "stream",
     "text": [
      "0.0848073959350586\n",
      "0.0842747688293457\n",
      "0.0864400863647461\n"
     ]
    },
    {
     "name": "stderr",
     "output_type": "stream",
     "text": [
      "\n",
      " 18%|███████                                 | 178/1000 [00:15<01:10, 11.60it/s]\u001b[A\n",
      " 18%|███████▏                                | 180/1000 [00:15<01:10, 11.60it/s]\u001b[A"
     ]
    },
    {
     "name": "stdout",
     "output_type": "stream",
     "text": [
      "0.0852363109588623\n",
      "0.08390569686889648\n",
      "0.08707475662231445\n"
     ]
    },
    {
     "name": "stderr",
     "output_type": "stream",
     "text": [
      "\n",
      " 18%|███████▎                                | 182/1000 [00:15<01:10, 11.64it/s]\u001b[A"
     ]
    },
    {
     "name": "stdout",
     "output_type": "stream",
     "text": [
      "0.08708953857421875\n",
      "0.08234405517578125\n",
      "0.08749508857727051\n"
     ]
    },
    {
     "name": "stderr",
     "output_type": "stream",
     "text": [
      "\n",
      " 18%|███████▎                                | 184/1000 [00:15<01:10, 11.63it/s]\u001b[A\n",
      " 19%|███████▍                                | 186/1000 [00:16<01:10, 11.61it/s]\u001b[A"
     ]
    },
    {
     "name": "stdout",
     "output_type": "stream",
     "text": [
      "0.08326363563537598\n",
      "0.08748102188110352\n",
      "0.08465909957885742\n"
     ]
    },
    {
     "name": "stderr",
     "output_type": "stream",
     "text": [
      "\n",
      " 19%|███████▌                                | 188/1000 [00:16<01:09, 11.62it/s]\u001b[A"
     ]
    },
    {
     "name": "stdout",
     "output_type": "stream",
     "text": [
      "0.08849716186523438\n",
      "0.08189129829406738\n",
      "0.0880427360534668\n"
     ]
    },
    {
     "name": "stderr",
     "output_type": "stream",
     "text": [
      "\n",
      " 19%|███████▌                                | 190/1000 [00:16<01:09, 11.60it/s]\u001b[A\n",
      " 19%|███████▋                                | 192/1000 [00:16<01:09, 11.54it/s]\u001b[A"
     ]
    },
    {
     "name": "stdout",
     "output_type": "stream",
     "text": [
      "0.08392786979675293\n",
      "0.08796167373657227\n",
      "0.08606529235839844\n"
     ]
    },
    {
     "name": "stderr",
     "output_type": "stream",
     "text": [
      "\n",
      " 19%|███████▊                                | 194/1000 [00:16<01:09, 11.54it/s]\u001b[A"
     ]
    },
    {
     "name": "stdout",
     "output_type": "stream",
     "text": [
      "0.08972620964050293\n",
      "0.08225631713867188\n",
      "0.08857369422912598\n"
     ]
    },
    {
     "name": "stderr",
     "output_type": "stream",
     "text": [
      "\n",
      " 20%|███████▊                                | 196/1000 [00:16<01:09, 11.53it/s]\u001b[A\n",
      " 20%|███████▉                                | 198/1000 [00:17<01:09, 11.56it/s]\u001b[A"
     ]
    },
    {
     "name": "stdout",
     "output_type": "stream",
     "text": [
      "0.08450961112976074\n",
      "0.08755087852478027\n",
      "0.08287358283996582\n"
     ]
    },
    {
     "name": "stderr",
     "output_type": "stream",
     "text": [
      "\n",
      " 20%|████████                                | 200/1000 [00:17<01:09, 11.57it/s]\u001b[A"
     ]
    },
    {
     "name": "stdout",
     "output_type": "stream",
     "text": [
      "0.08855009078979492\n",
      "0.08290362358093262\n",
      "0.08853936195373535\n"
     ]
    },
    {
     "name": "stderr",
     "output_type": "stream",
     "text": [
      "\n",
      " 20%|████████                                | 202/1000 [00:17<01:09, 11.49it/s]\u001b[A\n",
      " 20%|████████▏                               | 204/1000 [00:17<01:09, 11.44it/s]\u001b[A"
     ]
    },
    {
     "name": "stdout",
     "output_type": "stream",
     "text": [
      "0.08738875389099121\n",
      "0.08774876594543457\n",
      "0.08717608451843262\n"
     ]
    },
    {
     "name": "stderr",
     "output_type": "stream",
     "text": [
      "\n",
      " 21%|████████▏                               | 206/1000 [00:17<01:09, 11.36it/s]\u001b[A"
     ]
    },
    {
     "name": "stdout",
     "output_type": "stream",
     "text": [
      "0.0910491943359375\n",
      "0.08658719062805176\n",
      "0.08526897430419922\n"
     ]
    },
    {
     "name": "stderr",
     "output_type": "stream",
     "text": [
      "\n",
      " 21%|████████▎                               | 208/1000 [00:17<01:09, 11.41it/s]\u001b[A\n",
      " 21%|████████▍                               | 210/1000 [00:18<01:08, 11.51it/s]\u001b[A"
     ]
    },
    {
     "name": "stdout",
     "output_type": "stream",
     "text": [
      "0.08698201179504395\n",
      "0.08400678634643555\n",
      "0.08510732650756836\n"
     ]
    },
    {
     "name": "stderr",
     "output_type": "stream",
     "text": [
      "\n",
      " 21%|████████▍                               | 212/1000 [00:18<01:08, 11.52it/s]\u001b[A"
     ]
    },
    {
     "name": "stdout",
     "output_type": "stream",
     "text": [
      "0.08573555946350098\n",
      "0.08563923835754395\n",
      "0.08297252655029297\n"
     ]
    },
    {
     "name": "stderr",
     "output_type": "stream",
     "text": [
      "\n",
      " 21%|████████▌                               | 214/1000 [00:18<01:08, 11.53it/s]\u001b[A\n",
      " 22%|████████▋                               | 216/1000 [00:18<01:08, 11.52it/s]\u001b[A"
     ]
    },
    {
     "name": "stdout",
     "output_type": "stream",
     "text": [
      "0.0890800952911377\n",
      "0.08441972732543945\n",
      "0.08808541297912598\n"
     ]
    },
    {
     "name": "stderr",
     "output_type": "stream",
     "text": [
      "\n",
      " 22%|████████▋                               | 218/1000 [00:18<01:08, 11.50it/s]\u001b[A"
     ]
    },
    {
     "name": "stdout",
     "output_type": "stream",
     "text": [
      "0.0869741439819336\n",
      "0.08668041229248047\n",
      "0.0825495719909668\n"
     ]
    },
    {
     "name": "stderr",
     "output_type": "stream",
     "text": [
      "\n",
      " 22%|████████▊                               | 220/1000 [00:19<01:07, 11.54it/s]\u001b[A\n",
      " 22%|████████▉                               | 222/1000 [00:19<01:07, 11.60it/s]\u001b[A"
     ]
    },
    {
     "name": "stdout",
     "output_type": "stream",
     "text": [
      "0.08793163299560547\n",
      "0.08329629898071289\n",
      "0.08596515655517578\n"
     ]
    },
    {
     "name": "stderr",
     "output_type": "stream",
     "text": [
      "\n",
      " 22%|████████▉                               | 224/1000 [00:19<01:07, 11.57it/s]\u001b[A"
     ]
    },
    {
     "name": "stdout",
     "output_type": "stream",
     "text": [
      "0.0852046012878418\n",
      "0.08709001541137695\n",
      "0.08265948295593262\n"
     ]
    },
    {
     "name": "stderr",
     "output_type": "stream",
     "text": [
      "\n",
      " 23%|█████████                               | 226/1000 [00:19<01:06, 11.62it/s]\u001b[A\n",
      " 23%|█████████                               | 228/1000 [00:19<01:06, 11.59it/s]\u001b[A"
     ]
    },
    {
     "name": "stdout",
     "output_type": "stream",
     "text": [
      "0.08666372299194336\n",
      "0.08551740646362305\n",
      "0.08687233924865723\n"
     ]
    },
    {
     "name": "stderr",
     "output_type": "stream",
     "text": [
      "\n",
      " 23%|█████████▏                              | 230/1000 [00:19<01:07, 11.48it/s]\u001b[A"
     ]
    },
    {
     "name": "stdout",
     "output_type": "stream",
     "text": [
      "0.08859825134277344\n",
      "0.08779716491699219\n",
      "0.0849006175994873\n"
     ]
    },
    {
     "name": "stderr",
     "output_type": "stream",
     "text": [
      "\n",
      " 23%|█████████▎                              | 232/1000 [00:20<01:06, 11.49it/s]\u001b[A\n",
      " 23%|█████████▎                              | 234/1000 [00:20<01:06, 11.56it/s]\u001b[A"
     ]
    },
    {
     "name": "stdout",
     "output_type": "stream",
     "text": [
      "0.0876460075378418\n",
      "0.08524942398071289\n",
      "0.08416295051574707\n"
     ]
    },
    {
     "name": "stderr",
     "output_type": "stream",
     "text": [
      "\n",
      " 24%|█████████▍                              | 236/1000 [00:20<01:06, 11.42it/s]\u001b[A"
     ]
    },
    {
     "name": "stdout",
     "output_type": "stream",
     "text": [
      "0.08589601516723633\n",
      "0.09282493591308594\n",
      "0.0863637924194336\n"
     ]
    },
    {
     "name": "stderr",
     "output_type": "stream",
     "text": [
      "\n",
      " 24%|█████████▌                              | 238/1000 [00:20<01:06, 11.45it/s]\u001b[A\n",
      " 24%|█████████▌                              | 240/1000 [00:20<01:06, 11.51it/s]\u001b[A"
     ]
    },
    {
     "name": "stdout",
     "output_type": "stream",
     "text": [
      "0.08616089820861816\n",
      "0.08771061897277832\n",
      "0.08200526237487793\n"
     ]
    },
    {
     "name": "stderr",
     "output_type": "stream",
     "text": [
      "\n",
      " 24%|█████████▋                              | 242/1000 [00:20<01:05, 11.54it/s]\u001b[A"
     ]
    },
    {
     "name": "stdout",
     "output_type": "stream",
     "text": [
      "0.0863943099975586\n",
      "0.0845651626586914\n",
      "0.08774399757385254\n"
     ]
    },
    {
     "name": "stderr",
     "output_type": "stream",
     "text": [
      "\n",
      " 24%|█████████▊                              | 244/1000 [00:21<01:05, 11.55it/s]\u001b[A\n",
      " 25%|█████████▊                              | 246/1000 [00:21<01:05, 11.59it/s]\u001b[A"
     ]
    },
    {
     "name": "stdout",
     "output_type": "stream",
     "text": [
      "0.0841832160949707\n",
      "0.08711695671081543\n",
      "0.08236026763916016\n"
     ]
    },
    {
     "name": "stderr",
     "output_type": "stream",
     "text": [
      "\n",
      " 25%|█████████▉                              | 248/1000 [00:21<01:04, 11.61it/s]\u001b[A"
     ]
    },
    {
     "name": "stdout",
     "output_type": "stream",
     "text": [
      "0.0865626335144043\n",
      "0.08384871482849121\n",
      "0.08863139152526855\n"
     ]
    },
    {
     "name": "stderr",
     "output_type": "stream",
     "text": [
      "\n",
      " 25%|██████████                              | 250/1000 [00:21<01:04, 11.59it/s]\u001b[A\n",
      " 25%|██████████                              | 252/1000 [00:21<01:04, 11.59it/s]\u001b[A"
     ]
    },
    {
     "name": "stdout",
     "output_type": "stream",
     "text": [
      "0.0831146240234375\n",
      "0.08672952651977539\n",
      "0.08495402336120605\n"
     ]
    },
    {
     "name": "stderr",
     "output_type": "stream",
     "text": [
      "\n",
      " 25%|██████████▏                             | 254/1000 [00:21<01:04, 11.56it/s]\u001b[A"
     ]
    },
    {
     "name": "stdout",
     "output_type": "stream",
     "text": [
      "0.08784937858581543\n",
      "0.08448076248168945\n",
      "0.08678650856018066\n"
     ]
    },
    {
     "name": "stderr",
     "output_type": "stream",
     "text": [
      "\n",
      " 26%|██████████▏                             | 256/1000 [00:22<01:04, 11.58it/s]\u001b[A\n",
      " 26%|██████████▎                             | 258/1000 [00:22<01:04, 11.56it/s]\u001b[A"
     ]
    },
    {
     "name": "stdout",
     "output_type": "stream",
     "text": [
      "0.08431243896484375\n",
      "0.08552432060241699\n",
      "0.08690261840820312\n"
     ]
    },
    {
     "name": "stderr",
     "output_type": "stream",
     "text": [
      "\n",
      " 26%|██████████▍                             | 260/1000 [00:22<01:03, 11.57it/s]\u001b[A"
     ]
    },
    {
     "name": "stdout",
     "output_type": "stream",
     "text": [
      "0.08591032028198242\n",
      "0.08543038368225098\n",
      "0.1033010482788086\n"
     ]
    },
    {
     "name": "stderr",
     "output_type": "stream",
     "text": [
      "\n",
      " 26%|██████████▍                             | 262/1000 [00:22<01:05, 11.19it/s]\u001b[A\n",
      " 26%|██████████▌                             | 264/1000 [00:22<01:05, 11.22it/s]\u001b[A"
     ]
    },
    {
     "name": "stdout",
     "output_type": "stream",
     "text": [
      "0.08789753913879395\n",
      "0.08861231803894043\n",
      "0.08712077140808105\n"
     ]
    },
    {
     "name": "stderr",
     "output_type": "stream",
     "text": [
      "\n",
      " 27%|██████████▋                             | 266/1000 [00:23<01:04, 11.33it/s]\u001b[A"
     ]
    },
    {
     "name": "stdout",
     "output_type": "stream",
     "text": [
      "0.0855093002319336\n",
      "0.08616876602172852\n",
      "0.08586311340332031\n"
     ]
    },
    {
     "name": "stderr",
     "output_type": "stream",
     "text": [
      "\n",
      " 27%|██████████▋                             | 268/1000 [00:23<01:04, 11.34it/s]\u001b[A\n",
      " 27%|██████████▊                             | 270/1000 [00:23<01:04, 11.39it/s]\u001b[A"
     ]
    },
    {
     "name": "stdout",
     "output_type": "stream",
     "text": [
      "0.08865475654602051\n",
      "0.08463025093078613\n",
      "0.08799958229064941\n"
     ]
    },
    {
     "name": "stderr",
     "output_type": "stream",
     "text": [
      "\n",
      " 27%|██████████▉                             | 272/1000 [00:23<01:03, 11.43it/s]\u001b[A"
     ]
    },
    {
     "name": "stdout",
     "output_type": "stream",
     "text": [
      "0.08495187759399414\n",
      "0.08771324157714844\n",
      "0.08720684051513672\n"
     ]
    },
    {
     "name": "stderr",
     "output_type": "stream",
     "text": [
      "\n",
      " 27%|██████████▉                             | 274/1000 [00:23<01:03, 11.38it/s]\u001b[A\n",
      " 28%|███████████                             | 276/1000 [00:23<01:03, 11.45it/s]\u001b[A"
     ]
    },
    {
     "name": "stdout",
     "output_type": "stream",
     "text": [
      "0.08906984329223633\n",
      "0.08315396308898926\n",
      "0.08788657188415527\n"
     ]
    },
    {
     "name": "stderr",
     "output_type": "stream",
     "text": [
      "\n",
      " 28%|███████████                             | 278/1000 [00:24<01:02, 11.48it/s]\u001b[A"
     ]
    },
    {
     "name": "stdout",
     "output_type": "stream",
     "text": [
      "0.08522367477416992\n",
      "0.08666777610778809\n",
      "0.08589386940002441\n"
     ]
    },
    {
     "name": "stderr",
     "output_type": "stream",
     "text": [
      "\n",
      " 28%|███████████▏                            | 280/1000 [00:24<01:02, 11.50it/s]\u001b[A\n",
      " 28%|███████████▎                            | 282/1000 [00:24<01:02, 11.53it/s]\u001b[A"
     ]
    },
    {
     "name": "stdout",
     "output_type": "stream",
     "text": [
      "0.08634114265441895\n",
      "0.08350038528442383\n",
      "0.08769559860229492\n"
     ]
    },
    {
     "name": "stderr",
     "output_type": "stream",
     "text": [
      "\n",
      " 28%|███████████▎                            | 284/1000 [00:24<01:02, 11.50it/s]\u001b[A"
     ]
    },
    {
     "name": "stdout",
     "output_type": "stream",
     "text": [
      "0.08450508117675781\n",
      "0.08919954299926758\n",
      "0.08560562133789062\n"
     ]
    },
    {
     "name": "stderr",
     "output_type": "stream",
     "text": [
      "\n",
      " 29%|███████████▍                            | 286/1000 [00:24<01:02, 11.45it/s]\u001b[A\n",
      " 29%|███████████▌                            | 288/1000 [00:24<01:02, 11.48it/s]\u001b[A"
     ]
    },
    {
     "name": "stdout",
     "output_type": "stream",
     "text": [
      "0.08959269523620605\n",
      "0.08391118049621582\n",
      "0.08815431594848633\n"
     ]
    },
    {
     "name": "stderr",
     "output_type": "stream",
     "text": [
      "\n",
      " 29%|███████████▌                            | 290/1000 [00:25<01:01, 11.51it/s]\u001b[A"
     ]
    },
    {
     "name": "stdout",
     "output_type": "stream",
     "text": [
      "0.08509087562561035\n",
      "0.08602213859558105\n",
      "0.0846714973449707\n"
     ]
    },
    {
     "name": "stderr",
     "output_type": "stream",
     "text": [
      "\n",
      " 29%|███████████▋                            | 292/1000 [00:25<01:01, 11.50it/s]\u001b[A\n",
      " 29%|███████████▊                            | 294/1000 [00:25<01:01, 11.55it/s]\u001b[A"
     ]
    },
    {
     "name": "stdout",
     "output_type": "stream",
     "text": [
      "0.08869504928588867\n",
      "0.08370804786682129\n",
      "0.08655667304992676\n"
     ]
    },
    {
     "name": "stderr",
     "output_type": "stream",
     "text": [
      "\n",
      " 30%|███████████▊                            | 296/1000 [00:25<01:01, 11.53it/s]\u001b[A"
     ]
    },
    {
     "name": "stdout",
     "output_type": "stream",
     "text": [
      "0.08711457252502441\n",
      "0.08545660972595215\n",
      "0.08477258682250977\n"
     ]
    },
    {
     "name": "stderr",
     "output_type": "stream",
     "text": [
      "\n",
      " 30%|███████████▉                            | 298/1000 [00:25<01:00, 11.51it/s]\u001b[A\n",
      " 30%|████████████                            | 300/1000 [00:25<01:00, 11.60it/s]\u001b[A"
     ]
    },
    {
     "name": "stdout",
     "output_type": "stream",
     "text": [
      "0.08858394622802734\n",
      "0.0830535888671875\n",
      "0.0846865177154541\n"
     ]
    },
    {
     "name": "stderr",
     "output_type": "stream",
     "text": [
      "\n",
      " 30%|████████████                            | 302/1000 [00:26<01:02, 11.14it/s]\u001b[A"
     ]
    },
    {
     "name": "stdout",
     "output_type": "stream",
     "text": [
      "0.1100625991821289\n",
      "0.08483290672302246\n",
      "0.0852653980255127\n"
     ]
    },
    {
     "name": "stderr",
     "output_type": "stream",
     "text": [
      "\n",
      " 30%|████████████▏                           | 304/1000 [00:26<01:02, 11.22it/s]\u001b[A\n",
      " 31%|████████████▏                           | 306/1000 [00:26<01:01, 11.32it/s]\u001b[A"
     ]
    },
    {
     "name": "stdout",
     "output_type": "stream",
     "text": [
      "0.088043212890625\n",
      "0.08665108680725098\n",
      "0.08483004570007324\n"
     ]
    },
    {
     "name": "stderr",
     "output_type": "stream",
     "text": [
      "\n",
      " 31%|████████████▎                           | 308/1000 [00:26<01:00, 11.38it/s]\u001b[A"
     ]
    },
    {
     "name": "stdout",
     "output_type": "stream",
     "text": [
      "0.08836102485656738\n",
      "0.08408045768737793\n",
      "0.08602690696716309\n"
     ]
    },
    {
     "name": "stderr",
     "output_type": "stream",
     "text": [
      "\n",
      " 31%|████████████▍                           | 310/1000 [00:26<01:00, 11.41it/s]\u001b[A\n",
      " 31%|████████████▍                           | 312/1000 [00:27<00:59, 11.49it/s]\u001b[A"
     ]
    },
    {
     "name": "stdout",
     "output_type": "stream",
     "text": [
      "0.08684587478637695\n",
      "0.0879666805267334\n",
      "0.08208489418029785\n"
     ]
    },
    {
     "name": "stderr",
     "output_type": "stream",
     "text": [
      "\n",
      " 31%|████████████▌                           | 314/1000 [00:27<00:59, 11.51it/s]\u001b[A"
     ]
    },
    {
     "name": "stdout",
     "output_type": "stream",
     "text": [
      "0.08879780769348145\n",
      "0.0832362174987793\n",
      "0.08621454238891602\n"
     ]
    },
    {
     "name": "stderr",
     "output_type": "stream",
     "text": [
      "\n",
      " 32%|████████████▋                           | 316/1000 [00:27<00:59, 11.52it/s]\u001b[A\n",
      " 32%|████████████▋                           | 318/1000 [00:27<00:59, 11.51it/s]\u001b[A"
     ]
    },
    {
     "name": "stdout",
     "output_type": "stream",
     "text": [
      "0.08584284782409668\n",
      "0.09015560150146484\n",
      "0.08289623260498047\n"
     ]
    },
    {
     "name": "stderr",
     "output_type": "stream",
     "text": [
      "\n",
      " 32%|████████████▊                           | 320/1000 [00:27<00:59, 11.50it/s]\u001b[A"
     ]
    },
    {
     "name": "stdout",
     "output_type": "stream",
     "text": [
      "0.09060835838317871\n",
      "0.08230185508728027\n",
      "0.08847641944885254\n"
     ]
    },
    {
     "name": "stderr",
     "output_type": "stream",
     "text": [
      "\n",
      " 32%|████████████▉                           | 322/1000 [00:27<00:59, 11.45it/s]\u001b[A\n",
      " 32%|████████████▉                           | 324/1000 [00:28<00:58, 11.46it/s]\u001b[A"
     ]
    },
    {
     "name": "stdout",
     "output_type": "stream",
     "text": [
      "0.08679318428039551\n",
      "0.09084320068359375\n",
      "0.08227992057800293\n"
     ]
    },
    {
     "name": "stderr",
     "output_type": "stream",
     "text": [
      "\n",
      " 33%|█████████████                           | 326/1000 [00:28<00:58, 11.50it/s]\u001b[A"
     ]
    },
    {
     "name": "stdout",
     "output_type": "stream",
     "text": [
      "0.08845019340515137\n",
      "0.08272719383239746\n",
      "0.08992314338684082\n"
     ]
    },
    {
     "name": "stderr",
     "output_type": "stream",
     "text": [
      "\n",
      " 33%|█████████████                           | 328/1000 [00:28<00:58, 11.41it/s]\u001b[A\n",
      " 33%|█████████████▏                          | 330/1000 [00:28<00:58, 11.40it/s]\u001b[A"
     ]
    },
    {
     "name": "stdout",
     "output_type": "stream",
     "text": [
      "0.08737659454345703\n",
      "0.09192061424255371\n",
      "0.08272600173950195\n"
     ]
    },
    {
     "name": "stderr",
     "output_type": "stream",
     "text": [
      "\n",
      " 33%|█████████████▎                          | 332/1000 [00:28<00:58, 11.42it/s]\u001b[A"
     ]
    },
    {
     "name": "stdout",
     "output_type": "stream",
     "text": [
      "0.09100580215454102\n",
      "0.08246898651123047\n",
      "0.09067392349243164\n"
     ]
    },
    {
     "name": "stderr",
     "output_type": "stream",
     "text": [
      "\n",
      " 33%|█████████████▎                          | 334/1000 [00:28<00:58, 11.34it/s]\u001b[A\n",
      " 34%|█████████████▍                          | 336/1000 [00:29<00:58, 11.42it/s]\u001b[A"
     ]
    },
    {
     "name": "stdout",
     "output_type": "stream",
     "text": [
      "0.08711910247802734\n",
      "0.0894780158996582\n",
      "0.08184432983398438\n"
     ]
    },
    {
     "name": "stderr",
     "output_type": "stream",
     "text": [
      "\n",
      " 34%|█████████████▌                          | 338/1000 [00:29<00:58, 11.41it/s]\u001b[A"
     ]
    },
    {
     "name": "stdout",
     "output_type": "stream",
     "text": [
      "0.09175467491149902\n",
      "0.08301925659179688\n",
      "0.08917641639709473\n"
     ]
    },
    {
     "name": "stderr",
     "output_type": "stream",
     "text": [
      "\n",
      " 34%|█████████████▌                          | 340/1000 [00:29<00:57, 11.39it/s]\u001b[A\n",
      " 34%|█████████████▋                          | 342/1000 [00:29<00:57, 11.40it/s]\u001b[A"
     ]
    },
    {
     "name": "stdout",
     "output_type": "stream",
     "text": [
      "0.08606982231140137\n",
      "0.09131002426147461\n",
      "0.08234071731567383\n"
     ]
    },
    {
     "name": "stderr",
     "output_type": "stream",
     "text": [
      "\n",
      " 34%|█████████████▊                          | 344/1000 [00:29<00:58, 11.27it/s]\u001b[A"
     ]
    },
    {
     "name": "stdout",
     "output_type": "stream",
     "text": [
      "0.09806442260742188\n",
      "0.08294343948364258\n",
      "0.08644819259643555\n"
     ]
    },
    {
     "name": "stderr",
     "output_type": "stream",
     "text": [
      "\n",
      " 35%|█████████████▊                          | 346/1000 [00:30<00:57, 11.36it/s]\u001b[A\n",
      " 35%|█████████████▉                          | 348/1000 [00:30<00:56, 11.47it/s]\u001b[A"
     ]
    },
    {
     "name": "stdout",
     "output_type": "stream",
     "text": [
      "0.08537483215332031\n",
      "0.08726811408996582\n",
      "0.0820777416229248\n"
     ]
    },
    {
     "name": "stderr",
     "output_type": "stream",
     "text": [
      "\n",
      " 35%|██████████████                          | 350/1000 [00:30<00:56, 11.49it/s]\u001b[A"
     ]
    },
    {
     "name": "stdout",
     "output_type": "stream",
     "text": [
      "0.08822464942932129\n",
      "0.08369112014770508\n",
      "0.08609390258789062\n"
     ]
    },
    {
     "name": "stderr",
     "output_type": "stream",
     "text": [
      "\n",
      " 35%|██████████████                          | 352/1000 [00:30<00:56, 11.50it/s]\u001b[A\n",
      " 35%|██████████████▏                         | 354/1000 [00:30<00:56, 11.40it/s]\u001b[A"
     ]
    },
    {
     "name": "stdout",
     "output_type": "stream",
     "text": [
      "0.08607888221740723\n",
      "0.09495186805725098\n",
      "0.08278298377990723\n"
     ]
    },
    {
     "name": "stderr",
     "output_type": "stream",
     "text": [
      "\n",
      " 36%|██████████████▏                         | 356/1000 [00:30<00:56, 11.41it/s]\u001b[A"
     ]
    },
    {
     "name": "stdout",
     "output_type": "stream",
     "text": [
      "0.09052824974060059\n",
      "0.08318614959716797\n",
      "0.08801746368408203\n"
     ]
    },
    {
     "name": "stderr",
     "output_type": "stream",
     "text": [
      "\n",
      " 36%|██████████████▎                         | 358/1000 [00:31<00:56, 11.46it/s]\u001b[A\n",
      " 36%|██████████████▍                         | 360/1000 [00:31<00:55, 11.52it/s]\u001b[A"
     ]
    },
    {
     "name": "stdout",
     "output_type": "stream",
     "text": [
      "0.08364677429199219\n",
      "0.08823370933532715\n",
      "0.08225893974304199\n"
     ]
    },
    {
     "name": "stderr",
     "output_type": "stream",
     "text": [
      "\n",
      " 36%|██████████████▍                         | 362/1000 [00:31<00:55, 11.53it/s]\u001b[A"
     ]
    },
    {
     "name": "stdout",
     "output_type": "stream",
     "text": [
      "0.08720088005065918\n",
      "0.08437275886535645\n",
      "0.08700299263000488\n"
     ]
    },
    {
     "name": "stderr",
     "output_type": "stream",
     "text": [
      "\n",
      " 36%|██████████████▌                         | 364/1000 [00:31<00:55, 11.52it/s]\u001b[A\n",
      " 37%|██████████████▋                         | 366/1000 [00:31<00:55, 11.51it/s]\u001b[A"
     ]
    },
    {
     "name": "stdout",
     "output_type": "stream",
     "text": [
      "0.08589053153991699\n",
      "0.08780622482299805\n",
      "0.08545827865600586\n"
     ]
    },
    {
     "name": "stderr",
     "output_type": "stream",
     "text": [
      "\n",
      " 37%|██████████████▋                         | 368/1000 [00:31<00:54, 11.52it/s]\u001b[A"
     ]
    },
    {
     "name": "stdout",
     "output_type": "stream",
     "text": [
      "0.08663344383239746\n",
      "0.08526372909545898\n",
      "0.08481431007385254\n"
     ]
    },
    {
     "name": "stderr",
     "output_type": "stream",
     "text": [
      "\n",
      " 37%|██████████████▊                         | 370/1000 [00:32<00:54, 11.54it/s]\u001b[A\n",
      " 37%|██████████████▉                         | 372/1000 [00:32<00:54, 11.54it/s]\u001b[A"
     ]
    },
    {
     "name": "stdout",
     "output_type": "stream",
     "text": [
      "0.08665013313293457\n",
      "0.08852481842041016\n",
      "0.08376860618591309\n"
     ]
    },
    {
     "name": "stderr",
     "output_type": "stream",
     "text": [
      "\n",
      " 37%|██████████████▉                         | 374/1000 [00:32<00:54, 11.55it/s]\u001b[A"
     ]
    },
    {
     "name": "stdout",
     "output_type": "stream",
     "text": [
      "0.08470678329467773\n",
      "0.08665251731872559\n",
      "0.08367609977722168\n"
     ]
    },
    {
     "name": "stderr",
     "output_type": "stream",
     "text": [
      "\n",
      " 38%|███████████████                         | 376/1000 [00:32<00:53, 11.57it/s]\u001b[A\n",
      " 38%|███████████████                         | 378/1000 [00:32<00:53, 11.55it/s]\u001b[A"
     ]
    },
    {
     "name": "stdout",
     "output_type": "stream",
     "text": [
      "0.08750200271606445\n",
      "0.08681797981262207\n",
      "0.08546662330627441\n"
     ]
    },
    {
     "name": "stderr",
     "output_type": "stream",
     "text": [
      "\n",
      " 38%|███████████████▏                        | 380/1000 [00:32<00:53, 11.54it/s]\u001b[A"
     ]
    },
    {
     "name": "stdout",
     "output_type": "stream",
     "text": [
      "0.08424758911132812\n",
      "0.08832788467407227\n",
      "0.08280825614929199\n"
     ]
    },
    {
     "name": "stderr",
     "output_type": "stream",
     "text": [
      "\n",
      " 38%|███████████████▎                        | 382/1000 [00:33<00:53, 11.59it/s]\u001b[A"
     ]
    },
    {
     "name": "stdout",
     "output_type": "stream",
     "text": [
      "0.08718681335449219\n"
     ]
    },
    {
     "name": "stderr",
     "output_type": "stream",
     "text": [
      "\n",
      " 38%|███████████████▎                        | 384/1000 [00:33<01:06,  9.28it/s]\u001b[A"
     ]
    },
    {
     "name": "stdout",
     "output_type": "stream",
     "text": [
      "0.22839641571044922\n",
      "0.08588314056396484\n",
      "0.08524179458618164\n"
     ]
    },
    {
     "name": "stderr",
     "output_type": "stream",
     "text": [
      "\n",
      " 39%|███████████████▍                        | 386/1000 [00:33<01:02,  9.85it/s]\u001b[A\n",
      " 39%|███████████████▌                        | 388/1000 [00:33<00:59, 10.32it/s]\u001b[A"
     ]
    },
    {
     "name": "stdout",
     "output_type": "stream",
     "text": [
      "0.08737063407897949\n",
      "0.08432531356811523\n",
      "0.08672332763671875\n"
     ]
    },
    {
     "name": "stderr",
     "output_type": "stream",
     "text": [
      "\n",
      " 39%|███████████████▌                        | 390/1000 [00:33<00:57, 10.68it/s]\u001b[A"
     ]
    },
    {
     "name": "stdout",
     "output_type": "stream",
     "text": [
      "0.08513092994689941\n",
      "0.08560395240783691\n",
      "0.08482623100280762\n"
     ]
    },
    {
     "name": "stderr",
     "output_type": "stream",
     "text": [
      "\n",
      " 39%|███████████████▋                        | 392/1000 [00:34<00:55, 10.93it/s]\u001b[A\n",
      " 39%|███████████████▊                        | 394/1000 [00:34<00:54, 11.12it/s]\u001b[A"
     ]
    },
    {
     "name": "stdout",
     "output_type": "stream",
     "text": [
      "0.0872201919555664\n",
      "0.08402705192565918\n",
      "0.08683991432189941\n"
     ]
    },
    {
     "name": "stderr",
     "output_type": "stream",
     "text": [
      "\n",
      " 40%|███████████████▊                        | 396/1000 [00:34<00:53, 11.28it/s]\u001b[A"
     ]
    },
    {
     "name": "stdout",
     "output_type": "stream",
     "text": [
      "0.08585071563720703\n",
      "0.08436465263366699\n",
      "0.08692598342895508\n"
     ]
    },
    {
     "name": "stderr",
     "output_type": "stream",
     "text": [
      "\n",
      " 40%|███████████████▉                        | 398/1000 [00:34<00:53, 11.35it/s]\u001b[A\n",
      " 40%|████████████████                        | 400/1000 [00:34<00:52, 11.41it/s]\u001b[A"
     ]
    },
    {
     "name": "stdout",
     "output_type": "stream",
     "text": [
      "0.08559536933898926\n",
      "0.08532929420471191\n",
      "0.08620023727416992\n"
     ]
    },
    {
     "name": "stderr",
     "output_type": "stream",
     "text": [
      "\n",
      " 40%|████████████████                        | 402/1000 [00:35<00:52, 11.48it/s]\u001b[A"
     ]
    },
    {
     "name": "stdout",
     "output_type": "stream",
     "text": [
      "0.08737015724182129\n",
      "0.08329916000366211\n",
      "0.08683443069458008\n"
     ]
    },
    {
     "name": "stderr",
     "output_type": "stream",
     "text": [
      "\n",
      " 40%|████████████████▏                       | 404/1000 [00:35<00:51, 11.53it/s]\u001b[A\n",
      " 41%|████████████████▏                       | 406/1000 [00:35<00:51, 11.51it/s]\u001b[A"
     ]
    },
    {
     "name": "stdout",
     "output_type": "stream",
     "text": [
      "0.0836489200592041\n",
      "0.0859534740447998\n",
      "0.08716821670532227\n"
     ]
    },
    {
     "name": "stderr",
     "output_type": "stream",
     "text": [
      "\n",
      " 41%|████████████████▎                       | 408/1000 [00:35<00:51, 11.57it/s]\u001b[A"
     ]
    },
    {
     "name": "stdout",
     "output_type": "stream",
     "text": [
      "0.08732104301452637\n",
      "0.08249688148498535\n",
      "0.08750343322753906\n"
     ]
    },
    {
     "name": "stderr",
     "output_type": "stream",
     "text": [
      "\n",
      " 41%|████████████████▍                       | 410/1000 [00:35<00:51, 11.50it/s]\u001b[A\n",
      " 41%|████████████████▍                       | 412/1000 [00:35<00:50, 11.53it/s]\u001b[A"
     ]
    },
    {
     "name": "stdout",
     "output_type": "stream",
     "text": [
      "0.08722615242004395\n",
      "0.0865182876586914\n",
      "0.08440613746643066\n"
     ]
    },
    {
     "name": "stderr",
     "output_type": "stream",
     "text": [
      "\n",
      " 41%|████████████████▌                       | 414/1000 [00:36<00:50, 11.61it/s]\u001b[A"
     ]
    },
    {
     "name": "stdout",
     "output_type": "stream",
     "text": [
      "0.08672189712524414\n",
      "0.0819551944732666\n",
      "0.08818411827087402\n"
     ]
    },
    {
     "name": "stderr",
     "output_type": "stream",
     "text": [
      "\n",
      " 42%|████████████████▋                       | 416/1000 [00:36<00:50, 11.60it/s]\u001b[A\n",
      " 42%|████████████████▋                       | 418/1000 [00:36<00:50, 11.57it/s]\u001b[A"
     ]
    },
    {
     "name": "stdout",
     "output_type": "stream",
     "text": [
      "0.08329200744628906\n",
      "0.0880270004272461\n",
      "0.08493256568908691\n"
     ]
    },
    {
     "name": "stderr",
     "output_type": "stream",
     "text": [
      "\n",
      " 42%|████████████████▊                       | 420/1000 [00:36<00:50, 11.58it/s]\u001b[A"
     ]
    },
    {
     "name": "stdout",
     "output_type": "stream",
     "text": [
      "0.0877070426940918\n",
      "0.08359766006469727\n",
      "0.08901143074035645\n"
     ]
    },
    {
     "name": "stderr",
     "output_type": "stream",
     "text": [
      "\n",
      " 42%|████████████████▉                       | 422/1000 [00:36<00:50, 11.55it/s]\u001b[A\n",
      " 42%|████████████████▉                       | 424/1000 [00:36<00:49, 11.57it/s]\u001b[A"
     ]
    },
    {
     "name": "stdout",
     "output_type": "stream",
     "text": [
      "0.08406996726989746\n",
      "0.0865635871887207\n",
      "0.08444023132324219\n"
     ]
    },
    {
     "name": "stderr",
     "output_type": "stream",
     "text": [
      "\n",
      " 43%|█████████████████                       | 426/1000 [00:37<00:49, 11.62it/s]\u001b[A"
     ]
    },
    {
     "name": "stdout",
     "output_type": "stream",
     "text": [
      "0.0872347354888916\n",
      "0.0823509693145752\n",
      "0.08822512626647949\n"
     ]
    },
    {
     "name": "stderr",
     "output_type": "stream",
     "text": [
      "\n",
      " 43%|█████████████████                       | 428/1000 [00:37<00:49, 11.60it/s]\u001b[A\n",
      " 43%|█████████████████▏                      | 430/1000 [00:37<00:49, 11.61it/s]\u001b[A"
     ]
    },
    {
     "name": "stdout",
     "output_type": "stream",
     "text": [
      "0.0835413932800293\n",
      "0.08676409721374512\n",
      "0.08409357070922852\n"
     ]
    },
    {
     "name": "stderr",
     "output_type": "stream",
     "text": [
      "\n",
      " 43%|█████████████████▎                      | 432/1000 [00:37<00:49, 11.56it/s]\u001b[A"
     ]
    },
    {
     "name": "stdout",
     "output_type": "stream",
     "text": [
      "0.08952021598815918\n",
      "0.08386659622192383\n",
      "0.08900594711303711\n"
     ]
    },
    {
     "name": "stderr",
     "output_type": "stream",
     "text": [
      "\n",
      " 43%|█████████████████▎                      | 434/1000 [00:37<00:49, 11.52it/s]\u001b[A\n",
      " 44%|█████████████████▍                      | 436/1000 [00:37<00:49, 11.51it/s]\u001b[A"
     ]
    },
    {
     "name": "stdout",
     "output_type": "stream",
     "text": [
      "0.08469724655151367\n",
      "0.08941769599914551\n",
      "0.08387446403503418\n"
     ]
    },
    {
     "name": "stderr",
     "output_type": "stream",
     "text": [
      "\n",
      " 44%|█████████████████▌                      | 438/1000 [00:38<00:49, 11.41it/s]\u001b[A"
     ]
    },
    {
     "name": "stdout",
     "output_type": "stream",
     "text": [
      "0.09225630760192871\n",
      "0.08492708206176758\n",
      "0.08868598937988281\n"
     ]
    },
    {
     "name": "stderr",
     "output_type": "stream",
     "text": [
      "\n",
      " 44%|█████████████████▌                      | 440/1000 [00:38<00:49, 11.43it/s]\u001b[A\n",
      " 44%|█████████████████▋                      | 442/1000 [00:38<00:48, 11.47it/s]\u001b[A"
     ]
    },
    {
     "name": "stdout",
     "output_type": "stream",
     "text": [
      "0.08466768264770508\n",
      "0.08693218231201172\n",
      "0.08487725257873535\n"
     ]
    },
    {
     "name": "stderr",
     "output_type": "stream",
     "text": [
      "\n",
      " 44%|█████████████████▊                      | 444/1000 [00:38<00:48, 11.53it/s]\u001b[A"
     ]
    },
    {
     "name": "stdout",
     "output_type": "stream",
     "text": [
      "0.08771538734436035\n",
      "0.08231663703918457\n",
      "0.08837437629699707\n"
     ]
    },
    {
     "name": "stderr",
     "output_type": "stream",
     "text": [
      "\n",
      " 45%|█████████████████▊                      | 446/1000 [00:38<00:47, 11.54it/s]\u001b[A\n",
      " 45%|█████████████████▉                      | 448/1000 [00:38<00:47, 11.57it/s]\u001b[A"
     ]
    },
    {
     "name": "stdout",
     "output_type": "stream",
     "text": [
      "0.08335208892822266\n",
      "0.08669304847717285\n",
      "0.08416152000427246\n"
     ]
    },
    {
     "name": "stderr",
     "output_type": "stream",
     "text": [
      "\n",
      " 45%|██████████████████                      | 450/1000 [00:39<00:47, 11.58it/s]\u001b[A"
     ]
    },
    {
     "name": "stdout",
     "output_type": "stream",
     "text": [
      "0.08860063552856445\n",
      "0.08219528198242188\n",
      "0.0883171558380127\n"
     ]
    },
    {
     "name": "stderr",
     "output_type": "stream",
     "text": [
      "\n",
      " 45%|██████████████████                      | 452/1000 [00:39<00:47, 11.52it/s]\u001b[A\n",
      " 45%|██████████████████▏                     | 454/1000 [00:39<00:47, 11.51it/s]\u001b[A"
     ]
    },
    {
     "name": "stdout",
     "output_type": "stream",
     "text": [
      "0.08614420890808105\n",
      "0.08826899528503418\n",
      "0.08445858955383301\n"
     ]
    },
    {
     "name": "stderr",
     "output_type": "stream",
     "text": [
      "\n",
      " 46%|██████████████████▏                     | 456/1000 [00:39<00:47, 11.51it/s]\u001b[A"
     ]
    },
    {
     "name": "stdout",
     "output_type": "stream",
     "text": [
      "0.09064388275146484\n",
      "0.08193230628967285\n",
      "0.08892178535461426\n"
     ]
    },
    {
     "name": "stderr",
     "output_type": "stream",
     "text": [
      "\n",
      " 46%|██████████████████▎                     | 458/1000 [00:39<00:47, 11.48it/s]\u001b[A\n",
      " 46%|██████████████████▍                     | 460/1000 [00:40<00:46, 11.53it/s]\u001b[A"
     ]
    },
    {
     "name": "stdout",
     "output_type": "stream",
     "text": [
      "0.08543586730957031\n",
      "0.08739280700683594\n",
      "0.08282709121704102\n"
     ]
    },
    {
     "name": "stderr",
     "output_type": "stream",
     "text": [
      "\n",
      " 46%|██████████████████▍                     | 462/1000 [00:40<00:46, 11.55it/s]\u001b[A"
     ]
    },
    {
     "name": "stdout",
     "output_type": "stream",
     "text": [
      "0.08903098106384277\n",
      "0.08223247528076172\n",
      "0.0868067741394043\n"
     ]
    },
    {
     "name": "stderr",
     "output_type": "stream",
     "text": [
      "\n",
      " 46%|██████████████████▌                     | 464/1000 [00:40<00:46, 11.55it/s]\u001b[A\n",
      " 47%|██████████████████▋                     | 466/1000 [00:40<00:46, 11.56it/s]\u001b[A"
     ]
    },
    {
     "name": "stdout",
     "output_type": "stream",
     "text": [
      "0.08531045913696289\n",
      "0.08730244636535645\n",
      "0.08434557914733887\n"
     ]
    },
    {
     "name": "stderr",
     "output_type": "stream",
     "text": [
      "\n",
      " 47%|██████████████████▋                     | 468/1000 [00:40<00:46, 11.48it/s]\u001b[A"
     ]
    },
    {
     "name": "stdout",
     "output_type": "stream",
     "text": [
      "0.09146809577941895\n",
      "0.08419156074523926\n",
      "0.0874476432800293\n"
     ]
    },
    {
     "name": "stderr",
     "output_type": "stream",
     "text": [
      "\n",
      " 47%|██████████████████▊                     | 470/1000 [00:40<00:46, 11.46it/s]\u001b[A\n",
      " 47%|██████████████████▉                     | 472/1000 [00:41<00:46, 11.38it/s]\u001b[A"
     ]
    },
    {
     "name": "stdout",
     "output_type": "stream",
     "text": [
      "0.08675408363342285\n",
      "0.08943533897399902\n",
      "0.08779644966125488\n"
     ]
    },
    {
     "name": "stderr",
     "output_type": "stream",
     "text": [
      "\n",
      " 47%|██████████████████▉                     | 474/1000 [00:41<00:46, 11.42it/s]\u001b[A"
     ]
    },
    {
     "name": "stdout",
     "output_type": "stream",
     "text": [
      "0.08818340301513672\n",
      "0.08420157432556152\n",
      "0.0844581127166748\n"
     ]
    },
    {
     "name": "stderr",
     "output_type": "stream",
     "text": [
      "\n",
      " 48%|███████████████████                     | 476/1000 [00:41<00:45, 11.46it/s]\u001b[A\n",
      " 48%|███████████████████                     | 478/1000 [00:41<00:45, 11.52it/s]\u001b[A"
     ]
    },
    {
     "name": "stdout",
     "output_type": "stream",
     "text": [
      "0.08765840530395508\n",
      "0.08489441871643066\n",
      "0.08535552024841309\n"
     ]
    },
    {
     "name": "stderr",
     "output_type": "stream",
     "text": [
      "\n",
      " 48%|███████████████████▏                    | 480/1000 [00:41<00:45, 11.48it/s]\u001b[A"
     ]
    },
    {
     "name": "stdout",
     "output_type": "stream",
     "text": [
      "0.08741903305053711\n",
      "0.08712482452392578\n",
      "0.08495116233825684\n"
     ]
    },
    {
     "name": "stderr",
     "output_type": "stream",
     "text": [
      "\n",
      " 48%|███████████████████▎                    | 482/1000 [00:41<00:45, 11.48it/s]\u001b[A\n",
      " 48%|███████████████████▎                    | 484/1000 [00:42<00:44, 11.52it/s]\u001b[A"
     ]
    },
    {
     "name": "stdout",
     "output_type": "stream",
     "text": [
      "0.08790373802185059\n",
      "0.08469700813293457\n",
      "0.08674240112304688\n"
     ]
    },
    {
     "name": "stderr",
     "output_type": "stream",
     "text": [
      "\n",
      " 49%|███████████████████▍                    | 486/1000 [00:42<00:44, 11.47it/s]\u001b[A"
     ]
    },
    {
     "name": "stdout",
     "output_type": "stream",
     "text": [
      "0.08736562728881836\n",
      "0.08768057823181152\n",
      "0.08353590965270996\n"
     ]
    },
    {
     "name": "stderr",
     "output_type": "stream",
     "text": [
      "\n",
      " 49%|███████████████████▌                    | 488/1000 [00:42<00:44, 11.48it/s]\u001b[A\n",
      " 49%|███████████████████▌                    | 490/1000 [00:42<00:44, 11.49it/s]\u001b[A"
     ]
    },
    {
     "name": "stdout",
     "output_type": "stream",
     "text": [
      "0.08896994590759277\n",
      "0.08516287803649902\n",
      "0.08754134178161621\n"
     ]
    },
    {
     "name": "stderr",
     "output_type": "stream",
     "text": [
      "\n",
      " 49%|███████████████████▋                    | 492/1000 [00:42<00:44, 11.43it/s]\u001b[A"
     ]
    },
    {
     "name": "stdout",
     "output_type": "stream",
     "text": [
      "0.08792805671691895\n",
      "0.08796858787536621\n",
      "0.08272600173950195\n"
     ]
    },
    {
     "name": "stderr",
     "output_type": "stream",
     "text": [
      "\n",
      " 49%|███████████████████▊                    | 494/1000 [00:42<00:44, 11.48it/s]\u001b[A\n",
      " 50%|███████████████████▊                    | 496/1000 [00:43<00:43, 11.51it/s]\u001b[A"
     ]
    },
    {
     "name": "stdout",
     "output_type": "stream",
     "text": [
      "0.0887148380279541\n",
      "0.0837104320526123\n",
      "0.08781623840332031\n"
     ]
    },
    {
     "name": "stderr",
     "output_type": "stream",
     "text": [
      "\n",
      " 50%|███████████████████▉                    | 498/1000 [00:43<00:43, 11.49it/s]\u001b[A"
     ]
    },
    {
     "name": "stdout",
     "output_type": "stream",
     "text": [
      "0.08709597587585449\n",
      "0.08658504486083984\n",
      "0.08462667465209961\n"
     ]
    },
    {
     "name": "stderr",
     "output_type": "stream",
     "text": [
      "\n",
      " 50%|████████████████████                    | 500/1000 [00:43<00:43, 11.48it/s]\u001b[A\n",
      " 50%|████████████████████                    | 502/1000 [00:43<00:43, 11.50it/s]\u001b[A"
     ]
    },
    {
     "name": "stdout",
     "output_type": "stream",
     "text": [
      "0.08883118629455566\n",
      "0.08434343338012695\n",
      "0.08731317520141602\n"
     ]
    },
    {
     "name": "stderr",
     "output_type": "stream",
     "text": [
      "\n",
      " 50%|████████████████████▏                   | 504/1000 [00:43<00:43, 11.50it/s]\u001b[A"
     ]
    },
    {
     "name": "stdout",
     "output_type": "stream",
     "text": [
      "0.08670377731323242\n",
      "0.08637738227844238\n",
      "0.08275127410888672\n"
     ]
    },
    {
     "name": "stderr",
     "output_type": "stream",
     "text": [
      "\n",
      " 51%|████████████████████▏                   | 506/1000 [00:44<00:42, 11.53it/s]\u001b[A\n",
      " 51%|████████████████████▎                   | 508/1000 [00:44<00:42, 11.57it/s]\u001b[A"
     ]
    },
    {
     "name": "stdout",
     "output_type": "stream",
     "text": [
      "0.0882425308227539\n",
      "0.08353066444396973\n",
      "0.08669543266296387\n"
     ]
    },
    {
     "name": "stderr",
     "output_type": "stream",
     "text": [
      "\n",
      " 51%|████████████████████▍                   | 510/1000 [00:44<00:42, 11.54it/s]\u001b[A"
     ]
    },
    {
     "name": "stdout",
     "output_type": "stream",
     "text": [
      "0.08623957633972168\n",
      "0.08736395835876465\n",
      "0.08477234840393066\n"
     ]
    },
    {
     "name": "stderr",
     "output_type": "stream",
     "text": [
      "\n",
      " 51%|████████████████████▍                   | 512/1000 [00:44<00:42, 11.51it/s]\u001b[A\n",
      " 51%|████████████████████▌                   | 514/1000 [00:44<00:42, 11.56it/s]\u001b[A"
     ]
    },
    {
     "name": "stdout",
     "output_type": "stream",
     "text": [
      "0.08896994590759277\n",
      "0.08372902870178223\n",
      "0.08615875244140625\n"
     ]
    },
    {
     "name": "stderr",
     "output_type": "stream",
     "text": [
      "\n",
      " 52%|████████████████████▋                   | 516/1000 [00:44<00:41, 11.52it/s]\u001b[A"
     ]
    },
    {
     "name": "stdout",
     "output_type": "stream",
     "text": [
      "0.0864408016204834\n",
      "0.08710193634033203\n",
      "0.08502626419067383\n"
     ]
    },
    {
     "name": "stderr",
     "output_type": "stream",
     "text": [
      "\n",
      " 52%|████████████████████▋                   | 518/1000 [00:45<00:41, 11.52it/s]\u001b[A\n",
      " 52%|████████████████████▊                   | 520/1000 [00:45<00:41, 11.54it/s]\u001b[A"
     ]
    },
    {
     "name": "stdout",
     "output_type": "stream",
     "text": [
      "0.08764791488647461\n",
      "0.08604741096496582\n",
      "0.08536410331726074\n"
     ]
    },
    {
     "name": "stderr",
     "output_type": "stream",
     "text": [
      "\n",
      " 52%|████████████████████▉                   | 522/1000 [00:45<00:41, 11.46it/s]\u001b[A"
     ]
    },
    {
     "name": "stdout",
     "output_type": "stream",
     "text": [
      "0.08753252029418945\n",
      "0.08844614028930664\n",
      "0.08613276481628418\n"
     ]
    },
    {
     "name": "stderr",
     "output_type": "stream",
     "text": [
      "\n",
      " 52%|████████████████████▉                   | 524/1000 [00:45<00:41, 11.43it/s]\u001b[A\n",
      " 53%|█████████████████████                   | 526/1000 [00:45<00:41, 11.47it/s]\u001b[A"
     ]
    },
    {
     "name": "stdout",
     "output_type": "stream",
     "text": [
      "0.08860111236572266\n",
      "0.08572077751159668\n",
      "0.08583974838256836\n"
     ]
    },
    {
     "name": "stderr",
     "output_type": "stream",
     "text": [
      "\n",
      " 53%|█████████████████████                   | 528/1000 [00:45<00:41, 11.44it/s]\u001b[A"
     ]
    },
    {
     "name": "stdout",
     "output_type": "stream",
     "text": [
      "0.08704590797424316\n",
      "0.08736562728881836\n",
      "0.08539032936096191\n"
     ]
    },
    {
     "name": "stderr",
     "output_type": "stream",
     "text": [
      "\n",
      " 53%|█████████████████████▏                  | 530/1000 [00:46<00:40, 11.49it/s]\u001b[A\n",
      " 53%|█████████████████████▎                  | 532/1000 [00:46<00:40, 11.54it/s]\u001b[A"
     ]
    },
    {
     "name": "stdout",
     "output_type": "stream",
     "text": [
      "0.08578300476074219\n",
      "0.08579158782958984\n",
      "0.08422708511352539\n"
     ]
    },
    {
     "name": "stderr",
     "output_type": "stream",
     "text": [
      "\n",
      " 53%|█████████████████████▎                  | 534/1000 [00:46<00:40, 11.53it/s]\u001b[A"
     ]
    },
    {
     "name": "stdout",
     "output_type": "stream",
     "text": [
      "0.08643698692321777\n",
      "0.08607220649719238\n",
      "0.08631610870361328\n"
     ]
    },
    {
     "name": "stderr",
     "output_type": "stream",
     "text": [
      "\n",
      " 54%|█████████████████████▍                  | 536/1000 [00:46<00:40, 11.53it/s]\u001b[A\n",
      " 54%|█████████████████████▌                  | 538/1000 [00:46<00:39, 11.58it/s]\u001b[A"
     ]
    },
    {
     "name": "stdout",
     "output_type": "stream",
     "text": [
      "0.08558392524719238\n",
      "0.08660387992858887\n",
      "0.08320164680480957\n"
     ]
    },
    {
     "name": "stderr",
     "output_type": "stream",
     "text": [
      "\n",
      " 54%|█████████████████████▌                  | 540/1000 [00:46<00:39, 11.55it/s]\u001b[A"
     ]
    },
    {
     "name": "stdout",
     "output_type": "stream",
     "text": [
      "0.08755993843078613\n",
      "0.08544039726257324\n",
      "0.08497858047485352\n"
     ]
    },
    {
     "name": "stderr",
     "output_type": "stream",
     "text": [
      "\n",
      " 54%|█████████████████████▋                  | 542/1000 [00:47<00:39, 11.61it/s]\u001b[A\n",
      " 54%|█████████████████████▊                  | 544/1000 [00:47<00:39, 11.63it/s]\u001b[A"
     ]
    },
    {
     "name": "stdout",
     "output_type": "stream",
     "text": [
      "0.08403921127319336\n",
      "0.08759069442749023\n",
      "0.08236026763916016\n"
     ]
    },
    {
     "name": "stderr",
     "output_type": "stream",
     "text": [
      "\n",
      " 55%|█████████████████████▊                  | 546/1000 [00:47<00:39, 11.54it/s]\u001b[A"
     ]
    },
    {
     "name": "stdout",
     "output_type": "stream",
     "text": [
      "0.08905887603759766\n",
      "0.0861673355102539\n",
      "0.08961963653564453\n"
     ]
    },
    {
     "name": "stderr",
     "output_type": "stream",
     "text": [
      "\n",
      " 55%|█████████████████████▉                  | 548/1000 [00:47<00:39, 11.50it/s]\u001b[A\n",
      " 55%|██████████████████████                  | 550/1000 [00:47<00:39, 11.53it/s]\u001b[A"
     ]
    },
    {
     "name": "stdout",
     "output_type": "stream",
     "text": [
      "0.0847177505493164\n",
      "0.0887451171875\n",
      "0.08247256278991699\n"
     ]
    },
    {
     "name": "stderr",
     "output_type": "stream",
     "text": [
      "\n",
      " 55%|██████████████████████                  | 552/1000 [00:48<00:38, 11.53it/s]\u001b[A"
     ]
    },
    {
     "name": "stdout",
     "output_type": "stream",
     "text": [
      "0.08810639381408691\n",
      "0.08452868461608887\n",
      "0.08672356605529785\n"
     ]
    },
    {
     "name": "stderr",
     "output_type": "stream",
     "text": [
      "\n",
      " 55%|██████████████████████▏                 | 554/1000 [00:48<00:38, 11.57it/s]\u001b[A\n",
      " 56%|██████████████████████▏                 | 556/1000 [00:48<00:38, 11.57it/s]\u001b[A"
     ]
    },
    {
     "name": "stdout",
     "output_type": "stream",
     "text": [
      "0.08379578590393066\n",
      "0.08889102935791016\n",
      "0.08258366584777832\n"
     ]
    },
    {
     "name": "stderr",
     "output_type": "stream",
     "text": [
      "\n",
      " 56%|██████████████████████▎                 | 558/1000 [00:48<00:38, 11.53it/s]\u001b[A"
     ]
    },
    {
     "name": "stdout",
     "output_type": "stream",
     "text": [
      "0.08870840072631836\n",
      "0.08494925498962402\n",
      "0.08789229393005371\n"
     ]
    },
    {
     "name": "stderr",
     "output_type": "stream",
     "text": [
      "\n",
      " 56%|██████████████████████▍                 | 560/1000 [00:48<00:38, 11.53it/s]\u001b[A\n",
      " 56%|██████████████████████▍                 | 562/1000 [00:48<00:37, 11.55it/s]\u001b[A"
     ]
    },
    {
     "name": "stdout",
     "output_type": "stream",
     "text": [
      "0.08475422859191895\n",
      "0.08888792991638184\n",
      "0.0824134349822998\n"
     ]
    },
    {
     "name": "stderr",
     "output_type": "stream",
     "text": [
      "\n",
      " 56%|██████████████████████▌                 | 564/1000 [00:49<00:37, 11.56it/s]\u001b[A"
     ]
    },
    {
     "name": "stdout",
     "output_type": "stream",
     "text": [
      "0.08731865882873535\n",
      "0.08422207832336426\n",
      "0.08677387237548828\n"
     ]
    },
    {
     "name": "stderr",
     "output_type": "stream",
     "text": [
      "\n",
      " 57%|██████████████████████▋                 | 566/1000 [00:49<00:37, 11.59it/s]\u001b[A\n",
      " 57%|██████████████████████▋                 | 568/1000 [00:49<00:37, 11.59it/s]\u001b[A"
     ]
    },
    {
     "name": "stdout",
     "output_type": "stream",
     "text": [
      "0.08337259292602539\n",
      "0.08823990821838379\n",
      "0.08331036567687988\n"
     ]
    },
    {
     "name": "stderr",
     "output_type": "stream",
     "text": [
      "\n",
      " 57%|██████████████████████▊                 | 570/1000 [00:49<00:37, 11.53it/s]\u001b[A"
     ]
    },
    {
     "name": "stdout",
     "output_type": "stream",
     "text": [
      "0.08841609954833984\n",
      "0.08597660064697266\n",
      "0.09024882316589355\n"
     ]
    },
    {
     "name": "stderr",
     "output_type": "stream",
     "text": [
      "\n",
      " 57%|██████████████████████▉                 | 572/1000 [00:49<00:37, 11.44it/s]\u001b[A\n",
      " 57%|██████████████████████▉                 | 574/1000 [00:49<00:37, 11.47it/s]\u001b[A"
     ]
    },
    {
     "name": "stdout",
     "output_type": "stream",
     "text": [
      "0.08648920059204102\n",
      "0.08947324752807617\n",
      "0.08257102966308594\n"
     ]
    },
    {
     "name": "stderr",
     "output_type": "stream",
     "text": [
      "\n",
      " 58%|███████████████████████                 | 576/1000 [00:50<00:36, 11.49it/s]\u001b[A"
     ]
    },
    {
     "name": "stdout",
     "output_type": "stream",
     "text": [
      "0.08870530128479004\n",
      "0.0836648941040039\n",
      "0.0892648696899414\n"
     ]
    },
    {
     "name": "stderr",
     "output_type": "stream",
     "text": [
      "\n",
      " 58%|███████████████████████                 | 578/1000 [00:50<00:36, 11.45it/s]\u001b[A\n",
      " 58%|███████████████████████▏                | 580/1000 [00:50<00:36, 11.47it/s]\u001b[A"
     ]
    },
    {
     "name": "stdout",
     "output_type": "stream",
     "text": [
      "0.08567023277282715\n",
      "0.08896517753601074\n",
      "0.0837850570678711\n"
     ]
    },
    {
     "name": "stderr",
     "output_type": "stream",
     "text": [
      "\n",
      " 58%|███████████████████████▎                | 582/1000 [00:50<00:36, 11.45it/s]\u001b[A"
     ]
    },
    {
     "name": "stdout",
     "output_type": "stream",
     "text": [
      "0.08867287635803223\n",
      "0.08548355102539062\n",
      "0.08798694610595703\n"
     ]
    },
    {
     "name": "stderr",
     "output_type": "stream",
     "text": [
      "\n",
      " 58%|███████████████████████▎                | 584/1000 [00:50<00:36, 11.47it/s]\u001b[A\n",
      " 59%|███████████████████████▍                | 586/1000 [00:50<00:36, 11.38it/s]\u001b[A"
     ]
    },
    {
     "name": "stdout",
     "output_type": "stream",
     "text": [
      "0.0843501091003418\n",
      "0.0868990421295166\n",
      "0.0910634994506836\n"
     ]
    },
    {
     "name": "stderr",
     "output_type": "stream",
     "text": [
      "\n",
      " 59%|███████████████████████▌                | 588/1000 [00:51<00:36, 11.41it/s]\u001b[A"
     ]
    },
    {
     "name": "stdout",
     "output_type": "stream",
     "text": [
      "0.08881425857543945\n",
      "0.08405160903930664\n",
      "0.08902835845947266\n"
     ]
    },
    {
     "name": "stderr",
     "output_type": "stream",
     "text": [
      "\n",
      " 59%|███████████████████████▌                | 590/1000 [00:51<00:36, 11.36it/s]\u001b[A\n",
      " 59%|███████████████████████▋                | 592/1000 [00:51<00:35, 11.38it/s]\u001b[A"
     ]
    },
    {
     "name": "stdout",
     "output_type": "stream",
     "text": [
      "0.08771061897277832\n",
      "0.08721423149108887\n",
      "0.08677291870117188\n"
     ]
    },
    {
     "name": "stderr",
     "output_type": "stream",
     "text": [
      "\n",
      " 59%|███████████████████████▊                | 594/1000 [00:51<00:35, 11.40it/s]\u001b[A"
     ]
    },
    {
     "name": "stdout",
     "output_type": "stream",
     "text": [
      "0.08867430686950684\n",
      "0.08483362197875977\n",
      "0.08768844604492188\n"
     ]
    },
    {
     "name": "stderr",
     "output_type": "stream",
     "text": [
      "\n",
      " 60%|███████████████████████▊                | 596/1000 [00:51<00:35, 11.38it/s]\u001b[A\n",
      " 60%|███████████████████████▉                | 598/1000 [00:52<00:35, 11.44it/s]\u001b[A"
     ]
    },
    {
     "name": "stdout",
     "output_type": "stream",
     "text": [
      "0.08762979507446289\n",
      "0.08454346656799316\n",
      "0.08718538284301758\n"
     ]
    },
    {
     "name": "stderr",
     "output_type": "stream",
     "text": [
      "\n",
      " 60%|████████████████████████                | 600/1000 [00:52<00:34, 11.43it/s]\u001b[A"
     ]
    },
    {
     "name": "stdout",
     "output_type": "stream",
     "text": [
      "0.0861823558807373\n",
      "0.08785891532897949\n",
      "0.08709073066711426\n"
     ]
    },
    {
     "name": "stderr",
     "output_type": "stream",
     "text": [
      "\n",
      " 60%|████████████████████████                | 602/1000 [00:52<00:34, 11.41it/s]\u001b[A\n",
      " 60%|████████████████████████▏               | 604/1000 [00:52<00:34, 11.39it/s]\u001b[A"
     ]
    },
    {
     "name": "stdout",
     "output_type": "stream",
     "text": [
      "0.08794641494750977\n",
      "0.08629393577575684\n",
      "0.08877015113830566\n"
     ]
    },
    {
     "name": "stderr",
     "output_type": "stream",
     "text": [
      "\n",
      " 61%|████████████████████████▏               | 606/1000 [00:52<00:34, 11.42it/s]\u001b[A"
     ]
    },
    {
     "name": "stdout",
     "output_type": "stream",
     "text": [
      "0.08708357810974121\n",
      "0.08581256866455078\n",
      "0.08661651611328125\n"
     ]
    },
    {
     "name": "stderr",
     "output_type": "stream",
     "text": [
      "\n",
      " 61%|████████████████████████▎               | 608/1000 [00:52<00:34, 11.39it/s]\u001b[A\n",
      " 61%|████████████████████████▍               | 610/1000 [00:53<00:34, 11.42it/s]\u001b[A"
     ]
    },
    {
     "name": "stdout",
     "output_type": "stream",
     "text": [
      "0.08872556686401367\n",
      "0.08302760124206543\n",
      "0.08970785140991211\n"
     ]
    },
    {
     "name": "stderr",
     "output_type": "stream",
     "text": [
      "\n",
      " 61%|████████████████████████▍               | 612/1000 [00:53<00:33, 11.45it/s]\u001b[A"
     ]
    },
    {
     "name": "stdout",
     "output_type": "stream",
     "text": [
      "0.08569645881652832\n",
      "0.08677148818969727\n",
      "0.08659768104553223\n"
     ]
    },
    {
     "name": "stderr",
     "output_type": "stream",
     "text": [
      "\n",
      " 61%|████████████████████████▌               | 614/1000 [00:53<00:33, 11.43it/s]\u001b[A\n",
      " 62%|████████████████████████▋               | 616/1000 [00:53<00:33, 11.45it/s]\u001b[A"
     ]
    },
    {
     "name": "stdout",
     "output_type": "stream",
     "text": [
      "0.08784985542297363\n",
      "0.08399343490600586\n",
      "0.08912420272827148\n"
     ]
    },
    {
     "name": "stderr",
     "output_type": "stream",
     "text": [
      "\n",
      " 62%|████████████████████████▋               | 618/1000 [00:53<00:33, 11.48it/s]\u001b[A"
     ]
    },
    {
     "name": "stdout",
     "output_type": "stream",
     "text": [
      "0.08564901351928711\n",
      "0.08641743659973145\n",
      "0.08676719665527344\n"
     ]
    },
    {
     "name": "stderr",
     "output_type": "stream",
     "text": [
      "\n",
      " 62%|████████████████████████▊               | 620/1000 [00:53<00:33, 11.47it/s]\u001b[A\n",
      " 62%|████████████████████████▉               | 622/1000 [00:54<00:32, 11.48it/s]\u001b[A"
     ]
    },
    {
     "name": "stdout",
     "output_type": "stream",
     "text": [
      "0.08649301528930664\n",
      "0.0847163200378418\n",
      "0.08801865577697754\n"
     ]
    },
    {
     "name": "stderr",
     "output_type": "stream",
     "text": [
      "\n",
      " 62%|████████████████████████▉               | 624/1000 [00:54<00:32, 11.47it/s]\u001b[A"
     ]
    },
    {
     "name": "stdout",
     "output_type": "stream",
     "text": [
      "0.08532381057739258\n",
      "0.08858704566955566\n",
      "0.08783340454101562\n"
     ]
    },
    {
     "name": "stderr",
     "output_type": "stream",
     "text": [
      "\n",
      " 63%|█████████████████████████               | 626/1000 [00:54<00:32, 11.43it/s]\u001b[A\n",
      " 63%|█████████████████████████               | 628/1000 [00:54<00:32, 11.43it/s]\u001b[A"
     ]
    },
    {
     "name": "stdout",
     "output_type": "stream",
     "text": [
      "0.08719325065612793\n",
      "0.08506274223327637\n",
      "0.08887767791748047\n"
     ]
    },
    {
     "name": "stderr",
     "output_type": "stream",
     "text": [
      "\n",
      " 63%|█████████████████████████▏              | 630/1000 [00:54<00:32, 11.43it/s]\u001b[A"
     ]
    },
    {
     "name": "stdout",
     "output_type": "stream",
     "text": [
      "0.08575034141540527\n",
      "0.08826565742492676\n",
      "0.08540081977844238\n"
     ]
    },
    {
     "name": "stderr",
     "output_type": "stream",
     "text": [
      "\n",
      " 63%|█████████████████████████▎              | 632/1000 [00:55<00:32, 11.44it/s]\u001b[A\n",
      " 63%|█████████████████████████▎              | 634/1000 [00:55<00:31, 11.48it/s]\u001b[A"
     ]
    },
    {
     "name": "stdout",
     "output_type": "stream",
     "text": [
      "0.08795833587646484\n",
      "0.08289647102355957\n",
      "0.08834958076477051\n"
     ]
    },
    {
     "name": "stderr",
     "output_type": "stream",
     "text": [
      "\n",
      " 64%|█████████████████████████▍              | 636/1000 [00:55<00:31, 11.52it/s]\u001b[A"
     ]
    },
    {
     "name": "stdout",
     "output_type": "stream",
     "text": [
      "0.08502697944641113\n",
      "0.08609890937805176\n",
      "0.0856776237487793\n"
     ]
    },
    {
     "name": "stderr",
     "output_type": "stream",
     "text": [
      "\n",
      " 64%|█████████████████████████▌              | 638/1000 [00:55<00:31, 11.49it/s]\u001b[A\n",
      " 64%|█████████████████████████▌              | 640/1000 [00:55<00:31, 11.52it/s]\u001b[A"
     ]
    },
    {
     "name": "stdout",
     "output_type": "stream",
     "text": [
      "0.08841061592102051\n",
      "0.08400630950927734\n",
      "0.08736586570739746\n"
     ]
    },
    {
     "name": "stderr",
     "output_type": "stream",
     "text": [
      "\n",
      " 64%|█████████████████████████▋              | 642/1000 [00:55<00:31, 11.53it/s]\u001b[A"
     ]
    },
    {
     "name": "stdout",
     "output_type": "stream",
     "text": [
      "0.08569073677062988\n",
      "0.08641791343688965\n",
      "0.08430171012878418\n"
     ]
    },
    {
     "name": "stderr",
     "output_type": "stream",
     "text": [
      "\n",
      " 64%|█████████████████████████▊              | 644/1000 [00:56<00:30, 11.54it/s]\u001b[A\n",
      " 65%|█████████████████████████▊              | 646/1000 [00:56<00:30, 11.59it/s]\u001b[A"
     ]
    },
    {
     "name": "stdout",
     "output_type": "stream",
     "text": [
      "0.08697032928466797\n",
      "0.08268928527832031\n",
      "0.08695363998413086\n"
     ]
    },
    {
     "name": "stderr",
     "output_type": "stream",
     "text": [
      "\n",
      " 65%|█████████████████████████▉              | 648/1000 [00:56<00:30, 11.57it/s]\u001b[A"
     ]
    },
    {
     "name": "stdout",
     "output_type": "stream",
     "text": [
      "0.08560538291931152\n",
      "0.08668923377990723\n",
      "0.08648324012756348\n"
     ]
    },
    {
     "name": "stderr",
     "output_type": "stream",
     "text": [
      "\n",
      " 65%|██████████████████████████              | 650/1000 [00:56<00:30, 11.47it/s]\u001b[A\n",
      " 65%|██████████████████████████              | 652/1000 [00:56<00:30, 11.49it/s]\u001b[A"
     ]
    },
    {
     "name": "stdout",
     "output_type": "stream",
     "text": [
      "0.09003424644470215\n",
      "0.08477973937988281\n",
      "0.0873560905456543\n"
     ]
    },
    {
     "name": "stderr",
     "output_type": "stream",
     "text": [
      "\n",
      " 65%|██████████████████████████▏             | 654/1000 [00:56<00:30, 11.49it/s]\u001b[A"
     ]
    },
    {
     "name": "stdout",
     "output_type": "stream",
     "text": [
      "0.08725976943969727\n",
      "0.08568525314331055\n",
      "0.08487796783447266\n"
     ]
    },
    {
     "name": "stderr",
     "output_type": "stream",
     "text": [
      "\n",
      " 66%|██████████████████████████▏             | 656/1000 [00:57<00:30, 11.44it/s]\u001b[A\n",
      " 66%|██████████████████████████▎             | 658/1000 [00:57<00:29, 11.53it/s]\u001b[A"
     ]
    },
    {
     "name": "stdout",
     "output_type": "stream",
     "text": [
      "0.09007978439331055\n",
      "0.08369827270507812\n",
      "0.08542823791503906\n"
     ]
    },
    {
     "name": "stderr",
     "output_type": "stream",
     "text": [
      "\n",
      " 66%|██████████████████████████▍             | 660/1000 [00:57<00:29, 11.46it/s]\u001b[A"
     ]
    },
    {
     "name": "stdout",
     "output_type": "stream",
     "text": [
      "0.08777403831481934\n",
      "0.08825421333312988\n",
      "0.08560538291931152\n"
     ]
    },
    {
     "name": "stderr",
     "output_type": "stream",
     "text": [
      "\n",
      " 66%|██████████████████████████▍             | 662/1000 [00:57<00:29, 11.43it/s]\u001b[A\n",
      " 66%|██████████████████████████▌             | 664/1000 [00:57<00:29, 11.46it/s]\u001b[A"
     ]
    },
    {
     "name": "stdout",
     "output_type": "stream",
     "text": [
      "0.08910012245178223\n",
      "0.08712458610534668\n",
      "0.08453249931335449\n"
     ]
    },
    {
     "name": "stderr",
     "output_type": "stream",
     "text": [
      "\n",
      " 67%|██████████████████████████▋             | 666/1000 [00:57<00:29, 11.45it/s]\u001b[A"
     ]
    },
    {
     "name": "stdout",
     "output_type": "stream",
     "text": [
      "0.08893489837646484\n",
      "0.08460807800292969\n",
      "0.08566904067993164\n"
     ]
    },
    {
     "name": "stderr",
     "output_type": "stream",
     "text": [
      "\n",
      " 67%|██████████████████████████▋             | 668/1000 [00:58<00:28, 11.45it/s]\u001b[A\n",
      " 67%|██████████████████████████▊             | 670/1000 [00:58<00:28, 11.54it/s]\u001b[A"
     ]
    },
    {
     "name": "stdout",
     "output_type": "stream",
     "text": [
      "0.08790135383605957\n",
      "0.0847620964050293\n",
      "0.08392453193664551\n"
     ]
    },
    {
     "name": "stderr",
     "output_type": "stream",
     "text": [
      "\n",
      " 67%|██████████████████████████▉             | 672/1000 [00:58<00:28, 11.53it/s]\u001b[A"
     ]
    },
    {
     "name": "stdout",
     "output_type": "stream",
     "text": [
      "0.08906769752502441\n",
      "0.08362746238708496\n",
      "0.08632326126098633\n"
     ]
    },
    {
     "name": "stderr",
     "output_type": "stream",
     "text": [
      "\n",
      " 67%|██████████████████████████▉             | 674/1000 [00:58<00:28, 11.49it/s]\u001b[A\n",
      " 68%|███████████████████████████             | 676/1000 [00:58<00:28, 11.54it/s]\u001b[A"
     ]
    },
    {
     "name": "stdout",
     "output_type": "stream",
     "text": [
      "0.08776569366455078\n",
      "0.08737611770629883\n",
      "0.08277583122253418\n"
     ]
    },
    {
     "name": "stderr",
     "output_type": "stream",
     "text": [
      "\n",
      " 68%|███████████████████████████             | 678/1000 [00:59<00:27, 11.56it/s]\u001b[A"
     ]
    },
    {
     "name": "stdout",
     "output_type": "stream",
     "text": [
      "0.08869791030883789\n",
      "0.08220696449279785\n",
      "0.086761474609375\n"
     ]
    },
    {
     "name": "stderr",
     "output_type": "stream",
     "text": [
      "\n",
      " 68%|███████████████████████████▏            | 680/1000 [00:59<00:27, 11.53it/s]\u001b[A\n",
      " 68%|███████████████████████████▎            | 682/1000 [00:59<00:27, 11.60it/s]\u001b[A"
     ]
    },
    {
     "name": "stdout",
     "output_type": "stream",
     "text": [
      "0.08651328086853027\n",
      "0.08675193786621094\n",
      "0.08219599723815918\n"
     ]
    },
    {
     "name": "stderr",
     "output_type": "stream",
     "text": [
      "\n",
      " 68%|███████████████████████████▎            | 684/1000 [00:59<00:27, 11.59it/s]\u001b[A"
     ]
    },
    {
     "name": "stdout",
     "output_type": "stream",
     "text": [
      "0.08928513526916504\n",
      "0.08231019973754883\n",
      "0.08797073364257812\n"
     ]
    },
    {
     "name": "stderr",
     "output_type": "stream",
     "text": [
      "\n",
      " 69%|███████████████████████████▍            | 686/1000 [00:59<00:27, 11.53it/s]\u001b[A\n",
      " 69%|███████████████████████████▌            | 688/1000 [00:59<00:26, 11.57it/s]\u001b[A"
     ]
    },
    {
     "name": "stdout",
     "output_type": "stream",
     "text": [
      "0.08606481552124023\n",
      "0.08871150016784668\n",
      "0.08208656311035156\n"
     ]
    },
    {
     "name": "stderr",
     "output_type": "stream",
     "text": [
      "\n",
      " 69%|███████████████████████████▌            | 690/1000 [01:00<00:26, 11.57it/s]\u001b[A"
     ]
    },
    {
     "name": "stdout",
     "output_type": "stream",
     "text": [
      "0.08928775787353516\n",
      "0.08249258995056152\n",
      "0.08715653419494629\n"
     ]
    },
    {
     "name": "stderr",
     "output_type": "stream",
     "text": [
      "\n",
      " 69%|███████████████████████████▋            | 692/1000 [01:00<00:26, 11.53it/s]\u001b[A\n",
      " 69%|███████████████████████████▊            | 694/1000 [01:00<00:26, 11.56it/s]\u001b[A"
     ]
    },
    {
     "name": "stdout",
     "output_type": "stream",
     "text": [
      "0.08622169494628906\n",
      "0.08671355247497559\n",
      "0.08386683464050293\n"
     ]
    },
    {
     "name": "stderr",
     "output_type": "stream",
     "text": [
      "\n",
      " 70%|███████████████████████████▊            | 696/1000 [01:00<00:26, 11.53it/s]\u001b[A"
     ]
    },
    {
     "name": "stdout",
     "output_type": "stream",
     "text": [
      "0.08881711959838867\n",
      "0.08437299728393555\n",
      "0.08690690994262695\n"
     ]
    },
    {
     "name": "stderr",
     "output_type": "stream",
     "text": [
      "\n",
      " 70%|███████████████████████████▉            | 698/1000 [01:00<00:26, 11.51it/s]\u001b[A\n",
      " 70%|████████████████████████████            | 700/1000 [01:00<00:26, 11.52it/s]\u001b[A"
     ]
    },
    {
     "name": "stdout",
     "output_type": "stream",
     "text": [
      "0.08661937713623047\n",
      "0.08576369285583496\n",
      "0.0861356258392334\n"
     ]
    },
    {
     "name": "stderr",
     "output_type": "stream",
     "text": [
      "\n",
      " 70%|████████████████████████████            | 702/1000 [01:01<00:26, 11.39it/s]\u001b[A"
     ]
    },
    {
     "name": "stdout",
     "output_type": "stream",
     "text": [
      "0.08495306968688965\n",
      "0.09450936317443848\n",
      "0.08342432975769043\n"
     ]
    },
    {
     "name": "stderr",
     "output_type": "stream",
     "text": [
      "\n",
      " 70%|████████████████████████████▏           | 704/1000 [01:01<00:25, 11.44it/s]\u001b[A\n",
      " 71%|████████████████████████████▏           | 706/1000 [01:01<00:25, 11.44it/s]\u001b[A"
     ]
    },
    {
     "name": "stdout",
     "output_type": "stream",
     "text": [
      "0.08861088752746582\n",
      "0.08673310279846191\n",
      "0.08661317825317383\n"
     ]
    },
    {
     "name": "stderr",
     "output_type": "stream",
     "text": [
      "\n",
      " 71%|████████████████████████████▎           | 708/1000 [01:01<00:25, 11.45it/s]\u001b[A"
     ]
    },
    {
     "name": "stdout",
     "output_type": "stream",
     "text": [
      "0.08673286437988281\n",
      "0.08586597442626953\n",
      "0.08467721939086914\n"
     ]
    },
    {
     "name": "stderr",
     "output_type": "stream",
     "text": [
      "\n",
      " 71%|████████████████████████████▍           | 710/1000 [01:01<00:25, 11.54it/s]\u001b[A\n",
      " 71%|████████████████████████████▍           | 712/1000 [01:01<00:24, 11.54it/s]\u001b[A"
     ]
    },
    {
     "name": "stdout",
     "output_type": "stream",
     "text": [
      "0.08421063423156738\n",
      "0.08809328079223633\n",
      "0.08424782752990723\n"
     ]
    },
    {
     "name": "stderr",
     "output_type": "stream",
     "text": [
      "\n",
      " 71%|████████████████████████████▌           | 714/1000 [01:02<00:24, 11.55it/s]\u001b[A"
     ]
    },
    {
     "name": "stdout",
     "output_type": "stream",
     "text": [
      "0.08948493003845215\n",
      "0.0822744369506836\n",
      "0.08702874183654785\n"
     ]
    },
    {
     "name": "stderr",
     "output_type": "stream",
     "text": [
      "\n",
      " 72%|████████████████████████████▋           | 716/1000 [01:02<00:24, 11.58it/s]\u001b[A\n",
      " 72%|████████████████████████████▋           | 718/1000 [01:02<00:24, 11.60it/s]\u001b[A"
     ]
    },
    {
     "name": "stdout",
     "output_type": "stream",
     "text": [
      "0.08364582061767578\n",
      "0.08632302284240723\n",
      "0.08417630195617676\n"
     ]
    },
    {
     "name": "stderr",
     "output_type": "stream",
     "text": [
      "\n",
      " 72%|████████████████████████████▊           | 720/1000 [01:02<00:24, 11.55it/s]\u001b[A"
     ]
    },
    {
     "name": "stdout",
     "output_type": "stream",
     "text": [
      "0.08761715888977051\n",
      "0.08620619773864746\n",
      "0.08466124534606934\n"
     ]
    },
    {
     "name": "stderr",
     "output_type": "stream",
     "text": [
      "\n",
      " 72%|████████████████████████████▉           | 722/1000 [01:02<00:24, 11.57it/s]\u001b[A\n",
      " 72%|████████████████████████████▉           | 724/1000 [01:02<00:23, 11.65it/s]\u001b[A"
     ]
    },
    {
     "name": "stdout",
     "output_type": "stream",
     "text": [
      "0.08628225326538086\n",
      "0.08297133445739746\n",
      "0.08501124382019043\n"
     ]
    },
    {
     "name": "stderr",
     "output_type": "stream",
     "text": [
      "\n",
      " 73%|█████████████████████████████           | 726/1000 [01:03<00:23, 11.57it/s]\u001b[A"
     ]
    },
    {
     "name": "stdout",
     "output_type": "stream",
     "text": [
      "0.08719158172607422\n",
      "0.08709883689880371\n",
      "0.08391571044921875\n"
     ]
    },
    {
     "name": "stderr",
     "output_type": "stream",
     "text": [
      "\n",
      " 73%|█████████████████████████████           | 728/1000 [01:03<00:23, 11.60it/s]\u001b[A\n",
      " 73%|█████████████████████████████▏          | 730/1000 [01:03<00:23, 11.59it/s]\u001b[A"
     ]
    },
    {
     "name": "stdout",
     "output_type": "stream",
     "text": [
      "0.08639049530029297\n",
      "0.08560323715209961\n",
      "0.08574175834655762\n"
     ]
    },
    {
     "name": "stderr",
     "output_type": "stream",
     "text": [
      "\n",
      " 73%|█████████████████████████████▎          | 732/1000 [01:03<00:23, 11.54it/s]\u001b[A"
     ]
    },
    {
     "name": "stdout",
     "output_type": "stream",
     "text": [
      "0.08689737319946289\n",
      "0.08719277381896973\n",
      "0.08687758445739746\n"
     ]
    },
    {
     "name": "stderr",
     "output_type": "stream",
     "text": [
      "\n",
      " 73%|█████████████████████████████▎          | 734/1000 [01:03<00:23, 11.49it/s]\u001b[A\n",
      " 74%|█████████████████████████████▍          | 736/1000 [01:04<00:22, 11.54it/s]\u001b[A"
     ]
    },
    {
     "name": "stdout",
     "output_type": "stream",
     "text": [
      "0.0874021053314209\n",
      "0.08652496337890625\n",
      "0.08384394645690918\n"
     ]
    },
    {
     "name": "stderr",
     "output_type": "stream",
     "text": [
      "\n",
      " 74%|█████████████████████████████▌          | 738/1000 [01:04<00:22, 11.48it/s]\u001b[A"
     ]
    },
    {
     "name": "stdout",
     "output_type": "stream",
     "text": [
      "0.0882568359375\n",
      "0.08668351173400879\n",
      "0.08710312843322754\n"
     ]
    },
    {
     "name": "stderr",
     "output_type": "stream",
     "text": [
      "\n",
      " 74%|█████████████████████████████▌          | 740/1000 [01:04<00:22, 11.49it/s]\u001b[A\n",
      " 74%|█████████████████████████████▋          | 742/1000 [01:04<00:22, 11.54it/s]\u001b[A"
     ]
    },
    {
     "name": "stdout",
     "output_type": "stream",
     "text": [
      "0.0852961540222168\n",
      "0.08718991279602051\n",
      "0.08317375183105469\n"
     ]
    },
    {
     "name": "stderr",
     "output_type": "stream",
     "text": [
      "\n",
      " 74%|█████████████████████████████▊          | 744/1000 [01:04<00:22, 11.51it/s]\u001b[A"
     ]
    },
    {
     "name": "stdout",
     "output_type": "stream",
     "text": [
      "0.08872032165527344\n",
      "0.08489274978637695\n",
      "0.08601641654968262\n"
     ]
    },
    {
     "name": "stderr",
     "output_type": "stream",
     "text": [
      "\n",
      " 75%|█████████████████████████████▊          | 746/1000 [01:04<00:21, 11.56it/s]\u001b[A\n",
      " 75%|█████████████████████████████▉          | 748/1000 [01:05<00:21, 11.55it/s]\u001b[A"
     ]
    },
    {
     "name": "stdout",
     "output_type": "stream",
     "text": [
      "0.08395218849182129\n",
      "0.08856630325317383\n",
      "0.08345890045166016\n"
     ]
    },
    {
     "name": "stderr",
     "output_type": "stream",
     "text": [
      "\n",
      " 75%|██████████████████████████████          | 750/1000 [01:05<00:21, 11.51it/s]\u001b[A"
     ]
    },
    {
     "name": "stdout",
     "output_type": "stream",
     "text": [
      "0.08970355987548828\n",
      "0.08479094505310059\n",
      "0.08648371696472168\n"
     ]
    },
    {
     "name": "stderr",
     "output_type": "stream",
     "text": [
      "\n",
      " 75%|██████████████████████████████          | 752/1000 [01:05<00:21, 11.55it/s]\u001b[A\n",
      " 75%|██████████████████████████████▏         | 754/1000 [01:05<00:21, 11.54it/s]\u001b[A"
     ]
    },
    {
     "name": "stdout",
     "output_type": "stream",
     "text": [
      "0.08422327041625977\n",
      "0.08933115005493164\n",
      "0.08309412002563477\n"
     ]
    },
    {
     "name": "stderr",
     "output_type": "stream",
     "text": [
      "\n",
      " 76%|██████████████████████████████▏         | 756/1000 [01:05<00:21, 11.51it/s]\u001b[A"
     ]
    },
    {
     "name": "stdout",
     "output_type": "stream",
     "text": [
      "0.08829069137573242\n",
      "0.08522820472717285\n",
      "0.08786392211914062\n"
     ]
    },
    {
     "name": "stderr",
     "output_type": "stream",
     "text": [
      "\n",
      " 76%|██████████████████████████████▎         | 758/1000 [01:05<00:20, 11.53it/s]\u001b[A\n",
      " 76%|██████████████████████████████▍         | 760/1000 [01:06<00:20, 11.56it/s]\u001b[A"
     ]
    },
    {
     "name": "stdout",
     "output_type": "stream",
     "text": [
      "0.08391308784484863\n",
      "0.08858728408813477\n",
      "0.08219170570373535\n"
     ]
    },
    {
     "name": "stderr",
     "output_type": "stream",
     "text": [
      "\n",
      " 76%|██████████████████████████████▍         | 762/1000 [01:06<00:20, 11.51it/s]\u001b[A"
     ]
    },
    {
     "name": "stdout",
     "output_type": "stream",
     "text": [
      "0.08965158462524414\n",
      "0.08490967750549316\n",
      "0.08683347702026367\n"
     ]
    },
    {
     "name": "stderr",
     "output_type": "stream",
     "text": [
      "\n",
      " 76%|██████████████████████████████▌         | 764/1000 [01:06<00:20, 11.54it/s]\u001b[A\n",
      " 77%|██████████████████████████████▋         | 766/1000 [01:06<00:20, 11.53it/s]\u001b[A"
     ]
    },
    {
     "name": "stdout",
     "output_type": "stream",
     "text": [
      "0.0837547779083252\n",
      "0.08768367767333984\n",
      "0.08521914482116699\n"
     ]
    },
    {
     "name": "stderr",
     "output_type": "stream",
     "text": [
      "\n",
      " 77%|██████████████████████████████▋         | 768/1000 [01:06<00:20, 11.52it/s]\u001b[A"
     ]
    },
    {
     "name": "stdout",
     "output_type": "stream",
     "text": [
      "0.08878278732299805\n",
      "0.08377885818481445\n",
      "0.08796119689941406\n"
     ]
    },
    {
     "name": "stderr",
     "output_type": "stream",
     "text": [
      "\n",
      " 77%|██████████████████████████████▊         | 770/1000 [01:06<00:19, 11.52it/s]\u001b[A\n",
      " 77%|██████████████████████████████▉         | 772/1000 [01:07<00:19, 11.51it/s]\u001b[A"
     ]
    },
    {
     "name": "stdout",
     "output_type": "stream",
     "text": [
      "0.08413529396057129\n",
      "0.08820629119873047\n",
      "0.08506298065185547\n"
     ]
    },
    {
     "name": "stderr",
     "output_type": "stream",
     "text": [
      "\n",
      " 77%|██████████████████████████████▉         | 774/1000 [01:07<00:19, 11.54it/s]\u001b[A"
     ]
    },
    {
     "name": "stdout",
     "output_type": "stream",
     "text": [
      "0.08787870407104492\n",
      "0.08305478096008301\n",
      "0.0888831615447998\n"
     ]
    },
    {
     "name": "stderr",
     "output_type": "stream",
     "text": [
      "\n",
      " 78%|███████████████████████████████         | 776/1000 [01:07<00:19, 11.48it/s]\u001b[A\n",
      " 78%|███████████████████████████████         | 778/1000 [01:07<00:19, 11.49it/s]\u001b[A"
     ]
    },
    {
     "name": "stdout",
     "output_type": "stream",
     "text": [
      "0.08646464347839355\n",
      "0.08683586120605469\n",
      "0.08558964729309082\n"
     ]
    },
    {
     "name": "stderr",
     "output_type": "stream",
     "text": [
      "\n",
      " 78%|███████████████████████████████▏        | 780/1000 [01:07<00:19, 11.48it/s]\u001b[A"
     ]
    },
    {
     "name": "stdout",
     "output_type": "stream",
     "text": [
      "0.0875849723815918\n",
      "0.08571982383728027\n",
      "0.08762431144714355\n"
     ]
    },
    {
     "name": "stderr",
     "output_type": "stream",
     "text": [
      "\n",
      " 78%|███████████████████████████████▎        | 782/1000 [01:08<00:19, 11.46it/s]\u001b[A\n",
      " 78%|███████████████████████████████▎        | 784/1000 [01:08<00:18, 11.48it/s]\u001b[A"
     ]
    },
    {
     "name": "stdout",
     "output_type": "stream",
     "text": [
      "0.08638596534729004\n",
      "0.08577466011047363\n",
      "0.08692121505737305\n"
     ]
    },
    {
     "name": "stderr",
     "output_type": "stream",
     "text": [
      "\n",
      " 79%|███████████████████████████████▍        | 786/1000 [01:08<00:18, 11.46it/s]\u001b[A"
     ]
    },
    {
     "name": "stdout",
     "output_type": "stream",
     "text": [
      "0.08687520027160645\n",
      "0.08716320991516113\n",
      "0.08546948432922363\n"
     ]
    },
    {
     "name": "stderr",
     "output_type": "stream",
     "text": [
      "\n",
      " 79%|███████████████████████████████▌        | 788/1000 [01:08<00:18, 11.47it/s]\u001b[A\n",
      " 79%|███████████████████████████████▌        | 790/1000 [01:08<00:18, 11.49it/s]\u001b[A"
     ]
    },
    {
     "name": "stdout",
     "output_type": "stream",
     "text": [
      "0.08722615242004395\n",
      "0.08478641510009766\n",
      "0.08773660659790039\n"
     ]
    },
    {
     "name": "stderr",
     "output_type": "stream",
     "text": [
      "\n",
      " 79%|███████████████████████████████▋        | 792/1000 [01:08<00:18, 11.51it/s]\u001b[A"
     ]
    },
    {
     "name": "stdout",
     "output_type": "stream",
     "text": [
      "0.08520698547363281\n",
      "0.08651542663574219\n",
      "0.08619451522827148\n"
     ]
    },
    {
     "name": "stderr",
     "output_type": "stream",
     "text": [
      "\n",
      " 79%|███████████████████████████████▊        | 794/1000 [01:09<00:17, 11.48it/s]\u001b[A\n",
      " 80%|███████████████████████████████▊        | 796/1000 [01:09<00:17, 11.47it/s]\u001b[A"
     ]
    },
    {
     "name": "stdout",
     "output_type": "stream",
     "text": [
      "0.08801054954528809\n",
      "0.08480668067932129\n",
      "0.08886909484863281\n"
     ]
    },
    {
     "name": "stderr",
     "output_type": "stream",
     "text": [
      "\n",
      " 80%|███████████████████████████████▉        | 798/1000 [01:09<00:17, 11.46it/s]\u001b[A"
     ]
    },
    {
     "name": "stdout",
     "output_type": "stream",
     "text": [
      "0.085205078125\n",
      "0.08870267868041992\n",
      "0.0862722396850586\n"
     ]
    },
    {
     "name": "stderr",
     "output_type": "stream",
     "text": [
      "\n",
      " 80%|████████████████████████████████        | 800/1000 [01:09<00:17, 11.41it/s]\u001b[A\n",
      " 80%|████████████████████████████████        | 802/1000 [01:09<00:17, 11.42it/s]\u001b[A"
     ]
    },
    {
     "name": "stdout",
     "output_type": "stream",
     "text": [
      "0.08925652503967285\n",
      "0.08478450775146484\n",
      "0.08892273902893066\n"
     ]
    },
    {
     "name": "stderr",
     "output_type": "stream",
     "text": [
      "\n",
      " 80%|████████████████████████████████▏       | 804/1000 [01:09<00:17, 11.42it/s]\u001b[A"
     ]
    },
    {
     "name": "stdout",
     "output_type": "stream",
     "text": [
      "0.08617258071899414\n",
      "0.0877525806427002\n",
      "0.08725285530090332\n"
     ]
    },
    {
     "name": "stderr",
     "output_type": "stream",
     "text": [
      "\n",
      " 81%|████████████████████████████████▏       | 806/1000 [01:10<00:16, 11.42it/s]\u001b[A\n",
      " 81%|████████████████████████████████▎       | 808/1000 [01:10<00:16, 11.46it/s]\u001b[A"
     ]
    },
    {
     "name": "stdout",
     "output_type": "stream",
     "text": [
      "0.08652949333190918\n",
      "0.08418798446655273\n",
      "0.08783602714538574\n"
     ]
    },
    {
     "name": "stderr",
     "output_type": "stream",
     "text": [
      "\n",
      " 81%|████████████████████████████████▍       | 810/1000 [01:10<00:16, 11.48it/s]\u001b[A"
     ]
    },
    {
     "name": "stdout",
     "output_type": "stream",
     "text": [
      "0.08554458618164062\n",
      "0.08664560317993164\n",
      "0.08570289611816406\n"
     ]
    },
    {
     "name": "stderr",
     "output_type": "stream",
     "text": [
      "\n",
      " 81%|████████████████████████████████▍       | 812/1000 [01:10<00:16, 11.32it/s]\u001b[A\n",
      " 81%|████████████████████████████████▌       | 814/1000 [01:10<00:16, 11.41it/s]\u001b[A"
     ]
    },
    {
     "name": "stdout",
     "output_type": "stream",
     "text": [
      "0.09577274322509766\n",
      "0.0834658145904541\n",
      "0.08742070198059082\n"
     ]
    },
    {
     "name": "stderr",
     "output_type": "stream",
     "text": [
      "\n",
      " 82%|████████████████████████████████▋       | 816/1000 [01:10<00:16, 11.46it/s]\u001b[A"
     ]
    },
    {
     "name": "stdout",
     "output_type": "stream",
     "text": [
      "0.08552002906799316\n",
      "0.08583474159240723\n",
      "0.08458781242370605\n"
     ]
    },
    {
     "name": "stderr",
     "output_type": "stream",
     "text": [
      "\n",
      " 82%|████████████████████████████████▋       | 818/1000 [01:11<00:15, 11.45it/s]\u001b[A\n",
      " 82%|████████████████████████████████▊       | 820/1000 [01:11<00:15, 11.52it/s]\u001b[A"
     ]
    },
    {
     "name": "stdout",
     "output_type": "stream",
     "text": [
      "0.08942651748657227\n",
      "0.08357930183410645\n",
      "0.08649420738220215\n"
     ]
    },
    {
     "name": "stderr",
     "output_type": "stream",
     "text": [
      "\n",
      " 82%|████████████████████████████████▉       | 822/1000 [01:11<00:15, 11.51it/s]\u001b[A"
     ]
    },
    {
     "name": "stdout",
     "output_type": "stream",
     "text": [
      "0.0867464542388916\n",
      "0.08608889579772949\n",
      "0.08677148818969727\n"
     ]
    },
    {
     "name": "stderr",
     "output_type": "stream",
     "text": [
      "\n",
      " 82%|████████████████████████████████▉       | 824/1000 [01:11<00:15, 11.40it/s]\u001b[A\n",
      " 83%|█████████████████████████████████       | 826/1000 [01:11<00:15, 11.44it/s]\u001b[A"
     ]
    },
    {
     "name": "stdout",
     "output_type": "stream",
     "text": [
      "0.0913553237915039\n",
      "0.08528447151184082\n",
      "0.08672046661376953\n"
     ]
    },
    {
     "name": "stderr",
     "output_type": "stream",
     "text": [
      "\n",
      " 83%|█████████████████████████████████       | 828/1000 [01:12<00:15, 11.37it/s]\u001b[A"
     ]
    },
    {
     "name": "stdout",
     "output_type": "stream",
     "text": [
      "0.09058332443237305\n",
      "0.08651041984558105\n",
      "0.08761024475097656\n"
     ]
    },
    {
     "name": "stderr",
     "output_type": "stream",
     "text": [
      "\n",
      " 83%|█████████████████████████████████▏      | 830/1000 [01:12<00:15, 11.31it/s]\u001b[A\n",
      " 83%|█████████████████████████████████▎      | 832/1000 [01:12<00:14, 11.41it/s]\u001b[A"
     ]
    },
    {
     "name": "stdout",
     "output_type": "stream",
     "text": [
      "0.09017610549926758\n",
      "0.0844278335571289\n",
      "0.08636593818664551\n"
     ]
    },
    {
     "name": "stderr",
     "output_type": "stream",
     "text": [
      "\n",
      " 83%|█████████████████████████████████▎      | 834/1000 [01:12<00:14, 11.36it/s]\u001b[A"
     ]
    },
    {
     "name": "stdout",
     "output_type": "stream",
     "text": [
      "0.08982110023498535\n",
      "0.08662056922912598\n",
      "0.08713650703430176\n"
     ]
    },
    {
     "name": "stderr",
     "output_type": "stream",
     "text": [
      "\n",
      " 84%|█████████████████████████████████▍      | 836/1000 [01:12<00:14, 11.27it/s]\u001b[A\n",
      " 84%|█████████████████████████████████▌      | 838/1000 [01:12<00:14, 11.41it/s]\u001b[A"
     ]
    },
    {
     "name": "stdout",
     "output_type": "stream",
     "text": [
      "0.09213638305664062\n",
      "0.08355569839477539\n",
      "0.08568286895751953\n"
     ]
    },
    {
     "name": "stderr",
     "output_type": "stream",
     "text": [
      "\n",
      " 84%|█████████████████████████████████▌      | 840/1000 [01:13<00:14, 11.38it/s]\u001b[A"
     ]
    },
    {
     "name": "stdout",
     "output_type": "stream",
     "text": [
      "0.08974409103393555\n",
      "0.0859837532043457\n",
      "0.0837240219116211\n"
     ]
    },
    {
     "name": "stderr",
     "output_type": "stream",
     "text": [
      "\n",
      " 84%|█████████████████████████████████▋      | 842/1000 [01:13<00:13, 11.38it/s]\u001b[A\n",
      " 84%|█████████████████████████████████▊      | 844/1000 [01:13<00:13, 11.42it/s]\u001b[A"
     ]
    },
    {
     "name": "stdout",
     "output_type": "stream",
     "text": [
      "0.09064888954162598\n",
      "0.0865943431854248\n",
      "0.08550405502319336\n"
     ]
    },
    {
     "name": "stderr",
     "output_type": "stream",
     "text": [
      "\n",
      " 85%|█████████████████████████████████▊      | 846/1000 [01:13<00:13, 11.37it/s]\u001b[A"
     ]
    },
    {
     "name": "stdout",
     "output_type": "stream",
     "text": [
      "0.08972716331481934\n",
      "0.08657383918762207\n",
      "0.0855710506439209\n"
     ]
    },
    {
     "name": "stderr",
     "output_type": "stream",
     "text": [
      "\n",
      " 85%|█████████████████████████████████▉      | 848/1000 [01:13<00:13, 11.32it/s]\u001b[A\n",
      " 85%|██████████████████████████████████      | 850/1000 [01:13<00:13, 11.39it/s]\u001b[A"
     ]
    },
    {
     "name": "stdout",
     "output_type": "stream",
     "text": [
      "0.09155845642089844\n",
      "0.08605480194091797\n",
      "0.08576178550720215\n"
     ]
    },
    {
     "name": "stderr",
     "output_type": "stream",
     "text": [
      "\n",
      " 85%|██████████████████████████████████      | 852/1000 [01:14<00:13, 11.35it/s]\u001b[A"
     ]
    },
    {
     "name": "stdout",
     "output_type": "stream",
     "text": [
      "0.08898234367370605\n",
      "0.08751821517944336\n",
      "0.08626055717468262\n"
     ]
    },
    {
     "name": "stderr",
     "output_type": "stream",
     "text": [
      "\n",
      " 85%|██████████████████████████████████▏     | 854/1000 [01:14<00:12, 11.29it/s]\u001b[A\n",
      " 86%|██████████████████████████████████▏     | 856/1000 [01:14<00:12, 11.42it/s]\u001b[A"
     ]
    },
    {
     "name": "stdout",
     "output_type": "stream",
     "text": [
      "0.09121942520141602\n",
      "0.08362579345703125\n",
      "0.0857686996459961\n"
     ]
    },
    {
     "name": "stderr",
     "output_type": "stream",
     "text": [
      "\n",
      " 86%|██████████████████████████████████▎     | 858/1000 [01:14<00:12, 11.33it/s]\u001b[A"
     ]
    },
    {
     "name": "stdout",
     "output_type": "stream",
     "text": [
      "0.09171175956726074\n",
      "0.08667135238647461\n",
      "0.08473706245422363\n"
     ]
    },
    {
     "name": "stderr",
     "output_type": "stream",
     "text": [
      "\n",
      " 86%|██████████████████████████████████▍     | 860/1000 [01:14<00:12, 11.35it/s]\u001b[A\n",
      " 86%|██████████████████████████████████▍     | 862/1000 [01:15<00:12, 11.38it/s]\u001b[A"
     ]
    },
    {
     "name": "stdout",
     "output_type": "stream",
     "text": [
      "0.08935976028442383\n",
      "0.08666753768920898\n",
      "0.08688068389892578\n"
     ]
    },
    {
     "name": "stderr",
     "output_type": "stream",
     "text": [
      "\n",
      " 86%|██████████████████████████████████▌     | 864/1000 [01:15<00:11, 11.39it/s]\u001b[A"
     ]
    },
    {
     "name": "stdout",
     "output_type": "stream",
     "text": [
      "0.08909487724304199\n",
      "0.08491706848144531\n",
      "0.08810949325561523\n"
     ]
    },
    {
     "name": "stderr",
     "output_type": "stream",
     "text": [
      "\n",
      " 87%|██████████████████████████████████▋     | 866/1000 [01:15<00:11, 11.31it/s]\u001b[A\n",
      " 87%|██████████████████████████████████▋     | 868/1000 [01:15<00:11, 11.35it/s]\u001b[A"
     ]
    },
    {
     "name": "stdout",
     "output_type": "stream",
     "text": [
      "0.09024190902709961\n",
      "0.08644390106201172\n",
      "0.08689451217651367\n"
     ]
    },
    {
     "name": "stderr",
     "output_type": "stream",
     "text": [
      "\n",
      " 87%|██████████████████████████████████▊     | 870/1000 [01:15<00:11, 11.28it/s]\u001b[A"
     ]
    },
    {
     "name": "stdout",
     "output_type": "stream",
     "text": [
      "0.09134602546691895\n",
      "0.08735466003417969\n",
      "0.08580374717712402\n"
     ]
    },
    {
     "name": "stderr",
     "output_type": "stream",
     "text": [
      "\n",
      " 87%|██████████████████████████████████▉     | 872/1000 [01:15<00:11, 11.23it/s]\u001b[A\n",
      " 87%|██████████████████████████████████▉     | 874/1000 [01:16<00:11, 11.35it/s]\u001b[A"
     ]
    },
    {
     "name": "stdout",
     "output_type": "stream",
     "text": [
      "0.09266948699951172\n",
      "0.08479046821594238\n",
      "0.08584856986999512\n"
     ]
    },
    {
     "name": "stderr",
     "output_type": "stream",
     "text": [
      "\n",
      " 88%|███████████████████████████████████     | 876/1000 [01:16<00:10, 11.35it/s]\u001b[A"
     ]
    },
    {
     "name": "stdout",
     "output_type": "stream",
     "text": [
      "0.08870315551757812\n",
      "0.08609533309936523\n",
      "0.08646965026855469\n"
     ]
    },
    {
     "name": "stderr",
     "output_type": "stream",
     "text": [
      "\n",
      " 88%|███████████████████████████████████     | 878/1000 [01:16<00:10, 11.32it/s]\u001b[A\n",
      " 88%|███████████████████████████████████▏    | 880/1000 [01:16<00:10, 11.39it/s]\u001b[A"
     ]
    },
    {
     "name": "stdout",
     "output_type": "stream",
     "text": [
      "0.08968472480773926\n",
      "0.08530521392822266\n",
      "0.08681654930114746\n"
     ]
    },
    {
     "name": "stderr",
     "output_type": "stream",
     "text": [
      "\n",
      " 88%|███████████████████████████████████▎    | 882/1000 [01:16<00:10, 11.38it/s]\u001b[A"
     ]
    },
    {
     "name": "stdout",
     "output_type": "stream",
     "text": [
      "0.08837771415710449\n",
      "0.08608675003051758\n",
      "0.08672094345092773\n"
     ]
    },
    {
     "name": "stderr",
     "output_type": "stream",
     "text": [
      "\n",
      " 88%|███████████████████████████████████▎    | 884/1000 [01:16<00:10, 11.25it/s]\u001b[A\n",
      " 89%|███████████████████████████████████▍    | 886/1000 [01:17<00:10, 11.32it/s]\u001b[A"
     ]
    },
    {
     "name": "stdout",
     "output_type": "stream",
     "text": [
      "0.09401106834411621\n",
      "0.08689546585083008\n",
      "0.08588767051696777\n"
     ]
    },
    {
     "name": "stderr",
     "output_type": "stream",
     "text": [
      "\n",
      " 89%|███████████████████████████████████▌    | 888/1000 [01:17<00:09, 11.33it/s]\u001b[A"
     ]
    },
    {
     "name": "stdout",
     "output_type": "stream",
     "text": [
      "0.08777618408203125\n",
      "0.08652639389038086\n",
      "0.08642435073852539\n"
     ]
    },
    {
     "name": "stderr",
     "output_type": "stream",
     "text": [
      "\n",
      " 89%|███████████████████████████████████▌    | 890/1000 [01:17<00:09, 11.24it/s]\u001b[A\n",
      " 89%|███████████████████████████████████▋    | 892/1000 [01:17<00:09, 11.33it/s]\u001b[A"
     ]
    },
    {
     "name": "stdout",
     "output_type": "stream",
     "text": [
      "0.09296393394470215\n",
      "0.08695530891418457\n",
      "0.08535099029541016\n"
     ]
    },
    {
     "name": "stderr",
     "output_type": "stream",
     "text": [
      "\n",
      " 89%|███████████████████████████████████▊    | 894/1000 [01:17<00:09, 11.33it/s]\u001b[A"
     ]
    },
    {
     "name": "stdout",
     "output_type": "stream",
     "text": [
      "0.08857035636901855\n",
      "0.08629107475280762\n",
      "0.08531641960144043\n"
     ]
    },
    {
     "name": "stderr",
     "output_type": "stream",
     "text": [
      "\n",
      " 90%|███████████████████████████████████▊    | 896/1000 [01:18<00:09, 11.28it/s]\u001b[A\n",
      " 90%|███████████████████████████████████▉    | 898/1000 [01:18<00:08, 11.37it/s]\u001b[A"
     ]
    },
    {
     "name": "stdout",
     "output_type": "stream",
     "text": [
      "0.09216976165771484\n",
      "0.08630537986755371\n",
      "0.08529329299926758\n"
     ]
    },
    {
     "name": "stderr",
     "output_type": "stream",
     "text": [
      "\n",
      " 90%|████████████████████████████████████    | 900/1000 [01:18<00:08, 11.32it/s]\u001b[A"
     ]
    },
    {
     "name": "stdout",
     "output_type": "stream",
     "text": [
      "0.09208345413208008\n",
      "0.08509564399719238\n",
      "0.08789324760437012\n"
     ]
    },
    {
     "name": "stderr",
     "output_type": "stream",
     "text": [
      "\n",
      " 90%|████████████████████████████████████    | 902/1000 [01:18<00:08, 11.22it/s]\u001b[A\n",
      " 90%|████████████████████████████████████▏   | 904/1000 [01:18<00:08, 11.33it/s]\u001b[A"
     ]
    },
    {
     "name": "stdout",
     "output_type": "stream",
     "text": [
      "0.09268927574157715\n",
      "0.08579683303833008\n",
      "0.08568382263183594\n"
     ]
    },
    {
     "name": "stderr",
     "output_type": "stream",
     "text": [
      "\n",
      " 91%|████████████████████████████████████▏   | 906/1000 [01:18<00:08, 11.29it/s]\u001b[A"
     ]
    },
    {
     "name": "stdout",
     "output_type": "stream",
     "text": [
      "0.09156203269958496\n",
      "0.08520078659057617\n",
      "0.08498907089233398\n"
     ]
    },
    {
     "name": "stderr",
     "output_type": "stream",
     "text": [
      "\n",
      " 91%|████████████████████████████████████▎   | 908/1000 [01:19<00:08, 11.26it/s]\u001b[A\n",
      " 91%|████████████████████████████████████▍   | 910/1000 [01:19<00:07, 11.36it/s]\u001b[A"
     ]
    },
    {
     "name": "stdout",
     "output_type": "stream",
     "text": [
      "0.09190773963928223\n",
      "0.0859982967376709\n",
      "0.08513140678405762\n"
     ]
    },
    {
     "name": "stderr",
     "output_type": "stream",
     "text": [
      "\n",
      " 91%|████████████████████████████████████▍   | 912/1000 [01:19<00:07, 11.32it/s]\u001b[A"
     ]
    },
    {
     "name": "stdout",
     "output_type": "stream",
     "text": [
      "0.08978152275085449\n",
      "0.08695673942565918\n",
      "0.08563756942749023\n"
     ]
    },
    {
     "name": "stderr",
     "output_type": "stream",
     "text": [
      "\n",
      " 91%|████████████████████████████████████▌   | 914/1000 [01:19<00:07, 11.29it/s]\u001b[A\n",
      " 92%|████████████████████████████████████▋   | 916/1000 [01:19<00:07, 11.37it/s]\u001b[A"
     ]
    },
    {
     "name": "stdout",
     "output_type": "stream",
     "text": [
      "0.09084129333496094\n",
      "0.08615612983703613\n",
      "0.08537983894348145\n"
     ]
    },
    {
     "name": "stderr",
     "output_type": "stream",
     "text": [
      "\n",
      " 92%|████████████████████████████████████▋   | 918/1000 [01:19<00:07, 11.39it/s]\u001b[A"
     ]
    },
    {
     "name": "stdout",
     "output_type": "stream",
     "text": [
      "0.08883166313171387\n",
      "0.08518624305725098\n",
      "0.08657121658325195\n"
     ]
    },
    {
     "name": "stderr",
     "output_type": "stream",
     "text": [
      "\n",
      " 92%|████████████████████████████████████▊   | 920/1000 [01:20<00:07, 11.38it/s]\u001b[A\n",
      " 92%|████████████████████████████████████▉   | 922/1000 [01:20<00:06, 11.42it/s]\u001b[A"
     ]
    },
    {
     "name": "stdout",
     "output_type": "stream",
     "text": [
      "0.08770871162414551\n",
      "0.08719730377197266\n",
      "0.08514118194580078\n"
     ]
    },
    {
     "name": "stderr",
     "output_type": "stream",
     "text": [
      "\n",
      " 92%|████████████████████████████████████▉   | 924/1000 [01:20<00:06, 11.28it/s]\u001b[A"
     ]
    },
    {
     "name": "stdout",
     "output_type": "stream",
     "text": [
      "0.09553146362304688\n",
      "0.08527588844299316\n",
      "0.08550143241882324\n"
     ]
    },
    {
     "name": "stderr",
     "output_type": "stream",
     "text": [
      "\n",
      " 93%|█████████████████████████████████████   | 926/1000 [01:20<00:06, 11.31it/s]\u001b[A\n",
      " 93%|█████████████████████████████████████   | 928/1000 [01:20<00:06, 11.39it/s]\u001b[A"
     ]
    },
    {
     "name": "stdout",
     "output_type": "stream",
     "text": [
      "0.08878922462463379\n",
      "0.08708763122558594\n",
      "0.08437204360961914\n"
     ]
    },
    {
     "name": "stderr",
     "output_type": "stream",
     "text": [
      "\n",
      " 93%|█████████████████████████████████████▏  | 930/1000 [01:21<00:06, 11.37it/s]\u001b[A"
     ]
    },
    {
     "name": "stdout",
     "output_type": "stream",
     "text": [
      "0.09055018424987793\n",
      "0.08445525169372559\n",
      "0.08656907081604004\n"
     ]
    },
    {
     "name": "stderr",
     "output_type": "stream",
     "text": [
      "\n",
      " 93%|█████████████████████████████████████▎  | 932/1000 [01:21<00:05, 11.39it/s]\u001b[A\n",
      " 93%|█████████████████████████████████████▎  | 934/1000 [01:21<00:05, 11.44it/s]\u001b[A"
     ]
    },
    {
     "name": "stdout",
     "output_type": "stream",
     "text": [
      "0.0873265266418457\n",
      "0.08729934692382812\n",
      "0.08438515663146973\n"
     ]
    },
    {
     "name": "stderr",
     "output_type": "stream",
     "text": [
      "\n",
      " 94%|█████████████████████████████████████▍  | 936/1000 [01:21<00:05, 11.43it/s]\u001b[A"
     ]
    },
    {
     "name": "stdout",
     "output_type": "stream",
     "text": [
      "0.09032559394836426\n",
      "0.08380246162414551\n",
      "0.08917999267578125\n"
     ]
    },
    {
     "name": "stderr",
     "output_type": "stream",
     "text": [
      "\n",
      " 94%|█████████████████████████████████████▌  | 938/1000 [01:21<00:05, 11.38it/s]\u001b[A\n",
      " 94%|█████████████████████████████████████▌  | 940/1000 [01:21<00:05, 11.47it/s]\u001b[A"
     ]
    },
    {
     "name": "stdout",
     "output_type": "stream",
     "text": [
      "0.08703207969665527\n",
      "0.08604240417480469\n",
      "0.08432626724243164\n"
     ]
    },
    {
     "name": "stderr",
     "output_type": "stream",
     "text": [
      "\n",
      " 94%|█████████████████████████████████████▋  | 942/1000 [01:22<00:05, 11.44it/s]\u001b[A"
     ]
    },
    {
     "name": "stdout",
     "output_type": "stream",
     "text": [
      "0.09047842025756836\n",
      "0.08398747444152832\n",
      "0.08868861198425293\n"
     ]
    },
    {
     "name": "stderr",
     "output_type": "stream",
     "text": [
      "\n",
      " 94%|█████████████████████████████████████▊  | 944/1000 [01:22<00:04, 11.40it/s]\u001b[A\n",
      " 95%|█████████████████████████████████████▊  | 946/1000 [01:22<00:04, 11.48it/s]\u001b[A"
     ]
    },
    {
     "name": "stdout",
     "output_type": "stream",
     "text": [
      "0.08731269836425781\n",
      "0.08684515953063965\n",
      "0.08348917961120605\n"
     ]
    },
    {
     "name": "stderr",
     "output_type": "stream",
     "text": [
      "\n",
      " 95%|█████████████████████████████████████▉  | 948/1000 [01:22<00:04, 11.32it/s]\u001b[A"
     ]
    },
    {
     "name": "stdout",
     "output_type": "stream",
     "text": [
      "0.09424185752868652\n",
      "0.08674073219299316\n",
      "0.08974599838256836\n"
     ]
    },
    {
     "name": "stderr",
     "output_type": "stream",
     "text": [
      "\n",
      " 95%|██████████████████████████████████████  | 950/1000 [01:22<00:04, 11.27it/s]\u001b[A\n",
      " 95%|██████████████████████████████████████  | 952/1000 [01:22<00:04, 11.33it/s]\u001b[A"
     ]
    },
    {
     "name": "stdout",
     "output_type": "stream",
     "text": [
      "0.08832359313964844\n",
      "0.08925724029541016\n",
      "0.08429312705993652\n"
     ]
    },
    {
     "name": "stderr",
     "output_type": "stream",
     "text": [
      "\n",
      " 95%|██████████████████████████████████████▏ | 954/1000 [01:23<00:04, 11.34it/s]\u001b[A"
     ]
    },
    {
     "name": "stdout",
     "output_type": "stream",
     "text": [
      "0.09065032005310059\n",
      "0.0841822624206543\n",
      "0.08851146697998047\n"
     ]
    },
    {
     "name": "stderr",
     "output_type": "stream",
     "text": [
      "\n",
      " 96%|██████████████████████████████████████▏ | 956/1000 [01:23<00:03, 11.32it/s]\u001b[A\n",
      " 96%|██████████████████████████████████████▎ | 958/1000 [01:23<00:03, 11.41it/s]\u001b[A"
     ]
    },
    {
     "name": "stdout",
     "output_type": "stream",
     "text": [
      "0.0876011848449707\n",
      "0.08664298057556152\n",
      "0.08434367179870605\n"
     ]
    },
    {
     "name": "stderr",
     "output_type": "stream",
     "text": [
      "\n",
      " 96%|██████████████████████████████████████▍ | 960/1000 [01:23<00:03, 11.40it/s]\u001b[A"
     ]
    },
    {
     "name": "stdout",
     "output_type": "stream",
     "text": [
      "0.09058332443237305\n",
      "0.08431291580200195\n",
      "0.08830118179321289\n"
     ]
    },
    {
     "name": "stderr",
     "output_type": "stream",
     "text": [
      "\n",
      " 96%|██████████████████████████████████████▍ | 962/1000 [01:23<00:03, 11.37it/s]\u001b[A\n",
      " 96%|██████████████████████████████████████▌ | 964/1000 [01:24<00:03, 11.43it/s]\u001b[A"
     ]
    },
    {
     "name": "stdout",
     "output_type": "stream",
     "text": [
      "0.08748626708984375\n",
      "0.08832406997680664\n",
      "0.08352470397949219\n"
     ]
    },
    {
     "name": "stderr",
     "output_type": "stream",
     "text": [
      "\n",
      " 97%|██████████████████████████████████████▋ | 966/1000 [01:24<00:02, 11.41it/s]\u001b[A"
     ]
    },
    {
     "name": "stdout",
     "output_type": "stream",
     "text": [
      "0.09162712097167969\n",
      "0.0834054946899414\n",
      "0.08720827102661133\n"
     ]
    },
    {
     "name": "stderr",
     "output_type": "stream",
     "text": [
      "\n",
      " 97%|██████████████████████████████████████▋ | 968/1000 [01:24<00:02, 11.41it/s]\u001b[A\n",
      " 97%|██████████████████████████████████████▊ | 970/1000 [01:24<00:02, 11.44it/s]\u001b[A"
     ]
    },
    {
     "name": "stdout",
     "output_type": "stream",
     "text": [
      "0.08720135688781738\n",
      "0.08892321586608887\n",
      "0.08325862884521484\n"
     ]
    },
    {
     "name": "stderr",
     "output_type": "stream",
     "text": [
      "\n",
      " 97%|██████████████████████████████████████▉ | 972/1000 [01:24<00:02, 11.41it/s]\u001b[A"
     ]
    },
    {
     "name": "stdout",
     "output_type": "stream",
     "text": [
      "0.09118390083312988\n",
      "0.08402538299560547\n",
      "0.08833980560302734\n"
     ]
    },
    {
     "name": "stderr",
     "output_type": "stream",
     "text": [
      "\n",
      " 97%|██████████████████████████████████████▉ | 974/1000 [01:24<00:02, 11.38it/s]\u001b[A\n",
      " 98%|███████████████████████████████████████ | 976/1000 [01:25<00:02, 11.44it/s]\u001b[A"
     ]
    },
    {
     "name": "stdout",
     "output_type": "stream",
     "text": [
      "0.0872809886932373\n",
      "0.0875856876373291\n",
      "0.08395934104919434\n"
     ]
    },
    {
     "name": "stderr",
     "output_type": "stream",
     "text": [
      "\n",
      " 98%|███████████████████████████████████████ | 978/1000 [01:25<00:01, 11.43it/s]\u001b[A"
     ]
    },
    {
     "name": "stdout",
     "output_type": "stream",
     "text": [
      "0.09034967422485352\n",
      "0.08353447914123535\n",
      "0.08793473243713379\n"
     ]
    },
    {
     "name": "stderr",
     "output_type": "stream",
     "text": [
      "\n",
      " 98%|███████████████████████████████████████▏| 980/1000 [01:25<00:01, 11.40it/s]\u001b[A\n",
      " 98%|███████████████████████████████████████▎| 982/1000 [01:25<00:01, 11.40it/s]\u001b[A"
     ]
    },
    {
     "name": "stdout",
     "output_type": "stream",
     "text": [
      "0.08761072158813477\n",
      "0.08987808227539062\n",
      "0.08427023887634277\n"
     ]
    },
    {
     "name": "stderr",
     "output_type": "stream",
     "text": [
      "\n",
      " 98%|███████████████████████████████████████▎| 984/1000 [01:25<00:01, 11.38it/s]\u001b[A"
     ]
    },
    {
     "name": "stdout",
     "output_type": "stream",
     "text": [
      "0.09138178825378418\n",
      "0.08429884910583496\n",
      "0.0883340835571289\n"
     ]
    },
    {
     "name": "stderr",
     "output_type": "stream",
     "text": [
      "\n",
      " 99%|███████████████████████████████████████▍| 986/1000 [01:25<00:01, 11.35it/s]\u001b[A\n",
      " 99%|███████████████████████████████████████▌| 988/1000 [01:26<00:01, 11.36it/s]\u001b[A"
     ]
    },
    {
     "name": "stdout",
     "output_type": "stream",
     "text": [
      "0.08754491806030273\n",
      "0.0903778076171875\n",
      "0.08401155471801758\n"
     ]
    },
    {
     "name": "stderr",
     "output_type": "stream",
     "text": [
      "\n",
      " 99%|███████████████████████████████████████▌| 990/1000 [01:26<00:00, 11.36it/s]\u001b[A"
     ]
    },
    {
     "name": "stdout",
     "output_type": "stream",
     "text": [
      "0.0910940170288086\n",
      "0.08382725715637207\n",
      "0.09063243865966797\n"
     ]
    },
    {
     "name": "stderr",
     "output_type": "stream",
     "text": [
      "\n",
      " 99%|███████████████████████████████████████▋| 992/1000 [01:26<00:00, 11.28it/s]\u001b[A\n",
      " 99%|███████████████████████████████████████▊| 994/1000 [01:26<00:00, 11.30it/s]\u001b[A"
     ]
    },
    {
     "name": "stdout",
     "output_type": "stream",
     "text": [
      "0.08838820457458496\n",
      "0.0894010066986084\n",
      "0.08575701713562012\n"
     ]
    },
    {
     "name": "stderr",
     "output_type": "stream",
     "text": [
      "\n",
      "100%|███████████████████████████████████████▊| 996/1000 [01:26<00:00, 11.32it/s]\u001b[A"
     ]
    },
    {
     "name": "stdout",
     "output_type": "stream",
     "text": [
      "0.09069681167602539\n",
      "0.08429074287414551\n",
      "0.08757233619689941\n"
     ]
    },
    {
     "name": "stderr",
     "output_type": "stream",
     "text": [
      "\n",
      "100%|███████████████████████████████████████▉| 998/1000 [01:27<00:00, 11.35it/s]\u001b[A\n",
      "100%|███████████████████████████████████████| 1000/1000 [01:27<00:00, 11.47it/s]\u001b[A\n",
      " 60%|███████████████████████████                  | 3/5 [04:22<02:55, 87.54s/it]"
     ]
    },
    {
     "name": "stdout",
     "output_type": "stream",
     "text": [
      "0.08630156517028809\n",
      "0.08976173400878906\n",
      "0.08421564102172852\n",
      "One run completed\n"
     ]
    },
    {
     "name": "stderr",
     "output_type": "stream",
     "text": [
      "\n",
      "  0%|                                                  | 0/1000 [00:00<?, ?it/s]\u001b[A\n",
      "  0%|                                          | 2/1000 [00:00<01:27, 11.46it/s]\u001b[A"
     ]
    },
    {
     "name": "stdout",
     "output_type": "stream",
     "text": [
      "0.0886087417602539\n",
      "0.08574628829956055\n",
      "0.08817863464355469\n"
     ]
    },
    {
     "name": "stderr",
     "output_type": "stream",
     "text": [
      "\n",
      "  0%|▏                                         | 4/1000 [00:00<01:27, 11.44it/s]\u001b[A\n",
      "  1%|▎                                         | 6/1000 [00:00<01:27, 11.40it/s]\u001b[A"
     ]
    },
    {
     "name": "stdout",
     "output_type": "stream",
     "text": [
      "0.0856485366821289\n",
      "0.09055471420288086\n",
      "0.08443474769592285\n"
     ]
    },
    {
     "name": "stderr",
     "output_type": "stream",
     "text": [
      "\n",
      "  1%|▎                                         | 8/1000 [00:00<01:26, 11.40it/s]\u001b[A"
     ]
    },
    {
     "name": "stdout",
     "output_type": "stream",
     "text": [
      "0.08807682991027832\n",
      "0.08612465858459473\n",
      "0.08770418167114258\n"
     ]
    },
    {
     "name": "stderr",
     "output_type": "stream",
     "text": [
      "\n",
      "  1%|▍                                        | 10/1000 [00:00<01:26, 11.40it/s]\u001b[A\n",
      "  1%|▍                                        | 12/1000 [00:01<01:26, 11.40it/s]\u001b[A"
     ]
    },
    {
     "name": "stdout",
     "output_type": "stream",
     "text": [
      "0.08667492866516113\n",
      "0.08762001991271973\n",
      "0.08662748336791992\n"
     ]
    },
    {
     "name": "stderr",
     "output_type": "stream",
     "text": [
      "\n",
      "  1%|▌                                        | 14/1000 [00:01<01:26, 11.42it/s]\u001b[A"
     ]
    },
    {
     "name": "stdout",
     "output_type": "stream",
     "text": [
      "0.08668994903564453\n",
      "0.08706951141357422\n",
      "0.08669662475585938\n"
     ]
    },
    {
     "name": "stderr",
     "output_type": "stream",
     "text": [
      "\n",
      "  2%|▋                                        | 16/1000 [00:01<01:26, 11.41it/s]\u001b[A\n",
      "  2%|▋                                        | 18/1000 [00:01<01:26, 11.39it/s]\u001b[A"
     ]
    },
    {
     "name": "stdout",
     "output_type": "stream",
     "text": [
      "0.08781051635742188\n",
      "0.08731341361999512\n",
      "0.08760452270507812\n"
     ]
    },
    {
     "name": "stderr",
     "output_type": "stream",
     "text": [
      "\n",
      "  2%|▊                                        | 20/1000 [00:01<01:25, 11.40it/s]\u001b[A"
     ]
    },
    {
     "name": "stdout",
     "output_type": "stream",
     "text": [
      "0.08547258377075195\n",
      "0.08864212036132812\n",
      "0.08464384078979492\n"
     ]
    },
    {
     "name": "stderr",
     "output_type": "stream",
     "text": [
      "\n",
      "  2%|▉                                        | 22/1000 [00:01<01:25, 11.44it/s]\u001b[A\n",
      "  2%|▉                                        | 24/1000 [00:02<01:25, 11.45it/s]\u001b[A"
     ]
    },
    {
     "name": "stdout",
     "output_type": "stream",
     "text": [
      "0.08780670166015625\n",
      "0.08646321296691895\n",
      "0.08655071258544922\n"
     ]
    },
    {
     "name": "stderr",
     "output_type": "stream",
     "text": [
      "\n",
      "  3%|█                                        | 26/1000 [00:02<01:25, 11.44it/s]\u001b[A"
     ]
    },
    {
     "name": "stdout",
     "output_type": "stream",
     "text": [
      "0.08495879173278809\n",
      "0.08925509452819824\n",
      "0.08502197265625\n"
     ]
    },
    {
     "name": "stderr",
     "output_type": "stream",
     "text": [
      "\n",
      "  3%|█▏                                       | 28/1000 [00:02<01:25, 11.43it/s]\u001b[A\n",
      "  3%|█▏                                       | 30/1000 [00:02<01:24, 11.42it/s]\u001b[A"
     ]
    },
    {
     "name": "stdout",
     "output_type": "stream",
     "text": [
      "0.0890355110168457\n",
      "0.08703136444091797\n",
      "0.08746504783630371\n"
     ]
    },
    {
     "name": "stderr",
     "output_type": "stream",
     "text": [
      "\n",
      "  3%|█▎                                       | 32/1000 [00:02<01:24, 11.42it/s]\u001b[A"
     ]
    },
    {
     "name": "stdout",
     "output_type": "stream",
     "text": [
      "0.08518290519714355\n",
      "0.08904576301574707\n",
      "0.08438539505004883\n"
     ]
    },
    {
     "name": "stderr",
     "output_type": "stream",
     "text": [
      "\n",
      "  3%|█▍                                       | 34/1000 [00:02<01:25, 11.34it/s]\u001b[A"
     ]
    },
    {
     "name": "stdout",
     "output_type": "stream",
     "text": [
      "0.09344744682312012\n"
     ]
    },
    {
     "name": "stderr",
     "output_type": "stream",
     "text": [
      "\n",
      "  4%|█▍                                       | 36/1000 [00:03<01:46,  9.06it/s]\u001b[A"
     ]
    },
    {
     "name": "stdout",
     "output_type": "stream",
     "text": [
      "0.23384571075439453\n",
      "0.08896327018737793\n",
      "0.08900141716003418\n"
     ]
    },
    {
     "name": "stderr",
     "output_type": "stream",
     "text": [
      "\n",
      "  4%|█▌                                       | 38/1000 [00:03<01:40,  9.62it/s]\u001b[A\n",
      "  4%|█▋                                       | 40/1000 [00:03<01:35, 10.09it/s]\u001b[A"
     ]
    },
    {
     "name": "stdout",
     "output_type": "stream",
     "text": [
      "0.08800864219665527\n",
      "0.08761000633239746\n",
      "0.08701276779174805\n"
     ]
    },
    {
     "name": "stderr",
     "output_type": "stream",
     "text": [
      "\n",
      "  4%|█▋                                       | 42/1000 [00:03<01:31, 10.46it/s]\u001b[A"
     ]
    },
    {
     "name": "stdout",
     "output_type": "stream",
     "text": [
      "0.08841061592102051\n",
      "0.08542013168334961\n",
      "0.0883493423461914\n"
     ]
    },
    {
     "name": "stderr",
     "output_type": "stream",
     "text": [
      "\n",
      "  4%|█▊                                       | 44/1000 [00:04<01:28, 10.75it/s]\u001b[A\n",
      "  5%|█▉                                       | 46/1000 [00:04<01:26, 10.98it/s]\u001b[A"
     ]
    },
    {
     "name": "stdout",
     "output_type": "stream",
     "text": [
      "0.08469414710998535\n",
      "0.08690476417541504\n",
      "0.08491110801696777\n"
     ]
    },
    {
     "name": "stderr",
     "output_type": "stream",
     "text": [
      "\n",
      "  5%|█▉                                       | 48/1000 [00:04<01:25, 11.16it/s]\u001b[A"
     ]
    },
    {
     "name": "stdout",
     "output_type": "stream",
     "text": [
      "0.08806872367858887\n",
      "0.08318924903869629\n",
      "0.08982610702514648\n"
     ]
    },
    {
     "name": "stderr",
     "output_type": "stream",
     "text": [
      "\n",
      "  5%|██                                       | 50/1000 [00:04<01:24, 11.22it/s]\u001b[A\n",
      "  5%|██▏                                      | 52/1000 [00:04<01:24, 11.27it/s]\u001b[A"
     ]
    },
    {
     "name": "stdout",
     "output_type": "stream",
     "text": [
      "0.08506321907043457\n",
      "0.08845686912536621\n",
      "0.0860440731048584\n"
     ]
    },
    {
     "name": "stderr",
     "output_type": "stream",
     "text": [
      "\n",
      "  5%|██▏                                      | 54/1000 [00:04<01:23, 11.37it/s]\u001b[A"
     ]
    },
    {
     "name": "stdout",
     "output_type": "stream",
     "text": [
      "0.08750510215759277\n",
      "0.08374452590942383\n",
      "0.08865118026733398\n"
     ]
    },
    {
     "name": "stderr",
     "output_type": "stream",
     "text": [
      "\n",
      "  6%|██▎                                      | 56/1000 [00:05<01:22, 11.38it/s]\u001b[A\n",
      "  6%|██▍                                      | 58/1000 [00:05<01:22, 11.41it/s]\u001b[A"
     ]
    },
    {
     "name": "stdout",
     "output_type": "stream",
     "text": [
      "0.08559560775756836\n",
      "0.08800864219665527\n",
      "0.08503031730651855\n"
     ]
    },
    {
     "name": "stderr",
     "output_type": "stream",
     "text": [
      "\n",
      "  6%|██▍                                      | 60/1000 [00:05<01:22, 11.42it/s]\u001b[A"
     ]
    },
    {
     "name": "stdout",
     "output_type": "stream",
     "text": [
      "0.08920955657958984\n",
      "0.08427715301513672\n",
      "0.09043741226196289\n"
     ]
    },
    {
     "name": "stderr",
     "output_type": "stream",
     "text": [
      "\n",
      "  6%|██▌                                      | 62/1000 [00:05<01:22, 11.38it/s]\u001b[A\n",
      "  6%|██▌                                      | 64/1000 [00:05<01:22, 11.38it/s]\u001b[A"
     ]
    },
    {
     "name": "stdout",
     "output_type": "stream",
     "text": [
      "0.08556127548217773\n",
      "0.08944034576416016\n",
      "0.08495593070983887\n"
     ]
    },
    {
     "name": "stderr",
     "output_type": "stream",
     "text": [
      "\n",
      "  7%|██▋                                      | 66/1000 [00:05<01:22, 11.37it/s]\u001b[A"
     ]
    },
    {
     "name": "stdout",
     "output_type": "stream",
     "text": [
      "0.090728759765625\n",
      "0.08389568328857422\n",
      "0.08976268768310547\n"
     ]
    },
    {
     "name": "stderr",
     "output_type": "stream",
     "text": [
      "\n",
      "  7%|██▊                                      | 68/1000 [00:06<01:21, 11.37it/s]\u001b[A\n",
      "  7%|██▊                                      | 70/1000 [00:06<01:21, 11.36it/s]\u001b[A"
     ]
    },
    {
     "name": "stdout",
     "output_type": "stream",
     "text": [
      "0.08502507209777832\n",
      "0.08952069282531738\n",
      "0.08550524711608887\n"
     ]
    },
    {
     "name": "stderr",
     "output_type": "stream",
     "text": [
      "\n",
      "  7%|██▉                                      | 72/1000 [00:06<01:21, 11.34it/s]\u001b[A"
     ]
    },
    {
     "name": "stdout",
     "output_type": "stream",
     "text": [
      "0.0913233757019043\n",
      "0.08452892303466797\n",
      "0.08750343322753906\n"
     ]
    },
    {
     "name": "stderr",
     "output_type": "stream",
     "text": [
      "\n",
      "  7%|███                                      | 74/1000 [00:06<01:21, 11.38it/s]\u001b[A\n",
      "  8%|███                                      | 76/1000 [00:06<01:20, 11.43it/s]\u001b[A"
     ]
    },
    {
     "name": "stdout",
     "output_type": "stream",
     "text": [
      "0.08565831184387207\n",
      "0.08791708946228027\n",
      "0.08413147926330566\n"
     ]
    },
    {
     "name": "stderr",
     "output_type": "stream",
     "text": [
      "\n",
      "  8%|███▏                                     | 78/1000 [00:06<01:20, 11.42it/s]\u001b[A"
     ]
    },
    {
     "name": "stdout",
     "output_type": "stream",
     "text": [
      "0.08995699882507324\n",
      "0.08431458473205566\n",
      "0.08824658393859863\n"
     ]
    },
    {
     "name": "stderr",
     "output_type": "stream",
     "text": [
      "\n",
      "  8%|███▎                                     | 80/1000 [00:07<01:20, 11.40it/s]\u001b[A\n",
      "  8%|███▎                                     | 82/1000 [00:07<01:20, 11.43it/s]\u001b[A"
     ]
    },
    {
     "name": "stdout",
     "output_type": "stream",
     "text": [
      "0.08713030815124512\n",
      "0.08736109733581543\n",
      "0.08514881134033203\n"
     ]
    },
    {
     "name": "stderr",
     "output_type": "stream",
     "text": [
      "\n",
      "  8%|███▍                                     | 84/1000 [00:07<01:20, 11.36it/s]\u001b[A"
     ]
    },
    {
     "name": "stdout",
     "output_type": "stream",
     "text": [
      "0.09017205238342285\n",
      "0.08745980262756348\n",
      "0.08850622177124023\n"
     ]
    },
    {
     "name": "stderr",
     "output_type": "stream",
     "text": [
      "\n",
      "  9%|███▌                                     | 86/1000 [00:07<01:20, 11.35it/s]\u001b[A\n",
      "  9%|███▌                                     | 88/1000 [00:07<01:19, 11.41it/s]\u001b[A"
     ]
    },
    {
     "name": "stdout",
     "output_type": "stream",
     "text": [
      "0.08693790435791016\n",
      "0.08709931373596191\n",
      "0.08491134643554688\n"
     ]
    },
    {
     "name": "stderr",
     "output_type": "stream",
     "text": [
      "\n",
      "  9%|███▋                                     | 90/1000 [00:08<01:19, 11.45it/s]\u001b[A"
     ]
    },
    {
     "name": "stdout",
     "output_type": "stream",
     "text": [
      "0.08815598487854004\n",
      "0.08393120765686035\n",
      "0.08585405349731445\n"
     ]
    },
    {
     "name": "stderr",
     "output_type": "stream",
     "text": [
      "\n",
      "  9%|███▊                                     | 92/1000 [00:08<01:19, 11.45it/s]\u001b[A\n",
      "  9%|███▊                                     | 94/1000 [00:08<01:19, 11.43it/s]\u001b[A"
     ]
    },
    {
     "name": "stdout",
     "output_type": "stream",
     "text": [
      "0.08797883987426758\n",
      "0.08738327026367188\n",
      "0.08720159530639648\n"
     ]
    },
    {
     "name": "stderr",
     "output_type": "stream",
     "text": [
      "\n",
      " 10%|███▉                                     | 96/1000 [00:08<01:19, 11.43it/s]\u001b[A"
     ]
    },
    {
     "name": "stdout",
     "output_type": "stream",
     "text": [
      "0.08874845504760742\n",
      "0.08492660522460938\n",
      "0.08450150489807129\n"
     ]
    },
    {
     "name": "stderr",
     "output_type": "stream",
     "text": [
      "\n",
      " 10%|████                                     | 98/1000 [00:08<01:18, 11.44it/s]\u001b[A\n",
      " 10%|████                                    | 100/1000 [00:08<01:18, 11.44it/s]\u001b[A"
     ]
    },
    {
     "name": "stdout",
     "output_type": "stream",
     "text": [
      "0.08865976333618164\n",
      "0.08522796630859375\n",
      "0.08840346336364746\n"
     ]
    },
    {
     "name": "stderr",
     "output_type": "stream",
     "text": [
      "\n",
      " 10%|████                                    | 102/1000 [00:09<01:18, 11.42it/s]\u001b[A"
     ]
    },
    {
     "name": "stdout",
     "output_type": "stream",
     "text": [
      "0.08802986145019531\n",
      "0.08645868301391602\n",
      "0.08820152282714844\n"
     ]
    },
    {
     "name": "stderr",
     "output_type": "stream",
     "text": [
      "\n",
      " 10%|████▏                                   | 104/1000 [00:09<01:18, 11.41it/s]\u001b[A\n",
      " 11%|████▏                                   | 106/1000 [00:09<01:18, 11.43it/s]\u001b[A"
     ]
    },
    {
     "name": "stdout",
     "output_type": "stream",
     "text": [
      "0.0861823558807373\n",
      "0.08843660354614258\n",
      "0.08452081680297852\n"
     ]
    },
    {
     "name": "stderr",
     "output_type": "stream",
     "text": [
      "\n",
      " 11%|████▎                                   | 108/1000 [00:09<01:18, 11.42it/s]\u001b[A"
     ]
    },
    {
     "name": "stdout",
     "output_type": "stream",
     "text": [
      "0.09040212631225586\n",
      "0.08397293090820312\n",
      "0.09013485908508301\n"
     ]
    },
    {
     "name": "stderr",
     "output_type": "stream",
     "text": [
      "\n",
      " 11%|████▍                                   | 110/1000 [00:09<01:18, 11.37it/s]\u001b[A\n",
      " 11%|████▍                                   | 112/1000 [00:09<01:17, 11.40it/s]\u001b[A"
     ]
    },
    {
     "name": "stdout",
     "output_type": "stream",
     "text": [
      "0.08635354042053223\n",
      "0.08744502067565918\n",
      "0.08598756790161133\n"
     ]
    },
    {
     "name": "stderr",
     "output_type": "stream",
     "text": [
      "\n",
      " 11%|████▌                                   | 114/1000 [00:10<01:17, 11.45it/s]\u001b[A"
     ]
    },
    {
     "name": "stdout",
     "output_type": "stream",
     "text": [
      "0.08800721168518066\n",
      "0.08370661735534668\n",
      "0.0874776840209961\n"
     ]
    },
    {
     "name": "stderr",
     "output_type": "stream",
     "text": [
      "\n",
      " 12%|████▋                                   | 116/1000 [00:10<01:17, 11.46it/s]\u001b[A\n",
      " 12%|████▋                                   | 118/1000 [00:10<01:17, 11.44it/s]\u001b[A"
     ]
    },
    {
     "name": "stdout",
     "output_type": "stream",
     "text": [
      "0.0854790210723877\n",
      "0.08667111396789551\n",
      "0.08738279342651367\n"
     ]
    },
    {
     "name": "stderr",
     "output_type": "stream",
     "text": [
      "\n",
      " 12%|████▊                                   | 120/1000 [00:10<01:16, 11.44it/s]\u001b[A"
     ]
    },
    {
     "name": "stdout",
     "output_type": "stream",
     "text": [
      "0.0870363712310791\n",
      "0.08660006523132324\n",
      "0.08747577667236328\n"
     ]
    },
    {
     "name": "stderr",
     "output_type": "stream",
     "text": [
      "\n",
      " 12%|████▉                                   | 122/1000 [00:10<01:16, 11.44it/s]\u001b[A\n",
      " 12%|████▉                                   | 124/1000 [00:11<01:16, 11.46it/s]\u001b[A"
     ]
    },
    {
     "name": "stdout",
     "output_type": "stream",
     "text": [
      "0.08623075485229492\n",
      "0.08527588844299316\n",
      "0.08755922317504883\n"
     ]
    },
    {
     "name": "stderr",
     "output_type": "stream",
     "text": [
      "\n",
      " 13%|█████                                   | 126/1000 [00:11<01:16, 11.46it/s]\u001b[A"
     ]
    },
    {
     "name": "stdout",
     "output_type": "stream",
     "text": [
      "0.08646750450134277\n",
      "0.08654642105102539\n",
      "0.0866398811340332\n"
     ]
    },
    {
     "name": "stderr",
     "output_type": "stream",
     "text": [
      "\n",
      " 13%|█████                                   | 128/1000 [00:11<01:16, 11.45it/s]\u001b[A\n",
      " 13%|█████▏                                  | 130/1000 [00:11<01:16, 11.42it/s]\u001b[A"
     ]
    },
    {
     "name": "stdout",
     "output_type": "stream",
     "text": [
      "0.0873565673828125\n",
      "0.08665060997009277\n",
      "0.08841133117675781\n"
     ]
    },
    {
     "name": "stderr",
     "output_type": "stream",
     "text": [
      "\n",
      " 13%|█████▎                                  | 132/1000 [00:11<01:15, 11.43it/s]\u001b[A"
     ]
    },
    {
     "name": "stdout",
     "output_type": "stream",
     "text": [
      "0.08648252487182617\n",
      "0.0870351791381836\n",
      "0.08605670928955078\n"
     ]
    },
    {
     "name": "stderr",
     "output_type": "stream",
     "text": [
      "\n",
      " 13%|█████▎                                  | 134/1000 [00:11<01:17, 11.24it/s]\u001b[A\n",
      " 14%|█████▍                                  | 136/1000 [00:12<01:16, 11.29it/s]\u001b[A"
     ]
    },
    {
     "name": "stdout",
     "output_type": "stream",
     "text": [
      "0.09760117530822754\n",
      "0.08593249320983887\n",
      "0.0885918140411377\n"
     ]
    },
    {
     "name": "stderr",
     "output_type": "stream",
     "text": [
      "\n",
      " 14%|█████▌                                  | 138/1000 [00:12<01:16, 11.31it/s]\u001b[A"
     ]
    },
    {
     "name": "stdout",
     "output_type": "stream",
     "text": [
      "0.08618545532226562\n",
      "0.08859753608703613\n",
      "0.08807039260864258\n"
     ]
    },
    {
     "name": "stderr",
     "output_type": "stream",
     "text": [
      "\n",
      " 14%|█████▌                                  | 140/1000 [00:12<01:16, 11.31it/s]\u001b[A\n",
      " 14%|█████▋                                  | 142/1000 [00:12<01:15, 11.36it/s]\u001b[A"
     ]
    },
    {
     "name": "stdout",
     "output_type": "stream",
     "text": [
      "0.0876302719116211\n",
      "0.08530116081237793\n",
      "0.08803009986877441\n"
     ]
    },
    {
     "name": "stderr",
     "output_type": "stream",
     "text": [
      "\n",
      " 14%|█████▊                                  | 144/1000 [00:12<01:15, 11.39it/s]\u001b[A"
     ]
    },
    {
     "name": "stdout",
     "output_type": "stream",
     "text": [
      "0.08615589141845703\n",
      "0.08690023422241211\n",
      "0.08736586570739746\n"
     ]
    },
    {
     "name": "stderr",
     "output_type": "stream",
     "text": [
      "\n",
      " 15%|█████▊                                  | 146/1000 [00:12<01:14, 11.40it/s]\u001b[A\n",
      " 15%|█████▉                                  | 148/1000 [00:13<01:14, 11.41it/s]\u001b[A"
     ]
    },
    {
     "name": "stdout",
     "output_type": "stream",
     "text": [
      "0.08684992790222168\n",
      "0.08468484878540039\n",
      "0.08885979652404785\n"
     ]
    },
    {
     "name": "stderr",
     "output_type": "stream",
     "text": [
      "\n",
      " 15%|██████                                  | 150/1000 [00:13<01:14, 11.39it/s]\u001b[A"
     ]
    },
    {
     "name": "stdout",
     "output_type": "stream",
     "text": [
      "0.08591794967651367\n",
      "0.08931207656860352\n",
      "0.08813166618347168\n"
     ]
    },
    {
     "name": "stderr",
     "output_type": "stream",
     "text": [
      "\n",
      " 15%|██████                                  | 152/1000 [00:13<01:14, 11.36it/s]\u001b[A\n",
      " 15%|██████▏                                 | 154/1000 [00:13<01:14, 11.37it/s]\u001b[A"
     ]
    },
    {
     "name": "stdout",
     "output_type": "stream",
     "text": [
      "0.08780360221862793\n",
      "0.08573770523071289\n",
      "0.08892560005187988\n"
     ]
    },
    {
     "name": "stderr",
     "output_type": "stream",
     "text": [
      "\n",
      " 16%|██████▏                                 | 156/1000 [00:13<01:14, 11.36it/s]\u001b[A"
     ]
    },
    {
     "name": "stdout",
     "output_type": "stream",
     "text": [
      "0.08652234077453613\n",
      "0.08855533599853516\n",
      "0.0875551700592041\n"
     ]
    },
    {
     "name": "stderr",
     "output_type": "stream",
     "text": [
      "\n",
      " 16%|██████▎                                 | 158/1000 [00:14<01:14, 11.37it/s]\u001b[A\n",
      " 16%|██████▍                                 | 160/1000 [00:14<01:13, 11.40it/s]\u001b[A"
     ]
    },
    {
     "name": "stdout",
     "output_type": "stream",
     "text": [
      "0.08680343627929688\n",
      "0.08452486991882324\n",
      "0.08894562721252441\n"
     ]
    },
    {
     "name": "stderr",
     "output_type": "stream",
     "text": [
      "\n",
      " 16%|██████▍                                 | 162/1000 [00:14<01:13, 11.42it/s]\u001b[A"
     ]
    },
    {
     "name": "stdout",
     "output_type": "stream",
     "text": [
      "0.08580303192138672\n",
      "0.08754944801330566\n",
      "0.08709955215454102\n"
     ]
    },
    {
     "name": "stderr",
     "output_type": "stream",
     "text": [
      "\n",
      " 16%|██████▌                                 | 164/1000 [00:14<01:13, 11.36it/s]\u001b[A\n",
      " 17%|██████▋                                 | 166/1000 [00:14<01:13, 11.40it/s]\u001b[A"
     ]
    },
    {
     "name": "stdout",
     "output_type": "stream",
     "text": [
      "0.08955526351928711\n",
      "0.08436965942382812\n",
      "0.0886380672454834\n"
     ]
    },
    {
     "name": "stderr",
     "output_type": "stream",
     "text": [
      "\n",
      " 17%|██████▋                                 | 168/1000 [00:14<01:12, 11.40it/s]\u001b[A"
     ]
    },
    {
     "name": "stdout",
     "output_type": "stream",
     "text": [
      "0.08615422248840332\n",
      "0.08815789222717285\n",
      "0.08621358871459961\n"
     ]
    },
    {
     "name": "stderr",
     "output_type": "stream",
     "text": [
      "\n",
      " 17%|██████▊                                 | 170/1000 [00:15<01:12, 11.42it/s]\u001b[A\n",
      " 17%|██████▉                                 | 172/1000 [00:15<01:12, 11.41it/s]\u001b[A"
     ]
    },
    {
     "name": "stdout",
     "output_type": "stream",
     "text": [
      "0.08719944953918457\n",
      "0.08494210243225098\n",
      "0.0892171859741211\n"
     ]
    },
    {
     "name": "stderr",
     "output_type": "stream",
     "text": [
      "\n",
      " 17%|██████▉                                 | 174/1000 [00:15<01:12, 11.40it/s]\u001b[A"
     ]
    },
    {
     "name": "stdout",
     "output_type": "stream",
     "text": [
      "0.08665585517883301\n",
      "0.08773374557495117\n",
      "0.0871284008026123\n"
     ]
    },
    {
     "name": "stderr",
     "output_type": "stream",
     "text": [
      "\n",
      " 18%|███████                                 | 176/1000 [00:15<01:12, 11.38it/s]\u001b[A\n",
      " 18%|███████                                 | 178/1000 [00:15<01:12, 11.40it/s]\u001b[A"
     ]
    },
    {
     "name": "stdout",
     "output_type": "stream",
     "text": [
      "0.08766674995422363\n",
      "0.08481836318969727\n",
      "0.08861255645751953\n"
     ]
    },
    {
     "name": "stderr",
     "output_type": "stream",
     "text": [
      "\n",
      " 18%|███████▏                                | 180/1000 [00:15<01:11, 11.40it/s]\u001b[A"
     ]
    },
    {
     "name": "stdout",
     "output_type": "stream",
     "text": [
      "0.08635997772216797\n",
      "0.08794879913330078\n",
      "0.08703327178955078\n"
     ]
    },
    {
     "name": "stderr",
     "output_type": "stream",
     "text": [
      "\n",
      " 18%|███████▎                                | 182/1000 [00:16<01:11, 11.37it/s]\u001b[A\n",
      " 18%|███████▎                                | 184/1000 [00:16<01:11, 11.43it/s]\u001b[A"
     ]
    },
    {
     "name": "stdout",
     "output_type": "stream",
     "text": [
      "0.08872175216674805\n",
      "0.08449745178222656\n",
      "0.08706068992614746\n"
     ]
    },
    {
     "name": "stderr",
     "output_type": "stream",
     "text": [
      "\n",
      " 19%|███████▍                                | 186/1000 [00:16<01:11, 11.40it/s]\u001b[A"
     ]
    },
    {
     "name": "stdout",
     "output_type": "stream",
     "text": [
      "0.08690619468688965\n",
      "0.08791136741638184\n",
      "0.08591365814208984\n"
     ]
    },
    {
     "name": "stderr",
     "output_type": "stream",
     "text": [
      "\n",
      " 19%|███████▌                                | 188/1000 [00:16<01:11, 11.35it/s]\u001b[A\n",
      " 19%|███████▌                                | 190/1000 [00:16<01:10, 11.43it/s]\u001b[A"
     ]
    },
    {
     "name": "stdout",
     "output_type": "stream",
     "text": [
      "0.09006285667419434\n",
      "0.08472037315368652\n",
      "0.08656835556030273\n"
     ]
    },
    {
     "name": "stderr",
     "output_type": "stream",
     "text": [
      "\n",
      " 19%|███████▋                                | 192/1000 [00:16<01:10, 11.41it/s]\u001b[A"
     ]
    },
    {
     "name": "stdout",
     "output_type": "stream",
     "text": [
      "0.08799529075622559\n",
      "0.0863645076751709\n",
      "0.0859212875366211\n"
     ]
    },
    {
     "name": "stderr",
     "output_type": "stream",
     "text": [
      "\n",
      " 19%|███████▊                                | 194/1000 [00:17<01:10, 11.37it/s]\u001b[A\n",
      " 20%|███████▊                                | 196/1000 [00:17<01:10, 11.33it/s]\u001b[A"
     ]
    },
    {
     "name": "stdout",
     "output_type": "stream",
     "text": [
      "0.09051346778869629\n",
      "0.08657670021057129\n",
      "0.08992743492126465\n"
     ]
    },
    {
     "name": "stderr",
     "output_type": "stream",
     "text": [
      "\n",
      " 20%|███████▉                                | 198/1000 [00:17<01:10, 11.33it/s]\u001b[A"
     ]
    },
    {
     "name": "stdout",
     "output_type": "stream",
     "text": [
      "0.08793878555297852\n",
      "0.08729672431945801\n",
      "0.08646392822265625\n"
     ]
    },
    {
     "name": "stderr",
     "output_type": "stream",
     "text": [
      "\n",
      " 20%|████████                                | 200/1000 [00:17<01:10, 11.28it/s]\u001b[A\n",
      " 20%|████████                                | 202/1000 [00:17<01:10, 11.34it/s]\u001b[A"
     ]
    },
    {
     "name": "stdout",
     "output_type": "stream",
     "text": [
      "0.09132981300354004\n",
      "0.08554220199584961\n",
      "0.08701896667480469\n"
     ]
    },
    {
     "name": "stderr",
     "output_type": "stream",
     "text": [
      "\n",
      " 20%|████████▏                               | 204/1000 [00:18<01:10, 11.34it/s]\u001b[A"
     ]
    },
    {
     "name": "stdout",
     "output_type": "stream",
     "text": [
      "0.08807897567749023\n",
      "0.08712291717529297\n",
      "0.08565425872802734\n"
     ]
    },
    {
     "name": "stderr",
     "output_type": "stream",
     "text": [
      "\n",
      " 21%|████████▏                               | 206/1000 [00:18<01:10, 11.33it/s]\u001b[A\n",
      " 21%|████████▎                               | 208/1000 [00:18<01:09, 11.32it/s]\u001b[A"
     ]
    },
    {
     "name": "stdout",
     "output_type": "stream",
     "text": [
      "0.0896615982055664\n",
      "0.08987617492675781\n",
      "0.08575892448425293\n"
     ]
    },
    {
     "name": "stderr",
     "output_type": "stream",
     "text": [
      "\n",
      " 21%|████████▍                               | 210/1000 [00:18<01:09, 11.29it/s]\u001b[A"
     ]
    },
    {
     "name": "stdout",
     "output_type": "stream",
     "text": [
      "0.09012246131896973\n",
      "0.08640646934509277\n",
      "0.08630657196044922\n"
     ]
    },
    {
     "name": "stderr",
     "output_type": "stream",
     "text": [
      "\n",
      " 21%|████████▍                               | 212/1000 [00:18<01:09, 11.32it/s]\u001b[A\n",
      " 21%|████████▌                               | 214/1000 [00:18<01:08, 11.43it/s]\u001b[A"
     ]
    },
    {
     "name": "stdout",
     "output_type": "stream",
     "text": [
      "0.0881495475769043\n",
      "0.08469390869140625\n",
      "0.08499836921691895\n"
     ]
    },
    {
     "name": "stderr",
     "output_type": "stream",
     "text": [
      "\n",
      " 22%|████████▋                               | 216/1000 [00:19<01:08, 11.44it/s]\u001b[A"
     ]
    },
    {
     "name": "stdout",
     "output_type": "stream",
     "text": [
      "0.08849787712097168\n",
      "0.08458995819091797\n",
      "0.08681631088256836\n"
     ]
    },
    {
     "name": "stderr",
     "output_type": "stream",
     "text": [
      "\n",
      " 22%|████████▋                               | 218/1000 [00:19<01:08, 11.41it/s]\u001b[A\n",
      " 22%|████████▊                               | 220/1000 [00:19<01:07, 11.48it/s]\u001b[A"
     ]
    },
    {
     "name": "stdout",
     "output_type": "stream",
     "text": [
      "0.08798074722290039\n",
      "0.08652758598327637\n",
      "0.08409476280212402\n"
     ]
    },
    {
     "name": "stderr",
     "output_type": "stream",
     "text": [
      "\n",
      " 22%|████████▉                               | 222/1000 [00:19<01:07, 11.45it/s]\u001b[A"
     ]
    },
    {
     "name": "stdout",
     "output_type": "stream",
     "text": [
      "0.08975648880004883\n",
      "0.08427762985229492\n",
      "0.0878753662109375\n"
     ]
    },
    {
     "name": "stderr",
     "output_type": "stream",
     "text": [
      "\n",
      " 22%|████████▉                               | 224/1000 [00:19<01:07, 11.43it/s]\u001b[A\n",
      " 23%|█████████                               | 226/1000 [00:19<01:07, 11.48it/s]\u001b[A"
     ]
    },
    {
     "name": "stdout",
     "output_type": "stream",
     "text": [
      "0.08664560317993164\n",
      "0.08798885345458984\n",
      "0.0832815170288086\n"
     ]
    },
    {
     "name": "stderr",
     "output_type": "stream",
     "text": [
      "\n",
      " 23%|█████████                               | 228/1000 [00:20<01:07, 11.48it/s]\u001b[A"
     ]
    },
    {
     "name": "stdout",
     "output_type": "stream",
     "text": [
      "0.08940792083740234\n",
      "0.08356833457946777\n",
      "0.08849287033081055\n"
     ]
    },
    {
     "name": "stderr",
     "output_type": "stream",
     "text": [
      "\n",
      " 23%|█████████▏                              | 230/1000 [00:20<01:07, 11.42it/s]\u001b[A\n",
      " 23%|█████████▎                              | 232/1000 [00:20<01:06, 11.46it/s]\u001b[A"
     ]
    },
    {
     "name": "stdout",
     "output_type": "stream",
     "text": [
      "0.08732914924621582\n",
      "0.08761215209960938\n",
      "0.08429980278015137\n"
     ]
    },
    {
     "name": "stderr",
     "output_type": "stream",
     "text": [
      "\n",
      " 23%|█████████▎                              | 234/1000 [00:20<01:06, 11.46it/s]\u001b[A"
     ]
    },
    {
     "name": "stdout",
     "output_type": "stream",
     "text": [
      "0.08984088897705078\n",
      "0.08379006385803223\n",
      "0.08889317512512207\n"
     ]
    },
    {
     "name": "stderr",
     "output_type": "stream",
     "text": [
      "\n",
      " 24%|█████████▍                              | 236/1000 [00:20<01:07, 11.39it/s]\u001b[A\n",
      " 24%|█████████▌                              | 238/1000 [00:21<01:06, 11.42it/s]\u001b[A"
     ]
    },
    {
     "name": "stdout",
     "output_type": "stream",
     "text": [
      "0.08786201477050781\n",
      "0.08922171592712402\n",
      "0.0838618278503418\n"
     ]
    },
    {
     "name": "stderr",
     "output_type": "stream",
     "text": [
      "\n",
      " 24%|█████████▌                              | 240/1000 [00:21<01:06, 11.42it/s]\u001b[A"
     ]
    },
    {
     "name": "stdout",
     "output_type": "stream",
     "text": [
      "0.09063386917114258\n",
      "0.08354425430297852\n",
      "0.08978962898254395\n"
     ]
    },
    {
     "name": "stderr",
     "output_type": "stream",
     "text": [
      "\n",
      " 24%|█████████▋                              | 242/1000 [00:21<01:06, 11.34it/s]\u001b[A\n",
      " 24%|█████████▊                              | 244/1000 [00:21<01:06, 11.35it/s]\u001b[A"
     ]
    },
    {
     "name": "stdout",
     "output_type": "stream",
     "text": [
      "0.08843350410461426\n",
      "0.09046196937561035\n",
      "0.08421564102172852\n"
     ]
    },
    {
     "name": "stderr",
     "output_type": "stream",
     "text": [
      "\n",
      " 25%|█████████▊                              | 246/1000 [00:21<01:07, 11.24it/s]\u001b[A"
     ]
    },
    {
     "name": "stdout",
     "output_type": "stream",
     "text": [
      "0.0970301628112793\n",
      "0.08366584777832031\n",
      "0.08803939819335938\n"
     ]
    },
    {
     "name": "stderr",
     "output_type": "stream",
     "text": [
      "\n",
      " 25%|█████████▉                              | 248/1000 [00:21<01:06, 11.27it/s]\u001b[A\n",
      " 25%|██████████                              | 250/1000 [00:22<01:05, 11.39it/s]\u001b[A"
     ]
    },
    {
     "name": "stdout",
     "output_type": "stream",
     "text": [
      "0.08697700500488281\n",
      "0.08660078048706055\n",
      "0.08344483375549316\n"
     ]
    },
    {
     "name": "stderr",
     "output_type": "stream",
     "text": [
      "\n",
      " 25%|██████████                              | 252/1000 [00:22<01:05, 11.40it/s]\u001b[A"
     ]
    },
    {
     "name": "stdout",
     "output_type": "stream",
     "text": [
      "0.09079337120056152\n",
      "0.08333015441894531\n",
      "0.08973574638366699\n"
     ]
    },
    {
     "name": "stderr",
     "output_type": "stream",
     "text": [
      "\n",
      " 25%|██████████▏                             | 254/1000 [00:22<01:05, 11.34it/s]\u001b[A\n",
      " 26%|██████████▏                             | 256/1000 [00:22<01:05, 11.40it/s]\u001b[A"
     ]
    },
    {
     "name": "stdout",
     "output_type": "stream",
     "text": [
      "0.08755183219909668\n",
      "0.08837366104125977\n",
      "0.0833430290222168\n"
     ]
    },
    {
     "name": "stderr",
     "output_type": "stream",
     "text": [
      "\n",
      " 26%|██████████▎                             | 258/1000 [00:22<01:05, 11.41it/s]\u001b[A"
     ]
    },
    {
     "name": "stdout",
     "output_type": "stream",
     "text": [
      "0.09041070938110352\n",
      "0.08351778984069824\n",
      "0.09002804756164551\n"
     ]
    },
    {
     "name": "stderr",
     "output_type": "stream",
     "text": [
      "\n",
      " 26%|██████████▍                             | 260/1000 [00:22<01:05, 11.34it/s]\u001b[A\n",
      " 26%|██████████▍                             | 262/1000 [00:23<01:04, 11.43it/s]\u001b[A"
     ]
    },
    {
     "name": "stdout",
     "output_type": "stream",
     "text": [
      "0.0877375602722168\n",
      "0.08738255500793457\n",
      "0.0833272933959961\n"
     ]
    },
    {
     "name": "stderr",
     "output_type": "stream",
     "text": [
      "\n",
      " 26%|██████████▌                             | 264/1000 [00:23<01:04, 11.42it/s]\u001b[A"
     ]
    },
    {
     "name": "stdout",
     "output_type": "stream",
     "text": [
      "0.09003901481628418\n",
      "0.08415722846984863\n",
      "0.09032988548278809\n"
     ]
    },
    {
     "name": "stderr",
     "output_type": "stream",
     "text": [
      "\n",
      " 27%|██████████▋                             | 266/1000 [00:23<01:04, 11.31it/s]\u001b[A\n",
      " 27%|██████████▋                             | 268/1000 [00:23<01:04, 11.34it/s]\u001b[A"
     ]
    },
    {
     "name": "stdout",
     "output_type": "stream",
     "text": [
      "0.08917927742004395\n",
      "0.08965086936950684\n",
      "0.08439874649047852\n"
     ]
    },
    {
     "name": "stderr",
     "output_type": "stream",
     "text": [
      "\n",
      " 27%|██████████▊                             | 270/1000 [00:23<01:04, 11.36it/s]\u001b[A"
     ]
    },
    {
     "name": "stdout",
     "output_type": "stream",
     "text": [
      "0.09041023254394531\n",
      "0.08368420600891113\n",
      "0.08984661102294922\n"
     ]
    },
    {
     "name": "stderr",
     "output_type": "stream",
     "text": [
      "\n",
      " 27%|██████████▉                             | 272/1000 [00:24<01:04, 11.34it/s]\u001b[A\n",
      " 27%|██████████▉                             | 274/1000 [00:24<01:03, 11.37it/s]\u001b[A"
     ]
    },
    {
     "name": "stdout",
     "output_type": "stream",
     "text": [
      "0.08631157875061035\n",
      "0.08938860893249512\n",
      "0.08387613296508789\n"
     ]
    },
    {
     "name": "stderr",
     "output_type": "stream",
     "text": [
      "\n",
      " 28%|███████████                             | 276/1000 [00:24<01:03, 11.38it/s]\u001b[A"
     ]
    },
    {
     "name": "stdout",
     "output_type": "stream",
     "text": [
      "0.08945894241333008\n",
      "0.08509373664855957\n",
      "0.08958148956298828\n"
     ]
    },
    {
     "name": "stderr",
     "output_type": "stream",
     "text": [
      "\n",
      " 28%|███████████                             | 278/1000 [00:24<01:03, 11.32it/s]\u001b[A\n",
      " 28%|███████████▏                            | 280/1000 [00:24<01:03, 11.38it/s]\u001b[A"
     ]
    },
    {
     "name": "stdout",
     "output_type": "stream",
     "text": [
      "0.08788728713989258\n",
      "0.08853960037231445\n",
      "0.08397126197814941\n"
     ]
    },
    {
     "name": "stderr",
     "output_type": "stream",
     "text": [
      "\n",
      " 28%|███████████▎                            | 282/1000 [00:24<01:03, 11.39it/s]\u001b[A"
     ]
    },
    {
     "name": "stdout",
     "output_type": "stream",
     "text": [
      "0.08837342262268066\n",
      "0.08582329750061035\n",
      "0.08922505378723145\n"
     ]
    },
    {
     "name": "stderr",
     "output_type": "stream",
     "text": [
      "\n",
      " 28%|███████████▎                            | 284/1000 [00:25<01:03, 11.35it/s]\u001b[A\n",
      " 29%|███████████▍                            | 286/1000 [00:25<01:02, 11.34it/s]\u001b[A"
     ]
    },
    {
     "name": "stdout",
     "output_type": "stream",
     "text": [
      "0.08727192878723145\n",
      "0.09034466743469238\n",
      "0.08514523506164551\n"
     ]
    },
    {
     "name": "stderr",
     "output_type": "stream",
     "text": [
      "\n",
      " 29%|███████████▌                            | 288/1000 [00:25<01:02, 11.31it/s]\u001b[A"
     ]
    },
    {
     "name": "stdout",
     "output_type": "stream",
     "text": [
      "0.09128499031066895\n",
      "0.08598899841308594\n",
      "0.08768081665039062\n"
     ]
    },
    {
     "name": "stderr",
     "output_type": "stream",
     "text": [
      "\n",
      " 29%|███████████▌                            | 290/1000 [00:25<01:02, 11.34it/s]\u001b[A\n",
      " 29%|███████████▋                            | 292/1000 [00:25<01:02, 11.35it/s]\u001b[A"
     ]
    },
    {
     "name": "stdout",
     "output_type": "stream",
     "text": [
      "0.08616328239440918\n",
      "0.08829116821289062\n",
      "0.08631086349487305\n"
     ]
    },
    {
     "name": "stderr",
     "output_type": "stream",
     "text": [
      "\n",
      " 29%|███████████▊                            | 294/1000 [00:25<01:02, 11.35it/s]\u001b[A"
     ]
    },
    {
     "name": "stdout",
     "output_type": "stream",
     "text": [
      "0.08769106864929199\n",
      "0.0875396728515625\n",
      "0.08546686172485352\n"
     ]
    },
    {
     "name": "stderr",
     "output_type": "stream",
     "text": [
      "\n",
      " 30%|███████████▊                            | 296/1000 [00:26<01:01, 11.37it/s]\u001b[A\n",
      " 30%|███████████▉                            | 298/1000 [00:26<01:01, 11.41it/s]\u001b[A"
     ]
    },
    {
     "name": "stdout",
     "output_type": "stream",
     "text": [
      "0.0883479118347168\n",
      "0.08797860145568848\n",
      "0.08449268341064453\n"
     ]
    },
    {
     "name": "stderr",
     "output_type": "stream",
     "text": [
      "\n",
      " 30%|████████████                            | 300/1000 [00:26<01:01, 11.39it/s]\u001b[A"
     ]
    },
    {
     "name": "stdout",
     "output_type": "stream",
     "text": [
      "0.08770966529846191\n",
      "0.08746218681335449\n",
      "0.08703422546386719\n"
     ]
    },
    {
     "name": "stderr",
     "output_type": "stream",
     "text": [
      "\n",
      " 30%|████████████                            | 302/1000 [00:26<01:01, 11.39it/s]\u001b[A\n",
      " 30%|████████████▏                           | 304/1000 [00:26<01:01, 11.37it/s]\u001b[A"
     ]
    },
    {
     "name": "stdout",
     "output_type": "stream",
     "text": [
      "0.08724617958068848\n",
      "0.08818912506103516\n",
      "0.08742237091064453\n"
     ]
    },
    {
     "name": "stderr",
     "output_type": "stream",
     "text": [
      "\n",
      " 31%|████████████▏                           | 306/1000 [00:27<01:01, 11.35it/s]\u001b[A"
     ]
    },
    {
     "name": "stdout",
     "output_type": "stream",
     "text": [
      "0.08685445785522461\n",
      "0.08872079849243164\n",
      "0.08612823486328125\n"
     ]
    },
    {
     "name": "stderr",
     "output_type": "stream",
     "text": [
      "\n",
      " 31%|████████████▎                           | 308/1000 [00:27<01:00, 11.38it/s]\u001b[A\n",
      " 31%|████████████▍                           | 310/1000 [00:27<01:00, 11.39it/s]\u001b[A"
     ]
    },
    {
     "name": "stdout",
     "output_type": "stream",
     "text": [
      "0.0875849723815918\n",
      "0.08792877197265625\n",
      "0.08607339859008789\n"
     ]
    },
    {
     "name": "stderr",
     "output_type": "stream",
     "text": [
      "\n",
      " 31%|████████████▍                           | 312/1000 [00:27<01:00, 11.38it/s]\u001b[A"
     ]
    },
    {
     "name": "stdout",
     "output_type": "stream",
     "text": [
      "0.08619904518127441\n",
      "0.08892345428466797\n",
      "0.08615255355834961\n"
     ]
    },
    {
     "name": "stderr",
     "output_type": "stream",
     "text": [
      "\n",
      " 31%|████████████▌                           | 314/1000 [00:27<01:00, 11.38it/s]\u001b[A\n",
      " 32%|████████████▋                           | 316/1000 [00:27<00:59, 11.42it/s]\u001b[A"
     ]
    },
    {
     "name": "stdout",
     "output_type": "stream",
     "text": [
      "0.08825445175170898\n",
      "0.08691692352294922\n",
      "0.0857393741607666\n"
     ]
    },
    {
     "name": "stderr",
     "output_type": "stream",
     "text": [
      "\n",
      " 32%|████████████▋                           | 318/1000 [00:28<00:59, 11.42it/s]\u001b[A"
     ]
    },
    {
     "name": "stdout",
     "output_type": "stream",
     "text": [
      "0.08566784858703613\n",
      "0.08866477012634277\n",
      "0.08575177192687988\n"
     ]
    },
    {
     "name": "stderr",
     "output_type": "stream",
     "text": [
      "\n",
      " 32%|████████████▊                           | 320/1000 [00:28<00:59, 11.42it/s]\u001b[A\n",
      " 32%|████████████▉                           | 322/1000 [00:28<00:59, 11.41it/s]\u001b[A"
     ]
    },
    {
     "name": "stdout",
     "output_type": "stream",
     "text": [
      "0.0882413387298584\n",
      "0.08872461318969727\n",
      "0.08583402633666992\n"
     ]
    },
    {
     "name": "stderr",
     "output_type": "stream",
     "text": [
      "\n",
      " 32%|████████████▉                           | 324/1000 [00:28<00:59, 11.39it/s]\u001b[A"
     ]
    },
    {
     "name": "stdout",
     "output_type": "stream",
     "text": [
      "0.08689713478088379\n",
      "0.08822393417358398\n",
      "0.08488273620605469\n"
     ]
    },
    {
     "name": "stderr",
     "output_type": "stream",
     "text": [
      "\n",
      " 33%|█████████████                           | 326/1000 [00:28<00:58, 11.43it/s]\u001b[A\n",
      " 33%|█████████████                           | 328/1000 [00:28<00:58, 11.46it/s]\u001b[A"
     ]
    },
    {
     "name": "stdout",
     "output_type": "stream",
     "text": [
      "0.08771038055419922\n",
      "0.08658337593078613\n",
      "0.08573174476623535\n"
     ]
    },
    {
     "name": "stderr",
     "output_type": "stream",
     "text": [
      "\n",
      " 33%|█████████████▏                          | 330/1000 [00:29<00:58, 11.41it/s]\u001b[A"
     ]
    },
    {
     "name": "stdout",
     "output_type": "stream",
     "text": [
      "0.08602666854858398\n",
      "0.09017562866210938\n",
      "0.08431386947631836\n"
     ]
    },
    {
     "name": "stderr",
     "output_type": "stream",
     "text": [
      "\n",
      " 33%|█████████████▎                          | 332/1000 [00:29<00:58, 11.43it/s]\u001b[A\n",
      " 33%|█████████████▎                          | 334/1000 [00:29<00:58, 11.37it/s]\u001b[A"
     ]
    },
    {
     "name": "stdout",
     "output_type": "stream",
     "text": [
      "0.08839726448059082\n",
      "0.0876927375793457\n",
      "0.08913731575012207\n"
     ]
    },
    {
     "name": "stderr",
     "output_type": "stream",
     "text": [
      "\n",
      " 34%|█████████████▍                          | 336/1000 [00:29<00:58, 11.39it/s]\u001b[A"
     ]
    },
    {
     "name": "stdout",
     "output_type": "stream",
     "text": [
      "0.0857856273651123\n",
      "0.08793187141418457\n",
      "0.08524823188781738\n"
     ]
    },
    {
     "name": "stderr",
     "output_type": "stream",
     "text": [
      "\n",
      " 34%|█████████████▌                          | 338/1000 [00:29<00:57, 11.42it/s]\u001b[A\n",
      " 34%|█████████████▌                          | 340/1000 [00:29<00:57, 11.44it/s]\u001b[A"
     ]
    },
    {
     "name": "stdout",
     "output_type": "stream",
     "text": [
      "0.08763957023620605\n",
      "0.08572888374328613\n",
      "0.08705759048461914\n"
     ]
    },
    {
     "name": "stderr",
     "output_type": "stream",
     "text": [
      "\n",
      " 34%|█████████████▋                          | 342/1000 [00:30<00:57, 11.45it/s]\u001b[A"
     ]
    },
    {
     "name": "stdout",
     "output_type": "stream",
     "text": [
      "0.08580183982849121\n",
      "0.0876471996307373\n",
      "0.08491706848144531\n"
     ]
    },
    {
     "name": "stderr",
     "output_type": "stream",
     "text": [
      "\n",
      " 34%|█████████████▊                          | 344/1000 [00:30<00:57, 11.45it/s]\u001b[A\n",
      " 35%|█████████████▊                          | 346/1000 [00:30<00:57, 11.45it/s]\u001b[A"
     ]
    },
    {
     "name": "stdout",
     "output_type": "stream",
     "text": [
      "0.08811211585998535\n",
      "0.08604621887207031\n",
      "0.08787298202514648\n"
     ]
    },
    {
     "name": "stderr",
     "output_type": "stream",
     "text": [
      "\n",
      " 35%|█████████████▉                          | 348/1000 [00:30<00:57, 11.44it/s]\u001b[A"
     ]
    },
    {
     "name": "stdout",
     "output_type": "stream",
     "text": [
      "0.08616828918457031\n",
      "0.08795714378356934\n",
      "0.08612298965454102\n"
     ]
    },
    {
     "name": "stderr",
     "output_type": "stream",
     "text": [
      "\n",
      " 35%|██████████████                          | 350/1000 [00:30<00:56, 11.41it/s]\u001b[A\n",
      " 35%|██████████████                          | 352/1000 [00:31<00:56, 11.42it/s]\u001b[A"
     ]
    },
    {
     "name": "stdout",
     "output_type": "stream",
     "text": [
      "0.08899545669555664\n",
      "0.08596181869506836\n",
      "0.08745622634887695\n"
     ]
    },
    {
     "name": "stderr",
     "output_type": "stream",
     "text": [
      "\n",
      " 35%|██████████████▏                         | 354/1000 [00:31<00:56, 11.44it/s]\u001b[A"
     ]
    },
    {
     "name": "stdout",
     "output_type": "stream",
     "text": [
      "0.0858912467956543\n",
      "0.08702921867370605\n",
      "0.08686947822570801\n"
     ]
    },
    {
     "name": "stderr",
     "output_type": "stream",
     "text": [
      "\n",
      " 36%|██████████████▏                         | 356/1000 [00:31<00:56, 11.40it/s]\u001b[A\n",
      " 36%|██████████████▎                         | 358/1000 [00:31<00:57, 11.20it/s]\u001b[A"
     ]
    },
    {
     "name": "stdout",
     "output_type": "stream",
     "text": [
      "0.0889277458190918\n",
      "0.08728289604187012\n",
      "0.0966792106628418\n"
     ]
    },
    {
     "name": "stderr",
     "output_type": "stream",
     "text": [
      "\n",
      " 36%|██████████████▍                         | 360/1000 [00:31<00:56, 11.35it/s]\u001b[A"
     ]
    },
    {
     "name": "stdout",
     "output_type": "stream",
     "text": [
      "0.0860288143157959\n",
      "0.08318805694580078\n",
      "0.08776688575744629\n"
     ]
    },
    {
     "name": "stderr",
     "output_type": "stream",
     "text": [
      "\n",
      " 36%|██████████████▍                         | 362/1000 [00:31<00:55, 11.41it/s]\u001b[A\n",
      " 36%|██████████████▌                         | 364/1000 [00:32<00:55, 11.43it/s]\u001b[A"
     ]
    },
    {
     "name": "stdout",
     "output_type": "stream",
     "text": [
      "0.08463931083679199\n",
      "0.0871279239654541\n",
      "0.08593201637268066\n"
     ]
    },
    {
     "name": "stderr",
     "output_type": "stream",
     "text": [
      "\n",
      " 37%|██████████████▋                         | 366/1000 [00:32<00:55, 11.42it/s]\u001b[A"
     ]
    },
    {
     "name": "stdout",
     "output_type": "stream",
     "text": [
      "0.08894968032836914\n",
      "0.08528637886047363\n",
      "0.0879209041595459\n"
     ]
    },
    {
     "name": "stderr",
     "output_type": "stream",
     "text": [
      "\n",
      " 37%|██████████████▋                         | 368/1000 [00:32<00:55, 11.38it/s]\u001b[A\n",
      " 37%|██████████████▊                         | 370/1000 [00:32<00:55, 11.39it/s]\u001b[A"
     ]
    },
    {
     "name": "stdout",
     "output_type": "stream",
     "text": [
      "0.08818507194519043\n",
      "0.08786225318908691\n",
      "0.08619904518127441\n"
     ]
    },
    {
     "name": "stderr",
     "output_type": "stream",
     "text": [
      "\n",
      " 37%|██████████████▉                         | 372/1000 [00:32<00:55, 11.41it/s]\u001b[A"
     ]
    },
    {
     "name": "stdout",
     "output_type": "stream",
     "text": [
      "0.08925843238830566\n",
      "0.08413481712341309\n",
      "0.08842873573303223\n"
     ]
    },
    {
     "name": "stderr",
     "output_type": "stream",
     "text": [
      "\n",
      " 37%|██████████████▉                         | 374/1000 [00:32<00:54, 11.40it/s]\u001b[A\n",
      " 38%|███████████████                         | 376/1000 [00:33<00:54, 11.40it/s]\u001b[A"
     ]
    },
    {
     "name": "stdout",
     "output_type": "stream",
     "text": [
      "0.08594155311584473\n",
      "0.08722090721130371\n",
      "0.08695793151855469\n"
     ]
    },
    {
     "name": "stderr",
     "output_type": "stream",
     "text": [
      "\n",
      " 38%|███████████████                         | 378/1000 [00:33<00:54, 11.41it/s]\u001b[A"
     ]
    },
    {
     "name": "stdout",
     "output_type": "stream",
     "text": [
      "0.08775854110717773\n",
      "0.08608198165893555\n",
      "0.08863139152526855\n"
     ]
    },
    {
     "name": "stderr",
     "output_type": "stream",
     "text": [
      "\n",
      " 38%|███████████████▏                        | 380/1000 [00:33<00:54, 11.35it/s]\u001b[A\n",
      " 38%|███████████████▎                        | 382/1000 [00:33<00:54, 11.36it/s]\u001b[A"
     ]
    },
    {
     "name": "stdout",
     "output_type": "stream",
     "text": [
      "0.08836698532104492\n",
      "0.0866999626159668\n",
      "0.08778142929077148\n"
     ]
    },
    {
     "name": "stderr",
     "output_type": "stream",
     "text": [
      "\n",
      " 38%|███████████████▎                        | 384/1000 [00:33<00:54, 11.38it/s]\u001b[A"
     ]
    },
    {
     "name": "stdout",
     "output_type": "stream",
     "text": [
      "0.08832812309265137\n",
      "0.08558249473571777\n",
      "0.0878608226776123\n"
     ]
    },
    {
     "name": "stderr",
     "output_type": "stream",
     "text": [
      "\n",
      " 39%|███████████████▍                        | 386/1000 [00:34<00:54, 11.35it/s]\u001b[A\n",
      " 39%|███████████████▌                        | 388/1000 [00:34<00:53, 11.36it/s]\u001b[A"
     ]
    },
    {
     "name": "stdout",
     "output_type": "stream",
     "text": [
      "0.08834719657897949\n",
      "0.08724617958068848\n",
      "0.08724260330200195\n"
     ]
    },
    {
     "name": "stderr",
     "output_type": "stream",
     "text": [
      "\n",
      " 39%|███████████████▌                        | 390/1000 [00:34<00:53, 11.34it/s]\u001b[A"
     ]
    },
    {
     "name": "stdout",
     "output_type": "stream",
     "text": [
      "0.08813905715942383\n",
      "0.0876469612121582\n",
      "0.08793163299560547\n"
     ]
    },
    {
     "name": "stderr",
     "output_type": "stream",
     "text": [
      "\n",
      " 39%|███████████████▋                        | 392/1000 [00:34<00:53, 11.35it/s]\u001b[A\n",
      " 39%|███████████████▊                        | 394/1000 [00:34<00:53, 11.37it/s]\u001b[A"
     ]
    },
    {
     "name": "stdout",
     "output_type": "stream",
     "text": [
      "0.08709907531738281\n",
      "0.08634066581726074\n",
      "0.08769559860229492\n"
     ]
    },
    {
     "name": "stderr",
     "output_type": "stream",
     "text": [
      "\n",
      " 40%|███████████████▊                        | 396/1000 [00:34<00:53, 11.38it/s]\u001b[A"
     ]
    },
    {
     "name": "stdout",
     "output_type": "stream",
     "text": [
      "0.08781623840332031\n",
      "0.08616805076599121\n",
      "0.08706140518188477\n"
     ]
    },
    {
     "name": "stderr",
     "output_type": "stream",
     "text": [
      "\n",
      " 40%|███████████████▉                        | 398/1000 [00:35<00:53, 11.35it/s]\u001b[A\n",
      " 40%|████████████████                        | 400/1000 [00:35<00:52, 11.35it/s]\u001b[A"
     ]
    },
    {
     "name": "stdout",
     "output_type": "stream",
     "text": [
      "0.08894944190979004\n",
      "0.08651018142700195\n",
      "0.0886240005493164\n"
     ]
    },
    {
     "name": "stderr",
     "output_type": "stream",
     "text": [
      "\n",
      " 40%|████████████████                        | 402/1000 [00:35<00:52, 11.39it/s]\u001b[A"
     ]
    },
    {
     "name": "stdout",
     "output_type": "stream",
     "text": [
      "0.08655667304992676\n",
      "0.08637189865112305\n",
      "0.08759546279907227\n"
     ]
    },
    {
     "name": "stderr",
     "output_type": "stream",
     "text": [
      "\n",
      " 40%|████████████████▏                       | 404/1000 [00:35<00:52, 11.37it/s]\u001b[A\n",
      " 41%|████████████████▏                       | 406/1000 [00:35<00:52, 11.40it/s]\u001b[A"
     ]
    },
    {
     "name": "stdout",
     "output_type": "stream",
     "text": [
      "0.08778786659240723\n",
      "0.08431124687194824\n",
      "0.08910965919494629\n"
     ]
    },
    {
     "name": "stderr",
     "output_type": "stream",
     "text": [
      "\n",
      " 41%|████████████████▎                       | 408/1000 [00:35<00:51, 11.42it/s]\u001b[A"
     ]
    },
    {
     "name": "stdout",
     "output_type": "stream",
     "text": [
      "0.08604836463928223\n",
      "0.08748364448547363\n",
      "0.08579182624816895\n"
     ]
    },
    {
     "name": "stderr",
     "output_type": "stream",
     "text": [
      "\n",
      " 41%|████████████████▍                       | 410/1000 [00:36<00:51, 11.44it/s]\u001b[A\n",
      " 41%|████████████████▍                       | 412/1000 [00:36<00:51, 11.43it/s]\u001b[A"
     ]
    },
    {
     "name": "stdout",
     "output_type": "stream",
     "text": [
      "0.0868232250213623\n",
      "0.08495116233825684\n",
      "0.0895073413848877\n"
     ]
    },
    {
     "name": "stderr",
     "output_type": "stream",
     "text": [
      "\n",
      " 41%|████████████████▌                       | 414/1000 [00:36<00:51, 11.44it/s]\u001b[A"
     ]
    },
    {
     "name": "stdout",
     "output_type": "stream",
     "text": [
      "0.08603596687316895\n",
      "0.08712434768676758\n",
      "0.0877528190612793\n"
     ]
    },
    {
     "name": "stderr",
     "output_type": "stream",
     "text": [
      "\n",
      " 42%|████████████████▋                       | 416/1000 [00:36<00:51, 11.41it/s]\u001b[A\n",
      " 42%|████████████████▋                       | 418/1000 [00:36<00:50, 11.42it/s]\u001b[A"
     ]
    },
    {
     "name": "stdout",
     "output_type": "stream",
     "text": [
      "0.08757853507995605\n",
      "0.08535552024841309\n",
      "0.08846807479858398\n"
     ]
    },
    {
     "name": "stderr",
     "output_type": "stream",
     "text": [
      "\n",
      " 42%|████████████████▊                       | 420/1000 [00:37<00:50, 11.43it/s]\u001b[A"
     ]
    },
    {
     "name": "stdout",
     "output_type": "stream",
     "text": [
      "0.08583760261535645\n",
      "0.08734273910522461\n",
      "0.08610081672668457\n"
     ]
    },
    {
     "name": "stderr",
     "output_type": "stream",
     "text": [
      "\n",
      " 42%|████████████████▉                       | 422/1000 [00:37<00:50, 11.44it/s]\u001b[A\n",
      " 42%|████████████████▉                       | 424/1000 [00:37<00:50, 11.45it/s]\u001b[A"
     ]
    },
    {
     "name": "stdout",
     "output_type": "stream",
     "text": [
      "0.08706998825073242\n",
      "0.08411478996276855\n",
      "0.08888030052185059\n"
     ]
    },
    {
     "name": "stderr",
     "output_type": "stream",
     "text": [
      "\n",
      " 43%|█████████████████                       | 426/1000 [00:37<00:50, 11.44it/s]\u001b[A"
     ]
    },
    {
     "name": "stdout",
     "output_type": "stream",
     "text": [
      "0.08618450164794922\n",
      "0.0879983901977539\n",
      "0.08634376525878906\n"
     ]
    },
    {
     "name": "stderr",
     "output_type": "stream",
     "text": [
      "\n",
      " 43%|█████████████████                       | 428/1000 [00:37<00:49, 11.46it/s]\u001b[A\n",
      " 43%|█████████████████▏                      | 430/1000 [00:37<00:49, 11.44it/s]\u001b[A"
     ]
    },
    {
     "name": "stdout",
     "output_type": "stream",
     "text": [
      "0.08628988265991211\n",
      "0.08525657653808594\n",
      "0.08904623985290527\n"
     ]
    },
    {
     "name": "stderr",
     "output_type": "stream",
     "text": [
      "\n",
      " 43%|█████████████████▎                      | 432/1000 [00:38<00:49, 11.39it/s]\u001b[A"
     ]
    },
    {
     "name": "stdout",
     "output_type": "stream",
     "text": [
      "0.08676743507385254\n",
      "0.08932876586914062\n",
      "0.08760786056518555\n"
     ]
    },
    {
     "name": "stderr",
     "output_type": "stream",
     "text": [
      "\n",
      " 43%|█████████████████▎                      | 434/1000 [00:38<00:49, 11.37it/s]\u001b[A\n",
      " 44%|█████████████████▍                      | 436/1000 [00:38<00:49, 11.39it/s]\u001b[A"
     ]
    },
    {
     "name": "stdout",
     "output_type": "stream",
     "text": [
      "0.08785891532897949\n",
      "0.08464169502258301\n",
      "0.08891820907592773\n"
     ]
    },
    {
     "name": "stderr",
     "output_type": "stream",
     "text": [
      "\n",
      " 44%|█████████████████▌                      | 438/1000 [00:38<00:49, 11.40it/s]\u001b[A"
     ]
    },
    {
     "name": "stdout",
     "output_type": "stream",
     "text": [
      "0.08656883239746094\n",
      "0.08772778511047363\n",
      "0.08762812614440918\n"
     ]
    },
    {
     "name": "stderr",
     "output_type": "stream",
     "text": [
      "\n",
      " 44%|█████████████████▌                      | 440/1000 [00:38<00:49, 11.37it/s]\u001b[A\n",
      " 44%|█████████████████▋                      | 442/1000 [00:38<00:48, 11.41it/s]\u001b[A"
     ]
    },
    {
     "name": "stdout",
     "output_type": "stream",
     "text": [
      "0.0880289077758789\n",
      "0.0841820240020752\n",
      "0.08878922462463379\n"
     ]
    },
    {
     "name": "stderr",
     "output_type": "stream",
     "text": [
      "\n",
      " 44%|█████████████████▊                      | 444/1000 [00:39<00:48, 11.43it/s]\u001b[A"
     ]
    },
    {
     "name": "stdout",
     "output_type": "stream",
     "text": [
      "0.08595490455627441\n",
      "0.08690953254699707\n",
      "0.08751869201660156\n"
     ]
    },
    {
     "name": "stderr",
     "output_type": "stream",
     "text": [
      "\n",
      " 45%|█████████████████▊                      | 446/1000 [00:39<00:48, 11.42it/s]\u001b[A\n",
      " 45%|█████████████████▉                      | 448/1000 [00:39<00:48, 11.40it/s]\u001b[A"
     ]
    },
    {
     "name": "stdout",
     "output_type": "stream",
     "text": [
      "0.08708429336547852\n",
      "0.08637690544128418\n",
      "0.0885317325592041\n"
     ]
    },
    {
     "name": "stderr",
     "output_type": "stream",
     "text": [
      "\n",
      " 45%|██████████████████                      | 450/1000 [00:39<00:48, 11.40it/s]\u001b[A"
     ]
    },
    {
     "name": "stdout",
     "output_type": "stream",
     "text": [
      "0.0867609977722168\n",
      "0.0872950553894043\n",
      "0.08570289611816406\n"
     ]
    },
    {
     "name": "stderr",
     "output_type": "stream",
     "text": [
      "\n",
      " 45%|██████████████████                      | 452/1000 [00:39<00:48, 11.37it/s]\u001b[A\n",
      " 45%|██████████████████▏                     | 454/1000 [00:39<00:48, 11.37it/s]\u001b[A"
     ]
    },
    {
     "name": "stdout",
     "output_type": "stream",
     "text": [
      "0.08999514579772949\n",
      "0.08612608909606934\n",
      "0.08916664123535156\n"
     ]
    },
    {
     "name": "stderr",
     "output_type": "stream",
     "text": [
      "\n",
      " 46%|██████████████████▏                     | 456/1000 [00:40<00:47, 11.36it/s]\u001b[A"
     ]
    },
    {
     "name": "stdout",
     "output_type": "stream",
     "text": [
      "0.08639764785766602\n",
      "0.08875441551208496\n",
      "0.08665943145751953\n"
     ]
    },
    {
     "name": "stderr",
     "output_type": "stream",
     "text": [
      "\n",
      " 46%|██████████████████▎                     | 458/1000 [00:40<00:47, 11.35it/s]\u001b[A\n",
      " 46%|██████████████████▍                     | 460/1000 [00:40<00:47, 11.37it/s]\u001b[A"
     ]
    },
    {
     "name": "stdout",
     "output_type": "stream",
     "text": [
      "0.08852648735046387\n",
      "0.08432984352111816\n",
      "0.08952093124389648\n"
     ]
    },
    {
     "name": "stderr",
     "output_type": "stream",
     "text": [
      "\n",
      " 46%|██████████████████▍                     | 462/1000 [00:40<00:47, 11.35it/s]\u001b[A"
     ]
    },
    {
     "name": "stdout",
     "output_type": "stream",
     "text": [
      "0.08649897575378418\n",
      "0.08933234214782715\n",
      "0.08688879013061523\n"
     ]
    },
    {
     "name": "stderr",
     "output_type": "stream",
     "text": [
      "\n",
      " 46%|██████████████████▌                     | 464/1000 [00:40<00:47, 11.34it/s]\u001b[A\n",
      " 47%|██████████████████▋                     | 466/1000 [00:41<00:47, 11.20it/s]\u001b[A"
     ]
    },
    {
     "name": "stdout",
     "output_type": "stream",
     "text": [
      "0.08867526054382324\n",
      "0.08423352241516113\n",
      "0.09815287590026855\n"
     ]
    },
    {
     "name": "stderr",
     "output_type": "stream",
     "text": [
      "\n",
      " 47%|██████████████████▋                     | 468/1000 [00:41<00:47, 11.24it/s]\u001b[A"
     ]
    },
    {
     "name": "stdout",
     "output_type": "stream",
     "text": [
      "0.0865781307220459\n",
      "0.08855390548706055\n",
      "0.08634114265441895\n"
     ]
    },
    {
     "name": "stderr",
     "output_type": "stream",
     "text": [
      "\n",
      " 47%|██████████████████▊                     | 470/1000 [00:41<00:47, 11.24it/s]\u001b[A\n",
      " 47%|██████████████████▉                     | 472/1000 [00:41<00:46, 11.29it/s]\u001b[A"
     ]
    },
    {
     "name": "stdout",
     "output_type": "stream",
     "text": [
      "0.09081602096557617\n",
      "0.08468437194824219\n",
      "0.08903861045837402\n"
     ]
    },
    {
     "name": "stderr",
     "output_type": "stream",
     "text": [
      "\n",
      " 47%|██████████████████▉                     | 474/1000 [00:41<00:46, 11.33it/s]\u001b[A"
     ]
    },
    {
     "name": "stdout",
     "output_type": "stream",
     "text": [
      "0.08565640449523926\n",
      "0.08824610710144043\n",
      "0.08557462692260742\n"
     ]
    },
    {
     "name": "stderr",
     "output_type": "stream",
     "text": [
      "\n",
      " 48%|███████████████████                     | 476/1000 [00:41<00:46, 11.35it/s]\u001b[A\n",
      " 48%|███████████████████                     | 478/1000 [00:42<00:45, 11.38it/s]\u001b[A"
     ]
    },
    {
     "name": "stdout",
     "output_type": "stream",
     "text": [
      "0.08881568908691406\n",
      "0.08555769920349121\n",
      "0.08782792091369629\n"
     ]
    },
    {
     "name": "stderr",
     "output_type": "stream",
     "text": [
      "\n",
      " 48%|███████████████████▏                    | 480/1000 [00:42<00:45, 11.41it/s]\u001b[A"
     ]
    },
    {
     "name": "stdout",
     "output_type": "stream",
     "text": [
      "0.0857241153717041\n",
      "0.08713769912719727\n",
      "0.08650469779968262\n"
     ]
    },
    {
     "name": "stderr",
     "output_type": "stream",
     "text": [
      "\n",
      " 48%|███████████████████▎                    | 482/1000 [00:42<00:45, 11.39it/s]\u001b[A\n",
      " 48%|███████████████████▎                    | 484/1000 [00:42<00:45, 11.40it/s]\u001b[A"
     ]
    },
    {
     "name": "stdout",
     "output_type": "stream",
     "text": [
      "0.08862137794494629\n",
      "0.08587646484375\n",
      "0.08789920806884766\n"
     ]
    },
    {
     "name": "stderr",
     "output_type": "stream",
     "text": [
      "\n",
      " 49%|███████████████████▍                    | 486/1000 [00:42<00:45, 11.38it/s]\u001b[A"
     ]
    },
    {
     "name": "stdout",
     "output_type": "stream",
     "text": [
      "0.08716869354248047\n",
      "0.08812999725341797\n",
      "0.08535933494567871\n"
     ]
    },
    {
     "name": "stderr",
     "output_type": "stream",
     "text": [
      "\n",
      " 49%|███████████████████▌                    | 488/1000 [00:42<00:45, 11.34it/s]\u001b[A\n",
      " 49%|███████████████████▌                    | 490/1000 [00:43<00:44, 11.38it/s]\u001b[A"
     ]
    },
    {
     "name": "stdout",
     "output_type": "stream",
     "text": [
      "0.09090614318847656\n",
      "0.08505702018737793\n",
      "0.0874929428100586\n"
     ]
    },
    {
     "name": "stderr",
     "output_type": "stream",
     "text": [
      "\n",
      " 49%|███████████████████▋                    | 492/1000 [00:43<00:44, 11.36it/s]\u001b[A"
     ]
    },
    {
     "name": "stdout",
     "output_type": "stream",
     "text": [
      "0.08782339096069336\n",
      "0.08740830421447754\n",
      "0.08565473556518555\n"
     ]
    },
    {
     "name": "stderr",
     "output_type": "stream",
     "text": [
      "\n",
      " 49%|███████████████████▊                    | 494/1000 [00:43<00:44, 11.32it/s]\u001b[A\n",
      " 50%|███████████████████▊                    | 496/1000 [00:43<00:44, 11.35it/s]\u001b[A"
     ]
    },
    {
     "name": "stdout",
     "output_type": "stream",
     "text": [
      "0.09145665168762207\n",
      "0.08640909194946289\n",
      "0.08704781532287598\n"
     ]
    },
    {
     "name": "stderr",
     "output_type": "stream",
     "text": [
      "\n",
      " 50%|███████████████████▉                    | 498/1000 [00:43<00:44, 11.36it/s]\u001b[A"
     ]
    },
    {
     "name": "stdout",
     "output_type": "stream",
     "text": [
      "0.08779454231262207\n",
      "0.08675122261047363\n",
      "0.08672237396240234\n"
     ]
    },
    {
     "name": "stderr",
     "output_type": "stream",
     "text": [
      "\n",
      " 50%|████████████████████                    | 500/1000 [00:44<00:44, 11.29it/s]\u001b[A\n",
      " 50%|████████████████████                    | 502/1000 [00:44<00:43, 11.36it/s]\u001b[A"
     ]
    },
    {
     "name": "stdout",
     "output_type": "stream",
     "text": [
      "0.09123802185058594\n",
      "0.08608841896057129\n",
      "0.08611011505126953\n"
     ]
    },
    {
     "name": "stderr",
     "output_type": "stream",
     "text": [
      "\n",
      " 50%|████████████████████▏                   | 504/1000 [00:44<00:43, 11.33it/s]\u001b[A"
     ]
    },
    {
     "name": "stdout",
     "output_type": "stream",
     "text": [
      "0.08997607231140137\n",
      "0.08620309829711914\n",
      "0.0853888988494873\n"
     ]
    },
    {
     "name": "stderr",
     "output_type": "stream",
     "text": [
      "\n",
      " 51%|████████████████████▏                   | 506/1000 [00:44<00:43, 11.33it/s]\u001b[A\n",
      " 51%|████████████████████▎                   | 508/1000 [00:44<00:43, 11.42it/s]\u001b[A"
     ]
    },
    {
     "name": "stdout",
     "output_type": "stream",
     "text": [
      "0.08971858024597168\n",
      "0.08541345596313477\n",
      "0.08514881134033203\n"
     ]
    },
    {
     "name": "stderr",
     "output_type": "stream",
     "text": [
      "\n",
      " 51%|████████████████████▍                   | 510/1000 [00:44<00:42, 11.44it/s]\u001b[A"
     ]
    },
    {
     "name": "stdout",
     "output_type": "stream",
     "text": [
      "0.08771514892578125\n",
      "0.08484387397766113\n",
      "0.08591985702514648\n"
     ]
    },
    {
     "name": "stderr",
     "output_type": "stream",
     "text": [
      "\n",
      " 51%|████████████████████▍                   | 512/1000 [00:45<00:42, 11.43it/s]\u001b[A\n",
      " 51%|████████████████████▌                   | 514/1000 [00:45<00:42, 11.45it/s]\u001b[A"
     ]
    },
    {
     "name": "stdout",
     "output_type": "stream",
     "text": [
      "0.08796405792236328\n",
      "0.08689522743225098\n",
      "0.08558917045593262\n"
     ]
    },
    {
     "name": "stderr",
     "output_type": "stream",
     "text": [
      "\n",
      " 52%|████████████████████▋                   | 516/1000 [00:45<00:42, 11.41it/s]\u001b[A"
     ]
    },
    {
     "name": "stdout",
     "output_type": "stream",
     "text": [
      "0.08961915969848633\n",
      "0.08594989776611328\n",
      "0.08804154396057129\n"
     ]
    },
    {
     "name": "stderr",
     "output_type": "stream",
     "text": [
      "\n",
      " 52%|████████████████████▋                   | 518/1000 [00:45<00:42, 11.37it/s]\u001b[A\n",
      " 52%|████████████████████▊                   | 520/1000 [00:45<00:41, 11.44it/s]\u001b[A"
     ]
    },
    {
     "name": "stdout",
     "output_type": "stream",
     "text": [
      "0.08782243728637695\n",
      "0.08721208572387695\n",
      "0.08358168601989746\n"
     ]
    },
    {
     "name": "stderr",
     "output_type": "stream",
     "text": [
      "\n",
      " 52%|████████████████████▉                   | 522/1000 [00:45<00:41, 11.41it/s]\u001b[A"
     ]
    },
    {
     "name": "stdout",
     "output_type": "stream",
     "text": [
      "0.09073257446289062\n",
      "0.08410787582397461\n",
      "0.08773255348205566\n"
     ]
    },
    {
     "name": "stderr",
     "output_type": "stream",
     "text": [
      "\n",
      " 52%|████████████████████▉                   | 524/1000 [00:46<00:41, 11.40it/s]\u001b[A\n",
      " 53%|█████████████████████                   | 526/1000 [00:46<00:41, 11.46it/s]\u001b[A"
     ]
    },
    {
     "name": "stdout",
     "output_type": "stream",
     "text": [
      "0.08682060241699219\n",
      "0.08733344078063965\n",
      "0.08426165580749512\n"
     ]
    },
    {
     "name": "stderr",
     "output_type": "stream",
     "text": [
      "\n",
      " 53%|█████████████████████                   | 528/1000 [00:46<00:41, 11.42it/s]\u001b[A"
     ]
    },
    {
     "name": "stdout",
     "output_type": "stream",
     "text": [
      "0.09116601943969727\n",
      "0.0840139389038086\n",
      "0.08757877349853516\n"
     ]
    },
    {
     "name": "stderr",
     "output_type": "stream",
     "text": [
      "\n",
      " 53%|█████████████████████▏                  | 530/1000 [00:46<00:41, 11.39it/s]\u001b[A\n",
      " 53%|█████████████████████▎                  | 532/1000 [00:46<00:40, 11.45it/s]\u001b[A"
     ]
    },
    {
     "name": "stdout",
     "output_type": "stream",
     "text": [
      "0.08763408660888672\n",
      "0.08763790130615234\n",
      "0.08361530303955078\n"
     ]
    },
    {
     "name": "stderr",
     "output_type": "stream",
     "text": [
      "\n",
      " 53%|█████████████████████▎                  | 534/1000 [00:47<00:40, 11.43it/s]\u001b[A"
     ]
    },
    {
     "name": "stdout",
     "output_type": "stream",
     "text": [
      "0.09099745750427246\n",
      "0.08354020118713379\n",
      "0.08971667289733887\n"
     ]
    },
    {
     "name": "stderr",
     "output_type": "stream",
     "text": [
      "\n",
      " 54%|█████████████████████▍                  | 536/1000 [00:47<00:40, 11.36it/s]\u001b[A\n",
      " 54%|█████████████████████▌                  | 538/1000 [00:47<00:40, 11.38it/s]\u001b[A"
     ]
    },
    {
     "name": "stdout",
     "output_type": "stream",
     "text": [
      "0.08776736259460449\n",
      "0.08856368064880371\n",
      "0.08529496192932129\n"
     ]
    },
    {
     "name": "stderr",
     "output_type": "stream",
     "text": [
      "\n",
      " 54%|█████████████████████▌                  | 540/1000 [00:47<00:40, 11.33it/s]\u001b[A"
     ]
    },
    {
     "name": "stdout",
     "output_type": "stream",
     "text": [
      "0.09192895889282227\n",
      "0.08516621589660645\n",
      "0.09007406234741211\n"
     ]
    },
    {
     "name": "stderr",
     "output_type": "stream",
     "text": [
      "\n",
      " 54%|█████████████████████▋                  | 542/1000 [00:47<00:40, 11.27it/s]\u001b[A\n",
      " 54%|█████████████████████▊                  | 544/1000 [00:47<00:40, 11.34it/s]\u001b[A"
     ]
    },
    {
     "name": "stdout",
     "output_type": "stream",
     "text": [
      "0.08847928047180176\n",
      "0.08829283714294434\n",
      "0.08392596244812012\n"
     ]
    },
    {
     "name": "stderr",
     "output_type": "stream",
     "text": [
      "\n",
      " 55%|█████████████████████▊                  | 546/1000 [00:48<00:39, 11.37it/s]\u001b[A"
     ]
    },
    {
     "name": "stdout",
     "output_type": "stream",
     "text": [
      "0.08989667892456055\n",
      "0.08379912376403809\n",
      "0.08971595764160156\n"
     ]
    },
    {
     "name": "stderr",
     "output_type": "stream",
     "text": [
      "\n",
      " 55%|█████████████████████▉                  | 548/1000 [00:48<00:39, 11.33it/s]\u001b[A\n",
      " 55%|██████████████████████                  | 550/1000 [00:48<00:39, 11.27it/s]\u001b[A"
     ]
    },
    {
     "name": "stdout",
     "output_type": "stream",
     "text": [
      "0.08739781379699707\n",
      "0.09262371063232422\n",
      "0.0854196548461914\n"
     ]
    },
    {
     "name": "stderr",
     "output_type": "stream",
     "text": [
      "\n",
      " 55%|██████████████████████                  | 552/1000 [00:48<00:39, 11.27it/s]\u001b[A"
     ]
    },
    {
     "name": "stdout",
     "output_type": "stream",
     "text": [
      "0.09197735786437988\n",
      "0.08462691307067871\n",
      "0.0882408618927002\n"
     ]
    },
    {
     "name": "stderr",
     "output_type": "stream",
     "text": [
      "\n",
      " 55%|██████████████████████▏                 | 554/1000 [00:48<00:39, 11.30it/s]\u001b[A\n",
      " 56%|██████████████████████▏                 | 556/1000 [00:48<00:39, 11.33it/s]\u001b[A"
     ]
    },
    {
     "name": "stdout",
     "output_type": "stream",
     "text": [
      "0.0865621566772461\n",
      "0.09020662307739258\n",
      "0.08371853828430176\n"
     ]
    },
    {
     "name": "stderr",
     "output_type": "stream",
     "text": [
      "\n",
      " 56%|██████████████████████▎                 | 558/1000 [00:49<00:39, 11.33it/s]\u001b[A"
     ]
    },
    {
     "name": "stdout",
     "output_type": "stream",
     "text": [
      "0.09043478965759277\n",
      "0.08513259887695312\n",
      "0.08794379234313965\n"
     ]
    },
    {
     "name": "stderr",
     "output_type": "stream",
     "text": [
      "\n",
      " 56%|██████████████████████▍                 | 560/1000 [00:49<00:38, 11.34it/s]\u001b[A\n",
      " 56%|██████████████████████▍                 | 562/1000 [00:49<00:38, 11.34it/s]\u001b[A"
     ]
    },
    {
     "name": "stdout",
     "output_type": "stream",
     "text": [
      "0.08683085441589355\n",
      "0.09121370315551758\n",
      "0.08377599716186523\n"
     ]
    },
    {
     "name": "stderr",
     "output_type": "stream",
     "text": [
      "\n",
      " 56%|██████████████████████▌                 | 564/1000 [00:49<00:38, 11.33it/s]\u001b[A"
     ]
    },
    {
     "name": "stdout",
     "output_type": "stream",
     "text": [
      "0.0918114185333252\n",
      "0.08378481864929199\n",
      "0.08969831466674805\n"
     ]
    },
    {
     "name": "stderr",
     "output_type": "stream",
     "text": [
      "\n",
      " 57%|██████████████████████▋                 | 566/1000 [00:49<00:38, 11.32it/s]\u001b[A\n",
      " 57%|██████████████████████▋                 | 568/1000 [00:50<00:38, 11.30it/s]\u001b[A"
     ]
    },
    {
     "name": "stdout",
     "output_type": "stream",
     "text": [
      "0.08612346649169922\n",
      "0.09219074249267578\n",
      "0.08426237106323242\n"
     ]
    },
    {
     "name": "stderr",
     "output_type": "stream",
     "text": [
      "\n",
      " 57%|██████████████████████▊                 | 570/1000 [00:50<00:38, 11.12it/s]\u001b[A"
     ]
    },
    {
     "name": "stdout",
     "output_type": "stream",
     "text": [
      "0.09679841995239258\n",
      "0.0884542465209961\n",
      "0.08586239814758301\n"
     ]
    },
    {
     "name": "stderr",
     "output_type": "stream",
     "text": [
      "\n",
      " 57%|██████████████████████▉                 | 572/1000 [00:50<00:38, 11.18it/s]\u001b[A\n",
      " 57%|██████████████████████▉                 | 574/1000 [00:50<00:37, 11.22it/s]\u001b[A"
     ]
    },
    {
     "name": "stdout",
     "output_type": "stream",
     "text": [
      "0.08976006507873535\n",
      "0.08774685859680176\n",
      "0.0877230167388916\n"
     ]
    },
    {
     "name": "stderr",
     "output_type": "stream",
     "text": [
      "\n",
      " 58%|███████████████████████                 | 576/1000 [00:50<00:37, 11.17it/s]\u001b[A"
     ]
    },
    {
     "name": "stdout",
     "output_type": "stream",
     "text": [
      "0.08915090560913086\n",
      "0.09039592742919922\n",
      "0.09100484848022461\n"
     ]
    },
    {
     "name": "stderr",
     "output_type": "stream",
     "text": [
      "\n",
      " 58%|███████████████████████                 | 578/1000 [00:50<00:37, 11.17it/s]\u001b[A\n",
      " 58%|███████████████████████▏                | 580/1000 [00:51<00:37, 11.26it/s]\u001b[A"
     ]
    },
    {
     "name": "stdout",
     "output_type": "stream",
     "text": [
      "0.08621907234191895\n",
      "0.08866763114929199\n",
      "0.08447504043579102\n"
     ]
    },
    {
     "name": "stderr",
     "output_type": "stream",
     "text": [
      "\n",
      " 58%|███████████████████████▎                | 582/1000 [00:51<00:37, 11.27it/s]\u001b[A"
     ]
    },
    {
     "name": "stdout",
     "output_type": "stream",
     "text": [
      "0.08991646766662598\n",
      "0.08614015579223633\n",
      "0.08895993232727051\n"
     ]
    },
    {
     "name": "stderr",
     "output_type": "stream",
     "text": [
      "\n",
      " 58%|███████████████████████▎                | 584/1000 [00:51<00:36, 11.27it/s]\u001b[A\n",
      " 59%|███████████████████████▍                | 586/1000 [00:51<00:36, 11.27it/s]\u001b[A"
     ]
    },
    {
     "name": "stdout",
     "output_type": "stream",
     "text": [
      "0.08715677261352539\n",
      "0.0910193920135498\n",
      "0.0851590633392334\n"
     ]
    },
    {
     "name": "stderr",
     "output_type": "stream",
     "text": [
      "\n",
      " 59%|███████████████████████▌                | 588/1000 [00:51<00:36, 11.27it/s]\u001b[A"
     ]
    },
    {
     "name": "stdout",
     "output_type": "stream",
     "text": [
      "0.08929443359375\n",
      "0.08725786209106445\n",
      "0.08910250663757324\n"
     ]
    },
    {
     "name": "stderr",
     "output_type": "stream",
     "text": [
      "\n",
      " 59%|███████████████████████▌                | 590/1000 [00:51<00:36, 11.29it/s]\u001b[A\n",
      " 59%|███████████████████████▋                | 592/1000 [00:52<00:35, 11.37it/s]\u001b[A"
     ]
    },
    {
     "name": "stdout",
     "output_type": "stream",
     "text": [
      "0.08633685111999512\n",
      "0.08792996406555176\n",
      "0.08388519287109375\n"
     ]
    },
    {
     "name": "stderr",
     "output_type": "stream",
     "text": [
      "\n",
      " 59%|███████████████████████▊                | 594/1000 [00:52<00:35, 11.34it/s]\u001b[A"
     ]
    },
    {
     "name": "stdout",
     "output_type": "stream",
     "text": [
      "0.08923506736755371\n",
      "0.08687520027160645\n",
      "0.08943700790405273\n"
     ]
    },
    {
     "name": "stderr",
     "output_type": "stream",
     "text": [
      "\n",
      " 60%|███████████████████████▊                | 596/1000 [00:52<00:35, 11.31it/s]\u001b[A\n",
      " 60%|███████████████████████▉                | 598/1000 [00:52<00:35, 11.35it/s]\u001b[A"
     ]
    },
    {
     "name": "stdout",
     "output_type": "stream",
     "text": [
      "0.08727049827575684\n",
      "0.08913278579711914\n",
      "0.083984375\n"
     ]
    },
    {
     "name": "stderr",
     "output_type": "stream",
     "text": [
      "\n",
      " 60%|████████████████████████                | 600/1000 [00:52<00:35, 11.31it/s]\u001b[A"
     ]
    },
    {
     "name": "stdout",
     "output_type": "stream",
     "text": [
      "0.09082913398742676\n",
      "0.08626413345336914\n",
      "0.0867621898651123\n"
     ]
    },
    {
     "name": "stderr",
     "output_type": "stream",
     "text": [
      "\n",
      " 60%|████████████████████████                | 602/1000 [00:53<00:35, 11.32it/s]\u001b[A\n",
      " 60%|████████████████████████▏               | 604/1000 [00:53<00:35, 11.31it/s]\u001b[A"
     ]
    },
    {
     "name": "stdout",
     "output_type": "stream",
     "text": [
      "0.08819770812988281\n",
      "0.0894765853881836\n",
      "0.08635282516479492\n"
     ]
    },
    {
     "name": "stderr",
     "output_type": "stream",
     "text": [
      "\n",
      " 61%|████████████████████████▏               | 606/1000 [00:53<00:34, 11.30it/s]\u001b[A"
     ]
    },
    {
     "name": "stdout",
     "output_type": "stream",
     "text": [
      "0.08931231498718262\n",
      "0.08674979209899902\n",
      "0.08687329292297363\n"
     ]
    },
    {
     "name": "stderr",
     "output_type": "stream",
     "text": [
      "\n",
      " 61%|████████████████████████▎               | 608/1000 [00:53<00:34, 11.35it/s]\u001b[A\n",
      " 61%|████████████████████████▍               | 610/1000 [00:53<00:34, 11.36it/s]\u001b[A"
     ]
    },
    {
     "name": "stdout",
     "output_type": "stream",
     "text": [
      "0.08655405044555664\n",
      "0.0878145694732666\n",
      "0.08684110641479492\n"
     ]
    },
    {
     "name": "stderr",
     "output_type": "stream",
     "text": [
      "\n",
      " 61%|████████████████████████▍               | 612/1000 [00:53<00:34, 11.35it/s]\u001b[A"
     ]
    },
    {
     "name": "stdout",
     "output_type": "stream",
     "text": [
      "0.08783960342407227\n",
      "0.08714056015014648\n",
      "0.08583307266235352\n"
     ]
    },
    {
     "name": "stderr",
     "output_type": "stream",
     "text": [
      "\n",
      " 61%|████████████████████████▌               | 614/1000 [00:54<00:33, 11.37it/s]\u001b[A\n",
      " 62%|████████████████████████▋               | 616/1000 [00:54<00:33, 11.40it/s]\u001b[A"
     ]
    },
    {
     "name": "stdout",
     "output_type": "stream",
     "text": [
      "0.08863711357116699\n",
      "0.0877687931060791\n",
      "0.08562350273132324\n"
     ]
    },
    {
     "name": "stderr",
     "output_type": "stream",
     "text": [
      "\n",
      " 62%|████████████████████████▋               | 618/1000 [00:54<00:33, 11.36it/s]\u001b[A"
     ]
    },
    {
     "name": "stdout",
     "output_type": "stream",
     "text": [
      "0.0872197151184082\n",
      "0.08907270431518555\n",
      "0.08624100685119629\n"
     ]
    },
    {
     "name": "stderr",
     "output_type": "stream",
     "text": [
      "\n",
      " 62%|████████████████████████▊               | 620/1000 [00:54<00:33, 11.35it/s]\u001b[A\n",
      " 62%|████████████████████████▉               | 622/1000 [00:54<00:33, 11.39it/s]\u001b[A"
     ]
    },
    {
     "name": "stdout",
     "output_type": "stream",
     "text": [
      "0.08931803703308105\n",
      "0.08721351623535156\n",
      "0.08587789535522461\n"
     ]
    },
    {
     "name": "stderr",
     "output_type": "stream",
     "text": [
      "\n",
      " 62%|████████████████████████▉               | 624/1000 [00:54<00:33, 11.37it/s]\u001b[A"
     ]
    },
    {
     "name": "stdout",
     "output_type": "stream",
     "text": [
      "0.08674407005310059\n",
      "0.08850789070129395\n",
      "0.08604669570922852\n"
     ]
    },
    {
     "name": "stderr",
     "output_type": "stream",
     "text": [
      "\n",
      " 63%|█████████████████████████               | 626/1000 [00:55<00:32, 11.36it/s]\u001b[A\n",
      " 63%|█████████████████████████               | 628/1000 [00:55<00:33, 11.23it/s]\u001b[A"
     ]
    },
    {
     "name": "stdout",
     "output_type": "stream",
     "text": [
      "0.08917951583862305\n",
      "0.08823609352111816\n",
      "0.09370279312133789\n"
     ]
    },
    {
     "name": "stderr",
     "output_type": "stream",
     "text": [
      "\n",
      " 63%|█████████████████████████▏              | 630/1000 [00:55<00:32, 11.21it/s]\u001b[A"
     ]
    },
    {
     "name": "stdout",
     "output_type": "stream",
     "text": [
      "0.08878564834594727\n",
      "0.08896064758300781\n",
      "0.08733963966369629\n"
     ]
    },
    {
     "name": "stderr",
     "output_type": "stream",
     "text": [
      "\n",
      " 63%|█████████████████████████▎              | 632/1000 [00:55<00:32, 11.21it/s]\u001b[A\n",
      " 63%|█████████████████████████▎              | 634/1000 [00:55<00:32, 11.22it/s]\u001b[A"
     ]
    },
    {
     "name": "stdout",
     "output_type": "stream",
     "text": [
      "0.08974647521972656\n",
      "0.08768105506896973\n",
      "0.08906412124633789\n"
     ]
    },
    {
     "name": "stderr",
     "output_type": "stream",
     "text": [
      "\n",
      " 64%|█████████████████████████▍              | 636/1000 [00:56<00:32, 11.24it/s]\u001b[A"
     ]
    },
    {
     "name": "stdout",
     "output_type": "stream",
     "text": [
      "0.08687424659729004\n",
      "0.08927774429321289\n",
      "0.0850064754486084\n"
     ]
    },
    {
     "name": "stderr",
     "output_type": "stream",
     "text": [
      "\n",
      " 64%|█████████████████████████▌              | 638/1000 [00:56<00:32, 11.28it/s]\u001b[A\n",
      " 64%|█████████████████████████▌              | 640/1000 [00:56<00:31, 11.28it/s]\u001b[A"
     ]
    },
    {
     "name": "stdout",
     "output_type": "stream",
     "text": [
      "0.08950257301330566\n",
      "0.0872805118560791\n",
      "0.08910202980041504\n"
     ]
    },
    {
     "name": "stderr",
     "output_type": "stream",
     "text": [
      "\n",
      " 64%|█████████████████████████▋              | 642/1000 [00:56<00:31, 11.27it/s]\u001b[A"
     ]
    },
    {
     "name": "stdout",
     "output_type": "stream",
     "text": [
      "0.08673977851867676\n",
      "0.08970832824707031\n",
      "0.08623933792114258\n"
     ]
    },
    {
     "name": "stderr",
     "output_type": "stream",
     "text": [
      "\n",
      " 64%|█████████████████████████▊              | 644/1000 [00:56<00:31, 11.31it/s]\u001b[A\n",
      " 65%|█████████████████████████▊              | 646/1000 [00:56<00:31, 11.37it/s]\u001b[A"
     ]
    },
    {
     "name": "stdout",
     "output_type": "stream",
     "text": [
      "0.08784294128417969\n",
      "0.0869135856628418\n",
      "0.08589959144592285\n"
     ]
    },
    {
     "name": "stderr",
     "output_type": "stream",
     "text": [
      "\n",
      " 65%|█████████████████████████▉              | 648/1000 [00:57<00:30, 11.37it/s]\u001b[A"
     ]
    },
    {
     "name": "stdout",
     "output_type": "stream",
     "text": [
      "0.08612513542175293\n",
      "0.08876466751098633\n",
      "0.08449125289916992\n"
     ]
    },
    {
     "name": "stderr",
     "output_type": "stream",
     "text": [
      "\n",
      " 65%|██████████████████████████              | 650/1000 [00:57<00:30, 11.38it/s]\u001b[A\n",
      " 65%|██████████████████████████              | 652/1000 [00:57<00:30, 11.36it/s]\u001b[A"
     ]
    },
    {
     "name": "stdout",
     "output_type": "stream",
     "text": [
      "0.08923482894897461\n",
      "0.08846235275268555\n",
      "0.08745956420898438\n"
     ]
    },
    {
     "name": "stderr",
     "output_type": "stream",
     "text": [
      "\n",
      " 65%|██████████████████████████▏             | 654/1000 [00:57<00:30, 11.32it/s]\u001b[A"
     ]
    },
    {
     "name": "stdout",
     "output_type": "stream",
     "text": [
      "0.08744978904724121\n",
      "0.0892024040222168\n",
      "0.08496809005737305\n"
     ]
    },
    {
     "name": "stderr",
     "output_type": "stream",
     "text": [
      "\n",
      " 66%|██████████████████████████▏             | 656/1000 [00:57<00:30, 11.33it/s]\u001b[A\n",
      " 66%|██████████████████████████▎             | 658/1000 [00:57<00:30, 11.33it/s]\u001b[A"
     ]
    },
    {
     "name": "stdout",
     "output_type": "stream",
     "text": [
      "0.08984971046447754\n",
      "0.08738446235656738\n",
      "0.08760190010070801\n"
     ]
    },
    {
     "name": "stderr",
     "output_type": "stream",
     "text": [
      "\n",
      " 66%|██████████████████████████▍             | 660/1000 [00:58<00:29, 11.35it/s]\u001b[A"
     ]
    },
    {
     "name": "stdout",
     "output_type": "stream",
     "text": [
      "0.08632254600524902\n",
      "0.08827590942382812\n",
      "0.08624577522277832\n"
     ]
    },
    {
     "name": "stderr",
     "output_type": "stream",
     "text": [
      "\n",
      " 66%|██████████████████████████▍             | 662/1000 [00:58<00:29, 11.33it/s]\u001b[A\n",
      " 66%|██████████████████████████▌             | 664/1000 [00:58<00:29, 11.30it/s]\u001b[A"
     ]
    },
    {
     "name": "stdout",
     "output_type": "stream",
     "text": [
      "0.08994817733764648\n",
      "0.0886223316192627\n",
      "0.08800339698791504\n"
     ]
    },
    {
     "name": "stderr",
     "output_type": "stream",
     "text": [
      "\n",
      " 67%|██████████████████████████▋             | 666/1000 [00:58<00:29, 11.32it/s]\u001b[A"
     ]
    },
    {
     "name": "stdout",
     "output_type": "stream",
     "text": [
      "0.08667230606079102\n",
      "0.08818888664245605\n",
      "0.08576107025146484\n"
     ]
    },
    {
     "name": "stderr",
     "output_type": "stream",
     "text": [
      "\n",
      " 67%|██████████████████████████▋             | 668/1000 [00:58<00:29, 11.31it/s]\u001b[A\n",
      " 67%|██████████████████████████▊             | 670/1000 [00:59<00:29, 11.18it/s]\u001b[A"
     ]
    },
    {
     "name": "stdout",
     "output_type": "stream",
     "text": [
      "0.08967852592468262\n",
      "0.08629465103149414\n",
      "0.09580326080322266\n"
     ]
    },
    {
     "name": "stderr",
     "output_type": "stream",
     "text": [
      "\n",
      " 67%|██████████████████████████▉             | 672/1000 [00:59<00:29, 11.16it/s]\u001b[A"
     ]
    },
    {
     "name": "stdout",
     "output_type": "stream",
     "text": [
      "0.09064245223999023\n",
      "0.08758020401000977\n",
      "0.0846104621887207\n"
     ]
    },
    {
     "name": "stderr",
     "output_type": "stream",
     "text": [
      "\n",
      " 67%|██████████████████████████▉             | 674/1000 [00:59<00:29, 11.23it/s]\u001b[A\n",
      " 68%|███████████████████████████             | 676/1000 [00:59<00:28, 11.19it/s]\u001b[A"
     ]
    },
    {
     "name": "stdout",
     "output_type": "stream",
     "text": [
      "0.08958005905151367\n",
      "0.08813333511352539\n",
      "0.09087157249450684\n"
     ]
    },
    {
     "name": "stderr",
     "output_type": "stream",
     "text": [
      "\n",
      " 68%|███████████████████████████             | 678/1000 [00:59<00:28, 11.28it/s]\u001b[A"
     ]
    },
    {
     "name": "stdout",
     "output_type": "stream",
     "text": [
      "0.08582258224487305\n",
      "0.08735299110412598\n",
      "0.08668065071105957\n"
     ]
    },
    {
     "name": "stderr",
     "output_type": "stream",
     "text": [
      "\n",
      " 68%|███████████████████████████▏            | 680/1000 [00:59<00:28, 11.28it/s]\u001b[A\n",
      " 68%|███████████████████████████▎            | 682/1000 [01:00<00:28, 11.27it/s]\u001b[A"
     ]
    },
    {
     "name": "stdout",
     "output_type": "stream",
     "text": [
      "0.08902120590209961\n",
      "0.08680486679077148\n",
      "0.08951354026794434\n"
     ]
    },
    {
     "name": "stderr",
     "output_type": "stream",
     "text": [
      "\n",
      " 68%|███████████████████████████▎            | 684/1000 [01:00<00:27, 11.29it/s]\u001b[A"
     ]
    },
    {
     "name": "stdout",
     "output_type": "stream",
     "text": [
      "0.08673906326293945\n",
      "0.08853912353515625\n",
      "0.08695864677429199\n"
     ]
    },
    {
     "name": "stderr",
     "output_type": "stream",
     "text": [
      "\n",
      " 69%|███████████████████████████▍            | 686/1000 [01:00<00:27, 11.28it/s]\u001b[A\n",
      " 69%|███████████████████████████▌            | 688/1000 [01:00<00:27, 11.27it/s]\u001b[A"
     ]
    },
    {
     "name": "stdout",
     "output_type": "stream",
     "text": [
      "0.08944582939147949\n",
      "0.08777928352355957\n",
      "0.08867478370666504\n"
     ]
    },
    {
     "name": "stderr",
     "output_type": "stream",
     "text": [
      "\n",
      " 69%|███████████████████████████▌            | 690/1000 [01:00<00:27, 11.30it/s]\u001b[A"
     ]
    },
    {
     "name": "stdout",
     "output_type": "stream",
     "text": [
      "0.08698415756225586\n",
      "0.08760881423950195\n",
      "0.08722853660583496\n"
     ]
    },
    {
     "name": "stderr",
     "output_type": "stream",
     "text": [
      "\n",
      " 69%|███████████████████████████▋            | 692/1000 [01:01<00:27, 11.28it/s]\u001b[A\n",
      " 69%|███████████████████████████▊            | 694/1000 [01:01<00:27, 11.30it/s]\u001b[A"
     ]
    },
    {
     "name": "stdout",
     "output_type": "stream",
     "text": [
      "0.08900284767150879\n",
      "0.08634305000305176\n",
      "0.08861160278320312\n"
     ]
    },
    {
     "name": "stderr",
     "output_type": "stream",
     "text": [
      "\n",
      " 70%|███████████████████████████▊            | 696/1000 [01:01<00:26, 11.30it/s]\u001b[A"
     ]
    },
    {
     "name": "stdout",
     "output_type": "stream",
     "text": [
      "0.08814334869384766\n",
      "0.08701348304748535\n",
      "0.08695244789123535\n"
     ]
    },
    {
     "name": "stderr",
     "output_type": "stream",
     "text": [
      "\n",
      " 70%|███████████████████████████▉            | 698/1000 [01:01<00:26, 11.29it/s]\u001b[A\n",
      " 70%|████████████████████████████            | 700/1000 [01:01<00:26, 11.31it/s]\u001b[A"
     ]
    },
    {
     "name": "stdout",
     "output_type": "stream",
     "text": [
      "0.08874130249023438\n",
      "0.08640789985656738\n",
      "0.08840584754943848\n"
     ]
    },
    {
     "name": "stderr",
     "output_type": "stream",
     "text": [
      "\n",
      " 70%|████████████████████████████            | 702/1000 [01:01<00:26, 11.29it/s]\u001b[A"
     ]
    },
    {
     "name": "stdout",
     "output_type": "stream",
     "text": [
      "0.09007406234741211\n",
      "0.0862424373626709\n",
      "0.08793973922729492\n"
     ]
    },
    {
     "name": "stderr",
     "output_type": "stream",
     "text": [
      "\n",
      " 70%|████████████████████████████▏           | 704/1000 [01:02<00:26, 11.25it/s]\u001b[A\n",
      " 71%|████████████████████████████▏           | 706/1000 [01:02<00:26, 11.21it/s]\u001b[A"
     ]
    },
    {
     "name": "stdout",
     "output_type": "stream",
     "text": [
      "0.08962392807006836\n",
      "0.08668923377990723\n",
      "0.0919041633605957\n"
     ]
    },
    {
     "name": "stderr",
     "output_type": "stream",
     "text": [
      "\n",
      " 71%|████████████████████████████▎           | 708/1000 [01:02<00:26, 11.22it/s]\u001b[A"
     ]
    },
    {
     "name": "stdout",
     "output_type": "stream",
     "text": [
      "0.08823919296264648\n",
      "0.08793449401855469\n",
      "0.08741617202758789\n"
     ]
    },
    {
     "name": "stderr",
     "output_type": "stream",
     "text": [
      "\n",
      " 71%|████████████████████████████▍           | 710/1000 [01:02<00:25, 11.17it/s]\u001b[A\n",
      " 71%|████████████████████████████▍           | 712/1000 [01:02<00:25, 11.20it/s]\u001b[A"
     ]
    },
    {
     "name": "stdout",
     "output_type": "stream",
     "text": [
      "0.09147334098815918\n",
      "0.08639168739318848\n",
      "0.08962774276733398\n"
     ]
    },
    {
     "name": "stderr",
     "output_type": "stream",
     "text": [
      "\n",
      " 71%|████████████████████████████▌           | 714/1000 [01:02<00:25, 11.24it/s]\u001b[A"
     ]
    },
    {
     "name": "stdout",
     "output_type": "stream",
     "text": [
      "0.08695244789123535\n",
      "0.08810210227966309\n",
      "0.08954787254333496\n"
     ]
    },
    {
     "name": "stderr",
     "output_type": "stream",
     "text": [
      "\n",
      " 72%|████████████████████████████▋           | 716/1000 [01:03<00:25, 11.14it/s]\u001b[A\n",
      " 72%|████████████████████████████▋           | 718/1000 [01:03<00:25, 11.12it/s]\u001b[A"
     ]
    },
    {
     "name": "stdout",
     "output_type": "stream",
     "text": [
      "0.09204435348510742\n",
      "0.08661961555480957\n",
      "0.09227490425109863\n"
     ]
    },
    {
     "name": "stderr",
     "output_type": "stream",
     "text": [
      "\n",
      " 72%|████████████████████████████▊           | 720/1000 [01:03<00:25, 11.18it/s]\u001b[A"
     ]
    },
    {
     "name": "stdout",
     "output_type": "stream",
     "text": [
      "0.08716845512390137\n",
      "0.08805155754089355\n",
      "0.08790993690490723\n"
     ]
    },
    {
     "name": "stderr",
     "output_type": "stream",
     "text": [
      "\n",
      " 72%|████████████████████████████▉           | 722/1000 [01:03<00:24, 11.15it/s]\u001b[A\n",
      " 72%|████████████████████████████▉           | 724/1000 [01:03<00:24, 11.20it/s]\u001b[A"
     ]
    },
    {
     "name": "stdout",
     "output_type": "stream",
     "text": [
      "0.09112119674682617\n",
      "0.08540201187133789\n",
      "0.08965015411376953\n"
     ]
    },
    {
     "name": "stderr",
     "output_type": "stream",
     "text": [
      "\n",
      " 73%|█████████████████████████████           | 726/1000 [01:04<00:24, 11.25it/s]\u001b[A"
     ]
    },
    {
     "name": "stdout",
     "output_type": "stream",
     "text": [
      "0.08642125129699707\n",
      "0.08840560913085938\n",
      "0.08646655082702637\n"
     ]
    },
    {
     "name": "stderr",
     "output_type": "stream",
     "text": [
      "\n",
      " 73%|█████████████████████████████           | 728/1000 [01:04<00:24, 11.22it/s]\u001b[A\n",
      " 73%|█████████████████████████████▏          | 730/1000 [01:04<00:24, 11.17it/s]\u001b[A"
     ]
    },
    {
     "name": "stdout",
     "output_type": "stream",
     "text": [
      "0.09163355827331543\n",
      "0.08713912963867188\n",
      "0.09237074851989746\n"
     ]
    },
    {
     "name": "stderr",
     "output_type": "stream",
     "text": [
      "\n",
      " 73%|█████████████████████████████▎          | 732/1000 [01:04<00:23, 11.24it/s]\u001b[A"
     ]
    },
    {
     "name": "stdout",
     "output_type": "stream",
     "text": [
      "0.08657336235046387\n",
      "0.08748221397399902\n",
      "0.08869433403015137\n"
     ]
    },
    {
     "name": "stderr",
     "output_type": "stream",
     "text": [
      "\n",
      " 73%|█████████████████████████████▎          | 734/1000 [01:04<00:23, 11.19it/s]\u001b[A\n",
      " 74%|█████████████████████████████▍          | 736/1000 [01:04<00:23, 11.21it/s]\u001b[A"
     ]
    },
    {
     "name": "stdout",
     "output_type": "stream",
     "text": [
      "0.09036922454833984\n",
      "0.08548617362976074\n",
      "0.09110832214355469\n"
     ]
    },
    {
     "name": "stderr",
     "output_type": "stream",
     "text": [
      "\n",
      " 74%|█████████████████████████████▌          | 738/1000 [01:05<00:23, 11.25it/s]\u001b[A"
     ]
    },
    {
     "name": "stdout",
     "output_type": "stream",
     "text": [
      "0.0878298282623291\n",
      "0.0870215892791748\n",
      "0.08880448341369629\n"
     ]
    },
    {
     "name": "stderr",
     "output_type": "stream",
     "text": [
      "\n",
      " 74%|█████████████████████████████▌          | 740/1000 [01:05<00:23, 11.20it/s]\u001b[A\n",
      " 74%|█████████████████████████████▋          | 742/1000 [01:05<00:22, 11.22it/s]\u001b[A"
     ]
    },
    {
     "name": "stdout",
     "output_type": "stream",
     "text": [
      "0.09064602851867676\n",
      "0.08527374267578125\n",
      "0.0905466079711914\n"
     ]
    },
    {
     "name": "stderr",
     "output_type": "stream",
     "text": [
      "\n",
      " 74%|█████████████████████████████▊          | 744/1000 [01:05<00:22, 11.25it/s]\u001b[A"
     ]
    },
    {
     "name": "stdout",
     "output_type": "stream",
     "text": [
      "0.08823609352111816\n",
      "0.08705329895019531\n",
      "0.08671188354492188\n"
     ]
    },
    {
     "name": "stderr",
     "output_type": "stream",
     "text": [
      "\n",
      " 75%|█████████████████████████████▊          | 746/1000 [01:05<00:22, 11.27it/s]\u001b[A\n",
      " 75%|█████████████████████████████▉          | 748/1000 [01:06<00:22, 11.30it/s]\u001b[A"
     ]
    },
    {
     "name": "stdout",
     "output_type": "stream",
     "text": [
      "0.08884811401367188\n",
      "0.08621883392333984\n",
      "0.08826184272766113\n"
     ]
    },
    {
     "name": "stderr",
     "output_type": "stream",
     "text": [
      "\n",
      " 75%|██████████████████████████████          | 750/1000 [01:06<00:22, 11.35it/s]\u001b[A"
     ]
    },
    {
     "name": "stdout",
     "output_type": "stream",
     "text": [
      "0.08719801902770996\n",
      "0.08589696884155273\n",
      "0.08788561820983887\n"
     ]
    },
    {
     "name": "stderr",
     "output_type": "stream",
     "text": [
      "\n",
      " 75%|██████████████████████████████          | 752/1000 [01:06<00:21, 11.32it/s]\u001b[A\n",
      " 75%|██████████████████████████████▏         | 754/1000 [01:06<00:21, 11.33it/s]\u001b[A"
     ]
    },
    {
     "name": "stdout",
     "output_type": "stream",
     "text": [
      "0.08847522735595703\n",
      "0.08661460876464844\n",
      "0.08832573890686035\n"
     ]
    },
    {
     "name": "stderr",
     "output_type": "stream",
     "text": [
      "\n",
      " 76%|██████████████████████████████▏         | 756/1000 [01:06<00:21, 11.34it/s]\u001b[A"
     ]
    },
    {
     "name": "stdout",
     "output_type": "stream",
     "text": [
      "0.08858633041381836\n",
      "0.0860447883605957\n",
      "0.08817028999328613\n"
     ]
    },
    {
     "name": "stderr",
     "output_type": "stream",
     "text": [
      "\n",
      " 76%|██████████████████████████████▎         | 758/1000 [01:07<00:26,  9.00it/s]\u001b[A\n",
      " 76%|██████████████████████████████▍         | 760/1000 [01:07<00:24,  9.65it/s]\u001b[A"
     ]
    },
    {
     "name": "stdout",
     "output_type": "stream",
     "text": [
      "0.23999571800231934\n",
      "0.08772110939025879\n",
      "0.08348846435546875\n"
     ]
    },
    {
     "name": "stderr",
     "output_type": "stream",
     "text": [
      "\n",
      " 76%|██████████████████████████████▍         | 762/1000 [01:07<00:23, 10.12it/s]\u001b[A"
     ]
    },
    {
     "name": "stdout",
     "output_type": "stream",
     "text": [
      "0.09020876884460449\n",
      "0.08358001708984375\n",
      "0.08976101875305176\n"
     ]
    },
    {
     "name": "stderr",
     "output_type": "stream",
     "text": [
      "\n",
      " 76%|██████████████████████████████▌         | 764/1000 [01:07<00:22, 10.41it/s]\u001b[A\n",
      " 77%|██████████████████████████████▋         | 766/1000 [01:07<00:21, 10.72it/s]\u001b[A"
     ]
    },
    {
     "name": "stdout",
     "output_type": "stream",
     "text": [
      "0.08815717697143555\n",
      "0.08887958526611328\n",
      "0.0835871696472168\n"
     ]
    },
    {
     "name": "stderr",
     "output_type": "stream",
     "text": [
      "\n",
      " 77%|██████████████████████████████▋         | 768/1000 [01:07<00:21, 10.93it/s]\u001b[A"
     ]
    },
    {
     "name": "stdout",
     "output_type": "stream",
     "text": [
      "0.0903627872467041\n",
      "0.08332681655883789\n",
      "0.0971219539642334\n"
     ]
    },
    {
     "name": "stderr",
     "output_type": "stream",
     "text": [
      "\n",
      " 77%|██████████████████████████████▊         | 770/1000 [01:08<00:21, 10.84it/s]\u001b[A\n",
      " 77%|██████████████████████████████▉         | 772/1000 [01:08<00:20, 11.01it/s]\u001b[A"
     ]
    },
    {
     "name": "stdout",
     "output_type": "stream",
     "text": [
      "0.08951711654663086\n",
      "0.09046649932861328\n",
      "0.0835103988647461\n"
     ]
    },
    {
     "name": "stderr",
     "output_type": "stream",
     "text": [
      "\n",
      " 77%|██████████████████████████████▉         | 774/1000 [01:08<00:20, 11.02it/s]\u001b[A"
     ]
    },
    {
     "name": "stdout",
     "output_type": "stream",
     "text": [
      "0.09352612495422363\n",
      "0.08648228645324707\n",
      "0.09020090103149414\n"
     ]
    },
    {
     "name": "stderr",
     "output_type": "stream",
     "text": [
      "\n",
      " 78%|███████████████████████████████         | 776/1000 [01:08<00:20, 11.04it/s]\u001b[A\n",
      " 78%|███████████████████████████████         | 778/1000 [01:08<00:19, 11.16it/s]\u001b[A"
     ]
    },
    {
     "name": "stdout",
     "output_type": "stream",
     "text": [
      "0.0893557071685791\n",
      "0.08868241310119629\n",
      "0.08457183837890625\n"
     ]
    },
    {
     "name": "stderr",
     "output_type": "stream",
     "text": [
      "\n",
      " 78%|███████████████████████████████▏        | 780/1000 [01:08<00:19, 11.15it/s]\u001b[A"
     ]
    },
    {
     "name": "stdout",
     "output_type": "stream",
     "text": [
      "0.0945127010345459\n",
      "0.08443498611450195\n",
      "0.09035992622375488\n"
     ]
    },
    {
     "name": "stderr",
     "output_type": "stream",
     "text": [
      "\n",
      " 78%|███████████████████████████████▎        | 782/1000 [01:09<00:19, 11.09it/s]\u001b[A\n",
      " 78%|███████████████████████████████▎        | 784/1000 [01:09<00:19, 11.14it/s]\u001b[A"
     ]
    },
    {
     "name": "stdout",
     "output_type": "stream",
     "text": [
      "0.09116268157958984\n",
      "0.0912928581237793\n",
      "0.08495354652404785\n"
     ]
    },
    {
     "name": "stderr",
     "output_type": "stream",
     "text": [
      "\n",
      " 79%|███████████████████████████████▍        | 786/1000 [01:09<00:19, 11.16it/s]\u001b[A"
     ]
    },
    {
     "name": "stdout",
     "output_type": "stream",
     "text": [
      "0.0927579402923584\n",
      "0.08472537994384766\n",
      "0.08984184265136719\n"
     ]
    },
    {
     "name": "stderr",
     "output_type": "stream",
     "text": [
      "\n",
      " 79%|███████████████████████████████▌        | 788/1000 [01:09<00:19, 11.14it/s]\u001b[A\n",
      " 79%|███████████████████████████████▌        | 790/1000 [01:09<00:18, 11.21it/s]\u001b[A"
     ]
    },
    {
     "name": "stdout",
     "output_type": "stream",
     "text": [
      "0.08916234970092773\n",
      "0.09039306640625\n",
      "0.08426833152770996\n"
     ]
    },
    {
     "name": "stderr",
     "output_type": "stream",
     "text": [
      "\n",
      " 79%|███████████████████████████████▋        | 792/1000 [01:10<00:18, 11.20it/s]\u001b[A"
     ]
    },
    {
     "name": "stdout",
     "output_type": "stream",
     "text": [
      "0.09335136413574219\n",
      "0.08414769172668457\n",
      "0.0895223617553711\n"
     ]
    },
    {
     "name": "stderr",
     "output_type": "stream",
     "text": [
      "\n",
      " 79%|███████████████████████████████▊        | 794/1000 [01:10<00:18, 11.16it/s]\u001b[A\n",
      " 80%|███████████████████████████████▊        | 796/1000 [01:10<00:18, 11.23it/s]\u001b[A"
     ]
    },
    {
     "name": "stdout",
     "output_type": "stream",
     "text": [
      "0.09019923210144043\n",
      "0.08925294876098633\n",
      "0.0850372314453125\n"
     ]
    },
    {
     "name": "stderr",
     "output_type": "stream",
     "text": [
      "\n",
      " 80%|███████████████████████████████▉        | 798/1000 [01:10<00:18, 11.21it/s]\u001b[A"
     ]
    },
    {
     "name": "stdout",
     "output_type": "stream",
     "text": [
      "0.09027886390686035\n",
      "0.08740425109863281\n",
      "0.08972454071044922\n"
     ]
    },
    {
     "name": "stderr",
     "output_type": "stream",
     "text": [
      "\n",
      " 80%|████████████████████████████████        | 800/1000 [01:10<00:17, 11.23it/s]\u001b[A\n",
      " 80%|████████████████████████████████        | 802/1000 [01:10<00:17, 11.18it/s]\u001b[A"
     ]
    },
    {
     "name": "stdout",
     "output_type": "stream",
     "text": [
      "0.08625960350036621\n",
      "0.09500861167907715\n",
      "0.0847175121307373\n"
     ]
    },
    {
     "name": "stderr",
     "output_type": "stream",
     "text": [
      "\n",
      " 80%|████████████████████████████████▏       | 804/1000 [01:11<00:17, 11.15it/s]\u001b[A"
     ]
    },
    {
     "name": "stdout",
     "output_type": "stream",
     "text": [
      "0.08938479423522949\n",
      "0.08997869491577148\n",
      "0.08793139457702637\n"
     ]
    },
    {
     "name": "stderr",
     "output_type": "stream",
     "text": [
      "\n",
      " 81%|████████████████████████████████▏       | 806/1000 [01:11<00:17, 11.21it/s]\u001b[A\n",
      " 81%|████████████████████████████████▎       | 808/1000 [01:11<00:17, 11.20it/s]\u001b[A"
     ]
    },
    {
     "name": "stdout",
     "output_type": "stream",
     "text": [
      "0.08696889877319336\n",
      "0.09303998947143555\n",
      "0.08444976806640625\n"
     ]
    },
    {
     "name": "stderr",
     "output_type": "stream",
     "text": [
      "\n",
      " 81%|████████████████████████████████▍       | 810/1000 [01:11<00:17, 11.16it/s]\u001b[A"
     ]
    },
    {
     "name": "stdout",
     "output_type": "stream",
     "text": [
      "0.08961033821105957\n",
      "0.0896461009979248\n",
      "0.08788633346557617\n"
     ]
    },
    {
     "name": "stderr",
     "output_type": "stream",
     "text": [
      "\n",
      " 81%|████████████████████████████████▍       | 812/1000 [01:11<00:16, 11.22it/s]\u001b[A\n",
      " 81%|████████████████████████████████▌       | 814/1000 [01:12<00:16, 11.22it/s]\u001b[A"
     ]
    },
    {
     "name": "stdout",
     "output_type": "stream",
     "text": [
      "0.0867302417755127\n",
      "0.09334969520568848\n",
      "0.08392834663391113\n"
     ]
    },
    {
     "name": "stderr",
     "output_type": "stream",
     "text": [
      "\n",
      " 82%|████████████████████████████████▋       | 816/1000 [01:12<00:16, 11.17it/s]\u001b[A"
     ]
    },
    {
     "name": "stdout",
     "output_type": "stream",
     "text": [
      "0.08962512016296387\n",
      "0.09024262428283691\n",
      "0.09026598930358887\n"
     ]
    },
    {
     "name": "stderr",
     "output_type": "stream",
     "text": [
      "\n",
      " 82%|████████████████████████████████▋       | 818/1000 [01:12<00:16, 11.18it/s]\u001b[A\n",
      " 82%|████████████████████████████████▊       | 820/1000 [01:12<00:16, 11.22it/s]\u001b[A"
     ]
    },
    {
     "name": "stdout",
     "output_type": "stream",
     "text": [
      "0.08682990074157715\n",
      "0.09100770950317383\n",
      "0.08511018753051758\n"
     ]
    },
    {
     "name": "stderr",
     "output_type": "stream",
     "text": [
      "\n",
      " 82%|████████████████████████████████▉       | 822/1000 [01:12<00:15, 11.16it/s]\u001b[A"
     ]
    },
    {
     "name": "stdout",
     "output_type": "stream",
     "text": [
      "0.09014153480529785\n",
      "0.08972859382629395\n",
      "0.0866842269897461\n"
     ]
    },
    {
     "name": "stderr",
     "output_type": "stream",
     "text": [
      "\n",
      " 82%|████████████████████████████████▉       | 824/1000 [01:12<00:15, 11.26it/s]\u001b[A\n",
      " 83%|█████████████████████████████████       | 826/1000 [01:13<00:15, 11.28it/s]\u001b[A"
     ]
    },
    {
     "name": "stdout",
     "output_type": "stream",
     "text": [
      "0.08591318130493164\n",
      "0.0913839340209961\n",
      "0.08399558067321777\n"
     ]
    },
    {
     "name": "stderr",
     "output_type": "stream",
     "text": [
      "\n",
      " 83%|█████████████████████████████████       | 828/1000 [01:13<00:15, 11.18it/s]\u001b[A"
     ]
    },
    {
     "name": "stdout",
     "output_type": "stream",
     "text": [
      "0.09144234657287598\n",
      "0.09023165702819824\n",
      "0.08730506896972656\n"
     ]
    },
    {
     "name": "stderr",
     "output_type": "stream",
     "text": [
      "\n",
      " 83%|█████████████████████████████████▏      | 830/1000 [01:13<00:15, 11.26it/s]\u001b[A\n",
      " 83%|█████████████████████████████████▎      | 832/1000 [01:13<00:14, 11.27it/s]\u001b[A"
     ]
    },
    {
     "name": "stdout",
     "output_type": "stream",
     "text": [
      "0.08632230758666992\n",
      "0.0915522575378418\n",
      "0.08461523056030273\n"
     ]
    },
    {
     "name": "stderr",
     "output_type": "stream",
     "text": [
      "\n",
      " 83%|█████████████████████████████████▎      | 834/1000 [01:13<00:14, 11.16it/s]\u001b[A"
     ]
    },
    {
     "name": "stdout",
     "output_type": "stream",
     "text": [
      "0.09135699272155762\n",
      "0.09066462516784668\n",
      "0.08774805068969727\n"
     ]
    },
    {
     "name": "stderr",
     "output_type": "stream",
     "text": [
      "\n",
      " 84%|█████████████████████████████████▍      | 836/1000 [01:13<00:14, 11.24it/s]\u001b[A\n",
      " 84%|█████████████████████████████████▌      | 838/1000 [01:14<00:14, 11.25it/s]\u001b[A"
     ]
    },
    {
     "name": "stdout",
     "output_type": "stream",
     "text": [
      "0.08618354797363281\n",
      "0.0921332836151123\n",
      "0.0844888687133789\n"
     ]
    },
    {
     "name": "stderr",
     "output_type": "stream",
     "text": [
      "\n",
      " 84%|█████████████████████████████████▌      | 840/1000 [01:14<00:14, 11.21it/s]\u001b[A"
     ]
    },
    {
     "name": "stdout",
     "output_type": "stream",
     "text": [
      "0.08915853500366211\n",
      "0.08922266960144043\n",
      "0.08737897872924805\n"
     ]
    },
    {
     "name": "stderr",
     "output_type": "stream",
     "text": [
      "\n",
      " 84%|█████████████████████████████████▋      | 842/1000 [01:14<00:14, 11.28it/s]\u001b[A\n",
      " 84%|█████████████████████████████████▊      | 844/1000 [01:14<00:13, 11.28it/s]\u001b[A"
     ]
    },
    {
     "name": "stdout",
     "output_type": "stream",
     "text": [
      "0.08636736869812012\n",
      "0.09188508987426758\n",
      "0.08428072929382324\n"
     ]
    },
    {
     "name": "stderr",
     "output_type": "stream",
     "text": [
      "\n",
      " 85%|█████████████████████████████████▊      | 846/1000 [01:14<00:13, 11.27it/s]\u001b[A"
     ]
    },
    {
     "name": "stdout",
     "output_type": "stream",
     "text": [
      "0.09040951728820801\n",
      "0.08660626411437988\n",
      "0.08716297149658203\n"
     ]
    },
    {
     "name": "stderr",
     "output_type": "stream",
     "text": [
      "\n",
      " 85%|█████████████████████████████████▉      | 848/1000 [01:15<00:13, 11.34it/s]\u001b[A\n",
      " 85%|██████████████████████████████████      | 850/1000 [01:15<00:13, 11.37it/s]\u001b[A"
     ]
    },
    {
     "name": "stdout",
     "output_type": "stream",
     "text": [
      "0.08560895919799805\n",
      "0.08955192565917969\n",
      "0.08407759666442871\n"
     ]
    },
    {
     "name": "stderr",
     "output_type": "stream",
     "text": [
      "\n",
      " 85%|██████████████████████████████████      | 852/1000 [01:15<00:13, 11.34it/s]\u001b[A"
     ]
    },
    {
     "name": "stdout",
     "output_type": "stream",
     "text": [
      "0.09047484397888184\n",
      "0.08590841293334961\n",
      "0.09075093269348145\n"
     ]
    },
    {
     "name": "stderr",
     "output_type": "stream",
     "text": [
      "\n",
      " 85%|██████████████████████████████████▏     | 854/1000 [01:15<00:12, 11.30it/s]\u001b[A\n",
      " 86%|██████████████████████████████████▏     | 856/1000 [01:15<00:12, 11.27it/s]\u001b[A"
     ]
    },
    {
     "name": "stdout",
     "output_type": "stream",
     "text": [
      "0.08664441108703613\n",
      "0.09271740913391113\n",
      "0.08468747138977051\n"
     ]
    },
    {
     "name": "stderr",
     "output_type": "stream",
     "text": [
      "\n",
      " 86%|██████████████████████████████████▎     | 858/1000 [01:15<00:12, 11.24it/s]\u001b[A"
     ]
    },
    {
     "name": "stdout",
     "output_type": "stream",
     "text": [
      "0.0906367301940918\n",
      "0.08736443519592285\n",
      "0.08768415451049805\n"
     ]
    },
    {
     "name": "stderr",
     "output_type": "stream",
     "text": [
      "\n",
      " 86%|██████████████████████████████████▍     | 860/1000 [01:16<00:12, 11.30it/s]\u001b[A\n",
      " 86%|██████████████████████████████████▍     | 862/1000 [01:16<00:12, 11.28it/s]\u001b[A"
     ]
    },
    {
     "name": "stdout",
     "output_type": "stream",
     "text": [
      "0.08586812019348145\n",
      "0.09293150901794434\n",
      "0.08401179313659668\n"
     ]
    },
    {
     "name": "stderr",
     "output_type": "stream",
     "text": [
      "\n",
      " 86%|██████████████████████████████████▌     | 864/1000 [01:16<00:12, 11.24it/s]\u001b[A"
     ]
    },
    {
     "name": "stdout",
     "output_type": "stream",
     "text": [
      "0.09116911888122559\n",
      "0.08698797225952148\n",
      "0.0905907154083252\n"
     ]
    },
    {
     "name": "stderr",
     "output_type": "stream",
     "text": [
      "\n",
      " 87%|██████████████████████████████████▋     | 866/1000 [01:16<00:11, 11.25it/s]\u001b[A\n",
      " 87%|██████████████████████████████████▋     | 868/1000 [01:16<00:11, 11.27it/s]\u001b[A"
     ]
    },
    {
     "name": "stdout",
     "output_type": "stream",
     "text": [
      "0.08597540855407715\n",
      "0.09174919128417969\n",
      "0.0839235782623291\n"
     ]
    },
    {
     "name": "stderr",
     "output_type": "stream",
     "text": [
      "\n",
      " 87%|██████████████████████████████████▊     | 870/1000 [01:17<00:11, 11.22it/s]\u001b[A"
     ]
    },
    {
     "name": "stdout",
     "output_type": "stream",
     "text": [
      "0.09122943878173828\n",
      "0.08755278587341309\n",
      "0.08956360816955566\n"
     ]
    },
    {
     "name": "stderr",
     "output_type": "stream",
     "text": [
      "\n",
      " 87%|██████████████████████████████████▉     | 872/1000 [01:17<00:11, 11.25it/s]\u001b[A\n",
      " 87%|██████████████████████████████████▉     | 874/1000 [01:17<00:11, 11.12it/s]\u001b[A"
     ]
    },
    {
     "name": "stdout",
     "output_type": "stream",
     "text": [
      "0.08624267578125\n",
      "0.09896540641784668\n",
      "0.08402037620544434\n"
     ]
    },
    {
     "name": "stderr",
     "output_type": "stream",
     "text": [
      "\n",
      " 88%|███████████████████████████████████     | 876/1000 [01:17<00:11, 11.08it/s]\u001b[A"
     ]
    },
    {
     "name": "stdout",
     "output_type": "stream",
     "text": [
      "0.09139633178710938\n",
      "0.08912348747253418\n",
      "0.0895538330078125\n"
     ]
    },
    {
     "name": "stderr",
     "output_type": "stream",
     "text": [
      "\n",
      " 88%|███████████████████████████████████     | 878/1000 [01:17<00:10, 11.16it/s]\u001b[A\n",
      " 88%|███████████████████████████████████▏    | 880/1000 [01:17<00:10, 11.23it/s]\u001b[A"
     ]
    },
    {
     "name": "stdout",
     "output_type": "stream",
     "text": [
      "0.0856332778930664\n",
      "0.0897824764251709\n",
      "0.08440756797790527\n"
     ]
    },
    {
     "name": "stderr",
     "output_type": "stream",
     "text": [
      "\n",
      " 88%|███████████████████████████████████▎    | 882/1000 [01:18<00:10, 11.23it/s]\u001b[A"
     ]
    },
    {
     "name": "stdout",
     "output_type": "stream",
     "text": [
      "0.09048175811767578\n",
      "0.08606743812561035\n",
      "0.0881960391998291\n"
     ]
    },
    {
     "name": "stderr",
     "output_type": "stream",
     "text": [
      "\n",
      " 88%|███████████████████████████████████▎    | 884/1000 [01:18<00:10, 11.28it/s]\u001b[A\n",
      " 89%|███████████████████████████████████▍    | 886/1000 [01:18<00:10, 11.32it/s]\u001b[A"
     ]
    },
    {
     "name": "stdout",
     "output_type": "stream",
     "text": [
      "0.0862572193145752\n",
      "0.09016132354736328\n",
      "0.08376932144165039\n"
     ]
    },
    {
     "name": "stderr",
     "output_type": "stream",
     "text": [
      "\n",
      " 89%|███████████████████████████████████▌    | 888/1000 [01:18<00:09, 11.26it/s]\u001b[A"
     ]
    },
    {
     "name": "stdout",
     "output_type": "stream",
     "text": [
      "0.09107756614685059\n",
      "0.08767271041870117\n",
      "0.0888209342956543\n"
     ]
    },
    {
     "name": "stderr",
     "output_type": "stream",
     "text": [
      "\n",
      " 89%|███████████████████████████████████▌    | 890/1000 [01:18<00:09, 11.30it/s]\u001b[A\n",
      " 89%|███████████████████████████████████▋    | 892/1000 [01:18<00:09, 11.34it/s]\u001b[A"
     ]
    },
    {
     "name": "stdout",
     "output_type": "stream",
     "text": [
      "0.08537817001342773\n",
      "0.09043407440185547\n",
      "0.0836477279663086\n"
     ]
    },
    {
     "name": "stderr",
     "output_type": "stream",
     "text": [
      "\n",
      " 89%|███████████████████████████████████▊    | 894/1000 [01:19<00:09, 11.29it/s]\u001b[A"
     ]
    },
    {
     "name": "stdout",
     "output_type": "stream",
     "text": [
      "0.09123468399047852\n",
      "0.08655309677124023\n",
      "0.08741235733032227\n"
     ]
    },
    {
     "name": "stderr",
     "output_type": "stream",
     "text": [
      "\n",
      " 90%|███████████████████████████████████▊    | 896/1000 [01:19<00:09, 11.34it/s]\u001b[A\n",
      " 90%|███████████████████████████████████▉    | 898/1000 [01:19<00:09, 11.33it/s]\u001b[A"
     ]
    },
    {
     "name": "stdout",
     "output_type": "stream",
     "text": [
      "0.08599042892456055\n",
      "0.09121274948120117\n",
      "0.08461236953735352\n"
     ]
    },
    {
     "name": "stderr",
     "output_type": "stream",
     "text": [
      "\n",
      " 90%|████████████████████████████████████    | 900/1000 [01:19<00:08, 11.28it/s]\u001b[A"
     ]
    },
    {
     "name": "stdout",
     "output_type": "stream",
     "text": [
      "0.09069371223449707\n",
      "0.08744955062866211\n",
      "0.09029436111450195\n"
     ]
    },
    {
     "name": "stderr",
     "output_type": "stream",
     "text": [
      "\n",
      " 90%|████████████████████████████████████    | 902/1000 [01:19<00:08, 11.26it/s]\u001b[A\n",
      " 90%|████████████████████████████████████▏   | 904/1000 [01:20<00:08, 11.30it/s]\u001b[A"
     ]
    },
    {
     "name": "stdout",
     "output_type": "stream",
     "text": [
      "0.08665609359741211\n",
      "0.09080886840820312\n",
      "0.08364033699035645\n"
     ]
    },
    {
     "name": "stderr",
     "output_type": "stream",
     "text": [
      "\n",
      " 91%|████████████████████████████████████▏   | 906/1000 [01:20<00:08, 11.26it/s]\u001b[A"
     ]
    },
    {
     "name": "stdout",
     "output_type": "stream",
     "text": [
      "0.09137439727783203\n",
      "0.08630514144897461\n",
      "0.08863258361816406\n"
     ]
    },
    {
     "name": "stderr",
     "output_type": "stream",
     "text": [
      "\n",
      " 91%|████████████████████████████████████▎   | 908/1000 [01:20<00:08, 11.29it/s]\u001b[A\n",
      " 91%|████████████████████████████████████▍   | 910/1000 [01:20<00:07, 11.32it/s]\u001b[A"
     ]
    },
    {
     "name": "stdout",
     "output_type": "stream",
     "text": [
      "0.08630847930908203\n",
      "0.0904381275177002\n",
      "0.08447051048278809\n"
     ]
    },
    {
     "name": "stderr",
     "output_type": "stream",
     "text": [
      "\n",
      " 91%|████████████████████████████████████▍   | 912/1000 [01:20<00:07, 11.28it/s]\u001b[A"
     ]
    },
    {
     "name": "stdout",
     "output_type": "stream",
     "text": [
      "0.09084939956665039\n",
      "0.08647394180297852\n",
      "0.08835768699645996\n"
     ]
    },
    {
     "name": "stderr",
     "output_type": "stream",
     "text": [
      "\n",
      " 91%|████████████████████████████████████▌   | 914/1000 [01:20<00:07, 11.33it/s]\u001b[A\n",
      " 92%|████████████████████████████████████▋   | 916/1000 [01:21<00:07, 11.35it/s]\u001b[A"
     ]
    },
    {
     "name": "stdout",
     "output_type": "stream",
     "text": [
      "0.08548617362976074\n",
      "0.09070301055908203\n",
      "0.08382654190063477\n"
     ]
    },
    {
     "name": "stderr",
     "output_type": "stream",
     "text": [
      "\n",
      " 92%|████████████████████████████████████▋   | 918/1000 [01:21<00:07, 11.31it/s]\u001b[A"
     ]
    },
    {
     "name": "stdout",
     "output_type": "stream",
     "text": [
      "0.08993005752563477\n",
      "0.08682060241699219\n",
      "0.08944869041442871\n"
     ]
    },
    {
     "name": "stderr",
     "output_type": "stream",
     "text": [
      "\n",
      " 92%|████████████████████████████████████▊   | 920/1000 [01:21<00:07, 11.32it/s]\u001b[A\n",
      " 92%|████████████████████████████████████▉   | 922/1000 [01:21<00:06, 11.31it/s]\u001b[A"
     ]
    },
    {
     "name": "stdout",
     "output_type": "stream",
     "text": [
      "0.08578014373779297\n",
      "0.09136271476745605\n",
      "0.08484673500061035\n"
     ]
    },
    {
     "name": "stderr",
     "output_type": "stream",
     "text": [
      "\n",
      " 92%|████████████████████████████████████▉   | 924/1000 [01:21<00:06, 11.28it/s]\u001b[A"
     ]
    },
    {
     "name": "stdout",
     "output_type": "stream",
     "text": [
      "0.0903787612915039\n",
      "0.0869591236114502\n",
      "0.08928537368774414\n"
     ]
    },
    {
     "name": "stderr",
     "output_type": "stream",
     "text": [
      "\n",
      " 93%|█████████████████████████████████████   | 926/1000 [01:21<00:06, 11.28it/s]\u001b[A\n",
      " 93%|█████████████████████████████████████   | 928/1000 [01:22<00:06, 11.32it/s]\u001b[A"
     ]
    },
    {
     "name": "stdout",
     "output_type": "stream",
     "text": [
      "0.08644270896911621\n",
      "0.09047627449035645\n",
      "0.08357644081115723\n"
     ]
    },
    {
     "name": "stderr",
     "output_type": "stream",
     "text": [
      "\n",
      " 93%|█████████████████████████████████████▏  | 930/1000 [01:22<00:06, 11.27it/s]\u001b[A"
     ]
    },
    {
     "name": "stdout",
     "output_type": "stream",
     "text": [
      "0.09082818031311035\n",
      "0.08718633651733398\n",
      "0.08907365798950195\n"
     ]
    },
    {
     "name": "stderr",
     "output_type": "stream",
     "text": [
      "\n",
      " 93%|█████████████████████████████████████▎  | 932/1000 [01:22<00:06, 11.29it/s]\u001b[A\n",
      " 93%|█████████████████████████████████████▎  | 934/1000 [01:22<00:05, 11.30it/s]\u001b[A"
     ]
    },
    {
     "name": "stdout",
     "output_type": "stream",
     "text": [
      "0.08625173568725586\n",
      "0.09156060218811035\n",
      "0.08420538902282715\n"
     ]
    },
    {
     "name": "stderr",
     "output_type": "stream",
     "text": [
      "\n",
      " 94%|█████████████████████████████████████▍  | 936/1000 [01:22<00:05, 11.25it/s]\u001b[A"
     ]
    },
    {
     "name": "stdout",
     "output_type": "stream",
     "text": [
      "0.0914609432220459\n",
      "0.08689641952514648\n",
      "0.09123730659484863\n"
     ]
    },
    {
     "name": "stderr",
     "output_type": "stream",
     "text": [
      "\n",
      " 94%|█████████████████████████████████████▌  | 938/1000 [01:23<00:05, 11.21it/s]\u001b[A\n",
      " 94%|█████████████████████████████████████▌  | 940/1000 [01:23<00:05, 11.26it/s]\u001b[A"
     ]
    },
    {
     "name": "stdout",
     "output_type": "stream",
     "text": [
      "0.08729434013366699\n",
      "0.09115266799926758\n",
      "0.0838632583618164\n"
     ]
    },
    {
     "name": "stderr",
     "output_type": "stream",
     "text": [
      "\n",
      " 94%|█████████████████████████████████████▋  | 942/1000 [01:23<00:05, 11.23it/s]\u001b[A"
     ]
    },
    {
     "name": "stdout",
     "output_type": "stream",
     "text": [
      "0.09183740615844727\n",
      "0.08606791496276855\n",
      "0.08953714370727539\n"
     ]
    },
    {
     "name": "stderr",
     "output_type": "stream",
     "text": [
      "\n",
      " 94%|█████████████████████████████████████▊  | 944/1000 [01:23<00:04, 11.23it/s]\u001b[A\n",
      " 95%|█████████████████████████████████████▊  | 946/1000 [01:23<00:04, 11.25it/s]\u001b[A"
     ]
    },
    {
     "name": "stdout",
     "output_type": "stream",
     "text": [
      "0.0869753360748291\n",
      "0.09166121482849121\n",
      "0.08437824249267578\n"
     ]
    },
    {
     "name": "stderr",
     "output_type": "stream",
     "text": [
      "\n",
      " 95%|█████████████████████████████████████▉  | 948/1000 [01:23<00:04, 11.25it/s]\u001b[A"
     ]
    },
    {
     "name": "stdout",
     "output_type": "stream",
     "text": [
      "0.08996200561523438\n",
      "0.08656668663024902\n",
      "0.09075736999511719\n"
     ]
    },
    {
     "name": "stderr",
     "output_type": "stream",
     "text": [
      "\n",
      " 95%|██████████████████████████████████████  | 950/1000 [01:24<00:04, 11.23it/s]\u001b[A\n",
      " 95%|██████████████████████████████████████  | 952/1000 [01:24<00:04, 11.24it/s]\u001b[A"
     ]
    },
    {
     "name": "stdout",
     "output_type": "stream",
     "text": [
      "0.0868675708770752\n",
      "0.09204435348510742\n",
      "0.0844876766204834\n"
     ]
    },
    {
     "name": "stderr",
     "output_type": "stream",
     "text": [
      "\n",
      " 95%|██████████████████████████████████████▏ | 954/1000 [01:24<00:04, 11.19it/s]\u001b[A"
     ]
    },
    {
     "name": "stdout",
     "output_type": "stream",
     "text": [
      "0.09249091148376465\n",
      "0.08663463592529297\n",
      "0.0876314640045166\n"
     ]
    },
    {
     "name": "stderr",
     "output_type": "stream",
     "text": [
      "\n",
      " 96%|██████████████████████████████████████▏ | 956/1000 [01:24<00:03, 11.25it/s]\u001b[A\n",
      " 96%|██████████████████████████████████████▎ | 958/1000 [01:24<00:03, 11.29it/s]\u001b[A"
     ]
    },
    {
     "name": "stdout",
     "output_type": "stream",
     "text": [
      "0.08649873733520508\n",
      "0.09071040153503418\n",
      "0.08412814140319824\n"
     ]
    },
    {
     "name": "stderr",
     "output_type": "stream",
     "text": [
      "\n",
      " 96%|██████████████████████████████████████▍ | 960/1000 [01:24<00:03, 11.28it/s]\u001b[A"
     ]
    },
    {
     "name": "stdout",
     "output_type": "stream",
     "text": [
      "0.09014534950256348\n",
      "0.08611416816711426\n",
      "0.09021425247192383\n"
     ]
    },
    {
     "name": "stderr",
     "output_type": "stream",
     "text": [
      "\n",
      " 96%|██████████████████████████████████████▍ | 962/1000 [01:25<00:03, 11.27it/s]\u001b[A\n",
      " 96%|██████████████████████████████████████▌ | 964/1000 [01:25<00:03, 11.29it/s]\u001b[A"
     ]
    },
    {
     "name": "stdout",
     "output_type": "stream",
     "text": [
      "0.08671832084655762\n",
      "0.09110045433044434\n",
      "0.08417749404907227\n"
     ]
    },
    {
     "name": "stderr",
     "output_type": "stream",
     "text": [
      "\n",
      " 97%|██████████████████████████████████████▋ | 966/1000 [01:25<00:03, 11.27it/s]\u001b[A"
     ]
    },
    {
     "name": "stdout",
     "output_type": "stream",
     "text": [
      "0.08992409706115723\n",
      "0.08672881126403809\n",
      "0.08990764617919922\n"
     ]
    },
    {
     "name": "stderr",
     "output_type": "stream",
     "text": [
      "\n",
      " 97%|██████████████████████████████████████▋ | 968/1000 [01:25<00:02, 11.28it/s]\u001b[A\n",
      " 97%|██████████████████████████████████████▊ | 970/1000 [01:25<00:02, 11.05it/s]\u001b[A"
     ]
    },
    {
     "name": "stdout",
     "output_type": "stream",
     "text": [
      "0.08605527877807617\n",
      "0.10402774810791016\n",
      "0.0845482349395752\n"
     ]
    },
    {
     "name": "stderr",
     "output_type": "stream",
     "text": [
      "\n",
      " 97%|██████████████████████████████████████▉ | 972/1000 [01:26<00:02, 10.84it/s]\u001b[A"
     ]
    },
    {
     "name": "stdout",
     "output_type": "stream",
     "text": [
      "0.10483336448669434\n",
      "0.08670377731323242\n",
      "0.08868908882141113\n"
     ]
    },
    {
     "name": "stderr",
     "output_type": "stream",
     "text": [
      "\n",
      " 97%|██████████████████████████████████████▉ | 974/1000 [01:26<00:02, 10.99it/s]\u001b[A\n",
      " 98%|███████████████████████████████████████ | 976/1000 [01:26<00:02, 11.10it/s]\u001b[A"
     ]
    },
    {
     "name": "stdout",
     "output_type": "stream",
     "text": [
      "0.0863196849822998\n",
      "0.09147024154663086\n",
      "0.08353996276855469\n"
     ]
    },
    {
     "name": "stderr",
     "output_type": "stream",
     "text": [
      "\n",
      " 98%|███████████████████████████████████████ | 978/1000 [01:26<00:01, 11.15it/s]\u001b[A"
     ]
    },
    {
     "name": "stdout",
     "output_type": "stream",
     "text": [
      "0.08956336975097656\n",
      "0.08686208724975586\n",
      "0.0885169506072998\n"
     ]
    },
    {
     "name": "stderr",
     "output_type": "stream",
     "text": [
      "\n",
      " 98%|███████████████████████████████████████▏| 980/1000 [01:26<00:01, 11.22it/s]\u001b[A\n",
      " 98%|███████████████████████████████████████▎| 982/1000 [01:26<00:01, 11.27it/s]\u001b[A"
     ]
    },
    {
     "name": "stdout",
     "output_type": "stream",
     "text": [
      "0.0858917236328125\n",
      "0.0905599594116211\n",
      "0.0840446949005127\n"
     ]
    },
    {
     "name": "stderr",
     "output_type": "stream",
     "text": [
      "\n",
      " 98%|███████████████████████████████████████▎| 984/1000 [01:27<00:01, 11.30it/s]\u001b[A"
     ]
    },
    {
     "name": "stdout",
     "output_type": "stream",
     "text": [
      "0.08885931968688965\n",
      "0.08563756942749023\n",
      "0.08773016929626465\n"
     ]
    },
    {
     "name": "stderr",
     "output_type": "stream",
     "text": [
      "\n",
      " 99%|███████████████████████████████████████▍| 986/1000 [01:27<00:01, 11.34it/s]\u001b[A\n",
      " 99%|███████████████████████████████████████▌| 988/1000 [01:27<00:01, 11.30it/s]\u001b[A"
     ]
    },
    {
     "name": "stdout",
     "output_type": "stream",
     "text": [
      "0.08606314659118652\n",
      "0.09209966659545898\n",
      "0.08532476425170898\n"
     ]
    },
    {
     "name": "stderr",
     "output_type": "stream",
     "text": [
      "\n",
      " 99%|███████████████████████████████████████▌| 990/1000 [01:27<00:00, 11.22it/s]\u001b[A"
     ]
    },
    {
     "name": "stdout",
     "output_type": "stream",
     "text": [
      "0.09191489219665527\n",
      "0.08814716339111328\n",
      "0.08867502212524414\n"
     ]
    },
    {
     "name": "stderr",
     "output_type": "stream",
     "text": [
      "\n",
      " 99%|███████████████████████████████████████▋| 992/1000 [01:27<00:00, 11.27it/s]\u001b[A\n",
      " 99%|███████████████████████████████████████▊| 994/1000 [01:28<00:00, 11.30it/s]\u001b[A"
     ]
    },
    {
     "name": "stdout",
     "output_type": "stream",
     "text": [
      "0.08574438095092773\n",
      "0.09099006652832031\n",
      "0.08397340774536133\n"
     ]
    },
    {
     "name": "stderr",
     "output_type": "stream",
     "text": [
      "\n",
      "100%|███████████████████████████████████████▊| 996/1000 [01:28<00:00, 11.28it/s]\u001b[A"
     ]
    },
    {
     "name": "stdout",
     "output_type": "stream",
     "text": [
      "0.0900564193725586\n",
      "0.08666825294494629\n",
      "0.08878850936889648\n"
     ]
    },
    {
     "name": "stderr",
     "output_type": "stream",
     "text": [
      "\n",
      "100%|███████████████████████████████████████▉| 998/1000 [01:28<00:00, 11.30it/s]\u001b[A\n",
      "100%|███████████████████████████████████████| 1000/1000 [01:28<00:00, 11.29it/s]\u001b[A\n",
      " 80%|████████████████████████████████████         | 4/5 [05:51<01:27, 87.94s/it]"
     ]
    },
    {
     "name": "stdout",
     "output_type": "stream",
     "text": [
      "0.08650660514831543\n",
      "0.09025788307189941\n",
      "0.08426761627197266\n",
      "One run completed\n"
     ]
    },
    {
     "name": "stderr",
     "output_type": "stream",
     "text": [
      "\n",
      "  0%|                                                  | 0/1000 [00:00<?, ?it/s]\u001b[A\n",
      "  0%|                                          | 2/1000 [00:00<01:27, 11.34it/s]\u001b[A"
     ]
    },
    {
     "name": "stdout",
     "output_type": "stream",
     "text": [
      "0.09024596214294434\n",
      "0.08582878112792969\n",
      "0.08816003799438477\n"
     ]
    },
    {
     "name": "stderr",
     "output_type": "stream",
     "text": [
      "\n",
      "  0%|▏                                         | 4/1000 [00:00<01:27, 11.43it/s]\u001b[A\n",
      "  1%|▎                                         | 6/1000 [00:00<01:26, 11.43it/s]\u001b[A"
     ]
    },
    {
     "name": "stdout",
     "output_type": "stream",
     "text": [
      "0.0846855640411377\n",
      "0.09021353721618652\n",
      "0.08358097076416016\n"
     ]
    },
    {
     "name": "stderr",
     "output_type": "stream",
     "text": [
      "\n",
      "  1%|▎                                         | 8/1000 [00:00<01:27, 11.35it/s]\u001b[A"
     ]
    },
    {
     "name": "stdout",
     "output_type": "stream",
     "text": [
      "0.09097838401794434\n",
      "0.0862123966217041\n",
      "0.0884552001953125\n"
     ]
    },
    {
     "name": "stderr",
     "output_type": "stream",
     "text": [
      "\n",
      "  1%|▍                                        | 10/1000 [00:00<01:27, 11.36it/s]\u001b[A\n",
      "  1%|▍                                        | 12/1000 [00:01<01:27, 11.34it/s]\u001b[A"
     ]
    },
    {
     "name": "stdout",
     "output_type": "stream",
     "text": [
      "0.08566999435424805\n",
      "0.09099054336547852\n",
      "0.08488774299621582\n"
     ]
    },
    {
     "name": "stderr",
     "output_type": "stream",
     "text": [
      "\n",
      "  1%|▌                                        | 14/1000 [00:01<01:27, 11.28it/s]\u001b[A"
     ]
    },
    {
     "name": "stdout",
     "output_type": "stream",
     "text": [
      "0.09084296226501465\n",
      "0.08727169036865234\n",
      "0.08795666694641113\n"
     ]
    },
    {
     "name": "stderr",
     "output_type": "stream",
     "text": [
      "\n",
      "  2%|▋                                        | 16/1000 [00:01<01:26, 11.32it/s]\u001b[A\n",
      "  2%|▋                                        | 18/1000 [00:01<01:26, 11.36it/s]\u001b[A"
     ]
    },
    {
     "name": "stdout",
     "output_type": "stream",
     "text": [
      "0.08578824996948242\n",
      "0.09007787704467773\n",
      "0.08363580703735352\n"
     ]
    },
    {
     "name": "stderr",
     "output_type": "stream",
     "text": [
      "\n",
      "  2%|▊                                        | 20/1000 [00:01<01:26, 11.31it/s]\u001b[A"
     ]
    },
    {
     "name": "stdout",
     "output_type": "stream",
     "text": [
      "0.09099936485290527\n",
      "0.08649492263793945\n",
      "0.09173178672790527\n"
     ]
    },
    {
     "name": "stderr",
     "output_type": "stream",
     "text": [
      "\n",
      "  2%|▉                                        | 22/1000 [00:01<01:26, 11.25it/s]\u001b[A\n",
      "  2%|▉                                        | 24/1000 [00:02<01:26, 11.25it/s]\u001b[A"
     ]
    },
    {
     "name": "stdout",
     "output_type": "stream",
     "text": [
      "0.08671331405639648\n",
      "0.0924227237701416\n",
      "0.08401179313659668\n"
     ]
    },
    {
     "name": "stderr",
     "output_type": "stream",
     "text": [
      "\n",
      "  3%|█                                        | 26/1000 [00:02<01:26, 11.23it/s]\u001b[A"
     ]
    },
    {
     "name": "stdout",
     "output_type": "stream",
     "text": [
      "0.09143280982971191\n",
      "0.08641314506530762\n",
      "0.0885012149810791\n"
     ]
    },
    {
     "name": "stderr",
     "output_type": "stream",
     "text": [
      "\n",
      "  3%|█▏                                       | 28/1000 [00:02<01:26, 11.29it/s]\u001b[A\n",
      "  3%|█▏                                       | 30/1000 [00:02<01:25, 11.30it/s]\u001b[A"
     ]
    },
    {
     "name": "stdout",
     "output_type": "stream",
     "text": [
      "0.08523917198181152\n",
      "0.09140920639038086\n",
      "0.08403944969177246\n"
     ]
    },
    {
     "name": "stderr",
     "output_type": "stream",
     "text": [
      "\n",
      "  3%|█▎                                       | 32/1000 [00:02<01:25, 11.29it/s]\u001b[A"
     ]
    },
    {
     "name": "stdout",
     "output_type": "stream",
     "text": [
      "0.09091782569885254\n",
      "0.08558225631713867\n",
      "0.09184455871582031\n"
     ]
    },
    {
     "name": "stderr",
     "output_type": "stream",
     "text": [
      "\n",
      "  3%|█▍                                       | 34/1000 [00:03<01:26, 11.23it/s]\u001b[A\n",
      "  4%|█▍                                       | 36/1000 [00:03<01:25, 11.25it/s]\u001b[A"
     ]
    },
    {
     "name": "stdout",
     "output_type": "stream",
     "text": [
      "0.08695387840270996\n",
      "0.09217023849487305\n",
      "0.08375930786132812\n"
     ]
    },
    {
     "name": "stderr",
     "output_type": "stream",
     "text": [
      "\n",
      "  4%|█▌                                       | 38/1000 [00:03<01:25, 11.23it/s]\u001b[A"
     ]
    },
    {
     "name": "stdout",
     "output_type": "stream",
     "text": [
      "0.09156656265258789\n",
      "0.0862119197845459\n",
      "0.08795022964477539\n"
     ]
    },
    {
     "name": "stderr",
     "output_type": "stream",
     "text": [
      "\n",
      "  4%|█▋                                       | 40/1000 [00:03<01:24, 11.30it/s]\u001b[A\n",
      "  4%|█▋                                       | 42/1000 [00:03<01:24, 11.32it/s]\u001b[A"
     ]
    },
    {
     "name": "stdout",
     "output_type": "stream",
     "text": [
      "0.08476758003234863\n",
      "0.0906064510345459\n",
      "0.08450460433959961\n"
     ]
    },
    {
     "name": "stderr",
     "output_type": "stream",
     "text": [
      "\n",
      "  4%|█▊                                       | 44/1000 [00:03<01:24, 11.35it/s]\u001b[A"
     ]
    },
    {
     "name": "stdout",
     "output_type": "stream",
     "text": [
      "0.08953070640563965\n",
      "0.08450150489807129\n",
      "0.08867430686950684\n"
     ]
    },
    {
     "name": "stderr",
     "output_type": "stream",
     "text": [
      "\n",
      "  5%|█▉                                       | 46/1000 [00:04<01:24, 11.36it/s]\u001b[A\n",
      "  5%|█▉                                       | 48/1000 [00:04<01:23, 11.37it/s]\u001b[A"
     ]
    },
    {
     "name": "stdout",
     "output_type": "stream",
     "text": [
      "0.08578872680664062\n",
      "0.08864355087280273\n",
      "0.0857095718383789\n"
     ]
    },
    {
     "name": "stderr",
     "output_type": "stream",
     "text": [
      "\n",
      "  5%|██                                       | 50/1000 [00:04<01:23, 11.33it/s]\u001b[A"
     ]
    },
    {
     "name": "stdout",
     "output_type": "stream",
     "text": [
      "0.09069252014160156\n",
      "0.08568263053894043\n",
      "0.09021329879760742\n"
     ]
    },
    {
     "name": "stderr",
     "output_type": "stream",
     "text": [
      "\n",
      "  5%|██▏                                      | 52/1000 [00:04<01:23, 11.30it/s]\u001b[A\n",
      "  5%|██▏                                      | 54/1000 [00:04<01:23, 11.28it/s]\u001b[A"
     ]
    },
    {
     "name": "stdout",
     "output_type": "stream",
     "text": [
      "0.08650922775268555\n",
      "0.08898568153381348\n",
      "0.08781695365905762\n"
     ]
    },
    {
     "name": "stderr",
     "output_type": "stream",
     "text": [
      "\n",
      "  6%|██▎                                      | 56/1000 [00:04<01:23, 11.25it/s]\u001b[A"
     ]
    },
    {
     "name": "stdout",
     "output_type": "stream",
     "text": [
      "0.0899803638458252\n",
      "0.08813810348510742\n",
      "0.09126949310302734\n"
     ]
    },
    {
     "name": "stderr",
     "output_type": "stream",
     "text": [
      "\n",
      "  6%|██▍                                      | 58/1000 [00:05<01:23, 11.22it/s]\u001b[A\n",
      "  6%|██▍                                      | 60/1000 [00:05<01:23, 11.24it/s]\u001b[A"
     ]
    },
    {
     "name": "stdout",
     "output_type": "stream",
     "text": [
      "0.0865323543548584\n",
      "0.08887791633605957\n",
      "0.08737492561340332\n"
     ]
    },
    {
     "name": "stderr",
     "output_type": "stream",
     "text": [
      "\n",
      "  6%|██▌                                      | 62/1000 [00:05<01:23, 11.25it/s]\u001b[A"
     ]
    },
    {
     "name": "stdout",
     "output_type": "stream",
     "text": [
      "0.08968520164489746\n",
      "0.08616089820861816\n",
      "0.08994293212890625\n"
     ]
    },
    {
     "name": "stderr",
     "output_type": "stream",
     "text": [
      "\n",
      "  6%|██▌                                      | 64/1000 [00:05<01:23, 11.26it/s]\u001b[A\n",
      "  7%|██▋                                      | 66/1000 [00:05<01:23, 11.12it/s]\u001b[A"
     ]
    },
    {
     "name": "stdout",
     "output_type": "stream",
     "text": [
      "0.0863044261932373\n",
      "0.08802556991577148\n",
      "0.09576225280761719\n"
     ]
    },
    {
     "name": "stderr",
     "output_type": "stream",
     "text": [
      "\n",
      "  7%|██▊                                      | 68/1000 [00:06<01:23, 11.20it/s]\u001b[A"
     ]
    },
    {
     "name": "stdout",
     "output_type": "stream",
     "text": [
      "0.08838343620300293\n",
      "0.08618021011352539\n",
      "0.08984136581420898\n"
     ]
    },
    {
     "name": "stderr",
     "output_type": "stream",
     "text": [
      "\n",
      "  7%|██▊                                      | 70/1000 [00:06<01:23, 11.19it/s]\u001b[A\n",
      "  7%|██▉                                      | 72/1000 [00:06<01:22, 11.22it/s]\u001b[A"
     ]
    },
    {
     "name": "stdout",
     "output_type": "stream",
     "text": [
      "0.08771371841430664\n",
      "0.08673954010009766\n",
      "0.08913850784301758\n"
     ]
    },
    {
     "name": "stderr",
     "output_type": "stream",
     "text": [
      "\n",
      "  7%|███                                      | 74/1000 [00:06<01:22, 11.27it/s]\u001b[A"
     ]
    },
    {
     "name": "stdout",
     "output_type": "stream",
     "text": [
      "0.08883452415466309\n",
      "0.08595156669616699\n",
      "0.0896453857421875\n"
     ]
    },
    {
     "name": "stderr",
     "output_type": "stream",
     "text": [
      "\n",
      "  8%|███                                      | 76/1000 [00:06<01:22, 11.22it/s]\u001b[A\n",
      "  8%|███▏                                     | 78/1000 [00:06<01:21, 11.26it/s]\u001b[A"
     ]
    },
    {
     "name": "stdout",
     "output_type": "stream",
     "text": [
      "0.08883833885192871\n",
      "0.08812165260314941\n",
      "0.08700060844421387\n"
     ]
    },
    {
     "name": "stderr",
     "output_type": "stream",
     "text": [
      "\n",
      "  8%|███▎                                     | 80/1000 [00:07<01:21, 11.27it/s]\u001b[A"
     ]
    },
    {
     "name": "stdout",
     "output_type": "stream",
     "text": [
      "0.08888602256774902\n",
      "0.08699393272399902\n",
      "0.08981037139892578\n"
     ]
    },
    {
     "name": "stderr",
     "output_type": "stream",
     "text": [
      "\n",
      "  8%|███▎                                     | 82/1000 [00:07<01:21, 11.26it/s]\u001b[A\n",
      "  8%|███▍                                     | 84/1000 [00:07<01:21, 11.28it/s]\u001b[A"
     ]
    },
    {
     "name": "stdout",
     "output_type": "stream",
     "text": [
      "0.08669209480285645\n",
      "0.08710861206054688\n",
      "0.08824658393859863\n"
     ]
    },
    {
     "name": "stderr",
     "output_type": "stream",
     "text": [
      "\n",
      "  9%|███▌                                     | 86/1000 [00:07<01:20, 11.29it/s]\u001b[A"
     ]
    },
    {
     "name": "stdout",
     "output_type": "stream",
     "text": [
      "0.08898687362670898\n",
      "0.08650898933410645\n",
      "0.08885741233825684\n"
     ]
    },
    {
     "name": "stderr",
     "output_type": "stream",
     "text": [
      "\n",
      "  9%|███▌                                     | 88/1000 [00:07<01:21, 11.25it/s]\u001b[A\n",
      "  9%|███▋                                     | 90/1000 [00:07<01:20, 11.24it/s]\u001b[A"
     ]
    },
    {
     "name": "stdout",
     "output_type": "stream",
     "text": [
      "0.0892648696899414\n",
      "0.08794832229614258\n",
      "0.08913731575012207\n"
     ]
    },
    {
     "name": "stderr",
     "output_type": "stream",
     "text": [
      "\n",
      "  9%|███▊                                     | 92/1000 [00:08<01:20, 11.23it/s]\u001b[A"
     ]
    },
    {
     "name": "stdout",
     "output_type": "stream",
     "text": [
      "0.08904862403869629\n",
      "0.08844399452209473\n",
      "0.08824563026428223\n"
     ]
    },
    {
     "name": "stderr",
     "output_type": "stream",
     "text": [
      "\n",
      "  9%|███▊                                     | 94/1000 [00:08<01:20, 11.24it/s]\u001b[A\n",
      " 10%|███▉                                     | 96/1000 [00:08<01:22, 10.94it/s]\u001b[A"
     ]
    },
    {
     "name": "stdout",
     "output_type": "stream",
     "text": [
      "0.08820247650146484\n",
      "0.09757304191589355\n",
      "0.09525513648986816\n"
     ]
    },
    {
     "name": "stderr",
     "output_type": "stream",
     "text": [
      "\n",
      " 10%|████                                     | 98/1000 [00:08<01:21, 11.07it/s]\u001b[A"
     ]
    },
    {
     "name": "stdout",
     "output_type": "stream",
     "text": [
      "0.08908343315124512\n",
      "0.08581757545471191\n",
      "0.09001374244689941\n"
     ]
    },
    {
     "name": "stderr",
     "output_type": "stream",
     "text": [
      "\n",
      " 10%|████                                    | 100/1000 [00:08<01:21, 11.09it/s]\u001b[A\n",
      " 10%|████                                    | 102/1000 [00:09<01:20, 11.15it/s]\u001b[A"
     ]
    },
    {
     "name": "stdout",
     "output_type": "stream",
     "text": [
      "0.08813285827636719\n",
      "0.0880734920501709\n",
      "0.08782196044921875\n"
     ]
    },
    {
     "name": "stderr",
     "output_type": "stream",
     "text": [
      "\n",
      " 10%|████▏                                   | 104/1000 [00:09<01:19, 11.23it/s]\u001b[A"
     ]
    },
    {
     "name": "stdout",
     "output_type": "stream",
     "text": [
      "0.08843421936035156\n",
      "0.08516573905944824\n",
      "0.08864879608154297\n"
     ]
    },
    {
     "name": "stderr",
     "output_type": "stream",
     "text": [
      "\n",
      " 11%|████▏                                   | 106/1000 [00:09<01:19, 11.22it/s]\u001b[A\n",
      " 11%|████▎                                   | 108/1000 [00:09<01:19, 11.28it/s]\u001b[A"
     ]
    },
    {
     "name": "stdout",
     "output_type": "stream",
     "text": [
      "0.08927416801452637\n",
      "0.08787131309509277\n",
      "0.08630824089050293\n"
     ]
    },
    {
     "name": "stderr",
     "output_type": "stream",
     "text": [
      "\n",
      " 11%|████▍                                   | 110/1000 [00:09<01:18, 11.29it/s]\u001b[A"
     ]
    },
    {
     "name": "stdout",
     "output_type": "stream",
     "text": [
      "0.08793139457702637\n",
      "0.08757781982421875\n",
      "0.08917045593261719\n"
     ]
    },
    {
     "name": "stderr",
     "output_type": "stream",
     "text": [
      "\n",
      " 11%|████▍                                   | 112/1000 [00:09<01:18, 11.29it/s]\u001b[A\n",
      " 11%|████▌                                   | 114/1000 [00:10<01:18, 11.31it/s]\u001b[A"
     ]
    },
    {
     "name": "stdout",
     "output_type": "stream",
     "text": [
      "0.0870063304901123\n",
      "0.0864403247833252\n",
      "0.08838748931884766\n"
     ]
    },
    {
     "name": "stderr",
     "output_type": "stream",
     "text": [
      "\n",
      " 12%|████▋                                   | 116/1000 [00:10<01:17, 11.34it/s]\u001b[A"
     ]
    },
    {
     "name": "stdout",
     "output_type": "stream",
     "text": [
      "0.08735847473144531\n",
      "0.08651876449584961\n",
      "0.0874476432800293\n"
     ]
    },
    {
     "name": "stderr",
     "output_type": "stream",
     "text": [
      "\n",
      " 12%|████▋                                   | 118/1000 [00:10<01:17, 11.34it/s]\u001b[A\n",
      " 12%|████▊                                   | 120/1000 [00:10<01:17, 11.34it/s]\u001b[A"
     ]
    },
    {
     "name": "stdout",
     "output_type": "stream",
     "text": [
      "0.0877387523651123\n",
      "0.08620619773864746\n",
      "0.0890965461730957\n"
     ]
    },
    {
     "name": "stderr",
     "output_type": "stream",
     "text": [
      "\n",
      " 12%|████▉                                   | 122/1000 [00:10<01:17, 11.35it/s]\u001b[A"
     ]
    },
    {
     "name": "stdout",
     "output_type": "stream",
     "text": [
      "0.08614516258239746\n",
      "0.08858633041381836\n",
      "0.08683633804321289\n"
     ]
    },
    {
     "name": "stderr",
     "output_type": "stream",
     "text": [
      "\n",
      " 12%|████▉                                   | 124/1000 [00:11<01:17, 11.35it/s]\u001b[A\n",
      " 13%|█████                                   | 126/1000 [00:11<01:17, 11.35it/s]\u001b[A"
     ]
    },
    {
     "name": "stdout",
     "output_type": "stream",
     "text": [
      "0.08819198608398438\n",
      "0.08607864379882812\n",
      "0.08916711807250977\n"
     ]
    },
    {
     "name": "stderr",
     "output_type": "stream",
     "text": [
      "\n",
      " 13%|█████                                   | 128/1000 [00:11<01:16, 11.36it/s]\u001b[A"
     ]
    },
    {
     "name": "stdout",
     "output_type": "stream",
     "text": [
      "0.08613276481628418\n",
      "0.08815121650695801\n",
      "0.08725953102111816\n"
     ]
    },
    {
     "name": "stderr",
     "output_type": "stream",
     "text": [
      "\n",
      " 13%|█████▏                                  | 130/1000 [00:11<01:16, 11.32it/s]\u001b[A\n",
      " 13%|█████▎                                  | 132/1000 [00:11<01:16, 11.35it/s]\u001b[A"
     ]
    },
    {
     "name": "stdout",
     "output_type": "stream",
     "text": [
      "0.09009432792663574\n",
      "0.08465695381164551\n",
      "0.08922219276428223\n"
     ]
    },
    {
     "name": "stderr",
     "output_type": "stream",
     "text": [
      "\n",
      " 13%|█████▎                                  | 134/1000 [00:11<01:16, 11.36it/s]\u001b[A"
     ]
    },
    {
     "name": "stdout",
     "output_type": "stream",
     "text": [
      "0.08582162857055664\n",
      "0.08888792991638184\n",
      "0.0866091251373291\n"
     ]
    },
    {
     "name": "stderr",
     "output_type": "stream",
     "text": [
      "\n",
      " 14%|█████▍                                  | 136/1000 [00:12<01:15, 11.37it/s]\u001b[A\n",
      " 14%|█████▌                                  | 138/1000 [00:12<01:15, 11.40it/s]\u001b[A"
     ]
    },
    {
     "name": "stdout",
     "output_type": "stream",
     "text": [
      "0.08774209022521973\n",
      "0.08371686935424805\n",
      "0.08927249908447266\n"
     ]
    },
    {
     "name": "stderr",
     "output_type": "stream",
     "text": [
      "\n",
      " 14%|█████▌                                  | 140/1000 [00:12<01:15, 11.42it/s]\u001b[A"
     ]
    },
    {
     "name": "stdout",
     "output_type": "stream",
     "text": [
      "0.08568501472473145\n",
      "0.08775877952575684\n",
      "0.08772683143615723\n"
     ]
    },
    {
     "name": "stderr",
     "output_type": "stream",
     "text": [
      "\n",
      " 14%|█████▋                                  | 142/1000 [00:12<01:15, 11.34it/s]\u001b[A\n",
      " 14%|█████▊                                  | 144/1000 [00:12<01:15, 11.35it/s]\u001b[A"
     ]
    },
    {
     "name": "stdout",
     "output_type": "stream",
     "text": [
      "0.09049534797668457\n",
      "0.0854043960571289\n",
      "0.0893862247467041\n"
     ]
    },
    {
     "name": "stderr",
     "output_type": "stream",
     "text": [
      "\n",
      " 15%|█████▊                                  | 146/1000 [00:12<01:15, 11.36it/s]\u001b[A"
     ]
    },
    {
     "name": "stdout",
     "output_type": "stream",
     "text": [
      "0.08567190170288086\n",
      "0.08875250816345215\n",
      "0.08649373054504395\n"
     ]
    },
    {
     "name": "stderr",
     "output_type": "stream",
     "text": [
      "\n",
      " 15%|█████▉                                  | 148/1000 [00:13<01:15, 11.30it/s]\u001b[A\n",
      " 15%|██████                                  | 150/1000 [00:13<01:14, 11.36it/s]\u001b[A"
     ]
    },
    {
     "name": "stdout",
     "output_type": "stream",
     "text": [
      "0.09157299995422363\n",
      "0.08437347412109375\n",
      "0.0881648063659668\n"
     ]
    },
    {
     "name": "stderr",
     "output_type": "stream",
     "text": [
      "\n",
      " 15%|██████                                  | 152/1000 [00:13<01:14, 11.31it/s]\u001b[A"
     ]
    },
    {
     "name": "stdout",
     "output_type": "stream",
     "text": [
      "0.0889742374420166\n",
      "0.08779335021972656\n",
      "0.08735442161560059\n"
     ]
    },
    {
     "name": "stderr",
     "output_type": "stream",
     "text": [
      "\n",
      " 15%|██████▏                                 | 154/1000 [00:13<01:15, 11.22it/s]\u001b[A\n",
      " 16%|██████▏                                 | 156/1000 [00:13<01:15, 11.25it/s]\u001b[A"
     ]
    },
    {
     "name": "stdout",
     "output_type": "stream",
     "text": [
      "0.09345698356628418\n",
      "0.08494377136230469\n",
      "0.09027814865112305\n"
     ]
    },
    {
     "name": "stderr",
     "output_type": "stream",
     "text": [
      "\n",
      " 16%|██████▎                                 | 158/1000 [00:14<01:14, 11.25it/s]\u001b[A"
     ]
    },
    {
     "name": "stdout",
     "output_type": "stream",
     "text": [
      "0.08777880668640137\n",
      "0.08841943740844727\n",
      "0.09535956382751465\n"
     ]
    },
    {
     "name": "stderr",
     "output_type": "stream",
     "text": [
      "\n",
      " 16%|██████▍                                 | 160/1000 [00:14<01:16, 11.03it/s]\u001b[A\n",
      " 16%|██████▍                                 | 162/1000 [00:14<01:15, 11.11it/s]\u001b[A"
     ]
    },
    {
     "name": "stdout",
     "output_type": "stream",
     "text": [
      "0.09300732612609863\n",
      "0.08564519882202148\n",
      "0.0899968147277832\n"
     ]
    },
    {
     "name": "stderr",
     "output_type": "stream",
     "text": [
      "\n",
      " 16%|██████▌                                 | 164/1000 [00:14<01:15, 11.15it/s]\u001b[A"
     ]
    },
    {
     "name": "stdout",
     "output_type": "stream",
     "text": [
      "0.08732223510742188\n",
      "0.08944296836853027\n",
      "0.08761858940124512\n"
     ]
    },
    {
     "name": "stderr",
     "output_type": "stream",
     "text": [
      "\n",
      " 17%|██████▋                                 | 166/1000 [00:14<01:14, 11.15it/s]\u001b[A\n",
      " 17%|██████▋                                 | 168/1000 [00:14<01:14, 11.18it/s]\u001b[A"
     ]
    },
    {
     "name": "stdout",
     "output_type": "stream",
     "text": [
      "0.09027647972106934\n",
      "0.08521699905395508\n",
      "0.0914151668548584\n"
     ]
    },
    {
     "name": "stderr",
     "output_type": "stream",
     "text": [
      "\n",
      " 17%|██████▊                                 | 170/1000 [00:15<01:14, 11.18it/s]\u001b[A"
     ]
    },
    {
     "name": "stdout",
     "output_type": "stream",
     "text": [
      "0.08774328231811523\n",
      "0.08979964256286621\n",
      "0.08836174011230469\n"
     ]
    },
    {
     "name": "stderr",
     "output_type": "stream",
     "text": [
      "\n",
      " 17%|██████▉                                 | 172/1000 [00:15<01:14, 11.19it/s]\u001b[A\n",
      " 17%|██████▉                                 | 174/1000 [00:15<01:13, 11.21it/s]\u001b[A"
     ]
    },
    {
     "name": "stdout",
     "output_type": "stream",
     "text": [
      "0.0890963077545166\n",
      "0.08626365661621094\n",
      "0.09026551246643066\n"
     ]
    },
    {
     "name": "stderr",
     "output_type": "stream",
     "text": [
      "\n",
      " 18%|███████                                 | 176/1000 [00:15<01:13, 11.20it/s]\u001b[A"
     ]
    },
    {
     "name": "stdout",
     "output_type": "stream",
     "text": [
      "0.08829116821289062\n",
      "0.08913183212280273\n",
      "0.0894625186920166\n"
     ]
    },
    {
     "name": "stderr",
     "output_type": "stream",
     "text": [
      "\n",
      " 18%|███████                                 | 178/1000 [00:15<01:13, 11.11it/s]\u001b[A\n",
      " 18%|███████▏                                | 180/1000 [00:15<01:13, 11.15it/s]\u001b[A"
     ]
    },
    {
     "name": "stdout",
     "output_type": "stream",
     "text": [
      "0.09255003929138184\n",
      "0.08538961410522461\n",
      "0.0911567211151123\n"
     ]
    },
    {
     "name": "stderr",
     "output_type": "stream",
     "text": [
      "\n",
      " 18%|███████▎                                | 182/1000 [00:16<01:13, 11.11it/s]\u001b[A"
     ]
    },
    {
     "name": "stdout",
     "output_type": "stream",
     "text": [
      "0.08802986145019531\n",
      "0.0921468734741211\n",
      "0.08892321586608887\n"
     ]
    },
    {
     "name": "stderr",
     "output_type": "stream",
     "text": [
      "\n",
      " 18%|███████▎                                | 184/1000 [00:16<01:13, 11.06it/s]\u001b[A\n",
      " 19%|███████▍                                | 186/1000 [00:16<01:13, 11.10it/s]\u001b[A"
     ]
    },
    {
     "name": "stdout",
     "output_type": "stream",
     "text": [
      "0.0924220085144043\n",
      "0.08573317527770996\n",
      "0.09151816368103027\n"
     ]
    },
    {
     "name": "stderr",
     "output_type": "stream",
     "text": [
      "\n",
      " 19%|███████▌                                | 188/1000 [00:16<01:12, 11.16it/s]\u001b[A"
     ]
    },
    {
     "name": "stdout",
     "output_type": "stream",
     "text": [
      "0.08610224723815918\n",
      "0.08948421478271484\n",
      "0.08800268173217773\n"
     ]
    },
    {
     "name": "stderr",
     "output_type": "stream",
     "text": [
      "\n",
      " 19%|███████▌                                | 190/1000 [00:16<01:12, 11.12it/s]\u001b[A\n",
      " 19%|███████▋                                | 192/1000 [00:17<01:12, 11.12it/s]\u001b[A"
     ]
    },
    {
     "name": "stdout",
     "output_type": "stream",
     "text": [
      "0.0923299789428711\n",
      "0.08596158027648926\n",
      "0.09262800216674805\n"
     ]
    },
    {
     "name": "stderr",
     "output_type": "stream",
     "text": [
      "\n",
      " 19%|███████▊                                | 194/1000 [00:17<01:12, 11.18it/s]\u001b[A"
     ]
    },
    {
     "name": "stdout",
     "output_type": "stream",
     "text": [
      "0.08686947822570801\n",
      "0.08897614479064941\n",
      "0.08793473243713379\n"
     ]
    },
    {
     "name": "stderr",
     "output_type": "stream",
     "text": [
      "\n",
      " 20%|███████▊                                | 196/1000 [00:17<01:11, 11.19it/s]\u001b[A\n",
      " 20%|███████▉                                | 198/1000 [00:17<01:11, 11.22it/s]\u001b[A"
     ]
    },
    {
     "name": "stdout",
     "output_type": "stream",
     "text": [
      "0.08914589881896973\n",
      "0.08490347862243652\n",
      "0.09151840209960938\n"
     ]
    },
    {
     "name": "stderr",
     "output_type": "stream",
     "text": [
      "\n",
      " 20%|████████                                | 200/1000 [00:17<01:11, 11.21it/s]\u001b[A"
     ]
    },
    {
     "name": "stdout",
     "output_type": "stream",
     "text": [
      "0.08635425567626953\n",
      "0.09116768836975098\n",
      "0.09078407287597656\n"
     ]
    },
    {
     "name": "stderr",
     "output_type": "stream",
     "text": [
      "\n",
      " 20%|████████                                | 202/1000 [00:17<01:11, 11.09it/s]\u001b[A\n",
      " 20%|████████▏                               | 204/1000 [00:18<01:11, 11.12it/s]\u001b[A"
     ]
    },
    {
     "name": "stdout",
     "output_type": "stream",
     "text": [
      "0.09298062324523926\n",
      "0.0856776237487793\n",
      "0.09164857864379883\n"
     ]
    },
    {
     "name": "stderr",
     "output_type": "stream",
     "text": [
      "\n",
      " 21%|████████▏                               | 206/1000 [00:18<01:11, 11.18it/s]\u001b[A"
     ]
    },
    {
     "name": "stdout",
     "output_type": "stream",
     "text": [
      "0.08742308616638184\n",
      "0.08781838417053223\n",
      "0.08742308616638184\n"
     ]
    },
    {
     "name": "stderr",
     "output_type": "stream",
     "text": [
      "\n",
      " 21%|████████▎                               | 208/1000 [00:18<01:11, 11.14it/s]\u001b[A\n",
      " 21%|████████▍                               | 210/1000 [00:18<01:10, 11.23it/s]\u001b[A"
     ]
    },
    {
     "name": "stdout",
     "output_type": "stream",
     "text": [
      "0.09251928329467773\n",
      "0.08427143096923828\n",
      "0.08951091766357422\n"
     ]
    },
    {
     "name": "stderr",
     "output_type": "stream",
     "text": [
      "\n",
      " 21%|████████▍                               | 212/1000 [00:18<01:09, 11.28it/s]\u001b[A"
     ]
    },
    {
     "name": "stdout",
     "output_type": "stream",
     "text": [
      "0.08608889579772949\n",
      "0.08786654472351074\n",
      "0.08695244789123535\n"
     ]
    },
    {
     "name": "stderr",
     "output_type": "stream",
     "text": [
      "\n",
      " 21%|████████▌                               | 214/1000 [00:19<01:09, 11.29it/s]\u001b[A\n",
      " 22%|████████▋                               | 216/1000 [00:19<01:09, 11.31it/s]\u001b[A"
     ]
    },
    {
     "name": "stdout",
     "output_type": "stream",
     "text": [
      "0.08877897262573242\n",
      "0.08540153503417969\n",
      "0.08926677703857422\n"
     ]
    },
    {
     "name": "stderr",
     "output_type": "stream",
     "text": [
      "\n",
      " 22%|████████▋                               | 218/1000 [00:19<01:09, 11.32it/s]\u001b[A"
     ]
    },
    {
     "name": "stdout",
     "output_type": "stream",
     "text": [
      "0.08642220497131348\n",
      "0.08872675895690918\n",
      "0.08674287796020508\n"
     ]
    },
    {
     "name": "stderr",
     "output_type": "stream",
     "text": [
      "\n",
      " 22%|████████▊                               | 220/1000 [00:19<01:09, 11.28it/s]\u001b[A\n",
      " 22%|████████▉                               | 222/1000 [00:19<01:08, 11.29it/s]\u001b[A"
     ]
    },
    {
     "name": "stdout",
     "output_type": "stream",
     "text": [
      "0.0909271240234375\n",
      "0.08679342269897461\n",
      "0.08859753608703613\n"
     ]
    },
    {
     "name": "stderr",
     "output_type": "stream",
     "text": [
      "\n",
      " 22%|████████▉                               | 224/1000 [00:19<01:08, 11.28it/s]\u001b[A"
     ]
    },
    {
     "name": "stdout",
     "output_type": "stream",
     "text": [
      "0.08881807327270508\n",
      "0.08792304992675781\n",
      "0.08782625198364258\n"
     ]
    },
    {
     "name": "stderr",
     "output_type": "stream",
     "text": [
      "\n",
      " 23%|█████████                               | 226/1000 [00:20<01:08, 11.24it/s]\u001b[A\n",
      " 23%|█████████                               | 228/1000 [00:20<01:08, 11.33it/s]\u001b[A"
     ]
    },
    {
     "name": "stdout",
     "output_type": "stream",
     "text": [
      "0.08999824523925781\n",
      "0.0844268798828125\n",
      "0.08781003952026367\n"
     ]
    },
    {
     "name": "stderr",
     "output_type": "stream",
     "text": [
      "\n",
      " 23%|█████████▏                              | 230/1000 [00:20<01:10, 10.91it/s]\u001b[A"
     ]
    },
    {
     "name": "stdout",
     "output_type": "stream",
     "text": [
      "0.08849740028381348\n",
      "0.1088554859161377\n"
     ]
    },
    {
     "name": "stderr",
     "output_type": "stream",
     "text": [
      "\n",
      " 23%|█████████▎                              | 232/1000 [00:20<01:13, 10.51it/s]\u001b[A"
     ]
    },
    {
     "name": "stdout",
     "output_type": "stream",
     "text": [
      "0.0953369140625\n",
      "0.10966944694519043\n",
      "0.08736586570739746\n"
     ]
    },
    {
     "name": "stderr",
     "output_type": "stream",
     "text": [
      "\n",
      " 23%|█████████▎                              | 234/1000 [00:20<01:13, 10.47it/s]\u001b[A\n",
      " 24%|█████████▍                              | 236/1000 [00:21<01:12, 10.48it/s]\u001b[A"
     ]
    },
    {
     "name": "stdout",
     "output_type": "stream",
     "text": [
      "0.10419011116027832\n",
      "0.09609079360961914\n",
      "0.09353399276733398\n"
     ]
    },
    {
     "name": "stderr",
     "output_type": "stream",
     "text": [
      "\n",
      " 24%|█████████▌                              | 238/1000 [00:21<01:13, 10.43it/s]\u001b[A"
     ]
    },
    {
     "name": "stdout",
     "output_type": "stream",
     "text": [
      "0.10735177993774414\n",
      "0.0852353572845459\n",
      "0.08890795707702637\n"
     ]
    },
    {
     "name": "stderr",
     "output_type": "stream",
     "text": [
      "\n",
      " 24%|█████████▌                              | 240/1000 [00:21<01:11, 10.66it/s]\u001b[A\n",
      " 24%|█████████▋                              | 242/1000 [00:21<01:09, 10.85it/s]\u001b[A"
     ]
    },
    {
     "name": "stdout",
     "output_type": "stream",
     "text": [
      "0.08768749237060547\n",
      "0.08838725090026855\n",
      "0.08719372749328613\n"
     ]
    },
    {
     "name": "stderr",
     "output_type": "stream",
     "text": [
      "\n",
      " 24%|█████████▊                              | 244/1000 [00:21<01:08, 10.97it/s]\u001b[A"
     ]
    },
    {
     "name": "stdout",
     "output_type": "stream",
     "text": [
      "0.09075260162353516\n",
      "0.0855560302734375\n",
      "0.08811330795288086\n"
     ]
    },
    {
     "name": "stderr",
     "output_type": "stream",
     "text": [
      "\n",
      " 25%|█████████▊                              | 246/1000 [00:21<01:08, 11.07it/s]\u001b[A\n",
      " 25%|█████████▉                              | 248/1000 [00:22<01:07, 11.18it/s]\u001b[A"
     ]
    },
    {
     "name": "stdout",
     "output_type": "stream",
     "text": [
      "0.0875399112701416\n",
      "0.08764863014221191\n",
      "0.08606743812561035\n"
     ]
    },
    {
     "name": "stderr",
     "output_type": "stream",
     "text": [
      "\n",
      " 25%|██████████                              | 250/1000 [00:22<01:06, 11.20it/s]\u001b[A"
     ]
    },
    {
     "name": "stdout",
     "output_type": "stream",
     "text": [
      "0.09088444709777832\n",
      "0.08578920364379883\n",
      "0.09033513069152832\n"
     ]
    },
    {
     "name": "stderr",
     "output_type": "stream",
     "text": [
      "\n",
      " 25%|██████████                              | 252/1000 [00:22<01:06, 11.18it/s]\u001b[A\n",
      " 25%|██████████▏                             | 254/1000 [00:22<01:07, 11.06it/s]\u001b[A"
     ]
    },
    {
     "name": "stdout",
     "output_type": "stream",
     "text": [
      "0.0883786678314209\n",
      "0.09419631958007812\n",
      "0.08993124961853027\n"
     ]
    },
    {
     "name": "stderr",
     "output_type": "stream",
     "text": [
      "\n",
      " 26%|██████████▏                             | 256/1000 [00:22<01:06, 11.13it/s]\u001b[A"
     ]
    },
    {
     "name": "stdout",
     "output_type": "stream",
     "text": [
      "0.08980417251586914\n",
      "0.0854794979095459\n",
      "0.08955168724060059\n"
     ]
    },
    {
     "name": "stderr",
     "output_type": "stream",
     "text": [
      "\n",
      " 26%|██████████▎                             | 258/1000 [00:23<01:06, 11.15it/s]\u001b[A\n",
      " 26%|██████████▍                             | 260/1000 [00:23<01:06, 11.21it/s]\u001b[A"
     ]
    },
    {
     "name": "stdout",
     "output_type": "stream",
     "text": [
      "0.08765172958374023\n",
      "0.08884954452514648\n",
      "0.08600759506225586\n"
     ]
    },
    {
     "name": "stderr",
     "output_type": "stream",
     "text": [
      "\n",
      " 26%|██████████▍                             | 262/1000 [00:23<01:05, 11.23it/s]\u001b[A"
     ]
    },
    {
     "name": "stdout",
     "output_type": "stream",
     "text": [
      "0.09117293357849121\n",
      "0.08492612838745117\n",
      "0.08814024925231934\n"
     ]
    },
    {
     "name": "stderr",
     "output_type": "stream",
     "text": [
      "\n",
      " 26%|██████████▌                             | 264/1000 [00:23<01:05, 11.26it/s]\u001b[A\n",
      " 27%|██████████▋                             | 266/1000 [00:23<01:05, 11.26it/s]\u001b[A"
     ]
    },
    {
     "name": "stdout",
     "output_type": "stream",
     "text": [
      "0.08734321594238281\n",
      "0.08881926536560059\n",
      "0.08767271041870117\n"
     ]
    },
    {
     "name": "stderr",
     "output_type": "stream",
     "text": [
      "\n",
      " 27%|██████████▋                             | 268/1000 [00:23<01:04, 11.27it/s]\u001b[A"
     ]
    },
    {
     "name": "stdout",
     "output_type": "stream",
     "text": [
      "0.09093141555786133\n",
      "0.08494162559509277\n",
      "0.08906173706054688\n"
     ]
    },
    {
     "name": "stderr",
     "output_type": "stream",
     "text": [
      "\n",
      " 27%|██████████▊                             | 270/1000 [00:24<01:04, 11.24it/s]\u001b[A\n",
      " 27%|██████████▉                             | 272/1000 [00:24<01:04, 11.28it/s]\u001b[A"
     ]
    },
    {
     "name": "stdout",
     "output_type": "stream",
     "text": [
      "0.08890247344970703\n",
      "0.08864617347717285\n",
      "0.08607125282287598\n"
     ]
    },
    {
     "name": "stderr",
     "output_type": "stream",
     "text": [
      "\n",
      " 27%|██████████▉                             | 274/1000 [00:24<01:04, 11.28it/s]\u001b[A"
     ]
    },
    {
     "name": "stdout",
     "output_type": "stream",
     "text": [
      "0.08921051025390625\n",
      "0.08713197708129883\n",
      "0.08687996864318848\n"
     ]
    },
    {
     "name": "stderr",
     "output_type": "stream",
     "text": [
      "\n",
      " 28%|███████████                             | 276/1000 [00:24<01:04, 11.28it/s]\u001b[A\n",
      " 28%|███████████                             | 278/1000 [00:24<01:03, 11.30it/s]\u001b[A"
     ]
    },
    {
     "name": "stdout",
     "output_type": "stream",
     "text": [
      "0.0890500545501709\n",
      "0.0877373218536377\n",
      "0.08758044242858887\n"
     ]
    },
    {
     "name": "stderr",
     "output_type": "stream",
     "text": [
      "\n",
      " 28%|███████████▏                            | 280/1000 [00:24<01:03, 11.33it/s]\u001b[A"
     ]
    },
    {
     "name": "stdout",
     "output_type": "stream",
     "text": [
      "0.08852171897888184\n",
      "0.08550000190734863\n",
      "0.08786582946777344\n"
     ]
    },
    {
     "name": "stderr",
     "output_type": "stream",
     "text": [
      "\n",
      " 28%|███████████▎                            | 282/1000 [00:25<01:03, 11.27it/s]\u001b[A\n",
      " 28%|███████████▎                            | 284/1000 [00:25<01:03, 11.29it/s]\u001b[A"
     ]
    },
    {
     "name": "stdout",
     "output_type": "stream",
     "text": [
      "0.09043264389038086\n",
      "0.08764767646789551\n",
      "0.08791732788085938\n"
     ]
    },
    {
     "name": "stderr",
     "output_type": "stream",
     "text": [
      "\n",
      " 29%|███████████▍                            | 286/1000 [00:25<01:03, 11.32it/s]\u001b[A"
     ]
    },
    {
     "name": "stdout",
     "output_type": "stream",
     "text": [
      "0.08883190155029297\n",
      "0.08558058738708496\n",
      "0.08623242378234863\n"
     ]
    },
    {
     "name": "stderr",
     "output_type": "stream",
     "text": [
      "\n",
      " 29%|███████████▌                            | 288/1000 [00:25<01:02, 11.30it/s]\u001b[A\n",
      " 29%|███████████▌                            | 290/1000 [00:25<01:02, 11.30it/s]\u001b[A"
     ]
    },
    {
     "name": "stdout",
     "output_type": "stream",
     "text": [
      "0.08997488021850586\n",
      "0.08714532852172852\n",
      "0.08866763114929199\n"
     ]
    },
    {
     "name": "stderr",
     "output_type": "stream",
     "text": [
      "\n",
      " 29%|███████████▋                            | 292/1000 [00:26<01:02, 11.27it/s]\u001b[A"
     ]
    },
    {
     "name": "stdout",
     "output_type": "stream",
     "text": [
      "0.08849811553955078\n",
      "0.08864784240722656\n",
      "0.08619880676269531\n"
     ]
    },
    {
     "name": "stderr",
     "output_type": "stream",
     "text": [
      "\n",
      " 29%|███████████▊                            | 294/1000 [00:26<01:02, 11.28it/s]\u001b[A\n",
      " 30%|███████████▊                            | 296/1000 [00:26<01:02, 11.33it/s]\u001b[A"
     ]
    },
    {
     "name": "stdout",
     "output_type": "stream",
     "text": [
      "0.08961081504821777\n",
      "0.08498501777648926\n",
      "0.08859586715698242\n"
     ]
    },
    {
     "name": "stderr",
     "output_type": "stream",
     "text": [
      "\n",
      " 30%|███████████▉                            | 298/1000 [00:26<01:01, 11.34it/s]\u001b[A"
     ]
    },
    {
     "name": "stdout",
     "output_type": "stream",
     "text": [
      "0.08912038803100586\n",
      "0.08574604988098145\n",
      "0.08574032783508301\n"
     ]
    },
    {
     "name": "stderr",
     "output_type": "stream",
     "text": [
      "\n",
      " 30%|████████████                            | 300/1000 [00:26<01:01, 11.34it/s]\u001b[A\n",
      " 30%|████████████                            | 302/1000 [00:26<01:01, 11.26it/s]\u001b[A"
     ]
    },
    {
     "name": "stdout",
     "output_type": "stream",
     "text": [
      "0.08931565284729004\n",
      "0.08942985534667969\n",
      "0.09012317657470703\n"
     ]
    },
    {
     "name": "stderr",
     "output_type": "stream",
     "text": [
      "\n",
      " 30%|████████████▏                           | 304/1000 [00:27<01:01, 11.25it/s]\u001b[A"
     ]
    },
    {
     "name": "stdout",
     "output_type": "stream",
     "text": [
      "0.08710098266601562\n",
      "0.08970069885253906\n",
      "0.08483695983886719\n"
     ]
    },
    {
     "name": "stderr",
     "output_type": "stream",
     "text": [
      "\n",
      " 31%|████████████▏                           | 306/1000 [00:27<01:01, 11.26it/s]\u001b[A\n",
      " 31%|████████████▎                           | 308/1000 [00:27<01:01, 11.33it/s]\u001b[A"
     ]
    },
    {
     "name": "stdout",
     "output_type": "stream",
     "text": [
      "0.09119963645935059\n",
      "0.0855400562286377\n",
      "0.08731603622436523\n"
     ]
    },
    {
     "name": "stderr",
     "output_type": "stream",
     "text": [
      "\n",
      " 31%|████████████▍                           | 310/1000 [00:27<01:01, 11.30it/s]\u001b[A"
     ]
    },
    {
     "name": "stdout",
     "output_type": "stream",
     "text": [
      "0.08916044235229492\n",
      "0.08781266212463379\n",
      "0.08514261245727539\n"
     ]
    },
    {
     "name": "stderr",
     "output_type": "stream",
     "text": [
      "\n",
      " 31%|████████████▍                           | 312/1000 [00:27<01:00, 11.30it/s]\u001b[A\n",
      " 31%|████████████▌                           | 314/1000 [00:27<01:00, 11.35it/s]\u001b[A"
     ]
    },
    {
     "name": "stdout",
     "output_type": "stream",
     "text": [
      "0.09080958366394043\n",
      "0.08482933044433594\n",
      "0.0883946418762207\n"
     ]
    },
    {
     "name": "stderr",
     "output_type": "stream",
     "text": [
      "\n",
      " 32%|████████████▋                           | 316/1000 [00:28<01:00, 11.29it/s]\u001b[A"
     ]
    },
    {
     "name": "stdout",
     "output_type": "stream",
     "text": [
      "0.08808493614196777\n",
      "0.08972430229187012\n",
      "0.08451247215270996\n"
     ]
    },
    {
     "name": "stderr",
     "output_type": "stream",
     "text": [
      "\n",
      " 32%|████████████▋                           | 318/1000 [00:28<01:00, 11.30it/s]\u001b[A\n",
      " 32%|████████████▊                           | 320/1000 [00:28<00:59, 11.36it/s]\u001b[A"
     ]
    },
    {
     "name": "stdout",
     "output_type": "stream",
     "text": [
      "0.09117817878723145\n",
      "0.08426260948181152\n",
      "0.08816885948181152\n"
     ]
    },
    {
     "name": "stderr",
     "output_type": "stream",
     "text": [
      "\n",
      " 32%|████████████▉                           | 322/1000 [00:28<00:59, 11.36it/s]\u001b[A"
     ]
    },
    {
     "name": "stdout",
     "output_type": "stream",
     "text": [
      "0.08815121650695801\n",
      "0.08676624298095703\n",
      "0.0858159065246582\n"
     ]
    },
    {
     "name": "stderr",
     "output_type": "stream",
     "text": [
      "\n",
      " 32%|████████████▉                           | 324/1000 [00:28<00:59, 11.33it/s]\u001b[A\n",
      " 33%|█████████████                           | 326/1000 [00:29<00:59, 11.36it/s]\u001b[A"
     ]
    },
    {
     "name": "stdout",
     "output_type": "stream",
     "text": [
      "0.09042716026306152\n",
      "0.0847618579864502\n",
      "0.08885788917541504\n"
     ]
    },
    {
     "name": "stderr",
     "output_type": "stream",
     "text": [
      "\n",
      " 33%|█████████████                           | 328/1000 [00:29<00:59, 11.32it/s]\u001b[A"
     ]
    },
    {
     "name": "stdout",
     "output_type": "stream",
     "text": [
      "0.0886690616607666\n",
      "0.08815217018127441\n",
      "0.08599019050598145\n"
     ]
    },
    {
     "name": "stderr",
     "output_type": "stream",
     "text": [
      "\n",
      " 33%|█████████████▏                          | 330/1000 [00:29<00:59, 11.32it/s]\u001b[A\n",
      " 33%|█████████████▎                          | 332/1000 [00:29<00:58, 11.33it/s]\u001b[A"
     ]
    },
    {
     "name": "stdout",
     "output_type": "stream",
     "text": [
      "0.08996415138244629\n",
      "0.08497071266174316\n",
      "0.08968830108642578\n"
     ]
    },
    {
     "name": "stderr",
     "output_type": "stream",
     "text": [
      "\n",
      " 33%|█████████████▎                          | 334/1000 [00:29<00:59, 11.28it/s]\u001b[A"
     ]
    },
    {
     "name": "stdout",
     "output_type": "stream",
     "text": [
      "0.08867049217224121\n",
      "0.08927702903747559\n",
      "0.08721327781677246\n"
     ]
    },
    {
     "name": "stderr",
     "output_type": "stream",
     "text": [
      "\n",
      " 34%|█████████████▍                          | 336/1000 [00:29<00:59, 11.20it/s]\u001b[A\n",
      " 34%|█████████████▌                          | 338/1000 [00:30<00:58, 11.24it/s]\u001b[A"
     ]
    },
    {
     "name": "stdout",
     "output_type": "stream",
     "text": [
      "0.09308266639709473\n",
      "0.08515763282775879\n",
      "0.09020113945007324\n"
     ]
    },
    {
     "name": "stderr",
     "output_type": "stream",
     "text": [
      "\n",
      " 34%|█████████████▌                          | 340/1000 [00:30<00:59, 11.15it/s]\u001b[A"
     ]
    },
    {
     "name": "stdout",
     "output_type": "stream",
     "text": [
      "0.08990335464477539\n",
      "0.09171152114868164\n",
      "0.08606481552124023\n"
     ]
    },
    {
     "name": "stderr",
     "output_type": "stream",
     "text": [
      "\n",
      " 34%|█████████████▋                          | 342/1000 [00:30<00:59, 11.14it/s]\u001b[A\n",
      " 34%|█████████████▊                          | 344/1000 [00:30<00:58, 11.19it/s]\u001b[A"
     ]
    },
    {
     "name": "stdout",
     "output_type": "stream",
     "text": [
      "0.09248971939086914\n",
      "0.08566665649414062\n",
      "0.09032011032104492\n"
     ]
    },
    {
     "name": "stderr",
     "output_type": "stream",
     "text": [
      "\n",
      " 35%|█████████████▊                          | 346/1000 [00:30<00:58, 11.15it/s]\u001b[A"
     ]
    },
    {
     "name": "stdout",
     "output_type": "stream",
     "text": [
      "0.08995795249938965\n",
      "0.08974719047546387\n",
      "0.0845496654510498\n"
     ]
    },
    {
     "name": "stderr",
     "output_type": "stream",
     "text": [
      "\n",
      " 35%|█████████████▉                          | 348/1000 [00:31<00:58, 11.15it/s]\u001b[A\n",
      " 35%|██████████████                          | 350/1000 [00:31<00:58, 11.06it/s]\u001b[A"
     ]
    },
    {
     "name": "stdout",
     "output_type": "stream",
     "text": [
      "0.09316492080688477\n",
      "0.08592653274536133\n",
      "0.09718918800354004\n"
     ]
    },
    {
     "name": "stderr",
     "output_type": "stream",
     "text": [
      "\n",
      " 35%|██████████████                          | 352/1000 [00:31<00:58, 11.04it/s]\u001b[A"
     ]
    },
    {
     "name": "stdout",
     "output_type": "stream",
     "text": [
      "0.08858132362365723\n",
      "0.09205460548400879\n",
      "0.08503270149230957\n"
     ]
    },
    {
     "name": "stderr",
     "output_type": "stream",
     "text": [
      "\n",
      " 35%|██████████████▏                         | 354/1000 [00:31<00:58, 11.09it/s]\u001b[A\n",
      " 36%|██████████████▏                         | 356/1000 [00:31<00:57, 11.17it/s]\u001b[A"
     ]
    },
    {
     "name": "stdout",
     "output_type": "stream",
     "text": [
      "0.09227132797241211\n",
      "0.08528399467468262\n",
      "0.08960914611816406\n"
     ]
    },
    {
     "name": "stderr",
     "output_type": "stream",
     "text": [
      "\n",
      " 36%|██████████████▎                         | 358/1000 [00:31<00:57, 11.17it/s]\u001b[A"
     ]
    },
    {
     "name": "stdout",
     "output_type": "stream",
     "text": [
      "0.0897216796875\n",
      "0.08810257911682129\n",
      "0.08738374710083008\n"
     ]
    },
    {
     "name": "stderr",
     "output_type": "stream",
     "text": [
      "\n",
      " 36%|██████████████▍                         | 360/1000 [00:32<00:57, 11.13it/s]\u001b[A\n",
      " 36%|██████████████▍                         | 362/1000 [00:32<00:56, 11.19it/s]\u001b[A"
     ]
    },
    {
     "name": "stdout",
     "output_type": "stream",
     "text": [
      "0.09276318550109863\n",
      "0.08577561378479004\n",
      "0.08905696868896484\n"
     ]
    },
    {
     "name": "stderr",
     "output_type": "stream",
     "text": [
      "\n",
      " 36%|██████████████▌                         | 364/1000 [00:32<00:56, 11.22it/s]\u001b[A"
     ]
    },
    {
     "name": "stdout",
     "output_type": "stream",
     "text": [
      "0.08956766128540039\n",
      "0.08640289306640625\n",
      "0.08843874931335449\n"
     ]
    },
    {
     "name": "stderr",
     "output_type": "stream",
     "text": [
      "\n",
      " 37%|██████████████▋                         | 366/1000 [00:32<00:56, 11.18it/s]\u001b[A\n",
      " 37%|██████████████▋                         | 368/1000 [00:32<00:56, 11.24it/s]\u001b[A"
     ]
    },
    {
     "name": "stdout",
     "output_type": "stream",
     "text": [
      "0.09055209159851074\n",
      "0.08696866035461426\n",
      "0.08789920806884766\n"
     ]
    },
    {
     "name": "stderr",
     "output_type": "stream",
     "text": [
      "\n",
      " 37%|██████████████▊                         | 370/1000 [00:32<00:56, 11.23it/s]\u001b[A"
     ]
    },
    {
     "name": "stdout",
     "output_type": "stream",
     "text": [
      "0.0910642147064209\n",
      "0.08598089218139648\n",
      "0.08957195281982422\n"
     ]
    },
    {
     "name": "stderr",
     "output_type": "stream",
     "text": [
      "\n",
      " 37%|██████████████▉                         | 372/1000 [00:33<00:56, 11.17it/s]\u001b[A\n",
      " 37%|██████████████▉                         | 374/1000 [00:33<00:55, 11.20it/s]\u001b[A"
     ]
    },
    {
     "name": "stdout",
     "output_type": "stream",
     "text": [
      "0.09078454971313477\n",
      "0.09097099304199219\n",
      "0.08498454093933105\n"
     ]
    },
    {
     "name": "stderr",
     "output_type": "stream",
     "text": [
      "\n",
      " 38%|███████████████                         | 376/1000 [00:33<00:55, 11.24it/s]\u001b[A"
     ]
    },
    {
     "name": "stdout",
     "output_type": "stream",
     "text": [
      "0.09119510650634766\n",
      "0.08388614654541016\n",
      "0.09065127372741699\n"
     ]
    },
    {
     "name": "stderr",
     "output_type": "stream",
     "text": [
      "\n",
      " 38%|███████████████                         | 378/1000 [00:33<00:55, 11.21it/s]\u001b[A\n",
      " 38%|███████████████▏                        | 380/1000 [00:33<00:55, 11.27it/s]\u001b[A"
     ]
    },
    {
     "name": "stdout",
     "output_type": "stream",
     "text": [
      "0.08772730827331543\n",
      "0.08875322341918945\n",
      "0.0854635238647461\n"
     ]
    },
    {
     "name": "stderr",
     "output_type": "stream",
     "text": [
      "\n",
      " 38%|███████████████▎                        | 382/1000 [00:34<00:54, 11.28it/s]\u001b[A"
     ]
    },
    {
     "name": "stdout",
     "output_type": "stream",
     "text": [
      "0.09098029136657715\n",
      "0.08476710319519043\n",
      "0.09121870994567871\n"
     ]
    },
    {
     "name": "stderr",
     "output_type": "stream",
     "text": [
      "\n",
      " 38%|███████████████▎                        | 384/1000 [00:34<00:54, 11.21it/s]\u001b[A\n",
      " 39%|███████████████▍                        | 386/1000 [00:34<00:54, 11.22it/s]\u001b[A"
     ]
    },
    {
     "name": "stdout",
     "output_type": "stream",
     "text": [
      "0.08844923973083496\n",
      "0.08979558944702148\n",
      "0.08704996109008789\n"
     ]
    },
    {
     "name": "stderr",
     "output_type": "stream",
     "text": [
      "\n",
      " 39%|███████████████▌                        | 388/1000 [00:34<00:54, 11.27it/s]\u001b[A"
     ]
    },
    {
     "name": "stdout",
     "output_type": "stream",
     "text": [
      "0.08973574638366699\n",
      "0.08414435386657715\n",
      "0.09053277969360352\n"
     ]
    },
    {
     "name": "stderr",
     "output_type": "stream",
     "text": [
      "\n",
      " 39%|███████████████▌                        | 390/1000 [00:34<00:54, 11.23it/s]\u001b[A\n",
      " 39%|███████████████▋                        | 392/1000 [00:34<00:54, 11.25it/s]\u001b[A"
     ]
    },
    {
     "name": "stdout",
     "output_type": "stream",
     "text": [
      "0.08828282356262207\n",
      "0.08962464332580566\n",
      "0.08590412139892578\n"
     ]
    },
    {
     "name": "stderr",
     "output_type": "stream",
     "text": [
      "\n",
      " 39%|███████████████▊                        | 394/1000 [00:35<00:53, 11.25it/s]\u001b[A"
     ]
    },
    {
     "name": "stdout",
     "output_type": "stream",
     "text": [
      "0.09068918228149414\n",
      "0.08539533615112305\n",
      "0.09128332138061523\n"
     ]
    },
    {
     "name": "stderr",
     "output_type": "stream",
     "text": [
      "\n",
      " 40%|███████████████▊                        | 396/1000 [00:35<00:53, 11.24it/s]\u001b[A\n",
      " 40%|███████████████▉                        | 398/1000 [00:35<00:53, 11.21it/s]\u001b[A"
     ]
    },
    {
     "name": "stdout",
     "output_type": "stream",
     "text": [
      "0.08620595932006836\n",
      "0.0909736156463623\n",
      "0.08720970153808594\n"
     ]
    },
    {
     "name": "stderr",
     "output_type": "stream",
     "text": [
      "\n",
      " 40%|████████████████                        | 400/1000 [00:35<00:53, 11.22it/s]\u001b[A"
     ]
    },
    {
     "name": "stdout",
     "output_type": "stream",
     "text": [
      "0.09232115745544434\n",
      "0.08415079116821289\n",
      "0.09076428413391113\n"
     ]
    },
    {
     "name": "stderr",
     "output_type": "stream",
     "text": [
      "\n",
      " 40%|████████████████                        | 402/1000 [00:35<00:53, 11.22it/s]\u001b[A\n",
      " 40%|████████████████▏                       | 404/1000 [00:36<00:53, 11.22it/s]\u001b[A"
     ]
    },
    {
     "name": "stdout",
     "output_type": "stream",
     "text": [
      "0.08638978004455566\n",
      "0.09034347534179688\n",
      "0.08668708801269531\n"
     ]
    },
    {
     "name": "stderr",
     "output_type": "stream",
     "text": [
      "\n",
      " 41%|████████████████▏                       | 406/1000 [00:36<00:52, 11.25it/s]\u001b[A"
     ]
    },
    {
     "name": "stdout",
     "output_type": "stream",
     "text": [
      "0.09153556823730469\n",
      "0.08385539054870605\n",
      "0.09160757064819336\n"
     ]
    },
    {
     "name": "stderr",
     "output_type": "stream",
     "text": [
      "\n",
      " 41%|████████████████▎                       | 408/1000 [00:36<00:52, 11.24it/s]\u001b[A\n",
      " 41%|████████████████▍                       | 410/1000 [00:36<00:52, 11.26it/s]\u001b[A"
     ]
    },
    {
     "name": "stdout",
     "output_type": "stream",
     "text": [
      "0.0857541561126709\n",
      "0.08916091918945312\n",
      "0.08652210235595703\n"
     ]
    },
    {
     "name": "stderr",
     "output_type": "stream",
     "text": [
      "\n",
      " 41%|████████████████▍                       | 412/1000 [00:36<00:52, 11.28it/s]\u001b[A"
     ]
    },
    {
     "name": "stdout",
     "output_type": "stream",
     "text": [
      "0.09095144271850586\n",
      "0.08447742462158203\n",
      "0.09450721740722656\n"
     ]
    },
    {
     "name": "stderr",
     "output_type": "stream",
     "text": [
      "\n",
      " 41%|████████████████▌                       | 414/1000 [00:36<00:52, 11.16it/s]\u001b[A\n",
      " 42%|████████████████▋                       | 416/1000 [00:37<00:52, 11.02it/s]\u001b[A"
     ]
    },
    {
     "name": "stdout",
     "output_type": "stream",
     "text": [
      "0.08799934387207031\n",
      "0.08662796020507812\n",
      "0.09902811050415039\n"
     ]
    },
    {
     "name": "stderr",
     "output_type": "stream",
     "text": [
      "\n",
      " 42%|████████████████▋                       | 418/1000 [00:37<00:52, 11.15it/s]\u001b[A"
     ]
    },
    {
     "name": "stdout",
     "output_type": "stream",
     "text": [
      "0.0863041877746582\n",
      "0.0870368480682373\n",
      "0.09341168403625488\n"
     ]
    },
    {
     "name": "stderr",
     "output_type": "stream",
     "text": [
      "\n",
      " 42%|████████████████▊                       | 420/1000 [00:37<00:52, 11.11it/s]\u001b[A\n",
      " 42%|████████████████▉                       | 422/1000 [00:37<00:52, 11.06it/s]\u001b[A"
     ]
    },
    {
     "name": "stdout",
     "output_type": "stream",
     "text": [
      "0.0868217945098877\n",
      "0.0915992259979248\n",
      "0.09011554718017578\n"
     ]
    },
    {
     "name": "stderr",
     "output_type": "stream",
     "text": [
      "\n",
      " 42%|████████████████▉                       | 424/1000 [00:37<00:51, 11.19it/s]\u001b[A"
     ]
    },
    {
     "name": "stdout",
     "output_type": "stream",
     "text": [
      "0.08771538734436035\n",
      "0.08457303047180176\n",
      "0.09294533729553223\n"
     ]
    },
    {
     "name": "stderr",
     "output_type": "stream",
     "text": [
      "\n",
      " 43%|█████████████████                       | 426/1000 [00:37<00:51, 11.15it/s]\u001b[A\n",
      " 43%|█████████████████                       | 428/1000 [00:38<00:51, 11.15it/s]\u001b[A"
     ]
    },
    {
     "name": "stdout",
     "output_type": "stream",
     "text": [
      "0.08597421646118164\n",
      "0.08914637565612793\n",
      "0.08907341957092285\n"
     ]
    },
    {
     "name": "stderr",
     "output_type": "stream",
     "text": [
      "\n",
      " 43%|█████████████████▏                      | 430/1000 [00:38<00:50, 11.23it/s]\u001b[A"
     ]
    },
    {
     "name": "stdout",
     "output_type": "stream",
     "text": [
      "0.08717823028564453\n",
      "0.08635425567626953\n",
      "0.09025454521179199\n"
     ]
    },
    {
     "name": "stderr",
     "output_type": "stream",
     "text": [
      "\n",
      " 43%|█████████████████▎                      | 432/1000 [00:38<00:50, 11.19it/s]\u001b[A\n",
      " 43%|█████████████████▎                      | 434/1000 [00:38<00:50, 11.16it/s]\u001b[A"
     ]
    },
    {
     "name": "stdout",
     "output_type": "stream",
     "text": [
      "0.08835744857788086\n",
      "0.08743071556091309\n",
      "0.0914151668548584\n"
     ]
    },
    {
     "name": "stderr",
     "output_type": "stream",
     "text": [
      "\n",
      " 44%|█████████████████▍                      | 436/1000 [00:38<00:50, 11.18it/s]\u001b[A"
     ]
    },
    {
     "name": "stdout",
     "output_type": "stream",
     "text": [
      "0.09022092819213867\n",
      "0.08681178092956543\n",
      "0.09644103050231934\n"
     ]
    },
    {
     "name": "stderr",
     "output_type": "stream",
     "text": [
      "\n",
      " 44%|█████████████████▌                      | 438/1000 [00:39<00:50, 11.02it/s]\u001b[A\n",
      " 44%|█████████████████▌                      | 440/1000 [00:39<00:50, 11.06it/s]\u001b[A"
     ]
    },
    {
     "name": "stdout",
     "output_type": "stream",
     "text": [
      "0.08939576148986816\n",
      "0.0873711109161377\n",
      "0.09093761444091797\n"
     ]
    },
    {
     "name": "stderr",
     "output_type": "stream",
     "text": [
      "\n",
      " 44%|█████████████████▋                      | 442/1000 [00:39<00:50, 11.12it/s]\u001b[A"
     ]
    },
    {
     "name": "stdout",
     "output_type": "stream",
     "text": [
      "0.08717036247253418\n",
      "0.08856987953186035\n",
      "0.08817291259765625\n"
     ]
    },
    {
     "name": "stderr",
     "output_type": "stream",
     "text": [
      "\n",
      " 44%|█████████████████▊                      | 444/1000 [00:39<00:49, 11.15it/s]\u001b[A\n",
      " 45%|█████████████████▊                      | 446/1000 [00:39<00:49, 11.15it/s]\u001b[A"
     ]
    },
    {
     "name": "stdout",
     "output_type": "stream",
     "text": [
      "0.08893084526062012\n",
      "0.08686065673828125\n",
      "0.0908668041229248\n"
     ]
    },
    {
     "name": "stderr",
     "output_type": "stream",
     "text": [
      "\n",
      " 45%|█████████████████▉                      | 448/1000 [00:39<00:49, 11.19it/s]\u001b[A"
     ]
    },
    {
     "name": "stdout",
     "output_type": "stream",
     "text": [
      "0.08712124824523926\n",
      "0.08883094787597656\n",
      "0.08834099769592285\n"
     ]
    },
    {
     "name": "stderr",
     "output_type": "stream",
     "text": [
      "\n",
      " 45%|██████████████████                      | 450/1000 [00:40<00:49, 11.18it/s]\u001b[A\n",
      " 45%|██████████████████                      | 452/1000 [00:40<00:48, 11.19it/s]\u001b[A"
     ]
    },
    {
     "name": "stdout",
     "output_type": "stream",
     "text": [
      "0.08964204788208008\n",
      "0.08676362037658691\n",
      "0.09003210067749023\n"
     ]
    },
    {
     "name": "stderr",
     "output_type": "stream",
     "text": [
      "\n",
      " 45%|██████████████████▏                     | 454/1000 [00:40<00:48, 11.19it/s]\u001b[A"
     ]
    },
    {
     "name": "stdout",
     "output_type": "stream",
     "text": [
      "0.0867624282836914\n",
      "0.09073138236999512\n",
      "0.08629488945007324\n"
     ]
    },
    {
     "name": "stderr",
     "output_type": "stream",
     "text": [
      "\n",
      " 46%|██████████████████▏                     | 456/1000 [00:40<00:48, 11.21it/s]\u001b[A\n",
      " 46%|██████████████████▎                     | 458/1000 [00:40<00:48, 11.24it/s]\u001b[A"
     ]
    },
    {
     "name": "stdout",
     "output_type": "stream",
     "text": [
      "0.09036445617675781\n",
      "0.08710908889770508\n",
      "0.08851003646850586\n"
     ]
    },
    {
     "name": "stderr",
     "output_type": "stream",
     "text": [
      "\n",
      " 46%|██████████████████▍                     | 460/1000 [00:41<00:47, 11.26it/s]\u001b[A"
     ]
    },
    {
     "name": "stdout",
     "output_type": "stream",
     "text": [
      "0.08513069152832031\n",
      "0.09040474891662598\n",
      "0.08673810958862305\n"
     ]
    },
    {
     "name": "stderr",
     "output_type": "stream",
     "text": [
      "\n",
      " 46%|██████████████████▍                     | 462/1000 [00:41<00:47, 11.25it/s]\u001b[A\n",
      " 46%|██████████████████▌                     | 464/1000 [00:41<00:47, 11.20it/s]\u001b[A"
     ]
    },
    {
     "name": "stdout",
     "output_type": "stream",
     "text": [
      "0.08971977233886719\n",
      "0.08805584907531738\n",
      "0.09091019630432129\n"
     ]
    },
    {
     "name": "stderr",
     "output_type": "stream",
     "text": [
      "\n",
      " 47%|██████████████████▋                     | 466/1000 [00:41<00:47, 11.22it/s]\u001b[A"
     ]
    },
    {
     "name": "stdout",
     "output_type": "stream",
     "text": [
      "0.0854635238647461\n",
      "0.09059476852416992\n",
      "0.08583998680114746\n"
     ]
    },
    {
     "name": "stderr",
     "output_type": "stream",
     "text": [
      "\n",
      " 47%|██████████████████▋                     | 468/1000 [00:41<00:47, 11.26it/s]\u001b[A\n",
      " 47%|██████████████████▊                     | 470/1000 [00:41<00:46, 11.29it/s]\u001b[A"
     ]
    },
    {
     "name": "stdout",
     "output_type": "stream",
     "text": [
      "0.08954763412475586\n",
      "0.0872812271118164\n",
      "0.08709239959716797\n"
     ]
    },
    {
     "name": "stderr",
     "output_type": "stream",
     "text": [
      "\n",
      " 47%|██████████████████▉                     | 472/1000 [00:42<00:46, 11.26it/s]\u001b[A"
     ]
    },
    {
     "name": "stdout",
     "output_type": "stream",
     "text": [
      "0.08659982681274414\n",
      "0.0911569595336914\n",
      "0.08605504035949707\n"
     ]
    },
    {
     "name": "stderr",
     "output_type": "stream",
     "text": [
      "\n",
      " 47%|██████████████████▉                     | 474/1000 [00:42<00:46, 11.26it/s]\u001b[A\n",
      " 48%|███████████████████                     | 476/1000 [00:42<00:46, 11.24it/s]\u001b[A"
     ]
    },
    {
     "name": "stdout",
     "output_type": "stream",
     "text": [
      "0.0904538631439209\n",
      "0.08872532844543457\n",
      "0.08875823020935059\n"
     ]
    },
    {
     "name": "stderr",
     "output_type": "stream",
     "text": [
      "\n",
      " 48%|███████████████████                     | 478/1000 [00:42<00:46, 11.22it/s]\u001b[A"
     ]
    },
    {
     "name": "stdout",
     "output_type": "stream",
     "text": [
      "0.08646893501281738\n",
      "0.09128212928771973\n",
      "0.08564257621765137\n"
     ]
    },
    {
     "name": "stderr",
     "output_type": "stream",
     "text": [
      "\n",
      " 48%|███████████████████▏                    | 480/1000 [00:42<00:46, 11.26it/s]\u001b[A\n",
      " 48%|███████████████████▎                    | 482/1000 [00:42<00:46, 11.26it/s]\u001b[A"
     ]
    },
    {
     "name": "stdout",
     "output_type": "stream",
     "text": [
      "0.08928322792053223\n",
      "0.08901643753051758\n",
      "0.08748888969421387\n"
     ]
    },
    {
     "name": "stderr",
     "output_type": "stream",
     "text": [
      "\n",
      " 48%|███████████████████▎                    | 484/1000 [00:43<00:45, 11.22it/s]\u001b[A"
     ]
    },
    {
     "name": "stdout",
     "output_type": "stream",
     "text": [
      "0.08643794059753418\n",
      "0.09177041053771973\n",
      "0.08483552932739258\n"
     ]
    },
    {
     "name": "stderr",
     "output_type": "stream",
     "text": [
      "\n",
      " 49%|███████████████████▍                    | 486/1000 [00:43<00:45, 11.24it/s]\u001b[A\n",
      " 49%|███████████████████▌                    | 488/1000 [00:43<00:45, 11.20it/s]\u001b[A"
     ]
    },
    {
     "name": "stdout",
     "output_type": "stream",
     "text": [
      "0.09108090400695801\n",
      "0.08863401412963867\n",
      "0.09021115303039551\n"
     ]
    },
    {
     "name": "stderr",
     "output_type": "stream",
     "text": [
      "\n",
      " 49%|███████████████████▌                    | 490/1000 [00:43<00:45, 11.20it/s]\u001b[A"
     ]
    },
    {
     "name": "stdout",
     "output_type": "stream",
     "text": [
      "0.08715033531188965\n",
      "0.0904698371887207\n",
      "0.08623456954956055\n"
     ]
    },
    {
     "name": "stderr",
     "output_type": "stream",
     "text": [
      "\n",
      " 49%|███████████████████▋                    | 492/1000 [00:43<00:45, 11.24it/s]\u001b[A\n",
      " 49%|███████████████████▊                    | 494/1000 [00:44<00:45, 11.24it/s]\u001b[A"
     ]
    },
    {
     "name": "stdout",
     "output_type": "stream",
     "text": [
      "0.08907461166381836\n",
      "0.08852982521057129\n",
      "0.08829927444458008\n"
     ]
    },
    {
     "name": "stderr",
     "output_type": "stream",
     "text": [
      "\n",
      " 50%|███████████████████▊                    | 496/1000 [00:44<00:44, 11.21it/s]\u001b[A"
     ]
    },
    {
     "name": "stdout",
     "output_type": "stream",
     "text": [
      "0.08863496780395508\n",
      "0.08978438377380371\n",
      "0.08651137351989746\n"
     ]
    },
    {
     "name": "stderr",
     "output_type": "stream",
     "text": [
      "\n",
      " 50%|███████████████████▉                    | 498/1000 [00:44<00:44, 11.25it/s]\u001b[A\n",
      " 50%|████████████████████                    | 500/1000 [00:44<00:44, 11.29it/s]\u001b[A"
     ]
    },
    {
     "name": "stdout",
     "output_type": "stream",
     "text": [
      "0.08870720863342285\n",
      "0.08849096298217773\n",
      "0.08609676361083984\n"
     ]
    },
    {
     "name": "stderr",
     "output_type": "stream",
     "text": [
      "\n",
      " 50%|████████████████████                    | 502/1000 [00:44<00:44, 11.27it/s]\u001b[A"
     ]
    },
    {
     "name": "stdout",
     "output_type": "stream",
     "text": [
      "0.08879876136779785\n",
      "0.08789396286010742\n",
      "0.08852076530456543\n"
     ]
    },
    {
     "name": "stderr",
     "output_type": "stream",
     "text": [
      "\n",
      " 50%|████████████████████▏                   | 504/1000 [00:44<00:44, 11.26it/s]\u001b[A\n",
      " 51%|████████████████████▏                   | 506/1000 [00:45<00:43, 11.26it/s]\u001b[A"
     ]
    },
    {
     "name": "stdout",
     "output_type": "stream",
     "text": [
      "0.08813071250915527\n",
      "0.0898735523223877\n",
      "0.08689689636230469\n"
     ]
    },
    {
     "name": "stderr",
     "output_type": "stream",
     "text": [
      "\n",
      " 51%|████████████████████▎                   | 508/1000 [00:45<00:43, 11.22it/s]\u001b[A"
     ]
    },
    {
     "name": "stdout",
     "output_type": "stream",
     "text": [
      "0.0900120735168457\n",
      "0.0882575511932373\n",
      "0.08958625793457031\n"
     ]
    },
    {
     "name": "stderr",
     "output_type": "stream",
     "text": [
      "\n",
      " 51%|████████████████████▍                   | 510/1000 [00:45<00:43, 11.23it/s]\u001b[A\n",
      " 51%|████████████████████▍                   | 512/1000 [00:45<00:43, 11.26it/s]\u001b[A"
     ]
    },
    {
     "name": "stdout",
     "output_type": "stream",
     "text": [
      "0.08696269989013672\n",
      "0.09036755561828613\n",
      "0.08524417877197266\n"
     ]
    },
    {
     "name": "stderr",
     "output_type": "stream",
     "text": [
      "\n",
      " 51%|████████████████████▌                   | 514/1000 [00:45<00:43, 11.24it/s]\u001b[A"
     ]
    },
    {
     "name": "stdout",
     "output_type": "stream",
     "text": [
      "0.09026670455932617\n",
      "0.08723902702331543\n",
      "0.09034180641174316\n"
     ]
    },
    {
     "name": "stderr",
     "output_type": "stream",
     "text": [
      "\n",
      " 52%|████████████████████▋                   | 516/1000 [00:46<00:43, 11.20it/s]\u001b[A\n",
      " 52%|████████████████████▋                   | 518/1000 [00:46<00:43, 11.16it/s]\u001b[A"
     ]
    },
    {
     "name": "stdout",
     "output_type": "stream",
     "text": [
      "0.08852314949035645\n",
      "0.09171223640441895\n",
      "0.08753681182861328\n"
     ]
    },
    {
     "name": "stderr",
     "output_type": "stream",
     "text": [
      "\n",
      " 52%|████████████████████▊                   | 520/1000 [00:46<00:42, 11.19it/s]\u001b[A"
     ]
    },
    {
     "name": "stdout",
     "output_type": "stream",
     "text": [
      "0.09055352210998535\n",
      "0.0860903263092041\n",
      "0.09165310859680176\n"
     ]
    },
    {
     "name": "stderr",
     "output_type": "stream",
     "text": [
      "\n",
      " 52%|████████████████████▉                   | 522/1000 [00:46<00:42, 11.16it/s]\u001b[A\n",
      " 52%|████████████████████▉                   | 524/1000 [00:46<00:42, 11.18it/s]\u001b[A"
     ]
    },
    {
     "name": "stdout",
     "output_type": "stream",
     "text": [
      "0.08745074272155762\n",
      "0.09071731567382812\n",
      "0.08579325675964355\n"
     ]
    },
    {
     "name": "stderr",
     "output_type": "stream",
     "text": [
      "\n",
      " 53%|█████████████████████                   | 526/1000 [00:46<00:42, 11.18it/s]\u001b[A"
     ]
    },
    {
     "name": "stdout",
     "output_type": "stream",
     "text": [
      "0.09154129028320312\n",
      "0.08609771728515625\n",
      "0.10065889358520508\n"
     ]
    },
    {
     "name": "stderr",
     "output_type": "stream",
     "text": [
      "\n",
      " 53%|█████████████████████                   | 528/1000 [00:47<00:42, 11.00it/s]\u001b[A\n",
      " 53%|█████████████████████▏                  | 530/1000 [00:47<00:42, 11.06it/s]\u001b[A"
     ]
    },
    {
     "name": "stdout",
     "output_type": "stream",
     "text": [
      "0.08710050582885742\n",
      "0.09143257141113281\n",
      "0.08558464050292969\n"
     ]
    },
    {
     "name": "stderr",
     "output_type": "stream",
     "text": [
      "\n",
      " 53%|█████████████████████▎                  | 532/1000 [00:47<00:42, 11.11it/s]\u001b[A"
     ]
    },
    {
     "name": "stdout",
     "output_type": "stream",
     "text": [
      "0.09183740615844727\n",
      "0.08540058135986328\n",
      "0.09133553504943848\n"
     ]
    },
    {
     "name": "stderr",
     "output_type": "stream",
     "text": [
      "\n",
      " 53%|█████████████████████▎                  | 534/1000 [00:47<00:42, 11.08it/s]\u001b[A\n",
      " 54%|█████████████████████▍                  | 536/1000 [00:47<00:41, 11.14it/s]\u001b[A"
     ]
    },
    {
     "name": "stdout",
     "output_type": "stream",
     "text": [
      "0.08883500099182129\n",
      "0.09120869636535645\n",
      "0.08526039123535156\n"
     ]
    },
    {
     "name": "stderr",
     "output_type": "stream",
     "text": [
      "\n",
      " 54%|█████████████████████▌                  | 538/1000 [00:47<00:41, 11.18it/s]\u001b[A"
     ]
    },
    {
     "name": "stdout",
     "output_type": "stream",
     "text": [
      "0.0907144546508789\n",
      "0.08519458770751953\n",
      "0.09139728546142578\n"
     ]
    },
    {
     "name": "stderr",
     "output_type": "stream",
     "text": [
      "\n",
      " 54%|█████████████████████▌                  | 540/1000 [00:48<00:41, 11.14it/s]\u001b[A\n",
      " 54%|█████████████████████▋                  | 542/1000 [00:48<00:40, 11.22it/s]\u001b[A"
     ]
    },
    {
     "name": "stdout",
     "output_type": "stream",
     "text": [
      "0.08827352523803711\n",
      "0.09005498886108398\n",
      "0.08406877517700195\n"
     ]
    },
    {
     "name": "stderr",
     "output_type": "stream",
     "text": [
      "\n",
      " 54%|█████████████████████▊                  | 544/1000 [00:48<00:40, 11.24it/s]\u001b[A"
     ]
    },
    {
     "name": "stdout",
     "output_type": "stream",
     "text": [
      "0.09164214134216309\n",
      "0.08428668975830078\n",
      "0.0918586254119873\n"
     ]
    },
    {
     "name": "stderr",
     "output_type": "stream",
     "text": [
      "\n",
      " 55%|█████████████████████▊                  | 546/1000 [00:48<00:40, 11.18it/s]\u001b[A\n",
      " 55%|█████████████████████▉                  | 548/1000 [00:48<00:39, 11.30it/s]\u001b[A"
     ]
    },
    {
     "name": "stdout",
     "output_type": "stream",
     "text": [
      "0.08782672882080078\n",
      "0.0872645378112793\n",
      "0.08414387702941895\n"
     ]
    },
    {
     "name": "stderr",
     "output_type": "stream",
     "text": [
      "\n",
      " 55%|██████████████████████                  | 550/1000 [00:49<00:39, 11.31it/s]\u001b[A"
     ]
    },
    {
     "name": "stdout",
     "output_type": "stream",
     "text": [
      "0.09083175659179688\n",
      "0.08448553085327148\n",
      "0.09048986434936523\n"
     ]
    },
    {
     "name": "stderr",
     "output_type": "stream",
     "text": [
      "\n",
      " 55%|██████████████████████                  | 552/1000 [00:49<00:42, 10.59it/s]\u001b[A"
     ]
    },
    {
     "name": "stdout",
     "output_type": "stream",
     "text": [
      "0.12535786628723145\n",
      "0.09204792976379395\n"
     ]
    },
    {
     "name": "stderr",
     "output_type": "stream",
     "text": [
      "\n",
      " 55%|██████████████████████▏                 | 554/1000 [00:49<00:52,  8.49it/s]\u001b[A\n",
      " 56%|██████████████████████▏                 | 556/1000 [00:49<00:48,  9.20it/s]\u001b[A"
     ]
    },
    {
     "name": "stdout",
     "output_type": "stream",
     "text": [
      "0.25128746032714844\n",
      "0.08799481391906738\n",
      "0.08562612533569336\n"
     ]
    },
    {
     "name": "stderr",
     "output_type": "stream",
     "text": [
      "\n",
      " 56%|██████████████████████▎                 | 558/1000 [00:49<00:45,  9.71it/s]\u001b[A"
     ]
    },
    {
     "name": "stdout",
     "output_type": "stream",
     "text": [
      "0.09344768524169922\n",
      "0.08433103561401367\n",
      "0.09092020988464355\n"
     ]
    },
    {
     "name": "stderr",
     "output_type": "stream",
     "text": [
      "\n",
      " 56%|██████████████████████▍                 | 560/1000 [00:50<00:43, 10.09it/s]\u001b[A\n",
      " 56%|██████████████████████▍                 | 562/1000 [00:50<00:42, 10.42it/s]\u001b[A"
     ]
    },
    {
     "name": "stdout",
     "output_type": "stream",
     "text": [
      "0.08766865730285645\n",
      "0.08886075019836426\n",
      "0.08689546585083008\n"
     ]
    },
    {
     "name": "stderr",
     "output_type": "stream",
     "text": [
      "\n",
      " 56%|██████████████████████▌                 | 564/1000 [00:50<00:40, 10.65it/s]\u001b[A"
     ]
    },
    {
     "name": "stdout",
     "output_type": "stream",
     "text": [
      "0.09211611747741699\n",
      "0.08481287956237793\n",
      "0.09081459045410156\n"
     ]
    },
    {
     "name": "stderr",
     "output_type": "stream",
     "text": [
      "\n",
      " 57%|██████████████████████▋                 | 566/1000 [00:50<00:40, 10.80it/s]\u001b[A\n",
      " 57%|██████████████████████▋                 | 568/1000 [00:50<00:39, 10.88it/s]\u001b[A"
     ]
    },
    {
     "name": "stdout",
     "output_type": "stream",
     "text": [
      "0.08679056167602539\n",
      "0.08895397186279297\n",
      "0.0906989574432373\n"
     ]
    },
    {
     "name": "stderr",
     "output_type": "stream",
     "text": [
      "\n",
      " 57%|██████████████████████▊                 | 570/1000 [00:51<00:39, 10.96it/s]\u001b[A"
     ]
    },
    {
     "name": "stdout",
     "output_type": "stream",
     "text": [
      "0.09263801574707031\n",
      "0.08514285087585449\n",
      "0.09197163581848145\n"
     ]
    },
    {
     "name": "stderr",
     "output_type": "stream",
     "text": [
      "\n",
      " 57%|██████████████████████▉                 | 572/1000 [00:51<00:38, 10.98it/s]\u001b[A\n",
      " 57%|██████████████████████▉                 | 574/1000 [00:51<00:38, 10.98it/s]\u001b[A"
     ]
    },
    {
     "name": "stdout",
     "output_type": "stream",
     "text": [
      "0.0880422592163086\n",
      "0.08914947509765625\n",
      "0.09142088890075684\n"
     ]
    },
    {
     "name": "stderr",
     "output_type": "stream",
     "text": [
      "\n",
      " 58%|███████████████████████                 | 576/1000 [00:51<00:38, 11.08it/s]\u001b[A"
     ]
    },
    {
     "name": "stdout",
     "output_type": "stream",
     "text": [
      "0.08971714973449707\n",
      "0.08545398712158203\n",
      "0.09278726577758789\n"
     ]
    },
    {
     "name": "stderr",
     "output_type": "stream",
     "text": [
      "\n",
      " 58%|███████████████████████                 | 578/1000 [00:51<00:38, 11.04it/s]\u001b[A\n",
      " 58%|███████████████████████▏                | 580/1000 [00:51<00:38, 11.00it/s]\u001b[A"
     ]
    },
    {
     "name": "stdout",
     "output_type": "stream",
     "text": [
      "0.08849382400512695\n",
      "0.09017324447631836\n",
      "0.09155821800231934\n"
     ]
    },
    {
     "name": "stderr",
     "output_type": "stream",
     "text": [
      "\n",
      " 58%|███████████████████████▎                | 582/1000 [00:52<00:37, 11.05it/s]\u001b[A"
     ]
    },
    {
     "name": "stdout",
     "output_type": "stream",
     "text": [
      "0.08842611312866211\n",
      "0.08925557136535645\n",
      "0.08896374702453613\n"
     ]
    },
    {
     "name": "stderr",
     "output_type": "stream",
     "text": [
      "\n",
      " 58%|███████████████████████▎                | 584/1000 [00:52<00:37, 11.06it/s]\u001b[A\n",
      " 59%|███████████████████████▍                | 586/1000 [00:52<00:37, 11.09it/s]\u001b[A"
     ]
    },
    {
     "name": "stdout",
     "output_type": "stream",
     "text": [
      "0.09002304077148438\n",
      "0.08687448501586914\n",
      "0.09026575088500977\n"
     ]
    },
    {
     "name": "stderr",
     "output_type": "stream",
     "text": [
      "\n",
      " 59%|███████████████████████▌                | 588/1000 [00:52<00:36, 11.21it/s]\u001b[A"
     ]
    },
    {
     "name": "stdout",
     "output_type": "stream",
     "text": [
      "0.08768606185913086\n",
      "0.08510875701904297\n",
      "0.08873987197875977\n"
     ]
    },
    {
     "name": "stderr",
     "output_type": "stream",
     "text": [
      "\n",
      " 59%|███████████████████████▌                | 590/1000 [00:52<00:36, 11.21it/s]\u001b[A\n",
      " 59%|███████████████████████▋                | 592/1000 [00:53<00:36, 11.22it/s]\u001b[A"
     ]
    },
    {
     "name": "stdout",
     "output_type": "stream",
     "text": [
      "0.08784604072570801\n",
      "0.08846330642700195\n",
      "0.08767461776733398\n"
     ]
    },
    {
     "name": "stderr",
     "output_type": "stream",
     "text": [
      "\n",
      " 59%|███████████████████████▊                | 594/1000 [00:53<00:35, 11.30it/s]\u001b[A"
     ]
    },
    {
     "name": "stdout",
     "output_type": "stream",
     "text": [
      "0.08779716491699219\n",
      "0.08474254608154297\n",
      "0.08989381790161133\n"
     ]
    },
    {
     "name": "stderr",
     "output_type": "stream",
     "text": [
      "\n",
      " 60%|███████████████████████▊                | 596/1000 [00:53<00:35, 11.28it/s]\u001b[A\n",
      " 60%|███████████████████████▉                | 598/1000 [00:53<00:35, 11.29it/s]\u001b[A"
     ]
    },
    {
     "name": "stdout",
     "output_type": "stream",
     "text": [
      "0.08602309226989746\n",
      "0.08836483955383301\n",
      "0.08683443069458008\n"
     ]
    },
    {
     "name": "stderr",
     "output_type": "stream",
     "text": [
      "\n",
      " 60%|████████████████████████                | 600/1000 [00:53<00:35, 11.35it/s]\u001b[A"
     ]
    },
    {
     "name": "stdout",
     "output_type": "stream",
     "text": [
      "0.08970808982849121\n",
      "0.08264422416687012\n",
      "0.09201598167419434\n"
     ]
    },
    {
     "name": "stderr",
     "output_type": "stream",
     "text": [
      "\n",
      " 60%|████████████████████████                | 602/1000 [00:53<00:35, 11.31it/s]\u001b[A\n",
      " 60%|████████████████████████▏               | 604/1000 [00:54<00:34, 11.32it/s]\u001b[A"
     ]
    },
    {
     "name": "stdout",
     "output_type": "stream",
     "text": [
      "0.0849454402923584\n",
      "0.08859562873840332\n",
      "0.08645415306091309\n"
     ]
    },
    {
     "name": "stderr",
     "output_type": "stream",
     "text": [
      "\n",
      " 61%|████████████████████████▏               | 606/1000 [00:54<00:34, 11.32it/s]\u001b[A"
     ]
    },
    {
     "name": "stdout",
     "output_type": "stream",
     "text": [
      "0.09337782859802246\n",
      "0.08233642578125\n",
      "0.09166932106018066\n"
     ]
    },
    {
     "name": "stderr",
     "output_type": "stream",
     "text": [
      "\n",
      " 61%|████████████████████████▎               | 608/1000 [00:54<00:34, 11.30it/s]\u001b[A\n",
      " 61%|████████████████████████▍               | 610/1000 [00:54<00:34, 11.31it/s]\u001b[A"
     ]
    },
    {
     "name": "stdout",
     "output_type": "stream",
     "text": [
      "0.0849003791809082\n",
      "0.08884739875793457\n",
      "0.08672189712524414\n"
     ]
    },
    {
     "name": "stderr",
     "output_type": "stream",
     "text": [
      "\n",
      " 61%|████████████████████████▍               | 612/1000 [00:54<00:33, 11.41it/s]\u001b[A"
     ]
    },
    {
     "name": "stdout",
     "output_type": "stream",
     "text": [
      "0.0879828929901123\n",
      "0.08215665817260742\n",
      "0.09178876876831055\n"
     ]
    },
    {
     "name": "stderr",
     "output_type": "stream",
     "text": [
      "\n",
      " 61%|████████████████████████▌               | 614/1000 [00:54<00:34, 11.35it/s]\u001b[A\n",
      " 62%|████████████████████████▋               | 616/1000 [00:55<00:33, 11.30it/s]\u001b[A"
     ]
    },
    {
     "name": "stdout",
     "output_type": "stream",
     "text": [
      "0.08535933494567871\n",
      "0.08979535102844238\n",
      "0.08781599998474121\n"
     ]
    },
    {
     "name": "stderr",
     "output_type": "stream",
     "text": [
      "\n",
      " 62%|████████████████████████▋               | 618/1000 [00:55<00:33, 11.32it/s]\u001b[A"
     ]
    },
    {
     "name": "stdout",
     "output_type": "stream",
     "text": [
      "0.09209322929382324\n",
      "0.0825345516204834\n",
      "0.09207701683044434\n"
     ]
    },
    {
     "name": "stderr",
     "output_type": "stream",
     "text": [
      "\n",
      " 62%|████████████████████████▊               | 620/1000 [00:55<00:33, 11.28it/s]\u001b[A\n",
      " 62%|████████████████████████▉               | 622/1000 [00:55<00:33, 11.28it/s]\u001b[A"
     ]
    },
    {
     "name": "stdout",
     "output_type": "stream",
     "text": [
      "0.08548116683959961\n",
      "0.09036493301391602\n",
      "0.08610677719116211\n"
     ]
    },
    {
     "name": "stderr",
     "output_type": "stream",
     "text": [
      "\n",
      " 62%|████████████████████████▉               | 624/1000 [00:55<00:33, 11.12it/s]\u001b[A"
     ]
    },
    {
     "name": "stdout",
     "output_type": "stream",
     "text": [
      "0.10021448135375977\n",
      "0.08397245407104492\n",
      "0.08980393409729004\n"
     ]
    },
    {
     "name": "stderr",
     "output_type": "stream",
     "text": [
      "\n",
      " 63%|█████████████████████████               | 626/1000 [00:56<00:33, 11.18it/s]\u001b[A\n",
      " 63%|█████████████████████████               | 628/1000 [00:56<00:33, 11.19it/s]\u001b[A"
     ]
    },
    {
     "name": "stdout",
     "output_type": "stream",
     "text": [
      "0.08551454544067383\n",
      "0.09032320976257324\n",
      "0.0869143009185791\n"
     ]
    },
    {
     "name": "stderr",
     "output_type": "stream",
     "text": [
      "\n",
      " 63%|█████████████████████████▏              | 630/1000 [00:56<00:32, 11.30it/s]\u001b[A"
     ]
    },
    {
     "name": "stdout",
     "output_type": "stream",
     "text": [
      "0.08951854705810547\n",
      "0.08234071731567383\n",
      "0.09105491638183594\n"
     ]
    },
    {
     "name": "stderr",
     "output_type": "stream",
     "text": [
      "\n",
      " 63%|█████████████████████████▎              | 632/1000 [00:56<00:32, 11.28it/s]\u001b[A\n",
      " 63%|█████████████████████████▎              | 634/1000 [00:56<00:32, 11.27it/s]\u001b[A"
     ]
    },
    {
     "name": "stdout",
     "output_type": "stream",
     "text": [
      "0.08579730987548828\n",
      "0.09148859977722168\n",
      "0.08563947677612305\n"
     ]
    },
    {
     "name": "stderr",
     "output_type": "stream",
     "text": [
      "\n",
      " 64%|█████████████████████████▍              | 636/1000 [00:56<00:32, 11.35it/s]\u001b[A"
     ]
    },
    {
     "name": "stdout",
     "output_type": "stream",
     "text": [
      "0.08964371681213379\n",
      "0.0824737548828125\n",
      "0.09203219413757324\n"
     ]
    },
    {
     "name": "stderr",
     "output_type": "stream",
     "text": [
      "\n",
      " 64%|█████████████████████████▌              | 638/1000 [00:57<00:32, 11.26it/s]\u001b[A\n",
      " 64%|█████████████████████████▌              | 640/1000 [00:57<00:31, 11.27it/s]\u001b[A"
     ]
    },
    {
     "name": "stdout",
     "output_type": "stream",
     "text": [
      "0.08736133575439453\n",
      "0.09107613563537598\n",
      "0.08526062965393066\n"
     ]
    },
    {
     "name": "stderr",
     "output_type": "stream",
     "text": [
      "\n",
      " 64%|█████████████████████████▋              | 642/1000 [00:57<00:31, 11.31it/s]\u001b[A"
     ]
    },
    {
     "name": "stdout",
     "output_type": "stream",
     "text": [
      "0.09003472328186035\n",
      "0.08384847640991211\n",
      "0.09212803840637207\n"
     ]
    },
    {
     "name": "stderr",
     "output_type": "stream",
     "text": [
      "\n",
      " 64%|█████████████████████████▊              | 644/1000 [00:57<00:31, 11.27it/s]\u001b[A\n",
      " 65%|█████████████████████████▊              | 646/1000 [00:57<00:31, 11.24it/s]\u001b[A"
     ]
    },
    {
     "name": "stdout",
     "output_type": "stream",
     "text": [
      "0.08571434020996094\n",
      "0.09140801429748535\n",
      "0.08674430847167969\n"
     ]
    },
    {
     "name": "stderr",
     "output_type": "stream",
     "text": [
      "\n",
      " 65%|█████████████████████████▉              | 648/1000 [00:57<00:31, 11.33it/s]\u001b[A"
     ]
    },
    {
     "name": "stdout",
     "output_type": "stream",
     "text": [
      "0.0892648696899414\n",
      "0.08226394653320312\n",
      "0.09229612350463867\n"
     ]
    },
    {
     "name": "stderr",
     "output_type": "stream",
     "text": [
      "\n",
      " 65%|██████████████████████████              | 650/1000 [00:58<00:31, 11.26it/s]\u001b[A\n",
      " 65%|██████████████████████████              | 652/1000 [00:58<00:31, 11.21it/s]\u001b[A"
     ]
    },
    {
     "name": "stdout",
     "output_type": "stream",
     "text": [
      "0.0869755744934082\n",
      "0.09276366233825684\n",
      "0.0863807201385498\n"
     ]
    },
    {
     "name": "stderr",
     "output_type": "stream",
     "text": [
      "\n",
      " 65%|██████████████████████████▏             | 654/1000 [00:58<00:30, 11.31it/s]\u001b[A"
     ]
    },
    {
     "name": "stdout",
     "output_type": "stream",
     "text": [
      "0.0892801284790039\n",
      "0.08263802528381348\n",
      "0.09258460998535156\n"
     ]
    },
    {
     "name": "stderr",
     "output_type": "stream",
     "text": [
      "\n",
      " 66%|██████████████████████████▏             | 656/1000 [00:58<00:30, 11.26it/s]\u001b[A\n",
      " 66%|██████████████████████████▎             | 658/1000 [00:58<00:30, 11.24it/s]\u001b[A"
     ]
    },
    {
     "name": "stdout",
     "output_type": "stream",
     "text": [
      "0.08605217933654785\n",
      "0.09117484092712402\n",
      "0.08635997772216797\n"
     ]
    },
    {
     "name": "stderr",
     "output_type": "stream",
     "text": [
      "\n",
      " 66%|██████████████████████████▍             | 660/1000 [00:59<00:30, 11.23it/s]\u001b[A"
     ]
    },
    {
     "name": "stdout",
     "output_type": "stream",
     "text": [
      "0.09352564811706543\n",
      "0.08334898948669434\n",
      "0.0929718017578125\n"
     ]
    },
    {
     "name": "stderr",
     "output_type": "stream",
     "text": [
      "\n",
      " 66%|██████████████████████████▍             | 662/1000 [00:59<00:30, 11.16it/s]\u001b[A\n",
      " 66%|██████████████████████████▌             | 664/1000 [00:59<00:30, 11.14it/s]\u001b[A"
     ]
    },
    {
     "name": "stdout",
     "output_type": "stream",
     "text": [
      "0.08740448951721191\n",
      "0.0929257869720459\n",
      "0.08620548248291016\n"
     ]
    },
    {
     "name": "stderr",
     "output_type": "stream",
     "text": [
      "\n",
      " 67%|██████████████████████████▋             | 666/1000 [00:59<00:29, 11.18it/s]\u001b[A"
     ]
    },
    {
     "name": "stdout",
     "output_type": "stream",
     "text": [
      "0.09320998191833496\n",
      "0.08247590065002441\n",
      "0.09177923202514648\n"
     ]
    },
    {
     "name": "stderr",
     "output_type": "stream",
     "text": [
      "\n",
      " 67%|██████████████████████████▋             | 668/1000 [00:59<00:29, 11.20it/s]\u001b[A\n",
      " 67%|██████████████████████████▊             | 670/1000 [00:59<00:29, 11.19it/s]\u001b[A"
     ]
    },
    {
     "name": "stdout",
     "output_type": "stream",
     "text": [
      "0.08548188209533691\n",
      "0.09120464324951172\n",
      "0.08680963516235352\n"
     ]
    },
    {
     "name": "stderr",
     "output_type": "stream",
     "text": [
      "\n",
      " 67%|██████████████████████████▉             | 672/1000 [01:00<00:29, 11.26it/s]\u001b[A"
     ]
    },
    {
     "name": "stdout",
     "output_type": "stream",
     "text": [
      "0.08963942527770996\n",
      "0.08377313613891602\n",
      "0.09316086769104004\n"
     ]
    },
    {
     "name": "stderr",
     "output_type": "stream",
     "text": [
      "\n",
      " 67%|██████████████████████████▉             | 674/1000 [01:00<00:29, 11.20it/s]\u001b[A\n",
      " 68%|███████████████████████████             | 676/1000 [01:00<00:29, 11.17it/s]\u001b[A"
     ]
    },
    {
     "name": "stdout",
     "output_type": "stream",
     "text": [
      "0.08651161193847656\n",
      "0.09254336357116699\n",
      "0.08645272254943848\n"
     ]
    },
    {
     "name": "stderr",
     "output_type": "stream",
     "text": [
      "\n",
      " 68%|███████████████████████████             | 678/1000 [01:00<00:28, 11.27it/s]\u001b[A"
     ]
    },
    {
     "name": "stdout",
     "output_type": "stream",
     "text": [
      "0.0892488956451416\n",
      "0.08320355415344238\n",
      "0.09278464317321777\n"
     ]
    },
    {
     "name": "stderr",
     "output_type": "stream",
     "text": [
      "\n",
      " 68%|███████████████████████████▏            | 680/1000 [01:00<00:28, 11.23it/s]\u001b[A\n",
      " 68%|███████████████████████████▎            | 682/1000 [01:00<00:28, 11.22it/s]\u001b[A"
     ]
    },
    {
     "name": "stdout",
     "output_type": "stream",
     "text": [
      "0.08567237854003906\n",
      "0.09086132049560547\n",
      "0.08649992942810059\n"
     ]
    },
    {
     "name": "stderr",
     "output_type": "stream",
     "text": [
      "\n",
      " 68%|███████████████████████████▎            | 684/1000 [01:01<00:28, 11.20it/s]\u001b[A"
     ]
    },
    {
     "name": "stdout",
     "output_type": "stream",
     "text": [
      "0.09472846984863281\n",
      "0.08386397361755371\n",
      "0.09158992767333984\n"
     ]
    },
    {
     "name": "stderr",
     "output_type": "stream",
     "text": [
      "\n",
      " 69%|███████████████████████████▍            | 686/1000 [01:01<00:28, 11.21it/s]\u001b[A\n",
      " 69%|███████████████████████████▌            | 688/1000 [01:01<00:27, 11.16it/s]\u001b[A"
     ]
    },
    {
     "name": "stdout",
     "output_type": "stream",
     "text": [
      "0.08530616760253906\n",
      "0.09349608421325684\n",
      "0.08655595779418945\n"
     ]
    },
    {
     "name": "stderr",
     "output_type": "stream",
     "text": [
      "\n",
      " 69%|███████████████████████████▌            | 690/1000 [01:01<00:27, 11.19it/s]\u001b[A"
     ]
    },
    {
     "name": "stdout",
     "output_type": "stream",
     "text": [
      "0.09369444847106934\n",
      "0.08268523216247559\n",
      "0.09388494491577148\n"
     ]
    },
    {
     "name": "stderr",
     "output_type": "stream",
     "text": [
      "\n",
      " 69%|███████████████████████████▋            | 692/1000 [01:01<00:27, 11.15it/s]\u001b[A\n",
      " 69%|███████████████████████████▊            | 694/1000 [01:02<00:27, 11.15it/s]\u001b[A"
     ]
    },
    {
     "name": "stdout",
     "output_type": "stream",
     "text": [
      "0.08584427833557129\n",
      "0.09119248390197754\n",
      "0.08667802810668945\n"
     ]
    },
    {
     "name": "stderr",
     "output_type": "stream",
     "text": [
      "\n",
      " 70%|███████████████████████████▊            | 696/1000 [01:02<00:27, 11.21it/s]\u001b[A"
     ]
    },
    {
     "name": "stdout",
     "output_type": "stream",
     "text": [
      "0.09168887138366699\n",
      "0.08299565315246582\n",
      "0.09249711036682129\n"
     ]
    },
    {
     "name": "stderr",
     "output_type": "stream",
     "text": [
      "\n",
      " 70%|███████████████████████████▉            | 698/1000 [01:02<00:26, 11.20it/s]\u001b[A\n",
      " 70%|████████████████████████████            | 700/1000 [01:02<00:26, 11.18it/s]\u001b[A"
     ]
    },
    {
     "name": "stdout",
     "output_type": "stream",
     "text": [
      "0.08555459976196289\n",
      "0.09226083755493164\n",
      "0.08649063110351562\n"
     ]
    },
    {
     "name": "stderr",
     "output_type": "stream",
     "text": [
      "\n",
      " 70%|████████████████████████████            | 702/1000 [01:02<00:26, 11.25it/s]\u001b[A"
     ]
    },
    {
     "name": "stdout",
     "output_type": "stream",
     "text": [
      "0.09139800071716309\n",
      "0.08266878128051758\n",
      "0.09255218505859375\n"
     ]
    },
    {
     "name": "stderr",
     "output_type": "stream",
     "text": [
      "\n",
      " 70%|████████████████████████████▏           | 704/1000 [01:02<00:26, 11.23it/s]\u001b[A\n",
      " 71%|████████████████████████████▏           | 706/1000 [01:03<00:26, 11.18it/s]\u001b[A"
     ]
    },
    {
     "name": "stdout",
     "output_type": "stream",
     "text": [
      "0.0850076675415039\n",
      "0.09230923652648926\n",
      "0.08753824234008789\n"
     ]
    },
    {
     "name": "stderr",
     "output_type": "stream",
     "text": [
      "\n",
      " 71%|████████████████████████████▎           | 708/1000 [01:03<00:26, 11.20it/s]\u001b[A"
     ]
    },
    {
     "name": "stdout",
     "output_type": "stream",
     "text": [
      "0.0934302806854248\n",
      "0.08267831802368164\n",
      "0.09206223487854004\n"
     ]
    },
    {
     "name": "stderr",
     "output_type": "stream",
     "text": [
      "\n",
      " 71%|████████████████████████████▍           | 710/1000 [01:03<00:25, 11.19it/s]\u001b[A\n",
      " 71%|████████████████████████████▍           | 712/1000 [01:03<00:25, 11.17it/s]\u001b[A"
     ]
    },
    {
     "name": "stdout",
     "output_type": "stream",
     "text": [
      "0.08625078201293945\n",
      "0.09213447570800781\n",
      "0.08639907836914062\n"
     ]
    },
    {
     "name": "stderr",
     "output_type": "stream",
     "text": [
      "\n",
      " 71%|████████████████████████████▌           | 714/1000 [01:03<00:25, 11.21it/s]\u001b[A"
     ]
    },
    {
     "name": "stdout",
     "output_type": "stream",
     "text": [
      "0.09325933456420898\n",
      "0.08257722854614258\n",
      "0.09278082847595215\n"
     ]
    },
    {
     "name": "stderr",
     "output_type": "stream",
     "text": [
      "\n",
      " 72%|████████████████████████████▋           | 716/1000 [01:04<00:25, 11.20it/s]\u001b[A\n",
      " 72%|████████████████████████████▋           | 718/1000 [01:04<00:25, 11.16it/s]\u001b[A"
     ]
    },
    {
     "name": "stdout",
     "output_type": "stream",
     "text": [
      "0.08526754379272461\n",
      "0.0929877758026123\n",
      "0.08662700653076172\n"
     ]
    },
    {
     "name": "stderr",
     "output_type": "stream",
     "text": [
      "\n",
      " 72%|████████████████████████████▊           | 720/1000 [01:04<00:24, 11.27it/s]\u001b[A"
     ]
    },
    {
     "name": "stdout",
     "output_type": "stream",
     "text": [
      "0.0894780158996582\n",
      "0.0823066234588623\n",
      "0.09706807136535645\n"
     ]
    },
    {
     "name": "stderr",
     "output_type": "stream",
     "text": [
      "\n",
      " 72%|████████████████████████████▉           | 722/1000 [01:04<00:24, 11.13it/s]\u001b[A\n",
      " 72%|████████████████████████████▉           | 724/1000 [01:04<00:24, 11.18it/s]\u001b[A"
     ]
    },
    {
     "name": "stdout",
     "output_type": "stream",
     "text": [
      "0.08676934242248535\n",
      "0.09033083915710449\n",
      "0.08565664291381836\n"
     ]
    },
    {
     "name": "stderr",
     "output_type": "stream",
     "text": [
      "\n",
      " 73%|█████████████████████████████           | 726/1000 [01:04<00:24, 11.23it/s]\u001b[A"
     ]
    },
    {
     "name": "stdout",
     "output_type": "stream",
     "text": [
      "0.09184956550598145\n",
      "0.0827481746673584\n",
      "0.08973360061645508\n"
     ]
    },
    {
     "name": "stderr",
     "output_type": "stream",
     "text": [
      "\n",
      " 73%|█████████████████████████████           | 728/1000 [01:05<00:24, 11.26it/s]\u001b[A\n",
      " 73%|█████████████████████████████▏          | 730/1000 [01:05<00:23, 11.31it/s]\u001b[A"
     ]
    },
    {
     "name": "stdout",
     "output_type": "stream",
     "text": [
      "0.08569812774658203\n",
      "0.08948206901550293\n",
      "0.08412384986877441\n"
     ]
    },
    {
     "name": "stderr",
     "output_type": "stream",
     "text": [
      "\n",
      " 73%|█████████████████████████████▎          | 732/1000 [01:05<00:23, 11.39it/s]\u001b[A"
     ]
    },
    {
     "name": "stdout",
     "output_type": "stream",
     "text": [
      "0.08891010284423828\n",
      "0.082489013671875\n",
      "0.08899688720703125\n"
     ]
    },
    {
     "name": "stderr",
     "output_type": "stream",
     "text": [
      "\n",
      " 73%|█████████████████████████████▎          | 734/1000 [01:05<00:23, 11.35it/s]\u001b[A\n",
      " 74%|█████████████████████████████▍          | 736/1000 [01:05<00:23, 11.40it/s]\u001b[A"
     ]
    },
    {
     "name": "stdout",
     "output_type": "stream",
     "text": [
      "0.08759665489196777\n",
      "0.0889127254486084\n",
      "0.08348894119262695\n"
     ]
    },
    {
     "name": "stderr",
     "output_type": "stream",
     "text": [
      "\n",
      " 74%|█████████████████████████████▌          | 738/1000 [01:05<00:23, 11.38it/s]\u001b[A"
     ]
    },
    {
     "name": "stdout",
     "output_type": "stream",
     "text": [
      "0.09134507179260254\n",
      "0.08413004875183105\n",
      "0.08819127082824707\n"
     ]
    },
    {
     "name": "stderr",
     "output_type": "stream",
     "text": [
      "\n",
      " 74%|█████████████████████████████▌          | 740/1000 [01:06<00:22, 11.34it/s]\u001b[A\n",
      " 74%|█████████████████████████████▋          | 742/1000 [01:06<00:22, 11.43it/s]\u001b[A"
     ]
    },
    {
     "name": "stdout",
     "output_type": "stream",
     "text": [
      "0.08856749534606934\n",
      "0.08525609970092773\n",
      "0.08538627624511719\n"
     ]
    },
    {
     "name": "stderr",
     "output_type": "stream",
     "text": [
      "\n",
      " 74%|█████████████████████████████▊          | 744/1000 [01:06<00:22, 11.44it/s]\u001b[A"
     ]
    },
    {
     "name": "stdout",
     "output_type": "stream",
     "text": [
      "0.08873820304870605\n",
      "0.08481359481811523\n",
      "0.08625125885009766\n"
     ]
    },
    {
     "name": "stderr",
     "output_type": "stream",
     "text": [
      "\n",
      " 75%|█████████████████████████████▊          | 746/1000 [01:06<00:22, 11.34it/s]\u001b[A\n",
      " 75%|█████████████████████████████▉          | 748/1000 [01:06<00:22, 11.34it/s]\u001b[A"
     ]
    },
    {
     "name": "stdout",
     "output_type": "stream",
     "text": [
      "0.0924692153930664\n",
      "0.08591532707214355\n",
      "0.08939814567565918\n"
     ]
    },
    {
     "name": "stderr",
     "output_type": "stream",
     "text": [
      "\n",
      " 75%|██████████████████████████████          | 750/1000 [01:07<00:22, 11.31it/s]\u001b[A"
     ]
    },
    {
     "name": "stdout",
     "output_type": "stream",
     "text": [
      "0.09028458595275879\n",
      "0.08652830123901367\n",
      "0.0871579647064209\n"
     ]
    },
    {
     "name": "stderr",
     "output_type": "stream",
     "text": [
      "\n",
      " 75%|██████████████████████████████          | 752/1000 [01:07<00:22, 11.25it/s]\u001b[A\n",
      " 75%|██████████████████████████████▏         | 754/1000 [01:07<00:21, 11.30it/s]\u001b[A"
     ]
    },
    {
     "name": "stdout",
     "output_type": "stream",
     "text": [
      "0.09141921997070312\n",
      "0.08771038055419922\n",
      "0.08636331558227539\n"
     ]
    },
    {
     "name": "stderr",
     "output_type": "stream",
     "text": [
      "\n",
      " 76%|██████████████████████████████▏         | 756/1000 [01:07<00:21, 11.28it/s]\u001b[A"
     ]
    },
    {
     "name": "stdout",
     "output_type": "stream",
     "text": [
      "0.0888667106628418\n",
      "0.0882103443145752\n",
      "0.08555817604064941\n"
     ]
    },
    {
     "name": "stderr",
     "output_type": "stream",
     "text": [
      "\n",
      " 76%|██████████████████████████████▎         | 758/1000 [01:07<00:21, 11.27it/s]\u001b[A\n",
      " 76%|██████████████████████████████▍         | 760/1000 [01:07<00:21, 11.21it/s]\u001b[A"
     ]
    },
    {
     "name": "stdout",
     "output_type": "stream",
     "text": [
      "0.09105348587036133\n",
      "0.08849835395812988\n",
      "0.08992409706115723\n"
     ]
    },
    {
     "name": "stderr",
     "output_type": "stream",
     "text": [
      "\n",
      " 76%|██████████████████████████████▍         | 762/1000 [01:08<00:21, 11.16it/s]\u001b[A"
     ]
    },
    {
     "name": "stdout",
     "output_type": "stream",
     "text": [
      "0.09290385246276855\n",
      "0.08717513084411621\n",
      "0.08698606491088867\n"
     ]
    },
    {
     "name": "stderr",
     "output_type": "stream",
     "text": [
      "\n",
      " 76%|██████████████████████████████▌         | 764/1000 [01:08<00:21, 11.18it/s]\u001b[A\n",
      " 77%|██████████████████████████████▋         | 766/1000 [01:08<00:20, 11.22it/s]\u001b[A"
     ]
    },
    {
     "name": "stdout",
     "output_type": "stream",
     "text": [
      "0.08986282348632812\n",
      "0.08860254287719727\n",
      "0.08715939521789551\n"
     ]
    },
    {
     "name": "stderr",
     "output_type": "stream",
     "text": [
      "\n",
      " 77%|██████████████████████████████▋         | 768/1000 [01:08<00:20, 11.17it/s]\u001b[A"
     ]
    },
    {
     "name": "stdout",
     "output_type": "stream",
     "text": [
      "0.0913703441619873\n",
      "0.08855509757995605\n",
      "0.08819365501403809\n"
     ]
    },
    {
     "name": "stderr",
     "output_type": "stream",
     "text": [
      "\n",
      " 77%|██████████████████████████████▊         | 770/1000 [01:08<00:20, 11.12it/s]\u001b[A\n",
      " 77%|██████████████████████████████▉         | 772/1000 [01:09<00:20, 11.19it/s]\u001b[A"
     ]
    },
    {
     "name": "stdout",
     "output_type": "stream",
     "text": [
      "0.09189677238464355\n",
      "0.08858728408813477\n",
      "0.08636355400085449\n"
     ]
    },
    {
     "name": "stderr",
     "output_type": "stream",
     "text": [
      "\n",
      " 77%|██████████████████████████████▉         | 774/1000 [01:09<00:20, 11.15it/s]\u001b[A"
     ]
    },
    {
     "name": "stdout",
     "output_type": "stream",
     "text": [
      "0.09392356872558594\n",
      "0.0858914852142334\n",
      "0.08842945098876953\n"
     ]
    },
    {
     "name": "stderr",
     "output_type": "stream",
     "text": [
      "\n",
      " 78%|███████████████████████████████         | 776/1000 [01:09<00:20, 11.13it/s]\u001b[A\n",
      " 78%|███████████████████████████████         | 778/1000 [01:09<00:20, 11.07it/s]\u001b[A"
     ]
    },
    {
     "name": "stdout",
     "output_type": "stream",
     "text": [
      "0.0905301570892334\n",
      "0.09368181228637695\n",
      "0.08799934387207031\n"
     ]
    },
    {
     "name": "stderr",
     "output_type": "stream",
     "text": [
      "\n",
      " 78%|███████████████████████████████▏        | 780/1000 [01:09<00:19, 11.07it/s]\u001b[A"
     ]
    },
    {
     "name": "stdout",
     "output_type": "stream",
     "text": [
      "0.09361886978149414\n",
      "0.0856177806854248\n",
      "0.09172415733337402\n"
     ]
    },
    {
     "name": "stderr",
     "output_type": "stream",
     "text": [
      "\n",
      " 78%|███████████████████████████████▎        | 782/1000 [01:09<00:19, 11.05it/s]\u001b[A\n",
      " 78%|███████████████████████████████▎        | 784/1000 [01:10<00:19, 11.08it/s]\u001b[A"
     ]
    },
    {
     "name": "stdout",
     "output_type": "stream",
     "text": [
      "0.08913183212280273\n",
      "0.09011363983154297\n",
      "0.08809018135070801\n"
     ]
    },
    {
     "name": "stderr",
     "output_type": "stream",
     "text": [
      "\n",
      " 79%|███████████████████████████████▍        | 786/1000 [01:10<00:19, 11.09it/s]\u001b[A"
     ]
    },
    {
     "name": "stdout",
     "output_type": "stream",
     "text": [
      "0.09270930290222168\n",
      "0.08589339256286621\n",
      "0.09455251693725586\n"
     ]
    },
    {
     "name": "stderr",
     "output_type": "stream",
     "text": [
      "\n",
      " 79%|███████████████████████████████▌        | 788/1000 [01:10<00:19, 11.04it/s]\u001b[A\n",
      " 79%|███████████████████████████████▌        | 790/1000 [01:10<00:18, 11.08it/s]\u001b[A"
     ]
    },
    {
     "name": "stdout",
     "output_type": "stream",
     "text": [
      "0.0875852108001709\n",
      "0.08882689476013184\n",
      "0.0892024040222168\n"
     ]
    },
    {
     "name": "stderr",
     "output_type": "stream",
     "text": [
      "\n",
      " 79%|███████████████████████████████▋        | 792/1000 [01:10<00:18, 11.13it/s]\u001b[A"
     ]
    },
    {
     "name": "stdout",
     "output_type": "stream",
     "text": [
      "0.09113550186157227\n",
      "0.08495879173278809\n",
      "0.09327483177185059\n"
     ]
    },
    {
     "name": "stderr",
     "output_type": "stream",
     "text": [
      "\n",
      " 79%|███████████████████████████████▊        | 794/1000 [01:10<00:18, 11.08it/s]\u001b[A\n",
      " 80%|███████████████████████████████▊        | 796/1000 [01:11<00:18, 11.04it/s]\u001b[A"
     ]
    },
    {
     "name": "stdout",
     "output_type": "stream",
     "text": [
      "0.0879974365234375\n",
      "0.0907747745513916\n",
      "0.09081768989562988\n"
     ]
    },
    {
     "name": "stderr",
     "output_type": "stream",
     "text": [
      "\n",
      " 80%|███████████████████████████████▉        | 798/1000 [01:11<00:18, 11.03it/s]\u001b[A"
     ]
    },
    {
     "name": "stdout",
     "output_type": "stream",
     "text": [
      "0.09523248672485352\n",
      "0.08479785919189453\n",
      "0.09380006790161133\n"
     ]
    },
    {
     "name": "stderr",
     "output_type": "stream",
     "text": [
      "\n",
      " 80%|████████████████████████████████        | 800/1000 [01:11<00:18, 11.01it/s]\u001b[A\n",
      " 80%|████████████████████████████████        | 802/1000 [01:11<00:17, 11.02it/s]\u001b[A"
     ]
    },
    {
     "name": "stdout",
     "output_type": "stream",
     "text": [
      "0.08762550354003906\n",
      "0.08962106704711914\n",
      "0.09042549133300781\n"
     ]
    },
    {
     "name": "stderr",
     "output_type": "stream",
     "text": [
      "\n",
      " 80%|████████████████████████████████▏       | 804/1000 [01:11<00:17, 11.07it/s]\u001b[A"
     ]
    },
    {
     "name": "stdout",
     "output_type": "stream",
     "text": [
      "0.09274578094482422\n",
      "0.08493185043334961\n",
      "0.09337878227233887\n"
     ]
    },
    {
     "name": "stderr",
     "output_type": "stream",
     "text": [
      "\n",
      " 81%|████████████████████████████████▏       | 806/1000 [01:12<00:17, 11.03it/s]\u001b[A\n",
      " 81%|████████████████████████████████▎       | 808/1000 [01:12<00:17, 11.03it/s]\u001b[A"
     ]
    },
    {
     "name": "stdout",
     "output_type": "stream",
     "text": [
      "0.08830523490905762\n",
      "0.09067559242248535\n",
      "0.08963418006896973\n"
     ]
    },
    {
     "name": "stderr",
     "output_type": "stream",
     "text": [
      "\n",
      " 81%|████████████████████████████████▍       | 810/1000 [01:12<00:17, 11.12it/s]\u001b[A"
     ]
    },
    {
     "name": "stdout",
     "output_type": "stream",
     "text": [
      "0.08966374397277832\n",
      "0.08537888526916504\n",
      "0.09403872489929199\n"
     ]
    },
    {
     "name": "stderr",
     "output_type": "stream",
     "text": [
      "\n",
      " 81%|████████████████████████████████▍       | 812/1000 [01:12<00:16, 11.08it/s]\u001b[A\n",
      " 81%|████████████████████████████████▌       | 814/1000 [01:12<00:16, 10.97it/s]\u001b[A"
     ]
    },
    {
     "name": "stdout",
     "output_type": "stream",
     "text": [
      "0.08676409721374512\n",
      "0.09774303436279297\n",
      "0.08729958534240723\n"
     ]
    },
    {
     "name": "stderr",
     "output_type": "stream",
     "text": [
      "\n",
      " 82%|████████████████████████████████▋       | 816/1000 [01:12<00:16, 11.05it/s]\u001b[A"
     ]
    },
    {
     "name": "stdout",
     "output_type": "stream",
     "text": [
      "0.09268307685852051\n",
      "0.08437848091125488\n",
      "0.09096837043762207\n"
     ]
    },
    {
     "name": "stderr",
     "output_type": "stream",
     "text": [
      "\n",
      " 82%|████████████████████████████████▋       | 818/1000 [01:13<00:16, 11.06it/s]\u001b[A\n",
      " 82%|████████████████████████████████▊       | 820/1000 [01:13<00:16, 11.14it/s]\u001b[A"
     ]
    },
    {
     "name": "stdout",
     "output_type": "stream",
     "text": [
      "0.08800506591796875\n",
      "0.08925914764404297\n",
      "0.08609509468078613\n"
     ]
    },
    {
     "name": "stderr",
     "output_type": "stream",
     "text": [
      "\n",
      " 82%|████████████████████████████████▉       | 822/1000 [01:13<00:15, 11.15it/s]\u001b[A"
     ]
    },
    {
     "name": "stdout",
     "output_type": "stream",
     "text": [
      "0.09290695190429688\n",
      "0.08482217788696289\n",
      "0.09067535400390625\n"
     ]
    },
    {
     "name": "stderr",
     "output_type": "stream",
     "text": [
      "\n",
      " 82%|████████████████████████████████▉       | 824/1000 [01:13<00:15, 11.16it/s]\u001b[A\n",
      " 83%|█████████████████████████████████       | 826/1000 [01:13<00:15, 11.21it/s]\u001b[A"
     ]
    },
    {
     "name": "stdout",
     "output_type": "stream",
     "text": [
      "0.08730673789978027\n",
      "0.08936619758605957\n",
      "0.08581042289733887\n"
     ]
    },
    {
     "name": "stderr",
     "output_type": "stream",
     "text": [
      "\n",
      " 83%|█████████████████████████████████       | 828/1000 [01:14<00:15, 11.27it/s]\u001b[A"
     ]
    },
    {
     "name": "stdout",
     "output_type": "stream",
     "text": [
      "0.08947610855102539\n",
      "0.08415818214416504\n",
      "0.09132885932922363\n"
     ]
    },
    {
     "name": "stderr",
     "output_type": "stream",
     "text": [
      "\n",
      " 83%|█████████████████████████████████▏      | 830/1000 [01:14<00:15, 11.21it/s]\u001b[A\n",
      " 83%|█████████████████████████████████▎      | 832/1000 [01:14<00:14, 11.21it/s]\u001b[A"
     ]
    },
    {
     "name": "stdout",
     "output_type": "stream",
     "text": [
      "0.08782124519348145\n",
      "0.09084177017211914\n",
      "0.08650684356689453\n"
     ]
    },
    {
     "name": "stderr",
     "output_type": "stream",
     "text": [
      "\n",
      " 83%|█████████████████████████████████▎      | 834/1000 [01:14<00:14, 11.26it/s]\u001b[A"
     ]
    },
    {
     "name": "stdout",
     "output_type": "stream",
     "text": [
      "0.09002065658569336\n",
      "0.08432483673095703\n",
      "0.09049224853515625\n"
     ]
    },
    {
     "name": "stderr",
     "output_type": "stream",
     "text": [
      "\n",
      " 84%|█████████████████████████████████▍      | 836/1000 [01:14<00:14, 11.25it/s]\u001b[A\n",
      " 84%|█████████████████████████████████▌      | 838/1000 [01:14<00:14, 11.27it/s]\u001b[A"
     ]
    },
    {
     "name": "stdout",
     "output_type": "stream",
     "text": [
      "0.08635449409484863\n",
      "0.08927226066589355\n",
      "0.08632111549377441\n"
     ]
    },
    {
     "name": "stderr",
     "output_type": "stream",
     "text": [
      "\n",
      " 84%|█████████████████████████████████▌      | 840/1000 [01:15<00:14, 11.32it/s]\u001b[A"
     ]
    },
    {
     "name": "stdout",
     "output_type": "stream",
     "text": [
      "0.08971619606018066\n",
      "0.08399319648742676\n",
      "0.09105992317199707\n"
     ]
    },
    {
     "name": "stderr",
     "output_type": "stream",
     "text": [
      "\n",
      " 84%|█████████████████████████████████▋      | 842/1000 [01:15<00:14, 11.27it/s]\u001b[A\n",
      " 84%|█████████████████████████████████▊      | 844/1000 [01:15<00:13, 11.24it/s]\u001b[A"
     ]
    },
    {
     "name": "stdout",
     "output_type": "stream",
     "text": [
      "0.08701157569885254\n",
      "0.09085559844970703\n",
      "0.08695769309997559\n"
     ]
    },
    {
     "name": "stderr",
     "output_type": "stream",
     "text": [
      "\n",
      " 85%|█████████████████████████████████▊      | 846/1000 [01:15<00:13, 11.30it/s]\u001b[A"
     ]
    },
    {
     "name": "stdout",
     "output_type": "stream",
     "text": [
      "0.08980607986450195\n",
      "0.08361291885375977\n",
      "0.0909414291381836\n"
     ]
    },
    {
     "name": "stderr",
     "output_type": "stream",
     "text": [
      "\n",
      " 85%|█████████████████████████████████▉      | 848/1000 [01:15<00:13, 11.27it/s]\u001b[A\n",
      " 85%|██████████████████████████████████      | 850/1000 [01:16<00:13, 11.28it/s]\u001b[A"
     ]
    },
    {
     "name": "stdout",
     "output_type": "stream",
     "text": [
      "0.08681964874267578\n",
      "0.08955717086791992\n",
      "0.08628702163696289\n"
     ]
    },
    {
     "name": "stderr",
     "output_type": "stream",
     "text": [
      "\n",
      " 85%|██████████████████████████████████      | 852/1000 [01:16<00:13, 11.31it/s]\u001b[A"
     ]
    },
    {
     "name": "stdout",
     "output_type": "stream",
     "text": [
      "0.09005165100097656\n",
      "0.08417415618896484\n",
      "0.09078335762023926\n"
     ]
    },
    {
     "name": "stderr",
     "output_type": "stream",
     "text": [
      "\n",
      " 85%|██████████████████████████████████▏     | 854/1000 [01:16<00:12, 11.27it/s]\u001b[A\n",
      " 86%|██████████████████████████████████▏     | 856/1000 [01:16<00:12, 11.24it/s]\u001b[A"
     ]
    },
    {
     "name": "stdout",
     "output_type": "stream",
     "text": [
      "0.08680438995361328\n",
      "0.09105086326599121\n",
      "0.08701872825622559\n"
     ]
    },
    {
     "name": "stderr",
     "output_type": "stream",
     "text": [
      "\n",
      " 86%|██████████████████████████████████▎     | 858/1000 [01:16<00:12, 11.30it/s]\u001b[A"
     ]
    },
    {
     "name": "stdout",
     "output_type": "stream",
     "text": [
      "0.08996248245239258\n",
      "0.08375859260559082\n",
      "0.09081721305847168\n"
     ]
    },
    {
     "name": "stderr",
     "output_type": "stream",
     "text": [
      "\n",
      " 86%|██████████████████████████████████▍     | 860/1000 [01:16<00:12, 11.26it/s]\u001b[A\n",
      " 86%|██████████████████████████████████▍     | 862/1000 [01:17<00:12, 11.27it/s]\u001b[A"
     ]
    },
    {
     "name": "stdout",
     "output_type": "stream",
     "text": [
      "0.08704113960266113\n",
      "0.08957624435424805\n",
      "0.0862572193145752\n"
     ]
    },
    {
     "name": "stderr",
     "output_type": "stream",
     "text": [
      "\n",
      " 86%|██████████████████████████████████▌     | 864/1000 [01:17<00:12, 11.30it/s]\u001b[A"
     ]
    },
    {
     "name": "stdout",
     "output_type": "stream",
     "text": [
      "0.09062671661376953\n",
      "0.08393096923828125\n",
      "0.09099698066711426\n"
     ]
    },
    {
     "name": "stderr",
     "output_type": "stream",
     "text": [
      "\n",
      " 87%|██████████████████████████████████▋     | 866/1000 [01:17<00:11, 11.26it/s]\u001b[A\n",
      " 87%|██████████████████████████████████▋     | 868/1000 [01:17<00:11, 11.23it/s]\u001b[A"
     ]
    },
    {
     "name": "stdout",
     "output_type": "stream",
     "text": [
      "0.08702588081359863\n",
      "0.0917654037475586\n",
      "0.08650827407836914\n"
     ]
    },
    {
     "name": "stderr",
     "output_type": "stream",
     "text": [
      "\n",
      " 87%|██████████████████████████████████▊     | 870/1000 [01:17<00:11, 11.20it/s]\u001b[A"
     ]
    },
    {
     "name": "stdout",
     "output_type": "stream",
     "text": [
      "0.09278249740600586\n",
      "0.0852196216583252\n",
      "0.09009385108947754\n"
     ]
    },
    {
     "name": "stderr",
     "output_type": "stream",
     "text": [
      "\n",
      " 87%|██████████████████████████████████▉     | 872/1000 [01:17<00:11, 11.20it/s]\u001b[A\n",
      " 87%|██████████████████████████████████▉     | 874/1000 [01:18<00:11, 11.21it/s]\u001b[A"
     ]
    },
    {
     "name": "stdout",
     "output_type": "stream",
     "text": [
      "0.0874180793762207\n",
      "0.0897667407989502\n",
      "0.08711671829223633\n"
     ]
    },
    {
     "name": "stderr",
     "output_type": "stream",
     "text": [
      "\n",
      " 88%|███████████████████████████████████     | 876/1000 [01:18<00:11, 11.20it/s]\u001b[A"
     ]
    },
    {
     "name": "stdout",
     "output_type": "stream",
     "text": [
      "0.09331893920898438\n",
      "0.08433175086975098\n",
      "0.09087467193603516\n"
     ]
    },
    {
     "name": "stderr",
     "output_type": "stream",
     "text": [
      "\n",
      " 88%|███████████████████████████████████     | 878/1000 [01:18<00:10, 11.15it/s]\u001b[A\n",
      " 88%|███████████████████████████████████▏    | 880/1000 [01:18<00:10, 11.19it/s]\u001b[A"
     ]
    },
    {
     "name": "stdout",
     "output_type": "stream",
     "text": [
      "0.08879828453063965\n",
      "0.08994269371032715\n",
      "0.08639907836914062\n"
     ]
    },
    {
     "name": "stderr",
     "output_type": "stream",
     "text": [
      "\n",
      " 88%|███████████████████████████████████▎    | 882/1000 [01:18<00:10, 11.16it/s]\u001b[A"
     ]
    },
    {
     "name": "stdout",
     "output_type": "stream",
     "text": [
      "0.09295797348022461\n",
      "0.08570456504821777\n",
      "0.09215044975280762\n"
     ]
    },
    {
     "name": "stderr",
     "output_type": "stream",
     "text": [
      "\n",
      " 88%|███████████████████████████████████▎    | 884/1000 [01:19<00:10, 11.14it/s]\u001b[A\n",
      " 89%|███████████████████████████████████▍    | 886/1000 [01:19<00:10, 11.15it/s]\u001b[A"
     ]
    },
    {
     "name": "stdout",
     "output_type": "stream",
     "text": [
      "0.08723831176757812\n",
      "0.09052062034606934\n",
      "0.0873408317565918\n"
     ]
    },
    {
     "name": "stderr",
     "output_type": "stream",
     "text": [
      "\n",
      " 89%|███████████████████████████████████▌    | 888/1000 [01:19<00:09, 11.21it/s]\u001b[A"
     ]
    },
    {
     "name": "stdout",
     "output_type": "stream",
     "text": [
      "0.09035682678222656\n",
      "0.08435940742492676\n",
      "0.09079575538635254\n"
     ]
    },
    {
     "name": "stderr",
     "output_type": "stream",
     "text": [
      "\n",
      " 89%|███████████████████████████████████▌    | 890/1000 [01:19<00:09, 11.20it/s]\u001b[A\n",
      " 89%|███████████████████████████████████▋    | 892/1000 [01:19<00:09, 11.16it/s]\u001b[A"
     ]
    },
    {
     "name": "stdout",
     "output_type": "stream",
     "text": [
      "0.08718228340148926\n",
      "0.09233403205871582\n",
      "0.08721804618835449\n"
     ]
    },
    {
     "name": "stderr",
     "output_type": "stream",
     "text": [
      "\n",
      " 89%|███████████████████████████████████▊    | 894/1000 [01:19<00:09, 11.26it/s]\u001b[A"
     ]
    },
    {
     "name": "stdout",
     "output_type": "stream",
     "text": [
      "0.0889582633972168\n",
      "0.08366775512695312\n",
      "0.08970499038696289\n"
     ]
    },
    {
     "name": "stderr",
     "output_type": "stream",
     "text": [
      "\n",
      " 90%|███████████████████████████████████▊    | 896/1000 [01:20<00:09, 11.27it/s]\u001b[A\n",
      " 90%|███████████████████████████████████▉    | 898/1000 [01:20<00:09, 11.26it/s]\u001b[A"
     ]
    },
    {
     "name": "stdout",
     "output_type": "stream",
     "text": [
      "0.08649635314941406\n",
      "0.090362548828125\n",
      "0.0864555835723877\n"
     ]
    },
    {
     "name": "stderr",
     "output_type": "stream",
     "text": [
      "\n",
      " 90%|████████████████████████████████████    | 900/1000 [01:20<00:08, 11.31it/s]\u001b[A"
     ]
    },
    {
     "name": "stdout",
     "output_type": "stream",
     "text": [
      "0.09000277519226074\n",
      "0.08376908302307129\n",
      "0.09030485153198242\n"
     ]
    },
    {
     "name": "stderr",
     "output_type": "stream",
     "text": [
      "\n",
      " 90%|████████████████████████████████████    | 902/1000 [01:20<00:08, 11.26it/s]\u001b[A\n",
      " 90%|████████████████████████████████████▏   | 904/1000 [01:20<00:08, 11.20it/s]\u001b[A"
     ]
    },
    {
     "name": "stdout",
     "output_type": "stream",
     "text": [
      "0.08769822120666504\n",
      "0.09099006652832031\n",
      "0.08884453773498535\n"
     ]
    },
    {
     "name": "stderr",
     "output_type": "stream",
     "text": [
      "\n",
      " 91%|████████████████████████████████████▏   | 906/1000 [01:20<00:08, 11.26it/s]\u001b[A"
     ]
    },
    {
     "name": "stdout",
     "output_type": "stream",
     "text": [
      "0.09005045890808105\n",
      "0.0842905044555664\n",
      "0.09027934074401855\n"
     ]
    },
    {
     "name": "stderr",
     "output_type": "stream",
     "text": [
      "\n",
      " 91%|████████████████████████████████████▎   | 908/1000 [01:21<00:08, 11.23it/s]\u001b[A\n",
      " 91%|████████████████████████████████████▍   | 910/1000 [01:21<00:08, 11.19it/s]\u001b[A"
     ]
    },
    {
     "name": "stdout",
     "output_type": "stream",
     "text": [
      "0.08776664733886719\n",
      "0.09005212783813477\n",
      "0.08880019187927246\n"
     ]
    },
    {
     "name": "stderr",
     "output_type": "stream",
     "text": [
      "\n",
      " 91%|████████████████████████████████████▍   | 912/1000 [01:21<00:07, 11.00it/s]\u001b[A"
     ]
    },
    {
     "name": "stdout",
     "output_type": "stream",
     "text": [
      "0.09916496276855469\n",
      "0.08411192893981934\n",
      "0.09456777572631836\n"
     ]
    },
    {
     "name": "stderr",
     "output_type": "stream",
     "text": [
      "\n",
      " 91%|████████████████████████████████████▌   | 914/1000 [01:21<00:07, 10.96it/s]\u001b[A\n",
      " 92%|████████████████████████████████████▋   | 916/1000 [01:21<00:07, 11.07it/s]\u001b[A"
     ]
    },
    {
     "name": "stdout",
     "output_type": "stream",
     "text": [
      "0.08858537673950195\n",
      "0.08843469619750977\n",
      "0.08655881881713867\n"
     ]
    },
    {
     "name": "stderr",
     "output_type": "stream",
     "text": [
      "\n",
      " 92%|████████████████████████████████████▋   | 918/1000 [01:22<00:07, 11.14it/s]\u001b[A"
     ]
    },
    {
     "name": "stdout",
     "output_type": "stream",
     "text": [
      "0.08809590339660645\n",
      "0.0875391960144043\n",
      "0.09023833274841309\n"
     ]
    },
    {
     "name": "stderr",
     "output_type": "stream",
     "text": [
      "\n",
      " 92%|████████████████████████████████████▊   | 920/1000 [01:22<00:07, 11.14it/s]\u001b[A\n",
      " 92%|████████████████████████████████████▉   | 922/1000 [01:22<00:07, 10.92it/s]\u001b[A"
     ]
    },
    {
     "name": "stdout",
     "output_type": "stream",
     "text": [
      "0.08835315704345703\n",
      "0.0949561595916748\n",
      "0.09513354301452637\n"
     ]
    },
    {
     "name": "stderr",
     "output_type": "stream",
     "text": [
      "\n",
      " 92%|████████████████████████████████████▉   | 924/1000 [01:22<00:06, 11.04it/s]\u001b[A"
     ]
    },
    {
     "name": "stdout",
     "output_type": "stream",
     "text": [
      "0.0912618637084961\n",
      "0.08421921730041504\n",
      "0.09330415725708008\n"
     ]
    },
    {
     "name": "stderr",
     "output_type": "stream",
     "text": [
      "\n",
      " 93%|█████████████████████████████████████   | 926/1000 [01:22<00:06, 11.04it/s]\u001b[A\n",
      " 93%|█████████████████████████████████████   | 928/1000 [01:22<00:06, 11.03it/s]\u001b[A"
     ]
    },
    {
     "name": "stdout",
     "output_type": "stream",
     "text": [
      "0.08691191673278809\n",
      "0.09340310096740723\n",
      "0.0873720645904541\n"
     ]
    },
    {
     "name": "stderr",
     "output_type": "stream",
     "text": [
      "\n",
      " 93%|█████████████████████████████████████▏  | 930/1000 [01:23<00:06, 11.14it/s]\u001b[A"
     ]
    },
    {
     "name": "stdout",
     "output_type": "stream",
     "text": [
      "0.0883791446685791\n",
      "0.0857079029083252\n",
      "0.09063601493835449\n"
     ]
    },
    {
     "name": "stderr",
     "output_type": "stream",
     "text": [
      "\n",
      " 93%|█████████████████████████████████████▎  | 932/1000 [01:23<00:06, 11.15it/s]\u001b[A\n",
      " 93%|█████████████████████████████████████▎  | 934/1000 [01:23<00:05, 11.19it/s]\u001b[A"
     ]
    },
    {
     "name": "stdout",
     "output_type": "stream",
     "text": [
      "0.08681964874267578\n",
      "0.0895540714263916\n",
      "0.08677339553833008\n"
     ]
    },
    {
     "name": "stderr",
     "output_type": "stream",
     "text": [
      "\n",
      " 94%|█████████████████████████████████████▍  | 936/1000 [01:23<00:05, 11.26it/s]\u001b[A"
     ]
    },
    {
     "name": "stdout",
     "output_type": "stream",
     "text": [
      "0.08971023559570312\n",
      "0.08408474922180176\n",
      "0.0910942554473877\n"
     ]
    },
    {
     "name": "stderr",
     "output_type": "stream",
     "text": [
      "\n",
      " 94%|█████████████████████████████████████▌  | 938/1000 [01:23<00:05, 11.22it/s]\u001b[A\n",
      " 94%|█████████████████████████████████████▌  | 940/1000 [01:24<00:05, 11.22it/s]\u001b[A"
     ]
    },
    {
     "name": "stdout",
     "output_type": "stream",
     "text": [
      "0.08746767044067383\n",
      "0.08954977989196777\n",
      "0.0874626636505127\n"
     ]
    },
    {
     "name": "stderr",
     "output_type": "stream",
     "text": [
      "\n",
      " 94%|█████████████████████████████████████▋  | 942/1000 [01:24<00:05, 11.21it/s]\u001b[A"
     ]
    },
    {
     "name": "stdout",
     "output_type": "stream",
     "text": [
      "0.09302353858947754\n",
      "0.08439826965332031\n",
      "0.09147381782531738\n"
     ]
    },
    {
     "name": "stderr",
     "output_type": "stream",
     "text": [
      "\n",
      " 94%|█████████████████████████████████████▊  | 944/1000 [01:24<00:05, 11.08it/s]\u001b[A\n",
      " 95%|█████████████████████████████████████▊  | 946/1000 [01:24<00:04, 11.15it/s]\u001b[A"
     ]
    },
    {
     "name": "stdout",
     "output_type": "stream",
     "text": [
      "0.09272575378417969\n",
      "0.08858704566955566\n",
      "0.08728504180908203\n"
     ]
    },
    {
     "name": "stderr",
     "output_type": "stream",
     "text": [
      "\n",
      " 95%|█████████████████████████████████████▉  | 948/1000 [01:24<00:04, 11.18it/s]\u001b[A"
     ]
    },
    {
     "name": "stdout",
     "output_type": "stream",
     "text": [
      "0.09213829040527344\n",
      "0.08446693420410156\n",
      "0.091461181640625\n"
     ]
    },
    {
     "name": "stderr",
     "output_type": "stream",
     "text": [
      "\n",
      " 95%|██████████████████████████████████████  | 950/1000 [01:24<00:04, 11.18it/s]\u001b[A\n",
      " 95%|██████████████████████████████████████  | 952/1000 [01:25<00:04, 11.20it/s]\u001b[A"
     ]
    },
    {
     "name": "stdout",
     "output_type": "stream",
     "text": [
      "0.0864105224609375\n",
      "0.0895838737487793\n",
      "0.08705449104309082\n"
     ]
    },
    {
     "name": "stderr",
     "output_type": "stream",
     "text": [
      "\n",
      " 95%|██████████████████████████████████████▏ | 954/1000 [01:25<00:04, 11.21it/s]\u001b[A"
     ]
    },
    {
     "name": "stdout",
     "output_type": "stream",
     "text": [
      "0.09231996536254883\n",
      "0.08458995819091797\n",
      "0.09099054336547852\n"
     ]
    },
    {
     "name": "stderr",
     "output_type": "stream",
     "text": [
      "\n",
      " 96%|██████████████████████████████████████▏ | 956/1000 [01:25<00:03, 11.19it/s]\u001b[A\n",
      " 96%|██████████████████████████████████████▎ | 958/1000 [01:25<00:03, 11.24it/s]\u001b[A"
     ]
    },
    {
     "name": "stdout",
     "output_type": "stream",
     "text": [
      "0.08724713325500488\n",
      "0.08883404731750488\n",
      "0.08626103401184082\n"
     ]
    },
    {
     "name": "stderr",
     "output_type": "stream",
     "text": [
      "\n",
      " 96%|██████████████████████████████████████▍ | 960/1000 [01:25<00:03, 11.29it/s]\u001b[A"
     ]
    },
    {
     "name": "stdout",
     "output_type": "stream",
     "text": [
      "0.0894780158996582\n",
      "0.08444881439208984\n",
      "0.09081435203552246\n"
     ]
    },
    {
     "name": "stderr",
     "output_type": "stream",
     "text": [
      "\n",
      " 96%|██████████████████████████████████████▍ | 962/1000 [01:26<00:03, 11.26it/s]\u001b[A\n",
      " 96%|██████████████████████████████████████▌ | 964/1000 [01:26<00:03, 11.25it/s]\u001b[A"
     ]
    },
    {
     "name": "stdout",
     "output_type": "stream",
     "text": [
      "0.08697175979614258\n",
      "0.0899057388305664\n",
      "0.08724546432495117\n"
     ]
    },
    {
     "name": "stderr",
     "output_type": "stream",
     "text": [
      "\n",
      " 97%|██████████████████████████████████████▋ | 966/1000 [01:26<00:03, 11.23it/s]\u001b[A"
     ]
    },
    {
     "name": "stdout",
     "output_type": "stream",
     "text": [
      "0.09325814247131348\n",
      "0.08411693572998047\n",
      "0.09122729301452637\n"
     ]
    },
    {
     "name": "stderr",
     "output_type": "stream",
     "text": [
      "\n",
      " 97%|██████████████████████████████████████▋ | 968/1000 [01:26<00:02, 11.22it/s]\u001b[A\n",
      " 97%|██████████████████████████████████████▊ | 970/1000 [01:26<00:02, 11.21it/s]\u001b[A"
     ]
    },
    {
     "name": "stdout",
     "output_type": "stream",
     "text": [
      "0.08664512634277344\n",
      "0.09114789962768555\n",
      "0.08653020858764648\n"
     ]
    },
    {
     "name": "stderr",
     "output_type": "stream",
     "text": [
      "\n",
      " 97%|██████████████████████████████████████▉ | 972/1000 [01:26<00:02, 11.08it/s]\u001b[A"
     ]
    },
    {
     "name": "stdout",
     "output_type": "stream",
     "text": [
      "0.09638452529907227\n",
      "0.08753752708435059\n",
      "0.09000945091247559\n"
     ]
    },
    {
     "name": "stderr",
     "output_type": "stream",
     "text": [
      "\n",
      " 97%|██████████████████████████████████████▉ | 974/1000 [01:27<00:02, 11.11it/s]\u001b[A\n",
      " 98%|███████████████████████████████████████ | 976/1000 [01:27<00:02, 11.13it/s]\u001b[A"
     ]
    },
    {
     "name": "stdout",
     "output_type": "stream",
     "text": [
      "0.08729147911071777\n",
      "0.09096217155456543\n",
      "0.08689594268798828\n"
     ]
    },
    {
     "name": "stderr",
     "output_type": "stream",
     "text": [
      "\n",
      " 98%|███████████████████████████████████████ | 978/1000 [01:27<00:01, 11.15it/s]\u001b[A"
     ]
    },
    {
     "name": "stdout",
     "output_type": "stream",
     "text": [
      "0.09137248992919922\n",
      "0.08627986907958984\n",
      "0.090362548828125\n"
     ]
    },
    {
     "name": "stderr",
     "output_type": "stream",
     "text": [
      "\n",
      " 98%|███████████████████████████████████████▏| 980/1000 [01:27<00:01, 11.14it/s]\u001b[A\n",
      " 98%|███████████████████████████████████████▎| 982/1000 [01:27<00:01, 11.17it/s]\u001b[A"
     ]
    },
    {
     "name": "stdout",
     "output_type": "stream",
     "text": [
      "0.08803439140319824\n",
      "0.08970880508422852\n",
      "0.08713626861572266\n"
     ]
    },
    {
     "name": "stderr",
     "output_type": "stream",
     "text": [
      "\n",
      " 98%|███████████████████████████████████████▎| 984/1000 [01:27<00:01, 11.17it/s]\u001b[A"
     ]
    },
    {
     "name": "stdout",
     "output_type": "stream",
     "text": [
      "0.09339666366577148\n",
      "0.08463931083679199\n",
      "0.09145808219909668\n"
     ]
    },
    {
     "name": "stderr",
     "output_type": "stream",
     "text": [
      "\n",
      " 99%|███████████████████████████████████████▍| 986/1000 [01:28<00:01, 11.14it/s]\u001b[A\n",
      " 99%|███████████████████████████████████████▌| 988/1000 [01:28<00:01, 11.22it/s]\u001b[A"
     ]
    },
    {
     "name": "stdout",
     "output_type": "stream",
     "text": [
      "0.0879826545715332\n",
      "0.0888526439666748\n",
      "0.08488011360168457\n"
     ]
    },
    {
     "name": "stderr",
     "output_type": "stream",
     "text": [
      "\n",
      " 99%|███████████████████████████████████████▌| 990/1000 [01:28<00:00, 11.24it/s]\u001b[A"
     ]
    },
    {
     "name": "stdout",
     "output_type": "stream",
     "text": [
      "0.09141087532043457\n",
      "0.08417105674743652\n",
      "0.09148645401000977\n"
     ]
    },
    {
     "name": "stderr",
     "output_type": "stream",
     "text": [
      "\n",
      " 99%|███████████████████████████████████████▋| 992/1000 [01:28<00:00, 11.22it/s]\u001b[A\n",
      " 99%|███████████████████████████████████████▊| 994/1000 [01:28<00:00, 11.20it/s]\u001b[A"
     ]
    },
    {
     "name": "stdout",
     "output_type": "stream",
     "text": [
      "0.08667731285095215\n",
      "0.09139561653137207\n",
      "0.0865182876586914\n"
     ]
    },
    {
     "name": "stderr",
     "output_type": "stream",
     "text": [
      "\n",
      "100%|███████████████████████████████████████▊| 996/1000 [01:29<00:00, 11.24it/s]\u001b[A"
     ]
    },
    {
     "name": "stdout",
     "output_type": "stream",
     "text": [
      "0.09032988548278809\n",
      "0.08449411392211914\n",
      "0.09095048904418945\n"
     ]
    },
    {
     "name": "stderr",
     "output_type": "stream",
     "text": [
      "\n",
      "100%|███████████████████████████████████████▉| 998/1000 [01:29<00:00, 11.22it/s]\u001b[A\n",
      "100%|███████████████████████████████████████| 1000/1000 [01:29<00:00, 11.18it/s]\u001b[A\n",
      "100%|█████████████████████████████████████████████| 5/5 [07:20<00:00, 88.14s/it]"
     ]
    },
    {
     "name": "stdout",
     "output_type": "stream",
     "text": [
      "0.08714842796325684\n",
      "0.09092545509338379\n",
      "0.08679604530334473\n",
      "One run completed\n"
     ]
    },
    {
     "name": "stderr",
     "output_type": "stream",
     "text": [
      "\n"
     ]
    }
   ],
   "source": [
    "if __name__ =='__main__':\n",
    "    T,runs,lr,batch_size,state,nS,nA,rep_cost,alpha,gamma = get_hyperparameters().ret_hyperparameters();\n",
    "    print(nS,nA);\n",
    "    nPOL = nS;\n",
    "    T_update = int(T/batch_size);\n",
    "    mr_obj = Machine_Replacement(rep_cost,nS,nA);\n",
    "    P,R = mr_obj.gen_probability(),mr_obj.gen_expected_reward()\n",
    "    theta = np.ones(nPOL);\n",
    "    behaviour_policy = np.ones((nS,nA))*0.5;\n",
    "    print(behaviour_policy,P);\n",
    "    behaviour_policy_state_distribution = beh_pol_sd(P,behaviour_policy,nS,nA).state_distribution_simulated(0);\n",
    "    data = simulate_episode(T,state,behaviour_policy,P,batch_size);\n",
    "    with open('data_used','wb') as f:\n",
    "      pickle.dump(data,f);\n",
    "    target_policy = np.ones((nPOL,nS),dtype = np.int8)\n",
    "    data_dict={0:[],1:[],2:[],3:[],4:[]};\n",
    "    val2 = []\n",
    "    for i in range(nPOL-1,0,-1):\n",
    "        target_policy[nPOL-i-1][0:i] = 0;\n",
    "    for t in target_policy:\n",
    "        val2.append(sum([R[t[s],s] for s in range(nS)]))\n",
    "    val2 = np.array(val2);\n",
    "    one_hot_target_policy = one_hot(target_policy,nS,nA)\n",
    "    w_obj = average_case_version_2(nS,nA,behaviour_policy,state,lr,one_hot_target_policy,batch_size,data_dict);\n",
    "    '''for i in range(nPOL):\n",
    "      w_obj[i].set_target_policy(one_hot_target_policy[i]);'''\n",
    "    policy_selected = np.zeros((T_update,runs))\n",
    "    policy_sampled = np.zeros((T_update,runs))\n",
    "    theta_change = []\n",
    "    estimated_value = np.zeros((T_update,runs))\n",
    "    loss = np.zeros((T_update,runs))\n",
    "    val = 50;\n",
    "    lr = 1;\n",
    "    beta = 1;\n",
    "    #######################################################################################\n",
    "    '''mp.set_start_method('spawn')\n",
    "    p1 = mp.Process(target = processing ,args=(nPOL,0,policy_sampled,policy_selected,loss,estimated_value,T_update,P,R,val))\n",
    "    p2 = mp.Process(target = processing ,args=(nPOL,1,policy_sampled,policy_selected,loss,estimated_value,T_update,P,R,val))\n",
    "    p3 = mp.Process(target = processing ,args=(nPOL,2,policy_sampled,policy_selected,loss,estimated_value,T_update,P,R,val))\n",
    "    p4 = mp.Process(target = processing ,args=(nPOL,3,policy_sampled,policy_selected,loss,estimated_value,T_update,P,R,val))\n",
    "    p5 = mp.Process(target = processing ,args=(nPOL,4,policy_sampled,policy_selected,loss,estimated_value,T_update,P,R,val))\n",
    "    #p1 = mp.Process(target = processing ,args=(0,policy_sampled,policy_selected,loss,estimated_value,T_update,val))\n",
    "    #p1 = mp.Process(target = processing ,args=(0,policy_sampled,policy_selected,loss,estimated_value,T_update,val))\n",
    "    #p1 = mp.Process(target = processing ,args=(0,policy_sampled,policy_selected,loss,estimated_value,T_update,val))\n",
    "    #p1 = mp.Process(target = processing ,args=(0,policy_sampled,policy_selected,loss,estimated_value,T_update,val))\n",
    "    #p1 = mp.Process(target = processing ,args=(0,policy_sampled,policy_selected,loss,estimated_value,T_update,val))\n",
    "    p1.start();\n",
    "    p2.start();\n",
    "    p3.start();\n",
    "    p4.start();\n",
    "    p5.start();\n",
    "    p1.join();\n",
    "    p2.join();\n",
    "    p3.join();\n",
    "    p4.join();\n",
    "    p5.join();'''\n",
    "    #######################################################################################\n",
    "    for run in tqdm(range(runs)):\n",
    "        processing(nPOL,run,policy_sampled,policy_selected,loss,estimated_value,T_update,P,R,val,val2,behaviour_policy_state_distribution,beta,batch_size,alpha,data)\n",
    "        print(\"One run completed\");\n",
    "    #######################################################################################\n",
    "    #pd.DataFrame(policy_selected).to_excel(\"Policy_selection.xlsx\");\n",
    "    #pd.DataFrame(np.array(theta_change)).to_excel(\"Theta_values_non_estimate.xlsx\");\n",
    "    pd.DataFrame(policy_sampled).to_excel(\"Policy_sampling_Thompson_Sampling_variant_2_faster_10_states.xlsx\");\n",
    "    pd.DataFrame(data[T_update-1]).to_excel(\"Data_Used_Thompson_Sampling_variant_2_faster_10_states.xlsx\");\n",
    "    pd.DataFrame(estimated_value).to_excel(\"Estimated_Value_functions_Thompson_Sampling_variant_2_faster_10_states.xlsx\");"
   ]
  },
  {
   "cell_type": "code",
   "execution_count": 23,
   "id": "a137b7ba",
   "metadata": {},
   "outputs": [
    {
     "name": "stdout",
     "output_type": "stream",
     "text": [
      "Requirement already satisfied: openpyxl in ./anaconda3/lib/python3.9/site-packages (3.0.9)\n",
      "Requirement already satisfied: et-xmlfile in ./anaconda3/lib/python3.9/site-packages (from openpyxl) (1.1.0)\n",
      "\u001b[33mWARNING: You are using pip version 22.0.4; however, version 22.3.1 is available.\n",
      "You should consider upgrading via the '/home/user/anaconda3/bin/python -m pip install --upgrade pip' command.\u001b[0m\u001b[33m\n",
      "\u001b[0m"
     ]
    }
   ],
   "source": [
    "!pip3 install openpyxl"
   ]
  },
  {
   "cell_type": "code",
   "execution_count": 24,
   "id": "459d1ea1",
   "metadata": {},
   "outputs": [],
   "source": [
    "state_dist=[]\n",
    "for s in range(nS):\n",
    "    c=w_obj.weight_obj(s).detach().cpu().numpy()[0]\n",
    "    state_dist.append(c)\n",
    "c=np.array(state_dist)*behaviour_policy_state_distribution"
   ]
  },
  {
   "cell_type": "code",
   "execution_count": 25,
   "id": "50e7b588",
   "metadata": {},
   "outputs": [
    {
     "data": {
      "text/plain": [
       "array([0.49553907, 0.15608018, 0.14004363, 0.20833712])"
      ]
     },
     "execution_count": 25,
     "metadata": {},
     "output_type": "execute_result"
    }
   ],
   "source": [
    "c/np.sum(c)"
   ]
  },
  {
   "cell_type": "code",
   "execution_count": null,
   "id": "e4390085",
   "metadata": {},
   "outputs": [],
   "source": [
    "pd.DataFrame(data[T_update-1]).to_excel(\"Data_Used_Thompson_Sampling_variant_2.xlsx\");\n",
    "pd.DataFrame(estimated_value).to_excel(\"Estimated_Value_functions_Thompson_Sampling_variant_2.xlsx\");"
   ]
  },
  {
   "cell_type": "code",
   "execution_count": null,
   "id": "820fba8b",
   "metadata": {},
   "outputs": [],
   "source": [
    "len(data[T_update-1])"
   ]
  },
  {
   "cell_type": "code",
   "execution_count": 347,
   "id": "900f83e5",
   "metadata": {},
   "outputs": [],
   "source": [
    "a = np.ones(10)\n",
    "a[1] = 3\n",
    "a[4] = 5\n",
    "a\n",
    "b = np.reshape(a,(5,2))"
   ]
  },
  {
   "cell_type": "code",
   "execution_count": 348,
   "id": "edfdbdd0",
   "metadata": {},
   "outputs": [
    {
     "data": {
      "text/plain": [
       "array([1., 3., 1., 1., 5., 1., 1., 1., 1., 1.])"
      ]
     },
     "execution_count": 348,
     "metadata": {},
     "output_type": "execute_result"
    }
   ],
   "source": [
    "a"
   ]
  },
  {
   "cell_type": "code",
   "execution_count": 349,
   "id": "569fd726",
   "metadata": {},
   "outputs": [
    {
     "data": {
      "text/plain": [
       "array([[1., 3.],\n",
       "       [1., 1.],\n",
       "       [5., 1.],\n",
       "       [1., 1.],\n",
       "       [1., 1.]])"
      ]
     },
     "execution_count": 349,
     "metadata": {},
     "output_type": "execute_result"
    }
   ],
   "source": [
    "b"
   ]
  },
  {
   "cell_type": "code",
   "execution_count": null,
   "id": "a7685460",
   "metadata": {},
   "outputs": [],
   "source": []
  }
 ],
 "metadata": {
  "kernelspec": {
   "display_name": "Python 3 (ipykernel)",
   "language": "python",
   "name": "python3"
  },
  "language_info": {
   "codemirror_mode": {
    "name": "ipython",
    "version": 3
   },
   "file_extension": ".py",
   "mimetype": "text/x-python",
   "name": "python",
   "nbconvert_exporter": "python",
   "pygments_lexer": "ipython3",
   "version": "3.9.7"
  }
 },
 "nbformat": 4,
 "nbformat_minor": 5
}
