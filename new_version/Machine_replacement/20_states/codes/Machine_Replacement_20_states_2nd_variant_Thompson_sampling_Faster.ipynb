{
 "cells": [
  {
   "cell_type": "markdown",
   "id": "a461fd3d",
   "metadata": {},
   "source": [
    "We begin by importing all the necssary packages and modules. Next our task is to build the Machine_Replacement environment. For doing that, we create a class named as Machine_Replacement which accepts the number_of_states(nS), number_of_actions(nA) and replacement_cost(rep_cost) as input and generate the environment. Later we just need to cal the function gen_probability() and gen_expected_reward_function() to get the Probability distribution matrix and Reward matrix"
   ]
  },
  {
   "cell_type": "code",
   "execution_count": 1,
   "id": "18b12dd6",
   "metadata": {},
   "outputs": [],
   "source": [
    "import torch\n",
    "import torch.nn as nn\n",
    "import torch.optim as optim\n",
    "import torch.nn.functional as F\n",
    "import numpy as np\n",
    "import numpy as np\n",
    "import pandas as pd\n",
    "import pickle\n",
    "from itertools import product\n",
    "import multiprocessing as mp\n",
    "mp.set_start_method('spawn',True)\n",
    "torch.multiprocessing.set_start_method('spawn',True)\n",
    "from tqdm import tqdm\n",
    "\n",
    "device = torch.device(\"cuda\" if torch.cuda.is_available() else \"cpu\")\n",
    "class Machine_Replacement:\n",
    "    def __init__(self,rep_cost=0.7,nS=6,nA=2):\n",
    "        self.nS = nS;\n",
    "        self.nA = nA;\n",
    "        self.cost = np.linspace(0.1, 0.99,nS);\n",
    "        self.rep_cost = rep_cost;\n",
    "    def gen_probability(self):\n",
    "        self.P = np.zeros((self.nA,self.nS,self.nS));\n",
    "        for i in range(self.nS):\n",
    "            for j in range(self.nS):\n",
    "                if(i<=j):\n",
    "                    self.P[0,i,j]=(i+1)*(j+1);\n",
    "                else:\n",
    "                    continue;\n",
    "            self.P[0,i,:]=self.P[0,i,:]/np.sum(self.P[0,i,:])\n",
    "            self.P[1,i,0]=1;\n",
    "        return self.P;\n",
    "    def gen_reward(self):\n",
    "        self.R=np.zeros((self.nA,self.nS,self.nS));\n",
    "        for i in range(self.nS):\n",
    "            self.R[0,i,:] = self.cost[i];\n",
    "            self.R[1,i,0] = self.rep_cost+self.cost[0];\n",
    "        return self.R;\n",
    "    def gen_expected_reward(self):\n",
    "        self.R = np.zeros((self.nA,self.nS));\n",
    "        for i in range(self.nS):\n",
    "            self.R[0,i] = self.cost[i];\n",
    "            self.R[1,i] = self.rep_cost + self.cost[0];\n",
    "        return self.R;"
   ]
  },
  {
   "cell_type": "markdown",
   "id": "5b424ede",
   "metadata": {},
   "source": [
    "Next we create another class specifying the hyperparameters that might be required in our algorithm. Later when required we can just call ret_hyperparameters() to get the hyperparameters."
   ]
  },
  {
   "cell_type": "code",
   "execution_count": 2,
   "id": "a9483d06",
   "metadata": {},
   "outputs": [],
   "source": [
    "class get_hyperparameters:\n",
    "    def __init__(self):\n",
    "        self.T = 50000;\n",
    "        self.runs = 5;\n",
    "        self.lr = 0.1;\n",
    "        self.batch_size = 50;\n",
    "        self.start = 0;\n",
    "        self.nS = 20;\n",
    "        self.nA = 2;\n",
    "        self.rep_cost = 0.7\n",
    "        self.alpha = 0.5\n",
    "        self.gamma = 0.95\n",
    "    \n",
    "    def ret_hyperparameters(self):\n",
    "        return (self.T,self.runs,self.lr,self.batch_size,self.start,self.nS,self.nA,self.rep_cost,self.alpha,self.gamma)"
   ]
  },
  {
   "cell_type": "markdown",
   "id": "d25f8964",
   "metadata": {},
   "source": [
    "Let us now define the pytorch model. So for doing that, we create a class named weights. There are 3 parameters, input_size which defines the number of perceptrons in the input layer. input_size = number of states(nS). The output size is the number of perceptrons in the output_layer. output_size = 1(which gives us the state distribution ratio for a particular state).\n",
    "\n",
    "Later when we want to update or find the state distribution ratio of any state, just pass that state to the forward(). First that particular state is converted into one_hot vector and then fed to the network. Finally the network returns the output value as the ratio of state distribution."
   ]
  },
  {
   "cell_type": "code",
   "execution_count": 3,
   "id": "437250f6",
   "metadata": {},
   "outputs": [],
   "source": [
    "class weights(nn.Module):\n",
    "    def __init__(self,input_size,output_size,hidden_size = 0):\n",
    "        super(weights,self).__init__()\n",
    "        self.input_size = input_size;\n",
    "        self.hidden_size = hidden_size;\n",
    "        self.output_size = output_size;\n",
    "        if(hidden_size!=0):\n",
    "            self.linear1 = nn.Linear(self.input_size, self.hidden_size, bias=False)\n",
    "            self.linear2 = nn.Linear(self.hidden_size, self.output_size, bias=False)\n",
    "        else:\n",
    "            self.linear1 = nn.Linear(self.input_size, self.output_size, bias=False)\n",
    "    '''\n",
    "        forward(): We accept a state 's' as input. Then we convert this into one hot encoding which is accomplished by first two lines.\n",
    "        Further we convert this one_hot vector 's' into pytorch tensor and then pass it through the network to obtain a output which is returned \n",
    "    '''\n",
    "    def forward(self,state):\n",
    "        s = np.zeros(self.input_size);\n",
    "        #print(state,end='===>');\n",
    "        s[state] = 1;\n",
    "        state = torch.FloatTensor(s).to(device)\n",
    "        #print(state);\n",
    "        if(self.hidden_size == 0):\n",
    "            output = torch.exp(self.linear1(state)) #To ensure that the outputs are always positive. giving Relu will cause problems.\n",
    "        else:\n",
    "            output = torch.exp(self.linear2(torch.exp(self.linear1(state))));\n",
    "        return output\n",
    "    \n",
    "    def forward_batch(self,states):\n",
    "        s = np.zeros((len(states),self.input_size));\n",
    "        #print(state,end='===>');\n",
    "        for i in range(len(states)):\n",
    "            s[i][states[i]] = 1\n",
    "        states = torch.FloatTensor(s).to(device)\n",
    "        #print(state);\n",
    "        if(self.hidden_size == 0):\n",
    "            output = torch.exp(self.linear1(states)) #To ensure that the outputs are always positive. giving Relu will cause problems.\n",
    "        else:\n",
    "            output = torch.exp(self.linear2(torch.exp(self.linear1(state))));\n",
    "        return output\n",
    "    \n",
    "    def fast_forward(self,s1,ns1,s2,ns2):\n",
    "        return self.forward(s1),self.forward(ns1),self.forward(s2),self.forward(ns2);"
   ]
  },
  {
   "cell_type": "markdown",
   "id": "0990760e",
   "metadata": {},
   "source": [
    "Now it is evident that the network written above will give me the ratio of state distribution. But the requirement is state distribution of the target_policy. So for doing that we need to to follow the below equation\n",
    "\n",
    "state_distribution_of_target_policy = Normalize(state_distribution_ratio_obtained_from_network * behaviour_policy_state_distribution).\n",
    "\n",
    "Now to get the target_policy_state_distribution, we need to obtain the behaviour_policy_state_distribution. To find that we use the class below. Now using the "
   ]
  },
  {
   "cell_type": "code",
   "execution_count": 4,
   "id": "682ebf42",
   "metadata": {},
   "outputs": [],
   "source": [
    "class beh_pol_sd:\n",
    "    def __init__(self,P,policy,nS,nA):\n",
    "        self.P = P\n",
    "        self.policy = policy\n",
    "        self.nS = nS;\n",
    "        self.nA = nA;\n",
    "    \n",
    "    def onehot(self):\n",
    "        pol = np.zeros((self.nS,self.nA));\n",
    "        for i in range(self.nS):\n",
    "            pol[i][int(self.policy[i])]=1;\n",
    "        return pol;\n",
    "    def find_transition_matrix(self,onehot_encode=1):\n",
    "        if(onehot_encode==1):\n",
    "            self.policy = self.onehot()\n",
    "        T_s_s_next = np.zeros((self.nS,self.nS));\n",
    "        for s in range(self.nS):\n",
    "            for s_next in range(self.nS):\n",
    "                for a in range(self.nA):\n",
    "                    #print(s,s_next,a);\n",
    "                    #print(T[a,s,s_next]);\n",
    "                    T_s_s_next[s,s_next]+=self.P[a,s,s_next]*self.policy[s,a];\n",
    "        return T_s_s_next;\n",
    "    def state_distribution_simulated(self,onehot_encode=1):\n",
    "        P_policy = self.find_transition_matrix(onehot_encode)\n",
    "        #print(P_policy);\n",
    "        P_dash = np.append(P_policy - np.eye(self.nS),np.ones((self.nS,1)),axis=1);\n",
    "        #print(P_dash);\n",
    "        P_last = np.linalg.pinv(np.transpose(P_dash))[:,-1]\n",
    "        return P_last;"
   ]
  },
  {
   "cell_type": "code",
   "execution_count": 5,
   "id": "557d10c3",
   "metadata": {},
   "outputs": [],
   "source": [
    "def one_hot(target_policy,nS,nA):\n",
    "    one_hot_tp = [];\n",
    "    for i in range(len(target_policy)):\n",
    "        policy = target_policy[i];\n",
    "        print(policy);\n",
    "        tp=np.zeros((nS,nA));\n",
    "        for j in range(nS):\n",
    "            tp[j][policy[j]] = 1;\n",
    "        one_hot_tp.append(tp);\n",
    "    return np.array(one_hot_tp);"
   ]
  },
  {
   "cell_type": "markdown",
   "id": "30ed6867",
   "metadata": {},
   "source": [
    "Now that we are all ready got our ingedients, let us define a separate class where we will define the average_case technique to find the state_distribution_ratio. Any object of the average_case class must possess the environment details such as number of states(nS) and number of actions(nA). The behaviour_policy, learning_rate,list_of_beta_values, a weight_object to refer to the weights class. The batch_size and the optimizer to be used(Adam_optimzer). \n",
    "\n",
    "Since in this variant, we will be having only 1 Neural Network and update the network for the sample that is obtained from the theta values. For this reason, we need to store all the beta values. Hence, we define our first function\n",
    "1) find_beta(): This function finds all the beta(importance sampling) values. So beta values = target_policy[s,a]/behaviour_policy[s,a]. Now there are nPOL policies so for each policies we need to find the beta values for the ith target_policy, beta value will be beta[i,s,a]=target_policy[i,s,a]/behaviour_policy[s,a]. Now it is certain that a(action) can be {0,1} only. So instead of creating a new loop, we manually define two lines once for a=0 when beta value becomes beta[i,s,0]=target_policy[i,s,0]/behaviour_policy[s,0] and beta[i,s,1] = target_policy[i,s,1]/behaviour_policy[s,1]. Finally return all the beta values.\n",
    "\n",
    "2) set_batch(): This function is used to set a data batch which is sampled from the behaviour_policy. Now the batch is set to be used for updating the state_distribution_ratio.\n",
    "\n",
    "3) get_batch(): This function is used to get a random batch of 50 samples from the set data to be used to update our state_distribution_ratio. We actually create a batch of 50 data samples 10000 times in order to reach to a good value of state_distribution_ratio(Like in Linear regression we use a batch for several times until our gradient converges)\n",
    "\n",
    "4) get_w(): This function is used to find the numerator and denominator of the loss function as mentioned in the paper 'Breaking the curse of horizon'. Now for finding the numerator paarameter pair = 0. To find the denominator pair = 1. Now it is observed that the denominator value easily goes to 0. So, to avoid divide by zero error, we add a small noise value of 0.000000001. This makes sure that the denominator value never goes to zero.\n",
    "\n",
    "5) get_state_distribution_ratio(): This function uses the set data in the self.set_data() to get batches of size 50. Then calculate the loss using the equation mentioned in the paper 'Breaking the curse of horizon'. We use this calculated loss to update our weights of the Neural network by using Adam optimizer."
   ]
  },
  {
   "cell_type": "code",
   "execution_count": 6,
   "id": "8f27bcf0",
   "metadata": {},
   "outputs": [],
   "source": [
    "import numpy as np\n",
    "class average_case_version_2:\n",
    "  def __init__(self,nS,nA,behaviour_policy,state,lr,target_policy,batch_size,data_used):\n",
    "    self.nS = nS;\n",
    "    self.nPOL = nS\n",
    "    self.nA = nA;\n",
    "    self.behaviour_policy = behaviour_policy;\n",
    "    self.lr = lr;\n",
    "    self.beta = self.find_beta(target_policy,behaviour_policy)\n",
    "    self.W_loss = 0\n",
    "    self.weight_obj = weights(nS,1).to(device);\n",
    "    self.batch_size = batch_size\n",
    "    self.optimizerW = optim.Adam(self.weight_obj.parameters(),lr = self.lr);\n",
    "    self.loss = [];\n",
    "    self.Z = [];\n",
    "    self.data_used = data_used\n",
    "  def find_beta(self,target_policy,behaviour_policy):\n",
    "    beta = np.zeros((self.nPOL,self.nS,self.nA))\n",
    "    for i in range(self.nPOL):\n",
    "      for s in range(self.nS):\n",
    "        beta[i][s][0] = target_policy[i,s,0]/behaviour_policy[s,0];\n",
    "        beta[i,s,1] = target_policy[i,s,1]/behaviour_policy[s,1];\n",
    "    return beta;\n",
    "  def set_batch(self,data):\n",
    "        self.data = data;\n",
    "        self.T = len(data);\n",
    "  def get_batch(self):\n",
    "      if(self.T<=50):\n",
    "          return self.data\n",
    "      else:\n",
    "          i = 1;\n",
    "          j = np.random.randint(0,self.T,self.batch_size);\n",
    "          batch = [[self.data[k][0],self.data[k][1],self.data[k][2]] for k in j]\n",
    "          '''while(i<=self.batch_size):\n",
    "                if(np.random.random()<=0.5):\n",
    "                    batch.append([self.data[j][0],self.data[j][1],self.data[j][2]])\n",
    "                    j = (j+1)%self.T;\n",
    "                i+=1;'''\n",
    "          return batch; \n",
    "  def get_w(self,data,weight_obj,m,pair=0):\n",
    "        if(pair == 1):\n",
    "            Z_w_state = 0;\n",
    "            for i in range(len(data)):\n",
    "                val = weight_obj(data[i][0]);\n",
    "                #print(val);\n",
    "                Z_w_state+=val;\n",
    "            #print(Z_w_state.detach().numpy()[0]/self.batch_size);\n",
    "            Z_w_state = Z_w_state.cpu().detach().numpy()[0]/self.batch_size;\n",
    "            if(Z_w_state<0.00000000000005):\n",
    "                Z_w_state+=0.000000000001;\n",
    "            return Z_w_state;\n",
    "        else:\n",
    "            state1,state2,w_state1,w_state2,w_next_state1,w_next_state2,beta1,beta2 = list(),list(),list(),list(),list(),list(),list(),list();\n",
    "            K = list();\n",
    "            for i in range(len(data)):\n",
    "#                 print(data[i][0],data[i][1])\n",
    "#                 print(np.shape(data))\n",
    "                sample1 = data[i][0];\n",
    "                sample2 = data[i][1];\n",
    "                state1.append(sample1[0]);\n",
    "                #print(sample1);\n",
    "                w1,wn1,w2,wn2 = weight_obj.fast_forward(sample1[0],sample1[2],sample2[0],sample2[2]);\n",
    "                w_state1.append(w1);\n",
    "                w_next_state1.append(wn1);\n",
    "                state2.append(sample2[0]);\n",
    "                w_state2.append(w2);\n",
    "                w_next_state2.append(wn2);\n",
    "                #beta1.append(self.target_policy[sample1[0],sample1[1]]/self.behaviour_policy[sample1[0],sample1[1]]);\n",
    "                beta1.append(self.beta[self.selected_policy,sample1[0],sample1[1]]);\n",
    "                #beta2.append(self.target_policy[sample2[0],sample2[1]]/self.behaviour_policy[sample2[0],sample2[1]]);\n",
    "                beta2.append(self.beta[self.selected_policy,sample2[0],sample2[1]])\n",
    "                K.append(sample1[2]==sample2[2]);\n",
    "            return (state1,state2,w_state1,w_state2,w_next_state1,w_next_state2,beta1,beta2,K);\n",
    "        \n",
    "  def get_w_updated(self,data,weight_obj,m,Z_w_state,pair=0): #data should be batch. note all inputs to be passed \n",
    "        if(pair == 1):\n",
    "            Z_w_state = 0;\n",
    "            for i in range(len(data)):\n",
    "                val = weight_obj(data[i][0]);\n",
    "                #print(val);\n",
    "                Z_w_state+=val;\n",
    "            #print(Z_w_state.detach().numpy()[0]/self.batch_size);\n",
    "            Z_w_state = Z_w_state.cpu().detach().numpy()[0]/self.batch_size;\n",
    "            if(Z_w_state<0.00000000000005):\n",
    "                Z_w_state+=0.000000000001;\n",
    "            return Z_w_state;\n",
    "        else:\n",
    "            data = torch.tensor(data)\n",
    "#             print(data[:,0])\n",
    "#             print(data[:,2])\n",
    "#             print(data[:,0].size())\n",
    "            new_data_current = torch.reshape(data[:,0],(50,1))\n",
    "#             w_current_state = weight_obj.forward_batch(new_data_current)\n",
    "            \n",
    "            new_data_next = torch.reshape(data[:,2],(50,1))\n",
    "            new_data = torch.cat((new_data_current,new_data_next),0)\n",
    "            w = weight_obj.forward_batch(new_data)\n",
    "            w = w/Z_w_state\n",
    "#             print(w)\n",
    "#             print(new_data.size())\n",
    "#             print(w.size())\n",
    "            w = torch.reshape(w,(2,50))\n",
    "            beta = torch.zeros(50,1)\n",
    "            for i in range(len(data)):\n",
    "                beta[i] = self.beta[self.selected_policy,data[i][0],data[i][1]]\n",
    "            \n",
    "            K = torch.zeros(50,50)\n",
    "            for i in range(len(data)):\n",
    "                for j in range(len(data)):\n",
    "                    K[i][j] = (data[i][2] == data[j][2])\n",
    "#             print(\"here\")\n",
    "#             print(w.size())\n",
    "#             print(beta.size())\n",
    "#             print(K.size())\n",
    "            w_0 = torch.reshape(w[0], (50,1))\n",
    "            w_1 = torch.reshape(w[1], (50,1))\n",
    "#             print(w_0)\n",
    "#             print(beta)\n",
    "#             print(w_1)\n",
    "#             print(w_0 * beta - w_1)\n",
    "#check here only\n",
    "            delta = w_0 * beta - w_1\n",
    "            temp1 = torch.matmul(K,delta) #50,50:50,1 = 50, 1\n",
    "            final_sum = torch.matmul(torch.transpose(delta,0,1),temp1)\n",
    "#             print(w_0)\n",
    "#             print(w_1)\n",
    "#             print(Z_w_state)\n",
    "#             print(final_sum)\n",
    "#             print(\".........\")\n",
    "            return final_sum\n",
    "            \n",
    "            \n",
    "            \n",
    "            \n",
    "#             state1,state2,w_state1,w_state2,w_next_state1,w_next_state2,beta1,beta2 = list(),list(),list(),list(),list(),list(),list(),list();\n",
    "#             K = list();\n",
    "#             for i in range(len(data)):\n",
    "#                 sample1 = data[i][0];\n",
    "#                 sample2 = data[i][1];\n",
    "#                 state1.append(sample1[0]);\n",
    "#                 #print(sample1);\n",
    "#                 w1,wn1,w2,wn2 = weight_obj.fast_forward(sample1[0],sample1[2],sample2[0],sample2[2]);\n",
    "#                 w_state1.append(w1);\n",
    "#                 w_next_state1.append(wn1);\n",
    "#                 state2.append(sample2[0]);\n",
    "#                 w_state2.append(w2);\n",
    "#                 w_next_state2.append(wn2);\n",
    "#                 #beta1.append(self.target_policy[sample1[0],sample1[1]]/self.behaviour_policy[sample1[0],sample1[1]]);\n",
    "#                 beta1.append(self.beta[self.selected_policy,sample1[0],sample1[1]]);\n",
    "#                 #beta2.append(self.target_policy[sample2[0],sample2[1]]/self.behaviour_policy[sample2[0],sample2[1]]);\n",
    "#                 beta2.append(self.beta[self.selected_policy,sample2[0],sample2[1]])\n",
    "#                 K.append(sample1[2]==sample2[2]);\n",
    "#             return (state1,state2,w_state1,w_state2,w_next_state1,w_next_state2,beta1,beta2,K);\n",
    "\n",
    "    \n",
    "  def get_state_distribution_ratio(self,selected_policy,run,t):\n",
    "        batch = self.get_batch();\n",
    "        eps = 0.04;\n",
    "        self.data_used[run] =self.data_used[run]+batch;\n",
    "        self.selected_policy = selected_policy\n",
    "        pairs = list(product(batch,repeat=2));\n",
    "        self.loss_episode = [];\n",
    "#         print(np.shape(batch))\n",
    "        for _ in range(5):\n",
    "#             batch = self.get_batch();\n",
    "            start = time.time()\n",
    "            Z_w_state = self.get_w(batch, self.weight_obj, len(batch),1);\n",
    "#             state1,state2,w_state1,w_state2,w_next_state1,w_next_state2,beta1,beta2,K = self.get_w(pairs, self.weight_obj, len(batch));\n",
    "            self.w_loss = 0\n",
    "            self.w_loss = self.get_w_updated(batch,self.weight_obj,len(batch),Z_w_state)\n",
    "#             print(time.time() - start)\n",
    "#             print(\"*******\")\n",
    "#             for i in range(len(state1)):\n",
    "#                 self.w_loss+=(beta1[i]*(w_state1[i]/Z_w_state) - (w_next_state1[i]/Z_w_state))*(beta2[i]*(w_state2[i]/Z_w_state)-(w_next_state2[i]/Z_w_state))*K[i];\n",
    "#             print(\"sourav\")\n",
    "#             print(self.w_loss)\n",
    "            self.w_loss/=(2*self.batch_size);\n",
    "            start = time.time()\n",
    "            self.optimizerW.zero_grad();\n",
    "            self.w_loss.backward(); #Improving the forward pass computation\n",
    "            self.optimizerW.step();\n",
    "            self.optimizerW.zero_grad();\n",
    "#             print(time.time() - start)\n",
    "            self.Z.append(Z_w_state)\n",
    "            \n",
    "        self.loss.append(self.w_loss.cpu().detach().numpy()[0]);\n",
    "        state_dist=[];\n",
    "        for i in range(self.nS):\n",
    "            w_state = self.weight_obj(i);\n",
    "            w_state = w_state.cpu().detach().numpy()[0];\n",
    "            state_dist.append(w_state);\n",
    "        return np.array(state_dist);"
   ]
  },
  {
   "cell_type": "markdown",
   "id": "bf1d3752",
   "metadata": {},
   "source": [
    "Instead of sampling state, action, next_state values on the go, we do it before hand and store it in a list named 'data'. So, that when required we can simply pass this data and save some time by before hand sampling the data."
   ]
  },
  {
   "cell_type": "code",
   "execution_count": 7,
   "id": "89a6fd97",
   "metadata": {},
   "outputs": [],
   "source": [
    "def simulate_episode(T,state,behaviour_policy,P,batch_size):\n",
    "  #global P,behaviour_policy,batch_size;\n",
    "  data={};temp=[];\n",
    "  for t in range(1,T+1):\n",
    "    action = np.argmax(np.random.multinomial(1,behaviour_policy[state,:]))\n",
    "    next_state = np.argmax(np.random.multinomial(1,P[action,state,:]));\n",
    "    state = next_state;\n",
    "    temp.append([state,action,next_state]);\n",
    "    if(t%batch_size==0):\n",
    "      data[int(t/batch_size)-1]=temp[:];\n",
    "  return data;"
   ]
  },
  {
   "cell_type": "markdown",
   "id": "21dc8069",
   "metadata": {},
   "source": [
    "For our help we create a softmax function."
   ]
  },
  {
   "cell_type": "code",
   "execution_count": 8,
   "id": "8fbc674b",
   "metadata": {},
   "outputs": [],
   "source": [
    "def softmax(theta):\n",
    "  theta = np.exp(theta);\n",
    "  sum = np.sum(theta)\n",
    "  return theta/sum;"
   ]
  },
  {
   "cell_type": "markdown",
   "id": "a3e8ea85",
   "metadata": {},
   "source": [
    "We create a function naemd as preprocessing() which is responsible to perform the theta update. After every val=50 times, our learning rate is divided by 10. So if we start with lr = 1. After 50 instances, lr = 0.1. After 100 steps lr = 0.01 and so on...\n",
    "Now at each instant, we found the softmax of the theta values. Now from the given probability values we sample a policy that will be updated next. "
   ]
  },
  {
   "cell_type": "code",
   "execution_count": 9,
   "id": "92ca25a3",
   "metadata": {},
   "outputs": [],
   "source": [
    "import time\n",
    "def processing(nPOL,run,policy_sampled,policy_selected,loss,estimated_value,T_update,P,R,val,val2,behaviour_policy_state_distribution,beta,batch_size,alpha,data):\n",
    "    lr = 1\n",
    "    nS = nPOL;\n",
    "    theta = np.ones(nPOL);\n",
    "    c=0;\n",
    "    rew = np.zeros(nPOL);\n",
    "    S = np.ones(nPOL);\n",
    "    F = np.ones(nPOL);\n",
    "    n = np.ones(nPOL);\n",
    "    for t in tqdm(range(1,T_update+1)):\n",
    "      sampled_policy = np.argmin([np.random.beta(S[j],F[j]) for j in range(nPOL)])\n",
    "      #policy_selected[t,run]=selected_policy;\n",
    "      policy_sampled[t-1,run] = sampled_policy;\n",
    "      #loss[t,run] = w_obj.w_loss.cpu().detach().numpy()[0];\n",
    "\n",
    "      start = time.time()\n",
    "      w_obj.set_batch(data[t-1]);\n",
    "      sd = w_obj.get_state_distribution_ratio(sampled_policy,run,t-1);\n",
    "      print(time.time() - start)\n",
    "      sd = sd * behaviour_policy_state_distribution;\n",
    "      sd = sd/np.sum(sd)\n",
    "      rho_i = sum([sd[s]*R[target_policy[sampled_policy,s],s] for s in range(nS)]);\n",
    "      rew[sampled_policy] = (1-alpha)*rew[sampled_policy] + alpha*rho_i\n",
    "      S[sampled_policy]+=rew[sampled_policy];\n",
    "      F[sampled_policy]=F[sampled_policy]+t-rew[sampled_policy]\n",
    "      estimated_value[t-1,run] = rho_i;\n",
    "    #print(data)"
   ]
  },
  {
   "cell_type": "markdown",
   "id": "601d62d1",
   "metadata": {},
   "source": [
    "Finally call the hyperparameters, create the environment and call the pre-processing function."
   ]
  },
  {
   "cell_type": "code",
   "execution_count": 14,
   "id": "8afaddbc",
   "metadata": {
    "scrolled": false
   },
   "outputs": [
    {
     "name": "stdout",
     "output_type": "stream",
     "text": [
      "20 2\n",
      "[[0.5 0.5]\n",
      " [0.5 0.5]\n",
      " [0.5 0.5]\n",
      " [0.5 0.5]\n",
      " [0.5 0.5]\n",
      " [0.5 0.5]\n",
      " [0.5 0.5]\n",
      " [0.5 0.5]\n",
      " [0.5 0.5]\n",
      " [0.5 0.5]\n",
      " [0.5 0.5]\n",
      " [0.5 0.5]\n",
      " [0.5 0.5]\n",
      " [0.5 0.5]\n",
      " [0.5 0.5]\n",
      " [0.5 0.5]\n",
      " [0.5 0.5]\n",
      " [0.5 0.5]\n",
      " [0.5 0.5]\n",
      " [0.5 0.5]] [[[0.0047619  0.00952381 0.01428571 0.01904762 0.02380952 0.02857143\n",
      "   0.03333333 0.03809524 0.04285714 0.04761905 0.05238095 0.05714286\n",
      "   0.06190476 0.06666667 0.07142857 0.07619048 0.08095238 0.08571429\n",
      "   0.09047619 0.0952381 ]\n",
      "  [0.         0.00956938 0.01435407 0.01913876 0.02392344 0.02870813\n",
      "   0.03349282 0.03827751 0.0430622  0.04784689 0.05263158 0.05741627\n",
      "   0.06220096 0.06698565 0.07177033 0.07655502 0.08133971 0.0861244\n",
      "   0.09090909 0.09569378]\n",
      "  [0.         0.         0.01449275 0.01932367 0.02415459 0.02898551\n",
      "   0.03381643 0.03864734 0.04347826 0.04830918 0.0531401  0.05797101\n",
      "   0.06280193 0.06763285 0.07246377 0.07729469 0.0821256  0.08695652\n",
      "   0.09178744 0.09661836]\n",
      "  [0.         0.         0.         0.01960784 0.0245098  0.02941176\n",
      "   0.03431373 0.03921569 0.04411765 0.04901961 0.05392157 0.05882353\n",
      "   0.06372549 0.06862745 0.07352941 0.07843137 0.08333333 0.08823529\n",
      "   0.09313725 0.09803922]\n",
      "  [0.         0.         0.         0.         0.025      0.03\n",
      "   0.035      0.04       0.045      0.05       0.055      0.06\n",
      "   0.065      0.07       0.075      0.08       0.085      0.09\n",
      "   0.095      0.1       ]\n",
      "  [0.         0.         0.         0.         0.         0.03076923\n",
      "   0.03589744 0.04102564 0.04615385 0.05128205 0.05641026 0.06153846\n",
      "   0.06666667 0.07179487 0.07692308 0.08205128 0.08717949 0.09230769\n",
      "   0.0974359  0.1025641 ]\n",
      "  [0.         0.         0.         0.         0.         0.\n",
      "   0.03703704 0.04232804 0.04761905 0.05291005 0.05820106 0.06349206\n",
      "   0.06878307 0.07407407 0.07936508 0.08465608 0.08994709 0.0952381\n",
      "   0.1005291  0.10582011]\n",
      "  [0.         0.         0.         0.         0.         0.\n",
      "   0.         0.04395604 0.04945055 0.05494505 0.06043956 0.06593407\n",
      "   0.07142857 0.07692308 0.08241758 0.08791209 0.09340659 0.0989011\n",
      "   0.1043956  0.10989011]\n",
      "  [0.         0.         0.         0.         0.         0.\n",
      "   0.         0.         0.05172414 0.05747126 0.06321839 0.06896552\n",
      "   0.07471264 0.08045977 0.0862069  0.09195402 0.09770115 0.10344828\n",
      "   0.1091954  0.11494253]\n",
      "  [0.         0.         0.         0.         0.         0.\n",
      "   0.         0.         0.         0.06060606 0.06666667 0.07272727\n",
      "   0.07878788 0.08484848 0.09090909 0.0969697  0.1030303  0.10909091\n",
      "   0.11515152 0.12121212]\n",
      "  [0.         0.         0.         0.         0.         0.\n",
      "   0.         0.         0.         0.         0.07096774 0.07741935\n",
      "   0.08387097 0.09032258 0.09677419 0.10322581 0.10967742 0.11612903\n",
      "   0.12258065 0.12903226]\n",
      "  [0.         0.         0.         0.         0.         0.\n",
      "   0.         0.         0.         0.         0.         0.08333333\n",
      "   0.09027778 0.09722222 0.10416667 0.11111111 0.11805556 0.125\n",
      "   0.13194444 0.13888889]\n",
      "  [0.         0.         0.         0.         0.         0.\n",
      "   0.         0.         0.         0.         0.         0.\n",
      "   0.09848485 0.10606061 0.11363636 0.12121212 0.12878788 0.13636364\n",
      "   0.14393939 0.15151515]\n",
      "  [0.         0.         0.         0.         0.         0.\n",
      "   0.         0.         0.         0.         0.         0.\n",
      "   0.         0.11764706 0.12605042 0.13445378 0.14285714 0.1512605\n",
      "   0.15966387 0.16806723]\n",
      "  [0.         0.         0.         0.         0.         0.\n",
      "   0.         0.         0.         0.         0.         0.\n",
      "   0.         0.         0.14285714 0.15238095 0.16190476 0.17142857\n",
      "   0.18095238 0.19047619]\n",
      "  [0.         0.         0.         0.         0.         0.\n",
      "   0.         0.         0.         0.         0.         0.\n",
      "   0.         0.         0.         0.17777778 0.18888889 0.2\n",
      "   0.21111111 0.22222222]\n",
      "  [0.         0.         0.         0.         0.         0.\n",
      "   0.         0.         0.         0.         0.         0.\n",
      "   0.         0.         0.         0.         0.22972973 0.24324324\n",
      "   0.25675676 0.27027027]\n",
      "  [0.         0.         0.         0.         0.         0.\n",
      "   0.         0.         0.         0.         0.         0.\n",
      "   0.         0.         0.         0.         0.         0.31578947\n",
      "   0.33333333 0.35087719]\n",
      "  [0.         0.         0.         0.         0.         0.\n",
      "   0.         0.         0.         0.         0.         0.\n",
      "   0.         0.         0.         0.         0.         0.\n",
      "   0.48717949 0.51282051]\n",
      "  [0.         0.         0.         0.         0.         0.\n",
      "   0.         0.         0.         0.         0.         0.\n",
      "   0.         0.         0.         0.         0.         0.\n",
      "   0.         1.        ]]\n",
      "\n",
      " [[1.         0.         0.         0.         0.         0.\n",
      "   0.         0.         0.         0.         0.         0.\n",
      "   0.         0.         0.         0.         0.         0.\n",
      "   0.         0.        ]\n",
      "  [1.         0.         0.         0.         0.         0.\n",
      "   0.         0.         0.         0.         0.         0.\n",
      "   0.         0.         0.         0.         0.         0.\n",
      "   0.         0.        ]\n",
      "  [1.         0.         0.         0.         0.         0.\n",
      "   0.         0.         0.         0.         0.         0.\n",
      "   0.         0.         0.         0.         0.         0.\n",
      "   0.         0.        ]\n",
      "  [1.         0.         0.         0.         0.         0.\n",
      "   0.         0.         0.         0.         0.         0.\n",
      "   0.         0.         0.         0.         0.         0.\n",
      "   0.         0.        ]\n",
      "  [1.         0.         0.         0.         0.         0.\n",
      "   0.         0.         0.         0.         0.         0.\n",
      "   0.         0.         0.         0.         0.         0.\n",
      "   0.         0.        ]\n",
      "  [1.         0.         0.         0.         0.         0.\n",
      "   0.         0.         0.         0.         0.         0.\n",
      "   0.         0.         0.         0.         0.         0.\n",
      "   0.         0.        ]\n",
      "  [1.         0.         0.         0.         0.         0.\n",
      "   0.         0.         0.         0.         0.         0.\n",
      "   0.         0.         0.         0.         0.         0.\n",
      "   0.         0.        ]\n",
      "  [1.         0.         0.         0.         0.         0.\n",
      "   0.         0.         0.         0.         0.         0.\n",
      "   0.         0.         0.         0.         0.         0.\n",
      "   0.         0.        ]\n",
      "  [1.         0.         0.         0.         0.         0.\n",
      "   0.         0.         0.         0.         0.         0.\n",
      "   0.         0.         0.         0.         0.         0.\n",
      "   0.         0.        ]\n",
      "  [1.         0.         0.         0.         0.         0.\n",
      "   0.         0.         0.         0.         0.         0.\n",
      "   0.         0.         0.         0.         0.         0.\n",
      "   0.         0.        ]\n",
      "  [1.         0.         0.         0.         0.         0.\n",
      "   0.         0.         0.         0.         0.         0.\n",
      "   0.         0.         0.         0.         0.         0.\n",
      "   0.         0.        ]\n",
      "  [1.         0.         0.         0.         0.         0.\n",
      "   0.         0.         0.         0.         0.         0.\n",
      "   0.         0.         0.         0.         0.         0.\n",
      "   0.         0.        ]\n",
      "  [1.         0.         0.         0.         0.         0.\n",
      "   0.         0.         0.         0.         0.         0.\n",
      "   0.         0.         0.         0.         0.         0.\n",
      "   0.         0.        ]\n",
      "  [1.         0.         0.         0.         0.         0.\n",
      "   0.         0.         0.         0.         0.         0.\n",
      "   0.         0.         0.         0.         0.         0.\n",
      "   0.         0.        ]\n",
      "  [1.         0.         0.         0.         0.         0.\n",
      "   0.         0.         0.         0.         0.         0.\n",
      "   0.         0.         0.         0.         0.         0.\n",
      "   0.         0.        ]\n",
      "  [1.         0.         0.         0.         0.         0.\n",
      "   0.         0.         0.         0.         0.         0.\n",
      "   0.         0.         0.         0.         0.         0.\n",
      "   0.         0.        ]\n",
      "  [1.         0.         0.         0.         0.         0.\n",
      "   0.         0.         0.         0.         0.         0.\n",
      "   0.         0.         0.         0.         0.         0.\n",
      "   0.         0.        ]\n",
      "  [1.         0.         0.         0.         0.         0.\n",
      "   0.         0.         0.         0.         0.         0.\n",
      "   0.         0.         0.         0.         0.         0.\n",
      "   0.         0.        ]\n",
      "  [1.         0.         0.         0.         0.         0.\n",
      "   0.         0.         0.         0.         0.         0.\n",
      "   0.         0.         0.         0.         0.         0.\n",
      "   0.         0.        ]\n",
      "  [1.         0.         0.         0.         0.         0.\n",
      "   0.         0.         0.         0.         0.         0.\n",
      "   0.         0.         0.         0.         0.         0.\n",
      "   0.         0.        ]]]\n"
     ]
    },
    {
     "name": "stdout",
     "output_type": "stream",
     "text": [
      "[0 0 0 0 0 0 0 0 0 0 0 0 0 0 0 0 0 0 0 1]\n",
      "[0 0 0 0 0 0 0 0 0 0 0 0 0 0 0 0 0 0 1 1]\n",
      "[0 0 0 0 0 0 0 0 0 0 0 0 0 0 0 0 0 1 1 1]\n",
      "[0 0 0 0 0 0 0 0 0 0 0 0 0 0 0 0 1 1 1 1]\n",
      "[0 0 0 0 0 0 0 0 0 0 0 0 0 0 0 1 1 1 1 1]\n",
      "[0 0 0 0 0 0 0 0 0 0 0 0 0 0 1 1 1 1 1 1]\n",
      "[0 0 0 0 0 0 0 0 0 0 0 0 0 1 1 1 1 1 1 1]\n",
      "[0 0 0 0 0 0 0 0 0 0 0 0 1 1 1 1 1 1 1 1]\n",
      "[0 0 0 0 0 0 0 0 0 0 0 1 1 1 1 1 1 1 1 1]\n",
      "[0 0 0 0 0 0 0 0 0 0 1 1 1 1 1 1 1 1 1 1]\n",
      "[0 0 0 0 0 0 0 0 0 1 1 1 1 1 1 1 1 1 1 1]\n",
      "[0 0 0 0 0 0 0 0 1 1 1 1 1 1 1 1 1 1 1 1]\n",
      "[0 0 0 0 0 0 0 1 1 1 1 1 1 1 1 1 1 1 1 1]\n",
      "[0 0 0 0 0 0 1 1 1 1 1 1 1 1 1 1 1 1 1 1]\n",
      "[0 0 0 0 0 1 1 1 1 1 1 1 1 1 1 1 1 1 1 1]\n",
      "[0 0 0 0 1 1 1 1 1 1 1 1 1 1 1 1 1 1 1 1]\n",
      "[0 0 0 1 1 1 1 1 1 1 1 1 1 1 1 1 1 1 1 1]\n",
      "[0 0 1 1 1 1 1 1 1 1 1 1 1 1 1 1 1 1 1 1]\n",
      "[0 1 1 1 1 1 1 1 1 1 1 1 1 1 1 1 1 1 1 1]\n",
      "[1 1 1 1 1 1 1 1 1 1 1 1 1 1 1 1 1 1 1 1]\n"
     ]
    },
    {
     "name": "stderr",
     "output_type": "stream",
     "text": [
      "  0%|                                                     | 0/5 [00:00<?, ?it/s]\n",
      "  0%|                                                  | 0/1000 [00:00<?, ?it/s]\u001b[A\n",
      "  0%|                                          | 2/1000 [00:00<01:26, 11.49it/s]\u001b[A"
     ]
    },
    {
     "name": "stdout",
     "output_type": "stream",
     "text": [
      "0.08544278144836426\n",
      "0.08842658996582031\n",
      "0.09329938888549805\n"
     ]
    },
    {
     "name": "stderr",
     "output_type": "stream",
     "text": [
      "\n",
      "  0%|▏                                         | 4/1000 [00:00<01:29, 11.15it/s]\u001b[A"
     ]
    },
    {
     "name": "stdout",
     "output_type": "stream",
     "text": [
      "0.08870577812194824\n",
      "0.08636164665222168\n"
     ]
    },
    {
     "name": "stderr",
     "output_type": "stream",
     "text": [
      "\n",
      "  1%|▎                                         | 6/1000 [00:00<01:28, 11.28it/s]\u001b[A"
     ]
    },
    {
     "name": "stdout",
     "output_type": "stream",
     "text": [
      "0.08744478225708008\n"
     ]
    },
    {
     "name": "stderr",
     "output_type": "stream",
     "text": [
      "\n",
      "  1%|▎                                         | 8/1000 [00:00<01:27, 11.33it/s]\u001b[A"
     ]
    },
    {
     "name": "stdout",
     "output_type": "stream",
     "text": [
      "0.08884406089782715\n",
      "0.08544349670410156\n",
      "0.08815836906433105\n"
     ]
    },
    {
     "name": "stderr",
     "output_type": "stream",
     "text": [
      "\n",
      "  1%|▍                                        | 10/1000 [00:00<01:27, 11.34it/s]\u001b[A"
     ]
    },
    {
     "name": "stdout",
     "output_type": "stream",
     "text": [
      "0.08678126335144043\n",
      "0.08641600608825684\n"
     ]
    },
    {
     "name": "stderr",
     "output_type": "stream",
     "text": [
      "\n",
      "  1%|▍                                        | 12/1000 [00:01<01:26, 11.38it/s]\u001b[A"
     ]
    },
    {
     "name": "stdout",
     "output_type": "stream",
     "text": [
      "0.08695363998413086\n"
     ]
    },
    {
     "name": "stderr",
     "output_type": "stream",
     "text": [
      "\n",
      "  1%|▌                                        | 14/1000 [00:01<01:26, 11.41it/s]\u001b[A"
     ]
    },
    {
     "name": "stdout",
     "output_type": "stream",
     "text": [
      "0.0884249210357666\n",
      "0.08505058288574219\n",
      "0.08868002891540527\n"
     ]
    },
    {
     "name": "stderr",
     "output_type": "stream",
     "text": [
      "\n",
      "  2%|▋                                        | 16/1000 [00:01<01:26, 11.37it/s]\u001b[A"
     ]
    },
    {
     "name": "stdout",
     "output_type": "stream",
     "text": [
      "0.08753752708435059\n",
      "0.08711886405944824\n"
     ]
    },
    {
     "name": "stderr",
     "output_type": "stream",
     "text": [
      "\n",
      "  2%|▋                                        | 18/1000 [00:01<01:26, 11.37it/s]\u001b[A"
     ]
    },
    {
     "name": "stdout",
     "output_type": "stream",
     "text": [
      "0.08764147758483887\n"
     ]
    },
    {
     "name": "stderr",
     "output_type": "stream",
     "text": [
      "\n",
      "  2%|▊                                        | 20/1000 [00:01<01:26, 11.38it/s]\u001b[A"
     ]
    },
    {
     "name": "stdout",
     "output_type": "stream",
     "text": [
      "0.0886073112487793\n",
      "0.08569860458374023\n",
      "0.08879303932189941\n"
     ]
    },
    {
     "name": "stderr",
     "output_type": "stream",
     "text": [
      "\n",
      "  2%|▉                                        | 22/1000 [00:01<01:26, 11.35it/s]\u001b[A"
     ]
    },
    {
     "name": "stdout",
     "output_type": "stream",
     "text": [
      "0.08742713928222656\n",
      "0.08689737319946289\n"
     ]
    },
    {
     "name": "stderr",
     "output_type": "stream",
     "text": [
      "\n",
      "  2%|▉                                        | 24/1000 [00:02<01:25, 11.37it/s]\u001b[A"
     ]
    },
    {
     "name": "stdout",
     "output_type": "stream",
     "text": [
      "0.08722472190856934\n"
     ]
    },
    {
     "name": "stderr",
     "output_type": "stream",
     "text": [
      "\n",
      "  3%|█                                        | 26/1000 [00:02<01:25, 11.40it/s]\u001b[A"
     ]
    },
    {
     "name": "stdout",
     "output_type": "stream",
     "text": [
      "0.08883547782897949\n",
      "0.08485960960388184\n",
      "0.08841109275817871\n"
     ]
    },
    {
     "name": "stderr",
     "output_type": "stream",
     "text": [
      "\n",
      "  3%|█▏                                       | 28/1000 [00:02<01:25, 11.37it/s]\u001b[A"
     ]
    },
    {
     "name": "stdout",
     "output_type": "stream",
     "text": [
      "0.08726310729980469\n",
      "0.08664250373840332\n"
     ]
    },
    {
     "name": "stderr",
     "output_type": "stream",
     "text": [
      "\n",
      "  3%|█▏                                       | 30/1000 [00:02<01:25, 11.40it/s]\u001b[A"
     ]
    },
    {
     "name": "stdout",
     "output_type": "stream",
     "text": [
      "0.08667564392089844\n"
     ]
    },
    {
     "name": "stderr",
     "output_type": "stream",
     "text": [
      "\n",
      "  3%|█▎                                       | 32/1000 [00:02<01:25, 11.38it/s]\u001b[A"
     ]
    },
    {
     "name": "stdout",
     "output_type": "stream",
     "text": [
      "0.08928656578063965\n",
      "0.08583235740661621\n",
      "0.08810901641845703\n"
     ]
    },
    {
     "name": "stderr",
     "output_type": "stream",
     "text": [
      "\n",
      "  3%|█▍                                       | 34/1000 [00:02<01:25, 11.36it/s]\u001b[A"
     ]
    },
    {
     "name": "stdout",
     "output_type": "stream",
     "text": [
      "0.08786392211914062\n",
      "0.08822846412658691\n"
     ]
    },
    {
     "name": "stderr",
     "output_type": "stream",
     "text": [
      "\n",
      "  4%|█▍                                       | 36/1000 [00:03<01:25, 11.33it/s]\u001b[A"
     ]
    },
    {
     "name": "stdout",
     "output_type": "stream",
     "text": [
      "0.08805418014526367\n"
     ]
    },
    {
     "name": "stderr",
     "output_type": "stream",
     "text": [
      "\n",
      "  4%|█▌                                       | 38/1000 [00:03<01:24, 11.33it/s]\u001b[A"
     ]
    },
    {
     "name": "stdout",
     "output_type": "stream",
     "text": [
      "0.09099745750427246\n",
      "0.08436155319213867\n",
      "0.09106731414794922\n"
     ]
    },
    {
     "name": "stderr",
     "output_type": "stream",
     "text": [
      "\n",
      "  4%|█▋                                       | 40/1000 [00:03<01:25, 11.26it/s]\u001b[A"
     ]
    },
    {
     "name": "stdout",
     "output_type": "stream",
     "text": [
      "0.08801126480102539\n",
      "0.08793330192565918\n"
     ]
    },
    {
     "name": "stderr",
     "output_type": "stream",
     "text": [
      "\n",
      "  4%|█▋                                       | 42/1000 [00:03<01:24, 11.27it/s]\u001b[A"
     ]
    },
    {
     "name": "stdout",
     "output_type": "stream",
     "text": [
      "0.08816409111022949\n"
     ]
    },
    {
     "name": "stderr",
     "output_type": "stream",
     "text": [
      "\n",
      "  4%|█▊                                       | 44/1000 [00:03<01:24, 11.30it/s]\u001b[A"
     ]
    },
    {
     "name": "stdout",
     "output_type": "stream",
     "text": [
      "0.09017348289489746\n",
      "0.08477926254272461\n",
      "0.09091019630432129\n"
     ]
    },
    {
     "name": "stderr",
     "output_type": "stream",
     "text": [
      "\n",
      "  5%|█▉                                       | 46/1000 [00:04<01:25, 11.13it/s]\u001b[A"
     ]
    },
    {
     "name": "stdout",
     "output_type": "stream",
     "text": [
      "0.09397220611572266\n",
      "0.08782362937927246\n"
     ]
    },
    {
     "name": "stderr",
     "output_type": "stream",
     "text": [
      "\n",
      "  5%|█▉                                       | 48/1000 [00:04<01:25, 11.14it/s]\u001b[A"
     ]
    },
    {
     "name": "stdout",
     "output_type": "stream",
     "text": [
      "0.09043073654174805\n"
     ]
    },
    {
     "name": "stderr",
     "output_type": "stream",
     "text": [
      "\n",
      "  5%|██                                       | 50/1000 [00:04<01:25, 11.18it/s]\u001b[A"
     ]
    },
    {
     "name": "stdout",
     "output_type": "stream",
     "text": [
      "0.09154510498046875\n",
      "0.08488678932189941\n",
      "0.08985424041748047\n"
     ]
    },
    {
     "name": "stderr",
     "output_type": "stream",
     "text": [
      "\n",
      "  5%|██▏                                      | 52/1000 [00:04<01:24, 11.17it/s]\u001b[A"
     ]
    },
    {
     "name": "stdout",
     "output_type": "stream",
     "text": [
      "0.08839726448059082\n",
      "0.08746051788330078\n"
     ]
    },
    {
     "name": "stderr",
     "output_type": "stream",
     "text": [
      "\n",
      "  5%|██▏                                      | 54/1000 [00:04<01:24, 11.21it/s]\u001b[A"
     ]
    },
    {
     "name": "stdout",
     "output_type": "stream",
     "text": [
      "0.08858728408813477\n"
     ]
    },
    {
     "name": "stderr",
     "output_type": "stream",
     "text": [
      "\n",
      "  6%|██▎                                      | 56/1000 [00:04<01:23, 11.24it/s]\u001b[A"
     ]
    },
    {
     "name": "stdout",
     "output_type": "stream",
     "text": [
      "0.09042906761169434\n",
      "0.0848853588104248\n",
      "0.09022760391235352\n"
     ]
    },
    {
     "name": "stderr",
     "output_type": "stream",
     "text": [
      "\n",
      "  6%|██▍                                      | 58/1000 [00:05<01:23, 11.23it/s]\u001b[A"
     ]
    },
    {
     "name": "stdout",
     "output_type": "stream",
     "text": [
      "0.08682513236999512\n",
      "0.08771300315856934\n"
     ]
    },
    {
     "name": "stderr",
     "output_type": "stream",
     "text": [
      "\n",
      "  6%|██▍                                      | 60/1000 [00:05<01:23, 11.29it/s]\u001b[A"
     ]
    },
    {
     "name": "stdout",
     "output_type": "stream",
     "text": [
      "0.08631515502929688\n"
     ]
    },
    {
     "name": "stderr",
     "output_type": "stream",
     "text": [
      "\n",
      "  6%|██▌                                      | 62/1000 [00:05<01:22, 11.36it/s]\u001b[A"
     ]
    },
    {
     "name": "stdout",
     "output_type": "stream",
     "text": [
      "0.08745622634887695\n",
      "0.08495354652404785\n",
      "0.08935117721557617\n"
     ]
    },
    {
     "name": "stderr",
     "output_type": "stream",
     "text": [
      "\n",
      "  6%|██▌                                      | 64/1000 [00:05<01:22, 11.32it/s]\u001b[A"
     ]
    },
    {
     "name": "stdout",
     "output_type": "stream",
     "text": [
      "0.08789849281311035\n",
      "0.08844900131225586\n"
     ]
    },
    {
     "name": "stderr",
     "output_type": "stream",
     "text": [
      "\n",
      "  7%|██▋                                      | 66/1000 [00:05<01:22, 11.33it/s]\u001b[A"
     ]
    },
    {
     "name": "stdout",
     "output_type": "stream",
     "text": [
      "0.08643651008605957\n"
     ]
    },
    {
     "name": "stderr",
     "output_type": "stream",
     "text": [
      "\n",
      "  7%|██▊                                      | 68/1000 [00:06<01:22, 11.35it/s]\u001b[A"
     ]
    },
    {
     "name": "stdout",
     "output_type": "stream",
     "text": [
      "0.08950972557067871\n",
      "0.08473348617553711\n",
      "0.08754730224609375\n"
     ]
    },
    {
     "name": "stderr",
     "output_type": "stream",
     "text": [
      "\n",
      "  7%|██▊                                      | 70/1000 [00:06<01:21, 11.35it/s]\u001b[A"
     ]
    },
    {
     "name": "stdout",
     "output_type": "stream",
     "text": [
      "0.08752846717834473\n",
      "0.08622193336486816\n"
     ]
    },
    {
     "name": "stderr",
     "output_type": "stream",
     "text": [
      "\n",
      "  7%|██▉                                      | 72/1000 [00:06<01:22, 11.28it/s]\u001b[A"
     ]
    },
    {
     "name": "stdout",
     "output_type": "stream",
     "text": [
      "0.09235167503356934\n"
     ]
    },
    {
     "name": "stderr",
     "output_type": "stream",
     "text": [
      "\n",
      "  7%|███                                      | 74/1000 [00:06<01:21, 11.34it/s]\u001b[A"
     ]
    },
    {
     "name": "stdout",
     "output_type": "stream",
     "text": [
      "0.08862471580505371\n",
      "0.08477473258972168\n",
      "0.08924150466918945\n"
     ]
    },
    {
     "name": "stderr",
     "output_type": "stream",
     "text": [
      "\n",
      "  8%|███                                      | 76/1000 [00:06<01:21, 11.31it/s]\u001b[A"
     ]
    },
    {
     "name": "stdout",
     "output_type": "stream",
     "text": [
      "0.08733868598937988\n",
      "0.08616423606872559\n"
     ]
    },
    {
     "name": "stderr",
     "output_type": "stream",
     "text": [
      "\n",
      "  8%|███▏                                     | 78/1000 [00:06<01:21, 11.33it/s]\u001b[A"
     ]
    },
    {
     "name": "stdout",
     "output_type": "stream",
     "text": [
      "0.08870649337768555\n"
     ]
    },
    {
     "name": "stderr",
     "output_type": "stream",
     "text": [
      "\n",
      "  8%|███▎                                     | 80/1000 [00:07<01:20, 11.38it/s]\u001b[A"
     ]
    },
    {
     "name": "stdout",
     "output_type": "stream",
     "text": [
      "0.08794879913330078\n",
      "0.0849306583404541\n",
      "0.0879666805267334\n"
     ]
    },
    {
     "name": "stderr",
     "output_type": "stream",
     "text": [
      "\n",
      "  8%|███▎                                     | 82/1000 [00:07<01:21, 11.33it/s]\u001b[A"
     ]
    },
    {
     "name": "stdout",
     "output_type": "stream",
     "text": [
      "0.0891566276550293\n",
      "0.08606934547424316\n"
     ]
    },
    {
     "name": "stderr",
     "output_type": "stream",
     "text": [
      "\n",
      "  8%|███▍                                     | 84/1000 [00:07<01:20, 11.34it/s]\u001b[A"
     ]
    },
    {
     "name": "stdout",
     "output_type": "stream",
     "text": [
      "0.08898782730102539\n"
     ]
    },
    {
     "name": "stderr",
     "output_type": "stream",
     "text": [
      "\n",
      "  9%|███▌                                     | 86/1000 [00:07<01:20, 11.38it/s]\u001b[A"
     ]
    },
    {
     "name": "stdout",
     "output_type": "stream",
     "text": [
      "0.08842015266418457\n",
      "0.08478426933288574\n",
      "0.08851766586303711\n"
     ]
    },
    {
     "name": "stderr",
     "output_type": "stream",
     "text": [
      "\n",
      "  9%|███▌                                     | 88/1000 [00:07<01:20, 11.37it/s]\u001b[A"
     ]
    },
    {
     "name": "stdout",
     "output_type": "stream",
     "text": [
      "0.08673381805419922\n",
      "0.08586478233337402\n"
     ]
    },
    {
     "name": "stderr",
     "output_type": "stream",
     "text": [
      "\n",
      "  9%|███▋                                     | 90/1000 [00:07<01:20, 11.34it/s]\u001b[A"
     ]
    },
    {
     "name": "stdout",
     "output_type": "stream",
     "text": [
      "0.09046053886413574\n"
     ]
    },
    {
     "name": "stderr",
     "output_type": "stream",
     "text": [
      "\n",
      "  9%|███▊                                     | 92/1000 [00:08<01:20, 11.35it/s]\u001b[A"
     ]
    },
    {
     "name": "stdout",
     "output_type": "stream",
     "text": [
      "0.09029817581176758\n",
      "0.08459687232971191\n",
      "0.08884549140930176\n"
     ]
    },
    {
     "name": "stderr",
     "output_type": "stream",
     "text": [
      "\n",
      "  9%|███▊                                     | 94/1000 [00:08<01:20, 11.32it/s]\u001b[A"
     ]
    },
    {
     "name": "stdout",
     "output_type": "stream",
     "text": [
      "0.08787822723388672\n",
      "0.08608531951904297\n"
     ]
    },
    {
     "name": "stderr",
     "output_type": "stream",
     "text": [
      "\n",
      " 10%|███▉                                     | 96/1000 [00:08<01:19, 11.31it/s]\u001b[A"
     ]
    },
    {
     "name": "stdout",
     "output_type": "stream",
     "text": [
      "0.08994793891906738\n"
     ]
    },
    {
     "name": "stderr",
     "output_type": "stream",
     "text": [
      "\n",
      " 10%|████                                     | 98/1000 [00:08<01:19, 11.33it/s]\u001b[A"
     ]
    },
    {
     "name": "stdout",
     "output_type": "stream",
     "text": [
      "0.08995842933654785\n",
      "0.08495140075683594\n",
      "0.08952474594116211\n"
     ]
    },
    {
     "name": "stderr",
     "output_type": "stream",
     "text": [
      "\n",
      " 10%|████                                    | 100/1000 [00:08<01:19, 11.28it/s]\u001b[A"
     ]
    },
    {
     "name": "stdout",
     "output_type": "stream",
     "text": [
      "0.08863425254821777\n",
      "0.08625435829162598\n"
     ]
    },
    {
     "name": "stderr",
     "output_type": "stream",
     "text": [
      "\n",
      " 10%|████                                    | 102/1000 [00:09<01:19, 11.32it/s]\u001b[A"
     ]
    },
    {
     "name": "stdout",
     "output_type": "stream",
     "text": [
      "0.08769464492797852\n"
     ]
    },
    {
     "name": "stderr",
     "output_type": "stream",
     "text": [
      "\n",
      " 10%|████▏                                   | 104/1000 [00:09<01:18, 11.37it/s]\u001b[A"
     ]
    },
    {
     "name": "stdout",
     "output_type": "stream",
     "text": [
      "0.0883474349975586\n",
      "0.08475565910339355\n",
      "0.08793258666992188\n"
     ]
    },
    {
     "name": "stderr",
     "output_type": "stream",
     "text": [
      "\n",
      " 11%|████▏                                   | 106/1000 [00:09<01:18, 11.36it/s]\u001b[A"
     ]
    },
    {
     "name": "stdout",
     "output_type": "stream",
     "text": [
      "0.08734941482543945\n",
      "0.08649921417236328\n"
     ]
    },
    {
     "name": "stderr",
     "output_type": "stream",
     "text": [
      "\n",
      " 11%|████▎                                   | 108/1000 [00:09<01:18, 11.38it/s]\u001b[A"
     ]
    },
    {
     "name": "stdout",
     "output_type": "stream",
     "text": [
      "0.0871572494506836\n"
     ]
    },
    {
     "name": "stderr",
     "output_type": "stream",
     "text": [
      "\n",
      " 11%|████▍                                   | 110/1000 [00:09<01:18, 11.41it/s]\u001b[A"
     ]
    },
    {
     "name": "stdout",
     "output_type": "stream",
     "text": [
      "0.08856320381164551\n",
      "0.0848691463470459\n",
      "0.08918166160583496\n"
     ]
    },
    {
     "name": "stderr",
     "output_type": "stream",
     "text": [
      "\n",
      " 11%|████▍                                   | 112/1000 [00:09<01:18, 11.36it/s]\u001b[A"
     ]
    },
    {
     "name": "stdout",
     "output_type": "stream",
     "text": [
      "0.08699798583984375\n",
      "0.08571314811706543\n"
     ]
    },
    {
     "name": "stderr",
     "output_type": "stream",
     "text": [
      "\n",
      " 11%|████▌                                   | 114/1000 [00:10<01:17, 11.39it/s]\u001b[A"
     ]
    },
    {
     "name": "stdout",
     "output_type": "stream",
     "text": [
      "0.08747625350952148\n"
     ]
    },
    {
     "name": "stderr",
     "output_type": "stream",
     "text": [
      "\n",
      " 12%|████▋                                   | 116/1000 [00:10<01:17, 11.39it/s]\u001b[A"
     ]
    },
    {
     "name": "stdout",
     "output_type": "stream",
     "text": [
      "0.08907532691955566\n",
      "0.08572244644165039\n",
      "0.08765697479248047\n"
     ]
    },
    {
     "name": "stderr",
     "output_type": "stream",
     "text": [
      "\n",
      " 12%|████▋                                   | 118/1000 [00:10<01:17, 11.34it/s]\u001b[A"
     ]
    },
    {
     "name": "stdout",
     "output_type": "stream",
     "text": [
      "0.08907914161682129\n",
      "0.0892031192779541\n"
     ]
    },
    {
     "name": "stderr",
     "output_type": "stream",
     "text": [
      "\n",
      " 12%|████▊                                   | 120/1000 [00:10<01:18, 11.26it/s]\u001b[A"
     ]
    },
    {
     "name": "stdout",
     "output_type": "stream",
     "text": [
      "0.09034895896911621\n"
     ]
    },
    {
     "name": "stderr",
     "output_type": "stream",
     "text": [
      "\n",
      " 12%|████▉                                   | 122/1000 [00:10<01:17, 11.31it/s]\u001b[A"
     ]
    },
    {
     "name": "stdout",
     "output_type": "stream",
     "text": [
      "0.08802962303161621\n",
      "0.08592677116394043\n",
      "0.08816099166870117\n"
     ]
    },
    {
     "name": "stderr",
     "output_type": "stream",
     "text": [
      "\n",
      " 12%|████▉                                   | 124/1000 [00:10<01:17, 11.29it/s]\u001b[A"
     ]
    },
    {
     "name": "stdout",
     "output_type": "stream",
     "text": [
      "0.08886122703552246\n",
      "0.08731937408447266\n"
     ]
    },
    {
     "name": "stderr",
     "output_type": "stream",
     "text": [
      "\n",
      " 13%|█████                                   | 126/1000 [00:11<01:17, 11.33it/s]\u001b[A"
     ]
    },
    {
     "name": "stdout",
     "output_type": "stream",
     "text": [
      "0.08676886558532715\n"
     ]
    },
    {
     "name": "stderr",
     "output_type": "stream",
     "text": [
      "\n",
      " 13%|█████                                   | 128/1000 [00:11<01:16, 11.38it/s]\u001b[A"
     ]
    },
    {
     "name": "stdout",
     "output_type": "stream",
     "text": [
      "0.08846783638000488\n",
      "0.08410429954528809\n",
      "0.08976125717163086\n"
     ]
    },
    {
     "name": "stderr",
     "output_type": "stream",
     "text": [
      "\n",
      " 13%|█████▏                                  | 130/1000 [00:11<01:16, 11.36it/s]\u001b[A"
     ]
    },
    {
     "name": "stdout",
     "output_type": "stream",
     "text": [
      "0.08610892295837402\n",
      "0.08717536926269531\n"
     ]
    },
    {
     "name": "stderr",
     "output_type": "stream",
     "text": [
      "\n",
      " 13%|█████▎                                  | 132/1000 [00:11<01:16, 11.39it/s]\u001b[A"
     ]
    },
    {
     "name": "stdout",
     "output_type": "stream",
     "text": [
      "0.08593988418579102\n"
     ]
    },
    {
     "name": "stderr",
     "output_type": "stream",
     "text": [
      "\n",
      " 13%|█████▎                                  | 134/1000 [00:11<01:16, 11.37it/s]\u001b[A"
     ]
    },
    {
     "name": "stdout",
     "output_type": "stream",
     "text": [
      "0.09012198448181152\n",
      "0.08545756340026855\n",
      "0.08964204788208008\n"
     ]
    },
    {
     "name": "stderr",
     "output_type": "stream",
     "text": [
      "\n",
      " 14%|█████▍                                  | 136/1000 [00:12<01:16, 11.28it/s]\u001b[A"
     ]
    },
    {
     "name": "stdout",
     "output_type": "stream",
     "text": [
      "0.08987665176391602\n",
      "0.08680367469787598\n"
     ]
    },
    {
     "name": "stderr",
     "output_type": "stream",
     "text": [
      "\n",
      " 14%|█████▌                                  | 138/1000 [00:12<01:16, 11.33it/s]\u001b[A"
     ]
    },
    {
     "name": "stdout",
     "output_type": "stream",
     "text": [
      "0.08662843704223633\n"
     ]
    },
    {
     "name": "stderr",
     "output_type": "stream",
     "text": [
      "\n",
      " 14%|█████▌                                  | 140/1000 [00:12<01:15, 11.39it/s]\u001b[A"
     ]
    },
    {
     "name": "stdout",
     "output_type": "stream",
     "text": [
      "0.08852815628051758\n",
      "0.08406829833984375\n",
      "0.08819937705993652\n"
     ]
    },
    {
     "name": "stderr",
     "output_type": "stream",
     "text": [
      "\n",
      " 14%|█████▋                                  | 142/1000 [00:12<01:15, 11.35it/s]\u001b[A"
     ]
    },
    {
     "name": "stdout",
     "output_type": "stream",
     "text": [
      "0.08821654319763184\n",
      "0.08605718612670898\n"
     ]
    },
    {
     "name": "stderr",
     "output_type": "stream",
     "text": [
      "\n",
      " 14%|█████▊                                  | 144/1000 [00:12<01:15, 11.34it/s]\u001b[A"
     ]
    },
    {
     "name": "stdout",
     "output_type": "stream",
     "text": [
      "0.08947539329528809\n"
     ]
    },
    {
     "name": "stderr",
     "output_type": "stream",
     "text": [
      "\n",
      " 15%|█████▊                                  | 146/1000 [00:12<01:15, 11.36it/s]\u001b[A"
     ]
    },
    {
     "name": "stdout",
     "output_type": "stream",
     "text": [
      "0.08980655670166016\n",
      "0.08410859107971191\n",
      "0.08846712112426758\n"
     ]
    },
    {
     "name": "stderr",
     "output_type": "stream",
     "text": [
      "\n",
      " 15%|█████▉                                  | 148/1000 [00:13<01:15, 11.28it/s]\u001b[A"
     ]
    },
    {
     "name": "stdout",
     "output_type": "stream",
     "text": [
      "0.09024810791015625\n",
      "0.0875394344329834\n"
     ]
    },
    {
     "name": "stderr",
     "output_type": "stream",
     "text": [
      "\n",
      " 15%|██████                                  | 150/1000 [00:13<01:15, 11.32it/s]\u001b[A"
     ]
    },
    {
     "name": "stdout",
     "output_type": "stream",
     "text": [
      "0.08686399459838867\n"
     ]
    },
    {
     "name": "stderr",
     "output_type": "stream",
     "text": [
      "\n",
      " 15%|██████                                  | 152/1000 [00:13<01:14, 11.34it/s]\u001b[A"
     ]
    },
    {
     "name": "stdout",
     "output_type": "stream",
     "text": [
      "0.0899193286895752\n",
      "0.0846409797668457\n",
      "0.08941793441772461\n"
     ]
    },
    {
     "name": "stderr",
     "output_type": "stream",
     "text": [
      "\n",
      " 15%|██████▏                                 | 154/1000 [00:13<01:14, 11.30it/s]\u001b[A"
     ]
    },
    {
     "name": "stdout",
     "output_type": "stream",
     "text": [
      "0.08798408508300781\n",
      "0.08699226379394531\n"
     ]
    },
    {
     "name": "stderr",
     "output_type": "stream",
     "text": [
      "\n",
      " 16%|██████▏                                 | 156/1000 [00:13<01:14, 11.32it/s]\u001b[A"
     ]
    },
    {
     "name": "stdout",
     "output_type": "stream",
     "text": [
      "0.08782219886779785\n"
     ]
    },
    {
     "name": "stderr",
     "output_type": "stream",
     "text": [
      "\n",
      " 16%|██████▎                                 | 158/1000 [00:13<01:14, 11.37it/s]\u001b[A"
     ]
    },
    {
     "name": "stdout",
     "output_type": "stream",
     "text": [
      "0.0881204605102539\n",
      "0.08452129364013672\n",
      "0.08907842636108398\n"
     ]
    },
    {
     "name": "stderr",
     "output_type": "stream",
     "text": [
      "\n",
      " 16%|██████▍                                 | 160/1000 [00:14<01:13, 11.36it/s]\u001b[A"
     ]
    },
    {
     "name": "stdout",
     "output_type": "stream",
     "text": [
      "0.08676695823669434\n",
      "0.08646821975708008\n"
     ]
    },
    {
     "name": "stderr",
     "output_type": "stream",
     "text": [
      "\n",
      " 16%|██████▍                                 | 162/1000 [00:14<01:13, 11.38it/s]\u001b[A"
     ]
    },
    {
     "name": "stdout",
     "output_type": "stream",
     "text": [
      "0.08732032775878906\n"
     ]
    },
    {
     "name": "stderr",
     "output_type": "stream",
     "text": [
      "\n",
      " 16%|██████▌                                 | 164/1000 [00:14<01:13, 11.40it/s]\u001b[A"
     ]
    },
    {
     "name": "stdout",
     "output_type": "stream",
     "text": [
      "0.08992576599121094\n",
      "0.08399295806884766\n",
      "0.08835887908935547\n"
     ]
    },
    {
     "name": "stderr",
     "output_type": "stream",
     "text": [
      "\n",
      " 17%|██████▋                                 | 166/1000 [00:14<01:13, 11.35it/s]\u001b[A"
     ]
    },
    {
     "name": "stdout",
     "output_type": "stream",
     "text": [
      "0.08851361274719238\n",
      "0.0870506763458252\n"
     ]
    },
    {
     "name": "stderr",
     "output_type": "stream",
     "text": [
      "\n",
      " 17%|██████▋                                 | 168/1000 [00:14<01:13, 11.35it/s]\u001b[A"
     ]
    },
    {
     "name": "stdout",
     "output_type": "stream",
     "text": [
      "0.0879204273223877\n"
     ]
    },
    {
     "name": "stderr",
     "output_type": "stream",
     "text": [
      "\n",
      " 17%|██████▊                                 | 170/1000 [00:15<01:12, 11.37it/s]\u001b[A"
     ]
    },
    {
     "name": "stdout",
     "output_type": "stream",
     "text": [
      "0.08961343765258789\n",
      "0.08454537391662598\n",
      "0.08842921257019043\n"
     ]
    },
    {
     "name": "stderr",
     "output_type": "stream",
     "text": [
      "\n",
      " 17%|██████▉                                 | 172/1000 [00:15<01:13, 11.33it/s]\u001b[A"
     ]
    },
    {
     "name": "stdout",
     "output_type": "stream",
     "text": [
      "0.0887598991394043\n",
      "0.08759784698486328\n"
     ]
    },
    {
     "name": "stderr",
     "output_type": "stream",
     "text": [
      "\n",
      " 17%|██████▉                                 | 174/1000 [00:15<01:13, 11.28it/s]\u001b[A"
     ]
    },
    {
     "name": "stdout",
     "output_type": "stream",
     "text": [
      "0.09025716781616211\n"
     ]
    },
    {
     "name": "stderr",
     "output_type": "stream",
     "text": [
      "\n",
      " 18%|███████                                 | 176/1000 [00:15<01:12, 11.32it/s]\u001b[A"
     ]
    },
    {
     "name": "stdout",
     "output_type": "stream",
     "text": [
      "0.08981704711914062\n",
      "0.08417987823486328\n",
      "0.08831405639648438\n"
     ]
    },
    {
     "name": "stderr",
     "output_type": "stream",
     "text": [
      "\n",
      " 18%|███████                                 | 178/1000 [00:15<01:12, 11.34it/s]\u001b[A"
     ]
    },
    {
     "name": "stdout",
     "output_type": "stream",
     "text": [
      "0.08660101890563965\n",
      "0.08758854866027832\n"
     ]
    },
    {
     "name": "stderr",
     "output_type": "stream",
     "text": [
      "\n",
      " 18%|███████▏                                | 180/1000 [00:15<01:12, 11.30it/s]\u001b[A"
     ]
    },
    {
     "name": "stdout",
     "output_type": "stream",
     "text": [
      "0.08946561813354492\n"
     ]
    },
    {
     "name": "stderr",
     "output_type": "stream",
     "text": [
      "\n",
      " 18%|███████▎                                | 182/1000 [00:16<01:12, 11.34it/s]\u001b[A"
     ]
    },
    {
     "name": "stdout",
     "output_type": "stream",
     "text": [
      "0.08850598335266113\n",
      "0.08549213409423828\n",
      "0.09383821487426758\n"
     ]
    },
    {
     "name": "stderr",
     "output_type": "stream",
     "text": [
      "\n",
      " 18%|███████▎                                | 184/1000 [00:16<01:12, 11.21it/s]\u001b[A"
     ]
    },
    {
     "name": "stdout",
     "output_type": "stream",
     "text": [
      "0.08787155151367188\n",
      "0.08716249465942383\n"
     ]
    },
    {
     "name": "stderr",
     "output_type": "stream",
     "text": [
      "\n",
      " 19%|███████▍                                | 186/1000 [00:16<01:12, 11.26it/s]\u001b[A"
     ]
    },
    {
     "name": "stdout",
     "output_type": "stream",
     "text": [
      "0.08779096603393555\n"
     ]
    },
    {
     "name": "stderr",
     "output_type": "stream",
     "text": [
      "\n",
      " 19%|███████▌                                | 188/1000 [00:16<01:11, 11.30it/s]\u001b[A"
     ]
    },
    {
     "name": "stdout",
     "output_type": "stream",
     "text": [
      "0.08946967124938965\n",
      "0.08469867706298828\n",
      "0.09004592895507812\n"
     ]
    },
    {
     "name": "stderr",
     "output_type": "stream",
     "text": [
      "\n",
      " 19%|███████▌                                | 190/1000 [00:16<01:11, 11.25it/s]\u001b[A"
     ]
    },
    {
     "name": "stdout",
     "output_type": "stream",
     "text": [
      "0.08837699890136719\n",
      "0.08684754371643066\n"
     ]
    },
    {
     "name": "stderr",
     "output_type": "stream",
     "text": [
      "\n",
      " 19%|███████▋                                | 192/1000 [00:16<01:11, 11.30it/s]\u001b[A"
     ]
    },
    {
     "name": "stdout",
     "output_type": "stream",
     "text": [
      "0.08725118637084961\n"
     ]
    },
    {
     "name": "stderr",
     "output_type": "stream",
     "text": [
      "\n",
      " 19%|███████▊                                | 194/1000 [00:17<01:10, 11.36it/s]\u001b[A"
     ]
    },
    {
     "name": "stdout",
     "output_type": "stream",
     "text": [
      "0.0884547233581543\n",
      "0.08453011512756348\n",
      "0.09023523330688477\n"
     ]
    },
    {
     "name": "stderr",
     "output_type": "stream",
     "text": [
      "\n",
      " 20%|███████▊                                | 196/1000 [00:17<01:11, 11.30it/s]\u001b[A"
     ]
    },
    {
     "name": "stdout",
     "output_type": "stream",
     "text": [
      "0.0874929428100586\n",
      "0.08614850044250488\n"
     ]
    },
    {
     "name": "stderr",
     "output_type": "stream",
     "text": [
      "\n",
      " 20%|███████▉                                | 198/1000 [00:17<01:10, 11.34it/s]\u001b[A"
     ]
    },
    {
     "name": "stdout",
     "output_type": "stream",
     "text": [
      "0.08747124671936035\n"
     ]
    },
    {
     "name": "stderr",
     "output_type": "stream",
     "text": [
      "\n",
      " 20%|████████                                | 200/1000 [00:17<01:10, 11.38it/s]\u001b[A"
     ]
    },
    {
     "name": "stdout",
     "output_type": "stream",
     "text": [
      "0.08913445472717285\n",
      "0.08429145812988281\n",
      "0.08970189094543457\n"
     ]
    },
    {
     "name": "stderr",
     "output_type": "stream",
     "text": [
      "\n",
      " 20%|████████                                | 202/1000 [00:17<01:10, 11.35it/s]\u001b[A"
     ]
    },
    {
     "name": "stdout",
     "output_type": "stream",
     "text": [
      "0.08649253845214844\n",
      "0.08751988410949707\n"
     ]
    },
    {
     "name": "stderr",
     "output_type": "stream",
     "text": [
      "\n",
      " 20%|████████▏                               | 204/1000 [00:18<01:10, 11.35it/s]\u001b[A"
     ]
    },
    {
     "name": "stdout",
     "output_type": "stream",
     "text": [
      "0.08759045600891113\n"
     ]
    },
    {
     "name": "stderr",
     "output_type": "stream",
     "text": [
      "\n",
      " 21%|████████▏                               | 206/1000 [00:18<01:09, 11.39it/s]\u001b[A"
     ]
    },
    {
     "name": "stdout",
     "output_type": "stream",
     "text": [
      "0.08887290954589844\n",
      "0.08411979675292969\n",
      "0.08923888206481934\n"
     ]
    },
    {
     "name": "stderr",
     "output_type": "stream",
     "text": [
      "\n",
      " 21%|████████▎                               | 208/1000 [00:18<01:09, 11.36it/s]\u001b[A"
     ]
    },
    {
     "name": "stdout",
     "output_type": "stream",
     "text": [
      "0.08713269233703613\n",
      "0.08800983428955078\n"
     ]
    },
    {
     "name": "stderr",
     "output_type": "stream",
     "text": [
      "\n",
      " 21%|████████▍                               | 210/1000 [00:18<01:09, 11.35it/s]\u001b[A"
     ]
    },
    {
     "name": "stdout",
     "output_type": "stream",
     "text": [
      "0.08739376068115234\n"
     ]
    },
    {
     "name": "stderr",
     "output_type": "stream",
     "text": [
      "\n",
      " 21%|████████▍                               | 212/1000 [00:18<01:09, 11.35it/s]\u001b[A"
     ]
    },
    {
     "name": "stdout",
     "output_type": "stream",
     "text": [
      "0.09004878997802734\n",
      "0.08488106727600098\n",
      "0.09025192260742188\n"
     ]
    },
    {
     "name": "stderr",
     "output_type": "stream",
     "text": [
      "\n",
      " 21%|████████▌                               | 214/1000 [00:18<01:09, 11.28it/s]\u001b[A"
     ]
    },
    {
     "name": "stdout",
     "output_type": "stream",
     "text": [
      "0.08788251876831055\n",
      "0.08679533004760742\n"
     ]
    },
    {
     "name": "stderr",
     "output_type": "stream",
     "text": [
      "\n",
      " 22%|████████▋                               | 216/1000 [00:19<01:09, 11.29it/s]\u001b[A"
     ]
    },
    {
     "name": "stdout",
     "output_type": "stream",
     "text": [
      "0.08854913711547852\n"
     ]
    },
    {
     "name": "stderr",
     "output_type": "stream",
     "text": [
      "\n",
      " 22%|████████▋                               | 218/1000 [00:19<01:09, 11.31it/s]\u001b[A"
     ]
    },
    {
     "name": "stdout",
     "output_type": "stream",
     "text": [
      "0.08991003036499023\n",
      "0.0850365161895752\n",
      "0.08920860290527344\n"
     ]
    },
    {
     "name": "stderr",
     "output_type": "stream",
     "text": [
      "\n",
      " 22%|████████▊                               | 220/1000 [00:19<01:09, 11.30it/s]\u001b[A"
     ]
    },
    {
     "name": "stdout",
     "output_type": "stream",
     "text": [
      "0.08723855018615723\n",
      "0.08629751205444336\n"
     ]
    },
    {
     "name": "stderr",
     "output_type": "stream",
     "text": [
      "\n",
      " 22%|████████▉                               | 222/1000 [00:19<01:08, 11.34it/s]\u001b[A"
     ]
    },
    {
     "name": "stdout",
     "output_type": "stream",
     "text": [
      "0.08751296997070312\n"
     ]
    },
    {
     "name": "stderr",
     "output_type": "stream",
     "text": [
      "\n",
      " 22%|████████▉                               | 224/1000 [00:19<01:08, 11.35it/s]\u001b[A"
     ]
    },
    {
     "name": "stdout",
     "output_type": "stream",
     "text": [
      "0.08985447883605957\n",
      "0.08519673347473145\n",
      "0.0892479419708252\n"
     ]
    },
    {
     "name": "stderr",
     "output_type": "stream",
     "text": [
      "\n",
      " 23%|█████████                               | 226/1000 [00:19<01:08, 11.32it/s]\u001b[A"
     ]
    },
    {
     "name": "stdout",
     "output_type": "stream",
     "text": [
      "0.08739161491394043\n",
      "0.08664083480834961\n"
     ]
    },
    {
     "name": "stderr",
     "output_type": "stream",
     "text": [
      "\n",
      " 23%|█████████                               | 228/1000 [00:20<01:08, 11.35it/s]\u001b[A"
     ]
    },
    {
     "name": "stdout",
     "output_type": "stream",
     "text": [
      "0.08742856979370117\n"
     ]
    },
    {
     "name": "stderr",
     "output_type": "stream",
     "text": [
      "\n",
      " 23%|█████████▏                              | 230/1000 [00:20<01:07, 11.39it/s]\u001b[A"
     ]
    },
    {
     "name": "stdout",
     "output_type": "stream",
     "text": [
      "0.0884397029876709\n",
      "0.08450436592102051\n",
      "0.08942818641662598\n"
     ]
    },
    {
     "name": "stderr",
     "output_type": "stream",
     "text": [
      "\n",
      " 23%|█████████▎                              | 232/1000 [00:20<01:07, 11.35it/s]\u001b[A"
     ]
    },
    {
     "name": "stdout",
     "output_type": "stream",
     "text": [
      "0.08736443519592285\n",
      "0.08734798431396484\n"
     ]
    },
    {
     "name": "stderr",
     "output_type": "stream",
     "text": [
      "\n",
      " 23%|█████████▎                              | 234/1000 [00:20<01:07, 11.36it/s]\u001b[A"
     ]
    },
    {
     "name": "stdout",
     "output_type": "stream",
     "text": [
      "0.08738493919372559\n"
     ]
    },
    {
     "name": "stderr",
     "output_type": "stream",
     "text": [
      "\n",
      " 24%|█████████▍                              | 236/1000 [00:20<01:07, 11.37it/s]\u001b[A"
     ]
    },
    {
     "name": "stdout",
     "output_type": "stream",
     "text": [
      "0.0891118049621582\n",
      "0.08494949340820312\n",
      "0.09019160270690918\n"
     ]
    },
    {
     "name": "stderr",
     "output_type": "stream",
     "text": [
      "\n",
      " 24%|█████████▌                              | 238/1000 [00:21<01:07, 11.32it/s]\u001b[A"
     ]
    },
    {
     "name": "stdout",
     "output_type": "stream",
     "text": [
      "0.08754205703735352\n",
      "0.08713221549987793\n"
     ]
    },
    {
     "name": "stderr",
     "output_type": "stream",
     "text": [
      "\n",
      " 24%|█████████▌                              | 240/1000 [00:21<01:07, 11.33it/s]\u001b[A"
     ]
    },
    {
     "name": "stdout",
     "output_type": "stream",
     "text": [
      "0.08801889419555664\n"
     ]
    },
    {
     "name": "stderr",
     "output_type": "stream",
     "text": [
      "\n",
      " 24%|█████████▋                              | 242/1000 [00:21<01:06, 11.34it/s]\u001b[A"
     ]
    },
    {
     "name": "stdout",
     "output_type": "stream",
     "text": [
      "0.09007000923156738\n",
      "0.08457612991333008\n",
      "0.08923697471618652\n"
     ]
    },
    {
     "name": "stderr",
     "output_type": "stream",
     "text": [
      "\n",
      " 24%|█████████▊                              | 244/1000 [00:21<01:06, 11.32it/s]\u001b[A"
     ]
    },
    {
     "name": "stdout",
     "output_type": "stream",
     "text": [
      "0.08708310127258301\n",
      "0.08732175827026367\n"
     ]
    },
    {
     "name": "stderr",
     "output_type": "stream",
     "text": [
      "\n",
      " 25%|█████████▊                              | 246/1000 [00:21<01:06, 11.32it/s]\u001b[A"
     ]
    },
    {
     "name": "stdout",
     "output_type": "stream",
     "text": [
      "0.08798456192016602\n"
     ]
    },
    {
     "name": "stderr",
     "output_type": "stream",
     "text": [
      "\n",
      " 25%|█████████▉                              | 248/1000 [00:21<01:06, 11.34it/s]\u001b[A"
     ]
    },
    {
     "name": "stdout",
     "output_type": "stream",
     "text": [
      "0.09043145179748535\n",
      "0.08430624008178711\n",
      "0.08830738067626953\n"
     ]
    },
    {
     "name": "stderr",
     "output_type": "stream",
     "text": [
      "\n",
      " 25%|██████████                              | 250/1000 [00:22<01:06, 11.34it/s]\u001b[A"
     ]
    },
    {
     "name": "stdout",
     "output_type": "stream",
     "text": [
      "0.0869300365447998\n",
      "0.08736562728881836\n"
     ]
    },
    {
     "name": "stderr",
     "output_type": "stream",
     "text": [
      "\n",
      " 25%|██████████                              | 252/1000 [00:22<01:05, 11.35it/s]\u001b[A"
     ]
    },
    {
     "name": "stdout",
     "output_type": "stream",
     "text": [
      "0.08748722076416016\n"
     ]
    },
    {
     "name": "stderr",
     "output_type": "stream",
     "text": [
      "\n",
      " 25%|██████████▏                             | 254/1000 [00:22<01:05, 11.38it/s]\u001b[A"
     ]
    },
    {
     "name": "stdout",
     "output_type": "stream",
     "text": [
      "0.08890390396118164\n",
      "0.08452415466308594\n",
      "0.08890962600708008\n"
     ]
    },
    {
     "name": "stderr",
     "output_type": "stream",
     "text": [
      "\n",
      " 26%|██████████▏                             | 256/1000 [00:22<01:05, 11.35it/s]\u001b[A"
     ]
    },
    {
     "name": "stdout",
     "output_type": "stream",
     "text": [
      "0.08731198310852051\n",
      "0.0866689682006836\n"
     ]
    },
    {
     "name": "stderr",
     "output_type": "stream",
     "text": [
      "\n",
      " 26%|██████████▎                             | 258/1000 [00:22<01:05, 11.37it/s]\u001b[A"
     ]
    },
    {
     "name": "stdout",
     "output_type": "stream",
     "text": [
      "0.0873563289642334\n"
     ]
    },
    {
     "name": "stderr",
     "output_type": "stream",
     "text": [
      "\n",
      " 26%|██████████▍                             | 260/1000 [00:22<01:04, 11.39it/s]\u001b[A"
     ]
    },
    {
     "name": "stdout",
     "output_type": "stream",
     "text": [
      "0.08835196495056152\n",
      "0.08521795272827148\n",
      "0.09048128128051758\n"
     ]
    },
    {
     "name": "stderr",
     "output_type": "stream",
     "text": [
      "\n",
      " 26%|██████████▍                             | 262/1000 [00:23<01:05, 11.33it/s]\u001b[A"
     ]
    },
    {
     "name": "stdout",
     "output_type": "stream",
     "text": [
      "0.08732080459594727\n",
      "0.08591723442077637\n"
     ]
    },
    {
     "name": "stderr",
     "output_type": "stream",
     "text": [
      "\n",
      " 26%|██████████▌                             | 264/1000 [00:23<01:04, 11.37it/s]\u001b[A"
     ]
    },
    {
     "name": "stdout",
     "output_type": "stream",
     "text": [
      "0.08736824989318848\n"
     ]
    },
    {
     "name": "stderr",
     "output_type": "stream",
     "text": [
      "\n",
      " 27%|██████████▋                             | 266/1000 [00:23<01:04, 11.39it/s]\u001b[A"
     ]
    },
    {
     "name": "stdout",
     "output_type": "stream",
     "text": [
      "0.08936119079589844\n",
      "0.08438920974731445\n",
      "0.0931851863861084\n"
     ]
    },
    {
     "name": "stderr",
     "output_type": "stream",
     "text": [
      "\n",
      " 27%|██████████▋                             | 268/1000 [00:23<01:04, 11.28it/s]\u001b[A"
     ]
    },
    {
     "name": "stdout",
     "output_type": "stream",
     "text": [
      "0.08690857887268066\n",
      "0.08740377426147461\n"
     ]
    },
    {
     "name": "stderr",
     "output_type": "stream",
     "text": [
      "\n",
      " 27%|██████████▊                             | 270/1000 [00:23<01:04, 11.32it/s]\u001b[A"
     ]
    },
    {
     "name": "stdout",
     "output_type": "stream",
     "text": [
      "0.08696293830871582\n"
     ]
    },
    {
     "name": "stderr",
     "output_type": "stream",
     "text": [
      "\n",
      " 27%|██████████▉                             | 272/1000 [00:24<01:04, 11.34it/s]\u001b[A"
     ]
    },
    {
     "name": "stdout",
     "output_type": "stream",
     "text": [
      "0.08933472633361816\n",
      "0.08530187606811523\n",
      "0.09040665626525879\n"
     ]
    },
    {
     "name": "stderr",
     "output_type": "stream",
     "text": [
      "\n",
      " 27%|██████████▉                             | 274/1000 [00:24<01:04, 11.28it/s]\u001b[A"
     ]
    },
    {
     "name": "stdout",
     "output_type": "stream",
     "text": [
      "0.08783340454101562\n",
      "0.0883939266204834\n"
     ]
    },
    {
     "name": "stderr",
     "output_type": "stream",
     "text": [
      "\n",
      " 28%|███████████                             | 276/1000 [00:24<01:04, 11.28it/s]\u001b[A"
     ]
    },
    {
     "name": "stdout",
     "output_type": "stream",
     "text": [
      "0.08765983581542969\n"
     ]
    },
    {
     "name": "stderr",
     "output_type": "stream",
     "text": [
      "\n",
      " 28%|███████████                             | 278/1000 [00:24<01:03, 11.35it/s]\u001b[A"
     ]
    },
    {
     "name": "stdout",
     "output_type": "stream",
     "text": [
      "0.08840799331665039\n",
      "0.08430814743041992\n",
      "0.08902144432067871\n"
     ]
    },
    {
     "name": "stderr",
     "output_type": "stream",
     "text": [
      "\n",
      " 28%|███████████▏                            | 280/1000 [00:24<01:03, 11.33it/s]\u001b[A"
     ]
    },
    {
     "name": "stdout",
     "output_type": "stream",
     "text": [
      "0.08709096908569336\n",
      "0.08782529830932617\n"
     ]
    },
    {
     "name": "stderr",
     "output_type": "stream",
     "text": [
      "\n",
      " 28%|███████████▎                            | 282/1000 [00:24<01:03, 11.33it/s]\u001b[A"
     ]
    },
    {
     "name": "stdout",
     "output_type": "stream",
     "text": [
      "0.08720922470092773\n"
     ]
    },
    {
     "name": "stderr",
     "output_type": "stream",
     "text": [
      "\n",
      " 28%|███████████▎                            | 284/1000 [00:25<01:03, 11.34it/s]\u001b[A"
     ]
    },
    {
     "name": "stdout",
     "output_type": "stream",
     "text": [
      "0.0898134708404541\n",
      "0.08488917350769043\n",
      "0.08995699882507324\n"
     ]
    },
    {
     "name": "stderr",
     "output_type": "stream",
     "text": [
      "\n",
      " 29%|███████████▍                            | 286/1000 [00:25<01:03, 11.30it/s]\u001b[A"
     ]
    },
    {
     "name": "stdout",
     "output_type": "stream",
     "text": [
      "0.08729362487792969\n",
      "0.08768773078918457\n"
     ]
    },
    {
     "name": "stderr",
     "output_type": "stream",
     "text": [
      "\n",
      " 29%|███████████▌                            | 288/1000 [00:25<01:02, 11.32it/s]\u001b[A"
     ]
    },
    {
     "name": "stdout",
     "output_type": "stream",
     "text": [
      "0.08751606941223145\n"
     ]
    },
    {
     "name": "stderr",
     "output_type": "stream",
     "text": [
      "\n",
      " 29%|███████████▌                            | 290/1000 [00:25<01:02, 11.36it/s]\u001b[A"
     ]
    },
    {
     "name": "stdout",
     "output_type": "stream",
     "text": [
      "0.0896291732788086\n",
      "0.08420634269714355\n",
      "0.09042501449584961\n"
     ]
    },
    {
     "name": "stderr",
     "output_type": "stream",
     "text": [
      "\n",
      " 29%|███████████▋                            | 292/1000 [00:25<01:02, 11.30it/s]\u001b[A"
     ]
    },
    {
     "name": "stdout",
     "output_type": "stream",
     "text": [
      "0.08746981620788574\n",
      "0.08720254898071289\n"
     ]
    },
    {
     "name": "stderr",
     "output_type": "stream",
     "text": [
      "\n",
      " 29%|███████████▊                            | 294/1000 [00:25<01:02, 11.33it/s]\u001b[A"
     ]
    },
    {
     "name": "stdout",
     "output_type": "stream",
     "text": [
      "0.08710908889770508\n"
     ]
    },
    {
     "name": "stderr",
     "output_type": "stream",
     "text": [
      "\n",
      " 30%|███████████▊                            | 296/1000 [00:26<01:01, 11.36it/s]\u001b[A"
     ]
    },
    {
     "name": "stdout",
     "output_type": "stream",
     "text": [
      "0.08959174156188965\n",
      "0.08416867256164551\n",
      "0.08954048156738281\n"
     ]
    },
    {
     "name": "stderr",
     "output_type": "stream",
     "text": [
      "\n",
      " 30%|███████████▉                            | 298/1000 [00:26<01:01, 11.32it/s]\u001b[A"
     ]
    },
    {
     "name": "stdout",
     "output_type": "stream",
     "text": [
      "0.08739519119262695\n",
      "0.08742880821228027\n"
     ]
    },
    {
     "name": "stderr",
     "output_type": "stream",
     "text": [
      "\n",
      " 30%|████████████                            | 300/1000 [00:26<01:01, 11.33it/s]\u001b[A"
     ]
    },
    {
     "name": "stdout",
     "output_type": "stream",
     "text": [
      "0.08795046806335449\n"
     ]
    },
    {
     "name": "stderr",
     "output_type": "stream",
     "text": [
      "\n",
      " 30%|████████████                            | 302/1000 [00:26<01:01, 11.34it/s]\u001b[A"
     ]
    },
    {
     "name": "stdout",
     "output_type": "stream",
     "text": [
      "0.08998513221740723\n",
      "0.08490681648254395\n",
      "0.0905296802520752\n"
     ]
    },
    {
     "name": "stderr",
     "output_type": "stream",
     "text": [
      "\n",
      " 30%|████████████▏                           | 304/1000 [00:26<01:01, 11.29it/s]\u001b[A"
     ]
    },
    {
     "name": "stdout",
     "output_type": "stream",
     "text": [
      "0.08711504936218262\n",
      "0.08642983436584473\n"
     ]
    },
    {
     "name": "stderr",
     "output_type": "stream",
     "text": [
      "\n",
      " 31%|████████████▏                           | 306/1000 [00:27<01:01, 11.24it/s]\u001b[A"
     ]
    },
    {
     "name": "stdout",
     "output_type": "stream",
     "text": [
      "0.0922088623046875\n"
     ]
    },
    {
     "name": "stderr",
     "output_type": "stream",
     "text": [
      "\n",
      " 31%|████████████▎                           | 308/1000 [00:27<01:01, 11.30it/s]\u001b[A"
     ]
    },
    {
     "name": "stdout",
     "output_type": "stream",
     "text": [
      "0.08882594108581543\n",
      "0.08458566665649414\n",
      "0.08831596374511719\n"
     ]
    },
    {
     "name": "stderr",
     "output_type": "stream",
     "text": [
      "\n",
      " 31%|████████████▍                           | 310/1000 [00:27<01:00, 11.32it/s]\u001b[A"
     ]
    },
    {
     "name": "stdout",
     "output_type": "stream",
     "text": [
      "0.0870218276977539\n",
      "0.08854126930236816\n"
     ]
    },
    {
     "name": "stderr",
     "output_type": "stream",
     "text": [
      "\n",
      " 31%|████████████▍                           | 312/1000 [00:27<01:00, 11.31it/s]\u001b[A"
     ]
    },
    {
     "name": "stdout",
     "output_type": "stream",
     "text": [
      "0.08763432502746582\n"
     ]
    },
    {
     "name": "stderr",
     "output_type": "stream",
     "text": [
      "\n",
      " 31%|████████████▌                           | 314/1000 [00:27<01:00, 11.34it/s]\u001b[A"
     ]
    },
    {
     "name": "stdout",
     "output_type": "stream",
     "text": [
      "0.08909869194030762\n",
      "0.08486080169677734\n",
      "0.09016132354736328\n"
     ]
    },
    {
     "name": "stderr",
     "output_type": "stream",
     "text": [
      "\n",
      " 32%|████████████▋                           | 316/1000 [00:27<01:00, 11.31it/s]\u001b[A"
     ]
    },
    {
     "name": "stdout",
     "output_type": "stream",
     "text": [
      "0.0870823860168457\n",
      "0.08850812911987305\n"
     ]
    },
    {
     "name": "stderr",
     "output_type": "stream",
     "text": [
      "\n",
      " 32%|████████████▋                           | 318/1000 [00:28<01:00, 11.30it/s]\u001b[A"
     ]
    },
    {
     "name": "stdout",
     "output_type": "stream",
     "text": [
      "0.08744168281555176\n"
     ]
    },
    {
     "name": "stderr",
     "output_type": "stream",
     "text": [
      "\n",
      " 32%|████████████▊                           | 320/1000 [00:28<01:00, 11.24it/s]\u001b[A"
     ]
    },
    {
     "name": "stdout",
     "output_type": "stream",
     "text": [
      "0.09162282943725586\n",
      "0.08751678466796875\n",
      "0.09646749496459961\n"
     ]
    },
    {
     "name": "stderr",
     "output_type": "stream",
     "text": [
      "\n",
      " 32%|████████████▉                           | 322/1000 [00:28<01:00, 11.12it/s]\u001b[A"
     ]
    },
    {
     "name": "stdout",
     "output_type": "stream",
     "text": [
      "0.08653903007507324\n",
      "0.08795714378356934\n"
     ]
    },
    {
     "name": "stderr",
     "output_type": "stream",
     "text": [
      "\n",
      " 32%|████████████▉                           | 324/1000 [00:28<01:00, 11.16it/s]\u001b[A"
     ]
    },
    {
     "name": "stdout",
     "output_type": "stream",
     "text": [
      "0.08850502967834473\n"
     ]
    },
    {
     "name": "stderr",
     "output_type": "stream",
     "text": [
      "\n",
      " 33%|█████████████                           | 326/1000 [00:28<01:00, 11.15it/s]\u001b[A"
     ]
    },
    {
     "name": "stdout",
     "output_type": "stream",
     "text": [
      "0.09163928031921387\n",
      "0.08684444427490234\n",
      "0.09028387069702148\n"
     ]
    },
    {
     "name": "stderr",
     "output_type": "stream",
     "text": [
      "\n",
      " 33%|█████████████                           | 328/1000 [00:28<01:00, 11.16it/s]\u001b[A"
     ]
    },
    {
     "name": "stdout",
     "output_type": "stream",
     "text": [
      "0.08725214004516602\n",
      "0.08846187591552734\n"
     ]
    },
    {
     "name": "stderr",
     "output_type": "stream",
     "text": [
      "\n",
      " 33%|█████████████▏                          | 330/1000 [00:29<00:59, 11.20it/s]\u001b[A"
     ]
    },
    {
     "name": "stdout",
     "output_type": "stream",
     "text": [
      "0.08769512176513672\n"
     ]
    },
    {
     "name": "stderr",
     "output_type": "stream",
     "text": [
      "\n",
      " 33%|█████████████▎                          | 332/1000 [00:29<00:59, 11.26it/s]\u001b[A"
     ]
    },
    {
     "name": "stdout",
     "output_type": "stream",
     "text": [
      "0.08973526954650879\n",
      "0.08452534675598145\n",
      "0.08973979949951172\n"
     ]
    },
    {
     "name": "stderr",
     "output_type": "stream",
     "text": [
      "\n",
      " 33%|█████████████▎                          | 334/1000 [00:29<00:59, 11.25it/s]\u001b[A"
     ]
    },
    {
     "name": "stdout",
     "output_type": "stream",
     "text": [
      "0.08739304542541504\n",
      "0.08691048622131348\n"
     ]
    },
    {
     "name": "stderr",
     "output_type": "stream",
     "text": [
      "\n",
      " 34%|█████████████▍                          | 336/1000 [00:29<00:58, 11.28it/s]\u001b[A"
     ]
    },
    {
     "name": "stdout",
     "output_type": "stream",
     "text": [
      "0.08804678916931152\n"
     ]
    },
    {
     "name": "stderr",
     "output_type": "stream",
     "text": [
      "\n",
      " 34%|█████████████▌                          | 338/1000 [00:29<00:58, 11.30it/s]\u001b[A"
     ]
    },
    {
     "name": "stdout",
     "output_type": "stream",
     "text": [
      "0.08982133865356445\n",
      "0.0856485366821289\n",
      "0.08991026878356934\n"
     ]
    },
    {
     "name": "stderr",
     "output_type": "stream",
     "text": [
      "\n",
      " 34%|█████████████▌                          | 340/1000 [00:30<00:58, 11.27it/s]\u001b[A"
     ]
    },
    {
     "name": "stdout",
     "output_type": "stream",
     "text": [
      "0.0876150131225586\n",
      "0.08703923225402832\n"
     ]
    },
    {
     "name": "stderr",
     "output_type": "stream",
     "text": [
      "\n",
      " 34%|█████████████▋                          | 342/1000 [00:30<00:58, 11.30it/s]\u001b[A"
     ]
    },
    {
     "name": "stdout",
     "output_type": "stream",
     "text": [
      "0.08734965324401855\n"
     ]
    },
    {
     "name": "stderr",
     "output_type": "stream",
     "text": [
      "\n",
      " 34%|█████████████▊                          | 344/1000 [00:30<00:57, 11.34it/s]\u001b[A"
     ]
    },
    {
     "name": "stdout",
     "output_type": "stream",
     "text": [
      "0.08926844596862793\n",
      "0.08469343185424805\n",
      "0.08968281745910645\n"
     ]
    },
    {
     "name": "stderr",
     "output_type": "stream",
     "text": [
      "\n",
      " 35%|█████████████▊                          | 346/1000 [00:30<00:58, 11.22it/s]\u001b[A"
     ]
    },
    {
     "name": "stdout",
     "output_type": "stream",
     "text": [
      "0.0918874740600586\n",
      "0.08823680877685547\n"
     ]
    },
    {
     "name": "stderr",
     "output_type": "stream",
     "text": [
      "\n",
      " 35%|█████████████▉                          | 348/1000 [00:30<00:58, 11.23it/s]\u001b[A"
     ]
    },
    {
     "name": "stdout",
     "output_type": "stream",
     "text": [
      "0.08833980560302734\n"
     ]
    },
    {
     "name": "stderr",
     "output_type": "stream",
     "text": [
      "\n",
      " 35%|██████████████                          | 350/1000 [00:30<00:57, 11.26it/s]\u001b[A"
     ]
    },
    {
     "name": "stdout",
     "output_type": "stream",
     "text": [
      "0.0905771255493164\n",
      "0.08474206924438477\n",
      "0.09024286270141602\n"
     ]
    },
    {
     "name": "stderr",
     "output_type": "stream",
     "text": [
      "\n",
      " 35%|██████████████                          | 352/1000 [00:31<00:57, 11.24it/s]\u001b[A"
     ]
    },
    {
     "name": "stdout",
     "output_type": "stream",
     "text": [
      "0.08750581741333008\n",
      "0.08821535110473633\n"
     ]
    },
    {
     "name": "stderr",
     "output_type": "stream",
     "text": [
      "\n",
      " 35%|██████████████▏                         | 354/1000 [00:31<00:57, 11.25it/s]\u001b[A"
     ]
    },
    {
     "name": "stdout",
     "output_type": "stream",
     "text": [
      "0.08779597282409668\n"
     ]
    },
    {
     "name": "stderr",
     "output_type": "stream",
     "text": [
      "\n",
      " 36%|██████████████▏                         | 356/1000 [00:31<00:57, 11.29it/s]\u001b[A"
     ]
    },
    {
     "name": "stdout",
     "output_type": "stream",
     "text": [
      "0.08974838256835938\n",
      "0.08512473106384277\n",
      "0.08946990966796875\n"
     ]
    },
    {
     "name": "stderr",
     "output_type": "stream",
     "text": [
      "\n",
      " 36%|██████████████▎                         | 358/1000 [00:31<00:56, 11.28it/s]\u001b[A"
     ]
    },
    {
     "name": "stdout",
     "output_type": "stream",
     "text": [
      "0.08678030967712402\n",
      "0.08798336982727051\n"
     ]
    },
    {
     "name": "stderr",
     "output_type": "stream",
     "text": [
      "\n",
      " 36%|██████████████▍                         | 360/1000 [00:31<00:56, 11.28it/s]\u001b[A"
     ]
    },
    {
     "name": "stdout",
     "output_type": "stream",
     "text": [
      "0.08823823928833008\n"
     ]
    },
    {
     "name": "stderr",
     "output_type": "stream",
     "text": [
      "\n",
      " 36%|██████████████▍                         | 362/1000 [00:31<00:56, 11.32it/s]\u001b[A"
     ]
    },
    {
     "name": "stdout",
     "output_type": "stream",
     "text": [
      "0.08935546875\n",
      "0.0849313735961914\n",
      "0.0900731086730957\n"
     ]
    },
    {
     "name": "stderr",
     "output_type": "stream",
     "text": [
      "\n",
      " 36%|██████████████▌                         | 364/1000 [00:32<00:56, 11.29it/s]\u001b[A"
     ]
    },
    {
     "name": "stdout",
     "output_type": "stream",
     "text": [
      "0.08681917190551758\n",
      "0.0869150161743164\n"
     ]
    },
    {
     "name": "stderr",
     "output_type": "stream",
     "text": [
      "\n",
      " 37%|██████████████▋                         | 366/1000 [00:32<00:55, 11.33it/s]\u001b[A"
     ]
    },
    {
     "name": "stdout",
     "output_type": "stream",
     "text": [
      "0.08726215362548828\n"
     ]
    },
    {
     "name": "stderr",
     "output_type": "stream",
     "text": [
      "\n",
      " 37%|██████████████▋                         | 368/1000 [00:32<00:55, 11.39it/s]\u001b[A"
     ]
    },
    {
     "name": "stdout",
     "output_type": "stream",
     "text": [
      "0.08843851089477539\n",
      "0.08412027359008789\n",
      "0.09047198295593262\n"
     ]
    },
    {
     "name": "stderr",
     "output_type": "stream",
     "text": [
      "\n",
      " 37%|██████████████▊                         | 370/1000 [00:32<00:55, 11.34it/s]\u001b[A"
     ]
    },
    {
     "name": "stdout",
     "output_type": "stream",
     "text": [
      "0.08653783798217773\n",
      "0.08806920051574707\n"
     ]
    },
    {
     "name": "stderr",
     "output_type": "stream",
     "text": [
      "\n",
      " 37%|██████████████▉                         | 372/1000 [00:32<00:55, 11.34it/s]\u001b[A"
     ]
    },
    {
     "name": "stdout",
     "output_type": "stream",
     "text": [
      "0.08739757537841797\n"
     ]
    },
    {
     "name": "stderr",
     "output_type": "stream",
     "text": [
      "\n",
      " 37%|██████████████▉                         | 374/1000 [00:33<00:55, 11.38it/s]\u001b[A"
     ]
    },
    {
     "name": "stdout",
     "output_type": "stream",
     "text": [
      "0.08820319175720215\n",
      "0.08486080169677734\n",
      "0.08887839317321777\n"
     ]
    },
    {
     "name": "stderr",
     "output_type": "stream",
     "text": [
      "\n",
      " 38%|███████████████                         | 376/1000 [00:33<00:54, 11.37it/s]\u001b[A"
     ]
    },
    {
     "name": "stdout",
     "output_type": "stream",
     "text": [
      "0.0863351821899414\n",
      "0.08806800842285156\n"
     ]
    },
    {
     "name": "stderr",
     "output_type": "stream",
     "text": [
      "\n",
      " 38%|███████████████                         | 378/1000 [00:33<00:54, 11.36it/s]\u001b[A"
     ]
    },
    {
     "name": "stdout",
     "output_type": "stream",
     "text": [
      "0.08703231811523438\n"
     ]
    },
    {
     "name": "stderr",
     "output_type": "stream",
     "text": [
      "\n",
      " 38%|███████████████▏                        | 380/1000 [00:33<00:54, 11.38it/s]\u001b[A"
     ]
    },
    {
     "name": "stdout",
     "output_type": "stream",
     "text": [
      "0.08898019790649414\n",
      "0.08469319343566895\n",
      "0.08968496322631836\n"
     ]
    },
    {
     "name": "stderr",
     "output_type": "stream",
     "text": [
      "\n",
      " 38%|███████████████▎                        | 382/1000 [00:33<00:54, 11.35it/s]\u001b[A"
     ]
    },
    {
     "name": "stdout",
     "output_type": "stream",
     "text": [
      "0.08678150177001953\n",
      "0.0879819393157959\n"
     ]
    },
    {
     "name": "stderr",
     "output_type": "stream",
     "text": [
      "\n",
      " 38%|███████████████▎                        | 384/1000 [00:33<00:54, 11.35it/s]\u001b[A"
     ]
    },
    {
     "name": "stdout",
     "output_type": "stream",
     "text": [
      "0.08686518669128418\n"
     ]
    },
    {
     "name": "stderr",
     "output_type": "stream",
     "text": [
      "\n",
      " 39%|███████████████▍                        | 386/1000 [00:34<00:54, 11.35it/s]\u001b[A"
     ]
    },
    {
     "name": "stdout",
     "output_type": "stream",
     "text": [
      "0.08984994888305664\n",
      "0.08490586280822754\n",
      "0.08948874473571777\n"
     ]
    },
    {
     "name": "stderr",
     "output_type": "stream",
     "text": [
      "\n",
      " 39%|███████████████▌                        | 388/1000 [00:34<00:54, 11.31it/s]\u001b[A"
     ]
    },
    {
     "name": "stdout",
     "output_type": "stream",
     "text": [
      "0.08776473999023438\n",
      "0.08738851547241211\n"
     ]
    },
    {
     "name": "stderr",
     "output_type": "stream",
     "text": [
      "\n",
      " 39%|███████████████▌                        | 390/1000 [00:34<00:53, 11.31it/s]\u001b[A"
     ]
    },
    {
     "name": "stdout",
     "output_type": "stream",
     "text": [
      "0.08818912506103516\n"
     ]
    },
    {
     "name": "stderr",
     "output_type": "stream",
     "text": [
      "\n",
      " 39%|███████████████▋                        | 392/1000 [00:34<00:53, 11.35it/s]\u001b[A"
     ]
    },
    {
     "name": "stdout",
     "output_type": "stream",
     "text": [
      "0.0889732837677002\n",
      "0.08462953567504883\n",
      "0.0904989242553711\n"
     ]
    },
    {
     "name": "stderr",
     "output_type": "stream",
     "text": [
      "\n",
      " 39%|███████████████▊                        | 394/1000 [00:34<00:53, 11.30it/s]\u001b[A"
     ]
    },
    {
     "name": "stdout",
     "output_type": "stream",
     "text": [
      "0.08727884292602539\n",
      "0.08766984939575195\n"
     ]
    },
    {
     "name": "stderr",
     "output_type": "stream",
     "text": [
      "\n",
      " 40%|███████████████▊                        | 396/1000 [00:34<00:53, 11.31it/s]\u001b[A"
     ]
    },
    {
     "name": "stdout",
     "output_type": "stream",
     "text": [
      "0.08762741088867188\n"
     ]
    },
    {
     "name": "stderr",
     "output_type": "stream",
     "text": [
      "\n",
      " 40%|███████████████▉                        | 398/1000 [00:35<00:53, 11.33it/s]\u001b[A"
     ]
    },
    {
     "name": "stdout",
     "output_type": "stream",
     "text": [
      "0.08910107612609863\n",
      "0.08538985252380371\n",
      "0.08964300155639648\n"
     ]
    },
    {
     "name": "stderr",
     "output_type": "stream",
     "text": [
      "\n",
      " 40%|████████████████                        | 400/1000 [00:35<00:53, 11.30it/s]\u001b[A"
     ]
    },
    {
     "name": "stdout",
     "output_type": "stream",
     "text": [
      "0.08740067481994629\n",
      "0.08707571029663086\n"
     ]
    },
    {
     "name": "stderr",
     "output_type": "stream",
     "text": [
      "\n",
      " 40%|████████████████                        | 402/1000 [00:35<00:52, 11.33it/s]\u001b[A"
     ]
    },
    {
     "name": "stdout",
     "output_type": "stream",
     "text": [
      "0.0872340202331543\n"
     ]
    },
    {
     "name": "stderr",
     "output_type": "stream",
     "text": [
      "\n",
      " 40%|████████████████▏                       | 404/1000 [00:35<00:52, 11.35it/s]\u001b[A"
     ]
    },
    {
     "name": "stdout",
     "output_type": "stream",
     "text": [
      "0.08958983421325684\n",
      "0.08467435836791992\n",
      "0.09021425247192383\n"
     ]
    },
    {
     "name": "stderr",
     "output_type": "stream",
     "text": [
      "\n",
      " 41%|████████████████▏                       | 406/1000 [00:35<00:52, 11.31it/s]\u001b[A"
     ]
    },
    {
     "name": "stdout",
     "output_type": "stream",
     "text": [
      "0.08714032173156738\n",
      "0.08737969398498535\n"
     ]
    },
    {
     "name": "stderr",
     "output_type": "stream",
     "text": [
      "\n",
      " 41%|████████████████▎                       | 408/1000 [00:36<00:52, 11.32it/s]\u001b[A"
     ]
    },
    {
     "name": "stdout",
     "output_type": "stream",
     "text": [
      "0.08774590492248535\n"
     ]
    },
    {
     "name": "stderr",
     "output_type": "stream",
     "text": [
      "\n",
      " 41%|████████████████▍                       | 410/1000 [00:36<00:52, 11.33it/s]\u001b[A"
     ]
    },
    {
     "name": "stdout",
     "output_type": "stream",
     "text": [
      "0.08991813659667969\n",
      "0.08505058288574219\n",
      "0.09039521217346191\n"
     ]
    },
    {
     "name": "stderr",
     "output_type": "stream",
     "text": [
      "\n",
      " 41%|████████████████▍                       | 412/1000 [00:36<00:52, 11.28it/s]\u001b[A"
     ]
    },
    {
     "name": "stdout",
     "output_type": "stream",
     "text": [
      "0.08756518363952637\n",
      "0.08924579620361328\n"
     ]
    },
    {
     "name": "stderr",
     "output_type": "stream",
     "text": [
      "\n",
      " 41%|████████████████▌                       | 414/1000 [00:36<00:52, 11.26it/s]\u001b[A"
     ]
    },
    {
     "name": "stdout",
     "output_type": "stream",
     "text": [
      "0.08803725242614746\n"
     ]
    },
    {
     "name": "stderr",
     "output_type": "stream",
     "text": [
      "\n",
      " 42%|████████████████▋                       | 416/1000 [00:36<00:51, 11.32it/s]\u001b[A"
     ]
    },
    {
     "name": "stdout",
     "output_type": "stream",
     "text": [
      "0.08839988708496094\n",
      "0.08510375022888184\n",
      "0.09056687355041504\n"
     ]
    },
    {
     "name": "stderr",
     "output_type": "stream",
     "text": [
      "\n",
      " 42%|████████████████▋                       | 418/1000 [00:36<00:51, 11.27it/s]\u001b[A"
     ]
    },
    {
     "name": "stdout",
     "output_type": "stream",
     "text": [
      "0.08747720718383789\n",
      "0.08747673034667969\n"
     ]
    },
    {
     "name": "stderr",
     "output_type": "stream",
     "text": [
      "\n",
      " 42%|████████████████▊                       | 420/1000 [00:37<00:51, 11.29it/s]\u001b[A"
     ]
    },
    {
     "name": "stdout",
     "output_type": "stream",
     "text": [
      "0.08753132820129395\n"
     ]
    },
    {
     "name": "stderr",
     "output_type": "stream",
     "text": [
      "\n",
      " 42%|████████████████▉                       | 422/1000 [00:37<00:51, 11.25it/s]\u001b[A"
     ]
    },
    {
     "name": "stdout",
     "output_type": "stream",
     "text": [
      "0.09272170066833496\n",
      "0.08527922630310059\n",
      "0.09005904197692871\n"
     ]
    },
    {
     "name": "stderr",
     "output_type": "stream",
     "text": [
      "\n",
      " 42%|████████████████▉                       | 424/1000 [00:37<00:51, 11.23it/s]\u001b[A"
     ]
    },
    {
     "name": "stdout",
     "output_type": "stream",
     "text": [
      "0.08791613578796387\n",
      "0.0876011848449707\n"
     ]
    },
    {
     "name": "stderr",
     "output_type": "stream",
     "text": [
      "\n",
      " 43%|█████████████████                       | 426/1000 [00:37<00:51, 11.25it/s]\u001b[A"
     ]
    },
    {
     "name": "stdout",
     "output_type": "stream",
     "text": [
      "0.08835172653198242\n"
     ]
    },
    {
     "name": "stderr",
     "output_type": "stream",
     "text": [
      "\n",
      " 43%|█████████████████                       | 428/1000 [00:37<00:50, 11.27it/s]\u001b[A"
     ]
    },
    {
     "name": "stdout",
     "output_type": "stream",
     "text": [
      "0.08996772766113281\n",
      "0.08576059341430664\n",
      "0.08961343765258789\n"
     ]
    },
    {
     "name": "stderr",
     "output_type": "stream",
     "text": [
      "\n",
      " 43%|█████████████████▏                      | 430/1000 [00:37<00:50, 11.24it/s]\u001b[A"
     ]
    },
    {
     "name": "stdout",
     "output_type": "stream",
     "text": [
      "0.08841943740844727\n",
      "0.08802533149719238\n"
     ]
    },
    {
     "name": "stderr",
     "output_type": "stream",
     "text": [
      "\n",
      " 43%|█████████████████▎                      | 432/1000 [00:38<00:50, 11.21it/s]\u001b[A"
     ]
    },
    {
     "name": "stdout",
     "output_type": "stream",
     "text": [
      "0.09023880958557129\n"
     ]
    },
    {
     "name": "stderr",
     "output_type": "stream",
     "text": [
      "\n",
      " 43%|█████████████████▎                      | 434/1000 [00:38<00:50, 11.28it/s]\u001b[A"
     ]
    },
    {
     "name": "stdout",
     "output_type": "stream",
     "text": [
      "0.08892154693603516\n",
      "0.08489990234375\n",
      "0.08990311622619629\n"
     ]
    },
    {
     "name": "stderr",
     "output_type": "stream",
     "text": [
      "\n",
      " 44%|█████████████████▍                      | 436/1000 [00:38<00:50, 11.26it/s]\u001b[A"
     ]
    },
    {
     "name": "stdout",
     "output_type": "stream",
     "text": [
      "0.08739638328552246\n",
      "0.08634471893310547\n"
     ]
    },
    {
     "name": "stderr",
     "output_type": "stream",
     "text": [
      "\n",
      " 44%|█████████████████▌                      | 438/1000 [00:38<00:49, 11.32it/s]\u001b[A"
     ]
    },
    {
     "name": "stdout",
     "output_type": "stream",
     "text": [
      "0.08708667755126953\n"
     ]
    },
    {
     "name": "stderr",
     "output_type": "stream",
     "text": [
      "\n",
      " 44%|█████████████████▌                      | 440/1000 [00:38<00:49, 11.32it/s]\u001b[A"
     ]
    },
    {
     "name": "stdout",
     "output_type": "stream",
     "text": [
      "0.08957314491271973\n",
      "0.08582258224487305\n",
      "0.08996915817260742\n"
     ]
    },
    {
     "name": "stderr",
     "output_type": "stream",
     "text": [
      "\n",
      " 44%|█████████████████▋                      | 442/1000 [00:39<00:49, 11.26it/s]\u001b[A"
     ]
    },
    {
     "name": "stdout",
     "output_type": "stream",
     "text": [
      "0.08835530281066895\n",
      "0.0870046615600586\n"
     ]
    },
    {
     "name": "stderr",
     "output_type": "stream",
     "text": [
      "\n",
      " 44%|█████████████████▊                      | 444/1000 [00:39<00:49, 11.28it/s]\u001b[A"
     ]
    },
    {
     "name": "stdout",
     "output_type": "stream",
     "text": [
      "0.08849787712097168\n"
     ]
    },
    {
     "name": "stderr",
     "output_type": "stream",
     "text": [
      "\n",
      " 45%|█████████████████▊                      | 446/1000 [00:39<00:48, 11.32it/s]\u001b[A"
     ]
    },
    {
     "name": "stdout",
     "output_type": "stream",
     "text": [
      "0.08897519111633301\n",
      "0.08506941795349121\n",
      "0.0896463394165039\n"
     ]
    },
    {
     "name": "stderr",
     "output_type": "stream",
     "text": [
      "\n",
      " 45%|█████████████████▉                      | 448/1000 [00:39<00:48, 11.30it/s]\u001b[A"
     ]
    },
    {
     "name": "stdout",
     "output_type": "stream",
     "text": [
      "0.08716511726379395\n",
      "0.0866539478302002\n"
     ]
    },
    {
     "name": "stderr",
     "output_type": "stream",
     "text": [
      "\n",
      " 45%|██████████████████                      | 450/1000 [00:39<00:48, 11.32it/s]\u001b[A"
     ]
    },
    {
     "name": "stdout",
     "output_type": "stream",
     "text": [
      "0.08803844451904297\n"
     ]
    },
    {
     "name": "stderr",
     "output_type": "stream",
     "text": [
      "\n",
      " 45%|██████████████████                      | 452/1000 [00:39<00:48, 11.34it/s]\u001b[A"
     ]
    },
    {
     "name": "stdout",
     "output_type": "stream",
     "text": [
      "0.08931446075439453\n",
      "0.08489346504211426\n",
      "0.09056282043457031\n"
     ]
    },
    {
     "name": "stderr",
     "output_type": "stream",
     "text": [
      "\n",
      " 45%|██████████████████▏                     | 454/1000 [00:40<00:48, 11.27it/s]\u001b[A"
     ]
    },
    {
     "name": "stdout",
     "output_type": "stream",
     "text": [
      "0.08834719657897949\n",
      "0.08716988563537598\n"
     ]
    },
    {
     "name": "stderr",
     "output_type": "stream",
     "text": [
      "\n",
      " 46%|██████████████████▏                     | 456/1000 [00:40<00:48, 11.29it/s]\u001b[A"
     ]
    },
    {
     "name": "stdout",
     "output_type": "stream",
     "text": [
      "0.0882866382598877\n"
     ]
    },
    {
     "name": "stderr",
     "output_type": "stream",
     "text": [
      "\n",
      " 46%|██████████████████▎                     | 458/1000 [00:40<00:47, 11.31it/s]\u001b[A"
     ]
    },
    {
     "name": "stdout",
     "output_type": "stream",
     "text": [
      "0.08928394317626953\n",
      "0.08559894561767578\n",
      "0.08968091011047363\n"
     ]
    },
    {
     "name": "stderr",
     "output_type": "stream",
     "text": [
      "\n",
      " 46%|██████████████████▍                     | 460/1000 [00:40<00:47, 11.30it/s]\u001b[A"
     ]
    },
    {
     "name": "stdout",
     "output_type": "stream",
     "text": [
      "0.08669018745422363\n",
      "0.08802938461303711\n"
     ]
    },
    {
     "name": "stderr",
     "output_type": "stream",
     "text": [
      "\n",
      " 46%|██████████████████▍                     | 462/1000 [00:40<00:47, 11.27it/s]\u001b[A"
     ]
    },
    {
     "name": "stdout",
     "output_type": "stream",
     "text": [
      "0.08919477462768555\n"
     ]
    },
    {
     "name": "stderr",
     "output_type": "stream",
     "text": [
      "\n",
      " 46%|██████████████████▌                     | 464/1000 [00:41<00:47, 11.27it/s]\u001b[A"
     ]
    },
    {
     "name": "stdout",
     "output_type": "stream",
     "text": [
      "0.08959627151489258\n",
      "0.08679080009460449\n",
      "0.09008359909057617\n"
     ]
    },
    {
     "name": "stderr",
     "output_type": "stream",
     "text": [
      "\n",
      " 47%|██████████████████▋                     | 466/1000 [00:41<00:47, 11.23it/s]\u001b[A"
     ]
    },
    {
     "name": "stdout",
     "output_type": "stream",
     "text": [
      "0.08821582794189453\n",
      "0.08761119842529297\n"
     ]
    },
    {
     "name": "stderr",
     "output_type": "stream",
     "text": [
      "\n",
      " 47%|██████████████████▋                     | 468/1000 [00:41<00:47, 11.24it/s]\u001b[A"
     ]
    },
    {
     "name": "stdout",
     "output_type": "stream",
     "text": [
      "0.08909845352172852\n"
     ]
    },
    {
     "name": "stderr",
     "output_type": "stream",
     "text": [
      "\n",
      " 47%|██████████████████▊                     | 470/1000 [00:41<00:47, 11.27it/s]\u001b[A"
     ]
    },
    {
     "name": "stdout",
     "output_type": "stream",
     "text": [
      "0.0898745059967041\n",
      "0.08526611328125\n",
      "0.0896446704864502\n"
     ]
    },
    {
     "name": "stderr",
     "output_type": "stream",
     "text": [
      "\n",
      " 47%|██████████████████▉                     | 472/1000 [00:41<00:46, 11.25it/s]\u001b[A"
     ]
    },
    {
     "name": "stdout",
     "output_type": "stream",
     "text": [
      "0.08780527114868164\n",
      "0.08797621726989746\n"
     ]
    },
    {
     "name": "stderr",
     "output_type": "stream",
     "text": [
      "\n",
      " 47%|██████████████████▉                     | 474/1000 [00:41<00:46, 11.23it/s]\u001b[A"
     ]
    },
    {
     "name": "stdout",
     "output_type": "stream",
     "text": [
      "0.08972334861755371\n"
     ]
    },
    {
     "name": "stderr",
     "output_type": "stream",
     "text": [
      "\n",
      " 48%|███████████████████                     | 476/1000 [00:42<00:46, 11.26it/s]\u001b[A"
     ]
    },
    {
     "name": "stdout",
     "output_type": "stream",
     "text": [
      "0.0894632339477539\n",
      "0.08590388298034668\n",
      "0.09005975723266602\n"
     ]
    },
    {
     "name": "stderr",
     "output_type": "stream",
     "text": [
      "\n",
      " 48%|███████████████████                     | 478/1000 [00:42<00:46, 11.23it/s]\u001b[A"
     ]
    },
    {
     "name": "stdout",
     "output_type": "stream",
     "text": [
      "0.08793187141418457\n",
      "0.08824348449707031\n"
     ]
    },
    {
     "name": "stderr",
     "output_type": "stream",
     "text": [
      "\n",
      " 48%|███████████████████▏                    | 480/1000 [00:42<00:46, 11.24it/s]\u001b[A"
     ]
    },
    {
     "name": "stdout",
     "output_type": "stream",
     "text": [
      "0.08852410316467285\n"
     ]
    },
    {
     "name": "stderr",
     "output_type": "stream",
     "text": [
      "\n",
      " 48%|███████████████████▎                    | 482/1000 [00:42<00:45, 11.29it/s]\u001b[A"
     ]
    },
    {
     "name": "stdout",
     "output_type": "stream",
     "text": [
      "0.08966708183288574\n",
      "0.08456015586853027\n",
      "0.09027934074401855\n"
     ]
    },
    {
     "name": "stderr",
     "output_type": "stream",
     "text": [
      "\n",
      " 48%|███████████████████▎                    | 484/1000 [00:42<00:45, 11.24it/s]\u001b[A"
     ]
    },
    {
     "name": "stdout",
     "output_type": "stream",
     "text": [
      "0.08821702003479004\n",
      "0.08746075630187988\n"
     ]
    },
    {
     "name": "stderr",
     "output_type": "stream",
     "text": [
      "\n",
      " 49%|███████████████████▍                    | 486/1000 [00:42<00:45, 11.25it/s]\u001b[A"
     ]
    },
    {
     "name": "stdout",
     "output_type": "stream",
     "text": [
      "0.08858156204223633\n"
     ]
    },
    {
     "name": "stderr",
     "output_type": "stream",
     "text": [
      "\n",
      " 49%|███████████████████▌                    | 488/1000 [00:43<00:45, 11.27it/s]\u001b[A"
     ]
    },
    {
     "name": "stdout",
     "output_type": "stream",
     "text": [
      "0.0901954174041748\n",
      "0.08546066284179688\n",
      "0.09133720397949219\n"
     ]
    },
    {
     "name": "stderr",
     "output_type": "stream",
     "text": [
      "\n",
      " 49%|███████████████████▌                    | 490/1000 [00:43<00:45, 11.22it/s]\u001b[A"
     ]
    },
    {
     "name": "stdout",
     "output_type": "stream",
     "text": [
      "0.08778023719787598\n",
      "0.08764362335205078\n"
     ]
    },
    {
     "name": "stderr",
     "output_type": "stream",
     "text": [
      "\n",
      " 49%|███████████████████▋                    | 492/1000 [00:43<00:45, 11.27it/s]\u001b[A"
     ]
    },
    {
     "name": "stdout",
     "output_type": "stream",
     "text": [
      "0.08670425415039062\n"
     ]
    },
    {
     "name": "stderr",
     "output_type": "stream",
     "text": [
      "\n",
      " 49%|███████████████████▊                    | 494/1000 [00:43<00:45, 11.21it/s]\u001b[A"
     ]
    },
    {
     "name": "stdout",
     "output_type": "stream",
     "text": [
      "0.09486794471740723\n",
      "0.08497190475463867\n",
      "0.09020757675170898\n"
     ]
    },
    {
     "name": "stderr",
     "output_type": "stream",
     "text": [
      "\n",
      " 50%|███████████████████▊                    | 496/1000 [00:43<00:45, 11.19it/s]\u001b[A"
     ]
    },
    {
     "name": "stdout",
     "output_type": "stream",
     "text": [
      "0.08796930313110352\n",
      "0.0873880386352539\n"
     ]
    },
    {
     "name": "stderr",
     "output_type": "stream",
     "text": [
      "\n",
      " 50%|███████████████████▉                    | 498/1000 [00:44<00:44, 11.23it/s]\u001b[A"
     ]
    },
    {
     "name": "stdout",
     "output_type": "stream",
     "text": [
      "0.08765578269958496\n"
     ]
    },
    {
     "name": "stderr",
     "output_type": "stream",
     "text": [
      "\n",
      " 50%|████████████████████                    | 500/1000 [00:44<00:44, 11.29it/s]\u001b[A"
     ]
    },
    {
     "name": "stdout",
     "output_type": "stream",
     "text": [
      "0.08959603309631348\n",
      "0.0844571590423584\n",
      "0.08942723274230957\n"
     ]
    },
    {
     "name": "stderr",
     "output_type": "stream",
     "text": [
      "\n",
      " 50%|████████████████████                    | 502/1000 [00:44<00:44, 11.28it/s]\u001b[A"
     ]
    },
    {
     "name": "stdout",
     "output_type": "stream",
     "text": [
      "0.08711862564086914\n",
      "0.08801960945129395\n"
     ]
    },
    {
     "name": "stderr",
     "output_type": "stream",
     "text": [
      "\n",
      " 50%|████████████████████▏                   | 504/1000 [00:44<00:43, 11.28it/s]\u001b[A"
     ]
    },
    {
     "name": "stdout",
     "output_type": "stream",
     "text": [
      "0.08813142776489258\n"
     ]
    },
    {
     "name": "stderr",
     "output_type": "stream",
     "text": [
      "\n",
      " 51%|████████████████████▏                   | 506/1000 [00:44<00:43, 11.31it/s]\u001b[A"
     ]
    },
    {
     "name": "stdout",
     "output_type": "stream",
     "text": [
      "0.08980321884155273\n",
      "0.08465242385864258\n",
      "0.09007501602172852\n"
     ]
    },
    {
     "name": "stderr",
     "output_type": "stream",
     "text": [
      "\n",
      " 51%|████████████████████▎                   | 508/1000 [00:44<00:43, 11.29it/s]\u001b[A"
     ]
    },
    {
     "name": "stdout",
     "output_type": "stream",
     "text": [
      "0.08698558807373047\n",
      "0.08974194526672363\n"
     ]
    },
    {
     "name": "stderr",
     "output_type": "stream",
     "text": [
      "\n",
      " 51%|████████████████████▍                   | 510/1000 [00:45<00:43, 11.25it/s]\u001b[A"
     ]
    },
    {
     "name": "stdout",
     "output_type": "stream",
     "text": [
      "0.08808255195617676\n"
     ]
    },
    {
     "name": "stderr",
     "output_type": "stream",
     "text": [
      "\n",
      " 51%|████████████████████▍                   | 512/1000 [00:45<00:43, 11.31it/s]\u001b[A"
     ]
    },
    {
     "name": "stdout",
     "output_type": "stream",
     "text": [
      "0.08864092826843262\n",
      "0.0850217342376709\n",
      "0.09013700485229492\n"
     ]
    },
    {
     "name": "stderr",
     "output_type": "stream",
     "text": [
      "\n",
      " 51%|████████████████████▌                   | 514/1000 [00:45<00:43, 11.27it/s]\u001b[A"
     ]
    },
    {
     "name": "stdout",
     "output_type": "stream",
     "text": [
      "0.08749532699584961\n",
      "0.0885772705078125\n"
     ]
    },
    {
     "name": "stderr",
     "output_type": "stream",
     "text": [
      "\n",
      " 52%|████████████████████▋                   | 516/1000 [00:45<00:42, 11.26it/s]\u001b[A"
     ]
    },
    {
     "name": "stdout",
     "output_type": "stream",
     "text": [
      "0.0881798267364502\n"
     ]
    },
    {
     "name": "stderr",
     "output_type": "stream",
     "text": [
      "\n",
      " 52%|████████████████████▋                   | 518/1000 [00:45<00:42, 11.27it/s]\u001b[A"
     ]
    },
    {
     "name": "stdout",
     "output_type": "stream",
     "text": [
      "0.09037089347839355\n",
      "0.08587884902954102\n",
      "0.0895378589630127\n"
     ]
    },
    {
     "name": "stderr",
     "output_type": "stream",
     "text": [
      "\n",
      " 52%|████████████████████▊                   | 520/1000 [00:45<00:42, 11.25it/s]\u001b[A"
     ]
    },
    {
     "name": "stdout",
     "output_type": "stream",
     "text": [
      "0.08736252784729004\n",
      "0.08828139305114746\n"
     ]
    },
    {
     "name": "stderr",
     "output_type": "stream",
     "text": [
      "\n",
      " 52%|████████████████████▉                   | 522/1000 [00:46<00:42, 11.25it/s]\u001b[A"
     ]
    },
    {
     "name": "stdout",
     "output_type": "stream",
     "text": [
      "0.08802318572998047\n"
     ]
    },
    {
     "name": "stderr",
     "output_type": "stream",
     "text": [
      "\n",
      " 52%|████████████████████▉                   | 524/1000 [00:46<00:42, 11.27it/s]\u001b[A"
     ]
    },
    {
     "name": "stdout",
     "output_type": "stream",
     "text": [
      "0.09086179733276367\n",
      "0.08475017547607422\n",
      "0.0890200138092041\n"
     ]
    },
    {
     "name": "stderr",
     "output_type": "stream",
     "text": [
      "\n",
      " 53%|█████████████████████                   | 526/1000 [00:46<00:42, 11.26it/s]\u001b[A"
     ]
    },
    {
     "name": "stdout",
     "output_type": "stream",
     "text": [
      "0.08806419372558594\n",
      "0.08876967430114746\n"
     ]
    },
    {
     "name": "stderr",
     "output_type": "stream",
     "text": [
      "\n",
      " 53%|█████████████████████                   | 528/1000 [00:46<00:41, 11.25it/s]\u001b[A"
     ]
    },
    {
     "name": "stdout",
     "output_type": "stream",
     "text": [
      "0.08813047409057617\n"
     ]
    },
    {
     "name": "stderr",
     "output_type": "stream",
     "text": [
      "\n",
      " 53%|█████████████████████▏                  | 530/1000 [00:46<00:41, 11.20it/s]\u001b[A"
     ]
    },
    {
     "name": "stdout",
     "output_type": "stream",
     "text": [
      "0.09154248237609863\n",
      "0.08780908584594727\n",
      "0.09101700782775879\n"
     ]
    },
    {
     "name": "stderr",
     "output_type": "stream",
     "text": [
      "\n",
      " 53%|█████████████████████▎                  | 532/1000 [00:47<00:42, 11.09it/s]\u001b[A"
     ]
    },
    {
     "name": "stdout",
     "output_type": "stream",
     "text": [
      "0.09202170372009277\n",
      "0.08755040168762207\n"
     ]
    },
    {
     "name": "stderr",
     "output_type": "stream",
     "text": [
      "\n",
      " 53%|█████████████████████▎                  | 534/1000 [00:47<00:41, 11.13it/s]\u001b[A"
     ]
    },
    {
     "name": "stdout",
     "output_type": "stream",
     "text": [
      "0.0893862247467041\n"
     ]
    },
    {
     "name": "stderr",
     "output_type": "stream",
     "text": [
      "\n",
      " 54%|█████████████████████▍                  | 536/1000 [00:47<00:41, 11.18it/s]\u001b[A"
     ]
    },
    {
     "name": "stdout",
     "output_type": "stream",
     "text": [
      "0.08997917175292969\n",
      "0.08586788177490234\n",
      "0.08967351913452148\n"
     ]
    },
    {
     "name": "stderr",
     "output_type": "stream",
     "text": [
      "\n",
      " 54%|█████████████████████▌                  | 538/1000 [00:47<00:41, 11.17it/s]\u001b[A"
     ]
    },
    {
     "name": "stdout",
     "output_type": "stream",
     "text": [
      "0.08897042274475098\n",
      "0.08922171592712402\n"
     ]
    },
    {
     "name": "stderr",
     "output_type": "stream",
     "text": [
      "\n",
      " 54%|█████████████████████▌                  | 540/1000 [00:47<00:41, 11.16it/s]\u001b[A"
     ]
    },
    {
     "name": "stdout",
     "output_type": "stream",
     "text": [
      "0.08930444717407227\n"
     ]
    },
    {
     "name": "stderr",
     "output_type": "stream",
     "text": [
      "\n",
      " 54%|█████████████████████▋                  | 542/1000 [00:47<00:40, 11.21it/s]\u001b[A"
     ]
    },
    {
     "name": "stdout",
     "output_type": "stream",
     "text": [
      "0.08977460861206055\n",
      "0.0858771800994873\n",
      "0.09117817878723145\n"
     ]
    },
    {
     "name": "stderr",
     "output_type": "stream",
     "text": [
      "\n",
      " 54%|█████████████████████▊                  | 544/1000 [00:48<00:40, 11.16it/s]\u001b[A"
     ]
    },
    {
     "name": "stdout",
     "output_type": "stream",
     "text": [
      "0.08865928649902344\n",
      "0.08797550201416016\n"
     ]
    },
    {
     "name": "stderr",
     "output_type": "stream",
     "text": [
      "\n",
      " 55%|█████████████████████▊                  | 546/1000 [00:48<00:40, 11.19it/s]\u001b[A"
     ]
    },
    {
     "name": "stdout",
     "output_type": "stream",
     "text": [
      "0.08866167068481445\n"
     ]
    },
    {
     "name": "stderr",
     "output_type": "stream",
     "text": [
      "\n",
      " 55%|█████████████████████▉                  | 548/1000 [00:48<00:40, 11.24it/s]\u001b[A"
     ]
    },
    {
     "name": "stdout",
     "output_type": "stream",
     "text": [
      "0.08961009979248047\n",
      "0.08542299270629883\n",
      "0.09050321578979492\n"
     ]
    },
    {
     "name": "stderr",
     "output_type": "stream",
     "text": [
      "\n",
      " 55%|██████████████████████                  | 550/1000 [00:48<00:40, 11.19it/s]\u001b[A"
     ]
    },
    {
     "name": "stdout",
     "output_type": "stream",
     "text": [
      "0.0892477035522461\n",
      "0.08799386024475098\n"
     ]
    },
    {
     "name": "stderr",
     "output_type": "stream",
     "text": [
      "\n",
      " 55%|██████████████████████                  | 552/1000 [00:48<00:39, 11.20it/s]\u001b[A"
     ]
    },
    {
     "name": "stdout",
     "output_type": "stream",
     "text": [
      "0.08895421028137207\n"
     ]
    },
    {
     "name": "stderr",
     "output_type": "stream",
     "text": [
      "\n",
      " 55%|██████████████████████▏                 | 554/1000 [00:49<00:40, 11.15it/s]\u001b[A"
     ]
    },
    {
     "name": "stdout",
     "output_type": "stream",
     "text": [
      "0.0909430980682373\n",
      "0.08925127983093262\n"
     ]
    },
    {
     "name": "stderr",
     "output_type": "stream",
     "text": [
      "\n",
      " 56%|██████████████████████▏                 | 556/1000 [00:49<00:48,  9.10it/s]\u001b[A"
     ]
    },
    {
     "name": "stdout",
     "output_type": "stream",
     "text": [
      "0.22777223587036133\n",
      "0.08498215675354004\n",
      "0.08751058578491211\n"
     ]
    },
    {
     "name": "stderr",
     "output_type": "stream",
     "text": [
      "\n",
      " 56%|██████████████████████▎                 | 558/1000 [00:49<00:45,  9.67it/s]\u001b[A\n",
      " 56%|██████████████████████▍                 | 560/1000 [00:49<00:43, 10.15it/s]\u001b[A"
     ]
    },
    {
     "name": "stdout",
     "output_type": "stream",
     "text": [
      "0.08835577964782715\n",
      "0.0878000259399414\n",
      "0.08490896224975586\n"
     ]
    },
    {
     "name": "stderr",
     "output_type": "stream",
     "text": [
      "\n",
      " 56%|██████████████████████▍                 | 562/1000 [00:49<00:42, 10.37it/s]\u001b[A"
     ]
    },
    {
     "name": "stdout",
     "output_type": "stream",
     "text": [
      "0.09593605995178223\n",
      "0.08614492416381836\n",
      "0.08683109283447266\n"
     ]
    },
    {
     "name": "stderr",
     "output_type": "stream",
     "text": [
      "\n",
      " 56%|██████████████████████▌                 | 564/1000 [00:50<00:40, 10.65it/s]\u001b[A\n",
      " 57%|██████████████████████▋                 | 566/1000 [00:50<00:39, 10.90it/s]\u001b[A"
     ]
    },
    {
     "name": "stdout",
     "output_type": "stream",
     "text": [
      "0.08800077438354492\n",
      "0.08695816993713379\n",
      "0.08537745475769043\n"
     ]
    },
    {
     "name": "stderr",
     "output_type": "stream",
     "text": [
      "\n",
      " 57%|██████████████████████▋                 | 568/1000 [00:50<00:39, 11.04it/s]\u001b[A"
     ]
    },
    {
     "name": "stdout",
     "output_type": "stream",
     "text": [
      "0.08958077430725098\n",
      "0.08508062362670898\n",
      "0.08728265762329102\n"
     ]
    },
    {
     "name": "stderr",
     "output_type": "stream",
     "text": [
      "\n",
      " 57%|██████████████████████▊                 | 570/1000 [00:50<00:38, 11.14it/s]\u001b[A\n",
      " 57%|██████████████████████▉                 | 572/1000 [00:50<00:38, 11.24it/s]\u001b[A"
     ]
    },
    {
     "name": "stdout",
     "output_type": "stream",
     "text": [
      "0.0874180793762207\n",
      "0.08734703063964844\n",
      "0.08538937568664551\n"
     ]
    },
    {
     "name": "stderr",
     "output_type": "stream",
     "text": [
      "\n",
      " 57%|██████████████████████▉                 | 574/1000 [00:50<00:37, 11.28it/s]\u001b[A"
     ]
    },
    {
     "name": "stdout",
     "output_type": "stream",
     "text": [
      "0.08998870849609375\n",
      "0.0848243236541748\n",
      "0.08742070198059082\n"
     ]
    },
    {
     "name": "stderr",
     "output_type": "stream",
     "text": [
      "\n",
      " 58%|███████████████████████                 | 576/1000 [00:51<00:37, 11.30it/s]\u001b[A\n",
      " 58%|███████████████████████                 | 578/1000 [00:51<00:37, 11.36it/s]\u001b[A"
     ]
    },
    {
     "name": "stdout",
     "output_type": "stream",
     "text": [
      "0.08756184577941895\n",
      "0.0877082347869873\n",
      "0.08489203453063965\n"
     ]
    },
    {
     "name": "stderr",
     "output_type": "stream",
     "text": [
      "\n",
      " 58%|███████████████████████▏                | 580/1000 [00:51<00:36, 11.35it/s]\u001b[A"
     ]
    },
    {
     "name": "stdout",
     "output_type": "stream",
     "text": [
      "0.08946800231933594\n",
      "0.08602046966552734\n",
      "0.08766055107116699\n"
     ]
    },
    {
     "name": "stderr",
     "output_type": "stream",
     "text": [
      "\n",
      " 58%|███████████████████████▎                | 582/1000 [00:51<00:36, 11.33it/s]\u001b[A\n",
      " 58%|███████████████████████▎                | 584/1000 [00:51<00:36, 11.35it/s]\u001b[A"
     ]
    },
    {
     "name": "stdout",
     "output_type": "stream",
     "text": [
      "0.08855175971984863\n",
      "0.08825969696044922\n",
      "0.08583498001098633\n"
     ]
    },
    {
     "name": "stderr",
     "output_type": "stream",
     "text": [
      "\n",
      " 59%|███████████████████████▍                | 586/1000 [00:51<00:36, 11.34it/s]\u001b[A"
     ]
    },
    {
     "name": "stdout",
     "output_type": "stream",
     "text": [
      "0.08968019485473633\n",
      "0.08592367172241211\n",
      "0.09149861335754395\n"
     ]
    },
    {
     "name": "stderr",
     "output_type": "stream",
     "text": [
      "\n",
      " 59%|███████████████████████▌                | 588/1000 [00:52<00:36, 11.23it/s]\u001b[A\n",
      " 59%|███████████████████████▌                | 590/1000 [00:52<00:36, 11.30it/s]\u001b[A"
     ]
    },
    {
     "name": "stdout",
     "output_type": "stream",
     "text": [
      "0.08949613571166992\n",
      "0.08793258666992188\n",
      "0.08568787574768066\n"
     ]
    },
    {
     "name": "stderr",
     "output_type": "stream",
     "text": [
      "\n",
      " 59%|███████████████████████▋                | 592/1000 [00:52<00:36, 11.31it/s]\u001b[A"
     ]
    },
    {
     "name": "stdout",
     "output_type": "stream",
     "text": [
      "0.08992695808410645\n",
      "0.08478641510009766\n",
      "0.08753347396850586\n"
     ]
    },
    {
     "name": "stderr",
     "output_type": "stream",
     "text": [
      "\n",
      " 59%|███████████████████████▊                | 594/1000 [00:52<00:35, 11.31it/s]\u001b[A\n",
      " 60%|███████████████████████▊                | 596/1000 [00:52<00:35, 11.37it/s]\u001b[A"
     ]
    },
    {
     "name": "stdout",
     "output_type": "stream",
     "text": [
      "0.08835792541503906\n",
      "0.08684229850769043\n",
      "0.08574247360229492\n"
     ]
    },
    {
     "name": "stderr",
     "output_type": "stream",
     "text": [
      "\n",
      " 60%|███████████████████████▉                | 598/1000 [00:53<00:35, 11.35it/s]\u001b[A"
     ]
    },
    {
     "name": "stdout",
     "output_type": "stream",
     "text": [
      "0.09074044227600098\n",
      "0.08528828620910645\n",
      "0.08719205856323242\n"
     ]
    },
    {
     "name": "stderr",
     "output_type": "stream",
     "text": [
      "\n",
      " 60%|████████████████████████                | 600/1000 [00:53<00:35, 11.35it/s]\u001b[A\n",
      " 60%|████████████████████████                | 602/1000 [00:53<00:34, 11.39it/s]\u001b[A"
     ]
    },
    {
     "name": "stdout",
     "output_type": "stream",
     "text": [
      "0.08781790733337402\n",
      "0.08719348907470703\n",
      "0.08555197715759277\n"
     ]
    },
    {
     "name": "stderr",
     "output_type": "stream",
     "text": [
      "\n",
      " 60%|████████████████████████▏               | 604/1000 [00:53<00:34, 11.40it/s]\u001b[A"
     ]
    },
    {
     "name": "stdout",
     "output_type": "stream",
     "text": [
      "0.0896291732788086\n",
      "0.08421635627746582\n",
      "0.08750438690185547\n"
     ]
    },
    {
     "name": "stderr",
     "output_type": "stream",
     "text": [
      "\n",
      " 61%|████████████████████████▏               | 606/1000 [00:53<00:34, 11.40it/s]\u001b[A\n",
      " 61%|████████████████████████▎               | 608/1000 [00:53<00:34, 11.44it/s]\u001b[A"
     ]
    },
    {
     "name": "stdout",
     "output_type": "stream",
     "text": [
      "0.08684086799621582\n",
      "0.08734893798828125\n",
      "0.08488249778747559\n"
     ]
    },
    {
     "name": "stderr",
     "output_type": "stream",
     "text": [
      "\n",
      " 61%|████████████████████████▍               | 610/1000 [00:54<00:34, 11.42it/s]\u001b[A"
     ]
    },
    {
     "name": "stdout",
     "output_type": "stream",
     "text": [
      "0.09059381484985352\n",
      "0.08410882949829102\n",
      "0.09094882011413574\n"
     ]
    },
    {
     "name": "stderr",
     "output_type": "stream",
     "text": [
      "\n",
      " 61%|████████████████████████▍               | 612/1000 [00:54<00:34, 11.28it/s]\u001b[A\n",
      " 61%|████████████████████████▌               | 614/1000 [00:54<00:34, 11.29it/s]\u001b[A"
     ]
    },
    {
     "name": "stdout",
     "output_type": "stream",
     "text": [
      "0.0902869701385498\n",
      "0.08816790580749512\n",
      "0.08777046203613281\n"
     ]
    },
    {
     "name": "stderr",
     "output_type": "stream",
     "text": [
      "\n",
      " 62%|████████████████████████▋               | 616/1000 [00:54<00:33, 11.30it/s]\u001b[A"
     ]
    },
    {
     "name": "stdout",
     "output_type": "stream",
     "text": [
      "0.09055829048156738\n",
      "0.08491206169128418\n",
      "0.08813238143920898\n"
     ]
    },
    {
     "name": "stderr",
     "output_type": "stream",
     "text": [
      "\n",
      " 62%|████████████████████████▋               | 618/1000 [00:54<00:33, 11.30it/s]\u001b[A\n",
      " 62%|████████████████████████▊               | 620/1000 [00:54<00:33, 11.33it/s]\u001b[A"
     ]
    },
    {
     "name": "stdout",
     "output_type": "stream",
     "text": [
      "0.0876302719116211\n",
      "0.08985328674316406\n",
      "0.08458733558654785\n"
     ]
    },
    {
     "name": "stderr",
     "output_type": "stream",
     "text": [
      "\n",
      " 62%|████████████████████████▉               | 622/1000 [00:55<00:33, 11.28it/s]\u001b[A"
     ]
    },
    {
     "name": "stdout",
     "output_type": "stream",
     "text": [
      "0.0903940200805664\n",
      "0.08744263648986816\n",
      "0.0887606143951416\n"
     ]
    },
    {
     "name": "stderr",
     "output_type": "stream",
     "text": [
      "\n",
      " 62%|████████████████████████▉               | 624/1000 [00:55<00:33, 11.28it/s]\u001b[A\n",
      " 63%|█████████████████████████               | 626/1000 [00:55<00:33, 11.28it/s]\u001b[A"
     ]
    },
    {
     "name": "stdout",
     "output_type": "stream",
     "text": [
      "0.08786797523498535\n",
      "0.09153127670288086\n",
      "0.08448147773742676\n"
     ]
    },
    {
     "name": "stderr",
     "output_type": "stream",
     "text": [
      "\n",
      " 63%|█████████████████████████               | 628/1000 [00:55<00:33, 11.22it/s]\u001b[A"
     ]
    },
    {
     "name": "stdout",
     "output_type": "stream",
     "text": [
      "0.09235143661499023\n",
      "0.0869297981262207\n",
      "0.08931851387023926\n"
     ]
    },
    {
     "name": "stderr",
     "output_type": "stream",
     "text": [
      "\n",
      " 63%|█████████████████████████▏              | 630/1000 [00:55<00:33, 11.21it/s]\u001b[A\n",
      " 63%|█████████████████████████▎              | 632/1000 [00:56<00:32, 11.21it/s]\u001b[A"
     ]
    },
    {
     "name": "stdout",
     "output_type": "stream",
     "text": [
      "0.08855485916137695\n",
      "0.09173870086669922\n",
      "0.0853109359741211\n"
     ]
    },
    {
     "name": "stderr",
     "output_type": "stream",
     "text": [
      "\n",
      " 63%|█████████████████████████▎              | 634/1000 [00:56<00:32, 11.21it/s]\u001b[A"
     ]
    },
    {
     "name": "stdout",
     "output_type": "stream",
     "text": [
      "0.09086132049560547\n",
      "0.08624148368835449\n",
      "0.0913393497467041\n"
     ]
    },
    {
     "name": "stderr",
     "output_type": "stream",
     "text": [
      "\n",
      " 64%|█████████████████████████▍              | 636/1000 [00:56<00:32, 11.17it/s]\u001b[A\n",
      " 64%|█████████████████████████▌              | 638/1000 [00:56<00:32, 11.22it/s]\u001b[A"
     ]
    },
    {
     "name": "stdout",
     "output_type": "stream",
     "text": [
      "0.08808684349060059\n",
      "0.08995318412780762\n",
      "0.08531928062438965\n"
     ]
    },
    {
     "name": "stderr",
     "output_type": "stream",
     "text": [
      "\n",
      " 64%|█████████████████████████▌              | 640/1000 [00:56<00:32, 11.22it/s]\u001b[A"
     ]
    },
    {
     "name": "stdout",
     "output_type": "stream",
     "text": [
      "0.0899655818939209\n",
      "0.08707785606384277\n",
      "0.08951973915100098\n"
     ]
    },
    {
     "name": "stderr",
     "output_type": "stream",
     "text": [
      "\n",
      " 64%|█████████████████████████▋              | 642/1000 [00:56<00:32, 11.17it/s]\u001b[A\n",
      " 64%|█████████████████████████▊              | 644/1000 [00:57<00:31, 11.15it/s]\u001b[A"
     ]
    },
    {
     "name": "stdout",
     "output_type": "stream",
     "text": [
      "0.09017705917358398\n",
      "0.09291338920593262\n",
      "0.08608412742614746\n"
     ]
    },
    {
     "name": "stderr",
     "output_type": "stream",
     "text": [
      "\n",
      " 65%|█████████████████████████▊              | 646/1000 [00:57<00:31, 11.19it/s]\u001b[A"
     ]
    },
    {
     "name": "stdout",
     "output_type": "stream",
     "text": [
      "0.08868527412414551\n",
      "0.08717179298400879\n",
      "0.08744573593139648\n"
     ]
    },
    {
     "name": "stderr",
     "output_type": "stream",
     "text": [
      "\n",
      " 65%|█████████████████████████▉              | 648/1000 [00:57<00:31, 11.17it/s]\u001b[A\n",
      " 65%|██████████████████████████              | 650/1000 [00:57<00:31, 11.23it/s]\u001b[A"
     ]
    },
    {
     "name": "stdout",
     "output_type": "stream",
     "text": [
      "0.09104704856872559\n",
      "0.08748817443847656\n",
      "0.08750295639038086\n"
     ]
    },
    {
     "name": "stderr",
     "output_type": "stream",
     "text": [
      "\n",
      " 65%|██████████████████████████              | 652/1000 [00:57<00:31, 11.18it/s]\u001b[A"
     ]
    },
    {
     "name": "stdout",
     "output_type": "stream",
     "text": [
      "0.09284281730651855\n",
      "0.08658456802368164\n",
      "0.08722090721130371\n"
     ]
    },
    {
     "name": "stderr",
     "output_type": "stream",
     "text": [
      "\n",
      " 65%|██████████████████████████▏             | 654/1000 [00:58<00:30, 11.18it/s]\u001b[A\n",
      " 66%|██████████████████████████▏             | 656/1000 [00:58<00:30, 11.27it/s]\u001b[A"
     ]
    },
    {
     "name": "stdout",
     "output_type": "stream",
     "text": [
      "0.09028053283691406\n",
      "0.08746647834777832\n",
      "0.08551621437072754\n"
     ]
    },
    {
     "name": "stderr",
     "output_type": "stream",
     "text": [
      "\n",
      " 66%|██████████████████████████▎             | 658/1000 [00:58<00:30, 11.31it/s]\u001b[A"
     ]
    },
    {
     "name": "stdout",
     "output_type": "stream",
     "text": [
      "0.0891275405883789\n",
      "0.08524966239929199\n",
      "0.08733367919921875\n"
     ]
    },
    {
     "name": "stderr",
     "output_type": "stream",
     "text": [
      "\n",
      " 66%|██████████████████████████▍             | 660/1000 [00:58<00:30, 11.31it/s]\u001b[A\n",
      " 66%|██████████████████████████▍             | 662/1000 [00:58<00:29, 11.34it/s]\u001b[A"
     ]
    },
    {
     "name": "stdout",
     "output_type": "stream",
     "text": [
      "0.0881948471069336\n",
      "0.08843040466308594\n",
      "0.08547115325927734\n"
     ]
    },
    {
     "name": "stderr",
     "output_type": "stream",
     "text": [
      "\n",
      " 66%|██████████████████████████▌             | 664/1000 [00:58<00:29, 11.31it/s]\u001b[A"
     ]
    },
    {
     "name": "stdout",
     "output_type": "stream",
     "text": [
      "0.0905759334564209\n",
      "0.0862421989440918\n",
      "0.0891578197479248\n"
     ]
    },
    {
     "name": "stderr",
     "output_type": "stream",
     "text": [
      "\n",
      " 67%|██████████████████████████▋             | 666/1000 [00:59<00:29, 11.24it/s]\u001b[A\n",
      " 67%|██████████████████████████▋             | 668/1000 [00:59<00:29, 11.28it/s]\u001b[A"
     ]
    },
    {
     "name": "stdout",
     "output_type": "stream",
     "text": [
      "0.09032487869262695\n",
      "0.08874273300170898\n",
      "0.08574271202087402\n"
     ]
    },
    {
     "name": "stderr",
     "output_type": "stream",
     "text": [
      "\n",
      " 67%|██████████████████████████▊             | 670/1000 [00:59<00:29, 11.20it/s]\u001b[A"
     ]
    },
    {
     "name": "stdout",
     "output_type": "stream",
     "text": [
      "0.09203219413757324\n",
      "0.08860397338867188\n",
      "0.08722591400146484\n"
     ]
    },
    {
     "name": "stderr",
     "output_type": "stream",
     "text": [
      "\n",
      " 67%|██████████████████████████▉             | 672/1000 [00:59<00:29, 11.20it/s]\u001b[A\n",
      " 67%|██████████████████████████▉             | 674/1000 [00:59<00:29, 11.21it/s]\u001b[A"
     ]
    },
    {
     "name": "stdout",
     "output_type": "stream",
     "text": [
      "0.09012651443481445\n",
      "0.08889055252075195\n",
      "0.0877835750579834\n"
     ]
    },
    {
     "name": "stderr",
     "output_type": "stream",
     "text": [
      "\n",
      " 68%|███████████████████████████             | 676/1000 [00:59<00:29, 11.14it/s]\u001b[A"
     ]
    },
    {
     "name": "stdout",
     "output_type": "stream",
     "text": [
      "0.0917501449584961\n",
      "0.08925557136535645\n",
      "0.08785295486450195\n"
     ]
    },
    {
     "name": "stderr",
     "output_type": "stream",
     "text": [
      "\n",
      " 68%|███████████████████████████             | 678/1000 [01:00<00:28, 11.18it/s]\u001b[A\n",
      " 68%|███████████████████████████▏            | 680/1000 [01:00<00:28, 11.18it/s]\u001b[A"
     ]
    },
    {
     "name": "stdout",
     "output_type": "stream",
     "text": [
      "0.08855962753295898\n",
      "0.08875799179077148\n",
      "0.08897829055786133\n"
     ]
    },
    {
     "name": "stderr",
     "output_type": "stream",
     "text": [
      "\n",
      " 68%|███████████████████████████▎            | 682/1000 [01:00<00:28, 11.11it/s]\u001b[A"
     ]
    },
    {
     "name": "stdout",
     "output_type": "stream",
     "text": [
      "0.09589672088623047\n",
      "0.08563923835754395\n",
      "0.08843445777893066\n"
     ]
    },
    {
     "name": "stderr",
     "output_type": "stream",
     "text": [
      "\n",
      " 68%|███████████████████████████▎            | 684/1000 [01:00<00:28, 11.16it/s]\u001b[A\n",
      " 69%|███████████████████████████▍            | 686/1000 [01:00<00:27, 11.26it/s]\u001b[A"
     ]
    },
    {
     "name": "stdout",
     "output_type": "stream",
     "text": [
      "0.0881192684173584\n",
      "0.08655929565429688\n",
      "0.08608746528625488\n"
     ]
    },
    {
     "name": "stderr",
     "output_type": "stream",
     "text": [
      "\n",
      " 69%|███████████████████████████▌            | 688/1000 [01:01<00:27, 11.26it/s]\u001b[A"
     ]
    },
    {
     "name": "stdout",
     "output_type": "stream",
     "text": [
      "0.08942699432373047\n",
      "0.08696484565734863\n",
      "0.08687663078308105\n"
     ]
    },
    {
     "name": "stderr",
     "output_type": "stream",
     "text": [
      "\n",
      " 69%|███████████████████████████▌            | 690/1000 [01:01<00:27, 11.24it/s]\u001b[A\n",
      " 69%|███████████████████████████▋            | 692/1000 [01:01<00:27, 11.27it/s]\u001b[A"
     ]
    },
    {
     "name": "stdout",
     "output_type": "stream",
     "text": [
      "0.09037208557128906\n",
      "0.08700156211853027\n",
      "0.08824038505554199\n"
     ]
    },
    {
     "name": "stderr",
     "output_type": "stream",
     "text": [
      "\n",
      " 69%|███████████████████████████▊            | 694/1000 [01:01<00:27, 11.20it/s]\u001b[A"
     ]
    },
    {
     "name": "stdout",
     "output_type": "stream",
     "text": [
      "0.09090542793273926\n",
      "0.08931279182434082\n",
      "0.09147810935974121\n"
     ]
    },
    {
     "name": "stderr",
     "output_type": "stream",
     "text": [
      "\n",
      " 70%|███████████████████████████▊            | 696/1000 [01:01<00:27, 11.13it/s]\u001b[A\n",
      " 70%|███████████████████████████▉            | 698/1000 [01:01<00:27, 11.16it/s]\u001b[A"
     ]
    },
    {
     "name": "stdout",
     "output_type": "stream",
     "text": [
      "0.08961343765258789\n",
      "0.08803462982177734\n",
      "0.0889592170715332\n"
     ]
    },
    {
     "name": "stderr",
     "output_type": "stream",
     "text": [
      "\n",
      " 70%|████████████████████████████            | 700/1000 [01:02<00:26, 11.13it/s]\u001b[A"
     ]
    },
    {
     "name": "stdout",
     "output_type": "stream",
     "text": [
      "0.09190702438354492\n",
      "0.08749532699584961\n",
      "0.08963775634765625\n"
     ]
    },
    {
     "name": "stderr",
     "output_type": "stream",
     "text": [
      "\n",
      " 70%|████████████████████████████            | 702/1000 [01:02<00:26, 11.10it/s]\u001b[A\n",
      " 70%|████████████████████████████▏           | 704/1000 [01:02<00:26, 11.15it/s]\u001b[A"
     ]
    },
    {
     "name": "stdout",
     "output_type": "stream",
     "text": [
      "0.09098362922668457\n",
      "0.08791136741638184\n",
      "0.08858108520507812\n"
     ]
    },
    {
     "name": "stderr",
     "output_type": "stream",
     "text": [
      "\n",
      " 71%|████████████████████████████▏           | 706/1000 [01:02<00:26, 11.15it/s]\u001b[A"
     ]
    },
    {
     "name": "stdout",
     "output_type": "stream",
     "text": [
      "0.09242105484008789\n",
      "0.08539795875549316\n",
      "0.09012055397033691\n"
     ]
    },
    {
     "name": "stderr",
     "output_type": "stream",
     "text": [
      "\n",
      " 71%|████████████████████████████▎           | 708/1000 [01:02<00:26, 11.11it/s]\u001b[A\n",
      " 71%|████████████████████████████▍           | 710/1000 [01:03<00:26, 11.12it/s]\u001b[A"
     ]
    },
    {
     "name": "stdout",
     "output_type": "stream",
     "text": [
      "0.0907433032989502\n",
      "0.09111309051513672\n",
      "0.08699917793273926\n"
     ]
    },
    {
     "name": "stderr",
     "output_type": "stream",
     "text": [
      "\n",
      " 71%|████████████████████████████▍           | 712/1000 [01:03<00:25, 11.15it/s]\u001b[A"
     ]
    },
    {
     "name": "stdout",
     "output_type": "stream",
     "text": [
      "0.08978819847106934\n",
      "0.08761429786682129\n",
      "0.0928492546081543\n"
     ]
    },
    {
     "name": "stderr",
     "output_type": "stream",
     "text": [
      "\n",
      " 71%|████████████████████████████▌           | 714/1000 [01:03<00:25, 11.10it/s]\u001b[A\n",
      " 72%|████████████████████████████▋           | 716/1000 [01:03<00:25, 11.11it/s]\u001b[A"
     ]
    },
    {
     "name": "stdout",
     "output_type": "stream",
     "text": [
      "0.08817267417907715\n",
      "0.0915231704711914\n",
      "0.08696413040161133\n"
     ]
    },
    {
     "name": "stderr",
     "output_type": "stream",
     "text": [
      "\n",
      " 72%|████████████████████████████▋           | 718/1000 [01:03<00:25, 11.12it/s]\u001b[A"
     ]
    },
    {
     "name": "stdout",
     "output_type": "stream",
     "text": [
      "0.0916135311126709\n",
      "0.08675837516784668\n",
      "0.09084725379943848\n"
     ]
    },
    {
     "name": "stderr",
     "output_type": "stream",
     "text": [
      "\n",
      " 72%|████████████████████████████▊           | 720/1000 [01:03<00:25, 11.14it/s]\u001b[A\n",
      " 72%|████████████████████████████▉           | 722/1000 [01:04<00:25, 11.11it/s]\u001b[A"
     ]
    },
    {
     "name": "stdout",
     "output_type": "stream",
     "text": [
      "0.08673882484436035\n",
      "0.0921485424041748\n",
      "0.0877988338470459\n"
     ]
    },
    {
     "name": "stderr",
     "output_type": "stream",
     "text": [
      "\n",
      " 72%|████████████████████████████▉           | 724/1000 [01:04<00:24, 11.11it/s]\u001b[A"
     ]
    },
    {
     "name": "stdout",
     "output_type": "stream",
     "text": [
      "0.09142255783081055\n",
      "0.08755731582641602\n",
      "0.0903782844543457\n"
     ]
    },
    {
     "name": "stderr",
     "output_type": "stream",
     "text": [
      "\n",
      " 73%|█████████████████████████████           | 726/1000 [01:04<00:24, 11.12it/s]\u001b[A\n",
      " 73%|█████████████████████████████           | 728/1000 [01:04<00:24, 11.13it/s]\u001b[A"
     ]
    },
    {
     "name": "stdout",
     "output_type": "stream",
     "text": [
      "0.08796525001525879\n",
      "0.09153008460998535\n",
      "0.08688831329345703\n"
     ]
    },
    {
     "name": "stderr",
     "output_type": "stream",
     "text": [
      "\n",
      " 73%|█████████████████████████████▏          | 730/1000 [01:04<00:24, 11.13it/s]\u001b[A"
     ]
    },
    {
     "name": "stdout",
     "output_type": "stream",
     "text": [
      "0.08988142013549805\n",
      "0.08858418464660645\n",
      "0.09153294563293457\n"
     ]
    },
    {
     "name": "stderr",
     "output_type": "stream",
     "text": [
      "\n",
      " 73%|█████████████████████████████▎          | 732/1000 [01:04<00:24, 11.08it/s]\u001b[A\n",
      " 73%|█████████████████████████████▎          | 734/1000 [01:05<00:23, 11.10it/s]\u001b[A"
     ]
    },
    {
     "name": "stdout",
     "output_type": "stream",
     "text": [
      "0.08948945999145508\n",
      "0.08993029594421387\n",
      "0.0881662368774414\n"
     ]
    },
    {
     "name": "stderr",
     "output_type": "stream",
     "text": [
      "\n",
      " 74%|█████████████████████████████▍          | 736/1000 [01:05<00:23, 11.08it/s]\u001b[A"
     ]
    },
    {
     "name": "stdout",
     "output_type": "stream",
     "text": [
      "0.09225749969482422\n",
      "0.08799219131469727\n",
      "0.08705663681030273\n"
     ]
    },
    {
     "name": "stderr",
     "output_type": "stream",
     "text": [
      "\n",
      " 74%|█████████████████████████████▌          | 738/1000 [01:05<00:23, 11.18it/s]\u001b[A\n",
      " 74%|█████████████████████████████▌          | 740/1000 [01:05<00:23, 11.25it/s]\u001b[A"
     ]
    },
    {
     "name": "stdout",
     "output_type": "stream",
     "text": [
      "0.08713459968566895\n",
      "0.08886241912841797\n",
      "0.08507847785949707\n"
     ]
    },
    {
     "name": "stderr",
     "output_type": "stream",
     "text": [
      "\n",
      " 74%|█████████████████████████████▋          | 742/1000 [01:05<00:22, 11.29it/s]\u001b[A"
     ]
    },
    {
     "name": "stdout",
     "output_type": "stream",
     "text": [
      "0.08830714225769043\n",
      "0.08648061752319336\n",
      "0.08749532699584961\n"
     ]
    },
    {
     "name": "stderr",
     "output_type": "stream",
     "text": [
      "\n",
      " 74%|█████████████████████████████▊          | 744/1000 [01:06<00:22, 11.28it/s]\u001b[A\n",
      " 75%|█████████████████████████████▊          | 746/1000 [01:06<00:22, 11.17it/s]\u001b[A"
     ]
    },
    {
     "name": "stdout",
     "output_type": "stream",
     "text": [
      "0.08911609649658203\n",
      "0.09367227554321289\n",
      "0.08851242065429688\n"
     ]
    },
    {
     "name": "stderr",
     "output_type": "stream",
     "text": [
      "\n",
      " 75%|█████████████████████████████▉          | 748/1000 [01:06<00:22, 11.16it/s]\u001b[A"
     ]
    },
    {
     "name": "stdout",
     "output_type": "stream",
     "text": [
      "0.09030699729919434\n",
      "0.08798456192016602\n",
      "0.08704018592834473\n"
     ]
    },
    {
     "name": "stderr",
     "output_type": "stream",
     "text": [
      "\n",
      " 75%|██████████████████████████████          | 750/1000 [01:06<00:22, 11.16it/s]\u001b[A\n",
      " 75%|██████████████████████████████          | 752/1000 [01:06<00:22, 11.21it/s]\u001b[A"
     ]
    },
    {
     "name": "stdout",
     "output_type": "stream",
     "text": [
      "0.09133338928222656\n",
      "0.08972549438476562\n",
      "0.08567452430725098\n"
     ]
    },
    {
     "name": "stderr",
     "output_type": "stream",
     "text": [
      "\n",
      " 75%|██████████████████████████████▏         | 754/1000 [01:06<00:22, 11.12it/s]\u001b[A"
     ]
    },
    {
     "name": "stdout",
     "output_type": "stream",
     "text": [
      "0.09295892715454102\n",
      "0.08933758735656738\n",
      "0.08740925788879395\n"
     ]
    },
    {
     "name": "stderr",
     "output_type": "stream",
     "text": [
      "\n",
      " 76%|██████████████████████████████▏         | 756/1000 [01:07<00:21, 11.12it/s]\u001b[A\n",
      " 76%|██████████████████████████████▎         | 758/1000 [01:07<00:21, 11.08it/s]\u001b[A"
     ]
    },
    {
     "name": "stdout",
     "output_type": "stream",
     "text": [
      "0.09150910377502441\n",
      "0.09179472923278809\n",
      "0.08876323699951172\n"
     ]
    },
    {
     "name": "stderr",
     "output_type": "stream",
     "text": [
      "\n",
      " 76%|██████████████████████████████▍         | 760/1000 [01:07<00:21, 11.07it/s]\u001b[A"
     ]
    },
    {
     "name": "stdout",
     "output_type": "stream",
     "text": [
      "0.09162092208862305\n",
      "0.08844709396362305\n",
      "0.08638167381286621\n"
     ]
    },
    {
     "name": "stderr",
     "output_type": "stream",
     "text": [
      "\n",
      " 76%|██████████████████████████████▍         | 762/1000 [01:07<00:21, 11.15it/s]\u001b[A\n",
      " 76%|██████████████████████████████▌         | 764/1000 [01:07<00:21, 11.17it/s]\u001b[A"
     ]
    },
    {
     "name": "stdout",
     "output_type": "stream",
     "text": [
      "0.08903312683105469\n",
      "0.09001922607421875\n",
      "0.08692383766174316\n"
     ]
    },
    {
     "name": "stderr",
     "output_type": "stream",
     "text": [
      "\n",
      " 77%|██████████████████████████████▋         | 766/1000 [01:08<00:21, 11.08it/s]\u001b[A"
     ]
    },
    {
     "name": "stdout",
     "output_type": "stream",
     "text": [
      "0.09299087524414062\n",
      "0.08980703353881836\n",
      "0.08806514739990234\n"
     ]
    },
    {
     "name": "stderr",
     "output_type": "stream",
     "text": [
      "\n",
      " 77%|██████████████████████████████▋         | 768/1000 [01:08<00:20, 11.11it/s]\u001b[A\n",
      " 77%|██████████████████████████████▊         | 770/1000 [01:08<00:20, 11.15it/s]\u001b[A"
     ]
    },
    {
     "name": "stdout",
     "output_type": "stream",
     "text": [
      "0.08937358856201172\n",
      "0.09125995635986328\n",
      "0.08547353744506836\n"
     ]
    },
    {
     "name": "stderr",
     "output_type": "stream",
     "text": [
      "\n",
      " 77%|██████████████████████████████▉         | 772/1000 [01:08<00:20, 11.14it/s]\u001b[A"
     ]
    },
    {
     "name": "stdout",
     "output_type": "stream",
     "text": [
      "0.0910031795501709\n",
      "0.08771944046020508\n",
      "0.08806347846984863\n"
     ]
    },
    {
     "name": "stderr",
     "output_type": "stream",
     "text": [
      "\n",
      " 77%|██████████████████████████████▉         | 774/1000 [01:08<00:20, 11.14it/s]\u001b[A\n",
      " 78%|███████████████████████████████         | 776/1000 [01:08<00:19, 11.22it/s]\u001b[A"
     ]
    },
    {
     "name": "stdout",
     "output_type": "stream",
     "text": [
      "0.09067130088806152\n",
      "0.0891120433807373\n",
      "0.08472323417663574\n"
     ]
    },
    {
     "name": "stderr",
     "output_type": "stream",
     "text": [
      "\n",
      " 78%|███████████████████████████████         | 778/1000 [01:09<00:19, 11.15it/s]\u001b[A"
     ]
    },
    {
     "name": "stdout",
     "output_type": "stream",
     "text": [
      "0.09268331527709961\n",
      "0.08799409866333008\n",
      "0.0890951156616211\n"
     ]
    },
    {
     "name": "stderr",
     "output_type": "stream",
     "text": [
      "\n",
      " 78%|███████████████████████████████▏        | 780/1000 [01:09<00:19, 11.11it/s]\u001b[A\n",
      " 78%|███████████████████████████████▎        | 782/1000 [01:09<00:19, 11.12it/s]\u001b[A"
     ]
    },
    {
     "name": "stdout",
     "output_type": "stream",
     "text": [
      "0.09144234657287598\n",
      "0.09126400947570801\n",
      "0.08687305450439453\n"
     ]
    },
    {
     "name": "stderr",
     "output_type": "stream",
     "text": [
      "\n",
      " 78%|███████████████████████████████▎        | 784/1000 [01:09<00:19, 11.10it/s]\u001b[A"
     ]
    },
    {
     "name": "stdout",
     "output_type": "stream",
     "text": [
      "0.09486198425292969\n",
      "0.08498811721801758\n",
      "0.09851574897766113\n"
     ]
    },
    {
     "name": "stderr",
     "output_type": "stream",
     "text": [
      "\n",
      " 79%|███████████████████████████████▍        | 786/1000 [01:09<00:19, 10.88it/s]\u001b[A\n",
      " 79%|███████████████████████████████▌        | 788/1000 [01:10<00:19, 10.92it/s]\u001b[A"
     ]
    },
    {
     "name": "stdout",
     "output_type": "stream",
     "text": [
      "0.09263062477111816\n",
      "0.09234142303466797\n",
      "0.08816957473754883\n"
     ]
    },
    {
     "name": "stderr",
     "output_type": "stream",
     "text": [
      "\n",
      " 79%|███████████████████████████████▌        | 790/1000 [01:10<00:19, 11.00it/s]\u001b[A"
     ]
    },
    {
     "name": "stdout",
     "output_type": "stream",
     "text": [
      "0.09332585334777832\n",
      "0.08449006080627441\n",
      "0.09116053581237793\n"
     ]
    },
    {
     "name": "stderr",
     "output_type": "stream",
     "text": [
      "\n",
      " 79%|███████████████████████████████▋        | 792/1000 [01:10<00:18, 10.97it/s]\u001b[A\n",
      " 79%|███████████████████████████████▊        | 794/1000 [01:10<00:18, 11.08it/s]\u001b[A"
     ]
    },
    {
     "name": "stdout",
     "output_type": "stream",
     "text": [
      "0.09101343154907227\n",
      "0.08806872367858887\n",
      "0.0868682861328125\n"
     ]
    },
    {
     "name": "stderr",
     "output_type": "stream",
     "text": [
      "\n",
      " 80%|███████████████████████████████▊        | 796/1000 [01:10<00:18, 11.11it/s]\u001b[A"
     ]
    },
    {
     "name": "stdout",
     "output_type": "stream",
     "text": [
      "0.09280538558959961\n",
      "0.08495116233825684\n",
      "0.09025740623474121\n"
     ]
    },
    {
     "name": "stderr",
     "output_type": "stream",
     "text": [
      "\n",
      " 80%|███████████████████████████████▉        | 798/1000 [01:10<00:18, 11.10it/s]\u001b[A\n",
      " 80%|████████████████████████████████        | 800/1000 [01:11<00:17, 11.19it/s]\u001b[A"
     ]
    },
    {
     "name": "stdout",
     "output_type": "stream",
     "text": [
      "0.08901238441467285\n",
      "0.08772158622741699\n",
      "0.08673882484436035\n"
     ]
    },
    {
     "name": "stderr",
     "output_type": "stream",
     "text": [
      "\n",
      " 80%|████████████████████████████████        | 802/1000 [01:11<00:17, 11.19it/s]\u001b[A"
     ]
    },
    {
     "name": "stdout",
     "output_type": "stream",
     "text": [
      "0.09101176261901855\n",
      "0.08618021011352539\n",
      "0.08976197242736816\n"
     ]
    },
    {
     "name": "stderr",
     "output_type": "stream",
     "text": [
      "\n",
      " 80%|████████████████████████████████▏       | 804/1000 [01:11<00:17, 11.15it/s]\u001b[A\n",
      " 81%|████████████████████████████████▏       | 806/1000 [01:11<00:17, 11.20it/s]\u001b[A"
     ]
    },
    {
     "name": "stdout",
     "output_type": "stream",
     "text": [
      "0.09022283554077148\n",
      "0.08721470832824707\n",
      "0.08788633346557617\n"
     ]
    },
    {
     "name": "stderr",
     "output_type": "stream",
     "text": [
      "\n",
      " 81%|████████████████████████████████▎       | 808/1000 [01:11<00:17, 11.18it/s]\u001b[A"
     ]
    },
    {
     "name": "stdout",
     "output_type": "stream",
     "text": [
      "0.08994340896606445\n",
      "0.08872795104980469\n",
      "0.08862566947937012\n"
     ]
    },
    {
     "name": "stderr",
     "output_type": "stream",
     "text": [
      "\n",
      " 81%|████████████████████████████████▍       | 810/1000 [01:12<00:17, 11.17it/s]\u001b[A\n",
      " 81%|████████████████████████████████▍       | 812/1000 [01:12<00:16, 11.27it/s]\u001b[A"
     ]
    },
    {
     "name": "stdout",
     "output_type": "stream",
     "text": [
      "0.08946394920349121\n",
      "0.08768057823181152\n",
      "0.08508563041687012\n"
     ]
    },
    {
     "name": "stderr",
     "output_type": "stream",
     "text": [
      "\n",
      " 81%|████████████████████████████████▌       | 814/1000 [01:12<00:16, 11.25it/s]\u001b[A"
     ]
    },
    {
     "name": "stdout",
     "output_type": "stream",
     "text": [
      "0.09167814254760742\n",
      "0.08536505699157715\n",
      "0.0877530574798584\n"
     ]
    },
    {
     "name": "stderr",
     "output_type": "stream",
     "text": [
      "\n",
      " 82%|████████████████████████████████▋       | 816/1000 [01:12<00:16, 11.27it/s]\u001b[A\n",
      " 82%|████████████████████████████████▋       | 818/1000 [01:12<00:16, 11.34it/s]\u001b[A"
     ]
    },
    {
     "name": "stdout",
     "output_type": "stream",
     "text": [
      "0.08779740333557129\n",
      "0.0876462459564209\n",
      "0.08498311042785645\n"
     ]
    },
    {
     "name": "stderr",
     "output_type": "stream",
     "text": [
      "\n",
      " 82%|████████████████████████████████▊       | 820/1000 [01:12<00:15, 11.35it/s]\u001b[A"
     ]
    },
    {
     "name": "stdout",
     "output_type": "stream",
     "text": [
      "0.08868908882141113\n",
      "0.0858161449432373\n",
      "0.08829832077026367\n"
     ]
    },
    {
     "name": "stderr",
     "output_type": "stream",
     "text": [
      "\n",
      " 82%|████████████████████████████████▉       | 822/1000 [01:13<00:15, 11.32it/s]\u001b[A\n",
      " 82%|████████████████████████████████▉       | 824/1000 [01:13<00:15, 11.33it/s]\u001b[A"
     ]
    },
    {
     "name": "stdout",
     "output_type": "stream",
     "text": [
      "0.0881960391998291\n",
      "0.08908724784851074\n",
      "0.08595418930053711\n"
     ]
    },
    {
     "name": "stderr",
     "output_type": "stream",
     "text": [
      "\n",
      " 83%|█████████████████████████████████       | 826/1000 [01:13<00:15, 11.31it/s]\u001b[A"
     ]
    },
    {
     "name": "stdout",
     "output_type": "stream",
     "text": [
      "0.09058475494384766\n",
      "0.0857703685760498\n",
      "0.08945584297180176\n"
     ]
    },
    {
     "name": "stderr",
     "output_type": "stream",
     "text": [
      "\n",
      " 83%|█████████████████████████████████       | 828/1000 [01:13<00:15, 11.28it/s]\u001b[A\n",
      " 83%|█████████████████████████████████▏      | 830/1000 [01:13<00:14, 11.34it/s]\u001b[A"
     ]
    },
    {
     "name": "stdout",
     "output_type": "stream",
     "text": [
      "0.08794760704040527\n",
      "0.08761143684387207\n",
      "0.08559346199035645\n"
     ]
    },
    {
     "name": "stderr",
     "output_type": "stream",
     "text": [
      "\n",
      " 83%|█████████████████████████████████▎      | 832/1000 [01:13<00:14, 11.31it/s]\u001b[A"
     ]
    },
    {
     "name": "stdout",
     "output_type": "stream",
     "text": [
      "0.09058380126953125\n",
      "0.08626842498779297\n",
      "0.0889134407043457\n"
     ]
    },
    {
     "name": "stderr",
     "output_type": "stream",
     "text": [
      "\n",
      " 83%|█████████████████████████████████▎      | 834/1000 [01:14<00:14, 11.27it/s]\u001b[A\n",
      " 84%|█████████████████████████████████▍      | 836/1000 [01:14<00:14, 11.28it/s]\u001b[A"
     ]
    },
    {
     "name": "stdout",
     "output_type": "stream",
     "text": [
      "0.08845901489257812\n",
      "0.08888697624206543\n",
      "0.0868535041809082\n"
     ]
    },
    {
     "name": "stderr",
     "output_type": "stream",
     "text": [
      "\n",
      " 84%|█████████████████████████████████▌      | 838/1000 [01:14<00:14, 11.31it/s]\u001b[A"
     ]
    },
    {
     "name": "stdout",
     "output_type": "stream",
     "text": [
      "0.08958601951599121\n",
      "0.08550548553466797\n",
      "0.08747720718383789\n"
     ]
    },
    {
     "name": "stderr",
     "output_type": "stream",
     "text": [
      "\n",
      " 84%|█████████████████████████████████▌      | 840/1000 [01:14<00:14, 11.31it/s]\u001b[A\n",
      " 84%|█████████████████████████████████▋      | 842/1000 [01:14<00:13, 11.34it/s]\u001b[A"
     ]
    },
    {
     "name": "stdout",
     "output_type": "stream",
     "text": [
      "0.08797407150268555\n",
      "0.08831548690795898\n",
      "0.08579301834106445\n"
     ]
    },
    {
     "name": "stderr",
     "output_type": "stream",
     "text": [
      "\n",
      " 84%|█████████████████████████████████▊      | 844/1000 [01:15<00:13, 11.29it/s]\u001b[A"
     ]
    },
    {
     "name": "stdout",
     "output_type": "stream",
     "text": [
      "0.09167051315307617\n",
      "0.08625411987304688\n",
      "0.08775091171264648\n"
     ]
    },
    {
     "name": "stderr",
     "output_type": "stream",
     "text": [
      "\n",
      " 85%|█████████████████████████████████▊      | 846/1000 [01:15<00:13, 11.30it/s]\u001b[A\n",
      " 85%|█████████████████████████████████▉      | 848/1000 [01:15<00:13, 11.36it/s]\u001b[A"
     ]
    },
    {
     "name": "stdout",
     "output_type": "stream",
     "text": [
      "0.08759140968322754\n",
      "0.08778047561645508\n",
      "0.08484530448913574\n"
     ]
    },
    {
     "name": "stderr",
     "output_type": "stream",
     "text": [
      "\n",
      " 85%|██████████████████████████████████      | 850/1000 [01:15<00:13, 11.36it/s]\u001b[A"
     ]
    },
    {
     "name": "stdout",
     "output_type": "stream",
     "text": [
      "0.09014701843261719\n",
      "0.08511161804199219\n",
      "0.08742475509643555\n"
     ]
    },
    {
     "name": "stderr",
     "output_type": "stream",
     "text": [
      "\n",
      " 85%|██████████████████████████████████      | 852/1000 [01:15<00:13, 11.36it/s]\u001b[A\n",
      " 85%|██████████████████████████████████▏     | 854/1000 [01:15<00:12, 11.39it/s]\u001b[A"
     ]
    },
    {
     "name": "stdout",
     "output_type": "stream",
     "text": [
      "0.08723235130310059\n",
      "0.08756399154663086\n",
      "0.08597922325134277\n"
     ]
    },
    {
     "name": "stderr",
     "output_type": "stream",
     "text": [
      "\n",
      " 86%|██████████████████████████████████▏     | 856/1000 [01:16<00:12, 11.36it/s]\u001b[A"
     ]
    },
    {
     "name": "stdout",
     "output_type": "stream",
     "text": [
      "0.0903615951538086\n",
      "0.08560657501220703\n",
      "0.08830809593200684\n"
     ]
    },
    {
     "name": "stderr",
     "output_type": "stream",
     "text": [
      "\n",
      " 86%|██████████████████████████████████▎     | 858/1000 [01:16<00:12, 11.34it/s]\u001b[A\n",
      " 86%|██████████████████████████████████▍     | 860/1000 [01:16<00:12, 11.37it/s]\u001b[A"
     ]
    },
    {
     "name": "stdout",
     "output_type": "stream",
     "text": [
      "0.08796548843383789\n",
      "0.08799290657043457\n",
      "0.08561539649963379\n"
     ]
    },
    {
     "name": "stderr",
     "output_type": "stream",
     "text": [
      "\n",
      " 86%|██████████████████████████████████▍     | 862/1000 [01:16<00:12, 11.38it/s]\u001b[A"
     ]
    },
    {
     "name": "stdout",
     "output_type": "stream",
     "text": [
      "0.08952498435974121\n",
      "0.08455610275268555\n",
      "0.08743047714233398\n"
     ]
    },
    {
     "name": "stderr",
     "output_type": "stream",
     "text": [
      "\n",
      " 86%|██████████████████████████████████▌     | 864/1000 [01:16<00:11, 11.38it/s]\u001b[A\n",
      " 87%|██████████████████████████████████▋     | 866/1000 [01:16<00:11, 11.37it/s]\u001b[A"
     ]
    },
    {
     "name": "stdout",
     "output_type": "stream",
     "text": [
      "0.08727502822875977\n",
      "0.08915948867797852\n",
      "0.08635950088500977\n"
     ]
    },
    {
     "name": "stderr",
     "output_type": "stream",
     "text": [
      "\n",
      " 87%|██████████████████████████████████▋     | 868/1000 [01:17<00:11, 11.32it/s]\u001b[A"
     ]
    },
    {
     "name": "stdout",
     "output_type": "stream",
     "text": [
      "0.09171271324157715\n",
      "0.08555817604064941\n",
      "0.08792281150817871\n"
     ]
    },
    {
     "name": "stderr",
     "output_type": "stream",
     "text": [
      "\n",
      " 87%|██████████████████████████████████▊     | 870/1000 [01:17<00:11, 11.33it/s]\u001b[A\n",
      " 87%|██████████████████████████████████▉     | 872/1000 [01:17<00:11, 11.36it/s]\u001b[A"
     ]
    },
    {
     "name": "stdout",
     "output_type": "stream",
     "text": [
      "0.08725547790527344\n",
      "0.08897781372070312\n",
      "0.08470344543457031\n"
     ]
    },
    {
     "name": "stderr",
     "output_type": "stream",
     "text": [
      "\n",
      " 87%|██████████████████████████████████▉     | 874/1000 [01:17<00:11, 11.37it/s]\u001b[A"
     ]
    },
    {
     "name": "stdout",
     "output_type": "stream",
     "text": [
      "0.08964800834655762\n",
      "0.08512401580810547\n",
      "0.08906412124633789\n"
     ]
    },
    {
     "name": "stderr",
     "output_type": "stream",
     "text": [
      "\n",
      " 88%|███████████████████████████████████     | 876/1000 [01:17<00:10, 11.33it/s]\u001b[A\n",
      " 88%|███████████████████████████████████     | 878/1000 [01:17<00:10, 11.35it/s]\u001b[A"
     ]
    },
    {
     "name": "stdout",
     "output_type": "stream",
     "text": [
      "0.08769416809082031\n",
      "0.0885617733001709\n",
      "0.0859076976776123\n"
     ]
    },
    {
     "name": "stderr",
     "output_type": "stream",
     "text": [
      "\n",
      " 88%|███████████████████████████████████▏    | 880/1000 [01:18<00:10, 11.31it/s]\u001b[A"
     ]
    },
    {
     "name": "stdout",
     "output_type": "stream",
     "text": [
      "0.09096503257751465\n",
      "0.08601999282836914\n",
      "0.08917951583862305\n"
     ]
    },
    {
     "name": "stderr",
     "output_type": "stream",
     "text": [
      "\n",
      " 88%|███████████████████████████████████▎    | 882/1000 [01:18<00:10, 11.27it/s]\u001b[A\n",
      " 88%|███████████████████████████████████▎    | 884/1000 [01:18<00:10, 11.34it/s]\u001b[A"
     ]
    },
    {
     "name": "stdout",
     "output_type": "stream",
     "text": [
      "0.08829951286315918\n",
      "0.08797073364257812\n",
      "0.0846107006072998\n"
     ]
    },
    {
     "name": "stderr",
     "output_type": "stream",
     "text": [
      "\n",
      " 89%|███████████████████████████████████▍    | 886/1000 [01:18<00:10, 11.32it/s]\u001b[A"
     ]
    },
    {
     "name": "stdout",
     "output_type": "stream",
     "text": [
      "0.09120869636535645\n",
      "0.08516645431518555\n",
      "0.08792543411254883\n"
     ]
    },
    {
     "name": "stderr",
     "output_type": "stream",
     "text": [
      "\n",
      " 89%|███████████████████████████████████▌    | 888/1000 [01:18<00:09, 11.30it/s]\u001b[A\n",
      " 89%|███████████████████████████████████▌    | 890/1000 [01:19<00:09, 11.32it/s]\u001b[A"
     ]
    },
    {
     "name": "stdout",
     "output_type": "stream",
     "text": [
      "0.08890295028686523\n",
      "0.08959412574768066\n",
      "0.08514881134033203\n"
     ]
    },
    {
     "name": "stderr",
     "output_type": "stream",
     "text": [
      "\n",
      " 89%|███████████████████████████████████▋    | 892/1000 [01:19<00:09, 11.23it/s]\u001b[A"
     ]
    },
    {
     "name": "stdout",
     "output_type": "stream",
     "text": [
      "0.09416961669921875\n",
      "0.08575153350830078\n",
      "0.08785319328308105\n"
     ]
    },
    {
     "name": "stderr",
     "output_type": "stream",
     "text": [
      "\n",
      " 89%|███████████████████████████████████▊    | 894/1000 [01:19<00:09, 11.25it/s]\u001b[A\n",
      " 90%|███████████████████████████████████▊    | 896/1000 [01:19<00:09, 11.31it/s]\u001b[A"
     ]
    },
    {
     "name": "stdout",
     "output_type": "stream",
     "text": [
      "0.08790254592895508\n",
      "0.08884167671203613\n",
      "0.08455204963684082\n"
     ]
    },
    {
     "name": "stderr",
     "output_type": "stream",
     "text": [
      "\n",
      " 90%|███████████████████████████████████▉    | 898/1000 [01:19<00:09, 11.30it/s]\u001b[A"
     ]
    },
    {
     "name": "stdout",
     "output_type": "stream",
     "text": [
      "0.09154582023620605\n",
      "0.08456921577453613\n",
      "0.08846664428710938\n"
     ]
    },
    {
     "name": "stderr",
     "output_type": "stream",
     "text": [
      "\n",
      " 90%|████████████████████████████████████    | 900/1000 [01:19<00:08, 11.28it/s]\u001b[A\n",
      " 90%|████████████████████████████████████    | 902/1000 [01:20<00:08, 11.34it/s]\u001b[A"
     ]
    },
    {
     "name": "stdout",
     "output_type": "stream",
     "text": [
      "0.08838725090026855\n",
      "0.08881545066833496\n",
      "0.08449769020080566\n"
     ]
    },
    {
     "name": "stderr",
     "output_type": "stream",
     "text": [
      "\n",
      " 90%|████████████████████████████████████▏   | 904/1000 [01:20<00:08, 11.32it/s]\u001b[A"
     ]
    },
    {
     "name": "stdout",
     "output_type": "stream",
     "text": [
      "0.09132170677185059\n",
      "0.08504986763000488\n",
      "0.08863067626953125\n"
     ]
    },
    {
     "name": "stderr",
     "output_type": "stream",
     "text": [
      "\n",
      " 91%|████████████████████████████████████▏   | 906/1000 [01:20<00:08, 11.31it/s]\u001b[A\n",
      " 91%|████████████████████████████████████▎   | 908/1000 [01:20<00:08, 11.35it/s]\u001b[A"
     ]
    },
    {
     "name": "stdout",
     "output_type": "stream",
     "text": [
      "0.08713173866271973\n",
      "0.08932995796203613\n",
      "0.08440423011779785\n"
     ]
    },
    {
     "name": "stderr",
     "output_type": "stream",
     "text": [
      "\n",
      " 91%|████████████████████████████████████▍   | 910/1000 [01:20<00:07, 11.32it/s]\u001b[A"
     ]
    },
    {
     "name": "stdout",
     "output_type": "stream",
     "text": [
      "0.08998250961303711\n",
      "0.08651375770568848\n",
      "0.09056830406188965\n"
     ]
    },
    {
     "name": "stderr",
     "output_type": "stream",
     "text": [
      "\n",
      " 91%|████████████████████████████████████▍   | 912/1000 [01:21<00:07, 11.25it/s]\u001b[A\n",
      " 91%|████████████████████████████████████▌   | 914/1000 [01:21<00:07, 11.33it/s]\u001b[A"
     ]
    },
    {
     "name": "stdout",
     "output_type": "stream",
     "text": [
      "0.08875155448913574\n",
      "0.08791112899780273\n",
      "0.08471250534057617\n"
     ]
    },
    {
     "name": "stderr",
     "output_type": "stream",
     "text": [
      "\n",
      " 92%|████████████████████████████████████▋   | 916/1000 [01:21<00:07, 11.33it/s]\u001b[A"
     ]
    },
    {
     "name": "stdout",
     "output_type": "stream",
     "text": [
      "0.09022879600524902\n",
      "0.08510422706604004\n",
      "0.0893564224243164\n"
     ]
    },
    {
     "name": "stderr",
     "output_type": "stream",
     "text": [
      "\n",
      " 92%|████████████████████████████████████▋   | 918/1000 [01:21<00:07, 11.29it/s]\u001b[A\n",
      " 92%|████████████████████████████████████▊   | 920/1000 [01:21<00:07, 11.36it/s]\u001b[A"
     ]
    },
    {
     "name": "stdout",
     "output_type": "stream",
     "text": [
      "0.0884237289428711\n",
      "0.08749985694885254\n",
      "0.08463120460510254\n"
     ]
    },
    {
     "name": "stderr",
     "output_type": "stream",
     "text": [
      "\n",
      " 92%|████████████████████████████████████▉   | 922/1000 [01:21<00:06, 11.34it/s]\u001b[A"
     ]
    },
    {
     "name": "stdout",
     "output_type": "stream",
     "text": [
      "0.09039974212646484\n",
      "0.08557009696960449\n",
      "0.08717942237854004\n"
     ]
    },
    {
     "name": "stderr",
     "output_type": "stream",
     "text": [
      "\n",
      " 92%|████████████████████████████████████▉   | 924/1000 [01:22<00:06, 11.32it/s]\u001b[A\n",
      " 93%|█████████████████████████████████████   | 926/1000 [01:22<00:06, 11.37it/s]\u001b[A"
     ]
    },
    {
     "name": "stdout",
     "output_type": "stream",
     "text": [
      "0.08877682685852051\n",
      "0.08782577514648438\n",
      "0.08483219146728516\n"
     ]
    },
    {
     "name": "stderr",
     "output_type": "stream",
     "text": [
      "\n",
      " 93%|█████████████████████████████████████   | 928/1000 [01:22<00:06, 11.39it/s]\u001b[A"
     ]
    },
    {
     "name": "stdout",
     "output_type": "stream",
     "text": [
      "0.08922004699707031\n",
      "0.08466720581054688\n",
      "0.08813858032226562\n"
     ]
    },
    {
     "name": "stderr",
     "output_type": "stream",
     "text": [
      "\n",
      " 93%|█████████████████████████████████████▏  | 930/1000 [01:22<00:06, 11.36it/s]\u001b[A\n",
      " 93%|█████████████████████████████████████▎  | 932/1000 [01:22<00:05, 11.37it/s]\u001b[A"
     ]
    },
    {
     "name": "stdout",
     "output_type": "stream",
     "text": [
      "0.08804726600646973\n",
      "0.08952474594116211\n",
      "0.08491277694702148\n"
     ]
    },
    {
     "name": "stderr",
     "output_type": "stream",
     "text": [
      "\n",
      " 93%|█████████████████████████████████████▎  | 934/1000 [01:22<00:05, 11.33it/s]\u001b[A"
     ]
    },
    {
     "name": "stdout",
     "output_type": "stream",
     "text": [
      "0.09166479110717773\n",
      "0.08504223823547363\n",
      "0.08891081809997559\n"
     ]
    },
    {
     "name": "stderr",
     "output_type": "stream",
     "text": [
      "\n",
      " 94%|█████████████████████████████████████▍  | 936/1000 [01:23<00:05, 11.30it/s]\u001b[A\n",
      " 94%|█████████████████████████████████████▌  | 938/1000 [01:23<00:05, 11.37it/s]\u001b[A"
     ]
    },
    {
     "name": "stdout",
     "output_type": "stream",
     "text": [
      "0.08833456039428711\n",
      "0.08736944198608398\n",
      "0.08488702774047852\n"
     ]
    },
    {
     "name": "stderr",
     "output_type": "stream",
     "text": [
      "\n",
      " 94%|█████████████████████████████████████▌  | 940/1000 [01:23<00:05, 11.36it/s]\u001b[A"
     ]
    },
    {
     "name": "stdout",
     "output_type": "stream",
     "text": [
      "0.08980298042297363\n",
      "0.0853424072265625\n",
      "0.08678197860717773\n"
     ]
    },
    {
     "name": "stderr",
     "output_type": "stream",
     "text": [
      "\n",
      " 94%|█████████████████████████████████████▋  | 942/1000 [01:23<00:05, 11.36it/s]\u001b[A\n",
      " 94%|█████████████████████████████████████▊  | 944/1000 [01:23<00:04, 11.41it/s]\u001b[A"
     ]
    },
    {
     "name": "stdout",
     "output_type": "stream",
     "text": [
      "0.08839631080627441\n",
      "0.08763360977172852\n",
      "0.08464860916137695\n"
     ]
    },
    {
     "name": "stderr",
     "output_type": "stream",
     "text": [
      "\n",
      " 95%|█████████████████████████████████████▊  | 946/1000 [01:24<00:04, 11.37it/s]\u001b[A"
     ]
    },
    {
     "name": "stdout",
     "output_type": "stream",
     "text": [
      "0.09055781364440918\n",
      "0.08593106269836426\n",
      "0.08745479583740234\n"
     ]
    },
    {
     "name": "stderr",
     "output_type": "stream",
     "text": [
      "\n",
      " 95%|█████████████████████████████████████▉  | 948/1000 [01:24<00:04, 11.35it/s]\u001b[A\n",
      " 95%|██████████████████████████████████████  | 950/1000 [01:24<00:04, 11.38it/s]\u001b[A"
     ]
    },
    {
     "name": "stdout",
     "output_type": "stream",
     "text": [
      "0.0880727767944336\n",
      "0.08889889717102051\n",
      "0.08494782447814941\n"
     ]
    },
    {
     "name": "stderr",
     "output_type": "stream",
     "text": [
      "\n",
      " 95%|██████████████████████████████████████  | 952/1000 [01:24<00:04, 11.37it/s]\u001b[A"
     ]
    },
    {
     "name": "stdout",
     "output_type": "stream",
     "text": [
      "0.08989095687866211\n",
      "0.08480644226074219\n",
      "0.08787822723388672\n"
     ]
    },
    {
     "name": "stderr",
     "output_type": "stream",
     "text": [
      "\n",
      " 95%|██████████████████████████████████████▏ | 954/1000 [01:24<00:04, 11.35it/s]\u001b[A\n",
      " 96%|██████████████████████████████████████▏ | 956/1000 [01:24<00:03, 11.40it/s]\u001b[A"
     ]
    },
    {
     "name": "stdout",
     "output_type": "stream",
     "text": [
      "0.08798956871032715\n",
      "0.08713626861572266\n",
      "0.08548712730407715\n"
     ]
    },
    {
     "name": "stderr",
     "output_type": "stream",
     "text": [
      "\n",
      " 96%|██████████████████████████████████████▎ | 958/1000 [01:25<00:03, 11.38it/s]\u001b[A"
     ]
    },
    {
     "name": "stdout",
     "output_type": "stream",
     "text": [
      "0.09008121490478516\n",
      "0.08506512641906738\n",
      "0.08723092079162598\n"
     ]
    },
    {
     "name": "stderr",
     "output_type": "stream",
     "text": [
      "\n",
      " 96%|██████████████████████████████████████▍ | 960/1000 [01:25<00:03, 11.35it/s]\u001b[A\n",
      " 96%|██████████████████████████████████████▍ | 962/1000 [01:25<00:03, 11.38it/s]\u001b[A"
     ]
    },
    {
     "name": "stdout",
     "output_type": "stream",
     "text": [
      "0.08885455131530762\n",
      "0.08861160278320312\n",
      "0.08496761322021484\n"
     ]
    },
    {
     "name": "stderr",
     "output_type": "stream",
     "text": [
      "\n",
      " 96%|██████████████████████████████████████▌ | 964/1000 [01:25<00:03, 11.36it/s]\u001b[A"
     ]
    },
    {
     "name": "stdout",
     "output_type": "stream",
     "text": [
      "0.09067821502685547\n",
      "0.08514976501464844\n",
      "0.08769464492797852\n"
     ]
    },
    {
     "name": "stderr",
     "output_type": "stream",
     "text": [
      "\n",
      " 97%|██████████████████████████████████████▋ | 966/1000 [01:25<00:02, 11.35it/s]\u001b[A\n",
      " 97%|██████████████████████████████████████▋ | 968/1000 [01:25<00:02, 11.41it/s]\u001b[A"
     ]
    },
    {
     "name": "stdout",
     "output_type": "stream",
     "text": [
      "0.08762693405151367\n",
      "0.08759641647338867\n",
      "0.08478331565856934\n"
     ]
    },
    {
     "name": "stderr",
     "output_type": "stream",
     "text": [
      "\n",
      " 97%|██████████████████████████████████████▊ | 970/1000 [01:26<00:02, 11.40it/s]\u001b[A"
     ]
    },
    {
     "name": "stdout",
     "output_type": "stream",
     "text": [
      "0.08974742889404297\n",
      "0.08488035202026367\n",
      "0.08774948120117188\n"
     ]
    },
    {
     "name": "stderr",
     "output_type": "stream",
     "text": [
      "\n",
      " 97%|██████████████████████████████████████▉ | 972/1000 [01:26<00:02, 11.36it/s]\u001b[A\n",
      " 97%|██████████████████████████████████████▉ | 974/1000 [01:26<00:02, 11.41it/s]\u001b[A"
     ]
    },
    {
     "name": "stdout",
     "output_type": "stream",
     "text": [
      "0.08825922012329102\n",
      "0.08725547790527344\n",
      "0.08510708808898926\n"
     ]
    },
    {
     "name": "stderr",
     "output_type": "stream",
     "text": [
      "\n",
      " 98%|███████████████████████████████████████ | 976/1000 [01:26<00:02, 11.39it/s]\u001b[A"
     ]
    },
    {
     "name": "stdout",
     "output_type": "stream",
     "text": [
      "0.09073019027709961\n",
      "0.08485865592956543\n",
      "0.08758878707885742\n"
     ]
    },
    {
     "name": "stderr",
     "output_type": "stream",
     "text": [
      "\n",
      " 98%|███████████████████████████████████████ | 978/1000 [01:26<00:01, 11.35it/s]\u001b[A\n",
      " 98%|███████████████████████████████████████▏| 980/1000 [01:26<00:01, 11.37it/s]\u001b[A"
     ]
    },
    {
     "name": "stdout",
     "output_type": "stream",
     "text": [
      "0.08850693702697754\n",
      "0.0881803035736084\n",
      "0.08636689186096191\n"
     ]
    },
    {
     "name": "stderr",
     "output_type": "stream",
     "text": [
      "\n",
      " 98%|███████████████████████████████████████▎| 982/1000 [01:27<00:01, 11.35it/s]\u001b[A"
     ]
    },
    {
     "name": "stdout",
     "output_type": "stream",
     "text": [
      "0.09061741828918457\n",
      "0.08514833450317383\n",
      "0.08818197250366211\n"
     ]
    },
    {
     "name": "stderr",
     "output_type": "stream",
     "text": [
      "\n",
      " 98%|███████████████████████████████████████▎| 984/1000 [01:27<00:01, 11.32it/s]\u001b[A\n",
      " 99%|███████████████████████████████████████▍| 986/1000 [01:27<00:01, 11.34it/s]\u001b[A"
     ]
    },
    {
     "name": "stdout",
     "output_type": "stream",
     "text": [
      "0.0880899429321289\n",
      "0.08944582939147949\n",
      "0.08497214317321777\n"
     ]
    },
    {
     "name": "stderr",
     "output_type": "stream",
     "text": [
      "\n",
      " 99%|███████████████████████████████████████▌| 988/1000 [01:27<00:01, 11.27it/s]\u001b[A"
     ]
    },
    {
     "name": "stdout",
     "output_type": "stream",
     "text": [
      "0.09414339065551758\n",
      "0.08469629287719727\n",
      "0.08780646324157715\n"
     ]
    },
    {
     "name": "stderr",
     "output_type": "stream",
     "text": [
      "\n",
      " 99%|███████████████████████████████████████▌| 990/1000 [01:27<00:00, 11.26it/s]\u001b[A\n",
      " 99%|███████████████████████████████████████▋| 992/1000 [01:28<00:00, 11.28it/s]\u001b[A"
     ]
    },
    {
     "name": "stdout",
     "output_type": "stream",
     "text": [
      "0.08897972106933594\n",
      "0.08726668357849121\n",
      "0.08802008628845215\n"
     ]
    },
    {
     "name": "stderr",
     "output_type": "stream",
     "text": [
      "\n",
      " 99%|███████████████████████████████████████▊| 994/1000 [01:28<00:00, 11.30it/s]\u001b[A"
     ]
    },
    {
     "name": "stdout",
     "output_type": "stream",
     "text": [
      "0.08991432189941406\n",
      "0.08511614799499512\n",
      "0.08754706382751465\n"
     ]
    },
    {
     "name": "stderr",
     "output_type": "stream",
     "text": [
      "\n",
      "100%|███████████████████████████████████████▊| 996/1000 [01:28<00:00, 11.30it/s]\u001b[A\n",
      "100%|███████████████████████████████████████▉| 998/1000 [01:28<00:00, 11.36it/s]\u001b[A"
     ]
    },
    {
     "name": "stdout",
     "output_type": "stream",
     "text": [
      "0.08850550651550293\n",
      "0.0876474380493164\n",
      "0.08483624458312988\n"
     ]
    },
    {
     "name": "stderr",
     "output_type": "stream",
     "text": [
      "\n",
      "100%|███████████████████████████████████████| 1000/1000 [01:28<00:00, 11.27it/s]\u001b[A\n",
      " 20%|█████████                                    | 1/5 [01:28<05:55, 88.76s/it]"
     ]
    },
    {
     "name": "stdout",
     "output_type": "stream",
     "text": [
      "0.09020757675170898\n",
      "0.0849912166595459\n",
      "One run completed\n"
     ]
    },
    {
     "name": "stderr",
     "output_type": "stream",
     "text": [
      "\n",
      "  0%|                                                  | 0/1000 [00:00<?, ?it/s]\u001b[A"
     ]
    },
    {
     "name": "stdout",
     "output_type": "stream",
     "text": [
      "0.08966279029846191\n"
     ]
    },
    {
     "name": "stderr",
     "output_type": "stream",
     "text": [
      "\n",
      "  0%|                                          | 2/1000 [00:00<01:29, 11.21it/s]\u001b[A"
     ]
    },
    {
     "name": "stdout",
     "output_type": "stream",
     "text": [
      "0.08857440948486328\n",
      "0.08713054656982422\n"
     ]
    },
    {
     "name": "stderr",
     "output_type": "stream",
     "text": [
      "\n",
      "  0%|▏                                         | 4/1000 [00:00<01:28, 11.31it/s]\u001b[A"
     ]
    },
    {
     "name": "stdout",
     "output_type": "stream",
     "text": [
      "0.0875253677368164\n"
     ]
    },
    {
     "name": "stderr",
     "output_type": "stream",
     "text": [
      "\n",
      "  1%|▎                                         | 6/1000 [00:00<01:27, 11.36it/s]\u001b[A"
     ]
    },
    {
     "name": "stdout",
     "output_type": "stream",
     "text": [
      "0.08939123153686523\n",
      "0.08450603485107422\n",
      "0.08913326263427734\n"
     ]
    },
    {
     "name": "stderr",
     "output_type": "stream",
     "text": [
      "\n",
      "  1%|▎                                         | 8/1000 [00:00<01:27, 11.32it/s]\u001b[A"
     ]
    },
    {
     "name": "stdout",
     "output_type": "stream",
     "text": [
      "0.08729362487792969\n",
      "0.08750295639038086\n"
     ]
    },
    {
     "name": "stderr",
     "output_type": "stream",
     "text": [
      "\n",
      "  1%|▍                                        | 10/1000 [00:00<01:27, 11.33it/s]\u001b[A"
     ]
    },
    {
     "name": "stdout",
     "output_type": "stream",
     "text": [
      "0.0874936580657959\n"
     ]
    },
    {
     "name": "stderr",
     "output_type": "stream",
     "text": [
      "\n",
      "  1%|▍                                        | 12/1000 [00:01<01:27, 11.32it/s]\u001b[A"
     ]
    },
    {
     "name": "stdout",
     "output_type": "stream",
     "text": [
      "0.09119296073913574\n",
      "0.08455848693847656\n",
      "0.08939218521118164\n"
     ]
    },
    {
     "name": "stderr",
     "output_type": "stream",
     "text": [
      "\n",
      "  1%|▌                                        | 14/1000 [00:01<01:27, 11.28it/s]\u001b[A"
     ]
    },
    {
     "name": "stdout",
     "output_type": "stream",
     "text": [
      "0.0879814624786377\n",
      "0.08807086944580078\n"
     ]
    },
    {
     "name": "stderr",
     "output_type": "stream",
     "text": [
      "\n",
      "  2%|▋                                        | 16/1000 [00:01<01:27, 11.29it/s]\u001b[A"
     ]
    },
    {
     "name": "stdout",
     "output_type": "stream",
     "text": [
      "0.08754134178161621\n"
     ]
    },
    {
     "name": "stderr",
     "output_type": "stream",
     "text": [
      "\n",
      "  2%|▋                                        | 18/1000 [00:01<01:26, 11.31it/s]\u001b[A"
     ]
    },
    {
     "name": "stdout",
     "output_type": "stream",
     "text": [
      "0.09082508087158203\n",
      "0.0843513011932373\n",
      "0.08917546272277832\n"
     ]
    },
    {
     "name": "stderr",
     "output_type": "stream",
     "text": [
      "\n",
      "  2%|▊                                        | 20/1000 [00:01<01:26, 11.27it/s]\u001b[A"
     ]
    },
    {
     "name": "stdout",
     "output_type": "stream",
     "text": [
      "0.08806800842285156\n",
      "0.08765864372253418\n"
     ]
    },
    {
     "name": "stderr",
     "output_type": "stream",
     "text": [
      "\n",
      "  2%|▉                                        | 22/1000 [00:01<01:26, 11.30it/s]\u001b[A"
     ]
    },
    {
     "name": "stdout",
     "output_type": "stream",
     "text": [
      "0.08741378784179688\n"
     ]
    },
    {
     "name": "stderr",
     "output_type": "stream",
     "text": [
      "\n",
      "  2%|▉                                        | 24/1000 [00:02<01:26, 11.29it/s]\u001b[A"
     ]
    },
    {
     "name": "stdout",
     "output_type": "stream",
     "text": [
      "0.09113931655883789\n",
      "0.08545303344726562\n",
      "0.08991169929504395\n"
     ]
    },
    {
     "name": "stderr",
     "output_type": "stream",
     "text": [
      "\n",
      "  3%|█                                        | 26/1000 [00:02<01:46,  9.14it/s]\u001b[A\n",
      "  3%|█▏                                       | 28/1000 [00:02<01:39,  9.75it/s]\u001b[A"
     ]
    },
    {
     "name": "stdout",
     "output_type": "stream",
     "text": [
      "0.22335600852966309\n",
      "0.08852386474609375\n",
      "0.08409810066223145\n"
     ]
    },
    {
     "name": "stderr",
     "output_type": "stream",
     "text": [
      "\n",
      "  3%|█▏                                       | 30/1000 [00:02<01:35, 10.20it/s]\u001b[A"
     ]
    },
    {
     "name": "stdout",
     "output_type": "stream",
     "text": [
      "0.08903312683105469\n",
      "0.08492875099182129\n",
      "0.0873723030090332\n"
     ]
    },
    {
     "name": "stderr",
     "output_type": "stream",
     "text": [
      "\n",
      "  3%|█▎                                       | 32/1000 [00:02<01:31, 10.53it/s]\u001b[A\n",
      "  3%|█▍                                       | 34/1000 [00:03<01:29, 10.81it/s]\u001b[A"
     ]
    },
    {
     "name": "stdout",
     "output_type": "stream",
     "text": [
      "0.08677411079406738\n",
      "0.08743500709533691\n",
      "0.08502197265625\n"
     ]
    },
    {
     "name": "stderr",
     "output_type": "stream",
     "text": [
      "\n",
      "  4%|█▍                                       | 36/1000 [00:03<01:27, 10.98it/s]\u001b[A"
     ]
    },
    {
     "name": "stdout",
     "output_type": "stream",
     "text": [
      "0.0898289680480957\n",
      "0.08439326286315918\n",
      "0.08689713478088379\n"
     ]
    },
    {
     "name": "stderr",
     "output_type": "stream",
     "text": [
      "\n",
      "  4%|█▌                                       | 38/1000 [00:03<01:26, 11.12it/s]\u001b[A\n",
      "  4%|█▋                                       | 40/1000 [00:03<01:25, 11.26it/s]\u001b[A"
     ]
    },
    {
     "name": "stdout",
     "output_type": "stream",
     "text": [
      "0.08667635917663574\n",
      "0.08758163452148438\n",
      "0.0838632583618164\n"
     ]
    },
    {
     "name": "stderr",
     "output_type": "stream",
     "text": [
      "\n",
      "  4%|█▋                                       | 42/1000 [00:03<01:24, 11.33it/s]\u001b[A"
     ]
    },
    {
     "name": "stdout",
     "output_type": "stream",
     "text": [
      "0.08880949020385742\n",
      "0.08411645889282227\n",
      "0.08732485771179199\n"
     ]
    },
    {
     "name": "stderr",
     "output_type": "stream",
     "text": [
      "\n",
      "  4%|█▊                                       | 44/1000 [00:04<01:24, 11.36it/s]\u001b[A\n",
      "  5%|█▉                                       | 46/1000 [00:04<01:23, 11.39it/s]\u001b[A"
     ]
    },
    {
     "name": "stdout",
     "output_type": "stream",
     "text": [
      "0.08640050888061523\n",
      "0.08865714073181152\n",
      "0.0843191146850586\n"
     ]
    },
    {
     "name": "stderr",
     "output_type": "stream",
     "text": [
      "\n",
      "  5%|█▉                                       | 48/1000 [00:04<01:23, 11.37it/s]\u001b[A"
     ]
    },
    {
     "name": "stdout",
     "output_type": "stream",
     "text": [
      "0.09097456932067871\n",
      "0.08452129364013672\n",
      "0.08702874183654785\n"
     ]
    },
    {
     "name": "stderr",
     "output_type": "stream",
     "text": [
      "\n",
      "  5%|██                                       | 50/1000 [00:04<01:23, 11.40it/s]\u001b[A\n",
      "  5%|██▏                                      | 52/1000 [00:04<01:22, 11.45it/s]\u001b[A"
     ]
    },
    {
     "name": "stdout",
     "output_type": "stream",
     "text": [
      "0.08629298210144043\n",
      "0.08702731132507324\n",
      "0.0847017765045166\n"
     ]
    },
    {
     "name": "stderr",
     "output_type": "stream",
     "text": [
      "\n",
      "  5%|██▏                                      | 54/1000 [00:04<01:22, 11.45it/s]\u001b[A"
     ]
    },
    {
     "name": "stdout",
     "output_type": "stream",
     "text": [
      "0.08860039710998535\n",
      "0.08482170104980469\n",
      "0.08904814720153809\n"
     ]
    },
    {
     "name": "stderr",
     "output_type": "stream",
     "text": [
      "\n",
      "  6%|██▎                                      | 56/1000 [00:05<01:22, 11.41it/s]\u001b[A\n",
      "  6%|██▍                                      | 58/1000 [00:05<01:22, 11.43it/s]\u001b[A"
     ]
    },
    {
     "name": "stdout",
     "output_type": "stream",
     "text": [
      "0.08680915832519531\n",
      "0.08819437026977539\n",
      "0.08453726768493652\n"
     ]
    },
    {
     "name": "stderr",
     "output_type": "stream",
     "text": [
      "\n",
      "  6%|██▍                                      | 60/1000 [00:05<01:22, 11.42it/s]\u001b[A"
     ]
    },
    {
     "name": "stdout",
     "output_type": "stream",
     "text": [
      "0.0900106430053711\n",
      "0.08437228202819824\n",
      "0.08771562576293945\n"
     ]
    },
    {
     "name": "stderr",
     "output_type": "stream",
     "text": [
      "\n",
      "  6%|██▌                                      | 62/1000 [00:05<01:22, 11.42it/s]\u001b[A\n",
      "  6%|██▌                                      | 64/1000 [00:05<01:21, 11.42it/s]\u001b[A"
     ]
    },
    {
     "name": "stdout",
     "output_type": "stream",
     "text": [
      "0.08682513236999512\n",
      "0.08916139602661133\n",
      "0.08455944061279297\n"
     ]
    },
    {
     "name": "stderr",
     "output_type": "stream",
     "text": [
      "\n",
      "  7%|██▋                                      | 66/1000 [00:05<01:21, 11.41it/s]\u001b[A"
     ]
    },
    {
     "name": "stdout",
     "output_type": "stream",
     "text": [
      "0.09023737907409668\n",
      "0.08429956436157227\n",
      "0.08834123611450195\n"
     ]
    },
    {
     "name": "stderr",
     "output_type": "stream",
     "text": [
      "\n",
      "  7%|██▊                                      | 68/1000 [00:06<01:21, 11.39it/s]\u001b[A\n",
      "  7%|██▊                                      | 70/1000 [00:06<01:21, 11.41it/s]\u001b[A"
     ]
    },
    {
     "name": "stdout",
     "output_type": "stream",
     "text": [
      "0.08690953254699707\n",
      "0.08878183364868164\n",
      "0.08443737030029297\n"
     ]
    },
    {
     "name": "stderr",
     "output_type": "stream",
     "text": [
      "\n",
      "  7%|██▉                                      | 72/1000 [00:06<01:21, 11.40it/s]\u001b[A"
     ]
    },
    {
     "name": "stdout",
     "output_type": "stream",
     "text": [
      "0.09054040908813477\n",
      "0.08417034149169922\n",
      "0.08756446838378906\n"
     ]
    },
    {
     "name": "stderr",
     "output_type": "stream",
     "text": [
      "\n",
      "  7%|███                                      | 74/1000 [00:06<01:21, 11.40it/s]\u001b[A\n",
      "  8%|███                                      | 76/1000 [00:06<01:20, 11.45it/s]\u001b[A"
     ]
    },
    {
     "name": "stdout",
     "output_type": "stream",
     "text": [
      "0.08681535720825195\n",
      "0.08784365653991699\n",
      "0.0839083194732666\n"
     ]
    },
    {
     "name": "stderr",
     "output_type": "stream",
     "text": [
      "\n",
      "  8%|███▏                                     | 78/1000 [00:06<01:21, 11.37it/s]\u001b[A"
     ]
    },
    {
     "name": "stdout",
     "output_type": "stream",
     "text": [
      "0.09315943717956543\n",
      "0.08426308631896973\n",
      "0.0882253646850586\n"
     ]
    },
    {
     "name": "stderr",
     "output_type": "stream",
     "text": [
      "\n",
      "  8%|███▎                                     | 80/1000 [00:07<01:21, 11.34it/s]\u001b[A\n",
      "  8%|███▎                                     | 82/1000 [00:07<01:20, 11.39it/s]\u001b[A"
     ]
    },
    {
     "name": "stdout",
     "output_type": "stream",
     "text": [
      "0.08813309669494629\n",
      "0.08858919143676758\n",
      "0.08415389060974121\n"
     ]
    },
    {
     "name": "stderr",
     "output_type": "stream",
     "text": [
      "\n",
      "  8%|███▍                                     | 84/1000 [00:07<01:20, 11.39it/s]\u001b[A"
     ]
    },
    {
     "name": "stdout",
     "output_type": "stream",
     "text": [
      "0.09044814109802246\n",
      "0.0841515064239502\n",
      "0.08931446075439453\n"
     ]
    },
    {
     "name": "stderr",
     "output_type": "stream",
     "text": [
      "\n",
      "  9%|███▌                                     | 86/1000 [00:07<01:20, 11.35it/s]\u001b[A\n",
      "  9%|███▌                                     | 88/1000 [00:07<01:20, 11.39it/s]\u001b[A"
     ]
    },
    {
     "name": "stdout",
     "output_type": "stream",
     "text": [
      "0.0869297981262207\n",
      "0.0886073112487793\n",
      "0.0847785472869873\n"
     ]
    },
    {
     "name": "stderr",
     "output_type": "stream",
     "text": [
      "\n",
      "  9%|███▋                                     | 90/1000 [00:08<01:19, 11.40it/s]\u001b[A"
     ]
    },
    {
     "name": "stdout",
     "output_type": "stream",
     "text": [
      "0.08980345726013184\n",
      "0.08405017852783203\n",
      "0.08789563179016113\n"
     ]
    },
    {
     "name": "stderr",
     "output_type": "stream",
     "text": [
      "\n",
      "  9%|███▊                                     | 92/1000 [00:08<01:19, 11.39it/s]\u001b[A\n",
      "  9%|███▊                                     | 94/1000 [00:08<01:19, 11.45it/s]\u001b[A"
     ]
    },
    {
     "name": "stdout",
     "output_type": "stream",
     "text": [
      "0.08706188201904297\n",
      "0.08698725700378418\n",
      "0.08412480354309082\n"
     ]
    },
    {
     "name": "stderr",
     "output_type": "stream",
     "text": [
      "\n",
      " 10%|███▉                                     | 96/1000 [00:08<01:18, 11.46it/s]\u001b[A"
     ]
    },
    {
     "name": "stdout",
     "output_type": "stream",
     "text": [
      "0.08884572982788086\n",
      "0.0839536190032959\n",
      "0.08774089813232422\n"
     ]
    },
    {
     "name": "stderr",
     "output_type": "stream",
     "text": [
      "\n",
      " 10%|████                                     | 98/1000 [00:08<01:18, 11.44it/s]\u001b[A\n",
      " 10%|████                                    | 100/1000 [00:08<01:18, 11.49it/s]\u001b[A"
     ]
    },
    {
     "name": "stdout",
     "output_type": "stream",
     "text": [
      "0.08658194541931152\n",
      "0.08712148666381836\n",
      "0.08400368690490723\n"
     ]
    },
    {
     "name": "stderr",
     "output_type": "stream",
     "text": [
      "\n",
      " 10%|████                                    | 102/1000 [00:09<01:18, 11.47it/s]\u001b[A"
     ]
    },
    {
     "name": "stdout",
     "output_type": "stream",
     "text": [
      "0.0901026725769043\n",
      "0.08419251441955566\n",
      "0.0882265567779541\n"
     ]
    },
    {
     "name": "stderr",
     "output_type": "stream",
     "text": [
      "\n",
      " 10%|████▏                                   | 104/1000 [00:09<01:18, 11.43it/s]\u001b[A\n",
      " 11%|████▏                                   | 106/1000 [00:09<01:17, 11.48it/s]\u001b[A"
     ]
    },
    {
     "name": "stdout",
     "output_type": "stream",
     "text": [
      "0.08673667907714844\n",
      "0.08715558052062988\n",
      "0.08420252799987793\n"
     ]
    },
    {
     "name": "stderr",
     "output_type": "stream",
     "text": [
      "\n",
      " 11%|████▎                                   | 108/1000 [00:09<01:17, 11.48it/s]\u001b[A"
     ]
    },
    {
     "name": "stdout",
     "output_type": "stream",
     "text": [
      "0.0895850658416748\n",
      "0.08371305465698242\n",
      "0.08698654174804688\n"
     ]
    },
    {
     "name": "stderr",
     "output_type": "stream",
     "text": [
      "\n",
      " 11%|████▍                                   | 110/1000 [00:09<01:17, 11.48it/s]\u001b[A\n",
      " 11%|████▍                                   | 112/1000 [00:09<01:17, 11.53it/s]\u001b[A"
     ]
    },
    {
     "name": "stdout",
     "output_type": "stream",
     "text": [
      "0.08619117736816406\n",
      "0.08646321296691895\n",
      "0.08413982391357422\n"
     ]
    },
    {
     "name": "stderr",
     "output_type": "stream",
     "text": [
      "\n",
      " 11%|████▌                                   | 114/1000 [00:10<01:17, 11.50it/s]\u001b[A"
     ]
    },
    {
     "name": "stdout",
     "output_type": "stream",
     "text": [
      "0.0888664722442627\n",
      "0.08472251892089844\n",
      "0.08707332611083984\n"
     ]
    },
    {
     "name": "stderr",
     "output_type": "stream",
     "text": [
      "\n",
      " 12%|████▋                                   | 116/1000 [00:10<01:17, 11.45it/s]\u001b[A\n",
      " 12%|████▋                                   | 118/1000 [00:10<01:16, 11.46it/s]\u001b[A"
     ]
    },
    {
     "name": "stdout",
     "output_type": "stream",
     "text": [
      "0.08799242973327637\n",
      "0.08771586418151855\n",
      "0.08553194999694824\n"
     ]
    },
    {
     "name": "stderr",
     "output_type": "stream",
     "text": [
      "\n",
      " 12%|████▊                                   | 120/1000 [00:10<01:16, 11.43it/s]\u001b[A"
     ]
    },
    {
     "name": "stdout",
     "output_type": "stream",
     "text": [
      "0.08993148803710938\n",
      "0.08487796783447266\n",
      "0.08775663375854492\n"
     ]
    },
    {
     "name": "stderr",
     "output_type": "stream",
     "text": [
      "\n",
      " 12%|████▉                                   | 122/1000 [00:10<01:16, 11.42it/s]\u001b[A\n",
      " 12%|████▉                                   | 124/1000 [00:11<01:16, 11.46it/s]\u001b[A"
     ]
    },
    {
     "name": "stdout",
     "output_type": "stream",
     "text": [
      "0.08670854568481445\n",
      "0.08666062355041504\n",
      "0.08484411239624023\n"
     ]
    },
    {
     "name": "stderr",
     "output_type": "stream",
     "text": [
      "\n",
      " 13%|█████                                   | 126/1000 [00:11<01:16, 11.43it/s]\u001b[A"
     ]
    },
    {
     "name": "stdout",
     "output_type": "stream",
     "text": [
      "0.09006857872009277\n",
      "0.0849299430847168\n",
      "0.08813190460205078\n"
     ]
    },
    {
     "name": "stderr",
     "output_type": "stream",
     "text": [
      "\n",
      " 13%|█████                                   | 128/1000 [00:11<01:16, 11.40it/s]\u001b[A\n",
      " 13%|█████▏                                  | 130/1000 [00:11<01:16, 11.41it/s]\u001b[A"
     ]
    },
    {
     "name": "stdout",
     "output_type": "stream",
     "text": [
      "0.08708858489990234\n",
      "0.08794832229614258\n",
      "0.08555245399475098\n"
     ]
    },
    {
     "name": "stderr",
     "output_type": "stream",
     "text": [
      "\n",
      " 13%|█████▎                                  | 132/1000 [00:11<01:16, 11.39it/s]\u001b[A"
     ]
    },
    {
     "name": "stdout",
     "output_type": "stream",
     "text": [
      "0.09046506881713867\n",
      "0.08484387397766113\n",
      "0.08751463890075684\n"
     ]
    },
    {
     "name": "stderr",
     "output_type": "stream",
     "text": [
      "\n",
      " 13%|█████▎                                  | 134/1000 [00:11<01:16, 11.38it/s]\u001b[A\n",
      " 14%|█████▍                                  | 136/1000 [00:12<01:15, 11.43it/s]\u001b[A"
     ]
    },
    {
     "name": "stdout",
     "output_type": "stream",
     "text": [
      "0.08743929862976074\n",
      "0.08764433860778809\n",
      "0.08432722091674805\n"
     ]
    },
    {
     "name": "stderr",
     "output_type": "stream",
     "text": [
      "\n",
      " 14%|█████▌                                  | 138/1000 [00:12<01:15, 11.42it/s]\u001b[A"
     ]
    },
    {
     "name": "stdout",
     "output_type": "stream",
     "text": [
      "0.08934473991394043\n",
      "0.08515644073486328\n",
      "0.08955025672912598\n"
     ]
    },
    {
     "name": "stderr",
     "output_type": "stream",
     "text": [
      "\n",
      " 14%|█████▌                                  | 140/1000 [00:12<01:15, 11.35it/s]\u001b[A\n",
      " 14%|█████▋                                  | 142/1000 [00:12<01:15, 11.38it/s]\u001b[A"
     ]
    },
    {
     "name": "stdout",
     "output_type": "stream",
     "text": [
      "0.0877683162689209\n",
      "0.08924341201782227\n",
      "0.08460736274719238\n"
     ]
    },
    {
     "name": "stderr",
     "output_type": "stream",
     "text": [
      "\n",
      " 14%|█████▊                                  | 144/1000 [00:12<01:15, 11.38it/s]\u001b[A"
     ]
    },
    {
     "name": "stdout",
     "output_type": "stream",
     "text": [
      "0.08926892280578613\n",
      "0.08533620834350586\n",
      "0.08814668655395508\n"
     ]
    },
    {
     "name": "stderr",
     "output_type": "stream",
     "text": [
      "\n",
      " 15%|█████▊                                  | 146/1000 [00:12<01:15, 11.37it/s]\u001b[A\n",
      " 15%|█████▉                                  | 148/1000 [00:13<01:14, 11.41it/s]\u001b[A"
     ]
    },
    {
     "name": "stdout",
     "output_type": "stream",
     "text": [
      "0.08736824989318848\n",
      "0.08676457405090332\n",
      "0.08556747436523438\n"
     ]
    },
    {
     "name": "stderr",
     "output_type": "stream",
     "text": [
      "\n",
      " 15%|██████                                  | 150/1000 [00:13<01:14, 11.39it/s]\u001b[A"
     ]
    },
    {
     "name": "stdout",
     "output_type": "stream",
     "text": [
      "0.09021186828613281\n",
      "0.08473396301269531\n",
      "0.08789753913879395\n"
     ]
    },
    {
     "name": "stderr",
     "output_type": "stream",
     "text": [
      "\n",
      " 15%|██████                                  | 152/1000 [00:13<01:14, 11.38it/s]\u001b[A\n",
      " 15%|██████▏                                 | 154/1000 [00:13<01:14, 11.41it/s]\u001b[A"
     ]
    },
    {
     "name": "stdout",
     "output_type": "stream",
     "text": [
      "0.08727526664733887\n",
      "0.08785557746887207\n",
      "0.08508539199829102\n"
     ]
    },
    {
     "name": "stderr",
     "output_type": "stream",
     "text": [
      "\n",
      " 16%|██████▏                                 | 156/1000 [00:13<01:13, 11.43it/s]\u001b[A"
     ]
    },
    {
     "name": "stdout",
     "output_type": "stream",
     "text": [
      "0.08885741233825684\n",
      "0.08451533317565918\n",
      "0.08915185928344727\n"
     ]
    },
    {
     "name": "stderr",
     "output_type": "stream",
     "text": [
      "\n",
      " 16%|██████▎                                 | 158/1000 [00:13<01:14, 11.38it/s]\u001b[A\n",
      " 16%|██████▍                                 | 160/1000 [00:14<01:13, 11.43it/s]\u001b[A"
     ]
    },
    {
     "name": "stdout",
     "output_type": "stream",
     "text": [
      "0.08711886405944824\n",
      "0.08698248863220215\n",
      "0.08521795272827148\n"
     ]
    },
    {
     "name": "stderr",
     "output_type": "stream",
     "text": [
      "\n",
      " 16%|██████▍                                 | 162/1000 [00:14<01:13, 11.38it/s]\u001b[A"
     ]
    },
    {
     "name": "stdout",
     "output_type": "stream",
     "text": [
      "0.09145283699035645\n",
      "0.0850229263305664\n",
      "0.08701825141906738\n"
     ]
    },
    {
     "name": "stderr",
     "output_type": "stream",
     "text": [
      "\n",
      " 16%|██████▌                                 | 164/1000 [00:14<01:13, 11.39it/s]\u001b[A\n",
      " 17%|██████▋                                 | 166/1000 [00:14<01:12, 11.42it/s]\u001b[A"
     ]
    },
    {
     "name": "stdout",
     "output_type": "stream",
     "text": [
      "0.08727359771728516\n",
      "0.08764410018920898\n",
      "0.08482027053833008\n"
     ]
    },
    {
     "name": "stderr",
     "output_type": "stream",
     "text": [
      "\n",
      " 17%|██████▋                                 | 168/1000 [00:14<01:12, 11.43it/s]\u001b[A"
     ]
    },
    {
     "name": "stdout",
     "output_type": "stream",
     "text": [
      "0.08899378776550293\n",
      "0.08457517623901367\n",
      "0.08730077743530273\n"
     ]
    },
    {
     "name": "stderr",
     "output_type": "stream",
     "text": [
      "\n",
      " 17%|██████▊                                 | 170/1000 [00:15<01:12, 11.42it/s]\u001b[A\n",
      " 17%|██████▉                                 | 172/1000 [00:15<01:12, 11.45it/s]\u001b[A"
     ]
    },
    {
     "name": "stdout",
     "output_type": "stream",
     "text": [
      "0.08702254295349121\n",
      "0.0878603458404541\n",
      "0.08464550971984863\n"
     ]
    },
    {
     "name": "stderr",
     "output_type": "stream",
     "text": [
      "\n",
      " 17%|██████▉                                 | 174/1000 [00:15<01:12, 11.42it/s]\u001b[A"
     ]
    },
    {
     "name": "stdout",
     "output_type": "stream",
     "text": [
      "0.09074234962463379\n",
      "0.08427262306213379\n",
      "0.0870821475982666\n"
     ]
    },
    {
     "name": "stderr",
     "output_type": "stream",
     "text": [
      "\n",
      " 18%|███████                                 | 176/1000 [00:15<01:12, 11.41it/s]\u001b[A\n",
      " 18%|███████                                 | 178/1000 [00:15<01:11, 11.46it/s]\u001b[A"
     ]
    },
    {
     "name": "stdout",
     "output_type": "stream",
     "text": [
      "0.08721423149108887\n",
      "0.08599686622619629\n",
      "0.08535957336425781\n"
     ]
    },
    {
     "name": "stderr",
     "output_type": "stream",
     "text": [
      "\n",
      " 18%|███████▏                                | 180/1000 [00:15<01:11, 11.44it/s]\u001b[A"
     ]
    },
    {
     "name": "stdout",
     "output_type": "stream",
     "text": [
      "0.08895015716552734\n",
      "0.08562469482421875\n",
      "0.08878636360168457\n"
     ]
    },
    {
     "name": "stderr",
     "output_type": "stream",
     "text": [
      "\n",
      " 18%|███████▎                                | 182/1000 [00:16<01:11, 11.38it/s]\u001b[A\n",
      " 18%|███████▎                                | 184/1000 [00:16<01:11, 11.41it/s]\u001b[A"
     ]
    },
    {
     "name": "stdout",
     "output_type": "stream",
     "text": [
      "0.08783721923828125\n",
      "0.08708381652832031\n",
      "0.08602285385131836\n"
     ]
    },
    {
     "name": "stderr",
     "output_type": "stream",
     "text": [
      "\n",
      " 19%|███████▍                                | 186/1000 [00:16<01:11, 11.40it/s]\u001b[A"
     ]
    },
    {
     "name": "stdout",
     "output_type": "stream",
     "text": [
      "0.09001398086547852\n",
      "0.08442854881286621\n",
      "0.08658289909362793\n"
     ]
    },
    {
     "name": "stderr",
     "output_type": "stream",
     "text": [
      "\n",
      " 19%|███████▌                                | 188/1000 [00:16<01:11, 11.41it/s]\u001b[A\n",
      " 19%|███████▌                                | 190/1000 [00:16<01:10, 11.44it/s]\u001b[A"
     ]
    },
    {
     "name": "stdout",
     "output_type": "stream",
     "text": [
      "0.08700680732727051\n",
      "0.08752155303955078\n",
      "0.08505845069885254\n"
     ]
    },
    {
     "name": "stderr",
     "output_type": "stream",
     "text": [
      "\n",
      " 19%|███████▋                                | 192/1000 [00:16<01:10, 11.44it/s]\u001b[A"
     ]
    },
    {
     "name": "stdout",
     "output_type": "stream",
     "text": [
      "0.08925724029541016\n",
      "0.08468437194824219\n",
      "0.08882451057434082\n"
     ]
    },
    {
     "name": "stderr",
     "output_type": "stream",
     "text": [
      "\n",
      " 19%|███████▊                                | 194/1000 [00:17<01:10, 11.37it/s]\u001b[A\n",
      " 20%|███████▊                                | 196/1000 [00:17<01:10, 11.40it/s]\u001b[A"
     ]
    },
    {
     "name": "stdout",
     "output_type": "stream",
     "text": [
      "0.0883491039276123\n",
      "0.08792519569396973\n",
      "0.08484888076782227\n"
     ]
    },
    {
     "name": "stderr",
     "output_type": "stream",
     "text": [
      "\n",
      " 20%|███████▉                                | 198/1000 [00:17<01:10, 11.39it/s]\u001b[A"
     ]
    },
    {
     "name": "stdout",
     "output_type": "stream",
     "text": [
      "0.08990120887756348\n",
      "0.08494281768798828\n",
      "0.08849811553955078\n"
     ]
    },
    {
     "name": "stderr",
     "output_type": "stream",
     "text": [
      "\n",
      " 20%|████████                                | 200/1000 [00:17<01:10, 11.37it/s]\u001b[A\n",
      " 20%|████████                                | 202/1000 [00:17<01:10, 11.35it/s]\u001b[A"
     ]
    },
    {
     "name": "stdout",
     "output_type": "stream",
     "text": [
      "0.08706164360046387\n",
      "0.09096050262451172\n",
      "0.08482623100280762\n"
     ]
    },
    {
     "name": "stderr",
     "output_type": "stream",
     "text": [
      "\n",
      " 20%|████████▏                               | 204/1000 [00:18<01:10, 11.34it/s]\u001b[A"
     ]
    },
    {
     "name": "stdout",
     "output_type": "stream",
     "text": [
      "0.09052634239196777\n",
      "0.08505010604858398\n",
      "0.08730602264404297\n"
     ]
    },
    {
     "name": "stderr",
     "output_type": "stream",
     "text": [
      "\n",
      " 21%|████████▏                               | 206/1000 [00:18<01:10, 11.32it/s]\u001b[A\n",
      " 21%|████████▎                               | 208/1000 [00:18<01:09, 11.38it/s]\u001b[A"
     ]
    },
    {
     "name": "stdout",
     "output_type": "stream",
     "text": [
      "0.08857488632202148\n",
      "0.08753323554992676\n",
      "0.08461928367614746\n"
     ]
    },
    {
     "name": "stderr",
     "output_type": "stream",
     "text": [
      "\n",
      " 21%|████████▍                               | 210/1000 [00:18<01:09, 11.41it/s]\u001b[A"
     ]
    },
    {
     "name": "stdout",
     "output_type": "stream",
     "text": [
      "0.08861088752746582\n",
      "0.08462285995483398\n",
      "0.08682703971862793\n"
     ]
    },
    {
     "name": "stderr",
     "output_type": "stream",
     "text": [
      "\n",
      " 21%|████████▍                               | 212/1000 [00:18<01:09, 11.40it/s]\u001b[A\n",
      " 21%|████████▌                               | 214/1000 [00:18<01:08, 11.46it/s]\u001b[A"
     ]
    },
    {
     "name": "stdout",
     "output_type": "stream",
     "text": [
      "0.08734774589538574\n",
      "0.08652925491333008\n",
      "0.08481025695800781\n"
     ]
    },
    {
     "name": "stderr",
     "output_type": "stream",
     "text": [
      "\n",
      " 22%|████████▋                               | 216/1000 [00:19<01:08, 11.42it/s]\u001b[A"
     ]
    },
    {
     "name": "stdout",
     "output_type": "stream",
     "text": [
      "0.09117603302001953\n",
      "0.08447122573852539\n",
      "0.08777117729187012\n"
     ]
    },
    {
     "name": "stderr",
     "output_type": "stream",
     "text": [
      "\n",
      " 22%|████████▋                               | 218/1000 [00:19<01:08, 11.39it/s]\u001b[A\n",
      " 22%|████████▊                               | 220/1000 [00:19<01:08, 11.44it/s]\u001b[A"
     ]
    },
    {
     "name": "stdout",
     "output_type": "stream",
     "text": [
      "0.0877687931060791\n",
      "0.08771800994873047\n",
      "0.08444809913635254\n"
     ]
    },
    {
     "name": "stderr",
     "output_type": "stream",
     "text": [
      "\n",
      " 22%|████████▉                               | 222/1000 [00:19<01:08, 11.43it/s]\u001b[A"
     ]
    },
    {
     "name": "stdout",
     "output_type": "stream",
     "text": [
      "0.0891122817993164\n",
      "0.08496475219726562\n",
      "0.08721518516540527\n"
     ]
    },
    {
     "name": "stderr",
     "output_type": "stream",
     "text": [
      "\n",
      " 22%|████████▉                               | 224/1000 [00:19<01:08, 11.41it/s]\u001b[A\n",
      " 23%|█████████                               | 226/1000 [00:19<01:07, 11.48it/s]\u001b[A"
     ]
    },
    {
     "name": "stdout",
     "output_type": "stream",
     "text": [
      "0.08767175674438477\n",
      "0.08660149574279785\n",
      "0.08420825004577637\n"
     ]
    },
    {
     "name": "stderr",
     "output_type": "stream",
     "text": [
      "\n",
      " 23%|█████████                               | 228/1000 [00:20<01:07, 11.42it/s]\u001b[A"
     ]
    },
    {
     "name": "stdout",
     "output_type": "stream",
     "text": [
      "0.09121227264404297\n",
      "0.08504939079284668\n",
      "0.08750700950622559\n"
     ]
    },
    {
     "name": "stderr",
     "output_type": "stream",
     "text": [
      "\n",
      " 23%|█████████▏                              | 230/1000 [00:20<01:07, 11.38it/s]\u001b[A\n",
      " 23%|█████████▎                              | 232/1000 [00:20<01:07, 11.42it/s]\u001b[A"
     ]
    },
    {
     "name": "stdout",
     "output_type": "stream",
     "text": [
      "0.0880732536315918\n",
      "0.08815360069274902\n",
      "0.08446860313415527\n"
     ]
    },
    {
     "name": "stderr",
     "output_type": "stream",
     "text": [
      "\n",
      " 23%|█████████▎                              | 234/1000 [00:20<01:07, 11.40it/s]\u001b[A"
     ]
    },
    {
     "name": "stdout",
     "output_type": "stream",
     "text": [
      "0.09018230438232422\n",
      "0.08467483520507812\n",
      "0.08824825286865234\n"
     ]
    },
    {
     "name": "stderr",
     "output_type": "stream",
     "text": [
      "\n",
      " 24%|█████████▍                              | 236/1000 [00:20<01:07, 11.37it/s]\u001b[A\n",
      " 24%|█████████▌                              | 238/1000 [00:21<01:06, 11.41it/s]\u001b[A"
     ]
    },
    {
     "name": "stdout",
     "output_type": "stream",
     "text": [
      "0.08789610862731934\n",
      "0.08814024925231934\n",
      "0.08441781997680664\n"
     ]
    },
    {
     "name": "stderr",
     "output_type": "stream",
     "text": [
      "\n",
      " 24%|█████████▌                              | 240/1000 [00:21<01:06, 11.40it/s]\u001b[A"
     ]
    },
    {
     "name": "stdout",
     "output_type": "stream",
     "text": [
      "0.08883237838745117\n",
      "0.08546876907348633\n",
      "0.08826613426208496\n"
     ]
    },
    {
     "name": "stderr",
     "output_type": "stream",
     "text": [
      "\n",
      " 24%|█████████▋                              | 242/1000 [00:21<01:06, 11.37it/s]\u001b[A\n",
      " 24%|█████████▊                              | 244/1000 [00:21<01:06, 11.43it/s]\u001b[A"
     ]
    },
    {
     "name": "stdout",
     "output_type": "stream",
     "text": [
      "0.08767437934875488\n",
      "0.08761167526245117\n",
      "0.08407998085021973\n"
     ]
    },
    {
     "name": "stderr",
     "output_type": "stream",
     "text": [
      "\n",
      " 25%|█████████▊                              | 246/1000 [00:21<01:06, 11.41it/s]\u001b[A"
     ]
    },
    {
     "name": "stdout",
     "output_type": "stream",
     "text": [
      "0.09067654609680176\n",
      "0.08443570137023926\n",
      "0.08783221244812012\n"
     ]
    },
    {
     "name": "stderr",
     "output_type": "stream",
     "text": [
      "\n",
      " 25%|█████████▉                              | 248/1000 [00:21<01:06, 11.39it/s]\u001b[A\n",
      " 25%|██████████                              | 250/1000 [00:22<01:05, 11.44it/s]\u001b[A"
     ]
    },
    {
     "name": "stdout",
     "output_type": "stream",
     "text": [
      "0.08715176582336426\n",
      "0.08743834495544434\n",
      "0.08453774452209473\n"
     ]
    },
    {
     "name": "stderr",
     "output_type": "stream",
     "text": [
      "\n",
      " 25%|██████████                              | 252/1000 [00:22<01:05, 11.41it/s]\u001b[A"
     ]
    },
    {
     "name": "stdout",
     "output_type": "stream",
     "text": [
      "0.09001517295837402\n",
      "0.08484530448913574\n",
      "0.08867168426513672\n"
     ]
    },
    {
     "name": "stderr",
     "output_type": "stream",
     "text": [
      "\n",
      " 25%|██████████▏                             | 254/1000 [00:22<01:05, 11.37it/s]\u001b[A\n",
      " 26%|██████████▏                             | 256/1000 [00:22<01:05, 11.42it/s]\u001b[A"
     ]
    },
    {
     "name": "stdout",
     "output_type": "stream",
     "text": [
      "0.08736658096313477\n",
      "0.08788228034973145\n",
      "0.08414673805236816\n"
     ]
    },
    {
     "name": "stderr",
     "output_type": "stream",
     "text": [
      "\n",
      " 26%|██████████▎                             | 258/1000 [00:22<01:05, 11.39it/s]\u001b[A"
     ]
    },
    {
     "name": "stdout",
     "output_type": "stream",
     "text": [
      "0.09130573272705078\n",
      "0.08413529396057129\n",
      "0.08837080001831055\n"
     ]
    },
    {
     "name": "stderr",
     "output_type": "stream",
     "text": [
      "\n",
      " 26%|██████████▍                             | 260/1000 [00:22<01:05, 11.38it/s]\u001b[A\n",
      " 26%|██████████▍                             | 262/1000 [00:23<01:04, 11.42it/s]\u001b[A"
     ]
    },
    {
     "name": "stdout",
     "output_type": "stream",
     "text": [
      "0.08697080612182617\n",
      "0.08830952644348145\n",
      "0.08421730995178223\n"
     ]
    },
    {
     "name": "stderr",
     "output_type": "stream",
     "text": [
      "\n",
      " 26%|██████████▌                             | 264/1000 [00:23<01:04, 11.36it/s]\u001b[A"
     ]
    },
    {
     "name": "stdout",
     "output_type": "stream",
     "text": [
      "0.08976364135742188\n",
      "0.08735799789428711\n",
      "0.08830881118774414\n"
     ]
    },
    {
     "name": "stderr",
     "output_type": "stream",
     "text": [
      "\n",
      " 27%|██████████▋                             | 266/1000 [00:23<01:04, 11.30it/s]\u001b[A\n",
      " 27%|██████████▋                             | 268/1000 [00:23<01:04, 11.34it/s]\u001b[A"
     ]
    },
    {
     "name": "stdout",
     "output_type": "stream",
     "text": [
      "0.08991742134094238\n",
      "0.08906984329223633\n",
      "0.08469820022583008\n"
     ]
    },
    {
     "name": "stderr",
     "output_type": "stream",
     "text": [
      "\n",
      " 27%|██████████▊                             | 270/1000 [00:23<01:04, 11.35it/s]\u001b[A"
     ]
    },
    {
     "name": "stdout",
     "output_type": "stream",
     "text": [
      "0.09055423736572266\n",
      "0.08434414863586426\n",
      "0.0884406566619873\n"
     ]
    },
    {
     "name": "stderr",
     "output_type": "stream",
     "text": [
      "\n",
      " 27%|██████████▉                             | 272/1000 [00:23<01:04, 11.33it/s]\u001b[A\n",
      " 27%|██████████▉                             | 274/1000 [00:24<01:03, 11.40it/s]\u001b[A"
     ]
    },
    {
     "name": "stdout",
     "output_type": "stream",
     "text": [
      "0.08754730224609375\n",
      "0.08718657493591309\n",
      "0.08469367027282715\n"
     ]
    },
    {
     "name": "stderr",
     "output_type": "stream",
     "text": [
      "\n",
      " 28%|███████████                             | 276/1000 [00:24<01:03, 11.37it/s]\u001b[A"
     ]
    },
    {
     "name": "stdout",
     "output_type": "stream",
     "text": [
      "0.09141254425048828\n",
      "0.08422970771789551\n",
      "0.08750319480895996\n"
     ]
    },
    {
     "name": "stderr",
     "output_type": "stream",
     "text": [
      "\n",
      " 28%|███████████                             | 278/1000 [00:24<01:03, 11.35it/s]\u001b[A\n",
      " 28%|███████████▏                            | 280/1000 [00:24<01:03, 11.39it/s]\u001b[A"
     ]
    },
    {
     "name": "stdout",
     "output_type": "stream",
     "text": [
      "0.08856701850891113\n",
      "0.08862638473510742\n",
      "0.08429861068725586\n"
     ]
    },
    {
     "name": "stderr",
     "output_type": "stream",
     "text": [
      "\n",
      " 28%|███████████▎                            | 282/1000 [00:24<01:03, 11.39it/s]\u001b[A"
     ]
    },
    {
     "name": "stdout",
     "output_type": "stream",
     "text": [
      "0.08983945846557617\n",
      "0.08467936515808105\n",
      "0.08748769760131836\n"
     ]
    },
    {
     "name": "stderr",
     "output_type": "stream",
     "text": [
      "\n",
      " 28%|███████████▎                            | 284/1000 [00:25<01:02, 11.39it/s]\u001b[A\n",
      " 29%|███████████▍                            | 286/1000 [00:25<01:02, 11.39it/s]\u001b[A"
     ]
    },
    {
     "name": "stdout",
     "output_type": "stream",
     "text": [
      "0.0869293212890625\n",
      "0.08956789970397949\n",
      "0.08472728729248047\n"
     ]
    },
    {
     "name": "stderr",
     "output_type": "stream",
     "text": [
      "\n",
      " 29%|███████████▌                            | 288/1000 [00:25<01:02, 11.40it/s]\u001b[A"
     ]
    },
    {
     "name": "stdout",
     "output_type": "stream",
     "text": [
      "0.0898902416229248\n",
      "0.08420276641845703\n",
      "0.08872842788696289\n"
     ]
    },
    {
     "name": "stderr",
     "output_type": "stream",
     "text": [
      "\n",
      " 29%|███████████▌                            | 290/1000 [00:25<01:02, 11.37it/s]\u001b[A\n",
      " 29%|███████████▋                            | 292/1000 [00:25<01:02, 11.41it/s]\u001b[A"
     ]
    },
    {
     "name": "stdout",
     "output_type": "stream",
     "text": [
      "0.0873878002166748\n",
      "0.0884408950805664\n",
      "0.08434557914733887\n"
     ]
    },
    {
     "name": "stderr",
     "output_type": "stream",
     "text": [
      "\n",
      " 29%|███████████▊                            | 294/1000 [00:25<01:01, 11.41it/s]\u001b[A"
     ]
    },
    {
     "name": "stdout",
     "output_type": "stream",
     "text": [
      "0.09004688262939453\n",
      "0.08403992652893066\n",
      "0.08783197402954102\n"
     ]
    },
    {
     "name": "stderr",
     "output_type": "stream",
     "text": [
      "\n",
      " 30%|███████████▊                            | 296/1000 [00:26<01:01, 11.38it/s]\u001b[A\n",
      " 30%|███████████▉                            | 298/1000 [00:26<01:01, 11.43it/s]\u001b[A"
     ]
    },
    {
     "name": "stdout",
     "output_type": "stream",
     "text": [
      "0.08773469924926758\n",
      "0.08701586723327637\n",
      "0.08517885208129883\n"
     ]
    },
    {
     "name": "stderr",
     "output_type": "stream",
     "text": [
      "\n",
      " 30%|████████████                            | 300/1000 [00:26<01:01, 11.42it/s]\u001b[A"
     ]
    },
    {
     "name": "stdout",
     "output_type": "stream",
     "text": [
      "0.08993744850158691\n",
      "0.08479022979736328\n",
      "0.08920025825500488\n"
     ]
    },
    {
     "name": "stderr",
     "output_type": "stream",
     "text": [
      "\n",
      " 30%|████████████                            | 302/1000 [00:26<01:01, 11.37it/s]\u001b[A\n",
      " 30%|████████████▏                           | 304/1000 [00:26<01:00, 11.41it/s]\u001b[A"
     ]
    },
    {
     "name": "stdout",
     "output_type": "stream",
     "text": [
      "0.08733057975769043\n",
      "0.08774590492248535\n",
      "0.0844736099243164\n"
     ]
    },
    {
     "name": "stderr",
     "output_type": "stream",
     "text": [
      "\n",
      " 31%|████████████▏                           | 306/1000 [00:26<01:00, 11.38it/s]\u001b[A"
     ]
    },
    {
     "name": "stdout",
     "output_type": "stream",
     "text": [
      "0.09122014045715332\n",
      "0.08463621139526367\n",
      "0.08723759651184082\n"
     ]
    },
    {
     "name": "stderr",
     "output_type": "stream",
     "text": [
      "\n",
      " 31%|████████████▎                           | 308/1000 [00:27<01:00, 11.38it/s]\u001b[A\n",
      " 31%|████████████▍                           | 310/1000 [00:27<01:00, 11.41it/s]\u001b[A"
     ]
    },
    {
     "name": "stdout",
     "output_type": "stream",
     "text": [
      "0.08770322799682617\n",
      "0.08830046653747559\n",
      "0.0846560001373291\n"
     ]
    },
    {
     "name": "stderr",
     "output_type": "stream",
     "text": [
      "\n",
      " 31%|████████████▍                           | 312/1000 [00:27<01:00, 11.40it/s]\u001b[A"
     ]
    },
    {
     "name": "stdout",
     "output_type": "stream",
     "text": [
      "0.09002995491027832\n",
      "0.0847158432006836\n",
      "0.08786320686340332\n"
     ]
    },
    {
     "name": "stderr",
     "output_type": "stream",
     "text": [
      "\n",
      " 31%|████████████▌                           | 314/1000 [00:27<01:00, 11.39it/s]\u001b[A\n",
      " 32%|████████████▋                           | 316/1000 [00:27<00:59, 11.43it/s]\u001b[A"
     ]
    },
    {
     "name": "stdout",
     "output_type": "stream",
     "text": [
      "0.08697628974914551\n",
      "0.08805298805236816\n",
      "0.08443713188171387\n"
     ]
    },
    {
     "name": "stderr",
     "output_type": "stream",
     "text": [
      "\n",
      " 32%|████████████▋                           | 318/1000 [00:28<00:59, 11.41it/s]\u001b[A"
     ]
    },
    {
     "name": "stdout",
     "output_type": "stream",
     "text": [
      "0.08998417854309082\n",
      "0.08463096618652344\n",
      "0.08738565444946289\n"
     ]
    },
    {
     "name": "stderr",
     "output_type": "stream",
     "text": [
      "\n",
      " 32%|████████████▊                           | 320/1000 [00:28<00:59, 11.39it/s]\u001b[A\n",
      " 32%|████████████▉                           | 322/1000 [00:28<00:59, 11.42it/s]\u001b[A"
     ]
    },
    {
     "name": "stdout",
     "output_type": "stream",
     "text": [
      "0.0879812240600586\n",
      "0.08838391304016113\n",
      "0.0844724178314209\n"
     ]
    },
    {
     "name": "stderr",
     "output_type": "stream",
     "text": [
      "\n",
      " 32%|████████████▉                           | 324/1000 [00:28<00:59, 11.41it/s]\u001b[A"
     ]
    },
    {
     "name": "stdout",
     "output_type": "stream",
     "text": [
      "0.0890192985534668\n",
      "0.08527994155883789\n",
      "0.08812189102172852\n"
     ]
    },
    {
     "name": "stderr",
     "output_type": "stream",
     "text": [
      "\n",
      " 33%|█████████████                           | 326/1000 [00:28<00:59, 11.39it/s]\u001b[A\n",
      " 33%|█████████████                           | 328/1000 [00:28<00:58, 11.40it/s]\u001b[A"
     ]
    },
    {
     "name": "stdout",
     "output_type": "stream",
     "text": [
      "0.08749198913574219\n",
      "0.08882546424865723\n",
      "0.08478116989135742\n"
     ]
    },
    {
     "name": "stderr",
     "output_type": "stream",
     "text": [
      "\n",
      " 33%|█████████████▏                          | 330/1000 [00:29<00:59, 11.26it/s]\u001b[A"
     ]
    },
    {
     "name": "stdout",
     "output_type": "stream",
     "text": [
      "0.09601855278015137\n",
      "0.0858464241027832\n",
      "0.0891561508178711\n"
     ]
    },
    {
     "name": "stderr",
     "output_type": "stream",
     "text": [
      "\n",
      " 33%|█████████████▎                          | 332/1000 [00:29<00:59, 11.23it/s]\u001b[A\n",
      " 33%|█████████████▎                          | 334/1000 [00:29<00:59, 11.28it/s]\u001b[A"
     ]
    },
    {
     "name": "stdout",
     "output_type": "stream",
     "text": [
      "0.08876609802246094\n",
      "0.08990049362182617\n",
      "0.08460664749145508\n"
     ]
    },
    {
     "name": "stderr",
     "output_type": "stream",
     "text": [
      "\n",
      " 34%|█████████████▍                          | 336/1000 [00:29<00:58, 11.28it/s]\u001b[A"
     ]
    },
    {
     "name": "stdout",
     "output_type": "stream",
     "text": [
      "0.09054040908813477\n",
      "0.08536362648010254\n",
      "0.08833599090576172\n"
     ]
    },
    {
     "name": "stderr",
     "output_type": "stream",
     "text": [
      "\n",
      " 34%|█████████████▌                          | 338/1000 [00:29<00:58, 11.29it/s]\u001b[A\n",
      " 34%|█████████████▌                          | 340/1000 [00:29<00:58, 11.30it/s]\u001b[A"
     ]
    },
    {
     "name": "stdout",
     "output_type": "stream",
     "text": [
      "0.08765101432800293\n",
      "0.09035062789916992\n",
      "0.08504915237426758\n"
     ]
    },
    {
     "name": "stderr",
     "output_type": "stream",
     "text": [
      "\n",
      " 34%|█████████████▋                          | 342/1000 [00:30<00:58, 11.29it/s]\u001b[A"
     ]
    },
    {
     "name": "stdout",
     "output_type": "stream",
     "text": [
      "0.09034013748168945\n",
      "0.0859827995300293\n",
      "0.0886988639831543\n"
     ]
    },
    {
     "name": "stderr",
     "output_type": "stream",
     "text": [
      "\n",
      " 34%|█████████████▊                          | 344/1000 [00:30<00:58, 11.27it/s]\u001b[A\n",
      " 35%|█████████████▊                          | 346/1000 [00:30<00:57, 11.31it/s]\u001b[A"
     ]
    },
    {
     "name": "stdout",
     "output_type": "stream",
     "text": [
      "0.08812546730041504\n",
      "0.09015202522277832\n",
      "0.08435225486755371\n"
     ]
    },
    {
     "name": "stderr",
     "output_type": "stream",
     "text": [
      "\n",
      " 35%|█████████████▉                          | 348/1000 [00:30<00:57, 11.31it/s]\u001b[A"
     ]
    },
    {
     "name": "stdout",
     "output_type": "stream",
     "text": [
      "0.09072756767272949\n",
      "0.08475518226623535\n",
      "0.08819842338562012\n"
     ]
    },
    {
     "name": "stderr",
     "output_type": "stream",
     "text": [
      "\n",
      " 35%|██████████████                          | 350/1000 [00:30<00:57, 11.31it/s]\u001b[A\n",
      " 35%|██████████████                          | 352/1000 [00:31<00:56, 11.37it/s]\u001b[A"
     ]
    },
    {
     "name": "stdout",
     "output_type": "stream",
     "text": [
      "0.08733344078063965\n",
      "0.08828091621398926\n",
      "0.0842902660369873\n"
     ]
    },
    {
     "name": "stderr",
     "output_type": "stream",
     "text": [
      "\n",
      " 35%|██████████████▏                         | 354/1000 [00:31<00:57, 11.32it/s]\u001b[A"
     ]
    },
    {
     "name": "stdout",
     "output_type": "stream",
     "text": [
      "0.0919187068939209\n",
      "0.08531951904296875\n",
      "0.0899209976196289\n"
     ]
    },
    {
     "name": "stderr",
     "output_type": "stream",
     "text": [
      "\n",
      " 36%|██████████████▏                         | 356/1000 [00:31<00:57, 11.27it/s]\u001b[A\n",
      " 36%|██████████████▎                         | 358/1000 [00:31<00:57, 11.26it/s]\u001b[A"
     ]
    },
    {
     "name": "stdout",
     "output_type": "stream",
     "text": [
      "0.08808469772338867\n",
      "0.0892484188079834\n",
      "0.08759570121765137\n"
     ]
    },
    {
     "name": "stderr",
     "output_type": "stream",
     "text": [
      "\n",
      " 36%|██████████████▍                         | 360/1000 [00:31<00:56, 11.25it/s]\u001b[A"
     ]
    },
    {
     "name": "stdout",
     "output_type": "stream",
     "text": [
      "0.0918116569519043\n",
      "0.08475828170776367\n",
      "0.08932232856750488\n"
     ]
    },
    {
     "name": "stderr",
     "output_type": "stream",
     "text": [
      "\n",
      " 36%|██████████████▍                         | 362/1000 [00:31<00:56, 11.24it/s]\u001b[A\n",
      " 36%|██████████████▌                         | 364/1000 [00:32<00:56, 11.31it/s]\u001b[A"
     ]
    },
    {
     "name": "stdout",
     "output_type": "stream",
     "text": [
      "0.08771538734436035\n",
      "0.08895087242126465\n",
      "0.08431506156921387\n"
     ]
    },
    {
     "name": "stderr",
     "output_type": "stream",
     "text": [
      "\n",
      " 37%|██████████████▋                         | 366/1000 [00:32<00:56, 11.26it/s]\u001b[A"
     ]
    },
    {
     "name": "stdout",
     "output_type": "stream",
     "text": [
      "0.09312224388122559\n",
      "0.08522891998291016\n",
      "0.08733224868774414\n"
     ]
    },
    {
     "name": "stderr",
     "output_type": "stream",
     "text": [
      "\n",
      " 37%|██████████████▋                         | 368/1000 [00:32<00:56, 11.27it/s]\u001b[A\n",
      " 37%|██████████████▊                         | 370/1000 [00:32<00:55, 11.34it/s]\u001b[A"
     ]
    },
    {
     "name": "stdout",
     "output_type": "stream",
     "text": [
      "0.08819127082824707\n",
      "0.08867406845092773\n",
      "0.08423447608947754\n"
     ]
    },
    {
     "name": "stderr",
     "output_type": "stream",
     "text": [
      "\n",
      " 37%|██████████████▉                         | 372/1000 [00:32<00:55, 11.32it/s]\u001b[A"
     ]
    },
    {
     "name": "stdout",
     "output_type": "stream",
     "text": [
      "0.09078836441040039\n",
      "0.08567690849304199\n",
      "0.08820796012878418\n"
     ]
    },
    {
     "name": "stderr",
     "output_type": "stream",
     "text": [
      "\n",
      " 37%|██████████████▉                         | 374/1000 [00:32<00:55, 11.31it/s]\u001b[A\n",
      " 38%|███████████████                         | 376/1000 [00:33<00:54, 11.35it/s]\u001b[A"
     ]
    },
    {
     "name": "stdout",
     "output_type": "stream",
     "text": [
      "0.08788108825683594\n",
      "0.08794569969177246\n",
      "0.0853719711303711\n"
     ]
    },
    {
     "name": "stderr",
     "output_type": "stream",
     "text": [
      "\n",
      " 38%|███████████████                         | 378/1000 [00:33<00:54, 11.34it/s]\u001b[A"
     ]
    },
    {
     "name": "stdout",
     "output_type": "stream",
     "text": [
      "0.09079432487487793\n",
      "0.08461427688598633\n",
      "0.08874249458312988\n"
     ]
    },
    {
     "name": "stderr",
     "output_type": "stream",
     "text": [
      "\n",
      " 38%|███████████████▏                        | 380/1000 [00:33<00:54, 11.32it/s]\u001b[A\n",
      " 38%|███████████████▎                        | 382/1000 [00:33<00:54, 11.34it/s]\u001b[A"
     ]
    },
    {
     "name": "stdout",
     "output_type": "stream",
     "text": [
      "0.08764243125915527\n",
      "0.08978080749511719\n",
      "0.08452296257019043\n"
     ]
    },
    {
     "name": "stderr",
     "output_type": "stream",
     "text": [
      "\n",
      " 38%|███████████████▎                        | 384/1000 [00:33<00:54, 11.34it/s]\u001b[A"
     ]
    },
    {
     "name": "stdout",
     "output_type": "stream",
     "text": [
      "0.09091019630432129\n",
      "0.08451175689697266\n",
      "0.0884099006652832\n"
     ]
    },
    {
     "name": "stderr",
     "output_type": "stream",
     "text": [
      "\n",
      " 39%|███████████████▍                        | 386/1000 [00:34<00:54, 11.32it/s]\u001b[A\n",
      " 39%|███████████████▌                        | 388/1000 [00:34<00:53, 11.36it/s]\u001b[A"
     ]
    },
    {
     "name": "stdout",
     "output_type": "stream",
     "text": [
      "0.08794283866882324\n",
      "0.08832716941833496\n",
      "0.08490228652954102\n"
     ]
    },
    {
     "name": "stderr",
     "output_type": "stream",
     "text": [
      "\n",
      " 39%|███████████████▌                        | 390/1000 [00:34<00:53, 11.31it/s]\u001b[A"
     ]
    },
    {
     "name": "stdout",
     "output_type": "stream",
     "text": [
      "0.09263086318969727\n",
      "0.08479046821594238\n",
      "0.08841896057128906\n"
     ]
    },
    {
     "name": "stderr",
     "output_type": "stream",
     "text": [
      "\n",
      " 39%|███████████████▋                        | 392/1000 [00:34<00:53, 11.31it/s]\u001b[A\n",
      " 39%|███████████████▊                        | 394/1000 [00:34<00:53, 11.37it/s]\u001b[A"
     ]
    },
    {
     "name": "stdout",
     "output_type": "stream",
     "text": [
      "0.0872805118560791\n",
      "0.08867669105529785\n",
      "0.08418941497802734\n"
     ]
    },
    {
     "name": "stderr",
     "output_type": "stream",
     "text": [
      "\n",
      " 40%|███████████████▊                        | 396/1000 [00:34<00:53, 11.35it/s]\u001b[A"
     ]
    },
    {
     "name": "stdout",
     "output_type": "stream",
     "text": [
      "0.09102034568786621\n",
      "0.08467364311218262\n",
      "0.08771443367004395\n"
     ]
    },
    {
     "name": "stderr",
     "output_type": "stream",
     "text": [
      "\n",
      " 40%|███████████████▉                        | 398/1000 [00:35<00:53, 11.35it/s]\u001b[A\n",
      " 40%|████████████████                        | 400/1000 [00:35<00:52, 11.36it/s]\u001b[A"
     ]
    },
    {
     "name": "stdout",
     "output_type": "stream",
     "text": [
      "0.08737730979919434\n",
      "0.08929753303527832\n",
      "0.0851445198059082\n"
     ]
    },
    {
     "name": "stderr",
     "output_type": "stream",
     "text": [
      "\n",
      " 40%|████████████████                        | 402/1000 [00:35<00:52, 11.35it/s]\u001b[A"
     ]
    },
    {
     "name": "stdout",
     "output_type": "stream",
     "text": [
      "0.09072446823120117\n",
      "0.08489704132080078\n",
      "0.08830738067626953\n"
     ]
    },
    {
     "name": "stderr",
     "output_type": "stream",
     "text": [
      "\n",
      " 40%|████████████████▏                       | 404/1000 [00:35<00:52, 11.33it/s]\u001b[A\n",
      " 41%|████████████████▏                       | 406/1000 [00:35<00:52, 11.37it/s]\u001b[A"
     ]
    },
    {
     "name": "stdout",
     "output_type": "stream",
     "text": [
      "0.08747100830078125\n",
      "0.08852386474609375\n",
      "0.08487725257873535\n"
     ]
    },
    {
     "name": "stderr",
     "output_type": "stream",
     "text": [
      "\n",
      " 41%|████████████████▎                       | 408/1000 [00:35<00:52, 11.35it/s]\u001b[A"
     ]
    },
    {
     "name": "stdout",
     "output_type": "stream",
     "text": [
      "0.09065628051757812\n",
      "0.08500862121582031\n",
      "0.08823323249816895\n"
     ]
    },
    {
     "name": "stderr",
     "output_type": "stream",
     "text": [
      "\n",
      " 41%|████████████████▍                       | 410/1000 [00:36<00:52, 11.33it/s]\u001b[A\n",
      " 41%|████████████████▍                       | 412/1000 [00:36<00:51, 11.37it/s]\u001b[A"
     ]
    },
    {
     "name": "stdout",
     "output_type": "stream",
     "text": [
      "0.08811616897583008\n",
      "0.08849334716796875\n",
      "0.08451533317565918\n"
     ]
    },
    {
     "name": "stderr",
     "output_type": "stream",
     "text": [
      "\n",
      " 41%|████████████████▌                       | 414/1000 [00:36<00:51, 11.33it/s]\u001b[A"
     ]
    },
    {
     "name": "stdout",
     "output_type": "stream",
     "text": [
      "0.09200572967529297\n",
      "0.08531427383422852\n",
      "0.08892560005187988\n"
     ]
    },
    {
     "name": "stderr",
     "output_type": "stream",
     "text": [
      "\n",
      " 42%|████████████████▋                       | 416/1000 [00:36<00:51, 11.31it/s]\u001b[A\n",
      " 42%|████████████████▋                       | 418/1000 [00:36<00:51, 11.35it/s]\u001b[A"
     ]
    },
    {
     "name": "stdout",
     "output_type": "stream",
     "text": [
      "0.08734583854675293\n",
      "0.08893990516662598\n",
      "0.0847616195678711\n"
     ]
    },
    {
     "name": "stderr",
     "output_type": "stream",
     "text": [
      "\n",
      " 42%|████████████████▊                       | 420/1000 [00:37<00:51, 11.36it/s]\u001b[A"
     ]
    },
    {
     "name": "stdout",
     "output_type": "stream",
     "text": [
      "0.0894923210144043\n",
      "0.0846097469329834\n",
      "0.08839607238769531\n"
     ]
    },
    {
     "name": "stderr",
     "output_type": "stream",
     "text": [
      "\n",
      " 42%|████████████████▉                       | 422/1000 [00:37<00:51, 11.33it/s]\u001b[A\n",
      " 42%|████████████████▉                       | 424/1000 [00:37<00:50, 11.34it/s]\u001b[A"
     ]
    },
    {
     "name": "stdout",
     "output_type": "stream",
     "text": [
      "0.08820271492004395\n",
      "0.09064507484436035\n",
      "0.08447670936584473\n"
     ]
    },
    {
     "name": "stderr",
     "output_type": "stream",
     "text": [
      "\n",
      " 43%|█████████████████                       | 426/1000 [00:37<00:50, 11.34it/s]\u001b[A"
     ]
    },
    {
     "name": "stdout",
     "output_type": "stream",
     "text": [
      "0.09062767028808594\n",
      "0.08459973335266113\n",
      "0.08810758590698242\n"
     ]
    },
    {
     "name": "stderr",
     "output_type": "stream",
     "text": [
      "\n",
      " 43%|█████████████████                       | 428/1000 [00:37<00:50, 11.32it/s]\u001b[A\n",
      " 43%|█████████████████▏                      | 430/1000 [00:37<00:50, 11.38it/s]\u001b[A"
     ]
    },
    {
     "name": "stdout",
     "output_type": "stream",
     "text": [
      "0.08805966377258301\n",
      "0.0871891975402832\n",
      "0.08530330657958984\n"
     ]
    },
    {
     "name": "stderr",
     "output_type": "stream",
     "text": [
      "\n",
      " 43%|█████████████████▎                      | 432/1000 [00:38<00:50, 11.27it/s]\u001b[A"
     ]
    },
    {
     "name": "stdout",
     "output_type": "stream",
     "text": [
      "0.09534406661987305\n",
      "0.08478307723999023\n",
      "0.0896909236907959\n"
     ]
    },
    {
     "name": "stderr",
     "output_type": "stream",
     "text": [
      "\n",
      " 43%|█████████████████▎                      | 434/1000 [00:38<00:50, 11.24it/s]\u001b[A\n",
      " 44%|█████████████████▍                      | 436/1000 [00:38<00:49, 11.31it/s]\u001b[A"
     ]
    },
    {
     "name": "stdout",
     "output_type": "stream",
     "text": [
      "0.0883636474609375\n",
      "0.08927178382873535\n",
      "0.08423447608947754\n"
     ]
    },
    {
     "name": "stderr",
     "output_type": "stream",
     "text": [
      "\n",
      " 44%|█████████████████▌                      | 438/1000 [00:38<00:49, 11.31it/s]\u001b[A"
     ]
    },
    {
     "name": "stdout",
     "output_type": "stream",
     "text": [
      "0.09124946594238281\n",
      "0.08451962471008301\n",
      "0.08913230895996094\n"
     ]
    },
    {
     "name": "stderr",
     "output_type": "stream",
     "text": [
      "\n",
      " 44%|█████████████████▌                      | 440/1000 [00:38<00:49, 11.29it/s]\u001b[A\n",
      " 44%|█████████████████▋                      | 442/1000 [00:38<00:49, 11.35it/s]\u001b[A"
     ]
    },
    {
     "name": "stdout",
     "output_type": "stream",
     "text": [
      "0.08747267723083496\n",
      "0.08810281753540039\n",
      "0.08461642265319824\n"
     ]
    },
    {
     "name": "stderr",
     "output_type": "stream",
     "text": [
      "\n",
      " 44%|█████████████████▊                      | 444/1000 [00:39<00:49, 11.32it/s]\u001b[A"
     ]
    },
    {
     "name": "stdout",
     "output_type": "stream",
     "text": [
      "0.09140968322753906\n",
      "0.0853128433227539\n",
      "0.08856606483459473\n"
     ]
    },
    {
     "name": "stderr",
     "output_type": "stream",
     "text": [
      "\n",
      " 45%|█████████████████▊                      | 446/1000 [00:39<00:49, 11.28it/s]\u001b[A\n",
      " 45%|█████████████████▉                      | 448/1000 [00:39<00:48, 11.35it/s]\u001b[A"
     ]
    },
    {
     "name": "stdout",
     "output_type": "stream",
     "text": [
      "0.08886361122131348\n",
      "0.08828926086425781\n",
      "0.08431720733642578\n"
     ]
    },
    {
     "name": "stderr",
     "output_type": "stream",
     "text": [
      "\n",
      " 45%|██████████████████                      | 450/1000 [00:39<00:48, 11.33it/s]\u001b[A"
     ]
    },
    {
     "name": "stdout",
     "output_type": "stream",
     "text": [
      "0.0915534496307373\n",
      "0.08442163467407227\n",
      "0.08831048011779785\n"
     ]
    },
    {
     "name": "stderr",
     "output_type": "stream",
     "text": [
      "\n",
      " 45%|██████████████████                      | 452/1000 [00:39<00:48, 11.32it/s]\u001b[A\n",
      " 45%|██████████████████▏                     | 454/1000 [00:40<00:48, 11.36it/s]\u001b[A"
     ]
    },
    {
     "name": "stdout",
     "output_type": "stream",
     "text": [
      "0.08780264854431152\n",
      "0.08932876586914062\n",
      "0.0841670036315918\n"
     ]
    },
    {
     "name": "stderr",
     "output_type": "stream",
     "text": [
      "\n",
      " 46%|██████████████████▏                     | 456/1000 [00:40<00:48, 11.29it/s]\u001b[A"
     ]
    },
    {
     "name": "stdout",
     "output_type": "stream",
     "text": [
      "0.0906991958618164\n",
      "0.08775115013122559\n",
      "0.08755850791931152\n"
     ]
    },
    {
     "name": "stderr",
     "output_type": "stream",
     "text": [
      "\n",
      " 46%|██████████████████▎                     | 458/1000 [00:40<00:47, 11.30it/s]\u001b[A\n",
      " 46%|██████████████████▍                     | 460/1000 [00:40<00:47, 11.39it/s]\u001b[A"
     ]
    },
    {
     "name": "stdout",
     "output_type": "stream",
     "text": [
      "0.08785510063171387\n",
      "0.08615994453430176\n",
      "0.0850980281829834\n"
     ]
    },
    {
     "name": "stderr",
     "output_type": "stream",
     "text": [
      "\n",
      " 46%|██████████████████▍                     | 462/1000 [00:40<00:47, 11.39it/s]\u001b[A"
     ]
    },
    {
     "name": "stdout",
     "output_type": "stream",
     "text": [
      "0.08977603912353516\n",
      "0.0844268798828125\n",
      "0.08866548538208008\n"
     ]
    },
    {
     "name": "stderr",
     "output_type": "stream",
     "text": [
      "\n",
      " 46%|██████████████████▌                     | 464/1000 [00:40<00:47, 11.36it/s]\u001b[A\n",
      " 47%|██████████████████▋                     | 466/1000 [00:41<00:46, 11.41it/s]\u001b[A"
     ]
    },
    {
     "name": "stdout",
     "output_type": "stream",
     "text": [
      "0.08757162094116211\n",
      "0.08708953857421875\n",
      "0.08507442474365234\n"
     ]
    },
    {
     "name": "stderr",
     "output_type": "stream",
     "text": [
      "\n",
      " 47%|██████████████████▋                     | 468/1000 [00:41<00:46, 11.37it/s]\u001b[A"
     ]
    },
    {
     "name": "stdout",
     "output_type": "stream",
     "text": [
      "0.09119200706481934\n",
      "0.08485865592956543\n",
      "0.0878138542175293\n"
     ]
    },
    {
     "name": "stderr",
     "output_type": "stream",
     "text": [
      "\n",
      " 47%|██████████████████▊                     | 470/1000 [00:41<00:46, 11.37it/s]\u001b[A\n",
      " 47%|██████████████████▉                     | 472/1000 [00:41<00:46, 11.40it/s]\u001b[A"
     ]
    },
    {
     "name": "stdout",
     "output_type": "stream",
     "text": [
      "0.08721709251403809\n",
      "0.08853745460510254\n",
      "0.08473014831542969\n"
     ]
    },
    {
     "name": "stderr",
     "output_type": "stream",
     "text": [
      "\n",
      " 47%|██████████████████▉                     | 474/1000 [00:41<00:46, 11.40it/s]\u001b[A"
     ]
    },
    {
     "name": "stdout",
     "output_type": "stream",
     "text": [
      "0.08914685249328613\n",
      "0.08495521545410156\n",
      "0.08866286277770996\n"
     ]
    },
    {
     "name": "stderr",
     "output_type": "stream",
     "text": [
      "\n",
      " 48%|███████████████████                     | 476/1000 [00:41<00:46, 11.37it/s]\u001b[A\n",
      " 48%|███████████████████                     | 478/1000 [00:42<00:45, 11.40it/s]\u001b[A"
     ]
    },
    {
     "name": "stdout",
     "output_type": "stream",
     "text": [
      "0.08703017234802246\n",
      "0.0872201919555664\n",
      "0.08603549003601074\n"
     ]
    },
    {
     "name": "stderr",
     "output_type": "stream",
     "text": [
      "\n",
      " 48%|███████████████████▏                    | 480/1000 [00:42<00:45, 11.35it/s]\u001b[A"
     ]
    },
    {
     "name": "stdout",
     "output_type": "stream",
     "text": [
      "0.09139466285705566\n",
      "0.08576560020446777\n",
      "0.08969759941101074\n"
     ]
    },
    {
     "name": "stderr",
     "output_type": "stream",
     "text": [
      "\n",
      " 48%|███████████████████▎                    | 482/1000 [00:42<00:45, 11.28it/s]\u001b[A\n",
      " 48%|███████████████████▎                    | 484/1000 [00:42<00:45, 11.34it/s]\u001b[A"
     ]
    },
    {
     "name": "stdout",
     "output_type": "stream",
     "text": [
      "0.0887749195098877\n",
      "0.08750796318054199\n",
      "0.0857083797454834\n"
     ]
    },
    {
     "name": "stderr",
     "output_type": "stream",
     "text": [
      "\n",
      " 49%|███████████████████▍                    | 486/1000 [00:42<00:45, 11.31it/s]\u001b[A"
     ]
    },
    {
     "name": "stdout",
     "output_type": "stream",
     "text": [
      "0.0903022289276123\n",
      "0.08606243133544922\n",
      "0.08787250518798828\n"
     ]
    },
    {
     "name": "stderr",
     "output_type": "stream",
     "text": [
      "\n",
      " 49%|███████████████████▌                    | 488/1000 [00:43<00:45, 11.30it/s]\u001b[A\n",
      " 49%|███████████████████▌                    | 490/1000 [00:43<00:45, 11.32it/s]\u001b[A"
     ]
    },
    {
     "name": "stdout",
     "output_type": "stream",
     "text": [
      "0.08868527412414551\n",
      "0.0886235237121582\n",
      "0.08627533912658691\n"
     ]
    },
    {
     "name": "stderr",
     "output_type": "stream",
     "text": [
      "\n",
      " 49%|███████████████████▋                    | 492/1000 [00:43<00:44, 11.30it/s]\u001b[A"
     ]
    },
    {
     "name": "stdout",
     "output_type": "stream",
     "text": [
      "0.0906531810760498\n",
      "0.08563876152038574\n",
      "0.08738446235656738\n"
     ]
    },
    {
     "name": "stderr",
     "output_type": "stream",
     "text": [
      "\n",
      " 49%|███████████████████▊                    | 494/1000 [00:43<00:44, 11.32it/s]\u001b[A\n",
      " 50%|███████████████████▊                    | 496/1000 [00:43<00:44, 11.34it/s]\u001b[A"
     ]
    },
    {
     "name": "stdout",
     "output_type": "stream",
     "text": [
      "0.08763456344604492\n",
      "0.08932352066040039\n",
      "0.08510398864746094\n"
     ]
    },
    {
     "name": "stderr",
     "output_type": "stream",
     "text": [
      "\n",
      " 50%|███████████████████▉                    | 498/1000 [00:43<00:44, 11.36it/s]\u001b[A"
     ]
    },
    {
     "name": "stdout",
     "output_type": "stream",
     "text": [
      "0.08948278427124023\n",
      "0.08509397506713867\n",
      "0.08744382858276367\n"
     ]
    },
    {
     "name": "stderr",
     "output_type": "stream",
     "text": [
      "\n",
      " 50%|████████████████████                    | 500/1000 [00:44<00:44, 11.36it/s]\u001b[A\n",
      " 50%|████████████████████                    | 502/1000 [00:44<00:43, 11.39it/s]\u001b[A"
     ]
    },
    {
     "name": "stdout",
     "output_type": "stream",
     "text": [
      "0.08744311332702637\n",
      "0.08850789070129395\n",
      "0.08494782447814941\n"
     ]
    },
    {
     "name": "stderr",
     "output_type": "stream",
     "text": [
      "\n",
      " 50%|████████████████████▏                   | 504/1000 [00:44<00:43, 11.37it/s]\u001b[A"
     ]
    },
    {
     "name": "stdout",
     "output_type": "stream",
     "text": [
      "0.09031414985656738\n",
      "0.08527660369873047\n",
      "0.08867287635803223\n"
     ]
    },
    {
     "name": "stderr",
     "output_type": "stream",
     "text": [
      "\n",
      " 51%|████████████████████▏                   | 506/1000 [00:44<00:43, 11.32it/s]\u001b[A\n",
      " 51%|████████████████████▎                   | 508/1000 [00:44<00:43, 11.37it/s]\u001b[A"
     ]
    },
    {
     "name": "stdout",
     "output_type": "stream",
     "text": [
      "0.0882418155670166\n",
      "0.08766818046569824\n",
      "0.08547854423522949\n"
     ]
    },
    {
     "name": "stderr",
     "output_type": "stream",
     "text": [
      "\n",
      " 51%|████████████████████▍                   | 510/1000 [00:44<00:43, 11.37it/s]\u001b[A"
     ]
    },
    {
     "name": "stdout",
     "output_type": "stream",
     "text": [
      "0.08909273147583008\n",
      "0.08566665649414062\n",
      "0.08696770668029785\n"
     ]
    },
    {
     "name": "stderr",
     "output_type": "stream",
     "text": [
      "\n",
      " 51%|████████████████████▍                   | 512/1000 [00:45<00:42, 11.38it/s]\u001b[A\n",
      " 51%|████████████████████▌                   | 514/1000 [00:45<00:42, 11.41it/s]\u001b[A"
     ]
    },
    {
     "name": "stdout",
     "output_type": "stream",
     "text": [
      "0.08712434768676758\n",
      "0.08749151229858398\n",
      "0.08529782295227051\n"
     ]
    },
    {
     "name": "stderr",
     "output_type": "stream",
     "text": [
      "\n",
      " 52%|████████████████████▋                   | 516/1000 [00:45<00:42, 11.39it/s]\u001b[A"
     ]
    },
    {
     "name": "stdout",
     "output_type": "stream",
     "text": [
      "0.08928990364074707\n",
      "0.08610415458679199\n",
      "0.08857393264770508\n"
     ]
    },
    {
     "name": "stderr",
     "output_type": "stream",
     "text": [
      "\n",
      " 52%|████████████████████▋                   | 518/1000 [00:45<00:42, 11.35it/s]\u001b[A\n",
      " 52%|████████████████████▊                   | 520/1000 [00:45<00:42, 11.38it/s]\u001b[A"
     ]
    },
    {
     "name": "stdout",
     "output_type": "stream",
     "text": [
      "0.08763337135314941\n",
      "0.08827495574951172\n",
      "0.08521127700805664\n"
     ]
    },
    {
     "name": "stderr",
     "output_type": "stream",
     "text": [
      "\n",
      " 52%|████████████████████▉                   | 522/1000 [00:46<00:41, 11.40it/s]\u001b[A"
     ]
    },
    {
     "name": "stdout",
     "output_type": "stream",
     "text": [
      "0.08860468864440918\n",
      "0.08456182479858398\n",
      "0.08768296241760254\n"
     ]
    },
    {
     "name": "stderr",
     "output_type": "stream",
     "text": [
      "\n",
      " 52%|████████████████████▉                   | 524/1000 [00:46<00:41, 11.37it/s]\u001b[A\n",
      " 53%|█████████████████████                   | 526/1000 [00:46<00:41, 11.41it/s]\u001b[A"
     ]
    },
    {
     "name": "stdout",
     "output_type": "stream",
     "text": [
      "0.088165283203125\n",
      "0.08792924880981445\n",
      "0.08466029167175293\n"
     ]
    },
    {
     "name": "stderr",
     "output_type": "stream",
     "text": [
      "\n",
      " 53%|█████████████████████                   | 528/1000 [00:46<00:41, 11.38it/s]\u001b[A"
     ]
    },
    {
     "name": "stdout",
     "output_type": "stream",
     "text": [
      "0.0908517837524414\n",
      "0.08479976654052734\n",
      "0.08898115158081055\n"
     ]
    },
    {
     "name": "stderr",
     "output_type": "stream",
     "text": [
      "\n",
      " 53%|█████████████████████▏                  | 530/1000 [00:46<00:41, 11.33it/s]\u001b[A\n",
      " 53%|█████████████████████▎                  | 532/1000 [00:46<00:41, 11.39it/s]\u001b[A"
     ]
    },
    {
     "name": "stdout",
     "output_type": "stream",
     "text": [
      "0.08793830871582031\n",
      "0.0874795913696289\n",
      "0.08528017997741699\n"
     ]
    },
    {
     "name": "stderr",
     "output_type": "stream",
     "text": [
      "\n",
      " 53%|█████████████████████▎                  | 534/1000 [00:47<00:50,  9.19it/s]\u001b[A"
     ]
    },
    {
     "name": "stdout",
     "output_type": "stream",
     "text": [
      "0.22740888595581055\n",
      "0.08713698387145996\n",
      "0.0879523754119873\n"
     ]
    },
    {
     "name": "stderr",
     "output_type": "stream",
     "text": [
      "\n",
      " 54%|█████████████████████▍                  | 536/1000 [00:47<00:47,  9.72it/s]\u001b[A\n",
      " 54%|█████████████████████▌                  | 538/1000 [00:47<00:45, 10.18it/s]\u001b[A"
     ]
    },
    {
     "name": "stdout",
     "output_type": "stream",
     "text": [
      "0.08843755722045898\n",
      "0.08875489234924316\n",
      "0.08500409126281738\n"
     ]
    },
    {
     "name": "stderr",
     "output_type": "stream",
     "text": [
      "\n",
      " 54%|█████████████████████▌                  | 540/1000 [00:47<00:43, 10.47it/s]\u001b[A"
     ]
    },
    {
     "name": "stdout",
     "output_type": "stream",
     "text": [
      "0.09151935577392578\n",
      "0.0854787826538086\n",
      "0.0884542465209961\n"
     ]
    },
    {
     "name": "stderr",
     "output_type": "stream",
     "text": [
      "\n",
      " 54%|█████████████████████▋                  | 542/1000 [00:47<00:42, 10.71it/s]\u001b[A\n",
      " 54%|█████████████████████▊                  | 544/1000 [00:48<00:41, 10.90it/s]\u001b[A"
     ]
    },
    {
     "name": "stdout",
     "output_type": "stream",
     "text": [
      "0.08740735054016113\n",
      "0.08966636657714844\n",
      "0.08511638641357422\n"
     ]
    },
    {
     "name": "stderr",
     "output_type": "stream",
     "text": [
      "\n",
      " 55%|█████████████████████▊                  | 546/1000 [00:48<00:41, 11.01it/s]\u001b[A"
     ]
    },
    {
     "name": "stdout",
     "output_type": "stream",
     "text": [
      "0.09110689163208008\n",
      "0.08526420593261719\n",
      "0.08783173561096191\n"
     ]
    },
    {
     "name": "stderr",
     "output_type": "stream",
     "text": [
      "\n",
      " 55%|█████████████████████▉                  | 548/1000 [00:48<00:40, 11.09it/s]\u001b[A\n",
      " 55%|██████████████████████                  | 550/1000 [00:48<00:40, 11.20it/s]\u001b[A"
     ]
    },
    {
     "name": "stdout",
     "output_type": "stream",
     "text": [
      "0.08760857582092285\n",
      "0.08876514434814453\n",
      "0.08456063270568848\n"
     ]
    },
    {
     "name": "stderr",
     "output_type": "stream",
     "text": [
      "\n",
      " 55%|██████████████████████                  | 552/1000 [00:48<00:39, 11.24it/s]\u001b[A"
     ]
    },
    {
     "name": "stdout",
     "output_type": "stream",
     "text": [
      "0.09014582633972168\n",
      "0.08474588394165039\n",
      "0.08794593811035156\n"
     ]
    },
    {
     "name": "stderr",
     "output_type": "stream",
     "text": [
      "\n",
      " 55%|██████████████████████▏                 | 554/1000 [00:48<00:39, 11.27it/s]\u001b[A\n",
      " 56%|██████████████████████▏                 | 556/1000 [00:49<00:39, 11.31it/s]\u001b[A"
     ]
    },
    {
     "name": "stdout",
     "output_type": "stream",
     "text": [
      "0.08731937408447266\n",
      "0.08912897109985352\n",
      "0.08497500419616699\n"
     ]
    },
    {
     "name": "stderr",
     "output_type": "stream",
     "text": [
      "\n",
      " 56%|██████████████████████▎                 | 558/1000 [00:49<00:39, 11.30it/s]\u001b[A"
     ]
    },
    {
     "name": "stdout",
     "output_type": "stream",
     "text": [
      "0.09092473983764648\n",
      "0.0852210521697998\n",
      "0.09003400802612305\n"
     ]
    },
    {
     "name": "stderr",
     "output_type": "stream",
     "text": [
      "\n",
      " 56%|██████████████████████▍                 | 560/1000 [00:49<00:39, 11.11it/s]\u001b[A\n",
      " 56%|██████████████████████▍                 | 562/1000 [00:49<00:39, 11.23it/s]\u001b[A"
     ]
    },
    {
     "name": "stdout",
     "output_type": "stream",
     "text": [
      "0.09586524963378906\n",
      "0.08823060989379883\n",
      "0.08451414108276367\n"
     ]
    },
    {
     "name": "stderr",
     "output_type": "stream",
     "text": [
      "\n",
      " 56%|██████████████████████▌                 | 564/1000 [00:49<00:38, 11.24it/s]\u001b[A"
     ]
    },
    {
     "name": "stdout",
     "output_type": "stream",
     "text": [
      "0.09137582778930664\n",
      "0.08487343788146973\n",
      "0.09031319618225098\n"
     ]
    },
    {
     "name": "stderr",
     "output_type": "stream",
     "text": [
      "\n",
      " 57%|██████████████████████▋                 | 566/1000 [00:50<00:38, 11.20it/s]\u001b[A\n",
      " 57%|██████████████████████▋                 | 568/1000 [00:50<00:38, 11.26it/s]\u001b[A"
     ]
    },
    {
     "name": "stdout",
     "output_type": "stream",
     "text": [
      "0.08837890625\n",
      "0.0886225700378418\n",
      "0.08535265922546387\n"
     ]
    },
    {
     "name": "stderr",
     "output_type": "stream",
     "text": [
      "\n",
      " 57%|██████████████████████▊                 | 570/1000 [00:50<00:38, 11.27it/s]\u001b[A"
     ]
    },
    {
     "name": "stdout",
     "output_type": "stream",
     "text": [
      "0.09138131141662598\n",
      "0.08498048782348633\n",
      "0.09009289741516113\n"
     ]
    },
    {
     "name": "stderr",
     "output_type": "stream",
     "text": [
      "\n",
      " 57%|██████████████████████▉                 | 572/1000 [00:50<00:38, 11.22it/s]\u001b[A\n",
      " 57%|██████████████████████▉                 | 574/1000 [00:50<00:37, 11.28it/s]\u001b[A"
     ]
    },
    {
     "name": "stdout",
     "output_type": "stream",
     "text": [
      "0.08861160278320312\n",
      "0.08882832527160645\n",
      "0.08479833602905273\n"
     ]
    },
    {
     "name": "stderr",
     "output_type": "stream",
     "text": [
      "\n",
      " 58%|███████████████████████                 | 576/1000 [00:50<00:37, 11.26it/s]\u001b[A"
     ]
    },
    {
     "name": "stdout",
     "output_type": "stream",
     "text": [
      "0.09257745742797852\n",
      "0.08473443984985352\n",
      "0.08997249603271484\n"
     ]
    },
    {
     "name": "stderr",
     "output_type": "stream",
     "text": [
      "\n",
      " 58%|███████████████████████                 | 578/1000 [00:51<00:37, 11.20it/s]\u001b[A\n",
      " 58%|███████████████████████▏                | 580/1000 [00:51<00:37, 11.23it/s]\u001b[A"
     ]
    },
    {
     "name": "stdout",
     "output_type": "stream",
     "text": [
      "0.089385986328125\n",
      "0.0886225700378418\n",
      "0.08715343475341797\n"
     ]
    },
    {
     "name": "stderr",
     "output_type": "stream",
     "text": [
      "\n",
      " 58%|███████████████████████▎                | 582/1000 [00:51<00:37, 11.25it/s]\u001b[A"
     ]
    },
    {
     "name": "stdout",
     "output_type": "stream",
     "text": [
      "0.09049582481384277\n",
      "0.08553624153137207\n",
      "0.08925008773803711\n"
     ]
    },
    {
     "name": "stderr",
     "output_type": "stream",
     "text": [
      "\n",
      " 58%|███████████████████████▎                | 584/1000 [00:51<00:37, 11.23it/s]\u001b[A\n",
      " 59%|███████████████████████▍                | 586/1000 [00:51<00:36, 11.32it/s]\u001b[A"
     ]
    },
    {
     "name": "stdout",
     "output_type": "stream",
     "text": [
      "0.08820104598999023\n",
      "0.08738589286804199\n",
      "0.08441519737243652\n"
     ]
    },
    {
     "name": "stderr",
     "output_type": "stream",
     "text": [
      "\n",
      " 59%|███████████████████████▌                | 588/1000 [00:52<00:36, 11.31it/s]\u001b[A"
     ]
    },
    {
     "name": "stdout",
     "output_type": "stream",
     "text": [
      "0.0913846492767334\n",
      "0.08471846580505371\n",
      "0.0872182846069336\n"
     ]
    },
    {
     "name": "stderr",
     "output_type": "stream",
     "text": [
      "\n",
      " 59%|███████████████████████▌                | 590/1000 [00:52<00:36, 11.30it/s]\u001b[A\n",
      " 59%|███████████████████████▋                | 592/1000 [00:52<00:35, 11.34it/s]\u001b[A"
     ]
    },
    {
     "name": "stdout",
     "output_type": "stream",
     "text": [
      "0.08859729766845703\n",
      "0.08811688423156738\n",
      "0.08564639091491699\n"
     ]
    },
    {
     "name": "stderr",
     "output_type": "stream",
     "text": [
      "\n",
      " 59%|███████████████████████▊                | 594/1000 [00:52<00:35, 11.35it/s]\u001b[A"
     ]
    },
    {
     "name": "stdout",
     "output_type": "stream",
     "text": [
      "0.08963251113891602\n",
      "0.08507347106933594\n",
      "0.08785772323608398\n"
     ]
    },
    {
     "name": "stderr",
     "output_type": "stream",
     "text": [
      "\n",
      " 60%|███████████████████████▊                | 596/1000 [00:52<00:35, 11.33it/s]\u001b[A\n",
      " 60%|███████████████████████▉                | 598/1000 [00:52<00:35, 11.36it/s]\u001b[A"
     ]
    },
    {
     "name": "stdout",
     "output_type": "stream",
     "text": [
      "0.08824944496154785\n",
      "0.08847856521606445\n",
      "0.08550000190734863\n"
     ]
    },
    {
     "name": "stderr",
     "output_type": "stream",
     "text": [
      "\n",
      " 60%|████████████████████████                | 600/1000 [00:53<00:35, 11.35it/s]\u001b[A"
     ]
    },
    {
     "name": "stdout",
     "output_type": "stream",
     "text": [
      "0.09012794494628906\n",
      "0.0851585865020752\n",
      "0.08949708938598633\n"
     ]
    },
    {
     "name": "stderr",
     "output_type": "stream",
     "text": [
      "\n",
      " 60%|████████████████████████                | 602/1000 [00:53<00:35, 11.28it/s]\u001b[A\n",
      " 60%|████████████████████████▏               | 604/1000 [00:53<00:34, 11.32it/s]\u001b[A"
     ]
    },
    {
     "name": "stdout",
     "output_type": "stream",
     "text": [
      "0.08942890167236328\n",
      "0.08875060081481934\n",
      "0.08519935607910156\n"
     ]
    },
    {
     "name": "stderr",
     "output_type": "stream",
     "text": [
      "\n",
      " 61%|████████████████████████▏               | 606/1000 [00:53<00:34, 11.31it/s]\u001b[A"
     ]
    },
    {
     "name": "stdout",
     "output_type": "stream",
     "text": [
      "0.09006094932556152\n",
      "0.08571195602416992\n",
      "0.08979439735412598\n"
     ]
    },
    {
     "name": "stderr",
     "output_type": "stream",
     "text": [
      "\n",
      " 61%|████████████████████████▎               | 608/1000 [00:53<00:34, 11.27it/s]\u001b[A\n",
      " 61%|████████████████████████▍               | 610/1000 [00:53<00:34, 11.32it/s]\u001b[A"
     ]
    },
    {
     "name": "stdout",
     "output_type": "stream",
     "text": [
      "0.08806133270263672\n",
      "0.08769369125366211\n",
      "0.08593320846557617\n"
     ]
    },
    {
     "name": "stderr",
     "output_type": "stream",
     "text": [
      "\n",
      " 61%|████████████████████████▍               | 612/1000 [00:54<00:34, 11.33it/s]\u001b[A"
     ]
    },
    {
     "name": "stdout",
     "output_type": "stream",
     "text": [
      "0.09017682075500488\n",
      "0.08495426177978516\n",
      "0.08864593505859375\n"
     ]
    },
    {
     "name": "stderr",
     "output_type": "stream",
     "text": [
      "\n",
      " 61%|████████████████████████▌               | 614/1000 [00:54<00:34, 11.30it/s]\u001b[A\n",
      " 62%|████████████████████████▋               | 616/1000 [00:54<00:33, 11.35it/s]\u001b[A"
     ]
    },
    {
     "name": "stdout",
     "output_type": "stream",
     "text": [
      "0.08841156959533691\n",
      "0.08775687217712402\n",
      "0.08549380302429199\n"
     ]
    },
    {
     "name": "stderr",
     "output_type": "stream",
     "text": [
      "\n",
      " 62%|████████████████████████▋               | 618/1000 [00:54<00:33, 11.35it/s]\u001b[A"
     ]
    },
    {
     "name": "stdout",
     "output_type": "stream",
     "text": [
      "0.0895395278930664\n",
      "0.08540487289428711\n",
      "0.08875250816345215\n"
     ]
    },
    {
     "name": "stderr",
     "output_type": "stream",
     "text": [
      "\n",
      " 62%|████████████████████████▊               | 620/1000 [00:54<00:33, 11.33it/s]\u001b[A\n",
      " 62%|████████████████████████▉               | 622/1000 [00:55<00:33, 11.37it/s]\u001b[A"
     ]
    },
    {
     "name": "stdout",
     "output_type": "stream",
     "text": [
      "0.08754229545593262\n",
      "0.08810019493103027\n",
      "0.0853426456451416\n"
     ]
    },
    {
     "name": "stderr",
     "output_type": "stream",
     "text": [
      "\n",
      " 62%|████████████████████████▉               | 624/1000 [00:55<00:33, 11.37it/s]\u001b[A"
     ]
    },
    {
     "name": "stdout",
     "output_type": "stream",
     "text": [
      "0.08922195434570312\n",
      "0.08545970916748047\n",
      "0.08930683135986328\n"
     ]
    },
    {
     "name": "stderr",
     "output_type": "stream",
     "text": [
      "\n",
      " 63%|█████████████████████████               | 626/1000 [00:55<00:33, 11.32it/s]\u001b[A\n",
      " 63%|█████████████████████████               | 628/1000 [00:55<00:32, 11.32it/s]\u001b[A"
     ]
    },
    {
     "name": "stdout",
     "output_type": "stream",
     "text": [
      "0.08803105354309082\n",
      "0.08918929100036621\n",
      "0.086090087890625\n"
     ]
    },
    {
     "name": "stderr",
     "output_type": "stream",
     "text": [
      "\n",
      " 63%|█████████████████████████▏              | 630/1000 [00:55<00:32, 11.32it/s]\u001b[A"
     ]
    },
    {
     "name": "stdout",
     "output_type": "stream",
     "text": [
      "0.0895547866821289\n",
      "0.08620190620422363\n",
      "0.08983969688415527\n"
     ]
    },
    {
     "name": "stderr",
     "output_type": "stream",
     "text": [
      "\n",
      " 63%|█████████████████████████▎              | 632/1000 [00:55<00:32, 11.25it/s]\u001b[A\n",
      " 63%|█████████████████████████▎              | 634/1000 [00:56<00:32, 11.28it/s]\u001b[A"
     ]
    },
    {
     "name": "stdout",
     "output_type": "stream",
     "text": [
      "0.08899736404418945\n",
      "0.08911705017089844\n",
      "0.08594202995300293\n"
     ]
    },
    {
     "name": "stderr",
     "output_type": "stream",
     "text": [
      "\n",
      " 64%|█████████████████████████▍              | 636/1000 [00:56<00:32, 11.27it/s]\u001b[A"
     ]
    },
    {
     "name": "stdout",
     "output_type": "stream",
     "text": [
      "0.08991670608520508\n",
      "0.08662724494934082\n",
      "0.08807802200317383\n"
     ]
    },
    {
     "name": "stderr",
     "output_type": "stream",
     "text": [
      "\n",
      " 64%|█████████████████████████▌              | 638/1000 [00:56<00:32, 11.27it/s]\u001b[A\n",
      " 64%|█████████████████████████▌              | 640/1000 [00:56<00:31, 11.30it/s]\u001b[A"
     ]
    },
    {
     "name": "stdout",
     "output_type": "stream",
     "text": [
      "0.088531494140625\n",
      "0.08878684043884277\n",
      "0.0857386589050293\n"
     ]
    },
    {
     "name": "stderr",
     "output_type": "stream",
     "text": [
      "\n",
      " 64%|█████████████████████████▋              | 642/1000 [00:56<00:31, 11.30it/s]\u001b[A"
     ]
    },
    {
     "name": "stdout",
     "output_type": "stream",
     "text": [
      "0.09041476249694824\n",
      "0.08568382263183594\n",
      "0.08968758583068848\n"
     ]
    },
    {
     "name": "stderr",
     "output_type": "stream",
     "text": [
      "\n",
      " 64%|█████████████████████████▊              | 644/1000 [00:56<00:31, 11.27it/s]\u001b[A\n",
      " 65%|█████████████████████████▊              | 646/1000 [00:57<00:31, 11.35it/s]\u001b[A"
     ]
    },
    {
     "name": "stdout",
     "output_type": "stream",
     "text": [
      "0.08784079551696777\n",
      "0.08725380897521973\n",
      "0.08474421501159668\n"
     ]
    },
    {
     "name": "stderr",
     "output_type": "stream",
     "text": [
      "\n",
      " 65%|█████████████████████████▉              | 648/1000 [00:57<00:31, 11.30it/s]\u001b[A"
     ]
    },
    {
     "name": "stdout",
     "output_type": "stream",
     "text": [
      "0.0925600528717041\n",
      "0.08503150939941406\n",
      "0.0893411636352539\n"
     ]
    },
    {
     "name": "stderr",
     "output_type": "stream",
     "text": [
      "\n",
      " 65%|██████████████████████████              | 650/1000 [00:57<00:31, 11.26it/s]\u001b[A\n",
      " 65%|██████████████████████████              | 652/1000 [00:57<00:30, 11.33it/s]\u001b[A"
     ]
    },
    {
     "name": "stdout",
     "output_type": "stream",
     "text": [
      "0.08825373649597168\n",
      "0.08772420883178711\n",
      "0.08509469032287598\n"
     ]
    },
    {
     "name": "stderr",
     "output_type": "stream",
     "text": [
      "\n",
      " 65%|██████████████████████████▏             | 654/1000 [00:57<00:30, 11.33it/s]\u001b[A"
     ]
    },
    {
     "name": "stdout",
     "output_type": "stream",
     "text": [
      "0.0903315544128418\n",
      "0.08501982688903809\n",
      "0.08879995346069336\n"
     ]
    },
    {
     "name": "stderr",
     "output_type": "stream",
     "text": [
      "\n",
      " 66%|██████████████████████████▏             | 656/1000 [00:58<00:30, 11.31it/s]\u001b[A\n",
      " 66%|██████████████████████████▎             | 658/1000 [00:58<00:30, 11.34it/s]\u001b[A"
     ]
    },
    {
     "name": "stdout",
     "output_type": "stream",
     "text": [
      "0.08745217323303223\n",
      "0.08859014511108398\n",
      "0.08551883697509766\n"
     ]
    },
    {
     "name": "stderr",
     "output_type": "stream",
     "text": [
      "\n",
      " 66%|██████████████████████████▍             | 660/1000 [00:58<00:30, 11.32it/s]\u001b[A"
     ]
    },
    {
     "name": "stdout",
     "output_type": "stream",
     "text": [
      "0.09173774719238281\n",
      "0.08451509475708008\n",
      "0.08888077735900879\n"
     ]
    },
    {
     "name": "stderr",
     "output_type": "stream",
     "text": [
      "\n",
      " 66%|██████████████████████████▍             | 662/1000 [00:58<00:29, 11.30it/s]\u001b[A\n",
      " 66%|██████████████████████████▌             | 664/1000 [00:58<00:29, 11.37it/s]\u001b[A"
     ]
    },
    {
     "name": "stdout",
     "output_type": "stream",
     "text": [
      "0.08766508102416992\n",
      "0.08737707138061523\n",
      "0.0847783088684082\n"
     ]
    },
    {
     "name": "stderr",
     "output_type": "stream",
     "text": [
      "\n",
      " 67%|██████████████████████████▋             | 666/1000 [00:58<00:29, 11.35it/s]\u001b[A"
     ]
    },
    {
     "name": "stdout",
     "output_type": "stream",
     "text": [
      "0.0909116268157959\n",
      "0.08514809608459473\n",
      "0.09021401405334473\n"
     ]
    },
    {
     "name": "stderr",
     "output_type": "stream",
     "text": [
      "\n",
      " 67%|██████████████████████████▋             | 668/1000 [00:59<00:29, 11.29it/s]\u001b[A\n",
      " 67%|██████████████████████████▊             | 670/1000 [00:59<00:29, 11.29it/s]\u001b[A"
     ]
    },
    {
     "name": "stdout",
     "output_type": "stream",
     "text": [
      "0.08802938461303711\n",
      "0.08966469764709473\n",
      "0.08611035346984863\n"
     ]
    },
    {
     "name": "stderr",
     "output_type": "stream",
     "text": [
      "\n",
      " 67%|██████████████████████████▉             | 672/1000 [00:59<00:29, 11.29it/s]\u001b[A"
     ]
    },
    {
     "name": "stdout",
     "output_type": "stream",
     "text": [
      "0.09058189392089844\n",
      "0.08532118797302246\n",
      "0.09052681922912598\n"
     ]
    },
    {
     "name": "stderr",
     "output_type": "stream",
     "text": [
      "\n",
      " 67%|██████████████████████████▉             | 674/1000 [00:59<00:28, 11.24it/s]\u001b[A\n",
      " 68%|███████████████████████████             | 676/1000 [00:59<00:28, 11.28it/s]\u001b[A"
     ]
    },
    {
     "name": "stdout",
     "output_type": "stream",
     "text": [
      "0.08800125122070312\n",
      "0.0899965763092041\n",
      "0.08484816551208496\n"
     ]
    },
    {
     "name": "stderr",
     "output_type": "stream",
     "text": [
      "\n",
      " 68%|███████████████████████████             | 678/1000 [00:59<00:28, 11.28it/s]\u001b[A"
     ]
    },
    {
     "name": "stdout",
     "output_type": "stream",
     "text": [
      "0.09095525741577148\n",
      "0.08513474464416504\n",
      "0.09539198875427246\n"
     ]
    },
    {
     "name": "stderr",
     "output_type": "stream",
     "text": [
      "\n",
      " 68%|███████████████████████████▏            | 680/1000 [01:00<00:28, 11.14it/s]\u001b[A\n",
      " 68%|███████████████████████████▎            | 682/1000 [01:00<00:28, 11.16it/s]\u001b[A"
     ]
    },
    {
     "name": "stdout",
     "output_type": "stream",
     "text": [
      "0.08861732482910156\n",
      "0.09147381782531738\n",
      "0.08561468124389648\n"
     ]
    },
    {
     "name": "stderr",
     "output_type": "stream",
     "text": [
      "\n",
      " 68%|███████████████████████████▎            | 684/1000 [01:00<00:28, 11.19it/s]\u001b[A"
     ]
    },
    {
     "name": "stdout",
     "output_type": "stream",
     "text": [
      "0.09058070182800293\n",
      "0.08550882339477539\n",
      "0.08918356895446777\n"
     ]
    },
    {
     "name": "stderr",
     "output_type": "stream",
     "text": [
      "\n",
      " 69%|███████████████████████████▍            | 686/1000 [01:00<00:28, 11.21it/s]\u001b[A\n",
      " 69%|███████████████████████████▌            | 688/1000 [01:00<00:27, 11.28it/s]\u001b[A"
     ]
    },
    {
     "name": "stdout",
     "output_type": "stream",
     "text": [
      "0.08773112297058105\n",
      "0.08881402015686035\n",
      "0.0849003791809082\n"
     ]
    },
    {
     "name": "stderr",
     "output_type": "stream",
     "text": [
      "\n",
      " 69%|███████████████████████████▌            | 690/1000 [01:01<00:27, 11.28it/s]\u001b[A"
     ]
    },
    {
     "name": "stdout",
     "output_type": "stream",
     "text": [
      "0.0908815860748291\n",
      "0.08508706092834473\n",
      "0.08828473091125488\n"
     ]
    },
    {
     "name": "stderr",
     "output_type": "stream",
     "text": [
      "\n",
      " 69%|███████████████████████████▋            | 692/1000 [01:01<00:27, 11.27it/s]\u001b[A\n",
      " 69%|███████████████████████████▊            | 694/1000 [01:01<00:27, 11.29it/s]\u001b[A"
     ]
    },
    {
     "name": "stdout",
     "output_type": "stream",
     "text": [
      "0.08819937705993652\n",
      "0.0906069278717041\n",
      "0.0846872329711914\n"
     ]
    },
    {
     "name": "stderr",
     "output_type": "stream",
     "text": [
      "\n",
      " 70%|███████████████████████████▊            | 696/1000 [01:01<00:26, 11.32it/s]\u001b[A"
     ]
    },
    {
     "name": "stdout",
     "output_type": "stream",
     "text": [
      "0.08995294570922852\n",
      "0.08446860313415527\n",
      "0.08945631980895996\n"
     ]
    },
    {
     "name": "stderr",
     "output_type": "stream",
     "text": [
      "\n",
      " 70%|███████████████████████████▉            | 698/1000 [01:01<00:26, 11.28it/s]\u001b[A\n",
      " 70%|████████████████████████████            | 700/1000 [01:01<00:26, 11.33it/s]\u001b[A"
     ]
    },
    {
     "name": "stdout",
     "output_type": "stream",
     "text": [
      "0.08788871765136719\n",
      "0.08920431137084961\n",
      "0.08435893058776855\n"
     ]
    },
    {
     "name": "stderr",
     "output_type": "stream",
     "text": [
      "\n",
      " 70%|████████████████████████████            | 702/1000 [01:02<00:26, 11.31it/s]\u001b[A"
     ]
    },
    {
     "name": "stdout",
     "output_type": "stream",
     "text": [
      "0.09053421020507812\n",
      "0.0857541561126709\n",
      "0.08884620666503906\n"
     ]
    },
    {
     "name": "stderr",
     "output_type": "stream",
     "text": [
      "\n",
      " 70%|████████████████████████████▏           | 704/1000 [01:02<00:26, 11.27it/s]\u001b[A\n",
      " 71%|████████████████████████████▏           | 706/1000 [01:02<00:26, 11.09it/s]\u001b[A"
     ]
    },
    {
     "name": "stdout",
     "output_type": "stream",
     "text": [
      "0.08897781372070312\n",
      "0.09975838661193848\n",
      "0.08577251434326172\n"
     ]
    },
    {
     "name": "stderr",
     "output_type": "stream",
     "text": [
      "\n",
      " 71%|████████████████████████████▎           | 708/1000 [01:02<00:26, 11.00it/s]\u001b[A"
     ]
    },
    {
     "name": "stdout",
     "output_type": "stream",
     "text": [
      "0.09692096710205078\n",
      "0.08723258972167969\n",
      "0.09640264511108398\n"
     ]
    },
    {
     "name": "stderr",
     "output_type": "stream",
     "text": [
      "\n",
      " 71%|████████████████████████████▍           | 710/1000 [01:02<00:26, 10.90it/s]\u001b[A\n",
      " 71%|████████████████████████████▍           | 712/1000 [01:03<00:26, 11.03it/s]\u001b[A"
     ]
    },
    {
     "name": "stdout",
     "output_type": "stream",
     "text": [
      "0.08984875679016113\n",
      "0.0896458625793457\n",
      "0.08561372756958008\n"
     ]
    },
    {
     "name": "stderr",
     "output_type": "stream",
     "text": [
      "\n",
      " 71%|████████████████████████████▌           | 714/1000 [01:03<00:25, 11.00it/s]\u001b[A"
     ]
    },
    {
     "name": "stdout",
     "output_type": "stream",
     "text": [
      "0.09218716621398926\n",
      "0.08925271034240723\n",
      "0.0877678394317627\n"
     ]
    },
    {
     "name": "stderr",
     "output_type": "stream",
     "text": [
      "\n",
      " 72%|████████████████████████████▋           | 716/1000 [01:03<00:25, 11.07it/s]\u001b[A\n",
      " 72%|████████████████████████████▋           | 718/1000 [01:03<00:25, 11.16it/s]\u001b[A"
     ]
    },
    {
     "name": "stdout",
     "output_type": "stream",
     "text": [
      "0.08896207809448242\n",
      "0.08895277976989746\n",
      "0.08556675910949707\n"
     ]
    },
    {
     "name": "stderr",
     "output_type": "stream",
     "text": [
      "\n",
      " 72%|████████████████████████████▊           | 720/1000 [01:03<00:25, 11.18it/s]\u001b[A"
     ]
    },
    {
     "name": "stdout",
     "output_type": "stream",
     "text": [
      "0.09181404113769531\n",
      "0.08543133735656738\n",
      "0.08699917793273926\n"
     ]
    },
    {
     "name": "stderr",
     "output_type": "stream",
     "text": [
      "\n",
      " 72%|████████████████████████████▉           | 722/1000 [01:03<00:24, 11.22it/s]\u001b[A\n",
      " 72%|████████████████████████████▉           | 724/1000 [01:04<00:24, 11.29it/s]\u001b[A"
     ]
    },
    {
     "name": "stdout",
     "output_type": "stream",
     "text": [
      "0.08846306800842285\n",
      "0.08849859237670898\n",
      "0.08522582054138184\n"
     ]
    },
    {
     "name": "stderr",
     "output_type": "stream",
     "text": [
      "\n",
      " 73%|█████████████████████████████           | 726/1000 [01:04<00:24, 11.26it/s]\u001b[A"
     ]
    },
    {
     "name": "stdout",
     "output_type": "stream",
     "text": [
      "0.09099268913269043\n",
      "0.0865175724029541\n",
      "0.08843564987182617\n"
     ]
    },
    {
     "name": "stderr",
     "output_type": "stream",
     "text": [
      "\n",
      " 73%|█████████████████████████████           | 728/1000 [01:04<00:24, 11.25it/s]\u001b[A\n",
      " 73%|█████████████████████████████▏          | 730/1000 [01:04<00:23, 11.29it/s]\u001b[A"
     ]
    },
    {
     "name": "stdout",
     "output_type": "stream",
     "text": [
      "0.08829736709594727\n",
      "0.08921694755554199\n",
      "0.08526825904846191\n"
     ]
    },
    {
     "name": "stderr",
     "output_type": "stream",
     "text": [
      "\n",
      " 73%|█████████████████████████████▎          | 732/1000 [01:04<00:23, 11.29it/s]\u001b[A"
     ]
    },
    {
     "name": "stdout",
     "output_type": "stream",
     "text": [
      "0.0909428596496582\n",
      "0.08547282218933105\n",
      "0.08880996704101562\n"
     ]
    },
    {
     "name": "stderr",
     "output_type": "stream",
     "text": [
      "\n",
      " 73%|█████████████████████████████▎          | 734/1000 [01:04<00:23, 11.25it/s]\u001b[A\n",
      " 74%|█████████████████████████████▍          | 736/1000 [01:05<00:23, 11.35it/s]\u001b[A"
     ]
    },
    {
     "name": "stdout",
     "output_type": "stream",
     "text": [
      "0.08903717994689941\n",
      "0.0870811939239502\n",
      "0.08430600166320801\n"
     ]
    },
    {
     "name": "stderr",
     "output_type": "stream",
     "text": [
      "\n",
      " 74%|█████████████████████████████▌          | 738/1000 [01:05<00:23, 11.24it/s]\u001b[A"
     ]
    },
    {
     "name": "stdout",
     "output_type": "stream",
     "text": [
      "0.09628701210021973\n",
      "0.08452463150024414\n",
      "0.08839297294616699\n"
     ]
    },
    {
     "name": "stderr",
     "output_type": "stream",
     "text": [
      "\n",
      " 74%|█████████████████████████████▌          | 740/1000 [01:05<00:23, 11.24it/s]\u001b[A\n",
      " 74%|█████████████████████████████▋          | 742/1000 [01:05<00:22, 11.34it/s]\u001b[A"
     ]
    },
    {
     "name": "stdout",
     "output_type": "stream",
     "text": [
      "0.08875894546508789\n",
      "0.08714079856872559\n",
      "0.08471798896789551\n"
     ]
    },
    {
     "name": "stderr",
     "output_type": "stream",
     "text": [
      "\n",
      " 74%|█████████████████████████████▊          | 744/1000 [01:05<00:22, 11.33it/s]\u001b[A"
     ]
    },
    {
     "name": "stdout",
     "output_type": "stream",
     "text": [
      "0.09099268913269043\n",
      "0.0845036506652832\n",
      "0.09038686752319336\n"
     ]
    },
    {
     "name": "stderr",
     "output_type": "stream",
     "text": [
      "\n",
      " 75%|█████████████████████████████▊          | 746/1000 [01:06<00:22, 11.28it/s]\u001b[A\n",
      " 75%|█████████████████████████████▉          | 748/1000 [01:06<00:22, 11.28it/s]\u001b[A"
     ]
    },
    {
     "name": "stdout",
     "output_type": "stream",
     "text": [
      "0.08794927597045898\n",
      "0.09029531478881836\n",
      "0.0858163833618164\n"
     ]
    },
    {
     "name": "stderr",
     "output_type": "stream",
     "text": [
      "\n",
      " 75%|██████████████████████████████          | 750/1000 [01:06<00:22, 11.27it/s]\u001b[A"
     ]
    },
    {
     "name": "stdout",
     "output_type": "stream",
     "text": [
      "0.09190630912780762\n",
      "0.08456993103027344\n",
      "0.09107756614685059\n"
     ]
    },
    {
     "name": "stderr",
     "output_type": "stream",
     "text": [
      "\n",
      " 75%|██████████████████████████████          | 752/1000 [01:06<00:22, 11.21it/s]\u001b[A\n",
      " 75%|██████████████████████████████▏         | 754/1000 [01:06<00:21, 11.21it/s]\u001b[A"
     ]
    },
    {
     "name": "stdout",
     "output_type": "stream",
     "text": [
      "0.08824586868286133\n",
      "0.09192347526550293\n",
      "0.08536648750305176\n"
     ]
    },
    {
     "name": "stderr",
     "output_type": "stream",
     "text": [
      "\n",
      " 76%|██████████████████████████████▏         | 756/1000 [01:06<00:21, 11.20it/s]\u001b[A"
     ]
    },
    {
     "name": "stdout",
     "output_type": "stream",
     "text": [
      "0.092864990234375\n",
      "0.08480215072631836\n",
      "0.08942914009094238\n"
     ]
    },
    {
     "name": "stderr",
     "output_type": "stream",
     "text": [
      "\n",
      " 76%|██████████████████████████████▎         | 758/1000 [01:07<00:21, 11.21it/s]\u001b[A\n",
      " 76%|██████████████████████████████▍         | 760/1000 [01:07<00:21, 11.22it/s]\u001b[A"
     ]
    },
    {
     "name": "stdout",
     "output_type": "stream",
     "text": [
      "0.08715534210205078\n",
      "0.08759522438049316\n",
      "0.08912229537963867\n"
     ]
    },
    {
     "name": "stderr",
     "output_type": "stream",
     "text": [
      "\n",
      " 76%|██████████████████████████████▍         | 762/1000 [01:07<00:21, 11.24it/s]\u001b[A"
     ]
    },
    {
     "name": "stdout",
     "output_type": "stream",
     "text": [
      "0.09127354621887207\n",
      "0.08443856239318848\n",
      "0.0910193920135498\n"
     ]
    },
    {
     "name": "stderr",
     "output_type": "stream",
     "text": [
      "\n",
      " 76%|██████████████████████████████▌         | 764/1000 [01:07<00:21, 11.18it/s]\u001b[A\n",
      " 77%|██████████████████████████████▋         | 766/1000 [01:07<00:20, 11.21it/s]\u001b[A"
     ]
    },
    {
     "name": "stdout",
     "output_type": "stream",
     "text": [
      "0.0891869068145752\n",
      "0.08896446228027344\n",
      "0.08710980415344238\n"
     ]
    },
    {
     "name": "stderr",
     "output_type": "stream",
     "text": [
      "\n",
      " 77%|██████████████████████████████▋         | 768/1000 [01:07<00:20, 11.17it/s]\u001b[A"
     ]
    },
    {
     "name": "stdout",
     "output_type": "stream",
     "text": [
      "0.09358358383178711\n",
      "0.08589744567871094\n",
      "0.08947634696960449\n"
     ]
    },
    {
     "name": "stderr",
     "output_type": "stream",
     "text": [
      "\n",
      " 77%|██████████████████████████████▊         | 770/1000 [01:08<00:20, 11.15it/s]\u001b[A\n",
      " 77%|██████████████████████████████▉         | 772/1000 [01:08<00:20, 11.18it/s]\u001b[A"
     ]
    },
    {
     "name": "stdout",
     "output_type": "stream",
     "text": [
      "0.08953213691711426\n",
      "0.08964276313781738\n",
      "0.08675217628479004\n"
     ]
    },
    {
     "name": "stderr",
     "output_type": "stream",
     "text": [
      "\n",
      " 77%|██████████████████████████████▉         | 774/1000 [01:08<00:20, 11.18it/s]\u001b[A"
     ]
    },
    {
     "name": "stdout",
     "output_type": "stream",
     "text": [
      "0.09143614768981934\n",
      "0.08641624450683594\n",
      "0.09039998054504395\n"
     ]
    },
    {
     "name": "stderr",
     "output_type": "stream",
     "text": [
      "\n",
      " 78%|███████████████████████████████         | 776/1000 [01:08<00:20, 11.13it/s]\u001b[A\n",
      " 78%|███████████████████████████████         | 778/1000 [01:08<00:19, 11.15it/s]\u001b[A"
     ]
    },
    {
     "name": "stdout",
     "output_type": "stream",
     "text": [
      "0.08984088897705078\n",
      "0.0914144515991211\n",
      "0.0864112377166748\n"
     ]
    },
    {
     "name": "stderr",
     "output_type": "stream",
     "text": [
      "\n",
      " 78%|███████████████████████████████▏        | 780/1000 [01:09<00:19, 11.14it/s]\u001b[A"
     ]
    },
    {
     "name": "stdout",
     "output_type": "stream",
     "text": [
      "0.09044384956359863\n",
      "0.08807182312011719\n",
      "0.08868598937988281\n"
     ]
    },
    {
     "name": "stderr",
     "output_type": "stream",
     "text": [
      "\n",
      " 78%|███████████████████████████████▎        | 782/1000 [01:09<00:19, 11.06it/s]\u001b[A\n",
      " 78%|███████████████████████████████▎        | 784/1000 [01:09<00:19, 11.12it/s]\u001b[A"
     ]
    },
    {
     "name": "stdout",
     "output_type": "stream",
     "text": [
      "0.09435534477233887\n",
      "0.09007763862609863\n",
      "0.08628606796264648\n"
     ]
    },
    {
     "name": "stderr",
     "output_type": "stream",
     "text": [
      "\n",
      " 79%|███████████████████████████████▍        | 786/1000 [01:09<00:19, 11.11it/s]\u001b[A"
     ]
    },
    {
     "name": "stdout",
     "output_type": "stream",
     "text": [
      "0.09230637550354004\n",
      "0.08687639236450195\n",
      "0.0911858081817627\n"
     ]
    },
    {
     "name": "stderr",
     "output_type": "stream",
     "text": [
      "\n",
      " 79%|███████████████████████████████▌        | 788/1000 [01:09<00:19, 11.09it/s]\u001b[A\n",
      " 79%|███████████████████████████████▌        | 790/1000 [01:09<00:18, 11.13it/s]\u001b[A"
     ]
    },
    {
     "name": "stdout",
     "output_type": "stream",
     "text": [
      "0.08886551856994629\n",
      "0.09233641624450684\n",
      "0.08489108085632324\n"
     ]
    },
    {
     "name": "stderr",
     "output_type": "stream",
     "text": [
      "\n",
      " 79%|███████████████████████████████▋        | 792/1000 [01:10<00:18, 11.14it/s]\u001b[A"
     ]
    },
    {
     "name": "stdout",
     "output_type": "stream",
     "text": [
      "0.09233379364013672\n",
      "0.08560395240783691\n",
      "0.09124922752380371\n"
     ]
    },
    {
     "name": "stderr",
     "output_type": "stream",
     "text": [
      "\n",
      " 79%|███████████████████████████████▊        | 794/1000 [01:10<00:18, 11.12it/s]\u001b[A\n",
      " 80%|███████████████████████████████▊        | 796/1000 [01:10<00:18, 11.14it/s]\u001b[A"
     ]
    },
    {
     "name": "stdout",
     "output_type": "stream",
     "text": [
      "0.08836483955383301\n",
      "0.09253072738647461\n",
      "0.08505773544311523\n"
     ]
    },
    {
     "name": "stderr",
     "output_type": "stream",
     "text": [
      "\n",
      " 80%|███████████████████████████████▉        | 798/1000 [01:10<00:18, 11.15it/s]\u001b[A"
     ]
    },
    {
     "name": "stdout",
     "output_type": "stream",
     "text": [
      "0.09207296371459961\n",
      "0.08575892448425293\n",
      "0.09137415885925293\n"
     ]
    },
    {
     "name": "stderr",
     "output_type": "stream",
     "text": [
      "\n",
      " 80%|████████████████████████████████        | 800/1000 [01:10<00:18, 11.03it/s]\u001b[A\n",
      " 80%|████████████████████████████████        | 802/1000 [01:11<00:17, 11.02it/s]\u001b[A"
     ]
    },
    {
     "name": "stdout",
     "output_type": "stream",
     "text": [
      "0.09333276748657227\n",
      "0.0962066650390625\n",
      "0.08487844467163086\n"
     ]
    },
    {
     "name": "stderr",
     "output_type": "stream",
     "text": [
      "\n",
      " 80%|████████████████████████████████▏       | 804/1000 [01:11<00:17, 10.96it/s]\u001b[A"
     ]
    },
    {
     "name": "stdout",
     "output_type": "stream",
     "text": [
      "0.09307146072387695\n",
      "0.0902256965637207\n",
      "0.09083890914916992\n"
     ]
    },
    {
     "name": "stderr",
     "output_type": "stream",
     "text": [
      "\n",
      " 81%|████████████████████████████████▏       | 806/1000 [01:11<00:17, 10.96it/s]\u001b[A\n",
      " 81%|████████████████████████████████▎       | 808/1000 [01:11<00:17, 11.07it/s]\u001b[A"
     ]
    },
    {
     "name": "stdout",
     "output_type": "stream",
     "text": [
      "0.09054803848266602\n",
      "0.08994317054748535\n",
      "0.08458209037780762\n"
     ]
    },
    {
     "name": "stderr",
     "output_type": "stream",
     "text": [
      "\n",
      " 81%|████████████████████████████████▍       | 810/1000 [01:11<00:17, 11.10it/s]\u001b[A"
     ]
    },
    {
     "name": "stdout",
     "output_type": "stream",
     "text": [
      "0.09358978271484375\n",
      "0.08444809913635254\n",
      "0.09155726432800293\n"
     ]
    },
    {
     "name": "stderr",
     "output_type": "stream",
     "text": [
      "\n",
      " 81%|████████████████████████████████▍       | 812/1000 [01:11<00:17, 11.05it/s]\u001b[A\n",
      " 81%|████████████████████████████████▌       | 814/1000 [01:12<00:16, 11.12it/s]\u001b[A"
     ]
    },
    {
     "name": "stdout",
     "output_type": "stream",
     "text": [
      "0.09049463272094727\n",
      "0.09025382995605469\n",
      "0.0859532356262207\n"
     ]
    },
    {
     "name": "stderr",
     "output_type": "stream",
     "text": [
      "\n",
      " 82%|████████████████████████████████▋       | 816/1000 [01:12<00:16, 11.10it/s]\u001b[A"
     ]
    },
    {
     "name": "stdout",
     "output_type": "stream",
     "text": [
      "0.09278059005737305\n",
      "0.0866248607635498\n",
      "0.08866429328918457\n"
     ]
    },
    {
     "name": "stderr",
     "output_type": "stream",
     "text": [
      "\n",
      " 82%|████████████████████████████████▋       | 818/1000 [01:12<00:16, 11.10it/s]\u001b[A\n",
      " 82%|████████████████████████████████▊       | 820/1000 [01:12<00:16, 11.18it/s]\u001b[A"
     ]
    },
    {
     "name": "stdout",
     "output_type": "stream",
     "text": [
      "0.09022760391235352\n",
      "0.08854985237121582\n",
      "0.0860738754272461\n"
     ]
    },
    {
     "name": "stderr",
     "output_type": "stream",
     "text": [
      "\n",
      " 82%|████████████████████████████████▉       | 822/1000 [01:12<00:15, 11.17it/s]\u001b[A"
     ]
    },
    {
     "name": "stdout",
     "output_type": "stream",
     "text": [
      "0.09216451644897461\n",
      "0.08614182472229004\n",
      "0.08917617797851562\n"
     ]
    },
    {
     "name": "stderr",
     "output_type": "stream",
     "text": [
      "\n",
      " 82%|████████████████████████████████▉       | 824/1000 [01:13<00:15, 11.17it/s]\u001b[A\n",
      " 83%|█████████████████████████████████       | 826/1000 [01:13<00:15, 11.12it/s]\u001b[A"
     ]
    },
    {
     "name": "stdout",
     "output_type": "stream",
     "text": [
      "0.08916711807250977\n",
      "0.0892641544342041\n",
      "0.09133625030517578\n"
     ]
    },
    {
     "name": "stderr",
     "output_type": "stream",
     "text": [
      "\n",
      " 83%|█████████████████████████████████       | 828/1000 [01:13<00:15, 11.10it/s]\u001b[A"
     ]
    },
    {
     "name": "stdout",
     "output_type": "stream",
     "text": [
      "0.09315919876098633\n",
      "0.08632850646972656\n",
      "0.09203863143920898\n"
     ]
    },
    {
     "name": "stderr",
     "output_type": "stream",
     "text": [
      "\n",
      " 83%|█████████████████████████████████▏      | 830/1000 [01:13<00:15, 11.04it/s]\u001b[A\n",
      " 83%|█████████████████████████████████▎      | 832/1000 [01:13<00:15, 11.14it/s]\u001b[A"
     ]
    },
    {
     "name": "stdout",
     "output_type": "stream",
     "text": [
      "0.09034991264343262\n",
      "0.08757543563842773\n",
      "0.08698558807373047\n"
     ]
    },
    {
     "name": "stderr",
     "output_type": "stream",
     "text": [
      "\n",
      " 83%|█████████████████████████████████▎      | 834/1000 [01:13<00:14, 11.13it/s]\u001b[A"
     ]
    },
    {
     "name": "stdout",
     "output_type": "stream",
     "text": [
      "0.09332752227783203\n",
      "0.08556318283081055\n",
      "0.09102654457092285\n"
     ]
    },
    {
     "name": "stderr",
     "output_type": "stream",
     "text": [
      "\n",
      " 84%|█████████████████████████████████▍      | 836/1000 [01:14<00:14, 11.12it/s]\u001b[A\n",
      " 84%|█████████████████████████████████▌      | 838/1000 [01:14<00:14, 11.18it/s]\u001b[A"
     ]
    },
    {
     "name": "stdout",
     "output_type": "stream",
     "text": [
      "0.08840608596801758\n",
      "0.08997273445129395\n",
      "0.08551764488220215\n"
     ]
    },
    {
     "name": "stderr",
     "output_type": "stream",
     "text": [
      "\n",
      " 84%|█████████████████████████████████▌      | 840/1000 [01:14<00:14, 11.21it/s]\u001b[A"
     ]
    },
    {
     "name": "stdout",
     "output_type": "stream",
     "text": [
      "0.09107303619384766\n",
      "0.08490204811096191\n",
      "0.08826661109924316\n"
     ]
    },
    {
     "name": "stderr",
     "output_type": "stream",
     "text": [
      "\n",
      " 84%|█████████████████████████████████▋      | 842/1000 [01:14<00:14, 11.24it/s]\u001b[A\n",
      " 84%|█████████████████████████████████▊      | 844/1000 [01:14<00:13, 11.31it/s]\u001b[A"
     ]
    },
    {
     "name": "stdout",
     "output_type": "stream",
     "text": [
      "0.08743500709533691\n",
      "0.08823013305664062\n",
      "0.08505749702453613\n"
     ]
    },
    {
     "name": "stderr",
     "output_type": "stream",
     "text": [
      "\n",
      " 85%|█████████████████████████████████▊      | 846/1000 [01:15<00:13, 11.28it/s]\u001b[A"
     ]
    },
    {
     "name": "stdout",
     "output_type": "stream",
     "text": [
      "0.09160208702087402\n",
      "0.08561396598815918\n",
      "0.09111809730529785\n"
     ]
    },
    {
     "name": "stderr",
     "output_type": "stream",
     "text": [
      "\n",
      " 85%|█████████████████████████████████▉      | 848/1000 [01:15<00:13, 11.22it/s]\u001b[A\n",
      " 85%|██████████████████████████████████      | 850/1000 [01:15<00:13, 11.19it/s]\u001b[A"
     ]
    },
    {
     "name": "stdout",
     "output_type": "stream",
     "text": [
      "0.08858656883239746\n",
      "0.09179854393005371\n",
      "0.08689212799072266\n"
     ]
    },
    {
     "name": "stderr",
     "output_type": "stream",
     "text": [
      "\n",
      " 85%|██████████████████████████████████      | 852/1000 [01:15<00:13, 11.20it/s]\u001b[A"
     ]
    },
    {
     "name": "stdout",
     "output_type": "stream",
     "text": [
      "0.09125280380249023\n",
      "0.08567953109741211\n",
      "0.08930134773254395\n"
     ]
    },
    {
     "name": "stderr",
     "output_type": "stream",
     "text": [
      "\n",
      " 85%|██████████████████████████████████▏     | 854/1000 [01:15<00:13, 11.20it/s]\u001b[A\n",
      " 86%|██████████████████████████████████▏     | 856/1000 [01:15<00:12, 11.23it/s]\u001b[A"
     ]
    },
    {
     "name": "stdout",
     "output_type": "stream",
     "text": [
      "0.08842587471008301\n",
      "0.09036397933959961\n",
      "0.08515453338623047\n"
     ]
    },
    {
     "name": "stderr",
     "output_type": "stream",
     "text": [
      "\n",
      " 86%|██████████████████████████████████▎     | 858/1000 [01:16<00:12, 11.21it/s]\u001b[A"
     ]
    },
    {
     "name": "stdout",
     "output_type": "stream",
     "text": [
      "0.09324145317077637\n",
      "0.08531332015991211\n",
      "0.08990931510925293\n"
     ]
    },
    {
     "name": "stderr",
     "output_type": "stream",
     "text": [
      "\n",
      " 86%|██████████████████████████████████▍     | 860/1000 [01:16<00:12, 11.14it/s]\u001b[A\n",
      " 86%|██████████████████████████████████▍     | 862/1000 [01:16<00:12, 11.19it/s]\u001b[A"
     ]
    },
    {
     "name": "stdout",
     "output_type": "stream",
     "text": [
      "0.09073638916015625\n",
      "0.09044194221496582\n",
      "0.08515477180480957\n"
     ]
    },
    {
     "name": "stderr",
     "output_type": "stream",
     "text": [
      "\n",
      " 86%|██████████████████████████████████▌     | 864/1000 [01:16<00:12, 11.18it/s]\u001b[A"
     ]
    },
    {
     "name": "stdout",
     "output_type": "stream",
     "text": [
      "0.09299612045288086\n",
      "0.08535337448120117\n",
      "0.09118270874023438\n"
     ]
    },
    {
     "name": "stderr",
     "output_type": "stream",
     "text": [
      "\n",
      " 87%|██████████████████████████████████▋     | 866/1000 [01:16<00:12, 11.12it/s]\u001b[A\n",
      " 87%|██████████████████████████████████▋     | 868/1000 [01:16<00:11, 11.16it/s]\u001b[A"
     ]
    },
    {
     "name": "stdout",
     "output_type": "stream",
     "text": [
      "0.08925604820251465\n",
      "0.09145903587341309\n",
      "0.08513736724853516\n"
     ]
    },
    {
     "name": "stderr",
     "output_type": "stream",
     "text": [
      "\n",
      " 87%|██████████████████████████████████▊     | 870/1000 [01:17<00:11, 11.17it/s]\u001b[A"
     ]
    },
    {
     "name": "stdout",
     "output_type": "stream",
     "text": [
      "0.09148144721984863\n",
      "0.08602619171142578\n",
      "0.0930023193359375\n"
     ]
    },
    {
     "name": "stderr",
     "output_type": "stream",
     "text": [
      "\n",
      " 87%|██████████████████████████████████▉     | 872/1000 [01:17<00:11, 11.09it/s]\u001b[A\n",
      " 87%|██████████████████████████████████▉     | 874/1000 [01:17<00:11, 11.15it/s]\u001b[A"
     ]
    },
    {
     "name": "stdout",
     "output_type": "stream",
     "text": [
      "0.08932018280029297\n",
      "0.09025716781616211\n",
      "0.0856473445892334\n"
     ]
    },
    {
     "name": "stderr",
     "output_type": "stream",
     "text": [
      "\n",
      " 88%|███████████████████████████████████     | 876/1000 [01:17<00:11, 11.14it/s]\u001b[A"
     ]
    },
    {
     "name": "stdout",
     "output_type": "stream",
     "text": [
      "0.09244203567504883\n",
      "0.08591794967651367\n",
      "0.08816361427307129\n"
     ]
    },
    {
     "name": "stderr",
     "output_type": "stream",
     "text": [
      "\n",
      " 88%|███████████████████████████████████     | 878/1000 [01:17<00:10, 11.17it/s]\u001b[A\n",
      " 88%|███████████████████████████████████▏    | 880/1000 [01:18<00:10, 11.21it/s]\u001b[A"
     ]
    },
    {
     "name": "stdout",
     "output_type": "stream",
     "text": [
      "0.08858394622802734\n",
      "0.08918190002441406\n",
      "0.08669900894165039\n"
     ]
    },
    {
     "name": "stderr",
     "output_type": "stream",
     "text": [
      "\n",
      " 88%|███████████████████████████████████▎    | 882/1000 [01:18<00:10, 11.06it/s]\u001b[A"
     ]
    },
    {
     "name": "stdout",
     "output_type": "stream",
     "text": [
      "0.09435296058654785\n",
      "0.09051871299743652\n",
      "0.08911824226379395\n"
     ]
    },
    {
     "name": "stderr",
     "output_type": "stream",
     "text": [
      "\n",
      " 88%|███████████████████████████████████▎    | 884/1000 [01:18<00:10, 11.00it/s]\u001b[A\n",
      " 89%|███████████████████████████████████▍    | 886/1000 [01:18<00:10, 10.98it/s]\u001b[A"
     ]
    },
    {
     "name": "stdout",
     "output_type": "stream",
     "text": [
      "0.09393668174743652\n",
      "0.09060287475585938\n",
      "0.09084105491638184\n"
     ]
    },
    {
     "name": "stderr",
     "output_type": "stream",
     "text": [
      "\n",
      " 89%|███████████████████████████████████▌    | 888/1000 [01:18<00:10, 11.03it/s]\u001b[A"
     ]
    },
    {
     "name": "stdout",
     "output_type": "stream",
     "text": [
      "0.09242892265319824\n",
      "0.08601975440979004\n",
      "0.08751773834228516\n"
     ]
    },
    {
     "name": "stderr",
     "output_type": "stream",
     "text": [
      "\n",
      " 89%|███████████████████████████████████▌    | 890/1000 [01:18<00:09, 11.06it/s]\u001b[A\n",
      " 89%|███████████████████████████████████▋    | 892/1000 [01:19<00:09, 11.13it/s]\u001b[A"
     ]
    },
    {
     "name": "stdout",
     "output_type": "stream",
     "text": [
      "0.09075808525085449\n",
      "0.08862781524658203\n",
      "0.08737874031066895\n"
     ]
    },
    {
     "name": "stderr",
     "output_type": "stream",
     "text": [
      "\n",
      " 89%|███████████████████████████████████▊    | 894/1000 [01:19<00:09, 11.10it/s]\u001b[A"
     ]
    },
    {
     "name": "stdout",
     "output_type": "stream",
     "text": [
      "0.09422492980957031\n",
      "0.0858314037322998\n",
      "0.09102582931518555\n"
     ]
    },
    {
     "name": "stderr",
     "output_type": "stream",
     "text": [
      "\n",
      " 90%|███████████████████████████████████▊    | 896/1000 [01:19<00:09, 11.02it/s]\u001b[A\n",
      " 90%|███████████████████████████████████▉    | 898/1000 [01:19<00:09, 11.12it/s]\u001b[A"
     ]
    },
    {
     "name": "stdout",
     "output_type": "stream",
     "text": [
      "0.09220051765441895\n",
      "0.0900106430053711\n",
      "0.08479642868041992\n"
     ]
    },
    {
     "name": "stderr",
     "output_type": "stream",
     "text": [
      "\n",
      " 90%|████████████████████████████████████    | 900/1000 [01:19<00:08, 11.12it/s]\u001b[A"
     ]
    },
    {
     "name": "stdout",
     "output_type": "stream",
     "text": [
      "0.09376692771911621\n",
      "0.08492445945739746\n",
      "0.09050607681274414\n"
     ]
    },
    {
     "name": "stderr",
     "output_type": "stream",
     "text": [
      "\n",
      " 90%|████████████████████████████████████    | 902/1000 [01:20<00:08, 11.11it/s]\u001b[A\n",
      " 90%|████████████████████████████████████▏   | 904/1000 [01:20<00:08, 11.18it/s]\u001b[A"
     ]
    },
    {
     "name": "stdout",
     "output_type": "stream",
     "text": [
      "0.08858394622802734\n",
      "0.08997106552124023\n",
      "0.08500552177429199\n"
     ]
    },
    {
     "name": "stderr",
     "output_type": "stream",
     "text": [
      "\n",
      " 91%|████████████████████████████████████▏   | 906/1000 [01:20<00:08, 11.19it/s]\u001b[A"
     ]
    },
    {
     "name": "stdout",
     "output_type": "stream",
     "text": [
      "0.09123420715332031\n",
      "0.0859062671661377\n",
      "0.09008932113647461\n"
     ]
    },
    {
     "name": "stderr",
     "output_type": "stream",
     "text": [
      "\n",
      " 91%|████████████████████████████████████▎   | 908/1000 [01:20<00:08, 11.14it/s]\u001b[A\n",
      " 91%|████████████████████████████████████▍   | 910/1000 [01:20<00:08, 11.22it/s]\u001b[A"
     ]
    },
    {
     "name": "stdout",
     "output_type": "stream",
     "text": [
      "0.09020161628723145\n",
      "0.08861923217773438\n",
      "0.08551931381225586\n"
     ]
    },
    {
     "name": "stderr",
     "output_type": "stream",
     "text": [
      "\n",
      " 91%|████████████████████████████████████▍   | 912/1000 [01:20<00:07, 11.23it/s]\u001b[A"
     ]
    },
    {
     "name": "stdout",
     "output_type": "stream",
     "text": [
      "0.0913400650024414\n",
      "0.08522367477416992\n",
      "0.08867216110229492\n"
     ]
    },
    {
     "name": "stderr",
     "output_type": "stream",
     "text": [
      "\n",
      " 91%|████████████████████████████████████▌   | 914/1000 [01:21<00:07, 11.03it/s]\u001b[A\n",
      " 92%|████████████████████████████████████▋   | 916/1000 [01:21<00:07, 11.09it/s]\u001b[A"
     ]
    },
    {
     "name": "stdout",
     "output_type": "stream",
     "text": [
      "0.09874463081359863\n",
      "0.08948302268981934\n",
      "0.08747506141662598\n"
     ]
    },
    {
     "name": "stderr",
     "output_type": "stream",
     "text": [
      "\n",
      " 92%|████████████████████████████████████▋   | 918/1000 [01:21<00:07, 11.15it/s]\u001b[A"
     ]
    },
    {
     "name": "stdout",
     "output_type": "stream",
     "text": [
      "0.09118461608886719\n",
      "0.08475756645202637\n",
      "0.0975489616394043\n"
     ]
    },
    {
     "name": "stderr",
     "output_type": "stream",
     "text": [
      "\n",
      " 92%|████████████████████████████████████▊   | 920/1000 [01:21<00:07, 10.94it/s]\u001b[A\n",
      " 92%|████████████████████████████████████▉   | 922/1000 [01:21<00:07, 10.85it/s]\u001b[A"
     ]
    },
    {
     "name": "stdout",
     "output_type": "stream",
     "text": [
      "0.09228873252868652\n",
      "0.1002497673034668\n",
      "0.08625650405883789\n"
     ]
    },
    {
     "name": "stderr",
     "output_type": "stream",
     "text": [
      "\n",
      " 92%|████████████████████████████████████▉   | 924/1000 [01:22<00:06, 10.98it/s]\u001b[A"
     ]
    },
    {
     "name": "stdout",
     "output_type": "stream",
     "text": [
      "0.08987832069396973\n",
      "0.08605837821960449\n",
      "0.08786749839782715\n"
     ]
    },
    {
     "name": "stderr",
     "output_type": "stream",
     "text": [
      "\n",
      " 93%|█████████████████████████████████████   | 926/1000 [01:22<00:06, 11.06it/s]\u001b[A\n",
      " 93%|█████████████████████████████████████   | 928/1000 [01:22<00:06, 11.10it/s]\u001b[A"
     ]
    },
    {
     "name": "stdout",
     "output_type": "stream",
     "text": [
      "0.08848309516906738\n",
      "0.09064316749572754\n",
      "0.08684325218200684\n"
     ]
    },
    {
     "name": "stderr",
     "output_type": "stream",
     "text": [
      "\n",
      " 93%|█████████████████████████████████████▏  | 930/1000 [01:22<00:06, 11.10it/s]\u001b[A"
     ]
    },
    {
     "name": "stdout",
     "output_type": "stream",
     "text": [
      "0.09141397476196289\n",
      "0.08729863166809082\n",
      "0.08977437019348145\n"
     ]
    },
    {
     "name": "stderr",
     "output_type": "stream",
     "text": [
      "\n",
      " 93%|█████████████████████████████████████▎  | 932/1000 [01:22<00:06, 11.12it/s]\u001b[A\n",
      " 93%|█████████████████████████████████████▎  | 934/1000 [01:22<00:05, 11.21it/s]\u001b[A"
     ]
    },
    {
     "name": "stdout",
     "output_type": "stream",
     "text": [
      "0.08848023414611816\n",
      "0.08822822570800781\n",
      "0.08554553985595703\n"
     ]
    },
    {
     "name": "stderr",
     "output_type": "stream",
     "text": [
      "\n",
      " 94%|█████████████████████████████████████▍  | 936/1000 [01:23<00:05, 11.21it/s]\u001b[A"
     ]
    },
    {
     "name": "stdout",
     "output_type": "stream",
     "text": [
      "0.0915834903717041\n",
      "0.08599352836608887\n",
      "0.08924317359924316\n"
     ]
    },
    {
     "name": "stderr",
     "output_type": "stream",
     "text": [
      "\n",
      " 94%|█████████████████████████████████████▌  | 938/1000 [01:23<00:05, 10.88it/s]\u001b[A\n",
      " 94%|█████████████████████████████████████▌  | 940/1000 [01:23<00:05, 10.93it/s]\u001b[A"
     ]
    },
    {
     "name": "stdout",
     "output_type": "stream",
     "text": [
      "0.10628437995910645\n",
      "0.09025835990905762\n",
      "0.08925867080688477\n"
     ]
    },
    {
     "name": "stderr",
     "output_type": "stream",
     "text": [
      "\n",
      " 94%|█████████████████████████████████████▋  | 942/1000 [01:23<00:05, 11.04it/s]\u001b[A"
     ]
    },
    {
     "name": "stdout",
     "output_type": "stream",
     "text": [
      "0.0900418758392334\n",
      "0.08572244644165039\n",
      "0.08863234519958496\n"
     ]
    },
    {
     "name": "stderr",
     "output_type": "stream",
     "text": [
      "\n",
      " 94%|█████████████████████████████████████▊  | 944/1000 [01:23<00:05, 11.08it/s]\u001b[A\n",
      " 95%|█████████████████████████████████████▊  | 946/1000 [01:24<00:04, 11.16it/s]\u001b[A"
     ]
    },
    {
     "name": "stdout",
     "output_type": "stream",
     "text": [
      "0.08893680572509766\n",
      "0.08944106101989746\n",
      "0.0854806900024414\n"
     ]
    },
    {
     "name": "stderr",
     "output_type": "stream",
     "text": [
      "\n",
      " 95%|█████████████████████████████████████▉  | 948/1000 [01:24<00:04, 11.20it/s]\u001b[A"
     ]
    },
    {
     "name": "stdout",
     "output_type": "stream",
     "text": [
      "0.09055256843566895\n",
      "0.08543109893798828\n",
      "0.08974266052246094\n"
     ]
    },
    {
     "name": "stderr",
     "output_type": "stream",
     "text": [
      "\n",
      " 95%|██████████████████████████████████████  | 950/1000 [01:24<00:04, 11.16it/s]\u001b[A\n",
      " 95%|██████████████████████████████████████  | 952/1000 [01:24<00:04, 11.21it/s]\u001b[A"
     ]
    },
    {
     "name": "stdout",
     "output_type": "stream",
     "text": [
      "0.08965229988098145\n",
      "0.09035491943359375\n",
      "0.08491325378417969\n"
     ]
    },
    {
     "name": "stderr",
     "output_type": "stream",
     "text": [
      "\n",
      " 95%|██████████████████████████████████████▏ | 954/1000 [01:24<00:04, 11.22it/s]\u001b[A"
     ]
    },
    {
     "name": "stdout",
     "output_type": "stream",
     "text": [
      "0.0912473201751709\n",
      "0.08560967445373535\n",
      "0.08828949928283691\n"
     ]
    },
    {
     "name": "stderr",
     "output_type": "stream",
     "text": [
      "\n",
      " 96%|██████████████████████████████████████▏ | 956/1000 [01:24<00:03, 11.24it/s]\u001b[A\n",
      " 96%|██████████████████████████████████████▎ | 958/1000 [01:25<00:03, 11.30it/s]\u001b[A"
     ]
    },
    {
     "name": "stdout",
     "output_type": "stream",
     "text": [
      "0.08797264099121094\n",
      "0.08850812911987305\n",
      "0.08529543876647949\n"
     ]
    },
    {
     "name": "stderr",
     "output_type": "stream",
     "text": [
      "\n",
      " 96%|██████████████████████████████████████▍ | 960/1000 [01:25<00:03, 11.26it/s]\u001b[A"
     ]
    },
    {
     "name": "stdout",
     "output_type": "stream",
     "text": [
      "0.09128856658935547\n",
      "0.0865023136138916\n",
      "0.09032964706420898\n"
     ]
    },
    {
     "name": "stderr",
     "output_type": "stream",
     "text": [
      "\n",
      " 96%|██████████████████████████████████████▍ | 962/1000 [01:25<00:03, 11.20it/s]\u001b[A\n",
      " 96%|██████████████████████████████████████▌ | 964/1000 [01:25<00:03, 11.25it/s]\u001b[A"
     ]
    },
    {
     "name": "stdout",
     "output_type": "stream",
     "text": [
      "0.0890493392944336\n",
      "0.09026741981506348\n",
      "0.08466577529907227\n"
     ]
    },
    {
     "name": "stderr",
     "output_type": "stream",
     "text": [
      "\n",
      " 97%|██████████████████████████████████████▋ | 966/1000 [01:25<00:03, 11.27it/s]\u001b[A"
     ]
    },
    {
     "name": "stdout",
     "output_type": "stream",
     "text": [
      "0.09068512916564941\n",
      "0.08491182327270508\n",
      "0.08883547782897949\n"
     ]
    },
    {
     "name": "stderr",
     "output_type": "stream",
     "text": [
      "\n",
      " 97%|██████████████████████████████████████▋ | 968/1000 [01:25<00:02, 11.26it/s]\u001b[A\n",
      " 97%|██████████████████████████████████████▊ | 970/1000 [01:26<00:02, 11.31it/s]\u001b[A"
     ]
    },
    {
     "name": "stdout",
     "output_type": "stream",
     "text": [
      "0.0880289077758789\n",
      "0.08876371383666992\n",
      "0.08480596542358398\n"
     ]
    },
    {
     "name": "stderr",
     "output_type": "stream",
     "text": [
      "\n",
      " 97%|██████████████████████████████████████▉ | 972/1000 [01:26<00:02, 11.27it/s]\u001b[A"
     ]
    },
    {
     "name": "stdout",
     "output_type": "stream",
     "text": [
      "0.0921175479888916\n",
      "0.08578658103942871\n",
      "0.08872151374816895\n"
     ]
    },
    {
     "name": "stderr",
     "output_type": "stream",
     "text": [
      "\n",
      " 97%|██████████████████████████████████████▉ | 974/1000 [01:26<00:02, 11.24it/s]\u001b[A\n",
      " 98%|███████████████████████████████████████ | 976/1000 [01:26<00:02, 11.31it/s]\u001b[A"
     ]
    },
    {
     "name": "stdout",
     "output_type": "stream",
     "text": [
      "0.08932948112487793\n",
      "0.08797621726989746\n",
      "0.08490180969238281\n"
     ]
    },
    {
     "name": "stderr",
     "output_type": "stream",
     "text": [
      "\n",
      " 98%|███████████████████████████████████████ | 978/1000 [01:26<00:02, 10.88it/s]\u001b[A"
     ]
    },
    {
     "name": "stdout",
     "output_type": "stream",
     "text": [
      "0.11417627334594727\n",
      "0.08473706245422363\n",
      "0.09022402763366699\n"
     ]
    },
    {
     "name": "stderr",
     "output_type": "stream",
     "text": [
      "\n",
      " 98%|███████████████████████████████████████▏| 980/1000 [01:27<00:01, 10.95it/s]\u001b[A\n",
      " 98%|███████████████████████████████████████▎| 982/1000 [01:27<00:01, 11.07it/s]\u001b[A"
     ]
    },
    {
     "name": "stdout",
     "output_type": "stream",
     "text": [
      "0.08859539031982422\n",
      "0.09007072448730469\n",
      "0.08480715751647949\n"
     ]
    },
    {
     "name": "stderr",
     "output_type": "stream",
     "text": [
      "\n",
      " 98%|███████████████████████████████████████▎| 984/1000 [01:27<00:01, 11.11it/s]\u001b[A"
     ]
    },
    {
     "name": "stdout",
     "output_type": "stream",
     "text": [
      "0.0916903018951416\n",
      "0.0856168270111084\n",
      "0.08947038650512695\n"
     ]
    },
    {
     "name": "stderr",
     "output_type": "stream",
     "text": [
      "\n",
      " 99%|███████████████████████████████████████▍| 986/1000 [01:27<00:01, 11.12it/s]\u001b[A\n",
      " 99%|███████████████████████████████████████▌| 988/1000 [01:27<00:01, 11.19it/s]\u001b[A"
     ]
    },
    {
     "name": "stdout",
     "output_type": "stream",
     "text": [
      "0.08878183364868164\n",
      "0.09010624885559082\n",
      "0.08493804931640625\n"
     ]
    },
    {
     "name": "stderr",
     "output_type": "stream",
     "text": [
      "\n",
      " 99%|███████████████████████████████████████▌| 990/1000 [01:27<00:00, 11.21it/s]\u001b[A"
     ]
    },
    {
     "name": "stdout",
     "output_type": "stream",
     "text": [
      "0.09093880653381348\n",
      "0.08568286895751953\n",
      "0.0886068344116211\n"
     ]
    },
    {
     "name": "stderr",
     "output_type": "stream",
     "text": [
      "\n",
      " 99%|███████████████████████████████████████▋| 992/1000 [01:28<00:00, 11.21it/s]\u001b[A\n",
      " 99%|███████████████████████████████████████▊| 994/1000 [01:28<00:00, 11.23it/s]\u001b[A"
     ]
    },
    {
     "name": "stdout",
     "output_type": "stream",
     "text": [
      "0.08848333358764648\n",
      "0.08963537216186523\n",
      "0.08640027046203613\n"
     ]
    },
    {
     "name": "stderr",
     "output_type": "stream",
     "text": [
      "\n",
      "100%|███████████████████████████████████████▊| 996/1000 [01:28<00:00, 11.24it/s]\u001b[A"
     ]
    },
    {
     "name": "stdout",
     "output_type": "stream",
     "text": [
      "0.09109759330749512\n",
      "0.08518195152282715\n",
      "0.08854794502258301\n"
     ]
    },
    {
     "name": "stderr",
     "output_type": "stream",
     "text": [
      "\n",
      "100%|███████████████████████████████████████▉| 998/1000 [01:28<00:00, 11.23it/s]\u001b[A\n",
      "100%|███████████████████████████████████████| 1000/1000 [01:28<00:00, 11.26it/s]\u001b[A\n",
      " 40%|██████████████████                           | 2/5 [02:57<04:26, 88.80s/it]"
     ]
    },
    {
     "name": "stdout",
     "output_type": "stream",
     "text": [
      "0.08861804008483887\n",
      "0.0901949405670166\n",
      "0.08532071113586426\n",
      "One run completed\n"
     ]
    },
    {
     "name": "stderr",
     "output_type": "stream",
     "text": [
      "\n",
      "  0%|                                                  | 0/1000 [00:00<?, ?it/s]\u001b[A\n",
      "  0%|                                          | 2/1000 [00:00<01:26, 11.49it/s]\u001b[A"
     ]
    },
    {
     "name": "stdout",
     "output_type": "stream",
     "text": [
      "0.08853745460510254\n",
      "0.0852813720703125\n",
      "0.0889127254486084\n"
     ]
    },
    {
     "name": "stderr",
     "output_type": "stream",
     "text": [
      "\n",
      "  0%|▏                                         | 4/1000 [00:00<01:28, 11.31it/s]\u001b[A\n",
      "  1%|▎                                         | 6/1000 [00:00<01:27, 11.33it/s]\u001b[A"
     ]
    },
    {
     "name": "stdout",
     "output_type": "stream",
     "text": [
      "0.08857870101928711\n",
      "0.0898902416229248\n",
      "0.0850534439086914\n"
     ]
    },
    {
     "name": "stderr",
     "output_type": "stream",
     "text": [
      "\n",
      "  1%|▎                                         | 8/1000 [00:00<01:27, 11.34it/s]\u001b[A"
     ]
    },
    {
     "name": "stdout",
     "output_type": "stream",
     "text": [
      "0.08975768089294434\n",
      "0.0852518081665039\n",
      "0.0888979434967041\n"
     ]
    },
    {
     "name": "stderr",
     "output_type": "stream",
     "text": [
      "\n",
      "  1%|▍                                        | 10/1000 [00:00<01:27, 11.29it/s]\u001b[A\n",
      "  1%|▍                                        | 12/1000 [00:01<01:26, 11.38it/s]\u001b[A"
     ]
    },
    {
     "name": "stdout",
     "output_type": "stream",
     "text": [
      "0.08877372741699219\n",
      "0.08694577217102051\n",
      "0.08504438400268555\n"
     ]
    },
    {
     "name": "stderr",
     "output_type": "stream",
     "text": [
      "\n",
      "  1%|▌                                        | 14/1000 [00:01<01:26, 11.38it/s]\u001b[A"
     ]
    },
    {
     "name": "stdout",
     "output_type": "stream",
     "text": [
      "0.08972406387329102\n",
      "0.08490967750549316\n",
      "0.08768439292907715\n"
     ]
    },
    {
     "name": "stderr",
     "output_type": "stream",
     "text": [
      "\n",
      "  2%|▋                                        | 16/1000 [00:01<01:26, 11.33it/s]\u001b[A\n",
      "  2%|▋                                        | 18/1000 [00:01<01:26, 11.31it/s]\u001b[A"
     ]
    },
    {
     "name": "stdout",
     "output_type": "stream",
     "text": [
      "0.08929657936096191\n",
      "0.08919453620910645\n",
      "0.08633780479431152\n"
     ]
    },
    {
     "name": "stderr",
     "output_type": "stream",
     "text": [
      "\n",
      "  2%|▊                                        | 20/1000 [00:01<01:27, 11.25it/s]\u001b[A"
     ]
    },
    {
     "name": "stdout",
     "output_type": "stream",
     "text": [
      "0.09336614608764648\n",
      "0.08544731140136719\n",
      "0.08783197402954102\n"
     ]
    },
    {
     "name": "stderr",
     "output_type": "stream",
     "text": [
      "\n",
      "  2%|▉                                        | 22/1000 [00:01<01:26, 11.25it/s]\u001b[A\n",
      "  2%|▉                                        | 24/1000 [00:02<01:26, 11.33it/s]\u001b[A"
     ]
    },
    {
     "name": "stdout",
     "output_type": "stream",
     "text": [
      "0.0885615348815918\n",
      "0.08768939971923828\n",
      "0.08484172821044922\n"
     ]
    },
    {
     "name": "stderr",
     "output_type": "stream",
     "text": [
      "\n",
      "  3%|█                                        | 26/1000 [00:02<01:25, 11.33it/s]\u001b[A"
     ]
    },
    {
     "name": "stdout",
     "output_type": "stream",
     "text": [
      "0.09031128883361816\n",
      "0.08512496948242188\n",
      "0.08849000930786133\n"
     ]
    },
    {
     "name": "stderr",
     "output_type": "stream",
     "text": [
      "\n",
      "  3%|█▏                                       | 28/1000 [00:02<01:26, 11.29it/s]\u001b[A\n",
      "  3%|█▏                                       | 30/1000 [00:02<01:26, 11.23it/s]\u001b[A"
     ]
    },
    {
     "name": "stdout",
     "output_type": "stream",
     "text": [
      "0.08893895149230957\n",
      "0.09283256530761719\n",
      "0.0860285758972168\n"
     ]
    },
    {
     "name": "stderr",
     "output_type": "stream",
     "text": [
      "\n",
      "  3%|█▎                                       | 32/1000 [00:02<01:25, 11.26it/s]\u001b[A"
     ]
    },
    {
     "name": "stdout",
     "output_type": "stream",
     "text": [
      "0.08931112289428711\n",
      "0.08608460426330566\n",
      "0.08805584907531738\n"
     ]
    },
    {
     "name": "stderr",
     "output_type": "stream",
     "text": [
      "\n",
      "  3%|█▍                                       | 34/1000 [00:03<01:25, 11.27it/s]\u001b[A\n",
      "  4%|█▍                                       | 36/1000 [00:03<01:24, 11.35it/s]\u001b[A"
     ]
    },
    {
     "name": "stdout",
     "output_type": "stream",
     "text": [
      "0.08775639533996582\n",
      "0.08664131164550781\n",
      "0.08550405502319336\n"
     ]
    },
    {
     "name": "stderr",
     "output_type": "stream",
     "text": [
      "\n",
      "  4%|█▌                                       | 38/1000 [00:03<01:24, 11.35it/s]\u001b[A"
     ]
    },
    {
     "name": "stdout",
     "output_type": "stream",
     "text": [
      "0.08940982818603516\n",
      "0.08545732498168945\n",
      "0.09018707275390625\n"
     ]
    },
    {
     "name": "stderr",
     "output_type": "stream",
     "text": [
      "\n",
      "  4%|█▋                                       | 40/1000 [00:03<01:24, 11.29it/s]\u001b[A\n",
      "  4%|█▋                                       | 42/1000 [00:03<01:24, 11.30it/s]\u001b[A"
     ]
    },
    {
     "name": "stdout",
     "output_type": "stream",
     "text": [
      "0.08782434463500977\n",
      "0.08997917175292969\n",
      "0.08547592163085938\n"
     ]
    },
    {
     "name": "stderr",
     "output_type": "stream",
     "text": [
      "\n",
      "  4%|█▊                                       | 44/1000 [00:03<01:24, 11.33it/s]\u001b[A"
     ]
    },
    {
     "name": "stdout",
     "output_type": "stream",
     "text": [
      "0.08921265602111816\n",
      "0.08508515357971191\n",
      "0.08933162689208984\n"
     ]
    },
    {
     "name": "stderr",
     "output_type": "stream",
     "text": [
      "\n",
      "  5%|█▉                                       | 46/1000 [00:04<01:24, 11.29it/s]\u001b[A\n",
      "  5%|█▉                                       | 48/1000 [00:04<01:23, 11.34it/s]\u001b[A"
     ]
    },
    {
     "name": "stdout",
     "output_type": "stream",
     "text": [
      "0.08834552764892578\n",
      "0.08760499954223633\n",
      "0.08533811569213867\n"
     ]
    },
    {
     "name": "stderr",
     "output_type": "stream",
     "text": [
      "\n",
      "  5%|██                                       | 50/1000 [00:04<01:23, 11.33it/s]\u001b[A"
     ]
    },
    {
     "name": "stdout",
     "output_type": "stream",
     "text": [
      "0.0898287296295166\n",
      "0.08577299118041992\n",
      "0.0886845588684082\n"
     ]
    },
    {
     "name": "stderr",
     "output_type": "stream",
     "text": [
      "\n",
      "  5%|██▏                                      | 52/1000 [00:04<01:23, 11.30it/s]\u001b[A\n",
      "  5%|██▏                                      | 54/1000 [00:04<01:23, 11.35it/s]\u001b[A"
     ]
    },
    {
     "name": "stdout",
     "output_type": "stream",
     "text": [
      "0.08839726448059082\n",
      "0.08763933181762695\n",
      "0.0856466293334961\n"
     ]
    },
    {
     "name": "stderr",
     "output_type": "stream",
     "text": [
      "\n",
      "  6%|██▎                                      | 56/1000 [00:04<01:23, 11.35it/s]\u001b[A"
     ]
    },
    {
     "name": "stdout",
     "output_type": "stream",
     "text": [
      "0.08974123001098633\n",
      "0.08510994911193848\n",
      "0.0878000259399414\n"
     ]
    },
    {
     "name": "stderr",
     "output_type": "stream",
     "text": [
      "\n",
      "  6%|██▍                                      | 58/1000 [00:05<01:23, 11.29it/s]\u001b[A\n",
      "  6%|██▍                                      | 60/1000 [00:05<01:23, 11.31it/s]\u001b[A"
     ]
    },
    {
     "name": "stdout",
     "output_type": "stream",
     "text": [
      "0.09025287628173828\n",
      "0.09010076522827148\n",
      "0.08479666709899902\n"
     ]
    },
    {
     "name": "stderr",
     "output_type": "stream",
     "text": [
      "\n",
      "  6%|██▌                                      | 62/1000 [00:05<01:22, 11.30it/s]\u001b[A"
     ]
    },
    {
     "name": "stdout",
     "output_type": "stream",
     "text": [
      "0.0899960994720459\n",
      "0.08587789535522461\n",
      "0.08906888961791992\n"
     ]
    },
    {
     "name": "stderr",
     "output_type": "stream",
     "text": [
      "\n",
      "  6%|██▌                                      | 64/1000 [00:05<01:22, 11.29it/s]\u001b[A\n",
      "  7%|██▋                                      | 66/1000 [00:05<01:22, 11.36it/s]\u001b[A"
     ]
    },
    {
     "name": "stdout",
     "output_type": "stream",
     "text": [
      "0.08734965324401855\n",
      "0.08801889419555664\n",
      "0.08415484428405762\n"
     ]
    },
    {
     "name": "stderr",
     "output_type": "stream",
     "text": [
      "\n",
      "  7%|██▊                                      | 68/1000 [00:06<01:22, 11.36it/s]\u001b[A"
     ]
    },
    {
     "name": "stdout",
     "output_type": "stream",
     "text": [
      "0.08994388580322266\n",
      "0.08494329452514648\n",
      "0.08878707885742188\n"
     ]
    },
    {
     "name": "stderr",
     "output_type": "stream",
     "text": [
      "\n",
      "  7%|██▊                                      | 70/1000 [00:06<01:21, 11.35it/s]\u001b[A\n",
      "  7%|██▉                                      | 72/1000 [00:06<01:21, 11.40it/s]\u001b[A"
     ]
    },
    {
     "name": "stdout",
     "output_type": "stream",
     "text": [
      "0.08696746826171875\n",
      "0.0880436897277832\n",
      "0.08426189422607422\n"
     ]
    },
    {
     "name": "stderr",
     "output_type": "stream",
     "text": [
      "\n",
      "  7%|███                                      | 74/1000 [00:06<01:21, 11.36it/s]\u001b[A"
     ]
    },
    {
     "name": "stdout",
     "output_type": "stream",
     "text": [
      "0.09110856056213379\n",
      "0.08535361289978027\n",
      "0.08809971809387207\n"
     ]
    },
    {
     "name": "stderr",
     "output_type": "stream",
     "text": [
      "\n",
      "  8%|███                                      | 76/1000 [00:06<01:21, 11.34it/s]\u001b[A\n",
      "  8%|███▏                                     | 78/1000 [00:06<01:21, 11.37it/s]\u001b[A"
     ]
    },
    {
     "name": "stdout",
     "output_type": "stream",
     "text": [
      "0.08789992332458496\n",
      "0.08951115608215332\n",
      "0.08420991897583008\n"
     ]
    },
    {
     "name": "stderr",
     "output_type": "stream",
     "text": [
      "\n",
      "  8%|███▎                                     | 80/1000 [00:07<01:21, 11.35it/s]\u001b[A"
     ]
    },
    {
     "name": "stdout",
     "output_type": "stream",
     "text": [
      "0.08960413932800293\n",
      "0.08579158782958984\n",
      "0.08816814422607422\n"
     ]
    },
    {
     "name": "stderr",
     "output_type": "stream",
     "text": [
      "\n",
      "  8%|███▎                                     | 82/1000 [00:07<01:21, 11.32it/s]\u001b[A\n",
      "  8%|███▍                                     | 84/1000 [00:07<01:20, 11.38it/s]\u001b[A"
     ]
    },
    {
     "name": "stdout",
     "output_type": "stream",
     "text": [
      "0.08858370780944824\n",
      "0.08776688575744629\n",
      "0.08455634117126465\n"
     ]
    },
    {
     "name": "stderr",
     "output_type": "stream",
     "text": [
      "\n",
      "  9%|███▌                                     | 86/1000 [00:07<01:20, 11.37it/s]\u001b[A"
     ]
    },
    {
     "name": "stdout",
     "output_type": "stream",
     "text": [
      "0.08992171287536621\n",
      "0.0851600170135498\n",
      "0.08795166015625\n"
     ]
    },
    {
     "name": "stderr",
     "output_type": "stream",
     "text": [
      "\n",
      "  9%|███▌                                     | 88/1000 [00:07<01:20, 11.36it/s]\u001b[A\n",
      "  9%|███▋                                     | 90/1000 [00:07<01:19, 11.41it/s]\u001b[A"
     ]
    },
    {
     "name": "stdout",
     "output_type": "stream",
     "text": [
      "0.0870976448059082\n",
      "0.08727121353149414\n",
      "0.08470892906188965\n"
     ]
    },
    {
     "name": "stderr",
     "output_type": "stream",
     "text": [
      "\n",
      "  9%|███▊                                     | 92/1000 [00:08<01:19, 11.38it/s]\u001b[A"
     ]
    },
    {
     "name": "stdout",
     "output_type": "stream",
     "text": [
      "0.08996748924255371\n",
      "0.08532094955444336\n",
      "0.0889732837677002\n"
     ]
    },
    {
     "name": "stderr",
     "output_type": "stream",
     "text": [
      "\n",
      "  9%|███▊                                     | 94/1000 [00:08<01:19, 11.34it/s]\u001b[A\n",
      " 10%|███▉                                     | 96/1000 [00:08<01:19, 11.35it/s]\u001b[A"
     ]
    },
    {
     "name": "stdout",
     "output_type": "stream",
     "text": [
      "0.08770060539245605\n",
      "0.08836579322814941\n",
      "0.08625006675720215\n"
     ]
    },
    {
     "name": "stderr",
     "output_type": "stream",
     "text": [
      "\n",
      " 10%|████                                     | 98/1000 [00:08<01:19, 11.35it/s]\u001b[A"
     ]
    },
    {
     "name": "stdout",
     "output_type": "stream",
     "text": [
      "0.08980512619018555\n",
      "0.08547472953796387\n",
      "0.08757472038269043\n"
     ]
    },
    {
     "name": "stderr",
     "output_type": "stream",
     "text": [
      "\n",
      " 10%|████                                    | 100/1000 [00:08<01:19, 11.34it/s]\u001b[A\n",
      " 10%|████                                    | 102/1000 [00:09<01:18, 11.37it/s]\u001b[A"
     ]
    },
    {
     "name": "stdout",
     "output_type": "stream",
     "text": [
      "0.08775186538696289\n",
      "0.0888676643371582\n",
      "0.0850369930267334\n"
     ]
    },
    {
     "name": "stderr",
     "output_type": "stream",
     "text": [
      "\n",
      " 10%|████▏                                   | 104/1000 [00:09<01:18, 11.36it/s]\u001b[A"
     ]
    },
    {
     "name": "stdout",
     "output_type": "stream",
     "text": [
      "0.08975720405578613\n",
      "0.08524680137634277\n",
      "0.0892486572265625\n"
     ]
    },
    {
     "name": "stderr",
     "output_type": "stream",
     "text": [
      "\n",
      " 11%|████▏                                   | 106/1000 [00:09<01:18, 11.33it/s]\u001b[A\n",
      " 11%|████▎                                   | 108/1000 [00:09<01:18, 11.32it/s]\u001b[A"
     ]
    },
    {
     "name": "stdout",
     "output_type": "stream",
     "text": [
      "0.08759546279907227\n",
      "0.09038281440734863\n",
      "0.08514690399169922\n"
     ]
    },
    {
     "name": "stderr",
     "output_type": "stream",
     "text": [
      "\n",
      " 11%|████▍                                   | 110/1000 [00:09<01:18, 11.31it/s]\u001b[A"
     ]
    },
    {
     "name": "stdout",
     "output_type": "stream",
     "text": [
      "0.08968734741210938\n",
      "0.08627557754516602\n",
      "0.08942508697509766\n"
     ]
    },
    {
     "name": "stderr",
     "output_type": "stream",
     "text": [
      "\n",
      " 11%|████▍                                   | 112/1000 [00:09<01:18, 11.28it/s]\u001b[A"
     ]
    },
    {
     "name": "stdout",
     "output_type": "stream",
     "text": [
      "0.08798837661743164\n"
     ]
    },
    {
     "name": "stderr",
     "output_type": "stream",
     "text": [
      "\n",
      " 11%|████▌                                   | 114/1000 [00:10<01:38,  9.01it/s]\u001b[A"
     ]
    },
    {
     "name": "stdout",
     "output_type": "stream",
     "text": [
      "0.23902320861816406\n",
      "0.08582901954650879\n",
      "0.08730268478393555\n"
     ]
    },
    {
     "name": "stderr",
     "output_type": "stream",
     "text": [
      "\n",
      " 12%|████▋                                   | 116/1000 [00:10<01:32,  9.60it/s]\u001b[A\n",
      " 12%|████▋                                   | 118/1000 [00:10<01:27, 10.10it/s]\u001b[A"
     ]
    },
    {
     "name": "stdout",
     "output_type": "stream",
     "text": [
      "0.08775186538696289\n",
      "0.08788299560546875\n",
      "0.08525848388671875\n"
     ]
    },
    {
     "name": "stderr",
     "output_type": "stream",
     "text": [
      "\n",
      " 12%|████▊                                   | 120/1000 [00:10<01:24, 10.45it/s]\u001b[A"
     ]
    },
    {
     "name": "stdout",
     "output_type": "stream",
     "text": [
      "0.08969378471374512\n",
      "0.08508014678955078\n",
      "0.08754420280456543\n"
     ]
    },
    {
     "name": "stderr",
     "output_type": "stream",
     "text": [
      "\n",
      " 12%|████▉                                   | 122/1000 [00:10<01:22, 10.69it/s]\u001b[A\n",
      " 12%|████▉                                   | 124/1000 [00:11<01:20, 10.92it/s]\u001b[A"
     ]
    },
    {
     "name": "stdout",
     "output_type": "stream",
     "text": [
      "0.08839583396911621\n",
      "0.08763384819030762\n",
      "0.08502984046936035\n"
     ]
    },
    {
     "name": "stderr",
     "output_type": "stream",
     "text": [
      "\n",
      " 13%|█████                                   | 126/1000 [00:11<01:19, 11.02it/s]\u001b[A"
     ]
    },
    {
     "name": "stdout",
     "output_type": "stream",
     "text": [
      "0.09062314033508301\n",
      "0.08586645126342773\n",
      "0.08923768997192383\n"
     ]
    },
    {
     "name": "stderr",
     "output_type": "stream",
     "text": [
      "\n",
      " 13%|█████                                   | 128/1000 [00:11<01:18, 11.06it/s]\u001b[A\n",
      " 13%|█████▏                                  | 130/1000 [00:11<01:17, 11.18it/s]\u001b[A"
     ]
    },
    {
     "name": "stdout",
     "output_type": "stream",
     "text": [
      "0.08911609649658203\n",
      "0.08740067481994629\n",
      "0.08574938774108887\n"
     ]
    },
    {
     "name": "stderr",
     "output_type": "stream",
     "text": [
      "\n",
      " 13%|█████▎                                  | 132/1000 [00:11<01:17, 11.21it/s]\u001b[A"
     ]
    },
    {
     "name": "stdout",
     "output_type": "stream",
     "text": [
      "0.09035539627075195\n",
      "0.08561110496520996\n",
      "0.08756375312805176\n"
     ]
    },
    {
     "name": "stderr",
     "output_type": "stream",
     "text": [
      "\n",
      " 13%|█████▎                                  | 134/1000 [00:11<01:17, 11.24it/s]\u001b[A\n",
      " 14%|█████▍                                  | 136/1000 [00:12<01:16, 11.34it/s]\u001b[A"
     ]
    },
    {
     "name": "stdout",
     "output_type": "stream",
     "text": [
      "0.08799958229064941\n",
      "0.08649349212646484\n",
      "0.08537554740905762\n"
     ]
    },
    {
     "name": "stderr",
     "output_type": "stream",
     "text": [
      "\n",
      " 14%|█████▌                                  | 138/1000 [00:12<01:16, 11.34it/s]\u001b[A"
     ]
    },
    {
     "name": "stdout",
     "output_type": "stream",
     "text": [
      "0.08983469009399414\n",
      "0.08539152145385742\n",
      "0.08920168876647949\n"
     ]
    },
    {
     "name": "stderr",
     "output_type": "stream",
     "text": [
      "\n",
      " 14%|█████▌                                  | 140/1000 [00:12<01:16, 11.28it/s]\u001b[A\n",
      " 14%|█████▋                                  | 142/1000 [00:12<01:15, 11.31it/s]\u001b[A"
     ]
    },
    {
     "name": "stdout",
     "output_type": "stream",
     "text": [
      "0.08900690078735352\n",
      "0.0890054702758789\n",
      "0.08520030975341797\n"
     ]
    },
    {
     "name": "stderr",
     "output_type": "stream",
     "text": [
      "\n",
      " 14%|█████▊                                  | 144/1000 [00:12<01:15, 11.31it/s]\u001b[A"
     ]
    },
    {
     "name": "stdout",
     "output_type": "stream",
     "text": [
      "0.09043526649475098\n",
      "0.08537435531616211\n",
      "0.09735250473022461\n"
     ]
    },
    {
     "name": "stderr",
     "output_type": "stream",
     "text": [
      "\n",
      " 15%|█████▊                                  | 146/1000 [00:13<01:16, 11.14it/s]\u001b[A\n",
      " 15%|█████▉                                  | 148/1000 [00:13<01:15, 11.24it/s]\u001b[A"
     ]
    },
    {
     "name": "stdout",
     "output_type": "stream",
     "text": [
      "0.08729362487792969\n",
      "0.08809590339660645\n",
      "0.08499789237976074\n"
     ]
    },
    {
     "name": "stderr",
     "output_type": "stream",
     "text": [
      "\n",
      " 15%|██████                                  | 150/1000 [00:13<01:15, 11.27it/s]\u001b[A"
     ]
    },
    {
     "name": "stdout",
     "output_type": "stream",
     "text": [
      "0.09011101722717285\n",
      "0.08506512641906738\n",
      "0.08822751045227051\n"
     ]
    },
    {
     "name": "stderr",
     "output_type": "stream",
     "text": [
      "\n",
      " 15%|██████                                  | 152/1000 [00:13<01:15, 11.25it/s]\u001b[A\n",
      " 15%|██████▏                                 | 154/1000 [00:13<01:14, 11.28it/s]\u001b[A"
     ]
    },
    {
     "name": "stdout",
     "output_type": "stream",
     "text": [
      "0.08897829055786133\n",
      "0.08910012245178223\n",
      "0.08593225479125977\n"
     ]
    },
    {
     "name": "stderr",
     "output_type": "stream",
     "text": [
      "\n",
      " 16%|██████▏                                 | 156/1000 [00:13<01:14, 11.29it/s]\u001b[A"
     ]
    },
    {
     "name": "stdout",
     "output_type": "stream",
     "text": [
      "0.0900430679321289\n",
      "0.08554697036743164\n",
      "0.08908534049987793\n"
     ]
    },
    {
     "name": "stderr",
     "output_type": "stream",
     "text": [
      "\n",
      " 16%|██████▎                                 | 158/1000 [00:14<01:14, 11.26it/s]\u001b[A\n",
      " 16%|██████▍                                 | 160/1000 [00:14<01:14, 11.32it/s]\u001b[A"
     ]
    },
    {
     "name": "stdout",
     "output_type": "stream",
     "text": [
      "0.08832550048828125\n",
      "0.0888519287109375\n",
      "0.08457159996032715\n"
     ]
    },
    {
     "name": "stderr",
     "output_type": "stream",
     "text": [
      "\n",
      " 16%|██████▍                                 | 162/1000 [00:14<01:14, 11.29it/s]\u001b[A"
     ]
    },
    {
     "name": "stdout",
     "output_type": "stream",
     "text": [
      "0.09052300453186035\n",
      "0.08659005165100098\n",
      "0.08963394165039062\n"
     ]
    },
    {
     "name": "stderr",
     "output_type": "stream",
     "text": [
      "\n",
      " 16%|██████▌                                 | 164/1000 [00:14<01:14, 11.25it/s]\u001b[A\n",
      " 17%|██████▋                                 | 166/1000 [00:14<01:13, 11.30it/s]\u001b[A"
     ]
    },
    {
     "name": "stdout",
     "output_type": "stream",
     "text": [
      "0.08844447135925293\n",
      "0.08929586410522461\n",
      "0.08430767059326172\n"
     ]
    },
    {
     "name": "stderr",
     "output_type": "stream",
     "text": [
      "\n",
      " 17%|██████▋                                 | 168/1000 [00:14<01:13, 11.30it/s]\u001b[A"
     ]
    },
    {
     "name": "stdout",
     "output_type": "stream",
     "text": [
      "0.09105777740478516\n",
      "0.08504438400268555\n",
      "0.09000611305236816\n"
     ]
    },
    {
     "name": "stderr",
     "output_type": "stream",
     "text": [
      "\n",
      " 17%|██████▊                                 | 170/1000 [00:15<01:13, 11.26it/s]\u001b[A\n",
      " 17%|██████▉                                 | 172/1000 [00:15<01:13, 11.33it/s]\u001b[A"
     ]
    },
    {
     "name": "stdout",
     "output_type": "stream",
     "text": [
      "0.08778238296508789\n",
      "0.08779644966125488\n",
      "0.08522200584411621\n"
     ]
    },
    {
     "name": "stderr",
     "output_type": "stream",
     "text": [
      "\n",
      " 17%|██████▉                                 | 174/1000 [00:15<01:13, 11.31it/s]\u001b[A"
     ]
    },
    {
     "name": "stdout",
     "output_type": "stream",
     "text": [
      "0.09132170677185059\n",
      "0.08509373664855957\n",
      "0.08858132362365723\n"
     ]
    },
    {
     "name": "stderr",
     "output_type": "stream",
     "text": [
      "\n",
      " 18%|███████                                 | 176/1000 [00:15<01:12, 11.30it/s]\u001b[A\n",
      " 18%|███████                                 | 178/1000 [00:15<01:12, 11.35it/s]\u001b[A"
     ]
    },
    {
     "name": "stdout",
     "output_type": "stream",
     "text": [
      "0.08750200271606445\n",
      "0.08897590637207031\n",
      "0.0841362476348877\n"
     ]
    },
    {
     "name": "stderr",
     "output_type": "stream",
     "text": [
      "\n",
      " 18%|███████▏                                | 180/1000 [00:16<01:12, 11.33it/s]\u001b[A"
     ]
    },
    {
     "name": "stdout",
     "output_type": "stream",
     "text": [
      "0.09090924263000488\n",
      "0.08525323867797852\n",
      "0.088958740234375\n"
     ]
    },
    {
     "name": "stderr",
     "output_type": "stream",
     "text": [
      "\n",
      " 18%|███████▎                                | 182/1000 [00:16<01:12, 11.30it/s]\u001b[A\n",
      " 18%|███████▎                                | 184/1000 [00:16<01:11, 11.34it/s]\u001b[A"
     ]
    },
    {
     "name": "stdout",
     "output_type": "stream",
     "text": [
      "0.08835053443908691\n",
      "0.08857154846191406\n",
      "0.08487343788146973\n"
     ]
    },
    {
     "name": "stderr",
     "output_type": "stream",
     "text": [
      "\n",
      " 19%|███████▍                                | 186/1000 [00:16<01:11, 11.34it/s]\u001b[A"
     ]
    },
    {
     "name": "stdout",
     "output_type": "stream",
     "text": [
      "0.0910029411315918\n",
      "0.08453965187072754\n",
      "0.0893409252166748\n"
     ]
    },
    {
     "name": "stderr",
     "output_type": "stream",
     "text": [
      "\n",
      " 19%|███████▌                                | 188/1000 [00:16<01:11, 11.30it/s]\u001b[A\n",
      " 19%|███████▌                                | 190/1000 [00:16<01:11, 11.35it/s]\u001b[A"
     ]
    },
    {
     "name": "stdout",
     "output_type": "stream",
     "text": [
      "0.08763384819030762\n",
      "0.08826541900634766\n",
      "0.08492136001586914\n"
     ]
    },
    {
     "name": "stderr",
     "output_type": "stream",
     "text": [
      "\n",
      " 19%|███████▋                                | 192/1000 [00:17<01:11, 11.34it/s]\u001b[A"
     ]
    },
    {
     "name": "stdout",
     "output_type": "stream",
     "text": [
      "0.09111499786376953\n",
      "0.08432507514953613\n",
      "0.08959245681762695\n"
     ]
    },
    {
     "name": "stderr",
     "output_type": "stream",
     "text": [
      "\n",
      " 19%|███████▊                                | 194/1000 [00:17<01:11, 11.30it/s]\u001b[A\n",
      " 20%|███████▊                                | 196/1000 [00:17<01:11, 11.30it/s]\u001b[A"
     ]
    },
    {
     "name": "stdout",
     "output_type": "stream",
     "text": [
      "0.08761954307556152\n",
      "0.08974123001098633\n",
      "0.08594393730163574\n"
     ]
    },
    {
     "name": "stderr",
     "output_type": "stream",
     "text": [
      "\n",
      " 20%|███████▉                                | 198/1000 [00:17<01:10, 11.32it/s]\u001b[A"
     ]
    },
    {
     "name": "stdout",
     "output_type": "stream",
     "text": [
      "0.0904836654663086\n",
      "0.0842752456665039\n",
      "0.09050536155700684\n"
     ]
    },
    {
     "name": "stderr",
     "output_type": "stream",
     "text": [
      "\n",
      " 20%|████████                                | 200/1000 [00:17<01:10, 11.27it/s]\u001b[A\n",
      " 20%|████████                                | 202/1000 [00:17<01:10, 11.33it/s]\u001b[A"
     ]
    },
    {
     "name": "stdout",
     "output_type": "stream",
     "text": [
      "0.08787703514099121\n",
      "0.08823347091674805\n",
      "0.08477902412414551\n"
     ]
    },
    {
     "name": "stderr",
     "output_type": "stream",
     "text": [
      "\n",
      " 20%|████████▏                               | 204/1000 [00:18<01:10, 11.34it/s]\u001b[A"
     ]
    },
    {
     "name": "stdout",
     "output_type": "stream",
     "text": [
      "0.09000158309936523\n",
      "0.08470392227172852\n",
      "0.08812427520751953\n"
     ]
    },
    {
     "name": "stderr",
     "output_type": "stream",
     "text": [
      "\n",
      " 21%|████████▏                               | 206/1000 [00:18<01:10, 11.34it/s]\u001b[A\n",
      " 21%|████████▎                               | 208/1000 [00:18<01:09, 11.36it/s]\u001b[A"
     ]
    },
    {
     "name": "stdout",
     "output_type": "stream",
     "text": [
      "0.0871577262878418\n",
      "0.08849883079528809\n",
      "0.08582162857055664\n"
     ]
    },
    {
     "name": "stderr",
     "output_type": "stream",
     "text": [
      "\n",
      " 21%|████████▍                               | 210/1000 [00:18<01:09, 11.37it/s]\u001b[A"
     ]
    },
    {
     "name": "stdout",
     "output_type": "stream",
     "text": [
      "0.08993244171142578\n",
      "0.08439755439758301\n",
      "0.08871579170227051\n"
     ]
    },
    {
     "name": "stderr",
     "output_type": "stream",
     "text": [
      "\n",
      " 21%|████████▍                               | 212/1000 [00:18<01:09, 11.35it/s]\u001b[A\n",
      " 21%|████████▌                               | 214/1000 [00:19<01:08, 11.39it/s]\u001b[A"
     ]
    },
    {
     "name": "stdout",
     "output_type": "stream",
     "text": [
      "0.08715629577636719\n",
      "0.08766818046569824\n",
      "0.08504009246826172\n"
     ]
    },
    {
     "name": "stderr",
     "output_type": "stream",
     "text": [
      "\n",
      " 22%|████████▋                               | 216/1000 [00:19<01:08, 11.38it/s]\u001b[A"
     ]
    },
    {
     "name": "stdout",
     "output_type": "stream",
     "text": [
      "0.09017491340637207\n",
      "0.08464670181274414\n",
      "0.09034323692321777\n"
     ]
    },
    {
     "name": "stderr",
     "output_type": "stream",
     "text": [
      "\n",
      " 22%|████████▋                               | 218/1000 [00:19<01:09, 11.29it/s]\u001b[A\n",
      " 22%|████████▊                               | 220/1000 [00:19<01:09, 11.30it/s]\u001b[A"
     ]
    },
    {
     "name": "stdout",
     "output_type": "stream",
     "text": [
      "0.0889134407043457\n",
      "0.08967208862304688\n",
      "0.08533334732055664\n"
     ]
    },
    {
     "name": "stderr",
     "output_type": "stream",
     "text": [
      "\n",
      " 22%|████████▉                               | 222/1000 [00:19<01:08, 11.32it/s]\u001b[A"
     ]
    },
    {
     "name": "stdout",
     "output_type": "stream",
     "text": [
      "0.09020328521728516\n",
      "0.08463072776794434\n",
      "0.08795166015625\n"
     ]
    },
    {
     "name": "stderr",
     "output_type": "stream",
     "text": [
      "\n",
      " 22%|████████▉                               | 224/1000 [00:19<01:08, 11.31it/s]\u001b[A\n",
      " 23%|█████████                               | 226/1000 [00:20<01:08, 11.36it/s]\u001b[A"
     ]
    },
    {
     "name": "stdout",
     "output_type": "stream",
     "text": [
      "0.08774757385253906\n",
      "0.08781957626342773\n",
      "0.08499026298522949\n"
     ]
    },
    {
     "name": "stderr",
     "output_type": "stream",
     "text": [
      "\n",
      " 23%|█████████                               | 228/1000 [00:20<01:08, 11.34it/s]\u001b[A"
     ]
    },
    {
     "name": "stdout",
     "output_type": "stream",
     "text": [
      "0.09055733680725098\n",
      "0.08527541160583496\n",
      "0.08883070945739746\n"
     ]
    },
    {
     "name": "stderr",
     "output_type": "stream",
     "text": [
      "\n",
      " 23%|█████████▏                              | 230/1000 [00:20<01:08, 11.29it/s]\u001b[A\n",
      " 23%|█████████▎                              | 232/1000 [00:20<01:07, 11.31it/s]\u001b[A"
     ]
    },
    {
     "name": "stdout",
     "output_type": "stream",
     "text": [
      "0.08908224105834961\n",
      "0.08828878402709961\n",
      "0.08640456199645996\n"
     ]
    },
    {
     "name": "stderr",
     "output_type": "stream",
     "text": [
      "\n",
      " 23%|█████████▎                              | 234/1000 [00:20<01:07, 11.33it/s]\u001b[A"
     ]
    },
    {
     "name": "stdout",
     "output_type": "stream",
     "text": [
      "0.0899512767791748\n",
      "0.08494853973388672\n",
      "0.08818387985229492\n"
     ]
    },
    {
     "name": "stderr",
     "output_type": "stream",
     "text": [
      "\n",
      " 24%|█████████▍                              | 236/1000 [00:20<01:07, 11.31it/s]\u001b[A\n",
      " 24%|█████████▌                              | 238/1000 [00:21<01:06, 11.38it/s]\u001b[A"
     ]
    },
    {
     "name": "stdout",
     "output_type": "stream",
     "text": [
      "0.08823156356811523\n",
      "0.08713388442993164\n",
      "0.08500838279724121\n"
     ]
    },
    {
     "name": "stderr",
     "output_type": "stream",
     "text": [
      "\n",
      " 24%|█████████▌                              | 240/1000 [00:21<01:06, 11.38it/s]\u001b[A"
     ]
    },
    {
     "name": "stdout",
     "output_type": "stream",
     "text": [
      "0.0893552303314209\n",
      "0.08518171310424805\n",
      "0.08918452262878418\n"
     ]
    },
    {
     "name": "stderr",
     "output_type": "stream",
     "text": [
      "\n",
      " 24%|█████████▋                              | 242/1000 [00:21<01:07, 11.30it/s]\u001b[A\n",
      " 24%|█████████▊                              | 244/1000 [00:21<01:06, 11.31it/s]\u001b[A"
     ]
    },
    {
     "name": "stdout",
     "output_type": "stream",
     "text": [
      "0.08954834938049316\n",
      "0.08961677551269531\n",
      "0.0858619213104248\n"
     ]
    },
    {
     "name": "stderr",
     "output_type": "stream",
     "text": [
      "\n",
      " 25%|█████████▊                              | 246/1000 [00:21<01:06, 11.31it/s]\u001b[A"
     ]
    },
    {
     "name": "stdout",
     "output_type": "stream",
     "text": [
      "0.09014463424682617\n",
      "0.0854792594909668\n",
      "0.08913278579711914\n"
     ]
    },
    {
     "name": "stderr",
     "output_type": "stream",
     "text": [
      "\n",
      " 25%|█████████▉                              | 248/1000 [00:22<01:06, 11.29it/s]\u001b[A\n",
      " 25%|██████████                              | 250/1000 [00:22<01:06, 11.31it/s]\u001b[A"
     ]
    },
    {
     "name": "stdout",
     "output_type": "stream",
     "text": [
      "0.08790111541748047\n",
      "0.08927392959594727\n",
      "0.0853879451751709\n"
     ]
    },
    {
     "name": "stderr",
     "output_type": "stream",
     "text": [
      "\n",
      " 25%|██████████                              | 252/1000 [00:22<01:06, 11.31it/s]\u001b[A"
     ]
    },
    {
     "name": "stdout",
     "output_type": "stream",
     "text": [
      "0.0901939868927002\n",
      "0.08577108383178711\n",
      "0.09012770652770996\n"
     ]
    },
    {
     "name": "stderr",
     "output_type": "stream",
     "text": [
      "\n",
      " 25%|██████████▏                             | 254/1000 [00:22<01:06, 11.26it/s]\u001b[A\n",
      " 26%|██████████▏                             | 256/1000 [00:22<01:05, 11.32it/s]\u001b[A"
     ]
    },
    {
     "name": "stdout",
     "output_type": "stream",
     "text": [
      "0.08807039260864258\n",
      "0.08784699440002441\n",
      "0.08535051345825195\n"
     ]
    },
    {
     "name": "stderr",
     "output_type": "stream",
     "text": [
      "\n",
      " 26%|██████████▎                             | 258/1000 [00:22<01:06, 11.16it/s]\u001b[A"
     ]
    },
    {
     "name": "stdout",
     "output_type": "stream",
     "text": [
      "0.09783196449279785\n",
      "0.0861363410949707\n",
      "0.08802556991577148\n"
     ]
    },
    {
     "name": "stderr",
     "output_type": "stream",
     "text": [
      "\n",
      " 26%|██████████▍                             | 260/1000 [00:23<01:06, 11.20it/s]\u001b[A\n",
      " 26%|██████████▍                             | 262/1000 [00:23<01:05, 11.24it/s]\u001b[A"
     ]
    },
    {
     "name": "stdout",
     "output_type": "stream",
     "text": [
      "0.08802533149719238\n",
      "0.08946609497070312\n",
      "0.08584761619567871\n"
     ]
    },
    {
     "name": "stderr",
     "output_type": "stream",
     "text": [
      "\n",
      " 26%|██████████▌                             | 264/1000 [00:23<01:05, 11.23it/s]\u001b[A"
     ]
    },
    {
     "name": "stdout",
     "output_type": "stream",
     "text": [
      "0.09055614471435547\n",
      "0.08648872375488281\n",
      "0.08803892135620117\n"
     ]
    },
    {
     "name": "stderr",
     "output_type": "stream",
     "text": [
      "\n",
      " 27%|██████████▋                             | 266/1000 [00:23<01:05, 11.26it/s]\u001b[A\n",
      " 27%|██████████▋                             | 268/1000 [00:23<01:04, 11.29it/s]\u001b[A"
     ]
    },
    {
     "name": "stdout",
     "output_type": "stream",
     "text": [
      "0.08750128746032715\n",
      "0.0894169807434082\n",
      "0.0851285457611084\n"
     ]
    },
    {
     "name": "stderr",
     "output_type": "stream",
     "text": [
      "\n",
      " 27%|██████████▊                             | 270/1000 [00:24<01:04, 11.30it/s]\u001b[A"
     ]
    },
    {
     "name": "stdout",
     "output_type": "stream",
     "text": [
      "0.08973002433776855\n",
      "0.08571481704711914\n",
      "0.08937788009643555\n"
     ]
    },
    {
     "name": "stderr",
     "output_type": "stream",
     "text": [
      "\n",
      " 27%|██████████▉                             | 272/1000 [00:24<01:04, 11.26it/s]\u001b[A\n",
      " 27%|██████████▉                             | 274/1000 [00:24<01:04, 11.33it/s]\u001b[A"
     ]
    },
    {
     "name": "stdout",
     "output_type": "stream",
     "text": [
      "0.08851742744445801\n",
      "0.08748102188110352\n",
      "0.08519196510314941\n"
     ]
    },
    {
     "name": "stderr",
     "output_type": "stream",
     "text": [
      "\n",
      " 28%|███████████                             | 276/1000 [00:24<01:04, 11.29it/s]\u001b[A"
     ]
    },
    {
     "name": "stdout",
     "output_type": "stream",
     "text": [
      "0.09033036231994629\n",
      "0.08701705932617188\n",
      "0.08741354942321777\n"
     ]
    },
    {
     "name": "stderr",
     "output_type": "stream",
     "text": [
      "\n",
      " 28%|███████████                             | 278/1000 [00:24<01:03, 11.29it/s]\u001b[A\n",
      " 28%|███████████▏                            | 280/1000 [00:24<01:03, 11.34it/s]\u001b[A"
     ]
    },
    {
     "name": "stdout",
     "output_type": "stream",
     "text": [
      "0.08844470977783203\n",
      "0.0883636474609375\n",
      "0.08527827262878418\n"
     ]
    },
    {
     "name": "stderr",
     "output_type": "stream",
     "text": [
      "\n",
      " 28%|███████████▎                            | 282/1000 [00:25<01:03, 11.33it/s]\u001b[A"
     ]
    },
    {
     "name": "stdout",
     "output_type": "stream",
     "text": [
      "0.08987784385681152\n",
      "0.08603549003601074\n",
      "0.08791470527648926\n"
     ]
    },
    {
     "name": "stderr",
     "output_type": "stream",
     "text": [
      "\n",
      " 28%|███████████▎                            | 284/1000 [00:25<01:03, 11.31it/s]\u001b[A\n",
      " 29%|███████████▍                            | 286/1000 [00:25<01:02, 11.34it/s]\u001b[A"
     ]
    },
    {
     "name": "stdout",
     "output_type": "stream",
     "text": [
      "0.08863544464111328\n",
      "0.08849096298217773\n",
      "0.08546137809753418\n"
     ]
    },
    {
     "name": "stderr",
     "output_type": "stream",
     "text": [
      "\n",
      " 29%|███████████▌                            | 288/1000 [00:25<01:02, 11.34it/s]\u001b[A"
     ]
    },
    {
     "name": "stdout",
     "output_type": "stream",
     "text": [
      "0.08998370170593262\n",
      "0.08545660972595215\n",
      "0.08791589736938477\n"
     ]
    },
    {
     "name": "stderr",
     "output_type": "stream",
     "text": [
      "\n",
      " 29%|███████████▌                            | 290/1000 [00:25<01:02, 11.32it/s]\u001b[A\n",
      " 29%|███████████▋                            | 292/1000 [00:25<01:02, 11.39it/s]\u001b[A"
     ]
    },
    {
     "name": "stdout",
     "output_type": "stream",
     "text": [
      "0.08808684349060059\n",
      "0.08698439598083496\n",
      "0.08472728729248047\n"
     ]
    },
    {
     "name": "stderr",
     "output_type": "stream",
     "text": [
      "\n",
      " 29%|███████████▊                            | 294/1000 [00:26<01:02, 11.38it/s]\u001b[A"
     ]
    },
    {
     "name": "stdout",
     "output_type": "stream",
     "text": [
      "0.09003925323486328\n",
      "0.08509683609008789\n",
      "0.08930754661560059\n"
     ]
    },
    {
     "name": "stderr",
     "output_type": "stream",
     "text": [
      "\n",
      " 30%|███████████▊                            | 296/1000 [00:26<01:02, 11.31it/s]\u001b[A\n",
      " 30%|███████████▉                            | 298/1000 [00:26<01:01, 11.35it/s]\u001b[A"
     ]
    },
    {
     "name": "stdout",
     "output_type": "stream",
     "text": [
      "0.08842849731445312\n",
      "0.08806777000427246\n",
      "0.08591222763061523\n"
     ]
    },
    {
     "name": "stderr",
     "output_type": "stream",
     "text": [
      "\n",
      " 30%|████████████                            | 300/1000 [00:26<01:01, 11.31it/s]\u001b[A"
     ]
    },
    {
     "name": "stdout",
     "output_type": "stream",
     "text": [
      "0.0909881591796875\n",
      "0.0860745906829834\n",
      "0.08928561210632324\n"
     ]
    },
    {
     "name": "stderr",
     "output_type": "stream",
     "text": [
      "\n",
      " 30%|████████████                            | 302/1000 [00:26<01:01, 11.28it/s]\u001b[A\n",
      " 30%|████████████▏                           | 304/1000 [00:27<01:01, 11.34it/s]\u001b[A"
     ]
    },
    {
     "name": "stdout",
     "output_type": "stream",
     "text": [
      "0.0878593921661377\n",
      "0.08838438987731934\n",
      "0.08483552932739258\n"
     ]
    },
    {
     "name": "stderr",
     "output_type": "stream",
     "text": [
      "\n",
      " 31%|████████████▏                           | 306/1000 [00:27<01:01, 11.34it/s]\u001b[A"
     ]
    },
    {
     "name": "stdout",
     "output_type": "stream",
     "text": [
      "0.08998751640319824\n",
      "0.08493852615356445\n",
      "0.08832764625549316\n"
     ]
    },
    {
     "name": "stderr",
     "output_type": "stream",
     "text": [
      "\n",
      " 31%|████████████▎                           | 308/1000 [00:27<01:01, 11.32it/s]\u001b[A\n",
      " 31%|████████████▍                           | 310/1000 [00:27<01:00, 11.33it/s]\u001b[A"
     ]
    },
    {
     "name": "stdout",
     "output_type": "stream",
     "text": [
      "0.08791923522949219\n",
      "0.08954811096191406\n",
      "0.08521342277526855\n"
     ]
    },
    {
     "name": "stderr",
     "output_type": "stream",
     "text": [
      "\n",
      " 31%|████████████▍                           | 312/1000 [00:27<01:00, 11.33it/s]\u001b[A"
     ]
    },
    {
     "name": "stdout",
     "output_type": "stream",
     "text": [
      "0.0908346176147461\n",
      "0.08496928215026855\n",
      "0.08898591995239258\n"
     ]
    },
    {
     "name": "stderr",
     "output_type": "stream",
     "text": [
      "\n",
      " 31%|████████████▌                           | 314/1000 [00:27<01:00, 11.30it/s]\u001b[A\n",
      " 32%|████████████▋                           | 316/1000 [00:28<01:00, 11.38it/s]\u001b[A"
     ]
    },
    {
     "name": "stdout",
     "output_type": "stream",
     "text": [
      "0.08778190612792969\n",
      "0.08717751502990723\n",
      "0.08434629440307617\n"
     ]
    },
    {
     "name": "stderr",
     "output_type": "stream",
     "text": [
      "\n",
      " 32%|████████████▋                           | 318/1000 [00:28<01:00, 11.36it/s]\u001b[A"
     ]
    },
    {
     "name": "stdout",
     "output_type": "stream",
     "text": [
      "0.09065580368041992\n",
      "0.08498907089233398\n",
      "0.09026479721069336\n"
     ]
    },
    {
     "name": "stderr",
     "output_type": "stream",
     "text": [
      "\n",
      " 32%|████████████▊                           | 320/1000 [00:28<01:00, 11.28it/s]\u001b[A\n",
      " 32%|████████████▉                           | 322/1000 [00:28<00:59, 11.33it/s]\u001b[A"
     ]
    },
    {
     "name": "stdout",
     "output_type": "stream",
     "text": [
      "0.08857226371765137\n",
      "0.08918380737304688\n",
      "0.08474540710449219\n"
     ]
    },
    {
     "name": "stderr",
     "output_type": "stream",
     "text": [
      "\n",
      " 32%|████████████▉                           | 324/1000 [00:28<00:59, 11.31it/s]\u001b[A"
     ]
    },
    {
     "name": "stdout",
     "output_type": "stream",
     "text": [
      "0.09163093566894531\n",
      "0.0846414566040039\n",
      "0.08886265754699707\n"
     ]
    },
    {
     "name": "stderr",
     "output_type": "stream",
     "text": [
      "\n",
      " 33%|█████████████                           | 326/1000 [00:28<00:59, 11.28it/s]\u001b[A\n",
      " 33%|█████████████                           | 328/1000 [00:29<00:59, 11.34it/s]\u001b[A"
     ]
    },
    {
     "name": "stdout",
     "output_type": "stream",
     "text": [
      "0.08830022811889648\n",
      "0.08864951133728027\n",
      "0.08433699607849121\n"
     ]
    },
    {
     "name": "stderr",
     "output_type": "stream",
     "text": [
      "\n",
      " 33%|█████████████▏                          | 330/1000 [00:29<00:59, 11.29it/s]\u001b[A"
     ]
    },
    {
     "name": "stdout",
     "output_type": "stream",
     "text": [
      "0.09191560745239258\n",
      "0.08597135543823242\n",
      "0.09017372131347656\n"
     ]
    },
    {
     "name": "stderr",
     "output_type": "stream",
     "text": [
      "\n",
      " 33%|█████████████▎                          | 332/1000 [00:29<00:59, 11.22it/s]\u001b[A\n",
      " 33%|█████████████▎                          | 334/1000 [00:29<00:59, 11.28it/s]\u001b[A"
     ]
    },
    {
     "name": "stdout",
     "output_type": "stream",
     "text": [
      "0.08944106101989746\n",
      "0.08943605422973633\n",
      "0.08436441421508789\n"
     ]
    },
    {
     "name": "stderr",
     "output_type": "stream",
     "text": [
      "\n",
      " 34%|█████████████▍                          | 336/1000 [00:29<00:58, 11.28it/s]\u001b[A"
     ]
    },
    {
     "name": "stdout",
     "output_type": "stream",
     "text": [
      "0.09103250503540039\n",
      "0.08496284484863281\n",
      "0.08944988250732422\n"
     ]
    },
    {
     "name": "stderr",
     "output_type": "stream",
     "text": [
      "\n",
      " 34%|█████████████▌                          | 338/1000 [00:30<00:58, 11.26it/s]\u001b[A\n",
      " 34%|█████████████▌                          | 340/1000 [00:30<00:58, 11.32it/s]\u001b[A"
     ]
    },
    {
     "name": "stdout",
     "output_type": "stream",
     "text": [
      "0.08791637420654297\n",
      "0.08855485916137695\n",
      "0.08456230163574219\n"
     ]
    },
    {
     "name": "stderr",
     "output_type": "stream",
     "text": [
      "\n",
      " 34%|█████████████▋                          | 342/1000 [00:30<00:58, 11.31it/s]\u001b[A"
     ]
    },
    {
     "name": "stdout",
     "output_type": "stream",
     "text": [
      "0.09155917167663574\n",
      "0.08464336395263672\n",
      "0.08793902397155762\n"
     ]
    },
    {
     "name": "stderr",
     "output_type": "stream",
     "text": [
      "\n",
      " 34%|█████████████▊                          | 344/1000 [00:30<00:58, 11.28it/s]\u001b[A\n",
      " 35%|█████████████▊                          | 346/1000 [00:30<00:57, 11.31it/s]\u001b[A"
     ]
    },
    {
     "name": "stdout",
     "output_type": "stream",
     "text": [
      "0.08899235725402832\n",
      "0.09011459350585938\n",
      "0.08457779884338379\n"
     ]
    },
    {
     "name": "stderr",
     "output_type": "stream",
     "text": [
      "\n",
      " 35%|█████████████▉                          | 348/1000 [00:30<00:57, 11.31it/s]\u001b[A"
     ]
    },
    {
     "name": "stdout",
     "output_type": "stream",
     "text": [
      "0.09084177017211914\n",
      "0.0848836898803711\n",
      "0.08817410469055176\n"
     ]
    },
    {
     "name": "stderr",
     "output_type": "stream",
     "text": [
      "\n",
      " 35%|██████████████                          | 350/1000 [00:31<00:57, 11.28it/s]\u001b[A\n",
      " 35%|██████████████                          | 352/1000 [00:31<00:57, 11.34it/s]\u001b[A"
     ]
    },
    {
     "name": "stdout",
     "output_type": "stream",
     "text": [
      "0.08868789672851562\n",
      "0.08800125122070312\n",
      "0.08517169952392578\n"
     ]
    },
    {
     "name": "stderr",
     "output_type": "stream",
     "text": [
      "\n",
      " 35%|██████████████▏                         | 354/1000 [00:31<00:57, 11.33it/s]\u001b[A"
     ]
    },
    {
     "name": "stdout",
     "output_type": "stream",
     "text": [
      "0.09039092063903809\n",
      "0.08531618118286133\n",
      "0.08948802947998047\n"
     ]
    },
    {
     "name": "stderr",
     "output_type": "stream",
     "text": [
      "\n",
      " 36%|██████████████▏                         | 356/1000 [00:31<00:57, 11.27it/s]\u001b[A\n",
      " 36%|██████████████▎                         | 358/1000 [00:31<00:56, 11.30it/s]\u001b[A"
     ]
    },
    {
     "name": "stdout",
     "output_type": "stream",
     "text": [
      "0.08904433250427246\n",
      "0.08907914161682129\n",
      "0.08516740798950195\n"
     ]
    },
    {
     "name": "stderr",
     "output_type": "stream",
     "text": [
      "\n",
      " 36%|██████████████▍                         | 360/1000 [00:31<00:56, 11.32it/s]\u001b[A"
     ]
    },
    {
     "name": "stdout",
     "output_type": "stream",
     "text": [
      "0.09005451202392578\n",
      "0.08496665954589844\n",
      "0.08782267570495605\n"
     ]
    },
    {
     "name": "stderr",
     "output_type": "stream",
     "text": [
      "\n",
      " 36%|██████████████▍                         | 362/1000 [00:32<00:56, 11.31it/s]\u001b[A\n",
      " 36%|██████████████▌                         | 364/1000 [00:32<00:56, 11.25it/s]\u001b[A"
     ]
    },
    {
     "name": "stdout",
     "output_type": "stream",
     "text": [
      "0.0882713794708252\n",
      "0.0916283130645752\n",
      "0.08722543716430664\n"
     ]
    },
    {
     "name": "stderr",
     "output_type": "stream",
     "text": [
      "\n",
      " 37%|██████████████▋                         | 366/1000 [00:32<00:57, 11.03it/s]\u001b[A"
     ]
    },
    {
     "name": "stdout",
     "output_type": "stream",
     "text": [
      "0.1004796028137207\n",
      "0.08774590492248535\n",
      "0.10224652290344238\n"
     ]
    },
    {
     "name": "stderr",
     "output_type": "stream",
     "text": [
      "\n",
      " 37%|██████████████▋                         | 368/1000 [00:32<00:58, 10.75it/s]\u001b[A\n",
      " 37%|██████████████▊                         | 370/1000 [00:32<00:59, 10.67it/s]\u001b[A"
     ]
    },
    {
     "name": "stdout",
     "output_type": "stream",
     "text": [
      "0.09363842010498047\n",
      "0.10361480712890625\n",
      "0.0859994888305664\n"
     ]
    },
    {
     "name": "stderr",
     "output_type": "stream",
     "text": [
      "\n",
      " 37%|██████████████▉                         | 372/1000 [00:33<00:59, 10.52it/s]\u001b[A"
     ]
    },
    {
     "name": "stdout",
     "output_type": "stream",
     "text": [
      "0.11098790168762207\n",
      "0.08456945419311523\n",
      "0.10422587394714355\n"
     ]
    },
    {
     "name": "stderr",
     "output_type": "stream",
     "text": [
      "\n",
      " 37%|██████████████▉                         | 374/1000 [00:33<01:00, 10.40it/s]\u001b[A\n",
      " 38%|███████████████                         | 376/1000 [00:33<00:59, 10.42it/s]\u001b[A"
     ]
    },
    {
     "name": "stdout",
     "output_type": "stream",
     "text": [
      "0.09177255630493164\n",
      "0.10401153564453125\n",
      "0.08617997169494629\n"
     ]
    },
    {
     "name": "stderr",
     "output_type": "stream",
     "text": [
      "\n",
      " 38%|███████████████                         | 378/1000 [00:33<00:59, 10.52it/s]\u001b[A"
     ]
    },
    {
     "name": "stdout",
     "output_type": "stream",
     "text": [
      "0.09884166717529297\n",
      "0.08582639694213867\n",
      "0.10361623764038086\n"
     ]
    },
    {
     "name": "stderr",
     "output_type": "stream",
     "text": [
      "\n",
      " 38%|███████████████▏                        | 380/1000 [00:33<00:59, 10.37it/s]\u001b[A\n",
      " 38%|███████████████▎                        | 382/1000 [00:34<00:59, 10.40it/s]\u001b[A"
     ]
    },
    {
     "name": "stdout",
     "output_type": "stream",
     "text": [
      "0.09392380714416504\n",
      "0.10302734375\n",
      "0.08676481246948242\n"
     ]
    },
    {
     "name": "stderr",
     "output_type": "stream",
     "text": [
      "\n",
      " 38%|███████████████▎                        | 384/1000 [00:34<00:58, 10.51it/s]\u001b[A"
     ]
    },
    {
     "name": "stdout",
     "output_type": "stream",
     "text": [
      "0.09802865982055664\n",
      "0.08650946617126465\n",
      "0.10190796852111816\n"
     ]
    },
    {
     "name": "stderr",
     "output_type": "stream",
     "text": [
      "\n",
      " 39%|███████████████▍                        | 386/1000 [00:34<00:59, 10.40it/s]\u001b[A\n",
      " 39%|███████████████▌                        | 388/1000 [00:34<00:58, 10.42it/s]\u001b[A"
     ]
    },
    {
     "name": "stdout",
     "output_type": "stream",
     "text": [
      "0.09416365623474121\n",
      "0.10304832458496094\n",
      "0.08668971061706543\n"
     ]
    },
    {
     "name": "stderr",
     "output_type": "stream",
     "text": [
      "\n",
      " 39%|███████████████▌                        | 390/1000 [00:34<00:57, 10.54it/s]\u001b[A"
     ]
    },
    {
     "name": "stdout",
     "output_type": "stream",
     "text": [
      "0.09880876541137695\n",
      "0.08469629287719727\n",
      "0.0977625846862793\n"
     ]
    },
    {
     "name": "stderr",
     "output_type": "stream",
     "text": [
      "\n",
      " 39%|███████████████▋                        | 392/1000 [00:35<00:57, 10.52it/s]\u001b[A\n",
      " 39%|███████████████▊                        | 394/1000 [00:35<00:57, 10.51it/s]\u001b[A"
     ]
    },
    {
     "name": "stdout",
     "output_type": "stream",
     "text": [
      "0.09217476844787598\n",
      "0.1028292179107666\n",
      "0.08648371696472168\n"
     ]
    },
    {
     "name": "stderr",
     "output_type": "stream",
     "text": [
      "\n",
      " 40%|███████████████▊                        | 396/1000 [00:35<00:56, 10.75it/s]\u001b[A"
     ]
    },
    {
     "name": "stdout",
     "output_type": "stream",
     "text": [
      "0.08997774124145508\n",
      "0.08518552780151367\n",
      "0.0911252498626709\n"
     ]
    },
    {
     "name": "stderr",
     "output_type": "stream",
     "text": [
      "\n",
      " 40%|███████████████▉                        | 398/1000 [00:35<00:55, 10.83it/s]\u001b[A\n",
      " 40%|████████████████                        | 400/1000 [00:35<00:54, 10.98it/s]\u001b[A"
     ]
    },
    {
     "name": "stdout",
     "output_type": "stream",
     "text": [
      "0.08910346031188965\n",
      "0.08992242813110352\n",
      "0.08546257019042969\n"
     ]
    },
    {
     "name": "stderr",
     "output_type": "stream",
     "text": [
      "\n",
      " 40%|████████████████                        | 402/1000 [00:35<00:53, 11.08it/s]\u001b[A"
     ]
    },
    {
     "name": "stdout",
     "output_type": "stream",
     "text": [
      "0.09093070030212402\n",
      "0.08456182479858398\n",
      "0.09077119827270508\n"
     ]
    },
    {
     "name": "stderr",
     "output_type": "stream",
     "text": [
      "\n",
      " 40%|████████████████▏                       | 404/1000 [00:36<00:53, 11.09it/s]\u001b[A\n",
      " 41%|████████████████▏                       | 406/1000 [00:36<00:53, 11.17it/s]\u001b[A"
     ]
    },
    {
     "name": "stdout",
     "output_type": "stream",
     "text": [
      "0.08788156509399414\n",
      "0.08974528312683105\n",
      "0.0853586196899414\n"
     ]
    },
    {
     "name": "stderr",
     "output_type": "stream",
     "text": [
      "\n",
      " 41%|████████████████▎                       | 408/1000 [00:36<00:52, 11.23it/s]\u001b[A"
     ]
    },
    {
     "name": "stdout",
     "output_type": "stream",
     "text": [
      "0.0904533863067627\n",
      "0.08438515663146973\n",
      "0.0902872085571289\n"
     ]
    },
    {
     "name": "stderr",
     "output_type": "stream",
     "text": [
      "\n",
      " 41%|████████████████▍                       | 410/1000 [00:36<00:52, 11.21it/s]\u001b[A\n",
      " 41%|████████████████▍                       | 412/1000 [00:36<00:52, 11.28it/s]\u001b[A"
     ]
    },
    {
     "name": "stdout",
     "output_type": "stream",
     "text": [
      "0.08750748634338379\n",
      "0.08849310874938965\n",
      "0.08506131172180176\n"
     ]
    },
    {
     "name": "stderr",
     "output_type": "stream",
     "text": [
      "\n",
      " 41%|████████████████▌                       | 414/1000 [00:36<00:52, 11.26it/s]\u001b[A"
     ]
    },
    {
     "name": "stdout",
     "output_type": "stream",
     "text": [
      "0.0913858413696289\n",
      "0.08566832542419434\n",
      "0.09050273895263672\n"
     ]
    },
    {
     "name": "stderr",
     "output_type": "stream",
     "text": [
      "\n",
      " 42%|████████████████▋                       | 416/1000 [00:37<00:52, 11.20it/s]\u001b[A\n",
      " 42%|████████████████▋                       | 418/1000 [00:37<00:51, 11.27it/s]\u001b[A"
     ]
    },
    {
     "name": "stdout",
     "output_type": "stream",
     "text": [
      "0.08909058570861816\n",
      "0.08771944046020508\n",
      "0.0855562686920166\n"
     ]
    },
    {
     "name": "stderr",
     "output_type": "stream",
     "text": [
      "\n",
      " 42%|████████████████▊                       | 420/1000 [00:37<00:51, 11.24it/s]\u001b[A"
     ]
    },
    {
     "name": "stdout",
     "output_type": "stream",
     "text": [
      "0.09140396118164062\n",
      "0.08641314506530762\n",
      "0.08850216865539551\n"
     ]
    },
    {
     "name": "stderr",
     "output_type": "stream",
     "text": [
      "\n",
      " 42%|████████████████▉                       | 422/1000 [00:37<00:51, 11.23it/s]\u001b[A\n",
      " 42%|████████████████▉                       | 424/1000 [00:37<00:51, 11.27it/s]\u001b[A"
     ]
    },
    {
     "name": "stdout",
     "output_type": "stream",
     "text": [
      "0.08877348899841309\n",
      "0.08898735046386719\n",
      "0.08574199676513672\n"
     ]
    },
    {
     "name": "stderr",
     "output_type": "stream",
     "text": [
      "\n",
      " 43%|█████████████████                       | 426/1000 [00:38<00:50, 11.26it/s]\u001b[A"
     ]
    },
    {
     "name": "stdout",
     "output_type": "stream",
     "text": [
      "0.09169578552246094\n",
      "0.08527851104736328\n",
      "0.09052300453186035\n"
     ]
    },
    {
     "name": "stderr",
     "output_type": "stream",
     "text": [
      "\n",
      " 43%|█████████████████                       | 428/1000 [00:38<00:51, 11.20it/s]\u001b[A\n",
      " 43%|█████████████████▏                      | 430/1000 [00:38<00:50, 11.27it/s]\u001b[A"
     ]
    },
    {
     "name": "stdout",
     "output_type": "stream",
     "text": [
      "0.08914065361022949\n",
      "0.0879373550415039\n",
      "0.08554840087890625\n"
     ]
    },
    {
     "name": "stderr",
     "output_type": "stream",
     "text": [
      "\n",
      " 43%|█████████████████▎                      | 432/1000 [00:38<00:50, 11.25it/s]\u001b[A"
     ]
    },
    {
     "name": "stdout",
     "output_type": "stream",
     "text": [
      "0.09088659286499023\n",
      "0.08664441108703613\n",
      "0.08859133720397949\n"
     ]
    },
    {
     "name": "stderr",
     "output_type": "stream",
     "text": [
      "\n",
      " 43%|█████████████████▎                      | 434/1000 [00:38<00:50, 11.24it/s]\u001b[A\n",
      " 44%|█████████████████▍                      | 436/1000 [00:38<00:50, 11.28it/s]\u001b[A"
     ]
    },
    {
     "name": "stdout",
     "output_type": "stream",
     "text": [
      "0.08844709396362305\n",
      "0.08877205848693848\n",
      "0.08628582954406738\n"
     ]
    },
    {
     "name": "stderr",
     "output_type": "stream",
     "text": [
      "\n",
      " 44%|█████████████████▌                      | 438/1000 [00:39<00:49, 11.27it/s]\u001b[A"
     ]
    },
    {
     "name": "stdout",
     "output_type": "stream",
     "text": [
      "0.0908212661743164\n",
      "0.08558440208435059\n",
      "0.08795642852783203\n"
     ]
    },
    {
     "name": "stderr",
     "output_type": "stream",
     "text": [
      "\n",
      " 44%|█████████████████▌                      | 440/1000 [00:39<00:49, 11.29it/s]\u001b[A\n",
      " 44%|█████████████████▋                      | 442/1000 [00:39<00:49, 11.30it/s]\u001b[A"
     ]
    },
    {
     "name": "stdout",
     "output_type": "stream",
     "text": [
      "0.08748626708984375\n",
      "0.08998775482177734\n",
      "0.08545613288879395\n"
     ]
    },
    {
     "name": "stderr",
     "output_type": "stream",
     "text": [
      "\n",
      " 44%|█████████████████▊                      | 444/1000 [00:39<00:49, 11.26it/s]\u001b[A"
     ]
    },
    {
     "name": "stdout",
     "output_type": "stream",
     "text": [
      "0.09168672561645508\n",
      "0.08624148368835449\n",
      "0.08961033821105957\n"
     ]
    },
    {
     "name": "stderr",
     "output_type": "stream",
     "text": [
      "\n",
      " 45%|█████████████████▊                      | 446/1000 [00:39<00:49, 11.21it/s]\u001b[A\n",
      " 45%|█████████████████▉                      | 448/1000 [00:39<00:48, 11.27it/s]\u001b[A"
     ]
    },
    {
     "name": "stdout",
     "output_type": "stream",
     "text": [
      "0.08918595314025879\n",
      "0.08868598937988281\n",
      "0.08569741249084473\n"
     ]
    },
    {
     "name": "stderr",
     "output_type": "stream",
     "text": [
      "\n",
      " 45%|██████████████████                      | 450/1000 [00:40<00:48, 11.25it/s]\u001b[A"
     ]
    },
    {
     "name": "stdout",
     "output_type": "stream",
     "text": [
      "0.09077143669128418\n",
      "0.08628344535827637\n",
      "0.08995246887207031\n"
     ]
    },
    {
     "name": "stderr",
     "output_type": "stream",
     "text": [
      "\n",
      " 45%|██████████████████                      | 452/1000 [00:40<00:48, 11.22it/s]\u001b[A\n",
      " 45%|██████████████████▏                     | 454/1000 [00:40<00:48, 11.26it/s]\u001b[A"
     ]
    },
    {
     "name": "stdout",
     "output_type": "stream",
     "text": [
      "0.0884706974029541\n",
      "0.08837556838989258\n",
      "0.08621430397033691\n"
     ]
    },
    {
     "name": "stderr",
     "output_type": "stream",
     "text": [
      "\n",
      " 46%|██████████████████▏                     | 456/1000 [00:40<00:48, 11.23it/s]\u001b[A"
     ]
    },
    {
     "name": "stdout",
     "output_type": "stream",
     "text": [
      "0.09182977676391602\n",
      "0.08607220649719238\n",
      "0.08852839469909668\n"
     ]
    },
    {
     "name": "stderr",
     "output_type": "stream",
     "text": [
      "\n",
      " 46%|██████████████████▎                     | 458/1000 [00:40<00:48, 11.24it/s]\u001b[A\n",
      " 46%|██████████████████▍                     | 460/1000 [00:41<00:47, 11.28it/s]\u001b[A"
     ]
    },
    {
     "name": "stdout",
     "output_type": "stream",
     "text": [
      "0.08821725845336914\n",
      "0.0897524356842041\n",
      "0.08510565757751465\n"
     ]
    },
    {
     "name": "stderr",
     "output_type": "stream",
     "text": [
      "\n",
      " 46%|██████████████████▍                     | 462/1000 [00:41<00:47, 11.24it/s]\u001b[A"
     ]
    },
    {
     "name": "stdout",
     "output_type": "stream",
     "text": [
      "0.09283804893493652\n",
      "0.08550000190734863\n",
      "0.09058666229248047\n"
     ]
    },
    {
     "name": "stderr",
     "output_type": "stream",
     "text": [
      "\n",
      " 46%|██████████████████▌                     | 464/1000 [00:41<00:47, 11.19it/s]\u001b[A\n",
      " 47%|██████████████████▋                     | 466/1000 [00:41<00:47, 11.21it/s]\u001b[A"
     ]
    },
    {
     "name": "stdout",
     "output_type": "stream",
     "text": [
      "0.08864259719848633\n",
      "0.0913534164428711\n",
      "0.08515262603759766\n"
     ]
    },
    {
     "name": "stderr",
     "output_type": "stream",
     "text": [
      "\n",
      " 47%|██████████████████▋                     | 468/1000 [00:41<00:47, 11.20it/s]\u001b[A"
     ]
    },
    {
     "name": "stdout",
     "output_type": "stream",
     "text": [
      "0.09199786186218262\n",
      "0.08600902557373047\n",
      "0.09087538719177246\n"
     ]
    },
    {
     "name": "stderr",
     "output_type": "stream",
     "text": [
      "\n",
      " 47%|██████████████████▊                     | 470/1000 [00:41<00:47, 11.15it/s]\u001b[A\n",
      " 47%|██████████████████▉                     | 472/1000 [00:42<00:46, 11.26it/s]\u001b[A"
     ]
    },
    {
     "name": "stdout",
     "output_type": "stream",
     "text": [
      "0.08911776542663574\n",
      "0.0874779224395752\n",
      "0.0849454402923584\n"
     ]
    },
    {
     "name": "stderr",
     "output_type": "stream",
     "text": [
      "\n",
      " 47%|██████████████████▉                     | 474/1000 [00:42<00:46, 11.25it/s]\u001b[A"
     ]
    },
    {
     "name": "stdout",
     "output_type": "stream",
     "text": [
      "0.09175705909729004\n",
      "0.08505988121032715\n",
      "0.08929967880249023\n"
     ]
    },
    {
     "name": "stderr",
     "output_type": "stream",
     "text": [
      "\n",
      " 48%|███████████████████                     | 476/1000 [00:42<00:46, 11.22it/s]\u001b[A\n",
      " 48%|███████████████████                     | 478/1000 [00:42<00:46, 11.16it/s]\u001b[A"
     ]
    },
    {
     "name": "stdout",
     "output_type": "stream",
     "text": [
      "0.08867430686950684\n",
      "0.09583663940429688\n",
      "0.0842888355255127\n"
     ]
    },
    {
     "name": "stderr",
     "output_type": "stream",
     "text": [
      "\n",
      " 48%|███████████████████▏                    | 480/1000 [00:42<00:46, 11.20it/s]\u001b[A"
     ]
    },
    {
     "name": "stdout",
     "output_type": "stream",
     "text": [
      "0.09067463874816895\n",
      "0.08533692359924316\n",
      "0.08940434455871582\n"
     ]
    },
    {
     "name": "stderr",
     "output_type": "stream",
     "text": [
      "\n",
      " 48%|███████████████████▎                    | 482/1000 [00:43<00:46, 11.18it/s]\u001b[A\n",
      " 48%|███████████████████▎                    | 484/1000 [00:43<00:45, 11.28it/s]\u001b[A"
     ]
    },
    {
     "name": "stdout",
     "output_type": "stream",
     "text": [
      "0.08918094635009766\n",
      "0.08779072761535645\n",
      "0.08440017700195312\n"
     ]
    },
    {
     "name": "stderr",
     "output_type": "stream",
     "text": [
      "\n",
      " 49%|███████████████████▍                    | 486/1000 [00:43<00:45, 11.29it/s]\u001b[A"
     ]
    },
    {
     "name": "stdout",
     "output_type": "stream",
     "text": [
      "0.09097433090209961\n",
      "0.08481168746948242\n",
      "0.08975601196289062\n"
     ]
    },
    {
     "name": "stderr",
     "output_type": "stream",
     "text": [
      "\n",
      " 49%|███████████████████▌                    | 488/1000 [00:43<00:45, 11.22it/s]\u001b[A\n",
      " 49%|███████████████████▌                    | 490/1000 [00:43<00:45, 11.27it/s]\u001b[A"
     ]
    },
    {
     "name": "stdout",
     "output_type": "stream",
     "text": [
      "0.09019088745117188\n",
      "0.08911728858947754\n",
      "0.08521652221679688\n"
     ]
    },
    {
     "name": "stderr",
     "output_type": "stream",
     "text": [
      "\n",
      " 49%|███████████████████▋                    | 492/1000 [00:43<00:45, 11.26it/s]\u001b[A"
     ]
    },
    {
     "name": "stdout",
     "output_type": "stream",
     "text": [
      "0.09232425689697266\n",
      "0.08473730087280273\n",
      "0.08945155143737793\n"
     ]
    },
    {
     "name": "stderr",
     "output_type": "stream",
     "text": [
      "\n",
      " 49%|███████████████████▊                    | 494/1000 [00:44<00:45, 11.23it/s]\u001b[A\n",
      " 50%|███████████████████▊                    | 496/1000 [00:44<00:44, 11.33it/s]\u001b[A"
     ]
    },
    {
     "name": "stdout",
     "output_type": "stream",
     "text": [
      "0.08818483352661133\n",
      "0.08734297752380371\n",
      "0.08472299575805664\n"
     ]
    },
    {
     "name": "stderr",
     "output_type": "stream",
     "text": [
      "\n",
      " 50%|███████████████████▉                    | 498/1000 [00:44<00:44, 11.32it/s]\u001b[A"
     ]
    },
    {
     "name": "stdout",
     "output_type": "stream",
     "text": [
      "0.09080958366394043\n",
      "0.08465194702148438\n",
      "0.08996963500976562\n"
     ]
    },
    {
     "name": "stderr",
     "output_type": "stream",
     "text": [
      "\n",
      " 50%|████████████████████                    | 500/1000 [00:44<00:44, 11.28it/s]\u001b[A\n",
      " 50%|████████████████████                    | 502/1000 [00:44<00:43, 11.35it/s]\u001b[A"
     ]
    },
    {
     "name": "stdout",
     "output_type": "stream",
     "text": [
      "0.08807253837585449\n",
      "0.08793282508850098\n",
      "0.08439064025878906\n"
     ]
    },
    {
     "name": "stderr",
     "output_type": "stream",
     "text": [
      "\n",
      " 50%|████████████████████▏                   | 504/1000 [00:44<00:43, 11.34it/s]\u001b[A"
     ]
    },
    {
     "name": "stdout",
     "output_type": "stream",
     "text": [
      "0.09065985679626465\n",
      "0.0847465991973877\n",
      "0.08787250518798828\n"
     ]
    },
    {
     "name": "stderr",
     "output_type": "stream",
     "text": [
      "\n",
      " 51%|████████████████████▏                   | 506/1000 [00:45<00:43, 11.33it/s]\u001b[A\n",
      " 51%|████████████████████▎                   | 508/1000 [00:45<00:43, 11.37it/s]\u001b[A"
     ]
    },
    {
     "name": "stdout",
     "output_type": "stream",
     "text": [
      "0.08780097961425781\n",
      "0.08874988555908203\n",
      "0.08460593223571777\n"
     ]
    },
    {
     "name": "stderr",
     "output_type": "stream",
     "text": [
      "\n",
      " 51%|████████████████████▍                   | 510/1000 [00:45<00:43, 11.34it/s]\u001b[A"
     ]
    },
    {
     "name": "stdout",
     "output_type": "stream",
     "text": [
      "0.09102249145507812\n",
      "0.08500432968139648\n",
      "0.0885469913482666\n"
     ]
    },
    {
     "name": "stderr",
     "output_type": "stream",
     "text": [
      "\n",
      " 51%|████████████████████▍                   | 512/1000 [00:45<00:43, 11.31it/s]\u001b[A\n",
      " 51%|████████████████████▌                   | 514/1000 [00:45<00:42, 11.36it/s]\u001b[A"
     ]
    },
    {
     "name": "stdout",
     "output_type": "stream",
     "text": [
      "0.08826231956481934\n",
      "0.08855199813842773\n",
      "0.08434939384460449\n"
     ]
    },
    {
     "name": "stderr",
     "output_type": "stream",
     "text": [
      "\n",
      " 52%|████████████████████▋                   | 516/1000 [00:46<00:42, 11.36it/s]\u001b[A"
     ]
    },
    {
     "name": "stdout",
     "output_type": "stream",
     "text": [
      "0.09040403366088867\n",
      "0.08452725410461426\n",
      "0.08984684944152832\n"
     ]
    },
    {
     "name": "stderr",
     "output_type": "stream",
     "text": [
      "\n",
      " 52%|████████████████████▋                   | 518/1000 [00:46<00:42, 11.30it/s]\u001b[A\n",
      " 52%|████████████████████▊                   | 520/1000 [00:46<00:42, 11.37it/s]\u001b[A"
     ]
    },
    {
     "name": "stdout",
     "output_type": "stream",
     "text": [
      "0.08819007873535156\n",
      "0.08762049674987793\n",
      "0.08460760116577148\n"
     ]
    },
    {
     "name": "stderr",
     "output_type": "stream",
     "text": [
      "\n",
      " 52%|████████████████████▉                   | 522/1000 [00:46<00:42, 11.34it/s]\u001b[A"
     ]
    },
    {
     "name": "stdout",
     "output_type": "stream",
     "text": [
      "0.09098696708679199\n",
      "0.08563637733459473\n",
      "0.08872580528259277\n"
     ]
    },
    {
     "name": "stderr",
     "output_type": "stream",
     "text": [
      "\n",
      " 52%|████████████████████▉                   | 524/1000 [00:46<00:42, 11.30it/s]\u001b[A\n",
      " 53%|█████████████████████                   | 526/1000 [00:46<00:41, 11.34it/s]\u001b[A"
     ]
    },
    {
     "name": "stdout",
     "output_type": "stream",
     "text": [
      "0.08827519416809082\n",
      "0.08875465393066406\n",
      "0.08464598655700684\n"
     ]
    },
    {
     "name": "stderr",
     "output_type": "stream",
     "text": [
      "\n",
      " 53%|█████████████████████                   | 528/1000 [00:47<00:41, 11.33it/s]\u001b[A"
     ]
    },
    {
     "name": "stdout",
     "output_type": "stream",
     "text": [
      "0.09141921997070312\n",
      "0.08435368537902832\n",
      "0.08975625038146973\n"
     ]
    },
    {
     "name": "stderr",
     "output_type": "stream",
     "text": [
      "\n",
      " 53%|█████████████████████▏                  | 530/1000 [00:47<00:41, 11.29it/s]\u001b[A\n",
      " 53%|█████████████████████▎                  | 532/1000 [00:47<00:41, 11.30it/s]\u001b[A"
     ]
    },
    {
     "name": "stdout",
     "output_type": "stream",
     "text": [
      "0.08782482147216797\n",
      "0.08923530578613281\n",
      "0.0859375\n"
     ]
    },
    {
     "name": "stderr",
     "output_type": "stream",
     "text": [
      "\n",
      " 53%|█████████████████████▎                  | 534/1000 [00:47<00:41, 11.29it/s]\u001b[A"
     ]
    },
    {
     "name": "stdout",
     "output_type": "stream",
     "text": [
      "0.09155797958374023\n",
      "0.08471846580505371\n",
      "0.08803105354309082\n"
     ]
    },
    {
     "name": "stderr",
     "output_type": "stream",
     "text": [
      "\n",
      " 54%|█████████████████████▍                  | 536/1000 [00:47<00:41, 11.29it/s]\u001b[A\n",
      " 54%|█████████████████████▌                  | 538/1000 [00:47<00:40, 11.35it/s]\u001b[A"
     ]
    },
    {
     "name": "stdout",
     "output_type": "stream",
     "text": [
      "0.08775067329406738\n",
      "0.08845329284667969\n",
      "0.08447051048278809\n"
     ]
    },
    {
     "name": "stderr",
     "output_type": "stream",
     "text": [
      "\n",
      " 54%|█████████████████████▌                  | 540/1000 [00:48<00:40, 11.34it/s]\u001b[A"
     ]
    },
    {
     "name": "stdout",
     "output_type": "stream",
     "text": [
      "0.09022688865661621\n",
      "0.0850222110748291\n",
      "0.08829164505004883\n"
     ]
    },
    {
     "name": "stderr",
     "output_type": "stream",
     "text": [
      "\n",
      " 54%|█████████████████████▋                  | 542/1000 [00:48<00:40, 11.32it/s]\u001b[A\n",
      " 54%|█████████████████████▊                  | 544/1000 [00:48<00:40, 11.37it/s]\u001b[A"
     ]
    },
    {
     "name": "stdout",
     "output_type": "stream",
     "text": [
      "0.0878293514251709\n",
      "0.08736824989318848\n",
      "0.08549976348876953\n"
     ]
    },
    {
     "name": "stderr",
     "output_type": "stream",
     "text": [
      "\n",
      " 55%|█████████████████████▊                  | 546/1000 [00:48<00:39, 11.35it/s]\u001b[A"
     ]
    },
    {
     "name": "stdout",
     "output_type": "stream",
     "text": [
      "0.09075355529785156\n",
      "0.08481073379516602\n",
      "0.0898890495300293\n"
     ]
    },
    {
     "name": "stderr",
     "output_type": "stream",
     "text": [
      "\n",
      " 55%|█████████████████████▉                  | 548/1000 [00:48<00:40, 11.29it/s]\u001b[A\n",
      " 55%|██████████████████████                  | 550/1000 [00:49<00:39, 11.32it/s]\u001b[A"
     ]
    },
    {
     "name": "stdout",
     "output_type": "stream",
     "text": [
      "0.08822226524353027\n",
      "0.09029555320739746\n",
      "0.08445978164672852\n"
     ]
    },
    {
     "name": "stderr",
     "output_type": "stream",
     "text": [
      "\n",
      " 55%|██████████████████████                  | 552/1000 [00:49<00:39, 11.32it/s]\u001b[A"
     ]
    },
    {
     "name": "stdout",
     "output_type": "stream",
     "text": [
      "0.09113931655883789\n",
      "0.08443832397460938\n",
      "0.09035992622375488\n"
     ]
    },
    {
     "name": "stderr",
     "output_type": "stream",
     "text": [
      "\n",
      " 55%|██████████████████████▏                 | 554/1000 [00:49<00:39, 11.25it/s]\u001b[A\n",
      " 56%|██████████████████████▏                 | 556/1000 [00:49<00:39, 11.28it/s]\u001b[A"
     ]
    },
    {
     "name": "stdout",
     "output_type": "stream",
     "text": [
      "0.08824610710144043\n",
      "0.08980369567871094\n",
      "0.08535337448120117\n"
     ]
    },
    {
     "name": "stderr",
     "output_type": "stream",
     "text": [
      "\n",
      " 56%|██████████████████████▎                 | 558/1000 [00:49<00:39, 11.27it/s]\u001b[A"
     ]
    },
    {
     "name": "stdout",
     "output_type": "stream",
     "text": [
      "0.09125900268554688\n",
      "0.0851907730102539\n",
      "0.08875465393066406\n"
     ]
    },
    {
     "name": "stderr",
     "output_type": "stream",
     "text": [
      "\n",
      " 56%|██████████████████████▍                 | 560/1000 [00:49<00:39, 11.27it/s]\u001b[A\n",
      " 56%|██████████████████████▍                 | 562/1000 [00:50<00:38, 11.34it/s]\u001b[A"
     ]
    },
    {
     "name": "stdout",
     "output_type": "stream",
     "text": [
      "0.08725261688232422\n",
      "0.08850407600402832\n",
      "0.08405232429504395\n"
     ]
    },
    {
     "name": "stderr",
     "output_type": "stream",
     "text": [
      "\n",
      " 56%|██████████████████████▌                 | 564/1000 [00:50<00:38, 11.30it/s]\u001b[A"
     ]
    },
    {
     "name": "stdout",
     "output_type": "stream",
     "text": [
      "0.09254956245422363\n",
      "0.08442568778991699\n",
      "0.09057950973510742\n"
     ]
    },
    {
     "name": "stderr",
     "output_type": "stream",
     "text": [
      "\n",
      " 57%|██████████████████████▋                 | 566/1000 [00:50<00:38, 11.24it/s]\u001b[A\n",
      " 57%|██████████████████████▋                 | 568/1000 [00:50<00:38, 11.30it/s]\u001b[A"
     ]
    },
    {
     "name": "stdout",
     "output_type": "stream",
     "text": [
      "0.08846092224121094\n",
      "0.08930826187133789\n",
      "0.08451390266418457\n"
     ]
    },
    {
     "name": "stderr",
     "output_type": "stream",
     "text": [
      "\n",
      " 57%|██████████████████████▊                 | 570/1000 [00:50<00:38, 11.27it/s]\u001b[A"
     ]
    },
    {
     "name": "stdout",
     "output_type": "stream",
     "text": [
      "0.09242367744445801\n",
      "0.08475327491760254\n",
      "0.08796072006225586\n"
     ]
    },
    {
     "name": "stderr",
     "output_type": "stream",
     "text": [
      "\n",
      " 57%|██████████████████████▉                 | 572/1000 [00:50<00:37, 11.27it/s]\u001b[A\n",
      " 57%|██████████████████████▉                 | 574/1000 [00:51<00:37, 11.34it/s]\u001b[A"
     ]
    },
    {
     "name": "stdout",
     "output_type": "stream",
     "text": [
      "0.08809804916381836\n",
      "0.0885016918182373\n",
      "0.0841372013092041\n"
     ]
    },
    {
     "name": "stderr",
     "output_type": "stream",
     "text": [
      "\n",
      " 58%|███████████████████████                 | 576/1000 [00:51<00:37, 11.31it/s]\u001b[A"
     ]
    },
    {
     "name": "stdout",
     "output_type": "stream",
     "text": [
      "0.09122014045715332\n",
      "0.08539509773254395\n",
      "0.08854055404663086\n"
     ]
    },
    {
     "name": "stderr",
     "output_type": "stream",
     "text": [
      "\n",
      " 58%|███████████████████████                 | 578/1000 [00:51<00:37, 11.26it/s]\u001b[A\n",
      " 58%|███████████████████████▏                | 580/1000 [00:51<00:37, 11.30it/s]\u001b[A"
     ]
    },
    {
     "name": "stdout",
     "output_type": "stream",
     "text": [
      "0.08993697166442871\n",
      "0.08896946907043457\n",
      "0.08513593673706055\n"
     ]
    },
    {
     "name": "stderr",
     "output_type": "stream",
     "text": [
      "\n",
      " 58%|███████████████████████▎                | 582/1000 [00:51<00:37, 11.30it/s]\u001b[A"
     ]
    },
    {
     "name": "stdout",
     "output_type": "stream",
     "text": [
      "0.09118199348449707\n",
      "0.0849008560180664\n",
      "0.08841109275817871\n"
     ]
    },
    {
     "name": "stderr",
     "output_type": "stream",
     "text": [
      "\n",
      " 58%|███████████████████████▎                | 584/1000 [00:52<00:36, 11.29it/s]\u001b[A\n",
      " 59%|███████████████████████▍                | 586/1000 [00:52<00:36, 11.32it/s]\u001b[A"
     ]
    },
    {
     "name": "stdout",
     "output_type": "stream",
     "text": [
      "0.08773422241210938\n",
      "0.0897979736328125\n",
      "0.08481049537658691\n"
     ]
    },
    {
     "name": "stderr",
     "output_type": "stream",
     "text": [
      "\n",
      " 59%|███████████████████████▌                | 588/1000 [00:52<00:36, 11.21it/s]\u001b[A"
     ]
    },
    {
     "name": "stdout",
     "output_type": "stream",
     "text": [
      "0.0960836410522461\n",
      "0.08531904220581055\n",
      "0.08794665336608887\n"
     ]
    },
    {
     "name": "stderr",
     "output_type": "stream",
     "text": [
      "\n",
      " 59%|███████████████████████▌                | 590/1000 [00:52<00:36, 11.21it/s]\u001b[A\n",
      " 59%|███████████████████████▋                | 592/1000 [00:52<00:36, 11.28it/s]\u001b[A"
     ]
    },
    {
     "name": "stdout",
     "output_type": "stream",
     "text": [
      "0.08914518356323242\n",
      "0.08913922309875488\n",
      "0.08454060554504395\n"
     ]
    },
    {
     "name": "stderr",
     "output_type": "stream",
     "text": [
      "\n",
      " 59%|███████████████████████▊                | 594/1000 [00:52<00:35, 11.28it/s]\u001b[A"
     ]
    },
    {
     "name": "stdout",
     "output_type": "stream",
     "text": [
      "0.09137177467346191\n",
      "0.0847635269165039\n",
      "0.08836960792541504\n"
     ]
    },
    {
     "name": "stderr",
     "output_type": "stream",
     "text": [
      "\n",
      " 60%|███████████████████████▊                | 596/1000 [00:53<00:35, 11.28it/s]\u001b[A\n",
      " 60%|███████████████████████▉                | 598/1000 [00:53<00:35, 11.34it/s]\u001b[A"
     ]
    },
    {
     "name": "stdout",
     "output_type": "stream",
     "text": [
      "0.0878756046295166\n",
      "0.08856582641601562\n",
      "0.08449029922485352\n"
     ]
    },
    {
     "name": "stderr",
     "output_type": "stream",
     "text": [
      "\n",
      " 60%|████████████████████████                | 600/1000 [00:53<00:35, 11.31it/s]\u001b[A"
     ]
    },
    {
     "name": "stdout",
     "output_type": "stream",
     "text": [
      "0.09162068367004395\n",
      "0.08502721786499023\n",
      "0.0904686450958252\n"
     ]
    },
    {
     "name": "stderr",
     "output_type": "stream",
     "text": [
      "\n",
      " 60%|████████████████████████                | 602/1000 [00:53<00:35, 11.25it/s]\u001b[A\n",
      " 60%|████████████████████████▏               | 604/1000 [00:53<00:35, 11.31it/s]\u001b[A"
     ]
    },
    {
     "name": "stdout",
     "output_type": "stream",
     "text": [
      "0.08879351615905762\n",
      "0.08741450309753418\n",
      "0.08565402030944824\n"
     ]
    },
    {
     "name": "stderr",
     "output_type": "stream",
     "text": [
      "\n",
      " 61%|████████████████████████▏               | 606/1000 [00:53<00:34, 11.31it/s]\u001b[A"
     ]
    },
    {
     "name": "stdout",
     "output_type": "stream",
     "text": [
      "0.0907137393951416\n",
      "0.08506345748901367\n",
      "0.08998608589172363\n"
     ]
    },
    {
     "name": "stderr",
     "output_type": "stream",
     "text": [
      "\n",
      " 61%|████████████████████████▎               | 608/1000 [00:54<00:34, 11.24it/s]\u001b[A\n",
      " 61%|████████████████████████▍               | 610/1000 [00:54<00:34, 11.33it/s]\u001b[A"
     ]
    },
    {
     "name": "stdout",
     "output_type": "stream",
     "text": [
      "0.0890803337097168\n",
      "0.08705973625183105\n",
      "0.08507537841796875\n"
     ]
    },
    {
     "name": "stderr",
     "output_type": "stream",
     "text": [
      "\n",
      " 61%|████████████████████████▍               | 612/1000 [00:54<00:34, 11.16it/s]\u001b[A"
     ]
    },
    {
     "name": "stdout",
     "output_type": "stream",
     "text": [
      "0.09430193901062012\n",
      "0.0896303653717041\n",
      "0.08894777297973633\n"
     ]
    },
    {
     "name": "stderr",
     "output_type": "stream",
     "text": [
      "\n",
      " 61%|████████████████████████▌               | 614/1000 [00:54<00:34, 11.17it/s]\u001b[A\n",
      " 62%|████████████████████████▋               | 616/1000 [00:54<00:34, 11.24it/s]\u001b[A"
     ]
    },
    {
     "name": "stdout",
     "output_type": "stream",
     "text": [
      "0.08859848976135254\n",
      "0.08911991119384766\n",
      "0.08470940589904785\n"
     ]
    },
    {
     "name": "stderr",
     "output_type": "stream",
     "text": [
      "\n",
      " 62%|████████████████████████▋               | 618/1000 [00:55<00:33, 11.26it/s]\u001b[A"
     ]
    },
    {
     "name": "stdout",
     "output_type": "stream",
     "text": [
      "0.09060239791870117\n",
      "0.08505821228027344\n",
      "0.08877062797546387\n"
     ]
    },
    {
     "name": "stderr",
     "output_type": "stream",
     "text": [
      "\n",
      " 62%|████████████████████████▊               | 620/1000 [00:55<00:33, 11.25it/s]\u001b[A\n",
      " 62%|████████████████████████▉               | 622/1000 [00:55<00:33, 11.35it/s]\u001b[A"
     ]
    },
    {
     "name": "stdout",
     "output_type": "stream",
     "text": [
      "0.08834147453308105\n",
      "0.08600234985351562\n",
      "0.08519959449768066\n"
     ]
    },
    {
     "name": "stderr",
     "output_type": "stream",
     "text": [
      "\n",
      " 62%|████████████████████████▉               | 624/1000 [00:55<00:33, 11.33it/s]\u001b[A"
     ]
    },
    {
     "name": "stdout",
     "output_type": "stream",
     "text": [
      "0.09064030647277832\n",
      "0.08518123626708984\n",
      "0.08795380592346191\n"
     ]
    },
    {
     "name": "stderr",
     "output_type": "stream",
     "text": [
      "\n",
      " 63%|█████████████████████████               | 626/1000 [00:55<00:33, 11.32it/s]\u001b[A\n",
      " 63%|█████████████████████████               | 628/1000 [00:55<00:32, 11.39it/s]\u001b[A"
     ]
    },
    {
     "name": "stdout",
     "output_type": "stream",
     "text": [
      "0.08823895454406738\n",
      "0.08735036849975586\n",
      "0.08450174331665039\n"
     ]
    },
    {
     "name": "stderr",
     "output_type": "stream",
     "text": [
      "\n",
      " 63%|█████████████████████████▏              | 630/1000 [00:56<00:32, 11.35it/s]\u001b[A"
     ]
    },
    {
     "name": "stdout",
     "output_type": "stream",
     "text": [
      "0.09079861640930176\n",
      "0.08539795875549316\n",
      "0.08788371086120605\n"
     ]
    },
    {
     "name": "stderr",
     "output_type": "stream",
     "text": [
      "\n",
      " 63%|█████████████████████████▎              | 632/1000 [00:56<00:32, 11.32it/s]\u001b[A\n",
      " 63%|█████████████████████████▎              | 634/1000 [00:56<00:32, 11.35it/s]\u001b[A"
     ]
    },
    {
     "name": "stdout",
     "output_type": "stream",
     "text": [
      "0.0888051986694336\n",
      "0.0885770320892334\n",
      "0.08524131774902344\n"
     ]
    },
    {
     "name": "stderr",
     "output_type": "stream",
     "text": [
      "\n",
      " 64%|█████████████████████████▍              | 636/1000 [00:56<00:32, 11.32it/s]\u001b[A"
     ]
    },
    {
     "name": "stdout",
     "output_type": "stream",
     "text": [
      "0.0914602279663086\n",
      "0.08526158332824707\n",
      "0.0880885124206543\n"
     ]
    },
    {
     "name": "stderr",
     "output_type": "stream",
     "text": [
      "\n",
      " 64%|█████████████████████████▌              | 638/1000 [00:56<00:32, 11.29it/s]\u001b[A\n",
      " 64%|█████████████████████████▌              | 640/1000 [00:56<00:31, 11.37it/s]\u001b[A"
     ]
    },
    {
     "name": "stdout",
     "output_type": "stream",
     "text": [
      "0.08884978294372559\n",
      "0.08670926094055176\n",
      "0.08514571189880371\n"
     ]
    },
    {
     "name": "stderr",
     "output_type": "stream",
     "text": [
      "\n",
      " 64%|█████████████████████████▋              | 642/1000 [00:57<00:31, 11.37it/s]\u001b[A"
     ]
    },
    {
     "name": "stdout",
     "output_type": "stream",
     "text": [
      "0.08983278274536133\n",
      "0.08481216430664062\n",
      "0.0878140926361084\n"
     ]
    },
    {
     "name": "stderr",
     "output_type": "stream",
     "text": [
      "\n",
      " 64%|█████████████████████████▊              | 644/1000 [00:57<00:31, 11.34it/s]\u001b[A\n",
      " 65%|█████████████████████████▊              | 646/1000 [00:57<00:31, 11.35it/s]\u001b[A"
     ]
    },
    {
     "name": "stdout",
     "output_type": "stream",
     "text": [
      "0.08888363838195801\n",
      "0.08901453018188477\n",
      "0.08561921119689941\n"
     ]
    },
    {
     "name": "stderr",
     "output_type": "stream",
     "text": [
      "\n",
      " 65%|█████████████████████████▉              | 648/1000 [00:57<00:31, 11.32it/s]\u001b[A"
     ]
    },
    {
     "name": "stdout",
     "output_type": "stream",
     "text": [
      "0.09079217910766602\n",
      "0.08595681190490723\n",
      "0.08802509307861328\n"
     ]
    },
    {
     "name": "stderr",
     "output_type": "stream",
     "text": [
      "\n",
      " 65%|██████████████████████████              | 650/1000 [00:57<00:31, 11.29it/s]\u001b[A\n",
      " 65%|██████████████████████████              | 652/1000 [00:58<00:30, 11.27it/s]\u001b[A"
     ]
    },
    {
     "name": "stdout",
     "output_type": "stream",
     "text": [
      "0.08918499946594238\n",
      "0.09054708480834961\n",
      "0.0865023136138916\n"
     ]
    },
    {
     "name": "stderr",
     "output_type": "stream",
     "text": [
      "\n",
      " 65%|██████████████████████████▏             | 654/1000 [00:58<00:30, 11.23it/s]\u001b[A"
     ]
    },
    {
     "name": "stdout",
     "output_type": "stream",
     "text": [
      "0.09182381629943848\n",
      "0.08680367469787598\n",
      "0.09127402305603027\n"
     ]
    },
    {
     "name": "stderr",
     "output_type": "stream",
     "text": [
      "\n",
      " 66%|██████████████████████████▏             | 656/1000 [00:58<00:30, 11.14it/s]\u001b[A\n",
      " 66%|██████████████████████████▎             | 658/1000 [00:58<00:30, 11.14it/s]\u001b[A"
     ]
    },
    {
     "name": "stdout",
     "output_type": "stream",
     "text": [
      "0.0906977653503418\n",
      "0.09051895141601562\n",
      "0.08781147003173828\n"
     ]
    },
    {
     "name": "stderr",
     "output_type": "stream",
     "text": [
      "\n",
      " 66%|██████████████████████████▍             | 660/1000 [00:58<00:30, 11.18it/s]\u001b[A"
     ]
    },
    {
     "name": "stdout",
     "output_type": "stream",
     "text": [
      "0.09021115303039551\n",
      "0.08614659309387207\n",
      "0.08921456336975098\n"
     ]
    },
    {
     "name": "stderr",
     "output_type": "stream",
     "text": [
      "\n",
      " 66%|██████████████████████████▍             | 662/1000 [00:58<00:30, 11.15it/s]\u001b[A\n",
      " 66%|██████████████████████████▌             | 664/1000 [00:59<00:30, 11.17it/s]\u001b[A"
     ]
    },
    {
     "name": "stdout",
     "output_type": "stream",
     "text": [
      "0.08994436264038086\n",
      "0.08928608894348145\n",
      "0.08813691139221191\n"
     ]
    },
    {
     "name": "stderr",
     "output_type": "stream",
     "text": [
      "\n",
      " 67%|██████████████████████████▋             | 666/1000 [00:59<00:29, 11.15it/s]\u001b[A"
     ]
    },
    {
     "name": "stdout",
     "output_type": "stream",
     "text": [
      "0.09216856956481934\n",
      "0.08675384521484375\n",
      "0.08950567245483398\n"
     ]
    },
    {
     "name": "stderr",
     "output_type": "stream",
     "text": [
      "\n",
      " 67%|██████████████████████████▋             | 668/1000 [00:59<00:29, 11.13it/s]\u001b[A\n",
      " 67%|██████████████████████████▊             | 670/1000 [00:59<00:29, 11.18it/s]\u001b[A"
     ]
    },
    {
     "name": "stdout",
     "output_type": "stream",
     "text": [
      "0.08986759185791016\n",
      "0.08884048461914062\n",
      "0.08701443672180176\n"
     ]
    },
    {
     "name": "stderr",
     "output_type": "stream",
     "text": [
      "\n",
      " 67%|██████████████████████████▉             | 672/1000 [00:59<00:29, 11.17it/s]\u001b[A"
     ]
    },
    {
     "name": "stdout",
     "output_type": "stream",
     "text": [
      "0.09146595001220703\n",
      "0.08677315711975098\n",
      "0.08957314491271973\n"
     ]
    },
    {
     "name": "stderr",
     "output_type": "stream",
     "text": [
      "\n",
      " 67%|██████████████████████████▉             | 674/1000 [01:00<00:29, 11.14it/s]\u001b[A\n",
      " 68%|███████████████████████████             | 676/1000 [01:00<00:29, 11.17it/s]\u001b[A"
     ]
    },
    {
     "name": "stdout",
     "output_type": "stream",
     "text": [
      "0.08979010581970215\n",
      "0.09001731872558594\n",
      "0.08698701858520508\n"
     ]
    },
    {
     "name": "stderr",
     "output_type": "stream",
     "text": [
      "\n",
      " 68%|███████████████████████████             | 678/1000 [01:00<00:28, 11.17it/s]\u001b[A"
     ]
    },
    {
     "name": "stdout",
     "output_type": "stream",
     "text": [
      "0.09109163284301758\n",
      "0.08701324462890625\n",
      "0.09047794342041016\n"
     ]
    },
    {
     "name": "stderr",
     "output_type": "stream",
     "text": [
      "\n",
      " 68%|███████████████████████████▏            | 680/1000 [01:00<00:28, 11.11it/s]\u001b[A\n",
      " 68%|███████████████████████████▎            | 682/1000 [01:00<00:28, 11.14it/s]\u001b[A"
     ]
    },
    {
     "name": "stdout",
     "output_type": "stream",
     "text": [
      "0.0904085636138916\n",
      "0.08955168724060059\n",
      "0.08756065368652344\n"
     ]
    },
    {
     "name": "stderr",
     "output_type": "stream",
     "text": [
      "\n",
      " 68%|███████████████████████████▎            | 684/1000 [01:00<00:28, 11.15it/s]\u001b[A"
     ]
    },
    {
     "name": "stdout",
     "output_type": "stream",
     "text": [
      "0.09306502342224121\n",
      "0.0850667953491211\n",
      "0.09080028533935547\n"
     ]
    },
    {
     "name": "stderr",
     "output_type": "stream",
     "text": [
      "\n",
      " 69%|███████████████████████████▍            | 686/1000 [01:01<00:28, 11.14it/s]\u001b[A\n",
      " 69%|███████████████████████████▌            | 688/1000 [01:01<00:27, 11.20it/s]\u001b[A"
     ]
    },
    {
     "name": "stdout",
     "output_type": "stream",
     "text": [
      "0.08790755271911621\n",
      "0.0896749496459961\n",
      "0.08562874794006348\n"
     ]
    },
    {
     "name": "stderr",
     "output_type": "stream",
     "text": [
      "\n",
      " 69%|███████████████████████████▌            | 690/1000 [01:01<00:27, 11.20it/s]\u001b[A"
     ]
    },
    {
     "name": "stdout",
     "output_type": "stream",
     "text": [
      "0.09194660186767578\n",
      "0.08536434173583984\n",
      "0.09067654609680176\n"
     ]
    },
    {
     "name": "stderr",
     "output_type": "stream",
     "text": [
      "\n",
      " 69%|███████████████████████████▋            | 692/1000 [01:01<00:27, 11.16it/s]\u001b[A\n",
      " 69%|███████████████████████████▊            | 694/1000 [01:01<00:27, 11.24it/s]\u001b[A"
     ]
    },
    {
     "name": "stdout",
     "output_type": "stream",
     "text": [
      "0.08847618103027344\n",
      "0.08926010131835938\n",
      "0.08473062515258789\n"
     ]
    },
    {
     "name": "stderr",
     "output_type": "stream",
     "text": [
      "\n",
      " 70%|███████████████████████████▊            | 696/1000 [01:02<00:26, 11.26it/s]\u001b[A"
     ]
    },
    {
     "name": "stdout",
     "output_type": "stream",
     "text": [
      "0.09141802787780762\n",
      "0.08446216583251953\n",
      "0.0958700180053711\n"
     ]
    },
    {
     "name": "stderr",
     "output_type": "stream",
     "text": [
      "\n",
      " 70%|███████████████████████████▉            | 698/1000 [01:02<00:27, 11.07it/s]\u001b[A\n",
      " 70%|████████████████████████████            | 700/1000 [01:02<00:26, 11.19it/s]\u001b[A"
     ]
    },
    {
     "name": "stdout",
     "output_type": "stream",
     "text": [
      "0.09064674377441406\n",
      "0.08831334114074707\n",
      "0.08459186553955078\n"
     ]
    },
    {
     "name": "stderr",
     "output_type": "stream",
     "text": [
      "\n",
      " 70%|████████████████████████████            | 702/1000 [01:02<00:26, 11.09it/s]\u001b[A"
     ]
    },
    {
     "name": "stdout",
     "output_type": "stream",
     "text": [
      "0.09487056732177734\n",
      "0.08823370933532715\n",
      "0.08664369583129883\n"
     ]
    },
    {
     "name": "stderr",
     "output_type": "stream",
     "text": [
      "\n",
      " 70%|████████████████████████████▏           | 704/1000 [01:02<00:27, 10.95it/s]\u001b[A\n",
      " 71%|████████████████████████████▏           | 706/1000 [01:02<00:27, 10.68it/s]\u001b[A"
     ]
    },
    {
     "name": "stdout",
     "output_type": "stream",
     "text": [
      "0.10004234313964844\n",
      "0.11005353927612305\n",
      "0.08690166473388672\n"
     ]
    },
    {
     "name": "stderr",
     "output_type": "stream",
     "text": [
      "\n",
      " 71%|████████████████████████████▎           | 708/1000 [01:03<00:26, 10.87it/s]\u001b[A"
     ]
    },
    {
     "name": "stdout",
     "output_type": "stream",
     "text": [
      "0.08942246437072754\n",
      "0.08552837371826172\n",
      "0.0880274772644043\n"
     ]
    },
    {
     "name": "stderr",
     "output_type": "stream",
     "text": [
      "\n",
      " 71%|████████████████████████████▍           | 710/1000 [01:03<00:26, 11.00it/s]\u001b[A\n",
      " 71%|████████████████████████████▍           | 712/1000 [01:03<00:25, 11.14it/s]\u001b[A"
     ]
    },
    {
     "name": "stdout",
     "output_type": "stream",
     "text": [
      "0.0875692367553711\n",
      "0.0883936882019043\n",
      "0.08470606803894043\n"
     ]
    },
    {
     "name": "stderr",
     "output_type": "stream",
     "text": [
      "\n",
      " 71%|████████████████████████████▌           | 714/1000 [01:03<00:25, 11.17it/s]\u001b[A"
     ]
    },
    {
     "name": "stdout",
     "output_type": "stream",
     "text": [
      "0.09119176864624023\n",
      "0.08558797836303711\n",
      "0.09074783325195312\n"
     ]
    },
    {
     "name": "stderr",
     "output_type": "stream",
     "text": [
      "\n",
      " 72%|████████████████████████████▋           | 716/1000 [01:03<00:25, 11.14it/s]\u001b[A\n",
      " 72%|████████████████████████████▋           | 718/1000 [01:03<00:25, 11.24it/s]\u001b[A"
     ]
    },
    {
     "name": "stdout",
     "output_type": "stream",
     "text": [
      "0.08872747421264648\n",
      "0.08797574043273926\n",
      "0.08488750457763672\n"
     ]
    },
    {
     "name": "stderr",
     "output_type": "stream",
     "text": [
      "\n",
      " 72%|████████████████████████████▊           | 720/1000 [01:04<00:24, 11.23it/s]\u001b[A"
     ]
    },
    {
     "name": "stdout",
     "output_type": "stream",
     "text": [
      "0.09107661247253418\n",
      "0.08659839630126953\n",
      "0.08832979202270508\n"
     ]
    },
    {
     "name": "stderr",
     "output_type": "stream",
     "text": [
      "\n",
      " 72%|████████████████████████████▉           | 722/1000 [01:04<00:24, 11.23it/s]\u001b[A\n",
      " 72%|████████████████████████████▉           | 724/1000 [01:04<00:24, 11.26it/s]\u001b[A"
     ]
    },
    {
     "name": "stdout",
     "output_type": "stream",
     "text": [
      "0.08850765228271484\n",
      "0.0897216796875\n",
      "0.08548402786254883\n"
     ]
    },
    {
     "name": "stderr",
     "output_type": "stream",
     "text": [
      "\n",
      " 73%|█████████████████████████████           | 726/1000 [01:04<00:24, 11.22it/s]\u001b[A"
     ]
    },
    {
     "name": "stdout",
     "output_type": "stream",
     "text": [
      "0.09174871444702148\n",
      "0.08617663383483887\n",
      "0.08937287330627441\n"
     ]
    },
    {
     "name": "stderr",
     "output_type": "stream",
     "text": [
      "\n",
      " 73%|█████████████████████████████           | 728/1000 [01:04<00:24, 11.20it/s]\u001b[A\n",
      " 73%|█████████████████████████████▏          | 730/1000 [01:05<00:24, 11.24it/s]\u001b[A"
     ]
    },
    {
     "name": "stdout",
     "output_type": "stream",
     "text": [
      "0.08858466148376465\n",
      "0.08956766128540039\n",
      "0.08566951751708984\n"
     ]
    },
    {
     "name": "stderr",
     "output_type": "stream",
     "text": [
      "\n",
      " 73%|█████████████████████████████▎          | 732/1000 [01:05<00:23, 11.24it/s]\u001b[A"
     ]
    },
    {
     "name": "stdout",
     "output_type": "stream",
     "text": [
      "0.09081888198852539\n",
      "0.08565878868103027\n",
      "0.08976483345031738\n"
     ]
    },
    {
     "name": "stderr",
     "output_type": "stream",
     "text": [
      "\n",
      " 73%|█████████████████████████████▎          | 734/1000 [01:05<00:23, 11.20it/s]\u001b[A\n",
      " 74%|█████████████████████████████▍          | 736/1000 [01:05<00:23, 11.24it/s]\u001b[A"
     ]
    },
    {
     "name": "stdout",
     "output_type": "stream",
     "text": [
      "0.0894174575805664\n",
      "0.08952498435974121\n",
      "0.08568763732910156\n"
     ]
    },
    {
     "name": "stderr",
     "output_type": "stream",
     "text": [
      "\n",
      " 74%|█████████████████████████████▌          | 738/1000 [01:05<00:23, 11.22it/s]\u001b[A"
     ]
    },
    {
     "name": "stdout",
     "output_type": "stream",
     "text": [
      "0.09138083457946777\n",
      "0.08661079406738281\n",
      "0.08841371536254883\n"
     ]
    },
    {
     "name": "stderr",
     "output_type": "stream",
     "text": [
      "\n",
      " 74%|█████████████████████████████▌          | 740/1000 [01:05<00:23, 11.21it/s]\u001b[A\n",
      " 74%|█████████████████████████████▋          | 742/1000 [01:06<00:22, 11.24it/s]\u001b[A"
     ]
    },
    {
     "name": "stdout",
     "output_type": "stream",
     "text": [
      "0.08905649185180664\n",
      "0.08985280990600586\n",
      "0.08566737174987793\n"
     ]
    },
    {
     "name": "stderr",
     "output_type": "stream",
     "text": [
      "\n",
      " 74%|█████████████████████████████▊          | 744/1000 [01:06<00:22, 11.24it/s]\u001b[A"
     ]
    },
    {
     "name": "stdout",
     "output_type": "stream",
     "text": [
      "0.09126710891723633\n",
      "0.08565402030944824\n",
      "0.08913826942443848\n"
     ]
    },
    {
     "name": "stderr",
     "output_type": "stream",
     "text": [
      "\n",
      " 75%|█████████████████████████████▊          | 746/1000 [01:06<00:22, 11.22it/s]\u001b[A\n",
      " 75%|█████████████████████████████▉          | 748/1000 [01:06<00:22, 11.20it/s]\u001b[A"
     ]
    },
    {
     "name": "stdout",
     "output_type": "stream",
     "text": [
      "0.08878731727600098\n",
      "0.09281730651855469\n",
      "0.08535099029541016\n"
     ]
    },
    {
     "name": "stderr",
     "output_type": "stream",
     "text": [
      "\n",
      " 75%|██████████████████████████████          | 750/1000 [01:06<00:22, 11.20it/s]\u001b[A"
     ]
    },
    {
     "name": "stdout",
     "output_type": "stream",
     "text": [
      "0.09162473678588867\n",
      "0.08565878868103027\n",
      "0.08819317817687988\n"
     ]
    },
    {
     "name": "stderr",
     "output_type": "stream",
     "text": [
      "\n",
      " 75%|██████████████████████████████          | 752/1000 [01:07<00:22, 11.22it/s]\u001b[A\n",
      " 75%|██████████████████████████████▏         | 754/1000 [01:07<00:21, 11.31it/s]\u001b[A"
     ]
    },
    {
     "name": "stdout",
     "output_type": "stream",
     "text": [
      "0.08846902847290039\n",
      "0.08669257164001465\n",
      "0.08533310890197754\n"
     ]
    },
    {
     "name": "stderr",
     "output_type": "stream",
     "text": [
      "\n",
      " 76%|██████████████████████████████▏         | 756/1000 [01:07<00:21, 11.30it/s]\u001b[A"
     ]
    },
    {
     "name": "stdout",
     "output_type": "stream",
     "text": [
      "0.09059739112854004\n",
      "0.08578801155090332\n",
      "0.09003925323486328\n"
     ]
    },
    {
     "name": "stderr",
     "output_type": "stream",
     "text": [
      "\n",
      " 76%|██████████████████████████████▎         | 758/1000 [01:07<00:21, 11.22it/s]\u001b[A\n",
      " 76%|██████████████████████████████▍         | 760/1000 [01:07<00:21, 11.32it/s]\u001b[A"
     ]
    },
    {
     "name": "stdout",
     "output_type": "stream",
     "text": [
      "0.08997035026550293\n",
      "0.08659052848815918\n",
      "0.08539724349975586\n"
     ]
    },
    {
     "name": "stderr",
     "output_type": "stream",
     "text": [
      "\n",
      " 76%|██████████████████████████████▍         | 762/1000 [01:07<00:21, 11.31it/s]\u001b[A"
     ]
    },
    {
     "name": "stdout",
     "output_type": "stream",
     "text": [
      "0.09075355529785156\n",
      "0.08547759056091309\n",
      "0.0894773006439209\n"
     ]
    },
    {
     "name": "stderr",
     "output_type": "stream",
     "text": [
      "\n",
      " 76%|██████████████████████████████▌         | 764/1000 [01:08<00:25,  9.11it/s]\u001b[A\n",
      " 77%|██████████████████████████████▋         | 766/1000 [01:08<00:24,  9.67it/s]\u001b[A"
     ]
    },
    {
     "name": "stdout",
     "output_type": "stream",
     "text": [
      "0.22841143608093262\n",
      "0.09048962593078613\n",
      "0.08559155464172363\n"
     ]
    },
    {
     "name": "stderr",
     "output_type": "stream",
     "text": [
      "\n",
      " 77%|██████████████████████████████▋         | 768/1000 [01:08<00:22, 10.11it/s]\u001b[A"
     ]
    },
    {
     "name": "stdout",
     "output_type": "stream",
     "text": [
      "0.08914947509765625\n",
      "0.08680009841918945\n",
      "0.0883946418762207\n"
     ]
    },
    {
     "name": "stderr",
     "output_type": "stream",
     "text": [
      "\n",
      " 77%|██████████████████████████████▊         | 770/1000 [01:08<00:22, 10.40it/s]\u001b[A\n",
      " 77%|██████████████████████████████▉         | 772/1000 [01:08<00:21, 10.65it/s]\u001b[A"
     ]
    },
    {
     "name": "stdout",
     "output_type": "stream",
     "text": [
      "0.08951425552368164\n",
      "0.09043550491333008\n",
      "0.0857231616973877\n"
     ]
    },
    {
     "name": "stderr",
     "output_type": "stream",
     "text": [
      "\n",
      " 77%|██████████████████████████████▉         | 774/1000 [01:09<00:20, 10.83it/s]\u001b[A"
     ]
    },
    {
     "name": "stdout",
     "output_type": "stream",
     "text": [
      "0.09066486358642578\n",
      "0.08564925193786621\n",
      "0.08779764175415039\n"
     ]
    },
    {
     "name": "stderr",
     "output_type": "stream",
     "text": [
      "\n",
      " 78%|███████████████████████████████         | 776/1000 [01:09<00:20, 10.96it/s]\u001b[A\n",
      " 78%|███████████████████████████████         | 778/1000 [01:09<00:20, 11.10it/s]\u001b[A"
     ]
    },
    {
     "name": "stdout",
     "output_type": "stream",
     "text": [
      "0.0885324478149414\n",
      "0.08798074722290039\n",
      "0.08566832542419434\n"
     ]
    },
    {
     "name": "stderr",
     "output_type": "stream",
     "text": [
      "\n",
      " 78%|███████████████████████████████▏        | 780/1000 [01:09<00:19, 11.13it/s]\u001b[A"
     ]
    },
    {
     "name": "stdout",
     "output_type": "stream",
     "text": [
      "0.09146475791931152\n",
      "0.08589291572570801\n",
      "0.08906054496765137\n"
     ]
    },
    {
     "name": "stderr",
     "output_type": "stream",
     "text": [
      "\n",
      " 78%|███████████████████████████████▎        | 782/1000 [01:09<00:19, 11.13it/s]\u001b[A\n",
      " 78%|███████████████████████████████▎        | 784/1000 [01:09<00:19, 11.26it/s]\u001b[A"
     ]
    },
    {
     "name": "stdout",
     "output_type": "stream",
     "text": [
      "0.0890800952911377\n",
      "0.08748435974121094\n",
      "0.0845036506652832\n"
     ]
    },
    {
     "name": "stderr",
     "output_type": "stream",
     "text": [
      "\n",
      " 79%|███████████████████████████████▍        | 786/1000 [01:10<00:18, 11.27it/s]\u001b[A"
     ]
    },
    {
     "name": "stdout",
     "output_type": "stream",
     "text": [
      "0.09040451049804688\n",
      "0.08543562889099121\n",
      "0.08912181854248047\n"
     ]
    },
    {
     "name": "stderr",
     "output_type": "stream",
     "text": [
      "\n",
      " 79%|███████████████████████████████▌        | 788/1000 [01:10<00:18, 11.25it/s]\u001b[A\n",
      " 79%|███████████████████████████████▌        | 790/1000 [01:10<00:18, 11.30it/s]\u001b[A"
     ]
    },
    {
     "name": "stdout",
     "output_type": "stream",
     "text": [
      "0.0883326530456543\n",
      "0.08801436424255371\n",
      "0.08581209182739258\n"
     ]
    },
    {
     "name": "stderr",
     "output_type": "stream",
     "text": [
      "\n",
      " 79%|███████████████████████████████▋        | 792/1000 [01:10<00:18, 11.27it/s]\u001b[A"
     ]
    },
    {
     "name": "stdout",
     "output_type": "stream",
     "text": [
      "0.09156513214111328\n",
      "0.08613443374633789\n",
      "0.08863377571105957\n"
     ]
    },
    {
     "name": "stderr",
     "output_type": "stream",
     "text": [
      "\n",
      " 79%|███████████████████████████████▊        | 794/1000 [01:10<00:18, 11.25it/s]\u001b[A\n",
      " 80%|███████████████████████████████▊        | 796/1000 [01:11<00:18, 11.13it/s]\u001b[A"
     ]
    },
    {
     "name": "stdout",
     "output_type": "stream",
     "text": [
      "0.08857965469360352\n",
      "0.09730958938598633\n",
      "0.08606076240539551\n"
     ]
    },
    {
     "name": "stderr",
     "output_type": "stream",
     "text": [
      "\n",
      " 80%|███████████████████████████████▉        | 798/1000 [01:11<00:18, 11.19it/s]\u001b[A"
     ]
    },
    {
     "name": "stdout",
     "output_type": "stream",
     "text": [
      "0.08917498588562012\n",
      "0.08601212501525879\n",
      "0.08843088150024414\n"
     ]
    },
    {
     "name": "stderr",
     "output_type": "stream",
     "text": [
      "\n",
      " 80%|████████████████████████████████        | 800/1000 [01:11<00:17, 11.19it/s]\u001b[A\n",
      " 80%|████████████████████████████████        | 802/1000 [01:11<00:17, 11.26it/s]\u001b[A"
     ]
    },
    {
     "name": "stdout",
     "output_type": "stream",
     "text": [
      "0.08933329582214355\n",
      "0.08734011650085449\n",
      "0.0862882137298584\n"
     ]
    },
    {
     "name": "stderr",
     "output_type": "stream",
     "text": [
      "\n",
      " 80%|████████████████████████████████▏       | 804/1000 [01:11<00:17, 11.28it/s]\u001b[A"
     ]
    },
    {
     "name": "stdout",
     "output_type": "stream",
     "text": [
      "0.09053754806518555\n",
      "0.08532094955444336\n",
      "0.08864235877990723\n"
     ]
    },
    {
     "name": "stderr",
     "output_type": "stream",
     "text": [
      "\n",
      " 81%|████████████████████████████████▏       | 806/1000 [01:11<00:17, 11.26it/s]\u001b[A\n",
      " 81%|████████████████████████████████▎       | 808/1000 [01:12<00:16, 11.32it/s]\u001b[A"
     ]
    },
    {
     "name": "stdout",
     "output_type": "stream",
     "text": [
      "0.08855533599853516\n",
      "0.08801078796386719\n",
      "0.08506536483764648\n"
     ]
    },
    {
     "name": "stderr",
     "output_type": "stream",
     "text": [
      "\n",
      " 81%|████████████████████████████████▍       | 810/1000 [01:12<00:16, 11.29it/s]\u001b[A"
     ]
    },
    {
     "name": "stdout",
     "output_type": "stream",
     "text": [
      "0.09146976470947266\n",
      "0.08563232421875\n",
      "0.09108495712280273\n"
     ]
    },
    {
     "name": "stderr",
     "output_type": "stream",
     "text": [
      "\n",
      " 81%|████████████████████████████████▍       | 812/1000 [01:12<00:16, 11.21it/s]\u001b[A\n",
      " 81%|████████████████████████████████▌       | 814/1000 [01:12<00:16, 11.29it/s]\u001b[A"
     ]
    },
    {
     "name": "stdout",
     "output_type": "stream",
     "text": [
      "0.08905982971191406\n",
      "0.08825182914733887\n",
      "0.08499455451965332\n"
     ]
    },
    {
     "name": "stderr",
     "output_type": "stream",
     "text": [
      "\n",
      " 82%|████████████████████████████████▋       | 816/1000 [01:12<00:16, 11.26it/s]\u001b[A"
     ]
    },
    {
     "name": "stdout",
     "output_type": "stream",
     "text": [
      "0.09207820892333984\n",
      "0.08539557456970215\n",
      "0.09017157554626465\n"
     ]
    },
    {
     "name": "stderr",
     "output_type": "stream",
     "text": [
      "\n",
      " 82%|████████████████████████████████▋       | 818/1000 [01:13<00:16, 11.21it/s]\u001b[A\n",
      " 82%|████████████████████████████████▊       | 820/1000 [01:13<00:15, 11.31it/s]\u001b[A"
     ]
    },
    {
     "name": "stdout",
     "output_type": "stream",
     "text": [
      "0.08896827697753906\n",
      "0.08755874633789062\n",
      "0.0845022201538086\n"
     ]
    },
    {
     "name": "stderr",
     "output_type": "stream",
     "text": [
      "\n",
      " 82%|████████████████████████████████▉       | 822/1000 [01:13<00:15, 11.30it/s]\u001b[A"
     ]
    },
    {
     "name": "stdout",
     "output_type": "stream",
     "text": [
      "0.09140157699584961\n",
      "0.08504986763000488\n",
      "0.08960366249084473\n"
     ]
    },
    {
     "name": "stderr",
     "output_type": "stream",
     "text": [
      "\n",
      " 82%|████████████████████████████████▉       | 824/1000 [01:13<00:15, 11.24it/s]\u001b[A\n",
      " 83%|█████████████████████████████████       | 826/1000 [01:13<00:15, 11.27it/s]\u001b[A"
     ]
    },
    {
     "name": "stdout",
     "output_type": "stream",
     "text": [
      "0.08931589126586914\n",
      "0.09049081802368164\n",
      "0.08446788787841797\n"
     ]
    },
    {
     "name": "stderr",
     "output_type": "stream",
     "text": [
      "\n",
      " 83%|█████████████████████████████████       | 828/1000 [01:13<00:15, 11.26it/s]\u001b[A"
     ]
    },
    {
     "name": "stdout",
     "output_type": "stream",
     "text": [
      "0.09157276153564453\n",
      "0.08531618118286133\n",
      "0.09177446365356445\n"
     ]
    },
    {
     "name": "stderr",
     "output_type": "stream",
     "text": [
      "\n",
      " 83%|█████████████████████████████████▏      | 830/1000 [01:14<00:15, 11.19it/s]\u001b[A\n",
      " 83%|█████████████████████████████████▎      | 832/1000 [01:14<00:14, 11.29it/s]\u001b[A"
     ]
    },
    {
     "name": "stdout",
     "output_type": "stream",
     "text": [
      "0.08863067626953125\n",
      "0.08761143684387207\n",
      "0.08449769020080566\n"
     ]
    },
    {
     "name": "stderr",
     "output_type": "stream",
     "text": [
      "\n",
      " 83%|█████████████████████████████████▎      | 834/1000 [01:14<00:14, 11.25it/s]\u001b[A"
     ]
    },
    {
     "name": "stdout",
     "output_type": "stream",
     "text": [
      "0.09258723258972168\n",
      "0.08573603630065918\n",
      "0.09074783325195312\n"
     ]
    },
    {
     "name": "stderr",
     "output_type": "stream",
     "text": [
      "\n",
      " 84%|█████████████████████████████████▍      | 836/1000 [01:14<00:14, 11.18it/s]\u001b[A\n",
      " 84%|█████████████████████████████████▌      | 838/1000 [01:14<00:14, 11.27it/s]\u001b[A"
     ]
    },
    {
     "name": "stdout",
     "output_type": "stream",
     "text": [
      "0.08976554870605469\n",
      "0.0881505012512207\n",
      "0.08477950096130371\n"
     ]
    },
    {
     "name": "stderr",
     "output_type": "stream",
     "text": [
      "\n",
      " 84%|█████████████████████████████████▌      | 840/1000 [01:14<00:14, 11.27it/s]\u001b[A"
     ]
    },
    {
     "name": "stdout",
     "output_type": "stream",
     "text": [
      "0.09145712852478027\n",
      "0.0848391056060791\n",
      "0.09155154228210449\n"
     ]
    },
    {
     "name": "stderr",
     "output_type": "stream",
     "text": [
      "\n",
      " 84%|█████████████████████████████████▋      | 842/1000 [01:15<00:14, 11.20it/s]\u001b[A\n",
      " 84%|█████████████████████████████████▊      | 844/1000 [01:15<00:13, 11.28it/s]\u001b[A"
     ]
    },
    {
     "name": "stdout",
     "output_type": "stream",
     "text": [
      "0.08857893943786621\n",
      "0.08889293670654297\n",
      "0.08424735069274902\n"
     ]
    },
    {
     "name": "stderr",
     "output_type": "stream",
     "text": [
      "\n",
      " 85%|█████████████████████████████████▊      | 846/1000 [01:15<00:13, 11.27it/s]\u001b[A"
     ]
    },
    {
     "name": "stdout",
     "output_type": "stream",
     "text": [
      "0.09188222885131836\n",
      "0.08521628379821777\n",
      "0.09169769287109375\n"
     ]
    },
    {
     "name": "stderr",
     "output_type": "stream",
     "text": [
      "\n",
      " 85%|█████████████████████████████████▉      | 848/1000 [01:15<00:13, 11.18it/s]\u001b[A\n",
      " 85%|██████████████████████████████████      | 850/1000 [01:15<00:13, 11.28it/s]\u001b[A"
     ]
    },
    {
     "name": "stdout",
     "output_type": "stream",
     "text": [
      "0.0891411304473877\n",
      "0.08850383758544922\n",
      "0.0840909481048584\n"
     ]
    },
    {
     "name": "stderr",
     "output_type": "stream",
     "text": [
      "\n",
      " 85%|██████████████████████████████████      | 852/1000 [01:16<00:13, 11.28it/s]\u001b[A"
     ]
    },
    {
     "name": "stdout",
     "output_type": "stream",
     "text": [
      "0.09151887893676758\n",
      "0.08454036712646484\n",
      "0.08964657783508301\n"
     ]
    },
    {
     "name": "stderr",
     "output_type": "stream",
     "text": [
      "\n",
      " 85%|██████████████████████████████████▏     | 854/1000 [01:16<00:12, 11.24it/s]\u001b[A\n",
      " 86%|██████████████████████████████████▏     | 856/1000 [01:16<00:12, 11.27it/s]\u001b[A"
     ]
    },
    {
     "name": "stdout",
     "output_type": "stream",
     "text": [
      "0.08856630325317383\n",
      "0.09070467948913574\n",
      "0.08455991744995117\n"
     ]
    },
    {
     "name": "stderr",
     "output_type": "stream",
     "text": [
      "\n",
      " 86%|██████████████████████████████████▎     | 858/1000 [01:16<00:12, 11.25it/s]\u001b[A"
     ]
    },
    {
     "name": "stdout",
     "output_type": "stream",
     "text": [
      "0.09212231636047363\n",
      "0.08528780937194824\n",
      "0.08941316604614258\n"
     ]
    },
    {
     "name": "stderr",
     "output_type": "stream",
     "text": [
      "\n",
      " 86%|██████████████████████████████████▍     | 860/1000 [01:16<00:12, 11.20it/s]\u001b[A\n",
      " 86%|██████████████████████████████████▍     | 862/1000 [01:16<00:12, 11.26it/s]\u001b[A"
     ]
    },
    {
     "name": "stdout",
     "output_type": "stream",
     "text": [
      "0.08973979949951172\n",
      "0.09046626091003418\n",
      "0.08430600166320801\n"
     ]
    },
    {
     "name": "stderr",
     "output_type": "stream",
     "text": [
      "\n",
      " 86%|██████████████████████████████████▌     | 864/1000 [01:17<00:12, 11.27it/s]\u001b[A"
     ]
    },
    {
     "name": "stdout",
     "output_type": "stream",
     "text": [
      "0.09141349792480469\n",
      "0.08428597450256348\n",
      "0.08995866775512695\n"
     ]
    },
    {
     "name": "stderr",
     "output_type": "stream",
     "text": [
      "\n",
      " 87%|██████████████████████████████████▋     | 866/1000 [01:17<00:11, 11.24it/s]\u001b[A\n",
      " 87%|██████████████████████████████████▋     | 868/1000 [01:17<00:11, 11.28it/s]\u001b[A"
     ]
    },
    {
     "name": "stdout",
     "output_type": "stream",
     "text": [
      "0.08814334869384766\n",
      "0.09044909477233887\n",
      "0.08440876007080078\n"
     ]
    },
    {
     "name": "stderr",
     "output_type": "stream",
     "text": [
      "\n",
      " 87%|██████████████████████████████████▊     | 870/1000 [01:17<00:11, 11.26it/s]\u001b[A"
     ]
    },
    {
     "name": "stdout",
     "output_type": "stream",
     "text": [
      "0.0926053524017334\n",
      "0.08467459678649902\n",
      "0.09047579765319824\n"
     ]
    },
    {
     "name": "stderr",
     "output_type": "stream",
     "text": [
      "\n",
      " 87%|██████████████████████████████████▉     | 872/1000 [01:17<00:11, 11.21it/s]\u001b[A\n",
      " 87%|██████████████████████████████████▉     | 874/1000 [01:17<00:11, 11.30it/s]\u001b[A"
     ]
    },
    {
     "name": "stdout",
     "output_type": "stream",
     "text": [
      "0.0887758731842041\n",
      "0.08773422241210938\n",
      "0.08491730690002441\n"
     ]
    },
    {
     "name": "stderr",
     "output_type": "stream",
     "text": [
      "\n",
      " 88%|███████████████████████████████████     | 876/1000 [01:18<00:10, 11.29it/s]\u001b[A"
     ]
    },
    {
     "name": "stdout",
     "output_type": "stream",
     "text": [
      "0.09152746200561523\n",
      "0.08452224731445312\n",
      "0.08968567848205566\n"
     ]
    },
    {
     "name": "stderr",
     "output_type": "stream",
     "text": [
      "\n",
      " 88%|███████████████████████████████████     | 878/1000 [01:18<00:10, 11.26it/s]\u001b[A\n",
      " 88%|███████████████████████████████████▏    | 880/1000 [01:18<00:10, 11.31it/s]\u001b[A"
     ]
    },
    {
     "name": "stdout",
     "output_type": "stream",
     "text": [
      "0.08828377723693848\n",
      "0.08906412124633789\n",
      "0.0848703384399414\n"
     ]
    },
    {
     "name": "stderr",
     "output_type": "stream",
     "text": [
      "\n",
      " 88%|███████████████████████████████████▎    | 882/1000 [01:18<00:10, 11.29it/s]\u001b[A"
     ]
    },
    {
     "name": "stdout",
     "output_type": "stream",
     "text": [
      "0.09231853485107422\n",
      "0.08464527130126953\n",
      "0.08962130546569824\n"
     ]
    },
    {
     "name": "stderr",
     "output_type": "stream",
     "text": [
      "\n",
      " 88%|███████████████████████████████████▎    | 884/1000 [01:18<00:10, 11.25it/s]\u001b[A\n",
      " 89%|███████████████████████████████████▍    | 886/1000 [01:19<00:10, 11.30it/s]\u001b[A"
     ]
    },
    {
     "name": "stdout",
     "output_type": "stream",
     "text": [
      "0.08840465545654297\n",
      "0.08995890617370605\n",
      "0.08406567573547363\n"
     ]
    },
    {
     "name": "stderr",
     "output_type": "stream",
     "text": [
      "\n",
      " 89%|███████████████████████████████████▌    | 888/1000 [01:19<00:09, 11.30it/s]\u001b[A"
     ]
    },
    {
     "name": "stdout",
     "output_type": "stream",
     "text": [
      "0.0913701057434082\n",
      "0.08464455604553223\n",
      "0.08977818489074707\n"
     ]
    },
    {
     "name": "stderr",
     "output_type": "stream",
     "text": [
      "\n",
      " 89%|███████████████████████████████████▌    | 890/1000 [01:19<00:09, 11.24it/s]\u001b[A\n",
      " 89%|███████████████████████████████████▋    | 892/1000 [01:19<00:09, 11.30it/s]\u001b[A"
     ]
    },
    {
     "name": "stdout",
     "output_type": "stream",
     "text": [
      "0.08890724182128906\n",
      "0.0880582332611084\n",
      "0.08582830429077148\n"
     ]
    },
    {
     "name": "stderr",
     "output_type": "stream",
     "text": [
      "\n",
      " 89%|███████████████████████████████████▊    | 894/1000 [01:19<00:09, 11.26it/s]\u001b[A"
     ]
    },
    {
     "name": "stdout",
     "output_type": "stream",
     "text": [
      "0.09176087379455566\n",
      "0.08574581146240234\n",
      "0.09022164344787598\n"
     ]
    },
    {
     "name": "stderr",
     "output_type": "stream",
     "text": [
      "\n",
      " 90%|███████████████████████████████████▊    | 896/1000 [01:19<00:09, 11.20it/s]\u001b[A\n",
      " 90%|███████████████████████████████████▉    | 898/1000 [01:20<00:09, 11.25it/s]\u001b[A"
     ]
    },
    {
     "name": "stdout",
     "output_type": "stream",
     "text": [
      "0.0894770622253418\n",
      "0.08974051475524902\n",
      "0.08528494834899902\n"
     ]
    },
    {
     "name": "stderr",
     "output_type": "stream",
     "text": [
      "\n",
      " 90%|████████████████████████████████████    | 900/1000 [01:20<00:08, 11.25it/s]\u001b[A"
     ]
    },
    {
     "name": "stdout",
     "output_type": "stream",
     "text": [
      "0.09149837493896484\n",
      "0.08516573905944824\n",
      "0.08923554420471191\n"
     ]
    },
    {
     "name": "stderr",
     "output_type": "stream",
     "text": [
      "\n",
      " 90%|████████████████████████████████████    | 902/1000 [01:20<00:08, 11.21it/s]\u001b[A\n",
      " 90%|████████████████████████████████████▏   | 904/1000 [01:20<00:08, 11.25it/s]\u001b[A"
     ]
    },
    {
     "name": "stdout",
     "output_type": "stream",
     "text": [
      "0.0894155502319336\n",
      "0.09009861946105957\n",
      "0.08531403541564941\n"
     ]
    },
    {
     "name": "stderr",
     "output_type": "stream",
     "text": [
      "\n",
      " 91%|████████████████████████████████████▏   | 906/1000 [01:20<00:08, 11.11it/s]\u001b[A"
     ]
    },
    {
     "name": "stdout",
     "output_type": "stream",
     "text": [
      "0.09800314903259277\n",
      "0.08565950393676758\n",
      "0.08786916732788086\n"
     ]
    },
    {
     "name": "stderr",
     "output_type": "stream",
     "text": [
      "\n",
      " 91%|████████████████████████████████████▎   | 908/1000 [01:21<00:08, 11.14it/s]\u001b[A\n",
      " 91%|████████████████████████████████████▍   | 910/1000 [01:21<00:07, 11.25it/s]\u001b[A"
     ]
    },
    {
     "name": "stdout",
     "output_type": "stream",
     "text": [
      "0.08922982215881348\n",
      "0.08707284927368164\n",
      "0.08549070358276367\n"
     ]
    },
    {
     "name": "stderr",
     "output_type": "stream",
     "text": [
      "\n",
      " 91%|████████████████████████████████████▍   | 912/1000 [01:21<00:07, 11.27it/s]\u001b[A"
     ]
    },
    {
     "name": "stdout",
     "output_type": "stream",
     "text": [
      "0.09054708480834961\n",
      "0.08510684967041016\n",
      "0.09046387672424316\n"
     ]
    },
    {
     "name": "stderr",
     "output_type": "stream",
     "text": [
      "\n",
      " 91%|████████████████████████████████████▌   | 914/1000 [01:21<00:07, 11.18it/s]\u001b[A\n",
      " 92%|████████████████████████████████████▋   | 916/1000 [01:21<00:07, 11.28it/s]\u001b[A"
     ]
    },
    {
     "name": "stdout",
     "output_type": "stream",
     "text": [
      "0.0905449390411377\n",
      "0.08743095397949219\n",
      "0.08522605895996094\n"
     ]
    },
    {
     "name": "stderr",
     "output_type": "stream",
     "text": [
      "\n",
      " 92%|████████████████████████████████████▋   | 918/1000 [01:21<00:07, 11.29it/s]\u001b[A"
     ]
    },
    {
     "name": "stdout",
     "output_type": "stream",
     "text": [
      "0.09053969383239746\n",
      "0.08503317832946777\n",
      "0.09072756767272949\n"
     ]
    },
    {
     "name": "stderr",
     "output_type": "stream",
     "text": [
      "\n",
      " 92%|████████████████████████████████████▊   | 920/1000 [01:22<00:07, 11.21it/s]\u001b[A\n",
      " 92%|████████████████████████████████████▉   | 922/1000 [01:22<00:06, 11.31it/s]\u001b[A"
     ]
    },
    {
     "name": "stdout",
     "output_type": "stream",
     "text": [
      "0.0896298885345459\n",
      "0.08660006523132324\n",
      "0.08531403541564941\n"
     ]
    },
    {
     "name": "stderr",
     "output_type": "stream",
     "text": [
      "\n",
      " 92%|████████████████████████████████████▉   | 924/1000 [01:22<00:06, 11.29it/s]\u001b[A"
     ]
    },
    {
     "name": "stdout",
     "output_type": "stream",
     "text": [
      "0.09047317504882812\n",
      "0.08603477478027344\n",
      "0.09047341346740723\n"
     ]
    },
    {
     "name": "stderr",
     "output_type": "stream",
     "text": [
      "\n",
      " 93%|█████████████████████████████████████   | 926/1000 [01:22<00:06, 11.21it/s]\u001b[A\n",
      " 93%|█████████████████████████████████████   | 928/1000 [01:22<00:06, 11.24it/s]\u001b[A"
     ]
    },
    {
     "name": "stdout",
     "output_type": "stream",
     "text": [
      "0.08942079544067383\n",
      "0.0896151065826416\n",
      "0.08651113510131836\n"
     ]
    },
    {
     "name": "stderr",
     "output_type": "stream",
     "text": [
      "\n",
      " 93%|█████████████████████████████████████▏  | 930/1000 [01:22<00:06, 11.24it/s]\u001b[A"
     ]
    },
    {
     "name": "stdout",
     "output_type": "stream",
     "text": [
      "0.09060192108154297\n",
      "0.08617949485778809\n",
      "0.0906074047088623\n"
     ]
    },
    {
     "name": "stderr",
     "output_type": "stream",
     "text": [
      "\n",
      " 93%|█████████████████████████████████████▎  | 932/1000 [01:23<00:06, 11.18it/s]\u001b[A\n",
      " 93%|█████████████████████████████████████▎  | 934/1000 [01:23<00:05, 11.27it/s]\u001b[A"
     ]
    },
    {
     "name": "stdout",
     "output_type": "stream",
     "text": [
      "0.08947229385375977\n",
      "0.08725214004516602\n",
      "0.0855865478515625\n"
     ]
    },
    {
     "name": "stderr",
     "output_type": "stream",
     "text": [
      "\n",
      " 94%|█████████████████████████████████████▍  | 936/1000 [01:23<00:05, 11.26it/s]\u001b[A"
     ]
    },
    {
     "name": "stdout",
     "output_type": "stream",
     "text": [
      "0.09123635292053223\n",
      "0.08542466163635254\n",
      "0.09170126914978027\n"
     ]
    },
    {
     "name": "stderr",
     "output_type": "stream",
     "text": [
      "\n",
      " 94%|█████████████████████████████████████▌  | 938/1000 [01:23<00:05, 11.17it/s]\u001b[A\n",
      " 94%|█████████████████████████████████████▌  | 940/1000 [01:23<00:05, 11.28it/s]\u001b[A"
     ]
    },
    {
     "name": "stdout",
     "output_type": "stream",
     "text": [
      "0.0895242691040039\n",
      "0.08675241470336914\n",
      "0.08547019958496094\n"
     ]
    },
    {
     "name": "stderr",
     "output_type": "stream",
     "text": [
      "\n",
      " 94%|█████████████████████████████████████▋  | 942/1000 [01:24<00:05, 11.28it/s]\u001b[A"
     ]
    },
    {
     "name": "stdout",
     "output_type": "stream",
     "text": [
      "0.09027600288391113\n",
      "0.08596205711364746\n",
      "0.09039902687072754\n"
     ]
    },
    {
     "name": "stderr",
     "output_type": "stream",
     "text": [
      "\n",
      " 94%|█████████████████████████████████████▊  | 944/1000 [01:24<00:04, 11.21it/s]\u001b[A\n",
      " 95%|█████████████████████████████████████▊  | 946/1000 [01:24<00:04, 11.25it/s]\u001b[A"
     ]
    },
    {
     "name": "stdout",
     "output_type": "stream",
     "text": [
      "0.08913445472717285\n",
      "0.08946657180786133\n",
      "0.08575820922851562\n"
     ]
    },
    {
     "name": "stderr",
     "output_type": "stream",
     "text": [
      "\n",
      " 95%|█████████████████████████████████████▉  | 948/1000 [01:24<00:04, 11.20it/s]\u001b[A"
     ]
    },
    {
     "name": "stdout",
     "output_type": "stream",
     "text": [
      "0.09260272979736328\n",
      "0.0863804817199707\n",
      "0.08903169631958008\n"
     ]
    },
    {
     "name": "stderr",
     "output_type": "stream",
     "text": [
      "\n",
      " 95%|██████████████████████████████████████  | 950/1000 [01:24<00:04, 11.21it/s]\u001b[A\n",
      " 95%|██████████████████████████████████████  | 952/1000 [01:24<00:04, 11.24it/s]\u001b[A"
     ]
    },
    {
     "name": "stdout",
     "output_type": "stream",
     "text": [
      "0.08814096450805664\n",
      "0.08970880508422852\n",
      "0.08590340614318848\n"
     ]
    },
    {
     "name": "stderr",
     "output_type": "stream",
     "text": [
      "\n",
      " 95%|██████████████████████████████████████▏ | 954/1000 [01:25<00:04, 11.24it/s]\u001b[A"
     ]
    },
    {
     "name": "stdout",
     "output_type": "stream",
     "text": [
      "0.09124541282653809\n",
      "0.08518099784851074\n",
      "0.08947491645812988\n"
     ]
    },
    {
     "name": "stderr",
     "output_type": "stream",
     "text": [
      "\n",
      " 96%|██████████████████████████████████████▏ | 956/1000 [01:25<00:03, 11.20it/s]\u001b[A\n",
      " 96%|██████████████████████████████████████▎ | 958/1000 [01:25<00:03, 11.28it/s]\u001b[A"
     ]
    },
    {
     "name": "stdout",
     "output_type": "stream",
     "text": [
      "0.08925056457519531\n",
      "0.08728957176208496\n",
      "0.08602309226989746\n"
     ]
    },
    {
     "name": "stderr",
     "output_type": "stream",
     "text": [
      "\n",
      " 96%|██████████████████████████████████████▍ | 960/1000 [01:25<00:03, 11.26it/s]\u001b[A"
     ]
    },
    {
     "name": "stdout",
     "output_type": "stream",
     "text": [
      "0.0905001163482666\n",
      "0.08681035041809082\n",
      "0.08894920349121094\n"
     ]
    },
    {
     "name": "stderr",
     "output_type": "stream",
     "text": [
      "\n",
      " 96%|██████████████████████████████████████▍ | 962/1000 [01:25<00:03, 11.21it/s]\u001b[A\n",
      " 96%|██████████████████████████████████████▌ | 964/1000 [01:26<00:03, 11.23it/s]\u001b[A"
     ]
    },
    {
     "name": "stdout",
     "output_type": "stream",
     "text": [
      "0.08994746208190918\n",
      "0.0903167724609375\n",
      "0.08593606948852539\n"
     ]
    },
    {
     "name": "stderr",
     "output_type": "stream",
     "text": [
      "\n",
      " 97%|██████████████████████████████████████▋ | 966/1000 [01:26<00:03, 11.23it/s]\u001b[A"
     ]
    },
    {
     "name": "stdout",
     "output_type": "stream",
     "text": [
      "0.09122896194458008\n",
      "0.08580851554870605\n",
      "0.08817458152770996\n"
     ]
    },
    {
     "name": "stderr",
     "output_type": "stream",
     "text": [
      "\n",
      " 97%|██████████████████████████████████████▋ | 968/1000 [01:26<00:02, 11.22it/s]\u001b[A\n",
      " 97%|██████████████████████████████████████▊ | 970/1000 [01:26<00:02, 11.30it/s]\u001b[A"
     ]
    },
    {
     "name": "stdout",
     "output_type": "stream",
     "text": [
      "0.08904385566711426\n",
      "0.0869905948638916\n",
      "0.0860588550567627\n"
     ]
    },
    {
     "name": "stderr",
     "output_type": "stream",
     "text": [
      "\n",
      " 97%|██████████████████████████████████████▉ | 972/1000 [01:26<00:02, 11.24it/s]\u001b[A"
     ]
    },
    {
     "name": "stdout",
     "output_type": "stream",
     "text": [
      "0.09163761138916016\n",
      "0.08703732490539551\n",
      "0.08866024017333984\n"
     ]
    },
    {
     "name": "stderr",
     "output_type": "stream",
     "text": [
      "\n",
      " 97%|██████████████████████████████████████▉ | 974/1000 [01:26<00:02, 11.21it/s]\u001b[A\n",
      " 98%|███████████████████████████████████████ | 976/1000 [01:27<00:02, 11.30it/s]\u001b[A"
     ]
    },
    {
     "name": "stdout",
     "output_type": "stream",
     "text": [
      "0.08963966369628906\n",
      "0.08691215515136719\n",
      "0.0857698917388916\n"
     ]
    },
    {
     "name": "stderr",
     "output_type": "stream",
     "text": [
      "\n",
      " 98%|███████████████████████████████████████ | 978/1000 [01:27<00:01, 11.30it/s]\u001b[A"
     ]
    },
    {
     "name": "stdout",
     "output_type": "stream",
     "text": [
      "0.09061813354492188\n",
      "0.0855262279510498\n",
      "0.08927631378173828\n"
     ]
    },
    {
     "name": "stderr",
     "output_type": "stream",
     "text": [
      "\n",
      " 98%|███████████████████████████████████████▏| 980/1000 [01:27<00:01, 11.22it/s]\u001b[A\n",
      " 98%|███████████████████████████████████████▎| 982/1000 [01:27<00:01, 11.27it/s]\u001b[A"
     ]
    },
    {
     "name": "stdout",
     "output_type": "stream",
     "text": [
      "0.09072113037109375\n",
      "0.08811759948730469\n",
      "0.08594346046447754\n"
     ]
    },
    {
     "name": "stderr",
     "output_type": "stream",
     "text": [
      "\n",
      " 98%|███████████████████████████████████████▎| 984/1000 [01:27<00:01, 11.23it/s]\u001b[A"
     ]
    },
    {
     "name": "stdout",
     "output_type": "stream",
     "text": [
      "0.0920109748840332\n",
      "0.08656072616577148\n",
      "0.08938050270080566\n"
     ]
    },
    {
     "name": "stderr",
     "output_type": "stream",
     "text": [
      "\n",
      " 99%|███████████████████████████████████████▍| 986/1000 [01:27<00:01, 11.21it/s]\u001b[A\n",
      " 99%|███████████████████████████████████████▌| 988/1000 [01:28<00:01, 11.28it/s]\u001b[A"
     ]
    },
    {
     "name": "stdout",
     "output_type": "stream",
     "text": [
      "0.08861136436462402\n",
      "0.08765530586242676\n",
      "0.08584451675415039\n"
     ]
    },
    {
     "name": "stderr",
     "output_type": "stream",
     "text": [
      "\n",
      " 99%|███████████████████████████████████████▌| 990/1000 [01:28<00:00, 11.28it/s]\u001b[A"
     ]
    },
    {
     "name": "stdout",
     "output_type": "stream",
     "text": [
      "0.09188199043273926\n",
      "0.08443403244018555\n",
      "0.09028100967407227\n"
     ]
    },
    {
     "name": "stderr",
     "output_type": "stream",
     "text": [
      "\n",
      " 99%|███████████████████████████████████████▋| 992/1000 [01:28<00:00, 11.21it/s]\u001b[A\n",
      " 99%|███████████████████████████████████████▊| 994/1000 [01:28<00:00, 11.22it/s]\u001b[A"
     ]
    },
    {
     "name": "stdout",
     "output_type": "stream",
     "text": [
      "0.08945393562316895\n",
      "0.09203100204467773\n",
      "0.08468770980834961\n"
     ]
    },
    {
     "name": "stderr",
     "output_type": "stream",
     "text": [
      "\n",
      "100%|███████████████████████████████████████▊| 996/1000 [01:28<00:00, 11.22it/s]\u001b[A"
     ]
    },
    {
     "name": "stdout",
     "output_type": "stream",
     "text": [
      "0.09259891510009766\n",
      "0.08465194702148438\n",
      "0.08891797065734863\n"
     ]
    },
    {
     "name": "stderr",
     "output_type": "stream",
     "text": [
      "\n",
      "100%|███████████████████████████████████████▉| 998/1000 [01:29<00:00, 11.22it/s]\u001b[A\n",
      "100%|███████████████████████████████████████| 1000/1000 [01:29<00:00, 11.21it/s]\u001b[A\n",
      " 60%|███████████████████████████                  | 3/5 [04:26<02:57, 88.98s/it]"
     ]
    },
    {
     "name": "stdout",
     "output_type": "stream",
     "text": [
      "0.08818268775939941\n",
      "0.0895071029663086\n",
      "0.08477473258972168\n",
      "One run completed\n"
     ]
    },
    {
     "name": "stderr",
     "output_type": "stream",
     "text": [
      "\n",
      "  0%|                                                  | 0/1000 [00:00<?, ?it/s]\u001b[A\n",
      "  0%|                                          | 2/1000 [00:00<01:27, 11.42it/s]\u001b[A"
     ]
    },
    {
     "name": "stdout",
     "output_type": "stream",
     "text": [
      "0.09037470817565918\n",
      "0.0845189094543457\n",
      "0.0889592170715332\n"
     ]
    },
    {
     "name": "stderr",
     "output_type": "stream",
     "text": [
      "\n",
      "  0%|▏                                         | 4/1000 [00:00<01:27, 11.34it/s]\u001b[A\n",
      "  1%|▎                                         | 6/1000 [00:00<01:27, 11.42it/s]\u001b[A"
     ]
    },
    {
     "name": "stdout",
     "output_type": "stream",
     "text": [
      "0.0869591236114502\n",
      "0.08838176727294922\n",
      "0.08436346054077148\n"
     ]
    },
    {
     "name": "stderr",
     "output_type": "stream",
     "text": [
      "\n",
      "  1%|▎                                         | 8/1000 [00:00<01:27, 11.38it/s]\u001b[A"
     ]
    },
    {
     "name": "stdout",
     "output_type": "stream",
     "text": [
      "0.09074902534484863\n",
      "0.08478283882141113\n",
      "0.09112215042114258\n"
     ]
    },
    {
     "name": "stderr",
     "output_type": "stream",
     "text": [
      "\n",
      "  1%|▍                                        | 10/1000 [00:00<01:27, 11.29it/s]\u001b[A\n",
      "  1%|▍                                        | 12/1000 [00:01<01:26, 11.38it/s]\u001b[A"
     ]
    },
    {
     "name": "stdout",
     "output_type": "stream",
     "text": [
      "0.08734440803527832\n",
      "0.08782124519348145\n",
      "0.08378314971923828\n"
     ]
    },
    {
     "name": "stderr",
     "output_type": "stream",
     "text": [
      "\n",
      "  1%|▌                                        | 14/1000 [00:01<01:26, 11.34it/s]\u001b[A"
     ]
    },
    {
     "name": "stdout",
     "output_type": "stream",
     "text": [
      "0.09159541130065918\n",
      "0.0848228931427002\n",
      "0.09091496467590332\n"
     ]
    },
    {
     "name": "stderr",
     "output_type": "stream",
     "text": [
      "\n",
      "  2%|▋                                        | 16/1000 [00:01<01:28, 11.10it/s]\u001b[A"
     ]
    },
    {
     "name": "stdout",
     "output_type": "stream",
     "text": [
      "0.09647226333618164\n",
      "0.1483445167541504\n"
     ]
    },
    {
     "name": "stderr",
     "output_type": "stream",
     "text": [
      "\n",
      "  2%|▋                                        | 18/1000 [00:01<01:41,  9.67it/s]\u001b[A\n",
      "  2%|▊                                        | 20/1000 [00:01<01:36, 10.18it/s]\u001b[A"
     ]
    },
    {
     "name": "stdout",
     "output_type": "stream",
     "text": [
      "0.11608648300170898\n",
      "0.08696484565734863\n",
      "0.08495664596557617\n"
     ]
    },
    {
     "name": "stderr",
     "output_type": "stream",
     "text": [
      "\n",
      "  2%|▉                                        | 22/1000 [00:02<01:33, 10.51it/s]\u001b[A"
     ]
    },
    {
     "name": "stdout",
     "output_type": "stream",
     "text": [
      "0.08970904350280762\n",
      "0.08541560173034668\n",
      "0.0891110897064209\n"
     ]
    },
    {
     "name": "stderr",
     "output_type": "stream",
     "text": [
      "\n",
      "  2%|▉                                        | 24/1000 [00:02<01:30, 10.73it/s]\u001b[A\n",
      "  3%|█                                        | 26/1000 [00:02<01:29, 10.91it/s]\u001b[A"
     ]
    },
    {
     "name": "stdout",
     "output_type": "stream",
     "text": [
      "0.08736944198608398\n",
      "0.08952999114990234\n",
      "0.08582186698913574\n"
     ]
    },
    {
     "name": "stderr",
     "output_type": "stream",
     "text": [
      "\n",
      "  3%|█▏                                       | 28/1000 [00:02<01:28, 11.02it/s]\u001b[A"
     ]
    },
    {
     "name": "stdout",
     "output_type": "stream",
     "text": [
      "0.09002137184143066\n",
      "0.08575749397277832\n",
      "0.08822059631347656\n"
     ]
    },
    {
     "name": "stderr",
     "output_type": "stream",
     "text": [
      "\n",
      "  3%|█▏                                       | 30/1000 [00:02<01:27, 11.10it/s]\u001b[A\n",
      "  3%|█▎                                       | 32/1000 [00:02<01:26, 11.21it/s]\u001b[A"
     ]
    },
    {
     "name": "stdout",
     "output_type": "stream",
     "text": [
      "0.08784294128417969\n",
      "0.08802223205566406\n",
      "0.08519792556762695\n"
     ]
    },
    {
     "name": "stderr",
     "output_type": "stream",
     "text": [
      "\n",
      "  3%|█▍                                       | 34/1000 [00:03<01:26, 11.23it/s]\u001b[A"
     ]
    },
    {
     "name": "stdout",
     "output_type": "stream",
     "text": [
      "0.09094524383544922\n",
      "0.08526897430419922\n",
      "0.0894312858581543\n"
     ]
    },
    {
     "name": "stderr",
     "output_type": "stream",
     "text": [
      "\n",
      "  4%|█▍                                       | 36/1000 [00:03<01:25, 11.21it/s]\u001b[A\n",
      "  4%|█▌                                       | 38/1000 [00:03<01:25, 11.25it/s]\u001b[A"
     ]
    },
    {
     "name": "stdout",
     "output_type": "stream",
     "text": [
      "0.08837628364562988\n",
      "0.0892481803894043\n",
      "0.08617901802062988\n"
     ]
    },
    {
     "name": "stderr",
     "output_type": "stream",
     "text": [
      "\n",
      "  4%|█▋                                       | 40/1000 [00:03<01:25, 11.27it/s]\u001b[A"
     ]
    },
    {
     "name": "stdout",
     "output_type": "stream",
     "text": [
      "0.0898895263671875\n",
      "0.0855867862701416\n",
      "0.08741378784179688\n"
     ]
    },
    {
     "name": "stderr",
     "output_type": "stream",
     "text": [
      "\n",
      "  4%|█▋                                       | 42/1000 [00:03<01:24, 11.28it/s]\u001b[A\n",
      "  4%|█▊                                       | 44/1000 [00:03<01:24, 11.31it/s]\u001b[A"
     ]
    },
    {
     "name": "stdout",
     "output_type": "stream",
     "text": [
      "0.08844304084777832\n",
      "0.08921933174133301\n",
      "0.08539342880249023\n"
     ]
    },
    {
     "name": "stderr",
     "output_type": "stream",
     "text": [
      "\n",
      "  5%|█▉                                       | 46/1000 [00:04<01:24, 11.32it/s]\u001b[A"
     ]
    },
    {
     "name": "stdout",
     "output_type": "stream",
     "text": [
      "0.08961200714111328\n",
      "0.08565950393676758\n",
      "0.08994746208190918\n"
     ]
    },
    {
     "name": "stderr",
     "output_type": "stream",
     "text": [
      "\n",
      "  5%|█▉                                       | 48/1000 [00:04<01:24, 11.27it/s]\u001b[A\n",
      "  5%|██                                       | 50/1000 [00:04<01:23, 11.33it/s]\u001b[A"
     ]
    },
    {
     "name": "stdout",
     "output_type": "stream",
     "text": [
      "0.08809304237365723\n",
      "0.08815646171569824\n",
      "0.08501434326171875\n"
     ]
    },
    {
     "name": "stderr",
     "output_type": "stream",
     "text": [
      "\n",
      "  5%|██▏                                      | 52/1000 [00:04<01:23, 11.30it/s]\u001b[A"
     ]
    },
    {
     "name": "stdout",
     "output_type": "stream",
     "text": [
      "0.09054374694824219\n",
      "0.08611917495727539\n",
      "0.09048247337341309\n"
     ]
    },
    {
     "name": "stderr",
     "output_type": "stream",
     "text": [
      "\n",
      "  5%|██▏                                      | 54/1000 [00:04<01:24, 11.26it/s]\u001b[A\n",
      "  6%|██▎                                      | 56/1000 [00:05<01:24, 11.24it/s]\u001b[A"
     ]
    },
    {
     "name": "stdout",
     "output_type": "stream",
     "text": [
      "0.08757781982421875\n",
      "0.09048891067504883\n",
      "0.08712148666381836\n"
     ]
    },
    {
     "name": "stderr",
     "output_type": "stream",
     "text": [
      "\n",
      "  6%|██▍                                      | 58/1000 [00:05<01:23, 11.23it/s]\u001b[A"
     ]
    },
    {
     "name": "stdout",
     "output_type": "stream",
     "text": [
      "0.09121894836425781\n",
      "0.08610343933105469\n",
      "0.08886528015136719\n"
     ]
    },
    {
     "name": "stderr",
     "output_type": "stream",
     "text": [
      "\n",
      "  6%|██▍                                      | 60/1000 [00:05<01:23, 11.19it/s]\u001b[A\n",
      "  6%|██▌                                      | 62/1000 [00:05<01:23, 11.25it/s]\u001b[A"
     ]
    },
    {
     "name": "stdout",
     "output_type": "stream",
     "text": [
      "0.09004378318786621\n",
      "0.08835172653198242\n",
      "0.08649277687072754\n"
     ]
    },
    {
     "name": "stderr",
     "output_type": "stream",
     "text": [
      "\n",
      "  6%|██▌                                      | 64/1000 [00:05<01:23, 11.27it/s]\u001b[A"
     ]
    },
    {
     "name": "stdout",
     "output_type": "stream",
     "text": [
      "0.08991837501525879\n",
      "0.08534812927246094\n",
      "0.0878455638885498\n"
     ]
    },
    {
     "name": "stderr",
     "output_type": "stream",
     "text": [
      "\n",
      "  7%|██▋                                      | 66/1000 [00:05<01:22, 11.30it/s]\u001b[A\n",
      "  7%|██▊                                      | 68/1000 [00:06<01:21, 11.37it/s]\u001b[A"
     ]
    },
    {
     "name": "stdout",
     "output_type": "stream",
     "text": [
      "0.08696746826171875\n",
      "0.08727693557739258\n",
      "0.08472728729248047\n"
     ]
    },
    {
     "name": "stderr",
     "output_type": "stream",
     "text": [
      "\n",
      "  7%|██▊                                      | 70/1000 [00:06<01:21, 11.35it/s]\u001b[A"
     ]
    },
    {
     "name": "stdout",
     "output_type": "stream",
     "text": [
      "0.09040951728820801\n",
      "0.08503055572509766\n",
      "0.08827376365661621\n"
     ]
    },
    {
     "name": "stderr",
     "output_type": "stream",
     "text": [
      "\n",
      "  7%|██▉                                      | 72/1000 [00:06<01:21, 11.32it/s]\u001b[A\n",
      "  7%|███                                      | 74/1000 [00:06<01:21, 11.39it/s]\u001b[A"
     ]
    },
    {
     "name": "stdout",
     "output_type": "stream",
     "text": [
      "0.0883798599243164\n",
      "0.08746457099914551\n",
      "0.08483767509460449\n"
     ]
    },
    {
     "name": "stderr",
     "output_type": "stream",
     "text": [
      "\n",
      "  8%|███                                      | 76/1000 [00:06<01:21, 11.37it/s]\u001b[A"
     ]
    },
    {
     "name": "stdout",
     "output_type": "stream",
     "text": [
      "0.08994269371032715\n",
      "0.08521866798400879\n",
      "0.08787393569946289\n"
     ]
    },
    {
     "name": "stderr",
     "output_type": "stream",
     "text": [
      "\n",
      "  8%|███▏                                     | 78/1000 [00:06<01:21, 11.36it/s]\u001b[A\n",
      "  8%|███▎                                     | 80/1000 [00:07<01:20, 11.41it/s]\u001b[A"
     ]
    },
    {
     "name": "stdout",
     "output_type": "stream",
     "text": [
      "0.0874640941619873\n",
      "0.08711743354797363\n",
      "0.08528351783752441\n"
     ]
    },
    {
     "name": "stderr",
     "output_type": "stream",
     "text": [
      "\n",
      "  8%|███▎                                     | 82/1000 [00:07<01:20, 11.36it/s]\u001b[A"
     ]
    },
    {
     "name": "stdout",
     "output_type": "stream",
     "text": [
      "0.09079861640930176\n",
      "0.08582520484924316\n",
      "0.08911418914794922\n"
     ]
    },
    {
     "name": "stderr",
     "output_type": "stream",
     "text": [
      "\n",
      "  8%|███▍                                     | 84/1000 [00:07<01:20, 11.31it/s]\u001b[A\n",
      "  9%|███▌                                     | 86/1000 [00:07<01:20, 11.39it/s]\u001b[A"
     ]
    },
    {
     "name": "stdout",
     "output_type": "stream",
     "text": [
      "0.08831334114074707\n",
      "0.08698487281799316\n",
      "0.08466172218322754\n"
     ]
    },
    {
     "name": "stderr",
     "output_type": "stream",
     "text": [
      "\n",
      "  9%|███▌                                     | 88/1000 [00:07<01:20, 11.36it/s]\u001b[A"
     ]
    },
    {
     "name": "stdout",
     "output_type": "stream",
     "text": [
      "0.0909261703491211\n",
      "0.08528256416320801\n",
      "0.08982563018798828\n"
     ]
    },
    {
     "name": "stderr",
     "output_type": "stream",
     "text": [
      "\n",
      "  9%|███▋                                     | 90/1000 [00:08<01:20, 11.29it/s]\u001b[A\n",
      "  9%|███▊                                     | 92/1000 [00:08<01:19, 11.36it/s]\u001b[A"
     ]
    },
    {
     "name": "stdout",
     "output_type": "stream",
     "text": [
      "0.08844375610351562\n",
      "0.08813953399658203\n",
      "0.08458971977233887\n"
     ]
    },
    {
     "name": "stderr",
     "output_type": "stream",
     "text": [
      "\n",
      "  9%|███▊                                     | 94/1000 [00:08<01:19, 11.33it/s]\u001b[A"
     ]
    },
    {
     "name": "stdout",
     "output_type": "stream",
     "text": [
      "0.09053230285644531\n",
      "0.08573341369628906\n",
      "0.08918547630310059\n"
     ]
    },
    {
     "name": "stderr",
     "output_type": "stream",
     "text": [
      "\n",
      " 10%|███▉                                     | 96/1000 [00:08<01:20, 11.29it/s]\u001b[A\n",
      " 10%|████                                     | 98/1000 [00:08<01:19, 11.35it/s]\u001b[A"
     ]
    },
    {
     "name": "stdout",
     "output_type": "stream",
     "text": [
      "0.08796262741088867\n",
      "0.08855295181274414\n",
      "0.08412957191467285\n"
     ]
    },
    {
     "name": "stderr",
     "output_type": "stream",
     "text": [
      "\n",
      " 10%|████                                    | 100/1000 [00:08<01:19, 11.35it/s]\u001b[A"
     ]
    },
    {
     "name": "stdout",
     "output_type": "stream",
     "text": [
      "0.09037303924560547\n",
      "0.08481574058532715\n",
      "0.08800292015075684\n"
     ]
    },
    {
     "name": "stderr",
     "output_type": "stream",
     "text": [
      "\n",
      " 10%|████                                    | 102/1000 [00:09<01:19, 11.34it/s]\u001b[A\n",
      " 10%|████▏                                   | 104/1000 [00:09<01:18, 11.39it/s]\u001b[A"
     ]
    },
    {
     "name": "stdout",
     "output_type": "stream",
     "text": [
      "0.0876011848449707\n",
      "0.08778548240661621\n",
      "0.08499503135681152\n"
     ]
    },
    {
     "name": "stderr",
     "output_type": "stream",
     "text": [
      "\n",
      " 11%|████▏                                   | 106/1000 [00:09<01:18, 11.37it/s]\u001b[A"
     ]
    },
    {
     "name": "stdout",
     "output_type": "stream",
     "text": [
      "0.09009027481079102\n",
      "0.08568787574768066\n",
      "0.08843755722045898\n"
     ]
    },
    {
     "name": "stderr",
     "output_type": "stream",
     "text": [
      "\n",
      " 11%|████▎                                   | 108/1000 [00:09<01:18, 11.35it/s]\u001b[A\n",
      " 11%|████▍                                   | 110/1000 [00:09<01:18, 11.36it/s]\u001b[A"
     ]
    },
    {
     "name": "stdout",
     "output_type": "stream",
     "text": [
      "0.08722949028015137\n",
      "0.08946347236633301\n",
      "0.08519697189331055\n"
     ]
    },
    {
     "name": "stderr",
     "output_type": "stream",
     "text": [
      "\n",
      " 11%|████▍                                   | 112/1000 [00:09<01:18, 11.33it/s]\u001b[A"
     ]
    },
    {
     "name": "stdout",
     "output_type": "stream",
     "text": [
      "0.09093189239501953\n",
      "0.08524489402770996\n",
      "0.09018301963806152\n"
     ]
    },
    {
     "name": "stderr",
     "output_type": "stream",
     "text": [
      "\n",
      " 11%|████▌                                   | 114/1000 [00:10<01:18, 11.30it/s]\u001b[A\n",
      " 12%|████▋                                   | 116/1000 [00:10<01:17, 11.35it/s]\u001b[A"
     ]
    },
    {
     "name": "stdout",
     "output_type": "stream",
     "text": [
      "0.08708310127258301\n",
      "0.08902955055236816\n",
      "0.08434891700744629\n"
     ]
    },
    {
     "name": "stderr",
     "output_type": "stream",
     "text": [
      "\n",
      " 12%|████▋                                   | 118/1000 [00:10<01:17, 11.32it/s]\u001b[A"
     ]
    },
    {
     "name": "stdout",
     "output_type": "stream",
     "text": [
      "0.09118843078613281\n",
      "0.0850982666015625\n",
      "0.09030580520629883\n"
     ]
    },
    {
     "name": "stderr",
     "output_type": "stream",
     "text": [
      "\n",
      " 12%|████▊                                   | 120/1000 [00:10<01:18, 11.28it/s]\u001b[A\n",
      " 12%|████▉                                   | 122/1000 [00:10<01:17, 11.34it/s]\u001b[A"
     ]
    },
    {
     "name": "stdout",
     "output_type": "stream",
     "text": [
      "0.08782267570495605\n",
      "0.08874297142028809\n",
      "0.08426308631896973\n"
     ]
    },
    {
     "name": "stderr",
     "output_type": "stream",
     "text": [
      "\n",
      " 12%|████▉                                   | 124/1000 [00:11<01:18, 11.18it/s]\u001b[A"
     ]
    },
    {
     "name": "stdout",
     "output_type": "stream",
     "text": [
      "0.09877634048461914\n",
      "0.08474540710449219\n",
      "0.09070992469787598\n"
     ]
    },
    {
     "name": "stderr",
     "output_type": "stream",
     "text": [
      "\n",
      " 13%|█████                                   | 126/1000 [00:11<01:18, 11.16it/s]\u001b[A\n",
      " 13%|█████                                   | 128/1000 [00:11<01:17, 11.19it/s]\u001b[A"
     ]
    },
    {
     "name": "stdout",
     "output_type": "stream",
     "text": [
      "0.08794713020324707\n",
      "0.09113359451293945\n",
      "0.08522558212280273\n"
     ]
    },
    {
     "name": "stderr",
     "output_type": "stream",
     "text": [
      "\n",
      " 13%|█████▏                                  | 130/1000 [00:11<01:17, 11.21it/s]\u001b[A"
     ]
    },
    {
     "name": "stdout",
     "output_type": "stream",
     "text": [
      "0.09118008613586426\n",
      "0.08548140525817871\n",
      "0.09067559242248535\n"
     ]
    },
    {
     "name": "stderr",
     "output_type": "stream",
     "text": [
      "\n",
      " 13%|█████▎                                  | 132/1000 [00:11<01:17, 11.16it/s]\u001b[A\n",
      " 13%|█████▎                                  | 134/1000 [00:11<01:16, 11.26it/s]\u001b[A"
     ]
    },
    {
     "name": "stdout",
     "output_type": "stream",
     "text": [
      "0.0889279842376709\n",
      "0.087921142578125\n",
      "0.08497357368469238\n"
     ]
    },
    {
     "name": "stderr",
     "output_type": "stream",
     "text": [
      "\n",
      " 14%|█████▍                                  | 136/1000 [00:12<01:16, 11.27it/s]\u001b[A"
     ]
    },
    {
     "name": "stdout",
     "output_type": "stream",
     "text": [
      "0.09053921699523926\n",
      "0.08496546745300293\n",
      "0.08971190452575684\n"
     ]
    },
    {
     "name": "stderr",
     "output_type": "stream",
     "text": [
      "\n",
      " 14%|█████▌                                  | 138/1000 [00:12<01:16, 11.23it/s]\u001b[A\n",
      " 14%|█████▌                                  | 140/1000 [00:12<01:16, 11.31it/s]\u001b[A"
     ]
    },
    {
     "name": "stdout",
     "output_type": "stream",
     "text": [
      "0.08872270584106445\n",
      "0.08775138854980469\n",
      "0.08506011962890625\n"
     ]
    },
    {
     "name": "stderr",
     "output_type": "stream",
     "text": [
      "\n",
      " 14%|█████▋                                  | 142/1000 [00:12<01:15, 11.29it/s]\u001b[A"
     ]
    },
    {
     "name": "stdout",
     "output_type": "stream",
     "text": [
      "0.0915670394897461\n",
      "0.08519482612609863\n",
      "0.0904991626739502\n"
     ]
    },
    {
     "name": "stderr",
     "output_type": "stream",
     "text": [
      "\n",
      " 14%|█████▊                                  | 144/1000 [00:12<01:16, 11.24it/s]\u001b[A\n",
      " 15%|█████▊                                  | 146/1000 [00:13<01:15, 11.28it/s]\u001b[A"
     ]
    },
    {
     "name": "stdout",
     "output_type": "stream",
     "text": [
      "0.08838987350463867\n",
      "0.09009671211242676\n",
      "0.08428359031677246\n"
     ]
    },
    {
     "name": "stderr",
     "output_type": "stream",
     "text": [
      "\n",
      " 15%|█████▉                                  | 148/1000 [00:13<01:15, 11.26it/s]\u001b[A"
     ]
    },
    {
     "name": "stdout",
     "output_type": "stream",
     "text": [
      "0.09241080284118652\n",
      "0.08465313911437988\n",
      "0.09152674674987793\n"
     ]
    },
    {
     "name": "stderr",
     "output_type": "stream",
     "text": [
      "\n",
      " 15%|██████                                  | 150/1000 [00:13<01:15, 11.18it/s]\u001b[A\n",
      " 15%|██████                                  | 152/1000 [00:13<01:15, 11.21it/s]\u001b[A"
     ]
    },
    {
     "name": "stdout",
     "output_type": "stream",
     "text": [
      "0.0890965461730957\n",
      "0.09201192855834961\n",
      "0.08441662788391113\n"
     ]
    },
    {
     "name": "stderr",
     "output_type": "stream",
     "text": [
      "\n",
      " 15%|██████▏                                 | 154/1000 [00:13<01:15, 11.23it/s]\u001b[A"
     ]
    },
    {
     "name": "stdout",
     "output_type": "stream",
     "text": [
      "0.09150838851928711\n",
      "0.08478522300720215\n",
      "0.09107303619384766\n"
     ]
    },
    {
     "name": "stderr",
     "output_type": "stream",
     "text": [
      "\n",
      " 16%|██████▏                                 | 156/1000 [00:13<01:15, 11.16it/s]\u001b[A\n",
      " 16%|██████▎                                 | 158/1000 [00:14<01:15, 11.19it/s]\u001b[A"
     ]
    },
    {
     "name": "stdout",
     "output_type": "stream",
     "text": [
      "0.08943986892700195\n",
      "0.09179520606994629\n",
      "0.08477306365966797\n"
     ]
    },
    {
     "name": "stderr",
     "output_type": "stream",
     "text": [
      "\n",
      " 16%|██████▍                                 | 160/1000 [00:14<01:15, 11.18it/s]\u001b[A"
     ]
    },
    {
     "name": "stdout",
     "output_type": "stream",
     "text": [
      "0.09293889999389648\n",
      "0.08533596992492676\n",
      "0.08957982063293457\n"
     ]
    },
    {
     "name": "stderr",
     "output_type": "stream",
     "text": [
      "\n",
      " 16%|██████▍                                 | 162/1000 [00:14<01:15, 11.16it/s]\u001b[A\n",
      " 16%|██████▌                                 | 164/1000 [00:14<01:14, 11.25it/s]\u001b[A"
     ]
    },
    {
     "name": "stdout",
     "output_type": "stream",
     "text": [
      "0.08894920349121094\n",
      "0.08892393112182617\n",
      "0.08434200286865234\n"
     ]
    },
    {
     "name": "stderr",
     "output_type": "stream",
     "text": [
      "\n",
      " 17%|██████▋                                 | 166/1000 [00:14<01:14, 11.26it/s]\u001b[A"
     ]
    },
    {
     "name": "stdout",
     "output_type": "stream",
     "text": [
      "0.09093928337097168\n",
      "0.08494830131530762\n",
      "0.08941960334777832\n"
     ]
    },
    {
     "name": "stderr",
     "output_type": "stream",
     "text": [
      "\n",
      " 17%|██████▋                                 | 168/1000 [00:14<01:13, 11.25it/s]\u001b[A\n",
      " 17%|██████▊                                 | 170/1000 [00:15<01:13, 11.32it/s]\u001b[A"
     ]
    },
    {
     "name": "stdout",
     "output_type": "stream",
     "text": [
      "0.08795332908630371\n",
      "0.08797407150268555\n",
      "0.08504462242126465\n"
     ]
    },
    {
     "name": "stderr",
     "output_type": "stream",
     "text": [
      "\n",
      " 17%|██████▉                                 | 172/1000 [00:15<01:13, 11.25it/s]\u001b[A"
     ]
    },
    {
     "name": "stdout",
     "output_type": "stream",
     "text": [
      "0.0913698673248291\n",
      "0.08761286735534668\n",
      "0.09049153327941895\n"
     ]
    },
    {
     "name": "stderr",
     "output_type": "stream",
     "text": [
      "\n",
      " 17%|██████▉                                 | 174/1000 [00:15<01:13, 11.19it/s]\u001b[A\n",
      " 18%|███████                                 | 176/1000 [00:15<01:13, 11.26it/s]\u001b[A"
     ]
    },
    {
     "name": "stdout",
     "output_type": "stream",
     "text": [
      "0.08925962448120117\n",
      "0.0893392562866211\n",
      "0.08452773094177246\n"
     ]
    },
    {
     "name": "stderr",
     "output_type": "stream",
     "text": [
      "\n",
      " 18%|███████                                 | 178/1000 [00:15<01:12, 11.27it/s]\u001b[A"
     ]
    },
    {
     "name": "stdout",
     "output_type": "stream",
     "text": [
      "0.09164237976074219\n",
      "0.08435440063476562\n",
      "0.0895988941192627\n"
     ]
    },
    {
     "name": "stderr",
     "output_type": "stream",
     "text": [
      "\n",
      " 18%|███████▏                                | 180/1000 [00:16<01:13, 11.23it/s]\u001b[A\n",
      " 18%|███████▎                                | 182/1000 [00:16<01:12, 11.25it/s]\u001b[A"
     ]
    },
    {
     "name": "stdout",
     "output_type": "stream",
     "text": [
      "0.08878421783447266\n",
      "0.0891730785369873\n",
      "0.08661246299743652\n"
     ]
    },
    {
     "name": "stderr",
     "output_type": "stream",
     "text": [
      "\n",
      " 18%|███████▎                                | 184/1000 [00:16<01:12, 11.20it/s]\u001b[A"
     ]
    },
    {
     "name": "stdout",
     "output_type": "stream",
     "text": [
      "0.092803955078125\n",
      "0.08634233474731445\n",
      "0.08857107162475586\n"
     ]
    },
    {
     "name": "stderr",
     "output_type": "stream",
     "text": [
      "\n",
      " 19%|███████▍                                | 186/1000 [00:16<01:12, 11.16it/s]\u001b[A\n",
      " 19%|███████▌                                | 188/1000 [00:16<01:12, 11.20it/s]\u001b[A"
     ]
    },
    {
     "name": "stdout",
     "output_type": "stream",
     "text": [
      "0.09084272384643555\n",
      "0.08936762809753418\n",
      "0.08647012710571289\n"
     ]
    },
    {
     "name": "stderr",
     "output_type": "stream",
     "text": [
      "\n",
      " 19%|███████▌                                | 190/1000 [00:16<01:12, 11.18it/s]\u001b[A"
     ]
    },
    {
     "name": "stdout",
     "output_type": "stream",
     "text": [
      "0.09245800971984863\n",
      "0.08588218688964844\n",
      "0.09238672256469727\n"
     ]
    },
    {
     "name": "stderr",
     "output_type": "stream",
     "text": [
      "\n",
      " 19%|███████▋                                | 192/1000 [00:17<01:12, 11.09it/s]\u001b[A\n",
      " 19%|███████▊                                | 194/1000 [00:17<01:12, 11.17it/s]\u001b[A"
     ]
    },
    {
     "name": "stdout",
     "output_type": "stream",
     "text": [
      "0.08999872207641602\n",
      "0.08886408805847168\n",
      "0.08629703521728516\n"
     ]
    },
    {
     "name": "stderr",
     "output_type": "stream",
     "text": [
      "\n",
      " 20%|███████▊                                | 196/1000 [00:17<01:11, 11.18it/s]\u001b[A"
     ]
    },
    {
     "name": "stdout",
     "output_type": "stream",
     "text": [
      "0.09168815612792969\n",
      "0.08581399917602539\n",
      "0.0912466049194336\n"
     ]
    },
    {
     "name": "stderr",
     "output_type": "stream",
     "text": [
      "\n",
      " 20%|███████▉                                | 198/1000 [00:17<01:12, 11.12it/s]\u001b[A\n",
      " 20%|████████                                | 200/1000 [00:17<01:11, 11.22it/s]\u001b[A"
     ]
    },
    {
     "name": "stdout",
     "output_type": "stream",
     "text": [
      "0.08989262580871582\n",
      "0.08828115463256836\n",
      "0.08499789237976074\n"
     ]
    },
    {
     "name": "stderr",
     "output_type": "stream",
     "text": [
      "\n",
      " 20%|████████                                | 202/1000 [00:18<01:10, 11.24it/s]\u001b[A"
     ]
    },
    {
     "name": "stdout",
     "output_type": "stream",
     "text": [
      "0.09043312072753906\n",
      "0.08570456504821777\n",
      "0.09098196029663086\n"
     ]
    },
    {
     "name": "stderr",
     "output_type": "stream",
     "text": [
      "\n",
      " 20%|████████▏                               | 204/1000 [00:18<01:11, 11.17it/s]\u001b[A\n",
      " 21%|████████▏                               | 206/1000 [00:18<01:11, 11.16it/s]\u001b[A"
     ]
    },
    {
     "name": "stdout",
     "output_type": "stream",
     "text": [
      "0.08978652954101562\n",
      "0.09256601333618164\n",
      "0.08594679832458496\n"
     ]
    },
    {
     "name": "stderr",
     "output_type": "stream",
     "text": [
      "\n",
      " 21%|████████▎                               | 208/1000 [00:18<01:10, 11.18it/s]\u001b[A"
     ]
    },
    {
     "name": "stdout",
     "output_type": "stream",
     "text": [
      "0.09165334701538086\n",
      "0.08509969711303711\n",
      "0.08825492858886719\n"
     ]
    },
    {
     "name": "stderr",
     "output_type": "stream",
     "text": [
      "\n",
      " 21%|████████▍                               | 210/1000 [00:18<01:10, 11.21it/s]\u001b[A\n",
      " 21%|████████▍                               | 212/1000 [00:18<01:10, 11.24it/s]\u001b[A"
     ]
    },
    {
     "name": "stdout",
     "output_type": "stream",
     "text": [
      "0.08799028396606445\n",
      "0.08994317054748535\n",
      "0.08546233177185059\n"
     ]
    },
    {
     "name": "stderr",
     "output_type": "stream",
     "text": [
      "\n",
      " 21%|████████▌                               | 214/1000 [00:19<01:09, 11.26it/s]\u001b[A"
     ]
    },
    {
     "name": "stdout",
     "output_type": "stream",
     "text": [
      "0.09071803092956543\n",
      "0.08528327941894531\n",
      "0.08869075775146484\n"
     ]
    },
    {
     "name": "stderr",
     "output_type": "stream",
     "text": [
      "\n",
      " 22%|████████▋                               | 216/1000 [00:19<01:09, 11.25it/s]\u001b[A\n",
      " 22%|████████▋                               | 218/1000 [00:19<01:09, 11.24it/s]\u001b[A"
     ]
    },
    {
     "name": "stdout",
     "output_type": "stream",
     "text": [
      "0.08836150169372559\n",
      "0.09046220779418945\n",
      "0.0866854190826416\n"
     ]
    },
    {
     "name": "stderr",
     "output_type": "stream",
     "text": [
      "\n",
      " 22%|████████▊                               | 220/1000 [00:19<01:09, 11.26it/s]\u001b[A"
     ]
    },
    {
     "name": "stdout",
     "output_type": "stream",
     "text": [
      "0.08987236022949219\n",
      "0.08610320091247559\n",
      "0.0898134708404541\n"
     ]
    },
    {
     "name": "stderr",
     "output_type": "stream",
     "text": [
      "\n",
      " 22%|████████▉                               | 222/1000 [00:19<01:09, 11.21it/s]\u001b[A\n",
      " 22%|████████▉                               | 224/1000 [00:19<01:09, 11.23it/s]\u001b[A"
     ]
    },
    {
     "name": "stdout",
     "output_type": "stream",
     "text": [
      "0.08903908729553223\n",
      "0.09042072296142578\n",
      "0.08596634864807129\n"
     ]
    },
    {
     "name": "stderr",
     "output_type": "stream",
     "text": [
      "\n",
      " 23%|█████████                               | 226/1000 [00:20<01:09, 11.07it/s]\u001b[A"
     ]
    },
    {
     "name": "stdout",
     "output_type": "stream",
     "text": [
      "0.09942078590393066\n",
      "0.08627438545227051\n",
      "0.08665585517883301\n"
     ]
    },
    {
     "name": "stderr",
     "output_type": "stream",
     "text": [
      "\n",
      " 23%|█████████                               | 228/1000 [00:20<01:09, 11.11it/s]\u001b[A\n",
      " 23%|█████████▏                              | 230/1000 [00:20<01:09, 11.14it/s]\u001b[A"
     ]
    },
    {
     "name": "stdout",
     "output_type": "stream",
     "text": [
      "0.09079909324645996\n",
      "0.0877370834350586\n",
      "0.08918142318725586\n"
     ]
    },
    {
     "name": "stderr",
     "output_type": "stream",
     "text": [
      "\n",
      " 23%|█████████▎                              | 232/1000 [00:20<01:09, 11.05it/s]\u001b[A"
     ]
    },
    {
     "name": "stdout",
     "output_type": "stream",
     "text": [
      "0.0901491641998291\n",
      "0.09308815002441406\n",
      "0.08885049819946289\n"
     ]
    },
    {
     "name": "stderr",
     "output_type": "stream",
     "text": [
      "\n",
      " 23%|█████████▎                              | 234/1000 [00:20<01:09, 11.08it/s]\u001b[A\n",
      " 24%|█████████▍                              | 236/1000 [00:21<01:08, 11.16it/s]\u001b[A"
     ]
    },
    {
     "name": "stdout",
     "output_type": "stream",
     "text": [
      "0.08842253684997559\n",
      "0.08875370025634766\n",
      "0.08639335632324219\n"
     ]
    },
    {
     "name": "stderr",
     "output_type": "stream",
     "text": [
      "\n",
      " 24%|█████████▌                              | 238/1000 [00:21<01:08, 11.20it/s]\u001b[A"
     ]
    },
    {
     "name": "stdout",
     "output_type": "stream",
     "text": [
      "0.08994817733764648\n",
      "0.08552050590515137\n",
      "0.08887887001037598\n"
     ]
    },
    {
     "name": "stderr",
     "output_type": "stream",
     "text": [
      "\n",
      " 24%|█████████▌                              | 240/1000 [00:21<01:07, 11.20it/s]\u001b[A\n",
      " 24%|█████████▋                              | 242/1000 [00:21<01:07, 11.25it/s]\u001b[A"
     ]
    },
    {
     "name": "stdout",
     "output_type": "stream",
     "text": [
      "0.08844900131225586\n",
      "0.08910942077636719\n",
      "0.08588767051696777\n"
     ]
    },
    {
     "name": "stderr",
     "output_type": "stream",
     "text": [
      "\n",
      " 24%|█████████▊                              | 244/1000 [00:21<01:07, 11.25it/s]\u001b[A"
     ]
    },
    {
     "name": "stdout",
     "output_type": "stream",
     "text": [
      "0.09076523780822754\n",
      "0.08565449714660645\n",
      "0.08921051025390625\n"
     ]
    },
    {
     "name": "stderr",
     "output_type": "stream",
     "text": [
      "\n",
      " 25%|█████████▊                              | 246/1000 [00:21<01:07, 11.24it/s]\u001b[A\n",
      " 25%|█████████▉                              | 248/1000 [00:22<01:06, 11.33it/s]\u001b[A"
     ]
    },
    {
     "name": "stdout",
     "output_type": "stream",
     "text": [
      "0.08805012702941895\n",
      "0.08658504486083984\n",
      "0.08562755584716797\n"
     ]
    },
    {
     "name": "stderr",
     "output_type": "stream",
     "text": [
      "\n",
      " 25%|██████████                              | 250/1000 [00:22<01:06, 11.31it/s]\u001b[A"
     ]
    },
    {
     "name": "stdout",
     "output_type": "stream",
     "text": [
      "0.09052300453186035\n",
      "0.08600354194641113\n",
      "0.09075403213500977\n"
     ]
    },
    {
     "name": "stderr",
     "output_type": "stream",
     "text": [
      "\n",
      " 25%|██████████                              | 252/1000 [00:22<01:06, 11.23it/s]\u001b[A\n",
      " 25%|██████████▏                             | 254/1000 [00:22<01:06, 11.25it/s]\u001b[A"
     ]
    },
    {
     "name": "stdout",
     "output_type": "stream",
     "text": [
      "0.08881354331970215\n",
      "0.08637642860412598\n",
      "0.08917617797851562\n"
     ]
    },
    {
     "name": "stderr",
     "output_type": "stream",
     "text": [
      "\n",
      " 26%|██████████▏                             | 256/1000 [00:22<01:05, 11.29it/s]\u001b[A"
     ]
    },
    {
     "name": "stdout",
     "output_type": "stream",
     "text": [
      "0.08951044082641602\n",
      "0.08493590354919434\n",
      "0.09043717384338379\n"
     ]
    },
    {
     "name": "stderr",
     "output_type": "stream",
     "text": [
      "\n",
      " 26%|██████████▎                             | 258/1000 [00:23<01:05, 11.26it/s]\u001b[A\n",
      " 26%|██████████▍                             | 260/1000 [00:23<01:05, 11.27it/s]\u001b[A"
     ]
    },
    {
     "name": "stdout",
     "output_type": "stream",
     "text": [
      "0.08736491203308105\n",
      "0.08977270126342773\n",
      "0.08591294288635254\n"
     ]
    },
    {
     "name": "stderr",
     "output_type": "stream",
     "text": [
      "\n",
      " 26%|██████████▍                             | 262/1000 [00:23<01:05, 11.29it/s]\u001b[A"
     ]
    },
    {
     "name": "stdout",
     "output_type": "stream",
     "text": [
      "0.09013700485229492\n",
      "0.08526015281677246\n",
      "0.09020233154296875\n"
     ]
    },
    {
     "name": "stderr",
     "output_type": "stream",
     "text": [
      "\n",
      " 26%|██████████▌                             | 264/1000 [00:23<01:05, 11.23it/s]\u001b[A\n",
      " 27%|██████████▋                             | 266/1000 [00:23<01:05, 11.23it/s]\u001b[A"
     ]
    },
    {
     "name": "stdout",
     "output_type": "stream",
     "text": [
      "0.0888817310333252\n",
      "0.09061884880065918\n",
      "0.0864095687866211\n"
     ]
    },
    {
     "name": "stderr",
     "output_type": "stream",
     "text": [
      "\n",
      " 27%|██████████▋                             | 268/1000 [00:23<01:05, 11.25it/s]\u001b[A"
     ]
    },
    {
     "name": "stdout",
     "output_type": "stream",
     "text": [
      "0.09015989303588867\n",
      "0.08513331413269043\n",
      "0.09011459350585938\n"
     ]
    },
    {
     "name": "stderr",
     "output_type": "stream",
     "text": [
      "\n",
      " 27%|██████████▊                             | 270/1000 [00:24<01:05, 11.21it/s]\u001b[A\n",
      " 27%|██████████▉                             | 272/1000 [00:24<01:04, 11.29it/s]\u001b[A"
     ]
    },
    {
     "name": "stdout",
     "output_type": "stream",
     "text": [
      "0.0885918140411377\n",
      "0.08727121353149414\n",
      "0.08609437942504883\n"
     ]
    },
    {
     "name": "stderr",
     "output_type": "stream",
     "text": [
      "\n",
      " 27%|██████████▉                             | 274/1000 [00:24<01:04, 11.28it/s]\u001b[A"
     ]
    },
    {
     "name": "stdout",
     "output_type": "stream",
     "text": [
      "0.0908823013305664\n",
      "0.0856778621673584\n",
      "0.09062457084655762\n"
     ]
    },
    {
     "name": "stderr",
     "output_type": "stream",
     "text": [
      "\n",
      " 28%|███████████                             | 276/1000 [00:24<01:04, 11.22it/s]\u001b[A\n",
      " 28%|███████████                             | 278/1000 [00:24<01:03, 11.29it/s]\u001b[A"
     ]
    },
    {
     "name": "stdout",
     "output_type": "stream",
     "text": [
      "0.08869504928588867\n",
      "0.08781695365905762\n",
      "0.08540987968444824\n"
     ]
    },
    {
     "name": "stderr",
     "output_type": "stream",
     "text": [
      "\n",
      " 28%|███████████▏                            | 280/1000 [00:24<01:03, 11.27it/s]\u001b[A"
     ]
    },
    {
     "name": "stdout",
     "output_type": "stream",
     "text": [
      "0.09082889556884766\n",
      "0.08629989624023438\n",
      "0.09084033966064453\n"
     ]
    },
    {
     "name": "stderr",
     "output_type": "stream",
     "text": [
      "\n",
      " 28%|███████████▎                            | 282/1000 [00:25<01:04, 11.18it/s]\u001b[A\n",
      " 28%|███████████▎                            | 284/1000 [00:25<01:04, 11.04it/s]\u001b[A"
     ]
    },
    {
     "name": "stdout",
     "output_type": "stream",
     "text": [
      "0.09019136428833008\n",
      "0.0942223072052002\n",
      "0.09092569351196289\n"
     ]
    },
    {
     "name": "stderr",
     "output_type": "stream",
     "text": [
      "\n",
      " 29%|███████████▍                            | 286/1000 [00:25<01:04, 11.12it/s]\u001b[A"
     ]
    },
    {
     "name": "stdout",
     "output_type": "stream",
     "text": [
      "0.0895845890045166\n",
      "0.08604907989501953\n",
      "0.09018683433532715\n"
     ]
    },
    {
     "name": "stderr",
     "output_type": "stream",
     "text": [
      "\n",
      " 29%|███████████▌                            | 288/1000 [00:25<01:04, 11.11it/s]\u001b[A\n",
      " 29%|███████████▌                            | 290/1000 [00:25<01:03, 11.16it/s]\u001b[A"
     ]
    },
    {
     "name": "stdout",
     "output_type": "stream",
     "text": [
      "0.0890192985534668\n",
      "0.09058499336242676\n",
      "0.085540771484375\n"
     ]
    },
    {
     "name": "stderr",
     "output_type": "stream",
     "text": [
      "\n",
      " 29%|███████████▋                            | 292/1000 [00:26<01:03, 11.19it/s]\u001b[A"
     ]
    },
    {
     "name": "stdout",
     "output_type": "stream",
     "text": [
      "0.09158015251159668\n",
      "0.08467411994934082\n",
      "0.09136056900024414\n"
     ]
    },
    {
     "name": "stderr",
     "output_type": "stream",
     "text": [
      "\n",
      " 29%|███████████▊                            | 294/1000 [00:26<01:03, 11.14it/s]\u001b[A\n",
      " 30%|███████████▊                            | 296/1000 [00:26<01:03, 11.16it/s]\u001b[A"
     ]
    },
    {
     "name": "stdout",
     "output_type": "stream",
     "text": [
      "0.0892179012298584\n",
      "0.09135103225708008\n",
      "0.08569717407226562\n"
     ]
    },
    {
     "name": "stderr",
     "output_type": "stream",
     "text": [
      "\n",
      " 30%|███████████▉                            | 298/1000 [00:26<01:02, 11.16it/s]\u001b[A"
     ]
    },
    {
     "name": "stdout",
     "output_type": "stream",
     "text": [
      "0.0927891731262207\n",
      "0.08500909805297852\n",
      "0.0894620418548584\n"
     ]
    },
    {
     "name": "stderr",
     "output_type": "stream",
     "text": [
      "\n",
      " 30%|████████████                            | 300/1000 [00:26<01:02, 11.16it/s]\u001b[A\n",
      " 30%|████████████                            | 302/1000 [00:26<01:02, 11.25it/s]\u001b[A"
     ]
    },
    {
     "name": "stdout",
     "output_type": "stream",
     "text": [
      "0.08880901336669922\n",
      "0.08794522285461426\n",
      "0.08504080772399902\n"
     ]
    },
    {
     "name": "stderr",
     "output_type": "stream",
     "text": [
      "\n",
      " 30%|████████████▏                           | 304/1000 [00:27<01:01, 11.27it/s]\u001b[A"
     ]
    },
    {
     "name": "stdout",
     "output_type": "stream",
     "text": [
      "0.09123706817626953\n",
      "0.08474302291870117\n",
      "0.09134864807128906\n"
     ]
    },
    {
     "name": "stderr",
     "output_type": "stream",
     "text": [
      "\n",
      " 31%|████████████▏                           | 306/1000 [00:27<01:02, 11.15it/s]\u001b[A\n",
      " 31%|████████████▎                           | 308/1000 [00:27<01:01, 11.20it/s]\u001b[A"
     ]
    },
    {
     "name": "stdout",
     "output_type": "stream",
     "text": [
      "0.09122610092163086\n",
      "0.08878588676452637\n",
      "0.08684921264648438\n"
     ]
    },
    {
     "name": "stderr",
     "output_type": "stream",
     "text": [
      "\n",
      " 31%|████████████▍                           | 310/1000 [00:27<01:01, 11.19it/s]\u001b[A"
     ]
    },
    {
     "name": "stdout",
     "output_type": "stream",
     "text": [
      "0.09124469757080078\n",
      "0.08640456199645996\n",
      "0.09046053886413574\n"
     ]
    },
    {
     "name": "stderr",
     "output_type": "stream",
     "text": [
      "\n",
      " 31%|████████████▍                           | 312/1000 [00:27<01:01, 11.15it/s]\u001b[A\n",
      " 31%|████████████▌                           | 314/1000 [00:28<01:01, 11.20it/s]\u001b[A"
     ]
    },
    {
     "name": "stdout",
     "output_type": "stream",
     "text": [
      "0.08892488479614258\n",
      "0.0898752212524414\n",
      "0.08560705184936523\n"
     ]
    },
    {
     "name": "stderr",
     "output_type": "stream",
     "text": [
      "\n",
      " 32%|████████████▋                           | 316/1000 [00:28<01:01, 11.21it/s]\u001b[A"
     ]
    },
    {
     "name": "stdout",
     "output_type": "stream",
     "text": [
      "0.09169387817382812\n",
      "0.08525872230529785\n",
      "0.09158086776733398\n"
     ]
    },
    {
     "name": "stderr",
     "output_type": "stream",
     "text": [
      "\n",
      " 32%|████████████▋                           | 318/1000 [00:28<01:01, 11.16it/s]\u001b[A\n",
      " 32%|████████████▊                           | 320/1000 [00:28<01:00, 11.22it/s]\u001b[A"
     ]
    },
    {
     "name": "stdout",
     "output_type": "stream",
     "text": [
      "0.08852338790893555\n",
      "0.08935284614562988\n",
      "0.0852515697479248\n"
     ]
    },
    {
     "name": "stderr",
     "output_type": "stream",
     "text": [
      "\n",
      " 32%|████████████▉                           | 322/1000 [00:28<01:00, 11.22it/s]\u001b[A"
     ]
    },
    {
     "name": "stdout",
     "output_type": "stream",
     "text": [
      "0.09192276000976562\n",
      "0.08493566513061523\n",
      "0.09120345115661621\n"
     ]
    },
    {
     "name": "stderr",
     "output_type": "stream",
     "text": [
      "\n",
      " 32%|████████████▉                           | 324/1000 [00:28<01:00, 11.16it/s]\u001b[A\n",
      " 33%|█████████████                           | 326/1000 [00:29<01:00, 11.08it/s]\u001b[A"
     ]
    },
    {
     "name": "stdout",
     "output_type": "stream",
     "text": [
      "0.08899927139282227\n",
      "0.09773945808410645\n",
      "0.08468294143676758\n"
     ]
    },
    {
     "name": "stderr",
     "output_type": "stream",
     "text": [
      "\n",
      " 33%|█████████████                           | 328/1000 [00:29<01:00, 11.17it/s]\u001b[A"
     ]
    },
    {
     "name": "stdout",
     "output_type": "stream",
     "text": [
      "0.08954119682312012\n",
      "0.08503198623657227\n",
      "0.09181022644042969\n"
     ]
    },
    {
     "name": "stderr",
     "output_type": "stream",
     "text": [
      "\n",
      " 33%|█████████████▏                          | 330/1000 [00:29<01:00, 11.10it/s]\u001b[A\n",
      " 33%|█████████████▎                          | 332/1000 [00:29<00:59, 11.16it/s]\u001b[A"
     ]
    },
    {
     "name": "stdout",
     "output_type": "stream",
     "text": [
      "0.08985304832458496\n",
      "0.0911564826965332\n",
      "0.08445143699645996\n"
     ]
    },
    {
     "name": "stderr",
     "output_type": "stream",
     "text": [
      "\n",
      " 33%|█████████████▎                          | 334/1000 [00:29<00:59, 11.17it/s]\u001b[A"
     ]
    },
    {
     "name": "stdout",
     "output_type": "stream",
     "text": [
      "0.09245991706848145\n",
      "0.08529353141784668\n",
      "0.0894629955291748\n"
     ]
    },
    {
     "name": "stderr",
     "output_type": "stream",
     "text": [
      "\n",
      " 34%|█████████████▍                          | 336/1000 [00:29<00:59, 11.16it/s]\u001b[A\n",
      " 34%|█████████████▌                          | 338/1000 [00:30<00:59, 11.20it/s]\u001b[A"
     ]
    },
    {
     "name": "stdout",
     "output_type": "stream",
     "text": [
      "0.08864068984985352\n",
      "0.09046554565429688\n",
      "0.0857996940612793\n"
     ]
    },
    {
     "name": "stderr",
     "output_type": "stream",
     "text": [
      "\n",
      " 34%|█████████████▌                          | 340/1000 [00:30<00:58, 11.20it/s]\u001b[A"
     ]
    },
    {
     "name": "stdout",
     "output_type": "stream",
     "text": [
      "0.09191536903381348\n",
      "0.08549952507019043\n",
      "0.09181976318359375\n"
     ]
    },
    {
     "name": "stderr",
     "output_type": "stream",
     "text": [
      "\n",
      " 34%|█████████████▋                          | 342/1000 [00:30<00:59, 11.13it/s]\u001b[A\n",
      " 34%|█████████████▊                          | 344/1000 [00:30<00:58, 11.19it/s]\u001b[A"
     ]
    },
    {
     "name": "stdout",
     "output_type": "stream",
     "text": [
      "0.0889730453491211\n",
      "0.08964753150939941\n",
      "0.08565497398376465\n"
     ]
    },
    {
     "name": "stderr",
     "output_type": "stream",
     "text": [
      "\n",
      " 35%|█████████████▊                          | 346/1000 [00:30<00:58, 11.20it/s]\u001b[A"
     ]
    },
    {
     "name": "stdout",
     "output_type": "stream",
     "text": [
      "0.09228253364562988\n",
      "0.08485889434814453\n",
      "0.09090948104858398\n"
     ]
    },
    {
     "name": "stderr",
     "output_type": "stream",
     "text": [
      "\n",
      " 35%|█████████████▉                          | 348/1000 [00:31<00:58, 11.18it/s]\u001b[A\n",
      " 35%|██████████████                          | 350/1000 [00:31<00:57, 11.22it/s]\u001b[A"
     ]
    },
    {
     "name": "stdout",
     "output_type": "stream",
     "text": [
      "0.08791089057922363\n",
      "0.09109950065612793\n",
      "0.08458280563354492\n"
     ]
    },
    {
     "name": "stderr",
     "output_type": "stream",
     "text": [
      "\n",
      " 35%|██████████████                          | 352/1000 [00:31<00:57, 11.21it/s]\u001b[A"
     ]
    },
    {
     "name": "stdout",
     "output_type": "stream",
     "text": [
      "0.09183454513549805\n",
      "0.0854196548461914\n",
      "0.09097862243652344\n"
     ]
    },
    {
     "name": "stderr",
     "output_type": "stream",
     "text": [
      "\n",
      " 35%|██████████████▏                         | 354/1000 [00:31<00:57, 11.18it/s]\u001b[A\n",
      " 36%|██████████████▏                         | 356/1000 [00:31<00:57, 11.21it/s]\u001b[A"
     ]
    },
    {
     "name": "stdout",
     "output_type": "stream",
     "text": [
      "0.08785653114318848\n",
      "0.09123778343200684\n",
      "0.08471798896789551\n"
     ]
    },
    {
     "name": "stderr",
     "output_type": "stream",
     "text": [
      "\n",
      " 36%|██████████████▎                         | 358/1000 [00:31<00:57, 11.24it/s]\u001b[A"
     ]
    },
    {
     "name": "stdout",
     "output_type": "stream",
     "text": [
      "0.0907139778137207\n",
      "0.0851888656616211\n",
      "0.09042048454284668\n"
     ]
    },
    {
     "name": "stderr",
     "output_type": "stream",
     "text": [
      "\n",
      " 36%|██████████████▍                         | 360/1000 [00:32<00:57, 11.21it/s]\u001b[A\n",
      " 36%|██████████████▍                         | 362/1000 [00:32<00:56, 11.24it/s]\u001b[A"
     ]
    },
    {
     "name": "stdout",
     "output_type": "stream",
     "text": [
      "0.08796834945678711\n",
      "0.09076428413391113\n",
      "0.08490920066833496\n"
     ]
    },
    {
     "name": "stderr",
     "output_type": "stream",
     "text": [
      "\n",
      " 36%|██████████████▌                         | 364/1000 [00:32<00:56, 11.24it/s]\u001b[A"
     ]
    },
    {
     "name": "stdout",
     "output_type": "stream",
     "text": [
      "0.09116291999816895\n",
      "0.08568167686462402\n",
      "0.09021949768066406\n"
     ]
    },
    {
     "name": "stderr",
     "output_type": "stream",
     "text": [
      "\n",
      " 37%|██████████████▋                         | 366/1000 [00:32<00:56, 11.20it/s]\u001b[A\n",
      " 37%|██████████████▋                         | 368/1000 [00:32<00:56, 11.28it/s]\u001b[A"
     ]
    },
    {
     "name": "stdout",
     "output_type": "stream",
     "text": [
      "0.08849072456359863\n",
      "0.08866524696350098\n",
      "0.08460307121276855\n"
     ]
    },
    {
     "name": "stderr",
     "output_type": "stream",
     "text": [
      "\n",
      " 37%|██████████████▊                         | 370/1000 [00:33<00:55, 11.26it/s]\u001b[A"
     ]
    },
    {
     "name": "stdout",
     "output_type": "stream",
     "text": [
      "0.0920259952545166\n",
      "0.08542776107788086\n",
      "0.09202694892883301\n"
     ]
    },
    {
     "name": "stderr",
     "output_type": "stream",
     "text": [
      "\n",
      " 37%|██████████████▉                         | 372/1000 [00:33<00:56, 11.19it/s]\u001b[A\n",
      " 37%|██████████████▉                         | 374/1000 [00:33<00:55, 11.22it/s]\u001b[A"
     ]
    },
    {
     "name": "stdout",
     "output_type": "stream",
     "text": [
      "0.08798980712890625\n",
      "0.0912942886352539\n",
      "0.08452987670898438\n"
     ]
    },
    {
     "name": "stderr",
     "output_type": "stream",
     "text": [
      "\n",
      " 38%|███████████████                         | 376/1000 [00:33<00:55, 11.21it/s]\u001b[A"
     ]
    },
    {
     "name": "stdout",
     "output_type": "stream",
     "text": [
      "0.0926666259765625\n",
      "0.08502340316772461\n",
      "0.09025168418884277\n"
     ]
    },
    {
     "name": "stderr",
     "output_type": "stream",
     "text": [
      "\n",
      " 38%|███████████████                         | 378/1000 [00:33<00:55, 11.19it/s]\u001b[A\n",
      " 38%|███████████████▏                        | 380/1000 [00:33<00:55, 11.27it/s]\u001b[A"
     ]
    },
    {
     "name": "stdout",
     "output_type": "stream",
     "text": [
      "0.08832406997680664\n",
      "0.08815193176269531\n",
      "0.08521437644958496\n"
     ]
    },
    {
     "name": "stderr",
     "output_type": "stream",
     "text": [
      "\n",
      " 38%|███████████████▎                        | 382/1000 [00:34<00:54, 11.27it/s]\u001b[A"
     ]
    },
    {
     "name": "stdout",
     "output_type": "stream",
     "text": [
      "0.0908808708190918\n",
      "0.08553075790405273\n",
      "0.09186673164367676\n"
     ]
    },
    {
     "name": "stderr",
     "output_type": "stream",
     "text": [
      "\n",
      " 38%|███████████████▎                        | 384/1000 [00:34<00:55, 11.15it/s]\u001b[A\n",
      " 39%|███████████████▍                        | 386/1000 [00:34<00:54, 11.20it/s]\u001b[A"
     ]
    },
    {
     "name": "stdout",
     "output_type": "stream",
     "text": [
      "0.09058928489685059\n",
      "0.09055328369140625\n",
      "0.08511185646057129\n"
     ]
    },
    {
     "name": "stderr",
     "output_type": "stream",
     "text": [
      "\n",
      " 39%|███████████████▌                        | 388/1000 [00:34<00:54, 11.21it/s]\u001b[A"
     ]
    },
    {
     "name": "stdout",
     "output_type": "stream",
     "text": [
      "0.09156060218811035\n",
      "0.08505702018737793\n",
      "0.08999967575073242\n"
     ]
    },
    {
     "name": "stderr",
     "output_type": "stream",
     "text": [
      "\n",
      " 39%|███████████████▌                        | 390/1000 [00:34<00:54, 11.21it/s]\u001b[A\n",
      " 39%|███████████████▋                        | 392/1000 [00:34<00:53, 11.27it/s]\u001b[A"
     ]
    },
    {
     "name": "stdout",
     "output_type": "stream",
     "text": [
      "0.08750700950622559\n",
      "0.08947372436523438\n",
      "0.08470749855041504\n"
     ]
    },
    {
     "name": "stderr",
     "output_type": "stream",
     "text": [
      "\n",
      " 39%|███████████████▊                        | 394/1000 [00:35<00:53, 11.26it/s]\u001b[A"
     ]
    },
    {
     "name": "stdout",
     "output_type": "stream",
     "text": [
      "0.09135317802429199\n",
      "0.0854794979095459\n",
      "0.08897852897644043\n"
     ]
    },
    {
     "name": "stderr",
     "output_type": "stream",
     "text": [
      "\n",
      " 40%|███████████████▊                        | 396/1000 [00:35<00:53, 11.26it/s]\u001b[A\n",
      " 40%|███████████████▉                        | 398/1000 [00:35<00:53, 11.23it/s]\u001b[A"
     ]
    },
    {
     "name": "stdout",
     "output_type": "stream",
     "text": [
      "0.08727383613586426\n",
      "0.09214949607849121\n",
      "0.08582234382629395\n"
     ]
    },
    {
     "name": "stderr",
     "output_type": "stream",
     "text": [
      "\n",
      " 40%|████████████████                        | 400/1000 [00:35<00:53, 11.23it/s]\u001b[A"
     ]
    },
    {
     "name": "stdout",
     "output_type": "stream",
     "text": [
      "0.09180545806884766\n",
      "0.08507752418518066\n",
      "0.0901486873626709\n"
     ]
    },
    {
     "name": "stderr",
     "output_type": "stream",
     "text": [
      "\n",
      " 40%|████████████████                        | 402/1000 [00:35<00:53, 11.21it/s]\u001b[A\n",
      " 40%|████████████████▏                       | 404/1000 [00:36<00:52, 11.26it/s]\u001b[A"
     ]
    },
    {
     "name": "stdout",
     "output_type": "stream",
     "text": [
      "0.08779168128967285\n",
      "0.09023380279541016\n",
      "0.08437085151672363\n"
     ]
    },
    {
     "name": "stderr",
     "output_type": "stream",
     "text": [
      "\n",
      " 41%|████████████████▏                       | 406/1000 [00:36<00:52, 11.25it/s]\u001b[A"
     ]
    },
    {
     "name": "stdout",
     "output_type": "stream",
     "text": [
      "0.0920412540435791\n",
      "0.08507895469665527\n",
      "0.08927226066589355\n"
     ]
    },
    {
     "name": "stderr",
     "output_type": "stream",
     "text": [
      "\n",
      " 41%|████████████████▎                       | 408/1000 [00:36<00:52, 11.23it/s]\u001b[A\n",
      " 41%|████████████████▍                       | 410/1000 [00:36<00:52, 11.28it/s]\u001b[A"
     ]
    },
    {
     "name": "stdout",
     "output_type": "stream",
     "text": [
      "0.0883638858795166\n",
      "0.08971095085144043\n",
      "0.08460688591003418\n"
     ]
    },
    {
     "name": "stderr",
     "output_type": "stream",
     "text": [
      "\n",
      " 41%|████████████████▍                       | 412/1000 [00:36<00:52, 11.24it/s]\u001b[A"
     ]
    },
    {
     "name": "stdout",
     "output_type": "stream",
     "text": [
      "0.0917348861694336\n",
      "0.08654451370239258\n",
      "0.09425997734069824\n"
     ]
    },
    {
     "name": "stderr",
     "output_type": "stream",
     "text": [
      "\n",
      " 41%|████████████████▌                       | 414/1000 [00:36<00:52, 11.10it/s]\u001b[A\n",
      " 42%|████████████████▋                       | 416/1000 [00:37<00:52, 11.19it/s]\u001b[A"
     ]
    },
    {
     "name": "stdout",
     "output_type": "stream",
     "text": [
      "0.08969807624816895\n",
      "0.08837461471557617\n",
      "0.0854790210723877\n"
     ]
    },
    {
     "name": "stderr",
     "output_type": "stream",
     "text": [
      "\n",
      " 42%|████████████████▋                       | 418/1000 [00:37<00:51, 11.22it/s]\u001b[A"
     ]
    },
    {
     "name": "stdout",
     "output_type": "stream",
     "text": [
      "0.09131240844726562\n",
      "0.08478283882141113\n",
      "0.09068679809570312\n"
     ]
    },
    {
     "name": "stderr",
     "output_type": "stream",
     "text": [
      "\n",
      " 42%|████████████████▊                       | 420/1000 [00:37<00:52, 11.14it/s]\u001b[A\n",
      " 42%|████████████████▉                       | 422/1000 [00:37<00:51, 11.19it/s]\u001b[A"
     ]
    },
    {
     "name": "stdout",
     "output_type": "stream",
     "text": [
      "0.0901648998260498\n",
      "0.09042763710021973\n",
      "0.08516240119934082\n"
     ]
    },
    {
     "name": "stderr",
     "output_type": "stream",
     "text": [
      "\n",
      " 42%|████████████████▉                       | 424/1000 [00:37<00:51, 11.20it/s]\u001b[A"
     ]
    },
    {
     "name": "stdout",
     "output_type": "stream",
     "text": [
      "0.09141778945922852\n",
      "0.08546781539916992\n",
      "0.09911274909973145\n"
     ]
    },
    {
     "name": "stderr",
     "output_type": "stream",
     "text": [
      "\n",
      " 43%|█████████████████                       | 426/1000 [00:38<00:52, 11.00it/s]\u001b[A\n",
      " 43%|█████████████████                       | 428/1000 [00:38<00:51, 11.11it/s]\u001b[A"
     ]
    },
    {
     "name": "stdout",
     "output_type": "stream",
     "text": [
      "0.08925151824951172\n",
      "0.08900046348571777\n",
      "0.08573269844055176\n"
     ]
    },
    {
     "name": "stderr",
     "output_type": "stream",
     "text": [
      "\n",
      " 43%|█████████████████▏                      | 430/1000 [00:38<00:51, 11.12it/s]\u001b[A"
     ]
    },
    {
     "name": "stdout",
     "output_type": "stream",
     "text": [
      "0.09187650680541992\n",
      "0.0863347053527832\n",
      "0.08975028991699219\n"
     ]
    },
    {
     "name": "stderr",
     "output_type": "stream",
     "text": [
      "\n",
      " 43%|█████████████████▎                      | 432/1000 [00:38<00:51, 11.10it/s]\u001b[A\n",
      " 43%|█████████████████▎                      | 434/1000 [00:38<00:50, 11.17it/s]\u001b[A"
     ]
    },
    {
     "name": "stdout",
     "output_type": "stream",
     "text": [
      "0.09018397331237793\n",
      "0.0885000228881836\n",
      "0.08668899536132812\n"
     ]
    },
    {
     "name": "stderr",
     "output_type": "stream",
     "text": [
      "\n",
      " 44%|█████████████████▍                      | 436/1000 [00:38<00:50, 11.16it/s]\u001b[A"
     ]
    },
    {
     "name": "stdout",
     "output_type": "stream",
     "text": [
      "0.09307217597961426\n",
      "0.08527898788452148\n",
      "0.09141993522644043\n"
     ]
    },
    {
     "name": "stderr",
     "output_type": "stream",
     "text": [
      "\n",
      " 44%|█████████████████▌                      | 438/1000 [00:39<00:50, 11.12it/s]\u001b[A\n",
      " 44%|█████████████████▌                      | 440/1000 [00:39<00:50, 11.14it/s]\u001b[A"
     ]
    },
    {
     "name": "stdout",
     "output_type": "stream",
     "text": [
      "0.08849310874938965\n",
      "0.09053492546081543\n",
      "0.08712029457092285\n"
     ]
    },
    {
     "name": "stderr",
     "output_type": "stream",
     "text": [
      "\n",
      " 44%|█████████████████▋                      | 442/1000 [00:39<00:50, 11.14it/s]\u001b[A"
     ]
    },
    {
     "name": "stdout",
     "output_type": "stream",
     "text": [
      "0.09198379516601562\n",
      "0.08617210388183594\n",
      "0.09007692337036133\n"
     ]
    },
    {
     "name": "stderr",
     "output_type": "stream",
     "text": [
      "\n",
      " 44%|█████████████████▊                      | 444/1000 [00:39<00:50, 11.12it/s]\u001b[A\n",
      " 45%|█████████████████▊                      | 446/1000 [00:39<00:49, 11.15it/s]\u001b[A"
     ]
    },
    {
     "name": "stdout",
     "output_type": "stream",
     "text": [
      "0.08917522430419922\n",
      "0.09048008918762207\n",
      "0.08644676208496094\n"
     ]
    },
    {
     "name": "stderr",
     "output_type": "stream",
     "text": [
      "\n",
      " 45%|█████████████████▉                      | 448/1000 [00:39<00:49, 11.16it/s]\u001b[A"
     ]
    },
    {
     "name": "stdout",
     "output_type": "stream",
     "text": [
      "0.09169650077819824\n",
      "0.08557939529418945\n",
      "0.08922767639160156\n"
     ]
    },
    {
     "name": "stderr",
     "output_type": "stream",
     "text": [
      "\n",
      " 45%|██████████████████                      | 450/1000 [00:40<00:49, 11.15it/s]\u001b[A"
     ]
    },
    {
     "name": "stdout",
     "output_type": "stream",
     "text": [
      "0.0890505313873291\n",
      "0.08944177627563477\n"
     ]
    },
    {
     "name": "stderr",
     "output_type": "stream",
     "text": [
      "\n",
      " 45%|██████████████████                      | 452/1000 [00:40<01:01,  8.88it/s]\u001b[A\n",
      " 45%|██████████████████▏                     | 454/1000 [00:40<00:57,  9.49it/s]\u001b[A"
     ]
    },
    {
     "name": "stdout",
     "output_type": "stream",
     "text": [
      "0.24120593070983887\n",
      "0.0903010368347168\n",
      "0.0856313705444336\n"
     ]
    },
    {
     "name": "stderr",
     "output_type": "stream",
     "text": [
      "\n",
      " 46%|██████████████████▏                     | 456/1000 [00:40<00:54,  9.94it/s]\u001b[A"
     ]
    },
    {
     "name": "stdout",
     "output_type": "stream",
     "text": [
      "0.09268903732299805\n",
      "0.08482503890991211\n",
      "0.08939909934997559\n"
     ]
    },
    {
     "name": "stderr",
     "output_type": "stream",
     "text": [
      "\n",
      " 46%|██████████████████▎                     | 458/1000 [00:41<00:52, 10.27it/s]\u001b[A\n",
      " 46%|██████████████████▍                     | 460/1000 [00:41<00:51, 10.57it/s]\u001b[A"
     ]
    },
    {
     "name": "stdout",
     "output_type": "stream",
     "text": [
      "0.08850932121276855\n",
      "0.08890724182128906\n",
      "0.0861196517944336\n"
     ]
    },
    {
     "name": "stderr",
     "output_type": "stream",
     "text": [
      "\n",
      " 46%|██████████████████▍                     | 462/1000 [00:41<00:50, 10.73it/s]\u001b[A"
     ]
    },
    {
     "name": "stdout",
     "output_type": "stream",
     "text": [
      "0.09284090995788574\n",
      "0.08535170555114746\n",
      "0.08857059478759766\n"
     ]
    },
    {
     "name": "stderr",
     "output_type": "stream",
     "text": [
      "\n",
      " 46%|██████████████████▌                     | 464/1000 [00:41<00:49, 10.87it/s]\u001b[A\n",
      " 47%|██████████████████▋                     | 466/1000 [00:41<00:48, 10.98it/s]\u001b[A"
     ]
    },
    {
     "name": "stdout",
     "output_type": "stream",
     "text": [
      "0.08834004402160645\n",
      "0.08920764923095703\n",
      "0.08732771873474121\n"
     ]
    },
    {
     "name": "stderr",
     "output_type": "stream",
     "text": [
      "\n",
      " 47%|██████████████████▋                     | 468/1000 [00:41<00:48, 11.03it/s]\u001b[A"
     ]
    },
    {
     "name": "stdout",
     "output_type": "stream",
     "text": [
      "0.0925905704498291\n",
      "0.08495664596557617\n",
      "0.08927059173583984\n"
     ]
    },
    {
     "name": "stderr",
     "output_type": "stream",
     "text": [
      "\n",
      " 47%|██████████████████▊                     | 470/1000 [00:42<00:47, 11.07it/s]\u001b[A\n",
      " 47%|██████████████████▉                     | 472/1000 [00:42<00:47, 11.11it/s]\u001b[A"
     ]
    },
    {
     "name": "stdout",
     "output_type": "stream",
     "text": [
      "0.08857965469360352\n",
      "0.09096908569335938\n",
      "0.08588600158691406\n"
     ]
    },
    {
     "name": "stderr",
     "output_type": "stream",
     "text": [
      "\n",
      " 47%|██████████████████▉                     | 474/1000 [00:42<00:47, 11.12it/s]\u001b[A"
     ]
    },
    {
     "name": "stdout",
     "output_type": "stream",
     "text": [
      "0.09193563461303711\n",
      "0.0859529972076416\n",
      "0.08935546875\n"
     ]
    },
    {
     "name": "stderr",
     "output_type": "stream",
     "text": [
      "\n",
      " 48%|███████████████████                     | 476/1000 [00:42<00:47, 11.14it/s]\u001b[A\n",
      " 48%|███████████████████                     | 478/1000 [00:42<00:46, 11.22it/s]\u001b[A"
     ]
    },
    {
     "name": "stdout",
     "output_type": "stream",
     "text": [
      "0.08806681632995605\n",
      "0.08785343170166016\n",
      "0.08541154861450195\n"
     ]
    },
    {
     "name": "stderr",
     "output_type": "stream",
     "text": [
      "\n",
      " 48%|███████████████████▏                    | 480/1000 [00:42<00:46, 11.20it/s]\u001b[A"
     ]
    },
    {
     "name": "stdout",
     "output_type": "stream",
     "text": [
      "0.09202384948730469\n",
      "0.08566784858703613\n",
      "0.09090304374694824\n"
     ]
    },
    {
     "name": "stderr",
     "output_type": "stream",
     "text": [
      "\n",
      " 48%|███████████████████▎                    | 482/1000 [00:43<00:46, 11.15it/s]\u001b[A\n",
      " 48%|███████████████████▎                    | 484/1000 [00:43<00:45, 11.24it/s]\u001b[A"
     ]
    },
    {
     "name": "stdout",
     "output_type": "stream",
     "text": [
      "0.08883428573608398\n",
      "0.08742833137512207\n",
      "0.08557677268981934\n"
     ]
    },
    {
     "name": "stderr",
     "output_type": "stream",
     "text": [
      "\n",
      " 49%|███████████████████▍                    | 486/1000 [00:43<00:45, 11.23it/s]\u001b[A"
     ]
    },
    {
     "name": "stdout",
     "output_type": "stream",
     "text": [
      "0.09201455116271973\n",
      "0.08517813682556152\n",
      "0.09086060523986816\n"
     ]
    },
    {
     "name": "stderr",
     "output_type": "stream",
     "text": [
      "\n",
      " 49%|███████████████████▌                    | 488/1000 [00:43<00:45, 11.17it/s]\u001b[A\n",
      " 49%|███████████████████▌                    | 490/1000 [00:43<00:45, 11.24it/s]\u001b[A"
     ]
    },
    {
     "name": "stdout",
     "output_type": "stream",
     "text": [
      "0.08874917030334473\n",
      "0.08808183670043945\n",
      "0.08543539047241211\n"
     ]
    },
    {
     "name": "stderr",
     "output_type": "stream",
     "text": [
      "\n",
      " 49%|███████████████████▋                    | 492/1000 [00:44<00:45, 11.23it/s]\u001b[A"
     ]
    },
    {
     "name": "stdout",
     "output_type": "stream",
     "text": [
      "0.09171700477600098\n",
      "0.08532524108886719\n",
      "0.08922529220581055\n"
     ]
    },
    {
     "name": "stderr",
     "output_type": "stream",
     "text": [
      "\n",
      " 49%|███████████████████▊                    | 494/1000 [00:44<00:45, 11.21it/s]\u001b[A\n",
      " 50%|███████████████████▊                    | 496/1000 [00:44<00:44, 11.28it/s]\u001b[A"
     ]
    },
    {
     "name": "stdout",
     "output_type": "stream",
     "text": [
      "0.0884397029876709\n",
      "0.0875089168548584\n",
      "0.08568882942199707\n"
     ]
    },
    {
     "name": "stderr",
     "output_type": "stream",
     "text": [
      "\n",
      " 50%|███████████████████▉                    | 498/1000 [00:44<00:44, 11.25it/s]\u001b[A"
     ]
    },
    {
     "name": "stdout",
     "output_type": "stream",
     "text": [
      "0.09244871139526367\n",
      "0.08500957489013672\n",
      "0.09031176567077637\n"
     ]
    },
    {
     "name": "stderr",
     "output_type": "stream",
     "text": [
      "\n",
      " 50%|████████████████████                    | 500/1000 [00:44<00:44, 11.19it/s]\u001b[A\n",
      " 50%|████████████████████                    | 502/1000 [00:44<00:44, 11.29it/s]\u001b[A"
     ]
    },
    {
     "name": "stdout",
     "output_type": "stream",
     "text": [
      "0.08914589881896973\n",
      "0.08713150024414062\n",
      "0.08510279655456543\n"
     ]
    },
    {
     "name": "stderr",
     "output_type": "stream",
     "text": [
      "\n",
      " 50%|████████████████████▏                   | 504/1000 [00:45<00:43, 11.29it/s]\u001b[A"
     ]
    },
    {
     "name": "stdout",
     "output_type": "stream",
     "text": [
      "0.09089827537536621\n",
      "0.08481144905090332\n",
      "0.09084486961364746\n"
     ]
    },
    {
     "name": "stderr",
     "output_type": "stream",
     "text": [
      "\n",
      " 51%|████████████████████▏                   | 506/1000 [00:45<00:44, 11.23it/s]\u001b[A\n",
      " 51%|████████████████████▎                   | 508/1000 [00:45<00:43, 11.23it/s]\u001b[A"
     ]
    },
    {
     "name": "stdout",
     "output_type": "stream",
     "text": [
      "0.08823871612548828\n",
      "0.08963751792907715\n",
      "0.08665275573730469\n"
     ]
    },
    {
     "name": "stderr",
     "output_type": "stream",
     "text": [
      "\n",
      " 51%|████████████████████▍                   | 510/1000 [00:45<00:43, 11.24it/s]\u001b[A"
     ]
    },
    {
     "name": "stdout",
     "output_type": "stream",
     "text": [
      "0.09114360809326172\n",
      "0.08519220352172852\n",
      "0.08800196647644043\n"
     ]
    },
    {
     "name": "stderr",
     "output_type": "stream",
     "text": [
      "\n",
      " 51%|████████████████████▍                   | 512/1000 [00:45<00:43, 11.26it/s]\u001b[A\n",
      " 51%|████████████████████▌                   | 514/1000 [00:46<00:42, 11.34it/s]\u001b[A"
     ]
    },
    {
     "name": "stdout",
     "output_type": "stream",
     "text": [
      "0.08761143684387207\n",
      "0.08653974533081055\n",
      "0.08531761169433594\n"
     ]
    },
    {
     "name": "stderr",
     "output_type": "stream",
     "text": [
      "\n",
      " 52%|████████████████████▋                   | 516/1000 [00:46<00:42, 11.33it/s]\u001b[A"
     ]
    },
    {
     "name": "stdout",
     "output_type": "stream",
     "text": [
      "0.09051346778869629\n",
      "0.08489561080932617\n",
      "0.08805990219116211\n"
     ]
    },
    {
     "name": "stderr",
     "output_type": "stream",
     "text": [
      "\n",
      " 52%|████████████████████▋                   | 518/1000 [00:46<00:42, 11.32it/s]\u001b[A\n",
      " 52%|████████████████████▊                   | 520/1000 [00:46<00:42, 11.34it/s]\u001b[A"
     ]
    },
    {
     "name": "stdout",
     "output_type": "stream",
     "text": [
      "0.0879824161529541\n",
      "0.08822464942932129\n",
      "0.08584880828857422\n"
     ]
    },
    {
     "name": "stderr",
     "output_type": "stream",
     "text": [
      "\n",
      " 52%|████████████████████▉                   | 522/1000 [00:46<00:42, 11.34it/s]\u001b[A"
     ]
    },
    {
     "name": "stdout",
     "output_type": "stream",
     "text": [
      "0.09058380126953125\n",
      "0.08437395095825195\n",
      "0.08862161636352539\n"
     ]
    },
    {
     "name": "stderr",
     "output_type": "stream",
     "text": [
      "\n",
      " 52%|████████████████████▉                   | 524/1000 [00:46<00:42, 11.31it/s]\u001b[A\n",
      " 53%|█████████████████████                   | 526/1000 [00:47<00:41, 11.36it/s]\u001b[A"
     ]
    },
    {
     "name": "stdout",
     "output_type": "stream",
     "text": [
      "0.08793973922729492\n",
      "0.08827877044677734\n",
      "0.08492732048034668\n"
     ]
    },
    {
     "name": "stderr",
     "output_type": "stream",
     "text": [
      "\n",
      " 53%|█████████████████████                   | 528/1000 [00:47<00:42, 11.22it/s]\u001b[A"
     ]
    },
    {
     "name": "stdout",
     "output_type": "stream",
     "text": [
      "0.09745907783508301\n",
      "0.08464694023132324\n",
      "0.0895850658416748\n"
     ]
    },
    {
     "name": "stderr",
     "output_type": "stream",
     "text": [
      "\n",
      " 53%|█████████████████████▏                  | 530/1000 [00:47<00:41, 11.20it/s]\u001b[A\n",
      " 53%|█████████████████████▎                  | 532/1000 [00:47<00:41, 11.24it/s]\u001b[A"
     ]
    },
    {
     "name": "stdout",
     "output_type": "stream",
     "text": [
      "0.08830523490905762\n",
      "0.09014105796813965\n",
      "0.0852508544921875\n"
     ]
    },
    {
     "name": "stderr",
     "output_type": "stream",
     "text": [
      "\n",
      " 53%|█████████████████████▎                  | 534/1000 [00:47<00:41, 11.22it/s]\u001b[A"
     ]
    },
    {
     "name": "stdout",
     "output_type": "stream",
     "text": [
      "0.09256482124328613\n",
      "0.08521437644958496\n",
      "0.09127187728881836\n"
     ]
    },
    {
     "name": "stderr",
     "output_type": "stream",
     "text": [
      "\n",
      " 54%|█████████████████████▍                  | 536/1000 [00:47<00:41, 11.16it/s]\u001b[A\n",
      " 54%|█████████████████████▌                  | 538/1000 [00:48<00:41, 11.22it/s]\u001b[A"
     ]
    },
    {
     "name": "stdout",
     "output_type": "stream",
     "text": [
      "0.08882927894592285\n",
      "0.08878302574157715\n",
      "0.08561992645263672\n"
     ]
    },
    {
     "name": "stderr",
     "output_type": "stream",
     "text": [
      "\n",
      " 54%|█████████████████████▌                  | 540/1000 [00:48<00:40, 11.24it/s]\u001b[A"
     ]
    },
    {
     "name": "stdout",
     "output_type": "stream",
     "text": [
      "0.09095931053161621\n",
      "0.084869384765625\n",
      "0.09025955200195312\n"
     ]
    },
    {
     "name": "stderr",
     "output_type": "stream",
     "text": [
      "\n",
      " 54%|█████████████████████▋                  | 542/1000 [00:48<00:40, 11.20it/s]\u001b[A\n",
      " 54%|█████████████████████▊                  | 544/1000 [00:48<00:40, 11.26it/s]\u001b[A"
     ]
    },
    {
     "name": "stdout",
     "output_type": "stream",
     "text": [
      "0.08867621421813965\n",
      "0.08858919143676758\n",
      "0.085418701171875\n"
     ]
    },
    {
     "name": "stderr",
     "output_type": "stream",
     "text": [
      "\n",
      " 55%|█████████████████████▊                  | 546/1000 [00:48<00:40, 11.26it/s]\u001b[A"
     ]
    },
    {
     "name": "stdout",
     "output_type": "stream",
     "text": [
      "0.09076094627380371\n",
      "0.08523058891296387\n",
      "0.09028053283691406\n"
     ]
    },
    {
     "name": "stderr",
     "output_type": "stream",
     "text": [
      "\n",
      " 55%|█████████████████████▉                  | 548/1000 [00:49<00:40, 11.22it/s]\u001b[A\n",
      " 55%|██████████████████████                  | 550/1000 [00:49<00:39, 11.31it/s]\u001b[A"
     ]
    },
    {
     "name": "stdout",
     "output_type": "stream",
     "text": [
      "0.08842658996582031\n",
      "0.08684206008911133\n",
      "0.08548545837402344\n"
     ]
    },
    {
     "name": "stderr",
     "output_type": "stream",
     "text": [
      "\n",
      " 55%|██████████████████████                  | 552/1000 [00:49<00:39, 11.29it/s]\u001b[A"
     ]
    },
    {
     "name": "stdout",
     "output_type": "stream",
     "text": [
      "0.09085297584533691\n",
      "0.08553624153137207\n",
      "0.08951258659362793\n"
     ]
    },
    {
     "name": "stderr",
     "output_type": "stream",
     "text": [
      "\n",
      " 55%|██████████████████████▏                 | 554/1000 [00:49<00:39, 11.26it/s]\u001b[A\n",
      " 56%|██████████████████████▏                 | 556/1000 [00:49<00:39, 11.28it/s]\u001b[A"
     ]
    },
    {
     "name": "stdout",
     "output_type": "stream",
     "text": [
      "0.08835458755493164\n",
      "0.08939814567565918\n",
      "0.08586430549621582\n"
     ]
    },
    {
     "name": "stderr",
     "output_type": "stream",
     "text": [
      "\n",
      " 56%|██████████████████████▎                 | 558/1000 [00:49<00:39, 11.28it/s]\u001b[A"
     ]
    },
    {
     "name": "stdout",
     "output_type": "stream",
     "text": [
      "0.09091019630432129\n",
      "0.0848689079284668\n",
      "0.08944296836853027\n"
     ]
    },
    {
     "name": "stderr",
     "output_type": "stream",
     "text": [
      "\n",
      " 56%|██████████████████████▍                 | 560/1000 [00:50<00:39, 11.25it/s]\u001b[A\n",
      " 56%|██████████████████████▍                 | 562/1000 [00:50<00:38, 11.29it/s]\u001b[A"
     ]
    },
    {
     "name": "stdout",
     "output_type": "stream",
     "text": [
      "0.08823609352111816\n",
      "0.0886538028717041\n",
      "0.08600330352783203\n"
     ]
    },
    {
     "name": "stderr",
     "output_type": "stream",
     "text": [
      "\n",
      " 56%|██████████████████████▌                 | 564/1000 [00:50<00:38, 11.28it/s]\u001b[A"
     ]
    },
    {
     "name": "stdout",
     "output_type": "stream",
     "text": [
      "0.09066414833068848\n",
      "0.08553624153137207\n",
      "0.08920145034790039\n"
     ]
    },
    {
     "name": "stderr",
     "output_type": "stream",
     "text": [
      "\n",
      " 57%|██████████████████████▋                 | 566/1000 [00:50<00:38, 11.25it/s]\u001b[A\n",
      " 57%|██████████████████████▋                 | 568/1000 [00:50<00:38, 11.29it/s]\u001b[A"
     ]
    },
    {
     "name": "stdout",
     "output_type": "stream",
     "text": [
      "0.08852958679199219\n",
      "0.08858275413513184\n",
      "0.08566427230834961\n"
     ]
    },
    {
     "name": "stderr",
     "output_type": "stream",
     "text": [
      "\n",
      " 57%|██████████████████████▊                 | 570/1000 [00:50<00:38, 11.29it/s]\u001b[A"
     ]
    },
    {
     "name": "stdout",
     "output_type": "stream",
     "text": [
      "0.09109282493591309\n",
      "0.08509325981140137\n",
      "0.08828020095825195\n"
     ]
    },
    {
     "name": "stderr",
     "output_type": "stream",
     "text": [
      "\n",
      " 57%|██████████████████████▉                 | 572/1000 [00:51<00:37, 11.27it/s]\u001b[A\n",
      " 57%|██████████████████████▉                 | 574/1000 [00:51<00:37, 11.30it/s]\u001b[A"
     ]
    },
    {
     "name": "stdout",
     "output_type": "stream",
     "text": [
      "0.08857154846191406\n",
      "0.08886599540710449\n",
      "0.08576822280883789\n"
     ]
    },
    {
     "name": "stderr",
     "output_type": "stream",
     "text": [
      "\n",
      " 58%|███████████████████████                 | 576/1000 [00:51<00:37, 11.28it/s]\u001b[A"
     ]
    },
    {
     "name": "stdout",
     "output_type": "stream",
     "text": [
      "0.09118437767028809\n",
      "0.08568620681762695\n",
      "0.08921360969543457\n"
     ]
    },
    {
     "name": "stderr",
     "output_type": "stream",
     "text": [
      "\n",
      " 58%|███████████████████████                 | 578/1000 [00:51<00:37, 11.25it/s]\u001b[A\n",
      " 58%|███████████████████████▏                | 580/1000 [00:51<00:37, 11.27it/s]\u001b[A"
     ]
    },
    {
     "name": "stdout",
     "output_type": "stream",
     "text": [
      "0.08855843544006348\n",
      "0.08916854858398438\n",
      "0.08623600006103516\n"
     ]
    },
    {
     "name": "stderr",
     "output_type": "stream",
     "text": [
      "\n",
      " 58%|███████████████████████▎                | 582/1000 [00:52<00:37, 11.27it/s]\u001b[A"
     ]
    },
    {
     "name": "stdout",
     "output_type": "stream",
     "text": [
      "0.09096002578735352\n",
      "0.08514714241027832\n",
      "0.09074640274047852\n"
     ]
    },
    {
     "name": "stderr",
     "output_type": "stream",
     "text": [
      "\n",
      " 58%|███████████████████████▎                | 584/1000 [00:52<00:37, 11.20it/s]\u001b[A\n",
      " 59%|███████████████████████▍                | 586/1000 [00:52<00:36, 11.25it/s]\u001b[A"
     ]
    },
    {
     "name": "stdout",
     "output_type": "stream",
     "text": [
      "0.08923149108886719\n",
      "0.08864212036132812\n",
      "0.08615708351135254\n"
     ]
    },
    {
     "name": "stderr",
     "output_type": "stream",
     "text": [
      "\n",
      " 59%|███████████████████████▌                | 588/1000 [00:52<00:36, 11.24it/s]\u001b[A"
     ]
    },
    {
     "name": "stdout",
     "output_type": "stream",
     "text": [
      "0.0911107063293457\n",
      "0.08568263053894043\n",
      "0.09084606170654297\n"
     ]
    },
    {
     "name": "stderr",
     "output_type": "stream",
     "text": [
      "\n",
      " 59%|███████████████████████▌                | 590/1000 [00:52<00:36, 11.16it/s]\u001b[A\n",
      " 59%|███████████████████████▋                | 592/1000 [00:52<00:36, 11.19it/s]\u001b[A"
     ]
    },
    {
     "name": "stdout",
     "output_type": "stream",
     "text": [
      "0.08992266654968262\n",
      "0.09023118019104004\n",
      "0.08653378486633301\n"
     ]
    },
    {
     "name": "stderr",
     "output_type": "stream",
     "text": [
      "\n",
      " 59%|███████████████████████▊                | 594/1000 [00:53<00:36, 11.21it/s]\u001b[A"
     ]
    },
    {
     "name": "stdout",
     "output_type": "stream",
     "text": [
      "0.09118056297302246\n",
      "0.08539891242980957\n",
      "0.09021258354187012\n"
     ]
    },
    {
     "name": "stderr",
     "output_type": "stream",
     "text": [
      "\n",
      " 60%|███████████████████████▊                | 596/1000 [00:53<00:36, 11.18it/s]\u001b[A\n",
      " 60%|███████████████████████▉                | 598/1000 [00:53<00:35, 11.21it/s]\u001b[A"
     ]
    },
    {
     "name": "stdout",
     "output_type": "stream",
     "text": [
      "0.08866143226623535\n",
      "0.08856558799743652\n",
      "0.08761930465698242\n"
     ]
    },
    {
     "name": "stderr",
     "output_type": "stream",
     "text": [
      "\n",
      " 60%|████████████████████████                | 600/1000 [00:53<00:35, 11.22it/s]\u001b[A"
     ]
    },
    {
     "name": "stdout",
     "output_type": "stream",
     "text": [
      "0.09083199501037598\n",
      "0.08548378944396973\n",
      "0.08897590637207031\n"
     ]
    },
    {
     "name": "stderr",
     "output_type": "stream",
     "text": [
      "\n",
      " 60%|████████████████████████                | 602/1000 [00:53<00:35, 11.21it/s]\u001b[A\n",
      " 60%|████████████████████████▏               | 604/1000 [00:54<00:35, 11.24it/s]\u001b[A"
     ]
    },
    {
     "name": "stdout",
     "output_type": "stream",
     "text": [
      "0.08852601051330566\n",
      "0.0895545482635498\n",
      "0.08606529235839844\n"
     ]
    },
    {
     "name": "stderr",
     "output_type": "stream",
     "text": [
      "\n",
      " 61%|████████████████████████▏               | 606/1000 [00:54<00:35, 11.23it/s]\u001b[A"
     ]
    },
    {
     "name": "stdout",
     "output_type": "stream",
     "text": [
      "0.09148764610290527\n",
      "0.08588314056396484\n",
      "0.09042596817016602\n"
     ]
    },
    {
     "name": "stderr",
     "output_type": "stream",
     "text": [
      "\n",
      " 61%|████████████████████████▎               | 608/1000 [00:54<00:35, 11.18it/s]\u001b[A\n",
      " 61%|████████████████████████▍               | 610/1000 [00:54<00:34, 11.26it/s]\u001b[A"
     ]
    },
    {
     "name": "stdout",
     "output_type": "stream",
     "text": [
      "0.08883523941040039\n",
      "0.0872189998626709\n",
      "0.08629226684570312\n"
     ]
    },
    {
     "name": "stderr",
     "output_type": "stream",
     "text": [
      "\n",
      " 61%|████████████████████████▍               | 612/1000 [00:54<00:34, 11.25it/s]\u001b[A"
     ]
    },
    {
     "name": "stdout",
     "output_type": "stream",
     "text": [
      "0.0905299186706543\n",
      "0.08633089065551758\n",
      "0.0886073112487793\n"
     ]
    },
    {
     "name": "stderr",
     "output_type": "stream",
     "text": [
      "\n",
      " 61%|████████████████████████▌               | 614/1000 [00:54<00:34, 11.24it/s]\u001b[A\n",
      " 62%|████████████████████████▋               | 616/1000 [00:55<00:34, 11.28it/s]\u001b[A"
     ]
    },
    {
     "name": "stdout",
     "output_type": "stream",
     "text": [
      "0.08879375457763672\n",
      "0.0887143611907959\n",
      "0.0861673355102539\n"
     ]
    },
    {
     "name": "stderr",
     "output_type": "stream",
     "text": [
      "\n",
      " 62%|████████████████████████▋               | 618/1000 [00:55<00:33, 11.27it/s]\u001b[A"
     ]
    },
    {
     "name": "stdout",
     "output_type": "stream",
     "text": [
      "0.09126806259155273\n",
      "0.08547759056091309\n",
      "0.08943748474121094\n"
     ]
    },
    {
     "name": "stderr",
     "output_type": "stream",
     "text": [
      "\n",
      " 62%|████████████████████████▊               | 620/1000 [00:55<00:33, 11.23it/s]\u001b[A\n",
      " 62%|████████████████████████▉               | 622/1000 [00:55<00:33, 11.26it/s]\u001b[A"
     ]
    },
    {
     "name": "stdout",
     "output_type": "stream",
     "text": [
      "0.08917355537414551\n",
      "0.0892941951751709\n",
      "0.08583259582519531\n"
     ]
    },
    {
     "name": "stderr",
     "output_type": "stream",
     "text": [
      "\n",
      " 62%|████████████████████████▉               | 624/1000 [00:55<00:33, 11.13it/s]\u001b[A"
     ]
    },
    {
     "name": "stdout",
     "output_type": "stream",
     "text": [
      "0.09738683700561523\n",
      "0.08591771125793457\n",
      "0.08871221542358398\n"
     ]
    },
    {
     "name": "stderr",
     "output_type": "stream",
     "text": [
      "\n",
      " 63%|█████████████████████████               | 626/1000 [00:55<00:33, 11.15it/s]\u001b[A\n",
      " 63%|█████████████████████████               | 628/1000 [00:56<00:33, 11.22it/s]\u001b[A"
     ]
    },
    {
     "name": "stdout",
     "output_type": "stream",
     "text": [
      "0.0887138843536377\n",
      "0.0889437198638916\n",
      "0.0852663516998291\n"
     ]
    },
    {
     "name": "stderr",
     "output_type": "stream",
     "text": [
      "\n",
      " 63%|█████████████████████████▏              | 630/1000 [00:56<00:32, 11.21it/s]\u001b[A"
     ]
    },
    {
     "name": "stdout",
     "output_type": "stream",
     "text": [
      "0.0918126106262207\n",
      "0.08575868606567383\n",
      "0.08889412879943848\n"
     ]
    },
    {
     "name": "stderr",
     "output_type": "stream",
     "text": [
      "\n",
      " 63%|█████████████████████████▎              | 632/1000 [00:56<00:32, 11.18it/s]\u001b[A\n",
      " 63%|█████████████████████████▎              | 634/1000 [00:56<00:32, 11.23it/s]\u001b[A"
     ]
    },
    {
     "name": "stdout",
     "output_type": "stream",
     "text": [
      "0.09000158309936523\n",
      "0.08913445472717285\n",
      "0.08584141731262207\n"
     ]
    },
    {
     "name": "stderr",
     "output_type": "stream",
     "text": [
      "\n",
      " 64%|█████████████████████████▍              | 636/1000 [00:56<00:32, 11.23it/s]\u001b[A"
     ]
    },
    {
     "name": "stdout",
     "output_type": "stream",
     "text": [
      "0.09173393249511719\n",
      "0.0850973129272461\n",
      "0.08815693855285645\n"
     ]
    },
    {
     "name": "stderr",
     "output_type": "stream",
     "text": [
      "\n",
      " 64%|█████████████████████████▌              | 638/1000 [00:57<00:32, 11.23it/s]\u001b[A\n",
      " 64%|█████████████████████████▌              | 640/1000 [00:57<00:31, 11.28it/s]\u001b[A"
     ]
    },
    {
     "name": "stdout",
     "output_type": "stream",
     "text": [
      "0.08853459358215332\n",
      "0.0879983901977539\n",
      "0.08633708953857422\n"
     ]
    },
    {
     "name": "stderr",
     "output_type": "stream",
     "text": [
      "\n",
      " 64%|█████████████████████████▋              | 642/1000 [00:57<00:31, 11.23it/s]\u001b[A"
     ]
    },
    {
     "name": "stdout",
     "output_type": "stream",
     "text": [
      "0.09204292297363281\n",
      "0.08675241470336914\n",
      "0.0914616584777832\n"
     ]
    },
    {
     "name": "stderr",
     "output_type": "stream",
     "text": [
      "\n",
      " 64%|█████████████████████████▊              | 644/1000 [00:57<00:31, 11.14it/s]\u001b[A\n",
      " 65%|█████████████████████████▊              | 646/1000 [00:57<00:31, 11.21it/s]\u001b[A"
     ]
    },
    {
     "name": "stdout",
     "output_type": "stream",
     "text": [
      "0.09017515182495117\n",
      "0.08851265907287598\n",
      "0.08574724197387695\n"
     ]
    },
    {
     "name": "stderr",
     "output_type": "stream",
     "text": [
      "\n",
      " 65%|█████████████████████████▉              | 648/1000 [00:57<00:31, 11.23it/s]\u001b[A"
     ]
    },
    {
     "name": "stdout",
     "output_type": "stream",
     "text": [
      "0.091064453125\n",
      "0.08517622947692871\n",
      "0.08870220184326172\n"
     ]
    },
    {
     "name": "stderr",
     "output_type": "stream",
     "text": [
      "\n",
      " 65%|██████████████████████████              | 650/1000 [00:58<00:31, 11.20it/s]\u001b[A\n",
      " 65%|██████████████████████████              | 652/1000 [00:58<00:30, 11.26it/s]\u001b[A"
     ]
    },
    {
     "name": "stdout",
     "output_type": "stream",
     "text": [
      "0.0897059440612793\n",
      "0.08811306953430176\n",
      "0.08603668212890625\n"
     ]
    },
    {
     "name": "stderr",
     "output_type": "stream",
     "text": [
      "\n",
      " 65%|██████████████████████████▏             | 654/1000 [00:58<00:30, 11.25it/s]\u001b[A"
     ]
    },
    {
     "name": "stdout",
     "output_type": "stream",
     "text": [
      "0.09079957008361816\n",
      "0.08653855323791504\n",
      "0.0883023738861084\n"
     ]
    },
    {
     "name": "stderr",
     "output_type": "stream",
     "text": [
      "\n",
      " 66%|██████████████████████████▏             | 656/1000 [00:58<00:30, 11.23it/s]\u001b[A\n",
      " 66%|██████████████████████████▎             | 658/1000 [00:58<00:30, 11.29it/s]\u001b[A"
     ]
    },
    {
     "name": "stdout",
     "output_type": "stream",
     "text": [
      "0.08916974067687988\n",
      "0.08814692497253418\n",
      "0.08537936210632324\n"
     ]
    },
    {
     "name": "stderr",
     "output_type": "stream",
     "text": [
      "\n",
      " 66%|██████████████████████████▍             | 660/1000 [00:58<00:30, 11.29it/s]\u001b[A"
     ]
    },
    {
     "name": "stdout",
     "output_type": "stream",
     "text": [
      "0.09117388725280762\n",
      "0.08517193794250488\n",
      "0.08996248245239258\n"
     ]
    },
    {
     "name": "stderr",
     "output_type": "stream",
     "text": [
      "\n",
      " 66%|██████████████████████████▍             | 662/1000 [00:59<00:30, 11.24it/s]\u001b[A\n",
      " 66%|██████████████████████████▌             | 664/1000 [00:59<00:29, 11.27it/s]\u001b[A"
     ]
    },
    {
     "name": "stdout",
     "output_type": "stream",
     "text": [
      "0.08868026733398438\n",
      "0.0889284610748291\n",
      "0.08611607551574707\n"
     ]
    },
    {
     "name": "stderr",
     "output_type": "stream",
     "text": [
      "\n",
      " 67%|██████████████████████████▋             | 666/1000 [00:59<00:29, 11.24it/s]\u001b[A"
     ]
    },
    {
     "name": "stdout",
     "output_type": "stream",
     "text": [
      "0.091064453125\n",
      "0.08675074577331543\n",
      "0.09052014350891113\n"
     ]
    },
    {
     "name": "stderr",
     "output_type": "stream",
     "text": [
      "\n",
      " 67%|██████████████████████████▋             | 668/1000 [00:59<00:29, 11.18it/s]\u001b[A\n",
      " 67%|██████████████████████████▊             | 670/1000 [00:59<00:29, 11.24it/s]\u001b[A"
     ]
    },
    {
     "name": "stdout",
     "output_type": "stream",
     "text": [
      "0.08970403671264648\n",
      "0.0884408950805664\n",
      "0.08578348159790039\n"
     ]
    },
    {
     "name": "stderr",
     "output_type": "stream",
     "text": [
      "\n",
      " 67%|██████████████████████████▉             | 672/1000 [01:00<00:29, 11.23it/s]\u001b[A"
     ]
    },
    {
     "name": "stdout",
     "output_type": "stream",
     "text": [
      "0.0915517807006836\n",
      "0.08611369132995605\n",
      "0.09045004844665527\n"
     ]
    },
    {
     "name": "stderr",
     "output_type": "stream",
     "text": [
      "\n",
      " 67%|██████████████████████████▉             | 674/1000 [01:00<00:29, 11.17it/s]\u001b[A\n",
      " 68%|███████████████████████████             | 676/1000 [01:00<00:28, 11.19it/s]\u001b[A"
     ]
    },
    {
     "name": "stdout",
     "output_type": "stream",
     "text": [
      "0.0898590087890625\n",
      "0.09010624885559082\n",
      "0.08667302131652832\n"
     ]
    },
    {
     "name": "stderr",
     "output_type": "stream",
     "text": [
      "\n",
      " 68%|███████████████████████████             | 678/1000 [01:00<00:28, 11.19it/s]\u001b[A"
     ]
    },
    {
     "name": "stdout",
     "output_type": "stream",
     "text": [
      "0.09146642684936523\n",
      "0.08600759506225586\n",
      "0.09092497825622559\n"
     ]
    },
    {
     "name": "stderr",
     "output_type": "stream",
     "text": [
      "\n",
      " 68%|███████████████████████████▏            | 680/1000 [01:00<00:28, 11.14it/s]\u001b[A\n",
      " 68%|███████████████████████████▎            | 682/1000 [01:00<00:28, 11.23it/s]\u001b[A"
     ]
    },
    {
     "name": "stdout",
     "output_type": "stream",
     "text": [
      "0.08920001983642578\n",
      "0.08797359466552734\n",
      "0.08551716804504395\n"
     ]
    },
    {
     "name": "stderr",
     "output_type": "stream",
     "text": [
      "\n",
      " 68%|███████████████████████████▎            | 684/1000 [01:01<00:28, 11.25it/s]\u001b[A"
     ]
    },
    {
     "name": "stdout",
     "output_type": "stream",
     "text": [
      "0.09074044227600098\n",
      "0.0856621265411377\n",
      "0.08853673934936523\n"
     ]
    },
    {
     "name": "stderr",
     "output_type": "stream",
     "text": [
      "\n",
      " 69%|███████████████████████████▍            | 686/1000 [01:01<00:27, 11.23it/s]\u001b[A\n",
      " 69%|███████████████████████████▌            | 688/1000 [01:01<00:27, 11.22it/s]\u001b[A"
     ]
    },
    {
     "name": "stdout",
     "output_type": "stream",
     "text": [
      "0.08867478370666504\n",
      "0.09077286720275879\n",
      "0.08659625053405762\n"
     ]
    },
    {
     "name": "stderr",
     "output_type": "stream",
     "text": [
      "\n",
      " 69%|███████████████████████████▌            | 690/1000 [01:01<00:27, 11.22it/s]\u001b[A"
     ]
    },
    {
     "name": "stdout",
     "output_type": "stream",
     "text": [
      "0.09188318252563477\n",
      "0.08547234535217285\n",
      "0.09101128578186035\n"
     ]
    },
    {
     "name": "stderr",
     "output_type": "stream",
     "text": [
      "\n",
      " 69%|███████████████████████████▋            | 692/1000 [01:01<00:27, 11.17it/s]\u001b[A\n",
      " 69%|███████████████████████████▊            | 694/1000 [01:02<00:27, 11.26it/s]\u001b[A"
     ]
    },
    {
     "name": "stdout",
     "output_type": "stream",
     "text": [
      "0.08879852294921875\n",
      "0.08747053146362305\n",
      "0.08572888374328613\n"
     ]
    },
    {
     "name": "stderr",
     "output_type": "stream",
     "text": [
      "\n",
      " 70%|███████████████████████████▊            | 696/1000 [01:02<00:27, 11.24it/s]\u001b[A"
     ]
    },
    {
     "name": "stdout",
     "output_type": "stream",
     "text": [
      "0.09100198745727539\n",
      "0.08630180358886719\n",
      "0.08909821510314941\n"
     ]
    },
    {
     "name": "stderr",
     "output_type": "stream",
     "text": [
      "\n",
      " 70%|███████████████████████████▉            | 698/1000 [01:02<00:26, 11.22it/s]\u001b[A\n",
      " 70%|████████████████████████████            | 700/1000 [01:02<00:26, 11.28it/s]\u001b[A"
     ]
    },
    {
     "name": "stdout",
     "output_type": "stream",
     "text": [
      "0.0889279842376709\n",
      "0.08807945251464844\n",
      "0.08608102798461914\n"
     ]
    },
    {
     "name": "stderr",
     "output_type": "stream",
     "text": [
      "\n",
      " 70%|████████████████████████████            | 702/1000 [01:02<00:26, 11.24it/s]\u001b[A"
     ]
    },
    {
     "name": "stdout",
     "output_type": "stream",
     "text": [
      "0.09180021286010742\n",
      "0.08647727966308594\n",
      "0.090789794921875\n"
     ]
    },
    {
     "name": "stderr",
     "output_type": "stream",
     "text": [
      "\n",
      " 70%|████████████████████████████▏           | 704/1000 [01:02<00:26, 11.14it/s]\u001b[A\n",
      " 71%|████████████████████████████▏           | 706/1000 [01:03<00:26, 11.18it/s]\u001b[A"
     ]
    },
    {
     "name": "stdout",
     "output_type": "stream",
     "text": [
      "0.09145450592041016\n",
      "0.09041213989257812\n",
      "0.08543562889099121\n"
     ]
    },
    {
     "name": "stderr",
     "output_type": "stream",
     "text": [
      "\n",
      " 71%|████████████████████████████▎           | 708/1000 [01:03<00:26, 11.20it/s]\u001b[A"
     ]
    },
    {
     "name": "stdout",
     "output_type": "stream",
     "text": [
      "0.0912618637084961\n",
      "0.08556532859802246\n",
      "0.08984375\n"
     ]
    },
    {
     "name": "stderr",
     "output_type": "stream",
     "text": [
      "\n",
      " 71%|████████████████████████████▍           | 710/1000 [01:03<00:25, 11.17it/s]\u001b[A\n",
      " 71%|████████████████████████████▍           | 712/1000 [01:03<00:25, 11.22it/s]\u001b[A"
     ]
    },
    {
     "name": "stdout",
     "output_type": "stream",
     "text": [
      "0.08884429931640625\n",
      "0.08999991416931152\n",
      "0.08547592163085938\n"
     ]
    },
    {
     "name": "stderr",
     "output_type": "stream",
     "text": [
      "\n",
      " 71%|████████████████████████████▌           | 714/1000 [01:03<00:25, 11.22it/s]\u001b[A"
     ]
    },
    {
     "name": "stdout",
     "output_type": "stream",
     "text": [
      "0.09087181091308594\n",
      "0.08600616455078125\n",
      "0.09001350402832031\n"
     ]
    },
    {
     "name": "stderr",
     "output_type": "stream",
     "text": [
      "\n",
      " 72%|████████████████████████████▋           | 716/1000 [01:03<00:25, 11.18it/s]\u001b[A\n",
      " 72%|████████████████████████████▋           | 718/1000 [01:04<00:25, 11.23it/s]\u001b[A"
     ]
    },
    {
     "name": "stdout",
     "output_type": "stream",
     "text": [
      "0.08929872512817383\n",
      "0.08897972106933594\n",
      "0.08618569374084473\n"
     ]
    },
    {
     "name": "stderr",
     "output_type": "stream",
     "text": [
      "\n",
      " 72%|████████████████████████████▊           | 720/1000 [01:04<00:25, 11.09it/s]\u001b[A"
     ]
    },
    {
     "name": "stdout",
     "output_type": "stream",
     "text": [
      "0.09846091270446777\n",
      "0.08584976196289062\n",
      "0.09027576446533203\n"
     ]
    },
    {
     "name": "stderr",
     "output_type": "stream",
     "text": [
      "\n",
      " 72%|████████████████████████████▉           | 722/1000 [01:04<00:25, 11.09it/s]\u001b[A\n",
      " 72%|████████████████████████████▉           | 724/1000 [01:04<00:24, 11.15it/s]\u001b[A"
     ]
    },
    {
     "name": "stdout",
     "output_type": "stream",
     "text": [
      "0.08860468864440918\n",
      "0.09059429168701172\n",
      "0.08534693717956543\n"
     ]
    },
    {
     "name": "stderr",
     "output_type": "stream",
     "text": [
      "\n",
      " 73%|█████████████████████████████           | 726/1000 [01:04<00:24, 11.15it/s]\u001b[A"
     ]
    },
    {
     "name": "stdout",
     "output_type": "stream",
     "text": [
      "0.09194493293762207\n",
      "0.08645367622375488\n",
      "0.08854985237121582\n"
     ]
    },
    {
     "name": "stderr",
     "output_type": "stream",
     "text": [
      "\n",
      " 73%|█████████████████████████████           | 728/1000 [01:05<00:24, 11.17it/s]\u001b[A\n",
      " 73%|█████████████████████████████▏          | 730/1000 [01:05<00:24, 11.17it/s]\u001b[A"
     ]
    },
    {
     "name": "stdout",
     "output_type": "stream",
     "text": [
      "0.08830475807189941\n",
      "0.09082412719726562\n",
      "0.08736681938171387\n"
     ]
    },
    {
     "name": "stderr",
     "output_type": "stream",
     "text": [
      "\n",
      " 73%|█████████████████████████████▎          | 732/1000 [01:05<00:23, 11.20it/s]\u001b[A"
     ]
    },
    {
     "name": "stdout",
     "output_type": "stream",
     "text": [
      "0.08912396430969238\n",
      "0.08683371543884277\n",
      "0.08891654014587402\n"
     ]
    },
    {
     "name": "stderr",
     "output_type": "stream",
     "text": [
      "\n",
      " 73%|█████████████████████████████▎          | 734/1000 [01:05<00:23, 11.20it/s]\u001b[A\n",
      " 74%|█████████████████████████████▍          | 736/1000 [01:05<00:23, 11.27it/s]\u001b[A"
     ]
    },
    {
     "name": "stdout",
     "output_type": "stream",
     "text": [
      "0.08880805969238281\n",
      "0.08787059783935547\n",
      "0.08560776710510254\n"
     ]
    },
    {
     "name": "stderr",
     "output_type": "stream",
     "text": [
      "\n",
      " 74%|█████████████████████████████▌          | 738/1000 [01:05<00:23, 11.25it/s]\u001b[A"
     ]
    },
    {
     "name": "stdout",
     "output_type": "stream",
     "text": [
      "0.09131097793579102\n",
      "0.08626151084899902\n",
      "0.08982586860656738\n"
     ]
    },
    {
     "name": "stderr",
     "output_type": "stream",
     "text": [
      "\n",
      " 74%|█████████████████████████████▌          | 740/1000 [01:06<00:23, 11.21it/s]\u001b[A\n",
      " 74%|█████████████████████████████▋          | 742/1000 [01:06<00:23, 11.21it/s]\u001b[A"
     ]
    },
    {
     "name": "stdout",
     "output_type": "stream",
     "text": [
      "0.08913421630859375\n",
      "0.09087586402893066\n",
      "0.08605790138244629\n"
     ]
    },
    {
     "name": "stderr",
     "output_type": "stream",
     "text": [
      "\n",
      " 74%|█████████████████████████████▊          | 744/1000 [01:06<00:22, 11.19it/s]\u001b[A"
     ]
    },
    {
     "name": "stdout",
     "output_type": "stream",
     "text": [
      "0.09187579154968262\n",
      "0.08698034286499023\n",
      "0.09040713310241699\n"
     ]
    },
    {
     "name": "stderr",
     "output_type": "stream",
     "text": [
      "\n",
      " 75%|█████████████████████████████▊          | 746/1000 [01:06<00:22, 11.16it/s]\u001b[A\n",
      " 75%|█████████████████████████████▉          | 748/1000 [01:06<00:22, 11.22it/s]\u001b[A"
     ]
    },
    {
     "name": "stdout",
     "output_type": "stream",
     "text": [
      "0.088287353515625\n",
      "0.08951139450073242\n",
      "0.08545708656311035\n"
     ]
    },
    {
     "name": "stderr",
     "output_type": "stream",
     "text": [
      "\n",
      " 75%|██████████████████████████████          | 750/1000 [01:07<00:22, 11.21it/s]\u001b[A"
     ]
    },
    {
     "name": "stdout",
     "output_type": "stream",
     "text": [
      "0.09149551391601562\n",
      "0.08633017539978027\n",
      "0.09023261070251465\n"
     ]
    },
    {
     "name": "stderr",
     "output_type": "stream",
     "text": [
      "\n",
      " 75%|██████████████████████████████          | 752/1000 [01:07<00:22, 11.16it/s]\u001b[A\n",
      " 75%|██████████████████████████████▏         | 754/1000 [01:07<00:21, 11.18it/s]\u001b[A"
     ]
    },
    {
     "name": "stdout",
     "output_type": "stream",
     "text": [
      "0.08995628356933594\n",
      "0.09125757217407227\n",
      "0.08550882339477539\n"
     ]
    },
    {
     "name": "stderr",
     "output_type": "stream",
     "text": [
      "\n",
      " 76%|██████████████████████████████▏         | 756/1000 [01:07<00:21, 11.17it/s]\u001b[A"
     ]
    },
    {
     "name": "stdout",
     "output_type": "stream",
     "text": [
      "0.09169435501098633\n",
      "0.0866994857788086\n",
      "0.08867359161376953\n"
     ]
    },
    {
     "name": "stderr",
     "output_type": "stream",
     "text": [
      "\n",
      " 76%|██████████████████████████████▎         | 758/1000 [01:07<00:21, 11.18it/s]\u001b[A\n",
      " 76%|██████████████████████████████▍         | 760/1000 [01:07<00:21, 11.18it/s]\u001b[A"
     ]
    },
    {
     "name": "stdout",
     "output_type": "stream",
     "text": [
      "0.08890223503112793\n",
      "0.09185457229614258\n",
      "0.08609914779663086\n"
     ]
    },
    {
     "name": "stderr",
     "output_type": "stream",
     "text": [
      "\n",
      " 76%|██████████████████████████████▍         | 762/1000 [01:08<00:21, 11.19it/s]\u001b[A"
     ]
    },
    {
     "name": "stdout",
     "output_type": "stream",
     "text": [
      "0.09088015556335449\n",
      "0.08589529991149902\n",
      "0.09065699577331543\n"
     ]
    },
    {
     "name": "stderr",
     "output_type": "stream",
     "text": [
      "\n",
      " 76%|██████████████████████████████▌         | 764/1000 [01:08<00:21, 11.12it/s]\u001b[A\n",
      " 77%|██████████████████████████████▋         | 766/1000 [01:08<00:20, 11.18it/s]\u001b[A"
     ]
    },
    {
     "name": "stdout",
     "output_type": "stream",
     "text": [
      "0.09080243110656738\n",
      "0.08925700187683105\n",
      "0.08596372604370117\n"
     ]
    },
    {
     "name": "stderr",
     "output_type": "stream",
     "text": [
      "\n",
      " 77%|██████████████████████████████▋         | 768/1000 [01:08<00:20, 11.17it/s]\u001b[A"
     ]
    },
    {
     "name": "stdout",
     "output_type": "stream",
     "text": [
      "0.09208464622497559\n",
      "0.08642101287841797\n",
      "0.08855986595153809\n"
     ]
    },
    {
     "name": "stderr",
     "output_type": "stream",
     "text": [
      "\n",
      " 77%|██████████████████████████████▊         | 770/1000 [01:08<00:20, 11.18it/s]\u001b[A\n",
      " 77%|██████████████████████████████▉         | 772/1000 [01:08<00:20, 11.23it/s]\u001b[A"
     ]
    },
    {
     "name": "stdout",
     "output_type": "stream",
     "text": [
      "0.08889627456665039\n",
      "0.08935236930847168\n",
      "0.08539819717407227\n"
     ]
    },
    {
     "name": "stderr",
     "output_type": "stream",
     "text": [
      "\n",
      " 77%|██████████████████████████████▉         | 774/1000 [01:09<00:20, 11.21it/s]\u001b[A"
     ]
    },
    {
     "name": "stdout",
     "output_type": "stream",
     "text": [
      "0.09227800369262695\n",
      "0.08618903160095215\n",
      "0.0901176929473877\n"
     ]
    },
    {
     "name": "stderr",
     "output_type": "stream",
     "text": [
      "\n",
      " 78%|███████████████████████████████         | 776/1000 [01:09<00:20, 11.15it/s]\u001b[A\n",
      " 78%|███████████████████████████████         | 778/1000 [01:09<00:19, 11.22it/s]\u001b[A"
     ]
    },
    {
     "name": "stdout",
     "output_type": "stream",
     "text": [
      "0.09035444259643555\n",
      "0.08857464790344238\n",
      "0.08567285537719727\n"
     ]
    },
    {
     "name": "stderr",
     "output_type": "stream",
     "text": [
      "\n",
      " 78%|███████████████████████████████▏        | 780/1000 [01:09<00:19, 11.20it/s]\u001b[A"
     ]
    },
    {
     "name": "stdout",
     "output_type": "stream",
     "text": [
      "0.09160995483398438\n",
      "0.08660745620727539\n",
      "0.08963513374328613\n"
     ]
    },
    {
     "name": "stderr",
     "output_type": "stream",
     "text": [
      "\n",
      " 78%|███████████████████████████████▎        | 782/1000 [01:09<00:19, 11.16it/s]\u001b[A\n",
      " 78%|███████████████████████████████▎        | 784/1000 [01:10<00:19, 11.20it/s]\u001b[A"
     ]
    },
    {
     "name": "stdout",
     "output_type": "stream",
     "text": [
      "0.08970069885253906\n",
      "0.09073829650878906\n",
      "0.08534622192382812\n"
     ]
    },
    {
     "name": "stderr",
     "output_type": "stream",
     "text": [
      "\n",
      " 79%|███████████████████████████████▍        | 786/1000 [01:10<00:19, 11.18it/s]\u001b[A"
     ]
    },
    {
     "name": "stdout",
     "output_type": "stream",
     "text": [
      "0.09308648109436035\n",
      "0.08545446395874023\n",
      "0.09074258804321289\n"
     ]
    },
    {
     "name": "stderr",
     "output_type": "stream",
     "text": [
      "\n",
      " 79%|███████████████████████████████▌        | 788/1000 [01:10<00:19, 11.14it/s]\u001b[A\n",
      " 79%|███████████████████████████████▌        | 790/1000 [01:10<00:18, 11.25it/s]\u001b[A"
     ]
    },
    {
     "name": "stdout",
     "output_type": "stream",
     "text": [
      "0.08893585205078125\n",
      "0.08834409713745117\n",
      "0.084442138671875\n"
     ]
    },
    {
     "name": "stderr",
     "output_type": "stream",
     "text": [
      "\n",
      " 79%|███████████████████████████████▋        | 792/1000 [01:10<00:18, 11.25it/s]\u001b[A"
     ]
    },
    {
     "name": "stdout",
     "output_type": "stream",
     "text": [
      "0.09166169166564941\n",
      "0.08525276184082031\n",
      "0.08969521522521973\n"
     ]
    },
    {
     "name": "stderr",
     "output_type": "stream",
     "text": [
      "\n",
      " 79%|███████████████████████████████▊        | 794/1000 [01:10<00:18, 11.21it/s]\u001b[A\n",
      " 80%|███████████████████████████████▊        | 796/1000 [01:11<00:18, 11.23it/s]\u001b[A"
     ]
    },
    {
     "name": "stdout",
     "output_type": "stream",
     "text": [
      "0.0889594554901123\n",
      "0.09106874465942383\n",
      "0.0848991870880127\n"
     ]
    },
    {
     "name": "stderr",
     "output_type": "stream",
     "text": [
      "\n",
      " 80%|███████████████████████████████▉        | 798/1000 [01:11<00:18, 11.21it/s]\u001b[A"
     ]
    },
    {
     "name": "stdout",
     "output_type": "stream",
     "text": [
      "0.09229421615600586\n",
      "0.08559775352478027\n",
      "0.09105801582336426\n"
     ]
    },
    {
     "name": "stderr",
     "output_type": "stream",
     "text": [
      "\n",
      " 80%|████████████████████████████████        | 800/1000 [01:11<00:17, 11.13it/s]\u001b[A\n",
      " 80%|████████████████████████████████        | 802/1000 [01:11<00:17, 11.18it/s]\u001b[A"
     ]
    },
    {
     "name": "stdout",
     "output_type": "stream",
     "text": [
      "0.09034228324890137\n",
      "0.0914301872253418\n",
      "0.08433175086975098\n"
     ]
    },
    {
     "name": "stderr",
     "output_type": "stream",
     "text": [
      "\n",
      " 80%|████████████████████████████████▏       | 804/1000 [01:11<00:17, 11.18it/s]\u001b[A"
     ]
    },
    {
     "name": "stdout",
     "output_type": "stream",
     "text": [
      "0.09299516677856445\n",
      "0.08506655693054199\n",
      "0.08836746215820312\n"
     ]
    },
    {
     "name": "stderr",
     "output_type": "stream",
     "text": [
      "\n",
      " 81%|████████████████████████████████▏       | 806/1000 [01:12<00:17, 11.20it/s]\u001b[A\n",
      " 81%|████████████████████████████████▎       | 808/1000 [01:12<00:17, 11.24it/s]\u001b[A"
     ]
    },
    {
     "name": "stdout",
     "output_type": "stream",
     "text": [
      "0.08810901641845703\n",
      "0.0909128189086914\n",
      "0.08440518379211426\n"
     ]
    },
    {
     "name": "stderr",
     "output_type": "stream",
     "text": [
      "\n",
      " 81%|████████████████████████████████▍       | 810/1000 [01:12<00:16, 11.24it/s]\u001b[A"
     ]
    },
    {
     "name": "stdout",
     "output_type": "stream",
     "text": [
      "0.09185600280761719\n",
      "0.0850515365600586\n",
      "0.0892031192779541\n"
     ]
    },
    {
     "name": "stderr",
     "output_type": "stream",
     "text": [
      "\n",
      " 81%|████████████████████████████████▍       | 812/1000 [01:12<00:17, 10.97it/s]\u001b[A\n",
      " 81%|████████████████████████████████▌       | 814/1000 [01:12<00:16, 11.07it/s]\u001b[A"
     ]
    },
    {
     "name": "stdout",
     "output_type": "stream",
     "text": [
      "0.10219955444335938\n",
      "0.09122967720031738\n",
      "0.08430218696594238\n"
     ]
    },
    {
     "name": "stderr",
     "output_type": "stream",
     "text": [
      "\n",
      " 82%|████████████████████████████████▋       | 816/1000 [01:12<00:16, 11.13it/s]\u001b[A"
     ]
    },
    {
     "name": "stdout",
     "output_type": "stream",
     "text": [
      "0.09099555015563965\n",
      "0.08512735366821289\n",
      "0.08981084823608398\n"
     ]
    },
    {
     "name": "stderr",
     "output_type": "stream",
     "text": [
      "\n",
      " 82%|████████████████████████████████▋       | 818/1000 [01:13<00:16, 11.13it/s]\u001b[A\n",
      " 82%|████████████████████████████████▊       | 820/1000 [01:13<00:16, 11.23it/s]\u001b[A"
     ]
    },
    {
     "name": "stdout",
     "output_type": "stream",
     "text": [
      "0.08886361122131348\n",
      "0.08845233917236328\n",
      "0.08486318588256836\n"
     ]
    },
    {
     "name": "stderr",
     "output_type": "stream",
     "text": [
      "\n",
      " 82%|████████████████████████████████▉       | 822/1000 [01:13<00:15, 11.21it/s]\u001b[A"
     ]
    },
    {
     "name": "stdout",
     "output_type": "stream",
     "text": [
      "0.09195351600646973\n",
      "0.08602666854858398\n",
      "0.09049534797668457\n"
     ]
    },
    {
     "name": "stderr",
     "output_type": "stream",
     "text": [
      "\n",
      " 82%|████████████████████████████████▉       | 824/1000 [01:13<00:15, 11.13it/s]\u001b[A\n",
      " 83%|█████████████████████████████████       | 826/1000 [01:13<00:15, 11.24it/s]\u001b[A"
     ]
    },
    {
     "name": "stdout",
     "output_type": "stream",
     "text": [
      "0.09088373184204102\n",
      "0.0880441665649414\n",
      "0.08462738990783691\n"
     ]
    },
    {
     "name": "stderr",
     "output_type": "stream",
     "text": [
      "\n",
      " 83%|█████████████████████████████████       | 828/1000 [01:14<00:15, 11.21it/s]\u001b[A"
     ]
    },
    {
     "name": "stdout",
     "output_type": "stream",
     "text": [
      "0.09250903129577637\n",
      "0.08548879623413086\n",
      "0.09031367301940918\n"
     ]
    },
    {
     "name": "stderr",
     "output_type": "stream",
     "text": [
      "\n",
      " 83%|█████████████████████████████████▏      | 830/1000 [01:14<00:15, 11.15it/s]\u001b[A\n",
      " 83%|█████████████████████████████████▎      | 832/1000 [01:14<00:14, 11.21it/s]\u001b[A"
     ]
    },
    {
     "name": "stdout",
     "output_type": "stream",
     "text": [
      "0.09009242057800293\n",
      "0.09045267105102539\n",
      "0.08474349975585938\n"
     ]
    },
    {
     "name": "stderr",
     "output_type": "stream",
     "text": [
      "\n",
      " 83%|█████████████████████████████████▎      | 834/1000 [01:14<00:14, 11.18it/s]\u001b[A"
     ]
    },
    {
     "name": "stdout",
     "output_type": "stream",
     "text": [
      "0.09228348731994629\n",
      "0.08657336235046387\n",
      "0.09095907211303711\n"
     ]
    },
    {
     "name": "stderr",
     "output_type": "stream",
     "text": [
      "\n",
      " 84%|█████████████████████████████████▍      | 836/1000 [01:14<00:14, 11.13it/s]\u001b[A\n",
      " 84%|█████████████████████████████████▌      | 838/1000 [01:14<00:14, 11.18it/s]\u001b[A"
     ]
    },
    {
     "name": "stdout",
     "output_type": "stream",
     "text": [
      "0.08907294273376465\n",
      "0.09120631217956543\n",
      "0.08476662635803223\n"
     ]
    },
    {
     "name": "stderr",
     "output_type": "stream",
     "text": [
      "\n",
      " 84%|█████████████████████████████████▌      | 840/1000 [01:15<00:14, 11.18it/s]\u001b[A"
     ]
    },
    {
     "name": "stdout",
     "output_type": "stream",
     "text": [
      "0.09205102920532227\n",
      "0.08546042442321777\n",
      "0.09077572822570801\n"
     ]
    },
    {
     "name": "stderr",
     "output_type": "stream",
     "text": [
      "\n",
      " 84%|█████████████████████████████████▋      | 842/1000 [01:15<00:14, 11.14it/s]\u001b[A\n",
      " 84%|█████████████████████████████████▊      | 844/1000 [01:15<00:13, 11.19it/s]\u001b[A"
     ]
    },
    {
     "name": "stdout",
     "output_type": "stream",
     "text": [
      "0.08903956413269043\n",
      "0.09143233299255371\n",
      "0.08436989784240723\n"
     ]
    },
    {
     "name": "stderr",
     "output_type": "stream",
     "text": [
      "\n",
      " 85%|█████████████████████████████████▊      | 846/1000 [01:15<00:13, 11.18it/s]\u001b[A"
     ]
    },
    {
     "name": "stdout",
     "output_type": "stream",
     "text": [
      "0.09288978576660156\n",
      "0.08531475067138672\n",
      "0.08905935287475586\n"
     ]
    },
    {
     "name": "stderr",
     "output_type": "stream",
     "text": [
      "\n",
      " 85%|█████████████████████████████████▉      | 848/1000 [01:15<00:13, 11.17it/s]\u001b[A\n",
      " 85%|██████████████████████████████████      | 850/1000 [01:15<00:13, 11.26it/s]\u001b[A"
     ]
    },
    {
     "name": "stdout",
     "output_type": "stream",
     "text": [
      "0.08887982368469238\n",
      "0.08853602409362793\n",
      "0.08439302444458008\n"
     ]
    },
    {
     "name": "stderr",
     "output_type": "stream",
     "text": [
      "\n",
      " 85%|██████████████████████████████████      | 852/1000 [01:16<00:13, 11.25it/s]\u001b[A"
     ]
    },
    {
     "name": "stdout",
     "output_type": "stream",
     "text": [
      "0.09195661544799805\n",
      "0.08548593521118164\n",
      "0.09065103530883789\n"
     ]
    },
    {
     "name": "stderr",
     "output_type": "stream",
     "text": [
      "\n",
      " 85%|██████████████████████████████████▏     | 854/1000 [01:16<00:13, 11.18it/s]\u001b[A\n",
      " 86%|██████████████████████████████████▏     | 856/1000 [01:16<00:12, 11.19it/s]\u001b[A"
     ]
    },
    {
     "name": "stdout",
     "output_type": "stream",
     "text": [
      "0.08975815773010254\n",
      "0.09168434143066406\n",
      "0.08533239364624023\n"
     ]
    },
    {
     "name": "stderr",
     "output_type": "stream",
     "text": [
      "\n",
      " 86%|██████████████████████████████████▎     | 858/1000 [01:16<00:12, 11.17it/s]\u001b[A"
     ]
    },
    {
     "name": "stdout",
     "output_type": "stream",
     "text": [
      "0.0929558277130127\n",
      "0.08568835258483887\n",
      "0.08949160575866699\n"
     ]
    },
    {
     "name": "stderr",
     "output_type": "stream",
     "text": [
      "\n",
      " 86%|██████████████████████████████████▍     | 860/1000 [01:16<00:12, 11.16it/s]\u001b[A\n",
      " 86%|██████████████████████████████████▍     | 862/1000 [01:17<00:12, 11.19it/s]\u001b[A"
     ]
    },
    {
     "name": "stdout",
     "output_type": "stream",
     "text": [
      "0.08878779411315918\n",
      "0.09183001518249512\n",
      "0.08452224731445312\n"
     ]
    },
    {
     "name": "stderr",
     "output_type": "stream",
     "text": [
      "\n",
      " 86%|██████████████████████████████████▌     | 864/1000 [01:17<00:12, 11.17it/s]\u001b[A"
     ]
    },
    {
     "name": "stdout",
     "output_type": "stream",
     "text": [
      "0.09238290786743164\n",
      "0.08580350875854492\n",
      "0.09018588066101074\n"
     ]
    },
    {
     "name": "stderr",
     "output_type": "stream",
     "text": [
      "\n",
      " 87%|██████████████████████████████████▋     | 866/1000 [01:17<00:12, 11.15it/s]\u001b[A\n",
      " 87%|██████████████████████████████████▋     | 868/1000 [01:17<00:11, 11.20it/s]\u001b[A"
     ]
    },
    {
     "name": "stdout",
     "output_type": "stream",
     "text": [
      "0.08899736404418945\n",
      "0.09018874168395996\n",
      "0.0853891372680664\n"
     ]
    },
    {
     "name": "stderr",
     "output_type": "stream",
     "text": [
      "\n",
      " 87%|██████████████████████████████████▊     | 870/1000 [01:17<00:11, 11.19it/s]\u001b[A"
     ]
    },
    {
     "name": "stdout",
     "output_type": "stream",
     "text": [
      "0.09296035766601562\n",
      "0.08499479293823242\n",
      "0.09040355682373047\n"
     ]
    },
    {
     "name": "stderr",
     "output_type": "stream",
     "text": [
      "\n",
      " 87%|██████████████████████████████████▉     | 872/1000 [01:17<00:11, 11.16it/s]\u001b[A\n",
      " 87%|██████████████████████████████████▉     | 874/1000 [01:18<00:11, 11.19it/s]\u001b[A"
     ]
    },
    {
     "name": "stdout",
     "output_type": "stream",
     "text": [
      "0.0884866714477539\n",
      "0.09110569953918457\n",
      "0.08511972427368164\n"
     ]
    },
    {
     "name": "stderr",
     "output_type": "stream",
     "text": [
      "\n",
      " 88%|███████████████████████████████████     | 876/1000 [01:18<00:11, 11.15it/s]\u001b[A"
     ]
    },
    {
     "name": "stdout",
     "output_type": "stream",
     "text": [
      "0.0927267074584961\n",
      "0.08713245391845703\n",
      "0.08989477157592773\n"
     ]
    },
    {
     "name": "stderr",
     "output_type": "stream",
     "text": [
      "\n",
      " 88%|███████████████████████████████████     | 878/1000 [01:18<00:10, 11.11it/s]\u001b[A\n",
      " 88%|███████████████████████████████████▏    | 880/1000 [01:18<00:10, 11.20it/s]\u001b[A"
     ]
    },
    {
     "name": "stdout",
     "output_type": "stream",
     "text": [
      "0.09053802490234375\n",
      "0.08926105499267578\n",
      "0.08481025695800781\n"
     ]
    },
    {
     "name": "stderr",
     "output_type": "stream",
     "text": [
      "\n",
      " 88%|███████████████████████████████████▎    | 882/1000 [01:18<00:10, 11.19it/s]\u001b[A"
     ]
    },
    {
     "name": "stdout",
     "output_type": "stream",
     "text": [
      "0.09182906150817871\n",
      "0.0859518051147461\n",
      "0.09020543098449707\n"
     ]
    },
    {
     "name": "stderr",
     "output_type": "stream",
     "text": [
      "\n",
      " 88%|███████████████████████████████████▎    | 884/1000 [01:19<00:10, 11.16it/s]\u001b[A\n",
      " 89%|███████████████████████████████████▍    | 886/1000 [01:19<00:10, 11.18it/s]\u001b[A"
     ]
    },
    {
     "name": "stdout",
     "output_type": "stream",
     "text": [
      "0.0889129638671875\n",
      "0.09062671661376953\n",
      "0.08640670776367188\n"
     ]
    },
    {
     "name": "stderr",
     "output_type": "stream",
     "text": [
      "\n",
      " 89%|███████████████████████████████████▌    | 888/1000 [01:19<00:10, 11.17it/s]\u001b[A"
     ]
    },
    {
     "name": "stdout",
     "output_type": "stream",
     "text": [
      "0.09113550186157227\n",
      "0.08698630332946777\n",
      "0.08920812606811523\n"
     ]
    },
    {
     "name": "stderr",
     "output_type": "stream",
     "text": [
      "\n",
      " 89%|███████████████████████████████████▌    | 890/1000 [01:19<00:09, 11.14it/s]\u001b[A\n",
      " 89%|███████████████████████████████████▋    | 892/1000 [01:19<00:09, 11.18it/s]\u001b[A"
     ]
    },
    {
     "name": "stdout",
     "output_type": "stream",
     "text": [
      "0.09034132957458496\n",
      "0.09052491188049316\n",
      "0.08578348159790039\n"
     ]
    },
    {
     "name": "stderr",
     "output_type": "stream",
     "text": [
      "\n",
      " 89%|███████████████████████████████████▊    | 894/1000 [01:19<00:09, 11.14it/s]\u001b[A"
     ]
    },
    {
     "name": "stdout",
     "output_type": "stream",
     "text": [
      "0.09423255920410156\n",
      "0.08569741249084473\n",
      "0.09062361717224121\n"
     ]
    },
    {
     "name": "stderr",
     "output_type": "stream",
     "text": [
      "\n",
      " 90%|███████████████████████████████████▊    | 896/1000 [01:20<00:09, 11.09it/s]\u001b[A\n",
      " 90%|███████████████████████████████████▉    | 898/1000 [01:20<00:09, 11.16it/s]\u001b[A"
     ]
    },
    {
     "name": "stdout",
     "output_type": "stream",
     "text": [
      "0.09075212478637695\n",
      "0.09011340141296387\n",
      "0.08510279655456543\n"
     ]
    },
    {
     "name": "stderr",
     "output_type": "stream",
     "text": [
      "\n",
      " 90%|████████████████████████████████████    | 900/1000 [01:20<00:08, 11.18it/s]\u001b[A"
     ]
    },
    {
     "name": "stdout",
     "output_type": "stream",
     "text": [
      "0.09214067459106445\n",
      "0.08491730690002441\n",
      "0.0889577865600586\n"
     ]
    },
    {
     "name": "stderr",
     "output_type": "stream",
     "text": [
      "\n",
      " 90%|████████████████████████████████████    | 902/1000 [01:20<00:08, 11.18it/s]\u001b[A\n",
      " 90%|████████████████████████████████████▏   | 904/1000 [01:20<00:08, 11.23it/s]\u001b[A"
     ]
    },
    {
     "name": "stdout",
     "output_type": "stream",
     "text": [
      "0.0887300968170166\n",
      "0.08984255790710449\n",
      "0.08527803421020508\n"
     ]
    },
    {
     "name": "stderr",
     "output_type": "stream",
     "text": [
      "\n",
      " 91%|████████████████████████████████████▏   | 906/1000 [01:20<00:08, 11.21it/s]\u001b[A"
     ]
    },
    {
     "name": "stdout",
     "output_type": "stream",
     "text": [
      "0.09283614158630371\n",
      "0.08510279655456543\n",
      "0.09830403327941895\n"
     ]
    },
    {
     "name": "stderr",
     "output_type": "stream",
     "text": [
      "\n",
      " 91%|████████████████████████████████████▎   | 908/1000 [01:21<00:08, 11.04it/s]\u001b[A\n",
      " 91%|████████████████████████████████████▍   | 910/1000 [01:21<00:08, 11.15it/s]\u001b[A"
     ]
    },
    {
     "name": "stdout",
     "output_type": "stream",
     "text": [
      "0.08822441101074219\n",
      "0.0883779525756836\n",
      "0.08535075187683105\n"
     ]
    },
    {
     "name": "stderr",
     "output_type": "stream",
     "text": [
      "\n",
      " 91%|████████████████████████████████████▍   | 912/1000 [01:21<00:07, 11.15it/s]\u001b[A"
     ]
    },
    {
     "name": "stdout",
     "output_type": "stream",
     "text": [
      "0.09276747703552246\n",
      "0.08580851554870605\n",
      "0.08874177932739258\n"
     ]
    },
    {
     "name": "stderr",
     "output_type": "stream",
     "text": [
      "\n",
      " 91%|████████████████████████████████████▌   | 914/1000 [01:21<00:07, 11.16it/s]\u001b[A\n",
      " 92%|████████████████████████████████████▋   | 916/1000 [01:21<00:07, 11.27it/s]\u001b[A"
     ]
    },
    {
     "name": "stdout",
     "output_type": "stream",
     "text": [
      "0.08871984481811523\n",
      "0.08841562271118164\n",
      "0.08389472961425781\n"
     ]
    },
    {
     "name": "stderr",
     "output_type": "stream",
     "text": [
      "\n",
      " 92%|████████████████████████████████████▋   | 918/1000 [01:22<00:07, 11.25it/s]\u001b[A"
     ]
    },
    {
     "name": "stdout",
     "output_type": "stream",
     "text": [
      "0.09240555763244629\n",
      "0.08481788635253906\n",
      "0.09101605415344238\n"
     ]
    },
    {
     "name": "stderr",
     "output_type": "stream",
     "text": [
      "\n",
      " 92%|████████████████████████████████████▊   | 920/1000 [01:22<00:07, 11.17it/s]\u001b[A\n",
      " 92%|████████████████████████████████████▉   | 922/1000 [01:22<00:06, 11.24it/s]\u001b[A"
     ]
    },
    {
     "name": "stdout",
     "output_type": "stream",
     "text": [
      "0.08949446678161621\n",
      "0.08866357803344727\n",
      "0.08543729782104492\n"
     ]
    },
    {
     "name": "stderr",
     "output_type": "stream",
     "text": [
      "\n",
      " 92%|████████████████████████████████████▉   | 924/1000 [01:22<00:06, 11.20it/s]\u001b[A"
     ]
    },
    {
     "name": "stdout",
     "output_type": "stream",
     "text": [
      "0.09322214126586914\n",
      "0.08571791648864746\n",
      "0.08847260475158691\n"
     ]
    },
    {
     "name": "stderr",
     "output_type": "stream",
     "text": [
      "\n",
      " 93%|█████████████████████████████████████   | 926/1000 [01:22<00:06, 11.19it/s]\u001b[A\n",
      " 93%|█████████████████████████████████████   | 928/1000 [01:22<00:06, 11.22it/s]\u001b[A"
     ]
    },
    {
     "name": "stdout",
     "output_type": "stream",
     "text": [
      "0.08933424949645996\n",
      "0.09052634239196777\n",
      "0.08530616760253906\n"
     ]
    },
    {
     "name": "stderr",
     "output_type": "stream",
     "text": [
      "\n",
      " 93%|█████████████████████████████████████▏  | 930/1000 [01:23<00:06, 11.19it/s]\u001b[A"
     ]
    },
    {
     "name": "stdout",
     "output_type": "stream",
     "text": [
      "0.09251117706298828\n",
      "0.08619356155395508\n",
      "0.09117937088012695\n"
     ]
    },
    {
     "name": "stderr",
     "output_type": "stream",
     "text": [
      "\n",
      " 93%|█████████████████████████████████████▎  | 932/1000 [01:23<00:06, 11.11it/s]\u001b[A\n",
      " 93%|█████████████████████████████████████▎  | 934/1000 [01:23<00:05, 11.25it/s]\u001b[A"
     ]
    },
    {
     "name": "stdout",
     "output_type": "stream",
     "text": [
      "0.09052515029907227\n",
      "0.08678650856018066\n",
      "0.0848388671875\n"
     ]
    },
    {
     "name": "stderr",
     "output_type": "stream",
     "text": [
      "\n",
      " 94%|█████████████████████████████████████▍  | 936/1000 [01:23<00:05, 11.23it/s]\u001b[A"
     ]
    },
    {
     "name": "stdout",
     "output_type": "stream",
     "text": [
      "0.09241819381713867\n",
      "0.08508014678955078\n",
      "0.09089255332946777\n"
     ]
    },
    {
     "name": "stderr",
     "output_type": "stream",
     "text": [
      "\n",
      " 94%|█████████████████████████████████████▌  | 938/1000 [01:23<00:05, 11.15it/s]\u001b[A\n",
      " 94%|█████████████████████████████████████▌  | 940/1000 [01:24<00:05, 11.29it/s]\u001b[A"
     ]
    },
    {
     "name": "stdout",
     "output_type": "stream",
     "text": [
      "0.09018754959106445\n",
      "0.08645272254943848\n",
      "0.08471322059631348\n"
     ]
    },
    {
     "name": "stderr",
     "output_type": "stream",
     "text": [
      "\n",
      " 94%|█████████████████████████████████████▋  | 942/1000 [01:24<00:05, 11.26it/s]\u001b[A"
     ]
    },
    {
     "name": "stdout",
     "output_type": "stream",
     "text": [
      "0.09223532676696777\n",
      "0.08537817001342773\n",
      "0.09070277214050293\n"
     ]
    },
    {
     "name": "stderr",
     "output_type": "stream",
     "text": [
      "\n",
      " 94%|█████████████████████████████████████▊  | 944/1000 [01:24<00:05, 11.19it/s]\u001b[A\n",
      " 95%|█████████████████████████████████████▊  | 946/1000 [01:24<00:04, 11.22it/s]\u001b[A"
     ]
    },
    {
     "name": "stdout",
     "output_type": "stream",
     "text": [
      "0.0895991325378418\n",
      "0.09042787551879883\n",
      "0.08527517318725586\n"
     ]
    },
    {
     "name": "stderr",
     "output_type": "stream",
     "text": [
      "\n",
      " 95%|█████████████████████████████████████▉  | 948/1000 [01:24<00:04, 11.24it/s]\u001b[A"
     ]
    },
    {
     "name": "stdout",
     "output_type": "stream",
     "text": [
      "0.09177422523498535\n",
      "0.08431768417358398\n",
      "0.0902109146118164\n"
     ]
    },
    {
     "name": "stderr",
     "output_type": "stream",
     "text": [
      "\n",
      " 95%|██████████████████████████████████████  | 950/1000 [01:24<00:04, 11.18it/s]\u001b[A\n",
      " 95%|██████████████████████████████████████  | 952/1000 [01:25<00:04, 11.27it/s]\u001b[A"
     ]
    },
    {
     "name": "stdout",
     "output_type": "stream",
     "text": [
      "0.08972358703613281\n",
      "0.08716058731079102\n",
      "0.08577895164489746\n"
     ]
    },
    {
     "name": "stderr",
     "output_type": "stream",
     "text": [
      "\n",
      " 95%|██████████████████████████████████████▏ | 954/1000 [01:25<00:04, 11.19it/s]\u001b[A"
     ]
    },
    {
     "name": "stdout",
     "output_type": "stream",
     "text": [
      "0.09076571464538574\n",
      "0.0896151065826416\n",
      "0.09076714515686035\n"
     ]
    },
    {
     "name": "stderr",
     "output_type": "stream",
     "text": [
      "\n",
      " 96%|██████████████████████████████████████▏ | 956/1000 [01:25<00:03, 11.16it/s]\u001b[A\n",
      " 96%|██████████████████████████████████████▎ | 958/1000 [01:25<00:03, 11.23it/s]\u001b[A"
     ]
    },
    {
     "name": "stdout",
     "output_type": "stream",
     "text": [
      "0.08848953247070312\n",
      "0.09006857872009277\n",
      "0.08434247970581055\n"
     ]
    },
    {
     "name": "stderr",
     "output_type": "stream",
     "text": [
      "\n",
      " 96%|██████████████████████████████████████▍ | 960/1000 [01:25<00:03, 11.19it/s]\u001b[A"
     ]
    },
    {
     "name": "stdout",
     "output_type": "stream",
     "text": [
      "0.09269928932189941\n",
      "0.0859982967376709\n",
      "0.08796167373657227\n"
     ]
    },
    {
     "name": "stderr",
     "output_type": "stream",
     "text": [
      "\n",
      " 96%|██████████████████████████████████████▍ | 962/1000 [01:25<00:03, 11.19it/s]\u001b[A\n",
      " 96%|██████████████████████████████████████▌ | 964/1000 [01:26<00:03, 11.28it/s]\u001b[A"
     ]
    },
    {
     "name": "stdout",
     "output_type": "stream",
     "text": [
      "0.09000587463378906\n",
      "0.08876919746398926\n",
      "0.08399534225463867\n"
     ]
    },
    {
     "name": "stderr",
     "output_type": "stream",
     "text": [
      "\n",
      " 97%|██████████████████████████████████████▋ | 966/1000 [01:26<00:03, 11.27it/s]\u001b[A"
     ]
    },
    {
     "name": "stdout",
     "output_type": "stream",
     "text": [
      "0.09190583229064941\n",
      "0.08452463150024414\n",
      "0.08929991722106934\n"
     ]
    },
    {
     "name": "stderr",
     "output_type": "stream",
     "text": [
      "\n",
      " 97%|██████████████████████████████████████▋ | 968/1000 [01:26<00:02, 11.24it/s]\u001b[A\n",
      " 97%|██████████████████████████████████████▊ | 970/1000 [01:26<00:02, 11.26it/s]\u001b[A"
     ]
    },
    {
     "name": "stdout",
     "output_type": "stream",
     "text": [
      "0.08876824378967285\n",
      "0.0916287899017334\n",
      "0.08390450477600098\n"
     ]
    },
    {
     "name": "stderr",
     "output_type": "stream",
     "text": [
      "\n",
      " 97%|██████████████████████████████████████▉ | 972/1000 [01:26<00:02, 11.24it/s]\u001b[A"
     ]
    },
    {
     "name": "stdout",
     "output_type": "stream",
     "text": [
      "0.09325242042541504\n",
      "0.08380675315856934\n",
      "0.08918547630310059\n"
     ]
    },
    {
     "name": "stderr",
     "output_type": "stream",
     "text": [
      "\n",
      " 97%|██████████████████████████████████████▉ | 974/1000 [01:27<00:02, 11.23it/s]\u001b[A\n",
      " 98%|███████████████████████████████████████ | 976/1000 [01:27<00:02, 11.29it/s]\u001b[A"
     ]
    },
    {
     "name": "stdout",
     "output_type": "stream",
     "text": [
      "0.08847570419311523\n",
      "0.08934187889099121\n",
      "0.08462929725646973\n"
     ]
    },
    {
     "name": "stderr",
     "output_type": "stream",
     "text": [
      "\n",
      " 98%|███████████████████████████████████████ | 978/1000 [01:27<00:01, 11.25it/s]\u001b[A"
     ]
    },
    {
     "name": "stdout",
     "output_type": "stream",
     "text": [
      "0.09348702430725098\n",
      "0.08429336547851562\n",
      "0.09161925315856934\n"
     ]
    },
    {
     "name": "stderr",
     "output_type": "stream",
     "text": [
      "\n",
      " 98%|███████████████████████████████████████▏| 980/1000 [01:27<00:01, 11.16it/s]\u001b[A\n",
      " 98%|███████████████████████████████████████▎| 982/1000 [01:27<00:01, 11.20it/s]\u001b[A"
     ]
    },
    {
     "name": "stdout",
     "output_type": "stream",
     "text": [
      "0.08988571166992188\n",
      "0.08945488929748535\n",
      "0.08637666702270508\n"
     ]
    },
    {
     "name": "stderr",
     "output_type": "stream",
     "text": [
      "\n",
      " 98%|███████████████████████████████████████▎| 984/1000 [01:27<00:01, 11.22it/s]\u001b[A"
     ]
    },
    {
     "name": "stdout",
     "output_type": "stream",
     "text": [
      "0.09289240837097168\n",
      "0.08374738693237305\n",
      "0.09168481826782227\n"
     ]
    },
    {
     "name": "stderr",
     "output_type": "stream",
     "text": [
      "\n",
      " 99%|███████████████████████████████████████▍| 986/1000 [01:28<00:01, 11.14it/s]\u001b[A\n",
      " 99%|███████████████████████████████████████▌| 988/1000 [01:28<00:01, 11.18it/s]\u001b[A"
     ]
    },
    {
     "name": "stdout",
     "output_type": "stream",
     "text": [
      "0.08944320678710938\n",
      "0.09176921844482422\n",
      "0.08471393585205078\n"
     ]
    },
    {
     "name": "stderr",
     "output_type": "stream",
     "text": [
      "\n",
      " 99%|███████████████████████████████████████▌| 990/1000 [01:28<00:00, 11.21it/s]\u001b[A"
     ]
    },
    {
     "name": "stdout",
     "output_type": "stream",
     "text": [
      "0.09211039543151855\n",
      "0.0841054916381836\n",
      "0.08837246894836426\n"
     ]
    },
    {
     "name": "stderr",
     "output_type": "stream",
     "text": [
      "\n",
      " 99%|███████████████████████████████████████▋| 992/1000 [01:28<00:00, 11.21it/s]\u001b[A\n",
      " 99%|███████████████████████████████████████▊| 994/1000 [01:28<00:00, 11.25it/s]\u001b[A"
     ]
    },
    {
     "name": "stdout",
     "output_type": "stream",
     "text": [
      "0.08860611915588379\n",
      "0.0903778076171875\n",
      "0.08495569229125977\n"
     ]
    },
    {
     "name": "stderr",
     "output_type": "stream",
     "text": [
      "\n",
      "100%|███████████████████████████████████████▊| 996/1000 [01:29<00:00, 11.26it/s]\u001b[A"
     ]
    },
    {
     "name": "stdout",
     "output_type": "stream",
     "text": [
      "0.09193181991577148\n",
      "0.08430194854736328\n",
      "0.08887386322021484\n"
     ]
    },
    {
     "name": "stderr",
     "output_type": "stream",
     "text": [
      "\n",
      "100%|███████████████████████████████████████▉| 998/1000 [01:29<00:00, 11.24it/s]\u001b[A\n",
      "100%|███████████████████████████████████████| 1000/1000 [01:29<00:00, 11.19it/s]\u001b[A\n",
      " 80%|████████████████████████████████████         | 4/5 [05:56<01:29, 89.13s/it]"
     ]
    },
    {
     "name": "stdout",
     "output_type": "stream",
     "text": [
      "0.08861970901489258\n",
      "0.08771991729736328\n",
      "0.08341026306152344\n",
      "One run completed\n"
     ]
    },
    {
     "name": "stderr",
     "output_type": "stream",
     "text": [
      "\n",
      "  0%|                                                  | 0/1000 [00:00<?, ?it/s]\u001b[A\n",
      "  0%|                                          | 2/1000 [00:00<01:27, 11.43it/s]\u001b[A"
     ]
    },
    {
     "name": "stdout",
     "output_type": "stream",
     "text": [
      "0.09049034118652344\n",
      "0.08432126045227051\n",
      "0.10012435913085938\n"
     ]
    },
    {
     "name": "stderr",
     "output_type": "stream",
     "text": [
      "\n",
      "  0%|▏                                         | 4/1000 [00:00<01:30, 10.96it/s]\u001b[A\n",
      "  1%|▎                                         | 6/1000 [00:00<01:28, 11.21it/s]\u001b[A"
     ]
    },
    {
     "name": "stdout",
     "output_type": "stream",
     "text": [
      "0.08650875091552734\n",
      "0.08907961845397949\n",
      "0.08328843116760254\n"
     ]
    },
    {
     "name": "stderr",
     "output_type": "stream",
     "text": [
      "\n",
      "  1%|▎                                         | 8/1000 [00:00<01:28, 11.27it/s]\u001b[A"
     ]
    },
    {
     "name": "stdout",
     "output_type": "stream",
     "text": [
      "0.09043335914611816\n",
      "0.08473896980285645\n",
      "0.08871698379516602\n"
     ]
    },
    {
     "name": "stderr",
     "output_type": "stream",
     "text": [
      "\n",
      "  1%|▍                                        | 10/1000 [00:00<01:27, 11.25it/s]\u001b[A\n",
      "  1%|▍                                        | 12/1000 [00:01<01:27, 11.36it/s]\u001b[A"
     ]
    },
    {
     "name": "stdout",
     "output_type": "stream",
     "text": [
      "0.0883331298828125\n",
      "0.08701610565185547\n",
      "0.08480143547058105\n"
     ]
    },
    {
     "name": "stderr",
     "output_type": "stream",
     "text": [
      "\n",
      "  1%|▌                                        | 14/1000 [00:01<01:26, 11.35it/s]\u001b[A"
     ]
    },
    {
     "name": "stdout",
     "output_type": "stream",
     "text": [
      "0.09038043022155762\n",
      "0.08462023735046387\n",
      "0.08763957023620605\n"
     ]
    },
    {
     "name": "stderr",
     "output_type": "stream",
     "text": [
      "\n",
      "  2%|▋                                        | 16/1000 [00:01<01:26, 11.34it/s]\u001b[A\n",
      "  2%|▋                                        | 18/1000 [00:01<01:25, 11.44it/s]\u001b[A"
     ]
    },
    {
     "name": "stdout",
     "output_type": "stream",
     "text": [
      "0.08801841735839844\n",
      "0.08556604385375977\n",
      "0.08468890190124512\n"
     ]
    },
    {
     "name": "stderr",
     "output_type": "stream",
     "text": [
      "\n",
      "  2%|▊                                        | 20/1000 [00:01<01:25, 11.43it/s]\u001b[A"
     ]
    },
    {
     "name": "stdout",
     "output_type": "stream",
     "text": [
      "0.09040999412536621\n",
      "0.08383750915527344\n",
      "0.08826088905334473\n"
     ]
    },
    {
     "name": "stderr",
     "output_type": "stream",
     "text": [
      "\n",
      "  2%|▉                                        | 22/1000 [00:01<01:25, 11.39it/s]\u001b[A\n",
      "  2%|▉                                        | 24/1000 [00:02<01:25, 11.44it/s]\u001b[A"
     ]
    },
    {
     "name": "stdout",
     "output_type": "stream",
     "text": [
      "0.08738231658935547\n",
      "0.08669233322143555\n",
      "0.08542037010192871\n"
     ]
    },
    {
     "name": "stderr",
     "output_type": "stream",
     "text": [
      "\n",
      "  3%|█                                        | 26/1000 [00:02<01:25, 11.40it/s]\u001b[A"
     ]
    },
    {
     "name": "stdout",
     "output_type": "stream",
     "text": [
      "0.09035658836364746\n",
      "0.08516907691955566\n",
      "0.08740472793579102\n"
     ]
    },
    {
     "name": "stderr",
     "output_type": "stream",
     "text": [
      "\n",
      "  3%|█▏                                       | 28/1000 [00:02<01:25, 11.38it/s]\u001b[A\n",
      "  3%|█▏                                       | 30/1000 [00:02<01:24, 11.43it/s]\u001b[A"
     ]
    },
    {
     "name": "stdout",
     "output_type": "stream",
     "text": [
      "0.08830094337463379\n",
      "0.08701133728027344\n",
      "0.08499836921691895\n"
     ]
    },
    {
     "name": "stderr",
     "output_type": "stream",
     "text": [
      "\n",
      "  3%|█▎                                       | 32/1000 [00:02<01:24, 11.39it/s]\u001b[A"
     ]
    },
    {
     "name": "stdout",
     "output_type": "stream",
     "text": [
      "0.09087347984313965\n",
      "0.08512616157531738\n",
      "0.08841443061828613\n"
     ]
    },
    {
     "name": "stderr",
     "output_type": "stream",
     "text": [
      "\n",
      "  3%|█▍                                       | 34/1000 [00:02<01:25, 11.35it/s]\u001b[A\n",
      "  4%|█▍                                       | 36/1000 [00:03<01:24, 11.40it/s]\u001b[A"
     ]
    },
    {
     "name": "stdout",
     "output_type": "stream",
     "text": [
      "0.08793425559997559\n",
      "0.08772158622741699\n",
      "0.08487296104431152\n"
     ]
    },
    {
     "name": "stderr",
     "output_type": "stream",
     "text": [
      "\n",
      "  4%|█▌                                       | 38/1000 [00:03<01:24, 11.37it/s]\u001b[A"
     ]
    },
    {
     "name": "stdout",
     "output_type": "stream",
     "text": [
      "0.09162569046020508\n",
      "0.08409881591796875\n",
      "0.0903007984161377\n"
     ]
    },
    {
     "name": "stderr",
     "output_type": "stream",
     "text": [
      "\n",
      "  4%|█▋                                       | 40/1000 [00:03<01:24, 11.30it/s]\u001b[A\n",
      "  4%|█▋                                       | 42/1000 [00:03<01:24, 11.40it/s]\u001b[A"
     ]
    },
    {
     "name": "stdout",
     "output_type": "stream",
     "text": [
      "0.0881032943725586\n",
      "0.08636879920959473\n",
      "0.08431005477905273\n"
     ]
    },
    {
     "name": "stderr",
     "output_type": "stream",
     "text": [
      "\n",
      "  4%|█▊                                       | 44/1000 [00:03<01:24, 11.38it/s]\u001b[A"
     ]
    },
    {
     "name": "stdout",
     "output_type": "stream",
     "text": [
      "0.0907144546508789\n",
      "0.08470845222473145\n",
      "0.08759474754333496\n"
     ]
    },
    {
     "name": "stderr",
     "output_type": "stream",
     "text": [
      "\n",
      "  5%|█▉                                       | 46/1000 [00:04<01:23, 11.36it/s]\u001b[A\n",
      "  5%|█▉                                       | 48/1000 [00:04<01:23, 11.41it/s]\u001b[A"
     ]
    },
    {
     "name": "stdout",
     "output_type": "stream",
     "text": [
      "0.08779358863830566\n",
      "0.08739709854125977\n",
      "0.0849449634552002\n"
     ]
    },
    {
     "name": "stderr",
     "output_type": "stream",
     "text": [
      "\n",
      "  5%|██                                       | 50/1000 [00:04<01:23, 11.39it/s]\u001b[A"
     ]
    },
    {
     "name": "stdout",
     "output_type": "stream",
     "text": [
      "0.09026360511779785\n",
      "0.08475375175476074\n",
      "0.08975672721862793\n"
     ]
    },
    {
     "name": "stderr",
     "output_type": "stream",
     "text": [
      "\n",
      "  5%|██▏                                      | 52/1000 [00:04<01:23, 11.33it/s]\u001b[A\n",
      "  5%|██▏                                      | 54/1000 [00:04<01:23, 11.38it/s]\u001b[A"
     ]
    },
    {
     "name": "stdout",
     "output_type": "stream",
     "text": [
      "0.08781695365905762\n",
      "0.08957433700561523\n",
      "0.08360075950622559\n"
     ]
    },
    {
     "name": "stderr",
     "output_type": "stream",
     "text": [
      "\n",
      "  6%|██▎                                      | 56/1000 [00:04<01:23, 11.36it/s]\u001b[A"
     ]
    },
    {
     "name": "stdout",
     "output_type": "stream",
     "text": [
      "0.0900578498840332\n",
      "0.08549284934997559\n",
      "0.08809781074523926\n"
     ]
    },
    {
     "name": "stderr",
     "output_type": "stream",
     "text": [
      "\n",
      "  6%|██▍                                      | 58/1000 [00:05<01:22, 11.36it/s]\u001b[A\n",
      "  6%|██▍                                      | 60/1000 [00:05<01:22, 11.43it/s]\u001b[A"
     ]
    },
    {
     "name": "stdout",
     "output_type": "stream",
     "text": [
      "0.08653616905212402\n",
      "0.0884392261505127\n",
      "0.08319711685180664\n"
     ]
    },
    {
     "name": "stderr",
     "output_type": "stream",
     "text": [
      "\n",
      "  6%|██▌                                      | 62/1000 [00:05<01:22, 11.42it/s]\u001b[A"
     ]
    },
    {
     "name": "stdout",
     "output_type": "stream",
     "text": [
      "0.08977556228637695\n",
      "0.08436822891235352\n",
      "0.08698487281799316\n"
     ]
    },
    {
     "name": "stderr",
     "output_type": "stream",
     "text": [
      "\n",
      "  6%|██▌                                      | 64/1000 [00:05<01:21, 11.42it/s]\u001b[A\n",
      "  7%|██▋                                      | 66/1000 [00:05<01:21, 11.43it/s]\u001b[A"
     ]
    },
    {
     "name": "stdout",
     "output_type": "stream",
     "text": [
      "0.08661174774169922\n",
      "0.09018230438232422\n",
      "0.08345460891723633\n"
     ]
    },
    {
     "name": "stderr",
     "output_type": "stream",
     "text": [
      "\n",
      "  7%|██▊                                      | 68/1000 [00:05<01:22, 11.30it/s]\u001b[A"
     ]
    },
    {
     "name": "stdout",
     "output_type": "stream",
     "text": [
      "0.09394335746765137\n",
      "0.0865333080291748\n",
      "0.08709573745727539\n"
     ]
    },
    {
     "name": "stderr",
     "output_type": "stream",
     "text": [
      "\n",
      "  7%|██▊                                      | 70/1000 [00:06<01:22, 11.28it/s]\u001b[A\n",
      "  7%|██▉                                      | 72/1000 [00:06<01:21, 11.33it/s]\u001b[A"
     ]
    },
    {
     "name": "stdout",
     "output_type": "stream",
     "text": [
      "0.08980894088745117\n",
      "0.08643555641174316\n",
      "0.08703303337097168\n"
     ]
    },
    {
     "name": "stderr",
     "output_type": "stream",
     "text": [
      "\n",
      "  7%|███                                      | 74/1000 [00:06<01:21, 11.33it/s]\u001b[A"
     ]
    },
    {
     "name": "stdout",
     "output_type": "stream",
     "text": [
      "0.08897137641906738\n",
      "0.08614063262939453\n",
      "0.09090757369995117\n"
     ]
    },
    {
     "name": "stderr",
     "output_type": "stream",
     "text": [
      "\n",
      "  8%|███                                      | 76/1000 [00:06<01:22, 11.23it/s]\u001b[A\n",
      "  8%|███▏                                     | 78/1000 [00:06<01:21, 11.38it/s]\u001b[A"
     ]
    },
    {
     "name": "stdout",
     "output_type": "stream",
     "text": [
      "0.0897073745727539\n",
      "0.08630228042602539\n",
      "0.08280324935913086\n"
     ]
    },
    {
     "name": "stderr",
     "output_type": "stream",
     "text": [
      "\n",
      "  8%|███▎                                     | 80/1000 [00:07<01:21, 11.35it/s]\u001b[A"
     ]
    },
    {
     "name": "stdout",
     "output_type": "stream",
     "text": [
      "0.0910341739654541\n",
      "0.08507609367370605\n",
      "0.08851504325866699\n"
     ]
    },
    {
     "name": "stderr",
     "output_type": "stream",
     "text": [
      "\n",
      "  8%|███▎                                     | 82/1000 [00:07<01:21, 11.33it/s]\u001b[A\n",
      "  8%|███▍                                     | 84/1000 [00:07<01:20, 11.44it/s]\u001b[A"
     ]
    },
    {
     "name": "stdout",
     "output_type": "stream",
     "text": [
      "0.08767986297607422\n",
      "0.0866708755493164\n",
      "0.08320450782775879\n"
     ]
    },
    {
     "name": "stderr",
     "output_type": "stream",
     "text": [
      "\n",
      "  9%|███▌                                     | 86/1000 [00:07<01:19, 11.43it/s]\u001b[A"
     ]
    },
    {
     "name": "stdout",
     "output_type": "stream",
     "text": [
      "0.09023404121398926\n",
      "0.08388805389404297\n",
      "0.08749961853027344\n"
     ]
    },
    {
     "name": "stderr",
     "output_type": "stream",
     "text": [
      "\n",
      "  9%|███▌                                     | 88/1000 [00:07<01:19, 11.43it/s]\u001b[A\n",
      "  9%|███▋                                     | 90/1000 [00:07<01:19, 11.44it/s]\u001b[A"
     ]
    },
    {
     "name": "stdout",
     "output_type": "stream",
     "text": [
      "0.08647489547729492\n",
      "0.09023666381835938\n",
      "0.08325457572937012\n"
     ]
    },
    {
     "name": "stderr",
     "output_type": "stream",
     "text": [
      "\n",
      "  9%|███▊                                     | 92/1000 [00:08<01:20, 11.25it/s]\u001b[A"
     ]
    },
    {
     "name": "stdout",
     "output_type": "stream",
     "text": [
      "0.09855389595031738\n",
      "0.08498692512512207\n",
      "0.08963990211486816\n"
     ]
    },
    {
     "name": "stderr",
     "output_type": "stream",
     "text": [
      "\n",
      "  9%|███▊                                     | 94/1000 [00:08<01:20, 11.25it/s]\u001b[A\n",
      " 10%|███▉                                     | 96/1000 [00:08<01:20, 11.29it/s]\u001b[A"
     ]
    },
    {
     "name": "stdout",
     "output_type": "stream",
     "text": [
      "0.08691120147705078\n",
      "0.08979678153991699\n",
      "0.08453798294067383\n"
     ]
    },
    {
     "name": "stderr",
     "output_type": "stream",
     "text": [
      "\n",
      " 10%|████                                     | 98/1000 [00:08<01:19, 11.30it/s]\u001b[A"
     ]
    },
    {
     "name": "stdout",
     "output_type": "stream",
     "text": [
      "0.09115982055664062\n",
      "0.08433246612548828\n",
      "0.0877382755279541\n"
     ]
    },
    {
     "name": "stderr",
     "output_type": "stream",
     "text": [
      "\n",
      " 10%|████                                    | 100/1000 [00:08<01:19, 11.34it/s]\u001b[A\n",
      " 10%|████                                    | 102/1000 [00:08<01:18, 11.39it/s]\u001b[A"
     ]
    },
    {
     "name": "stdout",
     "output_type": "stream",
     "text": [
      "0.08628582954406738\n",
      "0.0896902084350586\n",
      "0.08304882049560547\n"
     ]
    },
    {
     "name": "stderr",
     "output_type": "stream",
     "text": [
      "\n",
      " 10%|████▏                                   | 104/1000 [00:09<01:18, 11.36it/s]\u001b[A"
     ]
    },
    {
     "name": "stdout",
     "output_type": "stream",
     "text": [
      "0.09094500541687012\n",
      "0.08492255210876465\n",
      "0.0882863998413086\n"
     ]
    },
    {
     "name": "stderr",
     "output_type": "stream",
     "text": [
      "\n",
      " 11%|████▏                                   | 106/1000 [00:09<01:18, 11.35it/s]\u001b[A\n",
      " 11%|████▎                                   | 108/1000 [00:09<01:18, 11.42it/s]\u001b[A"
     ]
    },
    {
     "name": "stdout",
     "output_type": "stream",
     "text": [
      "0.08682680130004883\n",
      "0.08778071403503418\n",
      "0.08337903022766113\n"
     ]
    },
    {
     "name": "stderr",
     "output_type": "stream",
     "text": [
      "\n",
      " 11%|████▍                                   | 110/1000 [00:09<01:18, 11.40it/s]\u001b[A"
     ]
    },
    {
     "name": "stdout",
     "output_type": "stream",
     "text": [
      "0.09130716323852539\n",
      "0.08374881744384766\n",
      "0.0889739990234375\n"
     ]
    },
    {
     "name": "stderr",
     "output_type": "stream",
     "text": [
      "\n",
      " 11%|████▍                                   | 112/1000 [00:09<01:18, 11.37it/s]\u001b[A\n",
      " 11%|████▌                                   | 114/1000 [00:10<01:17, 11.45it/s]\u001b[A"
     ]
    },
    {
     "name": "stdout",
     "output_type": "stream",
     "text": [
      "0.08691143989562988\n",
      "0.08809614181518555\n",
      "0.08272480964660645\n"
     ]
    },
    {
     "name": "stderr",
     "output_type": "stream",
     "text": [
      "\n",
      " 12%|████▋                                   | 116/1000 [00:10<01:17, 11.41it/s]\u001b[A"
     ]
    },
    {
     "name": "stdout",
     "output_type": "stream",
     "text": [
      "0.09106707572937012\n",
      "0.0846858024597168\n",
      "0.08777451515197754\n"
     ]
    },
    {
     "name": "stderr",
     "output_type": "stream",
     "text": [
      "\n",
      " 12%|████▋                                   | 118/1000 [00:10<01:17, 11.40it/s]\u001b[A\n",
      " 12%|████▊                                   | 120/1000 [00:10<01:17, 11.40it/s]\u001b[A"
     ]
    },
    {
     "name": "stdout",
     "output_type": "stream",
     "text": [
      "0.08713889122009277\n",
      "0.09085297584533691\n",
      "0.08333754539489746\n"
     ]
    },
    {
     "name": "stderr",
     "output_type": "stream",
     "text": [
      "\n",
      " 12%|████▉                                   | 122/1000 [00:10<01:16, 11.41it/s]\u001b[A"
     ]
    },
    {
     "name": "stdout",
     "output_type": "stream",
     "text": [
      "0.0901336669921875\n",
      "0.08358573913574219\n",
      "0.08935976028442383\n"
     ]
    },
    {
     "name": "stderr",
     "output_type": "stream",
     "text": [
      "\n",
      " 12%|████▉                                   | 124/1000 [00:10<01:17, 11.37it/s]\u001b[A\n",
      " 13%|█████                                   | 126/1000 [00:11<01:16, 11.42it/s]\u001b[A"
     ]
    },
    {
     "name": "stdout",
     "output_type": "stream",
     "text": [
      "0.08676767349243164\n",
      "0.08740019798278809\n",
      "0.08452439308166504\n"
     ]
    },
    {
     "name": "stderr",
     "output_type": "stream",
     "text": [
      "\n",
      " 13%|█████                                   | 128/1000 [00:11<01:16, 11.38it/s]\u001b[A"
     ]
    },
    {
     "name": "stdout",
     "output_type": "stream",
     "text": [
      "0.09154534339904785\n",
      "0.08474278450012207\n",
      "0.09055066108703613\n"
     ]
    },
    {
     "name": "stderr",
     "output_type": "stream",
     "text": [
      "\n",
      " 13%|█████▏                                  | 130/1000 [00:11<01:17, 11.29it/s]\u001b[A\n",
      " 13%|█████▎                                  | 132/1000 [00:11<01:16, 11.36it/s]\u001b[A"
     ]
    },
    {
     "name": "stdout",
     "output_type": "stream",
     "text": [
      "0.08858323097229004\n",
      "0.08838891983032227\n",
      "0.08384585380554199\n"
     ]
    },
    {
     "name": "stderr",
     "output_type": "stream",
     "text": [
      "\n",
      " 13%|█████▎                                  | 134/1000 [00:11<01:16, 11.37it/s]\u001b[A"
     ]
    },
    {
     "name": "stdout",
     "output_type": "stream",
     "text": [
      "0.09061121940612793\n",
      "0.0841836929321289\n",
      "0.08869767189025879\n"
     ]
    },
    {
     "name": "stderr",
     "output_type": "stream",
     "text": [
      "\n",
      " 14%|█████▍                                  | 136/1000 [00:11<01:16, 11.35it/s]\u001b[A\n",
      " 14%|█████▌                                  | 138/1000 [00:12<01:15, 11.42it/s]\u001b[A"
     ]
    },
    {
     "name": "stdout",
     "output_type": "stream",
     "text": [
      "0.08713722229003906\n",
      "0.0870058536529541\n",
      "0.08424973487854004\n"
     ]
    },
    {
     "name": "stderr",
     "output_type": "stream",
     "text": [
      "\n",
      " 14%|█████▌                                  | 140/1000 [00:12<01:15, 11.41it/s]\u001b[A"
     ]
    },
    {
     "name": "stdout",
     "output_type": "stream",
     "text": [
      "0.09107041358947754\n",
      "0.08331871032714844\n",
      "0.08968043327331543\n"
     ]
    },
    {
     "name": "stderr",
     "output_type": "stream",
     "text": [
      "\n",
      " 14%|█████▋                                  | 142/1000 [00:12<01:15, 11.35it/s]\u001b[A\n",
      " 14%|█████▊                                  | 144/1000 [00:12<01:15, 11.36it/s]\u001b[A"
     ]
    },
    {
     "name": "stdout",
     "output_type": "stream",
     "text": [
      "0.08780407905578613\n",
      "0.08927178382873535\n",
      "0.08506608009338379\n"
     ]
    },
    {
     "name": "stderr",
     "output_type": "stream",
     "text": [
      "\n",
      " 15%|█████▊                                  | 146/1000 [00:12<01:15, 11.36it/s]\u001b[A"
     ]
    },
    {
     "name": "stdout",
     "output_type": "stream",
     "text": [
      "0.09032821655273438\n",
      "0.0846257209777832\n",
      "0.08780455589294434\n"
     ]
    },
    {
     "name": "stderr",
     "output_type": "stream",
     "text": [
      "\n",
      " 15%|█████▉                                  | 148/1000 [00:13<01:14, 11.37it/s]\u001b[A\n",
      " 15%|██████                                  | 150/1000 [00:13<01:14, 11.41it/s]\u001b[A"
     ]
    },
    {
     "name": "stdout",
     "output_type": "stream",
     "text": [
      "0.08656096458435059\n",
      "0.08785343170166016\n",
      "0.08461666107177734\n"
     ]
    },
    {
     "name": "stderr",
     "output_type": "stream",
     "text": [
      "\n",
      " 15%|██████                                  | 152/1000 [00:13<01:14, 11.43it/s]\u001b[A"
     ]
    },
    {
     "name": "stdout",
     "output_type": "stream",
     "text": [
      "0.08966398239135742\n",
      "0.0833430290222168\n",
      "0.08889460563659668\n"
     ]
    },
    {
     "name": "stderr",
     "output_type": "stream",
     "text": [
      "\n",
      " 15%|██████▏                                 | 154/1000 [00:13<01:14, 11.39it/s]\u001b[A\n",
      " 16%|██████▏                                 | 156/1000 [00:13<01:13, 11.46it/s]\u001b[A"
     ]
    },
    {
     "name": "stdout",
     "output_type": "stream",
     "text": [
      "0.08746075630187988\n",
      "0.08616185188293457\n",
      "0.08453130722045898\n"
     ]
    },
    {
     "name": "stderr",
     "output_type": "stream",
     "text": [
      "\n",
      " 16%|██████▎                                 | 158/1000 [00:13<01:13, 11.42it/s]\u001b[A"
     ]
    },
    {
     "name": "stdout",
     "output_type": "stream",
     "text": [
      "0.09032821655273438\n",
      "0.08516120910644531\n",
      "0.08899235725402832\n"
     ]
    },
    {
     "name": "stderr",
     "output_type": "stream",
     "text": [
      "\n",
      " 16%|██████▍                                 | 160/1000 [00:14<01:13, 11.37it/s]\u001b[A\n",
      " 16%|██████▍                                 | 162/1000 [00:14<01:13, 11.39it/s]\u001b[A"
     ]
    },
    {
     "name": "stdout",
     "output_type": "stream",
     "text": [
      "0.08752703666687012\n",
      "0.0877678394317627\n",
      "0.08580994606018066\n"
     ]
    },
    {
     "name": "stderr",
     "output_type": "stream",
     "text": [
      "\n",
      " 16%|██████▌                                 | 164/1000 [00:14<01:13, 11.39it/s]\u001b[A"
     ]
    },
    {
     "name": "stdout",
     "output_type": "stream",
     "text": [
      "0.08950686454772949\n",
      "0.08499670028686523\n",
      "0.08804726600646973\n"
     ]
    },
    {
     "name": "stderr",
     "output_type": "stream",
     "text": [
      "\n",
      " 17%|██████▋                                 | 166/1000 [00:14<01:13, 11.37it/s]\u001b[A\n",
      " 17%|██████▋                                 | 168/1000 [00:14<01:12, 11.43it/s]\u001b[A"
     ]
    },
    {
     "name": "stdout",
     "output_type": "stream",
     "text": [
      "0.08731412887573242\n",
      "0.08675646781921387\n",
      "0.08496665954589844\n"
     ]
    },
    {
     "name": "stderr",
     "output_type": "stream",
     "text": [
      "\n",
      " 17%|██████▊                                 | 170/1000 [00:14<01:12, 11.42it/s]\u001b[A"
     ]
    },
    {
     "name": "stdout",
     "output_type": "stream",
     "text": [
      "0.08967757225036621\n",
      "0.08465433120727539\n",
      "0.08904576301574707\n"
     ]
    },
    {
     "name": "stderr",
     "output_type": "stream",
     "text": [
      "\n",
      " 17%|██████▉                                 | 172/1000 [00:15<01:12, 11.36it/s]\u001b[A\n",
      " 17%|██████▉                                 | 174/1000 [00:15<01:12, 11.35it/s]\u001b[A"
     ]
    },
    {
     "name": "stdout",
     "output_type": "stream",
     "text": [
      "0.08809089660644531\n",
      "0.09052634239196777\n",
      "0.08459663391113281\n"
     ]
    },
    {
     "name": "stderr",
     "output_type": "stream",
     "text": [
      "\n",
      " 18%|███████                                 | 176/1000 [00:15<01:12, 11.36it/s]\u001b[A"
     ]
    },
    {
     "name": "stdout",
     "output_type": "stream",
     "text": [
      "0.09007477760314941\n",
      "0.08475232124328613\n",
      "0.08986663818359375\n"
     ]
    },
    {
     "name": "stderr",
     "output_type": "stream",
     "text": [
      "\n",
      " 18%|███████                                 | 178/1000 [00:15<01:12, 11.31it/s]\u001b[A\n",
      " 18%|███████▏                                | 180/1000 [00:15<01:12, 11.36it/s]\u001b[A"
     ]
    },
    {
     "name": "stdout",
     "output_type": "stream",
     "text": [
      "0.08734750747680664\n",
      "0.08705997467041016\n",
      "0.08608007431030273\n"
     ]
    },
    {
     "name": "stderr",
     "output_type": "stream",
     "text": [
      "\n",
      " 18%|███████▎                                | 182/1000 [00:16<01:12, 11.35it/s]\u001b[A"
     ]
    },
    {
     "name": "stdout",
     "output_type": "stream",
     "text": [
      "0.09050679206848145\n",
      "0.08484864234924316\n",
      "0.09653353691101074\n"
     ]
    },
    {
     "name": "stderr",
     "output_type": "stream",
     "text": [
      "\n",
      " 18%|███████▎                                | 184/1000 [00:16<01:13, 11.15it/s]\u001b[A\n",
      " 19%|███████▍                                | 186/1000 [00:16<01:12, 11.22it/s]\u001b[A"
     ]
    },
    {
     "name": "stdout",
     "output_type": "stream",
     "text": [
      "0.08942008018493652\n",
      "0.09008455276489258\n",
      "0.08418440818786621\n"
     ]
    },
    {
     "name": "stderr",
     "output_type": "stream",
     "text": [
      "\n",
      " 19%|███████▌                                | 188/1000 [00:16<01:12, 11.25it/s]\u001b[A"
     ]
    },
    {
     "name": "stdout",
     "output_type": "stream",
     "text": [
      "0.09136295318603516\n",
      "0.08401679992675781\n",
      "0.08967423439025879\n"
     ]
    },
    {
     "name": "stderr",
     "output_type": "stream",
     "text": [
      "\n",
      " 19%|███████▌                                | 190/1000 [00:16<01:12, 11.21it/s]\u001b[A\n",
      " 19%|███████▋                                | 192/1000 [00:16<01:11, 11.28it/s]\u001b[A"
     ]
    },
    {
     "name": "stdout",
     "output_type": "stream",
     "text": [
      "0.08929753303527832\n",
      "0.08983826637268066\n",
      "0.08373379707336426\n"
     ]
    },
    {
     "name": "stderr",
     "output_type": "stream",
     "text": [
      "\n",
      " 19%|███████▊                                | 194/1000 [00:17<01:11, 11.30it/s]\u001b[A"
     ]
    },
    {
     "name": "stdout",
     "output_type": "stream",
     "text": [
      "0.09096860885620117\n",
      "0.0841834545135498\n",
      "0.08867764472961426\n"
     ]
    },
    {
     "name": "stderr",
     "output_type": "stream",
     "text": [
      "\n",
      " 20%|███████▊                                | 196/1000 [00:17<01:11, 11.28it/s]\u001b[A\n",
      " 20%|███████▉                                | 198/1000 [00:17<01:10, 11.36it/s]\u001b[A"
     ]
    },
    {
     "name": "stdout",
     "output_type": "stream",
     "text": [
      "0.08821392059326172\n",
      "0.08893418312072754\n",
      "0.08340716361999512\n"
     ]
    },
    {
     "name": "stderr",
     "output_type": "stream",
     "text": [
      "\n",
      " 20%|████████                                | 200/1000 [00:17<01:10, 11.38it/s]\u001b[A"
     ]
    },
    {
     "name": "stdout",
     "output_type": "stream",
     "text": [
      "0.09024715423583984\n",
      "0.08349990844726562\n",
      "0.09024858474731445\n"
     ]
    },
    {
     "name": "stderr",
     "output_type": "stream",
     "text": [
      "\n",
      " 20%|████████                                | 202/1000 [00:17<01:10, 11.30it/s]\u001b[A\n",
      " 20%|████████▏                               | 204/1000 [00:17<01:09, 11.42it/s]\u001b[A"
     ]
    },
    {
     "name": "stdout",
     "output_type": "stream",
     "text": [
      "0.08815217018127441\n",
      "0.08612060546875\n",
      "0.0836019515991211\n"
     ]
    },
    {
     "name": "stderr",
     "output_type": "stream",
     "text": [
      "\n",
      " 21%|████████▏                               | 206/1000 [00:18<01:09, 11.42it/s]\u001b[A"
     ]
    },
    {
     "name": "stdout",
     "output_type": "stream",
     "text": [
      "0.0899357795715332\n",
      "0.08385610580444336\n",
      "0.08979153633117676\n"
     ]
    },
    {
     "name": "stderr",
     "output_type": "stream",
     "text": [
      "\n",
      " 21%|████████▎                               | 208/1000 [00:18<01:14, 10.64it/s]\u001b[A\n",
      " 21%|████████▍                               | 210/1000 [00:18<01:13, 10.81it/s]\u001b[A"
     ]
    },
    {
     "name": "stdout",
     "output_type": "stream",
     "text": [
      "0.12676596641540527\n",
      "0.09063291549682617\n",
      "0.08610916137695312\n",
      "0.0924079418182373\n"
     ]
    },
    {
     "name": "stderr",
     "output_type": "stream",
     "text": [
      "\n",
      " 21%|████████▍                               | 212/1000 [00:18<01:30,  8.75it/s]\u001b[A\n",
      " 21%|████████▌                               | 214/1000 [00:19<01:23,  9.39it/s]\u001b[A"
     ]
    },
    {
     "name": "stdout",
     "output_type": "stream",
     "text": [
      "0.23633766174316406\n",
      "0.09127449989318848\n",
      "0.08411026000976562\n"
     ]
    },
    {
     "name": "stderr",
     "output_type": "stream",
     "text": [
      "\n",
      " 22%|████████▋                               | 216/1000 [00:19<01:19,  9.85it/s]\u001b[A"
     ]
    },
    {
     "name": "stdout",
     "output_type": "stream",
     "text": [
      "0.09174966812133789\n",
      "0.0870368480682373\n",
      "0.08905816078186035\n"
     ]
    },
    {
     "name": "stderr",
     "output_type": "stream",
     "text": [
      "\n",
      " 22%|████████▋                               | 218/1000 [00:19<01:16, 10.22it/s]\u001b[A\n",
      " 22%|████████▊                               | 220/1000 [00:19<01:14, 10.52it/s]\u001b[A"
     ]
    },
    {
     "name": "stdout",
     "output_type": "stream",
     "text": [
      "0.08839011192321777\n",
      "0.09080123901367188\n",
      "0.08444881439208984\n"
     ]
    },
    {
     "name": "stderr",
     "output_type": "stream",
     "text": [
      "\n",
      " 22%|████████▉                               | 222/1000 [00:19<01:12, 10.72it/s]\u001b[A"
     ]
    },
    {
     "name": "stdout",
     "output_type": "stream",
     "text": [
      "0.09190201759338379\n",
      "0.08505988121032715\n",
      "0.08910059928894043\n"
     ]
    },
    {
     "name": "stderr",
     "output_type": "stream",
     "text": [
      "\n",
      " 22%|████████▉                               | 224/1000 [00:19<01:11, 10.88it/s]\u001b[A\n",
      " 23%|█████████                               | 226/1000 [00:20<01:10, 11.00it/s]\u001b[A"
     ]
    },
    {
     "name": "stdout",
     "output_type": "stream",
     "text": [
      "0.08754944801330566\n",
      "0.09159612655639648\n",
      "0.08432745933532715\n"
     ]
    },
    {
     "name": "stderr",
     "output_type": "stream",
     "text": [
      "\n",
      " 23%|█████████                               | 228/1000 [00:20<01:10, 10.98it/s]\u001b[A"
     ]
    },
    {
     "name": "stdout",
     "output_type": "stream",
     "text": [
      "0.09651541709899902\n",
      "0.08530259132385254\n",
      "0.08974695205688477\n"
     ]
    },
    {
     "name": "stderr",
     "output_type": "stream",
     "text": [
      "\n",
      " 23%|█████████▏                              | 230/1000 [00:20<01:09, 11.04it/s]\u001b[A\n",
      " 23%|█████████▎                              | 232/1000 [00:20<01:08, 11.17it/s]\u001b[A"
     ]
    },
    {
     "name": "stdout",
     "output_type": "stream",
     "text": [
      "0.08779430389404297\n",
      "0.0885610580444336\n",
      "0.08446288108825684\n"
     ]
    },
    {
     "name": "stderr",
     "output_type": "stream",
     "text": [
      "\n",
      " 23%|█████████▎                              | 234/1000 [00:20<01:08, 11.16it/s]\u001b[A"
     ]
    },
    {
     "name": "stdout",
     "output_type": "stream",
     "text": [
      "0.09215569496154785\n",
      "0.08582139015197754\n",
      "0.09055304527282715\n"
     ]
    },
    {
     "name": "stderr",
     "output_type": "stream",
     "text": [
      "\n",
      " 24%|█████████▍                              | 236/1000 [00:20<01:08, 11.16it/s]\u001b[A\n",
      " 24%|█████████▌                              | 238/1000 [00:21<01:07, 11.26it/s]\u001b[A"
     ]
    },
    {
     "name": "stdout",
     "output_type": "stream",
     "text": [
      "0.08737349510192871\n",
      "0.08770012855529785\n",
      "0.0849769115447998\n"
     ]
    },
    {
     "name": "stderr",
     "output_type": "stream",
     "text": [
      "\n",
      " 24%|█████████▌                              | 240/1000 [00:21<01:07, 11.21it/s]\u001b[A"
     ]
    },
    {
     "name": "stdout",
     "output_type": "stream",
     "text": [
      "0.09404873847961426\n",
      "0.08519220352172852\n",
      "0.09018230438232422\n"
     ]
    },
    {
     "name": "stderr",
     "output_type": "stream",
     "text": [
      "\n",
      " 24%|█████████▋                              | 242/1000 [00:21<01:07, 11.18it/s]\u001b[A\n",
      " 24%|█████████▊                              | 244/1000 [00:21<01:07, 11.27it/s]\u001b[A"
     ]
    },
    {
     "name": "stdout",
     "output_type": "stream",
     "text": [
      "0.0885770320892334\n",
      "0.0889134407043457\n",
      "0.08416008949279785\n"
     ]
    },
    {
     "name": "stderr",
     "output_type": "stream",
     "text": [
      "\n",
      " 25%|█████████▊                              | 246/1000 [00:21<01:07, 11.22it/s]\u001b[A"
     ]
    },
    {
     "name": "stdout",
     "output_type": "stream",
     "text": [
      "0.09389090538024902\n",
      "0.08488035202026367\n",
      "0.09353351593017578\n"
     ]
    },
    {
     "name": "stderr",
     "output_type": "stream",
     "text": [
      "\n",
      " 25%|█████████▉                              | 248/1000 [00:22<01:07, 11.11it/s]\u001b[A\n",
      " 25%|██████████                              | 250/1000 [00:22<01:06, 11.20it/s]\u001b[A"
     ]
    },
    {
     "name": "stdout",
     "output_type": "stream",
     "text": [
      "0.0894310474395752\n",
      "0.08913469314575195\n",
      "0.08520269393920898\n"
     ]
    },
    {
     "name": "stderr",
     "output_type": "stream",
     "text": [
      "\n",
      " 25%|██████████                              | 252/1000 [00:22<01:07, 11.16it/s]\u001b[A"
     ]
    },
    {
     "name": "stdout",
     "output_type": "stream",
     "text": [
      "0.09302473068237305\n",
      "0.08653736114501953\n",
      "0.09121251106262207\n"
     ]
    },
    {
     "name": "stderr",
     "output_type": "stream",
     "text": [
      "\n",
      " 25%|██████████▏                             | 254/1000 [00:22<01:07, 11.12it/s]\u001b[A\n",
      " 26%|██████████▏                             | 256/1000 [00:22<01:06, 11.18it/s]\u001b[A"
     ]
    },
    {
     "name": "stdout",
     "output_type": "stream",
     "text": [
      "0.08895158767700195\n",
      "0.09069108963012695\n",
      "0.08497071266174316\n"
     ]
    },
    {
     "name": "stderr",
     "output_type": "stream",
     "text": [
      "\n",
      " 26%|██████████▎                             | 258/1000 [00:22<01:06, 11.15it/s]\u001b[A"
     ]
    },
    {
     "name": "stdout",
     "output_type": "stream",
     "text": [
      "0.09391641616821289\n",
      "0.08508467674255371\n",
      "0.09008336067199707\n"
     ]
    },
    {
     "name": "stderr",
     "output_type": "stream",
     "text": [
      "\n",
      " 26%|██████████▍                             | 260/1000 [00:23<01:06, 11.14it/s]\u001b[A\n",
      " 26%|██████████▍                             | 262/1000 [00:23<01:06, 11.14it/s]\u001b[A"
     ]
    },
    {
     "name": "stdout",
     "output_type": "stream",
     "text": [
      "0.08913326263427734\n",
      "0.09329009056091309\n",
      "0.08494329452514648\n"
     ]
    },
    {
     "name": "stderr",
     "output_type": "stream",
     "text": [
      "\n",
      " 26%|██████████▌                             | 264/1000 [00:23<01:06, 11.14it/s]\u001b[A"
     ]
    },
    {
     "name": "stdout",
     "output_type": "stream",
     "text": [
      "0.09286856651306152\n",
      "0.08536839485168457\n",
      "0.09000945091247559\n"
     ]
    },
    {
     "name": "stderr",
     "output_type": "stream",
     "text": [
      "\n",
      " 27%|██████████▋                             | 266/1000 [00:23<01:06, 11.10it/s]\u001b[A\n",
      " 27%|██████████▋                             | 268/1000 [00:23<01:05, 11.22it/s]\u001b[A"
     ]
    },
    {
     "name": "stdout",
     "output_type": "stream",
     "text": [
      "0.09030270576477051\n",
      "0.08780050277709961\n",
      "0.08495378494262695\n"
     ]
    },
    {
     "name": "stderr",
     "output_type": "stream",
     "text": [
      "\n",
      " 27%|██████████▊                             | 270/1000 [00:24<01:05, 11.18it/s]\u001b[A"
     ]
    },
    {
     "name": "stdout",
     "output_type": "stream",
     "text": [
      "0.09265708923339844\n",
      "0.08658075332641602\n",
      "0.09001016616821289\n"
     ]
    },
    {
     "name": "stderr",
     "output_type": "stream",
     "text": [
      "\n",
      " 27%|██████████▉                             | 272/1000 [00:24<01:05, 11.12it/s]\u001b[A\n",
      " 27%|██████████▉                             | 274/1000 [00:24<01:05, 11.16it/s]\u001b[A"
     ]
    },
    {
     "name": "stdout",
     "output_type": "stream",
     "text": [
      "0.09080982208251953\n",
      "0.09064674377441406\n",
      "0.08534741401672363\n"
     ]
    },
    {
     "name": "stderr",
     "output_type": "stream",
     "text": [
      "\n",
      " 28%|███████████                             | 276/1000 [00:24<01:05, 11.12it/s]\u001b[A"
     ]
    },
    {
     "name": "stdout",
     "output_type": "stream",
     "text": [
      "0.09467053413391113\n",
      "0.08578801155090332\n",
      "0.09046244621276855\n"
     ]
    },
    {
     "name": "stderr",
     "output_type": "stream",
     "text": [
      "\n",
      " 28%|███████████                             | 278/1000 [00:24<01:05, 11.09it/s]\u001b[A\n",
      " 28%|███████████▏                            | 280/1000 [00:24<01:05, 11.00it/s]\u001b[A"
     ]
    },
    {
     "name": "stdout",
     "output_type": "stream",
     "text": [
      "0.08972382545471191\n",
      "0.09871268272399902\n",
      "0.08564043045043945\n"
     ]
    },
    {
     "name": "stderr",
     "output_type": "stream",
     "text": [
      "\n",
      " 28%|███████████▎                            | 282/1000 [00:25<01:04, 11.08it/s]\u001b[A"
     ]
    },
    {
     "name": "stdout",
     "output_type": "stream",
     "text": [
      "0.08952665328979492\n",
      "0.08655261993408203\n",
      "0.08913350105285645\n"
     ]
    },
    {
     "name": "stderr",
     "output_type": "stream",
     "text": [
      "\n",
      " 28%|███████████▎                            | 284/1000 [00:25<01:04, 11.09it/s]\u001b[A\n",
      " 29%|███████████▍                            | 286/1000 [00:25<01:03, 11.22it/s]\u001b[A"
     ]
    },
    {
     "name": "stdout",
     "output_type": "stream",
     "text": [
      "0.08954548835754395\n",
      "0.08731389045715332\n",
      "0.08515620231628418\n"
     ]
    },
    {
     "name": "stderr",
     "output_type": "stream",
     "text": [
      "\n",
      " 29%|███████████▌                            | 288/1000 [00:25<01:03, 11.22it/s]\u001b[A"
     ]
    },
    {
     "name": "stdout",
     "output_type": "stream",
     "text": [
      "0.09062433242797852\n",
      "0.08618760108947754\n",
      "0.08913946151733398\n"
     ]
    },
    {
     "name": "stderr",
     "output_type": "stream",
     "text": [
      "\n",
      " 29%|███████████▌                            | 290/1000 [00:25<01:03, 11.19it/s]\u001b[A\n",
      " 29%|███████████▋                            | 292/1000 [00:26<01:02, 11.29it/s]\u001b[A"
     ]
    },
    {
     "name": "stdout",
     "output_type": "stream",
     "text": [
      "0.08989858627319336\n",
      "0.0871429443359375\n",
      "0.08524560928344727\n"
     ]
    },
    {
     "name": "stderr",
     "output_type": "stream",
     "text": [
      "\n",
      " 29%|███████████▊                            | 294/1000 [00:26<01:02, 11.27it/s]\u001b[A"
     ]
    },
    {
     "name": "stdout",
     "output_type": "stream",
     "text": [
      "0.09088516235351562\n",
      "0.08614945411682129\n",
      "0.08987283706665039\n"
     ]
    },
    {
     "name": "stderr",
     "output_type": "stream",
     "text": [
      "\n",
      " 30%|███████████▊                            | 296/1000 [00:26<01:02, 11.23it/s]\u001b[A\n",
      " 30%|███████████▉                            | 298/1000 [00:26<01:02, 11.30it/s]\u001b[A"
     ]
    },
    {
     "name": "stdout",
     "output_type": "stream",
     "text": [
      "0.08867406845092773\n",
      "0.0871431827545166\n",
      "0.08609795570373535\n"
     ]
    },
    {
     "name": "stderr",
     "output_type": "stream",
     "text": [
      "\n",
      " 30%|████████████                            | 300/1000 [00:26<01:02, 11.29it/s]\u001b[A"
     ]
    },
    {
     "name": "stdout",
     "output_type": "stream",
     "text": [
      "0.09059834480285645\n",
      "0.08586311340332031\n",
      "0.08906412124633789\n"
     ]
    },
    {
     "name": "stderr",
     "output_type": "stream",
     "text": [
      "\n",
      " 30%|████████████                            | 302/1000 [00:26<01:02, 11.25it/s]\u001b[A\n",
      " 30%|████████████▏                           | 304/1000 [00:27<01:01, 11.34it/s]\u001b[A"
     ]
    },
    {
     "name": "stdout",
     "output_type": "stream",
     "text": [
      "0.08889174461364746\n",
      "0.08721041679382324\n",
      "0.08469772338867188\n"
     ]
    },
    {
     "name": "stderr",
     "output_type": "stream",
     "text": [
      "\n",
      " 31%|████████████▏                           | 306/1000 [00:27<01:01, 11.29it/s]\u001b[A"
     ]
    },
    {
     "name": "stdout",
     "output_type": "stream",
     "text": [
      "0.09137630462646484\n",
      "0.08614063262939453\n",
      "0.0903925895690918\n"
     ]
    },
    {
     "name": "stderr",
     "output_type": "stream",
     "text": [
      "\n",
      " 31%|████████████▎                           | 308/1000 [00:27<01:01, 11.23it/s]\u001b[A\n",
      " 31%|████████████▍                           | 310/1000 [00:27<01:00, 11.32it/s]\u001b[A"
     ]
    },
    {
     "name": "stdout",
     "output_type": "stream",
     "text": [
      "0.08857583999633789\n",
      "0.08731222152709961\n",
      "0.08477282524108887\n"
     ]
    },
    {
     "name": "stderr",
     "output_type": "stream",
     "text": [
      "\n",
      " 31%|████████████▍                           | 312/1000 [00:27<01:00, 11.29it/s]\u001b[A"
     ]
    },
    {
     "name": "stdout",
     "output_type": "stream",
     "text": [
      "0.09167647361755371\n",
      "0.08566951751708984\n",
      "0.08877301216125488\n"
     ]
    },
    {
     "name": "stderr",
     "output_type": "stream",
     "text": [
      "\n",
      " 31%|████████████▌                           | 314/1000 [00:27<01:00, 11.27it/s]\u001b[A\n",
      " 32%|████████████▋                           | 316/1000 [00:28<01:00, 11.29it/s]\u001b[A"
     ]
    },
    {
     "name": "stdout",
     "output_type": "stream",
     "text": [
      "0.08837294578552246\n",
      "0.08993363380432129\n",
      "0.08539962768554688\n"
     ]
    },
    {
     "name": "stderr",
     "output_type": "stream",
     "text": [
      "\n",
      " 32%|████████████▋                           | 318/1000 [00:28<01:00, 11.25it/s]\u001b[A"
     ]
    },
    {
     "name": "stdout",
     "output_type": "stream",
     "text": [
      "0.09210014343261719\n",
      "0.08608126640319824\n",
      "0.0903940200805664\n"
     ]
    },
    {
     "name": "stderr",
     "output_type": "stream",
     "text": [
      "\n",
      " 32%|████████████▊                           | 320/1000 [00:28<01:00, 11.19it/s]\u001b[A\n",
      " 32%|████████████▉                           | 322/1000 [00:28<01:00, 11.22it/s]\u001b[A"
     ]
    },
    {
     "name": "stdout",
     "output_type": "stream",
     "text": [
      "0.08922028541564941\n",
      "0.09060287475585938\n",
      "0.08525633811950684\n"
     ]
    },
    {
     "name": "stderr",
     "output_type": "stream",
     "text": [
      "\n",
      " 32%|████████████▉                           | 324/1000 [00:28<01:00, 11.23it/s]\u001b[A"
     ]
    },
    {
     "name": "stdout",
     "output_type": "stream",
     "text": [
      "0.09057760238647461\n",
      "0.08605551719665527\n",
      "0.08937859535217285\n"
     ]
    },
    {
     "name": "stderr",
     "output_type": "stream",
     "text": [
      "\n",
      " 33%|█████████████                           | 326/1000 [00:29<01:00, 11.20it/s]\u001b[A\n",
      " 33%|█████████████                           | 328/1000 [00:29<00:59, 11.29it/s]\u001b[A"
     ]
    },
    {
     "name": "stdout",
     "output_type": "stream",
     "text": [
      "0.08906078338623047\n",
      "0.08726072311401367\n",
      "0.0854947566986084\n"
     ]
    },
    {
     "name": "stderr",
     "output_type": "stream",
     "text": [
      "\n",
      " 33%|█████████████▏                          | 330/1000 [00:29<00:59, 11.25it/s]\u001b[A"
     ]
    },
    {
     "name": "stdout",
     "output_type": "stream",
     "text": [
      "0.09114599227905273\n",
      "0.08673429489135742\n",
      "0.090576171875\n"
     ]
    },
    {
     "name": "stderr",
     "output_type": "stream",
     "text": [
      "\n",
      " 33%|█████████████▎                          | 332/1000 [00:29<00:59, 11.18it/s]\u001b[A\n",
      " 33%|█████████████▎                          | 334/1000 [00:29<00:59, 11.28it/s]\u001b[A"
     ]
    },
    {
     "name": "stdout",
     "output_type": "stream",
     "text": [
      "0.08944869041442871\n",
      "0.08727717399597168\n",
      "0.0851585865020752\n"
     ]
    },
    {
     "name": "stderr",
     "output_type": "stream",
     "text": [
      "\n",
      " 34%|█████████████▍                          | 336/1000 [00:29<00:58, 11.27it/s]\u001b[A"
     ]
    },
    {
     "name": "stdout",
     "output_type": "stream",
     "text": [
      "0.09070968627929688\n",
      "0.08597016334533691\n",
      "0.08903741836547852\n"
     ]
    },
    {
     "name": "stderr",
     "output_type": "stream",
     "text": [
      "\n",
      " 34%|█████████████▌                          | 338/1000 [00:30<00:58, 11.24it/s]\u001b[A\n",
      " 34%|█████████████▌                          | 340/1000 [00:30<00:58, 11.22it/s]\u001b[A"
     ]
    },
    {
     "name": "stdout",
     "output_type": "stream",
     "text": [
      "0.0888674259185791\n",
      "0.09130048751831055\n",
      "0.08655691146850586\n"
     ]
    },
    {
     "name": "stderr",
     "output_type": "stream",
     "text": [
      "\n",
      " 34%|█████████████▋                          | 342/1000 [00:30<00:58, 11.23it/s]\u001b[A"
     ]
    },
    {
     "name": "stdout",
     "output_type": "stream",
     "text": [
      "0.09023118019104004\n",
      "0.08583307266235352\n",
      "0.09078097343444824\n"
     ]
    },
    {
     "name": "stderr",
     "output_type": "stream",
     "text": [
      "\n",
      " 34%|█████████████▊                          | 344/1000 [00:30<00:58, 11.17it/s]\u001b[A\n",
      " 35%|█████████████▊                          | 346/1000 [00:30<00:58, 11.20it/s]\u001b[A"
     ]
    },
    {
     "name": "stdout",
     "output_type": "stream",
     "text": [
      "0.08940672874450684\n",
      "0.09102678298950195\n",
      "0.08529472351074219\n"
     ]
    },
    {
     "name": "stderr",
     "output_type": "stream",
     "text": [
      "\n",
      " 35%|█████████████▉                          | 348/1000 [00:30<00:58, 11.14it/s]\u001b[A"
     ]
    },
    {
     "name": "stdout",
     "output_type": "stream",
     "text": [
      "0.09389591217041016\n",
      "0.08667945861816406\n",
      "0.0897073745727539\n"
     ]
    },
    {
     "name": "stderr",
     "output_type": "stream",
     "text": [
      "\n",
      " 35%|██████████████                          | 350/1000 [00:31<00:58, 11.13it/s]\u001b[A\n",
      " 35%|██████████████                          | 352/1000 [00:31<00:57, 11.20it/s]\u001b[A"
     ]
    },
    {
     "name": "stdout",
     "output_type": "stream",
     "text": [
      "0.08876252174377441\n",
      "0.08911776542663574\n",
      "0.08557462692260742\n"
     ]
    },
    {
     "name": "stderr",
     "output_type": "stream",
     "text": [
      "\n",
      " 35%|██████████████▏                         | 354/1000 [00:31<00:57, 11.20it/s]\u001b[A"
     ]
    },
    {
     "name": "stdout",
     "output_type": "stream",
     "text": [
      "0.09151268005371094\n",
      "0.08595967292785645\n",
      "0.08981966972351074\n"
     ]
    },
    {
     "name": "stderr",
     "output_type": "stream",
     "text": [
      "\n",
      " 36%|██████████████▏                         | 356/1000 [00:31<00:57, 11.18it/s]\u001b[A\n",
      " 36%|██████████████▎                         | 358/1000 [00:31<00:57, 11.26it/s]\u001b[A"
     ]
    },
    {
     "name": "stdout",
     "output_type": "stream",
     "text": [
      "0.0885610580444336\n",
      "0.08856654167175293\n",
      "0.08521556854248047\n"
     ]
    },
    {
     "name": "stderr",
     "output_type": "stream",
     "text": [
      "\n",
      " 36%|██████████████▍                         | 360/1000 [00:32<00:56, 11.26it/s]\u001b[A"
     ]
    },
    {
     "name": "stdout",
     "output_type": "stream",
     "text": [
      "0.0906212329864502\n",
      "0.08557558059692383\n",
      "0.09027743339538574\n"
     ]
    },
    {
     "name": "stderr",
     "output_type": "stream",
     "text": [
      "\n",
      " 36%|██████████████▍                         | 362/1000 [00:32<00:57, 11.18it/s]\u001b[A\n",
      " 36%|██████████████▌                         | 364/1000 [00:32<00:56, 11.23it/s]\u001b[A"
     ]
    },
    {
     "name": "stdout",
     "output_type": "stream",
     "text": [
      "0.09020400047302246\n",
      "0.0900275707244873\n",
      "0.08504962921142578\n"
     ]
    },
    {
     "name": "stderr",
     "output_type": "stream",
     "text": [
      "\n",
      " 37%|██████████████▋                         | 366/1000 [00:32<00:56, 11.21it/s]\u001b[A"
     ]
    },
    {
     "name": "stdout",
     "output_type": "stream",
     "text": [
      "0.0920255184173584\n",
      "0.08583855628967285\n",
      "0.08998560905456543\n"
     ]
    },
    {
     "name": "stderr",
     "output_type": "stream",
     "text": [
      "\n",
      " 37%|██████████████▋                         | 368/1000 [00:32<00:56, 11.19it/s]\u001b[A\n",
      " 37%|██████████████▊                         | 370/1000 [00:32<00:56, 11.22it/s]\u001b[A"
     ]
    },
    {
     "name": "stdout",
     "output_type": "stream",
     "text": [
      "0.08865952491760254\n",
      "0.09022712707519531\n",
      "0.08517956733703613\n"
     ]
    },
    {
     "name": "stderr",
     "output_type": "stream",
     "text": [
      "\n",
      " 37%|██████████████▉                         | 372/1000 [00:33<00:55, 11.22it/s]\u001b[A"
     ]
    },
    {
     "name": "stdout",
     "output_type": "stream",
     "text": [
      "0.09125280380249023\n",
      "0.08595514297485352\n",
      "0.0919961929321289\n"
     ]
    },
    {
     "name": "stderr",
     "output_type": "stream",
     "text": [
      "\n",
      " 37%|██████████████▉                         | 374/1000 [00:33<00:56, 11.14it/s]\u001b[A\n",
      " 38%|███████████████                         | 376/1000 [00:33<00:55, 11.25it/s]\u001b[A"
     ]
    },
    {
     "name": "stdout",
     "output_type": "stream",
     "text": [
      "0.08920955657958984\n",
      "0.08753323554992676\n",
      "0.08469915390014648\n"
     ]
    },
    {
     "name": "stderr",
     "output_type": "stream",
     "text": [
      "\n",
      " 38%|███████████████                         | 378/1000 [00:33<00:56, 11.06it/s]\u001b[A"
     ]
    },
    {
     "name": "stdout",
     "output_type": "stream",
     "text": [
      "0.09962272644042969\n",
      "0.08687996864318848\n",
      "0.09386563301086426\n"
     ]
    },
    {
     "name": "stderr",
     "output_type": "stream",
     "text": [
      "\n",
      " 38%|███████████████▏                        | 380/1000 [00:33<00:56, 10.97it/s]\u001b[A\n",
      " 38%|███████████████▎                        | 382/1000 [00:34<00:56, 11.03it/s]\u001b[A"
     ]
    },
    {
     "name": "stdout",
     "output_type": "stream",
     "text": [
      "0.09060120582580566\n",
      "0.09277606010437012\n",
      "0.08526253700256348\n"
     ]
    },
    {
     "name": "stderr",
     "output_type": "stream",
     "text": [
      "\n",
      " 38%|███████████████▎                        | 384/1000 [00:34<00:55, 11.04it/s]\u001b[A"
     ]
    },
    {
     "name": "stdout",
     "output_type": "stream",
     "text": [
      "0.09317708015441895\n",
      "0.08651065826416016\n",
      "0.08989977836608887\n"
     ]
    },
    {
     "name": "stderr",
     "output_type": "stream",
     "text": [
      "\n",
      " 39%|███████████████▍                        | 386/1000 [00:34<00:55, 11.05it/s]\u001b[A\n",
      " 39%|███████████████▌                        | 388/1000 [00:34<00:54, 11.17it/s]\u001b[A"
     ]
    },
    {
     "name": "stdout",
     "output_type": "stream",
     "text": [
      "0.08946871757507324\n",
      "0.08774232864379883\n",
      "0.08531641960144043\n"
     ]
    },
    {
     "name": "stderr",
     "output_type": "stream",
     "text": [
      "\n",
      " 39%|███████████████▌                        | 390/1000 [00:34<00:54, 11.13it/s]\u001b[A"
     ]
    },
    {
     "name": "stdout",
     "output_type": "stream",
     "text": [
      "0.09439420700073242\n",
      "0.08568596839904785\n",
      "0.09038281440734863\n"
     ]
    },
    {
     "name": "stderr",
     "output_type": "stream",
     "text": [
      "\n",
      " 39%|███████████████▋                        | 392/1000 [00:34<00:54, 11.10it/s]\u001b[A\n",
      " 39%|███████████████▊                        | 394/1000 [00:35<00:54, 11.16it/s]\u001b[A"
     ]
    },
    {
     "name": "stdout",
     "output_type": "stream",
     "text": [
      "0.08997750282287598\n",
      "0.08998918533325195\n",
      "0.08550429344177246\n"
     ]
    },
    {
     "name": "stderr",
     "output_type": "stream",
     "text": [
      "\n",
      " 40%|███████████████▊                        | 396/1000 [00:35<00:54, 11.11it/s]\u001b[A"
     ]
    },
    {
     "name": "stdout",
     "output_type": "stream",
     "text": [
      "0.09515953063964844\n",
      "0.08537817001342773\n",
      "0.09067606925964355\n"
     ]
    },
    {
     "name": "stderr",
     "output_type": "stream",
     "text": [
      "\n",
      " 40%|███████████████▉                        | 398/1000 [00:35<00:54, 11.07it/s]\u001b[A\n",
      " 40%|████████████████                        | 400/1000 [00:35<00:53, 11.18it/s]\u001b[A"
     ]
    },
    {
     "name": "stdout",
     "output_type": "stream",
     "text": [
      "0.09026265144348145\n",
      "0.08840441703796387\n",
      "0.0854802131652832\n"
     ]
    },
    {
     "name": "stderr",
     "output_type": "stream",
     "text": [
      "\n",
      " 40%|████████████████                        | 402/1000 [00:35<00:53, 11.20it/s]\u001b[A"
     ]
    },
    {
     "name": "stdout",
     "output_type": "stream",
     "text": [
      "0.09130001068115234\n",
      "0.08524489402770996\n",
      "0.09063434600830078\n"
     ]
    },
    {
     "name": "stderr",
     "output_type": "stream",
     "text": [
      "\n",
      " 40%|████████████████▏                       | 404/1000 [00:36<00:53, 11.15it/s]\u001b[A\n",
      " 41%|████████████████▏                       | 406/1000 [00:36<00:52, 11.22it/s]\u001b[A"
     ]
    },
    {
     "name": "stdout",
     "output_type": "stream",
     "text": [
      "0.08947157859802246\n",
      "0.08832955360412598\n",
      "0.08603024482727051\n"
     ]
    },
    {
     "name": "stderr",
     "output_type": "stream",
     "text": [
      "\n",
      " 41%|████████████████▎                       | 408/1000 [00:36<00:52, 11.22it/s]\u001b[A"
     ]
    },
    {
     "name": "stdout",
     "output_type": "stream",
     "text": [
      "0.0915520191192627\n",
      "0.08574032783508301\n",
      "0.08883786201477051\n"
     ]
    },
    {
     "name": "stderr",
     "output_type": "stream",
     "text": [
      "\n",
      " 41%|████████████████▍                       | 410/1000 [00:36<00:52, 11.20it/s]\u001b[A\n",
      " 41%|████████████████▍                       | 412/1000 [00:36<00:52, 11.24it/s]\u001b[A"
     ]
    },
    {
     "name": "stdout",
     "output_type": "stream",
     "text": [
      "0.0887308120727539\n",
      "0.09000611305236816\n",
      "0.08529114723205566\n"
     ]
    },
    {
     "name": "stderr",
     "output_type": "stream",
     "text": [
      "\n",
      " 41%|████████████████▌                       | 414/1000 [00:36<00:52, 11.20it/s]\u001b[A"
     ]
    },
    {
     "name": "stdout",
     "output_type": "stream",
     "text": [
      "0.09151077270507812\n",
      "0.08693623542785645\n",
      "0.09054279327392578\n"
     ]
    },
    {
     "name": "stderr",
     "output_type": "stream",
     "text": [
      "\n",
      " 42%|████████████████▋                       | 416/1000 [00:37<00:52, 11.16it/s]\u001b[A\n",
      " 42%|████████████████▋                       | 418/1000 [00:37<00:51, 11.24it/s]\u001b[A"
     ]
    },
    {
     "name": "stdout",
     "output_type": "stream",
     "text": [
      "0.08929777145385742\n",
      "0.0876929759979248\n",
      "0.08592343330383301\n"
     ]
    },
    {
     "name": "stderr",
     "output_type": "stream",
     "text": [
      "\n",
      " 42%|████████████████▊                       | 420/1000 [00:37<00:51, 11.24it/s]\u001b[A"
     ]
    },
    {
     "name": "stdout",
     "output_type": "stream",
     "text": [
      "0.0908346176147461\n",
      "0.08587646484375\n",
      "0.08896040916442871\n"
     ]
    },
    {
     "name": "stderr",
     "output_type": "stream",
     "text": [
      "\n",
      " 42%|████████████████▉                       | 422/1000 [00:37<00:51, 11.20it/s]\u001b[A\n",
      " 42%|████████████████▉                       | 424/1000 [00:37<00:51, 11.21it/s]\u001b[A"
     ]
    },
    {
     "name": "stdout",
     "output_type": "stream",
     "text": [
      "0.0895540714263916\n",
      "0.09075307846069336\n",
      "0.08610939979553223\n"
     ]
    },
    {
     "name": "stderr",
     "output_type": "stream",
     "text": [
      "\n",
      " 43%|█████████████████                       | 426/1000 [00:37<00:51, 11.21it/s]\u001b[A"
     ]
    },
    {
     "name": "stdout",
     "output_type": "stream",
     "text": [
      "0.09239315986633301\n",
      "0.08520627021789551\n",
      "0.08810210227966309\n"
     ]
    },
    {
     "name": "stderr",
     "output_type": "stream",
     "text": [
      "\n",
      " 43%|█████████████████                       | 428/1000 [00:38<00:51, 11.21it/s]\u001b[A\n",
      " 43%|█████████████████▏                      | 430/1000 [00:38<00:50, 11.26it/s]\u001b[A"
     ]
    },
    {
     "name": "stdout",
     "output_type": "stream",
     "text": [
      "0.08936071395874023\n",
      "0.08866763114929199\n",
      "0.08573341369628906\n"
     ]
    },
    {
     "name": "stderr",
     "output_type": "stream",
     "text": [
      "\n",
      " 43%|█████████████████▎                      | 432/1000 [00:38<00:50, 11.24it/s]\u001b[A"
     ]
    },
    {
     "name": "stdout",
     "output_type": "stream",
     "text": [
      "0.09104084968566895\n",
      "0.08690476417541504\n",
      "0.09038829803466797\n"
     ]
    },
    {
     "name": "stderr",
     "output_type": "stream",
     "text": [
      "\n",
      " 43%|█████████████████▎                      | 434/1000 [00:38<00:50, 11.19it/s]\u001b[A\n",
      " 44%|█████████████████▍                      | 436/1000 [00:38<00:50, 11.28it/s]\u001b[A"
     ]
    },
    {
     "name": "stdout",
     "output_type": "stream",
     "text": [
      "0.0887446403503418\n",
      "0.08847856521606445\n",
      "0.08477091789245605\n"
     ]
    },
    {
     "name": "stderr",
     "output_type": "stream",
     "text": [
      "\n",
      " 44%|█████████████████▌                      | 438/1000 [00:39<00:49, 11.25it/s]\u001b[A"
     ]
    },
    {
     "name": "stdout",
     "output_type": "stream",
     "text": [
      "0.09244155883789062\n",
      "0.08544135093688965\n",
      "0.08899188041687012\n"
     ]
    },
    {
     "name": "stderr",
     "output_type": "stream",
     "text": [
      "\n",
      " 44%|█████████████████▌                      | 440/1000 [00:39<00:49, 11.21it/s]\u001b[A\n",
      " 44%|█████████████████▋                      | 442/1000 [00:39<00:49, 11.22it/s]\u001b[A"
     ]
    },
    {
     "name": "stdout",
     "output_type": "stream",
     "text": [
      "0.08961701393127441\n",
      "0.09082245826721191\n",
      "0.08542299270629883\n"
     ]
    },
    {
     "name": "stderr",
     "output_type": "stream",
     "text": [
      "\n",
      " 44%|█████████████████▊                      | 444/1000 [00:39<00:49, 11.20it/s]\u001b[A"
     ]
    },
    {
     "name": "stdout",
     "output_type": "stream",
     "text": [
      "0.09258699417114258\n",
      "0.08547663688659668\n",
      "0.0888824462890625\n"
     ]
    },
    {
     "name": "stderr",
     "output_type": "stream",
     "text": [
      "\n",
      " 45%|█████████████████▊                      | 446/1000 [00:39<00:49, 11.20it/s]\u001b[A\n",
      " 45%|█████████████████▉                      | 448/1000 [00:39<00:49, 11.24it/s]\u001b[A"
     ]
    },
    {
     "name": "stdout",
     "output_type": "stream",
     "text": [
      "0.08840274810791016\n",
      "0.08919954299926758\n",
      "0.08565592765808105\n"
     ]
    },
    {
     "name": "stderr",
     "output_type": "stream",
     "text": [
      "\n",
      " 45%|██████████████████                      | 450/1000 [00:40<00:49, 11.20it/s]\u001b[A"
     ]
    },
    {
     "name": "stdout",
     "output_type": "stream",
     "text": [
      "0.09309601783752441\n",
      "0.08570384979248047\n",
      "0.09070587158203125\n"
     ]
    },
    {
     "name": "stderr",
     "output_type": "stream",
     "text": [
      "\n",
      " 45%|██████████████████                      | 452/1000 [00:40<00:49, 11.13it/s]\u001b[A\n",
      " 45%|██████████████████▏                     | 454/1000 [00:40<00:48, 11.18it/s]\u001b[A"
     ]
    },
    {
     "name": "stdout",
     "output_type": "stream",
     "text": [
      "0.09047818183898926\n",
      "0.0907292366027832\n",
      "0.08508086204528809\n"
     ]
    },
    {
     "name": "stderr",
     "output_type": "stream",
     "text": [
      "\n",
      " 46%|██████████████████▏                     | 456/1000 [00:40<00:48, 11.17it/s]\u001b[A"
     ]
    },
    {
     "name": "stdout",
     "output_type": "stream",
     "text": [
      "0.09233736991882324\n",
      "0.08559727668762207\n",
      "0.08982634544372559\n"
     ]
    },
    {
     "name": "stderr",
     "output_type": "stream",
     "text": [
      "\n",
      " 46%|██████████████████▎                     | 458/1000 [00:40<00:48, 11.15it/s]\u001b[A\n",
      " 46%|██████████████████▍                     | 460/1000 [00:41<00:48, 11.19it/s]\u001b[A"
     ]
    },
    {
     "name": "stdout",
     "output_type": "stream",
     "text": [
      "0.08895039558410645\n",
      "0.0909886360168457\n",
      "0.08479833602905273\n"
     ]
    },
    {
     "name": "stderr",
     "output_type": "stream",
     "text": [
      "\n",
      " 46%|██████████████████▍                     | 462/1000 [00:41<00:48, 11.18it/s]\u001b[A"
     ]
    },
    {
     "name": "stdout",
     "output_type": "stream",
     "text": [
      "0.09203314781188965\n",
      "0.08609604835510254\n",
      "0.08994030952453613\n"
     ]
    },
    {
     "name": "stderr",
     "output_type": "stream",
     "text": [
      "\n",
      " 46%|██████████████████▌                     | 464/1000 [00:41<00:48, 11.15it/s]\u001b[A\n",
      " 47%|██████████████████▋                     | 466/1000 [00:41<00:47, 11.26it/s]\u001b[A"
     ]
    },
    {
     "name": "stdout",
     "output_type": "stream",
     "text": [
      "0.08891105651855469\n",
      "0.08682751655578613\n",
      "0.08530521392822266\n"
     ]
    },
    {
     "name": "stderr",
     "output_type": "stream",
     "text": [
      "\n",
      " 47%|██████████████████▋                     | 468/1000 [00:41<00:47, 11.23it/s]\u001b[A"
     ]
    },
    {
     "name": "stdout",
     "output_type": "stream",
     "text": [
      "0.09171772003173828\n",
      "0.08624815940856934\n",
      "0.09798026084899902\n"
     ]
    },
    {
     "name": "stderr",
     "output_type": "stream",
     "text": [
      "\n",
      " 47%|██████████████████▊                     | 470/1000 [00:41<00:47, 11.05it/s]\u001b[A\n",
      " 47%|██████████████████▉                     | 472/1000 [00:42<00:47, 11.11it/s]\u001b[A"
     ]
    },
    {
     "name": "stdout",
     "output_type": "stream",
     "text": [
      "0.0887613296508789\n",
      "0.09152650833129883\n",
      "0.08494234085083008\n"
     ]
    },
    {
     "name": "stderr",
     "output_type": "stream",
     "text": [
      "\n",
      " 47%|██████████████████▉                     | 474/1000 [00:42<00:47, 11.11it/s]\u001b[A"
     ]
    },
    {
     "name": "stdout",
     "output_type": "stream",
     "text": [
      "0.09220314025878906\n",
      "0.08672881126403809\n",
      "0.08900260925292969\n"
     ]
    },
    {
     "name": "stderr",
     "output_type": "stream",
     "text": [
      "\n",
      " 48%|███████████████████                     | 476/1000 [00:42<00:47, 11.13it/s]\u001b[A\n",
      " 48%|███████████████████                     | 478/1000 [00:42<00:46, 11.16it/s]\u001b[A"
     ]
    },
    {
     "name": "stdout",
     "output_type": "stream",
     "text": [
      "0.0885915756225586\n",
      "0.09173846244812012\n",
      "0.08496212959289551\n"
     ]
    },
    {
     "name": "stderr",
     "output_type": "stream",
     "text": [
      "\n",
      " 48%|███████████████████▏                    | 480/1000 [00:42<00:46, 11.16it/s]\u001b[A"
     ]
    },
    {
     "name": "stdout",
     "output_type": "stream",
     "text": [
      "0.09137749671936035\n",
      "0.08665037155151367\n",
      "0.08957147598266602\n"
     ]
    },
    {
     "name": "stderr",
     "output_type": "stream",
     "text": [
      "\n",
      " 48%|███████████████████▎                    | 482/1000 [00:42<00:46, 11.15it/s]\u001b[A\n",
      " 48%|███████████████████▎                    | 484/1000 [00:43<00:45, 11.25it/s]\u001b[A"
     ]
    },
    {
     "name": "stdout",
     "output_type": "stream",
     "text": [
      "0.08921933174133301\n",
      "0.08754658699035645\n",
      "0.0853276252746582\n"
     ]
    },
    {
     "name": "stderr",
     "output_type": "stream",
     "text": [
      "\n",
      " 49%|███████████████████▍                    | 486/1000 [00:43<00:45, 11.22it/s]\u001b[A"
     ]
    },
    {
     "name": "stdout",
     "output_type": "stream",
     "text": [
      "0.0918874740600586\n",
      "0.08621883392333984\n",
      "0.09046006202697754\n"
     ]
    },
    {
     "name": "stderr",
     "output_type": "stream",
     "text": [
      "\n",
      " 49%|███████████████████▌                    | 488/1000 [00:43<00:45, 11.19it/s]\u001b[A\n",
      " 49%|███████████████████▌                    | 490/1000 [00:43<00:45, 11.28it/s]\u001b[A"
     ]
    },
    {
     "name": "stdout",
     "output_type": "stream",
     "text": [
      "0.08865237236022949\n",
      "0.08776211738586426\n",
      "0.08489751815795898\n"
     ]
    },
    {
     "name": "stderr",
     "output_type": "stream",
     "text": [
      "\n",
      " 49%|███████████████████▋                    | 492/1000 [00:43<00:45, 11.27it/s]\u001b[A"
     ]
    },
    {
     "name": "stdout",
     "output_type": "stream",
     "text": [
      "0.09089112281799316\n",
      "0.08598041534423828\n",
      "0.08905959129333496\n"
     ]
    },
    {
     "name": "stderr",
     "output_type": "stream",
     "text": [
      "\n",
      " 49%|███████████████████▊                    | 494/1000 [00:44<00:45, 11.24it/s]\u001b[A\n",
      " 50%|███████████████████▊                    | 496/1000 [00:44<00:44, 11.32it/s]\u001b[A"
     ]
    },
    {
     "name": "stdout",
     "output_type": "stream",
     "text": [
      "0.08868122100830078\n",
      "0.08746147155761719\n",
      "0.08527088165283203\n"
     ]
    },
    {
     "name": "stderr",
     "output_type": "stream",
     "text": [
      "\n",
      " 50%|███████████████████▉                    | 498/1000 [00:44<00:44, 11.27it/s]\u001b[A"
     ]
    },
    {
     "name": "stdout",
     "output_type": "stream",
     "text": [
      "0.09206247329711914\n",
      "0.0861196517944336\n",
      "0.09116363525390625\n"
     ]
    },
    {
     "name": "stderr",
     "output_type": "stream",
     "text": [
      "\n",
      " 50%|████████████████████                    | 500/1000 [00:44<00:44, 11.19it/s]\u001b[A\n",
      " 50%|████████████████████                    | 502/1000 [00:44<00:44, 11.28it/s]\u001b[A"
     ]
    },
    {
     "name": "stdout",
     "output_type": "stream",
     "text": [
      "0.08961749076843262\n",
      "0.0876610279083252\n",
      "0.08522820472717285\n"
     ]
    },
    {
     "name": "stderr",
     "output_type": "stream",
     "text": [
      "\n",
      " 50%|████████████████████▏                   | 504/1000 [00:44<00:44, 11.24it/s]\u001b[A"
     ]
    },
    {
     "name": "stdout",
     "output_type": "stream",
     "text": [
      "0.09193730354309082\n",
      "0.08623194694519043\n",
      "0.08895444869995117\n"
     ]
    },
    {
     "name": "stderr",
     "output_type": "stream",
     "text": [
      "\n",
      " 51%|████████████████████▏                   | 506/1000 [00:45<00:44, 11.21it/s]\u001b[A\n",
      " 51%|████████████████████▎                   | 508/1000 [00:45<00:43, 11.28it/s]\u001b[A"
     ]
    },
    {
     "name": "stdout",
     "output_type": "stream",
     "text": [
      "0.08943367004394531\n",
      "0.08783936500549316\n",
      "0.08588266372680664\n"
     ]
    },
    {
     "name": "stderr",
     "output_type": "stream",
     "text": [
      "\n",
      " 51%|████████████████████▍                   | 510/1000 [00:45<00:43, 11.24it/s]\u001b[A"
     ]
    },
    {
     "name": "stdout",
     "output_type": "stream",
     "text": [
      "0.0915517807006836\n",
      "0.08634161949157715\n",
      "0.09108090400695801\n"
     ]
    },
    {
     "name": "stderr",
     "output_type": "stream",
     "text": [
      "\n",
      " 51%|████████████████████▍                   | 512/1000 [00:45<00:43, 11.16it/s]\u001b[A\n",
      " 51%|████████████████████▌                   | 514/1000 [00:45<00:43, 11.25it/s]\u001b[A"
     ]
    },
    {
     "name": "stdout",
     "output_type": "stream",
     "text": [
      "0.09026074409484863\n",
      "0.08780121803283691\n",
      "0.0853266716003418\n"
     ]
    },
    {
     "name": "stderr",
     "output_type": "stream",
     "text": [
      "\n",
      " 52%|████████████████████▋                   | 516/1000 [00:46<00:43, 11.23it/s]\u001b[A"
     ]
    },
    {
     "name": "stdout",
     "output_type": "stream",
     "text": [
      "0.09162616729736328\n",
      "0.08588051795959473\n",
      "0.08852171897888184\n"
     ]
    },
    {
     "name": "stderr",
     "output_type": "stream",
     "text": [
      "\n",
      " 52%|████████████████████▋                   | 518/1000 [00:46<00:42, 11.22it/s]\u001b[A\n",
      " 52%|████████████████████▊                   | 520/1000 [00:46<00:42, 11.30it/s]\u001b[A"
     ]
    },
    {
     "name": "stdout",
     "output_type": "stream",
     "text": [
      "0.08892297744750977\n",
      "0.08817553520202637\n",
      "0.08513450622558594\n"
     ]
    },
    {
     "name": "stderr",
     "output_type": "stream",
     "text": [
      "\n",
      " 52%|████████████████████▉                   | 522/1000 [00:46<00:42, 11.26it/s]\u001b[A"
     ]
    },
    {
     "name": "stdout",
     "output_type": "stream",
     "text": [
      "0.09180903434753418\n",
      "0.08617067337036133\n",
      "0.09034180641174316\n"
     ]
    },
    {
     "name": "stderr",
     "output_type": "stream",
     "text": [
      "\n",
      " 52%|████████████████████▉                   | 524/1000 [00:46<00:42, 11.22it/s]\u001b[A\n",
      " 53%|█████████████████████                   | 526/1000 [00:46<00:42, 11.23it/s]\u001b[A"
     ]
    },
    {
     "name": "stdout",
     "output_type": "stream",
     "text": [
      "0.0886223316192627\n",
      "0.09093761444091797\n",
      "0.08510684967041016\n"
     ]
    },
    {
     "name": "stderr",
     "output_type": "stream",
     "text": [
      "\n",
      " 53%|█████████████████████                   | 528/1000 [00:47<00:42, 11.21it/s]\u001b[A"
     ]
    },
    {
     "name": "stdout",
     "output_type": "stream",
     "text": [
      "0.09243965148925781\n",
      "0.08558273315429688\n",
      "0.08921599388122559\n"
     ]
    },
    {
     "name": "stderr",
     "output_type": "stream",
     "text": [
      "\n",
      " 53%|█████████████████████▏                  | 530/1000 [00:47<00:42, 11.16it/s]\u001b[A\n",
      " 53%|█████████████████████▎                  | 532/1000 [00:47<00:41, 11.19it/s]\u001b[A"
     ]
    },
    {
     "name": "stdout",
     "output_type": "stream",
     "text": [
      "0.09099364280700684\n",
      "0.09132766723632812\n",
      "0.08508133888244629\n"
     ]
    },
    {
     "name": "stderr",
     "output_type": "stream",
     "text": [
      "\n",
      " 53%|█████████████████████▎                  | 534/1000 [00:47<00:41, 11.16it/s]\u001b[A"
     ]
    },
    {
     "name": "stdout",
     "output_type": "stream",
     "text": [
      "0.09301257133483887\n",
      "0.08587265014648438\n",
      "0.09078478813171387\n"
     ]
    },
    {
     "name": "stderr",
     "output_type": "stream",
     "text": [
      "\n",
      " 54%|█████████████████████▍                  | 536/1000 [00:47<00:41, 11.11it/s]\u001b[A\n",
      " 54%|█████████████████████▌                  | 538/1000 [00:47<00:41, 11.13it/s]\u001b[A"
     ]
    },
    {
     "name": "stdout",
     "output_type": "stream",
     "text": [
      "0.089935302734375\n",
      "0.09125041961669922\n",
      "0.08642315864562988\n"
     ]
    },
    {
     "name": "stderr",
     "output_type": "stream",
     "text": [
      "\n",
      " 54%|█████████████████████▌                  | 540/1000 [00:48<00:41, 11.13it/s]\u001b[A"
     ]
    },
    {
     "name": "stdout",
     "output_type": "stream",
     "text": [
      "0.09218096733093262\n",
      "0.08622145652770996\n",
      "0.08953547477722168\n"
     ]
    },
    {
     "name": "stderr",
     "output_type": "stream",
     "text": [
      "\n",
      " 54%|█████████████████████▋                  | 542/1000 [00:48<00:41, 11.12it/s]\u001b[A\n",
      " 54%|█████████████████████▊                  | 544/1000 [00:48<00:40, 11.23it/s]\u001b[A"
     ]
    },
    {
     "name": "stdout",
     "output_type": "stream",
     "text": [
      "0.08961772918701172\n",
      "0.08750772476196289\n",
      "0.0852351188659668\n"
     ]
    },
    {
     "name": "stderr",
     "output_type": "stream",
     "text": [
      "\n",
      " 55%|█████████████████████▊                  | 546/1000 [00:48<00:40, 11.22it/s]\u001b[A"
     ]
    },
    {
     "name": "stdout",
     "output_type": "stream",
     "text": [
      "0.09144330024719238\n",
      "0.08606600761413574\n",
      "0.09054732322692871\n"
     ]
    },
    {
     "name": "stderr",
     "output_type": "stream",
     "text": [
      "\n",
      " 55%|█████████████████████▉                  | 548/1000 [00:48<00:40, 11.16it/s]\u001b[A\n",
      " 55%|██████████████████████                  | 550/1000 [00:49<00:39, 11.27it/s]\u001b[A"
     ]
    },
    {
     "name": "stdout",
     "output_type": "stream",
     "text": [
      "0.08954381942749023\n",
      "0.08729290962219238\n",
      "0.0849149227142334\n"
     ]
    },
    {
     "name": "stderr",
     "output_type": "stream",
     "text": [
      "\n",
      " 55%|██████████████████████                  | 552/1000 [00:49<00:39, 11.26it/s]\u001b[A"
     ]
    },
    {
     "name": "stdout",
     "output_type": "stream",
     "text": [
      "0.09152698516845703\n",
      "0.08545756340026855\n",
      "0.08964037895202637\n"
     ]
    },
    {
     "name": "stderr",
     "output_type": "stream",
     "text": [
      "\n",
      " 55%|██████████████████████▏                 | 554/1000 [00:49<00:39, 11.23it/s]\u001b[A\n",
      " 56%|██████████████████████▏                 | 556/1000 [00:49<00:39, 11.32it/s]\u001b[A"
     ]
    },
    {
     "name": "stdout",
     "output_type": "stream",
     "text": [
      "0.08871936798095703\n",
      "0.0872795581817627\n",
      "0.0850992202758789\n"
     ]
    },
    {
     "name": "stderr",
     "output_type": "stream",
     "text": [
      "\n",
      " 56%|██████████████████████▎                 | 558/1000 [00:49<00:39, 11.27it/s]\u001b[A"
     ]
    },
    {
     "name": "stdout",
     "output_type": "stream",
     "text": [
      "0.09168529510498047\n",
      "0.08600783348083496\n",
      "0.09124565124511719\n"
     ]
    },
    {
     "name": "stderr",
     "output_type": "stream",
     "text": [
      "\n",
      " 56%|██████████████████████▍                 | 560/1000 [00:49<00:39, 11.16it/s]\u001b[A\n",
      " 56%|██████████████████████▍                 | 562/1000 [00:50<00:38, 11.24it/s]\u001b[A"
     ]
    },
    {
     "name": "stdout",
     "output_type": "stream",
     "text": [
      "0.09113717079162598\n",
      "0.08819293975830078\n",
      "0.08530306816101074\n"
     ]
    },
    {
     "name": "stderr",
     "output_type": "stream",
     "text": [
      "\n",
      " 56%|██████████████████████▌                 | 564/1000 [00:50<00:38, 11.22it/s]\u001b[A"
     ]
    },
    {
     "name": "stdout",
     "output_type": "stream",
     "text": [
      "0.0905454158782959\n",
      "0.0872805118560791\n",
      "0.08873867988586426\n"
     ]
    },
    {
     "name": "stderr",
     "output_type": "stream",
     "text": [
      "\n",
      " 57%|██████████████████████▋                 | 566/1000 [00:50<00:39, 11.08it/s]\u001b[A\n",
      " 57%|██████████████████████▋                 | 568/1000 [00:50<00:38, 11.16it/s]\u001b[A"
     ]
    },
    {
     "name": "stdout",
     "output_type": "stream",
     "text": [
      "0.09611678123474121\n",
      "0.08900046348571777\n",
      "0.08576512336730957\n"
     ]
    },
    {
     "name": "stderr",
     "output_type": "stream",
     "text": [
      "\n",
      " 57%|██████████████████████▊                 | 570/1000 [00:50<00:38, 11.12it/s]\u001b[A"
     ]
    },
    {
     "name": "stdout",
     "output_type": "stream",
     "text": [
      "0.0922858715057373\n",
      "0.08707070350646973\n",
      "0.08868789672851562\n"
     ]
    },
    {
     "name": "stderr",
     "output_type": "stream",
     "text": [
      "\n",
      " 57%|██████████████████████▉                 | 572/1000 [00:51<00:38, 11.16it/s]\u001b[A\n",
      " 57%|██████████████████████▉                 | 574/1000 [00:51<00:38, 11.19it/s]\u001b[A"
     ]
    },
    {
     "name": "stdout",
     "output_type": "stream",
     "text": [
      "0.08802032470703125\n",
      "0.08700990676879883\n",
      "0.0893545150756836\n"
     ]
    },
    {
     "name": "stderr",
     "output_type": "stream",
     "text": [
      "\n",
      " 58%|███████████████████████                 | 576/1000 [00:51<00:37, 11.18it/s]\u001b[A"
     ]
    },
    {
     "name": "stdout",
     "output_type": "stream",
     "text": [
      "0.09105157852172852\n",
      "0.08680343627929688\n",
      "0.09372663497924805\n"
     ]
    },
    {
     "name": "stderr",
     "output_type": "stream",
     "text": [
      "\n",
      " 58%|███████████████████████                 | 578/1000 [00:51<00:38, 11.04it/s]\u001b[A\n",
      " 58%|███████████████████████▏                | 580/1000 [00:51<00:37, 11.17it/s]\u001b[A"
     ]
    },
    {
     "name": "stdout",
     "output_type": "stream",
     "text": [
      "0.09186196327209473\n",
      "0.08708572387695312\n",
      "0.08585071563720703\n"
     ]
    },
    {
     "name": "stderr",
     "output_type": "stream",
     "text": [
      "\n",
      " 58%|███████████████████████▎                | 582/1000 [00:51<00:37, 11.18it/s]\u001b[A"
     ]
    },
    {
     "name": "stdout",
     "output_type": "stream",
     "text": [
      "0.09072542190551758\n",
      "0.08661198616027832\n",
      "0.091033935546875\n"
     ]
    },
    {
     "name": "stderr",
     "output_type": "stream",
     "text": [
      "\n",
      " 58%|███████████████████████▎                | 584/1000 [00:52<00:37, 11.12it/s]\u001b[A\n",
      " 59%|███████████████████████▍                | 586/1000 [00:52<00:36, 11.21it/s]\u001b[A"
     ]
    },
    {
     "name": "stdout",
     "output_type": "stream",
     "text": [
      "0.08969926834106445\n",
      "0.08749246597290039\n",
      "0.08653640747070312\n"
     ]
    },
    {
     "name": "stderr",
     "output_type": "stream",
     "text": [
      "\n",
      " 59%|███████████████████████▌                | 588/1000 [00:52<00:36, 11.21it/s]\u001b[A"
     ]
    },
    {
     "name": "stdout",
     "output_type": "stream",
     "text": [
      "0.09135746955871582\n",
      "0.08604645729064941\n",
      "0.089202880859375\n"
     ]
    },
    {
     "name": "stderr",
     "output_type": "stream",
     "text": [
      "\n",
      " 59%|███████████████████████▌                | 590/1000 [00:52<00:36, 11.17it/s]\u001b[A\n",
      " 59%|███████████████████████▋                | 592/1000 [00:52<00:36, 11.26it/s]\u001b[A"
     ]
    },
    {
     "name": "stdout",
     "output_type": "stream",
     "text": [
      "0.08985018730163574\n",
      "0.08821940422058105\n",
      "0.0850229263305664\n"
     ]
    },
    {
     "name": "stderr",
     "output_type": "stream",
     "text": [
      "\n",
      " 59%|███████████████████████▊                | 594/1000 [00:52<00:36, 11.22it/s]\u001b[A"
     ]
    },
    {
     "name": "stdout",
     "output_type": "stream",
     "text": [
      "0.09192585945129395\n",
      "0.0864262580871582\n",
      "0.08870387077331543\n"
     ]
    },
    {
     "name": "stderr",
     "output_type": "stream",
     "text": [
      "\n",
      " 60%|███████████████████████▊                | 596/1000 [00:53<00:36, 11.20it/s]\u001b[A\n",
      " 60%|███████████████████████▉                | 598/1000 [00:53<00:35, 11.22it/s]\u001b[A"
     ]
    },
    {
     "name": "stdout",
     "output_type": "stream",
     "text": [
      "0.08950304985046387\n",
      "0.09129762649536133\n",
      "0.0852510929107666\n"
     ]
    },
    {
     "name": "stderr",
     "output_type": "stream",
     "text": [
      "\n",
      " 60%|████████████████████████                | 600/1000 [00:53<00:36, 11.09it/s]\u001b[A"
     ]
    },
    {
     "name": "stdout",
     "output_type": "stream",
     "text": [
      "0.09311962127685547\n",
      "0.09090971946716309\n",
      "0.08764004707336426\n"
     ]
    },
    {
     "name": "stderr",
     "output_type": "stream",
     "text": [
      "\n",
      " 60%|████████████████████████                | 602/1000 [00:53<00:35, 11.12it/s]\u001b[A\n",
      " 60%|████████████████████████▏               | 604/1000 [00:53<00:35, 11.16it/s]\u001b[A"
     ]
    },
    {
     "name": "stdout",
     "output_type": "stream",
     "text": [
      "0.08975863456726074\n",
      "0.09082150459289551\n",
      "0.0853724479675293\n"
     ]
    },
    {
     "name": "stderr",
     "output_type": "stream",
     "text": [
      "\n",
      " 61%|████████████████████████▏               | 606/1000 [00:54<00:35, 11.17it/s]\u001b[A"
     ]
    },
    {
     "name": "stdout",
     "output_type": "stream",
     "text": [
      "0.09108829498291016\n",
      "0.08634567260742188\n",
      "0.08947181701660156\n"
     ]
    },
    {
     "name": "stderr",
     "output_type": "stream",
     "text": [
      "\n",
      " 61%|████████████████████████▎               | 608/1000 [00:54<00:35, 11.16it/s]\u001b[A\n",
      " 61%|████████████████████████▍               | 610/1000 [00:54<00:34, 11.18it/s]\u001b[A"
     ]
    },
    {
     "name": "stdout",
     "output_type": "stream",
     "text": [
      "0.08910083770751953\n",
      "0.09163641929626465\n",
      "0.08514714241027832\n"
     ]
    },
    {
     "name": "stderr",
     "output_type": "stream",
     "text": [
      "\n",
      " 61%|████████████████████████▍               | 612/1000 [00:54<00:34, 11.16it/s]\u001b[A"
     ]
    },
    {
     "name": "stdout",
     "output_type": "stream",
     "text": [
      "0.09255266189575195\n",
      "0.08648443222045898\n",
      "0.08920025825500488\n"
     ]
    },
    {
     "name": "stderr",
     "output_type": "stream",
     "text": [
      "\n",
      " 61%|████████████████████████▌               | 614/1000 [00:54<00:34, 11.14it/s]\u001b[A\n",
      " 62%|████████████████████████▋               | 616/1000 [00:54<00:34, 11.23it/s]\u001b[A"
     ]
    },
    {
     "name": "stdout",
     "output_type": "stream",
     "text": [
      "0.08970355987548828\n",
      "0.08793354034423828\n",
      "0.0858469009399414\n"
     ]
    },
    {
     "name": "stderr",
     "output_type": "stream",
     "text": [
      "\n",
      " 62%|████████████████████████▋               | 618/1000 [00:55<00:34, 11.21it/s]\u001b[A"
     ]
    },
    {
     "name": "stdout",
     "output_type": "stream",
     "text": [
      "0.09195423126220703\n",
      "0.08610868453979492\n",
      "0.08992505073547363\n"
     ]
    },
    {
     "name": "stderr",
     "output_type": "stream",
     "text": [
      "\n",
      " 62%|████████████████████████▊               | 620/1000 [00:55<00:34, 11.16it/s]\u001b[A\n",
      " 62%|████████████████████████▉               | 622/1000 [00:55<00:33, 11.20it/s]\u001b[A"
     ]
    },
    {
     "name": "stdout",
     "output_type": "stream",
     "text": [
      "0.08975529670715332\n",
      "0.0910792350769043\n",
      "0.08511757850646973\n"
     ]
    },
    {
     "name": "stderr",
     "output_type": "stream",
     "text": [
      "\n",
      " 62%|████████████████████████▉               | 624/1000 [00:55<00:33, 11.18it/s]\u001b[A"
     ]
    },
    {
     "name": "stdout",
     "output_type": "stream",
     "text": [
      "0.09226179122924805\n",
      "0.08582925796508789\n",
      "0.09039497375488281\n"
     ]
    },
    {
     "name": "stderr",
     "output_type": "stream",
     "text": [
      "\n",
      " 63%|█████████████████████████               | 626/1000 [00:55<00:33, 11.06it/s]\u001b[A\n",
      " 63%|█████████████████████████               | 628/1000 [00:56<00:33, 11.00it/s]\u001b[A"
     ]
    },
    {
     "name": "stdout",
     "output_type": "stream",
     "text": [
      "0.0941472053527832\n",
      "0.0950157642364502\n",
      "0.08755874633789062\n"
     ]
    },
    {
     "name": "stderr",
     "output_type": "stream",
     "text": [
      "\n",
      " 63%|█████████████████████████▏              | 630/1000 [00:56<00:33, 11.04it/s]\u001b[A"
     ]
    },
    {
     "name": "stdout",
     "output_type": "stream",
     "text": [
      "0.09142112731933594\n",
      "0.08718681335449219\n",
      "0.09169769287109375\n"
     ]
    },
    {
     "name": "stderr",
     "output_type": "stream",
     "text": [
      "\n",
      " 63%|█████████████████████████▎              | 632/1000 [00:56<00:33, 11.00it/s]\u001b[A\n",
      " 63%|█████████████████████████▎              | 634/1000 [00:56<00:33, 11.08it/s]\u001b[A"
     ]
    },
    {
     "name": "stdout",
     "output_type": "stream",
     "text": [
      "0.09064579010009766\n",
      "0.0907900333404541\n",
      "0.08572006225585938\n"
     ]
    },
    {
     "name": "stderr",
     "output_type": "stream",
     "text": [
      "\n",
      " 64%|█████████████████████████▍              | 636/1000 [00:56<00:32, 11.10it/s]\u001b[A"
     ]
    },
    {
     "name": "stdout",
     "output_type": "stream",
     "text": [
      "0.09220623970031738\n",
      "0.0859220027923584\n",
      "0.0908207893371582\n"
     ]
    },
    {
     "name": "stderr",
     "output_type": "stream",
     "text": [
      "\n",
      " 64%|█████████████████████████▌              | 638/1000 [00:56<00:32, 11.09it/s]\u001b[A\n",
      " 64%|█████████████████████████▌              | 640/1000 [00:57<00:32, 11.14it/s]\u001b[A"
     ]
    },
    {
     "name": "stdout",
     "output_type": "stream",
     "text": [
      "0.0888514518737793\n",
      "0.09057784080505371\n",
      "0.08576488494873047\n"
     ]
    },
    {
     "name": "stderr",
     "output_type": "stream",
     "text": [
      "\n",
      " 64%|█████████████████████████▋              | 642/1000 [00:57<00:32, 11.15it/s]\u001b[A"
     ]
    },
    {
     "name": "stdout",
     "output_type": "stream",
     "text": [
      "0.09186959266662598\n",
      "0.08573198318481445\n",
      "0.08831524848937988\n"
     ]
    },
    {
     "name": "stderr",
     "output_type": "stream",
     "text": [
      "\n",
      " 64%|█████████████████████████▊              | 644/1000 [00:57<00:31, 11.17it/s]\u001b[A\n",
      " 65%|█████████████████████████▊              | 646/1000 [00:57<00:31, 11.27it/s]\u001b[A"
     ]
    },
    {
     "name": "stdout",
     "output_type": "stream",
     "text": [
      "0.08883047103881836\n",
      "0.08751869201660156\n",
      "0.08530235290527344\n"
     ]
    },
    {
     "name": "stderr",
     "output_type": "stream",
     "text": [
      "\n",
      " 65%|█████████████████████████▉              | 648/1000 [00:57<00:31, 11.26it/s]\u001b[A"
     ]
    },
    {
     "name": "stdout",
     "output_type": "stream",
     "text": [
      "0.09121251106262207\n",
      "0.08557462692260742\n",
      "0.09092473983764648\n"
     ]
    },
    {
     "name": "stderr",
     "output_type": "stream",
     "text": [
      "\n",
      " 65%|██████████████████████████              | 650/1000 [00:57<00:31, 11.17it/s]\u001b[A\n",
      " 65%|██████████████████████████              | 652/1000 [00:58<00:30, 11.29it/s]\u001b[A"
     ]
    },
    {
     "name": "stdout",
     "output_type": "stream",
     "text": [
      "0.0900111198425293\n",
      "0.08672332763671875\n",
      "0.08513832092285156\n"
     ]
    },
    {
     "name": "stderr",
     "output_type": "stream",
     "text": [
      "\n",
      " 65%|██████████████████████████▏             | 654/1000 [00:58<00:30, 11.26it/s]\u001b[A"
     ]
    },
    {
     "name": "stdout",
     "output_type": "stream",
     "text": [
      "0.09166836738586426\n",
      "0.08563828468322754\n",
      "0.09039807319641113\n"
     ]
    },
    {
     "name": "stderr",
     "output_type": "stream",
     "text": [
      "\n",
      " 66%|██████████████████████████▏             | 656/1000 [00:58<00:30, 11.18it/s]\u001b[A\n",
      " 66%|██████████████████████████▎             | 658/1000 [00:58<00:30, 11.11it/s]\u001b[A"
     ]
    },
    {
     "name": "stdout",
     "output_type": "stream",
     "text": [
      "0.09039473533630371\n",
      "0.09002256393432617\n",
      "0.09114933013916016\n"
     ]
    },
    {
     "name": "stderr",
     "output_type": "stream",
     "text": [
      "\n",
      " 66%|██████████████████████████▍             | 660/1000 [00:58<00:30, 10.99it/s]\u001b[A"
     ]
    },
    {
     "name": "stdout",
     "output_type": "stream",
     "text": [
      "0.0974571704864502\n",
      "0.08791041374206543\n",
      "0.10096955299377441\n"
     ]
    },
    {
     "name": "stderr",
     "output_type": "stream",
     "text": [
      "\n",
      " 66%|██████████████████████████▍             | 662/1000 [00:59<00:31, 10.83it/s]\u001b[A\n",
      " 66%|██████████████████████████▌             | 664/1000 [00:59<00:30, 10.86it/s]\u001b[A"
     ]
    },
    {
     "name": "stdout",
     "output_type": "stream",
     "text": [
      "0.08875465393066406\n",
      "0.09250569343566895\n",
      "0.08886075019836426\n"
     ]
    },
    {
     "name": "stderr",
     "output_type": "stream",
     "text": [
      "\n",
      " 67%|██████████████████████████▋             | 666/1000 [00:59<00:30, 10.93it/s]\u001b[A"
     ]
    },
    {
     "name": "stdout",
     "output_type": "stream",
     "text": [
      "0.09479260444641113\n",
      "0.08426690101623535\n",
      "0.08873677253723145\n"
     ]
    },
    {
     "name": "stderr",
     "output_type": "stream",
     "text": [
      "\n",
      " 67%|██████████████████████████▋             | 668/1000 [00:59<00:30, 11.02it/s]\u001b[A\n",
      " 67%|██████████████████████████▊             | 670/1000 [00:59<00:29, 11.20it/s]\u001b[A"
     ]
    },
    {
     "name": "stdout",
     "output_type": "stream",
     "text": [
      "0.08805632591247559\n",
      "0.08708620071411133\n",
      "0.08387398719787598\n"
     ]
    },
    {
     "name": "stderr",
     "output_type": "stream",
     "text": [
      "\n",
      " 67%|██████████████████████████▉             | 672/1000 [00:59<00:29, 11.18it/s]\u001b[A"
     ]
    },
    {
     "name": "stdout",
     "output_type": "stream",
     "text": [
      "0.09328198432922363\n",
      "0.08517003059387207\n",
      "0.09217548370361328\n"
     ]
    },
    {
     "name": "stderr",
     "output_type": "stream",
     "text": [
      "\n",
      " 67%|██████████████████████████▉             | 674/1000 [01:00<00:29, 10.94it/s]\u001b[A\n",
      " 68%|███████████████████████████             | 676/1000 [01:00<00:29, 10.96it/s]\u001b[A"
     ]
    },
    {
     "name": "stdout",
     "output_type": "stream",
     "text": [
      "0.09842562675476074\n",
      "0.09662914276123047\n",
      "0.08444476127624512\n"
     ]
    },
    {
     "name": "stderr",
     "output_type": "stream",
     "text": [
      "\n",
      " 68%|███████████████████████████             | 678/1000 [01:00<00:29, 11.10it/s]\u001b[A"
     ]
    },
    {
     "name": "stdout",
     "output_type": "stream",
     "text": [
      "0.0894019603729248\n",
      "0.08406591415405273\n",
      "0.09081315994262695\n"
     ]
    },
    {
     "name": "stderr",
     "output_type": "stream",
     "text": [
      "\n",
      " 68%|███████████████████████████▏            | 680/1000 [01:00<00:28, 11.11it/s]\u001b[A\n",
      " 68%|███████████████████████████▎            | 682/1000 [01:00<00:28, 11.22it/s]\u001b[A"
     ]
    },
    {
     "name": "stdout",
     "output_type": "stream",
     "text": [
      "0.08782410621643066\n",
      "0.08824396133422852\n",
      "0.08485674858093262\n"
     ]
    },
    {
     "name": "stderr",
     "output_type": "stream",
     "text": [
      "\n",
      " 68%|███████████████████████████▎            | 684/1000 [01:01<00:28, 11.21it/s]\u001b[A"
     ]
    },
    {
     "name": "stdout",
     "output_type": "stream",
     "text": [
      "0.09208559989929199\n",
      "0.08552145957946777\n",
      "0.08862447738647461\n"
     ]
    },
    {
     "name": "stderr",
     "output_type": "stream",
     "text": [
      "\n",
      " 69%|███████████████████████████▍            | 686/1000 [01:01<00:27, 11.23it/s]\u001b[A\n",
      " 69%|███████████████████████████▌            | 688/1000 [01:01<00:27, 11.31it/s]\u001b[A"
     ]
    },
    {
     "name": "stdout",
     "output_type": "stream",
     "text": [
      "0.08759117126464844\n",
      "0.0886995792388916\n",
      "0.08407926559448242\n"
     ]
    },
    {
     "name": "stderr",
     "output_type": "stream",
     "text": [
      "\n",
      " 69%|███████████████████████████▌            | 690/1000 [01:01<00:27, 11.32it/s]\u001b[A"
     ]
    },
    {
     "name": "stdout",
     "output_type": "stream",
     "text": [
      "0.09109282493591309\n",
      "0.08422660827636719\n",
      "0.0879216194152832\n"
     ]
    },
    {
     "name": "stderr",
     "output_type": "stream",
     "text": [
      "\n",
      " 69%|███████████████████████████▋            | 692/1000 [01:01<00:27, 11.33it/s]\u001b[A\n",
      " 69%|███████████████████████████▊            | 694/1000 [01:01<00:26, 11.42it/s]\u001b[A"
     ]
    },
    {
     "name": "stdout",
     "output_type": "stream",
     "text": [
      "0.08721137046813965\n",
      "0.0870218276977539\n",
      "0.08365607261657715\n"
     ]
    },
    {
     "name": "stderr",
     "output_type": "stream",
     "text": [
      "\n",
      " 70%|███████████████████████████▊            | 696/1000 [01:02<00:26, 11.39it/s]\u001b[A"
     ]
    },
    {
     "name": "stdout",
     "output_type": "stream",
     "text": [
      "0.09152674674987793\n",
      "0.08438754081726074\n",
      "0.08983182907104492\n"
     ]
    },
    {
     "name": "stderr",
     "output_type": "stream",
     "text": [
      "\n",
      " 70%|███████████████████████████▉            | 698/1000 [01:02<00:26, 11.33it/s]\u001b[A\n",
      " 70%|████████████████████████████            | 700/1000 [01:02<00:26, 11.43it/s]\u001b[A"
     ]
    },
    {
     "name": "stdout",
     "output_type": "stream",
     "text": [
      "0.08782696723937988\n",
      "0.08632802963256836\n",
      "0.0839390754699707\n"
     ]
    },
    {
     "name": "stderr",
     "output_type": "stream",
     "text": [
      "\n",
      " 70%|████████████████████████████            | 702/1000 [01:02<00:26, 11.41it/s]\u001b[A"
     ]
    },
    {
     "name": "stdout",
     "output_type": "stream",
     "text": [
      "0.09128665924072266\n",
      "0.08382010459899902\n",
      "0.0895843505859375\n"
     ]
    },
    {
     "name": "stderr",
     "output_type": "stream",
     "text": [
      "\n",
      " 70%|████████████████████████████▏           | 704/1000 [01:02<00:26, 11.37it/s]\u001b[A\n",
      " 71%|████████████████████████████▏           | 706/1000 [01:02<00:25, 11.42it/s]\u001b[A"
     ]
    },
    {
     "name": "stdout",
     "output_type": "stream",
     "text": [
      "0.08695125579833984\n",
      "0.08821868896484375\n",
      "0.08392882347106934\n"
     ]
    },
    {
     "name": "stderr",
     "output_type": "stream",
     "text": [
      "\n",
      " 71%|████████████████████████████▎           | 708/1000 [01:03<00:25, 11.40it/s]\u001b[A"
     ]
    },
    {
     "name": "stdout",
     "output_type": "stream",
     "text": [
      "0.09079504013061523\n",
      "0.0841820240020752\n",
      "0.0884850025177002\n"
     ]
    },
    {
     "name": "stderr",
     "output_type": "stream",
     "text": [
      "\n",
      " 71%|████████████████████████████▍           | 710/1000 [01:03<00:25, 11.37it/s]\u001b[A\n",
      " 71%|████████████████████████████▍           | 712/1000 [01:03<00:25, 11.45it/s]\u001b[A"
     ]
    },
    {
     "name": "stdout",
     "output_type": "stream",
     "text": [
      "0.08739089965820312\n",
      "0.08676671981811523\n",
      "0.08387303352355957\n"
     ]
    },
    {
     "name": "stderr",
     "output_type": "stream",
     "text": [
      "\n",
      " 71%|████████████████████████████▌           | 714/1000 [01:03<00:25, 11.42it/s]\u001b[A"
     ]
    },
    {
     "name": "stdout",
     "output_type": "stream",
     "text": [
      "0.09131193161010742\n",
      "0.08405447006225586\n",
      "0.09003996849060059\n"
     ]
    },
    {
     "name": "stderr",
     "output_type": "stream",
     "text": [
      "\n",
      " 72%|████████████████████████████▋           | 716/1000 [01:03<00:25, 11.34it/s]\u001b[A\n",
      " 72%|████████████████████████████▋           | 718/1000 [01:04<00:24, 11.36it/s]\u001b[A"
     ]
    },
    {
     "name": "stdout",
     "output_type": "stream",
     "text": [
      "0.08808660507202148\n",
      "0.09001708030700684\n",
      "0.08401656150817871\n"
     ]
    },
    {
     "name": "stderr",
     "output_type": "stream",
     "text": [
      "\n",
      " 72%|████████████████████████████▊           | 720/1000 [01:04<00:24, 11.34it/s]\u001b[A"
     ]
    },
    {
     "name": "stdout",
     "output_type": "stream",
     "text": [
      "0.0916450023651123\n",
      "0.08414840698242188\n",
      "0.08873724937438965\n"
     ]
    },
    {
     "name": "stderr",
     "output_type": "stream",
     "text": [
      "\n",
      " 72%|████████████████████████████▉           | 722/1000 [01:04<00:24, 11.33it/s]\u001b[A\n",
      " 72%|████████████████████████████▉           | 724/1000 [01:04<00:24, 11.38it/s]\u001b[A"
     ]
    },
    {
     "name": "stdout",
     "output_type": "stream",
     "text": [
      "0.08730840682983398\n",
      "0.08833527565002441\n",
      "0.08416318893432617\n"
     ]
    },
    {
     "name": "stderr",
     "output_type": "stream",
     "text": [
      "\n",
      " 73%|█████████████████████████████           | 726/1000 [01:04<00:24, 11.37it/s]\u001b[A"
     ]
    },
    {
     "name": "stdout",
     "output_type": "stream",
     "text": [
      "0.09139132499694824\n",
      "0.08428382873535156\n",
      "0.08828616142272949\n"
     ]
    },
    {
     "name": "stderr",
     "output_type": "stream",
     "text": [
      "\n",
      " 73%|█████████████████████████████           | 728/1000 [01:04<00:23, 11.34it/s]\u001b[A\n",
      " 73%|█████████████████████████████▏          | 730/1000 [01:05<00:23, 11.41it/s]\u001b[A"
     ]
    },
    {
     "name": "stdout",
     "output_type": "stream",
     "text": [
      "0.08820152282714844\n",
      "0.08728337287902832\n",
      "0.08447813987731934\n"
     ]
    },
    {
     "name": "stderr",
     "output_type": "stream",
     "text": [
      "\n",
      " 73%|█████████████████████████████▎          | 732/1000 [01:05<00:23, 11.38it/s]\u001b[A"
     ]
    },
    {
     "name": "stdout",
     "output_type": "stream",
     "text": [
      "0.09023046493530273\n",
      "0.08507037162780762\n",
      "0.08832478523254395\n"
     ]
    },
    {
     "name": "stderr",
     "output_type": "stream",
     "text": [
      "\n",
      " 73%|█████████████████████████████▎          | 734/1000 [01:05<00:23, 11.37it/s]\u001b[A\n",
      " 74%|█████████████████████████████▍          | 736/1000 [01:05<00:23, 11.43it/s]\u001b[A"
     ]
    },
    {
     "name": "stdout",
     "output_type": "stream",
     "text": [
      "0.0871284008026123\n",
      "0.08803749084472656\n",
      "0.08381175994873047\n"
     ]
    },
    {
     "name": "stderr",
     "output_type": "stream",
     "text": [
      "\n",
      " 74%|█████████████████████████████▌          | 738/1000 [01:05<00:22, 11.40it/s]\u001b[A"
     ]
    },
    {
     "name": "stdout",
     "output_type": "stream",
     "text": [
      "0.09136724472045898\n",
      "0.08399462699890137\n",
      "0.08839154243469238\n"
     ]
    },
    {
     "name": "stderr",
     "output_type": "stream",
     "text": [
      "\n",
      " 74%|█████████████████████████████▌          | 740/1000 [01:05<00:22, 11.37it/s]\u001b[A\n",
      " 74%|█████████████████████████████▋          | 742/1000 [01:06<00:22, 11.43it/s]\u001b[A"
     ]
    },
    {
     "name": "stdout",
     "output_type": "stream",
     "text": [
      "0.0877373218536377\n",
      "0.08703494071960449\n",
      "0.08441996574401855\n"
     ]
    },
    {
     "name": "stderr",
     "output_type": "stream",
     "text": [
      "\n",
      " 74%|█████████████████████████████▊          | 744/1000 [01:06<00:22, 11.37it/s]\u001b[A"
     ]
    },
    {
     "name": "stdout",
     "output_type": "stream",
     "text": [
      "0.09179186820983887\n",
      "0.08506131172180176\n",
      "0.09043359756469727\n"
     ]
    },
    {
     "name": "stderr",
     "output_type": "stream",
     "text": [
      "\n",
      " 75%|█████████████████████████████▊          | 746/1000 [01:06<00:22, 11.31it/s]\u001b[A\n",
      " 75%|█████████████████████████████▉          | 748/1000 [01:06<00:22, 11.40it/s]\u001b[A"
     ]
    },
    {
     "name": "stdout",
     "output_type": "stream",
     "text": [
      "0.08783245086669922\n",
      "0.08686399459838867\n",
      "0.08392786979675293\n"
     ]
    },
    {
     "name": "stderr",
     "output_type": "stream",
     "text": [
      "\n",
      " 75%|██████████████████████████████          | 750/1000 [01:06<00:21, 11.39it/s]\u001b[A"
     ]
    },
    {
     "name": "stdout",
     "output_type": "stream",
     "text": [
      "0.09092044830322266\n",
      "0.08429813385009766\n",
      "0.08980989456176758\n"
     ]
    },
    {
     "name": "stderr",
     "output_type": "stream",
     "text": [
      "\n",
      " 75%|██████████████████████████████          | 752/1000 [01:07<00:21, 11.33it/s]\u001b[A\n",
      " 75%|██████████████████████████████▏         | 754/1000 [01:07<00:21, 11.35it/s]\u001b[A"
     ]
    },
    {
     "name": "stdout",
     "output_type": "stream",
     "text": [
      "0.08782076835632324\n",
      "0.09007048606872559\n",
      "0.08429741859436035\n"
     ]
    },
    {
     "name": "stderr",
     "output_type": "stream",
     "text": [
      "\n",
      " 76%|██████████████████████████████▏         | 756/1000 [01:07<00:21, 11.33it/s]\u001b[A"
     ]
    },
    {
     "name": "stdout",
     "output_type": "stream",
     "text": [
      "0.09201693534851074\n",
      "0.08409595489501953\n",
      "0.0900568962097168\n"
     ]
    },
    {
     "name": "stderr",
     "output_type": "stream",
     "text": [
      "\n",
      " 76%|██████████████████████████████▎         | 758/1000 [01:07<00:21, 11.28it/s]\u001b[A\n",
      " 76%|██████████████████████████████▍         | 760/1000 [01:07<00:21, 11.33it/s]\u001b[A"
     ]
    },
    {
     "name": "stdout",
     "output_type": "stream",
     "text": [
      "0.08813881874084473\n",
      "0.08970141410827637\n",
      "0.08395028114318848\n"
     ]
    },
    {
     "name": "stderr",
     "output_type": "stream",
     "text": [
      "\n",
      " 76%|██████████████████████████████▍         | 762/1000 [01:07<00:21, 11.33it/s]\u001b[A"
     ]
    },
    {
     "name": "stdout",
     "output_type": "stream",
     "text": [
      "0.09117650985717773\n",
      "0.08448052406311035\n",
      "0.09021782875061035\n"
     ]
    },
    {
     "name": "stderr",
     "output_type": "stream",
     "text": [
      "\n",
      " 76%|██████████████████████████████▌         | 764/1000 [01:08<00:20, 11.28it/s]\u001b[A\n",
      " 77%|██████████████████████████████▋         | 766/1000 [01:08<00:20, 11.33it/s]\u001b[A"
     ]
    },
    {
     "name": "stdout",
     "output_type": "stream",
     "text": [
      "0.08791327476501465\n",
      "0.08864235877990723\n",
      "0.08486819267272949\n"
     ]
    },
    {
     "name": "stderr",
     "output_type": "stream",
     "text": [
      "\n",
      " 77%|██████████████████████████████▋         | 768/1000 [01:08<00:20, 11.33it/s]\u001b[A"
     ]
    },
    {
     "name": "stdout",
     "output_type": "stream",
     "text": [
      "0.09119653701782227\n",
      "0.0840303897857666\n",
      "0.0881645679473877\n"
     ]
    },
    {
     "name": "stderr",
     "output_type": "stream",
     "text": [
      "\n",
      " 77%|██████████████████████████████▊         | 770/1000 [01:08<00:20, 11.31it/s]\u001b[A\n",
      " 77%|██████████████████████████████▉         | 772/1000 [01:08<00:19, 11.41it/s]\u001b[A"
     ]
    },
    {
     "name": "stdout",
     "output_type": "stream",
     "text": [
      "0.08808302879333496\n",
      "0.08687996864318848\n",
      "0.08407926559448242\n"
     ]
    },
    {
     "name": "stderr",
     "output_type": "stream",
     "text": [
      "\n",
      " 77%|██████████████████████████████▉         | 774/1000 [01:08<00:19, 11.39it/s]\u001b[A"
     ]
    },
    {
     "name": "stdout",
     "output_type": "stream",
     "text": [
      "0.09038734436035156\n",
      "0.08437418937683105\n",
      "0.09895706176757812\n"
     ]
    },
    {
     "name": "stderr",
     "output_type": "stream",
     "text": [
      "\n",
      " 78%|███████████████████████████████         | 776/1000 [01:09<00:20, 11.19it/s]\u001b[A\n",
      " 78%|███████████████████████████████         | 778/1000 [01:09<00:19, 11.23it/s]\u001b[A"
     ]
    },
    {
     "name": "stdout",
     "output_type": "stream",
     "text": [
      "0.08643651008605957\n",
      "0.09073066711425781\n",
      "0.08437752723693848\n"
     ]
    },
    {
     "name": "stderr",
     "output_type": "stream",
     "text": [
      "\n",
      " 78%|███████████████████████████████▏        | 780/1000 [01:09<00:19, 11.23it/s]\u001b[A"
     ]
    },
    {
     "name": "stdout",
     "output_type": "stream",
     "text": [
      "0.0918126106262207\n",
      "0.08498835563659668\n",
      "0.08859610557556152\n"
     ]
    },
    {
     "name": "stderr",
     "output_type": "stream",
     "text": [
      "\n",
      " 78%|███████████████████████████████▎        | 782/1000 [01:09<00:19, 11.25it/s]\u001b[A\n",
      " 78%|███████████████████████████████▎        | 784/1000 [01:09<00:19, 11.35it/s]\u001b[A"
     ]
    },
    {
     "name": "stdout",
     "output_type": "stream",
     "text": [
      "0.08739018440246582\n",
      "0.08728432655334473\n",
      "0.08439254760742188\n"
     ]
    },
    {
     "name": "stderr",
     "output_type": "stream",
     "text": [
      "\n",
      " 79%|███████████████████████████████▍        | 786/1000 [01:10<00:18, 11.36it/s]\u001b[A"
     ]
    },
    {
     "name": "stdout",
     "output_type": "stream",
     "text": [
      "0.09032940864562988\n",
      "0.08425784111022949\n",
      "0.09023904800415039\n"
     ]
    },
    {
     "name": "stderr",
     "output_type": "stream",
     "text": [
      "\n",
      " 79%|███████████████████████████████▌        | 788/1000 [01:10<00:18, 11.30it/s]\u001b[A\n",
      " 79%|███████████████████████████████▌        | 790/1000 [01:10<00:18, 11.31it/s]\u001b[A"
     ]
    },
    {
     "name": "stdout",
     "output_type": "stream",
     "text": [
      "0.08804607391357422\n",
      "0.09090304374694824\n",
      "0.0843803882598877\n"
     ]
    },
    {
     "name": "stderr",
     "output_type": "stream",
     "text": [
      "\n",
      " 79%|███████████████████████████████▋        | 792/1000 [01:10<00:18, 11.32it/s]\u001b[A"
     ]
    },
    {
     "name": "stdout",
     "output_type": "stream",
     "text": [
      "0.09115958213806152\n",
      "0.08433365821838379\n",
      "0.0901174545288086\n"
     ]
    },
    {
     "name": "stderr",
     "output_type": "stream",
     "text": [
      "\n",
      " 79%|███████████████████████████████▊        | 794/1000 [01:10<00:18, 11.28it/s]\u001b[A\n",
      " 80%|███████████████████████████████▊        | 796/1000 [01:10<00:18, 11.32it/s]\u001b[A"
     ]
    },
    {
     "name": "stdout",
     "output_type": "stream",
     "text": [
      "0.08740425109863281\n",
      "0.08978271484375\n",
      "0.08419466018676758\n"
     ]
    },
    {
     "name": "stderr",
     "output_type": "stream",
     "text": [
      "\n",
      " 80%|███████████████████████████████▉        | 798/1000 [01:11<00:17, 11.32it/s]\u001b[A"
     ]
    },
    {
     "name": "stdout",
     "output_type": "stream",
     "text": [
      "0.09127020835876465\n",
      "0.08434462547302246\n",
      "0.08959317207336426\n"
     ]
    },
    {
     "name": "stderr",
     "output_type": "stream",
     "text": [
      "\n",
      " 80%|████████████████████████████████        | 800/1000 [01:11<00:17, 11.27it/s]\u001b[A\n",
      " 80%|████████████████████████████████        | 802/1000 [01:11<00:17, 11.34it/s]\u001b[A"
     ]
    },
    {
     "name": "stdout",
     "output_type": "stream",
     "text": [
      "0.08847451210021973\n",
      "0.0879218578338623\n",
      "0.08472084999084473\n"
     ]
    },
    {
     "name": "stderr",
     "output_type": "stream",
     "text": [
      "\n",
      " 80%|████████████████████████████████▏       | 804/1000 [01:11<00:17, 11.33it/s]\u001b[A"
     ]
    },
    {
     "name": "stdout",
     "output_type": "stream",
     "text": [
      "0.09111213684082031\n",
      "0.08505368232727051\n",
      "0.0882575511932373\n"
     ]
    },
    {
     "name": "stderr",
     "output_type": "stream",
     "text": [
      "\n",
      " 81%|████████████████████████████████▏       | 806/1000 [01:11<00:17, 11.29it/s]\u001b[A\n",
      " 81%|████████████████████████████████▎       | 808/1000 [01:11<00:16, 11.36it/s]\u001b[A"
     ]
    },
    {
     "name": "stdout",
     "output_type": "stream",
     "text": [
      "0.08905220031738281\n",
      "0.0886991024017334\n",
      "0.08402061462402344\n"
     ]
    },
    {
     "name": "stderr",
     "output_type": "stream",
     "text": [
      "\n",
      " 81%|████████████████████████████████▍       | 810/1000 [01:12<00:16, 11.35it/s]\u001b[A"
     ]
    },
    {
     "name": "stdout",
     "output_type": "stream",
     "text": [
      "0.0912637710571289\n",
      "0.08432149887084961\n",
      "0.08836078643798828\n"
     ]
    },
    {
     "name": "stderr",
     "output_type": "stream",
     "text": [
      "\n",
      " 81%|████████████████████████████████▍       | 812/1000 [01:12<00:16, 11.32it/s]\u001b[A\n",
      " 81%|████████████████████████████████▌       | 814/1000 [01:12<00:16, 11.42it/s]\u001b[A"
     ]
    },
    {
     "name": "stdout",
     "output_type": "stream",
     "text": [
      "0.08818650245666504\n",
      "0.08661937713623047\n",
      "0.08374381065368652\n"
     ]
    },
    {
     "name": "stderr",
     "output_type": "stream",
     "text": [
      "\n",
      " 82%|████████████████████████████████▋       | 816/1000 [01:12<00:16, 11.41it/s]\u001b[A"
     ]
    },
    {
     "name": "stdout",
     "output_type": "stream",
     "text": [
      "0.09053564071655273\n",
      "0.08426785469055176\n",
      "0.08986115455627441\n"
     ]
    },
    {
     "name": "stderr",
     "output_type": "stream",
     "text": [
      "\n",
      " 82%|████████████████████████████████▋       | 818/1000 [01:12<00:16, 11.35it/s]\u001b[A\n",
      " 82%|████████████████████████████████▊       | 820/1000 [01:13<00:15, 11.40it/s]\u001b[A"
     ]
    },
    {
     "name": "stdout",
     "output_type": "stream",
     "text": [
      "0.0874948501586914\n",
      "0.08861541748046875\n",
      "0.08388495445251465\n"
     ]
    },
    {
     "name": "stderr",
     "output_type": "stream",
     "text": [
      "\n",
      " 82%|████████████████████████████████▉       | 822/1000 [01:13<00:15, 11.39it/s]\u001b[A"
     ]
    },
    {
     "name": "stdout",
     "output_type": "stream",
     "text": [
      "0.09044766426086426\n",
      "0.08436059951782227\n",
      "0.08841919898986816\n"
     ]
    },
    {
     "name": "stderr",
     "output_type": "stream",
     "text": [
      "\n",
      " 82%|████████████████████████████████▉       | 824/1000 [01:13<00:15, 11.36it/s]\u001b[A\n",
      " 83%|█████████████████████████████████       | 826/1000 [01:13<00:15, 11.44it/s]\u001b[A"
     ]
    },
    {
     "name": "stdout",
     "output_type": "stream",
     "text": [
      "0.08748626708984375\n",
      "0.08703827857971191\n",
      "0.08410096168518066\n"
     ]
    },
    {
     "name": "stderr",
     "output_type": "stream",
     "text": [
      "\n",
      " 83%|█████████████████████████████████       | 828/1000 [01:13<00:15, 11.41it/s]\u001b[A"
     ]
    },
    {
     "name": "stdout",
     "output_type": "stream",
     "text": [
      "0.09080672264099121\n",
      "0.08432507514953613\n",
      "0.08873748779296875\n"
     ]
    },
    {
     "name": "stderr",
     "output_type": "stream",
     "text": [
      "\n",
      " 83%|█████████████████████████████████▏      | 830/1000 [01:13<00:14, 11.37it/s]\u001b[A\n",
      " 83%|█████████████████████████████████▎      | 832/1000 [01:14<00:14, 11.42it/s]\u001b[A"
     ]
    },
    {
     "name": "stdout",
     "output_type": "stream",
     "text": [
      "0.08763480186462402\n",
      "0.0879831314086914\n",
      "0.08412384986877441\n"
     ]
    },
    {
     "name": "stderr",
     "output_type": "stream",
     "text": [
      "\n",
      " 83%|█████████████████████████████████▎      | 834/1000 [01:14<00:14, 11.39it/s]\u001b[A"
     ]
    },
    {
     "name": "stdout",
     "output_type": "stream",
     "text": [
      "0.09114408493041992\n",
      "0.08458256721496582\n",
      "0.09010481834411621\n"
     ]
    },
    {
     "name": "stderr",
     "output_type": "stream",
     "text": [
      "\n",
      " 84%|█████████████████████████████████▍      | 836/1000 [01:14<00:14, 11.32it/s]\u001b[A\n",
      " 84%|█████████████████████████████████▌      | 838/1000 [01:14<00:14, 11.32it/s]\u001b[A"
     ]
    },
    {
     "name": "stdout",
     "output_type": "stream",
     "text": [
      "0.0875239372253418\n",
      "0.09123992919921875\n",
      "0.08443832397460938\n"
     ]
    },
    {
     "name": "stderr",
     "output_type": "stream",
     "text": [
      "\n",
      " 84%|█████████████████████████████████▌      | 840/1000 [01:14<00:14, 11.32it/s]\u001b[A"
     ]
    },
    {
     "name": "stdout",
     "output_type": "stream",
     "text": [
      "0.09152746200561523\n",
      "0.08427834510803223\n",
      "0.08849215507507324\n"
     ]
    },
    {
     "name": "stderr",
     "output_type": "stream",
     "text": [
      "\n",
      " 84%|█████████████████████████████████▋      | 842/1000 [01:14<00:13, 11.32it/s]\u001b[A\n",
      " 84%|█████████████████████████████████▊      | 844/1000 [01:15<00:13, 11.40it/s]\u001b[A"
     ]
    },
    {
     "name": "stdout",
     "output_type": "stream",
     "text": [
      "0.08720016479492188\n",
      "0.0872187614440918\n",
      "0.08400583267211914\n"
     ]
    },
    {
     "name": "stderr",
     "output_type": "stream",
     "text": [
      "\n",
      " 85%|█████████████████████████████████▊      | 846/1000 [01:15<00:13, 11.37it/s]\u001b[A"
     ]
    },
    {
     "name": "stdout",
     "output_type": "stream",
     "text": [
      "0.09091353416442871\n",
      "0.08489489555358887\n",
      "0.0883028507232666\n"
     ]
    },
    {
     "name": "stderr",
     "output_type": "stream",
     "text": [
      "\n",
      " 85%|█████████████████████████████████▉      | 848/1000 [01:15<00:13, 11.35it/s]\u001b[A\n",
      " 85%|██████████████████████████████████      | 850/1000 [01:15<00:13, 11.37it/s]\u001b[A"
     ]
    },
    {
     "name": "stdout",
     "output_type": "stream",
     "text": [
      "0.08766341209411621\n",
      "0.09008932113647461\n",
      "0.0840761661529541\n"
     ]
    },
    {
     "name": "stderr",
     "output_type": "stream",
     "text": [
      "\n",
      " 85%|██████████████████████████████████      | 852/1000 [01:15<00:13, 11.34it/s]\u001b[A"
     ]
    },
    {
     "name": "stdout",
     "output_type": "stream",
     "text": [
      "0.09189295768737793\n",
      "0.08464527130126953\n",
      "0.09115958213806152\n"
     ]
    },
    {
     "name": "stderr",
     "output_type": "stream",
     "text": [
      "\n",
      " 85%|██████████████████████████████████▏     | 854/1000 [01:16<00:12, 11.26it/s]\u001b[A\n",
      " 86%|██████████████████████████████████▏     | 856/1000 [01:16<00:12, 11.30it/s]\u001b[A"
     ]
    },
    {
     "name": "stdout",
     "output_type": "stream",
     "text": [
      "0.08802056312561035\n",
      "0.09023761749267578\n",
      "0.08424949645996094\n"
     ]
    },
    {
     "name": "stderr",
     "output_type": "stream",
     "text": [
      "\n",
      " 86%|██████████████████████████████████▎     | 858/1000 [01:16<00:12, 11.30it/s]\u001b[A"
     ]
    },
    {
     "name": "stdout",
     "output_type": "stream",
     "text": [
      "0.09183216094970703\n",
      "0.08438754081726074\n",
      "0.09050130844116211\n"
     ]
    },
    {
     "name": "stderr",
     "output_type": "stream",
     "text": [
      "\n",
      " 86%|██████████████████████████████████▍     | 860/1000 [01:16<00:12, 11.25it/s]\u001b[A\n",
      " 86%|██████████████████████████████████▍     | 862/1000 [01:16<00:12, 11.29it/s]\u001b[A"
     ]
    },
    {
     "name": "stdout",
     "output_type": "stream",
     "text": [
      "0.08785390853881836\n",
      "0.09025359153747559\n",
      "0.0841681957244873\n"
     ]
    },
    {
     "name": "stderr",
     "output_type": "stream",
     "text": [
      "\n",
      " 86%|██████████████████████████████████▌     | 864/1000 [01:16<00:12, 11.30it/s]\u001b[A"
     ]
    },
    {
     "name": "stdout",
     "output_type": "stream",
     "text": [
      "0.09142017364501953\n",
      "0.08452773094177246\n",
      "0.08997035026550293\n"
     ]
    },
    {
     "name": "stderr",
     "output_type": "stream",
     "text": [
      "\n",
      " 87%|██████████████████████████████████▋     | 866/1000 [01:17<00:11, 11.26it/s]\u001b[A\n",
      " 87%|██████████████████████████████████▋     | 868/1000 [01:17<00:11, 11.33it/s]\u001b[A"
     ]
    },
    {
     "name": "stdout",
     "output_type": "stream",
     "text": [
      "0.08817005157470703\n",
      "0.08828568458557129\n",
      "0.08450198173522949\n"
     ]
    },
    {
     "name": "stderr",
     "output_type": "stream",
     "text": [
      "\n",
      " 87%|██████████████████████████████████▊     | 870/1000 [01:17<00:11, 11.34it/s]\u001b[A"
     ]
    },
    {
     "name": "stdout",
     "output_type": "stream",
     "text": [
      "0.09060835838317871\n",
      "0.084014892578125\n",
      "0.08943009376525879\n"
     ]
    },
    {
     "name": "stderr",
     "output_type": "stream",
     "text": [
      "\n",
      " 87%|██████████████████████████████████▉     | 872/1000 [01:17<00:11, 11.32it/s]\u001b[A\n",
      " 87%|██████████████████████████████████▉     | 874/1000 [01:17<00:11, 11.18it/s]\u001b[A"
     ]
    },
    {
     "name": "stdout",
     "output_type": "stream",
     "text": [
      "0.0870809555053711\n",
      "0.09884929656982422\n",
      "0.08430790901184082\n"
     ]
    },
    {
     "name": "stderr",
     "output_type": "stream",
     "text": [
      "\n",
      " 88%|███████████████████████████████████     | 876/1000 [01:17<00:11, 11.25it/s]\u001b[A"
     ]
    },
    {
     "name": "stdout",
     "output_type": "stream",
     "text": [
      "0.08950376510620117\n",
      "0.08464908599853516\n",
      "0.09117722511291504\n"
     ]
    },
    {
     "name": "stderr",
     "output_type": "stream",
     "text": [
      "\n",
      " 88%|███████████████████████████████████     | 878/1000 [01:18<00:10, 11.19it/s]\u001b[A\n",
      " 88%|███████████████████████████████████▏    | 880/1000 [01:18<00:10, 11.21it/s]\u001b[A"
     ]
    },
    {
     "name": "stdout",
     "output_type": "stream",
     "text": [
      "0.08883929252624512\n",
      "0.09031152725219727\n",
      "0.08606696128845215\n"
     ]
    },
    {
     "name": "stderr",
     "output_type": "stream",
     "text": [
      "\n",
      " 88%|███████████████████████████████████▎    | 882/1000 [01:18<00:10, 11.21it/s]\u001b[A"
     ]
    },
    {
     "name": "stdout",
     "output_type": "stream",
     "text": [
      "0.09234619140625\n",
      "0.08503103256225586\n",
      "0.09007048606872559\n"
     ]
    },
    {
     "name": "stderr",
     "output_type": "stream",
     "text": [
      "\n",
      " 88%|███████████████████████████████████▎    | 884/1000 [01:18<00:10, 11.19it/s]\u001b[A\n",
      " 89%|███████████████████████████████████▍    | 886/1000 [01:18<00:10, 11.28it/s]\u001b[A"
     ]
    },
    {
     "name": "stdout",
     "output_type": "stream",
     "text": [
      "0.08820962905883789\n",
      "0.08798646926879883\n",
      "0.08492016792297363\n"
     ]
    },
    {
     "name": "stderr",
     "output_type": "stream",
     "text": [
      "\n",
      " 89%|███████████████████████████████████▌    | 888/1000 [01:19<00:10, 11.20it/s]\u001b[A"
     ]
    },
    {
     "name": "stdout",
     "output_type": "stream",
     "text": [
      "0.09521627426147461\n",
      "0.0852508544921875\n",
      "0.09184455871582031\n"
     ]
    },
    {
     "name": "stderr",
     "output_type": "stream",
     "text": [
      "\n",
      " 89%|███████████████████████████████████▌    | 890/1000 [01:19<00:09, 11.14it/s]\u001b[A\n",
      " 89%|███████████████████████████████████▋    | 892/1000 [01:19<00:09, 11.21it/s]\u001b[A"
     ]
    },
    {
     "name": "stdout",
     "output_type": "stream",
     "text": [
      "0.0887911319732666\n",
      "0.09054183959960938\n",
      "0.08427023887634277\n"
     ]
    },
    {
     "name": "stderr",
     "output_type": "stream",
     "text": [
      "\n",
      " 89%|███████████████████████████████████▊    | 894/1000 [01:19<00:09, 11.22it/s]\u001b[A"
     ]
    },
    {
     "name": "stdout",
     "output_type": "stream",
     "text": [
      "0.09194397926330566\n",
      "0.08485150337219238\n",
      "0.09038162231445312\n"
     ]
    },
    {
     "name": "stderr",
     "output_type": "stream",
     "text": [
      "\n",
      " 90%|███████████████████████████████████▊    | 896/1000 [01:19<00:09, 11.20it/s]\u001b[A\n",
      " 90%|███████████████████████████████████▉    | 898/1000 [01:19<00:09, 11.25it/s]\u001b[A"
     ]
    },
    {
     "name": "stdout",
     "output_type": "stream",
     "text": [
      "0.08818769454956055\n",
      "0.08971405029296875\n",
      "0.08491206169128418\n"
     ]
    },
    {
     "name": "stderr",
     "output_type": "stream",
     "text": [
      "\n",
      " 90%|████████████████████████████████████    | 900/1000 [01:20<00:08, 11.24it/s]\u001b[A"
     ]
    },
    {
     "name": "stdout",
     "output_type": "stream",
     "text": [
      "0.09226298332214355\n",
      "0.08497357368469238\n",
      "0.09241294860839844\n"
     ]
    },
    {
     "name": "stderr",
     "output_type": "stream",
     "text": [
      "\n",
      " 90%|████████████████████████████████████    | 902/1000 [01:20<00:08, 11.14it/s]\u001b[A\n",
      " 90%|████████████████████████████████████▏   | 904/1000 [01:20<00:08, 11.26it/s]\u001b[A"
     ]
    },
    {
     "name": "stdout",
     "output_type": "stream",
     "text": [
      "0.08974957466125488\n",
      "0.08752179145812988\n",
      "0.08458924293518066\n"
     ]
    },
    {
     "name": "stderr",
     "output_type": "stream",
     "text": [
      "\n",
      " 91%|████████████████████████████████████▏   | 906/1000 [01:20<00:08, 11.26it/s]\u001b[A"
     ]
    },
    {
     "name": "stdout",
     "output_type": "stream",
     "text": [
      "0.09195208549499512\n",
      "0.08482623100280762\n",
      "0.0924689769744873\n"
     ]
    },
    {
     "name": "stderr",
     "output_type": "stream",
     "text": [
      "\n",
      " 91%|████████████████████████████████████▎   | 908/1000 [01:20<00:08, 11.17it/s]\u001b[A\n",
      " 91%|████████████████████████████████████▍   | 910/1000 [01:21<00:08, 11.19it/s]\u001b[A"
     ]
    },
    {
     "name": "stdout",
     "output_type": "stream",
     "text": [
      "0.08886098861694336\n",
      "0.09230518341064453\n",
      "0.08448171615600586\n"
     ]
    },
    {
     "name": "stderr",
     "output_type": "stream",
     "text": [
      "\n",
      " 91%|████████████████████████████████████▍   | 912/1000 [01:21<00:07, 11.19it/s]\u001b[A"
     ]
    },
    {
     "name": "stdout",
     "output_type": "stream",
     "text": [
      "0.09294676780700684\n",
      "0.0845329761505127\n",
      "0.09097552299499512\n"
     ]
    },
    {
     "name": "stderr",
     "output_type": "stream",
     "text": [
      "\n",
      " 91%|████████████████████████████████████▌   | 914/1000 [01:21<00:07, 11.17it/s]\u001b[A\n",
      " 92%|████████████████████████████████████▋   | 916/1000 [01:21<00:07, 11.25it/s]\u001b[A"
     ]
    },
    {
     "name": "stdout",
     "output_type": "stream",
     "text": [
      "0.08818316459655762\n",
      "0.0892937183380127\n",
      "0.08435368537902832\n"
     ]
    },
    {
     "name": "stderr",
     "output_type": "stream",
     "text": [
      "\n",
      " 92%|████████████████████████████████████▋   | 918/1000 [01:21<00:07, 11.26it/s]\u001b[A"
     ]
    },
    {
     "name": "stdout",
     "output_type": "stream",
     "text": [
      "0.09177279472351074\n",
      "0.08441495895385742\n",
      "0.08844590187072754\n"
     ]
    },
    {
     "name": "stderr",
     "output_type": "stream",
     "text": [
      "\n",
      " 92%|████████████████████████████████████▊   | 920/1000 [01:21<00:07, 11.27it/s]\u001b[A\n",
      " 92%|████████████████████████████████████▉   | 922/1000 [01:22<00:06, 11.30it/s]\u001b[A"
     ]
    },
    {
     "name": "stdout",
     "output_type": "stream",
     "text": [
      "0.08733296394348145\n",
      "0.09061646461486816\n",
      "0.08436250686645508\n"
     ]
    },
    {
     "name": "stderr",
     "output_type": "stream",
     "text": [
      "\n",
      " 92%|████████████████████████████████████▉   | 924/1000 [01:22<00:06, 11.30it/s]\u001b[A"
     ]
    },
    {
     "name": "stdout",
     "output_type": "stream",
     "text": [
      "0.09157228469848633\n",
      "0.08430719375610352\n",
      "0.08904600143432617\n"
     ]
    },
    {
     "name": "stderr",
     "output_type": "stream",
     "text": [
      "\n",
      " 93%|█████████████████████████████████████   | 926/1000 [01:22<00:06, 11.28it/s]\u001b[A\n",
      " 93%|█████████████████████████████████████   | 928/1000 [01:22<00:06, 11.38it/s]\u001b[A"
     ]
    },
    {
     "name": "stdout",
     "output_type": "stream",
     "text": [
      "0.0876607894897461\n",
      "0.08692717552185059\n",
      "0.08400845527648926\n"
     ]
    },
    {
     "name": "stderr",
     "output_type": "stream",
     "text": [
      "\n",
      " 93%|█████████████████████████████████████▏  | 930/1000 [01:22<00:06, 11.36it/s]\u001b[A"
     ]
    },
    {
     "name": "stdout",
     "output_type": "stream",
     "text": [
      "0.09101176261901855\n",
      "0.08485794067382812\n",
      "0.08998799324035645\n"
     ]
    },
    {
     "name": "stderr",
     "output_type": "stream",
     "text": [
      "\n",
      " 93%|█████████████████████████████████████▎  | 932/1000 [01:22<00:06, 11.30it/s]\u001b[A\n",
      " 93%|█████████████████████████████████████▎  | 934/1000 [01:23<00:05, 11.35it/s]\u001b[A"
     ]
    },
    {
     "name": "stdout",
     "output_type": "stream",
     "text": [
      "0.08830451965332031\n",
      "0.08879733085632324\n",
      "0.08437848091125488\n"
     ]
    },
    {
     "name": "stderr",
     "output_type": "stream",
     "text": [
      "\n",
      " 94%|█████████████████████████████████████▍  | 936/1000 [01:23<00:05, 11.32it/s]\u001b[A"
     ]
    },
    {
     "name": "stdout",
     "output_type": "stream",
     "text": [
      "0.0913999080657959\n",
      "0.08524823188781738\n",
      "0.08927679061889648\n"
     ]
    },
    {
     "name": "stderr",
     "output_type": "stream",
     "text": [
      "\n",
      " 94%|█████████████████████████████████████▌  | 938/1000 [01:23<00:05, 11.29it/s]\u001b[A\n",
      " 94%|█████████████████████████████████████▌  | 940/1000 [01:23<00:05, 11.34it/s]\u001b[A"
     ]
    },
    {
     "name": "stdout",
     "output_type": "stream",
     "text": [
      "0.08807730674743652\n",
      "0.08910894393920898\n",
      "0.08446812629699707\n"
     ]
    },
    {
     "name": "stderr",
     "output_type": "stream",
     "text": [
      "\n",
      " 94%|█████████████████████████████████████▋  | 942/1000 [01:23<00:05, 11.32it/s]\u001b[A"
     ]
    },
    {
     "name": "stdout",
     "output_type": "stream",
     "text": [
      "0.09197616577148438\n",
      "0.08443307876586914\n",
      "0.09058880805969238\n"
     ]
    },
    {
     "name": "stderr",
     "output_type": "stream",
     "text": [
      "\n",
      " 94%|█████████████████████████████████████▊  | 944/1000 [01:24<00:04, 11.25it/s]\u001b[A\n",
      " 95%|█████████████████████████████████████▊  | 946/1000 [01:24<00:04, 11.31it/s]\u001b[A"
     ]
    },
    {
     "name": "stdout",
     "output_type": "stream",
     "text": [
      "0.08853578567504883\n",
      "0.08914327621459961\n",
      "0.08476734161376953\n"
     ]
    },
    {
     "name": "stderr",
     "output_type": "stream",
     "text": [
      "\n",
      " 95%|█████████████████████████████████████▉  | 948/1000 [01:24<00:04, 11.26it/s]\u001b[A"
     ]
    },
    {
     "name": "stdout",
     "output_type": "stream",
     "text": [
      "0.09322619438171387\n",
      "0.08484196662902832\n",
      "0.09058475494384766\n"
     ]
    },
    {
     "name": "stderr",
     "output_type": "stream",
     "text": [
      "\n",
      " 95%|██████████████████████████████████████  | 950/1000 [01:24<00:04, 11.21it/s]\u001b[A\n",
      " 95%|██████████████████████████████████████  | 952/1000 [01:24<00:04, 11.27it/s]\u001b[A"
     ]
    },
    {
     "name": "stdout",
     "output_type": "stream",
     "text": [
      "0.0883486270904541\n",
      "0.08951401710510254\n",
      "0.08471989631652832\n"
     ]
    },
    {
     "name": "stderr",
     "output_type": "stream",
     "text": [
      "\n",
      " 95%|██████████████████████████████████████▏ | 954/1000 [01:24<00:04, 11.26it/s]\u001b[A"
     ]
    },
    {
     "name": "stdout",
     "output_type": "stream",
     "text": [
      "0.09200429916381836\n",
      "0.08483290672302246\n",
      "0.09093165397644043\n"
     ]
    },
    {
     "name": "stderr",
     "output_type": "stream",
     "text": [
      "\n",
      " 96%|██████████████████████████████████████▏ | 956/1000 [01:25<00:03, 11.21it/s]\u001b[A\n",
      " 96%|██████████████████████████████████████▎ | 958/1000 [01:25<00:03, 11.27it/s]\u001b[A"
     ]
    },
    {
     "name": "stdout",
     "output_type": "stream",
     "text": [
      "0.08795547485351562\n",
      "0.08920598030090332\n",
      "0.08529114723205566\n"
     ]
    },
    {
     "name": "stderr",
     "output_type": "stream",
     "text": [
      "\n",
      " 96%|██████████████████████████████████████▍ | 960/1000 [01:25<00:03, 11.24it/s]\u001b[A"
     ]
    },
    {
     "name": "stdout",
     "output_type": "stream",
     "text": [
      "0.09299063682556152\n",
      "0.08482003211975098\n",
      "0.09080338478088379\n"
     ]
    },
    {
     "name": "stderr",
     "output_type": "stream",
     "text": [
      "\n",
      " 96%|██████████████████████████████████████▍ | 962/1000 [01:25<00:03, 11.18it/s]\u001b[A\n",
      " 96%|██████████████████████████████████████▌ | 964/1000 [01:25<00:03, 11.22it/s]\u001b[A"
     ]
    },
    {
     "name": "stdout",
     "output_type": "stream",
     "text": [
      "0.08935022354125977\n",
      "0.09064078330993652\n",
      "0.08486676216125488\n"
     ]
    },
    {
     "name": "stderr",
     "output_type": "stream",
     "text": [
      "\n",
      " 97%|██████████████████████████████████████▋ | 966/1000 [01:25<00:03, 11.24it/s]\u001b[A"
     ]
    },
    {
     "name": "stdout",
     "output_type": "stream",
     "text": [
      "0.09159111976623535\n",
      "0.08482170104980469\n",
      "0.09027576446533203\n"
     ]
    },
    {
     "name": "stderr",
     "output_type": "stream",
     "text": [
      "\n",
      " 97%|██████████████████████████████████████▋ | 968/1000 [01:26<00:02, 11.20it/s]\u001b[A\n",
      " 97%|██████████████████████████████████████▊ | 970/1000 [01:26<00:02, 11.22it/s]\u001b[A"
     ]
    },
    {
     "name": "stdout",
     "output_type": "stream",
     "text": [
      "0.0886070728302002\n",
      "0.09076952934265137\n",
      "0.08526396751403809\n"
     ]
    },
    {
     "name": "stderr",
     "output_type": "stream",
     "text": [
      "\n",
      " 97%|██████████████████████████████████████▉ | 972/1000 [01:26<00:02, 11.09it/s]\u001b[A"
     ]
    },
    {
     "name": "stdout",
     "output_type": "stream",
     "text": [
      "0.09990429878234863\n",
      "0.08456826210021973\n",
      "0.09063291549682617\n"
     ]
    },
    {
     "name": "stderr",
     "output_type": "stream",
     "text": [
      "\n",
      " 97%|██████████████████████████████████████▉ | 974/1000 [01:26<00:02, 11.10it/s]\u001b[A\n",
      " 98%|███████████████████████████████████████ | 976/1000 [01:26<00:02, 11.24it/s]\u001b[A"
     ]
    },
    {
     "name": "stdout",
     "output_type": "stream",
     "text": [
      "0.08813285827636719\n",
      "0.0870661735534668\n",
      "0.08466053009033203\n"
     ]
    },
    {
     "name": "stderr",
     "output_type": "stream",
     "text": [
      "\n",
      " 98%|███████████████████████████████████████ | 978/1000 [01:27<00:01, 11.25it/s]\u001b[A"
     ]
    },
    {
     "name": "stdout",
     "output_type": "stream",
     "text": [
      "0.09201526641845703\n",
      "0.08449816703796387\n",
      "0.08944320678710938\n"
     ]
    },
    {
     "name": "stderr",
     "output_type": "stream",
     "text": [
      "\n",
      " 98%|███████████████████████████████████████▏| 980/1000 [01:27<00:01, 11.23it/s]\u001b[A\n",
      " 98%|███████████████████████████████████████▎| 982/1000 [01:27<00:01, 11.31it/s]\u001b[A"
     ]
    },
    {
     "name": "stdout",
     "output_type": "stream",
     "text": [
      "0.08807635307312012\n",
      "0.08834266662597656\n",
      "0.08438467979431152\n"
     ]
    },
    {
     "name": "stderr",
     "output_type": "stream",
     "text": [
      "\n",
      " 98%|███████████████████████████████████████▎| 984/1000 [01:27<00:01, 11.31it/s]\u001b[A"
     ]
    },
    {
     "name": "stdout",
     "output_type": "stream",
     "text": [
      "0.09129714965820312\n",
      "0.08445978164672852\n",
      "0.0887911319732666\n"
     ]
    },
    {
     "name": "stderr",
     "output_type": "stream",
     "text": [
      "\n",
      " 99%|███████████████████████████████████████▍| 986/1000 [01:27<00:01, 11.30it/s]\u001b[A\n",
      " 99%|███████████████████████████████████████▌| 988/1000 [01:27<00:01, 11.35it/s]\u001b[A"
     ]
    },
    {
     "name": "stdout",
     "output_type": "stream",
     "text": [
      "0.08752822875976562\n",
      "0.08882737159729004\n",
      "0.08441638946533203\n"
     ]
    },
    {
     "name": "stderr",
     "output_type": "stream",
     "text": [
      "\n",
      " 99%|███████████████████████████████████████▌| 990/1000 [01:28<00:00, 11.33it/s]\u001b[A"
     ]
    },
    {
     "name": "stdout",
     "output_type": "stream",
     "text": [
      "0.09160017967224121\n",
      "0.08462691307067871\n",
      "0.09064030647277832\n"
     ]
    },
    {
     "name": "stderr",
     "output_type": "stream",
     "text": [
      "\n",
      " 99%|███████████████████████████████████████▋| 992/1000 [01:28<00:00, 11.26it/s]\u001b[A\n",
      " 99%|███████████████████████████████████████▊| 994/1000 [01:28<00:00, 11.33it/s]\u001b[A"
     ]
    },
    {
     "name": "stdout",
     "output_type": "stream",
     "text": [
      "0.08855724334716797\n",
      "0.08818221092224121\n",
      "0.08408617973327637\n"
     ]
    },
    {
     "name": "stderr",
     "output_type": "stream",
     "text": [
      "\n",
      "100%|███████████████████████████████████████▊| 996/1000 [01:28<00:00, 11.34it/s]\u001b[A"
     ]
    },
    {
     "name": "stdout",
     "output_type": "stream",
     "text": [
      "0.09108829498291016\n",
      "0.08408594131469727\n",
      "0.08971428871154785\n"
     ]
    },
    {
     "name": "stderr",
     "output_type": "stream",
     "text": [
      "\n",
      "100%|███████████████████████████████████████▉| 998/1000 [01:28<00:00, 11.30it/s]\u001b[A\n",
      "100%|███████████████████████████████████████| 1000/1000 [01:29<00:00, 11.23it/s]\u001b[A\n",
      "100%|█████████████████████████████████████████████| 5/5 [07:25<00:00, 89.03s/it]"
     ]
    },
    {
     "name": "stdout",
     "output_type": "stream",
     "text": [
      "0.0873117446899414\n",
      "0.08666586875915527\n",
      "0.08425593376159668\n",
      "One run completed\n"
     ]
    },
    {
     "name": "stderr",
     "output_type": "stream",
     "text": [
      "\n"
     ]
    }
   ],
   "source": [
    "if __name__ =='__main__':\n",
    "    T,runs,lr,batch_size,state,nS,nA,rep_cost,alpha,gamma = get_hyperparameters().ret_hyperparameters();\n",
    "    print(nS,nA);\n",
    "    nPOL = nS;\n",
    "    T_update = int(T/batch_size);\n",
    "    mr_obj = Machine_Replacement(rep_cost,nS,nA);\n",
    "    P,R = mr_obj.gen_probability(),mr_obj.gen_expected_reward()\n",
    "    theta = np.ones(nPOL);\n",
    "    behaviour_policy = np.ones((nS,nA))*0.5;\n",
    "    print(behaviour_policy,P);\n",
    "    behaviour_policy_state_distribution = beh_pol_sd(P,behaviour_policy,nS,nA).state_distribution_simulated(0);\n",
    "    data = simulate_episode(T,state,behaviour_policy,P,batch_size);\n",
    "    with open('data_used','wb') as f:\n",
    "      pickle.dump(data,f);\n",
    "    target_policy = np.ones((nPOL,nS),dtype = np.int8)\n",
    "    data_dict={0:[],1:[],2:[],3:[],4:[]};\n",
    "    val2 = []\n",
    "    for i in range(nPOL-1,0,-1):\n",
    "        target_policy[nPOL-i-1][0:i] = 0;\n",
    "    for t in target_policy:\n",
    "        val2.append(sum([R[t[s],s] for s in range(nS)]))\n",
    "    val2 = np.array(val2);\n",
    "    one_hot_target_policy = one_hot(target_policy,nS,nA)\n",
    "    w_obj = average_case_version_2(nS,nA,behaviour_policy,state,lr,one_hot_target_policy,batch_size,data_dict);\n",
    "    '''for i in range(nPOL):\n",
    "      w_obj[i].set_target_policy(one_hot_target_policy[i]);'''\n",
    "    policy_selected = np.zeros((T_update,runs))\n",
    "    policy_sampled = np.zeros((T_update,runs))\n",
    "    theta_change = []\n",
    "    estimated_value = np.zeros((T_update,runs))\n",
    "    loss = np.zeros((T_update,runs))\n",
    "    val = 50;\n",
    "    lr = 1;\n",
    "    beta = 1;\n",
    "    #######################################################################################\n",
    "    '''mp.set_start_method('spawn')\n",
    "    p1 = mp.Process(target = processing ,args=(nPOL,0,policy_sampled,policy_selected,loss,estimated_value,T_update,P,R,val))\n",
    "    p2 = mp.Process(target = processing ,args=(nPOL,1,policy_sampled,policy_selected,loss,estimated_value,T_update,P,R,val))\n",
    "    p3 = mp.Process(target = processing ,args=(nPOL,2,policy_sampled,policy_selected,loss,estimated_value,T_update,P,R,val))\n",
    "    p4 = mp.Process(target = processing ,args=(nPOL,3,policy_sampled,policy_selected,loss,estimated_value,T_update,P,R,val))\n",
    "    p5 = mp.Process(target = processing ,args=(nPOL,4,policy_sampled,policy_selected,loss,estimated_value,T_update,P,R,val))\n",
    "    #p1 = mp.Process(target = processing ,args=(0,policy_sampled,policy_selected,loss,estimated_value,T_update,val))\n",
    "    #p1 = mp.Process(target = processing ,args=(0,policy_sampled,policy_selected,loss,estimated_value,T_update,val))\n",
    "    #p1 = mp.Process(target = processing ,args=(0,policy_sampled,policy_selected,loss,estimated_value,T_update,val))\n",
    "    #p1 = mp.Process(target = processing ,args=(0,policy_sampled,policy_selected,loss,estimated_value,T_update,val))\n",
    "    #p1 = mp.Process(target = processing ,args=(0,policy_sampled,policy_selected,loss,estimated_value,T_update,val))\n",
    "    p1.start();\n",
    "    p2.start();\n",
    "    p3.start();\n",
    "    p4.start();\n",
    "    p5.start();\n",
    "    p1.join();\n",
    "    p2.join();\n",
    "    p3.join();\n",
    "    p4.join();\n",
    "    p5.join();'''\n",
    "    #######################################################################################\n",
    "    for run in tqdm(range(runs)):\n",
    "        processing(nPOL,run,policy_sampled,policy_selected,loss,estimated_value,T_update,P,R,val,val2,behaviour_policy_state_distribution,beta,batch_size,alpha,data)\n",
    "        print(\"One run completed\");\n",
    "    #######################################################################################\n",
    "    #pd.DataFrame(policy_selected).to_excel(\"Policy_selection.xlsx\");\n",
    "    #pd.DataFrame(np.array(theta_change)).to_excel(\"Theta_values_non_estimate.xlsx\");\n",
    "    pd.DataFrame(policy_sampled).to_excel(\"Policy_sampling_Thompson_Sampling_variant_2_faster_20_states.xlsx\");\n",
    "    pd.DataFrame(data[T_update-1]).to_excel(\"Data_Used_Thompson_Sampling_variant_2_faster_20_states.xlsx\");\n",
    "    pd.DataFrame(estimated_value).to_excel(\"Estimated_Value_functions_Thompson_Sampling_variant_2_faster_20_states.xlsx\");"
   ]
  },
  {
   "cell_type": "code",
   "execution_count": 11,
   "id": "a137b7ba",
   "metadata": {},
   "outputs": [
    {
     "name": "stdout",
     "output_type": "stream",
     "text": [
      "Requirement already satisfied: openpyxl in ./anaconda3/lib/python3.9/site-packages (3.0.9)\n",
      "Requirement already satisfied: et-xmlfile in ./anaconda3/lib/python3.9/site-packages (from openpyxl) (1.1.0)\n",
      "\u001b[33mWARNING: You are using pip version 22.0.4; however, version 22.3.1 is available.\n",
      "You should consider upgrading via the '/home/user/anaconda3/bin/python -m pip install --upgrade pip' command.\u001b[0m\u001b[33m\n",
      "\u001b[0m"
     ]
    }
   ],
   "source": [
    "!pip3 install openpyxl"
   ]
  },
  {
   "cell_type": "code",
   "execution_count": 12,
   "id": "459d1ea1",
   "metadata": {},
   "outputs": [],
   "source": [
    "state_dist=[]\n",
    "for s in range(nS):\n",
    "    c=w_obj.weight_obj(s).detach().cpu().numpy()[0]\n",
    "    state_dist.append(c)\n",
    "c=np.array(state_dist)*behaviour_policy_state_distribution"
   ]
  },
  {
   "cell_type": "code",
   "execution_count": 13,
   "id": "50e7b588",
   "metadata": {},
   "outputs": [
    {
     "data": {
      "text/plain": [
       "array([0.1268914 , 0.08320571, 0.03411042, 0.07892305, 0.05194814,\n",
       "       0.0881963 , 0.07594639, 0.04205984, 0.0234209 , 0.08995604,\n",
       "       0.04027965, 0.00737262, 0.02757429, 0.00662271, 0.03818064,\n",
       "       0.01880933, 0.03677142, 0.04979782, 0.03148092, 0.0484524 ])"
      ]
     },
     "execution_count": 13,
     "metadata": {},
     "output_type": "execute_result"
    }
   ],
   "source": [
    "c/np.sum(c)"
   ]
  },
  {
   "cell_type": "code",
   "execution_count": null,
   "id": "e4390085",
   "metadata": {},
   "outputs": [],
   "source": [
    "pd.DataFrame(data[T_update-1]).to_excel(\"Data_Used_Thompson_Sampling_variant_2.xlsx\");\n",
    "pd.DataFrame(estimated_value).to_excel(\"Estimated_Value_functions_Thompson_Sampling_variant_2.xlsx\");"
   ]
  },
  {
   "cell_type": "code",
   "execution_count": null,
   "id": "820fba8b",
   "metadata": {},
   "outputs": [],
   "source": [
    "len(data[T_update-1])"
   ]
  },
  {
   "cell_type": "code",
   "execution_count": 347,
   "id": "900f83e5",
   "metadata": {},
   "outputs": [],
   "source": [
    "a = np.ones(10)\n",
    "a[1] = 3\n",
    "a[4] = 5\n",
    "a\n",
    "b = np.reshape(a,(5,2))"
   ]
  },
  {
   "cell_type": "code",
   "execution_count": 348,
   "id": "edfdbdd0",
   "metadata": {},
   "outputs": [
    {
     "data": {
      "text/plain": [
       "array([1., 3., 1., 1., 5., 1., 1., 1., 1., 1.])"
      ]
     },
     "execution_count": 348,
     "metadata": {},
     "output_type": "execute_result"
    }
   ],
   "source": [
    "a"
   ]
  },
  {
   "cell_type": "code",
   "execution_count": 349,
   "id": "569fd726",
   "metadata": {},
   "outputs": [
    {
     "data": {
      "text/plain": [
       "array([[1., 3.],\n",
       "       [1., 1.],\n",
       "       [5., 1.],\n",
       "       [1., 1.],\n",
       "       [1., 1.]])"
      ]
     },
     "execution_count": 349,
     "metadata": {},
     "output_type": "execute_result"
    }
   ],
   "source": [
    "b"
   ]
  },
  {
   "cell_type": "code",
   "execution_count": null,
   "id": "a7685460",
   "metadata": {},
   "outputs": [],
   "source": []
  }
 ],
 "metadata": {
  "kernelspec": {
   "display_name": "Python 3 (ipykernel)",
   "language": "python",
   "name": "python3"
  },
  "language_info": {
   "codemirror_mode": {
    "name": "ipython",
    "version": 3
   },
   "file_extension": ".py",
   "mimetype": "text/x-python",
   "name": "python",
   "nbconvert_exporter": "python",
   "pygments_lexer": "ipython3",
   "version": "3.9.7"
  }
 },
 "nbformat": 4,
 "nbformat_minor": 5
}
