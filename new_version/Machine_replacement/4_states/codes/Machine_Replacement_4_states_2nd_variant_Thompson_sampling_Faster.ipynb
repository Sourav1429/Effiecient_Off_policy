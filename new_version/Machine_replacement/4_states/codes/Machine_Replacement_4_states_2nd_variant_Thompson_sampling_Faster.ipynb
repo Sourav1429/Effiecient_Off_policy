{
 "cells": [
  {
   "cell_type": "markdown",
   "id": "a461fd3d",
   "metadata": {},
   "source": [
    "We begin by importing all the necssary packages and modules. Next our task is to build the Machine_Replacement environment. For doing that, we create a class named as Machine_Replacement which accepts the number_of_states(nS), number_of_actions(nA) and replacement_cost(rep_cost) as input and generate the environment. Later we just need to cal the function gen_probability() and gen_expected_reward_function() to get the Probability distribution matrix and Reward matrix"
   ]
  },
  {
   "cell_type": "code",
   "execution_count": 13,
   "id": "18b12dd6",
   "metadata": {},
   "outputs": [],
   "source": [
    "import torch\n",
    "import torch.nn as nn\n",
    "import torch.optim as optim\n",
    "import torch.nn.functional as F\n",
    "import numpy as np\n",
    "import numpy as np\n",
    "import pandas as pd\n",
    "import pickle\n",
    "from itertools import product\n",
    "import multiprocessing as mp\n",
    "mp.set_start_method('spawn',True)\n",
    "torch.multiprocessing.set_start_method('spawn',True)\n",
    "from tqdm import tqdm\n",
    "\n",
    "device = torch.device(\"cuda\" if torch.cuda.is_available() else \"cpu\")\n",
    "class Machine_Replacement:\n",
    "    def __init__(self,rep_cost=0.7,nS=6,nA=2):\n",
    "        self.nS = nS;\n",
    "        self.nA = nA;\n",
    "        self.cost = np.linspace(0.1, 0.99,nS);\n",
    "        self.rep_cost = rep_cost;\n",
    "    def gen_probability(self):\n",
    "        self.P = np.zeros((self.nA,self.nS,self.nS));\n",
    "        for i in range(self.nS):\n",
    "            for j in range(self.nS):\n",
    "                if(i<=j):\n",
    "                    self.P[0,i,j]=(i+1)*(j+1);\n",
    "                else:\n",
    "                    continue;\n",
    "            self.P[0,i,:]=self.P[0,i,:]/np.sum(self.P[0,i,:])\n",
    "            self.P[1,i,0]=1;\n",
    "        return self.P;\n",
    "    def gen_reward(self):\n",
    "        self.R=np.zeros((self.nA,self.nS,self.nS));\n",
    "        for i in range(self.nS):\n",
    "            self.R[0,i,:] = self.cost[i];\n",
    "            self.R[1,i,0] = self.rep_cost+self.cost[0];\n",
    "        return self.R;\n",
    "    def gen_expected_reward(self):\n",
    "        self.R = np.zeros((self.nA,self.nS));\n",
    "        for i in range(self.nS):\n",
    "            self.R[0,i] = self.cost[i];\n",
    "            self.R[1,i] = self.rep_cost + self.cost[0];\n",
    "        return self.R;"
   ]
  },
  {
   "cell_type": "markdown",
   "id": "5b424ede",
   "metadata": {},
   "source": [
    "Next we create another class specifying the hyperparameters that might be required in our algorithm. Later when required we can just call ret_hyperparameters() to get the hyperparameters."
   ]
  },
  {
   "cell_type": "code",
   "execution_count": 14,
   "id": "a9483d06",
   "metadata": {},
   "outputs": [],
   "source": [
    "class get_hyperparameters:\n",
    "    def __init__(self):\n",
    "        self.T = 50000;\n",
    "        self.runs = 5;\n",
    "        self.lr = 0.1;\n",
    "        self.batch_size = 50;\n",
    "        self.start = 0;\n",
    "        self.nS = 4;\n",
    "        self.nA = 2;\n",
    "        self.rep_cost = 0.7\n",
    "        self.alpha = 0.5\n",
    "        self.gamma = 0.95\n",
    "    \n",
    "    def ret_hyperparameters(self):\n",
    "        return (self.T,self.runs,self.lr,self.batch_size,self.start,self.nS,self.nA,self.rep_cost,self.alpha,self.gamma)"
   ]
  },
  {
   "cell_type": "markdown",
   "id": "d25f8964",
   "metadata": {},
   "source": [
    "Let us now define the pytorch model. So for doing that, we create a class named weights. There are 3 parameters, input_size which defines the number of perceptrons in the input layer. input_size = number of states(nS). The output size is the number of perceptrons in the output_layer. output_size = 1(which gives us the state distribution ratio for a particular state).\n",
    "\n",
    "Later when we want to update or find the state distribution ratio of any state, just pass that state to the forward(). First that particular state is converted into one_hot vector and then fed to the network. Finally the network returns the output value as the ratio of state distribution."
   ]
  },
  {
   "cell_type": "code",
   "execution_count": 15,
   "id": "437250f6",
   "metadata": {},
   "outputs": [],
   "source": [
    "class weights(nn.Module):\n",
    "    def __init__(self,input_size,output_size,hidden_size = 0):\n",
    "        super(weights,self).__init__()\n",
    "        self.input_size = input_size;\n",
    "        self.hidden_size = hidden_size;\n",
    "        self.output_size = output_size;\n",
    "        if(hidden_size!=0):\n",
    "            self.linear1 = nn.Linear(self.input_size, self.hidden_size, bias=False)\n",
    "            self.linear2 = nn.Linear(self.hidden_size, self.output_size, bias=False)\n",
    "        else:\n",
    "            self.linear1 = nn.Linear(self.input_size, self.output_size, bias=False)\n",
    "    '''\n",
    "        forward(): We accept a state 's' as input. Then we convert this into one hot encoding which is accomplished by first two lines.\n",
    "        Further we convert this one_hot vector 's' into pytorch tensor and then pass it through the network to obtain a output which is returned \n",
    "    '''\n",
    "    def forward(self,state):\n",
    "        s = np.zeros(self.input_size);\n",
    "        #print(state,end='===>');\n",
    "        s[state] = 1;\n",
    "        state = torch.FloatTensor(s).to(device)\n",
    "        #print(state);\n",
    "        if(self.hidden_size == 0):\n",
    "            output = torch.exp(self.linear1(state)) #To ensure that the outputs are always positive. giving Relu will cause problems.\n",
    "        else:\n",
    "            output = torch.exp(self.linear2(torch.exp(self.linear1(state))));\n",
    "        return output\n",
    "    \n",
    "    def forward_batch(self,states):\n",
    "        s = np.zeros((len(states),self.input_size));\n",
    "        #print(state,end='===>');\n",
    "        for i in range(len(states)):\n",
    "            s[i][states[i]] = 1\n",
    "        states = torch.FloatTensor(s).to(device)\n",
    "        #print(state);\n",
    "        if(self.hidden_size == 0):\n",
    "            output = torch.exp(self.linear1(states)) #To ensure that the outputs are always positive. giving Relu will cause problems.\n",
    "        else:\n",
    "            output = torch.exp(self.linear2(torch.exp(self.linear1(state))));\n",
    "        return output\n",
    "    \n",
    "    def fast_forward(self,s1,ns1,s2,ns2):\n",
    "        return self.forward(s1),self.forward(ns1),self.forward(s2),self.forward(ns2);"
   ]
  },
  {
   "cell_type": "markdown",
   "id": "0990760e",
   "metadata": {},
   "source": [
    "Now it is evident that the network written above will give me the ratio of state distribution. But the requirement is state distribution of the target_policy. So for doing that we need to to follow the below equation\n",
    "\n",
    "state_distribution_of_target_policy = Normalize(state_distribution_ratio_obtained_from_network * behaviour_policy_state_distribution).\n",
    "\n",
    "Now to get the target_policy_state_distribution, we need to obtain the behaviour_policy_state_distribution. To find that we use the class below. Now using the "
   ]
  },
  {
   "cell_type": "code",
   "execution_count": 16,
   "id": "682ebf42",
   "metadata": {},
   "outputs": [],
   "source": [
    "class beh_pol_sd:\n",
    "    def __init__(self,P,policy,nS,nA):\n",
    "        self.P = P\n",
    "        self.policy = policy\n",
    "        self.nS = nS;\n",
    "        self.nA = nA;\n",
    "    \n",
    "    def onehot(self):\n",
    "        pol = np.zeros((self.nS,self.nA));\n",
    "        for i in range(self.nS):\n",
    "            pol[i][int(self.policy[i])]=1;\n",
    "        return pol;\n",
    "    def find_transition_matrix(self,onehot_encode=1):\n",
    "        if(onehot_encode==1):\n",
    "            self.policy = self.onehot()\n",
    "        T_s_s_next = np.zeros((self.nS,self.nS));\n",
    "        for s in range(self.nS):\n",
    "            for s_next in range(self.nS):\n",
    "                for a in range(self.nA):\n",
    "                    #print(s,s_next,a);\n",
    "                    #print(T[a,s,s_next]);\n",
    "                    T_s_s_next[s,s_next]+=self.P[a,s,s_next]*self.policy[s,a];\n",
    "        return T_s_s_next;\n",
    "    def state_distribution_simulated(self,onehot_encode=1):\n",
    "        P_policy = self.find_transition_matrix(onehot_encode)\n",
    "        #print(P_policy);\n",
    "        P_dash = np.append(P_policy - np.eye(self.nS),np.ones((self.nS,1)),axis=1);\n",
    "        #print(P_dash);\n",
    "        P_last = np.linalg.pinv(np.transpose(P_dash))[:,-1]\n",
    "        return P_last;"
   ]
  },
  {
   "cell_type": "code",
   "execution_count": 17,
   "id": "557d10c3",
   "metadata": {},
   "outputs": [],
   "source": [
    "def one_hot(target_policy,nS,nA):\n",
    "    one_hot_tp = [];\n",
    "    for i in range(len(target_policy)):\n",
    "        policy = target_policy[i];\n",
    "        print(policy);\n",
    "        tp=np.zeros((nS,nA));\n",
    "        for j in range(nS):\n",
    "            tp[j][policy[j]] = 1;\n",
    "        one_hot_tp.append(tp);\n",
    "    return np.array(one_hot_tp);"
   ]
  },
  {
   "cell_type": "markdown",
   "id": "30ed6867",
   "metadata": {},
   "source": [
    "Now that we are all ready got our ingedients, let us define a separate class where we will define the average_case technique to find the state_distribution_ratio. Any object of the average_case class must possess the environment details such as number of states(nS) and number of actions(nA). The behaviour_policy, learning_rate,list_of_beta_values, a weight_object to refer to the weights class. The batch_size and the optimizer to be used(Adam_optimzer). \n",
    "\n",
    "Since in this variant, we will be having only 1 Neural Network and update the network for the sample that is obtained from the theta values. For this reason, we need to store all the beta values. Hence, we define our first function\n",
    "1) find_beta(): This function finds all the beta(importance sampling) values. So beta values = target_policy[s,a]/behaviour_policy[s,a]. Now there are nPOL policies so for each policies we need to find the beta values for the ith target_policy, beta value will be beta[i,s,a]=target_policy[i,s,a]/behaviour_policy[s,a]. Now it is certain that a(action) can be {0,1} only. So instead of creating a new loop, we manually define two lines once for a=0 when beta value becomes beta[i,s,0]=target_policy[i,s,0]/behaviour_policy[s,0] and beta[i,s,1] = target_policy[i,s,1]/behaviour_policy[s,1]. Finally return all the beta values.\n",
    "\n",
    "2) set_batch(): This function is used to set a data batch which is sampled from the behaviour_policy. Now the batch is set to be used for updating the state_distribution_ratio.\n",
    "\n",
    "3) get_batch(): This function is used to get a random batch of 50 samples from the set data to be used to update our state_distribution_ratio. We actually create a batch of 50 data samples 10000 times in order to reach to a good value of state_distribution_ratio(Like in Linear regression we use a batch for several times until our gradient converges)\n",
    "\n",
    "4) get_w(): This function is used to find the numerator and denominator of the loss function as mentioned in the paper 'Breaking the curse of horizon'. Now for finding the numerator paarameter pair = 0. To find the denominator pair = 1. Now it is observed that the denominator value easily goes to 0. So, to avoid divide by zero error, we add a small noise value of 0.000000001. This makes sure that the denominator value never goes to zero.\n",
    "\n",
    "5) get_state_distribution_ratio(): This function uses the set data in the self.set_data() to get batches of size 50. Then calculate the loss using the equation mentioned in the paper 'Breaking the curse of horizon'. We use this calculated loss to update our weights of the Neural network by using Adam optimizer."
   ]
  },
  {
   "cell_type": "code",
   "execution_count": 18,
   "id": "8f27bcf0",
   "metadata": {},
   "outputs": [],
   "source": [
    "import numpy as np\n",
    "class average_case_version_2:\n",
    "  def __init__(self,nS,nA,behaviour_policy,state,lr,target_policy,batch_size,data_used):\n",
    "    self.nS = nS;\n",
    "    self.nPOL = nS\n",
    "    self.nA = nA;\n",
    "    self.behaviour_policy = behaviour_policy;\n",
    "    self.lr = lr;\n",
    "    self.beta = self.find_beta(target_policy,behaviour_policy)\n",
    "    self.W_loss = 0\n",
    "    self.weight_obj = weights(nS,1).to(device);\n",
    "    self.batch_size = batch_size\n",
    "    self.optimizerW = optim.Adam(self.weight_obj.parameters(),lr = self.lr);\n",
    "    self.loss = [];\n",
    "    self.Z = [];\n",
    "    self.data_used = data_used\n",
    "  def find_beta(self,target_policy,behaviour_policy):\n",
    "    beta = np.zeros((self.nPOL,self.nS,self.nA))\n",
    "    for i in range(self.nPOL):\n",
    "      for s in range(self.nS):\n",
    "        beta[i][s][0] = target_policy[i,s,0]/behaviour_policy[s,0];\n",
    "        beta[i,s,1] = target_policy[i,s,1]/behaviour_policy[s,1];\n",
    "    return beta;\n",
    "  def set_batch(self,data):\n",
    "        self.data = data;\n",
    "        self.T = len(data);\n",
    "  def get_batch(self):\n",
    "      if(self.T<=50):\n",
    "          return self.data\n",
    "      else:\n",
    "          i = 1;\n",
    "          j = np.random.randint(0,self.T,self.batch_size);\n",
    "          batch = [[self.data[k][0],self.data[k][1],self.data[k][2]] for k in j]\n",
    "          '''while(i<=self.batch_size):\n",
    "                if(np.random.random()<=0.5):\n",
    "                    batch.append([self.data[j][0],self.data[j][1],self.data[j][2]])\n",
    "                    j = (j+1)%self.T;\n",
    "                i+=1;'''\n",
    "          return batch; \n",
    "  def get_w(self,data,weight_obj,m,pair=0):\n",
    "        if(pair == 1):\n",
    "            Z_w_state = 0;\n",
    "            for i in range(len(data)):\n",
    "                val = weight_obj(data[i][0]);\n",
    "                #print(val);\n",
    "                Z_w_state+=val;\n",
    "            #print(Z_w_state.detach().numpy()[0]/self.batch_size);\n",
    "            Z_w_state = Z_w_state.cpu().detach().numpy()[0]/self.batch_size;\n",
    "            if(Z_w_state<0.00000000000005):\n",
    "                Z_w_state+=0.000000000001;\n",
    "            return Z_w_state;\n",
    "        else:\n",
    "            state1,state2,w_state1,w_state2,w_next_state1,w_next_state2,beta1,beta2 = list(),list(),list(),list(),list(),list(),list(),list();\n",
    "            K = list();\n",
    "            for i in range(len(data)):\n",
    "#                 print(data[i][0],data[i][1])\n",
    "#                 print(np.shape(data))\n",
    "                sample1 = data[i][0];\n",
    "                sample2 = data[i][1];\n",
    "                state1.append(sample1[0]);\n",
    "                #print(sample1);\n",
    "                w1,wn1,w2,wn2 = weight_obj.fast_forward(sample1[0],sample1[2],sample2[0],sample2[2]);\n",
    "                w_state1.append(w1);\n",
    "                w_next_state1.append(wn1);\n",
    "                state2.append(sample2[0]);\n",
    "                w_state2.append(w2);\n",
    "                w_next_state2.append(wn2);\n",
    "                #beta1.append(self.target_policy[sample1[0],sample1[1]]/self.behaviour_policy[sample1[0],sample1[1]]);\n",
    "                beta1.append(self.beta[self.selected_policy,sample1[0],sample1[1]]);\n",
    "                #beta2.append(self.target_policy[sample2[0],sample2[1]]/self.behaviour_policy[sample2[0],sample2[1]]);\n",
    "                beta2.append(self.beta[self.selected_policy,sample2[0],sample2[1]])\n",
    "                K.append(sample1[2]==sample2[2]);\n",
    "            return (state1,state2,w_state1,w_state2,w_next_state1,w_next_state2,beta1,beta2,K);\n",
    "        \n",
    "  def get_w_updated(self,data,weight_obj,m,Z_w_state,pair=0): #data should be batch. note all inputs to be passed \n",
    "        if(pair == 1):\n",
    "            Z_w_state = 0;\n",
    "            for i in range(len(data)):\n",
    "                val = weight_obj(data[i][0]);\n",
    "                #print(val);\n",
    "                Z_w_state+=val;\n",
    "            #print(Z_w_state.detach().numpy()[0]/self.batch_size);\n",
    "            Z_w_state = Z_w_state.cpu().detach().numpy()[0]/self.batch_size;\n",
    "            if(Z_w_state<0.00000000000005):\n",
    "                Z_w_state+=0.000000000001;\n",
    "            return Z_w_state;\n",
    "        else:\n",
    "            data = torch.tensor(data)\n",
    "#             print(data[:,0])\n",
    "#             print(data[:,2])\n",
    "#             print(data[:,0].size())\n",
    "            new_data_current = torch.reshape(data[:,0],(50,1))\n",
    "#             w_current_state = weight_obj.forward_batch(new_data_current)\n",
    "            \n",
    "            new_data_next = torch.reshape(data[:,2],(50,1))\n",
    "            new_data = torch.cat((new_data_current,new_data_next),0)\n",
    "            w = weight_obj.forward_batch(new_data)\n",
    "            w = w/Z_w_state\n",
    "#             print(w)\n",
    "#             print(new_data.size())\n",
    "#             print(w.size())\n",
    "            w = torch.reshape(w,(2,50))\n",
    "            beta = torch.zeros(50,1)\n",
    "            for i in range(len(data)):\n",
    "                beta[i] = self.beta[self.selected_policy,data[i][0],data[i][1]]\n",
    "            \n",
    "            K = torch.zeros(50,50)\n",
    "            for i in range(len(data)):\n",
    "                for j in range(len(data)):\n",
    "                    K[i][j] = (data[i][2] == data[j][2])\n",
    "#             print(\"here\")\n",
    "#             print(w.size())\n",
    "#             print(beta.size())\n",
    "#             print(K.size())\n",
    "            w_0 = torch.reshape(w[0], (50,1))\n",
    "            w_1 = torch.reshape(w[1], (50,1))\n",
    "#             print(w_0)\n",
    "#             print(beta)\n",
    "#             print(w_1)\n",
    "#             print(w_0 * beta - w_1)\n",
    "#check here only\n",
    "            delta = w_0 * beta - w_1\n",
    "            temp1 = torch.matmul(K,delta) #50,50:50,1 = 50, 1\n",
    "            final_sum = torch.matmul(torch.transpose(delta,0,1),temp1)\n",
    "#             print(w_0)\n",
    "#             print(w_1)\n",
    "#             print(Z_w_state)\n",
    "#             print(final_sum)\n",
    "#             print(\".........\")\n",
    "            return final_sum\n",
    "            \n",
    "            \n",
    "            \n",
    "            \n",
    "#             state1,state2,w_state1,w_state2,w_next_state1,w_next_state2,beta1,beta2 = list(),list(),list(),list(),list(),list(),list(),list();\n",
    "#             K = list();\n",
    "#             for i in range(len(data)):\n",
    "#                 sample1 = data[i][0];\n",
    "#                 sample2 = data[i][1];\n",
    "#                 state1.append(sample1[0]);\n",
    "#                 #print(sample1);\n",
    "#                 w1,wn1,w2,wn2 = weight_obj.fast_forward(sample1[0],sample1[2],sample2[0],sample2[2]);\n",
    "#                 w_state1.append(w1);\n",
    "#                 w_next_state1.append(wn1);\n",
    "#                 state2.append(sample2[0]);\n",
    "#                 w_state2.append(w2);\n",
    "#                 w_next_state2.append(wn2);\n",
    "#                 #beta1.append(self.target_policy[sample1[0],sample1[1]]/self.behaviour_policy[sample1[0],sample1[1]]);\n",
    "#                 beta1.append(self.beta[self.selected_policy,sample1[0],sample1[1]]);\n",
    "#                 #beta2.append(self.target_policy[sample2[0],sample2[1]]/self.behaviour_policy[sample2[0],sample2[1]]);\n",
    "#                 beta2.append(self.beta[self.selected_policy,sample2[0],sample2[1]])\n",
    "#                 K.append(sample1[2]==sample2[2]);\n",
    "#             return (state1,state2,w_state1,w_state2,w_next_state1,w_next_state2,beta1,beta2,K);\n",
    "\n",
    "    \n",
    "  def get_state_distribution_ratio(self,selected_policy,run,t):\n",
    "        batch = self.get_batch();\n",
    "        eps = 0.04;\n",
    "        self.data_used[run] =self.data_used[run]+batch;\n",
    "        self.selected_policy = selected_policy\n",
    "        pairs = list(product(batch,repeat=2));\n",
    "        self.loss_episode = [];\n",
    "#         print(np.shape(batch))\n",
    "        for _ in range(5):\n",
    "#             batch = self.get_batch();\n",
    "            start = time.time()\n",
    "            Z_w_state = self.get_w(batch, self.weight_obj, len(batch),1);\n",
    "#             state1,state2,w_state1,w_state2,w_next_state1,w_next_state2,beta1,beta2,K = self.get_w(pairs, self.weight_obj, len(batch));\n",
    "            self.w_loss = 0\n",
    "            self.w_loss = self.get_w_updated(batch,self.weight_obj,len(batch),Z_w_state)\n",
    "#             print(time.time() - start)\n",
    "#             print(\"*******\")\n",
    "#             for i in range(len(state1)):\n",
    "#                 self.w_loss+=(beta1[i]*(w_state1[i]/Z_w_state) - (w_next_state1[i]/Z_w_state))*(beta2[i]*(w_state2[i]/Z_w_state)-(w_next_state2[i]/Z_w_state))*K[i];\n",
    "#             print(\"sourav\")\n",
    "#             print(self.w_loss)\n",
    "            self.w_loss/=(2*self.batch_size);\n",
    "            start = time.time()\n",
    "            self.optimizerW.zero_grad();\n",
    "            self.w_loss.backward(); #Improving the forward pass computation\n",
    "            self.optimizerW.step();\n",
    "            self.optimizerW.zero_grad();\n",
    "#             print(time.time() - start)\n",
    "            self.Z.append(Z_w_state)\n",
    "            \n",
    "        self.loss.append(self.w_loss.cpu().detach().numpy()[0]);\n",
    "        state_dist=[];\n",
    "        for i in range(self.nS):\n",
    "            w_state = self.weight_obj(i);\n",
    "            w_state = w_state.cpu().detach().numpy()[0];\n",
    "            state_dist.append(w_state);\n",
    "        return np.array(state_dist);"
   ]
  },
  {
   "cell_type": "markdown",
   "id": "bf1d3752",
   "metadata": {},
   "source": [
    "Instead of sampling state, action, next_state values on the go, we do it before hand and store it in a list named 'data'. So, that when required we can simply pass this data and save some time by before hand sampling the data."
   ]
  },
  {
   "cell_type": "code",
   "execution_count": 19,
   "id": "89a6fd97",
   "metadata": {},
   "outputs": [],
   "source": [
    "def simulate_episode(T,state,behaviour_policy,P,batch_size):\n",
    "  #global P,behaviour_policy,batch_size;\n",
    "  data={};temp=[];\n",
    "  for t in range(1,T+1):\n",
    "    action = np.argmax(np.random.multinomial(1,behaviour_policy[state,:]))\n",
    "    next_state = np.argmax(np.random.multinomial(1,P[action,state,:]));\n",
    "    state = next_state;\n",
    "    temp.append([state,action,next_state]);\n",
    "    if(t%batch_size==0):\n",
    "      data[int(t/batch_size)-1]=temp[:];\n",
    "  return data;"
   ]
  },
  {
   "cell_type": "markdown",
   "id": "21dc8069",
   "metadata": {},
   "source": [
    "For our help we create a softmax function."
   ]
  },
  {
   "cell_type": "code",
   "execution_count": 20,
   "id": "8fbc674b",
   "metadata": {},
   "outputs": [],
   "source": [
    "def softmax(theta):\n",
    "  theta = np.exp(theta);\n",
    "  sum = np.sum(theta)\n",
    "  return theta/sum;"
   ]
  },
  {
   "cell_type": "markdown",
   "id": "a3e8ea85",
   "metadata": {},
   "source": [
    "We create a function naemd as preprocessing() which is responsible to perform the theta update. After every val=50 times, our learning rate is divided by 10. So if we start with lr = 1. After 50 instances, lr = 0.1. After 100 steps lr = 0.01 and so on...\n",
    "Now at each instant, we found the softmax of the theta values. Now from the given probability values we sample a policy that will be updated next. "
   ]
  },
  {
   "cell_type": "code",
   "execution_count": 21,
   "id": "92ca25a3",
   "metadata": {},
   "outputs": [],
   "source": [
    "import time\n",
    "def processing(nPOL,run,policy_sampled,policy_selected,loss,estimated_value,T_update,P,R,val,val2,behaviour_policy_state_distribution,beta,batch_size,alpha,data):\n",
    "    lr = 1\n",
    "    nS = nPOL;\n",
    "    theta = np.ones(nPOL);\n",
    "    c=0;\n",
    "    rew = np.zeros(nPOL);\n",
    "    S = np.ones(nPOL);\n",
    "    F = np.ones(nPOL);\n",
    "    n = np.ones(nPOL);\n",
    "    for t in tqdm(range(1,T_update+1)):\n",
    "      sampled_policy = np.argmin([np.random.beta(S[j],F[j]) for j in range(nPOL)])\n",
    "      #policy_selected[t,run]=selected_policy;\n",
    "      if sampled_policy ==1:\n",
    "          policy_sampled[t-1,run] = 10000;\n",
    "      else:\n",
    "          policy_sampled[t-1,run] = sampled_policy;\n",
    "      #loss[t,run] = w_obj.w_loss.cpu().detach().numpy()[0];\n",
    "\n",
    "      start = time.time()\n",
    "      w_obj.set_batch(data[t-1]);\n",
    "      sd = w_obj.get_state_distribution_ratio(sampled_policy,run,t-1);\n",
    "      print(time.time() - start)\n",
    "      sd = sd * behaviour_policy_state_distribution;\n",
    "      sd = sd/np.sum(sd)\n",
    "      rho_i = sum([sd[s]*R[target_policy[sampled_policy,s],s] for s in range(nS)]);\n",
    "      rew[sampled_policy] = (1-alpha)*rew[sampled_policy] + alpha*rho_i\n",
    "      S[sampled_policy]+=rew[sampled_policy];\n",
    "      F[sampled_policy]=F[sampled_policy]+t-rew[sampled_policy]\n",
    "      estimated_value[t-1,run] = rho_i;\n",
    "    #print(data)"
   ]
  },
  {
   "cell_type": "markdown",
   "id": "601d62d1",
   "metadata": {},
   "source": [
    "Finally call the hyperparameters, create the environment and call the pre-processing function."
   ]
  },
  {
   "cell_type": "code",
   "execution_count": 22,
   "id": "8afaddbc",
   "metadata": {
    "scrolled": false
   },
   "outputs": [
    {
     "name": "stdout",
     "output_type": "stream",
     "text": [
      "4 2\n",
      "[[0.5 0.5]\n",
      " [0.5 0.5]\n",
      " [0.5 0.5]\n",
      " [0.5 0.5]] [[[0.1        0.2        0.3        0.4       ]\n",
      "  [0.         0.22222222 0.33333333 0.44444444]\n",
      "  [0.         0.         0.42857143 0.57142857]\n",
      "  [0.         0.         0.         1.        ]]\n",
      "\n",
      " [[1.         0.         0.         0.        ]\n",
      "  [1.         0.         0.         0.        ]\n",
      "  [1.         0.         0.         0.        ]\n",
      "  [1.         0.         0.         0.        ]]]\n",
      "[0 0 0 1]\n",
      "[0 0 1 1]\n",
      "[0 1 1 1]\n",
      "[1 1 1 1]\n"
     ]
    },
    {
     "name": "stderr",
     "output_type": "stream",
     "text": [
      "  0%|                                                     | 0/5 [00:00<?, ?it/s]\n",
      "  0%|                                                  | 0/1000 [00:00<?, ?it/s]\u001b[A\n",
      "  0%|                                          | 2/1000 [00:00<01:25, 11.70it/s]\u001b[A"
     ]
    },
    {
     "name": "stdout",
     "output_type": "stream",
     "text": [
      "0.08807682991027832\n",
      "0.08251571655273438\n",
      "0.08775830268859863\n"
     ]
    },
    {
     "name": "stderr",
     "output_type": "stream",
     "text": [
      "\n",
      "  0%|▏                                         | 4/1000 [00:00<01:25, 11.60it/s]\u001b[A"
     ]
    },
    {
     "name": "stdout",
     "output_type": "stream",
     "text": [
      "0.08452963829040527\n",
      "0.0852971076965332\n"
     ]
    },
    {
     "name": "stderr",
     "output_type": "stream",
     "text": [
      "\n",
      "  1%|▎                                         | 6/1000 [00:00<01:25, 11.64it/s]\u001b[A"
     ]
    },
    {
     "name": "stdout",
     "output_type": "stream",
     "text": [
      "0.08460354804992676\n"
     ]
    },
    {
     "name": "stderr",
     "output_type": "stream",
     "text": [
      "\n",
      "  1%|▎                                         | 8/1000 [00:00<01:24, 11.69it/s]\u001b[A"
     ]
    },
    {
     "name": "stdout",
     "output_type": "stream",
     "text": [
      "0.08739829063415527\n",
      "0.08152604103088379\n",
      "0.09089064598083496\n"
     ]
    },
    {
     "name": "stderr",
     "output_type": "stream",
     "text": [
      "\n",
      "  1%|▍                                        | 10/1000 [00:00<01:26, 11.47it/s]\u001b[A"
     ]
    },
    {
     "name": "stdout",
     "output_type": "stream",
     "text": [
      "0.0883479118347168\n",
      "0.08573031425476074\n"
     ]
    },
    {
     "name": "stderr",
     "output_type": "stream",
     "text": [
      "\n",
      "  1%|▍                                        | 12/1000 [00:01<01:25, 11.50it/s]\u001b[A"
     ]
    },
    {
     "name": "stdout",
     "output_type": "stream",
     "text": [
      "0.08626294136047363\n"
     ]
    },
    {
     "name": "stderr",
     "output_type": "stream",
     "text": [
      "\n",
      "  1%|▌                                        | 14/1000 [00:01<01:24, 11.62it/s]\u001b[A"
     ]
    },
    {
     "name": "stdout",
     "output_type": "stream",
     "text": [
      "0.08582425117492676\n",
      "0.08139562606811523\n",
      "0.08717060089111328\n"
     ]
    },
    {
     "name": "stderr",
     "output_type": "stream",
     "text": [
      "\n",
      "  2%|▋                                        | 16/1000 [00:01<01:24, 11.65it/s]\u001b[A"
     ]
    },
    {
     "name": "stdout",
     "output_type": "stream",
     "text": [
      "0.08253312110900879\n",
      "0.08235335350036621\n"
     ]
    },
    {
     "name": "stderr",
     "output_type": "stream",
     "text": [
      "\n",
      "  2%|▋                                        | 18/1000 [00:01<01:23, 11.74it/s]\u001b[A"
     ]
    },
    {
     "name": "stdout",
     "output_type": "stream",
     "text": [
      "0.08419322967529297\n"
     ]
    },
    {
     "name": "stderr",
     "output_type": "stream",
     "text": [
      "\n",
      "  2%|▊                                        | 20/1000 [00:01<01:22, 11.81it/s]\u001b[A"
     ]
    },
    {
     "name": "stdout",
     "output_type": "stream",
     "text": [
      "0.08475017547607422\n",
      "0.08132004737854004\n",
      "0.08490204811096191\n"
     ]
    },
    {
     "name": "stderr",
     "output_type": "stream",
     "text": [
      "\n",
      "  2%|▉                                        | 22/1000 [00:01<01:22, 11.83it/s]\u001b[A"
     ]
    },
    {
     "name": "stdout",
     "output_type": "stream",
     "text": [
      "0.08274173736572266\n",
      "0.08339166641235352\n"
     ]
    },
    {
     "name": "stderr",
     "output_type": "stream",
     "text": [
      "\n",
      "  2%|▉                                        | 24/1000 [00:02<01:22, 11.87it/s]\u001b[A"
     ]
    },
    {
     "name": "stdout",
     "output_type": "stream",
     "text": [
      "0.08255267143249512\n"
     ]
    },
    {
     "name": "stderr",
     "output_type": "stream",
     "text": [
      "\n",
      "  3%|█                                        | 26/1000 [00:02<01:21, 11.88it/s]\u001b[A"
     ]
    },
    {
     "name": "stdout",
     "output_type": "stream",
     "text": [
      "0.08456110954284668\n",
      "0.08204102516174316\n",
      "0.0847008228302002\n"
     ]
    },
    {
     "name": "stderr",
     "output_type": "stream",
     "text": [
      "\n",
      "  3%|█▏                                       | 28/1000 [00:02<01:21, 11.88it/s]\u001b[A"
     ]
    },
    {
     "name": "stdout",
     "output_type": "stream",
     "text": [
      "0.08287739753723145\n",
      "0.08426237106323242\n"
     ]
    },
    {
     "name": "stderr",
     "output_type": "stream",
     "text": [
      "\n",
      "  3%|█▏                                       | 30/1000 [00:02<01:21, 11.89it/s]\u001b[A"
     ]
    },
    {
     "name": "stdout",
     "output_type": "stream",
     "text": [
      "0.08275651931762695\n"
     ]
    },
    {
     "name": "stderr",
     "output_type": "stream",
     "text": [
      "\n",
      "  3%|█▎                                       | 32/1000 [00:02<01:21, 11.91it/s]\u001b[A"
     ]
    },
    {
     "name": "stdout",
     "output_type": "stream",
     "text": [
      "0.08460187911987305\n",
      "0.08158159255981445\n",
      "0.0853729248046875\n"
     ]
    },
    {
     "name": "stderr",
     "output_type": "stream",
     "text": [
      "\n",
      "  3%|█▍                                       | 34/1000 [00:02<01:21, 11.89it/s]\u001b[A"
     ]
    },
    {
     "name": "stdout",
     "output_type": "stream",
     "text": [
      "0.0824270248413086\n",
      "0.0835123062133789\n"
     ]
    },
    {
     "name": "stderr",
     "output_type": "stream",
     "text": [
      "\n",
      "  4%|█▍                                       | 36/1000 [00:03<01:20, 11.90it/s]\u001b[A"
     ]
    },
    {
     "name": "stdout",
     "output_type": "stream",
     "text": [
      "0.0829613208770752\n"
     ]
    },
    {
     "name": "stderr",
     "output_type": "stream",
     "text": [
      "\n",
      "  4%|█▌                                       | 38/1000 [00:03<01:21, 11.83it/s]\u001b[A"
     ]
    },
    {
     "name": "stdout",
     "output_type": "stream",
     "text": [
      "0.08883190155029297\n",
      "0.08150768280029297\n",
      "0.08483552932739258\n"
     ]
    },
    {
     "name": "stderr",
     "output_type": "stream",
     "text": [
      "\n",
      "  4%|█▋                                       | 40/1000 [00:03<01:21, 11.85it/s]\u001b[A"
     ]
    },
    {
     "name": "stdout",
     "output_type": "stream",
     "text": [
      "0.08269286155700684\n",
      "0.08323049545288086\n"
     ]
    },
    {
     "name": "stderr",
     "output_type": "stream",
     "text": [
      "\n",
      "  4%|█▋                                       | 42/1000 [00:03<01:20, 11.88it/s]\u001b[A"
     ]
    },
    {
     "name": "stdout",
     "output_type": "stream",
     "text": [
      "0.08315396308898926\n"
     ]
    },
    {
     "name": "stderr",
     "output_type": "stream",
     "text": [
      "\n",
      "  4%|█▊                                       | 44/1000 [00:03<01:20, 11.91it/s]\u001b[A"
     ]
    },
    {
     "name": "stdout",
     "output_type": "stream",
     "text": [
      "0.0844876766204834\n",
      "0.0814671516418457\n",
      "0.08398079872131348\n"
     ]
    },
    {
     "name": "stderr",
     "output_type": "stream",
     "text": [
      "\n",
      "  5%|█▉                                       | 46/1000 [00:03<01:20, 11.91it/s]\u001b[A"
     ]
    },
    {
     "name": "stdout",
     "output_type": "stream",
     "text": [
      "0.08283138275146484\n",
      "0.08339405059814453\n"
     ]
    },
    {
     "name": "stderr",
     "output_type": "stream",
     "text": [
      "\n",
      "  5%|█▉                                       | 48/1000 [00:04<01:19, 11.93it/s]\u001b[A"
     ]
    },
    {
     "name": "stdout",
     "output_type": "stream",
     "text": [
      "0.08249878883361816\n"
     ]
    },
    {
     "name": "stderr",
     "output_type": "stream",
     "text": [
      "\n",
      "  5%|██                                       | 50/1000 [00:04<01:19, 11.94it/s]\u001b[A"
     ]
    },
    {
     "name": "stdout",
     "output_type": "stream",
     "text": [
      "0.08468222618103027\n",
      "0.08156776428222656\n",
      "0.08427238464355469\n"
     ]
    },
    {
     "name": "stderr",
     "output_type": "stream",
     "text": [
      "\n",
      "  5%|██▏                                      | 52/1000 [00:04<01:19, 11.91it/s]\u001b[A"
     ]
    },
    {
     "name": "stdout",
     "output_type": "stream",
     "text": [
      "0.08353638648986816\n",
      "0.0850672721862793\n"
     ]
    },
    {
     "name": "stderr",
     "output_type": "stream",
     "text": [
      "\n",
      "  5%|██▏                                      | 54/1000 [00:04<01:19, 11.89it/s]\u001b[A"
     ]
    },
    {
     "name": "stdout",
     "output_type": "stream",
     "text": [
      "0.08287787437438965\n"
     ]
    },
    {
     "name": "stderr",
     "output_type": "stream",
     "text": [
      "\n",
      "  6%|██▎                                      | 56/1000 [00:04<01:19, 11.90it/s]\u001b[A"
     ]
    },
    {
     "name": "stdout",
     "output_type": "stream",
     "text": [
      "0.08492708206176758\n",
      "0.0815122127532959\n",
      "0.08531427383422852\n"
     ]
    },
    {
     "name": "stderr",
     "output_type": "stream",
     "text": [
      "\n",
      "  6%|██▍                                      | 58/1000 [00:04<01:19, 11.88it/s]\u001b[A"
     ]
    },
    {
     "name": "stdout",
     "output_type": "stream",
     "text": [
      "0.0829763412475586\n",
      "0.08312392234802246\n"
     ]
    },
    {
     "name": "stderr",
     "output_type": "stream",
     "text": [
      "\n",
      "  6%|██▍                                      | 60/1000 [00:05<01:18, 11.90it/s]\u001b[A"
     ]
    },
    {
     "name": "stdout",
     "output_type": "stream",
     "text": [
      "0.08295559883117676\n"
     ]
    },
    {
     "name": "stderr",
     "output_type": "stream",
     "text": [
      "\n",
      "  6%|██▌                                      | 62/1000 [00:05<01:18, 11.89it/s]\u001b[A"
     ]
    },
    {
     "name": "stdout",
     "output_type": "stream",
     "text": [
      "0.08601999282836914\n",
      "0.08172607421875\n",
      "0.08446907997131348\n"
     ]
    },
    {
     "name": "stderr",
     "output_type": "stream",
     "text": [
      "\n",
      "  6%|██▌                                      | 64/1000 [00:05<01:18, 11.89it/s]\u001b[A"
     ]
    },
    {
     "name": "stdout",
     "output_type": "stream",
     "text": [
      "0.08259081840515137\n",
      "0.08365249633789062\n"
     ]
    },
    {
     "name": "stderr",
     "output_type": "stream",
     "text": [
      "\n",
      "  7%|██▋                                      | 66/1000 [00:05<01:18, 11.90it/s]\u001b[A"
     ]
    },
    {
     "name": "stdout",
     "output_type": "stream",
     "text": [
      "0.0832524299621582\n"
     ]
    },
    {
     "name": "stderr",
     "output_type": "stream",
     "text": [
      "\n",
      "  7%|██▊                                      | 68/1000 [00:05<01:18, 11.91it/s]\u001b[A"
     ]
    },
    {
     "name": "stdout",
     "output_type": "stream",
     "text": [
      "0.0847616195678711\n",
      "0.08193731307983398\n",
      "0.08477592468261719\n"
     ]
    },
    {
     "name": "stderr",
     "output_type": "stream",
     "text": [
      "\n",
      "  7%|██▊                                      | 70/1000 [00:05<01:18, 11.88it/s]\u001b[A"
     ]
    },
    {
     "name": "stdout",
     "output_type": "stream",
     "text": [
      "0.083251953125\n",
      "0.0836482048034668\n"
     ]
    },
    {
     "name": "stderr",
     "output_type": "stream",
     "text": [
      "\n",
      "  7%|██▉                                      | 72/1000 [00:06<01:18, 11.89it/s]\u001b[A"
     ]
    },
    {
     "name": "stdout",
     "output_type": "stream",
     "text": [
      "0.08324790000915527\n"
     ]
    },
    {
     "name": "stderr",
     "output_type": "stream",
     "text": [
      "\n",
      "  7%|███                                      | 74/1000 [00:06<01:17, 11.90it/s]\u001b[A"
     ]
    },
    {
     "name": "stdout",
     "output_type": "stream",
     "text": [
      "0.08489537239074707\n",
      "0.08171939849853516\n",
      "0.08539175987243652\n"
     ]
    },
    {
     "name": "stderr",
     "output_type": "stream",
     "text": [
      "\n",
      "  8%|███                                      | 76/1000 [00:06<01:17, 11.86it/s]\u001b[A"
     ]
    },
    {
     "name": "stdout",
     "output_type": "stream",
     "text": [
      "0.08342099189758301\n",
      "0.08321332931518555\n"
     ]
    },
    {
     "name": "stderr",
     "output_type": "stream",
     "text": [
      "\n",
      "  8%|███▏                                     | 78/1000 [00:06<01:17, 11.88it/s]\u001b[A"
     ]
    },
    {
     "name": "stdout",
     "output_type": "stream",
     "text": [
      "0.08361935615539551\n"
     ]
    },
    {
     "name": "stderr",
     "output_type": "stream",
     "text": [
      "\n",
      "  8%|███▎                                     | 80/1000 [00:06<01:17, 11.89it/s]\u001b[A"
     ]
    },
    {
     "name": "stdout",
     "output_type": "stream",
     "text": [
      "0.08489561080932617\n",
      "0.08199906349182129\n",
      "0.08549308776855469\n"
     ]
    },
    {
     "name": "stderr",
     "output_type": "stream",
     "text": [
      "\n",
      "  8%|███▎                                     | 82/1000 [00:06<01:17, 11.87it/s]\u001b[A"
     ]
    },
    {
     "name": "stdout",
     "output_type": "stream",
     "text": [
      "0.08266925811767578\n",
      "0.08323073387145996\n"
     ]
    },
    {
     "name": "stderr",
     "output_type": "stream",
     "text": [
      "\n",
      "  8%|███▍                                     | 84/1000 [00:07<01:16, 11.90it/s]\u001b[A"
     ]
    },
    {
     "name": "stdout",
     "output_type": "stream",
     "text": [
      "0.0828559398651123\n"
     ]
    },
    {
     "name": "stderr",
     "output_type": "stream",
     "text": [
      "\n",
      "  9%|███▌                                     | 86/1000 [00:07<01:16, 11.90it/s]\u001b[A"
     ]
    },
    {
     "name": "stdout",
     "output_type": "stream",
     "text": [
      "0.08553314208984375\n",
      "0.08144760131835938\n",
      "0.08446526527404785\n"
     ]
    },
    {
     "name": "stderr",
     "output_type": "stream",
     "text": [
      "\n",
      "  9%|███▌                                     | 88/1000 [00:07<01:16, 11.91it/s]\u001b[A"
     ]
    },
    {
     "name": "stdout",
     "output_type": "stream",
     "text": [
      "0.08257818222045898\n",
      "0.08343005180358887\n"
     ]
    },
    {
     "name": "stderr",
     "output_type": "stream",
     "text": [
      "\n",
      "  9%|███▋                                     | 90/1000 [00:07<01:16, 11.90it/s]\u001b[A"
     ]
    },
    {
     "name": "stdout",
     "output_type": "stream",
     "text": [
      "0.0840158462524414\n"
     ]
    },
    {
     "name": "stderr",
     "output_type": "stream",
     "text": [
      "\n",
      "  9%|███▊                                     | 92/1000 [00:07<01:16, 11.92it/s]\u001b[A"
     ]
    },
    {
     "name": "stdout",
     "output_type": "stream",
     "text": [
      "0.08413243293762207\n",
      "0.08167433738708496\n",
      "0.08446383476257324\n"
     ]
    },
    {
     "name": "stderr",
     "output_type": "stream",
     "text": [
      "\n",
      "  9%|███▊                                     | 94/1000 [00:07<01:16, 11.92it/s]\u001b[A"
     ]
    },
    {
     "name": "stdout",
     "output_type": "stream",
     "text": [
      "0.08257770538330078\n",
      "0.08351707458496094\n"
     ]
    },
    {
     "name": "stderr",
     "output_type": "stream",
     "text": [
      "\n",
      " 10%|███▉                                     | 96/1000 [00:08<01:15, 11.92it/s]\u001b[A"
     ]
    },
    {
     "name": "stdout",
     "output_type": "stream",
     "text": [
      "0.08300447463989258\n"
     ]
    },
    {
     "name": "stderr",
     "output_type": "stream",
     "text": [
      "\n",
      " 10%|████                                     | 98/1000 [00:08<01:15, 11.93it/s]\u001b[A"
     ]
    },
    {
     "name": "stdout",
     "output_type": "stream",
     "text": [
      "0.08482885360717773\n",
      "0.0815279483795166\n",
      "0.08462762832641602\n"
     ]
    },
    {
     "name": "stderr",
     "output_type": "stream",
     "text": [
      "\n",
      " 10%|████                                    | 100/1000 [00:08<01:15, 11.92it/s]\u001b[A"
     ]
    },
    {
     "name": "stdout",
     "output_type": "stream",
     "text": [
      "0.08259701728820801\n",
      "0.0831298828125\n"
     ]
    },
    {
     "name": "stderr",
     "output_type": "stream",
     "text": [
      "\n",
      " 10%|████                                    | 102/1000 [00:08<01:15, 11.92it/s]\u001b[A"
     ]
    },
    {
     "name": "stdout",
     "output_type": "stream",
     "text": [
      "0.08402228355407715\n"
     ]
    },
    {
     "name": "stderr",
     "output_type": "stream",
     "text": [
      "\n",
      " 10%|████▏                                   | 104/1000 [00:08<01:15, 11.92it/s]\u001b[A"
     ]
    },
    {
     "name": "stdout",
     "output_type": "stream",
     "text": [
      "0.08504366874694824\n",
      "0.08173561096191406\n",
      "0.08519482612609863\n"
     ]
    },
    {
     "name": "stderr",
     "output_type": "stream",
     "text": [
      "\n",
      " 11%|████▏                                   | 106/1000 [00:08<01:15, 11.90it/s]\u001b[A"
     ]
    },
    {
     "name": "stdout",
     "output_type": "stream",
     "text": [
      "0.08249068260192871\n",
      "0.08403897285461426\n"
     ]
    },
    {
     "name": "stderr",
     "output_type": "stream",
     "text": [
      "\n",
      " 11%|████▎                                   | 108/1000 [00:09<01:14, 11.90it/s]\u001b[A"
     ]
    },
    {
     "name": "stdout",
     "output_type": "stream",
     "text": [
      "0.08274221420288086\n"
     ]
    },
    {
     "name": "stderr",
     "output_type": "stream",
     "text": [
      "\n",
      " 11%|████▍                                   | 110/1000 [00:09<01:14, 11.90it/s]\u001b[A"
     ]
    },
    {
     "name": "stdout",
     "output_type": "stream",
     "text": [
      "0.08571290969848633\n",
      "0.08146452903747559\n",
      "0.08433890342712402\n"
     ]
    },
    {
     "name": "stderr",
     "output_type": "stream",
     "text": [
      "\n",
      " 11%|████▍                                   | 112/1000 [00:09<01:14, 11.86it/s]\u001b[A"
     ]
    },
    {
     "name": "stdout",
     "output_type": "stream",
     "text": [
      "0.08447074890136719\n",
      "0.08334159851074219\n"
     ]
    },
    {
     "name": "stderr",
     "output_type": "stream",
     "text": [
      "\n",
      " 11%|████▌                                   | 114/1000 [00:09<01:14, 11.87it/s]\u001b[A"
     ]
    },
    {
     "name": "stdout",
     "output_type": "stream",
     "text": [
      "0.08356952667236328\n"
     ]
    },
    {
     "name": "stderr",
     "output_type": "stream",
     "text": [
      "\n",
      " 12%|████▋                                   | 116/1000 [00:09<01:14, 11.89it/s]\u001b[A"
     ]
    },
    {
     "name": "stdout",
     "output_type": "stream",
     "text": [
      "0.08496928215026855\n",
      "0.08167743682861328\n",
      "0.08413934707641602\n"
     ]
    },
    {
     "name": "stderr",
     "output_type": "stream",
     "text": [
      "\n",
      " 12%|████▋                                   | 118/1000 [00:09<01:14, 11.86it/s]\u001b[A"
     ]
    },
    {
     "name": "stdout",
     "output_type": "stream",
     "text": [
      "0.08455324172973633\n",
      "0.08290362358093262\n"
     ]
    },
    {
     "name": "stderr",
     "output_type": "stream",
     "text": [
      "\n",
      " 12%|████▊                                   | 120/1000 [00:10<01:14, 11.89it/s]\u001b[A"
     ]
    },
    {
     "name": "stdout",
     "output_type": "stream",
     "text": [
      "0.08343839645385742\n"
     ]
    },
    {
     "name": "stderr",
     "output_type": "stream",
     "text": [
      "\n",
      " 12%|████▉                                   | 122/1000 [00:10<01:13, 11.91it/s]\u001b[A"
     ]
    },
    {
     "name": "stdout",
     "output_type": "stream",
     "text": [
      "0.0844583511352539\n",
      "0.08179831504821777\n",
      "0.08573174476623535\n"
     ]
    },
    {
     "name": "stderr",
     "output_type": "stream",
     "text": [
      "\n",
      " 12%|████▉                                   | 124/1000 [00:10<01:13, 11.87it/s]\u001b[A"
     ]
    },
    {
     "name": "stdout",
     "output_type": "stream",
     "text": [
      "0.08306717872619629\n",
      "0.08322787284851074\n"
     ]
    },
    {
     "name": "stderr",
     "output_type": "stream",
     "text": [
      "\n",
      " 13%|█████                                   | 126/1000 [00:10<01:13, 11.89it/s]\u001b[A"
     ]
    },
    {
     "name": "stdout",
     "output_type": "stream",
     "text": [
      "0.08329939842224121\n"
     ]
    },
    {
     "name": "stderr",
     "output_type": "stream",
     "text": [
      "\n",
      " 13%|█████                                   | 128/1000 [00:10<01:13, 11.89it/s]\u001b[A"
     ]
    },
    {
     "name": "stdout",
     "output_type": "stream",
     "text": [
      "0.08519577980041504\n",
      "0.08163952827453613\n",
      "0.08498311042785645\n"
     ]
    },
    {
     "name": "stderr",
     "output_type": "stream",
     "text": [
      "\n",
      " 13%|█████▏                                  | 130/1000 [00:10<01:13, 11.88it/s]\u001b[A"
     ]
    },
    {
     "name": "stdout",
     "output_type": "stream",
     "text": [
      "0.08258605003356934\n",
      "0.0830991268157959\n"
     ]
    },
    {
     "name": "stderr",
     "output_type": "stream",
     "text": [
      "\n",
      " 13%|█████▎                                  | 132/1000 [00:11<01:13, 11.87it/s]\u001b[A"
     ]
    },
    {
     "name": "stdout",
     "output_type": "stream",
     "text": [
      "0.08457732200622559\n"
     ]
    },
    {
     "name": "stderr",
     "output_type": "stream",
     "text": [
      "\n",
      " 13%|█████▎                                  | 134/1000 [00:11<01:12, 11.92it/s]\u001b[A"
     ]
    },
    {
     "name": "stdout",
     "output_type": "stream",
     "text": [
      "0.08393573760986328\n",
      "0.08149838447570801\n",
      "0.08501148223876953\n"
     ]
    },
    {
     "name": "stderr",
     "output_type": "stream",
     "text": [
      "\n",
      " 14%|█████▍                                  | 136/1000 [00:11<01:12, 11.89it/s]\u001b[A"
     ]
    },
    {
     "name": "stdout",
     "output_type": "stream",
     "text": [
      "0.08318114280700684\n",
      "0.08366584777832031\n"
     ]
    },
    {
     "name": "stderr",
     "output_type": "stream",
     "text": [
      "\n",
      " 14%|█████▌                                  | 138/1000 [00:11<01:12, 11.89it/s]\u001b[A"
     ]
    },
    {
     "name": "stdout",
     "output_type": "stream",
     "text": [
      "0.08311629295349121\n"
     ]
    },
    {
     "name": "stderr",
     "output_type": "stream",
     "text": [
      "\n",
      " 14%|█████▌                                  | 140/1000 [00:11<01:12, 11.91it/s]\u001b[A"
     ]
    },
    {
     "name": "stdout",
     "output_type": "stream",
     "text": [
      "0.0845940113067627\n",
      "0.0819387435913086\n",
      "0.08487653732299805\n"
     ]
    },
    {
     "name": "stderr",
     "output_type": "stream",
     "text": [
      "\n",
      " 14%|█████▋                                  | 142/1000 [00:11<01:12, 11.89it/s]\u001b[A"
     ]
    },
    {
     "name": "stdout",
     "output_type": "stream",
     "text": [
      "0.08293700218200684\n",
      "0.08310937881469727\n"
     ]
    },
    {
     "name": "stderr",
     "output_type": "stream",
     "text": [
      "\n",
      " 14%|█████▊                                  | 144/1000 [00:12<01:11, 11.90it/s]\u001b[A"
     ]
    },
    {
     "name": "stdout",
     "output_type": "stream",
     "text": [
      "0.08340144157409668\n"
     ]
    },
    {
     "name": "stderr",
     "output_type": "stream",
     "text": [
      "\n",
      " 15%|█████▊                                  | 146/1000 [00:12<01:11, 11.90it/s]\u001b[A"
     ]
    },
    {
     "name": "stdout",
     "output_type": "stream",
     "text": [
      "0.08546185493469238\n",
      "0.0816183090209961\n",
      "0.08500814437866211\n"
     ]
    },
    {
     "name": "stderr",
     "output_type": "stream",
     "text": [
      "\n",
      " 15%|█████▉                                  | 148/1000 [00:12<01:11, 11.88it/s]\u001b[A"
     ]
    },
    {
     "name": "stdout",
     "output_type": "stream",
     "text": [
      "0.08301973342895508\n",
      "0.08354878425598145\n"
     ]
    },
    {
     "name": "stderr",
     "output_type": "stream",
     "text": [
      "\n",
      " 15%|██████                                  | 150/1000 [00:12<01:11, 11.90it/s]\u001b[A"
     ]
    },
    {
     "name": "stdout",
     "output_type": "stream",
     "text": [
      "0.08276152610778809\n"
     ]
    },
    {
     "name": "stderr",
     "output_type": "stream",
     "text": [
      "\n",
      " 15%|██████                                  | 152/1000 [00:12<01:11, 11.90it/s]\u001b[A"
     ]
    },
    {
     "name": "stdout",
     "output_type": "stream",
     "text": [
      "0.08531022071838379\n",
      "0.08172750473022461\n",
      "0.08709859848022461\n"
     ]
    },
    {
     "name": "stderr",
     "output_type": "stream",
     "text": [
      "\n",
      " 15%|██████▏                                 | 154/1000 [00:12<01:11, 11.83it/s]\u001b[A"
     ]
    },
    {
     "name": "stdout",
     "output_type": "stream",
     "text": [
      "0.08355259895324707\n",
      "0.08456087112426758\n"
     ]
    },
    {
     "name": "stderr",
     "output_type": "stream",
     "text": [
      "\n",
      " 16%|██████▏                                 | 156/1000 [00:13<01:11, 11.82it/s]\u001b[A"
     ]
    },
    {
     "name": "stdout",
     "output_type": "stream",
     "text": [
      "0.0841529369354248\n"
     ]
    },
    {
     "name": "stderr",
     "output_type": "stream",
     "text": [
      "\n",
      " 16%|██████▎                                 | 158/1000 [00:13<01:11, 11.80it/s]\u001b[A"
     ]
    },
    {
     "name": "stdout",
     "output_type": "stream",
     "text": [
      "0.08722233772277832\n",
      "0.08161115646362305\n",
      "0.08704710006713867\n"
     ]
    },
    {
     "name": "stderr",
     "output_type": "stream",
     "text": [
      "\n",
      " 16%|██████▍                                 | 160/1000 [00:13<01:11, 11.76it/s]\u001b[A"
     ]
    },
    {
     "name": "stdout",
     "output_type": "stream",
     "text": [
      "0.0834188461303711\n",
      "0.08457088470458984\n"
     ]
    },
    {
     "name": "stderr",
     "output_type": "stream",
     "text": [
      "\n",
      " 16%|██████▍                                 | 162/1000 [00:13<01:11, 11.78it/s]\u001b[A"
     ]
    },
    {
     "name": "stdout",
     "output_type": "stream",
     "text": [
      "0.08341050148010254\n"
     ]
    },
    {
     "name": "stderr",
     "output_type": "stream",
     "text": [
      "\n",
      " 16%|██████▌                                 | 164/1000 [00:13<01:11, 11.76it/s]\u001b[A"
     ]
    },
    {
     "name": "stdout",
     "output_type": "stream",
     "text": [
      "0.0872652530670166\n",
      "0.08247780799865723\n",
      "0.08691024780273438\n"
     ]
    },
    {
     "name": "stderr",
     "output_type": "stream",
     "text": [
      "\n",
      " 17%|██████▋                                 | 166/1000 [00:14<01:11, 11.74it/s]\u001b[A"
     ]
    },
    {
     "name": "stdout",
     "output_type": "stream",
     "text": [
      "0.08333849906921387\n",
      "0.08404850959777832\n"
     ]
    },
    {
     "name": "stderr",
     "output_type": "stream",
     "text": [
      "\n",
      " 17%|██████▋                                 | 168/1000 [00:14<01:10, 11.76it/s]\u001b[A"
     ]
    },
    {
     "name": "stdout",
     "output_type": "stream",
     "text": [
      "0.08409976959228516\n"
     ]
    },
    {
     "name": "stderr",
     "output_type": "stream",
     "text": [
      "\n",
      " 17%|██████▊                                 | 170/1000 [00:14<01:10, 11.75it/s]\u001b[A"
     ]
    },
    {
     "name": "stdout",
     "output_type": "stream",
     "text": [
      "0.08786845207214355\n",
      "0.0816965103149414\n",
      "0.08701252937316895\n"
     ]
    },
    {
     "name": "stderr",
     "output_type": "stream",
     "text": [
      "\n",
      " 17%|██████▉                                 | 172/1000 [00:14<01:10, 11.73it/s]\u001b[A"
     ]
    },
    {
     "name": "stdout",
     "output_type": "stream",
     "text": [
      "0.08338332176208496\n",
      "0.08553338050842285\n"
     ]
    },
    {
     "name": "stderr",
     "output_type": "stream",
     "text": [
      "\n",
      " 17%|██████▉                                 | 174/1000 [00:14<01:10, 11.73it/s]\u001b[A"
     ]
    },
    {
     "name": "stdout",
     "output_type": "stream",
     "text": [
      "0.08390212059020996\n"
     ]
    },
    {
     "name": "stderr",
     "output_type": "stream",
     "text": [
      "\n",
      " 18%|███████                                 | 176/1000 [00:14<01:10, 11.74it/s]\u001b[A"
     ]
    },
    {
     "name": "stdout",
     "output_type": "stream",
     "text": [
      "0.08762764930725098\n",
      "0.08168745040893555\n",
      "0.08722925186157227\n"
     ]
    },
    {
     "name": "stderr",
     "output_type": "stream",
     "text": [
      "\n",
      " 18%|███████                                 | 178/1000 [00:15<01:10, 11.71it/s]\u001b[A"
     ]
    },
    {
     "name": "stdout",
     "output_type": "stream",
     "text": [
      "0.0833585262298584\n",
      "0.08452963829040527\n"
     ]
    },
    {
     "name": "stderr",
     "output_type": "stream",
     "text": [
      "\n",
      " 18%|███████▏                                | 180/1000 [00:15<01:09, 11.72it/s]\u001b[A"
     ]
    },
    {
     "name": "stdout",
     "output_type": "stream",
     "text": [
      "0.0847024917602539\n"
     ]
    },
    {
     "name": "stderr",
     "output_type": "stream",
     "text": [
      "\n",
      " 18%|███████▎                                | 182/1000 [00:15<01:09, 11.74it/s]\u001b[A"
     ]
    },
    {
     "name": "stdout",
     "output_type": "stream",
     "text": [
      "0.08710289001464844\n",
      "0.08167004585266113\n",
      "0.08651924133300781\n"
     ]
    },
    {
     "name": "stderr",
     "output_type": "stream",
     "text": [
      "\n",
      " 18%|███████▎                                | 184/1000 [00:15<01:09, 11.72it/s]\u001b[A"
     ]
    },
    {
     "name": "stdout",
     "output_type": "stream",
     "text": [
      "0.08399772644042969\n",
      "0.08480620384216309\n"
     ]
    },
    {
     "name": "stderr",
     "output_type": "stream",
     "text": [
      "\n",
      " 19%|███████▍                                | 186/1000 [00:15<01:09, 11.72it/s]\u001b[A"
     ]
    },
    {
     "name": "stdout",
     "output_type": "stream",
     "text": [
      "0.08438491821289062\n"
     ]
    },
    {
     "name": "stderr",
     "output_type": "stream",
     "text": [
      "\n",
      " 19%|███████▌                                | 188/1000 [00:15<01:09, 11.73it/s]\u001b[A"
     ]
    },
    {
     "name": "stdout",
     "output_type": "stream",
     "text": [
      "0.08788704872131348\n",
      "0.08158612251281738\n",
      "0.08681917190551758\n"
     ]
    },
    {
     "name": "stderr",
     "output_type": "stream",
     "text": [
      "\n",
      " 19%|███████▌                                | 190/1000 [00:16<01:09, 11.71it/s]\u001b[A"
     ]
    },
    {
     "name": "stdout",
     "output_type": "stream",
     "text": [
      "0.08350610733032227\n",
      "0.08481717109680176\n"
     ]
    },
    {
     "name": "stderr",
     "output_type": "stream",
     "text": [
      "\n",
      " 19%|███████▋                                | 192/1000 [00:16<01:08, 11.74it/s]\u001b[A"
     ]
    },
    {
     "name": "stdout",
     "output_type": "stream",
     "text": [
      "0.0835273265838623\n"
     ]
    },
    {
     "name": "stderr",
     "output_type": "stream",
     "text": [
      "\n",
      " 19%|███████▊                                | 194/1000 [00:16<01:08, 11.79it/s]\u001b[A"
     ]
    },
    {
     "name": "stdout",
     "output_type": "stream",
     "text": [
      "0.08539676666259766\n",
      "0.08153748512268066\n",
      "0.08697390556335449\n"
     ]
    },
    {
     "name": "stderr",
     "output_type": "stream",
     "text": [
      "\n",
      " 20%|███████▊                                | 196/1000 [00:16<01:08, 11.75it/s]\u001b[A"
     ]
    },
    {
     "name": "stdout",
     "output_type": "stream",
     "text": [
      "0.08350992202758789\n",
      "0.08495378494262695\n"
     ]
    },
    {
     "name": "stderr",
     "output_type": "stream",
     "text": [
      "\n",
      " 20%|███████▉                                | 198/1000 [00:16<01:08, 11.77it/s]\u001b[A"
     ]
    },
    {
     "name": "stdout",
     "output_type": "stream",
     "text": [
      "0.08355975151062012\n"
     ]
    },
    {
     "name": "stderr",
     "output_type": "stream",
     "text": [
      "\n",
      " 20%|████████                                | 200/1000 [00:16<01:07, 11.77it/s]\u001b[A"
     ]
    },
    {
     "name": "stdout",
     "output_type": "stream",
     "text": [
      "0.08714652061462402\n",
      "0.08157849311828613\n",
      "0.086761474609375\n"
     ]
    },
    {
     "name": "stderr",
     "output_type": "stream",
     "text": [
      "\n",
      " 20%|████████                                | 202/1000 [00:17<01:07, 11.75it/s]\u001b[A"
     ]
    },
    {
     "name": "stdout",
     "output_type": "stream",
     "text": [
      "0.08324885368347168\n",
      "0.08399438858032227\n"
     ]
    },
    {
     "name": "stderr",
     "output_type": "stream",
     "text": [
      "\n",
      " 20%|████████▏                               | 204/1000 [00:17<01:07, 11.78it/s]\u001b[A"
     ]
    },
    {
     "name": "stdout",
     "output_type": "stream",
     "text": [
      "0.08341598510742188\n"
     ]
    },
    {
     "name": "stderr",
     "output_type": "stream",
     "text": [
      "\n",
      " 21%|████████▏                               | 206/1000 [00:17<01:07, 11.78it/s]\u001b[A"
     ]
    },
    {
     "name": "stdout",
     "output_type": "stream",
     "text": [
      "0.0872354507446289\n",
      "0.08163189888000488\n",
      "0.0874173641204834\n"
     ]
    },
    {
     "name": "stderr",
     "output_type": "stream",
     "text": [
      "\n",
      " 21%|████████▎                               | 208/1000 [00:17<01:07, 11.73it/s]\u001b[A"
     ]
    },
    {
     "name": "stdout",
     "output_type": "stream",
     "text": [
      "0.0837554931640625\n",
      "0.0847470760345459\n"
     ]
    },
    {
     "name": "stderr",
     "output_type": "stream",
     "text": [
      "\n",
      " 21%|████████▍                               | 210/1000 [00:17<01:07, 11.76it/s]\u001b[A"
     ]
    },
    {
     "name": "stdout",
     "output_type": "stream",
     "text": [
      "0.08349776268005371\n"
     ]
    },
    {
     "name": "stderr",
     "output_type": "stream",
     "text": [
      "\n",
      " 21%|████████▍                               | 212/1000 [00:17<01:06, 11.78it/s]\u001b[A"
     ]
    },
    {
     "name": "stdout",
     "output_type": "stream",
     "text": [
      "0.08661985397338867\n",
      "0.08174753189086914\n",
      "0.08853030204772949\n"
     ]
    },
    {
     "name": "stderr",
     "output_type": "stream",
     "text": [
      "\n",
      " 21%|████████▌                               | 214/1000 [00:18<01:07, 11.71it/s]\u001b[A"
     ]
    },
    {
     "name": "stdout",
     "output_type": "stream",
     "text": [
      "0.0835869312286377\n",
      "0.08532214164733887\n"
     ]
    },
    {
     "name": "stderr",
     "output_type": "stream",
     "text": [
      "\n",
      " 22%|████████▋                               | 216/1000 [00:18<01:06, 11.72it/s]\u001b[A"
     ]
    },
    {
     "name": "stdout",
     "output_type": "stream",
     "text": [
      "0.08367252349853516\n"
     ]
    },
    {
     "name": "stderr",
     "output_type": "stream",
     "text": [
      "\n",
      " 22%|████████▋                               | 218/1000 [00:18<01:06, 11.74it/s]\u001b[A"
     ]
    },
    {
     "name": "stdout",
     "output_type": "stream",
     "text": [
      "0.08700037002563477\n",
      "0.0817253589630127\n",
      "0.08672142028808594\n"
     ]
    },
    {
     "name": "stderr",
     "output_type": "stream",
     "text": [
      "\n",
      " 22%|████████▊                               | 220/1000 [00:18<01:06, 11.72it/s]\u001b[A"
     ]
    },
    {
     "name": "stdout",
     "output_type": "stream",
     "text": [
      "0.08354616165161133\n",
      "0.08377695083618164\n"
     ]
    },
    {
     "name": "stderr",
     "output_type": "stream",
     "text": [
      "\n",
      " 22%|████████▉                               | 222/1000 [00:18<01:06, 11.76it/s]\u001b[A"
     ]
    },
    {
     "name": "stdout",
     "output_type": "stream",
     "text": [
      "0.08363223075866699\n"
     ]
    },
    {
     "name": "stderr",
     "output_type": "stream",
     "text": [
      "\n",
      " 22%|████████▉                               | 224/1000 [00:18<01:06, 11.74it/s]\u001b[A"
     ]
    },
    {
     "name": "stdout",
     "output_type": "stream",
     "text": [
      "0.08780241012573242\n",
      "0.08216142654418945\n",
      "0.0869748592376709\n"
     ]
    },
    {
     "name": "stderr",
     "output_type": "stream",
     "text": [
      "\n",
      " 23%|█████████                               | 226/1000 [00:19<01:06, 11.71it/s]\u001b[A"
     ]
    },
    {
     "name": "stdout",
     "output_type": "stream",
     "text": [
      "0.08383679389953613\n",
      "0.08571267127990723\n"
     ]
    },
    {
     "name": "stderr",
     "output_type": "stream",
     "text": [
      "\n",
      " 23%|█████████                               | 228/1000 [00:19<01:05, 11.70it/s]\u001b[A"
     ]
    },
    {
     "name": "stdout",
     "output_type": "stream",
     "text": [
      "0.08445215225219727\n"
     ]
    },
    {
     "name": "stderr",
     "output_type": "stream",
     "text": [
      "\n",
      " 23%|█████████▏                              | 230/1000 [00:19<01:05, 11.67it/s]\u001b[A"
     ]
    },
    {
     "name": "stdout",
     "output_type": "stream",
     "text": [
      "0.08956050872802734\n",
      "0.08182430267333984\n",
      "0.08681464195251465\n"
     ]
    },
    {
     "name": "stderr",
     "output_type": "stream",
     "text": [
      "\n",
      " 23%|█████████▎                              | 232/1000 [00:19<01:05, 11.66it/s]\u001b[A"
     ]
    },
    {
     "name": "stdout",
     "output_type": "stream",
     "text": [
      "0.08384227752685547\n",
      "0.08547377586364746\n"
     ]
    },
    {
     "name": "stderr",
     "output_type": "stream",
     "text": [
      "\n",
      " 23%|█████████▎                              | 234/1000 [00:19<01:05, 11.69it/s]\u001b[A"
     ]
    },
    {
     "name": "stdout",
     "output_type": "stream",
     "text": [
      "0.08396410942077637\n"
     ]
    },
    {
     "name": "stderr",
     "output_type": "stream",
     "text": [
      "\n",
      " 24%|█████████▍                              | 236/1000 [00:19<01:05, 11.72it/s]\u001b[A"
     ]
    },
    {
     "name": "stdout",
     "output_type": "stream",
     "text": [
      "0.08679008483886719\n",
      "0.08188581466674805\n",
      "0.08914923667907715\n"
     ]
    },
    {
     "name": "stderr",
     "output_type": "stream",
     "text": [
      "\n",
      " 24%|█████████▌                              | 238/1000 [00:20<01:05, 11.63it/s]\u001b[A"
     ]
    },
    {
     "name": "stdout",
     "output_type": "stream",
     "text": [
      "0.08484125137329102\n",
      "0.08499836921691895\n"
     ]
    },
    {
     "name": "stderr",
     "output_type": "stream",
     "text": [
      "\n",
      " 24%|█████████▌                              | 240/1000 [00:20<01:05, 11.67it/s]\u001b[A"
     ]
    },
    {
     "name": "stdout",
     "output_type": "stream",
     "text": [
      "0.08369612693786621\n"
     ]
    },
    {
     "name": "stderr",
     "output_type": "stream",
     "text": [
      "\n",
      " 24%|█████████▋                              | 242/1000 [00:20<01:04, 11.69it/s]\u001b[A"
     ]
    },
    {
     "name": "stdout",
     "output_type": "stream",
     "text": [
      "0.08757972717285156\n",
      "0.08193516731262207\n",
      "0.08769798278808594\n"
     ]
    },
    {
     "name": "stderr",
     "output_type": "stream",
     "text": [
      "\n",
      " 24%|█████████▊                              | 244/1000 [00:20<01:04, 11.66it/s]\u001b[A"
     ]
    },
    {
     "name": "stdout",
     "output_type": "stream",
     "text": [
      "0.08372879028320312\n",
      "0.08482074737548828\n"
     ]
    },
    {
     "name": "stderr",
     "output_type": "stream",
     "text": [
      "\n",
      " 25%|█████████▊                              | 246/1000 [00:20<01:04, 11.70it/s]\u001b[A"
     ]
    },
    {
     "name": "stdout",
     "output_type": "stream",
     "text": [
      "0.08382678031921387\n"
     ]
    },
    {
     "name": "stderr",
     "output_type": "stream",
     "text": [
      "\n",
      " 25%|█████████▉                              | 248/1000 [00:20<01:04, 11.71it/s]\u001b[A"
     ]
    },
    {
     "name": "stdout",
     "output_type": "stream",
     "text": [
      "0.08722805976867676\n",
      "0.08199119567871094\n",
      "0.08722901344299316\n"
     ]
    },
    {
     "name": "stderr",
     "output_type": "stream",
     "text": [
      "\n",
      " 25%|██████████                              | 250/1000 [00:21<01:04, 11.68it/s]\u001b[A"
     ]
    },
    {
     "name": "stdout",
     "output_type": "stream",
     "text": [
      "0.08403420448303223\n",
      "0.08680272102355957\n"
     ]
    },
    {
     "name": "stderr",
     "output_type": "stream",
     "text": [
      "\n",
      " 25%|██████████                              | 252/1000 [00:21<01:04, 11.66it/s]\u001b[A"
     ]
    },
    {
     "name": "stdout",
     "output_type": "stream",
     "text": [
      "0.08442354202270508\n"
     ]
    },
    {
     "name": "stderr",
     "output_type": "stream",
     "text": [
      "\n",
      " 25%|██████████▏                             | 254/1000 [00:21<01:03, 11.70it/s]\u001b[A"
     ]
    },
    {
     "name": "stdout",
     "output_type": "stream",
     "text": [
      "0.08678770065307617\n",
      "0.08160114288330078\n",
      "0.08684730529785156\n"
     ]
    },
    {
     "name": "stderr",
     "output_type": "stream",
     "text": [
      "\n",
      " 26%|██████████▏                             | 256/1000 [00:21<01:03, 11.69it/s]\u001b[A"
     ]
    },
    {
     "name": "stdout",
     "output_type": "stream",
     "text": [
      "0.08386683464050293\n",
      "0.08518195152282715\n"
     ]
    },
    {
     "name": "stderr",
     "output_type": "stream",
     "text": [
      "\n",
      " 26%|██████████▎                             | 258/1000 [00:21<01:03, 11.71it/s]\u001b[A"
     ]
    },
    {
     "name": "stdout",
     "output_type": "stream",
     "text": [
      "0.08371663093566895\n"
     ]
    },
    {
     "name": "stderr",
     "output_type": "stream",
     "text": [
      "\n",
      " 26%|██████████▍                             | 260/1000 [00:22<01:02, 11.75it/s]\u001b[A"
     ]
    },
    {
     "name": "stdout",
     "output_type": "stream",
     "text": [
      "0.08597183227539062\n",
      "0.08184099197387695\n",
      "0.08742737770080566\n"
     ]
    },
    {
     "name": "stderr",
     "output_type": "stream",
     "text": [
      "\n",
      " 26%|██████████▍                             | 262/1000 [00:22<01:03, 11.70it/s]\u001b[A"
     ]
    },
    {
     "name": "stdout",
     "output_type": "stream",
     "text": [
      "0.08425378799438477\n",
      "0.08464288711547852\n"
     ]
    },
    {
     "name": "stderr",
     "output_type": "stream",
     "text": [
      "\n",
      " 26%|██████████▌                             | 264/1000 [00:22<01:02, 11.72it/s]\u001b[A"
     ]
    },
    {
     "name": "stdout",
     "output_type": "stream",
     "text": [
      "0.08398318290710449\n"
     ]
    },
    {
     "name": "stderr",
     "output_type": "stream",
     "text": [
      "\n",
      " 27%|██████████▋                             | 266/1000 [00:22<01:02, 11.75it/s]\u001b[A"
     ]
    },
    {
     "name": "stdout",
     "output_type": "stream",
     "text": [
      "0.0866856575012207\n",
      "0.08163595199584961\n",
      "0.08734869956970215\n"
     ]
    },
    {
     "name": "stderr",
     "output_type": "stream",
     "text": [
      "\n",
      " 27%|██████████▋                             | 268/1000 [00:22<01:02, 11.71it/s]\u001b[A"
     ]
    },
    {
     "name": "stdout",
     "output_type": "stream",
     "text": [
      "0.08417940139770508\n",
      "0.08595085144042969\n"
     ]
    },
    {
     "name": "stderr",
     "output_type": "stream",
     "text": [
      "\n",
      " 27%|██████████▊                             | 270/1000 [00:22<01:02, 11.70it/s]\u001b[A"
     ]
    },
    {
     "name": "stdout",
     "output_type": "stream",
     "text": [
      "0.08412289619445801\n"
     ]
    },
    {
     "name": "stderr",
     "output_type": "stream",
     "text": [
      "\n",
      " 27%|██████████▉                             | 272/1000 [00:23<01:02, 11.69it/s]\u001b[A"
     ]
    },
    {
     "name": "stdout",
     "output_type": "stream",
     "text": [
      "0.08864521980285645\n",
      "0.08174467086791992\n",
      "0.08575439453125\n"
     ]
    },
    {
     "name": "stderr",
     "output_type": "stream",
     "text": [
      "\n",
      " 27%|██████████▉                             | 274/1000 [00:23<01:01, 11.72it/s]\u001b[A"
     ]
    },
    {
     "name": "stdout",
     "output_type": "stream",
     "text": [
      "0.08331680297851562\n",
      "0.0846562385559082\n"
     ]
    },
    {
     "name": "stderr",
     "output_type": "stream",
     "text": [
      "\n",
      " 28%|███████████                             | 276/1000 [00:23<01:01, 11.76it/s]\u001b[A"
     ]
    },
    {
     "name": "stdout",
     "output_type": "stream",
     "text": [
      "0.08303713798522949\n"
     ]
    },
    {
     "name": "stderr",
     "output_type": "stream",
     "text": [
      "\n",
      " 28%|███████████                             | 278/1000 [00:23<01:01, 11.82it/s]\u001b[A"
     ]
    },
    {
     "name": "stdout",
     "output_type": "stream",
     "text": [
      "0.08447575569152832\n",
      "0.08141660690307617\n",
      "0.08684945106506348\n"
     ]
    },
    {
     "name": "stderr",
     "output_type": "stream",
     "text": [
      "\n",
      " 28%|███████████▏                            | 280/1000 [00:23<01:01, 11.79it/s]\u001b[A"
     ]
    },
    {
     "name": "stdout",
     "output_type": "stream",
     "text": [
      "0.08299612998962402\n",
      "0.08434271812438965\n"
     ]
    },
    {
     "name": "stderr",
     "output_type": "stream",
     "text": [
      "\n",
      " 28%|███████████▎                            | 282/1000 [00:23<01:00, 11.77it/s]\u001b[A"
     ]
    },
    {
     "name": "stdout",
     "output_type": "stream",
     "text": [
      "0.08482933044433594\n"
     ]
    },
    {
     "name": "stderr",
     "output_type": "stream",
     "text": [
      "\n",
      " 28%|███████████▎                            | 284/1000 [00:24<01:00, 11.80it/s]\u001b[A"
     ]
    },
    {
     "name": "stdout",
     "output_type": "stream",
     "text": [
      "0.08597302436828613\n",
      "0.0815424919128418\n",
      "0.08568978309631348\n"
     ]
    },
    {
     "name": "stderr",
     "output_type": "stream",
     "text": [
      "\n",
      " 29%|███████████▍                            | 286/1000 [00:24<01:00, 11.79it/s]\u001b[A"
     ]
    },
    {
     "name": "stdout",
     "output_type": "stream",
     "text": [
      "0.08328390121459961\n",
      "0.08367252349853516\n"
     ]
    },
    {
     "name": "stderr",
     "output_type": "stream",
     "text": [
      "\n",
      " 29%|███████████▌                            | 288/1000 [00:24<01:00, 11.82it/s]\u001b[A"
     ]
    },
    {
     "name": "stdout",
     "output_type": "stream",
     "text": [
      "0.08316349983215332\n"
     ]
    },
    {
     "name": "stderr",
     "output_type": "stream",
     "text": [
      "\n",
      " 29%|███████████▌                            | 290/1000 [00:24<01:00, 11.82it/s]\u001b[A"
     ]
    },
    {
     "name": "stdout",
     "output_type": "stream",
     "text": [
      "0.08672976493835449\n",
      "0.08164095878601074\n",
      "0.08580517768859863\n"
     ]
    },
    {
     "name": "stderr",
     "output_type": "stream",
     "text": [
      "\n",
      " 29%|███████████▋                            | 292/1000 [00:24<01:00, 11.80it/s]\u001b[A"
     ]
    },
    {
     "name": "stdout",
     "output_type": "stream",
     "text": [
      "0.08344435691833496\n",
      "0.08381390571594238\n"
     ]
    },
    {
     "name": "stderr",
     "output_type": "stream",
     "text": [
      "\n",
      " 29%|███████████▊                            | 294/1000 [00:24<00:59, 11.83it/s]\u001b[A"
     ]
    },
    {
     "name": "stdout",
     "output_type": "stream",
     "text": [
      "0.08330678939819336\n"
     ]
    },
    {
     "name": "stderr",
     "output_type": "stream",
     "text": [
      "\n",
      " 30%|███████████▊                            | 296/1000 [00:25<00:59, 11.85it/s]\u001b[A"
     ]
    },
    {
     "name": "stdout",
     "output_type": "stream",
     "text": [
      "0.08547544479370117\n",
      "0.08144640922546387\n",
      "0.08586835861206055\n"
     ]
    },
    {
     "name": "stderr",
     "output_type": "stream",
     "text": [
      "\n",
      " 30%|███████████▉                            | 298/1000 [00:25<00:59, 11.83it/s]\u001b[A"
     ]
    },
    {
     "name": "stdout",
     "output_type": "stream",
     "text": [
      "0.08306002616882324\n",
      "0.08367586135864258\n"
     ]
    },
    {
     "name": "stderr",
     "output_type": "stream",
     "text": [
      "\n",
      " 30%|████████████                            | 300/1000 [00:25<00:59, 11.85it/s]\u001b[A"
     ]
    },
    {
     "name": "stdout",
     "output_type": "stream",
     "text": [
      "0.08321738243103027\n"
     ]
    },
    {
     "name": "stderr",
     "output_type": "stream",
     "text": [
      "\n",
      " 30%|████████████                            | 302/1000 [00:25<00:58, 11.86it/s]\u001b[A"
     ]
    },
    {
     "name": "stdout",
     "output_type": "stream",
     "text": [
      "0.08531022071838379\n",
      "0.08210158348083496\n",
      "0.08441448211669922\n"
     ]
    },
    {
     "name": "stderr",
     "output_type": "stream",
     "text": [
      "\n",
      " 30%|████████████▏                           | 304/1000 [00:25<00:58, 11.87it/s]\u001b[A"
     ]
    },
    {
     "name": "stdout",
     "output_type": "stream",
     "text": [
      "0.08271956443786621\n",
      "0.08259749412536621\n"
     ]
    },
    {
     "name": "stderr",
     "output_type": "stream",
     "text": [
      "\n",
      " 31%|████████████▏                           | 306/1000 [00:25<00:58, 11.88it/s]\u001b[A"
     ]
    },
    {
     "name": "stdout",
     "output_type": "stream",
     "text": [
      "0.08413815498352051\n"
     ]
    },
    {
     "name": "stderr",
     "output_type": "stream",
     "text": [
      "\n",
      " 31%|████████████▎                           | 308/1000 [00:26<00:58, 11.87it/s]\u001b[A"
     ]
    },
    {
     "name": "stdout",
     "output_type": "stream",
     "text": [
      "0.08612751960754395\n",
      "0.08167505264282227\n",
      "0.08575892448425293\n"
     ]
    },
    {
     "name": "stderr",
     "output_type": "stream",
     "text": [
      "\n",
      " 31%|████████████▍                           | 310/1000 [00:26<00:58, 11.84it/s]\u001b[A"
     ]
    },
    {
     "name": "stdout",
     "output_type": "stream",
     "text": [
      "0.08292841911315918\n",
      "0.08371710777282715\n"
     ]
    },
    {
     "name": "stderr",
     "output_type": "stream",
     "text": [
      "\n",
      " 31%|████████████▍                           | 312/1000 [00:26<00:58, 11.86it/s]\u001b[A"
     ]
    },
    {
     "name": "stdout",
     "output_type": "stream",
     "text": [
      "0.08320808410644531\n"
     ]
    },
    {
     "name": "stderr",
     "output_type": "stream",
     "text": [
      "\n",
      " 31%|████████████▌                           | 314/1000 [00:26<00:57, 11.87it/s]\u001b[A"
     ]
    },
    {
     "name": "stdout",
     "output_type": "stream",
     "text": [
      "0.08534002304077148\n",
      "0.08170032501220703\n",
      "0.08521413803100586\n"
     ]
    },
    {
     "name": "stderr",
     "output_type": "stream",
     "text": [
      "\n",
      " 32%|████████████▋                           | 316/1000 [00:26<00:57, 11.86it/s]\u001b[A"
     ]
    },
    {
     "name": "stdout",
     "output_type": "stream",
     "text": [
      "0.0827944278717041\n",
      "0.08407044410705566\n"
     ]
    },
    {
     "name": "stderr",
     "output_type": "stream",
     "text": [
      "\n",
      " 32%|████████████▋                           | 318/1000 [00:26<00:57, 11.87it/s]\u001b[A"
     ]
    },
    {
     "name": "stdout",
     "output_type": "stream",
     "text": [
      "0.0831761360168457\n"
     ]
    },
    {
     "name": "stderr",
     "output_type": "stream",
     "text": [
      "\n",
      " 32%|████████████▊                           | 320/1000 [00:27<00:57, 11.89it/s]\u001b[A"
     ]
    },
    {
     "name": "stdout",
     "output_type": "stream",
     "text": [
      "0.08508419990539551\n",
      "0.08154749870300293\n",
      "0.08564209938049316\n"
     ]
    },
    {
     "name": "stderr",
     "output_type": "stream",
     "text": [
      "\n",
      " 32%|████████████▉                           | 322/1000 [00:27<00:57, 11.85it/s]\u001b[A"
     ]
    },
    {
     "name": "stdout",
     "output_type": "stream",
     "text": [
      "0.08319950103759766\n",
      "0.08443212509155273\n"
     ]
    },
    {
     "name": "stderr",
     "output_type": "stream",
     "text": [
      "\n",
      " 32%|████████████▉                           | 324/1000 [00:27<00:57, 11.85it/s]\u001b[A"
     ]
    },
    {
     "name": "stdout",
     "output_type": "stream",
     "text": [
      "0.08326172828674316\n"
     ]
    },
    {
     "name": "stderr",
     "output_type": "stream",
     "text": [
      "\n",
      " 33%|█████████████                           | 326/1000 [00:27<00:56, 11.87it/s]\u001b[A"
     ]
    },
    {
     "name": "stdout",
     "output_type": "stream",
     "text": [
      "0.08537817001342773\n",
      "0.08168864250183105\n",
      "0.08598136901855469\n"
     ]
    },
    {
     "name": "stderr",
     "output_type": "stream",
     "text": [
      "\n",
      " 33%|█████████████                           | 328/1000 [00:27<00:56, 11.84it/s]\u001b[A"
     ]
    },
    {
     "name": "stdout",
     "output_type": "stream",
     "text": [
      "0.08318781852722168\n",
      "0.08413934707641602\n"
     ]
    },
    {
     "name": "stderr",
     "output_type": "stream",
     "text": [
      "\n",
      " 33%|█████████████▏                          | 330/1000 [00:27<00:56, 11.84it/s]\u001b[A"
     ]
    },
    {
     "name": "stdout",
     "output_type": "stream",
     "text": [
      "0.08363986015319824\n"
     ]
    },
    {
     "name": "stderr",
     "output_type": "stream",
     "text": [
      "\n",
      " 33%|█████████████▎                          | 332/1000 [00:28<00:56, 11.86it/s]\u001b[A"
     ]
    },
    {
     "name": "stdout",
     "output_type": "stream",
     "text": [
      "0.08507895469665527\n",
      "0.0816047191619873\n",
      "0.08612942695617676\n"
     ]
    },
    {
     "name": "stderr",
     "output_type": "stream",
     "text": [
      "\n",
      " 33%|█████████████▎                          | 334/1000 [00:28<00:56, 11.83it/s]\u001b[A"
     ]
    },
    {
     "name": "stdout",
     "output_type": "stream",
     "text": [
      "0.08338356018066406\n",
      "0.08393311500549316\n"
     ]
    },
    {
     "name": "stderr",
     "output_type": "stream",
     "text": [
      "\n",
      " 34%|█████████████▍                          | 336/1000 [00:28<00:56, 11.84it/s]\u001b[A"
     ]
    },
    {
     "name": "stdout",
     "output_type": "stream",
     "text": [
      "0.08324837684631348\n"
     ]
    },
    {
     "name": "stderr",
     "output_type": "stream",
     "text": [
      "\n",
      " 34%|█████████████▌                          | 338/1000 [00:28<00:55, 11.88it/s]\u001b[A"
     ]
    },
    {
     "name": "stdout",
     "output_type": "stream",
     "text": [
      "0.0844564437866211\n",
      "0.0819389820098877\n",
      "0.08652496337890625\n"
     ]
    },
    {
     "name": "stderr",
     "output_type": "stream",
     "text": [
      "\n",
      " 34%|█████████████▌                          | 340/1000 [00:28<00:55, 11.83it/s]\u001b[A"
     ]
    },
    {
     "name": "stdout",
     "output_type": "stream",
     "text": [
      "0.08303618431091309\n",
      "0.08395576477050781\n"
     ]
    },
    {
     "name": "stderr",
     "output_type": "stream",
     "text": [
      "\n",
      " 34%|█████████████▋                          | 342/1000 [00:28<00:55, 11.86it/s]\u001b[A"
     ]
    },
    {
     "name": "stdout",
     "output_type": "stream",
     "text": [
      "0.08253169059753418\n"
     ]
    },
    {
     "name": "stderr",
     "output_type": "stream",
     "text": [
      "\n",
      " 34%|█████████████▊                          | 344/1000 [00:29<00:55, 11.87it/s]\u001b[A"
     ]
    },
    {
     "name": "stdout",
     "output_type": "stream",
     "text": [
      "0.08547711372375488\n",
      "0.08153009414672852\n",
      "0.08590865135192871\n"
     ]
    },
    {
     "name": "stderr",
     "output_type": "stream",
     "text": [
      "\n",
      " 35%|█████████████▊                          | 346/1000 [00:29<00:55, 11.85it/s]\u001b[A"
     ]
    },
    {
     "name": "stdout",
     "output_type": "stream",
     "text": [
      "0.08276176452636719\n",
      "0.08364200592041016\n"
     ]
    },
    {
     "name": "stderr",
     "output_type": "stream",
     "text": [
      "\n",
      " 35%|█████████████▉                          | 348/1000 [00:29<00:54, 11.87it/s]\u001b[A"
     ]
    },
    {
     "name": "stdout",
     "output_type": "stream",
     "text": [
      "0.08306312561035156\n"
     ]
    },
    {
     "name": "stderr",
     "output_type": "stream",
     "text": [
      "\n",
      " 35%|██████████████                          | 350/1000 [00:29<00:54, 11.87it/s]\u001b[A"
     ]
    },
    {
     "name": "stdout",
     "output_type": "stream",
     "text": [
      "0.08516645431518555\n",
      "0.08206391334533691\n",
      "0.0850985050201416\n"
     ]
    },
    {
     "name": "stderr",
     "output_type": "stream",
     "text": [
      "\n",
      " 35%|██████████████                          | 352/1000 [00:29<00:54, 11.86it/s]\u001b[A"
     ]
    },
    {
     "name": "stdout",
     "output_type": "stream",
     "text": [
      "0.08307647705078125\n",
      "0.08389854431152344\n"
     ]
    },
    {
     "name": "stderr",
     "output_type": "stream",
     "text": [
      "\n",
      " 35%|██████████████▏                         | 354/1000 [00:29<00:54, 11.88it/s]\u001b[A"
     ]
    },
    {
     "name": "stdout",
     "output_type": "stream",
     "text": [
      "0.08283019065856934\n"
     ]
    },
    {
     "name": "stderr",
     "output_type": "stream",
     "text": [
      "\n",
      " 36%|██████████████▏                         | 356/1000 [00:30<00:54, 11.89it/s]\u001b[A"
     ]
    },
    {
     "name": "stdout",
     "output_type": "stream",
     "text": [
      "0.08510303497314453\n",
      "0.08168649673461914\n",
      "0.08650088310241699\n"
     ]
    },
    {
     "name": "stderr",
     "output_type": "stream",
     "text": [
      "\n",
      " 36%|██████████████▎                         | 358/1000 [00:30<00:54, 11.84it/s]\u001b[A"
     ]
    },
    {
     "name": "stdout",
     "output_type": "stream",
     "text": [
      "0.08310484886169434\n",
      "0.08412456512451172\n"
     ]
    },
    {
     "name": "stderr",
     "output_type": "stream",
     "text": [
      "\n",
      " 36%|██████████████▍                         | 360/1000 [00:30<00:53, 11.85it/s]\u001b[A"
     ]
    },
    {
     "name": "stdout",
     "output_type": "stream",
     "text": [
      "0.0830998420715332\n"
     ]
    },
    {
     "name": "stderr",
     "output_type": "stream",
     "text": [
      "\n",
      " 36%|██████████████▍                         | 362/1000 [00:30<00:53, 11.85it/s]\u001b[A"
     ]
    },
    {
     "name": "stdout",
     "output_type": "stream",
     "text": [
      "0.0862734317779541\n",
      "0.08168625831604004\n",
      "0.08530783653259277\n"
     ]
    },
    {
     "name": "stderr",
     "output_type": "stream",
     "text": [
      "\n",
      " 36%|██████████████▌                         | 364/1000 [00:30<00:53, 11.84it/s]\u001b[A"
     ]
    },
    {
     "name": "stdout",
     "output_type": "stream",
     "text": [
      "0.08278942108154297\n",
      "0.08465886116027832\n"
     ]
    },
    {
     "name": "stderr",
     "output_type": "stream",
     "text": [
      "\n",
      " 37%|██████████████▋                         | 366/1000 [00:30<00:53, 11.84it/s]\u001b[A"
     ]
    },
    {
     "name": "stdout",
     "output_type": "stream",
     "text": [
      "0.08289527893066406\n"
     ]
    },
    {
     "name": "stderr",
     "output_type": "stream",
     "text": [
      "\n",
      " 37%|██████████████▋                         | 368/1000 [00:31<00:53, 11.86it/s]\u001b[A"
     ]
    },
    {
     "name": "stdout",
     "output_type": "stream",
     "text": [
      "0.08480548858642578\n",
      "0.08196496963500977\n",
      "0.08503198623657227\n"
     ]
    },
    {
     "name": "stderr",
     "output_type": "stream",
     "text": [
      "\n",
      " 37%|██████████████▊                         | 370/1000 [00:31<00:53, 11.86it/s]\u001b[A"
     ]
    },
    {
     "name": "stdout",
     "output_type": "stream",
     "text": [
      "0.08258843421936035\n",
      "0.08305573463439941\n"
     ]
    },
    {
     "name": "stderr",
     "output_type": "stream",
     "text": [
      "\n",
      " 37%|██████████████▉                         | 372/1000 [00:31<00:52, 11.88it/s]\u001b[A"
     ]
    },
    {
     "name": "stdout",
     "output_type": "stream",
     "text": [
      "0.08337283134460449\n"
     ]
    },
    {
     "name": "stderr",
     "output_type": "stream",
     "text": [
      "\n",
      " 37%|██████████████▉                         | 374/1000 [00:31<00:52, 11.91it/s]\u001b[A"
     ]
    },
    {
     "name": "stdout",
     "output_type": "stream",
     "text": [
      "0.08449101448059082\n",
      "0.08181881904602051\n",
      "0.08960247039794922\n"
     ]
    },
    {
     "name": "stderr",
     "output_type": "stream",
     "text": [
      "\n",
      " 38%|███████████████                         | 376/1000 [00:31<00:52, 11.78it/s]\u001b[A"
     ]
    },
    {
     "name": "stdout",
     "output_type": "stream",
     "text": [
      "0.08321452140808105\n",
      "0.08417081832885742\n"
     ]
    },
    {
     "name": "stderr",
     "output_type": "stream",
     "text": [
      "\n",
      " 38%|███████████████                         | 378/1000 [00:31<00:52, 11.80it/s]\u001b[A"
     ]
    },
    {
     "name": "stdout",
     "output_type": "stream",
     "text": [
      "0.08346199989318848\n"
     ]
    },
    {
     "name": "stderr",
     "output_type": "stream",
     "text": [
      "\n",
      " 38%|███████████████▏                        | 380/1000 [00:32<00:52, 11.83it/s]\u001b[A"
     ]
    },
    {
     "name": "stdout",
     "output_type": "stream",
     "text": [
      "0.08519673347473145\n",
      "0.08198380470275879\n",
      "0.0849604606628418\n"
     ]
    },
    {
     "name": "stderr",
     "output_type": "stream",
     "text": [
      "\n",
      " 38%|███████████████▎                        | 382/1000 [00:32<00:52, 11.83it/s]\u001b[A"
     ]
    },
    {
     "name": "stdout",
     "output_type": "stream",
     "text": [
      "0.0832066535949707\n",
      "0.08356142044067383\n"
     ]
    },
    {
     "name": "stderr",
     "output_type": "stream",
     "text": [
      "\n",
      " 38%|███████████████▎                        | 384/1000 [00:32<00:51, 11.86it/s]\u001b[A"
     ]
    },
    {
     "name": "stdout",
     "output_type": "stream",
     "text": [
      "0.08303976058959961\n"
     ]
    },
    {
     "name": "stderr",
     "output_type": "stream",
     "text": [
      "\n",
      " 39%|███████████████▍                        | 386/1000 [00:32<00:51, 11.87it/s]\u001b[A"
     ]
    },
    {
     "name": "stdout",
     "output_type": "stream",
     "text": [
      "0.0855557918548584\n",
      "0.08158469200134277\n",
      "0.08705496788024902\n"
     ]
    },
    {
     "name": "stderr",
     "output_type": "stream",
     "text": [
      "\n",
      " 39%|███████████████▌                        | 388/1000 [00:32<00:51, 11.81it/s]\u001b[A"
     ]
    },
    {
     "name": "stdout",
     "output_type": "stream",
     "text": [
      "0.08313417434692383\n",
      "0.08395743370056152\n"
     ]
    },
    {
     "name": "stderr",
     "output_type": "stream",
     "text": [
      "\n",
      " 39%|███████████████▌                        | 390/1000 [00:33<00:51, 11.84it/s]\u001b[A"
     ]
    },
    {
     "name": "stdout",
     "output_type": "stream",
     "text": [
      "0.08290410041809082\n"
     ]
    },
    {
     "name": "stderr",
     "output_type": "stream",
     "text": [
      "\n",
      " 39%|███████████████▋                        | 392/1000 [00:33<00:51, 11.85it/s]\u001b[A"
     ]
    },
    {
     "name": "stdout",
     "output_type": "stream",
     "text": [
      "0.08514952659606934\n",
      "0.08217740058898926\n",
      "0.08548808097839355\n"
     ]
    },
    {
     "name": "stderr",
     "output_type": "stream",
     "text": [
      "\n",
      " 39%|███████████████▊                        | 394/1000 [00:33<00:51, 11.84it/s]\u001b[A"
     ]
    },
    {
     "name": "stdout",
     "output_type": "stream",
     "text": [
      "0.08263063430786133\n",
      "0.08365464210510254\n"
     ]
    },
    {
     "name": "stderr",
     "output_type": "stream",
     "text": [
      "\n",
      " 40%|███████████████▊                        | 396/1000 [00:33<00:50, 11.87it/s]\u001b[A"
     ]
    },
    {
     "name": "stdout",
     "output_type": "stream",
     "text": [
      "0.08298134803771973\n"
     ]
    },
    {
     "name": "stderr",
     "output_type": "stream",
     "text": [
      "\n",
      " 40%|███████████████▉                        | 398/1000 [00:33<00:50, 11.88it/s]\u001b[A"
     ]
    },
    {
     "name": "stdout",
     "output_type": "stream",
     "text": [
      "0.08530759811401367\n",
      "0.08187341690063477\n",
      "0.08532929420471191\n"
     ]
    },
    {
     "name": "stderr",
     "output_type": "stream",
     "text": [
      "\n",
      " 40%|████████████████                        | 400/1000 [00:33<00:50, 11.86it/s]\u001b[A"
     ]
    },
    {
     "name": "stdout",
     "output_type": "stream",
     "text": [
      "0.08278465270996094\n",
      "0.08349418640136719\n"
     ]
    },
    {
     "name": "stderr",
     "output_type": "stream",
     "text": [
      "\n",
      " 40%|████████████████                        | 402/1000 [00:34<00:50, 11.89it/s]\u001b[A"
     ]
    },
    {
     "name": "stdout",
     "output_type": "stream",
     "text": [
      "0.0828254222869873\n"
     ]
    },
    {
     "name": "stderr",
     "output_type": "stream",
     "text": [
      "\n",
      " 40%|████████████████▏                       | 404/1000 [00:34<00:50, 11.92it/s]\u001b[A"
     ]
    },
    {
     "name": "stdout",
     "output_type": "stream",
     "text": [
      "0.08349895477294922\n",
      "0.08216142654418945\n",
      "0.08651280403137207\n"
     ]
    },
    {
     "name": "stderr",
     "output_type": "stream",
     "text": [
      "\n",
      " 41%|████████████████▏                       | 406/1000 [00:34<00:50, 11.85it/s]\u001b[A"
     ]
    },
    {
     "name": "stdout",
     "output_type": "stream",
     "text": [
      "0.0837397575378418\n",
      "0.08401036262512207\n"
     ]
    },
    {
     "name": "stderr",
     "output_type": "stream",
     "text": [
      "\n",
      " 41%|████████████████▎                       | 408/1000 [00:34<00:49, 11.85it/s]\u001b[A"
     ]
    },
    {
     "name": "stdout",
     "output_type": "stream",
     "text": [
      "0.08328032493591309\n"
     ]
    },
    {
     "name": "stderr",
     "output_type": "stream",
     "text": [
      "\n",
      " 41%|████████████████▍                       | 410/1000 [00:34<00:49, 11.87it/s]\u001b[A"
     ]
    },
    {
     "name": "stdout",
     "output_type": "stream",
     "text": [
      "0.08542704582214355\n",
      "0.08158445358276367\n",
      "0.08542156219482422\n"
     ]
    },
    {
     "name": "stderr",
     "output_type": "stream",
     "text": [
      "\n",
      " 41%|████████████████▍                       | 412/1000 [00:34<00:49, 11.85it/s]\u001b[A"
     ]
    },
    {
     "name": "stdout",
     "output_type": "stream",
     "text": [
      "0.08304405212402344\n",
      "0.08434414863586426\n"
     ]
    },
    {
     "name": "stderr",
     "output_type": "stream",
     "text": [
      "\n",
      " 41%|████████████████▌                       | 414/1000 [00:35<00:49, 11.85it/s]\u001b[A"
     ]
    },
    {
     "name": "stdout",
     "output_type": "stream",
     "text": [
      "0.08331966400146484\n"
     ]
    },
    {
     "name": "stderr",
     "output_type": "stream",
     "text": [
      "\n",
      " 42%|████████████████▋                       | 416/1000 [00:35<00:49, 11.86it/s]\u001b[A"
     ]
    },
    {
     "name": "stdout",
     "output_type": "stream",
     "text": [
      "0.08447861671447754\n",
      "0.08249974250793457\n",
      "0.08446121215820312\n"
     ]
    },
    {
     "name": "stderr",
     "output_type": "stream",
     "text": [
      "\n",
      " 42%|████████████████▋                       | 418/1000 [00:35<00:49, 11.87it/s]\u001b[A"
     ]
    },
    {
     "name": "stdout",
     "output_type": "stream",
     "text": [
      "0.0827035903930664\n",
      "0.08357119560241699\n"
     ]
    },
    {
     "name": "stderr",
     "output_type": "stream",
     "text": [
      "\n",
      " 42%|████████████████▊                       | 420/1000 [00:35<00:48, 11.89it/s]\u001b[A"
     ]
    },
    {
     "name": "stdout",
     "output_type": "stream",
     "text": [
      "0.08301973342895508\n"
     ]
    },
    {
     "name": "stderr",
     "output_type": "stream",
     "text": [
      "\n",
      " 42%|████████████████▉                       | 422/1000 [00:35<00:48, 11.92it/s]\u001b[A"
     ]
    },
    {
     "name": "stdout",
     "output_type": "stream",
     "text": [
      "0.0838158130645752\n",
      "0.08199882507324219\n",
      "0.08681607246398926\n"
     ]
    },
    {
     "name": "stderr",
     "output_type": "stream",
     "text": [
      "\n",
      " 42%|████████████████▉                       | 424/1000 [00:35<00:48, 11.85it/s]\u001b[A"
     ]
    },
    {
     "name": "stdout",
     "output_type": "stream",
     "text": [
      "0.08305191993713379\n",
      "0.0838768482208252\n"
     ]
    },
    {
     "name": "stderr",
     "output_type": "stream",
     "text": [
      "\n",
      " 43%|█████████████████                       | 426/1000 [00:36<00:48, 11.87it/s]\u001b[A"
     ]
    },
    {
     "name": "stdout",
     "output_type": "stream",
     "text": [
      "0.08315372467041016\n"
     ]
    },
    {
     "name": "stderr",
     "output_type": "stream",
     "text": [
      "\n",
      " 43%|█████████████████                       | 428/1000 [00:36<00:48, 11.85it/s]\u001b[A"
     ]
    },
    {
     "name": "stdout",
     "output_type": "stream",
     "text": [
      "0.08600664138793945\n",
      "0.08254218101501465\n",
      "0.08581280708312988\n"
     ]
    },
    {
     "name": "stderr",
     "output_type": "stream",
     "text": [
      "\n",
      " 43%|█████████████████▏                      | 430/1000 [00:36<00:48, 11.82it/s]\u001b[A"
     ]
    },
    {
     "name": "stdout",
     "output_type": "stream",
     "text": [
      "0.08330512046813965\n",
      "0.08416581153869629\n"
     ]
    },
    {
     "name": "stderr",
     "output_type": "stream",
     "text": [
      "\n",
      " 43%|█████████████████▎                      | 432/1000 [00:36<00:48, 11.82it/s]\u001b[A"
     ]
    },
    {
     "name": "stdout",
     "output_type": "stream",
     "text": [
      "0.08380341529846191\n"
     ]
    },
    {
     "name": "stderr",
     "output_type": "stream",
     "text": [
      "\n",
      " 43%|█████████████████▎                      | 434/1000 [00:36<00:47, 11.84it/s]\u001b[A"
     ]
    },
    {
     "name": "stdout",
     "output_type": "stream",
     "text": [
      "0.08530592918395996\n",
      "0.08186697959899902\n",
      "0.08575201034545898\n"
     ]
    },
    {
     "name": "stderr",
     "output_type": "stream",
     "text": [
      "\n",
      " 44%|█████████████████▍                      | 436/1000 [00:36<00:47, 11.82it/s]\u001b[A"
     ]
    },
    {
     "name": "stdout",
     "output_type": "stream",
     "text": [
      "0.08308768272399902\n",
      "0.08314728736877441\n"
     ]
    },
    {
     "name": "stderr",
     "output_type": "stream",
     "text": [
      "\n",
      " 44%|█████████████████▌                      | 438/1000 [00:37<00:47, 11.87it/s]\u001b[A"
     ]
    },
    {
     "name": "stdout",
     "output_type": "stream",
     "text": [
      "0.08298444747924805\n"
     ]
    },
    {
     "name": "stderr",
     "output_type": "stream",
     "text": [
      "\n",
      " 44%|█████████████████▌                      | 440/1000 [00:37<00:47, 11.86it/s]\u001b[A"
     ]
    },
    {
     "name": "stdout",
     "output_type": "stream",
     "text": [
      "0.08569669723510742\n",
      "0.08243584632873535\n",
      "0.08651185035705566\n"
     ]
    },
    {
     "name": "stderr",
     "output_type": "stream",
     "text": [
      "\n",
      " 44%|█████████████████▋                      | 442/1000 [00:37<00:47, 11.82it/s]\u001b[A"
     ]
    },
    {
     "name": "stdout",
     "output_type": "stream",
     "text": [
      "0.08302807807922363\n",
      "0.08391237258911133\n"
     ]
    },
    {
     "name": "stderr",
     "output_type": "stream",
     "text": [
      "\n",
      " 44%|█████████████████▊                      | 444/1000 [00:37<00:46, 11.84it/s]\u001b[A"
     ]
    },
    {
     "name": "stdout",
     "output_type": "stream",
     "text": [
      "0.08323287963867188\n"
     ]
    },
    {
     "name": "stderr",
     "output_type": "stream",
     "text": [
      "\n",
      " 45%|█████████████████▊                      | 446/1000 [00:37<00:46, 11.86it/s]\u001b[A"
     ]
    },
    {
     "name": "stdout",
     "output_type": "stream",
     "text": [
      "0.08515405654907227\n",
      "0.08196616172790527\n",
      "0.08523988723754883\n"
     ]
    },
    {
     "name": "stderr",
     "output_type": "stream",
     "text": [
      "\n",
      " 45%|█████████████████▉                      | 448/1000 [00:37<00:46, 11.84it/s]\u001b[A"
     ]
    },
    {
     "name": "stdout",
     "output_type": "stream",
     "text": [
      "0.08351993560791016\n",
      "0.08406710624694824\n"
     ]
    },
    {
     "name": "stderr",
     "output_type": "stream",
     "text": [
      "\n",
      " 45%|██████████████████                      | 450/1000 [00:38<00:46, 11.85it/s]\u001b[A"
     ]
    },
    {
     "name": "stdout",
     "output_type": "stream",
     "text": [
      "0.08352422714233398\n"
     ]
    },
    {
     "name": "stderr",
     "output_type": "stream",
     "text": [
      "\n",
      " 45%|██████████████████                      | 452/1000 [00:38<00:46, 11.86it/s]\u001b[A"
     ]
    },
    {
     "name": "stdout",
     "output_type": "stream",
     "text": [
      "0.08458709716796875\n",
      "0.08240866661071777\n",
      "0.08681583404541016\n"
     ]
    },
    {
     "name": "stderr",
     "output_type": "stream",
     "text": [
      "\n",
      " 45%|██████████████████▏                     | 454/1000 [00:38<00:46, 11.81it/s]\u001b[A"
     ]
    },
    {
     "name": "stdout",
     "output_type": "stream",
     "text": [
      "0.08309602737426758\n",
      "0.08464288711547852\n"
     ]
    },
    {
     "name": "stderr",
     "output_type": "stream",
     "text": [
      "\n",
      " 46%|██████████████████▏                     | 456/1000 [00:38<00:46, 11.82it/s]\u001b[A"
     ]
    },
    {
     "name": "stdout",
     "output_type": "stream",
     "text": [
      "0.08357119560241699\n"
     ]
    },
    {
     "name": "stderr",
     "output_type": "stream",
     "text": [
      "\n",
      " 46%|██████████████████▎                     | 458/1000 [00:38<00:45, 11.83it/s]\u001b[A"
     ]
    },
    {
     "name": "stdout",
     "output_type": "stream",
     "text": [
      "0.08599281311035156\n",
      "0.08157515525817871\n",
      "0.0853581428527832\n"
     ]
    },
    {
     "name": "stderr",
     "output_type": "stream",
     "text": [
      "\n",
      " 46%|██████████████████▍                     | 460/1000 [00:38<00:45, 11.80it/s]\u001b[A"
     ]
    },
    {
     "name": "stdout",
     "output_type": "stream",
     "text": [
      "0.08417487144470215\n",
      "0.08357763290405273\n"
     ]
    },
    {
     "name": "stderr",
     "output_type": "stream",
     "text": [
      "\n",
      " 46%|██████████████████▍                     | 462/1000 [00:39<00:45, 11.84it/s]\u001b[A"
     ]
    },
    {
     "name": "stdout",
     "output_type": "stream",
     "text": [
      "0.08304572105407715\n"
     ]
    },
    {
     "name": "stderr",
     "output_type": "stream",
     "text": [
      "\n",
      " 46%|██████████████████▌                     | 464/1000 [00:39<00:45, 11.85it/s]\u001b[A"
     ]
    },
    {
     "name": "stdout",
     "output_type": "stream",
     "text": [
      "0.08489489555358887\n",
      "0.08256340026855469\n",
      "0.08732032775878906\n"
     ]
    },
    {
     "name": "stderr",
     "output_type": "stream",
     "text": [
      "\n",
      " 47%|██████████████████▋                     | 466/1000 [00:39<00:45, 11.79it/s]\u001b[A"
     ]
    },
    {
     "name": "stdout",
     "output_type": "stream",
     "text": [
      "0.08320283889770508\n",
      "0.08575916290283203\n"
     ]
    },
    {
     "name": "stderr",
     "output_type": "stream",
     "text": [
      "\n",
      " 47%|██████████████████▋                     | 468/1000 [00:39<00:45, 11.73it/s]\u001b[A"
     ]
    },
    {
     "name": "stdout",
     "output_type": "stream",
     "text": [
      "0.08562541007995605\n"
     ]
    },
    {
     "name": "stderr",
     "output_type": "stream",
     "text": [
      "\n",
      " 47%|██████████████████▊                     | 470/1000 [00:39<00:45, 11.76it/s]\u001b[A"
     ]
    },
    {
     "name": "stdout",
     "output_type": "stream",
     "text": [
      "0.08558845520019531\n",
      "0.08226203918457031\n",
      "0.0856788158416748\n"
     ]
    },
    {
     "name": "stderr",
     "output_type": "stream",
     "text": [
      "\n",
      " 47%|██████████████████▉                     | 472/1000 [00:39<00:44, 11.77it/s]\u001b[A"
     ]
    },
    {
     "name": "stdout",
     "output_type": "stream",
     "text": [
      "0.08327937126159668\n",
      "0.08483672142028809\n"
     ]
    },
    {
     "name": "stderr",
     "output_type": "stream",
     "text": [
      "\n",
      " 47%|██████████████████▉                     | 474/1000 [00:40<00:44, 11.78it/s]\u001b[A"
     ]
    },
    {
     "name": "stdout",
     "output_type": "stream",
     "text": [
      "0.0835123062133789\n"
     ]
    },
    {
     "name": "stderr",
     "output_type": "stream",
     "text": [
      "\n",
      " 48%|███████████████████                     | 476/1000 [00:40<00:44, 11.81it/s]\u001b[A"
     ]
    },
    {
     "name": "stdout",
     "output_type": "stream",
     "text": [
      "0.08539056777954102\n",
      "0.0818319320678711\n",
      "0.08570718765258789\n"
     ]
    },
    {
     "name": "stderr",
     "output_type": "stream",
     "text": [
      "\n",
      " 48%|███████████████████                     | 478/1000 [00:40<00:44, 11.80it/s]\u001b[A"
     ]
    },
    {
     "name": "stdout",
     "output_type": "stream",
     "text": [
      "0.08331751823425293\n",
      "0.08488225936889648\n"
     ]
    },
    {
     "name": "stderr",
     "output_type": "stream",
     "text": [
      "\n",
      " 48%|███████████████████▏                    | 480/1000 [00:40<00:44, 11.80it/s]\u001b[A"
     ]
    },
    {
     "name": "stdout",
     "output_type": "stream",
     "text": [
      "0.08355093002319336\n"
     ]
    },
    {
     "name": "stderr",
     "output_type": "stream",
     "text": [
      "\n",
      " 48%|███████████████████▎                    | 482/1000 [00:40<00:43, 11.81it/s]\u001b[A"
     ]
    },
    {
     "name": "stdout",
     "output_type": "stream",
     "text": [
      "0.0860295295715332\n",
      "0.08205986022949219\n",
      "0.08508586883544922\n"
     ]
    },
    {
     "name": "stderr",
     "output_type": "stream",
     "text": [
      "\n",
      " 48%|███████████████████▎                    | 484/1000 [00:40<00:43, 11.81it/s]\u001b[A"
     ]
    },
    {
     "name": "stdout",
     "output_type": "stream",
     "text": [
      "0.08326864242553711\n",
      "0.08411693572998047\n"
     ]
    },
    {
     "name": "stderr",
     "output_type": "stream",
     "text": [
      "\n",
      " 49%|███████████████████▍                    | 486/1000 [00:41<00:43, 11.83it/s]\u001b[A"
     ]
    },
    {
     "name": "stdout",
     "output_type": "stream",
     "text": [
      "0.08330297470092773\n"
     ]
    },
    {
     "name": "stderr",
     "output_type": "stream",
     "text": [
      "\n",
      " 49%|███████████████████▌                    | 488/1000 [00:41<00:43, 11.85it/s]\u001b[A"
     ]
    },
    {
     "name": "stdout",
     "output_type": "stream",
     "text": [
      "0.08552789688110352\n",
      "0.08158659934997559\n",
      "0.08636903762817383\n"
     ]
    },
    {
     "name": "stderr",
     "output_type": "stream",
     "text": [
      "\n",
      " 49%|███████████████████▌                    | 490/1000 [00:41<00:43, 11.81it/s]\u001b[A"
     ]
    },
    {
     "name": "stdout",
     "output_type": "stream",
     "text": [
      "0.08328747749328613\n",
      "0.08441805839538574\n"
     ]
    },
    {
     "name": "stderr",
     "output_type": "stream",
     "text": [
      "\n",
      " 49%|███████████████████▋                    | 492/1000 [00:41<00:42, 11.82it/s]\u001b[A"
     ]
    },
    {
     "name": "stdout",
     "output_type": "stream",
     "text": [
      "0.08340907096862793\n"
     ]
    },
    {
     "name": "stderr",
     "output_type": "stream",
     "text": [
      "\n",
      " 49%|███████████████████▊                    | 494/1000 [00:41<00:42, 11.83it/s]\u001b[A"
     ]
    },
    {
     "name": "stdout",
     "output_type": "stream",
     "text": [
      "0.08622241020202637\n",
      "0.08168578147888184\n",
      "0.08538985252380371\n"
     ]
    },
    {
     "name": "stderr",
     "output_type": "stream",
     "text": [
      "\n",
      " 50%|███████████████████▊                    | 496/1000 [00:41<00:42, 11.82it/s]\u001b[A"
     ]
    },
    {
     "name": "stdout",
     "output_type": "stream",
     "text": [
      "0.08324337005615234\n",
      "0.08363795280456543\n"
     ]
    },
    {
     "name": "stderr",
     "output_type": "stream",
     "text": [
      "\n",
      " 50%|███████████████████▉                    | 498/1000 [00:42<00:42, 11.84it/s]\u001b[A"
     ]
    },
    {
     "name": "stdout",
     "output_type": "stream",
     "text": [
      "0.0835413932800293\n"
     ]
    },
    {
     "name": "stderr",
     "output_type": "stream",
     "text": [
      "\n",
      " 50%|████████████████████                    | 500/1000 [00:42<00:42, 11.84it/s]\u001b[A"
     ]
    },
    {
     "name": "stdout",
     "output_type": "stream",
     "text": [
      "0.08579206466674805\n",
      "0.08209848403930664\n",
      "0.08731818199157715\n"
     ]
    },
    {
     "name": "stderr",
     "output_type": "stream",
     "text": [
      "\n",
      " 50%|████████████████████                    | 502/1000 [00:42<00:42, 11.78it/s]\u001b[A"
     ]
    },
    {
     "name": "stdout",
     "output_type": "stream",
     "text": [
      "0.08324456214904785\n",
      "0.08448934555053711\n"
     ]
    },
    {
     "name": "stderr",
     "output_type": "stream",
     "text": [
      "\n",
      " 50%|████████████████████▏                   | 504/1000 [00:42<00:42, 11.80it/s]\u001b[A"
     ]
    },
    {
     "name": "stdout",
     "output_type": "stream",
     "text": [
      "0.08311271667480469\n"
     ]
    },
    {
     "name": "stderr",
     "output_type": "stream",
     "text": [
      "\n",
      " 51%|████████████████████▏                   | 506/1000 [00:42<00:41, 11.82it/s]\u001b[A"
     ]
    },
    {
     "name": "stdout",
     "output_type": "stream",
     "text": [
      "0.08557462692260742\n",
      "0.08175349235534668\n",
      "0.08538460731506348\n"
     ]
    },
    {
     "name": "stderr",
     "output_type": "stream",
     "text": [
      "\n",
      " 51%|████████████████████▎                   | 508/1000 [00:42<00:41, 11.79it/s]\u001b[A"
     ]
    },
    {
     "name": "stdout",
     "output_type": "stream",
     "text": [
      "0.08430957794189453\n",
      "0.0833139419555664\n"
     ]
    },
    {
     "name": "stderr",
     "output_type": "stream",
     "text": [
      "\n",
      " 51%|████████████████████▍                   | 510/1000 [00:43<00:41, 11.83it/s]\u001b[A"
     ]
    },
    {
     "name": "stdout",
     "output_type": "stream",
     "text": [
      "0.08337235450744629\n"
     ]
    },
    {
     "name": "stderr",
     "output_type": "stream",
     "text": [
      "\n",
      " 51%|████████████████████▍                   | 512/1000 [00:43<00:41, 11.84it/s]\u001b[A"
     ]
    },
    {
     "name": "stdout",
     "output_type": "stream",
     "text": [
      "0.08589553833007812\n",
      "0.08182120323181152\n",
      "0.08655476570129395\n"
     ]
    },
    {
     "name": "stderr",
     "output_type": "stream",
     "text": [
      "\n",
      " 51%|████████████████████▌                   | 514/1000 [00:43<00:41, 11.79it/s]\u001b[A"
     ]
    },
    {
     "name": "stdout",
     "output_type": "stream",
     "text": [
      "0.08352470397949219\n",
      "0.08448672294616699\n"
     ]
    },
    {
     "name": "stderr",
     "output_type": "stream",
     "text": [
      "\n",
      " 52%|████████████████████▋                   | 516/1000 [00:43<00:41, 11.79it/s]\u001b[A"
     ]
    },
    {
     "name": "stdout",
     "output_type": "stream",
     "text": [
      "0.08392024040222168\n"
     ]
    },
    {
     "name": "stderr",
     "output_type": "stream",
     "text": [
      "\n",
      " 52%|████████████████████▋                   | 518/1000 [00:43<00:40, 11.82it/s]\u001b[A"
     ]
    },
    {
     "name": "stdout",
     "output_type": "stream",
     "text": [
      "0.08590340614318848\n",
      "0.08158731460571289\n",
      "0.08561182022094727\n"
     ]
    },
    {
     "name": "stderr",
     "output_type": "stream",
     "text": [
      "\n",
      " 52%|████████████████████▊                   | 520/1000 [00:43<00:40, 11.80it/s]\u001b[A"
     ]
    },
    {
     "name": "stdout",
     "output_type": "stream",
     "text": [
      "0.08331584930419922\n",
      "0.08405470848083496\n"
     ]
    },
    {
     "name": "stderr",
     "output_type": "stream",
     "text": [
      "\n",
      " 52%|████████████████████▉                   | 522/1000 [00:44<00:40, 11.82it/s]\u001b[A"
     ]
    },
    {
     "name": "stdout",
     "output_type": "stream",
     "text": [
      "0.08365511894226074\n"
     ]
    },
    {
     "name": "stderr",
     "output_type": "stream",
     "text": [
      "\n",
      " 52%|████████████████████▉                   | 524/1000 [00:44<00:40, 11.84it/s]\u001b[A"
     ]
    },
    {
     "name": "stdout",
     "output_type": "stream",
     "text": [
      "0.0856480598449707\n",
      "0.08154940605163574\n",
      "0.08669328689575195\n"
     ]
    },
    {
     "name": "stderr",
     "output_type": "stream",
     "text": [
      "\n",
      " 53%|█████████████████████                   | 526/1000 [00:44<00:40, 11.79it/s]\u001b[A"
     ]
    },
    {
     "name": "stdout",
     "output_type": "stream",
     "text": [
      "0.08357572555541992\n",
      "0.08445382118225098\n"
     ]
    },
    {
     "name": "stderr",
     "output_type": "stream",
     "text": [
      "\n",
      " 53%|█████████████████████                   | 528/1000 [00:44<00:39, 11.81it/s]\u001b[A"
     ]
    },
    {
     "name": "stdout",
     "output_type": "stream",
     "text": [
      "0.08323955535888672\n"
     ]
    },
    {
     "name": "stderr",
     "output_type": "stream",
     "text": [
      "\n",
      " 53%|█████████████████████▏                  | 530/1000 [00:44<00:39, 11.83it/s]\u001b[A"
     ]
    },
    {
     "name": "stdout",
     "output_type": "stream",
     "text": [
      "0.08612060546875\n",
      "0.08142781257629395\n",
      "0.0854032039642334\n"
     ]
    },
    {
     "name": "stderr",
     "output_type": "stream",
     "text": [
      "\n",
      " 53%|█████████████████████▎                  | 532/1000 [00:45<00:39, 11.82it/s]\u001b[A"
     ]
    },
    {
     "name": "stdout",
     "output_type": "stream",
     "text": [
      "0.08312535285949707\n",
      "0.08461785316467285\n"
     ]
    },
    {
     "name": "stderr",
     "output_type": "stream",
     "text": [
      "\n",
      " 53%|█████████████████████▎                  | 534/1000 [00:45<00:39, 11.81it/s]\u001b[A"
     ]
    },
    {
     "name": "stdout",
     "output_type": "stream",
     "text": [
      "0.08387637138366699\n"
     ]
    },
    {
     "name": "stderr",
     "output_type": "stream",
     "text": [
      "\n",
      " 54%|█████████████████████▍                  | 536/1000 [00:45<00:39, 11.82it/s]\u001b[A"
     ]
    },
    {
     "name": "stdout",
     "output_type": "stream",
     "text": [
      "0.08601665496826172\n",
      "0.08185696601867676\n",
      "0.08702325820922852\n"
     ]
    },
    {
     "name": "stderr",
     "output_type": "stream",
     "text": [
      "\n",
      " 54%|█████████████████████▌                  | 538/1000 [00:45<00:39, 11.77it/s]\u001b[A"
     ]
    },
    {
     "name": "stdout",
     "output_type": "stream",
     "text": [
      "0.08354449272155762\n",
      "0.08399534225463867\n"
     ]
    },
    {
     "name": "stderr",
     "output_type": "stream",
     "text": [
      "\n",
      " 54%|█████████████████████▌                  | 540/1000 [00:45<00:38, 11.80it/s]\u001b[A"
     ]
    },
    {
     "name": "stdout",
     "output_type": "stream",
     "text": [
      "0.08356881141662598\n"
     ]
    },
    {
     "name": "stderr",
     "output_type": "stream",
     "text": [
      "\n",
      " 54%|█████████████████████▋                  | 542/1000 [00:45<00:38, 11.83it/s]\u001b[A"
     ]
    },
    {
     "name": "stdout",
     "output_type": "stream",
     "text": [
      "0.0856320858001709\n",
      "0.08146858215332031\n",
      "0.08570981025695801\n"
     ]
    },
    {
     "name": "stderr",
     "output_type": "stream",
     "text": [
      "\n",
      " 54%|█████████████████████▊                  | 544/1000 [00:46<00:38, 11.81it/s]\u001b[A"
     ]
    },
    {
     "name": "stdout",
     "output_type": "stream",
     "text": [
      "0.08300924301147461\n",
      "0.08334112167358398\n"
     ]
    },
    {
     "name": "stderr",
     "output_type": "stream",
     "text": [
      "\n",
      " 55%|█████████████████████▊                  | 546/1000 [00:46<00:38, 11.83it/s]\u001b[A"
     ]
    },
    {
     "name": "stdout",
     "output_type": "stream",
     "text": [
      "0.08413529396057129\n"
     ]
    },
    {
     "name": "stderr",
     "output_type": "stream",
     "text": [
      "\n",
      " 55%|█████████████████████▉                  | 548/1000 [00:46<00:38, 11.86it/s]\u001b[A"
     ]
    },
    {
     "name": "stdout",
     "output_type": "stream",
     "text": [
      "0.08485746383666992\n",
      "0.08187699317932129\n",
      "0.08959436416625977\n"
     ]
    },
    {
     "name": "stderr",
     "output_type": "stream",
     "text": [
      "\n",
      " 55%|██████████████████████                  | 550/1000 [00:46<00:38, 11.74it/s]\u001b[A"
     ]
    },
    {
     "name": "stdout",
     "output_type": "stream",
     "text": [
      "0.08359527587890625\n",
      "0.0844111442565918\n"
     ]
    },
    {
     "name": "stderr",
     "output_type": "stream",
     "text": [
      "\n",
      " 55%|██████████████████████                  | 552/1000 [00:46<00:38, 11.77it/s]\u001b[A"
     ]
    },
    {
     "name": "stdout",
     "output_type": "stream",
     "text": [
      "0.08361220359802246\n"
     ]
    },
    {
     "name": "stderr",
     "output_type": "stream",
     "text": [
      "\n",
      " 55%|██████████████████████▏                 | 554/1000 [00:46<00:37, 11.80it/s]\u001b[A"
     ]
    },
    {
     "name": "stdout",
     "output_type": "stream",
     "text": [
      "0.0856633186340332\n",
      "0.0815877914428711\n"
     ]
    },
    {
     "name": "stderr",
     "output_type": "stream",
     "text": [
      "\n",
      " 56%|██████████████████████▏                 | 556/1000 [00:47<00:46,  9.65it/s]\u001b[A"
     ]
    },
    {
     "name": "stdout",
     "output_type": "stream",
     "text": [
      "0.21248745918273926\n",
      "0.08228445053100586\n",
      "0.08432388305664062\n"
     ]
    },
    {
     "name": "stderr",
     "output_type": "stream",
     "text": [
      "\n",
      " 56%|██████████████████████▎                 | 558/1000 [00:47<00:43, 10.21it/s]\u001b[A\n",
      " 56%|██████████████████████▍                 | 560/1000 [00:47<00:41, 10.67it/s]\u001b[A"
     ]
    },
    {
     "name": "stdout",
     "output_type": "stream",
     "text": [
      "0.08397960662841797\n",
      "0.08460307121276855\n",
      "0.08229589462280273\n"
     ]
    },
    {
     "name": "stderr",
     "output_type": "stream",
     "text": [
      "\n",
      " 56%|██████████████████████▍                 | 562/1000 [00:47<00:39, 10.99it/s]\u001b[A"
     ]
    },
    {
     "name": "stdout",
     "output_type": "stream",
     "text": [
      "0.0859072208404541\n",
      "0.08206558227539062\n",
      "0.08396172523498535\n"
     ]
    },
    {
     "name": "stderr",
     "output_type": "stream",
     "text": [
      "\n",
      " 56%|██████████████████████▌                 | 564/1000 [00:47<00:38, 11.24it/s]\u001b[A\n",
      " 57%|██████████████████████▋                 | 566/1000 [00:48<00:37, 11.45it/s]\u001b[A"
     ]
    },
    {
     "name": "stdout",
     "output_type": "stream",
     "text": [
      "0.08360743522644043\n",
      "0.08370447158813477\n",
      "0.08231520652770996\n"
     ]
    },
    {
     "name": "stderr",
     "output_type": "stream",
     "text": [
      "\n",
      " 57%|██████████████████████▋                 | 568/1000 [00:48<00:37, 11.56it/s]\u001b[A"
     ]
    },
    {
     "name": "stdout",
     "output_type": "stream",
     "text": [
      "0.0856940746307373\n",
      "0.08259773254394531\n",
      "0.08386707305908203\n"
     ]
    },
    {
     "name": "stderr",
     "output_type": "stream",
     "text": [
      "\n",
      " 57%|██████████████████████▊                 | 570/1000 [00:48<00:36, 11.65it/s]\u001b[A\n",
      " 57%|██████████████████████▉                 | 572/1000 [00:48<00:36, 11.72it/s]\u001b[A"
     ]
    },
    {
     "name": "stdout",
     "output_type": "stream",
     "text": [
      "0.08330798149108887\n",
      "0.08518648147583008\n",
      "0.08240008354187012\n"
     ]
    },
    {
     "name": "stderr",
     "output_type": "stream",
     "text": [
      "\n",
      " 57%|██████████████████████▉                 | 574/1000 [00:48<00:36, 11.76it/s]\u001b[A"
     ]
    },
    {
     "name": "stdout",
     "output_type": "stream",
     "text": [
      "0.08574461936950684\n",
      "0.08181285858154297\n",
      "0.08410215377807617\n"
     ]
    },
    {
     "name": "stderr",
     "output_type": "stream",
     "text": [
      "\n",
      " 58%|███████████████████████                 | 576/1000 [00:48<00:36, 11.77it/s]\u001b[A\n",
      " 58%|███████████████████████                 | 578/1000 [00:49<00:35, 11.83it/s]\u001b[A"
     ]
    },
    {
     "name": "stdout",
     "output_type": "stream",
     "text": [
      "0.08421754837036133\n",
      "0.08408784866333008\n",
      "0.08221197128295898\n"
     ]
    },
    {
     "name": "stderr",
     "output_type": "stream",
     "text": [
      "\n",
      " 58%|███████████████████████▏                | 580/1000 [00:49<00:35, 11.84it/s]\u001b[A"
     ]
    },
    {
     "name": "stdout",
     "output_type": "stream",
     "text": [
      "0.08531856536865234\n",
      "0.0823523998260498\n",
      "0.08384418487548828\n"
     ]
    },
    {
     "name": "stderr",
     "output_type": "stream",
     "text": [
      "\n",
      " 58%|███████████████████████▎                | 582/1000 [00:49<00:35, 11.86it/s]\u001b[A\n",
      " 58%|███████████████████████▎                | 584/1000 [00:49<00:34, 11.89it/s]\u001b[A"
     ]
    },
    {
     "name": "stdout",
     "output_type": "stream",
     "text": [
      "0.08316349983215332\n",
      "0.08394217491149902\n",
      "0.08202481269836426\n"
     ]
    },
    {
     "name": "stderr",
     "output_type": "stream",
     "text": [
      "\n",
      " 59%|███████████████████████▍                | 586/1000 [00:49<00:34, 11.89it/s]\u001b[A"
     ]
    },
    {
     "name": "stdout",
     "output_type": "stream",
     "text": [
      "0.08541369438171387\n",
      "0.08178520202636719\n",
      "0.08396220207214355\n"
     ]
    },
    {
     "name": "stderr",
     "output_type": "stream",
     "text": [
      "\n",
      " 59%|███████████████████████▌                | 588/1000 [00:49<00:34, 11.87it/s]\u001b[A\n",
      " 59%|███████████████████████▌                | 590/1000 [00:50<00:34, 11.92it/s]\u001b[A"
     ]
    },
    {
     "name": "stdout",
     "output_type": "stream",
     "text": [
      "0.0845179557800293\n",
      "0.08279728889465332\n",
      "0.08241987228393555\n"
     ]
    },
    {
     "name": "stderr",
     "output_type": "stream",
     "text": [
      "\n",
      " 59%|███████████████████████▋                | 592/1000 [00:50<00:34, 11.90it/s]\u001b[A"
     ]
    },
    {
     "name": "stdout",
     "output_type": "stream",
     "text": [
      "0.08505916595458984\n",
      "0.08236122131347656\n",
      "0.08498191833496094\n"
     ]
    },
    {
     "name": "stderr",
     "output_type": "stream",
     "text": [
      "\n",
      " 59%|███████████████████████▊                | 594/1000 [00:50<00:34, 11.87it/s]\u001b[A\n",
      " 60%|███████████████████████▊                | 596/1000 [00:50<00:33, 11.91it/s]\u001b[A"
     ]
    },
    {
     "name": "stdout",
     "output_type": "stream",
     "text": [
      "0.08358478546142578\n",
      "0.08393669128417969\n",
      "0.0816030502319336\n"
     ]
    },
    {
     "name": "stderr",
     "output_type": "stream",
     "text": [
      "\n",
      " 60%|███████████████████████▉                | 598/1000 [00:50<00:33, 11.90it/s]\u001b[A"
     ]
    },
    {
     "name": "stdout",
     "output_type": "stream",
     "text": [
      "0.08539152145385742\n",
      "0.0817875862121582\n",
      "0.08395743370056152\n"
     ]
    },
    {
     "name": "stderr",
     "output_type": "stream",
     "text": [
      "\n",
      " 60%|████████████████████████                | 600/1000 [00:50<00:33, 11.88it/s]\u001b[A\n",
      " 60%|████████████████████████                | 602/1000 [00:51<00:33, 11.91it/s]\u001b[A"
     ]
    },
    {
     "name": "stdout",
     "output_type": "stream",
     "text": [
      "0.08393526077270508\n",
      "0.08409500122070312\n",
      "0.08226156234741211\n"
     ]
    },
    {
     "name": "stderr",
     "output_type": "stream",
     "text": [
      "\n",
      " 60%|████████████████████████▏               | 604/1000 [00:51<00:33, 11.88it/s]\u001b[A"
     ]
    },
    {
     "name": "stdout",
     "output_type": "stream",
     "text": [
      "0.08588194847106934\n",
      "0.08217811584472656\n",
      "0.08398962020874023\n"
     ]
    },
    {
     "name": "stderr",
     "output_type": "stream",
     "text": [
      "\n",
      " 61%|████████████████████████▏               | 606/1000 [00:51<00:33, 11.88it/s]\u001b[A\n",
      " 61%|████████████████████████▎               | 608/1000 [00:51<00:32, 11.93it/s]\u001b[A"
     ]
    },
    {
     "name": "stdout",
     "output_type": "stream",
     "text": [
      "0.08335638046264648\n",
      "0.08339285850524902\n",
      "0.08160281181335449\n"
     ]
    },
    {
     "name": "stderr",
     "output_type": "stream",
     "text": [
      "\n",
      " 61%|████████████████████████▍               | 610/1000 [00:51<00:32, 11.93it/s]\u001b[A"
     ]
    },
    {
     "name": "stdout",
     "output_type": "stream",
     "text": [
      "0.08494353294372559\n",
      "0.08192706108093262\n",
      "0.08392143249511719\n"
     ]
    },
    {
     "name": "stderr",
     "output_type": "stream",
     "text": [
      "\n",
      " 61%|████████████████████████▍               | 612/1000 [00:51<00:32, 11.92it/s]\u001b[A\n",
      " 61%|████████████████████████▌               | 614/1000 [00:52<00:32, 11.95it/s]\u001b[A"
     ]
    },
    {
     "name": "stdout",
     "output_type": "stream",
     "text": [
      "0.08332371711730957\n",
      "0.08350920677185059\n",
      "0.08181071281433105\n"
     ]
    },
    {
     "name": "stderr",
     "output_type": "stream",
     "text": [
      "\n",
      " 62%|████████████████████████▋               | 616/1000 [00:52<00:32, 11.91it/s]\u001b[A"
     ]
    },
    {
     "name": "stdout",
     "output_type": "stream",
     "text": [
      "0.08615517616271973\n",
      "0.0822286605834961\n",
      "0.08507895469665527\n"
     ]
    },
    {
     "name": "stderr",
     "output_type": "stream",
     "text": [
      "\n",
      " 62%|████████████████████████▋               | 618/1000 [00:52<00:32, 11.87it/s]\u001b[A\n",
      " 62%|████████████████████████▊               | 620/1000 [00:52<00:31, 11.91it/s]\u001b[A"
     ]
    },
    {
     "name": "stdout",
     "output_type": "stream",
     "text": [
      "0.08358597755432129\n",
      "0.08351898193359375\n",
      "0.08198904991149902\n"
     ]
    },
    {
     "name": "stderr",
     "output_type": "stream",
     "text": [
      "\n",
      " 62%|████████████████████████▉               | 622/1000 [00:52<00:31, 11.88it/s]\u001b[A"
     ]
    },
    {
     "name": "stdout",
     "output_type": "stream",
     "text": [
      "0.08635425567626953\n",
      "0.08207249641418457\n",
      "0.08417081832885742\n"
     ]
    },
    {
     "name": "stderr",
     "output_type": "stream",
     "text": [
      "\n",
      " 62%|████████████████████████▉               | 624/1000 [00:52<00:31, 11.88it/s]\u001b[A\n",
      " 63%|█████████████████████████               | 626/1000 [00:53<00:31, 11.90it/s]\u001b[A"
     ]
    },
    {
     "name": "stdout",
     "output_type": "stream",
     "text": [
      "0.08335447311401367\n",
      "0.08448505401611328\n",
      "0.08175539970397949\n"
     ]
    },
    {
     "name": "stderr",
     "output_type": "stream",
     "text": [
      "\n",
      " 63%|█████████████████████████               | 628/1000 [00:53<00:31, 11.86it/s]\u001b[A"
     ]
    },
    {
     "name": "stdout",
     "output_type": "stream",
     "text": [
      "0.08640408515930176\n",
      "0.0825645923614502\n",
      "0.08397102355957031\n"
     ]
    },
    {
     "name": "stderr",
     "output_type": "stream",
     "text": [
      "\n",
      " 63%|█████████████████████████▏              | 630/1000 [00:53<00:31, 11.87it/s]\u001b[A\n",
      " 63%|█████████████████████████▎              | 632/1000 [00:53<00:30, 11.90it/s]\u001b[A"
     ]
    },
    {
     "name": "stdout",
     "output_type": "stream",
     "text": [
      "0.08335089683532715\n",
      "0.08442878723144531\n",
      "0.08176660537719727\n"
     ]
    },
    {
     "name": "stderr",
     "output_type": "stream",
     "text": [
      "\n",
      " 63%|█████████████████████████▎              | 634/1000 [00:53<00:30, 11.89it/s]\u001b[A"
     ]
    },
    {
     "name": "stdout",
     "output_type": "stream",
     "text": [
      "0.08546829223632812\n",
      "0.08188247680664062\n",
      "0.08347845077514648\n"
     ]
    },
    {
     "name": "stderr",
     "output_type": "stream",
     "text": [
      "\n",
      " 64%|█████████████████████████▍              | 636/1000 [00:53<00:30, 11.88it/s]\u001b[A\n",
      " 64%|█████████████████████████▌              | 638/1000 [00:54<00:30, 11.93it/s]\u001b[A"
     ]
    },
    {
     "name": "stdout",
     "output_type": "stream",
     "text": [
      "0.08440542221069336\n",
      "0.08308768272399902\n",
      "0.08222484588623047\n"
     ]
    },
    {
     "name": "stderr",
     "output_type": "stream",
     "text": [
      "\n",
      " 64%|█████████████████████████▌              | 640/1000 [00:54<00:30, 11.91it/s]\u001b[A"
     ]
    },
    {
     "name": "stdout",
     "output_type": "stream",
     "text": [
      "0.08486366271972656\n",
      "0.08241558074951172\n",
      "0.08478593826293945\n"
     ]
    },
    {
     "name": "stderr",
     "output_type": "stream",
     "text": [
      "\n",
      " 64%|█████████████████████████▋              | 642/1000 [00:54<00:30, 11.88it/s]\u001b[A\n",
      " 64%|█████████████████████████▊              | 644/1000 [00:54<00:29, 11.92it/s]\u001b[A"
     ]
    },
    {
     "name": "stdout",
     "output_type": "stream",
     "text": [
      "0.08358979225158691\n",
      "0.08347558975219727\n",
      "0.08181309700012207\n"
     ]
    },
    {
     "name": "stderr",
     "output_type": "stream",
     "text": [
      "\n",
      " 65%|█████████████████████████▊              | 646/1000 [00:54<00:29, 11.85it/s]\u001b[A"
     ]
    },
    {
     "name": "stdout",
     "output_type": "stream",
     "text": [
      "0.08840608596801758\n",
      "0.08176517486572266\n",
      "0.0841064453125\n"
     ]
    },
    {
     "name": "stderr",
     "output_type": "stream",
     "text": [
      "\n",
      " 65%|█████████████████████████▉              | 648/1000 [00:54<00:29, 11.84it/s]\u001b[A\n",
      " 65%|██████████████████████████              | 650/1000 [00:55<00:29, 11.90it/s]\u001b[A"
     ]
    },
    {
     "name": "stdout",
     "output_type": "stream",
     "text": [
      "0.08437204360961914\n",
      "0.08329439163208008\n",
      "0.08177495002746582\n"
     ]
    },
    {
     "name": "stderr",
     "output_type": "stream",
     "text": [
      "\n",
      " 65%|██████████████████████████              | 652/1000 [00:55<00:29, 11.88it/s]\u001b[A"
     ]
    },
    {
     "name": "stdout",
     "output_type": "stream",
     "text": [
      "0.08569955825805664\n",
      "0.08247566223144531\n",
      "0.08425283432006836\n"
     ]
    },
    {
     "name": "stderr",
     "output_type": "stream",
     "text": [
      "\n",
      " 65%|██████████████████████████▏             | 654/1000 [00:55<00:29, 11.88it/s]\u001b[A\n",
      " 66%|██████████████████████████▏             | 656/1000 [00:55<00:28, 11.92it/s]\u001b[A"
     ]
    },
    {
     "name": "stdout",
     "output_type": "stream",
     "text": [
      "0.08317995071411133\n",
      "0.0840611457824707\n",
      "0.08151769638061523\n"
     ]
    },
    {
     "name": "stderr",
     "output_type": "stream",
     "text": [
      "\n",
      " 66%|██████████████████████████▎             | 658/1000 [00:55<00:28, 11.90it/s]\u001b[A"
     ]
    },
    {
     "name": "stdout",
     "output_type": "stream",
     "text": [
      "0.08574843406677246\n",
      "0.08199477195739746\n",
      "0.0840444564819336\n"
     ]
    },
    {
     "name": "stderr",
     "output_type": "stream",
     "text": [
      "\n",
      " 66%|██████████████████████████▍             | 660/1000 [00:55<00:28, 11.87it/s]\u001b[A\n",
      " 66%|██████████████████████████▍             | 662/1000 [00:56<00:28, 11.87it/s]\u001b[A"
     ]
    },
    {
     "name": "stdout",
     "output_type": "stream",
     "text": [
      "0.08440923690795898\n",
      "0.08567190170288086\n",
      "0.08174324035644531\n"
     ]
    },
    {
     "name": "stderr",
     "output_type": "stream",
     "text": [
      "\n",
      " 66%|██████████████████████████▌             | 664/1000 [00:56<00:28, 11.85it/s]\u001b[A"
     ]
    },
    {
     "name": "stdout",
     "output_type": "stream",
     "text": [
      "0.08607721328735352\n",
      "0.08251404762268066\n",
      "0.08456635475158691\n"
     ]
    },
    {
     "name": "stderr",
     "output_type": "stream",
     "text": [
      "\n",
      " 67%|██████████████████████████▋             | 666/1000 [00:56<00:28, 11.84it/s]\u001b[A\n",
      " 67%|██████████████████████████▋             | 668/1000 [00:56<00:27, 11.87it/s]\u001b[A"
     ]
    },
    {
     "name": "stdout",
     "output_type": "stream",
     "text": [
      "0.08359003067016602\n",
      "0.08431100845336914\n",
      "0.08236408233642578\n"
     ]
    },
    {
     "name": "stderr",
     "output_type": "stream",
     "text": [
      "\n",
      " 67%|██████████████████████████▊             | 670/1000 [00:56<00:27, 11.84it/s]\u001b[A"
     ]
    },
    {
     "name": "stdout",
     "output_type": "stream",
     "text": [
      "0.08614134788513184\n",
      "0.08257937431335449\n",
      "0.0841832160949707\n"
     ]
    },
    {
     "name": "stderr",
     "output_type": "stream",
     "text": [
      "\n",
      " 67%|██████████████████████████▉             | 672/1000 [00:56<00:27, 11.85it/s]\u001b[A\n",
      " 67%|██████████████████████████▉             | 674/1000 [00:57<00:27, 11.88it/s]\u001b[A"
     ]
    },
    {
     "name": "stdout",
     "output_type": "stream",
     "text": [
      "0.08348536491394043\n",
      "0.08377194404602051\n",
      "0.0825493335723877\n"
     ]
    },
    {
     "name": "stderr",
     "output_type": "stream",
     "text": [
      "\n",
      " 68%|███████████████████████████             | 676/1000 [00:57<00:27, 11.86it/s]\u001b[A"
     ]
    },
    {
     "name": "stdout",
     "output_type": "stream",
     "text": [
      "0.08576297760009766\n",
      "0.0825357437133789\n",
      "0.0857548713684082\n"
     ]
    },
    {
     "name": "stderr",
     "output_type": "stream",
     "text": [
      "\n",
      " 68%|███████████████████████████             | 678/1000 [00:57<00:27, 11.83it/s]\u001b[A\n",
      " 68%|███████████████████████████▏            | 680/1000 [00:57<00:26, 11.86it/s]\u001b[A"
     ]
    },
    {
     "name": "stdout",
     "output_type": "stream",
     "text": [
      "0.08342266082763672\n",
      "0.08434033393859863\n",
      "0.08202290534973145\n"
     ]
    },
    {
     "name": "stderr",
     "output_type": "stream",
     "text": [
      "\n",
      " 68%|███████████████████████████▎            | 682/1000 [00:57<00:26, 11.86it/s]\u001b[A"
     ]
    },
    {
     "name": "stdout",
     "output_type": "stream",
     "text": [
      "0.0860137939453125\n",
      "0.08181405067443848\n",
      "0.08367538452148438\n"
     ]
    },
    {
     "name": "stderr",
     "output_type": "stream",
     "text": [
      "\n",
      " 68%|███████████████████████████▎            | 684/1000 [00:57<00:26, 11.84it/s]\u001b[A\n",
      " 69%|███████████████████████████▍            | 686/1000 [00:58<00:26, 11.87it/s]\u001b[A"
     ]
    },
    {
     "name": "stdout",
     "output_type": "stream",
     "text": [
      "0.08470439910888672\n",
      "0.0837869644165039\n",
      "0.08289003372192383\n"
     ]
    },
    {
     "name": "stderr",
     "output_type": "stream",
     "text": [
      "\n",
      " 69%|███████████████████████████▌            | 688/1000 [00:58<00:26, 11.87it/s]\u001b[A"
     ]
    },
    {
     "name": "stdout",
     "output_type": "stream",
     "text": [
      "0.08578205108642578\n",
      "0.08165121078491211\n",
      "0.08404302597045898\n"
     ]
    },
    {
     "name": "stderr",
     "output_type": "stream",
     "text": [
      "\n",
      " 69%|███████████████████████████▌            | 690/1000 [00:58<00:26, 11.85it/s]\u001b[A\n",
      " 69%|███████████████████████████▋            | 692/1000 [00:58<00:25, 11.90it/s]\u001b[A"
     ]
    },
    {
     "name": "stdout",
     "output_type": "stream",
     "text": [
      "0.08436822891235352\n",
      "0.08324527740478516\n",
      "0.08178591728210449\n"
     ]
    },
    {
     "name": "stderr",
     "output_type": "stream",
     "text": [
      "\n",
      " 69%|███████████████████████████▊            | 694/1000 [00:58<00:25, 11.89it/s]\u001b[A"
     ]
    },
    {
     "name": "stdout",
     "output_type": "stream",
     "text": [
      "0.08582305908203125\n",
      "0.0818784236907959\n",
      "0.08399772644042969\n"
     ]
    },
    {
     "name": "stderr",
     "output_type": "stream",
     "text": [
      "\n",
      " 70%|███████████████████████████▊            | 696/1000 [00:58<00:25, 11.85it/s]\u001b[A\n",
      " 70%|███████████████████████████▉            | 698/1000 [00:59<00:25, 11.87it/s]\u001b[A"
     ]
    },
    {
     "name": "stdout",
     "output_type": "stream",
     "text": [
      "0.08498954772949219\n",
      "0.0840296745300293\n",
      "0.08275461196899414\n"
     ]
    },
    {
     "name": "stderr",
     "output_type": "stream",
     "text": [
      "\n",
      " 70%|████████████████████████████            | 700/1000 [00:59<00:25, 11.82it/s]\u001b[A"
     ]
    },
    {
     "name": "stdout",
     "output_type": "stream",
     "text": [
      "0.08794403076171875\n",
      "0.08212113380432129\n",
      "0.08381199836730957\n"
     ]
    },
    {
     "name": "stderr",
     "output_type": "stream",
     "text": [
      "\n",
      " 70%|████████████████████████████            | 702/1000 [00:59<00:25, 11.82it/s]\u001b[A\n",
      " 70%|████████████████████████████▏           | 704/1000 [00:59<00:24, 11.89it/s]\u001b[A"
     ]
    },
    {
     "name": "stdout",
     "output_type": "stream",
     "text": [
      "0.08446693420410156\n",
      "0.08313703536987305\n",
      "0.08170819282531738\n"
     ]
    },
    {
     "name": "stderr",
     "output_type": "stream",
     "text": [
      "\n",
      " 71%|████████████████████████████▏           | 706/1000 [00:59<00:24, 11.89it/s]\u001b[A"
     ]
    },
    {
     "name": "stdout",
     "output_type": "stream",
     "text": [
      "0.08521127700805664\n",
      "0.08190321922302246\n",
      "0.08435678482055664\n"
     ]
    },
    {
     "name": "stderr",
     "output_type": "stream",
     "text": [
      "\n",
      " 71%|████████████████████████████▎           | 708/1000 [00:59<00:24, 11.87it/s]\u001b[A\n",
      " 71%|████████████████████████████▍           | 710/1000 [01:00<00:24, 11.91it/s]\u001b[A"
     ]
    },
    {
     "name": "stdout",
     "output_type": "stream",
     "text": [
      "0.08365797996520996\n",
      "0.0831751823425293\n",
      "0.08232736587524414\n"
     ]
    },
    {
     "name": "stderr",
     "output_type": "stream",
     "text": [
      "\n",
      " 71%|████████████████████████████▍           | 712/1000 [01:00<00:24, 11.90it/s]\u001b[A"
     ]
    },
    {
     "name": "stdout",
     "output_type": "stream",
     "text": [
      "0.08558440208435059\n",
      "0.08194804191589355\n",
      "0.08451175689697266\n"
     ]
    },
    {
     "name": "stderr",
     "output_type": "stream",
     "text": [
      "\n",
      " 71%|████████████████████████████▌           | 714/1000 [01:00<00:24, 11.89it/s]\u001b[A\n",
      " 72%|████████████████████████████▋           | 716/1000 [01:00<00:23, 11.93it/s]\u001b[A"
     ]
    },
    {
     "name": "stdout",
     "output_type": "stream",
     "text": [
      "0.08307075500488281\n",
      "0.0834815502166748\n",
      "0.08193802833557129\n"
     ]
    },
    {
     "name": "stderr",
     "output_type": "stream",
     "text": [
      "\n",
      " 72%|████████████████████████████▋           | 718/1000 [01:00<00:23, 11.89it/s]\u001b[A"
     ]
    },
    {
     "name": "stdout",
     "output_type": "stream",
     "text": [
      "0.08662676811218262\n",
      "0.08195662498474121\n",
      "0.08453750610351562\n"
     ]
    },
    {
     "name": "stderr",
     "output_type": "stream",
     "text": [
      "\n",
      " 72%|████████████████████████████▊           | 720/1000 [01:00<00:23, 11.87it/s]\u001b[A\n",
      " 72%|████████████████████████████▉           | 722/1000 [01:01<00:23, 11.87it/s]\u001b[A"
     ]
    },
    {
     "name": "stdout",
     "output_type": "stream",
     "text": [
      "0.08363175392150879\n",
      "0.08479452133178711\n",
      "0.08251047134399414\n"
     ]
    },
    {
     "name": "stderr",
     "output_type": "stream",
     "text": [
      "\n",
      " 72%|████████████████████████████▉           | 724/1000 [01:01<00:23, 11.85it/s]\u001b[A"
     ]
    },
    {
     "name": "stdout",
     "output_type": "stream",
     "text": [
      "0.08667874336242676\n",
      "0.08181381225585938\n",
      "0.08382225036621094\n"
     ]
    },
    {
     "name": "stderr",
     "output_type": "stream",
     "text": [
      "\n",
      " 73%|█████████████████████████████           | 726/1000 [01:01<00:23, 11.85it/s]\u001b[A\n",
      " 73%|█████████████████████████████           | 728/1000 [01:01<00:22, 11.91it/s]\u001b[A"
     ]
    },
    {
     "name": "stdout",
     "output_type": "stream",
     "text": [
      "0.0836951732635498\n",
      "0.08348202705383301\n",
      "0.08188343048095703\n"
     ]
    },
    {
     "name": "stderr",
     "output_type": "stream",
     "text": [
      "\n",
      " 73%|█████████████████████████████▏          | 730/1000 [01:01<00:22, 11.88it/s]\u001b[A"
     ]
    },
    {
     "name": "stdout",
     "output_type": "stream",
     "text": [
      "0.08589816093444824\n",
      "0.08227896690368652\n",
      "0.08533954620361328\n"
     ]
    },
    {
     "name": "stderr",
     "output_type": "stream",
     "text": [
      "\n",
      " 73%|█████████████████████████████▎          | 732/1000 [01:01<00:22, 11.85it/s]\u001b[A\n",
      " 73%|█████████████████████████████▎          | 734/1000 [01:02<00:22, 11.88it/s]\u001b[A"
     ]
    },
    {
     "name": "stdout",
     "output_type": "stream",
     "text": [
      "0.0836329460144043\n",
      "0.08348679542541504\n",
      "0.08267426490783691\n"
     ]
    },
    {
     "name": "stderr",
     "output_type": "stream",
     "text": [
      "\n",
      " 74%|█████████████████████████████▍          | 736/1000 [01:02<00:22, 11.83it/s]\u001b[A"
     ]
    },
    {
     "name": "stdout",
     "output_type": "stream",
     "text": [
      "0.08788728713989258\n",
      "0.08201479911804199\n",
      "0.0846405029296875\n"
     ]
    },
    {
     "name": "stderr",
     "output_type": "stream",
     "text": [
      "\n",
      " 74%|█████████████████████████████▌          | 738/1000 [01:02<00:22, 11.83it/s]\u001b[A\n",
      " 74%|█████████████████████████████▌          | 740/1000 [01:02<00:21, 11.87it/s]\u001b[A"
     ]
    },
    {
     "name": "stdout",
     "output_type": "stream",
     "text": [
      "0.08357405662536621\n",
      "0.08401274681091309\n",
      "0.08181595802307129\n"
     ]
    },
    {
     "name": "stderr",
     "output_type": "stream",
     "text": [
      "\n",
      " 74%|█████████████████████████████▋          | 742/1000 [01:02<00:21, 11.81it/s]\u001b[A"
     ]
    },
    {
     "name": "stdout",
     "output_type": "stream",
     "text": [
      "0.08851885795593262\n",
      "0.08164048194885254\n",
      "0.0833120346069336\n"
     ]
    },
    {
     "name": "stderr",
     "output_type": "stream",
     "text": [
      "\n",
      " 74%|█████████████████████████████▊          | 744/1000 [01:02<00:21, 11.83it/s]\u001b[A\n",
      " 75%|█████████████████████████████▊          | 746/1000 [01:03<00:21, 11.88it/s]\u001b[A"
     ]
    },
    {
     "name": "stdout",
     "output_type": "stream",
     "text": [
      "0.0841681957244873\n",
      "0.08336329460144043\n",
      "0.08260560035705566\n"
     ]
    },
    {
     "name": "stderr",
     "output_type": "stream",
     "text": [
      "\n",
      " 75%|█████████████████████████████▉          | 748/1000 [01:03<00:21, 11.82it/s]\u001b[A"
     ]
    },
    {
     "name": "stdout",
     "output_type": "stream",
     "text": [
      "0.08770036697387695\n",
      "0.08224916458129883\n",
      "0.0839846134185791\n"
     ]
    },
    {
     "name": "stderr",
     "output_type": "stream",
     "text": [
      "\n",
      " 75%|██████████████████████████████          | 750/1000 [01:03<00:21, 11.84it/s]\u001b[A\n",
      " 75%|██████████████████████████████          | 752/1000 [01:03<00:20, 11.87it/s]\u001b[A"
     ]
    },
    {
     "name": "stdout",
     "output_type": "stream",
     "text": [
      "0.08349299430847168\n",
      "0.08451294898986816\n",
      "0.08172178268432617\n"
     ]
    },
    {
     "name": "stderr",
     "output_type": "stream",
     "text": [
      "\n",
      " 75%|██████████████████████████████▏         | 754/1000 [01:03<00:20, 11.86it/s]\u001b[A"
     ]
    },
    {
     "name": "stdout",
     "output_type": "stream",
     "text": [
      "0.08639311790466309\n",
      "0.08189082145690918\n",
      "0.0840463638305664\n"
     ]
    },
    {
     "name": "stderr",
     "output_type": "stream",
     "text": [
      "\n",
      " 76%|██████████████████████████████▏         | 756/1000 [01:04<00:20, 11.86it/s]\u001b[A\n",
      " 76%|██████████████████████████████▎         | 758/1000 [01:04<00:20, 11.89it/s]\u001b[A"
     ]
    },
    {
     "name": "stdout",
     "output_type": "stream",
     "text": [
      "0.08363986015319824\n",
      "0.08427143096923828\n",
      "0.08165287971496582\n"
     ]
    },
    {
     "name": "stderr",
     "output_type": "stream",
     "text": [
      "\n",
      " 76%|██████████████████████████████▍         | 760/1000 [01:04<00:20, 11.87it/s]\u001b[A"
     ]
    },
    {
     "name": "stdout",
     "output_type": "stream",
     "text": [
      "0.08616352081298828\n",
      "0.081787109375\n",
      "0.08348298072814941\n"
     ]
    },
    {
     "name": "stderr",
     "output_type": "stream",
     "text": [
      "\n",
      " 76%|██████████████████████████████▍         | 762/1000 [01:04<00:20, 11.87it/s]\u001b[A\n",
      " 76%|██████████████████████████████▌         | 764/1000 [01:04<00:19, 11.92it/s]\u001b[A"
     ]
    },
    {
     "name": "stdout",
     "output_type": "stream",
     "text": [
      "0.08446311950683594\n",
      "0.08319878578186035\n",
      "0.08172893524169922\n"
     ]
    },
    {
     "name": "stderr",
     "output_type": "stream",
     "text": [
      "\n",
      " 77%|██████████████████████████████▋         | 766/1000 [01:04<00:19, 11.91it/s]\u001b[A"
     ]
    },
    {
     "name": "stdout",
     "output_type": "stream",
     "text": [
      "0.0853877067565918\n",
      "0.0817718505859375\n",
      "0.08394312858581543\n"
     ]
    },
    {
     "name": "stderr",
     "output_type": "stream",
     "text": [
      "\n",
      " 77%|██████████████████████████████▋         | 768/1000 [01:05<00:19, 11.90it/s]\u001b[A\n",
      " 77%|██████████████████████████████▊         | 770/1000 [01:05<00:19, 11.88it/s]\u001b[A"
     ]
    },
    {
     "name": "stdout",
     "output_type": "stream",
     "text": [
      "0.0835886001586914\n",
      "0.08559441566467285\n",
      "0.0822758674621582\n"
     ]
    },
    {
     "name": "stderr",
     "output_type": "stream",
     "text": [
      "\n",
      " 77%|██████████████████████████████▉         | 772/1000 [01:05<00:19, 11.83it/s]\u001b[A"
     ]
    },
    {
     "name": "stdout",
     "output_type": "stream",
     "text": [
      "0.08704280853271484\n",
      "0.08268475532531738\n",
      "0.08417153358459473\n"
     ]
    },
    {
     "name": "stderr",
     "output_type": "stream",
     "text": [
      "\n",
      " 77%|██████████████████████████████▉         | 774/1000 [01:05<00:19, 11.83it/s]\u001b[A\n",
      " 78%|███████████████████████████████         | 776/1000 [01:05<00:18, 11.87it/s]\u001b[A"
     ]
    },
    {
     "name": "stdout",
     "output_type": "stream",
     "text": [
      "0.08386349678039551\n",
      "0.08405447006225586\n",
      "0.08180594444274902\n"
     ]
    },
    {
     "name": "stderr",
     "output_type": "stream",
     "text": [
      "\n",
      " 78%|███████████████████████████████         | 778/1000 [01:05<00:18, 11.87it/s]\u001b[A"
     ]
    },
    {
     "name": "stdout",
     "output_type": "stream",
     "text": [
      "0.08610367774963379\n",
      "0.08161115646362305\n",
      "0.08371543884277344\n"
     ]
    },
    {
     "name": "stderr",
     "output_type": "stream",
     "text": [
      "\n",
      " 78%|███████████████████████████████▏        | 780/1000 [01:06<00:18, 11.85it/s]\u001b[A\n",
      " 78%|███████████████████████████████▎        | 782/1000 [01:06<00:18, 11.91it/s]\u001b[A"
     ]
    },
    {
     "name": "stdout",
     "output_type": "stream",
     "text": [
      "0.08451509475708008\n",
      "0.08321738243103027\n",
      "0.08179879188537598\n"
     ]
    },
    {
     "name": "stderr",
     "output_type": "stream",
     "text": [
      "\n",
      " 78%|███████████████████████████████▎        | 784/1000 [01:06<00:18, 11.82it/s]\u001b[A"
     ]
    },
    {
     "name": "stdout",
     "output_type": "stream",
     "text": [
      "0.08883500099182129\n",
      "0.08219671249389648\n",
      "0.08379840850830078\n"
     ]
    },
    {
     "name": "stderr",
     "output_type": "stream",
     "text": [
      "\n",
      " 79%|███████████████████████████████▍        | 786/1000 [01:06<00:18, 11.84it/s]\u001b[A\n",
      " 79%|███████████████████████████████▌        | 788/1000 [01:06<00:17, 11.86it/s]\u001b[A"
     ]
    },
    {
     "name": "stdout",
     "output_type": "stream",
     "text": [
      "0.08335208892822266\n",
      "0.08492064476013184\n",
      "0.08206391334533691\n"
     ]
    },
    {
     "name": "stderr",
     "output_type": "stream",
     "text": [
      "\n",
      " 79%|███████████████████████████████▌        | 790/1000 [01:06<00:17, 11.85it/s]\u001b[A"
     ]
    },
    {
     "name": "stdout",
     "output_type": "stream",
     "text": [
      "0.0865633487701416\n",
      "0.08177399635314941\n",
      "0.08380436897277832\n"
     ]
    },
    {
     "name": "stderr",
     "output_type": "stream",
     "text": [
      "\n",
      " 79%|███████████████████████████████▋        | 792/1000 [01:07<00:17, 11.84it/s]\u001b[A\n",
      " 79%|███████████████████████████████▊        | 794/1000 [01:07<00:17, 11.88it/s]\u001b[A"
     ]
    },
    {
     "name": "stdout",
     "output_type": "stream",
     "text": [
      "0.08427119255065918\n",
      "0.0832376480102539\n",
      "0.08261775970458984\n"
     ]
    },
    {
     "name": "stderr",
     "output_type": "stream",
     "text": [
      "\n",
      " 80%|███████████████████████████████▊        | 796/1000 [01:07<00:17, 11.87it/s]\u001b[A"
     ]
    },
    {
     "name": "stdout",
     "output_type": "stream",
     "text": [
      "0.08621954917907715\n",
      "0.08185982704162598\n",
      "0.08387446403503418\n"
     ]
    },
    {
     "name": "stderr",
     "output_type": "stream",
     "text": [
      "\n",
      " 80%|███████████████████████████████▉        | 798/1000 [01:07<00:17, 11.88it/s]\u001b[A\n",
      " 80%|████████████████████████████████        | 800/1000 [01:07<00:16, 11.93it/s]\u001b[A"
     ]
    },
    {
     "name": "stdout",
     "output_type": "stream",
     "text": [
      "0.08328080177307129\n",
      "0.08309602737426758\n",
      "0.08180713653564453\n"
     ]
    },
    {
     "name": "stderr",
     "output_type": "stream",
     "text": [
      "\n",
      " 80%|████████████████████████████████        | 802/1000 [01:07<00:16, 11.93it/s]\u001b[A"
     ]
    },
    {
     "name": "stdout",
     "output_type": "stream",
     "text": [
      "0.08515024185180664\n",
      "0.08164048194885254\n",
      "0.08588433265686035\n"
     ]
    },
    {
     "name": "stderr",
     "output_type": "stream",
     "text": [
      "\n",
      " 80%|████████████████████████████████▏       | 804/1000 [01:08<00:16, 11.87it/s]\u001b[A\n",
      " 81%|████████████████████████████████▏       | 806/1000 [01:08<00:16, 11.89it/s]\u001b[A"
     ]
    },
    {
     "name": "stdout",
     "output_type": "stream",
     "text": [
      "0.08364176750183105\n",
      "0.08429789543151855\n",
      "0.0820608139038086\n"
     ]
    },
    {
     "name": "stderr",
     "output_type": "stream",
     "text": [
      "\n",
      " 81%|████████████████████████████████▎       | 808/1000 [01:08<00:16, 11.86it/s]\u001b[A"
     ]
    },
    {
     "name": "stdout",
     "output_type": "stream",
     "text": [
      "0.08628416061401367\n",
      "0.08231663703918457\n",
      "0.08439230918884277\n"
     ]
    },
    {
     "name": "stderr",
     "output_type": "stream",
     "text": [
      "\n",
      " 81%|████████████████████████████████▍       | 810/1000 [01:08<00:16, 11.86it/s]\u001b[A\n",
      " 81%|████████████████████████████████▍       | 812/1000 [01:08<00:15, 11.89it/s]\u001b[A"
     ]
    },
    {
     "name": "stdout",
     "output_type": "stream",
     "text": [
      "0.08352065086364746\n",
      "0.08426642417907715\n",
      "0.08194327354431152\n"
     ]
    },
    {
     "name": "stderr",
     "output_type": "stream",
     "text": [
      "\n",
      " 81%|████████████████████████████████▌       | 814/1000 [01:08<00:15, 11.87it/s]\u001b[A"
     ]
    },
    {
     "name": "stdout",
     "output_type": "stream",
     "text": [
      "0.08621883392333984\n",
      "0.08212804794311523\n",
      "0.08403706550598145\n"
     ]
    },
    {
     "name": "stderr",
     "output_type": "stream",
     "text": [
      "\n",
      " 82%|████████████████████████████████▋       | 816/1000 [01:09<00:15, 11.87it/s]\u001b[A\n",
      " 82%|████████████████████████████████▋       | 818/1000 [01:09<00:15, 11.88it/s]\u001b[A"
     ]
    },
    {
     "name": "stdout",
     "output_type": "stream",
     "text": [
      "0.0833730697631836\n",
      "0.08422303199768066\n",
      "0.08266162872314453\n"
     ]
    },
    {
     "name": "stderr",
     "output_type": "stream",
     "text": [
      "\n",
      " 82%|████████████████████████████████▊       | 820/1000 [01:09<00:15, 11.86it/s]\u001b[A"
     ]
    },
    {
     "name": "stdout",
     "output_type": "stream",
     "text": [
      "0.08552980422973633\n",
      "0.08263444900512695\n",
      "0.08545923233032227\n"
     ]
    },
    {
     "name": "stderr",
     "output_type": "stream",
     "text": [
      "\n",
      " 82%|████████████████████████████████▉       | 822/1000 [01:09<00:15, 11.81it/s]\u001b[A\n",
      " 82%|████████████████████████████████▉       | 824/1000 [01:09<00:14, 11.83it/s]\u001b[A"
     ]
    },
    {
     "name": "stdout",
     "output_type": "stream",
     "text": [
      "0.08470582962036133\n",
      "0.08579087257385254\n",
      "0.08186578750610352\n"
     ]
    },
    {
     "name": "stderr",
     "output_type": "stream",
     "text": [
      "\n",
      " 83%|█████████████████████████████████       | 826/1000 [01:09<00:14, 11.83it/s]\u001b[A"
     ]
    },
    {
     "name": "stdout",
     "output_type": "stream",
     "text": [
      "0.08610773086547852\n",
      "0.08192062377929688\n",
      "0.08408927917480469\n"
     ]
    },
    {
     "name": "stderr",
     "output_type": "stream",
     "text": [
      "\n",
      " 83%|█████████████████████████████████       | 828/1000 [01:10<00:14, 11.79it/s]\u001b[A\n",
      " 83%|█████████████████████████████████▏      | 830/1000 [01:10<00:14, 11.82it/s]\u001b[A"
     ]
    },
    {
     "name": "stdout",
     "output_type": "stream",
     "text": [
      "0.08568716049194336\n",
      "0.08457803726196289\n",
      "0.08235764503479004\n"
     ]
    },
    {
     "name": "stderr",
     "output_type": "stream",
     "text": [
      "\n",
      " 83%|█████████████████████████████████▎      | 832/1000 [01:10<00:14, 11.83it/s]\u001b[A"
     ]
    },
    {
     "name": "stdout",
     "output_type": "stream",
     "text": [
      "0.08552217483520508\n",
      "0.08220672607421875\n",
      "0.08527112007141113\n"
     ]
    },
    {
     "name": "stderr",
     "output_type": "stream",
     "text": [
      "\n",
      " 83%|█████████████████████████████████▎      | 834/1000 [01:10<00:14, 11.82it/s]\u001b[A\n",
      " 84%|█████████████████████████████████▍      | 836/1000 [01:10<00:13, 11.86it/s]\u001b[A"
     ]
    },
    {
     "name": "stdout",
     "output_type": "stream",
     "text": [
      "0.08351635932922363\n",
      "0.0842132568359375\n",
      "0.0818934440612793\n"
     ]
    },
    {
     "name": "stderr",
     "output_type": "stream",
     "text": [
      "\n",
      " 84%|█████████████████████████████████▌      | 838/1000 [01:10<00:13, 11.83it/s]\u001b[A"
     ]
    },
    {
     "name": "stdout",
     "output_type": "stream",
     "text": [
      "0.08712506294250488\n",
      "0.08187985420227051\n",
      "0.0839838981628418\n"
     ]
    },
    {
     "name": "stderr",
     "output_type": "stream",
     "text": [
      "\n",
      " 84%|█████████████████████████████████▌      | 840/1000 [01:11<00:13, 11.82it/s]\u001b[A\n",
      " 84%|█████████████████████████████████▋      | 842/1000 [01:11<00:13, 11.85it/s]\u001b[A"
     ]
    },
    {
     "name": "stdout",
     "output_type": "stream",
     "text": [
      "0.0847330093383789\n",
      "0.08384895324707031\n",
      "0.08254098892211914\n"
     ]
    },
    {
     "name": "stderr",
     "output_type": "stream",
     "text": [
      "\n",
      " 84%|█████████████████████████████████▊      | 844/1000 [01:11<00:13, 11.85it/s]\u001b[A"
     ]
    },
    {
     "name": "stdout",
     "output_type": "stream",
     "text": [
      "0.08604884147644043\n",
      "0.08201360702514648\n",
      "0.08401083946228027\n"
     ]
    },
    {
     "name": "stderr",
     "output_type": "stream",
     "text": [
      "\n",
      " 85%|█████████████████████████████████▊      | 846/1000 [01:11<00:12, 11.85it/s]\u001b[A\n",
      " 85%|█████████████████████████████████▉      | 848/1000 [01:11<00:12, 11.91it/s]\u001b[A"
     ]
    },
    {
     "name": "stdout",
     "output_type": "stream",
     "text": [
      "0.08369135856628418\n",
      "0.08327722549438477\n",
      "0.08182311058044434\n"
     ]
    },
    {
     "name": "stderr",
     "output_type": "stream",
     "text": [
      "\n",
      " 85%|██████████████████████████████████      | 850/1000 [01:11<00:12, 11.89it/s]\u001b[A"
     ]
    },
    {
     "name": "stdout",
     "output_type": "stream",
     "text": [
      "0.0859060287475586\n",
      "0.08208656311035156\n",
      "0.08525609970092773\n"
     ]
    },
    {
     "name": "stderr",
     "output_type": "stream",
     "text": [
      "\n",
      " 85%|██████████████████████████████████      | 852/1000 [01:12<00:12, 11.85it/s]\u001b[A\n",
      " 85%|██████████████████████████████████▏     | 854/1000 [01:12<00:12, 11.85it/s]\u001b[A"
     ]
    },
    {
     "name": "stdout",
     "output_type": "stream",
     "text": [
      "0.08363747596740723\n",
      "0.08584141731262207\n",
      "0.08220744132995605\n"
     ]
    },
    {
     "name": "stderr",
     "output_type": "stream",
     "text": [
      "\n",
      " 86%|██████████████████████████████████▏     | 856/1000 [01:12<00:12, 11.83it/s]\u001b[A"
     ]
    },
    {
     "name": "stdout",
     "output_type": "stream",
     "text": [
      "0.08665919303894043\n",
      "0.08201718330383301\n",
      "0.08410382270812988\n"
     ]
    },
    {
     "name": "stderr",
     "output_type": "stream",
     "text": [
      "\n",
      " 86%|██████████████████████████████████▎     | 858/1000 [01:12<00:12, 11.83it/s]\u001b[A\n",
      " 86%|██████████████████████████████████▍     | 860/1000 [01:12<00:11, 11.87it/s]\u001b[A"
     ]
    },
    {
     "name": "stdout",
     "output_type": "stream",
     "text": [
      "0.08384943008422852\n",
      "0.08390235900878906\n",
      "0.08205723762512207\n"
     ]
    },
    {
     "name": "stderr",
     "output_type": "stream",
     "text": [
      "\n",
      " 86%|██████████████████████████████████▍     | 862/1000 [01:12<00:11, 11.86it/s]\u001b[A"
     ]
    },
    {
     "name": "stdout",
     "output_type": "stream",
     "text": [
      "0.08609461784362793\n",
      "0.08178496360778809\n",
      "0.08403730392456055\n"
     ]
    },
    {
     "name": "stderr",
     "output_type": "stream",
     "text": [
      "\n",
      " 86%|██████████████████████████████████▌     | 864/1000 [01:13<00:11, 11.85it/s]\u001b[A\n",
      " 87%|██████████████████████████████████▋     | 866/1000 [01:13<00:11, 11.84it/s]\u001b[A"
     ]
    },
    {
     "name": "stdout",
     "output_type": "stream",
     "text": [
      "0.08400964736938477\n",
      "0.0847327709197998\n",
      "0.08347272872924805\n"
     ]
    },
    {
     "name": "stderr",
     "output_type": "stream",
     "text": [
      "\n",
      " 87%|██████████████████████████████████▋     | 868/1000 [01:13<00:11, 11.81it/s]\u001b[A"
     ]
    },
    {
     "name": "stdout",
     "output_type": "stream",
     "text": [
      "0.08683013916015625\n",
      "0.08245444297790527\n",
      "0.08395004272460938\n"
     ]
    },
    {
     "name": "stderr",
     "output_type": "stream",
     "text": [
      "\n",
      " 87%|██████████████████████████████████▊     | 870/1000 [01:13<00:11, 11.81it/s]\u001b[A\n",
      " 87%|██████████████████████████████████▉     | 872/1000 [01:13<00:10, 11.84it/s]\u001b[A"
     ]
    },
    {
     "name": "stdout",
     "output_type": "stream",
     "text": [
      "0.08457231521606445\n",
      "0.08421158790588379\n",
      "0.08243393898010254\n"
     ]
    },
    {
     "name": "stderr",
     "output_type": "stream",
     "text": [
      "\n",
      " 87%|██████████████████████████████████▉     | 874/1000 [01:13<00:10, 11.82it/s]\u001b[A"
     ]
    },
    {
     "name": "stdout",
     "output_type": "stream",
     "text": [
      "0.08649635314941406\n",
      "0.08234810829162598\n",
      "0.08426308631896973\n"
     ]
    },
    {
     "name": "stderr",
     "output_type": "stream",
     "text": [
      "\n",
      " 88%|███████████████████████████████████     | 876/1000 [01:14<00:10, 11.81it/s]\u001b[A\n",
      " 88%|███████████████████████████████████     | 878/1000 [01:14<00:10, 11.84it/s]\u001b[A"
     ]
    },
    {
     "name": "stdout",
     "output_type": "stream",
     "text": [
      "0.08446192741394043\n",
      "0.08381891250610352\n",
      "0.08282184600830078\n"
     ]
    },
    {
     "name": "stderr",
     "output_type": "stream",
     "text": [
      "\n",
      " 88%|███████████████████████████████████▏    | 880/1000 [01:14<00:10, 11.80it/s]\u001b[A"
     ]
    },
    {
     "name": "stdout",
     "output_type": "stream",
     "text": [
      "0.0866081714630127\n",
      "0.0831594467163086\n",
      "0.08480048179626465\n"
     ]
    },
    {
     "name": "stderr",
     "output_type": "stream",
     "text": [
      "\n",
      " 88%|███████████████████████████████████▎    | 882/1000 [01:14<00:10, 11.79it/s]\u001b[A\n",
      " 88%|███████████████████████████████████▎    | 884/1000 [01:14<00:09, 11.84it/s]\u001b[A"
     ]
    },
    {
     "name": "stdout",
     "output_type": "stream",
     "text": [
      "0.08430171012878418\n",
      "0.08450794219970703\n",
      "0.08156943321228027\n"
     ]
    },
    {
     "name": "stderr",
     "output_type": "stream",
     "text": [
      "\n",
      " 89%|███████████████████████████████████▍    | 886/1000 [01:14<00:09, 11.82it/s]\u001b[A"
     ]
    },
    {
     "name": "stdout",
     "output_type": "stream",
     "text": [
      "0.0866241455078125\n",
      "0.08202838897705078\n",
      "0.08379554748535156\n"
     ]
    },
    {
     "name": "stderr",
     "output_type": "stream",
     "text": [
      "\n",
      " 89%|███████████████████████████████████▌    | 888/1000 [01:15<00:09, 11.81it/s]\u001b[A\n",
      " 89%|███████████████████████████████████▌    | 890/1000 [01:15<00:09, 11.84it/s]\u001b[A"
     ]
    },
    {
     "name": "stdout",
     "output_type": "stream",
     "text": [
      "0.08491349220275879\n",
      "0.08423519134521484\n",
      "0.0823812484741211\n"
     ]
    },
    {
     "name": "stderr",
     "output_type": "stream",
     "text": [
      "\n",
      " 89%|███████████████████████████████████▋    | 892/1000 [01:15<00:09, 11.78it/s]\u001b[A"
     ]
    },
    {
     "name": "stdout",
     "output_type": "stream",
     "text": [
      "0.08830690383911133\n",
      "0.0823678970336914\n",
      "0.08458781242370605\n"
     ]
    },
    {
     "name": "stderr",
     "output_type": "stream",
     "text": [
      "\n",
      " 89%|███████████████████████████████████▊    | 894/1000 [01:15<00:08, 11.80it/s]\u001b[A\n",
      " 90%|███████████████████████████████████▊    | 896/1000 [01:15<00:08, 11.83it/s]\u001b[A"
     ]
    },
    {
     "name": "stdout",
     "output_type": "stream",
     "text": [
      "0.08343815803527832\n",
      "0.08508038520812988\n",
      "0.08200955390930176\n"
     ]
    },
    {
     "name": "stderr",
     "output_type": "stream",
     "text": [
      "\n",
      " 90%|███████████████████████████████████▉    | 898/1000 [01:15<00:08, 11.81it/s]\u001b[A"
     ]
    },
    {
     "name": "stdout",
     "output_type": "stream",
     "text": [
      "0.08563399314880371\n",
      "0.08351254463195801\n",
      "0.08373022079467773\n"
     ]
    },
    {
     "name": "stderr",
     "output_type": "stream",
     "text": [
      "\n",
      " 90%|████████████████████████████████████    | 900/1000 [01:16<00:08, 11.83it/s]\u001b[A\n",
      " 90%|████████████████████████████████████    | 902/1000 [01:16<00:08, 11.86it/s]\u001b[A"
     ]
    },
    {
     "name": "stdout",
     "output_type": "stream",
     "text": [
      "0.08372640609741211\n",
      "0.08480429649353027\n",
      "0.08168292045593262\n"
     ]
    },
    {
     "name": "stderr",
     "output_type": "stream",
     "text": [
      "\n",
      " 90%|████████████████████████████████████▏   | 904/1000 [01:16<00:08, 11.86it/s]\u001b[A"
     ]
    },
    {
     "name": "stdout",
     "output_type": "stream",
     "text": [
      "0.0855107307434082\n",
      "0.0819542407989502\n",
      "0.08630871772766113\n"
     ]
    },
    {
     "name": "stderr",
     "output_type": "stream",
     "text": [
      "\n",
      " 91%|████████████████████████████████████▏   | 906/1000 [01:16<00:07, 11.81it/s]\u001b[A\n",
      " 91%|████████████████████████████████████▎   | 908/1000 [01:16<00:07, 11.85it/s]\u001b[A"
     ]
    },
    {
     "name": "stdout",
     "output_type": "stream",
     "text": [
      "0.0836632251739502\n",
      "0.08487319946289062\n",
      "0.08174490928649902\n"
     ]
    },
    {
     "name": "stderr",
     "output_type": "stream",
     "text": [
      "\n",
      " 91%|████████████████████████████████████▍   | 910/1000 [01:17<00:07, 11.84it/s]\u001b[A"
     ]
    },
    {
     "name": "stdout",
     "output_type": "stream",
     "text": [
      "0.08665823936462402\n",
      "0.08170008659362793\n",
      "0.08700919151306152\n"
     ]
    },
    {
     "name": "stderr",
     "output_type": "stream",
     "text": [
      "\n",
      " 91%|████████████████████████████████████▍   | 912/1000 [01:17<00:07, 11.78it/s]\u001b[A\n",
      " 91%|████████████████████████████████████▌   | 914/1000 [01:17<00:07, 11.78it/s]\u001b[A"
     ]
    },
    {
     "name": "stdout",
     "output_type": "stream",
     "text": [
      "0.08358979225158691\n",
      "0.08638882637023926\n",
      "0.08245992660522461\n"
     ]
    },
    {
     "name": "stderr",
     "output_type": "stream",
     "text": [
      "\n",
      " 92%|████████████████████████████████████▋   | 916/1000 [01:17<00:07, 11.76it/s]\u001b[A"
     ]
    },
    {
     "name": "stdout",
     "output_type": "stream",
     "text": [
      "0.08718562126159668\n",
      "0.08268618583679199\n",
      "0.08415555953979492\n"
     ]
    },
    {
     "name": "stderr",
     "output_type": "stream",
     "text": [
      "\n",
      " 92%|████████████████████████████████████▋   | 918/1000 [01:17<00:06, 11.77it/s]\u001b[A\n",
      " 92%|████████████████████████████████████▊   | 920/1000 [01:17<00:06, 11.74it/s]\u001b[A"
     ]
    },
    {
     "name": "stdout",
     "output_type": "stream",
     "text": [
      "0.08451366424560547\n",
      "0.08495855331420898\n",
      "0.08524680137634277\n"
     ]
    },
    {
     "name": "stderr",
     "output_type": "stream",
     "text": [
      "\n",
      " 92%|████████████████████████████████████▉   | 922/1000 [01:18<00:06, 11.63it/s]\u001b[A"
     ]
    },
    {
     "name": "stdout",
     "output_type": "stream",
     "text": [
      "0.08835887908935547\n",
      "0.08647465705871582\n",
      "0.08729052543640137\n"
     ]
    },
    {
     "name": "stderr",
     "output_type": "stream",
     "text": [
      "\n",
      " 92%|████████████████████████████████████▉   | 924/1000 [01:18<00:06, 11.55it/s]\u001b[A\n",
      " 93%|█████████████████████████████████████   | 926/1000 [01:18<00:06, 11.53it/s]\u001b[A"
     ]
    },
    {
     "name": "stdout",
     "output_type": "stream",
     "text": [
      "0.08717751502990723\n",
      "0.08840417861938477\n",
      "0.08463549613952637\n"
     ]
    },
    {
     "name": "stderr",
     "output_type": "stream",
     "text": [
      "\n",
      " 93%|█████████████████████████████████████   | 928/1000 [01:18<00:06, 11.46it/s]\u001b[A"
     ]
    },
    {
     "name": "stdout",
     "output_type": "stream",
     "text": [
      "0.09028768539428711\n",
      "0.08563613891601562\n",
      "0.08843469619750977\n"
     ]
    },
    {
     "name": "stderr",
     "output_type": "stream",
     "text": [
      "\n",
      " 93%|█████████████████████████████████████▏  | 930/1000 [01:18<00:06, 11.39it/s]\u001b[A\n",
      " 93%|█████████████████████████████████████▎  | 932/1000 [01:18<00:05, 11.39it/s]\u001b[A"
     ]
    },
    {
     "name": "stdout",
     "output_type": "stream",
     "text": [
      "0.08835625648498535\n",
      "0.08823060989379883\n",
      "0.08559060096740723\n"
     ]
    },
    {
     "name": "stderr",
     "output_type": "stream",
     "text": [
      "\n",
      " 93%|█████████████████████████████████████▎  | 934/1000 [01:19<00:05, 11.38it/s]\u001b[A"
     ]
    },
    {
     "name": "stdout",
     "output_type": "stream",
     "text": [
      "0.09003615379333496\n",
      "0.08480477333068848\n",
      "0.0866551399230957\n"
     ]
    },
    {
     "name": "stderr",
     "output_type": "stream",
     "text": [
      "\n",
      " 94%|█████████████████████████████████████▍  | 936/1000 [01:19<00:05, 11.38it/s]\u001b[A\n",
      " 94%|█████████████████████████████████████▌  | 938/1000 [01:19<00:05, 11.42it/s]\u001b[A"
     ]
    },
    {
     "name": "stdout",
     "output_type": "stream",
     "text": [
      "0.08795952796936035\n",
      "0.08780217170715332\n",
      "0.08483386039733887\n"
     ]
    },
    {
     "name": "stderr",
     "output_type": "stream",
     "text": [
      "\n",
      " 94%|█████████████████████████████████████▌  | 940/1000 [01:19<00:05, 11.35it/s]\u001b[A"
     ]
    },
    {
     "name": "stdout",
     "output_type": "stream",
     "text": [
      "0.08931636810302734\n",
      "0.0881187915802002\n",
      "0.08982634544372559\n"
     ]
    },
    {
     "name": "stderr",
     "output_type": "stream",
     "text": [
      "\n",
      " 94%|█████████████████████████████████████▋  | 942/1000 [01:19<00:05, 11.30it/s]\u001b[A\n",
      " 94%|█████████████████████████████████████▊  | 944/1000 [01:19<00:04, 11.46it/s]\u001b[A"
     ]
    },
    {
     "name": "stdout",
     "output_type": "stream",
     "text": [
      "0.0875844955444336\n",
      "0.08527684211730957\n",
      "0.0823357105255127\n"
     ]
    },
    {
     "name": "stderr",
     "output_type": "stream",
     "text": [
      "\n",
      " 95%|█████████████████████████████████████▊  | 946/1000 [01:20<00:04, 11.55it/s]\u001b[A"
     ]
    },
    {
     "name": "stdout",
     "output_type": "stream",
     "text": [
      "0.08685946464538574\n",
      "0.08235573768615723\n",
      "0.08463811874389648\n"
     ]
    },
    {
     "name": "stderr",
     "output_type": "stream",
     "text": [
      "\n",
      " 95%|█████████████████████████████████████▉  | 948/1000 [01:20<00:04, 11.60it/s]\u001b[A\n",
      " 95%|██████████████████████████████████████  | 950/1000 [01:20<00:04, 11.71it/s]\u001b[A"
     ]
    },
    {
     "name": "stdout",
     "output_type": "stream",
     "text": [
      "0.08473944664001465\n",
      "0.08414864540100098\n",
      "0.0820474624633789\n"
     ]
    },
    {
     "name": "stderr",
     "output_type": "stream",
     "text": [
      "\n",
      " 95%|██████████████████████████████████████  | 952/1000 [01:20<00:04, 11.71it/s]\u001b[A"
     ]
    },
    {
     "name": "stdout",
     "output_type": "stream",
     "text": [
      "0.08620667457580566\n",
      "0.08328080177307129\n",
      "0.0841059684753418\n"
     ]
    },
    {
     "name": "stderr",
     "output_type": "stream",
     "text": [
      "\n",
      " 95%|██████████████████████████████████████▏ | 954/1000 [01:20<00:03, 11.72it/s]\u001b[A\n",
      " 96%|██████████████████████████████████████▏ | 956/1000 [01:20<00:03, 11.79it/s]\u001b[A"
     ]
    },
    {
     "name": "stdout",
     "output_type": "stream",
     "text": [
      "0.08496737480163574\n",
      "0.08391857147216797\n",
      "0.08246421813964844\n"
     ]
    },
    {
     "name": "stderr",
     "output_type": "stream",
     "text": [
      "\n",
      " 96%|██████████████████████████████████████▎ | 958/1000 [01:21<00:03, 11.76it/s]\u001b[A"
     ]
    },
    {
     "name": "stdout",
     "output_type": "stream",
     "text": [
      "0.0868675708770752\n",
      "0.08312320709228516\n",
      "0.08530259132385254\n"
     ]
    },
    {
     "name": "stderr",
     "output_type": "stream",
     "text": [
      "\n",
      " 96%|██████████████████████████████████████▍ | 960/1000 [01:21<00:03, 11.75it/s]\u001b[A\n",
      " 96%|██████████████████████████████████████▍ | 962/1000 [01:21<00:03, 11.83it/s]\u001b[A"
     ]
    },
    {
     "name": "stdout",
     "output_type": "stream",
     "text": [
      "0.08430814743041992\n",
      "0.08361625671386719\n",
      "0.08187556266784668\n"
     ]
    },
    {
     "name": "stderr",
     "output_type": "stream",
     "text": [
      "\n",
      " 96%|██████████████████████████████████████▌ | 964/1000 [01:21<00:03, 11.82it/s]\u001b[A"
     ]
    },
    {
     "name": "stdout",
     "output_type": "stream",
     "text": [
      "0.0863485336303711\n",
      "0.08208560943603516\n",
      "0.08460259437561035\n"
     ]
    },
    {
     "name": "stderr",
     "output_type": "stream",
     "text": [
      "\n",
      " 97%|██████████████████████████████████████▋ | 966/1000 [01:21<00:02, 11.83it/s]\u001b[A\n",
      " 97%|██████████████████████████████████████▋ | 968/1000 [01:21<00:02, 11.86it/s]\u001b[A"
     ]
    },
    {
     "name": "stdout",
     "output_type": "stream",
     "text": [
      "0.08341503143310547\n",
      "0.08418536186218262\n",
      "0.08208203315734863\n"
     ]
    },
    {
     "name": "stderr",
     "output_type": "stream",
     "text": [
      "\n",
      " 97%|██████████████████████████████████████▊ | 970/1000 [01:22<00:02, 11.80it/s]\u001b[A"
     ]
    },
    {
     "name": "stdout",
     "output_type": "stream",
     "text": [
      "0.08766293525695801\n",
      "0.08289504051208496\n",
      "0.08503055572509766\n"
     ]
    },
    {
     "name": "stderr",
     "output_type": "stream",
     "text": [
      "\n",
      " 97%|██████████████████████████████████████▉ | 972/1000 [01:22<00:02, 11.78it/s]\u001b[A\n",
      " 97%|██████████████████████████████████████▉ | 974/1000 [01:22<00:02, 11.82it/s]\u001b[A"
     ]
    },
    {
     "name": "stdout",
     "output_type": "stream",
     "text": [
      "0.08473587036132812\n",
      "0.08487939834594727\n",
      "0.08172774314880371\n"
     ]
    },
    {
     "name": "stderr",
     "output_type": "stream",
     "text": [
      "\n",
      " 98%|███████████████████████████████████████ | 976/1000 [01:22<00:02, 11.82it/s]\u001b[A"
     ]
    },
    {
     "name": "stdout",
     "output_type": "stream",
     "text": [
      "0.08633089065551758\n",
      "0.08217215538024902\n",
      "0.08385467529296875\n"
     ]
    },
    {
     "name": "stderr",
     "output_type": "stream",
     "text": [
      "\n",
      " 98%|███████████████████████████████████████ | 978/1000 [01:22<00:01, 11.83it/s]\u001b[A\n",
      " 98%|███████████████████████████████████████▏| 980/1000 [01:23<00:01, 11.87it/s]\u001b[A"
     ]
    },
    {
     "name": "stdout",
     "output_type": "stream",
     "text": [
      "0.08353447914123535\n",
      "0.08422327041625977\n",
      "0.08212924003601074\n"
     ]
    },
    {
     "name": "stderr",
     "output_type": "stream",
     "text": [
      "\n",
      " 98%|███████████████████████████████████████▎| 982/1000 [01:23<00:01, 11.86it/s]\u001b[A"
     ]
    },
    {
     "name": "stdout",
     "output_type": "stream",
     "text": [
      "0.08581352233886719\n",
      "0.08194446563720703\n",
      "0.08683276176452637\n"
     ]
    },
    {
     "name": "stderr",
     "output_type": "stream",
     "text": [
      "\n",
      " 98%|███████████████████████████████████████▎| 984/1000 [01:23<00:01, 11.80it/s]\u001b[A\n",
      " 99%|███████████████████████████████████████▍| 986/1000 [01:23<00:01, 11.80it/s]\u001b[A"
     ]
    },
    {
     "name": "stdout",
     "output_type": "stream",
     "text": [
      "0.0837862491607666\n",
      "0.08681035041809082\n",
      "0.08186531066894531\n"
     ]
    },
    {
     "name": "stderr",
     "output_type": "stream",
     "text": [
      "\n",
      " 99%|███████████████████████████████████████▌| 988/1000 [01:23<00:01, 11.80it/s]\u001b[A"
     ]
    },
    {
     "name": "stdout",
     "output_type": "stream",
     "text": [
      "0.08627653121948242\n",
      "0.0820772647857666\n",
      "0.08366966247558594\n"
     ]
    },
    {
     "name": "stderr",
     "output_type": "stream",
     "text": [
      "\n",
      " 99%|███████████████████████████████████████▌| 990/1000 [01:23<00:00, 11.80it/s]\u001b[A\n",
      " 99%|███████████████████████████████████████▋| 992/1000 [01:24<00:00, 11.84it/s]\u001b[A"
     ]
    },
    {
     "name": "stdout",
     "output_type": "stream",
     "text": [
      "0.08495211601257324\n",
      "0.08416199684143066\n",
      "0.08211731910705566\n"
     ]
    },
    {
     "name": "stderr",
     "output_type": "stream",
     "text": [
      "\n",
      " 99%|███████████████████████████████████████▊| 994/1000 [01:24<00:00, 11.83it/s]\u001b[A"
     ]
    },
    {
     "name": "stdout",
     "output_type": "stream",
     "text": [
      "0.08626818656921387\n",
      "0.08199429512023926\n",
      "0.08553743362426758\n"
     ]
    },
    {
     "name": "stderr",
     "output_type": "stream",
     "text": [
      "\n",
      "100%|███████████████████████████████████████▊| 996/1000 [01:24<00:00, 11.81it/s]\u001b[A\n",
      "100%|███████████████████████████████████████▉| 998/1000 [01:24<00:00, 11.86it/s]\u001b[A"
     ]
    },
    {
     "name": "stdout",
     "output_type": "stream",
     "text": [
      "0.0835576057434082\n",
      "0.08396267890930176\n",
      "0.0820167064666748\n"
     ]
    },
    {
     "name": "stderr",
     "output_type": "stream",
     "text": [
      "\n",
      "100%|███████████████████████████████████████| 1000/1000 [01:24<00:00, 11.81it/s]\u001b[A\n",
      " 20%|█████████                                    | 1/5 [01:24<05:38, 84.71s/it]"
     ]
    },
    {
     "name": "stdout",
     "output_type": "stream",
     "text": [
      "0.08612179756164551\n",
      "0.08208179473876953\n",
      "One run completed\n"
     ]
    },
    {
     "name": "stderr",
     "output_type": "stream",
     "text": [
      "\n",
      "  0%|                                                  | 0/1000 [00:00<?, ?it/s]\u001b[A"
     ]
    },
    {
     "name": "stdout",
     "output_type": "stream",
     "text": [
      "0.08477020263671875\n"
     ]
    },
    {
     "name": "stderr",
     "output_type": "stream",
     "text": [
      "\n",
      "  0%|                                          | 2/1000 [00:00<01:24, 11.83it/s]\u001b[A"
     ]
    },
    {
     "name": "stdout",
     "output_type": "stream",
     "text": [
      "0.08405327796936035\n",
      "0.08420109748840332\n"
     ]
    },
    {
     "name": "stderr",
     "output_type": "stream",
     "text": [
      "\n",
      "  0%|▏                                         | 4/1000 [00:00<01:24, 11.86it/s]\u001b[A"
     ]
    },
    {
     "name": "stdout",
     "output_type": "stream",
     "text": [
      "0.08317899703979492\n"
     ]
    },
    {
     "name": "stderr",
     "output_type": "stream",
     "text": [
      "\n",
      "  1%|▎                                         | 6/1000 [00:00<01:23, 11.86it/s]\u001b[A"
     ]
    },
    {
     "name": "stdout",
     "output_type": "stream",
     "text": [
      "0.08540940284729004\n",
      "0.08214354515075684\n",
      "0.08605003356933594\n"
     ]
    },
    {
     "name": "stderr",
     "output_type": "stream",
     "text": [
      "\n",
      "  1%|▎                                         | 8/1000 [00:00<01:23, 11.83it/s]\u001b[A"
     ]
    },
    {
     "name": "stdout",
     "output_type": "stream",
     "text": [
      "0.08289003372192383\n",
      "0.08252620697021484\n"
     ]
    },
    {
     "name": "stderr",
     "output_type": "stream",
     "text": [
      "\n",
      "  1%|▍                                        | 10/1000 [00:00<01:23, 11.86it/s]\u001b[A"
     ]
    },
    {
     "name": "stdout",
     "output_type": "stream",
     "text": [
      "0.08442330360412598\n"
     ]
    },
    {
     "name": "stderr",
     "output_type": "stream",
     "text": [
      "\n",
      "  1%|▍                                        | 12/1000 [00:01<01:23, 11.84it/s]\u001b[A"
     ]
    },
    {
     "name": "stdout",
     "output_type": "stream",
     "text": [
      "0.08664274215698242\n",
      "0.08149361610412598\n",
      "0.08561420440673828\n"
     ]
    },
    {
     "name": "stderr",
     "output_type": "stream",
     "text": [
      "\n",
      "  1%|▌                                        | 14/1000 [00:01<01:23, 11.83it/s]\u001b[A"
     ]
    },
    {
     "name": "stdout",
     "output_type": "stream",
     "text": [
      "0.08301138877868652\n",
      "0.08438396453857422\n"
     ]
    },
    {
     "name": "stderr",
     "output_type": "stream",
     "text": [
      "\n",
      "  2%|▋                                        | 16/1000 [00:01<01:23, 11.79it/s]\u001b[A"
     ]
    },
    {
     "name": "stdout",
     "output_type": "stream",
     "text": [
      "0.08540916442871094\n"
     ]
    },
    {
     "name": "stderr",
     "output_type": "stream",
     "text": [
      "\n",
      "  2%|▋                                        | 18/1000 [00:01<01:23, 11.82it/s]\u001b[A"
     ]
    },
    {
     "name": "stdout",
     "output_type": "stream",
     "text": [
      "0.08277487754821777\n",
      "0.0842428207397461\n",
      "0.08899497985839844\n"
     ]
    },
    {
     "name": "stderr",
     "output_type": "stream",
     "text": [
      "\n",
      "  2%|▊                                        | 20/1000 [00:01<01:23, 11.67it/s]\u001b[A"
     ]
    },
    {
     "name": "stdout",
     "output_type": "stream",
     "text": [
      "0.08595967292785645\n",
      "0.08449316024780273\n"
     ]
    },
    {
     "name": "stderr",
     "output_type": "stream",
     "text": [
      "\n",
      "  2%|▉                                        | 22/1000 [00:01<01:23, 11.72it/s]\u001b[A"
     ]
    },
    {
     "name": "stdout",
     "output_type": "stream",
     "text": [
      "0.08326196670532227\n"
     ]
    },
    {
     "name": "stderr",
     "output_type": "stream",
     "text": [
      "\n",
      "  2%|▉                                        | 24/1000 [00:02<01:22, 11.76it/s]\u001b[A"
     ]
    },
    {
     "name": "stdout",
     "output_type": "stream",
     "text": [
      "0.08630776405334473\n",
      "0.08147668838500977\n",
      "0.08524298667907715\n"
     ]
    },
    {
     "name": "stderr",
     "output_type": "stream",
     "text": [
      "\n",
      "  3%|█                                        | 26/1000 [00:02<01:41,  9.59it/s]\u001b[A\n",
      "  3%|█▏                                       | 28/1000 [00:02<01:35, 10.21it/s]\u001b[A"
     ]
    },
    {
     "name": "stdout",
     "output_type": "stream",
     "text": [
      "0.21108746528625488\n",
      "0.08357071876525879\n",
      "0.08171224594116211\n"
     ]
    },
    {
     "name": "stderr",
     "output_type": "stream",
     "text": [
      "\n",
      "  3%|█▏                                       | 30/1000 [00:02<01:31, 10.66it/s]\u001b[A"
     ]
    },
    {
     "name": "stdout",
     "output_type": "stream",
     "text": [
      "0.08611273765563965\n",
      "0.08165979385375977\n",
      "0.08378863334655762\n"
     ]
    },
    {
     "name": "stderr",
     "output_type": "stream",
     "text": [
      "\n",
      "  3%|█▎                                       | 32/1000 [00:02<01:28, 10.97it/s]\u001b[A\n",
      "  3%|█▍                                       | 34/1000 [00:03<01:25, 11.27it/s]\u001b[A"
     ]
    },
    {
     "name": "stdout",
     "output_type": "stream",
     "text": [
      "0.0848994255065918\n",
      "0.08328390121459961\n",
      "0.08180856704711914\n"
     ]
    },
    {
     "name": "stderr",
     "output_type": "stream",
     "text": [
      "\n",
      "  4%|█▍                                       | 36/1000 [00:03<01:24, 11.47it/s]\u001b[A"
     ]
    },
    {
     "name": "stdout",
     "output_type": "stream",
     "text": [
      "0.08467435836791992\n",
      "0.08165144920349121\n",
      "0.08437037467956543\n"
     ]
    },
    {
     "name": "stderr",
     "output_type": "stream",
     "text": [
      "\n",
      "  4%|█▌                                       | 38/1000 [00:03<01:22, 11.59it/s]\u001b[A\n",
      "  4%|█▋                                       | 40/1000 [00:03<01:21, 11.73it/s]\u001b[A"
     ]
    },
    {
     "name": "stdout",
     "output_type": "stream",
     "text": [
      "0.08272337913513184\n",
      "0.08335137367248535\n",
      "0.08166170120239258\n"
     ]
    },
    {
     "name": "stderr",
     "output_type": "stream",
     "text": [
      "\n",
      "  4%|█▋                                       | 42/1000 [00:03<01:21, 11.69it/s]\u001b[A"
     ]
    },
    {
     "name": "stdout",
     "output_type": "stream",
     "text": [
      "0.08672690391540527\n",
      "0.08469581604003906\n",
      "0.08327484130859375\n"
     ]
    },
    {
     "name": "stderr",
     "output_type": "stream",
     "text": [
      "\n",
      "  4%|█▊                                       | 44/1000 [00:03<01:21, 11.77it/s]\u001b[A\n",
      "  5%|█▉                                       | 46/1000 [00:04<01:20, 11.84it/s]\u001b[A"
     ]
    },
    {
     "name": "stdout",
     "output_type": "stream",
     "text": [
      "0.08289337158203125\n",
      "0.0835719108581543\n",
      "0.08154177665710449\n"
     ]
    },
    {
     "name": "stderr",
     "output_type": "stream",
     "text": [
      "\n",
      "  5%|█▉                                       | 48/1000 [00:04<01:20, 11.83it/s]\u001b[A"
     ]
    },
    {
     "name": "stdout",
     "output_type": "stream",
     "text": [
      "0.08669066429138184\n",
      "0.08172917366027832\n",
      "0.08397579193115234\n"
     ]
    },
    {
     "name": "stderr",
     "output_type": "stream",
     "text": [
      "\n",
      "  5%|██                                       | 50/1000 [00:04<01:20, 11.82it/s]\u001b[A\n",
      "  5%|██▏                                      | 52/1000 [00:04<01:19, 11.88it/s]\u001b[A"
     ]
    },
    {
     "name": "stdout",
     "output_type": "stream",
     "text": [
      "0.08444094657897949\n",
      "0.08327913284301758\n",
      "0.08211731910705566\n"
     ]
    },
    {
     "name": "stderr",
     "output_type": "stream",
     "text": [
      "\n",
      "  5%|██▏                                      | 54/1000 [00:04<01:20, 11.80it/s]\u001b[A"
     ]
    },
    {
     "name": "stdout",
     "output_type": "stream",
     "text": [
      "0.08957886695861816\n",
      "0.08170151710510254\n",
      "0.08409857749938965\n"
     ]
    },
    {
     "name": "stderr",
     "output_type": "stream",
     "text": [
      "\n",
      "  6%|██▎                                      | 56/1000 [00:04<01:19, 11.82it/s]\u001b[A\n",
      "  6%|██▍                                      | 58/1000 [00:05<01:19, 11.84it/s]\u001b[A"
     ]
    },
    {
     "name": "stdout",
     "output_type": "stream",
     "text": [
      "0.083343505859375\n",
      "0.08571100234985352\n",
      "0.08155226707458496\n"
     ]
    },
    {
     "name": "stderr",
     "output_type": "stream",
     "text": [
      "\n",
      "  6%|██▍                                      | 60/1000 [00:05<01:19, 11.83it/s]\u001b[A"
     ]
    },
    {
     "name": "stdout",
     "output_type": "stream",
     "text": [
      "0.08674907684326172\n",
      "0.08171534538269043\n",
      "0.08498454093933105\n"
     ]
    },
    {
     "name": "stderr",
     "output_type": "stream",
     "text": [
      "\n",
      "  6%|██▌                                      | 62/1000 [00:05<01:19, 11.83it/s]\u001b[A\n",
      "  6%|██▌                                      | 64/1000 [00:05<01:18, 11.88it/s]\u001b[A"
     ]
    },
    {
     "name": "stdout",
     "output_type": "stream",
     "text": [
      "0.0831596851348877\n",
      "0.0842447280883789\n",
      "0.0811760425567627\n"
     ]
    },
    {
     "name": "stderr",
     "output_type": "stream",
     "text": [
      "\n",
      "  7%|██▋                                      | 66/1000 [00:05<01:18, 11.86it/s]\u001b[A"
     ]
    },
    {
     "name": "stdout",
     "output_type": "stream",
     "text": [
      "0.08631563186645508\n",
      "0.08191990852355957\n",
      "0.08370757102966309\n"
     ]
    },
    {
     "name": "stderr",
     "output_type": "stream",
     "text": [
      "\n",
      "  7%|██▊                                      | 68/1000 [00:05<01:18, 11.85it/s]\u001b[A\n",
      "  7%|██▊                                      | 70/1000 [00:06<01:18, 11.90it/s]\u001b[A"
     ]
    },
    {
     "name": "stdout",
     "output_type": "stream",
     "text": [
      "0.08464503288269043\n",
      "0.08367633819580078\n",
      "0.08175468444824219\n"
     ]
    },
    {
     "name": "stderr",
     "output_type": "stream",
     "text": [
      "\n",
      "  7%|██▉                                      | 72/1000 [00:06<01:18, 11.88it/s]\u001b[A"
     ]
    },
    {
     "name": "stdout",
     "output_type": "stream",
     "text": [
      "0.08588409423828125\n",
      "0.08198189735412598\n",
      "0.08357620239257812\n"
     ]
    },
    {
     "name": "stderr",
     "output_type": "stream",
     "text": [
      "\n",
      "  7%|███                                      | 74/1000 [00:06<01:17, 11.89it/s]\u001b[A\n",
      "  8%|███                                      | 76/1000 [00:06<01:17, 11.92it/s]\u001b[A"
     ]
    },
    {
     "name": "stdout",
     "output_type": "stream",
     "text": [
      "0.08358311653137207\n",
      "0.0836482048034668\n",
      "0.0820322036743164\n"
     ]
    },
    {
     "name": "stderr",
     "output_type": "stream",
     "text": [
      "\n",
      "  8%|███▏                                     | 78/1000 [00:06<01:17, 11.91it/s]\u001b[A"
     ]
    },
    {
     "name": "stdout",
     "output_type": "stream",
     "text": [
      "0.08541989326477051\n",
      "0.08204889297485352\n",
      "0.08461189270019531\n"
     ]
    },
    {
     "name": "stderr",
     "output_type": "stream",
     "text": [
      "\n",
      "  8%|███▎                                     | 80/1000 [00:06<01:17, 11.89it/s]\u001b[A\n",
      "  8%|███▎                                     | 82/1000 [00:07<01:16, 11.94it/s]\u001b[A"
     ]
    },
    {
     "name": "stdout",
     "output_type": "stream",
     "text": [
      "0.0830082893371582\n",
      "0.08313536643981934\n",
      "0.08154916763305664\n"
     ]
    },
    {
     "name": "stderr",
     "output_type": "stream",
     "text": [
      "\n",
      "  8%|███▍                                     | 84/1000 [00:07<01:16, 11.91it/s]\u001b[A"
     ]
    },
    {
     "name": "stdout",
     "output_type": "stream",
     "text": [
      "0.0865631103515625\n",
      "0.08153867721557617\n",
      "0.08590888977050781\n"
     ]
    },
    {
     "name": "stderr",
     "output_type": "stream",
     "text": [
      "\n",
      "  9%|███▌                                     | 86/1000 [00:07<01:17, 11.86it/s]\u001b[A\n",
      "  9%|███▌                                     | 88/1000 [00:07<01:16, 11.89it/s]\u001b[A"
     ]
    },
    {
     "name": "stdout",
     "output_type": "stream",
     "text": [
      "0.08320140838623047\n",
      "0.08369779586791992\n",
      "0.08239078521728516\n"
     ]
    },
    {
     "name": "stderr",
     "output_type": "stream",
     "text": [
      "\n",
      "  9%|███▋                                     | 90/1000 [00:07<01:16, 11.88it/s]\u001b[A"
     ]
    },
    {
     "name": "stdout",
     "output_type": "stream",
     "text": [
      "0.08575892448425293\n",
      "0.08173227310180664\n",
      "0.08409905433654785\n"
     ]
    },
    {
     "name": "stderr",
     "output_type": "stream",
     "text": [
      "\n",
      "  9%|███▊                                     | 92/1000 [00:07<01:16, 11.88it/s]\u001b[A\n",
      "  9%|███▊                                     | 94/1000 [00:08<01:16, 11.91it/s]\u001b[A"
     ]
    },
    {
     "name": "stdout",
     "output_type": "stream",
     "text": [
      "0.08352804183959961\n",
      "0.08406281471252441\n",
      "0.08182573318481445\n"
     ]
    },
    {
     "name": "stderr",
     "output_type": "stream",
     "text": [
      "\n",
      " 10%|███▉                                     | 96/1000 [00:08<01:15, 11.91it/s]\u001b[A"
     ]
    },
    {
     "name": "stdout",
     "output_type": "stream",
     "text": [
      "0.0850827693939209\n",
      "0.08147478103637695\n",
      "0.08371543884277344\n"
     ]
    },
    {
     "name": "stderr",
     "output_type": "stream",
     "text": [
      "\n",
      " 10%|████                                     | 98/1000 [00:08<01:15, 11.90it/s]\u001b[A\n",
      " 10%|████                                    | 100/1000 [00:08<01:15, 11.94it/s]\u001b[A"
     ]
    },
    {
     "name": "stdout",
     "output_type": "stream",
     "text": [
      "0.08383965492248535\n",
      "0.08293819427490234\n",
      "0.08242464065551758\n"
     ]
    },
    {
     "name": "stderr",
     "output_type": "stream",
     "text": [
      "\n",
      " 10%|████                                    | 102/1000 [00:08<01:15, 11.94it/s]\u001b[A"
     ]
    },
    {
     "name": "stdout",
     "output_type": "stream",
     "text": [
      "0.08514189720153809\n",
      "0.08122539520263672\n",
      "0.08338618278503418\n"
     ]
    },
    {
     "name": "stderr",
     "output_type": "stream",
     "text": [
      "\n",
      " 10%|████▏                                   | 104/1000 [00:08<01:15, 11.92it/s]\u001b[A\n",
      " 11%|████▏                                   | 106/1000 [00:09<01:14, 11.96it/s]\u001b[A"
     ]
    },
    {
     "name": "stdout",
     "output_type": "stream",
     "text": [
      "0.08417272567749023\n",
      "0.08309006690979004\n",
      "0.08147859573364258\n"
     ]
    },
    {
     "name": "stderr",
     "output_type": "stream",
     "text": [
      "\n",
      " 11%|████▎                                   | 108/1000 [00:09<01:14, 11.97it/s]\u001b[A"
     ]
    },
    {
     "name": "stdout",
     "output_type": "stream",
     "text": [
      "0.08452630043029785\n",
      "0.08150362968444824\n",
      "0.08499455451965332\n"
     ]
    },
    {
     "name": "stderr",
     "output_type": "stream",
     "text": [
      "\n",
      " 11%|████▍                                   | 110/1000 [00:09<01:14, 11.93it/s]\u001b[A\n",
      " 11%|████▍                                   | 112/1000 [00:09<01:14, 11.95it/s]\u001b[A"
     ]
    },
    {
     "name": "stdout",
     "output_type": "stream",
     "text": [
      "0.08286857604980469\n",
      "0.08313965797424316\n",
      "0.08247685432434082\n"
     ]
    },
    {
     "name": "stderr",
     "output_type": "stream",
     "text": [
      "\n",
      " 11%|████▌                                   | 114/1000 [00:09<01:14, 11.91it/s]\u001b[A"
     ]
    },
    {
     "name": "stdout",
     "output_type": "stream",
     "text": [
      "0.08630633354187012\n",
      "0.08167695999145508\n",
      "0.08452773094177246\n"
     ]
    },
    {
     "name": "stderr",
     "output_type": "stream",
     "text": [
      "\n",
      " 12%|████▋                                   | 116/1000 [00:09<01:14, 11.90it/s]\u001b[A\n",
      " 12%|████▋                                   | 118/1000 [00:10<01:13, 11.92it/s]\u001b[A"
     ]
    },
    {
     "name": "stdout",
     "output_type": "stream",
     "text": [
      "0.08292484283447266\n",
      "0.08414793014526367\n",
      "0.08173537254333496\n"
     ]
    },
    {
     "name": "stderr",
     "output_type": "stream",
     "text": [
      "\n",
      " 12%|████▊                                   | 120/1000 [00:10<01:13, 11.89it/s]\u001b[A"
     ]
    },
    {
     "name": "stdout",
     "output_type": "stream",
     "text": [
      "0.08589529991149902\n",
      "0.08222103118896484\n",
      "0.08437895774841309\n"
     ]
    },
    {
     "name": "stderr",
     "output_type": "stream",
     "text": [
      "\n",
      " 12%|████▉                                   | 122/1000 [00:10<01:13, 11.89it/s]\u001b[A\n",
      " 12%|████▉                                   | 124/1000 [00:10<01:13, 11.91it/s]\u001b[A"
     ]
    },
    {
     "name": "stdout",
     "output_type": "stream",
     "text": [
      "0.08319091796875\n",
      "0.08388876914978027\n",
      "0.08209061622619629\n"
     ]
    },
    {
     "name": "stderr",
     "output_type": "stream",
     "text": [
      "\n",
      " 13%|█████                                   | 126/1000 [00:10<01:13, 11.90it/s]\u001b[A"
     ]
    },
    {
     "name": "stdout",
     "output_type": "stream",
     "text": [
      "0.08607268333435059\n",
      "0.08160161972045898\n",
      "0.0839376449584961\n"
     ]
    },
    {
     "name": "stderr",
     "output_type": "stream",
     "text": [
      "\n",
      " 13%|█████                                   | 128/1000 [00:10<01:13, 11.87it/s]\u001b[A\n",
      " 13%|█████▏                                  | 130/1000 [00:11<01:12, 11.92it/s]\u001b[A"
     ]
    },
    {
     "name": "stdout",
     "output_type": "stream",
     "text": [
      "0.08445477485656738\n",
      "0.08321738243103027\n",
      "0.0817568302154541\n"
     ]
    },
    {
     "name": "stderr",
     "output_type": "stream",
     "text": [
      "\n",
      " 13%|█████▎                                  | 132/1000 [00:11<01:12, 11.90it/s]\u001b[A"
     ]
    },
    {
     "name": "stdout",
     "output_type": "stream",
     "text": [
      "0.08642125129699707\n",
      "0.08147382736206055\n",
      "0.08553528785705566\n"
     ]
    },
    {
     "name": "stderr",
     "output_type": "stream",
     "text": [
      "\n",
      " 13%|█████▎                                  | 134/1000 [00:11<01:13, 11.86it/s]\u001b[A\n",
      " 14%|█████▍                                  | 136/1000 [00:11<01:12, 11.93it/s]\u001b[A"
     ]
    },
    {
     "name": "stdout",
     "output_type": "stream",
     "text": [
      "0.0833890438079834\n",
      "0.0825352668762207\n",
      "0.08180475234985352\n"
     ]
    },
    {
     "name": "stderr",
     "output_type": "stream",
     "text": [
      "\n",
      " 14%|█████▌                                  | 138/1000 [00:11<01:12, 11.88it/s]\u001b[A"
     ]
    },
    {
     "name": "stdout",
     "output_type": "stream",
     "text": [
      "0.08684420585632324\n",
      "0.08182191848754883\n",
      "0.08499956130981445\n"
     ]
    },
    {
     "name": "stderr",
     "output_type": "stream",
     "text": [
      "\n",
      " 14%|█████▌                                  | 140/1000 [00:11<01:12, 11.87it/s]\u001b[A\n",
      " 14%|█████▋                                  | 142/1000 [00:12<01:11, 11.92it/s]\u001b[A"
     ]
    },
    {
     "name": "stdout",
     "output_type": "stream",
     "text": [
      "0.08300995826721191\n",
      "0.0837087631225586\n",
      "0.08124566078186035\n"
     ]
    },
    {
     "name": "stderr",
     "output_type": "stream",
     "text": [
      "\n",
      " 14%|█████▊                                  | 144/1000 [00:12<01:11, 11.91it/s]\u001b[A"
     ]
    },
    {
     "name": "stdout",
     "output_type": "stream",
     "text": [
      "0.08574247360229492\n",
      "0.08139181137084961\n",
      "0.0837259292602539\n"
     ]
    },
    {
     "name": "stderr",
     "output_type": "stream",
     "text": [
      "\n",
      " 15%|█████▊                                  | 146/1000 [00:12<01:11, 11.89it/s]\u001b[A\n",
      " 15%|█████▉                                  | 148/1000 [00:12<01:11, 11.91it/s]\u001b[A"
     ]
    },
    {
     "name": "stdout",
     "output_type": "stream",
     "text": [
      "0.084259033203125\n",
      "0.08280825614929199\n",
      "0.08301639556884766\n"
     ]
    },
    {
     "name": "stderr",
     "output_type": "stream",
     "text": [
      "\n",
      " 15%|██████                                  | 150/1000 [00:12<01:11, 11.91it/s]\u001b[A"
     ]
    },
    {
     "name": "stdout",
     "output_type": "stream",
     "text": [
      "0.08560705184936523\n",
      "0.08146381378173828\n",
      "0.08355832099914551\n"
     ]
    },
    {
     "name": "stderr",
     "output_type": "stream",
     "text": [
      "\n",
      " 15%|██████                                  | 152/1000 [00:12<01:11, 11.89it/s]\u001b[A\n",
      " 15%|██████▏                                 | 154/1000 [00:13<01:10, 11.95it/s]\u001b[A"
     ]
    },
    {
     "name": "stdout",
     "output_type": "stream",
     "text": [
      "0.08441329002380371\n",
      "0.0831141471862793\n",
      "0.08147287368774414\n"
     ]
    },
    {
     "name": "stderr",
     "output_type": "stream",
     "text": [
      "\n",
      " 16%|██████▏                                 | 156/1000 [00:13<01:10, 11.95it/s]\u001b[A"
     ]
    },
    {
     "name": "stdout",
     "output_type": "stream",
     "text": [
      "0.08474230766296387\n",
      "0.08160138130187988\n",
      "0.08319640159606934\n"
     ]
    },
    {
     "name": "stderr",
     "output_type": "stream",
     "text": [
      "\n",
      " 16%|██████▎                                 | 158/1000 [00:13<01:10, 11.92it/s]\u001b[A\n",
      " 16%|██████▍                                 | 160/1000 [00:13<01:10, 11.92it/s]\u001b[A"
     ]
    },
    {
     "name": "stdout",
     "output_type": "stream",
     "text": [
      "0.08449006080627441\n",
      "0.08475542068481445\n",
      "0.08209395408630371\n"
     ]
    },
    {
     "name": "stderr",
     "output_type": "stream",
     "text": [
      "\n",
      " 16%|██████▍                                 | 162/1000 [00:13<01:10, 11.90it/s]\u001b[A"
     ]
    },
    {
     "name": "stdout",
     "output_type": "stream",
     "text": [
      "0.08588004112243652\n",
      "0.08177423477172852\n",
      "0.08539342880249023\n"
     ]
    },
    {
     "name": "stderr",
     "output_type": "stream",
     "text": [
      "\n",
      " 16%|██████▌                                 | 164/1000 [00:13<01:10, 11.87it/s]\u001b[A\n",
      " 17%|██████▋                                 | 166/1000 [00:14<01:10, 11.91it/s]\u001b[A"
     ]
    },
    {
     "name": "stdout",
     "output_type": "stream",
     "text": [
      "0.08302116394042969\n",
      "0.08421969413757324\n",
      "0.08143091201782227\n"
     ]
    },
    {
     "name": "stderr",
     "output_type": "stream",
     "text": [
      "\n",
      " 17%|██████▋                                 | 168/1000 [00:14<01:09, 11.90it/s]\u001b[A"
     ]
    },
    {
     "name": "stdout",
     "output_type": "stream",
     "text": [
      "0.08572244644165039\n",
      "0.08179235458374023\n",
      "0.08449053764343262\n"
     ]
    },
    {
     "name": "stderr",
     "output_type": "stream",
     "text": [
      "\n",
      " 17%|██████▊                                 | 170/1000 [00:14<01:09, 11.89it/s]\u001b[A\n",
      " 17%|██████▉                                 | 172/1000 [00:14<01:09, 11.91it/s]\u001b[A"
     ]
    },
    {
     "name": "stdout",
     "output_type": "stream",
     "text": [
      "0.08317065238952637\n",
      "0.08388614654541016\n",
      "0.08233380317687988\n"
     ]
    },
    {
     "name": "stderr",
     "output_type": "stream",
     "text": [
      "\n",
      " 17%|██████▉                                 | 174/1000 [00:14<01:09, 11.91it/s]\u001b[A"
     ]
    },
    {
     "name": "stdout",
     "output_type": "stream",
     "text": [
      "0.0853269100189209\n",
      "0.08154439926147461\n",
      "0.08408927917480469\n"
     ]
    },
    {
     "name": "stderr",
     "output_type": "stream",
     "text": [
      "\n",
      " 18%|███████                                 | 176/1000 [00:14<01:09, 11.85it/s]\u001b[A\n",
      " 18%|███████                                 | 178/1000 [00:15<01:09, 11.86it/s]\u001b[A"
     ]
    },
    {
     "name": "stdout",
     "output_type": "stream",
     "text": [
      "0.08586621284484863\n",
      "0.08610010147094727\n",
      "0.08125138282775879\n"
     ]
    },
    {
     "name": "stderr",
     "output_type": "stream",
     "text": [
      "\n",
      " 18%|███████▏                                | 180/1000 [00:15<01:09, 11.86it/s]\u001b[A"
     ]
    },
    {
     "name": "stdout",
     "output_type": "stream",
     "text": [
      "0.08578181266784668\n",
      "0.08179450035095215\n",
      "0.08493924140930176\n"
     ]
    },
    {
     "name": "stderr",
     "output_type": "stream",
     "text": [
      "\n",
      " 18%|███████▎                                | 182/1000 [00:15<01:09, 11.85it/s]\u001b[A\n",
      " 18%|███████▎                                | 184/1000 [00:15<01:08, 11.88it/s]\u001b[A"
     ]
    },
    {
     "name": "stdout",
     "output_type": "stream",
     "text": [
      "0.08324003219604492\n",
      "0.08420896530151367\n",
      "0.08232855796813965\n"
     ]
    },
    {
     "name": "stderr",
     "output_type": "stream",
     "text": [
      "\n",
      " 19%|███████▍                                | 186/1000 [00:15<01:08, 11.87it/s]\u001b[A"
     ]
    },
    {
     "name": "stdout",
     "output_type": "stream",
     "text": [
      "0.0860898494720459\n",
      "0.08138895034790039\n",
      "0.08426451683044434\n"
     ]
    },
    {
     "name": "stderr",
     "output_type": "stream",
     "text": [
      "\n",
      " 19%|███████▌                                | 188/1000 [00:15<01:08, 11.85it/s]\u001b[A\n",
      " 19%|███████▌                                | 190/1000 [00:16<01:08, 11.91it/s]\u001b[A"
     ]
    },
    {
     "name": "stdout",
     "output_type": "stream",
     "text": [
      "0.08448910713195801\n",
      "0.08348822593688965\n",
      "0.0814363956451416\n"
     ]
    },
    {
     "name": "stderr",
     "output_type": "stream",
     "text": [
      "\n",
      " 19%|███████▋                                | 192/1000 [00:16<01:07, 11.91it/s]\u001b[A"
     ]
    },
    {
     "name": "stdout",
     "output_type": "stream",
     "text": [
      "0.08526992797851562\n",
      "0.08173155784606934\n",
      "0.0836634635925293\n"
     ]
    },
    {
     "name": "stderr",
     "output_type": "stream",
     "text": [
      "\n",
      " 19%|███████▊                                | 194/1000 [00:16<01:07, 11.89it/s]\u001b[A\n",
      " 20%|███████▊                                | 196/1000 [00:16<01:07, 11.94it/s]\u001b[A"
     ]
    },
    {
     "name": "stdout",
     "output_type": "stream",
     "text": [
      "0.08429217338562012\n",
      "0.08276510238647461\n",
      "0.08230400085449219\n"
     ]
    },
    {
     "name": "stderr",
     "output_type": "stream",
     "text": [
      "\n",
      " 20%|███████▉                                | 198/1000 [00:16<01:07, 11.93it/s]\u001b[A"
     ]
    },
    {
     "name": "stdout",
     "output_type": "stream",
     "text": [
      "0.0855259895324707\n",
      "0.08149337768554688\n",
      "0.0830526351928711\n"
     ]
    },
    {
     "name": "stderr",
     "output_type": "stream",
     "text": [
      "\n",
      " 20%|████████                                | 200/1000 [00:16<01:07, 11.91it/s]\u001b[A\n",
      " 20%|████████                                | 202/1000 [00:17<01:07, 11.90it/s]\u001b[A"
     ]
    },
    {
     "name": "stdout",
     "output_type": "stream",
     "text": [
      "0.08436346054077148\n",
      "0.08581686019897461\n",
      "0.08143401145935059\n"
     ]
    },
    {
     "name": "stderr",
     "output_type": "stream",
     "text": [
      "\n",
      " 20%|████████▏                               | 204/1000 [00:17<01:07, 11.82it/s]\u001b[A"
     ]
    },
    {
     "name": "stdout",
     "output_type": "stream",
     "text": [
      "0.08939099311828613\n",
      "0.08148741722106934\n",
      "0.08401083946228027\n"
     ]
    },
    {
     "name": "stderr",
     "output_type": "stream",
     "text": [
      "\n",
      " 21%|████████▏                               | 206/1000 [00:17<01:07, 11.84it/s]\u001b[A\n",
      " 21%|████████▎                               | 208/1000 [00:17<01:06, 11.87it/s]\u001b[A"
     ]
    },
    {
     "name": "stdout",
     "output_type": "stream",
     "text": [
      "0.08322834968566895\n",
      "0.08406949043273926\n",
      "0.0823066234588623\n"
     ]
    },
    {
     "name": "stderr",
     "output_type": "stream",
     "text": [
      "\n",
      " 21%|████████▍                               | 210/1000 [00:17<01:06, 11.87it/s]\u001b[A"
     ]
    },
    {
     "name": "stdout",
     "output_type": "stream",
     "text": [
      "0.08591246604919434\n",
      "0.08161211013793945\n",
      "0.08406758308410645\n"
     ]
    },
    {
     "name": "stderr",
     "output_type": "stream",
     "text": [
      "\n",
      " 21%|████████▍                               | 212/1000 [00:17<01:06, 11.83it/s]\u001b[A\n",
      " 21%|████████▌                               | 214/1000 [00:18<01:06, 11.90it/s]\u001b[A"
     ]
    },
    {
     "name": "stdout",
     "output_type": "stream",
     "text": [
      "0.08497381210327148\n",
      "0.08323097229003906\n",
      "0.08144783973693848\n"
     ]
    },
    {
     "name": "stderr",
     "output_type": "stream",
     "text": [
      "\n",
      " 22%|████████▋                               | 216/1000 [00:18<01:05, 11.91it/s]\u001b[A"
     ]
    },
    {
     "name": "stdout",
     "output_type": "stream",
     "text": [
      "0.08535575866699219\n",
      "0.0814206600189209\n",
      "0.08353281021118164\n"
     ]
    },
    {
     "name": "stderr",
     "output_type": "stream",
     "text": [
      "\n",
      " 22%|████████▋                               | 218/1000 [00:18<01:05, 11.89it/s]\u001b[A\n",
      " 22%|████████▊                               | 220/1000 [00:18<01:05, 11.87it/s]\u001b[A"
     ]
    },
    {
     "name": "stdout",
     "output_type": "stream",
     "text": [
      "0.08457660675048828\n",
      "0.08528351783752441\n",
      "0.08251070976257324\n"
     ]
    },
    {
     "name": "stderr",
     "output_type": "stream",
     "text": [
      "\n",
      " 22%|████████▉                               | 222/1000 [00:18<01:05, 11.86it/s]\u001b[A"
     ]
    },
    {
     "name": "stdout",
     "output_type": "stream",
     "text": [
      "0.0861365795135498\n",
      "0.082275390625\n",
      "0.08443999290466309\n"
     ]
    },
    {
     "name": "stderr",
     "output_type": "stream",
     "text": [
      "\n",
      " 22%|████████▉                               | 224/1000 [00:18<01:05, 11.85it/s]\u001b[A\n",
      " 23%|█████████                               | 226/1000 [00:19<01:05, 11.90it/s]\u001b[A"
     ]
    },
    {
     "name": "stdout",
     "output_type": "stream",
     "text": [
      "0.08326363563537598\n",
      "0.08388757705688477\n",
      "0.08155679702758789\n"
     ]
    },
    {
     "name": "stderr",
     "output_type": "stream",
     "text": [
      "\n",
      " 23%|█████████                               | 228/1000 [00:19<01:04, 11.89it/s]\u001b[A"
     ]
    },
    {
     "name": "stdout",
     "output_type": "stream",
     "text": [
      "0.0857086181640625\n",
      "0.08181262016296387\n",
      "0.08366036415100098\n"
     ]
    },
    {
     "name": "stderr",
     "output_type": "stream",
     "text": [
      "\n",
      " 23%|█████████▏                              | 230/1000 [00:19<01:04, 11.87it/s]\u001b[A\n",
      " 23%|█████████▎                              | 232/1000 [00:19<01:04, 11.91it/s]\u001b[A"
     ]
    },
    {
     "name": "stdout",
     "output_type": "stream",
     "text": [
      "0.0842595100402832\n",
      "0.08368229866027832\n",
      "0.0820920467376709\n"
     ]
    },
    {
     "name": "stderr",
     "output_type": "stream",
     "text": [
      "\n",
      " 23%|█████████▎                              | 234/1000 [00:19<01:04, 11.91it/s]\u001b[A"
     ]
    },
    {
     "name": "stdout",
     "output_type": "stream",
     "text": [
      "0.08525705337524414\n",
      "0.08153605461120605\n",
      "0.08390021324157715\n"
     ]
    },
    {
     "name": "stderr",
     "output_type": "stream",
     "text": [
      "\n",
      " 24%|█████████▍                              | 236/1000 [00:19<01:04, 11.87it/s]\u001b[A\n",
      " 24%|█████████▌                              | 238/1000 [00:20<01:04, 11.90it/s]\u001b[A"
     ]
    },
    {
     "name": "stdout",
     "output_type": "stream",
     "text": [
      "0.08490753173828125\n",
      "0.0841970443725586\n",
      "0.08182477951049805\n"
     ]
    },
    {
     "name": "stderr",
     "output_type": "stream",
     "text": [
      "\n",
      " 24%|█████████▌                              | 240/1000 [00:20<01:04, 11.82it/s]\u001b[A"
     ]
    },
    {
     "name": "stdout",
     "output_type": "stream",
     "text": [
      "0.08957910537719727\n",
      "0.08147835731506348\n",
      "0.08564329147338867\n"
     ]
    },
    {
     "name": "stderr",
     "output_type": "stream",
     "text": [
      "\n",
      " 24%|█████████▋                              | 242/1000 [00:20<01:04, 11.78it/s]\u001b[A\n",
      " 24%|█████████▊                              | 244/1000 [00:20<01:04, 11.79it/s]\u001b[A"
     ]
    },
    {
     "name": "stdout",
     "output_type": "stream",
     "text": [
      "0.0843660831451416\n",
      "0.08655118942260742\n",
      "0.08176398277282715\n"
     ]
    },
    {
     "name": "stderr",
     "output_type": "stream",
     "text": [
      "\n",
      " 25%|█████████▊                              | 246/1000 [00:20<01:04, 11.78it/s]\u001b[A"
     ]
    },
    {
     "name": "stdout",
     "output_type": "stream",
     "text": [
      "0.08763933181762695\n",
      "0.08158993721008301\n",
      "0.08554291725158691\n"
     ]
    },
    {
     "name": "stderr",
     "output_type": "stream",
     "text": [
      "\n",
      " 25%|█████████▉                              | 248/1000 [00:21<01:03, 11.77it/s]\u001b[A\n",
      " 25%|██████████                              | 250/1000 [00:21<01:03, 11.83it/s]\u001b[A"
     ]
    },
    {
     "name": "stdout",
     "output_type": "stream",
     "text": [
      "0.08378863334655762\n",
      "0.08442425727844238\n",
      "0.08155989646911621\n"
     ]
    },
    {
     "name": "stderr",
     "output_type": "stream",
     "text": [
      "\n",
      " 25%|██████████                              | 252/1000 [00:21<01:03, 11.77it/s]\u001b[A"
     ]
    },
    {
     "name": "stdout",
     "output_type": "stream",
     "text": [
      "0.08930206298828125\n",
      "0.08173990249633789\n",
      "0.08486270904541016\n"
     ]
    },
    {
     "name": "stderr",
     "output_type": "stream",
     "text": [
      "\n",
      " 25%|██████████▏                             | 254/1000 [00:21<01:03, 11.78it/s]\u001b[A\n",
      " 26%|██████████▏                             | 256/1000 [00:21<01:02, 11.83it/s]\u001b[A"
     ]
    },
    {
     "name": "stdout",
     "output_type": "stream",
     "text": [
      "0.08369183540344238\n",
      "0.08449220657348633\n",
      "0.0816202163696289\n"
     ]
    },
    {
     "name": "stderr",
     "output_type": "stream",
     "text": [
      "\n",
      " 26%|██████████▎                             | 258/1000 [00:21<01:02, 11.81it/s]\u001b[A"
     ]
    },
    {
     "name": "stdout",
     "output_type": "stream",
     "text": [
      "0.08750629425048828\n",
      "0.08170819282531738\n",
      "0.08690166473388672\n"
     ]
    },
    {
     "name": "stderr",
     "output_type": "stream",
     "text": [
      "\n",
      " 26%|██████████▍                             | 260/1000 [00:22<01:03, 11.71it/s]\u001b[A\n",
      " 26%|██████████▍                             | 262/1000 [00:22<01:03, 11.65it/s]\u001b[A"
     ]
    },
    {
     "name": "stdout",
     "output_type": "stream",
     "text": [
      "0.08604025840759277\n",
      "0.09035849571228027\n",
      "0.0820930004119873\n"
     ]
    },
    {
     "name": "stderr",
     "output_type": "stream",
     "text": [
      "\n",
      " 26%|██████████▌                             | 264/1000 [00:22<01:03, 11.54it/s]\u001b[A"
     ]
    },
    {
     "name": "stdout",
     "output_type": "stream",
     "text": [
      "0.09415674209594727\n",
      "0.08203721046447754\n",
      "0.08977222442626953\n"
     ]
    },
    {
     "name": "stderr",
     "output_type": "stream",
     "text": [
      "\n",
      " 27%|██████████▋                             | 266/1000 [00:22<01:04, 11.46it/s]\u001b[A\n",
      " 27%|██████████▋                             | 268/1000 [00:22<01:04, 11.42it/s]\u001b[A"
     ]
    },
    {
     "name": "stdout",
     "output_type": "stream",
     "text": [
      "0.08678388595581055\n",
      "0.09388875961303711\n",
      "0.08169746398925781\n"
     ]
    },
    {
     "name": "stderr",
     "output_type": "stream",
     "text": [
      "\n",
      " 27%|██████████▊                             | 270/1000 [00:22<01:04, 11.36it/s]\u001b[A"
     ]
    },
    {
     "name": "stdout",
     "output_type": "stream",
     "text": [
      "0.09477996826171875\n",
      "0.0823519229888916\n",
      "0.09073972702026367\n"
     ]
    },
    {
     "name": "stderr",
     "output_type": "stream",
     "text": [
      "\n",
      " 27%|██████████▉                             | 272/1000 [00:23<01:04, 11.21it/s]\u001b[A\n",
      " 27%|██████████▉                             | 274/1000 [00:23<01:04, 11.32it/s]\u001b[A"
     ]
    },
    {
     "name": "stdout",
     "output_type": "stream",
     "text": [
      "0.09233260154724121\n",
      "0.09000492095947266\n",
      "0.08156991004943848\n"
     ]
    },
    {
     "name": "stderr",
     "output_type": "stream",
     "text": [
      "\n",
      " 28%|███████████                             | 276/1000 [00:23<01:04, 11.31it/s]\u001b[A"
     ]
    },
    {
     "name": "stdout",
     "output_type": "stream",
     "text": [
      "0.09383749961853027\n",
      "0.08202600479125977\n",
      "0.0877523422241211\n"
     ]
    },
    {
     "name": "stderr",
     "output_type": "stream",
     "text": [
      "\n",
      " 28%|███████████                             | 278/1000 [00:23<01:03, 11.38it/s]\u001b[A\n",
      " 28%|███████████▏                            | 280/1000 [00:23<01:02, 11.55it/s]\u001b[A"
     ]
    },
    {
     "name": "stdout",
     "output_type": "stream",
     "text": [
      "0.0847318172454834\n",
      "0.08433699607849121\n",
      "0.08180809020996094\n"
     ]
    },
    {
     "name": "stderr",
     "output_type": "stream",
     "text": [
      "\n",
      " 28%|███████████▎                            | 282/1000 [00:23<01:01, 11.65it/s]\u001b[A"
     ]
    },
    {
     "name": "stdout",
     "output_type": "stream",
     "text": [
      "0.08548092842102051\n",
      "0.08160829544067383\n",
      "0.0834503173828125\n"
     ]
    },
    {
     "name": "stderr",
     "output_type": "stream",
     "text": [
      "\n",
      " 28%|███████████▎                            | 284/1000 [00:24<01:01, 11.72it/s]\u001b[A\n",
      " 29%|███████████▍                            | 286/1000 [00:24<01:00, 11.81it/s]\u001b[A"
     ]
    },
    {
     "name": "stdout",
     "output_type": "stream",
     "text": [
      "0.08350372314453125\n",
      "0.08369755744934082\n",
      "0.08179950714111328\n"
     ]
    },
    {
     "name": "stderr",
     "output_type": "stream",
     "text": [
      "\n",
      " 29%|███████████▌                            | 288/1000 [00:24<01:00, 11.84it/s]\u001b[A"
     ]
    },
    {
     "name": "stdout",
     "output_type": "stream",
     "text": [
      "0.08537030220031738\n",
      "0.08158493041992188\n",
      "0.08498263359069824\n"
     ]
    },
    {
     "name": "stderr",
     "output_type": "stream",
     "text": [
      "\n",
      " 29%|███████████▌                            | 290/1000 [00:24<01:00, 11.80it/s]\u001b[A\n",
      " 29%|███████████▋                            | 292/1000 [00:24<00:59, 11.88it/s]\u001b[A"
     ]
    },
    {
     "name": "stdout",
     "output_type": "stream",
     "text": [
      "0.08468198776245117\n",
      "0.08310914039611816\n",
      "0.08181071281433105\n"
     ]
    },
    {
     "name": "stderr",
     "output_type": "stream",
     "text": [
      "\n",
      " 29%|███████████▊                            | 294/1000 [00:24<00:59, 11.83it/s]\u001b[A"
     ]
    },
    {
     "name": "stdout",
     "output_type": "stream",
     "text": [
      "0.08720731735229492\n",
      "0.08228278160095215\n",
      "0.08432936668395996\n"
     ]
    },
    {
     "name": "stderr",
     "output_type": "stream",
     "text": [
      "\n",
      " 30%|███████████▊                            | 296/1000 [00:25<00:59, 11.84it/s]\u001b[A\n",
      " 30%|███████████▉                            | 298/1000 [00:25<00:59, 11.88it/s]\u001b[A"
     ]
    },
    {
     "name": "stdout",
     "output_type": "stream",
     "text": [
      "0.08326911926269531\n",
      "0.08390569686889648\n",
      "0.08191370964050293\n"
     ]
    },
    {
     "name": "stderr",
     "output_type": "stream",
     "text": [
      "\n",
      " 30%|████████████                            | 300/1000 [00:25<00:58, 11.88it/s]\u001b[A"
     ]
    },
    {
     "name": "stdout",
     "output_type": "stream",
     "text": [
      "0.08534407615661621\n",
      "0.08172059059143066\n",
      "0.08413124084472656\n"
     ]
    },
    {
     "name": "stderr",
     "output_type": "stream",
     "text": [
      "\n",
      " 30%|████████████                            | 302/1000 [00:25<00:58, 11.87it/s]\u001b[A\n",
      " 30%|████████████▏                           | 304/1000 [00:25<00:58, 11.90it/s]\u001b[A"
     ]
    },
    {
     "name": "stdout",
     "output_type": "stream",
     "text": [
      "0.0840601921081543\n",
      "0.0840299129486084\n",
      "0.08160710334777832\n"
     ]
    },
    {
     "name": "stderr",
     "output_type": "stream",
     "text": [
      "\n",
      " 31%|████████████▏                           | 306/1000 [00:25<00:58, 11.90it/s]\u001b[A"
     ]
    },
    {
     "name": "stdout",
     "output_type": "stream",
     "text": [
      "0.08568525314331055\n",
      "0.08167028427124023\n",
      "0.0854649543762207\n"
     ]
    },
    {
     "name": "stderr",
     "output_type": "stream",
     "text": [
      "\n",
      " 31%|████████████▎                           | 308/1000 [00:26<00:58, 11.86it/s]\u001b[A\n",
      " 31%|████████████▍                           | 310/1000 [00:26<00:58, 11.86it/s]\u001b[A"
     ]
    },
    {
     "name": "stdout",
     "output_type": "stream",
     "text": [
      "0.08332085609436035\n",
      "0.08592700958251953\n",
      "0.08150577545166016\n"
     ]
    },
    {
     "name": "stderr",
     "output_type": "stream",
     "text": [
      "\n",
      " 31%|████████████▍                           | 312/1000 [00:26<00:57, 11.87it/s]\u001b[A"
     ]
    },
    {
     "name": "stdout",
     "output_type": "stream",
     "text": [
      "0.08574414253234863\n",
      "0.08167719841003418\n",
      "0.08406853675842285\n"
     ]
    },
    {
     "name": "stderr",
     "output_type": "stream",
     "text": [
      "\n",
      " 31%|████████████▌                           | 314/1000 [00:26<00:57, 11.85it/s]\u001b[A\n",
      " 32%|████████████▋                           | 316/1000 [00:26<00:57, 11.88it/s]\u001b[A"
     ]
    },
    {
     "name": "stdout",
     "output_type": "stream",
     "text": [
      "0.08442020416259766\n",
      "0.08401918411254883\n",
      "0.0820164680480957\n"
     ]
    },
    {
     "name": "stderr",
     "output_type": "stream",
     "text": [
      "\n",
      " 32%|████████████▋                           | 318/1000 [00:26<00:57, 11.87it/s]\u001b[A"
     ]
    },
    {
     "name": "stdout",
     "output_type": "stream",
     "text": [
      "0.08611726760864258\n",
      "0.08181166648864746\n",
      "0.08507776260375977\n"
     ]
    },
    {
     "name": "stderr",
     "output_type": "stream",
     "text": [
      "\n",
      " 32%|████████████▊                           | 320/1000 [00:27<00:57, 11.85it/s]\u001b[A\n",
      " 32%|████████████▉                           | 322/1000 [00:27<00:57, 11.89it/s]\u001b[A"
     ]
    },
    {
     "name": "stdout",
     "output_type": "stream",
     "text": [
      "0.08339452743530273\n",
      "0.08427810668945312\n",
      "0.08169031143188477\n"
     ]
    },
    {
     "name": "stderr",
     "output_type": "stream",
     "text": [
      "\n",
      " 32%|████████████▉                           | 324/1000 [00:27<00:56, 11.87it/s]\u001b[A"
     ]
    },
    {
     "name": "stdout",
     "output_type": "stream",
     "text": [
      "0.08625173568725586\n",
      "0.08173751831054688\n",
      "0.08574628829956055\n"
     ]
    },
    {
     "name": "stderr",
     "output_type": "stream",
     "text": [
      "\n",
      " 33%|█████████████                           | 326/1000 [00:27<00:57, 11.82it/s]\u001b[A\n",
      " 33%|█████████████                           | 328/1000 [00:27<00:56, 11.88it/s]\u001b[A"
     ]
    },
    {
     "name": "stdout",
     "output_type": "stream",
     "text": [
      "0.08429074287414551\n",
      "0.08363747596740723\n",
      "0.08187723159790039\n"
     ]
    },
    {
     "name": "stderr",
     "output_type": "stream",
     "text": [
      "\n",
      " 33%|█████████████▏                          | 330/1000 [00:27<00:56, 11.84it/s]\u001b[A"
     ]
    },
    {
     "name": "stdout",
     "output_type": "stream",
     "text": [
      "0.08737707138061523\n",
      "0.08154511451721191\n",
      "0.08432340621948242\n"
     ]
    },
    {
     "name": "stderr",
     "output_type": "stream",
     "text": [
      "\n",
      " 33%|█████████████▎                          | 332/1000 [00:28<00:56, 11.82it/s]\u001b[A\n",
      " 33%|█████████████▎                          | 334/1000 [00:28<00:56, 11.87it/s]\u001b[A"
     ]
    },
    {
     "name": "stdout",
     "output_type": "stream",
     "text": [
      "0.08467674255371094\n",
      "0.08390617370605469\n",
      "0.08187317848205566\n"
     ]
    },
    {
     "name": "stderr",
     "output_type": "stream",
     "text": [
      "\n",
      " 34%|█████████████▍                          | 336/1000 [00:28<00:55, 11.86it/s]\u001b[A"
     ]
    },
    {
     "name": "stdout",
     "output_type": "stream",
     "text": [
      "0.08594441413879395\n",
      "0.08205699920654297\n",
      "0.08457303047180176\n"
     ]
    },
    {
     "name": "stderr",
     "output_type": "stream",
     "text": [
      "\n",
      " 34%|█████████████▌                          | 338/1000 [00:28<00:55, 11.84it/s]\u001b[A\n",
      " 34%|█████████████▌                          | 340/1000 [00:28<00:55, 11.85it/s]\u001b[A"
     ]
    },
    {
     "name": "stdout",
     "output_type": "stream",
     "text": [
      "0.08391642570495605\n",
      "0.08530354499816895\n",
      "0.08214259147644043\n"
     ]
    },
    {
     "name": "stderr",
     "output_type": "stream",
     "text": [
      "\n",
      " 34%|█████████████▋                          | 342/1000 [00:29<00:55, 11.84it/s]\u001b[A"
     ]
    },
    {
     "name": "stdout",
     "output_type": "stream",
     "text": [
      "0.08625078201293945\n",
      "0.08179664611816406\n",
      "0.0850827693939209\n"
     ]
    },
    {
     "name": "stderr",
     "output_type": "stream",
     "text": [
      "\n",
      " 34%|█████████████▊                          | 344/1000 [00:29<00:55, 11.82it/s]\u001b[A\n",
      " 35%|█████████████▊                          | 346/1000 [00:29<00:55, 11.87it/s]\u001b[A"
     ]
    },
    {
     "name": "stdout",
     "output_type": "stream",
     "text": [
      "0.08381295204162598\n",
      "0.0843651294708252\n",
      "0.0816183090209961\n"
     ]
    },
    {
     "name": "stderr",
     "output_type": "stream",
     "text": [
      "\n",
      " 35%|█████████████▉                          | 348/1000 [00:29<00:54, 11.87it/s]\u001b[A"
     ]
    },
    {
     "name": "stdout",
     "output_type": "stream",
     "text": [
      "0.08579111099243164\n",
      "0.08173346519470215\n",
      "0.08490753173828125\n"
     ]
    },
    {
     "name": "stderr",
     "output_type": "stream",
     "text": [
      "\n",
      " 35%|██████████████                          | 350/1000 [00:29<00:54, 11.86it/s]\u001b[A\n",
      " 35%|██████████████                          | 352/1000 [00:29<00:54, 11.89it/s]\u001b[A"
     ]
    },
    {
     "name": "stdout",
     "output_type": "stream",
     "text": [
      "0.08311247825622559\n",
      "0.08402466773986816\n",
      "0.08203268051147461\n"
     ]
    },
    {
     "name": "stderr",
     "output_type": "stream",
     "text": [
      "\n",
      " 35%|██████████████▏                         | 354/1000 [00:30<00:54, 11.88it/s]\u001b[A"
     ]
    },
    {
     "name": "stdout",
     "output_type": "stream",
     "text": [
      "0.08548092842102051\n",
      "0.08212852478027344\n",
      "0.0876016616821289\n"
     ]
    },
    {
     "name": "stderr",
     "output_type": "stream",
     "text": [
      "\n",
      " 36%|██████████████▏                         | 356/1000 [00:30<00:54, 11.80it/s]\u001b[A\n",
      " 36%|██████████████▎                         | 358/1000 [00:30<00:54, 11.87it/s]\u001b[A"
     ]
    },
    {
     "name": "stdout",
     "output_type": "stream",
     "text": [
      "0.08341670036315918\n",
      "0.0833899974822998\n",
      "0.08178257942199707\n"
     ]
    },
    {
     "name": "stderr",
     "output_type": "stream",
     "text": [
      "\n",
      " 36%|██████████████▍                         | 360/1000 [00:30<00:54, 11.84it/s]\u001b[A"
     ]
    },
    {
     "name": "stdout",
     "output_type": "stream",
     "text": [
      "0.08756756782531738\n",
      "0.08168411254882812\n",
      "0.08514118194580078\n"
     ]
    },
    {
     "name": "stderr",
     "output_type": "stream",
     "text": [
      "\n",
      " 36%|██████████████▍                         | 362/1000 [00:30<00:53, 11.83it/s]\u001b[A\n",
      " 36%|██████████████▌                         | 364/1000 [00:30<00:53, 11.87it/s]\u001b[A"
     ]
    },
    {
     "name": "stdout",
     "output_type": "stream",
     "text": [
      "0.08328056335449219\n",
      "0.08421945571899414\n",
      "0.08198046684265137\n"
     ]
    },
    {
     "name": "stderr",
     "output_type": "stream",
     "text": [
      "\n",
      " 37%|██████████████▋                         | 366/1000 [00:31<00:53, 11.84it/s]\u001b[A"
     ]
    },
    {
     "name": "stdout",
     "output_type": "stream",
     "text": [
      "0.08652997016906738\n",
      "0.08203506469726562\n",
      "0.08432507514953613\n"
     ]
    },
    {
     "name": "stderr",
     "output_type": "stream",
     "text": [
      "\n",
      " 37%|██████████████▋                         | 368/1000 [00:31<00:53, 11.84it/s]\u001b[A\n",
      " 37%|██████████████▊                         | 370/1000 [00:31<00:53, 11.88it/s]\u001b[A"
     ]
    },
    {
     "name": "stdout",
     "output_type": "stream",
     "text": [
      "0.08349466323852539\n",
      "0.08402585983276367\n",
      "0.08185148239135742\n"
     ]
    },
    {
     "name": "stderr",
     "output_type": "stream",
     "text": [
      "\n",
      " 37%|██████████████▉                         | 372/1000 [00:31<00:52, 11.87it/s]\u001b[A"
     ]
    },
    {
     "name": "stdout",
     "output_type": "stream",
     "text": [
      "0.0854802131652832\n",
      "0.08230161666870117\n",
      "0.08565521240234375\n"
     ]
    },
    {
     "name": "stderr",
     "output_type": "stream",
     "text": [
      "\n",
      " 37%|██████████████▉                         | 374/1000 [00:31<00:52, 11.84it/s]\u001b[A\n",
      " 38%|███████████████                         | 376/1000 [00:31<00:52, 11.88it/s]\u001b[A"
     ]
    },
    {
     "name": "stdout",
     "output_type": "stream",
     "text": [
      "0.08327221870422363\n",
      "0.0835263729095459\n",
      "0.08243656158447266\n"
     ]
    },
    {
     "name": "stderr",
     "output_type": "stream",
     "text": [
      "\n",
      " 38%|███████████████                         | 378/1000 [00:32<00:52, 11.85it/s]\u001b[A"
     ]
    },
    {
     "name": "stdout",
     "output_type": "stream",
     "text": [
      "0.08709955215454102\n",
      "0.08160948753356934\n",
      "0.08441638946533203\n"
     ]
    },
    {
     "name": "stderr",
     "output_type": "stream",
     "text": [
      "\n",
      " 38%|███████████████▏                        | 380/1000 [00:32<00:52, 11.84it/s]\u001b[A\n",
      " 38%|███████████████▎                        | 382/1000 [00:32<00:52, 11.85it/s]\u001b[A"
     ]
    },
    {
     "name": "stdout",
     "output_type": "stream",
     "text": [
      "0.08380627632141113\n",
      "0.08521413803100586\n",
      "0.08192038536071777\n"
     ]
    },
    {
     "name": "stderr",
     "output_type": "stream",
     "text": [
      "\n",
      " 38%|███████████████▎                        | 384/1000 [00:32<00:51, 11.86it/s]\u001b[A"
     ]
    },
    {
     "name": "stdout",
     "output_type": "stream",
     "text": [
      "0.08522391319274902\n",
      "0.08194303512573242\n",
      "0.08530902862548828\n"
     ]
    },
    {
     "name": "stderr",
     "output_type": "stream",
     "text": [
      "\n",
      " 39%|███████████████▍                        | 386/1000 [00:32<00:51, 11.83it/s]\u001b[A\n",
      " 39%|███████████████▌                        | 388/1000 [00:32<00:51, 11.88it/s]\u001b[A"
     ]
    },
    {
     "name": "stdout",
     "output_type": "stream",
     "text": [
      "0.08377695083618164\n",
      "0.08359098434448242\n",
      "0.08219456672668457\n"
     ]
    },
    {
     "name": "stderr",
     "output_type": "stream",
     "text": [
      "\n",
      " 39%|███████████████▌                        | 390/1000 [00:33<00:51, 11.86it/s]\u001b[A"
     ]
    },
    {
     "name": "stdout",
     "output_type": "stream",
     "text": [
      "0.08626937866210938\n",
      "0.08193230628967285\n",
      "0.0844109058380127\n"
     ]
    },
    {
     "name": "stderr",
     "output_type": "stream",
     "text": [
      "\n",
      " 39%|███████████████▋                        | 392/1000 [00:33<00:51, 11.85it/s]\u001b[A\n",
      " 39%|███████████████▊                        | 394/1000 [00:33<00:50, 11.90it/s]\u001b[A"
     ]
    },
    {
     "name": "stdout",
     "output_type": "stream",
     "text": [
      "0.08362555503845215\n",
      "0.08363056182861328\n",
      "0.08181142807006836\n"
     ]
    },
    {
     "name": "stderr",
     "output_type": "stream",
     "text": [
      "\n",
      " 40%|███████████████▊                        | 396/1000 [00:33<00:50, 11.85it/s]\u001b[A"
     ]
    },
    {
     "name": "stdout",
     "output_type": "stream",
     "text": [
      "0.08758020401000977\n",
      "0.08180379867553711\n",
      "0.0851283073425293\n"
     ]
    },
    {
     "name": "stderr",
     "output_type": "stream",
     "text": [
      "\n",
      " 40%|███████████████▉                        | 398/1000 [00:33<00:50, 11.83it/s]\u001b[A\n",
      " 40%|████████████████                        | 400/1000 [00:33<00:50, 11.86it/s]\u001b[A"
     ]
    },
    {
     "name": "stdout",
     "output_type": "stream",
     "text": [
      "0.08355998992919922\n",
      "0.08475995063781738\n",
      "0.08185720443725586\n"
     ]
    },
    {
     "name": "stderr",
     "output_type": "stream",
     "text": [
      "\n",
      " 40%|████████████████                        | 402/1000 [00:34<00:50, 11.84it/s]\u001b[A"
     ]
    },
    {
     "name": "stdout",
     "output_type": "stream",
     "text": [
      "0.08660459518432617\n",
      "0.08192896842956543\n",
      "0.08404421806335449\n"
     ]
    },
    {
     "name": "stderr",
     "output_type": "stream",
     "text": [
      "\n",
      " 40%|████████████████▏                       | 404/1000 [00:34<00:50, 11.84it/s]\u001b[A\n",
      " 41%|████████████████▏                       | 406/1000 [00:34<00:49, 11.89it/s]\u001b[A"
     ]
    },
    {
     "name": "stdout",
     "output_type": "stream",
     "text": [
      "0.08386063575744629\n",
      "0.08384251594543457\n",
      "0.08178353309631348\n"
     ]
    },
    {
     "name": "stderr",
     "output_type": "stream",
     "text": [
      "\n",
      " 41%|████████████████▎                       | 408/1000 [00:34<00:50, 11.84it/s]\u001b[A"
     ]
    },
    {
     "name": "stdout",
     "output_type": "stream",
     "text": [
      "0.08775138854980469\n",
      "0.08177566528320312\n",
      "0.08617138862609863\n"
     ]
    },
    {
     "name": "stderr",
     "output_type": "stream",
     "text": [
      "\n",
      " 41%|████████████████▍                       | 410/1000 [00:34<00:50, 11.79it/s]\u001b[A\n",
      " 41%|████████████████▍                       | 412/1000 [00:34<00:49, 11.84it/s]\u001b[A"
     ]
    },
    {
     "name": "stdout",
     "output_type": "stream",
     "text": [
      "0.08394026756286621\n",
      "0.08472919464111328\n",
      "0.081512451171875\n"
     ]
    },
    {
     "name": "stderr",
     "output_type": "stream",
     "text": [
      "\n",
      " 41%|████████████████▌                       | 414/1000 [00:35<00:49, 11.84it/s]\u001b[A"
     ]
    },
    {
     "name": "stdout",
     "output_type": "stream",
     "text": [
      "0.08593225479125977\n",
      "0.08190131187438965\n",
      "0.08428287506103516\n"
     ]
    },
    {
     "name": "stderr",
     "output_type": "stream",
     "text": [
      "\n",
      " 42%|████████████████▋                       | 416/1000 [00:35<00:49, 11.84it/s]\u001b[A\n",
      " 42%|████████████████▋                       | 418/1000 [00:35<00:48, 11.89it/s]\u001b[A"
     ]
    },
    {
     "name": "stdout",
     "output_type": "stream",
     "text": [
      "0.0833740234375\n",
      "0.08353900909423828\n",
      "0.08190298080444336\n"
     ]
    },
    {
     "name": "stderr",
     "output_type": "stream",
     "text": [
      "\n",
      " 42%|████████████████▊                       | 420/1000 [00:35<00:48, 11.86it/s]\u001b[A"
     ]
    },
    {
     "name": "stdout",
     "output_type": "stream",
     "text": [
      "0.08637022972106934\n",
      "0.08221960067749023\n",
      "0.08597922325134277\n"
     ]
    },
    {
     "name": "stderr",
     "output_type": "stream",
     "text": [
      "\n",
      " 42%|████████████████▉                       | 422/1000 [00:35<00:48, 11.82it/s]\u001b[A\n",
      " 42%|████████████████▉                       | 424/1000 [00:35<00:48, 11.84it/s]\u001b[A"
     ]
    },
    {
     "name": "stdout",
     "output_type": "stream",
     "text": [
      "0.08382034301757812\n",
      "0.08540010452270508\n",
      "0.081787109375\n"
     ]
    },
    {
     "name": "stderr",
     "output_type": "stream",
     "text": [
      "\n",
      " 43%|█████████████████                       | 426/1000 [00:36<00:48, 11.83it/s]\u001b[A"
     ]
    },
    {
     "name": "stdout",
     "output_type": "stream",
     "text": [
      "0.08667302131652832\n",
      "0.08153605461120605\n",
      "0.08458304405212402\n"
     ]
    },
    {
     "name": "stderr",
     "output_type": "stream",
     "text": [
      "\n",
      " 43%|█████████████████                       | 428/1000 [00:36<00:48, 11.83it/s]\u001b[A\n",
      " 43%|█████████████████▏                      | 430/1000 [00:36<00:48, 11.87it/s]\u001b[A"
     ]
    },
    {
     "name": "stdout",
     "output_type": "stream",
     "text": [
      "0.08339285850524902\n",
      "0.08411026000976562\n",
      "0.08210992813110352\n"
     ]
    },
    {
     "name": "stderr",
     "output_type": "stream",
     "text": [
      "\n",
      " 43%|█████████████████▎                      | 432/1000 [00:36<00:47, 11.84it/s]\u001b[A"
     ]
    },
    {
     "name": "stdout",
     "output_type": "stream",
     "text": [
      "0.08624911308288574\n",
      "0.08257865905761719\n",
      "0.08463358879089355\n"
     ]
    },
    {
     "name": "stderr",
     "output_type": "stream",
     "text": [
      "\n",
      " 43%|█████████████████▎                      | 434/1000 [00:36<00:47, 11.83it/s]\u001b[A\n",
      " 44%|█████████████████▍                      | 436/1000 [00:36<00:47, 11.88it/s]\u001b[A"
     ]
    },
    {
     "name": "stdout",
     "output_type": "stream",
     "text": [
      "0.08357977867126465\n",
      "0.08371114730834961\n",
      "0.08174657821655273\n"
     ]
    },
    {
     "name": "stderr",
     "output_type": "stream",
     "text": [
      "\n",
      " 44%|█████████████████▌                      | 438/1000 [00:37<00:47, 11.78it/s]\u001b[A"
     ]
    },
    {
     "name": "stdout",
     "output_type": "stream",
     "text": [
      "0.0900123119354248\n",
      "0.08214402198791504\n",
      "0.08468961715698242\n"
     ]
    },
    {
     "name": "stderr",
     "output_type": "stream",
     "text": [
      "\n",
      " 44%|█████████████████▌                      | 440/1000 [00:37<00:47, 11.78it/s]\u001b[A\n",
      " 44%|█████████████████▋                      | 442/1000 [00:37<00:47, 11.84it/s]\u001b[A"
     ]
    },
    {
     "name": "stdout",
     "output_type": "stream",
     "text": [
      "0.0837404727935791\n",
      "0.08437204360961914\n",
      "0.08159017562866211\n"
     ]
    },
    {
     "name": "stderr",
     "output_type": "stream",
     "text": [
      "\n",
      " 44%|█████████████████▊                      | 444/1000 [00:37<00:47, 11.82it/s]\u001b[A"
     ]
    },
    {
     "name": "stdout",
     "output_type": "stream",
     "text": [
      "0.08609414100646973\n",
      "0.08283710479736328\n",
      "0.08382606506347656\n"
     ]
    },
    {
     "name": "stderr",
     "output_type": "stream",
     "text": [
      "\n",
      " 45%|█████████████████▊                      | 446/1000 [00:37<00:46, 11.84it/s]\u001b[A\n",
      " 45%|█████████████████▉                      | 448/1000 [00:37<00:46, 11.88it/s]\u001b[A"
     ]
    },
    {
     "name": "stdout",
     "output_type": "stream",
     "text": [
      "0.08333563804626465\n",
      "0.08381986618041992\n",
      "0.0821690559387207\n"
     ]
    },
    {
     "name": "stderr",
     "output_type": "stream",
     "text": [
      "\n",
      " 45%|██████████████████                      | 450/1000 [00:38<00:46, 11.87it/s]\u001b[A"
     ]
    },
    {
     "name": "stdout",
     "output_type": "stream",
     "text": [
      "0.08565092086791992\n",
      "0.0821223258972168\n",
      "0.08404278755187988\n"
     ]
    },
    {
     "name": "stderr",
     "output_type": "stream",
     "text": [
      "\n",
      " 45%|██████████████████                      | 452/1000 [00:38<00:46, 11.87it/s]\u001b[A\n",
      " 45%|██████████████████▏                     | 454/1000 [00:38<00:45, 11.92it/s]\u001b[A"
     ]
    },
    {
     "name": "stdout",
     "output_type": "stream",
     "text": [
      "0.08325982093811035\n",
      "0.08354616165161133\n",
      "0.08188080787658691\n"
     ]
    },
    {
     "name": "stderr",
     "output_type": "stream",
     "text": [
      "\n",
      " 46%|██████████████████▏                     | 456/1000 [00:38<00:45, 11.86it/s]\u001b[A"
     ]
    },
    {
     "name": "stdout",
     "output_type": "stream",
     "text": [
      "0.08698391914367676\n",
      "0.08250594139099121\n",
      "0.08447027206420898\n"
     ]
    },
    {
     "name": "stderr",
     "output_type": "stream",
     "text": [
      "\n",
      " 46%|██████████████████▎                     | 458/1000 [00:38<00:45, 11.85it/s]\u001b[A\n",
      " 46%|██████████████████▍                     | 460/1000 [00:38<00:45, 11.87it/s]\u001b[A"
     ]
    },
    {
     "name": "stdout",
     "output_type": "stream",
     "text": [
      "0.0837087631225586\n",
      "0.08432292938232422\n",
      "0.08204436302185059\n"
     ]
    },
    {
     "name": "stderr",
     "output_type": "stream",
     "text": [
      "\n",
      " 46%|██████████████████▍                     | 462/1000 [00:39<00:45, 11.85it/s]\u001b[A"
     ]
    },
    {
     "name": "stdout",
     "output_type": "stream",
     "text": [
      "0.08669590950012207\n",
      "0.08189058303833008\n",
      "0.08446264266967773\n"
     ]
    },
    {
     "name": "stderr",
     "output_type": "stream",
     "text": [
      "\n",
      " 46%|██████████████████▌                     | 464/1000 [00:39<00:45, 11.84it/s]\u001b[A\n",
      " 47%|██████████████████▋                     | 466/1000 [00:39<00:44, 11.88it/s]\u001b[A"
     ]
    },
    {
     "name": "stdout",
     "output_type": "stream",
     "text": [
      "0.08355474472045898\n",
      "0.08430600166320801\n",
      "0.08193182945251465\n"
     ]
    },
    {
     "name": "stderr",
     "output_type": "stream",
     "text": [
      "\n",
      " 47%|██████████████████▋                     | 468/1000 [00:39<00:45, 11.81it/s]\u001b[A"
     ]
    },
    {
     "name": "stdout",
     "output_type": "stream",
     "text": [
      "0.08749771118164062\n",
      "0.08274316787719727\n",
      "0.08642363548278809\n"
     ]
    },
    {
     "name": "stderr",
     "output_type": "stream",
     "text": [
      "\n",
      " 47%|██████████████████▊                     | 470/1000 [00:39<00:45, 11.76it/s]\u001b[A\n",
      " 47%|██████████████████▉                     | 472/1000 [00:39<00:44, 11.82it/s]\u001b[A"
     ]
    },
    {
     "name": "stdout",
     "output_type": "stream",
     "text": [
      "0.08426094055175781\n",
      "0.08466577529907227\n",
      "0.08175444602966309\n"
     ]
    },
    {
     "name": "stderr",
     "output_type": "stream",
     "text": [
      "\n",
      " 47%|██████████████████▉                     | 474/1000 [00:40<00:44, 11.81it/s]\u001b[A"
     ]
    },
    {
     "name": "stdout",
     "output_type": "stream",
     "text": [
      "0.08619046211242676\n",
      "0.08233046531677246\n",
      "0.08489298820495605\n"
     ]
    },
    {
     "name": "stderr",
     "output_type": "stream",
     "text": [
      "\n",
      " 48%|███████████████████                     | 476/1000 [00:40<00:44, 11.80it/s]\u001b[A\n",
      " 48%|███████████████████                     | 478/1000 [00:40<00:44, 11.83it/s]\u001b[A"
     ]
    },
    {
     "name": "stdout",
     "output_type": "stream",
     "text": [
      "0.08349776268005371\n",
      "0.08529400825500488\n",
      "0.08192849159240723\n"
     ]
    },
    {
     "name": "stderr",
     "output_type": "stream",
     "text": [
      "\n",
      " 48%|███████████████████▏                    | 480/1000 [00:40<00:44, 11.80it/s]\u001b[A"
     ]
    },
    {
     "name": "stdout",
     "output_type": "stream",
     "text": [
      "0.0862276554107666\n",
      "0.08346390724182129\n",
      "0.08577775955200195\n"
     ]
    },
    {
     "name": "stderr",
     "output_type": "stream",
     "text": [
      "\n",
      " 48%|███████████████████▎                    | 482/1000 [00:40<00:44, 11.75it/s]\u001b[A\n",
      " 48%|███████████████████▎                    | 484/1000 [00:41<00:43, 11.81it/s]\u001b[A"
     ]
    },
    {
     "name": "stdout",
     "output_type": "stream",
     "text": [
      "0.08464837074279785\n",
      "0.0847010612487793\n",
      "0.08204174041748047\n"
     ]
    },
    {
     "name": "stderr",
     "output_type": "stream",
     "text": [
      "\n",
      " 49%|███████████████████▍                    | 486/1000 [00:41<00:43, 11.81it/s]\u001b[A"
     ]
    },
    {
     "name": "stdout",
     "output_type": "stream",
     "text": [
      "0.08614945411682129\n",
      "0.0818183422088623\n",
      "0.08425641059875488\n"
     ]
    },
    {
     "name": "stderr",
     "output_type": "stream",
     "text": [
      "\n",
      " 49%|███████████████████▌                    | 488/1000 [00:41<00:43, 11.83it/s]\u001b[A\n",
      " 49%|███████████████████▌                    | 490/1000 [00:41<00:42, 11.87it/s]\u001b[A"
     ]
    },
    {
     "name": "stdout",
     "output_type": "stream",
     "text": [
      "0.08319902420043945\n",
      "0.08429098129272461\n",
      "0.08178400993347168\n"
     ]
    },
    {
     "name": "stderr",
     "output_type": "stream",
     "text": [
      "\n",
      " 49%|███████████████████▋                    | 492/1000 [00:41<00:42, 11.85it/s]\u001b[A"
     ]
    },
    {
     "name": "stdout",
     "output_type": "stream",
     "text": [
      "0.08575963973999023\n",
      "0.08261942863464355\n",
      "0.08569574356079102\n"
     ]
    },
    {
     "name": "stderr",
     "output_type": "stream",
     "text": [
      "\n",
      " 49%|███████████████████▊                    | 494/1000 [00:41<00:42, 11.81it/s]\u001b[A\n",
      " 50%|███████████████████▊                    | 496/1000 [00:42<00:42, 11.83it/s]\u001b[A"
     ]
    },
    {
     "name": "stdout",
     "output_type": "stream",
     "text": [
      "0.0838315486907959\n",
      "0.0853877067565918\n",
      "0.08193349838256836\n"
     ]
    },
    {
     "name": "stderr",
     "output_type": "stream",
     "text": [
      "\n",
      " 50%|███████████████████▉                    | 498/1000 [00:42<00:42, 11.83it/s]\u001b[A"
     ]
    },
    {
     "name": "stdout",
     "output_type": "stream",
     "text": [
      "0.08610343933105469\n",
      "0.08209395408630371\n",
      "0.08468747138977051\n"
     ]
    },
    {
     "name": "stderr",
     "output_type": "stream",
     "text": [
      "\n",
      " 50%|████████████████████                    | 500/1000 [00:42<00:42, 11.83it/s]\u001b[A\n",
      " 50%|████████████████████                    | 502/1000 [00:42<00:41, 11.86it/s]\u001b[A"
     ]
    },
    {
     "name": "stdout",
     "output_type": "stream",
     "text": [
      "0.08316969871520996\n",
      "0.0843954086303711\n",
      "0.08205366134643555\n"
     ]
    },
    {
     "name": "stderr",
     "output_type": "stream",
     "text": [
      "\n",
      " 50%|████████████████████▏                   | 504/1000 [00:42<00:41, 11.82it/s]\u001b[A"
     ]
    },
    {
     "name": "stdout",
     "output_type": "stream",
     "text": [
      "0.08686232566833496\n",
      "0.08269977569580078\n",
      "0.08556127548217773\n"
     ]
    },
    {
     "name": "stderr",
     "output_type": "stream",
     "text": [
      "\n",
      " 51%|████████████████████▏                   | 506/1000 [00:42<00:41, 11.79it/s]\u001b[A\n",
      " 51%|████████████████████▎                   | 508/1000 [00:43<00:41, 11.84it/s]\u001b[A"
     ]
    },
    {
     "name": "stdout",
     "output_type": "stream",
     "text": [
      "0.08392834663391113\n",
      "0.08404111862182617\n",
      "0.0821831226348877\n"
     ]
    },
    {
     "name": "stderr",
     "output_type": "stream",
     "text": [
      "\n",
      " 51%|████████████████████▍                   | 510/1000 [00:43<00:41, 11.82it/s]\u001b[A"
     ]
    },
    {
     "name": "stdout",
     "output_type": "stream",
     "text": [
      "0.08710741996765137\n",
      "0.08189225196838379\n",
      "0.08472895622253418\n"
     ]
    },
    {
     "name": "stderr",
     "output_type": "stream",
     "text": [
      "\n",
      " 51%|████████████████████▍                   | 512/1000 [00:43<00:41, 11.82it/s]\u001b[A\n",
      " 51%|████████████████████▌                   | 514/1000 [00:43<00:40, 11.86it/s]\u001b[A"
     ]
    },
    {
     "name": "stdout",
     "output_type": "stream",
     "text": [
      "0.08351492881774902\n",
      "0.08455395698547363\n",
      "0.08171606063842773\n"
     ]
    },
    {
     "name": "stderr",
     "output_type": "stream",
     "text": [
      "\n",
      " 52%|████████████████████▋                   | 516/1000 [00:43<00:40, 11.83it/s]\u001b[A"
     ]
    },
    {
     "name": "stdout",
     "output_type": "stream",
     "text": [
      "0.08690476417541504\n",
      "0.08229756355285645\n",
      "0.08803796768188477\n"
     ]
    },
    {
     "name": "stderr",
     "output_type": "stream",
     "text": [
      "\n",
      " 52%|████████████████████▋                   | 518/1000 [00:43<00:41, 11.73it/s]\u001b[A\n",
      " 52%|████████████████████▊                   | 520/1000 [00:44<00:40, 11.78it/s]\u001b[A"
     ]
    },
    {
     "name": "stdout",
     "output_type": "stream",
     "text": [
      "0.08470678329467773\n",
      "0.08466553688049316\n",
      "0.08224201202392578\n"
     ]
    },
    {
     "name": "stderr",
     "output_type": "stream",
     "text": [
      "\n",
      " 52%|████████████████████▉                   | 522/1000 [00:44<00:40, 11.77it/s]\u001b[A"
     ]
    },
    {
     "name": "stdout",
     "output_type": "stream",
     "text": [
      "0.08686637878417969\n",
      "0.08225822448730469\n",
      "0.08465337753295898\n"
     ]
    },
    {
     "name": "stderr",
     "output_type": "stream",
     "text": [
      "\n",
      " 52%|████████████████████▉                   | 524/1000 [00:44<00:40, 11.79it/s]\u001b[A\n",
      " 53%|█████████████████████                   | 526/1000 [00:44<00:40, 11.85it/s]\u001b[A"
     ]
    },
    {
     "name": "stdout",
     "output_type": "stream",
     "text": [
      "0.08342337608337402\n",
      "0.08425688743591309\n",
      "0.0818014144897461\n"
     ]
    },
    {
     "name": "stderr",
     "output_type": "stream",
     "text": [
      "\n",
      " 53%|█████████████████████                   | 528/1000 [00:44<00:39, 11.83it/s]\u001b[A"
     ]
    },
    {
     "name": "stdout",
     "output_type": "stream",
     "text": [
      "0.08677387237548828\n",
      "0.08181524276733398\n",
      "0.08444547653198242\n"
     ]
    },
    {
     "name": "stderr",
     "output_type": "stream",
     "text": [
      "\n",
      " 53%|█████████████████████▏                  | 530/1000 [00:44<00:39, 11.81it/s]\u001b[A\n",
      " 53%|█████████████████████▎                  | 532/1000 [00:45<00:39, 11.85it/s]\u001b[A"
     ]
    },
    {
     "name": "stdout",
     "output_type": "stream",
     "text": [
      "0.0847768783569336\n",
      "0.08359527587890625\n",
      "0.08247756958007812\n"
     ]
    },
    {
     "name": "stderr",
     "output_type": "stream",
     "text": [
      "\n",
      " 53%|█████████████████████▎                  | 534/1000 [00:45<00:48,  9.58it/s]\u001b[A"
     ]
    },
    {
     "name": "stdout",
     "output_type": "stream",
     "text": [
      "0.2191154956817627\n",
      "0.0820460319519043\n",
      "0.08455157279968262\n"
     ]
    },
    {
     "name": "stderr",
     "output_type": "stream",
     "text": [
      "\n",
      " 54%|█████████████████████▍                  | 536/1000 [00:45<00:45, 10.15it/s]\u001b[A\n",
      " 54%|█████████████████████▌                  | 538/1000 [00:45<00:43, 10.60it/s]\u001b[A"
     ]
    },
    {
     "name": "stdout",
     "output_type": "stream",
     "text": [
      "0.08404040336608887\n",
      "0.0860440731048584\n",
      "0.0823662281036377\n"
     ]
    },
    {
     "name": "stderr",
     "output_type": "stream",
     "text": [
      "\n",
      " 54%|█████████████████████▌                  | 540/1000 [00:45<00:42, 10.93it/s]\u001b[A"
     ]
    },
    {
     "name": "stdout",
     "output_type": "stream",
     "text": [
      "0.08667206764221191\n",
      "0.08199167251586914\n",
      "0.08515262603759766\n"
     ]
    },
    {
     "name": "stderr",
     "output_type": "stream",
     "text": [
      "\n",
      " 54%|█████████████████████▋                  | 542/1000 [00:46<00:41, 11.17it/s]\u001b[A\n",
      " 54%|█████████████████████▊                  | 544/1000 [00:46<00:40, 11.39it/s]\u001b[A"
     ]
    },
    {
     "name": "stdout",
     "output_type": "stream",
     "text": [
      "0.08384847640991211\n",
      "0.0840909481048584\n",
      "0.08215904235839844\n"
     ]
    },
    {
     "name": "stderr",
     "output_type": "stream",
     "text": [
      "\n",
      " 55%|█████████████████████▊                  | 546/1000 [00:46<00:39, 11.49it/s]\u001b[A"
     ]
    },
    {
     "name": "stdout",
     "output_type": "stream",
     "text": [
      "0.0877532958984375\n",
      "0.08195376396179199\n",
      "0.08470654487609863\n"
     ]
    },
    {
     "name": "stderr",
     "output_type": "stream",
     "text": [
      "\n",
      " 55%|█████████████████████▉                  | 548/1000 [00:46<00:39, 11.58it/s]\u001b[A\n",
      " 55%|██████████████████████                  | 550/1000 [00:46<00:38, 11.65it/s]\u001b[A"
     ]
    },
    {
     "name": "stdout",
     "output_type": "stream",
     "text": [
      "0.08376455307006836\n",
      "0.08557295799255371\n",
      "0.08248209953308105\n"
     ]
    },
    {
     "name": "stderr",
     "output_type": "stream",
     "text": [
      "\n",
      " 55%|██████████████████████                  | 552/1000 [00:46<00:38, 11.69it/s]\u001b[A"
     ]
    },
    {
     "name": "stdout",
     "output_type": "stream",
     "text": [
      "0.08674049377441406\n",
      "0.08209109306335449\n",
      "0.08403849601745605\n"
     ]
    },
    {
     "name": "stderr",
     "output_type": "stream",
     "text": [
      "\n",
      " 55%|██████████████████████▏                 | 554/1000 [00:47<00:37, 11.75it/s]\u001b[A\n",
      " 56%|██████████████████████▏                 | 556/1000 [00:47<00:37, 11.81it/s]\u001b[A"
     ]
    },
    {
     "name": "stdout",
     "output_type": "stream",
     "text": [
      "0.08327031135559082\n",
      "0.08459806442260742\n",
      "0.08168959617614746\n"
     ]
    },
    {
     "name": "stderr",
     "output_type": "stream",
     "text": [
      "\n",
      " 56%|██████████████████████▎                 | 558/1000 [00:47<00:37, 11.81it/s]\u001b[A"
     ]
    },
    {
     "name": "stdout",
     "output_type": "stream",
     "text": [
      "0.08631443977355957\n",
      "0.08212041854858398\n",
      "0.08514261245727539\n"
     ]
    },
    {
     "name": "stderr",
     "output_type": "stream",
     "text": [
      "\n",
      " 56%|██████████████████████▍                 | 560/1000 [00:47<00:37, 11.79it/s]\u001b[A\n",
      " 56%|██████████████████████▍                 | 562/1000 [00:47<00:37, 11.81it/s]\u001b[A"
     ]
    },
    {
     "name": "stdout",
     "output_type": "stream",
     "text": [
      "0.08400511741638184\n",
      "0.0856626033782959\n",
      "0.08215212821960449\n"
     ]
    },
    {
     "name": "stderr",
     "output_type": "stream",
     "text": [
      "\n",
      " 56%|██████████████████████▌                 | 564/1000 [00:47<00:36, 11.80it/s]\u001b[A"
     ]
    },
    {
     "name": "stdout",
     "output_type": "stream",
     "text": [
      "0.08660197257995605\n",
      "0.08196425437927246\n",
      "0.08461761474609375\n"
     ]
    },
    {
     "name": "stderr",
     "output_type": "stream",
     "text": [
      "\n",
      " 57%|██████████████████████▋                 | 566/1000 [00:48<00:36, 11.81it/s]\u001b[A\n",
      " 57%|██████████████████████▋                 | 568/1000 [00:48<00:36, 11.84it/s]\u001b[A"
     ]
    },
    {
     "name": "stdout",
     "output_type": "stream",
     "text": [
      "0.08339142799377441\n",
      "0.0846412181854248\n",
      "0.0820610523223877\n"
     ]
    },
    {
     "name": "stderr",
     "output_type": "stream",
     "text": [
      "\n",
      " 57%|██████████████████████▊                 | 570/1000 [00:48<00:36, 11.82it/s]\u001b[A"
     ]
    },
    {
     "name": "stdout",
     "output_type": "stream",
     "text": [
      "0.08597064018249512\n",
      "0.08270263671875\n",
      "0.08450198173522949\n"
     ]
    },
    {
     "name": "stderr",
     "output_type": "stream",
     "text": [
      "\n",
      " 57%|██████████████████████▉                 | 572/1000 [00:48<00:36, 11.81it/s]\u001b[A\n",
      " 57%|██████████████████████▉                 | 574/1000 [00:48<00:36, 11.83it/s]\u001b[A"
     ]
    },
    {
     "name": "stdout",
     "output_type": "stream",
     "text": [
      "0.08402490615844727\n",
      "0.08519864082336426\n",
      "0.08218216896057129\n"
     ]
    },
    {
     "name": "stderr",
     "output_type": "stream",
     "text": [
      "\n",
      " 58%|███████████████████████                 | 576/1000 [00:48<00:35, 11.80it/s]\u001b[A"
     ]
    },
    {
     "name": "stdout",
     "output_type": "stream",
     "text": [
      "0.08669686317443848\n",
      "0.0824730396270752\n",
      "0.08532881736755371\n"
     ]
    },
    {
     "name": "stderr",
     "output_type": "stream",
     "text": [
      "\n",
      " 58%|███████████████████████                 | 578/1000 [00:49<00:35, 11.79it/s]\u001b[A\n",
      " 58%|███████████████████████▏                | 580/1000 [00:49<00:35, 11.80it/s]\u001b[A"
     ]
    },
    {
     "name": "stdout",
     "output_type": "stream",
     "text": [
      "0.08365464210510254\n",
      "0.08508157730102539\n",
      "0.08293914794921875\n"
     ]
    },
    {
     "name": "stderr",
     "output_type": "stream",
     "text": [
      "\n",
      " 58%|███████████████████████▎                | 582/1000 [00:49<00:35, 11.81it/s]\u001b[A"
     ]
    },
    {
     "name": "stdout",
     "output_type": "stream",
     "text": [
      "0.0861358642578125\n",
      "0.08178544044494629\n",
      "0.0848855972290039\n"
     ]
    },
    {
     "name": "stderr",
     "output_type": "stream",
     "text": [
      "\n",
      " 58%|███████████████████████▎                | 584/1000 [00:49<00:35, 11.79it/s]\u001b[A\n",
      " 59%|███████████████████████▍                | 586/1000 [00:49<00:34, 11.83it/s]\u001b[A"
     ]
    },
    {
     "name": "stdout",
     "output_type": "stream",
     "text": [
      "0.08401083946228027\n",
      "0.0849151611328125\n",
      "0.0819084644317627\n"
     ]
    },
    {
     "name": "stderr",
     "output_type": "stream",
     "text": [
      "\n",
      " 59%|███████████████████████▌                | 588/1000 [00:49<00:34, 11.85it/s]\u001b[A"
     ]
    },
    {
     "name": "stdout",
     "output_type": "stream",
     "text": [
      "0.08656668663024902\n",
      "0.08077669143676758\n",
      "0.08643865585327148\n"
     ]
    },
    {
     "name": "stderr",
     "output_type": "stream",
     "text": [
      "\n",
      " 59%|███████████████████████▌                | 590/1000 [00:50<00:34, 11.78it/s]\u001b[A\n",
      " 59%|███████████████████████▋                | 592/1000 [00:50<00:34, 11.80it/s]\u001b[A"
     ]
    },
    {
     "name": "stdout",
     "output_type": "stream",
     "text": [
      "0.08419561386108398\n",
      "0.08577895164489746\n",
      "0.08200454711914062\n"
     ]
    },
    {
     "name": "stderr",
     "output_type": "stream",
     "text": [
      "\n",
      " 59%|███████████████████████▊                | 594/1000 [00:50<00:34, 11.77it/s]\u001b[A"
     ]
    },
    {
     "name": "stdout",
     "output_type": "stream",
     "text": [
      "0.08813667297363281\n",
      "0.08183670043945312\n",
      "0.08787083625793457\n"
     ]
    },
    {
     "name": "stderr",
     "output_type": "stream",
     "text": [
      "\n",
      " 60%|███████████████████████▊                | 596/1000 [00:50<00:34, 11.64it/s]\u001b[A\n",
      " 60%|███████████████████████▉                | 598/1000 [00:50<00:34, 11.70it/s]\u001b[A"
     ]
    },
    {
     "name": "stdout",
     "output_type": "stream",
     "text": [
      "0.08725285530090332\n",
      "0.08609318733215332\n",
      "0.08201265335083008\n"
     ]
    },
    {
     "name": "stderr",
     "output_type": "stream",
     "text": [
      "\n",
      " 60%|████████████████████████                | 600/1000 [00:50<00:34, 11.69it/s]\u001b[A"
     ]
    },
    {
     "name": "stdout",
     "output_type": "stream",
     "text": [
      "0.08817458152770996\n",
      "0.08199954032897949\n",
      "0.08721137046813965\n"
     ]
    },
    {
     "name": "stderr",
     "output_type": "stream",
     "text": [
      "\n",
      " 60%|████████████████████████                | 602/1000 [00:51<00:34, 11.65it/s]\u001b[A\n",
      " 60%|████████████████████████▏               | 604/1000 [00:51<00:33, 11.69it/s]\u001b[A"
     ]
    },
    {
     "name": "stdout",
     "output_type": "stream",
     "text": [
      "0.08466529846191406\n",
      "0.08664798736572266\n",
      "0.08205366134643555\n"
     ]
    },
    {
     "name": "stderr",
     "output_type": "stream",
     "text": [
      "\n",
      " 61%|████████████████████████▏               | 606/1000 [00:51<00:33, 11.68it/s]\u001b[A"
     ]
    },
    {
     "name": "stdout",
     "output_type": "stream",
     "text": [
      "0.08860969543457031\n",
      "0.08194184303283691\n",
      "0.08571934700012207\n"
     ]
    },
    {
     "name": "stderr",
     "output_type": "stream",
     "text": [
      "\n",
      " 61%|████████████████████████▎               | 608/1000 [00:51<00:33, 11.66it/s]\u001b[A\n",
      " 61%|████████████████████████▍               | 610/1000 [00:51<00:33, 11.72it/s]\u001b[A"
     ]
    },
    {
     "name": "stdout",
     "output_type": "stream",
     "text": [
      "0.0853114128112793\n",
      "0.08619880676269531\n",
      "0.08171439170837402\n"
     ]
    },
    {
     "name": "stderr",
     "output_type": "stream",
     "text": [
      "\n",
      " 61%|████████████████████████▍               | 612/1000 [00:51<00:33, 11.69it/s]\u001b[A"
     ]
    },
    {
     "name": "stdout",
     "output_type": "stream",
     "text": [
      "0.08846402168273926\n",
      "0.08234763145446777\n",
      "0.08533954620361328\n"
     ]
    },
    {
     "name": "stderr",
     "output_type": "stream",
     "text": [
      "\n",
      " 61%|████████████████████████▌               | 614/1000 [00:52<00:33, 11.70it/s]\u001b[A\n",
      " 62%|████████████████████████▋               | 616/1000 [00:52<00:32, 11.72it/s]\u001b[A"
     ]
    },
    {
     "name": "stdout",
     "output_type": "stream",
     "text": [
      "0.08442330360412598\n",
      "0.08712291717529297\n",
      "0.08168387413024902\n"
     ]
    },
    {
     "name": "stderr",
     "output_type": "stream",
     "text": [
      "\n",
      " 62%|████████████████████████▋               | 618/1000 [00:52<00:32, 11.71it/s]\u001b[A"
     ]
    },
    {
     "name": "stdout",
     "output_type": "stream",
     "text": [
      "0.08819961547851562\n",
      "0.08189702033996582\n",
      "0.08633136749267578\n"
     ]
    },
    {
     "name": "stderr",
     "output_type": "stream",
     "text": [
      "\n",
      " 62%|████████████████████████▊               | 620/1000 [00:52<00:32, 11.66it/s]\u001b[A\n",
      " 62%|████████████████████████▉               | 622/1000 [00:52<00:32, 11.73it/s]\u001b[A"
     ]
    },
    {
     "name": "stdout",
     "output_type": "stream",
     "text": [
      "0.08587837219238281\n",
      "0.0854184627532959\n",
      "0.08183789253234863\n"
     ]
    },
    {
     "name": "stderr",
     "output_type": "stream",
     "text": [
      "\n",
      " 62%|████████████████████████▉               | 624/1000 [00:53<00:32, 11.67it/s]\u001b[A"
     ]
    },
    {
     "name": "stdout",
     "output_type": "stream",
     "text": [
      "0.088104248046875\n",
      "0.08433032035827637\n",
      "0.09207415580749512\n"
     ]
    },
    {
     "name": "stderr",
     "output_type": "stream",
     "text": [
      "\n",
      " 63%|█████████████████████████               | 626/1000 [00:53<00:32, 11.40it/s]\u001b[A\n",
      " 63%|█████████████████████████               | 628/1000 [00:53<00:32, 11.28it/s]\u001b[A"
     ]
    },
    {
     "name": "stdout",
     "output_type": "stream",
     "text": [
      "0.09149527549743652\n",
      "0.09110546112060547\n",
      "0.08936333656311035\n"
     ]
    },
    {
     "name": "stderr",
     "output_type": "stream",
     "text": [
      "\n",
      " 63%|█████████████████████████▏              | 630/1000 [00:53<00:32, 11.38it/s]\u001b[A"
     ]
    },
    {
     "name": "stdout",
     "output_type": "stream",
     "text": [
      "0.08916521072387695\n",
      "0.08189058303833008\n",
      "0.08579397201538086\n"
     ]
    },
    {
     "name": "stderr",
     "output_type": "stream",
     "text": [
      "\n",
      " 63%|█████████████████████████▎              | 632/1000 [00:53<00:32, 11.44it/s]\u001b[A\n",
      " 63%|█████████████████████████▎              | 634/1000 [00:53<00:31, 11.45it/s]\u001b[A"
     ]
    },
    {
     "name": "stdout",
     "output_type": "stream",
     "text": [
      "0.08563995361328125\n",
      "0.08408832550048828\n",
      "0.08906698226928711\n"
     ]
    },
    {
     "name": "stderr",
     "output_type": "stream",
     "text": [
      "\n",
      " 64%|█████████████████████████▍              | 636/1000 [00:54<00:32, 11.35it/s]\u001b[A"
     ]
    },
    {
     "name": "stdout",
     "output_type": "stream",
     "text": [
      "0.09096240997314453\n",
      "0.0877983570098877\n",
      "0.08843517303466797\n"
     ]
    },
    {
     "name": "stderr",
     "output_type": "stream",
     "text": [
      "\n",
      " 64%|█████████████████████████▌              | 638/1000 [00:54<00:32, 11.30it/s]\u001b[A\n",
      " 64%|█████████████████████████▌              | 640/1000 [00:54<00:31, 11.29it/s]\u001b[A"
     ]
    },
    {
     "name": "stdout",
     "output_type": "stream",
     "text": [
      "0.08896422386169434\n",
      "0.08812260627746582\n",
      "0.08845639228820801\n"
     ]
    },
    {
     "name": "stderr",
     "output_type": "stream",
     "text": [
      "\n",
      " 64%|█████████████████████████▋              | 642/1000 [00:54<00:31, 11.25it/s]\u001b[A"
     ]
    },
    {
     "name": "stdout",
     "output_type": "stream",
     "text": [
      "0.09020066261291504\n",
      "0.08752298355102539\n",
      "0.08773422241210938\n"
     ]
    },
    {
     "name": "stderr",
     "output_type": "stream",
     "text": [
      "\n",
      " 64%|█████████████████████████▊              | 644/1000 [00:54<00:31, 11.32it/s]\u001b[A\n",
      " 65%|█████████████████████████▊              | 646/1000 [00:54<00:31, 11.39it/s]\u001b[A"
     ]
    },
    {
     "name": "stdout",
     "output_type": "stream",
     "text": [
      "0.08529329299926758\n",
      "0.08745956420898438\n",
      "0.08442020416259766\n"
     ]
    },
    {
     "name": "stderr",
     "output_type": "stream",
     "text": [
      "\n",
      " 65%|█████████████████████████▉              | 648/1000 [00:55<00:31, 11.33it/s]\u001b[A"
     ]
    },
    {
     "name": "stdout",
     "output_type": "stream",
     "text": [
      "0.08981823921203613\n",
      "0.08747148513793945\n",
      "0.08618879318237305\n"
     ]
    },
    {
     "name": "stderr",
     "output_type": "stream",
     "text": [
      "\n",
      " 65%|██████████████████████████              | 650/1000 [00:55<00:30, 11.41it/s]\u001b[A\n",
      " 65%|██████████████████████████              | 652/1000 [00:55<00:30, 11.52it/s]\u001b[A"
     ]
    },
    {
     "name": "stdout",
     "output_type": "stream",
     "text": [
      "0.08510541915893555\n",
      "0.08653140068054199\n",
      "0.08194971084594727\n"
     ]
    },
    {
     "name": "stderr",
     "output_type": "stream",
     "text": [
      "\n",
      " 65%|██████████████████████████▏             | 654/1000 [00:55<00:29, 11.57it/s]\u001b[A"
     ]
    },
    {
     "name": "stdout",
     "output_type": "stream",
     "text": [
      "0.08782529830932617\n",
      "0.0823056697845459\n",
      "0.0858154296875\n"
     ]
    },
    {
     "name": "stderr",
     "output_type": "stream",
     "text": [
      "\n",
      " 66%|██████████████████████████▏             | 656/1000 [00:55<00:29, 11.62it/s]\u001b[A\n",
      " 66%|██████████████████████████▎             | 658/1000 [00:55<00:29, 11.71it/s]\u001b[A"
     ]
    },
    {
     "name": "stdout",
     "output_type": "stream",
     "text": [
      "0.08398056030273438\n",
      "0.0848395824432373\n",
      "0.08171391487121582\n"
     ]
    },
    {
     "name": "stderr",
     "output_type": "stream",
     "text": [
      "\n",
      " 66%|██████████████████████████▍             | 660/1000 [00:56<00:29, 11.69it/s]\u001b[A"
     ]
    },
    {
     "name": "stdout",
     "output_type": "stream",
     "text": [
      "0.08821225166320801\n",
      "0.08273077011108398\n",
      "0.08725619316101074\n"
     ]
    },
    {
     "name": "stderr",
     "output_type": "stream",
     "text": [
      "\n",
      " 66%|██████████████████████████▍             | 662/1000 [00:56<00:29, 11.56it/s]\u001b[A\n",
      " 66%|██████████████████████████▌             | 664/1000 [00:56<00:29, 11.44it/s]\u001b[A"
     ]
    },
    {
     "name": "stdout",
     "output_type": "stream",
     "text": [
      "0.08923625946044922\n",
      "0.08919262886047363\n",
      "0.08832836151123047\n"
     ]
    },
    {
     "name": "stderr",
     "output_type": "stream",
     "text": [
      "\n",
      " 67%|██████████████████████████▋             | 666/1000 [00:56<00:29, 11.35it/s]\u001b[A"
     ]
    },
    {
     "name": "stdout",
     "output_type": "stream",
     "text": [
      "0.08993792533874512\n",
      "0.0885915756225586\n",
      "0.08514785766601562\n"
     ]
    },
    {
     "name": "stderr",
     "output_type": "stream",
     "text": [
      "\n",
      " 67%|██████████████████████████▋             | 668/1000 [00:56<00:29, 11.43it/s]\u001b[A\n",
      " 67%|██████████████████████████▊             | 670/1000 [00:57<00:28, 11.55it/s]\u001b[A"
     ]
    },
    {
     "name": "stdout",
     "output_type": "stream",
     "text": [
      "0.0856928825378418\n",
      "0.08479881286621094\n",
      "0.08305120468139648\n"
     ]
    },
    {
     "name": "stderr",
     "output_type": "stream",
     "text": [
      "\n",
      " 67%|██████████████████████████▉             | 672/1000 [00:57<00:28, 11.62it/s]\u001b[A"
     ]
    },
    {
     "name": "stdout",
     "output_type": "stream",
     "text": [
      "0.08609366416931152\n",
      "0.08242154121398926\n",
      "0.08622384071350098\n"
     ]
    },
    {
     "name": "stderr",
     "output_type": "stream",
     "text": [
      "\n",
      " 67%|██████████████████████████▉             | 674/1000 [00:57<00:28, 11.64it/s]\u001b[A\n",
      " 68%|███████████████████████████             | 676/1000 [00:57<00:27, 11.72it/s]\u001b[A"
     ]
    },
    {
     "name": "stdout",
     "output_type": "stream",
     "text": [
      "0.08429813385009766\n",
      "0.08492875099182129\n",
      "0.08181476593017578\n"
     ]
    },
    {
     "name": "stderr",
     "output_type": "stream",
     "text": [
      "\n",
      " 68%|███████████████████████████             | 678/1000 [00:57<00:27, 11.72it/s]\u001b[A"
     ]
    },
    {
     "name": "stdout",
     "output_type": "stream",
     "text": [
      "0.08752870559692383\n",
      "0.08239293098449707\n",
      "0.08706164360046387\n"
     ]
    },
    {
     "name": "stderr",
     "output_type": "stream",
     "text": [
      "\n",
      " 68%|███████████████████████████▏            | 680/1000 [00:57<00:27, 11.69it/s]\u001b[A\n",
      " 68%|███████████████████████████▎            | 682/1000 [00:58<00:27, 11.74it/s]\u001b[A"
     ]
    },
    {
     "name": "stdout",
     "output_type": "stream",
     "text": [
      "0.08412718772888184\n",
      "0.0855097770690918\n",
      "0.08216452598571777\n"
     ]
    },
    {
     "name": "stderr",
     "output_type": "stream",
     "text": [
      "\n",
      " 68%|███████████████████████████▎            | 684/1000 [00:58<00:26, 11.75it/s]\u001b[A"
     ]
    },
    {
     "name": "stdout",
     "output_type": "stream",
     "text": [
      "0.08698654174804688\n",
      "0.08189892768859863\n",
      "0.08479118347167969\n"
     ]
    },
    {
     "name": "stderr",
     "output_type": "stream",
     "text": [
      "\n",
      " 69%|███████████████████████████▍            | 686/1000 [00:58<00:26, 11.77it/s]\u001b[A\n",
      " 69%|███████████████████████████▌            | 688/1000 [00:58<00:26, 11.82it/s]\u001b[A"
     ]
    },
    {
     "name": "stdout",
     "output_type": "stream",
     "text": [
      "0.08355045318603516\n",
      "0.0849461555480957\n",
      "0.08172464370727539\n"
     ]
    },
    {
     "name": "stderr",
     "output_type": "stream",
     "text": [
      "\n",
      " 69%|███████████████████████████▌            | 690/1000 [00:58<00:26, 11.79it/s]\u001b[A"
     ]
    },
    {
     "name": "stdout",
     "output_type": "stream",
     "text": [
      "0.08725762367248535\n",
      "0.08222389221191406\n",
      "0.08384156227111816\n"
     ]
    },
    {
     "name": "stderr",
     "output_type": "stream",
     "text": [
      "\n",
      " 69%|███████████████████████████▋            | 692/1000 [00:58<00:26, 11.80it/s]\u001b[A\n",
      " 69%|███████████████████████████▊            | 694/1000 [00:59<00:25, 11.87it/s]\u001b[A"
     ]
    },
    {
     "name": "stdout",
     "output_type": "stream",
     "text": [
      "0.08446121215820312\n",
      "0.08329343795776367\n",
      "0.0817408561706543\n"
     ]
    },
    {
     "name": "stderr",
     "output_type": "stream",
     "text": [
      "\n",
      " 70%|███████████████████████████▊            | 696/1000 [00:59<00:25, 11.81it/s]\u001b[A"
     ]
    },
    {
     "name": "stdout",
     "output_type": "stream",
     "text": [
      "0.0863184928894043\n",
      "0.08383727073669434\n",
      "0.0842428207397461\n"
     ]
    },
    {
     "name": "stderr",
     "output_type": "stream",
     "text": [
      "\n",
      " 70%|███████████████████████████▉            | 698/1000 [00:59<00:25, 11.80it/s]\u001b[A\n",
      " 70%|████████████████████████████            | 700/1000 [00:59<00:25, 11.83it/s]\u001b[A"
     ]
    },
    {
     "name": "stdout",
     "output_type": "stream",
     "text": [
      "0.08446526527404785\n",
      "0.08490538597106934\n",
      "0.08234095573425293\n"
     ]
    },
    {
     "name": "stderr",
     "output_type": "stream",
     "text": [
      "\n",
      " 70%|████████████████████████████            | 702/1000 [00:59<00:25, 11.82it/s]\u001b[A"
     ]
    },
    {
     "name": "stdout",
     "output_type": "stream",
     "text": [
      "0.0866556167602539\n",
      "0.08188056945800781\n",
      "0.08746957778930664\n"
     ]
    },
    {
     "name": "stderr",
     "output_type": "stream",
     "text": [
      "\n",
      " 70%|████████████████████████████▏           | 704/1000 [00:59<00:25, 11.65it/s]\u001b[A\n",
      " 71%|████████████████████████████▏           | 706/1000 [01:00<00:25, 11.58it/s]\u001b[A"
     ]
    },
    {
     "name": "stdout",
     "output_type": "stream",
     "text": [
      "0.08910465240478516\n",
      "0.08905458450317383\n",
      "0.08470582962036133\n"
     ]
    },
    {
     "name": "stderr",
     "output_type": "stream",
     "text": [
      "\n",
      " 71%|████████████████████████████▎           | 708/1000 [01:00<00:25, 11.58it/s]\u001b[A"
     ]
    },
    {
     "name": "stdout",
     "output_type": "stream",
     "text": [
      "0.08719229698181152\n",
      "0.08400392532348633\n",
      "0.08770513534545898\n"
     ]
    },
    {
     "name": "stderr",
     "output_type": "stream",
     "text": [
      "\n",
      " 71%|████████████████████████████▍           | 710/1000 [01:00<00:25, 11.49it/s]\u001b[A\n",
      " 71%|████████████████████████████▍           | 712/1000 [01:00<00:24, 11.62it/s]\u001b[A"
     ]
    },
    {
     "name": "stdout",
     "output_type": "stream",
     "text": [
      "0.08850717544555664\n",
      "0.08445167541503906\n",
      "0.08199810981750488\n"
     ]
    },
    {
     "name": "stderr",
     "output_type": "stream",
     "text": [
      "\n",
      " 71%|████████████████████████████▌           | 714/1000 [01:00<00:24, 11.51it/s]\u001b[A"
     ]
    },
    {
     "name": "stdout",
     "output_type": "stream",
     "text": [
      "0.08934211730957031\n",
      "0.08704352378845215\n",
      "0.08782148361206055\n"
     ]
    },
    {
     "name": "stderr",
     "output_type": "stream",
     "text": [
      "\n",
      " 72%|████████████████████████████▋           | 716/1000 [01:00<00:24, 11.51it/s]\u001b[A\n",
      " 72%|████████████████████████████▋           | 718/1000 [01:01<00:24, 11.46it/s]\u001b[A"
     ]
    },
    {
     "name": "stdout",
     "output_type": "stream",
     "text": [
      "0.08465743064880371\n",
      "0.08774018287658691\n",
      "0.0874176025390625\n"
     ]
    },
    {
     "name": "stderr",
     "output_type": "stream",
     "text": [
      "\n",
      " 72%|████████████████████████████▊           | 720/1000 [01:01<00:24, 11.44it/s]\u001b[A"
     ]
    },
    {
     "name": "stdout",
     "output_type": "stream",
     "text": [
      "0.09096431732177734\n",
      "0.0834968090057373\n",
      "0.08673620223999023\n"
     ]
    },
    {
     "name": "stderr",
     "output_type": "stream",
     "text": [
      "\n",
      " 72%|████████████████████████████▉           | 722/1000 [01:01<00:24, 11.46it/s]\u001b[A\n",
      " 72%|████████████████████████████▉           | 724/1000 [01:01<00:24, 11.40it/s]\u001b[A"
     ]
    },
    {
     "name": "stdout",
     "output_type": "stream",
     "text": [
      "0.08620119094848633\n",
      "0.08799934387207031\n",
      "0.08806610107421875\n"
     ]
    },
    {
     "name": "stderr",
     "output_type": "stream",
     "text": [
      "\n",
      " 73%|█████████████████████████████           | 726/1000 [01:01<00:23, 11.48it/s]\u001b[A"
     ]
    },
    {
     "name": "stdout",
     "output_type": "stream",
     "text": [
      "0.08778715133666992\n",
      "0.08210277557373047\n",
      "0.08490943908691406\n"
     ]
    },
    {
     "name": "stderr",
     "output_type": "stream",
     "text": [
      "\n",
      " 73%|█████████████████████████████           | 728/1000 [01:02<00:23, 11.57it/s]\u001b[A\n",
      " 73%|█████████████████████████████▏          | 730/1000 [01:02<00:23, 11.51it/s]\u001b[A"
     ]
    },
    {
     "name": "stdout",
     "output_type": "stream",
     "text": [
      "0.08393716812133789\n",
      "0.08747673034667969\n",
      "0.08710408210754395\n"
     ]
    },
    {
     "name": "stderr",
     "output_type": "stream",
     "text": [
      "\n",
      " 73%|█████████████████████████████▎          | 732/1000 [01:02<00:23, 11.54it/s]\u001b[A"
     ]
    },
    {
     "name": "stdout",
     "output_type": "stream",
     "text": [
      "0.08858704566955566\n",
      "0.08246278762817383\n",
      "0.08476877212524414\n"
     ]
    },
    {
     "name": "stderr",
     "output_type": "stream",
     "text": [
      "\n",
      " 73%|█████████████████████████████▎          | 734/1000 [01:02<00:23, 11.56it/s]\u001b[A\n",
      " 74%|█████████████████████████████▍          | 736/1000 [01:02<00:23, 11.47it/s]\u001b[A"
     ]
    },
    {
     "name": "stdout",
     "output_type": "stream",
     "text": [
      "0.08679938316345215\n",
      "0.08853268623352051\n",
      "0.08751940727233887\n"
     ]
    },
    {
     "name": "stderr",
     "output_type": "stream",
     "text": [
      "\n",
      " 74%|█████████████████████████████▌          | 738/1000 [01:02<00:22, 11.54it/s]\u001b[A"
     ]
    },
    {
     "name": "stdout",
     "output_type": "stream",
     "text": [
      "0.0875234603881836\n",
      "0.08198285102844238\n",
      "0.08655381202697754\n"
     ]
    },
    {
     "name": "stderr",
     "output_type": "stream",
     "text": [
      "\n",
      " 74%|█████████████████████████████▌          | 740/1000 [01:03<00:22, 11.49it/s]\u001b[A\n",
      " 74%|█████████████████████████████▋          | 742/1000 [01:03<00:22, 11.49it/s]\u001b[A"
     ]
    },
    {
     "name": "stdout",
     "output_type": "stream",
     "text": [
      "0.08844232559204102\n",
      "0.08784747123718262\n",
      "0.08507561683654785\n"
     ]
    },
    {
     "name": "stderr",
     "output_type": "stream",
     "text": [
      "\n",
      " 74%|█████████████████████████████▊          | 744/1000 [01:03<00:22, 11.57it/s]\u001b[A"
     ]
    },
    {
     "name": "stdout",
     "output_type": "stream",
     "text": [
      "0.08675503730773926\n",
      "0.08207249641418457\n",
      "0.08531427383422852\n"
     ]
    },
    {
     "name": "stderr",
     "output_type": "stream",
     "text": [
      "\n",
      " 75%|█████████████████████████████▊          | 746/1000 [01:03<00:21, 11.57it/s]\u001b[A\n",
      " 75%|█████████████████████████████▉          | 748/1000 [01:03<00:21, 11.47it/s]\u001b[A"
     ]
    },
    {
     "name": "stdout",
     "output_type": "stream",
     "text": [
      "0.0865483283996582\n",
      "0.08958697319030762\n",
      "0.08716607093811035\n"
     ]
    },
    {
     "name": "stderr",
     "output_type": "stream",
     "text": [
      "\n",
      " 75%|██████████████████████████████          | 750/1000 [01:03<00:21, 11.48it/s]\u001b[A"
     ]
    },
    {
     "name": "stdout",
     "output_type": "stream",
     "text": [
      "0.09005546569824219\n",
      "0.08218955993652344\n",
      "0.0843660831451416\n"
     ]
    },
    {
     "name": "stderr",
     "output_type": "stream",
     "text": [
      "\n",
      " 75%|██████████████████████████████          | 752/1000 [01:04<00:21, 11.57it/s]\u001b[A\n",
      " 75%|██████████████████████████████▏         | 754/1000 [01:04<00:21, 11.50it/s]\u001b[A"
     ]
    },
    {
     "name": "stdout",
     "output_type": "stream",
     "text": [
      "0.08420681953430176\n",
      "0.08782100677490234\n",
      "0.08730936050415039\n"
     ]
    },
    {
     "name": "stderr",
     "output_type": "stream",
     "text": [
      "\n",
      " 76%|██████████████████████████████▏         | 756/1000 [01:04<00:21, 11.47it/s]\u001b[A"
     ]
    },
    {
     "name": "stdout",
     "output_type": "stream",
     "text": [
      "0.08907508850097656\n",
      "0.08548903465270996\n",
      "0.08490395545959473\n"
     ]
    },
    {
     "name": "stderr",
     "output_type": "stream",
     "text": [
      "\n",
      " 76%|██████████████████████████████▎         | 758/1000 [01:04<00:20, 11.54it/s]\u001b[A\n",
      " 76%|██████████████████████████████▍         | 760/1000 [01:04<00:20, 11.62it/s]\u001b[A"
     ]
    },
    {
     "name": "stdout",
     "output_type": "stream",
     "text": [
      "0.08464384078979492\n",
      "0.0862741470336914\n",
      "0.08198738098144531\n"
     ]
    },
    {
     "name": "stderr",
     "output_type": "stream",
     "text": [
      "\n",
      " 76%|██████████████████████████████▍         | 762/1000 [01:04<00:20, 11.63it/s]\u001b[A"
     ]
    },
    {
     "name": "stdout",
     "output_type": "stream",
     "text": [
      "0.08899116516113281\n",
      "0.08199453353881836\n",
      "0.0851430892944336\n"
     ]
    },
    {
     "name": "stderr",
     "output_type": "stream",
     "text": [
      "\n",
      " 76%|██████████████████████████████▌         | 764/1000 [01:05<00:20, 11.58it/s]\u001b[A\n",
      " 77%|██████████████████████████████▋         | 766/1000 [01:05<00:20, 11.49it/s]\u001b[A"
     ]
    },
    {
     "name": "stdout",
     "output_type": "stream",
     "text": [
      "0.0880889892578125\n",
      "0.0885169506072998\n",
      "0.08739137649536133\n"
     ]
    },
    {
     "name": "stderr",
     "output_type": "stream",
     "text": [
      "\n",
      " 77%|██████████████████████████████▋         | 768/1000 [01:05<00:20, 11.53it/s]\u001b[A"
     ]
    },
    {
     "name": "stdout",
     "output_type": "stream",
     "text": [
      "0.08856892585754395\n",
      "0.08244800567626953\n",
      "0.08475351333618164\n"
     ]
    },
    {
     "name": "stderr",
     "output_type": "stream",
     "text": [
      "\n",
      " 77%|██████████████████████████████▊         | 770/1000 [01:05<00:19, 11.59it/s]\u001b[A\n",
      " 77%|██████████████████████████████▉         | 772/1000 [01:05<00:19, 11.60it/s]\u001b[A"
     ]
    },
    {
     "name": "stdout",
     "output_type": "stream",
     "text": [
      "0.08467817306518555\n",
      "0.08411121368408203\n",
      "0.08673715591430664\n"
     ]
    },
    {
     "name": "stderr",
     "output_type": "stream",
     "text": [
      "\n",
      " 77%|██████████████████████████████▉         | 774/1000 [01:06<00:19, 11.48it/s]\u001b[A"
     ]
    },
    {
     "name": "stdout",
     "output_type": "stream",
     "text": [
      "0.09011149406433105\n",
      "0.08713102340698242\n",
      "0.08519530296325684\n"
     ]
    },
    {
     "name": "stderr",
     "output_type": "stream",
     "text": [
      "\n",
      " 78%|███████████████████████████████         | 776/1000 [01:06<00:19, 11.55it/s]\u001b[A\n",
      " 78%|███████████████████████████████         | 778/1000 [01:06<00:19, 11.59it/s]\u001b[A"
     ]
    },
    {
     "name": "stdout",
     "output_type": "stream",
     "text": [
      "0.08416128158569336\n",
      "0.08508658409118652\n",
      "0.08507061004638672\n"
     ]
    },
    {
     "name": "stderr",
     "output_type": "stream",
     "text": [
      "\n",
      " 78%|███████████████████████████████▏        | 780/1000 [01:06<00:19, 11.47it/s]\u001b[A"
     ]
    },
    {
     "name": "stdout",
     "output_type": "stream",
     "text": [
      "0.08930778503417969\n",
      "0.08746051788330078\n",
      "0.08779287338256836\n"
     ]
    },
    {
     "name": "stderr",
     "output_type": "stream",
     "text": [
      "\n",
      " 78%|███████████████████████████████▎        | 782/1000 [01:06<00:19, 11.47it/s]\u001b[A\n",
      " 78%|███████████████████████████████▎        | 784/1000 [01:06<00:18, 11.51it/s]\u001b[A"
     ]
    },
    {
     "name": "stdout",
     "output_type": "stream",
     "text": [
      "0.08570671081542969\n",
      "0.08446216583251953\n",
      "0.08701133728027344\n"
     ]
    },
    {
     "name": "stderr",
     "output_type": "stream",
     "text": [
      "\n",
      " 79%|███████████████████████████████▍        | 786/1000 [01:07<00:18, 11.42it/s]\u001b[A"
     ]
    },
    {
     "name": "stdout",
     "output_type": "stream",
     "text": [
      "0.08923196792602539\n",
      "0.08784270286560059\n",
      "0.08517694473266602\n"
     ]
    },
    {
     "name": "stderr",
     "output_type": "stream",
     "text": [
      "\n",
      " 79%|███████████████████████████████▌        | 788/1000 [01:07<00:18, 11.51it/s]\u001b[A\n",
      " 79%|███████████████████████████████▌        | 790/1000 [01:07<00:18, 11.48it/s]\u001b[A"
     ]
    },
    {
     "name": "stdout",
     "output_type": "stream",
     "text": [
      "0.08397960662841797\n",
      "0.0866556167602539\n",
      "0.08738994598388672\n"
     ]
    },
    {
     "name": "stderr",
     "output_type": "stream",
     "text": [
      "\n",
      " 79%|███████████████████████████████▋        | 792/1000 [01:07<00:18, 11.40it/s]\u001b[A"
     ]
    },
    {
     "name": "stdout",
     "output_type": "stream",
     "text": [
      "0.09024858474731445\n",
      "0.0868062973022461\n",
      "0.08601903915405273\n"
     ]
    },
    {
     "name": "stderr",
     "output_type": "stream",
     "text": [
      "\n",
      " 79%|███████████████████████████████▊        | 794/1000 [01:07<00:17, 11.47it/s]\u001b[A\n",
      " 80%|███████████████████████████████▊        | 796/1000 [01:07<00:17, 11.57it/s]\u001b[A"
     ]
    },
    {
     "name": "stdout",
     "output_type": "stream",
     "text": [
      "0.08452010154724121\n",
      "0.08464980125427246\n",
      "0.08344125747680664\n"
     ]
    },
    {
     "name": "stderr",
     "output_type": "stream",
     "text": [
      "\n",
      " 80%|███████████████████████████████▉        | 798/1000 [01:08<00:17, 11.47it/s]\u001b[A"
     ]
    },
    {
     "name": "stdout",
     "output_type": "stream",
     "text": [
      "0.08893775939941406\n",
      "0.08725857734680176\n",
      "0.08823060989379883\n"
     ]
    },
    {
     "name": "stderr",
     "output_type": "stream",
     "text": [
      "\n",
      " 80%|████████████████████████████████        | 800/1000 [01:08<00:17, 11.46it/s]\u001b[A\n",
      " 80%|████████████████████████████████        | 802/1000 [01:08<00:17, 11.56it/s]\u001b[A"
     ]
    },
    {
     "name": "stdout",
     "output_type": "stream",
     "text": [
      "0.08556222915649414\n",
      "0.08634781837463379\n",
      "0.08217883110046387\n"
     ]
    },
    {
     "name": "stderr",
     "output_type": "stream",
     "text": [
      "\n",
      " 80%|████████████████████████████████▏       | 804/1000 [01:08<00:16, 11.62it/s]\u001b[A"
     ]
    },
    {
     "name": "stdout",
     "output_type": "stream",
     "text": [
      "0.08677053451538086\n",
      "0.08223247528076172\n",
      "0.08706474304199219\n"
     ]
    },
    {
     "name": "stderr",
     "output_type": "stream",
     "text": [
      "\n",
      " 81%|████████████████████████████████▏       | 806/1000 [01:08<00:16, 11.61it/s]\u001b[A\n",
      " 81%|████████████████████████████████▎       | 808/1000 [01:08<00:16, 11.70it/s]\u001b[A"
     ]
    },
    {
     "name": "stdout",
     "output_type": "stream",
     "text": [
      "0.08426690101623535\n",
      "0.08502364158630371\n",
      "0.08193588256835938\n"
     ]
    },
    {
     "name": "stderr",
     "output_type": "stream",
     "text": [
      "\n",
      " 81%|████████████████████████████████▍       | 810/1000 [01:09<00:16, 11.74it/s]\u001b[A"
     ]
    },
    {
     "name": "stdout",
     "output_type": "stream",
     "text": [
      "0.0865790843963623\n",
      "0.08140897750854492\n",
      "0.08398604393005371\n"
     ]
    },
    {
     "name": "stderr",
     "output_type": "stream",
     "text": [
      "\n",
      " 81%|████████████████████████████████▍       | 812/1000 [01:09<00:15, 11.75it/s]\u001b[A\n",
      " 81%|████████████████████████████████▌       | 814/1000 [01:09<00:15, 11.83it/s]\u001b[A"
     ]
    },
    {
     "name": "stdout",
     "output_type": "stream",
     "text": [
      "0.08457756042480469\n",
      "0.0838315486907959\n",
      "0.08189249038696289\n"
     ]
    },
    {
     "name": "stderr",
     "output_type": "stream",
     "text": [
      "\n",
      " 82%|████████████████████████████████▋       | 816/1000 [01:09<00:15, 11.65it/s]\u001b[A"
     ]
    },
    {
     "name": "stdout",
     "output_type": "stream",
     "text": [
      "0.08871865272521973\n",
      "0.08803176879882812\n",
      "0.08893084526062012\n"
     ]
    },
    {
     "name": "stderr",
     "output_type": "stream",
     "text": [
      "\n",
      " 82%|████████████████████████████████▋       | 818/1000 [01:09<00:15, 11.55it/s]\u001b[A\n",
      " 82%|████████████████████████████████▊       | 820/1000 [01:09<00:15, 11.62it/s]\u001b[A"
     ]
    },
    {
     "name": "stdout",
     "output_type": "stream",
     "text": [
      "0.08646750450134277\n",
      "0.08616805076599121\n",
      "0.08213567733764648\n"
     ]
    },
    {
     "name": "stderr",
     "output_type": "stream",
     "text": [
      "\n",
      " 82%|████████████████████████████████▉       | 822/1000 [01:10<00:15, 11.66it/s]\u001b[A"
     ]
    },
    {
     "name": "stdout",
     "output_type": "stream",
     "text": [
      "0.08705830574035645\n",
      "0.08235979080200195\n",
      "0.08691644668579102\n"
     ]
    },
    {
     "name": "stderr",
     "output_type": "stream",
     "text": [
      "\n",
      " 82%|████████████████████████████████▉       | 824/1000 [01:10<00:15, 11.56it/s]\u001b[A\n",
      " 83%|█████████████████████████████████       | 826/1000 [01:10<00:15, 11.53it/s]\u001b[A"
     ]
    },
    {
     "name": "stdout",
     "output_type": "stream",
     "text": [
      "0.08835744857788086\n",
      "0.08911275863647461\n",
      "0.08420610427856445\n"
     ]
    },
    {
     "name": "stderr",
     "output_type": "stream",
     "text": [
      "\n",
      " 83%|█████████████████████████████████       | 828/1000 [01:10<00:14, 11.58it/s]\u001b[A"
     ]
    },
    {
     "name": "stdout",
     "output_type": "stream",
     "text": [
      "0.08710980415344238\n",
      "0.08278083801269531\n",
      "0.08733439445495605\n"
     ]
    },
    {
     "name": "stderr",
     "output_type": "stream",
     "text": [
      "\n",
      " 83%|█████████████████████████████████▏      | 830/1000 [01:10<00:14, 11.47it/s]\u001b[A\n",
      " 83%|█████████████████████████████████▎      | 832/1000 [01:11<00:14, 11.43it/s]\u001b[A"
     ]
    },
    {
     "name": "stdout",
     "output_type": "stream",
     "text": [
      "0.08996343612670898\n",
      "0.08801031112670898\n",
      "0.08695268630981445\n"
     ]
    },
    {
     "name": "stderr",
     "output_type": "stream",
     "text": [
      "\n",
      " 83%|█████████████████████████████████▎      | 834/1000 [01:11<00:14, 11.50it/s]\u001b[A"
     ]
    },
    {
     "name": "stdout",
     "output_type": "stream",
     "text": [
      "0.08801913261413574\n",
      "0.08209538459777832\n",
      "0.08507323265075684\n"
     ]
    },
    {
     "name": "stderr",
     "output_type": "stream",
     "text": [
      "\n",
      " 84%|█████████████████████████████████▍      | 836/1000 [01:11<00:14, 11.43it/s]\u001b[A\n",
      " 84%|█████████████████████████████████▌      | 838/1000 [01:11<00:14, 11.38it/s]\u001b[A"
     ]
    },
    {
     "name": "stdout",
     "output_type": "stream",
     "text": [
      "0.09138846397399902\n",
      "0.08839201927185059\n",
      "0.08780145645141602\n"
     ]
    },
    {
     "name": "stderr",
     "output_type": "stream",
     "text": [
      "\n",
      " 84%|█████████████████████████████████▌      | 840/1000 [01:11<00:13, 11.48it/s]\u001b[A"
     ]
    },
    {
     "name": "stdout",
     "output_type": "stream",
     "text": [
      "0.08688879013061523\n",
      "0.08279585838317871\n",
      "0.08436894416809082\n"
     ]
    },
    {
     "name": "stderr",
     "output_type": "stream",
     "text": [
      "\n",
      " 84%|█████████████████████████████████▋      | 842/1000 [01:11<00:13, 11.52it/s]\u001b[A\n",
      " 84%|█████████████████████████████████▊      | 844/1000 [01:12<00:13, 11.45it/s]\u001b[A"
     ]
    },
    {
     "name": "stdout",
     "output_type": "stream",
     "text": [
      "0.08649349212646484\n",
      "0.08906912803649902\n",
      "0.08674240112304688\n"
     ]
    },
    {
     "name": "stderr",
     "output_type": "stream",
     "text": [
      "\n",
      " 85%|█████████████████████████████████▊      | 846/1000 [01:12<00:13, 11.53it/s]\u001b[A"
     ]
    },
    {
     "name": "stdout",
     "output_type": "stream",
     "text": [
      "0.08722400665283203\n",
      "0.08209037780761719\n",
      "0.08583426475524902\n"
     ]
    },
    {
     "name": "stderr",
     "output_type": "stream",
     "text": [
      "\n",
      " 85%|█████████████████████████████████▉      | 848/1000 [01:12<00:13, 11.57it/s]\u001b[A\n",
      " 85%|██████████████████████████████████      | 850/1000 [01:12<00:13, 11.49it/s]\u001b[A"
     ]
    },
    {
     "name": "stdout",
     "output_type": "stream",
     "text": [
      "0.08443450927734375\n",
      "0.08848309516906738\n",
      "0.08716893196105957\n"
     ]
    },
    {
     "name": "stderr",
     "output_type": "stream",
     "text": [
      "\n",
      " 85%|██████████████████████████████████      | 852/1000 [01:12<00:12, 11.48it/s]\u001b[A"
     ]
    },
    {
     "name": "stdout",
     "output_type": "stream",
     "text": [
      "0.09051156044006348\n",
      "0.08317232131958008\n",
      "0.0855247974395752\n"
     ]
    },
    {
     "name": "stderr",
     "output_type": "stream",
     "text": [
      "\n",
      " 85%|██████████████████████████████████▏     | 854/1000 [01:12<00:12, 11.55it/s]\u001b[A\n",
      " 86%|██████████████████████████████████▏     | 856/1000 [01:13<00:12, 11.63it/s]\u001b[A"
     ]
    },
    {
     "name": "stdout",
     "output_type": "stream",
     "text": [
      "0.08423614501953125\n",
      "0.08616948127746582\n",
      "0.0820920467376709\n"
     ]
    },
    {
     "name": "stderr",
     "output_type": "stream",
     "text": [
      "\n",
      " 86%|██████████████████████████████████▎     | 858/1000 [01:13<00:12, 11.53it/s]\u001b[A"
     ]
    },
    {
     "name": "stdout",
     "output_type": "stream",
     "text": [
      "0.08745932579040527\n",
      "0.08818745613098145\n",
      "0.08810544013977051\n"
     ]
    },
    {
     "name": "stderr",
     "output_type": "stream",
     "text": [
      "\n",
      " 86%|██████████████████████████████████▍     | 860/1000 [01:13<00:12, 11.45it/s]\u001b[A\n",
      " 86%|██████████████████████████████████▍     | 862/1000 [01:13<00:11, 11.57it/s]\u001b[A"
     ]
    },
    {
     "name": "stdout",
     "output_type": "stream",
     "text": [
      "0.08818459510803223\n",
      "0.08552932739257812\n",
      "0.08187341690063477\n"
     ]
    },
    {
     "name": "stderr",
     "output_type": "stream",
     "text": [
      "\n",
      " 86%|██████████████████████████████████▌     | 864/1000 [01:13<00:11, 11.62it/s]\u001b[A"
     ]
    },
    {
     "name": "stdout",
     "output_type": "stream",
     "text": [
      "0.0873265266418457\n",
      "0.08208703994750977\n",
      "0.08698821067810059\n"
     ]
    },
    {
     "name": "stderr",
     "output_type": "stream",
     "text": [
      "\n",
      " 87%|██████████████████████████████████▋     | 866/1000 [01:13<00:11, 11.52it/s]\u001b[A\n",
      " 87%|██████████████████████████████████▋     | 868/1000 [01:14<00:11, 11.45it/s]\u001b[A"
     ]
    },
    {
     "name": "stdout",
     "output_type": "stream",
     "text": [
      "0.08905553817749023\n",
      "0.08909988403320312\n",
      "0.08677124977111816\n"
     ]
    },
    {
     "name": "stderr",
     "output_type": "stream",
     "text": [
      "\n",
      " 87%|██████████████████████████████████▊     | 870/1000 [01:14<00:11, 11.53it/s]\u001b[A"
     ]
    },
    {
     "name": "stdout",
     "output_type": "stream",
     "text": [
      "0.08719801902770996\n",
      "0.08242058753967285\n",
      "0.08603739738464355\n"
     ]
    },
    {
     "name": "stderr",
     "output_type": "stream",
     "text": [
      "\n",
      " 87%|██████████████████████████████████▉     | 872/1000 [01:14<00:11, 11.55it/s]\u001b[A\n",
      " 87%|██████████████████████████████████▉     | 874/1000 [01:14<00:10, 11.47it/s]\u001b[A"
     ]
    },
    {
     "name": "stdout",
     "output_type": "stream",
     "text": [
      "0.08550524711608887\n",
      "0.08855342864990234\n",
      "0.08719992637634277\n"
     ]
    },
    {
     "name": "stderr",
     "output_type": "stream",
     "text": [
      "\n",
      " 88%|███████████████████████████████████     | 876/1000 [01:14<00:10, 11.52it/s]\u001b[A"
     ]
    },
    {
     "name": "stdout",
     "output_type": "stream",
     "text": [
      "0.08876991271972656\n",
      "0.08202409744262695\n",
      "0.08772110939025879\n"
     ]
    },
    {
     "name": "stderr",
     "output_type": "stream",
     "text": [
      "\n",
      " 88%|███████████████████████████████████     | 878/1000 [01:15<00:10, 11.44it/s]\u001b[A\n",
      " 88%|███████████████████████████████████▏    | 880/1000 [01:15<00:10, 11.38it/s]\u001b[A"
     ]
    },
    {
     "name": "stdout",
     "output_type": "stream",
     "text": [
      "0.08874011039733887\n",
      "0.08891630172729492\n",
      "0.0875706672668457\n"
     ]
    },
    {
     "name": "stderr",
     "output_type": "stream",
     "text": [
      "\n",
      " 88%|███████████████████████████████████▎    | 882/1000 [01:15<00:10, 11.47it/s]\u001b[A"
     ]
    },
    {
     "name": "stdout",
     "output_type": "stream",
     "text": [
      "0.08825349807739258\n",
      "0.08204102516174316\n",
      "0.08702325820922852\n"
     ]
    },
    {
     "name": "stderr",
     "output_type": "stream",
     "text": [
      "\n",
      " 88%|███████████████████████████████████▎    | 884/1000 [01:15<00:10, 11.41it/s]\u001b[A\n",
      " 89%|███████████████████████████████████▍    | 886/1000 [01:15<00:10, 11.38it/s]\u001b[A"
     ]
    },
    {
     "name": "stdout",
     "output_type": "stream",
     "text": [
      "0.08964419364929199\n",
      "0.08837890625\n",
      "0.08685421943664551\n"
     ]
    },
    {
     "name": "stderr",
     "output_type": "stream",
     "text": [
      "\n",
      " 89%|███████████████████████████████████▌    | 888/1000 [01:15<00:09, 11.49it/s]\u001b[A"
     ]
    },
    {
     "name": "stdout",
     "output_type": "stream",
     "text": [
      "0.08719301223754883\n",
      "0.08197999000549316\n",
      "0.08492469787597656\n"
     ]
    },
    {
     "name": "stderr",
     "output_type": "stream",
     "text": [
      "\n",
      " 89%|███████████████████████████████████▌    | 890/1000 [01:16<00:09, 11.48it/s]\u001b[A\n",
      " 89%|███████████████████████████████████▋    | 892/1000 [01:16<00:09, 11.43it/s]\u001b[A"
     ]
    },
    {
     "name": "stdout",
     "output_type": "stream",
     "text": [
      "0.08861446380615234\n",
      "0.0880579948425293\n",
      "0.08748316764831543\n"
     ]
    },
    {
     "name": "stderr",
     "output_type": "stream",
     "text": [
      "\n",
      " 89%|███████████████████████████████████▊    | 894/1000 [01:16<00:09, 11.51it/s]\u001b[A"
     ]
    },
    {
     "name": "stdout",
     "output_type": "stream",
     "text": [
      "0.08755064010620117\n",
      "0.08177495002746582\n",
      "0.08391714096069336\n"
     ]
    },
    {
     "name": "stderr",
     "output_type": "stream",
     "text": [
      "\n",
      " 90%|███████████████████████████████████▊    | 896/1000 [01:16<00:08, 11.61it/s]\u001b[A\n",
      " 90%|███████████████████████████████████▉    | 898/1000 [01:16<00:08, 11.66it/s]\u001b[A"
     ]
    },
    {
     "name": "stdout",
     "output_type": "stream",
     "text": [
      "0.0838925838470459\n",
      "0.0864875316619873\n",
      "0.08244800567626953\n"
     ]
    },
    {
     "name": "stderr",
     "output_type": "stream",
     "text": [
      "\n",
      " 90%|████████████████████████████████████    | 900/1000 [01:16<00:08, 11.50it/s]\u001b[A"
     ]
    },
    {
     "name": "stdout",
     "output_type": "stream",
     "text": [
      "0.08999180793762207\n",
      "0.08819460868835449\n",
      "0.0881342887878418\n"
     ]
    },
    {
     "name": "stderr",
     "output_type": "stream",
     "text": [
      "\n",
      " 90%|████████████████████████████████████    | 902/1000 [01:17<00:08, 11.42it/s]\u001b[A\n",
      " 90%|████████████████████████████████████▏   | 904/1000 [01:17<00:08, 11.55it/s]\u001b[A"
     ]
    },
    {
     "name": "stdout",
     "output_type": "stream",
     "text": [
      "0.08837008476257324\n",
      "0.0855093002319336\n",
      "0.08194518089294434\n"
     ]
    },
    {
     "name": "stderr",
     "output_type": "stream",
     "text": [
      "\n",
      " 91%|████████████████████████████████████▏   | 906/1000 [01:17<00:08, 11.44it/s]\u001b[A"
     ]
    },
    {
     "name": "stdout",
     "output_type": "stream",
     "text": [
      "0.08983707427978516\n",
      "0.08754730224609375\n",
      "0.08832049369812012\n"
     ]
    },
    {
     "name": "stderr",
     "output_type": "stream",
     "text": [
      "\n",
      " 91%|████████████████████████████████████▎   | 908/1000 [01:17<00:08, 11.40it/s]\u001b[A\n",
      " 91%|████████████████████████████████████▍   | 910/1000 [01:17<00:07, 11.53it/s]\u001b[A"
     ]
    },
    {
     "name": "stdout",
     "output_type": "stream",
     "text": [
      "0.08713555335998535\n",
      "0.08649659156799316\n",
      "0.0817263126373291\n"
     ]
    },
    {
     "name": "stderr",
     "output_type": "stream",
     "text": [
      "\n",
      " 91%|████████████████████████████████████▍   | 912/1000 [01:17<00:07, 11.44it/s]\u001b[A"
     ]
    },
    {
     "name": "stdout",
     "output_type": "stream",
     "text": [
      "0.08969378471374512\n",
      "0.08734512329101562\n",
      "0.0873270034790039\n"
     ]
    },
    {
     "name": "stderr",
     "output_type": "stream",
     "text": [
      "\n",
      " 91%|████████████████████████████████████▌   | 914/1000 [01:18<00:07, 11.42it/s]\u001b[A\n",
      " 92%|████████████████████████████████████▋   | 916/1000 [01:18<00:07, 11.51it/s]\u001b[A"
     ]
    },
    {
     "name": "stdout",
     "output_type": "stream",
     "text": [
      "0.08689069747924805\n",
      "0.0879671573638916\n",
      "0.08192253112792969\n"
     ]
    },
    {
     "name": "stderr",
     "output_type": "stream",
     "text": [
      "\n",
      " 92%|████████████████████████████████████▋   | 918/1000 [01:18<00:07, 11.46it/s]\u001b[A"
     ]
    },
    {
     "name": "stdout",
     "output_type": "stream",
     "text": [
      "0.08783388137817383\n",
      "0.08706903457641602\n",
      "0.08982348442077637\n"
     ]
    },
    {
     "name": "stderr",
     "output_type": "stream",
     "text": [
      "\n",
      " 92%|████████████████████████████████████▊   | 920/1000 [01:18<00:07, 11.34it/s]\u001b[A\n",
      " 92%|████████████████████████████████████▉   | 922/1000 [01:18<00:06, 11.52it/s]\u001b[A"
     ]
    },
    {
     "name": "stdout",
     "output_type": "stream",
     "text": [
      "0.08975625038146973\n",
      "0.08422636985778809\n",
      "0.0818173885345459\n"
     ]
    },
    {
     "name": "stderr",
     "output_type": "stream",
     "text": [
      "\n",
      " 92%|████████████████████████████████████▉   | 924/1000 [01:19<00:06, 11.49it/s]\u001b[A"
     ]
    },
    {
     "name": "stdout",
     "output_type": "stream",
     "text": [
      "0.08849906921386719\n",
      "0.08553552627563477\n",
      "0.08859729766845703\n"
     ]
    },
    {
     "name": "stderr",
     "output_type": "stream",
     "text": [
      "\n",
      " 93%|█████████████████████████████████████   | 926/1000 [01:19<00:06, 11.39it/s]\u001b[A\n",
      " 93%|█████████████████████████████████████   | 928/1000 [01:19<00:06, 11.52it/s]\u001b[A"
     ]
    },
    {
     "name": "stdout",
     "output_type": "stream",
     "text": [
      "0.08876729011535645\n",
      "0.08623814582824707\n",
      "0.08189225196838379\n"
     ]
    },
    {
     "name": "stderr",
     "output_type": "stream",
     "text": [
      "\n",
      " 93%|█████████████████████████████████████▏  | 930/1000 [01:19<00:06, 11.54it/s]\u001b[A"
     ]
    },
    {
     "name": "stdout",
     "output_type": "stream",
     "text": [
      "0.08738327026367188\n",
      "0.08393478393554688\n",
      "0.08818483352661133\n"
     ]
    },
    {
     "name": "stderr",
     "output_type": "stream",
     "text": [
      "\n",
      " 93%|█████████████████████████████████████▎  | 932/1000 [01:19<00:05, 11.43it/s]\u001b[A\n",
      " 93%|█████████████████████████████████████▎  | 934/1000 [01:19<00:05, 11.38it/s]\u001b[A"
     ]
    },
    {
     "name": "stdout",
     "output_type": "stream",
     "text": [
      "0.08921599388122559\n",
      "0.09383893013000488\n",
      "0.08223319053649902\n"
     ]
    },
    {
     "name": "stderr",
     "output_type": "stream",
     "text": [
      "\n",
      " 94%|█████████████████████████████████████▍  | 936/1000 [01:20<00:05, 11.05it/s]\u001b[A"
     ]
    },
    {
     "name": "stdout",
     "output_type": "stream",
     "text": [
      "0.1007688045501709\n",
      "0.09131574630737305\n",
      "0.08820605278015137\n"
     ]
    },
    {
     "name": "stderr",
     "output_type": "stream",
     "text": [
      "\n",
      " 94%|█████████████████████████████████████▌  | 938/1000 [01:20<00:05, 11.10it/s]\u001b[A\n",
      " 94%|█████████████████████████████████████▌  | 940/1000 [01:20<00:05, 11.31it/s]\u001b[A"
     ]
    },
    {
     "name": "stdout",
     "output_type": "stream",
     "text": [
      "0.0890493392944336\n",
      "0.0857086181640625\n",
      "0.08208513259887695\n"
     ]
    },
    {
     "name": "stderr",
     "output_type": "stream",
     "text": [
      "\n",
      " 94%|█████████████████████████████████████▋  | 942/1000 [01:20<00:05, 11.29it/s]\u001b[A"
     ]
    },
    {
     "name": "stdout",
     "output_type": "stream",
     "text": [
      "0.0889744758605957\n",
      "0.08755660057067871\n",
      "0.09070324897766113\n"
     ]
    },
    {
     "name": "stderr",
     "output_type": "stream",
     "text": [
      "\n",
      " 94%|█████████████████████████████████████▊  | 944/1000 [01:20<00:04, 11.27it/s]\u001b[A\n",
      " 95%|█████████████████████████████████████▊  | 946/1000 [01:20<00:04, 11.37it/s]\u001b[A"
     ]
    },
    {
     "name": "stdout",
     "output_type": "stream",
     "text": [
      "0.08628416061401367\n",
      "0.0867159366607666\n",
      "0.08413362503051758\n"
     ]
    },
    {
     "name": "stderr",
     "output_type": "stream",
     "text": [
      "\n",
      " 95%|█████████████████████████████████████▉  | 948/1000 [01:21<00:04, 11.30it/s]\u001b[A"
     ]
    },
    {
     "name": "stdout",
     "output_type": "stream",
     "text": [
      "0.09036397933959961\n",
      "0.08786940574645996\n",
      "0.08554601669311523\n"
     ]
    },
    {
     "name": "stderr",
     "output_type": "stream",
     "text": [
      "\n",
      " 95%|██████████████████████████████████████  | 950/1000 [01:21<00:04, 11.41it/s]\u001b[A\n",
      " 95%|██████████████████████████████████████  | 952/1000 [01:21<00:04, 11.53it/s]\u001b[A"
     ]
    },
    {
     "name": "stdout",
     "output_type": "stream",
     "text": [
      "0.08492279052734375\n",
      "0.08541989326477051\n",
      "0.08278059959411621\n"
     ]
    },
    {
     "name": "stderr",
     "output_type": "stream",
     "text": [
      "\n",
      " 95%|██████████████████████████████████████▏ | 954/1000 [01:21<00:04, 11.50it/s]\u001b[A"
     ]
    },
    {
     "name": "stdout",
     "output_type": "stream",
     "text": [
      "0.08755230903625488\n",
      "0.08627152442932129\n",
      "0.08928871154785156\n"
     ]
    },
    {
     "name": "stderr",
     "output_type": "stream",
     "text": [
      "\n",
      " 96%|██████████████████████████████████████▏ | 956/1000 [01:21<00:03, 11.36it/s]\u001b[A\n",
      " 96%|██████████████████████████████████████▎ | 958/1000 [01:22<00:03, 11.48it/s]\u001b[A"
     ]
    },
    {
     "name": "stdout",
     "output_type": "stream",
     "text": [
      "0.09025382995605469\n",
      "0.08681941032409668\n",
      "0.08222556114196777\n"
     ]
    },
    {
     "name": "stderr",
     "output_type": "stream",
     "text": [
      "\n",
      " 96%|██████████████████████████████████████▍ | 960/1000 [01:22<00:03, 11.54it/s]\u001b[A"
     ]
    },
    {
     "name": "stdout",
     "output_type": "stream",
     "text": [
      "0.0877847671508789\n",
      "0.08218836784362793\n",
      "0.08795857429504395\n"
     ]
    },
    {
     "name": "stderr",
     "output_type": "stream",
     "text": [
      "\n",
      " 96%|██████████████████████████████████████▍ | 962/1000 [01:22<00:03, 11.44it/s]\u001b[A\n",
      " 96%|██████████████████████████████████████▌ | 964/1000 [01:22<00:03, 11.42it/s]\u001b[A"
     ]
    },
    {
     "name": "stdout",
     "output_type": "stream",
     "text": [
      "0.08900260925292969\n",
      "0.08890461921691895\n",
      "0.08612871170043945\n"
     ]
    },
    {
     "name": "stderr",
     "output_type": "stream",
     "text": [
      "\n",
      " 97%|██████████████████████████████████████▋ | 966/1000 [01:22<00:02, 11.46it/s]\u001b[A"
     ]
    },
    {
     "name": "stdout",
     "output_type": "stream",
     "text": [
      "0.08819580078125\n",
      "0.08351278305053711\n",
      "0.08766961097717285\n"
     ]
    },
    {
     "name": "stderr",
     "output_type": "stream",
     "text": [
      "\n",
      " 97%|██████████████████████████████████████▋ | 968/1000 [01:22<00:02, 11.36it/s]\u001b[A\n",
      " 97%|██████████████████████████████████████▊ | 970/1000 [01:23<00:02, 11.34it/s]\u001b[A"
     ]
    },
    {
     "name": "stdout",
     "output_type": "stream",
     "text": [
      "0.09078431129455566\n",
      "0.08875703811645508\n",
      "0.08702445030212402\n"
     ]
    },
    {
     "name": "stderr",
     "output_type": "stream",
     "text": [
      "\n",
      " 97%|██████████████████████████████████████▉ | 972/1000 [01:23<00:02, 11.43it/s]\u001b[A"
     ]
    },
    {
     "name": "stdout",
     "output_type": "stream",
     "text": [
      "0.08795499801635742\n",
      "0.0826101303100586\n",
      "0.08537769317626953\n"
     ]
    },
    {
     "name": "stderr",
     "output_type": "stream",
     "text": [
      "\n",
      " 97%|██████████████████████████████████████▉ | 974/1000 [01:23<00:02, 11.42it/s]\u001b[A\n",
      " 98%|███████████████████████████████████████ | 976/1000 [01:23<00:02, 11.34it/s]\u001b[A"
     ]
    },
    {
     "name": "stdout",
     "output_type": "stream",
     "text": [
      "0.08897709846496582\n",
      "0.08961772918701172\n",
      "0.08829212188720703\n"
     ]
    },
    {
     "name": "stderr",
     "output_type": "stream",
     "text": [
      "\n",
      " 98%|███████████████████████████████████████ | 978/1000 [01:23<00:01, 11.44it/s]\u001b[A"
     ]
    },
    {
     "name": "stdout",
     "output_type": "stream",
     "text": [
      "0.08789777755737305\n",
      "0.0823214054107666\n",
      "0.08564019203186035\n"
     ]
    },
    {
     "name": "stderr",
     "output_type": "stream",
     "text": [
      "\n",
      " 98%|███████████████████████████████████████▏| 980/1000 [01:23<00:01, 11.47it/s]\u001b[A\n",
      " 98%|███████████████████████████████████████▎| 982/1000 [01:24<00:01, 11.41it/s]\u001b[A"
     ]
    },
    {
     "name": "stdout",
     "output_type": "stream",
     "text": [
      "0.0865023136138916\n",
      "0.08887505531311035\n",
      "0.08745551109313965\n"
     ]
    },
    {
     "name": "stderr",
     "output_type": "stream",
     "text": [
      "\n",
      " 98%|███████████████████████████████████████▎| 984/1000 [01:24<00:01, 11.44it/s]\u001b[A"
     ]
    },
    {
     "name": "stdout",
     "output_type": "stream",
     "text": [
      "0.08976984024047852\n",
      "0.0825510025024414\n",
      "0.08533644676208496\n"
     ]
    },
    {
     "name": "stderr",
     "output_type": "stream",
     "text": [
      "\n",
      " 99%|███████████████████████████████████████▍| 986/1000 [01:24<00:01, 11.51it/s]\u001b[A\n",
      " 99%|███████████████████████████████████████▌| 988/1000 [01:24<00:01, 11.41it/s]\u001b[A"
     ]
    },
    {
     "name": "stdout",
     "output_type": "stream",
     "text": [
      "0.08475422859191895\n",
      "0.08867239952087402\n",
      "0.08891510963439941\n"
     ]
    },
    {
     "name": "stderr",
     "output_type": "stream",
     "text": [
      "\n",
      " 99%|███████████████████████████████████████▌| 990/1000 [01:24<00:00, 11.30it/s]\u001b[A"
     ]
    },
    {
     "name": "stdout",
     "output_type": "stream",
     "text": [
      "0.09606027603149414\n",
      "0.08396267890930176\n",
      "0.08527469635009766\n"
     ]
    },
    {
     "name": "stderr",
     "output_type": "stream",
     "text": [
      "\n",
      " 99%|███████████████████████████████████████▋| 992/1000 [01:25<00:00, 11.42it/s]\u001b[A\n",
      " 99%|███████████████████████████████████████▊| 994/1000 [01:25<00:00, 11.35it/s]\u001b[A"
     ]
    },
    {
     "name": "stdout",
     "output_type": "stream",
     "text": [
      "0.08441543579101562\n",
      "0.08870577812194824\n",
      "0.08881855010986328\n"
     ]
    },
    {
     "name": "stderr",
     "output_type": "stream",
     "text": [
      "\n",
      "100%|███████████████████████████████████████▊| 996/1000 [01:25<00:00, 11.35it/s]\u001b[A"
     ]
    },
    {
     "name": "stdout",
     "output_type": "stream",
     "text": [
      "0.08963847160339355\n",
      "0.08490753173828125\n",
      "0.08725762367248535\n"
     ]
    },
    {
     "name": "stderr",
     "output_type": "stream",
     "text": [
      "\n",
      "100%|███████████████████████████████████████▉| 998/1000 [01:25<00:00, 11.40it/s]\u001b[A\n",
      "100%|███████████████████████████████████████| 1000/1000 [01:25<00:00, 11.67it/s]\u001b[A\n",
      " 40%|██████████████████                           | 2/5 [02:50<04:15, 85.30s/it]"
     ]
    },
    {
     "name": "stdout",
     "output_type": "stream",
     "text": [
      "0.08510279655456543\n",
      "0.08741927146911621\n",
      "0.08863115310668945\n",
      "One run completed\n"
     ]
    },
    {
     "name": "stderr",
     "output_type": "stream",
     "text": [
      "\n",
      "  0%|                                                  | 0/1000 [00:00<?, ?it/s]\u001b[A\n",
      "  0%|                                          | 2/1000 [00:00<01:28, 11.29it/s]\u001b[A"
     ]
    },
    {
     "name": "stdout",
     "output_type": "stream",
     "text": [
      "0.08960080146789551\n",
      "0.08727383613586426\n",
      "0.08398652076721191\n"
     ]
    },
    {
     "name": "stderr",
     "output_type": "stream",
     "text": [
      "\n",
      "  0%|▏                                         | 4/1000 [00:00<01:25, 11.59it/s]\u001b[A\n",
      "  1%|▎                                         | 6/1000 [00:00<01:24, 11.79it/s]\u001b[A"
     ]
    },
    {
     "name": "stdout",
     "output_type": "stream",
     "text": [
      "0.08404731750488281\n",
      "0.08325052261352539\n",
      "0.08188915252685547\n"
     ]
    },
    {
     "name": "stderr",
     "output_type": "stream",
     "text": [
      "\n",
      "  1%|▎                                         | 8/1000 [00:00<01:24, 11.72it/s]\u001b[A"
     ]
    },
    {
     "name": "stdout",
     "output_type": "stream",
     "text": [
      "0.08808612823486328\n",
      "0.08307600021362305\n",
      "0.08837032318115234\n"
     ]
    },
    {
     "name": "stderr",
     "output_type": "stream",
     "text": [
      "\n",
      "  1%|▍                                        | 10/1000 [00:00<01:25, 11.55it/s]\u001b[A\n",
      "  1%|▍                                        | 12/1000 [00:01<01:25, 11.61it/s]\u001b[A"
     ]
    },
    {
     "name": "stdout",
     "output_type": "stream",
     "text": [
      "0.08800148963928223\n",
      "0.08650708198547363\n",
      "0.08252882957458496\n"
     ]
    },
    {
     "name": "stderr",
     "output_type": "stream",
     "text": [
      "\n",
      "  1%|▌                                        | 14/1000 [00:01<01:24, 11.65it/s]\u001b[A"
     ]
    },
    {
     "name": "stdout",
     "output_type": "stream",
     "text": [
      "0.08754849433898926\n",
      "0.08175873756408691\n",
      "0.08462667465209961\n"
     ]
    },
    {
     "name": "stderr",
     "output_type": "stream",
     "text": [
      "\n",
      "  2%|▋                                        | 16/1000 [00:01<01:24, 11.71it/s]\u001b[A\n",
      "  2%|▋                                        | 18/1000 [00:01<01:23, 11.76it/s]\u001b[A"
     ]
    },
    {
     "name": "stdout",
     "output_type": "stream",
     "text": [
      "0.0835118293762207\n",
      "0.08523869514465332\n",
      "0.08222341537475586\n"
     ]
    },
    {
     "name": "stderr",
     "output_type": "stream",
     "text": [
      "\n",
      "  2%|▊                                        | 20/1000 [00:01<01:23, 11.76it/s]\u001b[A"
     ]
    },
    {
     "name": "stdout",
     "output_type": "stream",
     "text": [
      "0.08595132827758789\n",
      "0.08286190032958984\n",
      "0.08573412895202637\n"
     ]
    },
    {
     "name": "stderr",
     "output_type": "stream",
     "text": [
      "\n",
      "  2%|▉                                        | 22/1000 [00:01<01:23, 11.74it/s]\u001b[A\n",
      "  2%|▉                                        | 24/1000 [00:02<01:22, 11.79it/s]\u001b[A"
     ]
    },
    {
     "name": "stdout",
     "output_type": "stream",
     "text": [
      "0.08431482315063477\n",
      "0.08438754081726074\n",
      "0.08257269859313965\n"
     ]
    },
    {
     "name": "stderr",
     "output_type": "stream",
     "text": [
      "\n",
      "  3%|█                                        | 26/1000 [00:02<01:22, 11.79it/s]\u001b[A"
     ]
    },
    {
     "name": "stdout",
     "output_type": "stream",
     "text": [
      "0.08679318428039551\n",
      "0.0817415714263916\n",
      "0.08450102806091309\n"
     ]
    },
    {
     "name": "stderr",
     "output_type": "stream",
     "text": [
      "\n",
      "  3%|█▏                                       | 28/1000 [00:02<01:22, 11.79it/s]\u001b[A\n",
      "  3%|█▏                                       | 30/1000 [00:02<01:22, 11.82it/s]\u001b[A"
     ]
    },
    {
     "name": "stdout",
     "output_type": "stream",
     "text": [
      "0.08388996124267578\n",
      "0.08479499816894531\n",
      "0.08218002319335938\n"
     ]
    },
    {
     "name": "stderr",
     "output_type": "stream",
     "text": [
      "\n",
      "  3%|█▎                                       | 32/1000 [00:02<01:21, 11.82it/s]\u001b[A"
     ]
    },
    {
     "name": "stdout",
     "output_type": "stream",
     "text": [
      "0.08675670623779297\n",
      "0.0818488597869873\n",
      "0.08588266372680664\n"
     ]
    },
    {
     "name": "stderr",
     "output_type": "stream",
     "text": [
      "\n",
      "  3%|█▍                                       | 34/1000 [00:02<01:21, 11.79it/s]\u001b[A\n",
      "  4%|█▍                                       | 36/1000 [00:03<01:21, 11.84it/s]\u001b[A"
     ]
    },
    {
     "name": "stdout",
     "output_type": "stream",
     "text": [
      "0.08362579345703125\n",
      "0.08387541770935059\n",
      "0.08266782760620117\n"
     ]
    },
    {
     "name": "stderr",
     "output_type": "stream",
     "text": [
      "\n",
      "  4%|█▌                                       | 38/1000 [00:03<01:21, 11.81it/s]\u001b[A"
     ]
    },
    {
     "name": "stdout",
     "output_type": "stream",
     "text": [
      "0.08708333969116211\n",
      "0.0820608139038086\n",
      "0.08512163162231445\n"
     ]
    },
    {
     "name": "stderr",
     "output_type": "stream",
     "text": [
      "\n",
      "  4%|█▋                                       | 40/1000 [00:03<01:21, 11.80it/s]\u001b[A\n",
      "  4%|█▋                                       | 42/1000 [00:03<01:21, 11.82it/s]\u001b[A"
     ]
    },
    {
     "name": "stdout",
     "output_type": "stream",
     "text": [
      "0.08355379104614258\n",
      "0.0854330062866211\n",
      "0.08176064491271973\n"
     ]
    },
    {
     "name": "stderr",
     "output_type": "stream",
     "text": [
      "\n",
      "  4%|█▊                                       | 44/1000 [00:03<01:20, 11.81it/s]\u001b[A"
     ]
    },
    {
     "name": "stdout",
     "output_type": "stream",
     "text": [
      "0.08661794662475586\n",
      "0.08207154273986816\n",
      "0.08627557754516602\n"
     ]
    },
    {
     "name": "stderr",
     "output_type": "stream",
     "text": [
      "\n",
      "  5%|█▉                                       | 46/1000 [00:03<01:20, 11.78it/s]\u001b[A\n",
      "  5%|█▉                                       | 48/1000 [00:04<01:20, 11.82it/s]\u001b[A"
     ]
    },
    {
     "name": "stdout",
     "output_type": "stream",
     "text": [
      "0.08368968963623047\n",
      "0.08501744270324707\n",
      "0.08190131187438965\n"
     ]
    },
    {
     "name": "stderr",
     "output_type": "stream",
     "text": [
      "\n",
      "  5%|██                                       | 50/1000 [00:04<01:20, 11.81it/s]\u001b[A"
     ]
    },
    {
     "name": "stdout",
     "output_type": "stream",
     "text": [
      "0.08673453330993652\n",
      "0.08179712295532227\n",
      "0.08548760414123535\n"
     ]
    },
    {
     "name": "stderr",
     "output_type": "stream",
     "text": [
      "\n",
      "  5%|██▏                                      | 52/1000 [00:04<01:20, 11.79it/s]\u001b[A\n",
      "  5%|██▏                                      | 54/1000 [00:04<01:20, 11.81it/s]\u001b[A"
     ]
    },
    {
     "name": "stdout",
     "output_type": "stream",
     "text": [
      "0.08414626121520996\n",
      "0.08562850952148438\n",
      "0.08182454109191895\n"
     ]
    },
    {
     "name": "stderr",
     "output_type": "stream",
     "text": [
      "\n",
      "  6%|██▎                                      | 56/1000 [00:04<01:19, 11.81it/s]\u001b[A"
     ]
    },
    {
     "name": "stdout",
     "output_type": "stream",
     "text": [
      "0.08624458312988281\n",
      "0.08218050003051758\n",
      "0.08591580390930176\n"
     ]
    },
    {
     "name": "stderr",
     "output_type": "stream",
     "text": [
      "\n",
      "  6%|██▍                                      | 58/1000 [00:04<01:19, 11.78it/s]\u001b[A\n",
      "  6%|██▍                                      | 60/1000 [00:05<01:19, 11.82it/s]\u001b[A"
     ]
    },
    {
     "name": "stdout",
     "output_type": "stream",
     "text": [
      "0.08358883857727051\n",
      "0.08463311195373535\n",
      "0.08207178115844727\n"
     ]
    },
    {
     "name": "stderr",
     "output_type": "stream",
     "text": [
      "\n",
      "  6%|██▌                                      | 62/1000 [00:05<01:20, 11.62it/s]\u001b[A"
     ]
    },
    {
     "name": "stdout",
     "output_type": "stream",
     "text": [
      "0.08979225158691406\n",
      "0.08796358108520508\n",
      "0.08753013610839844\n"
     ]
    },
    {
     "name": "stderr",
     "output_type": "stream",
     "text": [
      "\n",
      "  6%|██▌                                      | 64/1000 [00:05<01:21, 11.49it/s]\u001b[A\n",
      "  7%|██▋                                      | 66/1000 [00:05<01:21, 11.43it/s]\u001b[A"
     ]
    },
    {
     "name": "stdout",
     "output_type": "stream",
     "text": [
      "0.09001851081848145\n",
      "0.09053945541381836\n",
      "0.08531928062438965\n"
     ]
    },
    {
     "name": "stderr",
     "output_type": "stream",
     "text": [
      "\n",
      "  7%|██▊                                      | 68/1000 [00:05<01:20, 11.54it/s]\u001b[A"
     ]
    },
    {
     "name": "stdout",
     "output_type": "stream",
     "text": [
      "0.08663797378540039\n",
      "0.08171701431274414\n",
      "0.08538389205932617\n"
     ]
    },
    {
     "name": "stderr",
     "output_type": "stream",
     "text": [
      "\n",
      "  7%|██▊                                      | 70/1000 [00:05<01:20, 11.58it/s]\u001b[A\n",
      "  7%|██▉                                      | 72/1000 [00:06<01:19, 11.67it/s]\u001b[A"
     ]
    },
    {
     "name": "stdout",
     "output_type": "stream",
     "text": [
      "0.08483552932739258\n",
      "0.08528804779052734\n",
      "0.08222532272338867\n"
     ]
    },
    {
     "name": "stderr",
     "output_type": "stream",
     "text": [
      "\n",
      "  7%|███                                      | 74/1000 [00:06<01:19, 11.68it/s]\u001b[A"
     ]
    },
    {
     "name": "stdout",
     "output_type": "stream",
     "text": [
      "0.08717226982116699\n",
      "0.08243155479431152\n",
      "0.08661246299743652\n"
     ]
    },
    {
     "name": "stderr",
     "output_type": "stream",
     "text": [
      "\n",
      "  8%|███                                      | 76/1000 [00:06<01:19, 11.69it/s]\u001b[A\n",
      "  8%|███▏                                     | 78/1000 [00:06<01:18, 11.74it/s]\u001b[A"
     ]
    },
    {
     "name": "stdout",
     "output_type": "stream",
     "text": [
      "0.08360552787780762\n",
      "0.08521437644958496\n",
      "0.08209848403930664\n"
     ]
    },
    {
     "name": "stderr",
     "output_type": "stream",
     "text": [
      "\n",
      "  8%|███▎                                     | 80/1000 [00:06<01:18, 11.78it/s]\u001b[A"
     ]
    },
    {
     "name": "stdout",
     "output_type": "stream",
     "text": [
      "0.08578038215637207\n",
      "0.08198761940002441\n",
      "0.0850076675415039\n"
     ]
    },
    {
     "name": "stderr",
     "output_type": "stream",
     "text": [
      "\n",
      "  8%|███▎                                     | 82/1000 [00:06<01:17, 11.78it/s]\u001b[A\n",
      "  8%|███▍                                     | 84/1000 [00:07<01:17, 11.82it/s]\u001b[A"
     ]
    },
    {
     "name": "stdout",
     "output_type": "stream",
     "text": [
      "0.0838172435760498\n",
      "0.08464336395263672\n",
      "0.08213186264038086\n"
     ]
    },
    {
     "name": "stderr",
     "output_type": "stream",
     "text": [
      "\n",
      "  9%|███▌                                     | 86/1000 [00:07<01:17, 11.80it/s]\u001b[A"
     ]
    },
    {
     "name": "stdout",
     "output_type": "stream",
     "text": [
      "0.08712100982666016\n",
      "0.08200645446777344\n",
      "0.08587837219238281\n"
     ]
    },
    {
     "name": "stderr",
     "output_type": "stream",
     "text": [
      "\n",
      "  9%|███▌                                     | 88/1000 [00:07<01:17, 11.78it/s]\u001b[A\n",
      "  9%|███▋                                     | 90/1000 [00:07<01:17, 11.81it/s]\u001b[A"
     ]
    },
    {
     "name": "stdout",
     "output_type": "stream",
     "text": [
      "0.08367633819580078\n",
      "0.08548831939697266\n",
      "0.08162379264831543\n"
     ]
    },
    {
     "name": "stderr",
     "output_type": "stream",
     "text": [
      "\n",
      "  9%|███▊                                     | 92/1000 [00:07<01:16, 11.80it/s]\u001b[A"
     ]
    },
    {
     "name": "stdout",
     "output_type": "stream",
     "text": [
      "0.08680200576782227\n",
      "0.08205723762512207\n",
      "0.08476519584655762\n"
     ]
    },
    {
     "name": "stderr",
     "output_type": "stream",
     "text": [
      "\n",
      "  9%|███▊                                     | 94/1000 [00:08<01:16, 11.79it/s]\u001b[A\n",
      " 10%|███▉                                     | 96/1000 [00:08<01:16, 11.83it/s]\u001b[A"
     ]
    },
    {
     "name": "stdout",
     "output_type": "stream",
     "text": [
      "0.0845036506652832\n",
      "0.08448219299316406\n",
      "0.08201193809509277\n"
     ]
    },
    {
     "name": "stderr",
     "output_type": "stream",
     "text": [
      "\n",
      " 10%|████                                     | 98/1000 [00:08<01:16, 11.84it/s]\u001b[A"
     ]
    },
    {
     "name": "stdout",
     "output_type": "stream",
     "text": [
      "0.0860602855682373\n",
      "0.08166956901550293\n",
      "0.08623218536376953\n"
     ]
    },
    {
     "name": "stderr",
     "output_type": "stream",
     "text": [
      "\n",
      " 10%|████                                    | 100/1000 [00:08<01:16, 11.80it/s]\u001b[A\n",
      " 10%|████                                    | 102/1000 [00:08<01:15, 11.86it/s]\u001b[A"
     ]
    },
    {
     "name": "stdout",
     "output_type": "stream",
     "text": [
      "0.08340668678283691\n",
      "0.08405756950378418\n",
      "0.0814967155456543\n"
     ]
    },
    {
     "name": "stderr",
     "output_type": "stream",
     "text": [
      "\n",
      " 10%|████▏                                   | 104/1000 [00:08<01:15, 11.81it/s]\u001b[A"
     ]
    },
    {
     "name": "stdout",
     "output_type": "stream",
     "text": [
      "0.0880897045135498\n",
      "0.08200287818908691\n",
      "0.08488130569458008\n"
     ]
    },
    {
     "name": "stderr",
     "output_type": "stream",
     "text": [
      "\n",
      " 11%|████▏                                   | 106/1000 [00:09<01:15, 11.80it/s]\u001b[A\n",
      " 11%|████▎                                   | 108/1000 [00:09<01:15, 11.83it/s]\u001b[A"
     ]
    },
    {
     "name": "stdout",
     "output_type": "stream",
     "text": [
      "0.08411741256713867\n",
      "0.08488774299621582\n",
      "0.08216691017150879\n"
     ]
    },
    {
     "name": "stderr",
     "output_type": "stream",
     "text": [
      "\n",
      " 11%|████▍                                   | 110/1000 [00:09<01:15, 11.82it/s]\u001b[A"
     ]
    },
    {
     "name": "stdout",
     "output_type": "stream",
     "text": [
      "0.08668088912963867\n",
      "0.08188199996948242\n",
      "0.0859677791595459\n"
     ]
    },
    {
     "name": "stderr",
     "output_type": "stream",
     "text": [
      "\n",
      " 11%|████▍                                   | 112/1000 [00:09<01:15, 11.79it/s]\u001b[A"
     ]
    },
    {
     "name": "stdout",
     "output_type": "stream",
     "text": [
      "0.08384275436401367\n"
     ]
    },
    {
     "name": "stderr",
     "output_type": "stream",
     "text": [
      "\n",
      " 11%|████▌                                   | 114/1000 [00:09<01:34,  9.42it/s]\u001b[A"
     ]
    },
    {
     "name": "stdout",
     "output_type": "stream",
     "text": [
      "0.2282547950744629\n",
      "0.08252835273742676\n",
      "0.08538222312927246\n"
     ]
    },
    {
     "name": "stderr",
     "output_type": "stream",
     "text": [
      "\n",
      " 12%|████▋                                   | 116/1000 [00:10<01:28, 10.00it/s]\u001b[A\n",
      " 12%|████▋                                   | 118/1000 [00:10<01:23, 10.51it/s]\u001b[A"
     ]
    },
    {
     "name": "stdout",
     "output_type": "stream",
     "text": [
      "0.08495163917541504\n",
      "0.08419299125671387\n",
      "0.08205533027648926\n"
     ]
    },
    {
     "name": "stderr",
     "output_type": "stream",
     "text": [
      "\n",
      " 12%|████▊                                   | 120/1000 [00:10<01:21, 10.83it/s]\u001b[A"
     ]
    },
    {
     "name": "stdout",
     "output_type": "stream",
     "text": [
      "0.0883786678314209\n",
      "0.0824897289276123\n",
      "0.08545064926147461\n"
     ]
    },
    {
     "name": "stderr",
     "output_type": "stream",
     "text": [
      "\n",
      " 12%|████▉                                   | 122/1000 [00:10<01:19, 11.08it/s]\u001b[A\n",
      " 12%|████▉                                   | 124/1000 [00:10<01:17, 11.33it/s]\u001b[A"
     ]
    },
    {
     "name": "stdout",
     "output_type": "stream",
     "text": [
      "0.08426952362060547\n",
      "0.08454155921936035\n",
      "0.08170914649963379\n"
     ]
    },
    {
     "name": "stderr",
     "output_type": "stream",
     "text": [
      "\n",
      " 13%|█████                                   | 126/1000 [00:10<01:16, 11.47it/s]\u001b[A"
     ]
    },
    {
     "name": "stdout",
     "output_type": "stream",
     "text": [
      "0.08646774291992188\n",
      "0.08176493644714355\n",
      "0.08564949035644531\n"
     ]
    },
    {
     "name": "stderr",
     "output_type": "stream",
     "text": [
      "\n",
      " 13%|█████                                   | 128/1000 [00:11<01:15, 11.52it/s]\u001b[A\n",
      " 13%|█████▏                                  | 130/1000 [00:11<01:14, 11.65it/s]\u001b[A"
     ]
    },
    {
     "name": "stdout",
     "output_type": "stream",
     "text": [
      "0.08531475067138672\n",
      "0.08408880233764648\n",
      "0.08219313621520996\n"
     ]
    },
    {
     "name": "stderr",
     "output_type": "stream",
     "text": [
      "\n",
      " 13%|█████▎                                  | 132/1000 [00:11<01:14, 11.68it/s]\u001b[A"
     ]
    },
    {
     "name": "stdout",
     "output_type": "stream",
     "text": [
      "0.08713412284851074\n",
      "0.0821225643157959\n",
      "0.08558988571166992\n"
     ]
    },
    {
     "name": "stderr",
     "output_type": "stream",
     "text": [
      "\n",
      " 13%|█████▎                                  | 134/1000 [00:11<01:14, 11.69it/s]\u001b[A\n",
      " 14%|█████▍                                  | 136/1000 [00:11<01:13, 11.77it/s]\u001b[A"
     ]
    },
    {
     "name": "stdout",
     "output_type": "stream",
     "text": [
      "0.08392548561096191\n",
      "0.08427929878234863\n",
      "0.08184671401977539\n"
     ]
    },
    {
     "name": "stderr",
     "output_type": "stream",
     "text": [
      "\n",
      " 14%|█████▌                                  | 138/1000 [00:11<01:13, 11.67it/s]\u001b[A"
     ]
    },
    {
     "name": "stdout",
     "output_type": "stream",
     "text": [
      "0.09201931953430176\n",
      "0.08187365531921387\n",
      "0.08622622489929199\n"
     ]
    },
    {
     "name": "stderr",
     "output_type": "stream",
     "text": [
      "\n",
      " 14%|█████▌                                  | 140/1000 [00:12<01:13, 11.65it/s]\u001b[A\n",
      " 14%|█████▋                                  | 142/1000 [00:12<01:13, 11.73it/s]\u001b[A"
     ]
    },
    {
     "name": "stdout",
     "output_type": "stream",
     "text": [
      "0.0853424072265625\n",
      "0.08491158485412598\n",
      "0.08188509941101074\n"
     ]
    },
    {
     "name": "stderr",
     "output_type": "stream",
     "text": [
      "\n",
      " 14%|█████▊                                  | 144/1000 [00:12<01:12, 11.75it/s]\u001b[A"
     ]
    },
    {
     "name": "stdout",
     "output_type": "stream",
     "text": [
      "0.08682060241699219\n",
      "0.08180975914001465\n",
      "0.08636164665222168\n"
     ]
    },
    {
     "name": "stderr",
     "output_type": "stream",
     "text": [
      "\n",
      " 15%|█████▊                                  | 146/1000 [00:12<01:12, 11.71it/s]\u001b[A\n",
      " 15%|█████▉                                  | 148/1000 [00:12<01:12, 11.80it/s]\u001b[A"
     ]
    },
    {
     "name": "stdout",
     "output_type": "stream",
     "text": [
      "0.08436799049377441\n",
      "0.08382487297058105\n",
      "0.08184957504272461\n"
     ]
    },
    {
     "name": "stderr",
     "output_type": "stream",
     "text": [
      "\n",
      " 15%|██████                                  | 150/1000 [00:12<01:12, 11.76it/s]\u001b[A"
     ]
    },
    {
     "name": "stdout",
     "output_type": "stream",
     "text": [
      "0.08872032165527344\n",
      "0.0815877914428711\n",
      "0.08565354347229004\n"
     ]
    },
    {
     "name": "stderr",
     "output_type": "stream",
     "text": [
      "\n",
      " 15%|██████                                  | 152/1000 [00:13<01:12, 11.73it/s]\u001b[A\n",
      " 15%|██████▏                                 | 154/1000 [00:13<01:11, 11.80it/s]\u001b[A"
     ]
    },
    {
     "name": "stdout",
     "output_type": "stream",
     "text": [
      "0.08516287803649902\n",
      "0.08434176445007324\n",
      "0.08171296119689941\n"
     ]
    },
    {
     "name": "stderr",
     "output_type": "stream",
     "text": [
      "\n",
      " 16%|██████▏                                 | 156/1000 [00:13<01:11, 11.79it/s]\u001b[A"
     ]
    },
    {
     "name": "stdout",
     "output_type": "stream",
     "text": [
      "0.08686280250549316\n",
      "0.08172345161437988\n",
      "0.08601641654968262\n"
     ]
    },
    {
     "name": "stderr",
     "output_type": "stream",
     "text": [
      "\n",
      " 16%|██████▎                                 | 158/1000 [00:13<01:11, 11.76it/s]\u001b[A\n",
      " 16%|██████▍                                 | 160/1000 [00:13<01:10, 11.83it/s]\u001b[A"
     ]
    },
    {
     "name": "stdout",
     "output_type": "stream",
     "text": [
      "0.08403182029724121\n",
      "0.08404254913330078\n",
      "0.08166766166687012\n"
     ]
    },
    {
     "name": "stderr",
     "output_type": "stream",
     "text": [
      "\n",
      " 16%|██████▍                                 | 162/1000 [00:13<01:11, 11.79it/s]\u001b[A"
     ]
    },
    {
     "name": "stdout",
     "output_type": "stream",
     "text": [
      "0.08766818046569824\n",
      "0.08219194412231445\n",
      "0.08625268936157227\n"
     ]
    },
    {
     "name": "stderr",
     "output_type": "stream",
     "text": [
      "\n",
      " 16%|██████▌                                 | 164/1000 [00:14<01:11, 11.76it/s]\u001b[A\n",
      " 17%|██████▋                                 | 166/1000 [00:14<01:10, 11.81it/s]\u001b[A"
     ]
    },
    {
     "name": "stdout",
     "output_type": "stream",
     "text": [
      "0.08404302597045898\n",
      "0.08462095260620117\n",
      "0.08188796043395996\n"
     ]
    },
    {
     "name": "stderr",
     "output_type": "stream",
     "text": [
      "\n",
      " 17%|██████▋                                 | 168/1000 [00:14<01:10, 11.82it/s]\u001b[A"
     ]
    },
    {
     "name": "stdout",
     "output_type": "stream",
     "text": [
      "0.08633279800415039\n",
      "0.08171463012695312\n",
      "0.08679580688476562\n"
     ]
    },
    {
     "name": "stderr",
     "output_type": "stream",
     "text": [
      "\n",
      " 17%|██████▊                                 | 170/1000 [00:14<01:10, 11.76it/s]\u001b[A\n",
      " 17%|██████▉                                 | 172/1000 [00:14<01:10, 11.77it/s]\u001b[A"
     ]
    },
    {
     "name": "stdout",
     "output_type": "stream",
     "text": [
      "0.08407402038574219\n",
      "0.08659553527832031\n",
      "0.0817711353302002\n"
     ]
    },
    {
     "name": "stderr",
     "output_type": "stream",
     "text": [
      "\n",
      " 17%|██████▉                                 | 174/1000 [00:14<01:10, 11.77it/s]\u001b[A"
     ]
    },
    {
     "name": "stdout",
     "output_type": "stream",
     "text": [
      "0.08715319633483887\n",
      "0.08177995681762695\n",
      "0.08602285385131836\n"
     ]
    },
    {
     "name": "stderr",
     "output_type": "stream",
     "text": [
      "\n",
      " 18%|███████                                 | 176/1000 [00:15<01:10, 11.72it/s]\u001b[A\n",
      " 18%|███████                                 | 178/1000 [00:15<01:09, 11.75it/s]\u001b[A"
     ]
    },
    {
     "name": "stdout",
     "output_type": "stream",
     "text": [
      "0.0847926139831543\n",
      "0.08603382110595703\n",
      "0.08222818374633789\n"
     ]
    },
    {
     "name": "stderr",
     "output_type": "stream",
     "text": [
      "\n",
      " 18%|███████▏                                | 180/1000 [00:15<01:09, 11.75it/s]\u001b[A"
     ]
    },
    {
     "name": "stdout",
     "output_type": "stream",
     "text": [
      "0.08712267875671387\n",
      "0.081817626953125\n",
      "0.0853278636932373\n"
     ]
    },
    {
     "name": "stderr",
     "output_type": "stream",
     "text": [
      "\n",
      " 18%|███████▎                                | 182/1000 [00:15<01:09, 11.75it/s]\u001b[A\n",
      " 18%|███████▎                                | 184/1000 [00:15<01:09, 11.80it/s]\u001b[A"
     ]
    },
    {
     "name": "stdout",
     "output_type": "stream",
     "text": [
      "0.0840291976928711\n",
      "0.08480405807495117\n",
      "0.08167409896850586\n"
     ]
    },
    {
     "name": "stderr",
     "output_type": "stream",
     "text": [
      "\n",
      " 19%|███████▍                                | 186/1000 [00:15<01:09, 11.79it/s]\u001b[A"
     ]
    },
    {
     "name": "stdout",
     "output_type": "stream",
     "text": [
      "0.08732986450195312\n",
      "0.0818629264831543\n",
      "0.08562183380126953\n"
     ]
    },
    {
     "name": "stderr",
     "output_type": "stream",
     "text": [
      "\n",
      " 19%|███████▌                                | 188/1000 [00:16<01:08, 11.77it/s]\u001b[A\n",
      " 19%|███████▌                                | 190/1000 [00:16<01:08, 11.85it/s]\u001b[A"
     ]
    },
    {
     "name": "stdout",
     "output_type": "stream",
     "text": [
      "0.08364462852478027\n",
      "0.08356380462646484\n",
      "0.08160758018493652\n"
     ]
    },
    {
     "name": "stderr",
     "output_type": "stream",
     "text": [
      "\n",
      " 19%|███████▋                                | 192/1000 [00:16<01:08, 11.82it/s]\u001b[A"
     ]
    },
    {
     "name": "stdout",
     "output_type": "stream",
     "text": [
      "0.08730792999267578\n",
      "0.08186078071594238\n",
      "0.08644223213195801\n"
     ]
    },
    {
     "name": "stderr",
     "output_type": "stream",
     "text": [
      "\n",
      " 19%|███████▊                                | 194/1000 [00:16<01:08, 11.78it/s]\u001b[A\n",
      " 20%|███████▊                                | 196/1000 [00:16<01:08, 11.82it/s]\u001b[A"
     ]
    },
    {
     "name": "stdout",
     "output_type": "stream",
     "text": [
      "0.08355593681335449\n",
      "0.08503985404968262\n",
      "0.08180475234985352\n"
     ]
    },
    {
     "name": "stderr",
     "output_type": "stream",
     "text": [
      "\n",
      " 20%|███████▉                                | 198/1000 [00:16<01:07, 11.80it/s]\u001b[A"
     ]
    },
    {
     "name": "stdout",
     "output_type": "stream",
     "text": [
      "0.08697056770324707\n",
      "0.08208227157592773\n",
      "0.0853724479675293\n"
     ]
    },
    {
     "name": "stderr",
     "output_type": "stream",
     "text": [
      "\n",
      " 20%|████████                                | 200/1000 [00:17<01:07, 11.78it/s]\u001b[A\n",
      " 20%|████████                                | 202/1000 [00:17<01:07, 11.85it/s]\u001b[A"
     ]
    },
    {
     "name": "stdout",
     "output_type": "stream",
     "text": [
      "0.08397674560546875\n",
      "0.0837104320526123\n",
      "0.08176779747009277\n"
     ]
    },
    {
     "name": "stderr",
     "output_type": "stream",
     "text": [
      "\n",
      " 20%|████████▏                               | 204/1000 [00:17<01:07, 11.82it/s]\u001b[A"
     ]
    },
    {
     "name": "stdout",
     "output_type": "stream",
     "text": [
      "0.08727192878723145\n",
      "0.08192014694213867\n",
      "0.08621978759765625\n"
     ]
    },
    {
     "name": "stderr",
     "output_type": "stream",
     "text": [
      "\n",
      " 21%|████████▏                               | 206/1000 [00:17<01:07, 11.72it/s]\u001b[A\n",
      " 21%|████████▎                               | 208/1000 [00:17<01:07, 11.78it/s]\u001b[A"
     ]
    },
    {
     "name": "stdout",
     "output_type": "stream",
     "text": [
      "0.08680534362792969\n",
      "0.08466005325317383\n",
      "0.08193516731262207\n"
     ]
    },
    {
     "name": "stderr",
     "output_type": "stream",
     "text": [
      "\n",
      " 21%|████████▍                               | 210/1000 [00:17<01:07, 11.77it/s]\u001b[A"
     ]
    },
    {
     "name": "stdout",
     "output_type": "stream",
     "text": [
      "0.08660364151000977\n",
      "0.08239054679870605\n",
      "0.08627486228942871\n"
     ]
    },
    {
     "name": "stderr",
     "output_type": "stream",
     "text": [
      "\n",
      " 21%|████████▍                               | 212/1000 [00:18<01:07, 11.74it/s]\u001b[A\n",
      " 21%|████████▌                               | 214/1000 [00:18<01:06, 11.81it/s]\u001b[A"
     ]
    },
    {
     "name": "stdout",
     "output_type": "stream",
     "text": [
      "0.08388900756835938\n",
      "0.08370637893676758\n",
      "0.08212709426879883\n"
     ]
    },
    {
     "name": "stderr",
     "output_type": "stream",
     "text": [
      "\n",
      " 22%|████████▋                               | 216/1000 [00:18<01:06, 11.80it/s]\u001b[A"
     ]
    },
    {
     "name": "stdout",
     "output_type": "stream",
     "text": [
      "0.0868990421295166\n",
      "0.08191871643066406\n",
      "0.08482813835144043\n"
     ]
    },
    {
     "name": "stderr",
     "output_type": "stream",
     "text": [
      "\n",
      " 22%|████████▋                               | 218/1000 [00:18<01:06, 11.80it/s]\u001b[A\n",
      " 22%|████████▊                               | 220/1000 [00:18<01:05, 11.86it/s]\u001b[A"
     ]
    },
    {
     "name": "stdout",
     "output_type": "stream",
     "text": [
      "0.08364677429199219\n",
      "0.08425426483154297\n",
      "0.08140063285827637\n"
     ]
    },
    {
     "name": "stderr",
     "output_type": "stream",
     "text": [
      "\n",
      " 22%|████████▉                               | 222/1000 [00:19<01:05, 11.83it/s]\u001b[A"
     ]
    },
    {
     "name": "stdout",
     "output_type": "stream",
     "text": [
      "0.08646965026855469\n",
      "0.08234596252441406\n",
      "0.08455204963684082\n"
     ]
    },
    {
     "name": "stderr",
     "output_type": "stream",
     "text": [
      "\n",
      " 22%|████████▉                               | 224/1000 [00:19<01:05, 11.80it/s]\u001b[A\n",
      " 23%|█████████                               | 226/1000 [00:19<01:05, 11.79it/s]\u001b[A"
     ]
    },
    {
     "name": "stdout",
     "output_type": "stream",
     "text": [
      "0.08451247215270996\n",
      "0.08694624900817871\n",
      "0.08214497566223145\n"
     ]
    },
    {
     "name": "stderr",
     "output_type": "stream",
     "text": [
      "\n",
      " 23%|█████████                               | 228/1000 [00:19<01:05, 11.77it/s]\u001b[A"
     ]
    },
    {
     "name": "stdout",
     "output_type": "stream",
     "text": [
      "0.08754205703735352\n",
      "0.08209967613220215\n",
      "0.0854191780090332\n"
     ]
    },
    {
     "name": "stderr",
     "output_type": "stream",
     "text": [
      "\n",
      " 23%|█████████▏                              | 230/1000 [00:19<01:05, 11.76it/s]\u001b[A\n",
      " 23%|█████████▎                              | 232/1000 [00:19<01:05, 11.80it/s]\u001b[A"
     ]
    },
    {
     "name": "stdout",
     "output_type": "stream",
     "text": [
      "0.08365869522094727\n",
      "0.08527398109436035\n",
      "0.0819387435913086\n"
     ]
    },
    {
     "name": "stderr",
     "output_type": "stream",
     "text": [
      "\n",
      " 23%|█████████▎                              | 234/1000 [00:20<01:05, 11.78it/s]\u001b[A"
     ]
    },
    {
     "name": "stdout",
     "output_type": "stream",
     "text": [
      "0.08655619621276855\n",
      "0.08293771743774414\n",
      "0.08594131469726562\n"
     ]
    },
    {
     "name": "stderr",
     "output_type": "stream",
     "text": [
      "\n",
      " 24%|█████████▍                              | 236/1000 [00:20<01:05, 11.75it/s]\u001b[A\n",
      " 24%|█████████▌                              | 238/1000 [00:20<01:04, 11.82it/s]\u001b[A"
     ]
    },
    {
     "name": "stdout",
     "output_type": "stream",
     "text": [
      "0.08391332626342773\n",
      "0.08422207832336426\n",
      "0.08185625076293945\n"
     ]
    },
    {
     "name": "stderr",
     "output_type": "stream",
     "text": [
      "\n",
      " 24%|█████████▌                              | 240/1000 [00:20<01:04, 11.81it/s]\u001b[A"
     ]
    },
    {
     "name": "stdout",
     "output_type": "stream",
     "text": [
      "0.08705306053161621\n",
      "0.08172249794006348\n",
      "0.08496570587158203\n"
     ]
    },
    {
     "name": "stderr",
     "output_type": "stream",
     "text": [
      "\n",
      " 24%|█████████▋                              | 242/1000 [00:20<01:04, 11.81it/s]\u001b[A\n",
      " 24%|█████████▊                              | 244/1000 [00:20<01:03, 11.82it/s]\u001b[A"
     ]
    },
    {
     "name": "stdout",
     "output_type": "stream",
     "text": [
      "0.0833287239074707\n",
      "0.08545541763305664\n",
      "0.08205366134643555\n"
     ]
    },
    {
     "name": "stderr",
     "output_type": "stream",
     "text": [
      "\n",
      " 25%|█████████▊                              | 246/1000 [00:21<01:03, 11.80it/s]\u001b[A"
     ]
    },
    {
     "name": "stdout",
     "output_type": "stream",
     "text": [
      "0.08637285232543945\n",
      "0.08272480964660645\n",
      "0.08589291572570801\n"
     ]
    },
    {
     "name": "stderr",
     "output_type": "stream",
     "text": [
      "\n",
      " 25%|█████████▉                              | 248/1000 [00:21<01:04, 11.74it/s]\u001b[A\n",
      " 25%|██████████                              | 250/1000 [00:21<01:03, 11.80it/s]\u001b[A"
     ]
    },
    {
     "name": "stdout",
     "output_type": "stream",
     "text": [
      "0.08526778221130371\n",
      "0.08394932746887207\n",
      "0.0825042724609375\n"
     ]
    },
    {
     "name": "stderr",
     "output_type": "stream",
     "text": [
      "\n",
      " 25%|██████████                              | 252/1000 [00:21<01:03, 11.79it/s]\u001b[A"
     ]
    },
    {
     "name": "stdout",
     "output_type": "stream",
     "text": [
      "0.08684706687927246\n",
      "0.08194828033447266\n",
      "0.08480620384216309\n"
     ]
    },
    {
     "name": "stderr",
     "output_type": "stream",
     "text": [
      "\n",
      " 25%|██████████▏                             | 254/1000 [00:21<01:03, 11.80it/s]\u001b[A\n",
      " 26%|██████████▏                             | 256/1000 [00:21<01:02, 11.84it/s]\u001b[A"
     ]
    },
    {
     "name": "stdout",
     "output_type": "stream",
     "text": [
      "0.08341002464294434\n",
      "0.08469295501708984\n",
      "0.08171391487121582\n"
     ]
    },
    {
     "name": "stderr",
     "output_type": "stream",
     "text": [
      "\n",
      " 26%|██████████▎                             | 258/1000 [00:22<01:02, 11.80it/s]\u001b[A"
     ]
    },
    {
     "name": "stdout",
     "output_type": "stream",
     "text": [
      "0.08685088157653809\n",
      "0.08309626579284668\n",
      "0.08596634864807129\n"
     ]
    },
    {
     "name": "stderr",
     "output_type": "stream",
     "text": [
      "\n",
      " 26%|██████████▍                             | 260/1000 [00:22<01:02, 11.77it/s]\u001b[A\n",
      " 26%|██████████▍                             | 262/1000 [00:22<01:02, 11.78it/s]\u001b[A"
     ]
    },
    {
     "name": "stdout",
     "output_type": "stream",
     "text": [
      "0.08388733863830566\n",
      "0.08608245849609375\n",
      "0.08201146125793457\n"
     ]
    },
    {
     "name": "stderr",
     "output_type": "stream",
     "text": [
      "\n",
      " 26%|██████████▌                             | 264/1000 [00:22<01:02, 11.77it/s]\u001b[A"
     ]
    },
    {
     "name": "stdout",
     "output_type": "stream",
     "text": [
      "0.08726882934570312\n",
      "0.08211278915405273\n",
      "0.08462214469909668\n"
     ]
    },
    {
     "name": "stderr",
     "output_type": "stream",
     "text": [
      "\n",
      " 27%|██████████▋                             | 266/1000 [00:22<01:02, 11.78it/s]\u001b[A\n",
      " 27%|██████████▋                             | 268/1000 [00:22<01:01, 11.83it/s]\u001b[A"
     ]
    },
    {
     "name": "stdout",
     "output_type": "stream",
     "text": [
      "0.08353471755981445\n",
      "0.08433699607849121\n",
      "0.08208918571472168\n"
     ]
    },
    {
     "name": "stderr",
     "output_type": "stream",
     "text": [
      "\n",
      " 27%|██████████▊                             | 270/1000 [00:23<01:01, 11.79it/s]\u001b[A"
     ]
    },
    {
     "name": "stdout",
     "output_type": "stream",
     "text": [
      "0.0860140323638916\n",
      "0.08378362655639648\n",
      "0.08627724647521973\n"
     ]
    },
    {
     "name": "stderr",
     "output_type": "stream",
     "text": [
      "\n",
      " 27%|██████████▉                             | 272/1000 [00:23<01:02, 11.74it/s]\u001b[A\n",
      " 27%|██████████▉                             | 274/1000 [00:23<01:01, 11.78it/s]\u001b[A"
     ]
    },
    {
     "name": "stdout",
     "output_type": "stream",
     "text": [
      "0.08472895622253418\n",
      "0.0851597785949707\n",
      "0.08204841613769531\n"
     ]
    },
    {
     "name": "stderr",
     "output_type": "stream",
     "text": [
      "\n",
      " 28%|███████████                             | 276/1000 [00:23<01:01, 11.77it/s]\u001b[A"
     ]
    },
    {
     "name": "stdout",
     "output_type": "stream",
     "text": [
      "0.08724284172058105\n",
      "0.08232402801513672\n",
      "0.08871984481811523\n"
     ]
    },
    {
     "name": "stderr",
     "output_type": "stream",
     "text": [
      "\n",
      " 28%|███████████                             | 278/1000 [00:23<01:01, 11.69it/s]\u001b[A\n",
      " 28%|███████████▏                            | 280/1000 [00:23<01:01, 11.79it/s]\u001b[A"
     ]
    },
    {
     "name": "stdout",
     "output_type": "stream",
     "text": [
      "0.08381128311157227\n",
      "0.08383870124816895\n",
      "0.08174943923950195\n"
     ]
    },
    {
     "name": "stderr",
     "output_type": "stream",
     "text": [
      "\n",
      " 28%|███████████▎                            | 282/1000 [00:24<01:01, 11.76it/s]\u001b[A"
     ]
    },
    {
     "name": "stdout",
     "output_type": "stream",
     "text": [
      "0.08730792999267578\n",
      "0.08262825012207031\n",
      "0.08514952659606934\n"
     ]
    },
    {
     "name": "stderr",
     "output_type": "stream",
     "text": [
      "\n",
      " 28%|███████████▎                            | 284/1000 [00:24<01:00, 11.76it/s]\u001b[A\n",
      " 29%|███████████▍                            | 286/1000 [00:24<01:00, 11.80it/s]\u001b[A"
     ]
    },
    {
     "name": "stdout",
     "output_type": "stream",
     "text": [
      "0.08385443687438965\n",
      "0.08470726013183594\n",
      "0.08238482475280762\n"
     ]
    },
    {
     "name": "stderr",
     "output_type": "stream",
     "text": [
      "\n",
      " 29%|███████████▌                            | 288/1000 [00:24<01:00, 11.80it/s]\u001b[A"
     ]
    },
    {
     "name": "stdout",
     "output_type": "stream",
     "text": [
      "0.08657145500183105\n",
      "0.08195161819458008\n",
      "0.08567452430725098\n"
     ]
    },
    {
     "name": "stderr",
     "output_type": "stream",
     "text": [
      "\n",
      " 29%|███████████▌                            | 290/1000 [00:24<01:00, 11.77it/s]\u001b[A\n",
      " 29%|███████████▋                            | 292/1000 [00:24<00:59, 11.84it/s]\u001b[A"
     ]
    },
    {
     "name": "stdout",
     "output_type": "stream",
     "text": [
      "0.08401179313659668\n",
      "0.08361983299255371\n",
      "0.08175897598266602\n"
     ]
    },
    {
     "name": "stderr",
     "output_type": "stream",
     "text": [
      "\n",
      " 29%|███████████▊                            | 294/1000 [00:25<00:59, 11.80it/s]\u001b[A"
     ]
    },
    {
     "name": "stdout",
     "output_type": "stream",
     "text": [
      "0.08767962455749512\n",
      "0.08241701126098633\n",
      "0.08514881134033203\n"
     ]
    },
    {
     "name": "stderr",
     "output_type": "stream",
     "text": [
      "\n",
      " 30%|███████████▊                            | 296/1000 [00:25<00:59, 11.78it/s]\u001b[A\n",
      " 30%|███████████▉                            | 298/1000 [00:25<00:59, 11.81it/s]\u001b[A"
     ]
    },
    {
     "name": "stdout",
     "output_type": "stream",
     "text": [
      "0.08410024642944336\n",
      "0.08541703224182129\n",
      "0.0818171501159668\n"
     ]
    },
    {
     "name": "stderr",
     "output_type": "stream",
     "text": [
      "\n",
      " 30%|████████████                            | 300/1000 [00:25<00:59, 11.79it/s]\u001b[A"
     ]
    },
    {
     "name": "stdout",
     "output_type": "stream",
     "text": [
      "0.0872354507446289\n",
      "0.08211517333984375\n",
      "0.08585000038146973\n"
     ]
    },
    {
     "name": "stderr",
     "output_type": "stream",
     "text": [
      "\n",
      " 30%|████████████                            | 302/1000 [00:25<00:59, 11.76it/s]\u001b[A\n",
      " 30%|████████████▏                           | 304/1000 [00:25<00:58, 11.83it/s]\u001b[A"
     ]
    },
    {
     "name": "stdout",
     "output_type": "stream",
     "text": [
      "0.0838780403137207\n",
      "0.08380722999572754\n",
      "0.08199644088745117\n"
     ]
    },
    {
     "name": "stderr",
     "output_type": "stream",
     "text": [
      "\n",
      " 31%|████████████▏                           | 306/1000 [00:26<00:58, 11.79it/s]\u001b[A"
     ]
    },
    {
     "name": "stdout",
     "output_type": "stream",
     "text": [
      "0.0878443717956543\n",
      "0.08206820487976074\n",
      "0.0851747989654541\n"
     ]
    },
    {
     "name": "stderr",
     "output_type": "stream",
     "text": [
      "\n",
      " 31%|████████████▎                           | 308/1000 [00:26<00:58, 11.77it/s]\u001b[A\n",
      " 31%|████████████▍                           | 310/1000 [00:26<00:58, 11.81it/s]\u001b[A"
     ]
    },
    {
     "name": "stdout",
     "output_type": "stream",
     "text": [
      "0.08421087265014648\n",
      "0.08512330055236816\n",
      "0.08192658424377441\n"
     ]
    },
    {
     "name": "stderr",
     "output_type": "stream",
     "text": [
      "\n",
      " 31%|████████████▍                           | 312/1000 [00:26<00:58, 11.81it/s]\u001b[A"
     ]
    },
    {
     "name": "stdout",
     "output_type": "stream",
     "text": [
      "0.08666324615478516\n",
      "0.08190321922302246\n",
      "0.08591222763061523\n"
     ]
    },
    {
     "name": "stderr",
     "output_type": "stream",
     "text": [
      "\n",
      " 31%|████████████▌                           | 314/1000 [00:26<00:58, 11.77it/s]\u001b[A\n",
      " 32%|████████████▋                           | 316/1000 [00:26<00:58, 11.77it/s]\u001b[A"
     ]
    },
    {
     "name": "stdout",
     "output_type": "stream",
     "text": [
      "0.08424162864685059\n",
      "0.08688879013061523\n",
      "0.08196473121643066\n"
     ]
    },
    {
     "name": "stderr",
     "output_type": "stream",
     "text": [
      "\n",
      " 32%|████████████▋                           | 318/1000 [00:27<00:58, 11.76it/s]\u001b[A"
     ]
    },
    {
     "name": "stdout",
     "output_type": "stream",
     "text": [
      "0.08776378631591797\n",
      "0.0818943977355957\n",
      "0.08516979217529297\n"
     ]
    },
    {
     "name": "stderr",
     "output_type": "stream",
     "text": [
      "\n",
      " 32%|████████████▊                           | 320/1000 [00:27<00:57, 11.75it/s]\u001b[A\n",
      " 32%|████████████▉                           | 322/1000 [00:27<00:57, 11.77it/s]\u001b[A"
     ]
    },
    {
     "name": "stdout",
     "output_type": "stream",
     "text": [
      "0.08397531509399414\n",
      "0.08603191375732422\n",
      "0.08215188980102539\n"
     ]
    },
    {
     "name": "stderr",
     "output_type": "stream",
     "text": [
      "\n",
      " 32%|████████████▉                           | 324/1000 [00:27<00:57, 11.77it/s]\u001b[A"
     ]
    },
    {
     "name": "stdout",
     "output_type": "stream",
     "text": [
      "0.08658266067504883\n",
      "0.08217597007751465\n",
      "0.0864858627319336\n"
     ]
    },
    {
     "name": "stderr",
     "output_type": "stream",
     "text": [
      "\n",
      " 33%|█████████████                           | 326/1000 [00:27<00:57, 11.74it/s]\u001b[A\n",
      " 33%|█████████████                           | 328/1000 [00:28<00:56, 11.79it/s]\u001b[A"
     ]
    },
    {
     "name": "stdout",
     "output_type": "stream",
     "text": [
      "0.08399796485900879\n",
      "0.08485555648803711\n",
      "0.08189654350280762\n"
     ]
    },
    {
     "name": "stderr",
     "output_type": "stream",
     "text": [
      "\n",
      " 33%|█████████████▏                          | 330/1000 [00:28<00:57, 11.74it/s]\u001b[A"
     ]
    },
    {
     "name": "stdout",
     "output_type": "stream",
     "text": [
      "0.08817672729492188\n",
      "0.08292460441589355\n",
      "0.08398914337158203\n"
     ]
    },
    {
     "name": "stderr",
     "output_type": "stream",
     "text": [
      "\n",
      " 33%|█████████████▎                          | 332/1000 [00:28<00:56, 11.77it/s]\u001b[A\n",
      " 33%|█████████████▎                          | 334/1000 [00:28<00:56, 11.84it/s]\u001b[A"
     ]
    },
    {
     "name": "stdout",
     "output_type": "stream",
     "text": [
      "0.0835726261138916\n",
      "0.08353519439697266\n",
      "0.08202052116394043\n"
     ]
    },
    {
     "name": "stderr",
     "output_type": "stream",
     "text": [
      "\n",
      " 34%|█████████████▍                          | 336/1000 [00:28<00:56, 11.81it/s]\u001b[A"
     ]
    },
    {
     "name": "stdout",
     "output_type": "stream",
     "text": [
      "0.08718562126159668\n",
      "0.08186197280883789\n",
      "0.08638882637023926\n"
     ]
    },
    {
     "name": "stderr",
     "output_type": "stream",
     "text": [
      "\n",
      " 34%|█████████████▌                          | 338/1000 [00:28<00:56, 11.71it/s]\u001b[A\n",
      " 34%|█████████████▌                          | 340/1000 [00:29<00:57, 11.56it/s]\u001b[A"
     ]
    },
    {
     "name": "stdout",
     "output_type": "stream",
     "text": [
      "0.08678722381591797\n",
      "0.08912158012390137\n",
      "0.08763647079467773\n"
     ]
    },
    {
     "name": "stderr",
     "output_type": "stream",
     "text": [
      "\n",
      " 34%|█████████████▋                          | 342/1000 [00:29<00:56, 11.57it/s]\u001b[A"
     ]
    },
    {
     "name": "stdout",
     "output_type": "stream",
     "text": [
      "0.08936715126037598\n",
      "0.08209681510925293\n",
      "0.08455848693847656\n"
     ]
    },
    {
     "name": "stderr",
     "output_type": "stream",
     "text": [
      "\n",
      " 34%|█████████████▊                          | 344/1000 [00:29<00:56, 11.54it/s]\u001b[A\n",
      " 35%|█████████████▊                          | 346/1000 [00:29<00:57, 11.46it/s]\u001b[A"
     ]
    },
    {
     "name": "stdout",
     "output_type": "stream",
     "text": [
      "0.08847737312316895\n",
      "0.08893465995788574\n",
      "0.08702588081359863\n"
     ]
    },
    {
     "name": "stderr",
     "output_type": "stream",
     "text": [
      "\n",
      " 35%|█████████████▉                          | 348/1000 [00:29<00:56, 11.54it/s]\u001b[A"
     ]
    },
    {
     "name": "stdout",
     "output_type": "stream",
     "text": [
      "0.08704614639282227\n",
      "0.08250904083251953\n",
      "0.08795571327209473\n"
     ]
    },
    {
     "name": "stderr",
     "output_type": "stream",
     "text": [
      "\n",
      " 35%|██████████████                          | 350/1000 [00:29<00:57, 11.37it/s]\u001b[A\n",
      " 35%|██████████████                          | 352/1000 [00:30<00:56, 11.44it/s]\u001b[A"
     ]
    },
    {
     "name": "stdout",
     "output_type": "stream",
     "text": [
      "0.09256792068481445\n",
      "0.08710455894470215\n",
      "0.08413124084472656\n"
     ]
    },
    {
     "name": "stderr",
     "output_type": "stream",
     "text": [
      "\n",
      " 35%|██████████████▏                         | 354/1000 [00:30<00:56, 11.49it/s]\u001b[A"
     ]
    },
    {
     "name": "stdout",
     "output_type": "stream",
     "text": [
      "0.08826327323913574\n",
      "0.08254766464233398\n",
      "0.08627939224243164\n"
     ]
    },
    {
     "name": "stderr",
     "output_type": "stream",
     "text": [
      "\n",
      " 36%|██████████████▏                         | 356/1000 [00:30<00:56, 11.49it/s]\u001b[A\n",
      " 36%|██████████████▎                         | 358/1000 [00:30<00:55, 11.59it/s]\u001b[A"
     ]
    },
    {
     "name": "stdout",
     "output_type": "stream",
     "text": [
      "0.08670759201049805\n",
      "0.08566856384277344\n",
      "0.08210468292236328\n"
     ]
    },
    {
     "name": "stderr",
     "output_type": "stream",
     "text": [
      "\n",
      " 36%|██████████████▍                         | 360/1000 [00:30<00:55, 11.59it/s]\u001b[A"
     ]
    },
    {
     "name": "stdout",
     "output_type": "stream",
     "text": [
      "0.08884644508361816\n",
      "0.08268404006958008\n",
      "0.08503913879394531\n"
     ]
    },
    {
     "name": "stderr",
     "output_type": "stream",
     "text": [
      "\n",
      " 36%|██████████████▍                         | 362/1000 [00:30<00:54, 11.62it/s]\u001b[A\n",
      " 36%|██████████████▌                         | 364/1000 [00:31<00:54, 11.68it/s]\u001b[A"
     ]
    },
    {
     "name": "stdout",
     "output_type": "stream",
     "text": [
      "0.08511471748352051\n",
      "0.08537459373474121\n",
      "0.08269715309143066\n"
     ]
    },
    {
     "name": "stderr",
     "output_type": "stream",
     "text": [
      "\n",
      " 37%|██████████████▋                         | 366/1000 [00:31<00:54, 11.63it/s]\u001b[A"
     ]
    },
    {
     "name": "stdout",
     "output_type": "stream",
     "text": [
      "0.09032869338989258\n",
      "0.08200192451477051\n",
      "0.08581018447875977\n"
     ]
    },
    {
     "name": "stderr",
     "output_type": "stream",
     "text": [
      "\n",
      " 37%|██████████████▋                         | 368/1000 [00:31<00:54, 11.64it/s]\u001b[A\n",
      " 37%|██████████████▊                         | 370/1000 [00:31<00:53, 11.69it/s]\u001b[A"
     ]
    },
    {
     "name": "stdout",
     "output_type": "stream",
     "text": [
      "0.08479189872741699\n",
      "0.08606934547424316\n",
      "0.08227801322937012\n"
     ]
    },
    {
     "name": "stderr",
     "output_type": "stream",
     "text": [
      "\n",
      " 37%|██████████████▉                         | 372/1000 [00:31<00:53, 11.67it/s]\u001b[A"
     ]
    },
    {
     "name": "stdout",
     "output_type": "stream",
     "text": [
      "0.08803892135620117\n",
      "0.08257341384887695\n",
      "0.08706164360046387\n"
     ]
    },
    {
     "name": "stderr",
     "output_type": "stream",
     "text": [
      "\n",
      " 37%|██████████████▉                         | 374/1000 [00:31<00:53, 11.64it/s]\u001b[A\n",
      " 38%|███████████████                         | 376/1000 [00:32<00:53, 11.70it/s]\u001b[A"
     ]
    },
    {
     "name": "stdout",
     "output_type": "stream",
     "text": [
      "0.08488059043884277\n",
      "0.08603239059448242\n",
      "0.08170604705810547\n"
     ]
    },
    {
     "name": "stderr",
     "output_type": "stream",
     "text": [
      "\n",
      " 38%|███████████████                         | 378/1000 [00:32<00:53, 11.73it/s]\u001b[A"
     ]
    },
    {
     "name": "stdout",
     "output_type": "stream",
     "text": [
      "0.08663082122802734\n",
      "0.08200788497924805\n",
      "0.0856773853302002\n"
     ]
    },
    {
     "name": "stderr",
     "output_type": "stream",
     "text": [
      "\n",
      " 38%|███████████████▏                        | 380/1000 [00:32<00:52, 11.73it/s]\u001b[A\n",
      " 38%|███████████████▎                        | 382/1000 [00:32<00:52, 11.81it/s]\u001b[A"
     ]
    },
    {
     "name": "stdout",
     "output_type": "stream",
     "text": [
      "0.0835866928100586\n",
      "0.08376574516296387\n",
      "0.08185696601867676\n"
     ]
    },
    {
     "name": "stderr",
     "output_type": "stream",
     "text": [
      "\n",
      " 38%|███████████████▎                        | 384/1000 [00:32<00:52, 11.79it/s]\u001b[A"
     ]
    },
    {
     "name": "stdout",
     "output_type": "stream",
     "text": [
      "0.08741092681884766\n",
      "0.08223342895507812\n",
      "0.08474111557006836\n"
     ]
    },
    {
     "name": "stderr",
     "output_type": "stream",
     "text": [
      "\n",
      " 39%|███████████████▍                        | 386/1000 [00:32<00:52, 11.80it/s]\u001b[A\n",
      " 39%|███████████████▌                        | 388/1000 [00:33<00:51, 11.77it/s]\u001b[A"
     ]
    },
    {
     "name": "stdout",
     "output_type": "stream",
     "text": [
      "0.08358383178710938\n",
      "0.08680415153503418\n",
      "0.08279561996459961\n"
     ]
    },
    {
     "name": "stderr",
     "output_type": "stream",
     "text": [
      "\n",
      " 39%|███████████████▌                        | 390/1000 [00:33<00:51, 11.77it/s]\u001b[A"
     ]
    },
    {
     "name": "stdout",
     "output_type": "stream",
     "text": [
      "0.08667254447937012\n",
      "0.08238458633422852\n",
      "0.08605098724365234\n"
     ]
    },
    {
     "name": "stderr",
     "output_type": "stream",
     "text": [
      "\n",
      " 39%|███████████████▋                        | 392/1000 [00:33<00:51, 11.74it/s]\u001b[A\n",
      " 39%|███████████████▊                        | 394/1000 [00:33<00:51, 11.82it/s]\u001b[A"
     ]
    },
    {
     "name": "stdout",
     "output_type": "stream",
     "text": [
      "0.08386349678039551\n",
      "0.08389949798583984\n",
      "0.08171892166137695\n"
     ]
    },
    {
     "name": "stderr",
     "output_type": "stream",
     "text": [
      "\n",
      " 40%|███████████████▊                        | 396/1000 [00:33<00:51, 11.80it/s]\u001b[A"
     ]
    },
    {
     "name": "stdout",
     "output_type": "stream",
     "text": [
      "0.08698391914367676\n",
      "0.08219742774963379\n",
      "0.08458495140075684\n"
     ]
    },
    {
     "name": "stderr",
     "output_type": "stream",
     "text": [
      "\n",
      " 40%|███████████████▉                        | 398/1000 [00:34<00:50, 11.81it/s]\u001b[A\n",
      " 40%|████████████████                        | 400/1000 [00:34<00:50, 11.83it/s]\u001b[A"
     ]
    },
    {
     "name": "stdout",
     "output_type": "stream",
     "text": [
      "0.08323478698730469\n",
      "0.08544802665710449\n",
      "0.08182477951049805\n"
     ]
    },
    {
     "name": "stderr",
     "output_type": "stream",
     "text": [
      "\n",
      " 40%|████████████████                        | 402/1000 [00:34<00:50, 11.83it/s]\u001b[A"
     ]
    },
    {
     "name": "stdout",
     "output_type": "stream",
     "text": [
      "0.08654046058654785\n",
      "0.08179378509521484\n",
      "0.08387136459350586\n"
     ]
    },
    {
     "name": "stderr",
     "output_type": "stream",
     "text": [
      "\n",
      " 40%|████████████████▏                       | 404/1000 [00:34<00:50, 11.84it/s]\u001b[A\n",
      " 41%|████████████████▏                       | 406/1000 [00:34<00:49, 11.89it/s]\u001b[A"
     ]
    },
    {
     "name": "stdout",
     "output_type": "stream",
     "text": [
      "0.08358883857727051\n",
      "0.08362102508544922\n",
      "0.08184170722961426\n"
     ]
    },
    {
     "name": "stderr",
     "output_type": "stream",
     "text": [
      "\n",
      " 41%|████████████████▎                       | 408/1000 [00:34<00:49, 11.87it/s]\u001b[A"
     ]
    },
    {
     "name": "stdout",
     "output_type": "stream",
     "text": [
      "0.08660459518432617\n",
      "0.08178949356079102\n",
      "0.08554553985595703\n"
     ]
    },
    {
     "name": "stderr",
     "output_type": "stream",
     "text": [
      "\n",
      " 41%|████████████████▍                       | 410/1000 [00:35<00:49, 11.83it/s]\u001b[A\n",
      " 41%|████████████████▍                       | 412/1000 [00:35<00:49, 11.87it/s]\u001b[A"
     ]
    },
    {
     "name": "stdout",
     "output_type": "stream",
     "text": [
      "0.08372139930725098\n",
      "0.08444762229919434\n",
      "0.08178377151489258\n"
     ]
    },
    {
     "name": "stderr",
     "output_type": "stream",
     "text": [
      "\n",
      " 41%|████████████████▌                       | 414/1000 [00:35<00:49, 11.86it/s]\u001b[A"
     ]
    },
    {
     "name": "stdout",
     "output_type": "stream",
     "text": [
      "0.08600211143493652\n",
      "0.0818018913269043\n",
      "0.08492279052734375\n"
     ]
    },
    {
     "name": "stderr",
     "output_type": "stream",
     "text": [
      "\n",
      " 42%|████████████████▋                       | 416/1000 [00:35<00:49, 11.85it/s]\u001b[A\n",
      " 42%|████████████████▋                       | 418/1000 [00:35<00:49, 11.80it/s]\u001b[A"
     ]
    },
    {
     "name": "stdout",
     "output_type": "stream",
     "text": [
      "0.08341503143310547\n",
      "0.08665990829467773\n",
      "0.08333611488342285\n"
     ]
    },
    {
     "name": "stderr",
     "output_type": "stream",
     "text": [
      "\n",
      " 42%|████████████████▊                       | 420/1000 [00:35<00:49, 11.77it/s]\u001b[A"
     ]
    },
    {
     "name": "stdout",
     "output_type": "stream",
     "text": [
      "0.08573055267333984\n",
      "0.08417582511901855\n",
      "0.08476519584655762\n"
     ]
    },
    {
     "name": "stderr",
     "output_type": "stream",
     "text": [
      "\n",
      " 42%|████████████████▉                       | 422/1000 [00:36<00:49, 11.66it/s]\u001b[A\n",
      " 42%|████████████████▉                       | 424/1000 [00:36<00:49, 11.61it/s]\u001b[A"
     ]
    },
    {
     "name": "stdout",
     "output_type": "stream",
     "text": [
      "0.08916974067687988\n",
      "0.09012627601623535\n",
      "0.08222556114196777\n"
     ]
    },
    {
     "name": "stderr",
     "output_type": "stream",
     "text": [
      "\n",
      " 43%|█████████████████                       | 426/1000 [00:36<00:49, 11.68it/s]\u001b[A"
     ]
    },
    {
     "name": "stdout",
     "output_type": "stream",
     "text": [
      "0.08653497695922852\n",
      "0.08152389526367188\n",
      "0.08597683906555176\n"
     ]
    },
    {
     "name": "stderr",
     "output_type": "stream",
     "text": [
      "\n",
      " 43%|█████████████████                       | 428/1000 [00:36<00:48, 11.70it/s]\u001b[A\n",
      " 43%|█████████████████▏                      | 430/1000 [00:36<00:48, 11.77it/s]\u001b[A"
     ]
    },
    {
     "name": "stdout",
     "output_type": "stream",
     "text": [
      "0.08320260047912598\n",
      "0.08471870422363281\n",
      "0.08183073997497559\n"
     ]
    },
    {
     "name": "stderr",
     "output_type": "stream",
     "text": [
      "\n",
      " 43%|█████████████████▎                      | 432/1000 [00:36<00:48, 11.77it/s]\u001b[A"
     ]
    },
    {
     "name": "stdout",
     "output_type": "stream",
     "text": [
      "0.086669921875\n",
      "0.08195662498474121\n",
      "0.0841825008392334\n"
     ]
    },
    {
     "name": "stderr",
     "output_type": "stream",
     "text": [
      "\n",
      " 43%|█████████████████▎                      | 434/1000 [00:37<00:48, 11.78it/s]\u001b[A\n",
      " 44%|█████████████████▍                      | 436/1000 [00:37<00:47, 11.83it/s]\u001b[A"
     ]
    },
    {
     "name": "stdout",
     "output_type": "stream",
     "text": [
      "0.08401060104370117\n",
      "0.0849912166595459\n",
      "0.08173298835754395\n"
     ]
    },
    {
     "name": "stderr",
     "output_type": "stream",
     "text": [
      "\n",
      " 44%|█████████████████▌                      | 438/1000 [00:37<00:47, 11.81it/s]\u001b[A"
     ]
    },
    {
     "name": "stdout",
     "output_type": "stream",
     "text": [
      "0.08716106414794922\n",
      "0.08178877830505371\n",
      "0.08610081672668457\n"
     ]
    },
    {
     "name": "stderr",
     "output_type": "stream",
     "text": [
      "\n",
      " 44%|█████████████████▌                      | 440/1000 [00:37<00:47, 11.78it/s]\u001b[A\n",
      " 44%|█████████████████▋                      | 442/1000 [00:37<00:47, 11.83it/s]\u001b[A"
     ]
    },
    {
     "name": "stdout",
     "output_type": "stream",
     "text": [
      "0.08346247673034668\n",
      "0.08475184440612793\n",
      "0.0816800594329834\n"
     ]
    },
    {
     "name": "stderr",
     "output_type": "stream",
     "text": [
      "\n",
      " 44%|█████████████████▊                      | 444/1000 [00:37<00:47, 11.81it/s]\u001b[A"
     ]
    },
    {
     "name": "stdout",
     "output_type": "stream",
     "text": [
      "0.0867772102355957\n",
      "0.08205842971801758\n",
      "0.08487367630004883\n"
     ]
    },
    {
     "name": "stderr",
     "output_type": "stream",
     "text": [
      "\n",
      " 45%|█████████████████▊                      | 446/1000 [00:38<00:47, 11.74it/s]\u001b[A\n",
      " 45%|█████████████████▉                      | 448/1000 [00:38<00:46, 11.79it/s]\u001b[A"
     ]
    },
    {
     "name": "stdout",
     "output_type": "stream",
     "text": [
      "0.08686470985412598\n",
      "0.08530187606811523\n",
      "0.08139753341674805\n"
     ]
    },
    {
     "name": "stderr",
     "output_type": "stream",
     "text": [
      "\n",
      " 45%|██████████████████                      | 450/1000 [00:38<00:46, 11.80it/s]\u001b[A"
     ]
    },
    {
     "name": "stdout",
     "output_type": "stream",
     "text": [
      "0.08640050888061523\n",
      "0.0817875862121582\n",
      "0.0843198299407959\n"
     ]
    },
    {
     "name": "stderr",
     "output_type": "stream",
     "text": [
      "\n",
      " 45%|██████████████████                      | 452/1000 [00:38<00:46, 11.82it/s]\u001b[A\n",
      " 45%|██████████████████▏                     | 454/1000 [00:38<00:45, 11.89it/s]\u001b[A"
     ]
    },
    {
     "name": "stdout",
     "output_type": "stream",
     "text": [
      "0.0832984447479248\n",
      "0.08332300186157227\n",
      "0.08155250549316406\n"
     ]
    },
    {
     "name": "stderr",
     "output_type": "stream",
     "text": [
      "\n",
      " 46%|██████████████████▏                     | 456/1000 [00:38<00:45, 11.86it/s]\u001b[A"
     ]
    },
    {
     "name": "stdout",
     "output_type": "stream",
     "text": [
      "0.08637356758117676\n",
      "0.08193588256835938\n",
      "0.08468866348266602\n"
     ]
    },
    {
     "name": "stderr",
     "output_type": "stream",
     "text": [
      "\n",
      " 46%|██████████████████▎                     | 458/1000 [00:39<00:45, 11.82it/s]\u001b[A\n",
      " 46%|██████████████████▍                     | 460/1000 [00:39<00:45, 11.86it/s]\u001b[A"
     ]
    },
    {
     "name": "stdout",
     "output_type": "stream",
     "text": [
      "0.0847008228302002\n",
      "0.08463764190673828\n",
      "0.08174467086791992\n"
     ]
    },
    {
     "name": "stderr",
     "output_type": "stream",
     "text": [
      "\n",
      " 46%|██████████████████▍                     | 462/1000 [00:39<00:45, 11.84it/s]\u001b[A"
     ]
    },
    {
     "name": "stdout",
     "output_type": "stream",
     "text": [
      "0.08697032928466797\n",
      "0.08171772956848145\n",
      "0.08552217483520508\n"
     ]
    },
    {
     "name": "stderr",
     "output_type": "stream",
     "text": [
      "\n",
      " 46%|██████████████████▌                     | 464/1000 [00:39<00:45, 11.82it/s]\u001b[A\n",
      " 47%|██████████████████▋                     | 466/1000 [00:39<00:44, 11.88it/s]\u001b[A"
     ]
    },
    {
     "name": "stdout",
     "output_type": "stream",
     "text": [
      "0.08332562446594238\n",
      "0.08371567726135254\n",
      "0.08164334297180176\n"
     ]
    },
    {
     "name": "stderr",
     "output_type": "stream",
     "text": [
      "\n",
      " 47%|██████████████████▋                     | 468/1000 [00:39<00:44, 11.84it/s]\u001b[A"
     ]
    },
    {
     "name": "stdout",
     "output_type": "stream",
     "text": [
      "0.08736300468444824\n",
      "0.08166027069091797\n",
      "0.08623576164245605\n"
     ]
    },
    {
     "name": "stderr",
     "output_type": "stream",
     "text": [
      "\n",
      " 47%|██████████████████▊                     | 470/1000 [00:40<00:45, 11.78it/s]\u001b[A\n",
      " 47%|██████████████████▉                     | 472/1000 [00:40<00:44, 11.82it/s]\u001b[A"
     ]
    },
    {
     "name": "stdout",
     "output_type": "stream",
     "text": [
      "0.08485531806945801\n",
      "0.08506488800048828\n",
      "0.08153390884399414\n"
     ]
    },
    {
     "name": "stderr",
     "output_type": "stream",
     "text": [
      "\n",
      " 47%|██████████████████▉                     | 474/1000 [00:40<00:45, 11.68it/s]\u001b[A"
     ]
    },
    {
     "name": "stdout",
     "output_type": "stream",
     "text": [
      "0.08787107467651367\n",
      "0.0869452953338623\n",
      "0.0879366397857666\n"
     ]
    },
    {
     "name": "stderr",
     "output_type": "stream",
     "text": [
      "\n",
      " 48%|███████████████████                     | 476/1000 [00:40<00:45, 11.60it/s]\u001b[A\n",
      " 48%|███████████████████                     | 478/1000 [00:40<00:44, 11.69it/s]\u001b[A"
     ]
    },
    {
     "name": "stdout",
     "output_type": "stream",
     "text": [
      "0.08616137504577637\n",
      "0.08528876304626465\n",
      "0.08156943321228027\n"
     ]
    },
    {
     "name": "stderr",
     "output_type": "stream",
     "text": [
      "\n",
      " 48%|███████████████████▏                    | 480/1000 [00:40<00:44, 11.72it/s]\u001b[A"
     ]
    },
    {
     "name": "stdout",
     "output_type": "stream",
     "text": [
      "0.08641362190246582\n",
      "0.08223676681518555\n",
      "0.08609437942504883\n"
     ]
    },
    {
     "name": "stderr",
     "output_type": "stream",
     "text": [
      "\n",
      " 48%|███████████████████▎                    | 482/1000 [00:41<00:44, 11.70it/s]\u001b[A\n",
      " 48%|███████████████████▎                    | 484/1000 [00:41<00:43, 11.79it/s]\u001b[A"
     ]
    },
    {
     "name": "stdout",
     "output_type": "stream",
     "text": [
      "0.08449745178222656\n",
      "0.08359456062316895\n",
      "0.08173322677612305\n"
     ]
    },
    {
     "name": "stderr",
     "output_type": "stream",
     "text": [
      "\n",
      " 49%|███████████████████▍                    | 486/1000 [00:41<00:43, 11.79it/s]\u001b[A"
     ]
    },
    {
     "name": "stdout",
     "output_type": "stream",
     "text": [
      "0.08667278289794922\n",
      "0.08186006546020508\n",
      "0.08918547630310059\n"
     ]
    },
    {
     "name": "stderr",
     "output_type": "stream",
     "text": [
      "\n",
      " 49%|███████████████████▌                    | 488/1000 [00:41<00:43, 11.70it/s]\u001b[A\n",
      " 49%|███████████████████▌                    | 490/1000 [00:41<00:43, 11.74it/s]\u001b[A"
     ]
    },
    {
     "name": "stdout",
     "output_type": "stream",
     "text": [
      "0.08396267890930176\n",
      "0.08606815338134766\n",
      "0.08196592330932617\n"
     ]
    },
    {
     "name": "stderr",
     "output_type": "stream",
     "text": [
      "\n",
      " 49%|███████████████████▋                    | 492/1000 [00:41<00:43, 11.75it/s]\u001b[A"
     ]
    },
    {
     "name": "stdout",
     "output_type": "stream",
     "text": [
      "0.08693909645080566\n",
      "0.08196449279785156\n",
      "0.08680295944213867\n"
     ]
    },
    {
     "name": "stderr",
     "output_type": "stream",
     "text": [
      "\n",
      " 49%|███████████████████▊                    | 494/1000 [00:42<00:43, 11.72it/s]\u001b[A\n",
      " 50%|███████████████████▊                    | 496/1000 [00:42<00:42, 11.77it/s]\u001b[A"
     ]
    },
    {
     "name": "stdout",
     "output_type": "stream",
     "text": [
      "0.08408975601196289\n",
      "0.08518743515014648\n",
      "0.08186221122741699\n"
     ]
    },
    {
     "name": "stderr",
     "output_type": "stream",
     "text": [
      "\n",
      " 50%|███████████████████▉                    | 498/1000 [00:42<00:42, 11.78it/s]\u001b[A"
     ]
    },
    {
     "name": "stdout",
     "output_type": "stream",
     "text": [
      "0.08678913116455078\n",
      "0.08196616172790527\n",
      "0.08442878723144531\n"
     ]
    },
    {
     "name": "stderr",
     "output_type": "stream",
     "text": [
      "\n",
      " 50%|████████████████████                    | 500/1000 [00:42<00:42, 11.80it/s]\u001b[A\n",
      " 50%|████████████████████                    | 502/1000 [00:42<00:42, 11.81it/s]\u001b[A"
     ]
    },
    {
     "name": "stdout",
     "output_type": "stream",
     "text": [
      "0.08341574668884277\n",
      "0.08617806434631348\n",
      "0.08157062530517578\n"
     ]
    },
    {
     "name": "stderr",
     "output_type": "stream",
     "text": [
      "\n",
      " 50%|████████████████████▏                   | 504/1000 [00:42<00:42, 11.80it/s]\u001b[A"
     ]
    },
    {
     "name": "stdout",
     "output_type": "stream",
     "text": [
      "0.08685922622680664\n",
      "0.08244943618774414\n",
      "0.08725380897521973\n"
     ]
    },
    {
     "name": "stderr",
     "output_type": "stream",
     "text": [
      "\n",
      " 51%|████████████████████▏                   | 506/1000 [00:43<00:42, 11.73it/s]\u001b[A\n",
      " 51%|████████████████████▎                   | 508/1000 [00:43<00:41, 11.77it/s]\u001b[A"
     ]
    },
    {
     "name": "stdout",
     "output_type": "stream",
     "text": [
      "0.08417487144470215\n",
      "0.08530449867248535\n",
      "0.0822134017944336\n"
     ]
    },
    {
     "name": "stderr",
     "output_type": "stream",
     "text": [
      "\n",
      " 51%|████████████████████▍                   | 510/1000 [00:43<00:41, 11.76it/s]\u001b[A"
     ]
    },
    {
     "name": "stdout",
     "output_type": "stream",
     "text": [
      "0.08722448348999023\n",
      "0.08211827278137207\n",
      "0.08563542366027832\n"
     ]
    },
    {
     "name": "stderr",
     "output_type": "stream",
     "text": [
      "\n",
      " 51%|████████████████████▍                   | 512/1000 [00:43<00:41, 11.75it/s]\u001b[A\n",
      " 51%|████████████████████▌                   | 514/1000 [00:43<00:41, 11.76it/s]\u001b[A"
     ]
    },
    {
     "name": "stdout",
     "output_type": "stream",
     "text": [
      "0.08379840850830078\n",
      "0.08627653121948242\n",
      "0.08203268051147461\n"
     ]
    },
    {
     "name": "stderr",
     "output_type": "stream",
     "text": [
      "\n",
      " 52%|████████████████████▋                   | 516/1000 [00:44<00:41, 11.76it/s]\u001b[A"
     ]
    },
    {
     "name": "stdout",
     "output_type": "stream",
     "text": [
      "0.08709120750427246\n",
      "0.08200860023498535\n",
      "0.08547329902648926\n"
     ]
    },
    {
     "name": "stderr",
     "output_type": "stream",
     "text": [
      "\n",
      " 52%|████████████████████▋                   | 518/1000 [00:44<00:41, 11.74it/s]\u001b[A\n",
      " 52%|████████████████████▊                   | 520/1000 [00:44<00:40, 11.79it/s]\u001b[A"
     ]
    },
    {
     "name": "stdout",
     "output_type": "stream",
     "text": [
      "0.08443212509155273\n",
      "0.08459234237670898\n",
      "0.0820457935333252\n"
     ]
    },
    {
     "name": "stderr",
     "output_type": "stream",
     "text": [
      "\n",
      " 52%|████████████████████▉                   | 522/1000 [00:44<00:40, 11.78it/s]\u001b[A"
     ]
    },
    {
     "name": "stdout",
     "output_type": "stream",
     "text": [
      "0.08690381050109863\n",
      "0.0824427604675293\n",
      "0.08582067489624023\n"
     ]
    },
    {
     "name": "stderr",
     "output_type": "stream",
     "text": [
      "\n",
      " 52%|████████████████████▉                   | 524/1000 [00:44<00:40, 11.74it/s]\u001b[A\n",
      " 53%|█████████████████████                   | 526/1000 [00:44<00:40, 11.79it/s]\u001b[A"
     ]
    },
    {
     "name": "stdout",
     "output_type": "stream",
     "text": [
      "0.08456587791442871\n",
      "0.08506369590759277\n",
      "0.08194947242736816\n"
     ]
    },
    {
     "name": "stderr",
     "output_type": "stream",
     "text": [
      "\n",
      " 53%|█████████████████████                   | 528/1000 [00:45<00:40, 11.77it/s]\u001b[A"
     ]
    },
    {
     "name": "stdout",
     "output_type": "stream",
     "text": [
      "0.08748865127563477\n",
      "0.08183956146240234\n",
      "0.0854039192199707\n"
     ]
    },
    {
     "name": "stderr",
     "output_type": "stream",
     "text": [
      "\n",
      " 53%|█████████████████████▏                  | 530/1000 [00:45<00:40, 11.75it/s]\u001b[A\n",
      " 53%|█████████████████████▎                  | 532/1000 [00:45<00:39, 11.81it/s]\u001b[A"
     ]
    },
    {
     "name": "stdout",
     "output_type": "stream",
     "text": [
      "0.08448290824890137\n",
      "0.08390974998474121\n",
      "0.08210873603820801\n"
     ]
    },
    {
     "name": "stderr",
     "output_type": "stream",
     "text": [
      "\n",
      " 53%|█████████████████████▎                  | 534/1000 [00:45<00:39, 11.79it/s]\u001b[A"
     ]
    },
    {
     "name": "stdout",
     "output_type": "stream",
     "text": [
      "0.08754611015319824\n",
      "0.08199262619018555\n",
      "0.08639669418334961\n"
     ]
    },
    {
     "name": "stderr",
     "output_type": "stream",
     "text": [
      "\n",
      " 54%|█████████████████████▍                  | 536/1000 [00:45<00:39, 11.75it/s]\u001b[A\n",
      " 54%|█████████████████████▌                  | 538/1000 [00:45<00:39, 11.79it/s]\u001b[A"
     ]
    },
    {
     "name": "stdout",
     "output_type": "stream",
     "text": [
      "0.08385443687438965\n",
      "0.08513283729553223\n",
      "0.08209943771362305\n"
     ]
    },
    {
     "name": "stderr",
     "output_type": "stream",
     "text": [
      "\n",
      " 54%|█████████████████████▌                  | 540/1000 [00:46<00:39, 11.76it/s]\u001b[A"
     ]
    },
    {
     "name": "stdout",
     "output_type": "stream",
     "text": [
      "0.0872812271118164\n",
      "0.08285355567932129\n",
      "0.08664417266845703\n"
     ]
    },
    {
     "name": "stderr",
     "output_type": "stream",
     "text": [
      "\n",
      " 54%|█████████████████████▋                  | 542/1000 [00:46<00:39, 11.72it/s]\u001b[A\n",
      " 54%|█████████████████████▊                  | 544/1000 [00:46<00:38, 11.79it/s]\u001b[A"
     ]
    },
    {
     "name": "stdout",
     "output_type": "stream",
     "text": [
      "0.08401608467102051\n",
      "0.08378148078918457\n",
      "0.08209466934204102\n"
     ]
    },
    {
     "name": "stderr",
     "output_type": "stream",
     "text": [
      "\n",
      " 55%|█████████████████████▊                  | 546/1000 [00:46<00:38, 11.77it/s]\u001b[A"
     ]
    },
    {
     "name": "stdout",
     "output_type": "stream",
     "text": [
      "0.08753156661987305\n",
      "0.08226776123046875\n",
      "0.0882265567779541\n"
     ]
    },
    {
     "name": "stderr",
     "output_type": "stream",
     "text": [
      "\n",
      " 55%|█████████████████████▉                  | 548/1000 [00:46<00:38, 11.69it/s]\u001b[A\n",
      " 55%|██████████████████████                  | 550/1000 [00:46<00:38, 11.71it/s]\u001b[A"
     ]
    },
    {
     "name": "stdout",
     "output_type": "stream",
     "text": [
      "0.08434796333312988\n",
      "0.08681464195251465\n",
      "0.08211898803710938\n"
     ]
    },
    {
     "name": "stderr",
     "output_type": "stream",
     "text": [
      "\n",
      " 55%|██████████████████████                  | 552/1000 [00:47<00:38, 11.72it/s]\u001b[A"
     ]
    },
    {
     "name": "stdout",
     "output_type": "stream",
     "text": [
      "0.08658003807067871\n",
      "0.08270788192749023\n",
      "0.08492732048034668\n"
     ]
    },
    {
     "name": "stderr",
     "output_type": "stream",
     "text": [
      "\n",
      " 55%|██████████████████████▏                 | 554/1000 [00:47<00:38, 11.72it/s]\u001b[A\n",
      " 56%|██████████████████████▏                 | 556/1000 [00:47<00:37, 11.77it/s]\u001b[A"
     ]
    },
    {
     "name": "stdout",
     "output_type": "stream",
     "text": [
      "0.08461737632751465\n",
      "0.0848836898803711\n",
      "0.08199167251586914\n"
     ]
    },
    {
     "name": "stderr",
     "output_type": "stream",
     "text": [
      "\n",
      " 56%|██████████████████████▎                 | 558/1000 [00:47<00:37, 11.77it/s]\u001b[A"
     ]
    },
    {
     "name": "stdout",
     "output_type": "stream",
     "text": [
      "0.08687210083007812\n",
      "0.08210611343383789\n",
      "0.0857548713684082\n"
     ]
    },
    {
     "name": "stderr",
     "output_type": "stream",
     "text": [
      "\n",
      " 56%|██████████████████████▍                 | 560/1000 [00:47<00:37, 11.76it/s]\u001b[A\n",
      " 56%|██████████████████████▍                 | 562/1000 [00:47<00:37, 11.82it/s]\u001b[A"
     ]
    },
    {
     "name": "stdout",
     "output_type": "stream",
     "text": [
      "0.08376145362854004\n",
      "0.0842444896697998\n",
      "0.0819554328918457\n"
     ]
    },
    {
     "name": "stderr",
     "output_type": "stream",
     "text": [
      "\n",
      " 56%|██████████████████████▌                 | 564/1000 [00:48<00:37, 11.78it/s]\u001b[A"
     ]
    },
    {
     "name": "stdout",
     "output_type": "stream",
     "text": [
      "0.08704066276550293\n",
      "0.08297371864318848\n",
      "0.08508682250976562\n"
     ]
    },
    {
     "name": "stderr",
     "output_type": "stream",
     "text": [
      "\n",
      " 57%|██████████████████████▋                 | 566/1000 [00:48<00:36, 11.77it/s]\u001b[A\n",
      " 57%|██████████████████████▋                 | 568/1000 [00:48<00:36, 11.79it/s]\u001b[A"
     ]
    },
    {
     "name": "stdout",
     "output_type": "stream",
     "text": [
      "0.08403158187866211\n",
      "0.08529162406921387\n",
      "0.08239150047302246\n"
     ]
    },
    {
     "name": "stderr",
     "output_type": "stream",
     "text": [
      "\n",
      " 57%|██████████████████████▊                 | 570/1000 [00:48<00:36, 11.76it/s]\u001b[A"
     ]
    },
    {
     "name": "stdout",
     "output_type": "stream",
     "text": [
      "0.08704566955566406\n",
      "0.0828089714050293\n",
      "0.08615756034851074\n"
     ]
    },
    {
     "name": "stderr",
     "output_type": "stream",
     "text": [
      "\n",
      " 57%|██████████████████████▉                 | 572/1000 [00:48<00:36, 11.73it/s]\u001b[A\n",
      " 57%|██████████████████████▉                 | 574/1000 [00:48<00:36, 11.76it/s]\u001b[A"
     ]
    },
    {
     "name": "stdout",
     "output_type": "stream",
     "text": [
      "0.08477640151977539\n",
      "0.08560609817504883\n",
      "0.08193635940551758\n"
     ]
    },
    {
     "name": "stderr",
     "output_type": "stream",
     "text": [
      "\n",
      " 58%|███████████████████████                 | 576/1000 [00:49<00:36, 11.73it/s]\u001b[A"
     ]
    },
    {
     "name": "stdout",
     "output_type": "stream",
     "text": [
      "0.08726334571838379\n",
      "0.08331298828125\n",
      "0.08620905876159668\n"
     ]
    },
    {
     "name": "stderr",
     "output_type": "stream",
     "text": [
      "\n",
      " 58%|███████████████████████                 | 578/1000 [00:49<00:36, 11.69it/s]\u001b[A\n",
      " 58%|███████████████████████▏                | 580/1000 [00:49<00:35, 11.78it/s]\u001b[A"
     ]
    },
    {
     "name": "stdout",
     "output_type": "stream",
     "text": [
      "0.08512306213378906\n",
      "0.08387517929077148\n",
      "0.08183932304382324\n"
     ]
    },
    {
     "name": "stderr",
     "output_type": "stream",
     "text": [
      "\n",
      " 58%|███████████████████████▎                | 582/1000 [00:49<00:35, 11.77it/s]\u001b[A"
     ]
    },
    {
     "name": "stdout",
     "output_type": "stream",
     "text": [
      "0.08697104454040527\n",
      "0.08255457878112793\n",
      "0.08502531051635742\n"
     ]
    },
    {
     "name": "stderr",
     "output_type": "stream",
     "text": [
      "\n",
      " 58%|███████████████████████▎                | 584/1000 [00:49<00:35, 11.76it/s]\u001b[A\n",
      " 59%|███████████████████████▍                | 586/1000 [00:49<00:35, 11.79it/s]\u001b[A"
     ]
    },
    {
     "name": "stdout",
     "output_type": "stream",
     "text": [
      "0.08432459831237793\n",
      "0.0852503776550293\n",
      "0.08212709426879883\n"
     ]
    },
    {
     "name": "stderr",
     "output_type": "stream",
     "text": [
      "\n",
      " 59%|███████████████████████▌                | 588/1000 [00:50<00:35, 11.76it/s]\u001b[A"
     ]
    },
    {
     "name": "stdout",
     "output_type": "stream",
     "text": [
      "0.08772778511047363\n",
      "0.08222055435180664\n",
      "0.08634614944458008\n"
     ]
    },
    {
     "name": "stderr",
     "output_type": "stream",
     "text": [
      "\n",
      " 59%|███████████████████████▌                | 590/1000 [00:50<00:34, 11.74it/s]\u001b[A\n",
      " 59%|███████████████████████▋                | 592/1000 [00:50<00:34, 11.75it/s]\u001b[A"
     ]
    },
    {
     "name": "stdout",
     "output_type": "stream",
     "text": [
      "0.08383059501647949\n",
      "0.08616781234741211\n",
      "0.08248233795166016\n"
     ]
    },
    {
     "name": "stderr",
     "output_type": "stream",
     "text": [
      "\n",
      " 59%|███████████████████████▊                | 594/1000 [00:50<00:34, 11.75it/s]\u001b[A"
     ]
    },
    {
     "name": "stdout",
     "output_type": "stream",
     "text": [
      "0.08692479133605957\n",
      "0.08206367492675781\n",
      "0.08515310287475586\n"
     ]
    },
    {
     "name": "stderr",
     "output_type": "stream",
     "text": [
      "\n",
      " 60%|███████████████████████▊                | 596/1000 [00:50<00:34, 11.75it/s]\u001b[A\n",
      " 60%|███████████████████████▉                | 598/1000 [00:50<00:34, 11.76it/s]\u001b[A"
     ]
    },
    {
     "name": "stdout",
     "output_type": "stream",
     "text": [
      "0.08419513702392578\n",
      "0.08630537986755371\n",
      "0.08235383033752441\n"
     ]
    },
    {
     "name": "stderr",
     "output_type": "stream",
     "text": [
      "\n",
      " 60%|████████████████████████                | 600/1000 [00:51<00:34, 11.71it/s]\u001b[A"
     ]
    },
    {
     "name": "stdout",
     "output_type": "stream",
     "text": [
      "0.08759665489196777\n",
      "0.08371734619140625\n",
      "0.08580422401428223\n"
     ]
    },
    {
     "name": "stderr",
     "output_type": "stream",
     "text": [
      "\n",
      " 60%|████████████████████████                | 602/1000 [00:51<00:34, 11.68it/s]\u001b[A\n",
      " 60%|████████████████████████▏               | 604/1000 [00:51<00:33, 11.76it/s]\u001b[A"
     ]
    },
    {
     "name": "stdout",
     "output_type": "stream",
     "text": [
      "0.08552694320678711\n",
      "0.0841665267944336\n",
      "0.08188176155090332\n"
     ]
    },
    {
     "name": "stderr",
     "output_type": "stream",
     "text": [
      "\n",
      " 61%|████████████████████████▏               | 606/1000 [00:51<00:33, 11.75it/s]\u001b[A"
     ]
    },
    {
     "name": "stdout",
     "output_type": "stream",
     "text": [
      "0.08724737167358398\n",
      "0.0822911262512207\n",
      "0.08635687828063965\n"
     ]
    },
    {
     "name": "stderr",
     "output_type": "stream",
     "text": [
      "\n",
      " 61%|████████████████████████▎               | 608/1000 [00:51<00:33, 11.73it/s]\u001b[A\n",
      " 61%|████████████████████████▍               | 610/1000 [00:52<00:33, 11.69it/s]\u001b[A"
     ]
    },
    {
     "name": "stdout",
     "output_type": "stream",
     "text": [
      "0.0838773250579834\n",
      "0.08848452568054199\n",
      "0.08287382125854492\n"
     ]
    },
    {
     "name": "stderr",
     "output_type": "stream",
     "text": [
      "\n",
      " 61%|████████████████████████▍               | 612/1000 [00:52<00:33, 11.72it/s]\u001b[A"
     ]
    },
    {
     "name": "stdout",
     "output_type": "stream",
     "text": [
      "0.0877382755279541\n",
      "0.08093738555908203\n",
      "0.0843505859375\n"
     ]
    },
    {
     "name": "stderr",
     "output_type": "stream",
     "text": [
      "\n",
      " 61%|████████████████████████▌               | 614/1000 [00:52<00:32, 11.73it/s]\u001b[A\n",
      " 62%|████████████████████████▋               | 616/1000 [00:52<00:32, 11.83it/s]\u001b[A"
     ]
    },
    {
     "name": "stdout",
     "output_type": "stream",
     "text": [
      "0.08437752723693848\n",
      "0.08411049842834473\n",
      "0.08059072494506836\n"
     ]
    },
    {
     "name": "stderr",
     "output_type": "stream",
     "text": [
      "\n",
      " 62%|████████████████████████▋               | 618/1000 [00:52<00:32, 11.79it/s]\u001b[A"
     ]
    },
    {
     "name": "stdout",
     "output_type": "stream",
     "text": [
      "0.08929276466369629\n",
      "0.08076858520507812\n",
      "0.08656573295593262\n"
     ]
    },
    {
     "name": "stderr",
     "output_type": "stream",
     "text": [
      "\n",
      " 62%|████████████████████████▊               | 620/1000 [00:52<00:32, 11.75it/s]\u001b[A\n",
      " 62%|████████████████████████▉               | 622/1000 [00:53<00:31, 11.81it/s]\u001b[A"
     ]
    },
    {
     "name": "stdout",
     "output_type": "stream",
     "text": [
      "0.08374524116516113\n",
      "0.08565783500671387\n",
      "0.08051943778991699\n"
     ]
    },
    {
     "name": "stderr",
     "output_type": "stream",
     "text": [
      "\n",
      " 62%|████████████████████████▉               | 624/1000 [00:53<00:31, 11.79it/s]\u001b[A"
     ]
    },
    {
     "name": "stdout",
     "output_type": "stream",
     "text": [
      "0.0892484188079834\n",
      "0.08045387268066406\n",
      "0.08484816551208496\n"
     ]
    },
    {
     "name": "stderr",
     "output_type": "stream",
     "text": [
      "\n",
      " 63%|█████████████████████████               | 626/1000 [00:53<00:31, 11.77it/s]\u001b[A\n",
      " 63%|█████████████████████████               | 628/1000 [00:53<00:31, 11.86it/s]\u001b[A"
     ]
    },
    {
     "name": "stdout",
     "output_type": "stream",
     "text": [
      "0.08452963829040527\n",
      "0.08342933654785156\n",
      "0.08092927932739258\n"
     ]
    },
    {
     "name": "stderr",
     "output_type": "stream",
     "text": [
      "\n",
      " 63%|█████████████████████████▏              | 630/1000 [00:53<00:31, 11.82it/s]\u001b[A"
     ]
    },
    {
     "name": "stdout",
     "output_type": "stream",
     "text": [
      "0.08832597732543945\n",
      "0.08106446266174316\n",
      "0.08633303642272949\n"
     ]
    },
    {
     "name": "stderr",
     "output_type": "stream",
     "text": [
      "\n",
      " 63%|█████████████████████████▎              | 632/1000 [00:53<00:31, 11.79it/s]\u001b[A\n",
      " 63%|█████████████████████████▎              | 634/1000 [00:54<00:31, 11.79it/s]\u001b[A"
     ]
    },
    {
     "name": "stdout",
     "output_type": "stream",
     "text": [
      "0.08353590965270996\n",
      "0.08513975143432617\n",
      "0.08307719230651855\n"
     ]
    },
    {
     "name": "stderr",
     "output_type": "stream",
     "text": [
      "\n",
      " 64%|█████████████████████████▍              | 636/1000 [00:54<00:30, 11.75it/s]\u001b[A"
     ]
    },
    {
     "name": "stdout",
     "output_type": "stream",
     "text": [
      "0.08855152130126953\n",
      "0.08206558227539062\n",
      "0.08519864082336426\n"
     ]
    },
    {
     "name": "stderr",
     "output_type": "stream",
     "text": [
      "\n",
      " 64%|█████████████████████████▌              | 638/1000 [00:54<00:30, 11.75it/s]\u001b[A\n",
      " 64%|█████████████████████████▌              | 640/1000 [00:54<00:30, 11.81it/s]\u001b[A"
     ]
    },
    {
     "name": "stdout",
     "output_type": "stream",
     "text": [
      "0.0839543342590332\n",
      "0.08423209190368652\n",
      "0.0819392204284668\n"
     ]
    },
    {
     "name": "stderr",
     "output_type": "stream",
     "text": [
      "\n",
      " 64%|█████████████████████████▋              | 642/1000 [00:54<00:30, 11.79it/s]\u001b[A"
     ]
    },
    {
     "name": "stdout",
     "output_type": "stream",
     "text": [
      "0.08673763275146484\n",
      "0.08239436149597168\n",
      "0.08643579483032227\n"
     ]
    },
    {
     "name": "stderr",
     "output_type": "stream",
     "text": [
      "\n",
      " 64%|█████████████████████████▊              | 644/1000 [00:54<00:30, 11.74it/s]\u001b[A\n",
      " 65%|█████████████████████████▊              | 646/1000 [00:55<00:30, 11.76it/s]\u001b[A"
     ]
    },
    {
     "name": "stdout",
     "output_type": "stream",
     "text": [
      "0.08457159996032715\n",
      "0.0855097770690918\n",
      "0.08263945579528809\n"
     ]
    },
    {
     "name": "stderr",
     "output_type": "stream",
     "text": [
      "\n",
      " 65%|█████████████████████████▉              | 648/1000 [00:55<00:29, 11.75it/s]\u001b[A"
     ]
    },
    {
     "name": "stdout",
     "output_type": "stream",
     "text": [
      "0.08723044395446777\n",
      "0.0822293758392334\n",
      "0.08628034591674805\n"
     ]
    },
    {
     "name": "stderr",
     "output_type": "stream",
     "text": [
      "\n",
      " 65%|██████████████████████████              | 650/1000 [00:55<00:29, 11.72it/s]\u001b[A\n",
      " 65%|██████████████████████████              | 652/1000 [00:55<00:29, 11.81it/s]\u001b[A"
     ]
    },
    {
     "name": "stdout",
     "output_type": "stream",
     "text": [
      "0.0840597152709961\n",
      "0.08375835418701172\n",
      "0.08175921440124512\n"
     ]
    },
    {
     "name": "stderr",
     "output_type": "stream",
     "text": [
      "\n",
      " 65%|██████████████████████████▏             | 654/1000 [00:55<00:29, 11.77it/s]\u001b[A"
     ]
    },
    {
     "name": "stdout",
     "output_type": "stream",
     "text": [
      "0.08759808540344238\n",
      "0.08250045776367188\n",
      "0.08553576469421387\n"
     ]
    },
    {
     "name": "stderr",
     "output_type": "stream",
     "text": [
      "\n",
      " 66%|██████████████████████████▏             | 656/1000 [00:55<00:29, 11.76it/s]\u001b[A\n",
      " 66%|██████████████████████████▎             | 658/1000 [00:56<00:28, 11.80it/s]\u001b[A"
     ]
    },
    {
     "name": "stdout",
     "output_type": "stream",
     "text": [
      "0.08409333229064941\n",
      "0.08467793464660645\n",
      "0.08245110511779785\n"
     ]
    },
    {
     "name": "stderr",
     "output_type": "stream",
     "text": [
      "\n",
      " 66%|██████████████████████████▍             | 660/1000 [00:56<00:28, 11.77it/s]\u001b[A"
     ]
    },
    {
     "name": "stdout",
     "output_type": "stream",
     "text": [
      "0.08782768249511719\n",
      "0.08215856552124023\n",
      "0.08616065979003906\n"
     ]
    },
    {
     "name": "stderr",
     "output_type": "stream",
     "text": [
      "\n",
      " 66%|██████████████████████████▍             | 662/1000 [00:56<00:28, 11.73it/s]\u001b[A\n",
      " 66%|██████████████████████████▌             | 664/1000 [00:56<00:28, 11.76it/s]\u001b[A"
     ]
    },
    {
     "name": "stdout",
     "output_type": "stream",
     "text": [
      "0.08429908752441406\n",
      "0.08565402030944824\n",
      "0.08229660987854004\n"
     ]
    },
    {
     "name": "stderr",
     "output_type": "stream",
     "text": [
      "\n",
      " 67%|██████████████████████████▋             | 666/1000 [00:56<00:28, 11.76it/s]\u001b[A"
     ]
    },
    {
     "name": "stdout",
     "output_type": "stream",
     "text": [
      "0.08748531341552734\n",
      "0.08184003829956055\n",
      "0.08492493629455566\n"
     ]
    },
    {
     "name": "stderr",
     "output_type": "stream",
     "text": [
      "\n",
      " 67%|██████████████████████████▋             | 668/1000 [00:56<00:28, 11.76it/s]\u001b[A\n",
      " 67%|██████████████████████████▊             | 670/1000 [00:57<00:28, 11.73it/s]\u001b[A"
     ]
    },
    {
     "name": "stdout",
     "output_type": "stream",
     "text": [
      "0.0839228630065918\n",
      "0.08658456802368164\n",
      "0.08387231826782227\n"
     ]
    },
    {
     "name": "stderr",
     "output_type": "stream",
     "text": [
      "\n",
      " 67%|██████████████████████████▉             | 672/1000 [00:57<00:28, 11.71it/s]\u001b[A"
     ]
    },
    {
     "name": "stdout",
     "output_type": "stream",
     "text": [
      "0.0877528190612793\n",
      "0.08236837387084961\n",
      "0.08566045761108398\n"
     ]
    },
    {
     "name": "stderr",
     "output_type": "stream",
     "text": [
      "\n",
      " 67%|██████████████████████████▉             | 674/1000 [00:57<00:27, 11.70it/s]\u001b[A\n",
      " 68%|███████████████████████████             | 676/1000 [00:57<00:27, 11.65it/s]\u001b[A"
     ]
    },
    {
     "name": "stdout",
     "output_type": "stream",
     "text": [
      "0.0847921371459961\n",
      "0.09007072448730469\n",
      "0.0822300910949707\n"
     ]
    },
    {
     "name": "stderr",
     "output_type": "stream",
     "text": [
      "\n",
      " 68%|███████████████████████████             | 678/1000 [00:57<00:27, 11.67it/s]\u001b[A"
     ]
    },
    {
     "name": "stdout",
     "output_type": "stream",
     "text": [
      "0.08730173110961914\n",
      "0.08252096176147461\n",
      "0.08534455299377441\n"
     ]
    },
    {
     "name": "stderr",
     "output_type": "stream",
     "text": [
      "\n",
      " 68%|███████████████████████████▏            | 680/1000 [00:57<00:27, 11.68it/s]\u001b[A\n",
      " 68%|███████████████████████████▎            | 682/1000 [00:58<00:27, 11.73it/s]\u001b[A"
     ]
    },
    {
     "name": "stdout",
     "output_type": "stream",
     "text": [
      "0.08438372611999512\n",
      "0.08492708206176758\n",
      "0.08270001411437988\n"
     ]
    },
    {
     "name": "stderr",
     "output_type": "stream",
     "text": [
      "\n",
      " 68%|███████████████████████████▎            | 684/1000 [00:58<00:26, 11.73it/s]\u001b[A"
     ]
    },
    {
     "name": "stdout",
     "output_type": "stream",
     "text": [
      "0.08764362335205078\n",
      "0.08195614814758301\n",
      "0.08630204200744629\n"
     ]
    },
    {
     "name": "stderr",
     "output_type": "stream",
     "text": [
      "\n",
      " 69%|███████████████████████████▍            | 686/1000 [00:58<00:26, 11.69it/s]\u001b[A\n",
      " 69%|███████████████████████████▌            | 688/1000 [00:58<00:26, 11.74it/s]\u001b[A"
     ]
    },
    {
     "name": "stdout",
     "output_type": "stream",
     "text": [
      "0.08470702171325684\n",
      "0.08558106422424316\n",
      "0.08220267295837402\n"
     ]
    },
    {
     "name": "stderr",
     "output_type": "stream",
     "text": [
      "\n",
      " 69%|███████████████████████████▌            | 690/1000 [00:58<00:26, 11.73it/s]\u001b[A"
     ]
    },
    {
     "name": "stdout",
     "output_type": "stream",
     "text": [
      "0.08740949630737305\n",
      "0.08209562301635742\n",
      "0.08449006080627441\n"
     ]
    },
    {
     "name": "stderr",
     "output_type": "stream",
     "text": [
      "\n",
      " 69%|███████████████████████████▋            | 692/1000 [00:58<00:26, 11.76it/s]\u001b[A\n",
      " 69%|███████████████████████████▊            | 694/1000 [00:59<00:25, 11.80it/s]\u001b[A"
     ]
    },
    {
     "name": "stdout",
     "output_type": "stream",
     "text": [
      "0.08377575874328613\n",
      "0.08406996726989746\n",
      "0.08291196823120117\n"
     ]
    },
    {
     "name": "stderr",
     "output_type": "stream",
     "text": [
      "\n",
      " 70%|███████████████████████████▊            | 696/1000 [00:59<00:25, 11.76it/s]\u001b[A"
     ]
    },
    {
     "name": "stdout",
     "output_type": "stream",
     "text": [
      "0.08770084381103516\n",
      "0.08252644538879395\n",
      "0.08554577827453613\n"
     ]
    },
    {
     "name": "stderr",
     "output_type": "stream",
     "text": [
      "\n",
      " 70%|███████████████████████████▉            | 698/1000 [00:59<00:25, 11.74it/s]\u001b[A\n",
      " 70%|████████████████████████████            | 700/1000 [00:59<00:25, 11.78it/s]\u001b[A"
     ]
    },
    {
     "name": "stdout",
     "output_type": "stream",
     "text": [
      "0.08442425727844238\n",
      "0.0851902961730957\n",
      "0.08211874961853027\n"
     ]
    },
    {
     "name": "stderr",
     "output_type": "stream",
     "text": [
      "\n",
      " 70%|████████████████████████████            | 702/1000 [00:59<00:25, 11.77it/s]\u001b[A"
     ]
    },
    {
     "name": "stdout",
     "output_type": "stream",
     "text": [
      "0.08674144744873047\n",
      "0.0823214054107666\n",
      "0.08631110191345215\n"
     ]
    },
    {
     "name": "stderr",
     "output_type": "stream",
     "text": [
      "\n",
      " 70%|████████████████████████████▏           | 704/1000 [01:00<00:25, 11.74it/s]\u001b[A\n",
      " 71%|████████████████████████████▏           | 706/1000 [01:00<00:24, 11.78it/s]\u001b[A"
     ]
    },
    {
     "name": "stdout",
     "output_type": "stream",
     "text": [
      "0.08409667015075684\n",
      "0.08462071418762207\n",
      "0.08253884315490723\n"
     ]
    },
    {
     "name": "stderr",
     "output_type": "stream",
     "text": [
      "\n",
      " 71%|████████████████████████████▎           | 708/1000 [01:00<00:24, 11.75it/s]\u001b[A"
     ]
    },
    {
     "name": "stdout",
     "output_type": "stream",
     "text": [
      "0.08808779716491699\n",
      "0.08196187019348145\n",
      "0.08525776863098145\n"
     ]
    },
    {
     "name": "stderr",
     "output_type": "stream",
     "text": [
      "\n",
      " 71%|████████████████████████████▍           | 710/1000 [01:00<00:24, 11.75it/s]\u001b[A\n",
      " 71%|████████████████████████████▍           | 712/1000 [01:00<00:24, 11.80it/s]\u001b[A"
     ]
    },
    {
     "name": "stdout",
     "output_type": "stream",
     "text": [
      "0.08406734466552734\n",
      "0.08467578887939453\n",
      "0.08207106590270996\n"
     ]
    },
    {
     "name": "stderr",
     "output_type": "stream",
     "text": [
      "\n",
      " 71%|████████████████████████████▌           | 714/1000 [01:00<00:24, 11.77it/s]\u001b[A"
     ]
    },
    {
     "name": "stdout",
     "output_type": "stream",
     "text": [
      "0.0874643325805664\n",
      "0.0823066234588623\n",
      "0.08638262748718262\n"
     ]
    },
    {
     "name": "stderr",
     "output_type": "stream",
     "text": [
      "\n",
      " 72%|████████████████████████████▋           | 716/1000 [01:01<00:24, 11.73it/s]\u001b[A\n",
      " 72%|████████████████████████████▋           | 718/1000 [01:01<00:24, 11.75it/s]\u001b[A"
     ]
    },
    {
     "name": "stdout",
     "output_type": "stream",
     "text": [
      "0.08441734313964844\n",
      "0.08672523498535156\n",
      "0.08207201957702637\n"
     ]
    },
    {
     "name": "stderr",
     "output_type": "stream",
     "text": [
      "\n",
      " 72%|████████████████████████████▊           | 720/1000 [01:01<00:23, 11.73it/s]\u001b[A"
     ]
    },
    {
     "name": "stdout",
     "output_type": "stream",
     "text": [
      "0.08740782737731934\n",
      "0.08287739753723145\n",
      "0.08694076538085938\n"
     ]
    },
    {
     "name": "stderr",
     "output_type": "stream",
     "text": [
      "\n",
      " 72%|████████████████████████████▉           | 722/1000 [01:01<00:23, 11.68it/s]\u001b[A\n",
      " 72%|████████████████████████████▉           | 724/1000 [01:01<00:23, 11.76it/s]\u001b[A"
     ]
    },
    {
     "name": "stdout",
     "output_type": "stream",
     "text": [
      "0.08465790748596191\n",
      "0.08440399169921875\n",
      "0.08191108703613281\n"
     ]
    },
    {
     "name": "stderr",
     "output_type": "stream",
     "text": [
      "\n",
      " 73%|█████████████████████████████           | 726/1000 [01:01<00:23, 11.73it/s]\u001b[A"
     ]
    },
    {
     "name": "stdout",
     "output_type": "stream",
     "text": [
      "0.08779191970825195\n",
      "0.08264470100402832\n",
      "0.08567643165588379\n"
     ]
    },
    {
     "name": "stderr",
     "output_type": "stream",
     "text": [
      "\n",
      " 73%|█████████████████████████████           | 728/1000 [01:02<00:23, 11.72it/s]\u001b[A\n",
      " 73%|█████████████████████████████▏          | 730/1000 [01:02<00:23, 11.74it/s]\u001b[A"
     ]
    },
    {
     "name": "stdout",
     "output_type": "stream",
     "text": [
      "0.08461380004882812\n",
      "0.08662986755371094\n",
      "0.08218741416931152\n"
     ]
    },
    {
     "name": "stderr",
     "output_type": "stream",
     "text": [
      "\n",
      " 73%|█████████████████████████████▎          | 732/1000 [01:02<00:22, 11.72it/s]\u001b[A"
     ]
    },
    {
     "name": "stdout",
     "output_type": "stream",
     "text": [
      "0.08783340454101562\n",
      "0.08214688301086426\n",
      "0.08651852607727051\n"
     ]
    },
    {
     "name": "stderr",
     "output_type": "stream",
     "text": [
      "\n",
      " 73%|█████████████████████████████▎          | 734/1000 [01:02<00:22, 11.70it/s]\u001b[A\n",
      " 74%|█████████████████████████████▍          | 736/1000 [01:02<00:22, 11.74it/s]\u001b[A"
     ]
    },
    {
     "name": "stdout",
     "output_type": "stream",
     "text": [
      "0.08425164222717285\n",
      "0.08559608459472656\n",
      "0.08220696449279785\n"
     ]
    },
    {
     "name": "stderr",
     "output_type": "stream",
     "text": [
      "\n",
      " 74%|█████████████████████████████▌          | 738/1000 [01:02<00:22, 11.68it/s]\u001b[A"
     ]
    },
    {
     "name": "stdout",
     "output_type": "stream",
     "text": [
      "0.09016060829162598\n",
      "0.08224940299987793\n",
      "0.08601856231689453\n"
     ]
    },
    {
     "name": "stderr",
     "output_type": "stream",
     "text": [
      "\n",
      " 74%|█████████████████████████████▌          | 740/1000 [01:03<00:22, 11.67it/s]\u001b[A\n",
      " 74%|█████████████████████████████▋          | 742/1000 [01:03<00:22, 11.72it/s]\u001b[A"
     ]
    },
    {
     "name": "stdout",
     "output_type": "stream",
     "text": [
      "0.08456540107727051\n",
      "0.08575582504272461\n",
      "0.0823202133178711\n"
     ]
    },
    {
     "name": "stderr",
     "output_type": "stream",
     "text": [
      "\n",
      " 74%|█████████████████████████████▊          | 744/1000 [01:03<00:21, 11.68it/s]\u001b[A"
     ]
    },
    {
     "name": "stdout",
     "output_type": "stream",
     "text": [
      "0.08858323097229004\n",
      "0.0830228328704834\n",
      "0.08634662628173828\n"
     ]
    },
    {
     "name": "stderr",
     "output_type": "stream",
     "text": [
      "\n",
      " 75%|█████████████████████████████▊          | 746/1000 [01:03<00:21, 11.65it/s]\u001b[A\n",
      " 75%|█████████████████████████████▉          | 748/1000 [01:03<00:21, 11.74it/s]\u001b[A"
     ]
    },
    {
     "name": "stdout",
     "output_type": "stream",
     "text": [
      "0.08513832092285156\n",
      "0.08427548408508301\n",
      "0.0818634033203125\n"
     ]
    },
    {
     "name": "stderr",
     "output_type": "stream",
     "text": [
      "\n",
      " 75%|██████████████████████████████          | 750/1000 [01:03<00:21, 11.72it/s]\u001b[A"
     ]
    },
    {
     "name": "stdout",
     "output_type": "stream",
     "text": [
      "0.08783507347106934\n",
      "0.08254432678222656\n",
      "0.08487296104431152\n"
     ]
    },
    {
     "name": "stderr",
     "output_type": "stream",
     "text": [
      "\n",
      " 75%|██████████████████████████████          | 752/1000 [01:04<00:21, 11.72it/s]\u001b[A\n",
      " 75%|██████████████████████████████▏         | 754/1000 [01:04<00:20, 11.73it/s]\u001b[A"
     ]
    },
    {
     "name": "stdout",
     "output_type": "stream",
     "text": [
      "0.08507323265075684\n",
      "0.08643841743469238\n",
      "0.08230400085449219\n"
     ]
    },
    {
     "name": "stderr",
     "output_type": "stream",
     "text": [
      "\n",
      " 76%|██████████████████████████████▏         | 756/1000 [01:04<00:20, 11.74it/s]\u001b[A"
     ]
    },
    {
     "name": "stdout",
     "output_type": "stream",
     "text": [
      "0.08700227737426758\n",
      "0.08204412460327148\n",
      "0.08476758003234863\n"
     ]
    },
    {
     "name": "stderr",
     "output_type": "stream",
     "text": [
      "\n",
      " 76%|██████████████████████████████▎         | 758/1000 [01:04<00:20, 11.75it/s]\u001b[A\n",
      " 76%|██████████████████████████████▍         | 760/1000 [01:04<00:20, 11.78it/s]\u001b[A"
     ]
    },
    {
     "name": "stdout",
     "output_type": "stream",
     "text": [
      "0.08399748802185059\n",
      "0.08556294441223145\n",
      "0.08206772804260254\n"
     ]
    },
    {
     "name": "stderr",
     "output_type": "stream",
     "text": [
      "\n",
      " 76%|██████████████████████████████▍         | 762/1000 [01:04<00:20, 11.76it/s]\u001b[A"
     ]
    },
    {
     "name": "stdout",
     "output_type": "stream",
     "text": [
      "0.08776044845581055\n",
      "0.08191275596618652\n",
      "0.08442902565002441\n"
     ]
    },
    {
     "name": "stderr",
     "output_type": "stream",
     "text": [
      "\n",
      " 76%|██████████████████████████████▌         | 764/1000 [01:05<00:25,  9.36it/s]\u001b[A\n",
      " 77%|██████████████████████████████▋         | 766/1000 [01:05<00:23, 10.00it/s]\u001b[A"
     ]
    },
    {
     "name": "stdout",
     "output_type": "stream",
     "text": [
      "0.230025053024292\n",
      "0.08469104766845703\n",
      "0.08227968215942383\n"
     ]
    },
    {
     "name": "stderr",
     "output_type": "stream",
     "text": [
      "\n",
      " 77%|██████████████████████████████▋         | 768/1000 [01:05<00:22, 10.47it/s]\u001b[A"
     ]
    },
    {
     "name": "stdout",
     "output_type": "stream",
     "text": [
      "0.0866546630859375\n",
      "0.08211636543273926\n",
      "0.08561182022094727\n"
     ]
    },
    {
     "name": "stderr",
     "output_type": "stream",
     "text": [
      "\n",
      " 77%|██████████████████████████████▊         | 770/1000 [01:05<00:21, 10.81it/s]\u001b[A\n",
      " 77%|██████████████████████████████▉         | 772/1000 [01:05<00:20, 11.13it/s]\u001b[A"
     ]
    },
    {
     "name": "stdout",
     "output_type": "stream",
     "text": [
      "0.08453059196472168\n",
      "0.08443880081176758\n",
      "0.08175420761108398\n"
     ]
    },
    {
     "name": "stderr",
     "output_type": "stream",
     "text": [
      "\n",
      " 77%|██████████████████████████████▉         | 774/1000 [01:06<00:20, 11.26it/s]\u001b[A"
     ]
    },
    {
     "name": "stdout",
     "output_type": "stream",
     "text": [
      "0.08830523490905762\n",
      "0.08356809616088867\n",
      "0.08524346351623535\n"
     ]
    },
    {
     "name": "stderr",
     "output_type": "stream",
     "text": [
      "\n",
      " 78%|███████████████████████████████         | 776/1000 [01:06<00:19, 11.40it/s]\u001b[A\n",
      " 78%|███████████████████████████████         | 778/1000 [01:06<00:19, 11.52it/s]\u001b[A"
     ]
    },
    {
     "name": "stdout",
     "output_type": "stream",
     "text": [
      "0.08385586738586426\n",
      "0.08590888977050781\n",
      "0.08212494850158691\n"
     ]
    },
    {
     "name": "stderr",
     "output_type": "stream",
     "text": [
      "\n",
      " 78%|███████████████████████████████▏        | 780/1000 [01:06<00:19, 11.57it/s]\u001b[A"
     ]
    },
    {
     "name": "stdout",
     "output_type": "stream",
     "text": [
      "0.08757686614990234\n",
      "0.08233022689819336\n",
      "0.08513188362121582\n"
     ]
    },
    {
     "name": "stderr",
     "output_type": "stream",
     "text": [
      "\n",
      " 78%|███████████████████████████████▎        | 782/1000 [01:06<00:18, 11.62it/s]\u001b[A\n",
      " 78%|███████████████████████████████▎        | 784/1000 [01:06<00:18, 11.69it/s]\u001b[A"
     ]
    },
    {
     "name": "stdout",
     "output_type": "stream",
     "text": [
      "0.08416533470153809\n",
      "0.0858917236328125\n",
      "0.08192825317382812\n"
     ]
    },
    {
     "name": "stderr",
     "output_type": "stream",
     "text": [
      "\n",
      " 79%|███████████████████████████████▍        | 786/1000 [01:07<00:18, 11.69it/s]\u001b[A"
     ]
    },
    {
     "name": "stdout",
     "output_type": "stream",
     "text": [
      "0.08727478981018066\n",
      "0.08281445503234863\n",
      "0.08696293830871582\n"
     ]
    },
    {
     "name": "stderr",
     "output_type": "stream",
     "text": [
      "\n",
      " 79%|███████████████████████████████▌        | 788/1000 [01:07<00:18, 11.65it/s]\u001b[A\n",
      " 79%|███████████████████████████████▌        | 790/1000 [01:07<00:17, 11.73it/s]\u001b[A"
     ]
    },
    {
     "name": "stdout",
     "output_type": "stream",
     "text": [
      "0.08475518226623535\n",
      "0.08467674255371094\n",
      "0.08220386505126953\n"
     ]
    },
    {
     "name": "stderr",
     "output_type": "stream",
     "text": [
      "\n",
      " 79%|███████████████████████████████▋        | 792/1000 [01:07<00:17, 11.72it/s]\u001b[A"
     ]
    },
    {
     "name": "stdout",
     "output_type": "stream",
     "text": [
      "0.08763480186462402\n",
      "0.08244085311889648\n",
      "0.0856790542602539\n"
     ]
    },
    {
     "name": "stderr",
     "output_type": "stream",
     "text": [
      "\n",
      " 79%|███████████████████████████████▊        | 794/1000 [01:07<00:17, 11.71it/s]\u001b[A\n",
      " 80%|███████████████████████████████▊        | 796/1000 [01:07<00:17, 11.79it/s]\u001b[A"
     ]
    },
    {
     "name": "stdout",
     "output_type": "stream",
     "text": [
      "0.08425545692443848\n",
      "0.08393239974975586\n",
      "0.08189129829406738\n"
     ]
    },
    {
     "name": "stderr",
     "output_type": "stream",
     "text": [
      "\n",
      " 80%|███████████████████████████████▉        | 798/1000 [01:08<00:17, 11.76it/s]\u001b[A"
     ]
    },
    {
     "name": "stdout",
     "output_type": "stream",
     "text": [
      "0.08722925186157227\n",
      "0.08303165435791016\n",
      "0.08748316764831543\n"
     ]
    },
    {
     "name": "stderr",
     "output_type": "stream",
     "text": [
      "\n",
      " 80%|████████████████████████████████        | 800/1000 [01:08<00:17, 11.69it/s]\u001b[A\n",
      " 80%|████████████████████████████████        | 802/1000 [01:08<00:16, 11.73it/s]\u001b[A"
     ]
    },
    {
     "name": "stdout",
     "output_type": "stream",
     "text": [
      "0.08489727973937988\n",
      "0.08560657501220703\n",
      "0.08228349685668945\n"
     ]
    },
    {
     "name": "stderr",
     "output_type": "stream",
     "text": [
      "\n",
      " 80%|████████████████████████████████▏       | 804/1000 [01:08<00:16, 11.66it/s]\u001b[A"
     ]
    },
    {
     "name": "stdout",
     "output_type": "stream",
     "text": [
      "0.09074854850769043\n",
      "0.08240699768066406\n",
      "0.08606529235839844\n"
     ]
    },
    {
     "name": "stderr",
     "output_type": "stream",
     "text": [
      "\n",
      " 81%|████████████████████████████████▏       | 806/1000 [01:08<00:16, 11.66it/s]\u001b[A\n",
      " 81%|████████████████████████████████▎       | 808/1000 [01:09<00:16, 11.70it/s]\u001b[A"
     ]
    },
    {
     "name": "stdout",
     "output_type": "stream",
     "text": [
      "0.08430099487304688\n",
      "0.08584022521972656\n",
      "0.0824282169342041\n"
     ]
    },
    {
     "name": "stderr",
     "output_type": "stream",
     "text": [
      "\n",
      " 81%|████████████████████████████████▍       | 810/1000 [01:09<00:16, 11.69it/s]\u001b[A"
     ]
    },
    {
     "name": "stdout",
     "output_type": "stream",
     "text": [
      "0.08811640739440918\n",
      "0.08219194412231445\n",
      "0.08549094200134277\n"
     ]
    },
    {
     "name": "stderr",
     "output_type": "stream",
     "text": [
      "\n",
      " 81%|████████████████████████████████▍       | 812/1000 [01:09<00:16, 11.68it/s]\u001b[A\n",
      " 81%|████████████████████████████████▌       | 814/1000 [01:09<00:15, 11.75it/s]\u001b[A"
     ]
    },
    {
     "name": "stdout",
     "output_type": "stream",
     "text": [
      "0.08504390716552734\n",
      "0.0841372013092041\n",
      "0.08251094818115234\n"
     ]
    },
    {
     "name": "stderr",
     "output_type": "stream",
     "text": [
      "\n",
      " 82%|████████████████████████████████▋       | 816/1000 [01:09<00:15, 11.73it/s]\u001b[A"
     ]
    },
    {
     "name": "stdout",
     "output_type": "stream",
     "text": [
      "0.08791708946228027\n",
      "0.08211088180541992\n",
      "0.08595108985900879\n"
     ]
    },
    {
     "name": "stderr",
     "output_type": "stream",
     "text": [
      "\n",
      " 82%|████████████████████████████████▋       | 818/1000 [01:09<00:15, 11.72it/s]\u001b[A\n",
      " 82%|████████████████████████████████▊       | 820/1000 [01:10<00:15, 11.73it/s]\u001b[A"
     ]
    },
    {
     "name": "stdout",
     "output_type": "stream",
     "text": [
      "0.08426618576049805\n",
      "0.08683395385742188\n",
      "0.08243346214294434\n"
     ]
    },
    {
     "name": "stderr",
     "output_type": "stream",
     "text": [
      "\n",
      " 82%|████████████████████████████████▉       | 822/1000 [01:10<00:15, 11.70it/s]\u001b[A"
     ]
    },
    {
     "name": "stdout",
     "output_type": "stream",
     "text": [
      "0.08819079399108887\n",
      "0.08271288871765137\n",
      "0.08533263206481934\n"
     ]
    },
    {
     "name": "stderr",
     "output_type": "stream",
     "text": [
      "\n",
      " 82%|████████████████████████████████▉       | 824/1000 [01:10<00:15, 11.69it/s]\u001b[A\n",
      " 83%|█████████████████████████████████       | 826/1000 [01:10<00:14, 11.73it/s]\u001b[A"
     ]
    },
    {
     "name": "stdout",
     "output_type": "stream",
     "text": [
      "0.08463478088378906\n",
      "0.08592629432678223\n",
      "0.08199501037597656\n"
     ]
    },
    {
     "name": "stderr",
     "output_type": "stream",
     "text": [
      "\n",
      " 83%|█████████████████████████████████       | 828/1000 [01:10<00:14, 11.73it/s]\u001b[A"
     ]
    },
    {
     "name": "stdout",
     "output_type": "stream",
     "text": [
      "0.08707213401794434\n",
      "0.08235692977905273\n",
      "0.0860133171081543\n"
     ]
    },
    {
     "name": "stderr",
     "output_type": "stream",
     "text": [
      "\n",
      " 83%|█████████████████████████████████▏      | 830/1000 [01:10<00:14, 11.72it/s]\u001b[A\n",
      " 83%|█████████████████████████████████▎      | 832/1000 [01:11<00:14, 11.79it/s]\u001b[A"
     ]
    },
    {
     "name": "stdout",
     "output_type": "stream",
     "text": [
      "0.08401083946228027\n",
      "0.08417701721191406\n",
      "0.08217310905456543\n"
     ]
    },
    {
     "name": "stderr",
     "output_type": "stream",
     "text": [
      "\n",
      " 83%|█████████████████████████████████▎      | 834/1000 [01:11<00:14, 11.73it/s]\u001b[A"
     ]
    },
    {
     "name": "stdout",
     "output_type": "stream",
     "text": [
      "0.08886837959289551\n",
      "0.08260846138000488\n",
      "0.08525943756103516\n"
     ]
    },
    {
     "name": "stderr",
     "output_type": "stream",
     "text": [
      "\n",
      " 84%|█████████████████████████████████▍      | 836/1000 [01:11<00:13, 11.72it/s]\u001b[A\n",
      " 84%|█████████████████████████████████▌      | 838/1000 [01:11<00:13, 11.74it/s]\u001b[A"
     ]
    },
    {
     "name": "stdout",
     "output_type": "stream",
     "text": [
      "0.08487582206726074\n",
      "0.08632421493530273\n",
      "0.08228683471679688\n"
     ]
    },
    {
     "name": "stderr",
     "output_type": "stream",
     "text": [
      "\n",
      " 84%|█████████████████████████████████▌      | 840/1000 [01:11<00:13, 11.72it/s]\u001b[A"
     ]
    },
    {
     "name": "stdout",
     "output_type": "stream",
     "text": [
      "0.08781957626342773\n",
      "0.08246994018554688\n",
      "0.08548641204833984\n"
     ]
    },
    {
     "name": "stderr",
     "output_type": "stream",
     "text": [
      "\n",
      " 84%|█████████████████████████████████▋      | 842/1000 [01:11<00:13, 11.71it/s]\u001b[A\n",
      " 84%|█████████████████████████████████▊      | 844/1000 [01:12<00:13, 11.75it/s]\u001b[A"
     ]
    },
    {
     "name": "stdout",
     "output_type": "stream",
     "text": [
      "0.08435273170471191\n",
      "0.08503913879394531\n",
      "0.08268618583679199\n"
     ]
    },
    {
     "name": "stderr",
     "output_type": "stream",
     "text": [
      "\n",
      " 85%|█████████████████████████████████▊      | 846/1000 [01:12<00:13, 11.73it/s]\u001b[A"
     ]
    },
    {
     "name": "stdout",
     "output_type": "stream",
     "text": [
      "0.08790230751037598\n",
      "0.08215808868408203\n",
      "0.08645248413085938\n"
     ]
    },
    {
     "name": "stderr",
     "output_type": "stream",
     "text": [
      "\n",
      " 85%|█████████████████████████████████▉      | 848/1000 [01:12<00:12, 11.70it/s]\u001b[A\n",
      " 85%|██████████████████████████████████      | 850/1000 [01:12<00:12, 11.74it/s]\u001b[A"
     ]
    },
    {
     "name": "stdout",
     "output_type": "stream",
     "text": [
      "0.08448243141174316\n",
      "0.08533358573913574\n",
      "0.08228635787963867\n"
     ]
    },
    {
     "name": "stderr",
     "output_type": "stream",
     "text": [
      "\n",
      " 85%|██████████████████████████████████      | 852/1000 [01:12<00:12, 11.73it/s]\u001b[A"
     ]
    },
    {
     "name": "stdout",
     "output_type": "stream",
     "text": [
      "0.08786296844482422\n",
      "0.08200454711914062\n",
      "0.08467221260070801\n"
     ]
    },
    {
     "name": "stderr",
     "output_type": "stream",
     "text": [
      "\n",
      " 85%|██████████████████████████████████▏     | 854/1000 [01:12<00:12, 11.75it/s]\u001b[A\n",
      " 86%|██████████████████████████████████▏     | 856/1000 [01:13<00:12, 11.73it/s]\u001b[A"
     ]
    },
    {
     "name": "stdout",
     "output_type": "stream",
     "text": [
      "0.08386635780334473\n",
      "0.0868387222290039\n",
      "0.08307170867919922\n"
     ]
    },
    {
     "name": "stderr",
     "output_type": "stream",
     "text": [
      "\n",
      " 86%|██████████████████████████████████▎     | 858/1000 [01:13<00:12, 11.72it/s]\u001b[A"
     ]
    },
    {
     "name": "stdout",
     "output_type": "stream",
     "text": [
      "0.08750677108764648\n",
      "0.08239412307739258\n",
      "0.08509373664855957\n"
     ]
    },
    {
     "name": "stderr",
     "output_type": "stream",
     "text": [
      "\n",
      " 86%|██████████████████████████████████▍     | 860/1000 [01:13<00:11, 11.71it/s]\u001b[A\n",
      " 86%|██████████████████████████████████▍     | 862/1000 [01:13<00:11, 11.77it/s]\u001b[A"
     ]
    },
    {
     "name": "stdout",
     "output_type": "stream",
     "text": [
      "0.08502078056335449\n",
      "0.08497810363769531\n",
      "0.08185029029846191\n"
     ]
    },
    {
     "name": "stderr",
     "output_type": "stream",
     "text": [
      "\n",
      " 86%|██████████████████████████████████▌     | 864/1000 [01:13<00:11, 11.74it/s]\u001b[A"
     ]
    },
    {
     "name": "stdout",
     "output_type": "stream",
     "text": [
      "0.08756279945373535\n",
      "0.08237409591674805\n",
      "0.08551859855651855\n"
     ]
    },
    {
     "name": "stderr",
     "output_type": "stream",
     "text": [
      "\n",
      " 87%|██████████████████████████████████▋     | 866/1000 [01:13<00:11, 11.74it/s]\u001b[A\n",
      " 87%|██████████████████████████████████▋     | 868/1000 [01:14<00:11, 11.78it/s]\u001b[A"
     ]
    },
    {
     "name": "stdout",
     "output_type": "stream",
     "text": [
      "0.08413195610046387\n",
      "0.08440685272216797\n",
      "0.08291149139404297\n"
     ]
    },
    {
     "name": "stderr",
     "output_type": "stream",
     "text": [
      "\n",
      " 87%|██████████████████████████████████▊     | 870/1000 [01:14<00:11, 11.73it/s]\u001b[A"
     ]
    },
    {
     "name": "stdout",
     "output_type": "stream",
     "text": [
      "0.08797979354858398\n",
      "0.08296656608581543\n",
      "0.08854889869689941\n"
     ]
    },
    {
     "name": "stderr",
     "output_type": "stream",
     "text": [
      "\n",
      " 87%|██████████████████████████████████▉     | 872/1000 [01:14<00:11, 11.63it/s]\u001b[A\n",
      " 87%|██████████████████████████████████▉     | 874/1000 [01:14<00:10, 11.71it/s]\u001b[A"
     ]
    },
    {
     "name": "stdout",
     "output_type": "stream",
     "text": [
      "0.08583331108093262\n",
      "0.08506178855895996\n",
      "0.08227252960205078\n"
     ]
    },
    {
     "name": "stderr",
     "output_type": "stream",
     "text": [
      "\n",
      " 88%|███████████████████████████████████     | 876/1000 [01:14<00:10, 11.66it/s]\u001b[A"
     ]
    },
    {
     "name": "stdout",
     "output_type": "stream",
     "text": [
      "0.08949851989746094\n",
      "0.0823819637298584\n",
      "0.08585619926452637\n"
     ]
    },
    {
     "name": "stderr",
     "output_type": "stream",
     "text": [
      "\n",
      " 88%|███████████████████████████████████     | 878/1000 [01:14<00:10, 11.66it/s]\u001b[A\n",
      " 88%|███████████████████████████████████▏    | 880/1000 [01:15<00:10, 11.68it/s]\u001b[A"
     ]
    },
    {
     "name": "stdout",
     "output_type": "stream",
     "text": [
      "0.08463144302368164\n",
      "0.08560776710510254\n",
      "0.08381915092468262\n"
     ]
    },
    {
     "name": "stderr",
     "output_type": "stream",
     "text": [
      "\n",
      " 88%|███████████████████████████████████▎    | 882/1000 [01:15<00:10, 11.63it/s]\u001b[A"
     ]
    },
    {
     "name": "stdout",
     "output_type": "stream",
     "text": [
      "0.09014225006103516\n",
      "0.08261227607727051\n",
      "0.08590221405029297\n"
     ]
    },
    {
     "name": "stderr",
     "output_type": "stream",
     "text": [
      "\n",
      " 88%|███████████████████████████████████▎    | 884/1000 [01:15<00:09, 11.62it/s]\u001b[A\n",
      " 89%|███████████████████████████████████▍    | 886/1000 [01:15<00:09, 11.69it/s]\u001b[A"
     ]
    },
    {
     "name": "stdout",
     "output_type": "stream",
     "text": [
      "0.08538031578063965\n",
      "0.08536577224731445\n",
      "0.08239626884460449\n"
     ]
    },
    {
     "name": "stderr",
     "output_type": "stream",
     "text": [
      "\n",
      " 89%|███████████████████████████████████▌    | 888/1000 [01:15<00:09, 11.63it/s]\u001b[A"
     ]
    },
    {
     "name": "stdout",
     "output_type": "stream",
     "text": [
      "0.09052753448486328\n",
      "0.08234143257141113\n",
      "0.08627796173095703\n"
     ]
    },
    {
     "name": "stderr",
     "output_type": "stream",
     "text": [
      "\n",
      " 89%|███████████████████████████████████▌    | 890/1000 [01:16<00:09, 11.63it/s]\u001b[A\n",
      " 89%|███████████████████████████████████▋    | 892/1000 [01:16<00:09, 11.62it/s]\u001b[A"
     ]
    },
    {
     "name": "stdout",
     "output_type": "stream",
     "text": [
      "0.08478426933288574\n",
      "0.08907794952392578\n",
      "0.0823202133178711\n"
     ]
    },
    {
     "name": "stderr",
     "output_type": "stream",
     "text": [
      "\n",
      " 89%|███████████████████████████████████▊    | 894/1000 [01:16<00:09, 11.61it/s]\u001b[A"
     ]
    },
    {
     "name": "stdout",
     "output_type": "stream",
     "text": [
      "0.08899402618408203\n",
      "0.08246517181396484\n",
      "0.08640456199645996\n"
     ]
    },
    {
     "name": "stderr",
     "output_type": "stream",
     "text": [
      "\n",
      " 90%|███████████████████████████████████▊    | 896/1000 [01:16<00:08, 11.61it/s]\u001b[A\n",
      " 90%|███████████████████████████████████▉    | 898/1000 [01:16<00:08, 11.71it/s]\u001b[A"
     ]
    },
    {
     "name": "stdout",
     "output_type": "stream",
     "text": [
      "0.08480334281921387\n",
      "0.08438539505004883\n",
      "0.08200311660766602\n"
     ]
    },
    {
     "name": "stderr",
     "output_type": "stream",
     "text": [
      "\n",
      " 90%|████████████████████████████████████    | 900/1000 [01:16<00:08, 11.67it/s]\u001b[A"
     ]
    },
    {
     "name": "stdout",
     "output_type": "stream",
     "text": [
      "0.08940958976745605\n",
      "0.08242106437683105\n",
      "0.0865318775177002\n"
     ]
    },
    {
     "name": "stderr",
     "output_type": "stream",
     "text": [
      "\n",
      " 90%|████████████████████████████████████    | 902/1000 [01:17<00:08, 11.65it/s]\u001b[A\n",
      " 90%|████████████████████████████████████▏   | 904/1000 [01:17<00:08, 11.69it/s]\u001b[A"
     ]
    },
    {
     "name": "stdout",
     "output_type": "stream",
     "text": [
      "0.08496212959289551\n",
      "0.08671283721923828\n",
      "0.0818793773651123\n"
     ]
    },
    {
     "name": "stderr",
     "output_type": "stream",
     "text": [
      "\n",
      " 91%|████████████████████████████████████▏   | 906/1000 [01:17<00:08, 11.67it/s]\u001b[A"
     ]
    },
    {
     "name": "stdout",
     "output_type": "stream",
     "text": [
      "0.08872723579406738\n",
      "0.08244991302490234\n",
      "0.08747458457946777\n"
     ]
    },
    {
     "name": "stderr",
     "output_type": "stream",
     "text": [
      "\n",
      " 91%|████████████████████████████████████▎   | 908/1000 [01:17<00:07, 11.62it/s]\u001b[A\n",
      " 91%|████████████████████████████████████▍   | 910/1000 [01:17<00:07, 11.67it/s]\u001b[A"
     ]
    },
    {
     "name": "stdout",
     "output_type": "stream",
     "text": [
      "0.08526921272277832\n",
      "0.08645892143249512\n",
      "0.08214259147644043\n"
     ]
    },
    {
     "name": "stderr",
     "output_type": "stream",
     "text": [
      "\n",
      " 91%|████████████████████████████████████▍   | 912/1000 [01:17<00:07, 11.65it/s]\u001b[A"
     ]
    },
    {
     "name": "stdout",
     "output_type": "stream",
     "text": [
      "0.08899641036987305\n",
      "0.08220911026000977\n",
      "0.08568644523620605\n"
     ]
    },
    {
     "name": "stderr",
     "output_type": "stream",
     "text": [
      "\n",
      " 91%|████████████████████████████████████▌   | 914/1000 [01:18<00:07, 11.64it/s]\u001b[A\n",
      " 92%|████████████████████████████████████▋   | 916/1000 [01:18<00:07, 11.67it/s]\u001b[A"
     ]
    },
    {
     "name": "stdout",
     "output_type": "stream",
     "text": [
      "0.08516836166381836\n",
      "0.08731865882873535\n",
      "0.08244824409484863\n"
     ]
    },
    {
     "name": "stderr",
     "output_type": "stream",
     "text": [
      "\n",
      " 92%|████████████████████████████████████▋   | 918/1000 [01:18<00:07, 11.66it/s]\u001b[A"
     ]
    },
    {
     "name": "stdout",
     "output_type": "stream",
     "text": [
      "0.08863210678100586\n",
      "0.08193111419677734\n",
      "0.08861470222473145\n"
     ]
    },
    {
     "name": "stderr",
     "output_type": "stream",
     "text": [
      "\n",
      " 92%|████████████████████████████████████▊   | 920/1000 [01:18<00:06, 11.59it/s]\u001b[A\n",
      " 92%|████████████████████████████████████▉   | 922/1000 [01:18<00:06, 11.64it/s]\u001b[A"
     ]
    },
    {
     "name": "stdout",
     "output_type": "stream",
     "text": [
      "0.08525490760803223\n",
      "0.08687138557434082\n",
      "0.08225774765014648\n"
     ]
    },
    {
     "name": "stderr",
     "output_type": "stream",
     "text": [
      "\n",
      " 92%|████████████████████████████████████▉   | 924/1000 [01:18<00:06, 11.62it/s]\u001b[A"
     ]
    },
    {
     "name": "stdout",
     "output_type": "stream",
     "text": [
      "0.08895325660705566\n",
      "0.08260369300842285\n",
      "0.085662841796875\n"
     ]
    },
    {
     "name": "stderr",
     "output_type": "stream",
     "text": [
      "\n",
      " 93%|█████████████████████████████████████   | 926/1000 [01:19<00:06, 11.62it/s]\u001b[A\n",
      " 93%|█████████████████████████████████████   | 928/1000 [01:19<00:06, 11.63it/s]\u001b[A"
     ]
    },
    {
     "name": "stdout",
     "output_type": "stream",
     "text": [
      "0.0857539176940918\n",
      "0.08794975280761719\n",
      "0.08263778686523438\n"
     ]
    },
    {
     "name": "stderr",
     "output_type": "stream",
     "text": [
      "\n",
      " 93%|█████████████████████████████████████▏  | 930/1000 [01:19<00:06, 11.61it/s]\u001b[A"
     ]
    },
    {
     "name": "stdout",
     "output_type": "stream",
     "text": [
      "0.0876460075378418\n",
      "0.08393549919128418\n",
      "0.08922171592712402\n"
     ]
    },
    {
     "name": "stderr",
     "output_type": "stream",
     "text": [
      "\n",
      " 93%|█████████████████████████████████████▎  | 932/1000 [01:19<00:05, 11.43it/s]\u001b[A\n",
      " 93%|█████████████████████████████████████▎  | 934/1000 [01:19<00:05, 11.52it/s]\u001b[A"
     ]
    },
    {
     "name": "stdout",
     "output_type": "stream",
     "text": [
      "0.09081792831420898\n",
      "0.08673977851867676\n",
      "0.08252096176147461\n"
     ]
    },
    {
     "name": "stderr",
     "output_type": "stream",
     "text": [
      "\n",
      " 94%|█████████████████████████████████████▍  | 936/1000 [01:19<00:05, 11.37it/s]\u001b[A"
     ]
    },
    {
     "name": "stdout",
     "output_type": "stream",
     "text": [
      "0.09068107604980469\n",
      "0.08938217163085938\n",
      "0.08897209167480469\n"
     ]
    },
    {
     "name": "stderr",
     "output_type": "stream",
     "text": [
      "\n",
      " 94%|█████████████████████████████████████▌  | 938/1000 [01:20<00:05, 11.25it/s]\u001b[A\n",
      " 94%|█████████████████████████████████████▌  | 940/1000 [01:20<00:05, 11.43it/s]\u001b[A"
     ]
    },
    {
     "name": "stdout",
     "output_type": "stream",
     "text": [
      "0.09198427200317383\n",
      "0.08453607559204102\n",
      "0.08280324935913086\n"
     ]
    },
    {
     "name": "stderr",
     "output_type": "stream",
     "text": [
      "\n",
      " 94%|█████████████████████████████████████▋  | 942/1000 [01:20<00:05, 11.48it/s]\u001b[A"
     ]
    },
    {
     "name": "stdout",
     "output_type": "stream",
     "text": [
      "0.08788180351257324\n",
      "0.08366727828979492\n",
      "0.08450031280517578\n"
     ]
    },
    {
     "name": "stderr",
     "output_type": "stream",
     "text": [
      "\n",
      " 94%|█████████████████████████████████████▊  | 944/1000 [01:20<00:04, 11.55it/s]\u001b[A\n",
      " 95%|█████████████████████████████████████▊  | 946/1000 [01:20<00:04, 11.64it/s]\u001b[A"
     ]
    },
    {
     "name": "stdout",
     "output_type": "stream",
     "text": [
      "0.08518385887145996\n",
      "0.08452486991882324\n",
      "0.08316779136657715\n"
     ]
    },
    {
     "name": "stderr",
     "output_type": "stream",
     "text": [
      "\n",
      " 95%|█████████████████████████████████████▉  | 948/1000 [01:21<00:04, 11.47it/s]\u001b[A"
     ]
    },
    {
     "name": "stdout",
     "output_type": "stream",
     "text": [
      "0.0895700454711914\n",
      "0.08914828300476074\n",
      "0.09026408195495605\n"
     ]
    },
    {
     "name": "stderr",
     "output_type": "stream",
     "text": [
      "\n",
      " 95%|██████████████████████████████████████  | 950/1000 [01:21<00:04, 11.31it/s]\u001b[A\n",
      " 95%|██████████████████████████████████████  | 952/1000 [01:21<00:04, 11.25it/s]\u001b[A"
     ]
    },
    {
     "name": "stdout",
     "output_type": "stream",
     "text": [
      "0.09102296829223633\n",
      "0.09072685241699219\n",
      "0.08746051788330078\n"
     ]
    },
    {
     "name": "stderr",
     "output_type": "stream",
     "text": [
      "\n",
      " 95%|██████████████████████████████████████▏ | 954/1000 [01:21<00:04, 11.26it/s]\u001b[A"
     ]
    },
    {
     "name": "stdout",
     "output_type": "stream",
     "text": [
      "0.09071826934814453\n",
      "0.08519124984741211\n",
      "0.08955764770507812\n"
     ]
    },
    {
     "name": "stderr",
     "output_type": "stream",
     "text": [
      "\n",
      " 96%|██████████████████████████████████████▏ | 956/1000 [01:21<00:03, 11.22it/s]\u001b[A\n",
      " 96%|██████████████████████████████████████▎ | 958/1000 [01:21<00:03, 11.41it/s]\u001b[A"
     ]
    },
    {
     "name": "stdout",
     "output_type": "stream",
     "text": [
      "0.08891820907592773\n",
      "0.08507919311523438\n",
      "0.0824887752532959\n"
     ]
    },
    {
     "name": "stderr",
     "output_type": "stream",
     "text": [
      "\n",
      " 96%|██████████████████████████████████████▍ | 960/1000 [01:22<00:03, 11.49it/s]\u001b[A"
     ]
    },
    {
     "name": "stdout",
     "output_type": "stream",
     "text": [
      "0.08814239501953125\n",
      "0.08214068412780762\n",
      "0.08736062049865723\n"
     ]
    },
    {
     "name": "stderr",
     "output_type": "stream",
     "text": [
      "\n",
      " 96%|██████████████████████████████████████▍ | 962/1000 [01:22<00:03, 11.48it/s]\u001b[A\n",
      " 96%|██████████████████████████████████████▌ | 964/1000 [01:22<00:03, 11.58it/s]\u001b[A"
     ]
    },
    {
     "name": "stdout",
     "output_type": "stream",
     "text": [
      "0.08592748641967773\n",
      "0.08541584014892578\n",
      "0.08249068260192871\n"
     ]
    },
    {
     "name": "stderr",
     "output_type": "stream",
     "text": [
      "\n",
      " 97%|██████████████████████████████████████▋ | 966/1000 [01:22<00:02, 11.55it/s]\u001b[A"
     ]
    },
    {
     "name": "stdout",
     "output_type": "stream",
     "text": [
      "0.0895543098449707\n",
      "0.0837864875793457\n",
      "0.08465075492858887\n"
     ]
    },
    {
     "name": "stderr",
     "output_type": "stream",
     "text": [
      "\n",
      " 97%|██████████████████████████████████████▋ | 968/1000 [01:22<00:02, 11.59it/s]\u001b[A\n",
      " 97%|██████████████████████████████████████▊ | 970/1000 [01:22<00:02, 11.63it/s]\u001b[A"
     ]
    },
    {
     "name": "stdout",
     "output_type": "stream",
     "text": [
      "0.08554792404174805\n",
      "0.08629775047302246\n",
      "0.08296823501586914\n"
     ]
    },
    {
     "name": "stderr",
     "output_type": "stream",
     "text": [
      "\n",
      " 97%|██████████████████████████████████████▉ | 972/1000 [01:23<00:02, 11.60it/s]\u001b[A"
     ]
    },
    {
     "name": "stdout",
     "output_type": "stream",
     "text": [
      "0.0877079963684082\n",
      "0.08446574211120605\n",
      "0.08428573608398438\n"
     ]
    },
    {
     "name": "stderr",
     "output_type": "stream",
     "text": [
      "\n",
      " 97%|██████████████████████████████████████▉ | 974/1000 [01:23<00:02, 11.64it/s]\u001b[A\n",
      " 98%|███████████████████████████████████████ | 976/1000 [01:23<00:02, 11.69it/s]\u001b[A"
     ]
    },
    {
     "name": "stdout",
     "output_type": "stream",
     "text": [
      "0.08502602577209473\n",
      "0.08583259582519531\n",
      "0.08245372772216797\n"
     ]
    },
    {
     "name": "stderr",
     "output_type": "stream",
     "text": [
      "\n",
      " 98%|███████████████████████████████████████ | 978/1000 [01:23<00:01, 11.66it/s]\u001b[A"
     ]
    },
    {
     "name": "stdout",
     "output_type": "stream",
     "text": [
      "0.08909916877746582\n",
      "0.08252930641174316\n",
      "0.08658170700073242\n"
     ]
    },
    {
     "name": "stderr",
     "output_type": "stream",
     "text": [
      "\n",
      " 98%|███████████████████████████████████████▏| 980/1000 [01:23<00:01, 11.64it/s]\u001b[A\n",
      " 98%|███████████████████████████████████████▎| 982/1000 [01:23<00:01, 11.71it/s]\u001b[A"
     ]
    },
    {
     "name": "stdout",
     "output_type": "stream",
     "text": [
      "0.08503937721252441\n",
      "0.08481073379516602\n",
      "0.08243393898010254\n"
     ]
    },
    {
     "name": "stderr",
     "output_type": "stream",
     "text": [
      "\n",
      " 98%|███████████████████████████████████████▎| 984/1000 [01:24<00:01, 11.68it/s]\u001b[A"
     ]
    },
    {
     "name": "stdout",
     "output_type": "stream",
     "text": [
      "0.08838009834289551\n",
      "0.08305692672729492\n",
      "0.08934712409973145\n"
     ]
    },
    {
     "name": "stderr",
     "output_type": "stream",
     "text": [
      "\n",
      " 99%|███████████████████████████████████████▍| 986/1000 [01:24<00:01, 11.60it/s]\u001b[A\n",
      " 99%|███████████████████████████████████████▌| 988/1000 [01:24<00:01, 11.49it/s]\u001b[A"
     ]
    },
    {
     "name": "stdout",
     "output_type": "stream",
     "text": [
      "0.08495569229125977\n",
      "0.0883786678314209\n",
      "0.08838152885437012\n"
     ]
    },
    {
     "name": "stderr",
     "output_type": "stream",
     "text": [
      "\n",
      " 99%|███████████████████████████████████████▌| 990/1000 [01:24<00:00, 11.36it/s]\u001b[A"
     ]
    },
    {
     "name": "stdout",
     "output_type": "stream",
     "text": [
      "0.09018278121948242\n",
      "0.0890052318572998\n",
      "0.08748793601989746\n"
     ]
    },
    {
     "name": "stderr",
     "output_type": "stream",
     "text": [
      "\n",
      " 99%|███████████████████████████████████████▋| 992/1000 [01:24<00:00, 11.40it/s]\u001b[A\n",
      " 99%|███████████████████████████████████████▊| 994/1000 [01:25<00:00, 11.44it/s]\u001b[A"
     ]
    },
    {
     "name": "stdout",
     "output_type": "stream",
     "text": [
      "0.08549261093139648\n",
      "0.08437275886535645\n",
      "0.08763289451599121\n"
     ]
    },
    {
     "name": "stderr",
     "output_type": "stream",
     "text": [
      "\n",
      "100%|███████████████████████████████████████▊| 996/1000 [01:25<00:00, 11.30it/s]\u001b[A"
     ]
    },
    {
     "name": "stdout",
     "output_type": "stream",
     "text": [
      "0.09212803840637207\n",
      "0.08863401412963867\n",
      "0.08475065231323242\n"
     ]
    },
    {
     "name": "stderr",
     "output_type": "stream",
     "text": [
      "\n",
      "100%|███████████████████████████████████████▉| 998/1000 [01:25<00:00, 11.41it/s]\u001b[A\n",
      "100%|███████████████████████████████████████| 1000/1000 [01:25<00:00, 11.69it/s]\u001b[A\n",
      " 60%|███████████████████████████                  | 3/5 [04:15<02:50, 85.42s/it]"
     ]
    },
    {
     "name": "stdout",
     "output_type": "stream",
     "text": [
      "0.08518028259277344\n",
      "0.08597636222839355\n",
      "0.08621621131896973\n",
      "One run completed\n"
     ]
    },
    {
     "name": "stderr",
     "output_type": "stream",
     "text": [
      "\n",
      "  0%|                                                  | 0/1000 [00:00<?, ?it/s]\u001b[A\n",
      "  0%|                                          | 2/1000 [00:00<01:28, 11.22it/s]\u001b[A"
     ]
    },
    {
     "name": "stdout",
     "output_type": "stream",
     "text": [
      "0.09038782119750977\n",
      "0.08760523796081543\n",
      "0.08802604675292969\n"
     ]
    },
    {
     "name": "stderr",
     "output_type": "stream",
     "text": [
      "\n",
      "  0%|▏                                         | 4/1000 [00:00<01:28, 11.30it/s]\u001b[A\n",
      "  1%|▎                                         | 6/1000 [00:00<01:26, 11.54it/s]\u001b[A"
     ]
    },
    {
     "name": "stdout",
     "output_type": "stream",
     "text": [
      "0.08691215515136719\n",
      "0.08573031425476074\n",
      "0.08219647407531738\n"
     ]
    },
    {
     "name": "stderr",
     "output_type": "stream",
     "text": [
      "\n",
      "  1%|▎                                         | 8/1000 [00:00<01:25, 11.63it/s]\u001b[A"
     ]
    },
    {
     "name": "stdout",
     "output_type": "stream",
     "text": [
      "0.08679938316345215\n",
      "0.08234477043151855\n",
      "0.08587145805358887\n"
     ]
    },
    {
     "name": "stderr",
     "output_type": "stream",
     "text": [
      "\n",
      "  1%|▍                                        | 10/1000 [00:00<01:24, 11.66it/s]\u001b[A\n",
      "  1%|▍                                        | 12/1000 [00:01<01:24, 11.71it/s]\u001b[A"
     ]
    },
    {
     "name": "stdout",
     "output_type": "stream",
     "text": [
      "0.08388614654541016\n",
      "0.08460044860839844\n",
      "0.08344650268554688\n"
     ]
    },
    {
     "name": "stderr",
     "output_type": "stream",
     "text": [
      "\n",
      "  1%|▌                                        | 14/1000 [00:01<01:26, 11.46it/s]\u001b[A"
     ]
    },
    {
     "name": "stdout",
     "output_type": "stream",
     "text": [
      "0.09338784217834473\n",
      "0.08751559257507324\n",
      "0.0895390510559082\n"
     ]
    },
    {
     "name": "stderr",
     "output_type": "stream",
     "text": [
      "\n",
      "  2%|▋                                        | 16/1000 [00:01<01:26, 11.37it/s]\u001b[A\n",
      "  2%|▋                                        | 18/1000 [00:01<01:25, 11.52it/s]\u001b[A"
     ]
    },
    {
     "name": "stdout",
     "output_type": "stream",
     "text": [
      "0.08838915824890137\n",
      "0.0849766731262207\n",
      "0.08225154876708984\n"
     ]
    },
    {
     "name": "stderr",
     "output_type": "stream",
     "text": [
      "\n",
      "  2%|▊                                        | 20/1000 [00:01<01:24, 11.56it/s]\u001b[A"
     ]
    },
    {
     "name": "stdout",
     "output_type": "stream",
     "text": [
      "0.08772802352905273\n",
      "0.08287787437438965\n",
      "0.08459615707397461\n"
     ]
    },
    {
     "name": "stderr",
     "output_type": "stream",
     "text": [
      "\n",
      "  2%|▉                                        | 22/1000 [00:01<01:24, 11.62it/s]\u001b[A\n",
      "  2%|▉                                        | 24/1000 [00:02<01:23, 11.71it/s]\u001b[A"
     ]
    },
    {
     "name": "stdout",
     "output_type": "stream",
     "text": [
      "0.08414888381958008\n",
      "0.08489441871643066\n",
      "0.08200764656066895\n"
     ]
    },
    {
     "name": "stderr",
     "output_type": "stream",
     "text": [
      "\n",
      "  3%|█                                        | 26/1000 [00:02<01:22, 11.74it/s]\u001b[A"
     ]
    },
    {
     "name": "stdout",
     "output_type": "stream",
     "text": [
      "0.08635711669921875\n",
      "0.08186531066894531\n",
      "0.08568263053894043\n"
     ]
    },
    {
     "name": "stderr",
     "output_type": "stream",
     "text": [
      "\n",
      "  3%|█▏                                       | 28/1000 [00:02<01:22, 11.74it/s]\u001b[A\n",
      "  3%|█▏                                       | 30/1000 [00:02<01:22, 11.82it/s]\u001b[A"
     ]
    },
    {
     "name": "stdout",
     "output_type": "stream",
     "text": [
      "0.08338260650634766\n",
      "0.08336997032165527\n",
      "0.08212471008300781\n"
     ]
    },
    {
     "name": "stderr",
     "output_type": "stream",
     "text": [
      "\n",
      "  3%|█▎                                       | 32/1000 [00:02<01:21, 11.81it/s]\u001b[A"
     ]
    },
    {
     "name": "stdout",
     "output_type": "stream",
     "text": [
      "0.08656764030456543\n",
      "0.08183670043945312\n",
      "0.0859518051147461\n"
     ]
    },
    {
     "name": "stderr",
     "output_type": "stream",
     "text": [
      "\n",
      "  3%|█▍                                       | 34/1000 [00:02<01:21, 11.78it/s]\u001b[A\n",
      "  4%|█▍                                       | 36/1000 [00:03<01:21, 11.82it/s]\u001b[A"
     ]
    },
    {
     "name": "stdout",
     "output_type": "stream",
     "text": [
      "0.08380579948425293\n",
      "0.08518338203430176\n",
      "0.08167624473571777\n"
     ]
    },
    {
     "name": "stderr",
     "output_type": "stream",
     "text": [
      "\n",
      "  4%|█▌                                       | 38/1000 [00:03<01:21, 11.82it/s]\u001b[A"
     ]
    },
    {
     "name": "stdout",
     "output_type": "stream",
     "text": [
      "0.08639693260192871\n",
      "0.08177566528320312\n",
      "0.08559608459472656\n"
     ]
    },
    {
     "name": "stderr",
     "output_type": "stream",
     "text": [
      "\n",
      "  4%|█▋                                       | 40/1000 [00:03<01:21, 11.80it/s]\u001b[A\n",
      "  4%|█▋                                       | 42/1000 [00:03<01:21, 11.79it/s]\u001b[A"
     ]
    },
    {
     "name": "stdout",
     "output_type": "stream",
     "text": [
      "0.0832056999206543\n",
      "0.08646011352539062\n",
      "0.08266067504882812\n"
     ]
    },
    {
     "name": "stderr",
     "output_type": "stream",
     "text": [
      "\n",
      "  4%|█▊                                       | 44/1000 [00:03<01:21, 11.79it/s]\u001b[A"
     ]
    },
    {
     "name": "stdout",
     "output_type": "stream",
     "text": [
      "0.08637046813964844\n",
      "0.08188748359680176\n",
      "0.08485031127929688\n"
     ]
    },
    {
     "name": "stderr",
     "output_type": "stream",
     "text": [
      "\n",
      "  5%|█▉                                       | 46/1000 [00:03<01:20, 11.79it/s]\u001b[A\n",
      "  5%|█▉                                       | 48/1000 [00:04<01:20, 11.81it/s]\u001b[A"
     ]
    },
    {
     "name": "stdout",
     "output_type": "stream",
     "text": [
      "0.08380985260009766\n",
      "0.08544230461120605\n",
      "0.0823659896850586\n"
     ]
    },
    {
     "name": "stderr",
     "output_type": "stream",
     "text": [
      "\n",
      "  5%|██                                       | 50/1000 [00:04<01:20, 11.79it/s]\u001b[A"
     ]
    },
    {
     "name": "stdout",
     "output_type": "stream",
     "text": [
      "0.0872349739074707\n",
      "0.08192849159240723\n",
      "0.08471035957336426\n"
     ]
    },
    {
     "name": "stderr",
     "output_type": "stream",
     "text": [
      "\n",
      "  5%|██▏                                      | 52/1000 [00:04<01:20, 11.80it/s]\u001b[A\n",
      "  5%|██▏                                      | 54/1000 [00:04<01:19, 11.84it/s]\u001b[A"
     ]
    },
    {
     "name": "stdout",
     "output_type": "stream",
     "text": [
      "0.08320212364196777\n",
      "0.08389616012573242\n",
      "0.08259749412536621\n"
     ]
    },
    {
     "name": "stderr",
     "output_type": "stream",
     "text": [
      "\n",
      "  6%|██▎                                      | 56/1000 [00:04<01:19, 11.81it/s]\u001b[A"
     ]
    },
    {
     "name": "stdout",
     "output_type": "stream",
     "text": [
      "0.08704996109008789\n",
      "0.08224248886108398\n",
      "0.08612561225891113\n"
     ]
    },
    {
     "name": "stderr",
     "output_type": "stream",
     "text": [
      "\n",
      "  6%|██▍                                      | 58/1000 [00:04<01:19, 11.78it/s]\u001b[A\n",
      "  6%|██▍                                      | 60/1000 [00:05<01:19, 11.82it/s]\u001b[A"
     ]
    },
    {
     "name": "stdout",
     "output_type": "stream",
     "text": [
      "0.08385944366455078\n",
      "0.08505392074584961\n",
      "0.0817863941192627\n"
     ]
    },
    {
     "name": "stderr",
     "output_type": "stream",
     "text": [
      "\n",
      "  6%|██▌                                      | 62/1000 [00:05<01:19, 11.81it/s]\u001b[A"
     ]
    },
    {
     "name": "stdout",
     "output_type": "stream",
     "text": [
      "0.08660244941711426\n",
      "0.08194422721862793\n",
      "0.08604598045349121\n"
     ]
    },
    {
     "name": "stderr",
     "output_type": "stream",
     "text": [
      "\n",
      "  6%|██▌                                      | 64/1000 [00:05<01:19, 11.78it/s]\u001b[A\n",
      "  7%|██▋                                      | 66/1000 [00:05<01:19, 11.80it/s]\u001b[A"
     ]
    },
    {
     "name": "stdout",
     "output_type": "stream",
     "text": [
      "0.0839684009552002\n",
      "0.08488130569458008\n",
      "0.08265423774719238\n"
     ]
    },
    {
     "name": "stderr",
     "output_type": "stream",
     "text": [
      "\n",
      "  7%|██▊                                      | 68/1000 [00:05<01:19, 11.78it/s]\u001b[A"
     ]
    },
    {
     "name": "stdout",
     "output_type": "stream",
     "text": [
      "0.08745312690734863\n",
      "0.08221650123596191\n",
      "0.08524560928344727\n"
     ]
    },
    {
     "name": "stderr",
     "output_type": "stream",
     "text": [
      "\n",
      "  7%|██▊                                      | 70/1000 [00:05<01:18, 11.77it/s]\u001b[A\n",
      "  7%|██▉                                      | 72/1000 [00:06<01:18, 11.81it/s]\u001b[A"
     ]
    },
    {
     "name": "stdout",
     "output_type": "stream",
     "text": [
      "0.08362674713134766\n",
      "0.08519482612609863\n",
      "0.0817420482635498\n"
     ]
    },
    {
     "name": "stderr",
     "output_type": "stream",
     "text": [
      "\n",
      "  7%|███                                      | 74/1000 [00:06<01:18, 11.78it/s]\u001b[A"
     ]
    },
    {
     "name": "stdout",
     "output_type": "stream",
     "text": [
      "0.08747744560241699\n",
      "0.08209061622619629\n",
      "0.08770918846130371\n"
     ]
    },
    {
     "name": "stderr",
     "output_type": "stream",
     "text": [
      "\n",
      "  8%|███                                      | 76/1000 [00:06<01:19, 11.61it/s]\u001b[A\n",
      "  8%|███▏                                     | 78/1000 [00:06<01:19, 11.58it/s]\u001b[A"
     ]
    },
    {
     "name": "stdout",
     "output_type": "stream",
     "text": [
      "0.08912086486816406\n",
      "0.08950424194335938\n",
      "0.08302855491638184\n"
     ]
    },
    {
     "name": "stderr",
     "output_type": "stream",
     "text": [
      "\n",
      "  8%|███▎                                     | 80/1000 [00:06<01:19, 11.55it/s]\u001b[A"
     ]
    },
    {
     "name": "stdout",
     "output_type": "stream",
     "text": [
      "0.08627843856811523\n",
      "0.08667254447937012\n",
      "0.08839797973632812\n"
     ]
    },
    {
     "name": "stderr",
     "output_type": "stream",
     "text": [
      "\n",
      "  8%|███▎                                     | 82/1000 [00:07<01:20, 11.46it/s]\u001b[A\n",
      "  8%|███▍                                     | 84/1000 [00:07<01:19, 11.49it/s]\u001b[A"
     ]
    },
    {
     "name": "stdout",
     "output_type": "stream",
     "text": [
      "0.08794355392456055\n",
      "0.08972311019897461\n",
      "0.0823967456817627\n"
     ]
    },
    {
     "name": "stderr",
     "output_type": "stream",
     "text": [
      "\n",
      "  9%|███▌                                     | 86/1000 [00:07<01:19, 11.55it/s]\u001b[A"
     ]
    },
    {
     "name": "stdout",
     "output_type": "stream",
     "text": [
      "0.08741402626037598\n",
      "0.08226871490478516\n",
      "0.08753156661987305\n"
     ]
    },
    {
     "name": "stderr",
     "output_type": "stream",
     "text": [
      "\n",
      "  9%|███▌                                     | 88/1000 [00:07<01:19, 11.47it/s]\u001b[A\n",
      "  9%|███▋                                     | 90/1000 [00:07<01:19, 11.46it/s]\u001b[A"
     ]
    },
    {
     "name": "stdout",
     "output_type": "stream",
     "text": [
      "0.08849620819091797\n",
      "0.0888833999633789\n",
      "0.08462262153625488\n"
     ]
    },
    {
     "name": "stderr",
     "output_type": "stream",
     "text": [
      "\n",
      "  9%|███▊                                     | 92/1000 [00:07<01:18, 11.56it/s]\u001b[A"
     ]
    },
    {
     "name": "stdout",
     "output_type": "stream",
     "text": [
      "0.087066650390625\n",
      "0.08166837692260742\n",
      "0.08610677719116211\n"
     ]
    },
    {
     "name": "stderr",
     "output_type": "stream",
     "text": [
      "\n",
      "  9%|███▊                                     | 94/1000 [00:08<01:18, 11.58it/s]\u001b[A\n",
      " 10%|███▉                                     | 96/1000 [00:08<01:17, 11.67it/s]\u001b[A"
     ]
    },
    {
     "name": "stdout",
     "output_type": "stream",
     "text": [
      "0.08490419387817383\n",
      "0.08543825149536133\n",
      "0.08159446716308594\n"
     ]
    },
    {
     "name": "stderr",
     "output_type": "stream",
     "text": [
      "\n",
      " 10%|████                                     | 98/1000 [00:08<01:17, 11.70it/s]\u001b[A"
     ]
    },
    {
     "name": "stdout",
     "output_type": "stream",
     "text": [
      "0.08650350570678711\n",
      "0.08214497566223145\n",
      "0.08490562438964844\n"
     ]
    },
    {
     "name": "stderr",
     "output_type": "stream",
     "text": [
      "\n",
      " 10%|████                                    | 100/1000 [00:08<01:16, 11.73it/s]\u001b[A\n",
      " 10%|████                                    | 102/1000 [00:08<01:16, 11.74it/s]\u001b[A"
     ]
    },
    {
     "name": "stdout",
     "output_type": "stream",
     "text": [
      "0.08348464965820312\n",
      "0.08719563484191895\n",
      "0.08182978630065918\n"
     ]
    },
    {
     "name": "stderr",
     "output_type": "stream",
     "text": [
      "\n",
      " 10%|████▏                                   | 104/1000 [00:08<01:16, 11.76it/s]\u001b[A"
     ]
    },
    {
     "name": "stdout",
     "output_type": "stream",
     "text": [
      "0.0866239070892334\n",
      "0.08173489570617676\n",
      "0.08695602416992188\n"
     ]
    },
    {
     "name": "stderr",
     "output_type": "stream",
     "text": [
      "\n",
      " 11%|████▏                                   | 106/1000 [00:09<01:16, 11.73it/s]\u001b[A\n",
      " 11%|████▎                                   | 108/1000 [00:09<01:15, 11.78it/s]\u001b[A"
     ]
    },
    {
     "name": "stdout",
     "output_type": "stream",
     "text": [
      "0.08362388610839844\n",
      "0.08513712882995605\n",
      "0.08170509338378906\n"
     ]
    },
    {
     "name": "stderr",
     "output_type": "stream",
     "text": [
      "\n",
      " 11%|████▍                                   | 110/1000 [00:09<01:15, 11.79it/s]\u001b[A"
     ]
    },
    {
     "name": "stdout",
     "output_type": "stream",
     "text": [
      "0.08651208877563477\n",
      "0.08208942413330078\n",
      "0.0844733715057373\n"
     ]
    },
    {
     "name": "stderr",
     "output_type": "stream",
     "text": [
      "\n",
      " 11%|████▍                                   | 112/1000 [00:09<01:15, 11.80it/s]\u001b[A\n",
      " 11%|████▌                                   | 114/1000 [00:09<01:14, 11.84it/s]\u001b[A"
     ]
    },
    {
     "name": "stdout",
     "output_type": "stream",
     "text": [
      "0.08365488052368164\n",
      "0.08369016647338867\n",
      "0.08258581161499023\n"
     ]
    },
    {
     "name": "stderr",
     "output_type": "stream",
     "text": [
      "\n",
      " 12%|████▋                                   | 116/1000 [00:09<01:14, 11.82it/s]\u001b[A"
     ]
    },
    {
     "name": "stdout",
     "output_type": "stream",
     "text": [
      "0.08684945106506348\n",
      "0.08222317695617676\n",
      "0.08608245849609375\n"
     ]
    },
    {
     "name": "stderr",
     "output_type": "stream",
     "text": [
      "\n",
      " 12%|████▋                                   | 118/1000 [00:10<01:14, 11.78it/s]\u001b[A\n",
      " 12%|████▊                                   | 120/1000 [00:10<01:14, 11.79it/s]\u001b[A"
     ]
    },
    {
     "name": "stdout",
     "output_type": "stream",
     "text": [
      "0.08394885063171387\n",
      "0.08588790893554688\n",
      "0.08206868171691895\n"
     ]
    },
    {
     "name": "stderr",
     "output_type": "stream",
     "text": [
      "\n",
      " 12%|████▉                                   | 122/1000 [00:10<01:14, 11.79it/s]\u001b[A"
     ]
    },
    {
     "name": "stdout",
     "output_type": "stream",
     "text": [
      "0.08666872978210449\n",
      "0.0823671817779541\n",
      "0.08523058891296387\n"
     ]
    },
    {
     "name": "stderr",
     "output_type": "stream",
     "text": [
      "\n",
      " 12%|████▉                                   | 124/1000 [00:10<01:14, 11.76it/s]\u001b[A\n",
      " 13%|█████                                   | 126/1000 [00:10<01:13, 11.83it/s]\u001b[A"
     ]
    },
    {
     "name": "stdout",
     "output_type": "stream",
     "text": [
      "0.08462047576904297\n",
      "0.08420252799987793\n",
      "0.0816953182220459\n"
     ]
    },
    {
     "name": "stderr",
     "output_type": "stream",
     "text": [
      "\n",
      " 13%|█████                                   | 128/1000 [00:10<01:13, 11.81it/s]\u001b[A"
     ]
    },
    {
     "name": "stdout",
     "output_type": "stream",
     "text": [
      "0.08678889274597168\n",
      "0.08187079429626465\n",
      "0.08645057678222656\n"
     ]
    },
    {
     "name": "stderr",
     "output_type": "stream",
     "text": [
      "\n",
      " 13%|█████▏                                  | 130/1000 [00:11<01:13, 11.77it/s]\u001b[A\n",
      " 13%|█████▎                                  | 132/1000 [00:11<01:13, 11.78it/s]\u001b[A"
     ]
    },
    {
     "name": "stdout",
     "output_type": "stream",
     "text": [
      "0.0836937427520752\n",
      "0.08627128601074219\n",
      "0.08213305473327637\n"
     ]
    },
    {
     "name": "stderr",
     "output_type": "stream",
     "text": [
      "\n",
      " 13%|█████▎                                  | 134/1000 [00:11<01:13, 11.77it/s]\u001b[A"
     ]
    },
    {
     "name": "stdout",
     "output_type": "stream",
     "text": [
      "0.08720898628234863\n",
      "0.08223795890808105\n",
      "0.08619356155395508\n"
     ]
    },
    {
     "name": "stderr",
     "output_type": "stream",
     "text": [
      "\n",
      " 14%|█████▍                                  | 136/1000 [00:11<01:13, 11.73it/s]\u001b[A\n",
      " 14%|█████▌                                  | 138/1000 [00:11<01:13, 11.81it/s]\u001b[A"
     ]
    },
    {
     "name": "stdout",
     "output_type": "stream",
     "text": [
      "0.08449411392211914\n",
      "0.08377504348754883\n",
      "0.08205914497375488\n"
     ]
    },
    {
     "name": "stderr",
     "output_type": "stream",
     "text": [
      "\n",
      " 14%|█████▌                                  | 140/1000 [00:11<01:13, 11.78it/s]\u001b[A"
     ]
    },
    {
     "name": "stdout",
     "output_type": "stream",
     "text": [
      "0.08745765686035156\n",
      "0.08237934112548828\n",
      "0.08546853065490723\n"
     ]
    },
    {
     "name": "stderr",
     "output_type": "stream",
     "text": [
      "\n",
      " 14%|█████▋                                  | 142/1000 [00:12<01:12, 11.76it/s]\u001b[A\n",
      " 14%|█████▊                                  | 144/1000 [00:12<01:12, 11.80it/s]\u001b[A"
     ]
    },
    {
     "name": "stdout",
     "output_type": "stream",
     "text": [
      "0.08415985107421875\n",
      "0.08497166633605957\n",
      "0.08201313018798828\n"
     ]
    },
    {
     "name": "stderr",
     "output_type": "stream",
     "text": [
      "\n",
      " 15%|█████▊                                  | 146/1000 [00:12<01:12, 11.80it/s]\u001b[A"
     ]
    },
    {
     "name": "stdout",
     "output_type": "stream",
     "text": [
      "0.08649039268493652\n",
      "0.08195710182189941\n",
      "0.09143447875976562\n"
     ]
    },
    {
     "name": "stderr",
     "output_type": "stream",
     "text": [
      "\n",
      " 15%|█████▉                                  | 148/1000 [00:12<01:13, 11.63it/s]\u001b[A\n",
      " 15%|██████                                  | 150/1000 [00:12<01:12, 11.68it/s]\u001b[A"
     ]
    },
    {
     "name": "stdout",
     "output_type": "stream",
     "text": [
      "0.08521604537963867\n",
      "0.08628320693969727\n",
      "0.08200764656066895\n"
     ]
    },
    {
     "name": "stderr",
     "output_type": "stream",
     "text": [
      "\n",
      " 15%|██████                                  | 152/1000 [00:12<01:12, 11.72it/s]\u001b[A"
     ]
    },
    {
     "name": "stdout",
     "output_type": "stream",
     "text": [
      "0.08644890785217285\n",
      "0.08184814453125\n",
      "0.08511590957641602\n"
     ]
    },
    {
     "name": "stderr",
     "output_type": "stream",
     "text": [
      "\n",
      " 15%|██████▏                                 | 154/1000 [00:13<01:12, 11.74it/s]\u001b[A\n",
      " 16%|██████▏                                 | 156/1000 [00:13<01:11, 11.83it/s]\u001b[A"
     ]
    },
    {
     "name": "stdout",
     "output_type": "stream",
     "text": [
      "0.08355593681335449\n",
      "0.08354949951171875\n",
      "0.08167791366577148\n"
     ]
    },
    {
     "name": "stderr",
     "output_type": "stream",
     "text": [
      "\n",
      " 16%|██████▎                                 | 158/1000 [00:13<01:11, 11.81it/s]\u001b[A"
     ]
    },
    {
     "name": "stdout",
     "output_type": "stream",
     "text": [
      "0.08670639991760254\n",
      "0.08205652236938477\n",
      "0.08517813682556152\n"
     ]
    },
    {
     "name": "stderr",
     "output_type": "stream",
     "text": [
      "\n",
      " 16%|██████▍                                 | 160/1000 [00:13<01:11, 11.78it/s]\u001b[A\n",
      " 16%|██████▍                                 | 162/1000 [00:13<01:10, 11.80it/s]\u001b[A"
     ]
    },
    {
     "name": "stdout",
     "output_type": "stream",
     "text": [
      "0.08463048934936523\n",
      "0.08568930625915527\n",
      "0.08174705505371094\n"
     ]
    },
    {
     "name": "stderr",
     "output_type": "stream",
     "text": [
      "\n",
      " 16%|██████▌                                 | 164/1000 [00:13<01:10, 11.80it/s]\u001b[A"
     ]
    },
    {
     "name": "stdout",
     "output_type": "stream",
     "text": [
      "0.08675575256347656\n",
      "0.08179831504821777\n",
      "0.08606123924255371\n"
     ]
    },
    {
     "name": "stderr",
     "output_type": "stream",
     "text": [
      "\n",
      " 17%|██████▋                                 | 166/1000 [00:14<01:10, 11.78it/s]\u001b[A\n",
      " 17%|██████▋                                 | 168/1000 [00:14<01:10, 11.79it/s]\u001b[A"
     ]
    },
    {
     "name": "stdout",
     "output_type": "stream",
     "text": [
      "0.08338713645935059\n",
      "0.08619117736816406\n",
      "0.0819387435913086\n"
     ]
    },
    {
     "name": "stderr",
     "output_type": "stream",
     "text": [
      "\n",
      " 17%|██████▊                                 | 170/1000 [00:14<01:10, 11.78it/s]\u001b[A"
     ]
    },
    {
     "name": "stdout",
     "output_type": "stream",
     "text": [
      "0.08627748489379883\n",
      "0.08267664909362793\n",
      "0.0858452320098877\n"
     ]
    },
    {
     "name": "stderr",
     "output_type": "stream",
     "text": [
      "\n",
      " 17%|██████▉                                 | 172/1000 [00:14<01:10, 11.75it/s]\u001b[A\n",
      " 17%|██████▉                                 | 174/1000 [00:14<01:10, 11.78it/s]\u001b[A"
     ]
    },
    {
     "name": "stdout",
     "output_type": "stream",
     "text": [
      "0.08440375328063965\n",
      "0.08585190773010254\n",
      "0.08166146278381348\n"
     ]
    },
    {
     "name": "stderr",
     "output_type": "stream",
     "text": [
      "\n",
      " 18%|███████                                 | 176/1000 [00:15<01:09, 11.79it/s]\u001b[A"
     ]
    },
    {
     "name": "stdout",
     "output_type": "stream",
     "text": [
      "0.08675837516784668\n",
      "0.08184432983398438\n",
      "0.0860443115234375\n"
     ]
    },
    {
     "name": "stderr",
     "output_type": "stream",
     "text": [
      "\n",
      " 18%|███████                                 | 178/1000 [00:15<01:09, 11.77it/s]\u001b[A\n",
      " 18%|███████▏                                | 180/1000 [00:15<01:09, 11.83it/s]\u001b[A"
     ]
    },
    {
     "name": "stdout",
     "output_type": "stream",
     "text": [
      "0.08340787887573242\n",
      "0.0842432975769043\n",
      "0.08184099197387695\n"
     ]
    },
    {
     "name": "stderr",
     "output_type": "stream",
     "text": [
      "\n",
      " 18%|███████▎                                | 182/1000 [00:15<01:09, 11.82it/s]\u001b[A"
     ]
    },
    {
     "name": "stdout",
     "output_type": "stream",
     "text": [
      "0.08674454689025879\n",
      "0.08194303512573242\n",
      "0.08580303192138672\n"
     ]
    },
    {
     "name": "stderr",
     "output_type": "stream",
     "text": [
      "\n",
      " 18%|███████▎                                | 184/1000 [00:15<01:09, 11.79it/s]\u001b[A\n",
      " 19%|███████▍                                | 186/1000 [00:15<01:08, 11.82it/s]\u001b[A"
     ]
    },
    {
     "name": "stdout",
     "output_type": "stream",
     "text": [
      "0.08368206024169922\n",
      "0.08532881736755371\n",
      "0.08194780349731445\n"
     ]
    },
    {
     "name": "stderr",
     "output_type": "stream",
     "text": [
      "\n",
      " 19%|███████▌                                | 188/1000 [00:16<01:08, 11.82it/s]\u001b[A"
     ]
    },
    {
     "name": "stdout",
     "output_type": "stream",
     "text": [
      "0.08626508712768555\n",
      "0.08180546760559082\n",
      "0.0849149227142334\n"
     ]
    },
    {
     "name": "stderr",
     "output_type": "stream",
     "text": [
      "\n",
      " 19%|███████▌                                | 190/1000 [00:16<01:08, 11.81it/s]\u001b[A\n",
      " 19%|███████▋                                | 192/1000 [00:16<01:08, 11.87it/s]\u001b[A"
     ]
    },
    {
     "name": "stdout",
     "output_type": "stream",
     "text": [
      "0.08353710174560547\n",
      "0.08390641212463379\n",
      "0.08187675476074219\n"
     ]
    },
    {
     "name": "stderr",
     "output_type": "stream",
     "text": [
      "\n",
      " 19%|███████▊                                | 194/1000 [00:16<01:08, 11.84it/s]\u001b[A"
     ]
    },
    {
     "name": "stdout",
     "output_type": "stream",
     "text": [
      "0.08675670623779297\n",
      "0.08206605911254883\n",
      "0.08713006973266602\n"
     ]
    },
    {
     "name": "stderr",
     "output_type": "stream",
     "text": [
      "\n",
      " 20%|███████▊                                | 196/1000 [00:16<01:08, 11.78it/s]\u001b[A\n",
      " 20%|███████▉                                | 198/1000 [00:16<01:07, 11.82it/s]\u001b[A"
     ]
    },
    {
     "name": "stdout",
     "output_type": "stream",
     "text": [
      "0.08369255065917969\n",
      "0.08522152900695801\n",
      "0.08161687850952148\n"
     ]
    },
    {
     "name": "stderr",
     "output_type": "stream",
     "text": [
      "\n",
      " 20%|████████                                | 200/1000 [00:17<01:07, 11.80it/s]\u001b[A"
     ]
    },
    {
     "name": "stdout",
     "output_type": "stream",
     "text": [
      "0.08689689636230469\n",
      "0.08215141296386719\n",
      "0.08568644523620605\n"
     ]
    },
    {
     "name": "stderr",
     "output_type": "stream",
     "text": [
      "\n",
      " 20%|████████                                | 202/1000 [00:17<01:07, 11.78it/s]\u001b[A\n",
      " 20%|████████▏                               | 204/1000 [00:17<01:07, 11.78it/s]\u001b[A"
     ]
    },
    {
     "name": "stdout",
     "output_type": "stream",
     "text": [
      "0.08342385292053223\n",
      "0.08661174774169922\n",
      "0.08221793174743652\n"
     ]
    },
    {
     "name": "stderr",
     "output_type": "stream",
     "text": [
      "\n",
      " 21%|████████▏                               | 206/1000 [00:17<01:07, 11.78it/s]\u001b[A"
     ]
    },
    {
     "name": "stdout",
     "output_type": "stream",
     "text": [
      "0.08681058883666992\n",
      "0.08186554908752441\n",
      "0.09041333198547363\n"
     ]
    },
    {
     "name": "stderr",
     "output_type": "stream",
     "text": [
      "\n",
      " 21%|████████▎                               | 208/1000 [00:17<01:08, 11.64it/s]\u001b[A\n",
      " 21%|████████▍                               | 210/1000 [00:17<01:07, 11.67it/s]\u001b[A"
     ]
    },
    {
     "name": "stdout",
     "output_type": "stream",
     "text": [
      "0.08486557006835938\n",
      "0.08761858940124512\n",
      "0.08168959617614746\n"
     ]
    },
    {
     "name": "stderr",
     "output_type": "stream",
     "text": [
      "\n",
      " 21%|████████▍                               | 212/1000 [00:18<01:07, 11.61it/s]\u001b[A"
     ]
    },
    {
     "name": "stdout",
     "output_type": "stream",
     "text": [
      "0.08846139907836914\n",
      "0.08474087715148926\n",
      "0.08561348915100098\n"
     ]
    },
    {
     "name": "stderr",
     "output_type": "stream",
     "text": [
      "\n",
      " 21%|████████▌                               | 214/1000 [00:18<01:07, 11.64it/s]\u001b[A\n",
      " 22%|████████▋                               | 216/1000 [00:18<01:06, 11.73it/s]\u001b[A"
     ]
    },
    {
     "name": "stdout",
     "output_type": "stream",
     "text": [
      "0.08434295654296875\n",
      "0.08471870422363281\n",
      "0.08166694641113281\n"
     ]
    },
    {
     "name": "stderr",
     "output_type": "stream",
     "text": [
      "\n",
      " 22%|████████▋                               | 218/1000 [00:18<01:07, 11.67it/s]\u001b[A"
     ]
    },
    {
     "name": "stdout",
     "output_type": "stream",
     "text": [
      "0.08965563774108887\n",
      "0.08256196975708008\n",
      "0.08652472496032715\n"
     ]
    },
    {
     "name": "stderr",
     "output_type": "stream",
     "text": [
      "\n",
      " 22%|████████▊                               | 220/1000 [00:18<01:06, 11.65it/s]\u001b[A\n",
      " 22%|████████▉                               | 222/1000 [00:18<01:06, 11.68it/s]\u001b[A"
     ]
    },
    {
     "name": "stdout",
     "output_type": "stream",
     "text": [
      "0.08468198776245117\n",
      "0.08760309219360352\n",
      "0.0816795825958252\n"
     ]
    },
    {
     "name": "stderr",
     "output_type": "stream",
     "text": [
      "\n",
      " 22%|████████▉                               | 224/1000 [00:19<01:06, 11.66it/s]\u001b[A"
     ]
    },
    {
     "name": "stdout",
     "output_type": "stream",
     "text": [
      "0.08907294273376465\n",
      "0.08192300796508789\n",
      "0.08745455741882324\n"
     ]
    },
    {
     "name": "stderr",
     "output_type": "stream",
     "text": [
      "\n",
      " 23%|█████████                               | 226/1000 [00:19<01:06, 11.63it/s]\u001b[A\n",
      " 23%|█████████                               | 228/1000 [00:19<01:06, 11.69it/s]\u001b[A"
     ]
    },
    {
     "name": "stdout",
     "output_type": "stream",
     "text": [
      "0.08468961715698242\n",
      "0.08597850799560547\n",
      "0.08184409141540527\n"
     ]
    },
    {
     "name": "stderr",
     "output_type": "stream",
     "text": [
      "\n",
      " 23%|█████████▏                              | 230/1000 [00:19<01:06, 11.64it/s]\u001b[A"
     ]
    },
    {
     "name": "stdout",
     "output_type": "stream",
     "text": [
      "0.0896604061126709\n",
      "0.0830848217010498\n",
      "0.08766841888427734\n"
     ]
    },
    {
     "name": "stderr",
     "output_type": "stream",
     "text": [
      "\n",
      " 23%|█████████▎                              | 232/1000 [00:19<01:06, 11.60it/s]\u001b[A\n",
      " 23%|█████████▎                              | 234/1000 [00:19<01:05, 11.67it/s]\u001b[A"
     ]
    },
    {
     "name": "stdout",
     "output_type": "stream",
     "text": [
      "0.08502817153930664\n",
      "0.0860128402709961\n",
      "0.08180785179138184\n"
     ]
    },
    {
     "name": "stderr",
     "output_type": "stream",
     "text": [
      "\n",
      " 24%|█████████▍                              | 236/1000 [00:20<01:05, 11.67it/s]\u001b[A"
     ]
    },
    {
     "name": "stdout",
     "output_type": "stream",
     "text": [
      "0.08860325813293457\n",
      "0.08199095726013184\n",
      "0.0876913070678711\n"
     ]
    },
    {
     "name": "stderr",
     "output_type": "stream",
     "text": [
      "\n",
      " 24%|█████████▌                              | 238/1000 [00:20<01:05, 11.64it/s]\u001b[A\n",
      " 24%|█████████▌                              | 240/1000 [00:20<01:05, 11.69it/s]\u001b[A"
     ]
    },
    {
     "name": "stdout",
     "output_type": "stream",
     "text": [
      "0.08411026000976562\n",
      "0.08652877807617188\n",
      "0.08182072639465332\n"
     ]
    },
    {
     "name": "stderr",
     "output_type": "stream",
     "text": [
      "\n",
      " 24%|█████████▋                              | 242/1000 [00:20<01:04, 11.66it/s]\u001b[A"
     ]
    },
    {
     "name": "stdout",
     "output_type": "stream",
     "text": [
      "0.08846116065979004\n",
      "0.08271074295043945\n",
      "0.08726739883422852\n"
     ]
    },
    {
     "name": "stderr",
     "output_type": "stream",
     "text": [
      "\n",
      " 24%|█████████▊                              | 244/1000 [00:20<01:04, 11.64it/s]\u001b[A\n",
      " 25%|█████████▊                              | 246/1000 [00:20<01:04, 11.67it/s]\u001b[A"
     ]
    },
    {
     "name": "stdout",
     "output_type": "stream",
     "text": [
      "0.0840916633605957\n",
      "0.08698606491088867\n",
      "0.08274030685424805\n"
     ]
    },
    {
     "name": "stderr",
     "output_type": "stream",
     "text": [
      "\n",
      " 25%|█████████▉                              | 248/1000 [00:21<01:04, 11.65it/s]\u001b[A"
     ]
    },
    {
     "name": "stdout",
     "output_type": "stream",
     "text": [
      "0.08912539482116699\n",
      "0.0819847583770752\n",
      "0.08759021759033203\n"
     ]
    },
    {
     "name": "stderr",
     "output_type": "stream",
     "text": [
      "\n",
      " 25%|██████████                              | 250/1000 [00:21<01:04, 11.63it/s]\u001b[A\n",
      " 25%|██████████                              | 252/1000 [00:21<01:04, 11.65it/s]\u001b[A"
     ]
    },
    {
     "name": "stdout",
     "output_type": "stream",
     "text": [
      "0.08448553085327148\n",
      "0.08795857429504395\n",
      "0.08181905746459961\n"
     ]
    },
    {
     "name": "stderr",
     "output_type": "stream",
     "text": [
      "\n",
      " 25%|██████████▏                             | 254/1000 [00:21<01:04, 11.63it/s]\u001b[A"
     ]
    },
    {
     "name": "stdout",
     "output_type": "stream",
     "text": [
      "0.0886373519897461\n",
      "0.08318519592285156\n",
      "0.08721256256103516\n"
     ]
    },
    {
     "name": "stderr",
     "output_type": "stream",
     "text": [
      "\n",
      " 26%|██████████▏                             | 256/1000 [00:21<01:04, 11.61it/s]\u001b[A\n",
      " 26%|██████████▎                             | 258/1000 [00:22<01:03, 11.68it/s]\u001b[A"
     ]
    },
    {
     "name": "stdout",
     "output_type": "stream",
     "text": [
      "0.08438301086425781\n",
      "0.08588409423828125\n",
      "0.0819244384765625\n"
     ]
    },
    {
     "name": "stderr",
     "output_type": "stream",
     "text": [
      "\n",
      " 26%|██████████▍                             | 260/1000 [00:22<01:03, 11.68it/s]\u001b[A"
     ]
    },
    {
     "name": "stdout",
     "output_type": "stream",
     "text": [
      "0.08839249610900879\n",
      "0.08210301399230957\n",
      "0.08591580390930176\n"
     ]
    },
    {
     "name": "stderr",
     "output_type": "stream",
     "text": [
      "\n",
      " 26%|██████████▍                             | 262/1000 [00:22<01:03, 11.67it/s]\u001b[A\n",
      " 26%|██████████▌                             | 264/1000 [00:22<01:03, 11.64it/s]\u001b[A"
     ]
    },
    {
     "name": "stdout",
     "output_type": "stream",
     "text": [
      "0.08457183837890625\n",
      "0.09026312828063965\n",
      "0.08183097839355469\n"
     ]
    },
    {
     "name": "stderr",
     "output_type": "stream",
     "text": [
      "\n",
      " 27%|██████████▋                             | 266/1000 [00:22<01:03, 11.62it/s]\u001b[A"
     ]
    },
    {
     "name": "stdout",
     "output_type": "stream",
     "text": [
      "0.08957386016845703\n",
      "0.08215522766113281\n",
      "0.08571100234985352\n"
     ]
    },
    {
     "name": "stderr",
     "output_type": "stream",
     "text": [
      "\n",
      " 27%|██████████▋                             | 268/1000 [00:22<01:02, 11.64it/s]\u001b[A\n",
      " 27%|██████████▊                             | 270/1000 [00:23<01:02, 11.72it/s]\u001b[A"
     ]
    },
    {
     "name": "stdout",
     "output_type": "stream",
     "text": [
      "0.08431458473205566\n",
      "0.08510518074035645\n",
      "0.08200573921203613\n"
     ]
    },
    {
     "name": "stderr",
     "output_type": "stream",
     "text": [
      "\n",
      " 27%|██████████▉                             | 272/1000 [00:23<01:02, 11.69it/s]\u001b[A"
     ]
    },
    {
     "name": "stdout",
     "output_type": "stream",
     "text": [
      "0.0885155200958252\n",
      "0.08243036270141602\n",
      "0.08639907836914062\n"
     ]
    },
    {
     "name": "stderr",
     "output_type": "stream",
     "text": [
      "\n",
      " 27%|██████████▉                             | 274/1000 [00:23<01:02, 11.67it/s]\u001b[A\n",
      " 28%|███████████                             | 276/1000 [00:23<01:01, 11.72it/s]\u001b[A"
     ]
    },
    {
     "name": "stdout",
     "output_type": "stream",
     "text": [
      "0.08478808403015137\n",
      "0.08588004112243652\n",
      "0.08176732063293457\n"
     ]
    },
    {
     "name": "stderr",
     "output_type": "stream",
     "text": [
      "\n",
      " 28%|███████████                             | 278/1000 [00:23<01:02, 11.61it/s]\u001b[A"
     ]
    },
    {
     "name": "stdout",
     "output_type": "stream",
     "text": [
      "0.09256243705749512\n",
      "0.08260607719421387\n",
      "0.08623838424682617\n"
     ]
    },
    {
     "name": "stderr",
     "output_type": "stream",
     "text": [
      "\n",
      " 28%|███████████▏                            | 280/1000 [00:23<01:01, 11.62it/s]\u001b[A\n",
      " 28%|███████████▎                            | 282/1000 [00:24<01:01, 11.67it/s]\u001b[A"
     ]
    },
    {
     "name": "stdout",
     "output_type": "stream",
     "text": [
      "0.08443260192871094\n",
      "0.08608174324035645\n",
      "0.08250904083251953\n"
     ]
    },
    {
     "name": "stderr",
     "output_type": "stream",
     "text": [
      "\n",
      " 28%|███████████▎                            | 284/1000 [00:24<01:01, 11.67it/s]\u001b[A"
     ]
    },
    {
     "name": "stdout",
     "output_type": "stream",
     "text": [
      "0.08851814270019531\n",
      "0.08199191093444824\n",
      "0.0873112678527832\n"
     ]
    },
    {
     "name": "stderr",
     "output_type": "stream",
     "text": [
      "\n",
      " 29%|███████████▍                            | 286/1000 [00:24<01:01, 11.65it/s]\u001b[A\n",
      " 29%|███████████▌                            | 288/1000 [00:24<01:00, 11.69it/s]\u001b[A"
     ]
    },
    {
     "name": "stdout",
     "output_type": "stream",
     "text": [
      "0.08418536186218262\n",
      "0.08650827407836914\n",
      "0.08172130584716797\n"
     ]
    },
    {
     "name": "stderr",
     "output_type": "stream",
     "text": [
      "\n",
      " 29%|███████████▌                            | 290/1000 [00:24<01:00, 11.67it/s]\u001b[A"
     ]
    },
    {
     "name": "stdout",
     "output_type": "stream",
     "text": [
      "0.08898568153381348\n",
      "0.08230066299438477\n",
      "0.08750104904174805\n"
     ]
    },
    {
     "name": "stderr",
     "output_type": "stream",
     "text": [
      "\n",
      " 29%|███████████▋                            | 292/1000 [00:24<01:00, 11.63it/s]\u001b[A\n",
      " 29%|███████████▊                            | 294/1000 [00:25<01:00, 11.68it/s]\u001b[A"
     ]
    },
    {
     "name": "stdout",
     "output_type": "stream",
     "text": [
      "0.08457231521606445\n",
      "0.08677101135253906\n",
      "0.08157563209533691\n"
     ]
    },
    {
     "name": "stderr",
     "output_type": "stream",
     "text": [
      "\n",
      " 30%|███████████▊                            | 296/1000 [00:25<01:00, 11.66it/s]\u001b[A"
     ]
    },
    {
     "name": "stdout",
     "output_type": "stream",
     "text": [
      "0.08909249305725098\n",
      "0.08230185508728027\n",
      "0.08768200874328613\n"
     ]
    },
    {
     "name": "stderr",
     "output_type": "stream",
     "text": [
      "\n",
      " 30%|███████████▉                            | 298/1000 [00:25<01:00, 11.63it/s]\u001b[A\n",
      " 30%|████████████                            | 300/1000 [00:25<01:00, 11.65it/s]\u001b[A"
     ]
    },
    {
     "name": "stdout",
     "output_type": "stream",
     "text": [
      "0.08448171615600586\n",
      "0.08634376525878906\n",
      "0.08331298828125\n"
     ]
    },
    {
     "name": "stderr",
     "output_type": "stream",
     "text": [
      "\n",
      " 30%|████████████                            | 302/1000 [00:25<00:59, 11.66it/s]\u001b[A"
     ]
    },
    {
     "name": "stdout",
     "output_type": "stream",
     "text": [
      "0.08840775489807129\n",
      "0.08194279670715332\n",
      "0.08759951591491699\n"
     ]
    },
    {
     "name": "stderr",
     "output_type": "stream",
     "text": [
      "\n",
      " 30%|████████████▏                           | 304/1000 [00:25<00:59, 11.63it/s]\u001b[A\n",
      " 31%|████████████▏                           | 306/1000 [00:26<00:59, 11.71it/s]\u001b[A"
     ]
    },
    {
     "name": "stdout",
     "output_type": "stream",
     "text": [
      "0.0841512680053711\n",
      "0.08518791198730469\n",
      "0.08163809776306152\n"
     ]
    },
    {
     "name": "stderr",
     "output_type": "stream",
     "text": [
      "\n",
      " 31%|████████████▎                           | 308/1000 [00:26<00:59, 11.71it/s]\u001b[A"
     ]
    },
    {
     "name": "stdout",
     "output_type": "stream",
     "text": [
      "0.08794403076171875\n",
      "0.08182096481323242\n",
      "0.08591604232788086\n"
     ]
    },
    {
     "name": "stderr",
     "output_type": "stream",
     "text": [
      "\n",
      " 31%|████████████▍                           | 310/1000 [00:26<00:58, 11.70it/s]\u001b[A\n",
      " 31%|████████████▍                           | 312/1000 [00:26<00:58, 11.69it/s]\u001b[A"
     ]
    },
    {
     "name": "stdout",
     "output_type": "stream",
     "text": [
      "0.08415460586547852\n",
      "0.08767247200012207\n",
      "0.08245396614074707\n"
     ]
    },
    {
     "name": "stderr",
     "output_type": "stream",
     "text": [
      "\n",
      " 31%|████████████▌                           | 314/1000 [00:26<00:58, 11.68it/s]\u001b[A"
     ]
    },
    {
     "name": "stdout",
     "output_type": "stream",
     "text": [
      "0.08802509307861328\n",
      "0.08234834671020508\n",
      "0.08568406105041504\n"
     ]
    },
    {
     "name": "stderr",
     "output_type": "stream",
     "text": [
      "\n",
      " 32%|████████████▋                           | 316/1000 [00:26<00:58, 11.70it/s]\u001b[A\n",
      " 32%|████████████▋                           | 318/1000 [00:27<00:58, 11.72it/s]\u001b[A"
     ]
    },
    {
     "name": "stdout",
     "output_type": "stream",
     "text": [
      "0.08379912376403809\n",
      "0.08686113357543945\n",
      "0.08200764656066895\n"
     ]
    },
    {
     "name": "stderr",
     "output_type": "stream",
     "text": [
      "\n",
      " 32%|████████████▊                           | 320/1000 [00:27<00:58, 11.68it/s]\u001b[A"
     ]
    },
    {
     "name": "stdout",
     "output_type": "stream",
     "text": [
      "0.08832192420959473\n",
      "0.08323359489440918\n",
      "0.08771538734436035\n"
     ]
    },
    {
     "name": "stderr",
     "output_type": "stream",
     "text": [
      "\n",
      " 32%|████████████▉                           | 322/1000 [00:27<00:58, 11.63it/s]\u001b[A\n",
      " 32%|████████████▉                           | 324/1000 [00:27<00:57, 11.66it/s]\u001b[A"
     ]
    },
    {
     "name": "stdout",
     "output_type": "stream",
     "text": [
      "0.08485841751098633\n",
      "0.0867462158203125\n",
      "0.0826256275177002\n"
     ]
    },
    {
     "name": "stderr",
     "output_type": "stream",
     "text": [
      "\n",
      " 33%|█████████████                           | 326/1000 [00:27<00:58, 11.60it/s]\u001b[A"
     ]
    },
    {
     "name": "stdout",
     "output_type": "stream",
     "text": [
      "0.09128284454345703\n",
      "0.08190131187438965\n",
      "0.08689427375793457\n"
     ]
    },
    {
     "name": "stderr",
     "output_type": "stream",
     "text": [
      "\n",
      " 33%|█████████████                           | 328/1000 [00:28<00:58, 11.58it/s]\u001b[A\n",
      " 33%|█████████████▏                          | 330/1000 [00:28<00:57, 11.65it/s]\u001b[A"
     ]
    },
    {
     "name": "stdout",
     "output_type": "stream",
     "text": [
      "0.08544325828552246\n",
      "0.08621668815612793\n",
      "0.08187651634216309\n"
     ]
    },
    {
     "name": "stderr",
     "output_type": "stream",
     "text": [
      "\n",
      " 33%|█████████████▎                          | 332/1000 [00:28<00:57, 11.67it/s]\u001b[A"
     ]
    },
    {
     "name": "stdout",
     "output_type": "stream",
     "text": [
      "0.08775973320007324\n",
      "0.08215475082397461\n",
      "0.08633041381835938\n"
     ]
    },
    {
     "name": "stderr",
     "output_type": "stream",
     "text": [
      "\n",
      " 33%|█████████████▎                          | 334/1000 [00:28<00:57, 11.65it/s]\u001b[A\n",
      " 34%|█████████████▍                          | 336/1000 [00:28<00:56, 11.70it/s]\u001b[A"
     ]
    },
    {
     "name": "stdout",
     "output_type": "stream",
     "text": [
      "0.08458828926086426\n",
      "0.08663344383239746\n",
      "0.08173799514770508\n"
     ]
    },
    {
     "name": "stderr",
     "output_type": "stream",
     "text": [
      "\n",
      " 34%|█████████████▌                          | 338/1000 [00:28<00:56, 11.72it/s]\u001b[A"
     ]
    },
    {
     "name": "stdout",
     "output_type": "stream",
     "text": [
      "0.08731937408447266\n",
      "0.08170557022094727\n",
      "0.08709597587585449\n"
     ]
    },
    {
     "name": "stderr",
     "output_type": "stream",
     "text": [
      "\n",
      " 34%|█████████████▌                          | 340/1000 [00:29<00:56, 11.69it/s]\u001b[A\n",
      " 34%|█████████████▋                          | 342/1000 [00:29<00:55, 11.77it/s]\u001b[A"
     ]
    },
    {
     "name": "stdout",
     "output_type": "stream",
     "text": [
      "0.08370065689086914\n",
      "0.08449339866638184\n",
      "0.08188962936401367\n"
     ]
    },
    {
     "name": "stderr",
     "output_type": "stream",
     "text": [
      "\n",
      " 34%|█████████████▊                          | 344/1000 [00:29<00:55, 11.76it/s]\u001b[A"
     ]
    },
    {
     "name": "stdout",
     "output_type": "stream",
     "text": [
      "0.08704948425292969\n",
      "0.08226633071899414\n",
      "0.08562564849853516\n"
     ]
    },
    {
     "name": "stderr",
     "output_type": "stream",
     "text": [
      "\n",
      " 35%|█████████████▊                          | 346/1000 [00:29<00:55, 11.75it/s]\u001b[A\n",
      " 35%|█████████████▉                          | 348/1000 [00:29<00:55, 11.80it/s]\u001b[A"
     ]
    },
    {
     "name": "stdout",
     "output_type": "stream",
     "text": [
      "0.08362364768981934\n",
      "0.08505368232727051\n",
      "0.08187484741210938\n"
     ]
    },
    {
     "name": "stderr",
     "output_type": "stream",
     "text": [
      "\n",
      " 35%|██████████████                          | 350/1000 [00:29<00:55, 11.78it/s]\u001b[A"
     ]
    },
    {
     "name": "stdout",
     "output_type": "stream",
     "text": [
      "0.08746170997619629\n",
      "0.0819861888885498\n",
      "0.08666801452636719\n"
     ]
    },
    {
     "name": "stderr",
     "output_type": "stream",
     "text": [
      "\n",
      " 35%|██████████████                          | 352/1000 [00:30<00:55, 11.74it/s]\u001b[A\n",
      " 35%|██████████████▏                         | 354/1000 [00:30<00:54, 11.81it/s]\u001b[A"
     ]
    },
    {
     "name": "stdout",
     "output_type": "stream",
     "text": [
      "0.08388042449951172\n",
      "0.08424735069274902\n",
      "0.08176445960998535\n"
     ]
    },
    {
     "name": "stderr",
     "output_type": "stream",
     "text": [
      "\n",
      " 36%|██████████████▏                         | 356/1000 [00:30<00:54, 11.79it/s]\u001b[A"
     ]
    },
    {
     "name": "stdout",
     "output_type": "stream",
     "text": [
      "0.08739399909973145\n",
      "0.08192706108093262\n",
      "0.08522796630859375\n"
     ]
    },
    {
     "name": "stderr",
     "output_type": "stream",
     "text": [
      "\n",
      " 36%|██████████████▎                         | 358/1000 [00:30<00:54, 11.78it/s]\u001b[A\n",
      " 36%|██████████████▍                         | 360/1000 [00:30<00:54, 11.79it/s]\u001b[A"
     ]
    },
    {
     "name": "stdout",
     "output_type": "stream",
     "text": [
      "0.08399081230163574\n",
      "0.08646130561828613\n",
      "0.08160924911499023\n"
     ]
    },
    {
     "name": "stderr",
     "output_type": "stream",
     "text": [
      "\n",
      " 36%|██████████████▍                         | 362/1000 [00:30<00:54, 11.77it/s]\u001b[A"
     ]
    },
    {
     "name": "stdout",
     "output_type": "stream",
     "text": [
      "0.0878608226776123\n",
      "0.08218836784362793\n",
      "0.08675432205200195\n"
     ]
    },
    {
     "name": "stderr",
     "output_type": "stream",
     "text": [
      "\n",
      " 36%|██████████████▌                         | 364/1000 [00:31<00:54, 11.73it/s]\u001b[A\n",
      " 37%|██████████████▋                         | 366/1000 [00:31<00:53, 11.80it/s]\u001b[A"
     ]
    },
    {
     "name": "stdout",
     "output_type": "stream",
     "text": [
      "0.0838310718536377\n",
      "0.08439040184020996\n",
      "0.08175444602966309\n"
     ]
    },
    {
     "name": "stderr",
     "output_type": "stream",
     "text": [
      "\n",
      " 37%|██████████████▋                         | 368/1000 [00:31<00:53, 11.78it/s]\u001b[A"
     ]
    },
    {
     "name": "stdout",
     "output_type": "stream",
     "text": [
      "0.08744144439697266\n",
      "0.08203697204589844\n",
      "0.08615374565124512\n"
     ]
    },
    {
     "name": "stderr",
     "output_type": "stream",
     "text": [
      "\n",
      " 37%|██████████████▊                         | 370/1000 [00:31<00:53, 11.75it/s]\u001b[A\n",
      " 37%|██████████████▉                         | 372/1000 [00:31<00:53, 11.81it/s]\u001b[A"
     ]
    },
    {
     "name": "stdout",
     "output_type": "stream",
     "text": [
      "0.08399033546447754\n",
      "0.08468365669250488\n",
      "0.08174300193786621\n"
     ]
    },
    {
     "name": "stderr",
     "output_type": "stream",
     "text": [
      "\n",
      " 37%|██████████████▉                         | 374/1000 [00:31<00:53, 11.78it/s]\u001b[A"
     ]
    },
    {
     "name": "stdout",
     "output_type": "stream",
     "text": [
      "0.08774447441101074\n",
      "0.08190155029296875\n",
      "0.0863492488861084\n"
     ]
    },
    {
     "name": "stderr",
     "output_type": "stream",
     "text": [
      "\n",
      " 38%|███████████████                         | 376/1000 [00:32<00:53, 11.76it/s]\u001b[A\n",
      " 38%|███████████████                         | 378/1000 [00:32<00:52, 11.80it/s]\u001b[A"
     ]
    },
    {
     "name": "stdout",
     "output_type": "stream",
     "text": [
      "0.08340096473693848\n",
      "0.0857551097869873\n",
      "0.08165764808654785\n"
     ]
    },
    {
     "name": "stderr",
     "output_type": "stream",
     "text": [
      "\n",
      " 38%|███████████████▏                        | 380/1000 [00:32<00:52, 11.79it/s]\u001b[A"
     ]
    },
    {
     "name": "stdout",
     "output_type": "stream",
     "text": [
      "0.08715653419494629\n",
      "0.08185505867004395\n",
      "0.08452010154724121\n"
     ]
    },
    {
     "name": "stderr",
     "output_type": "stream",
     "text": [
      "\n",
      " 38%|███████████████▎                        | 382/1000 [00:32<00:52, 11.79it/s]\u001b[A\n",
      " 38%|███████████████▎                        | 384/1000 [00:32<00:52, 11.84it/s]\u001b[A"
     ]
    },
    {
     "name": "stdout",
     "output_type": "stream",
     "text": [
      "0.08401060104370117\n",
      "0.08402180671691895\n",
      "0.08203244209289551\n"
     ]
    },
    {
     "name": "stderr",
     "output_type": "stream",
     "text": [
      "\n",
      " 39%|███████████████▍                        | 386/1000 [00:32<00:52, 11.80it/s]\u001b[A"
     ]
    },
    {
     "name": "stdout",
     "output_type": "stream",
     "text": [
      "0.08747744560241699\n",
      "0.08237528800964355\n",
      "0.08542823791503906\n"
     ]
    },
    {
     "name": "stderr",
     "output_type": "stream",
     "text": [
      "\n",
      " 39%|███████████████▌                        | 388/1000 [00:33<00:52, 11.70it/s]\u001b[A\n",
      " 39%|███████████████▌                        | 390/1000 [00:33<00:51, 11.74it/s]\u001b[A"
     ]
    },
    {
     "name": "stdout",
     "output_type": "stream",
     "text": [
      "0.08752822875976562\n",
      "0.08613705635070801\n",
      "0.08192110061645508\n"
     ]
    },
    {
     "name": "stderr",
     "output_type": "stream",
     "text": [
      "\n",
      " 39%|███████████████▋                        | 392/1000 [00:33<00:51, 11.74it/s]\u001b[A"
     ]
    },
    {
     "name": "stdout",
     "output_type": "stream",
     "text": [
      "0.0873870849609375\n",
      "0.08213543891906738\n",
      "0.08651614189147949\n"
     ]
    },
    {
     "name": "stderr",
     "output_type": "stream",
     "text": [
      "\n",
      " 39%|███████████████▊                        | 394/1000 [00:33<00:51, 11.70it/s]\u001b[A\n",
      " 40%|███████████████▊                        | 396/1000 [00:33<00:51, 11.75it/s]\u001b[A"
     ]
    },
    {
     "name": "stdout",
     "output_type": "stream",
     "text": [
      "0.08477258682250977\n",
      "0.08430862426757812\n",
      "0.0830996036529541\n"
     ]
    },
    {
     "name": "stderr",
     "output_type": "stream",
     "text": [
      "\n",
      " 40%|███████████████▉                        | 398/1000 [00:33<00:51, 11.75it/s]\u001b[A"
     ]
    },
    {
     "name": "stdout",
     "output_type": "stream",
     "text": [
      "0.08698415756225586\n",
      "0.08197832107543945\n",
      "0.08536887168884277\n"
     ]
    },
    {
     "name": "stderr",
     "output_type": "stream",
     "text": [
      "\n",
      " 40%|████████████████                        | 400/1000 [00:34<00:51, 11.76it/s]\u001b[A\n",
      " 40%|████████████████                        | 402/1000 [00:34<00:50, 11.77it/s]\u001b[A"
     ]
    },
    {
     "name": "stdout",
     "output_type": "stream",
     "text": [
      "0.08375883102416992\n",
      "0.08664822578430176\n",
      "0.08188056945800781\n"
     ]
    },
    {
     "name": "stderr",
     "output_type": "stream",
     "text": [
      "\n",
      " 40%|████████████████▏                       | 404/1000 [00:34<00:50, 11.78it/s]\u001b[A"
     ]
    },
    {
     "name": "stdout",
     "output_type": "stream",
     "text": [
      "0.08644676208496094\n",
      "0.08189511299133301\n",
      "0.08656072616577148\n"
     ]
    },
    {
     "name": "stderr",
     "output_type": "stream",
     "text": [
      "\n",
      " 41%|████████████████▏                       | 406/1000 [00:34<00:50, 11.74it/s]\u001b[A\n",
      " 41%|████████████████▎                       | 408/1000 [00:34<00:50, 11.77it/s]\u001b[A"
     ]
    },
    {
     "name": "stdout",
     "output_type": "stream",
     "text": [
      "0.08431792259216309\n",
      "0.08580636978149414\n",
      "0.08201837539672852\n"
     ]
    },
    {
     "name": "stderr",
     "output_type": "stream",
     "text": [
      "\n",
      " 41%|████████████████▍                       | 410/1000 [00:34<00:50, 11.75it/s]\u001b[A"
     ]
    },
    {
     "name": "stdout",
     "output_type": "stream",
     "text": [
      "0.08727622032165527\n",
      "0.08237886428833008\n",
      "0.08547449111938477\n"
     ]
    },
    {
     "name": "stderr",
     "output_type": "stream",
     "text": [
      "\n",
      " 41%|████████████████▍                       | 412/1000 [00:35<00:50, 11.75it/s]\u001b[A\n",
      " 41%|████████████████▌                       | 414/1000 [00:35<00:49, 11.76it/s]\u001b[A"
     ]
    },
    {
     "name": "stdout",
     "output_type": "stream",
     "text": [
      "0.08390140533447266\n",
      "0.08678007125854492\n",
      "0.08217501640319824\n"
     ]
    },
    {
     "name": "stderr",
     "output_type": "stream",
     "text": [
      "\n",
      " 42%|████████████████▋                       | 416/1000 [00:35<00:49, 11.72it/s]\u001b[A"
     ]
    },
    {
     "name": "stdout",
     "output_type": "stream",
     "text": [
      "0.08833837509155273\n",
      "0.08246850967407227\n",
      "0.0858306884765625\n"
     ]
    },
    {
     "name": "stderr",
     "output_type": "stream",
     "text": [
      "\n",
      " 42%|████████████████▋                       | 418/1000 [00:35<00:49, 11.69it/s]\u001b[A\n",
      " 42%|████████████████▊                       | 420/1000 [00:35<00:49, 11.66it/s]\u001b[A"
     ]
    },
    {
     "name": "stdout",
     "output_type": "stream",
     "text": [
      "0.08519864082336426\n",
      "0.08730006217956543\n",
      "0.08421182632446289\n"
     ]
    },
    {
     "name": "stderr",
     "output_type": "stream",
     "text": [
      "\n",
      " 42%|████████████████▉                       | 422/1000 [00:36<00:49, 11.66it/s]\u001b[A"
     ]
    },
    {
     "name": "stdout",
     "output_type": "stream",
     "text": [
      "0.08787107467651367\n",
      "0.08275079727172852\n",
      "0.08519411087036133\n"
     ]
    },
    {
     "name": "stderr",
     "output_type": "stream",
     "text": [
      "\n",
      " 42%|████████████████▉                       | 424/1000 [00:36<00:49, 11.64it/s]\u001b[A\n",
      " 43%|█████████████████                       | 426/1000 [00:36<00:49, 11.50it/s]\u001b[A"
     ]
    },
    {
     "name": "stdout",
     "output_type": "stream",
     "text": [
      "0.08593010902404785\n",
      "0.08951044082641602\n",
      "0.08806514739990234\n"
     ]
    },
    {
     "name": "stderr",
     "output_type": "stream",
     "text": [
      "\n",
      " 43%|█████████████████                       | 428/1000 [00:36<00:49, 11.56it/s]\u001b[A"
     ]
    },
    {
     "name": "stdout",
     "output_type": "stream",
     "text": [
      "0.08720207214355469\n",
      "0.0821373462677002\n",
      "0.08908700942993164\n"
     ]
    },
    {
     "name": "stderr",
     "output_type": "stream",
     "text": [
      "\n",
      " 43%|█████████████████▏                      | 430/1000 [00:36<00:49, 11.43it/s]\u001b[A\n",
      " 43%|█████████████████▎                      | 432/1000 [00:36<00:49, 11.51it/s]\u001b[A"
     ]
    },
    {
     "name": "stdout",
     "output_type": "stream",
     "text": [
      "0.08923006057739258\n",
      "0.08781147003173828\n",
      "0.08183979988098145\n"
     ]
    },
    {
     "name": "stderr",
     "output_type": "stream",
     "text": [
      "\n",
      " 43%|█████████████████▎                      | 434/1000 [00:37<00:49, 11.44it/s]\u001b[A"
     ]
    },
    {
     "name": "stdout",
     "output_type": "stream",
     "text": [
      "0.08763003349304199\n",
      "0.08883309364318848\n",
      "0.08802103996276855\n"
     ]
    },
    {
     "name": "stderr",
     "output_type": "stream",
     "text": [
      "\n",
      " 44%|█████████████████▍                      | 436/1000 [00:37<00:49, 11.40it/s]\u001b[A\n",
      " 44%|█████████████████▌                      | 438/1000 [00:37<00:48, 11.48it/s]\u001b[A"
     ]
    },
    {
     "name": "stdout",
     "output_type": "stream",
     "text": [
      "0.08751702308654785\n",
      "0.08705806732177734\n",
      "0.08300638198852539\n"
     ]
    },
    {
     "name": "stderr",
     "output_type": "stream",
     "text": [
      "\n",
      " 44%|█████████████████▌                      | 440/1000 [00:37<00:49, 11.36it/s]\u001b[A"
     ]
    },
    {
     "name": "stdout",
     "output_type": "stream",
     "text": [
      "0.0903463363647461\n",
      "0.08861923217773438\n",
      "0.0885317325592041\n"
     ]
    },
    {
     "name": "stderr",
     "output_type": "stream",
     "text": [
      "\n",
      " 44%|█████████████████▋                      | 442/1000 [00:37<00:49, 11.33it/s]\u001b[A\n",
      " 44%|█████████████████▊                      | 444/1000 [00:37<00:48, 11.46it/s]\u001b[A"
     ]
    },
    {
     "name": "stdout",
     "output_type": "stream",
     "text": [
      "0.08744001388549805\n",
      "0.0851290225982666\n",
      "0.08378314971923828\n"
     ]
    },
    {
     "name": "stderr",
     "output_type": "stream",
     "text": [
      "\n",
      " 45%|█████████████████▊                      | 446/1000 [00:38<00:48, 11.49it/s]\u001b[A"
     ]
    },
    {
     "name": "stdout",
     "output_type": "stream",
     "text": [
      "0.0884084701538086\n",
      "0.08335208892822266\n",
      "0.08560943603515625\n"
     ]
    },
    {
     "name": "stderr",
     "output_type": "stream",
     "text": [
      "\n",
      " 45%|█████████████████▉                      | 448/1000 [00:38<00:47, 11.54it/s]\u001b[A\n",
      " 45%|██████████████████                      | 450/1000 [00:38<00:47, 11.60it/s]\u001b[A"
     ]
    },
    {
     "name": "stdout",
     "output_type": "stream",
     "text": [
      "0.08490157127380371\n",
      "0.08622884750366211\n",
      "0.08299064636230469\n",
      "0.09194660186767578\n"
     ]
    },
    {
     "name": "stderr",
     "output_type": "stream",
     "text": [
      "\n",
      " 45%|██████████████████                      | 452/1000 [00:38<00:59,  9.17it/s]\u001b[A\n",
      " 45%|██████████████████▏                     | 454/1000 [00:38<00:55,  9.80it/s]\u001b[A"
     ]
    },
    {
     "name": "stdout",
     "output_type": "stream",
     "text": [
      "0.23141860961914062\n",
      "0.08674335479736328\n",
      "0.08353638648986816\n"
     ]
    },
    {
     "name": "stderr",
     "output_type": "stream",
     "text": [
      "\n",
      " 46%|██████████████████▏                     | 456/1000 [00:39<00:52, 10.29it/s]\u001b[A"
     ]
    },
    {
     "name": "stdout",
     "output_type": "stream",
     "text": [
      "0.08713793754577637\n",
      "0.08315563201904297\n",
      "0.08433985710144043\n"
     ]
    },
    {
     "name": "stderr",
     "output_type": "stream",
     "text": [
      "\n",
      " 46%|██████████████████▎                     | 458/1000 [00:39<00:50, 10.70it/s]\u001b[A\n",
      " 46%|██████████████████▍                     | 460/1000 [00:39<00:48, 11.04it/s]\u001b[A"
     ]
    },
    {
     "name": "stdout",
     "output_type": "stream",
     "text": [
      "0.08392810821533203\n",
      "0.08429169654846191\n",
      "0.08251810073852539\n"
     ]
    },
    {
     "name": "stderr",
     "output_type": "stream",
     "text": [
      "\n",
      " 46%|██████████████████▍                     | 462/1000 [00:39<00:48, 11.21it/s]\u001b[A"
     ]
    },
    {
     "name": "stdout",
     "output_type": "stream",
     "text": [
      "0.08781933784484863\n",
      "0.08330416679382324\n",
      "0.08578872680664062\n"
     ]
    },
    {
     "name": "stderr",
     "output_type": "stream",
     "text": [
      "\n",
      " 46%|██████████████████▌                     | 464/1000 [00:39<00:47, 11.35it/s]\u001b[A\n",
      " 47%|██████████████████▋                     | 466/1000 [00:39<00:46, 11.52it/s]\u001b[A"
     ]
    },
    {
     "name": "stdout",
     "output_type": "stream",
     "text": [
      "0.08415961265563965\n",
      "0.0841059684753418\n",
      "0.08252310752868652\n"
     ]
    },
    {
     "name": "stderr",
     "output_type": "stream",
     "text": [
      "\n",
      " 47%|██████████████████▋                     | 468/1000 [00:40<00:45, 11.57it/s]\u001b[A"
     ]
    },
    {
     "name": "stdout",
     "output_type": "stream",
     "text": [
      "0.0877542495727539\n",
      "0.0823521614074707\n",
      "0.08680081367492676\n"
     ]
    },
    {
     "name": "stderr",
     "output_type": "stream",
     "text": [
      "\n",
      " 47%|██████████████████▊                     | 470/1000 [00:40<00:45, 11.56it/s]\u001b[A\n",
      " 47%|██████████████████▉                     | 472/1000 [00:40<00:45, 11.63it/s]\u001b[A"
     ]
    },
    {
     "name": "stdout",
     "output_type": "stream",
     "text": [
      "0.08542823791503906\n",
      "0.08586502075195312\n",
      "0.08257341384887695\n"
     ]
    },
    {
     "name": "stderr",
     "output_type": "stream",
     "text": [
      "\n",
      " 47%|██████████████████▉                     | 474/1000 [00:40<00:45, 11.61it/s]\u001b[A"
     ]
    },
    {
     "name": "stdout",
     "output_type": "stream",
     "text": [
      "0.08807802200317383\n",
      "0.08368372917175293\n",
      "0.08683061599731445\n"
     ]
    },
    {
     "name": "stderr",
     "output_type": "stream",
     "text": [
      "\n",
      " 48%|███████████████████                     | 476/1000 [00:40<00:45, 11.61it/s]\u001b[A\n",
      " 48%|███████████████████                     | 478/1000 [00:41<00:44, 11.67it/s]\u001b[A"
     ]
    },
    {
     "name": "stdout",
     "output_type": "stream",
     "text": [
      "0.0848226547241211\n",
      "0.08579778671264648\n",
      "0.08209848403930664\n"
     ]
    },
    {
     "name": "stderr",
     "output_type": "stream",
     "text": [
      "\n",
      " 48%|███████████████████▏                    | 480/1000 [00:41<00:44, 11.69it/s]\u001b[A"
     ]
    },
    {
     "name": "stdout",
     "output_type": "stream",
     "text": [
      "0.0875387191772461\n",
      "0.08205127716064453\n",
      "0.08654046058654785\n"
     ]
    },
    {
     "name": "stderr",
     "output_type": "stream",
     "text": [
      "\n",
      " 48%|███████████████████▎                    | 482/1000 [00:41<00:44, 11.67it/s]\u001b[A\n",
      " 48%|███████████████████▎                    | 484/1000 [00:41<00:43, 11.75it/s]\u001b[A"
     ]
    },
    {
     "name": "stdout",
     "output_type": "stream",
     "text": [
      "0.08450055122375488\n",
      "0.08414649963378906\n",
      "0.08222460746765137\n"
     ]
    },
    {
     "name": "stderr",
     "output_type": "stream",
     "text": [
      "\n",
      " 49%|███████████████████▍                    | 486/1000 [00:41<00:43, 11.73it/s]\u001b[A"
     ]
    },
    {
     "name": "stdout",
     "output_type": "stream",
     "text": [
      "0.08756303787231445\n",
      "0.08273792266845703\n",
      "0.0855703353881836\n"
     ]
    },
    {
     "name": "stderr",
     "output_type": "stream",
     "text": [
      "\n",
      " 49%|███████████████████▌                    | 488/1000 [00:41<00:43, 11.70it/s]\u001b[A\n",
      " 49%|███████████████████▌                    | 490/1000 [00:42<00:43, 11.74it/s]\u001b[A"
     ]
    },
    {
     "name": "stdout",
     "output_type": "stream",
     "text": [
      "0.08537530899047852\n",
      "0.08625602722167969\n",
      "0.08174729347229004\n"
     ]
    },
    {
     "name": "stderr",
     "output_type": "stream",
     "text": [
      "\n",
      " 49%|███████████████████▋                    | 492/1000 [00:42<00:43, 11.74it/s]\u001b[A"
     ]
    },
    {
     "name": "stdout",
     "output_type": "stream",
     "text": [
      "0.08721041679382324\n",
      "0.08214926719665527\n",
      "0.08623957633972168\n"
     ]
    },
    {
     "name": "stderr",
     "output_type": "stream",
     "text": [
      "\n",
      " 49%|███████████████████▊                    | 494/1000 [00:42<00:43, 11.72it/s]\u001b[A\n",
      " 50%|███████████████████▊                    | 496/1000 [00:42<00:42, 11.75it/s]\u001b[A"
     ]
    },
    {
     "name": "stdout",
     "output_type": "stream",
     "text": [
      "0.08402395248413086\n",
      "0.08591008186340332\n",
      "0.08221554756164551\n"
     ]
    },
    {
     "name": "stderr",
     "output_type": "stream",
     "text": [
      "\n",
      " 50%|███████████████████▉                    | 498/1000 [00:42<00:42, 11.72it/s]\u001b[A"
     ]
    },
    {
     "name": "stdout",
     "output_type": "stream",
     "text": [
      "0.08858013153076172\n",
      "0.08220601081848145\n",
      "0.08588242530822754\n"
     ]
    },
    {
     "name": "stderr",
     "output_type": "stream",
     "text": [
      "\n",
      " 50%|████████████████████                    | 500/1000 [00:42<00:42, 11.71it/s]\u001b[A\n",
      " 50%|████████████████████                    | 502/1000 [00:43<00:42, 11.72it/s]\u001b[A"
     ]
    },
    {
     "name": "stdout",
     "output_type": "stream",
     "text": [
      "0.08400297164916992\n",
      "0.08675408363342285\n",
      "0.08220219612121582\n"
     ]
    },
    {
     "name": "stderr",
     "output_type": "stream",
     "text": [
      "\n",
      " 50%|████████████████████▏                   | 504/1000 [00:43<00:42, 11.72it/s]\u001b[A"
     ]
    },
    {
     "name": "stdout",
     "output_type": "stream",
     "text": [
      "0.08777713775634766\n",
      "0.08202743530273438\n",
      "0.0855553150177002\n"
     ]
    },
    {
     "name": "stderr",
     "output_type": "stream",
     "text": [
      "\n",
      " 51%|████████████████████▏                   | 506/1000 [00:43<00:42, 11.72it/s]\u001b[A\n",
      " 51%|████████████████████▎                   | 508/1000 [00:43<00:41, 11.74it/s]\u001b[A"
     ]
    },
    {
     "name": "stdout",
     "output_type": "stream",
     "text": [
      "0.0841972827911377\n",
      "0.08672308921813965\n",
      "0.08202791213989258\n"
     ]
    },
    {
     "name": "stderr",
     "output_type": "stream",
     "text": [
      "\n",
      " 51%|████████████████████▍                   | 510/1000 [00:43<00:42, 11.65it/s]\u001b[A"
     ]
    },
    {
     "name": "stdout",
     "output_type": "stream",
     "text": [
      "0.09159040451049805\n",
      "0.08208107948303223\n",
      "0.08554625511169434\n"
     ]
    },
    {
     "name": "stderr",
     "output_type": "stream",
     "text": [
      "\n",
      " 51%|████████████████████▍                   | 512/1000 [00:43<00:41, 11.67it/s]\u001b[A\n",
      " 51%|████████████████████▌                   | 514/1000 [00:44<00:41, 11.71it/s]\u001b[A"
     ]
    },
    {
     "name": "stdout",
     "output_type": "stream",
     "text": [
      "0.08403277397155762\n",
      "0.08619308471679688\n",
      "0.08262920379638672\n"
     ]
    },
    {
     "name": "stderr",
     "output_type": "stream",
     "text": [
      "\n",
      " 52%|████████████████████▋                   | 516/1000 [00:44<00:41, 11.70it/s]\u001b[A"
     ]
    },
    {
     "name": "stdout",
     "output_type": "stream",
     "text": [
      "0.08796024322509766\n",
      "0.08203625679016113\n",
      "0.087188720703125\n"
     ]
    },
    {
     "name": "stderr",
     "output_type": "stream",
     "text": [
      "\n",
      " 52%|████████████████████▋                   | 518/1000 [00:44<00:41, 11.67it/s]\u001b[A\n",
      " 52%|████████████████████▊                   | 520/1000 [00:44<00:41, 11.71it/s]\u001b[A"
     ]
    },
    {
     "name": "stdout",
     "output_type": "stream",
     "text": [
      "0.08449006080627441\n",
      "0.08563017845153809\n",
      "0.08264684677124023\n"
     ]
    },
    {
     "name": "stderr",
     "output_type": "stream",
     "text": [
      "\n",
      " 52%|████████████████████▉                   | 522/1000 [00:44<00:40, 11.68it/s]\u001b[A"
     ]
    },
    {
     "name": "stdout",
     "output_type": "stream",
     "text": [
      "0.08868813514709473\n",
      "0.08244109153747559\n",
      "0.08546304702758789\n"
     ]
    },
    {
     "name": "stderr",
     "output_type": "stream",
     "text": [
      "\n",
      " 52%|████████████████████▉                   | 524/1000 [00:44<00:40, 11.63it/s]\u001b[A\n",
      " 53%|█████████████████████                   | 526/1000 [00:45<00:40, 11.66it/s]\u001b[A"
     ]
    },
    {
     "name": "stdout",
     "output_type": "stream",
     "text": [
      "0.08695578575134277\n",
      "0.08556294441223145\n",
      "0.08383941650390625\n"
     ]
    },
    {
     "name": "stderr",
     "output_type": "stream",
     "text": [
      "\n",
      " 53%|█████████████████████                   | 528/1000 [00:45<00:40, 11.67it/s]\u001b[A"
     ]
    },
    {
     "name": "stdout",
     "output_type": "stream",
     "text": [
      "0.08766794204711914\n",
      "0.08225178718566895\n",
      "0.08543801307678223\n"
     ]
    },
    {
     "name": "stderr",
     "output_type": "stream",
     "text": [
      "\n",
      " 53%|█████████████████████▏                  | 530/1000 [00:45<00:40, 11.68it/s]\u001b[A\n",
      " 53%|█████████████████████▎                  | 532/1000 [00:45<00:39, 11.74it/s]\u001b[A"
     ]
    },
    {
     "name": "stdout",
     "output_type": "stream",
     "text": [
      "0.08450102806091309\n",
      "0.08437323570251465\n",
      "0.08256292343139648\n"
     ]
    },
    {
     "name": "stderr",
     "output_type": "stream",
     "text": [
      "\n",
      " 53%|█████████████████████▎                  | 534/1000 [00:45<00:39, 11.71it/s]\u001b[A"
     ]
    },
    {
     "name": "stdout",
     "output_type": "stream",
     "text": [
      "0.08862066268920898\n",
      "0.08229637145996094\n",
      "0.08547616004943848\n"
     ]
    },
    {
     "name": "stderr",
     "output_type": "stream",
     "text": [
      "\n",
      " 54%|█████████████████████▍                  | 536/1000 [00:45<00:39, 11.71it/s]\u001b[A\n",
      " 54%|█████████████████████▌                  | 538/1000 [00:46<00:39, 11.78it/s]\u001b[A"
     ]
    },
    {
     "name": "stdout",
     "output_type": "stream",
     "text": [
      "0.08418655395507812\n",
      "0.08458065986633301\n",
      "0.08211350440979004\n"
     ]
    },
    {
     "name": "stderr",
     "output_type": "stream",
     "text": [
      "\n",
      " 54%|█████████████████████▌                  | 540/1000 [00:46<00:39, 11.76it/s]\u001b[A"
     ]
    },
    {
     "name": "stdout",
     "output_type": "stream",
     "text": [
      "0.0876004695892334\n",
      "0.08197879791259766\n",
      "0.0852358341217041\n"
     ]
    },
    {
     "name": "stderr",
     "output_type": "stream",
     "text": [
      "\n",
      " 54%|█████████████████████▋                  | 542/1000 [00:46<00:38, 11.74it/s]\u001b[A\n",
      " 54%|█████████████████████▊                  | 544/1000 [00:46<00:38, 11.78it/s]\u001b[A"
     ]
    },
    {
     "name": "stdout",
     "output_type": "stream",
     "text": [
      "0.08447694778442383\n",
      "0.08530831336975098\n",
      "0.0822899341583252\n"
     ]
    },
    {
     "name": "stderr",
     "output_type": "stream",
     "text": [
      "\n",
      " 55%|█████████████████████▊                  | 546/1000 [00:46<00:38, 11.75it/s]\u001b[A"
     ]
    },
    {
     "name": "stdout",
     "output_type": "stream",
     "text": [
      "0.08801102638244629\n",
      "0.08209681510925293\n",
      "0.08658766746520996\n"
     ]
    },
    {
     "name": "stderr",
     "output_type": "stream",
     "text": [
      "\n",
      " 55%|█████████████████████▉                  | 548/1000 [00:46<00:38, 11.72it/s]\u001b[A\n",
      " 55%|██████████████████████                  | 550/1000 [00:47<00:38, 11.79it/s]\u001b[A"
     ]
    },
    {
     "name": "stdout",
     "output_type": "stream",
     "text": [
      "0.08396601676940918\n",
      "0.08404827117919922\n",
      "0.0820775032043457\n"
     ]
    },
    {
     "name": "stderr",
     "output_type": "stream",
     "text": [
      "\n",
      " 55%|██████████████████████                  | 552/1000 [00:47<00:38, 11.77it/s]\u001b[A"
     ]
    },
    {
     "name": "stdout",
     "output_type": "stream",
     "text": [
      "0.0877983570098877\n",
      "0.08205413818359375\n",
      "0.08579683303833008\n"
     ]
    },
    {
     "name": "stderr",
     "output_type": "stream",
     "text": [
      "\n",
      " 55%|██████████████████████▏                 | 554/1000 [00:47<00:38, 11.73it/s]\u001b[A\n",
      " 56%|██████████████████████▏                 | 556/1000 [00:47<00:37, 11.79it/s]\u001b[A"
     ]
    },
    {
     "name": "stdout",
     "output_type": "stream",
     "text": [
      "0.08491134643554688\n",
      "0.0841224193572998\n",
      "0.08244967460632324\n"
     ]
    },
    {
     "name": "stderr",
     "output_type": "stream",
     "text": [
      "\n",
      " 56%|██████████████████████▎                 | 558/1000 [00:47<00:37, 11.74it/s]\u001b[A"
     ]
    },
    {
     "name": "stdout",
     "output_type": "stream",
     "text": [
      "0.08787417411804199\n",
      "0.08280229568481445\n",
      "0.08698821067810059\n"
     ]
    },
    {
     "name": "stderr",
     "output_type": "stream",
     "text": [
      "\n",
      " 56%|██████████████████████▍                 | 560/1000 [00:48<00:37, 11.70it/s]\u001b[A\n",
      " 56%|██████████████████████▍                 | 562/1000 [00:48<00:37, 11.75it/s]\u001b[A"
     ]
    },
    {
     "name": "stdout",
     "output_type": "stream",
     "text": [
      "0.08437728881835938\n",
      "0.08570194244384766\n",
      "0.08185434341430664\n"
     ]
    },
    {
     "name": "stderr",
     "output_type": "stream",
     "text": [
      "\n",
      " 56%|██████████████████████▌                 | 564/1000 [00:48<00:37, 11.73it/s]\u001b[A"
     ]
    },
    {
     "name": "stdout",
     "output_type": "stream",
     "text": [
      "0.08811759948730469\n",
      "0.08205008506774902\n",
      "0.08658289909362793\n"
     ]
    },
    {
     "name": "stderr",
     "output_type": "stream",
     "text": [
      "\n",
      " 57%|██████████████████████▋                 | 566/1000 [00:48<00:37, 11.70it/s]\u001b[A\n",
      " 57%|██████████████████████▋                 | 568/1000 [00:48<00:36, 11.72it/s]\u001b[A"
     ]
    },
    {
     "name": "stdout",
     "output_type": "stream",
     "text": [
      "0.08466196060180664\n",
      "0.08530330657958984\n",
      "0.08317327499389648\n"
     ]
    },
    {
     "name": "stderr",
     "output_type": "stream",
     "text": [
      "\n",
      " 57%|██████████████████████▊                 | 570/1000 [00:48<00:36, 11.68it/s]\u001b[A"
     ]
    },
    {
     "name": "stdout",
     "output_type": "stream",
     "text": [
      "0.0879979133605957\n",
      "0.08365464210510254\n",
      "0.08668923377990723\n"
     ]
    },
    {
     "name": "stderr",
     "output_type": "stream",
     "text": [
      "\n",
      " 57%|██████████████████████▉                 | 572/1000 [00:49<00:36, 11.65it/s]\u001b[A\n",
      " 57%|██████████████████████▉                 | 574/1000 [00:49<00:36, 11.75it/s]\u001b[A"
     ]
    },
    {
     "name": "stdout",
     "output_type": "stream",
     "text": [
      "0.08516764640808105\n",
      "0.08382153511047363\n",
      "0.08170175552368164\n"
     ]
    },
    {
     "name": "stderr",
     "output_type": "stream",
     "text": [
      "\n",
      " 58%|███████████████████████                 | 576/1000 [00:49<00:36, 11.66it/s]\u001b[A"
     ]
    },
    {
     "name": "stdout",
     "output_type": "stream",
     "text": [
      "0.09116840362548828\n",
      "0.08212709426879883\n",
      "0.08551239967346191\n"
     ]
    },
    {
     "name": "stderr",
     "output_type": "stream",
     "text": [
      "\n",
      " 58%|███████████████████████                 | 578/1000 [00:49<00:36, 11.66it/s]\u001b[A\n",
      " 58%|███████████████████████▏                | 580/1000 [00:49<00:36, 11.66it/s]\u001b[A"
     ]
    },
    {
     "name": "stdout",
     "output_type": "stream",
     "text": [
      "0.0851905345916748\n",
      "0.0869913101196289\n",
      "0.08340167999267578\n"
     ]
    },
    {
     "name": "stderr",
     "output_type": "stream",
     "text": [
      "\n",
      " 58%|███████████████████████▎                | 582/1000 [00:49<00:35, 11.62it/s]\u001b[A"
     ]
    },
    {
     "name": "stdout",
     "output_type": "stream",
     "text": [
      "0.08827471733093262\n",
      "0.0839228630065918\n",
      "0.08597564697265625\n"
     ]
    },
    {
     "name": "stderr",
     "output_type": "stream",
     "text": [
      "\n",
      " 58%|███████████████████████▎                | 584/1000 [00:50<00:35, 11.63it/s]\u001b[A\n",
      " 59%|███████████████████████▍                | 586/1000 [00:50<00:35, 11.68it/s]\u001b[A"
     ]
    },
    {
     "name": "stdout",
     "output_type": "stream",
     "text": [
      "0.08459043502807617\n",
      "0.08675765991210938\n",
      "0.08180022239685059\n"
     ]
    },
    {
     "name": "stderr",
     "output_type": "stream",
     "text": [
      "\n",
      " 59%|███████████████████████▌                | 588/1000 [00:50<00:35, 11.70it/s]\u001b[A"
     ]
    },
    {
     "name": "stdout",
     "output_type": "stream",
     "text": [
      "0.08758854866027832\n",
      "0.08192849159240723\n",
      "0.08696389198303223\n"
     ]
    },
    {
     "name": "stderr",
     "output_type": "stream",
     "text": [
      "\n",
      " 59%|███████████████████████▌                | 590/1000 [00:50<00:35, 11.65it/s]\u001b[A\n",
      " 59%|███████████████████████▋                | 592/1000 [00:50<00:34, 11.71it/s]\u001b[A"
     ]
    },
    {
     "name": "stdout",
     "output_type": "stream",
     "text": [
      "0.08500337600708008\n",
      "0.08586502075195312\n",
      "0.082061767578125\n"
     ]
    },
    {
     "name": "stderr",
     "output_type": "stream",
     "text": [
      "\n",
      " 59%|███████████████████████▊                | 594/1000 [00:50<00:34, 11.68it/s]\u001b[A"
     ]
    },
    {
     "name": "stdout",
     "output_type": "stream",
     "text": [
      "0.08802199363708496\n",
      "0.08306694030761719\n",
      "0.08694958686828613\n"
     ]
    },
    {
     "name": "stderr",
     "output_type": "stream",
     "text": [
      "\n",
      " 60%|███████████████████████▊                | 596/1000 [00:51<00:34, 11.66it/s]\u001b[A\n",
      " 60%|███████████████████████▉                | 598/1000 [00:51<00:34, 11.70it/s]\u001b[A"
     ]
    },
    {
     "name": "stdout",
     "output_type": "stream",
     "text": [
      "0.08472108840942383\n",
      "0.08587956428527832\n",
      "0.08219099044799805\n"
     ]
    },
    {
     "name": "stderr",
     "output_type": "stream",
     "text": [
      "\n",
      " 60%|████████████████████████                | 600/1000 [00:51<00:34, 11.67it/s]\u001b[A"
     ]
    },
    {
     "name": "stdout",
     "output_type": "stream",
     "text": [
      "0.08920574188232422\n",
      "0.08252525329589844\n",
      "0.08624577522277832\n"
     ]
    },
    {
     "name": "stderr",
     "output_type": "stream",
     "text": [
      "\n",
      " 60%|████████████████████████                | 602/1000 [00:51<00:34, 11.66it/s]\u001b[A\n",
      " 60%|████████████████████████▏               | 604/1000 [00:51<00:33, 11.72it/s]\u001b[A"
     ]
    },
    {
     "name": "stdout",
     "output_type": "stream",
     "text": [
      "0.08442568778991699\n",
      "0.08528876304626465\n",
      "0.08199644088745117\n"
     ]
    },
    {
     "name": "stderr",
     "output_type": "stream",
     "text": [
      "\n",
      " 61%|████████████████████████▏               | 606/1000 [00:51<00:33, 11.71it/s]\u001b[A"
     ]
    },
    {
     "name": "stdout",
     "output_type": "stream",
     "text": [
      "0.08769917488098145\n",
      "0.0823206901550293\n",
      "0.08540773391723633\n"
     ]
    },
    {
     "name": "stderr",
     "output_type": "stream",
     "text": [
      "\n",
      " 61%|████████████████████████▎               | 608/1000 [00:52<00:33, 11.71it/s]\u001b[A\n",
      " 61%|████████████████████████▍               | 610/1000 [00:52<00:33, 11.77it/s]\u001b[A"
     ]
    },
    {
     "name": "stdout",
     "output_type": "stream",
     "text": [
      "0.08450937271118164\n",
      "0.0845496654510498\n",
      "0.08202791213989258\n"
     ]
    },
    {
     "name": "stderr",
     "output_type": "stream",
     "text": [
      "\n",
      " 61%|████████████████████████▍               | 612/1000 [00:52<00:33, 11.75it/s]\u001b[A"
     ]
    },
    {
     "name": "stdout",
     "output_type": "stream",
     "text": [
      "0.08781838417053223\n",
      "0.08181905746459961\n",
      "0.08671426773071289\n"
     ]
    },
    {
     "name": "stderr",
     "output_type": "stream",
     "text": [
      "\n",
      " 61%|████████████████████████▌               | 614/1000 [00:52<00:32, 11.71it/s]\u001b[A\n",
      " 62%|████████████████████████▋               | 616/1000 [00:52<00:32, 11.68it/s]\u001b[A"
     ]
    },
    {
     "name": "stdout",
     "output_type": "stream",
     "text": [
      "0.0846402645111084\n",
      "0.0867152214050293\n",
      "0.08455395698547363\n"
     ]
    },
    {
     "name": "stderr",
     "output_type": "stream",
     "text": [
      "\n",
      " 62%|████████████████████████▋               | 618/1000 [00:52<00:32, 11.66it/s]\u001b[A"
     ]
    },
    {
     "name": "stdout",
     "output_type": "stream",
     "text": [
      "0.08789300918579102\n",
      "0.08306765556335449\n",
      "0.08505415916442871\n"
     ]
    },
    {
     "name": "stderr",
     "output_type": "stream",
     "text": [
      "\n",
      " 62%|████████████████████████▊               | 620/1000 [00:53<00:32, 11.64it/s]\u001b[A\n",
      " 62%|████████████████████████▉               | 622/1000 [00:53<00:32, 11.70it/s]\u001b[A"
     ]
    },
    {
     "name": "stdout",
     "output_type": "stream",
     "text": [
      "0.08661222457885742\n",
      "0.08559417724609375\n",
      "0.08226346969604492\n"
     ]
    },
    {
     "name": "stderr",
     "output_type": "stream",
     "text": [
      "\n",
      " 62%|████████████████████████▉               | 624/1000 [00:53<00:32, 11.67it/s]\u001b[A"
     ]
    },
    {
     "name": "stdout",
     "output_type": "stream",
     "text": [
      "0.0889439582824707\n",
      "0.08260154724121094\n",
      "0.08733582496643066\n"
     ]
    },
    {
     "name": "stderr",
     "output_type": "stream",
     "text": [
      "\n",
      " 63%|█████████████████████████               | 626/1000 [00:53<00:32, 11.61it/s]\u001b[A\n",
      " 63%|█████████████████████████               | 628/1000 [00:53<00:31, 11.65it/s]\u001b[A"
     ]
    },
    {
     "name": "stdout",
     "output_type": "stream",
     "text": [
      "0.08574151992797852\n",
      "0.08714866638183594\n",
      "0.0820302963256836\n"
     ]
    },
    {
     "name": "stderr",
     "output_type": "stream",
     "text": [
      "\n",
      " 63%|█████████████████████████▏              | 630/1000 [00:53<00:31, 11.66it/s]\u001b[A"
     ]
    },
    {
     "name": "stdout",
     "output_type": "stream",
     "text": [
      "0.08841228485107422\n",
      "0.08188819885253906\n",
      "0.08690500259399414\n"
     ]
    },
    {
     "name": "stderr",
     "output_type": "stream",
     "text": [
      "\n",
      " 63%|█████████████████████████▎              | 632/1000 [00:54<00:31, 11.60it/s]\u001b[A\n",
      " 63%|█████████████████████████▎              | 634/1000 [00:54<00:31, 11.69it/s]\u001b[A"
     ]
    },
    {
     "name": "stdout",
     "output_type": "stream",
     "text": [
      "0.08673357963562012\n",
      "0.08447551727294922\n",
      "0.08247494697570801\n"
     ]
    },
    {
     "name": "stderr",
     "output_type": "stream",
     "text": [
      "\n",
      " 64%|█████████████████████████▍              | 636/1000 [00:54<00:31, 11.61it/s]\u001b[A"
     ]
    },
    {
     "name": "stdout",
     "output_type": "stream",
     "text": [
      "0.09242057800292969\n",
      "0.08167052268981934\n",
      "0.08711647987365723\n"
     ]
    },
    {
     "name": "stderr",
     "output_type": "stream",
     "text": [
      "\n",
      " 64%|█████████████████████████▌              | 638/1000 [00:54<00:31, 11.60it/s]\u001b[A\n",
      " 64%|█████████████████████████▌              | 640/1000 [00:54<00:30, 11.67it/s]\u001b[A"
     ]
    },
    {
     "name": "stdout",
     "output_type": "stream",
     "text": [
      "0.08478021621704102\n",
      "0.08562231063842773\n",
      "0.0821065902709961\n"
     ]
    },
    {
     "name": "stderr",
     "output_type": "stream",
     "text": [
      "\n",
      " 64%|█████████████████████████▋              | 642/1000 [00:55<00:30, 11.69it/s]\u001b[A"
     ]
    },
    {
     "name": "stdout",
     "output_type": "stream",
     "text": [
      "0.08723068237304688\n",
      "0.0821375846862793\n",
      "0.0867304801940918\n"
     ]
    },
    {
     "name": "stderr",
     "output_type": "stream",
     "text": [
      "\n",
      " 64%|█████████████████████████▊              | 644/1000 [00:55<00:30, 11.68it/s]\u001b[A\n",
      " 65%|█████████████████████████▊              | 646/1000 [00:55<00:30, 11.75it/s]\u001b[A"
     ]
    },
    {
     "name": "stdout",
     "output_type": "stream",
     "text": [
      "0.08383846282958984\n",
      "0.08395743370056152\n",
      "0.0825052261352539\n"
     ]
    },
    {
     "name": "stderr",
     "output_type": "stream",
     "text": [
      "\n",
      " 65%|█████████████████████████▉              | 648/1000 [00:55<00:30, 11.71it/s]\u001b[A"
     ]
    },
    {
     "name": "stdout",
     "output_type": "stream",
     "text": [
      "0.08922481536865234\n",
      "0.08222723007202148\n",
      "0.0863192081451416\n"
     ]
    },
    {
     "name": "stderr",
     "output_type": "stream",
     "text": [
      "\n",
      " 65%|██████████████████████████              | 650/1000 [00:55<00:30, 11.66it/s]\u001b[A\n",
      " 65%|██████████████████████████              | 652/1000 [00:55<00:29, 11.73it/s]\u001b[A"
     ]
    },
    {
     "name": "stdout",
     "output_type": "stream",
     "text": [
      "0.08574867248535156\n",
      "0.08484029769897461\n",
      "0.08214187622070312\n"
     ]
    },
    {
     "name": "stderr",
     "output_type": "stream",
     "text": [
      "\n",
      " 65%|██████████████████████████▏             | 654/1000 [00:56<00:29, 11.70it/s]\u001b[A"
     ]
    },
    {
     "name": "stdout",
     "output_type": "stream",
     "text": [
      "0.08919239044189453\n",
      "0.08205223083496094\n",
      "0.0881795883178711\n"
     ]
    },
    {
     "name": "stderr",
     "output_type": "stream",
     "text": [
      "\n",
      " 66%|██████████████████████████▏             | 656/1000 [00:56<00:29, 11.63it/s]\u001b[A\n",
      " 66%|██████████████████████████▎             | 658/1000 [00:56<00:29, 11.63it/s]\u001b[A"
     ]
    },
    {
     "name": "stdout",
     "output_type": "stream",
     "text": [
      "0.08518815040588379\n",
      "0.08857965469360352\n",
      "0.08209657669067383\n"
     ]
    },
    {
     "name": "stderr",
     "output_type": "stream",
     "text": [
      "\n",
      " 66%|██████████████████████████▍             | 660/1000 [00:56<00:29, 11.62it/s]\u001b[A"
     ]
    },
    {
     "name": "stdout",
     "output_type": "stream",
     "text": [
      "0.08923482894897461\n",
      "0.08228540420532227\n",
      "0.08732295036315918\n"
     ]
    },
    {
     "name": "stderr",
     "output_type": "stream",
     "text": [
      "\n",
      " 66%|██████████████████████████▍             | 662/1000 [00:56<00:29, 11.60it/s]\u001b[A\n",
      " 66%|██████████████████████████▌             | 664/1000 [00:56<00:28, 11.61it/s]\u001b[A"
     ]
    },
    {
     "name": "stdout",
     "output_type": "stream",
     "text": [
      "0.08491373062133789\n",
      "0.08833098411560059\n",
      "0.08224964141845703\n"
     ]
    },
    {
     "name": "stderr",
     "output_type": "stream",
     "text": [
      "\n",
      " 67%|██████████████████████████▋             | 666/1000 [00:57<00:28, 11.60it/s]\u001b[A"
     ]
    },
    {
     "name": "stdout",
     "output_type": "stream",
     "text": [
      "0.08996057510375977\n",
      "0.08204960823059082\n",
      "0.08695769309997559\n"
     ]
    },
    {
     "name": "stderr",
     "output_type": "stream",
     "text": [
      "\n",
      " 67%|██████████████████████████▋             | 668/1000 [00:57<00:28, 11.59it/s]\u001b[A\n",
      " 67%|██████████████████████████▊             | 670/1000 [00:57<00:28, 11.62it/s]\u001b[A"
     ]
    },
    {
     "name": "stdout",
     "output_type": "stream",
     "text": [
      "0.08518695831298828\n",
      "0.08784365653991699\n",
      "0.08225154876708984\n"
     ]
    },
    {
     "name": "stderr",
     "output_type": "stream",
     "text": [
      "\n",
      " 67%|██████████████████████████▉             | 672/1000 [00:57<00:28, 11.61it/s]\u001b[A"
     ]
    },
    {
     "name": "stdout",
     "output_type": "stream",
     "text": [
      "0.08886456489562988\n",
      "0.08248233795166016\n",
      "0.08710265159606934\n"
     ]
    },
    {
     "name": "stderr",
     "output_type": "stream",
     "text": [
      "\n",
      " 67%|██████████████████████████▉             | 674/1000 [00:57<00:28, 11.59it/s]\u001b[A\n",
      " 68%|███████████████████████████             | 676/1000 [00:57<00:27, 11.61it/s]\u001b[A"
     ]
    },
    {
     "name": "stdout",
     "output_type": "stream",
     "text": [
      "0.0850992202758789\n",
      "0.08889198303222656\n",
      "0.08184194564819336\n"
     ]
    },
    {
     "name": "stderr",
     "output_type": "stream",
     "text": [
      "\n",
      " 68%|███████████████████████████             | 678/1000 [00:58<00:27, 11.61it/s]\u001b[A"
     ]
    },
    {
     "name": "stdout",
     "output_type": "stream",
     "text": [
      "0.0888509750366211\n",
      "0.08220720291137695\n",
      "0.08664703369140625\n"
     ]
    },
    {
     "name": "stderr",
     "output_type": "stream",
     "text": [
      "\n",
      " 68%|███████████████████████████▏            | 680/1000 [00:58<00:27, 11.61it/s]\u001b[A\n",
      " 68%|███████████████████████████▎            | 682/1000 [00:58<00:27, 11.63it/s]\u001b[A"
     ]
    },
    {
     "name": "stdout",
     "output_type": "stream",
     "text": [
      "0.08489060401916504\n",
      "0.08794164657592773\n",
      "0.08215713500976562\n"
     ]
    },
    {
     "name": "stderr",
     "output_type": "stream",
     "text": [
      "\n",
      " 68%|███████████████████████████▎            | 684/1000 [00:58<00:27, 11.62it/s]\u001b[A"
     ]
    },
    {
     "name": "stdout",
     "output_type": "stream",
     "text": [
      "0.08788704872131348\n",
      "0.0835731029510498\n",
      "0.08612465858459473\n"
     ]
    },
    {
     "name": "stderr",
     "output_type": "stream",
     "text": [
      "\n",
      " 69%|███████████████████████████▍            | 686/1000 [00:58<00:27, 11.62it/s]\u001b[A\n",
      " 69%|███████████████████████████▌            | 688/1000 [00:58<00:26, 11.66it/s]\u001b[A"
     ]
    },
    {
     "name": "stdout",
     "output_type": "stream",
     "text": [
      "0.08476567268371582\n",
      "0.08700227737426758\n",
      "0.0822761058807373\n"
     ]
    },
    {
     "name": "stderr",
     "output_type": "stream",
     "text": [
      "\n",
      " 69%|███████████████████████████▌            | 690/1000 [00:59<00:26, 11.65it/s]\u001b[A"
     ]
    },
    {
     "name": "stdout",
     "output_type": "stream",
     "text": [
      "0.08806800842285156\n",
      "0.08295798301696777\n",
      "0.08613204956054688\n"
     ]
    },
    {
     "name": "stderr",
     "output_type": "stream",
     "text": [
      "\n",
      " 69%|███████████████████████████▋            | 692/1000 [00:59<00:26, 11.63it/s]\u001b[A\n",
      " 69%|███████████████████████████▊            | 694/1000 [00:59<00:26, 11.70it/s]\u001b[A"
     ]
    },
    {
     "name": "stdout",
     "output_type": "stream",
     "text": [
      "0.08507037162780762\n",
      "0.08537578582763672\n",
      "0.08203697204589844\n"
     ]
    },
    {
     "name": "stderr",
     "output_type": "stream",
     "text": [
      "\n",
      " 70%|███████████████████████████▊            | 696/1000 [00:59<00:26, 11.63it/s]\u001b[A"
     ]
    },
    {
     "name": "stdout",
     "output_type": "stream",
     "text": [
      "0.09117245674133301\n",
      "0.08249998092651367\n",
      "0.08697772026062012\n"
     ]
    },
    {
     "name": "stderr",
     "output_type": "stream",
     "text": [
      "\n",
      " 70%|███████████████████████████▉            | 698/1000 [00:59<00:26, 11.60it/s]\u001b[A\n",
      " 70%|████████████████████████████            | 700/1000 [01:00<00:25, 11.68it/s]\u001b[A"
     ]
    },
    {
     "name": "stdout",
     "output_type": "stream",
     "text": [
      "0.08497071266174316\n",
      "0.08513593673706055\n",
      "0.0822293758392334\n"
     ]
    },
    {
     "name": "stderr",
     "output_type": "stream",
     "text": [
      "\n",
      " 70%|████████████████████████████            | 702/1000 [01:00<00:25, 11.68it/s]\u001b[A"
     ]
    },
    {
     "name": "stdout",
     "output_type": "stream",
     "text": [
      "0.0879828929901123\n",
      "0.0821981430053711\n",
      "0.08685469627380371\n"
     ]
    },
    {
     "name": "stderr",
     "output_type": "stream",
     "text": [
      "\n",
      " 70%|████████████████████████████▏           | 704/1000 [01:00<00:25, 11.65it/s]\u001b[A\n",
      " 71%|████████████████████████████▏           | 706/1000 [01:00<00:25, 11.71it/s]\u001b[A"
     ]
    },
    {
     "name": "stdout",
     "output_type": "stream",
     "text": [
      "0.08476710319519043\n",
      "0.08563518524169922\n",
      "0.08201169967651367\n"
     ]
    },
    {
     "name": "stderr",
     "output_type": "stream",
     "text": [
      "\n",
      " 71%|████████████████████████████▎           | 708/1000 [01:00<00:24, 11.70it/s]\u001b[A"
     ]
    },
    {
     "name": "stdout",
     "output_type": "stream",
     "text": [
      "0.08796405792236328\n",
      "0.08252143859863281\n",
      "0.08650493621826172\n"
     ]
    },
    {
     "name": "stderr",
     "output_type": "stream",
     "text": [
      "\n",
      " 71%|████████████████████████████▍           | 710/1000 [01:00<00:24, 11.66it/s]\u001b[A\n",
      " 71%|████████████████████████████▍           | 712/1000 [01:01<00:24, 11.74it/s]\u001b[A"
     ]
    },
    {
     "name": "stdout",
     "output_type": "stream",
     "text": [
      "0.0850522518157959\n",
      "0.08444857597351074\n",
      "0.08223271369934082\n"
     ]
    },
    {
     "name": "stderr",
     "output_type": "stream",
     "text": [
      "\n",
      " 71%|████████████████████████████▌           | 714/1000 [01:01<00:24, 11.73it/s]\u001b[A"
     ]
    },
    {
     "name": "stdout",
     "output_type": "stream",
     "text": [
      "0.08785891532897949\n",
      "0.08217692375183105\n",
      "0.0858907699584961\n"
     ]
    },
    {
     "name": "stderr",
     "output_type": "stream",
     "text": [
      "\n",
      " 72%|████████████████████████████▋           | 716/1000 [01:01<00:24, 11.71it/s]\u001b[A\n",
      " 72%|████████████████████████████▋           | 718/1000 [01:01<00:23, 11.78it/s]\u001b[A"
     ]
    },
    {
     "name": "stdout",
     "output_type": "stream",
     "text": [
      "0.08435273170471191\n",
      "0.08435297012329102\n",
      "0.08217644691467285\n"
     ]
    },
    {
     "name": "stderr",
     "output_type": "stream",
     "text": [
      "\n",
      " 72%|████████████████████████████▊           | 720/1000 [01:01<00:23, 11.72it/s]\u001b[A"
     ]
    },
    {
     "name": "stdout",
     "output_type": "stream",
     "text": [
      "0.08751940727233887\n",
      "0.08401179313659668\n",
      "0.08735013008117676\n"
     ]
    },
    {
     "name": "stderr",
     "output_type": "stream",
     "text": [
      "\n",
      " 72%|████████████████████████████▉           | 722/1000 [01:01<00:23, 11.63it/s]\u001b[A\n",
      " 72%|████████████████████████████▉           | 724/1000 [01:02<00:23, 11.71it/s]\u001b[A"
     ]
    },
    {
     "name": "stdout",
     "output_type": "stream",
     "text": [
      "0.08637714385986328\n",
      "0.08444762229919434\n",
      "0.08259820938110352\n"
     ]
    },
    {
     "name": "stderr",
     "output_type": "stream",
     "text": [
      "\n",
      " 73%|█████████████████████████████           | 726/1000 [01:02<00:23, 11.69it/s]\u001b[A"
     ]
    },
    {
     "name": "stdout",
     "output_type": "stream",
     "text": [
      "0.08818387985229492\n",
      "0.08252477645874023\n",
      "0.08651590347290039\n"
     ]
    },
    {
     "name": "stderr",
     "output_type": "stream",
     "text": [
      "\n",
      " 73%|█████████████████████████████           | 728/1000 [01:02<00:23, 11.67it/s]\u001b[A\n",
      " 73%|█████████████████████████████▏          | 730/1000 [01:02<00:23, 11.71it/s]\u001b[A"
     ]
    },
    {
     "name": "stdout",
     "output_type": "stream",
     "text": [
      "0.08446264266967773\n",
      "0.08596563339233398\n",
      "0.08223938941955566\n"
     ]
    },
    {
     "name": "stderr",
     "output_type": "stream",
     "text": [
      "\n",
      " 73%|█████████████████████████████▎          | 732/1000 [01:02<00:22, 11.68it/s]\u001b[A"
     ]
    },
    {
     "name": "stdout",
     "output_type": "stream",
     "text": [
      "0.08870577812194824\n",
      "0.08269476890563965\n",
      "0.08688521385192871\n"
     ]
    },
    {
     "name": "stderr",
     "output_type": "stream",
     "text": [
      "\n",
      " 73%|█████████████████████████████▎          | 734/1000 [01:02<00:22, 11.65it/s]\u001b[A\n",
      " 74%|█████████████████████████████▍          | 736/1000 [01:03<00:22, 11.74it/s]\u001b[A"
     ]
    },
    {
     "name": "stdout",
     "output_type": "stream",
     "text": [
      "0.0849463939666748\n",
      "0.08403205871582031\n",
      "0.08212018013000488\n"
     ]
    },
    {
     "name": "stderr",
     "output_type": "stream",
     "text": [
      "\n",
      " 74%|█████████████████████████████▌          | 738/1000 [01:03<00:22, 11.72it/s]\u001b[A"
     ]
    },
    {
     "name": "stdout",
     "output_type": "stream",
     "text": [
      "0.08821797370910645\n",
      "0.08208918571472168\n",
      "0.08556842803955078\n"
     ]
    },
    {
     "name": "stderr",
     "output_type": "stream",
     "text": [
      "\n",
      " 74%|█████████████████████████████▌          | 740/1000 [01:03<00:22, 11.71it/s]\u001b[A\n",
      " 74%|█████████████████████████████▋          | 742/1000 [01:03<00:21, 11.77it/s]\u001b[A"
     ]
    },
    {
     "name": "stdout",
     "output_type": "stream",
     "text": [
      "0.08473634719848633\n",
      "0.08464670181274414\n",
      "0.08221244812011719\n"
     ]
    },
    {
     "name": "stderr",
     "output_type": "stream",
     "text": [
      "\n",
      " 74%|█████████████████████████████▊          | 744/1000 [01:03<00:21, 11.73it/s]\u001b[A"
     ]
    },
    {
     "name": "stdout",
     "output_type": "stream",
     "text": [
      "0.08873152732849121\n",
      "0.08240771293640137\n",
      "0.08712482452392578\n"
     ]
    },
    {
     "name": "stderr",
     "output_type": "stream",
     "text": [
      "\n",
      " 75%|█████████████████████████████▊          | 746/1000 [01:03<00:21, 11.68it/s]\u001b[A\n",
      " 75%|█████████████████████████████▉          | 748/1000 [01:04<00:21, 11.73it/s]\u001b[A"
     ]
    },
    {
     "name": "stdout",
     "output_type": "stream",
     "text": [
      "0.08475732803344727\n",
      "0.08526468276977539\n",
      "0.08221077919006348\n"
     ]
    },
    {
     "name": "stderr",
     "output_type": "stream",
     "text": [
      "\n",
      " 75%|██████████████████████████████          | 750/1000 [01:04<00:21, 11.70it/s]\u001b[A"
     ]
    },
    {
     "name": "stdout",
     "output_type": "stream",
     "text": [
      "0.08846640586853027\n",
      "0.0823822021484375\n",
      "0.08712983131408691\n"
     ]
    },
    {
     "name": "stderr",
     "output_type": "stream",
     "text": [
      "\n",
      " 75%|██████████████████████████████          | 752/1000 [01:04<00:21, 11.66it/s]\u001b[A\n",
      " 75%|██████████████████████████████▏         | 754/1000 [01:04<00:21, 11.71it/s]\u001b[A"
     ]
    },
    {
     "name": "stdout",
     "output_type": "stream",
     "text": [
      "0.08468270301818848\n",
      "0.08591318130493164\n",
      "0.08219122886657715\n"
     ]
    },
    {
     "name": "stderr",
     "output_type": "stream",
     "text": [
      "\n",
      " 76%|██████████████████████████████▏         | 756/1000 [01:04<00:20, 11.70it/s]\u001b[A"
     ]
    },
    {
     "name": "stdout",
     "output_type": "stream",
     "text": [
      "0.08861756324768066\n",
      "0.0819091796875\n",
      "0.0908365249633789\n"
     ]
    },
    {
     "name": "stderr",
     "output_type": "stream",
     "text": [
      "\n",
      " 76%|██████████████████████████████▎         | 758/1000 [01:04<00:20, 11.58it/s]\u001b[A\n",
      " 76%|██████████████████████████████▍         | 760/1000 [01:05<00:20, 11.69it/s]\u001b[A"
     ]
    },
    {
     "name": "stdout",
     "output_type": "stream",
     "text": [
      "0.08504319190979004\n",
      "0.08427643775939941\n",
      "0.08202791213989258\n"
     ]
    },
    {
     "name": "stderr",
     "output_type": "stream",
     "text": [
      "\n",
      " 76%|██████████████████████████████▍         | 762/1000 [01:05<00:20, 11.69it/s]\u001b[A"
     ]
    },
    {
     "name": "stdout",
     "output_type": "stream",
     "text": [
      "0.08779668807983398\n",
      "0.08213520050048828\n",
      "0.0866851806640625\n"
     ]
    },
    {
     "name": "stderr",
     "output_type": "stream",
     "text": [
      "\n",
      " 76%|██████████████████████████████▌         | 764/1000 [01:05<00:20, 11.67it/s]\u001b[A\n",
      " 77%|██████████████████████████████▋         | 766/1000 [01:05<00:19, 11.75it/s]\u001b[A"
     ]
    },
    {
     "name": "stdout",
     "output_type": "stream",
     "text": [
      "0.08445334434509277\n",
      "0.08421635627746582\n",
      "0.0822899341583252\n"
     ]
    },
    {
     "name": "stderr",
     "output_type": "stream",
     "text": [
      "\n",
      " 77%|██████████████████████████████▋         | 768/1000 [01:05<00:19, 11.72it/s]\u001b[A"
     ]
    },
    {
     "name": "stdout",
     "output_type": "stream",
     "text": [
      "0.08856058120727539\n",
      "0.08199071884155273\n",
      "0.08669137954711914\n"
     ]
    },
    {
     "name": "stderr",
     "output_type": "stream",
     "text": [
      "\n",
      " 77%|██████████████████████████████▊         | 770/1000 [01:05<00:19, 11.68it/s]\u001b[A\n",
      " 77%|██████████████████████████████▉         | 772/1000 [01:06<00:19, 11.69it/s]\u001b[A"
     ]
    },
    {
     "name": "stdout",
     "output_type": "stream",
     "text": [
      "0.08490133285522461\n",
      "0.08713436126708984\n",
      "0.0821845531463623\n"
     ]
    },
    {
     "name": "stderr",
     "output_type": "stream",
     "text": [
      "\n",
      " 77%|██████████████████████████████▉         | 774/1000 [01:06<00:19, 11.68it/s]\u001b[A"
     ]
    },
    {
     "name": "stdout",
     "output_type": "stream",
     "text": [
      "0.08897161483764648\n",
      "0.08180642127990723\n",
      "0.08681106567382812\n"
     ]
    },
    {
     "name": "stderr",
     "output_type": "stream",
     "text": [
      "\n",
      " 78%|███████████████████████████████         | 776/1000 [01:06<00:19, 11.66it/s]\u001b[A\n",
      " 78%|███████████████████████████████         | 778/1000 [01:06<00:19, 11.66it/s]\u001b[A"
     ]
    },
    {
     "name": "stdout",
     "output_type": "stream",
     "text": [
      "0.0844728946685791\n",
      "0.08785581588745117\n",
      "0.08250904083251953\n"
     ]
    },
    {
     "name": "stderr",
     "output_type": "stream",
     "text": [
      "\n",
      " 78%|███████████████████████████████▏        | 780/1000 [01:06<00:18, 11.67it/s]\u001b[A"
     ]
    },
    {
     "name": "stdout",
     "output_type": "stream",
     "text": [
      "0.08821415901184082\n",
      "0.08167123794555664\n",
      "0.08773088455200195\n"
     ]
    },
    {
     "name": "stderr",
     "output_type": "stream",
     "text": [
      "\n",
      " 78%|███████████████████████████████▎        | 782/1000 [01:07<00:18, 11.63it/s]\u001b[A\n",
      " 78%|███████████████████████████████▎        | 784/1000 [01:07<00:18, 11.70it/s]\u001b[A"
     ]
    },
    {
     "name": "stdout",
     "output_type": "stream",
     "text": [
      "0.08437252044677734\n",
      "0.08565163612365723\n",
      "0.08200192451477051\n"
     ]
    },
    {
     "name": "stderr",
     "output_type": "stream",
     "text": [
      "\n",
      " 79%|███████████████████████████████▍        | 786/1000 [01:07<00:18, 11.68it/s]\u001b[A"
     ]
    },
    {
     "name": "stdout",
     "output_type": "stream",
     "text": [
      "0.08848810195922852\n",
      "0.08233380317687988\n",
      "0.08650517463684082\n"
     ]
    },
    {
     "name": "stderr",
     "output_type": "stream",
     "text": [
      "\n",
      " 79%|███████████████████████████████▌        | 788/1000 [01:07<00:18, 11.66it/s]\u001b[A\n",
      " 79%|███████████████████████████████▌        | 790/1000 [01:07<00:17, 11.70it/s]\u001b[A"
     ]
    },
    {
     "name": "stdout",
     "output_type": "stream",
     "text": [
      "0.08469748497009277\n",
      "0.08565735816955566\n",
      "0.08297252655029297\n"
     ]
    },
    {
     "name": "stderr",
     "output_type": "stream",
     "text": [
      "\n",
      " 79%|███████████████████████████████▋        | 792/1000 [01:07<00:17, 11.68it/s]\u001b[A"
     ]
    },
    {
     "name": "stdout",
     "output_type": "stream",
     "text": [
      "0.08892679214477539\n",
      "0.08206677436828613\n",
      "0.08715128898620605\n"
     ]
    },
    {
     "name": "stderr",
     "output_type": "stream",
     "text": [
      "\n",
      " 79%|███████████████████████████████▊        | 794/1000 [01:08<00:17, 11.64it/s]\u001b[A\n",
      " 80%|███████████████████████████████▊        | 796/1000 [01:08<00:17, 11.74it/s]\u001b[A"
     ]
    },
    {
     "name": "stdout",
     "output_type": "stream",
     "text": [
      "0.08483219146728516\n",
      "0.08385419845581055\n",
      "0.08212876319885254\n"
     ]
    },
    {
     "name": "stderr",
     "output_type": "stream",
     "text": [
      "\n",
      " 80%|███████████████████████████████▉        | 798/1000 [01:08<00:17, 11.71it/s]\u001b[A"
     ]
    },
    {
     "name": "stdout",
     "output_type": "stream",
     "text": [
      "0.08835840225219727\n",
      "0.08237767219543457\n",
      "0.08550024032592773\n"
     ]
    },
    {
     "name": "stderr",
     "output_type": "stream",
     "text": [
      "\n",
      " 80%|████████████████████████████████        | 800/1000 [01:08<00:17, 11.71it/s]\u001b[A\n",
      " 80%|████████████████████████████████        | 802/1000 [01:08<00:16, 11.77it/s]\u001b[A"
     ]
    },
    {
     "name": "stdout",
     "output_type": "stream",
     "text": [
      "0.08430218696594238\n",
      "0.08461236953735352\n",
      "0.08233141899108887\n"
     ]
    },
    {
     "name": "stderr",
     "output_type": "stream",
     "text": [
      "\n",
      " 80%|████████████████████████████████▏       | 804/1000 [01:08<00:16, 11.74it/s]\u001b[A"
     ]
    },
    {
     "name": "stdout",
     "output_type": "stream",
     "text": [
      "0.08856010437011719\n",
      "0.0818943977355957\n",
      "0.08771109580993652\n"
     ]
    },
    {
     "name": "stderr",
     "output_type": "stream",
     "text": [
      "\n",
      " 81%|████████████████████████████████▏       | 806/1000 [01:09<00:16, 11.68it/s]\u001b[A\n",
      " 81%|████████████████████████████████▎       | 808/1000 [01:09<00:16, 11.74it/s]\u001b[A"
     ]
    },
    {
     "name": "stdout",
     "output_type": "stream",
     "text": [
      "0.08476424217224121\n",
      "0.08531022071838379\n",
      "0.08196425437927246\n"
     ]
    },
    {
     "name": "stderr",
     "output_type": "stream",
     "text": [
      "\n",
      " 81%|████████████████████████████████▍       | 810/1000 [01:09<00:16, 11.74it/s]\u001b[A"
     ]
    },
    {
     "name": "stdout",
     "output_type": "stream",
     "text": [
      "0.08748936653137207\n",
      "0.08187031745910645\n",
      "0.08714127540588379\n"
     ]
    },
    {
     "name": "stderr",
     "output_type": "stream",
     "text": [
      "\n",
      " 81%|████████████████████████████████▍       | 812/1000 [01:09<00:16, 11.69it/s]\u001b[A\n",
      " 81%|████████████████████████████████▌       | 814/1000 [01:09<00:15, 11.74it/s]\u001b[A"
     ]
    },
    {
     "name": "stdout",
     "output_type": "stream",
     "text": [
      "0.08466982841491699\n",
      "0.08479166030883789\n",
      "0.08270692825317383\n"
     ]
    },
    {
     "name": "stderr",
     "output_type": "stream",
     "text": [
      "\n",
      " 82%|████████████████████████████████▋       | 816/1000 [01:09<00:15, 11.71it/s]\u001b[A"
     ]
    },
    {
     "name": "stdout",
     "output_type": "stream",
     "text": [
      "0.08861994743347168\n",
      "0.08212471008300781\n",
      "0.09156155586242676\n"
     ]
    },
    {
     "name": "stderr",
     "output_type": "stream",
     "text": [
      "\n",
      " 82%|████████████████████████████████▋       | 818/1000 [01:10<00:15, 11.50it/s]\u001b[A\n",
      " 82%|████████████████████████████████▊       | 820/1000 [01:10<00:15, 11.59it/s]\u001b[A"
     ]
    },
    {
     "name": "stdout",
     "output_type": "stream",
     "text": [
      "0.08865785598754883\n",
      "0.0837259292602539\n",
      "0.08448505401611328\n"
     ]
    },
    {
     "name": "stderr",
     "output_type": "stream",
     "text": [
      "\n",
      " 82%|████████████████████████████████▉       | 822/1000 [01:10<00:15, 11.59it/s]\u001b[A"
     ]
    },
    {
     "name": "stdout",
     "output_type": "stream",
     "text": [
      "0.08669352531433105\n",
      "0.08402442932128906\n",
      "0.08701181411743164\n"
     ]
    },
    {
     "name": "stderr",
     "output_type": "stream",
     "text": [
      "\n",
      " 82%|████████████████████████████████▉       | 824/1000 [01:10<00:15, 11.59it/s]\u001b[A\n",
      " 83%|█████████████████████████████████       | 826/1000 [01:10<00:15, 11.48it/s]\u001b[A"
     ]
    },
    {
     "name": "stdout",
     "output_type": "stream",
     "text": [
      "0.08426070213317871\n",
      "0.09132790565490723\n",
      "0.08574175834655762\n"
     ]
    },
    {
     "name": "stderr",
     "output_type": "stream",
     "text": [
      "\n",
      " 83%|█████████████████████████████████       | 828/1000 [01:10<00:14, 11.51it/s]\u001b[A"
     ]
    },
    {
     "name": "stdout",
     "output_type": "stream",
     "text": [
      "0.08925080299377441\n",
      "0.08254671096801758\n",
      "0.08667182922363281\n"
     ]
    },
    {
     "name": "stderr",
     "output_type": "stream",
     "text": [
      "\n",
      " 83%|█████████████████████████████████▏      | 830/1000 [01:11<00:14, 11.52it/s]\u001b[A\n",
      " 83%|█████████████████████████████████▎      | 832/1000 [01:11<00:14, 11.62it/s]\u001b[A"
     ]
    },
    {
     "name": "stdout",
     "output_type": "stream",
     "text": [
      "0.08527350425720215\n",
      "0.08523273468017578\n",
      "0.0823831558227539\n"
     ]
    },
    {
     "name": "stderr",
     "output_type": "stream",
     "text": [
      "\n",
      " 83%|█████████████████████████████████▎      | 834/1000 [01:11<00:14, 11.61it/s]\u001b[A"
     ]
    },
    {
     "name": "stdout",
     "output_type": "stream",
     "text": [
      "0.08949923515319824\n",
      "0.08213973045349121\n",
      "0.08662819862365723\n"
     ]
    },
    {
     "name": "stderr",
     "output_type": "stream",
     "text": [
      "\n",
      " 84%|█████████████████████████████████▍      | 836/1000 [01:11<00:14, 11.60it/s]\u001b[A\n",
      " 84%|█████████████████████████████████▌      | 838/1000 [01:11<00:13, 11.63it/s]\u001b[A"
     ]
    },
    {
     "name": "stdout",
     "output_type": "stream",
     "text": [
      "0.08524036407470703\n",
      "0.08798432350158691\n",
      "0.08200192451477051\n"
     ]
    },
    {
     "name": "stderr",
     "output_type": "stream",
     "text": [
      "\n",
      " 84%|█████████████████████████████████▌      | 840/1000 [01:12<00:13, 11.59it/s]\u001b[A"
     ]
    },
    {
     "name": "stdout",
     "output_type": "stream",
     "text": [
      "0.08997941017150879\n",
      "0.08260631561279297\n",
      "0.08696508407592773\n"
     ]
    },
    {
     "name": "stderr",
     "output_type": "stream",
     "text": [
      "\n",
      " 84%|█████████████████████████████████▋      | 842/1000 [01:12<00:13, 11.58it/s]\u001b[A\n",
      " 84%|█████████████████████████████████▊      | 844/1000 [01:12<00:13, 11.65it/s]\u001b[A"
     ]
    },
    {
     "name": "stdout",
     "output_type": "stream",
     "text": [
      "0.08529067039489746\n",
      "0.08628296852111816\n",
      "0.08197569847106934\n"
     ]
    },
    {
     "name": "stderr",
     "output_type": "stream",
     "text": [
      "\n",
      " 85%|█████████████████████████████████▊      | 846/1000 [01:12<00:13, 11.63it/s]\u001b[A"
     ]
    },
    {
     "name": "stdout",
     "output_type": "stream",
     "text": [
      "0.08903384208679199\n",
      "0.08231735229492188\n",
      "0.08667945861816406\n"
     ]
    },
    {
     "name": "stderr",
     "output_type": "stream",
     "text": [
      "\n",
      " 85%|█████████████████████████████████▉      | 848/1000 [01:12<00:13, 11.56it/s]\u001b[A\n",
      " 85%|██████████████████████████████████      | 850/1000 [01:12<00:12, 11.61it/s]\u001b[A"
     ]
    },
    {
     "name": "stdout",
     "output_type": "stream",
     "text": [
      "0.08765649795532227\n",
      "0.08710503578186035\n",
      "0.08255743980407715\n"
     ]
    },
    {
     "name": "stderr",
     "output_type": "stream",
     "text": [
      "\n",
      " 85%|██████████████████████████████████      | 852/1000 [01:13<00:12, 11.61it/s]\u001b[A"
     ]
    },
    {
     "name": "stdout",
     "output_type": "stream",
     "text": [
      "0.08884835243225098\n",
      "0.08244800567626953\n",
      "0.08564305305480957\n"
     ]
    },
    {
     "name": "stderr",
     "output_type": "stream",
     "text": [
      "\n",
      " 85%|██████████████████████████████████▏     | 854/1000 [01:13<00:12, 11.63it/s]\u001b[A\n",
      " 86%|██████████████████████████████████▏     | 856/1000 [01:13<00:12, 11.67it/s]\u001b[A"
     ]
    },
    {
     "name": "stdout",
     "output_type": "stream",
     "text": [
      "0.08463191986083984\n",
      "0.08673787117004395\n",
      "0.08203434944152832\n"
     ]
    },
    {
     "name": "stderr",
     "output_type": "stream",
     "text": [
      "\n",
      " 86%|██████████████████████████████████▎     | 858/1000 [01:13<00:12, 11.68it/s]\u001b[A"
     ]
    },
    {
     "name": "stdout",
     "output_type": "stream",
     "text": [
      "0.08779668807983398\n",
      "0.08232355117797852\n",
      "0.08655071258544922\n"
     ]
    },
    {
     "name": "stderr",
     "output_type": "stream",
     "text": [
      "\n",
      " 86%|██████████████████████████████████▍     | 860/1000 [01:13<00:12, 11.64it/s]\u001b[A\n",
      " 86%|██████████████████████████████████▍     | 862/1000 [01:13<00:11, 11.72it/s]\u001b[A"
     ]
    },
    {
     "name": "stdout",
     "output_type": "stream",
     "text": [
      "0.08565306663513184\n",
      "0.08425211906433105\n",
      "0.08263301849365234\n"
     ]
    },
    {
     "name": "stderr",
     "output_type": "stream",
     "text": [
      "\n",
      " 86%|██████████████████████████████████▌     | 864/1000 [01:14<00:11, 11.68it/s]\u001b[A"
     ]
    },
    {
     "name": "stdout",
     "output_type": "stream",
     "text": [
      "0.08866572380065918\n",
      "0.08252167701721191\n",
      "0.0880124568939209\n"
     ]
    },
    {
     "name": "stderr",
     "output_type": "stream",
     "text": [
      "\n",
      " 87%|██████████████████████████████████▋     | 866/1000 [01:14<00:11, 11.62it/s]\u001b[A\n",
      " 87%|██████████████████████████████████▋     | 868/1000 [01:14<00:11, 11.64it/s]\u001b[A"
     ]
    },
    {
     "name": "stdout",
     "output_type": "stream",
     "text": [
      "0.08533596992492676\n",
      "0.08779454231262207\n",
      "0.08224749565124512\n"
     ]
    },
    {
     "name": "stderr",
     "output_type": "stream",
     "text": [
      "\n",
      " 87%|██████████████████████████████████▊     | 870/1000 [01:14<00:11, 11.61it/s]\u001b[A"
     ]
    },
    {
     "name": "stdout",
     "output_type": "stream",
     "text": [
      "0.08931446075439453\n",
      "0.08299994468688965\n",
      "0.08894062042236328\n"
     ]
    },
    {
     "name": "stderr",
     "output_type": "stream",
     "text": [
      "\n",
      " 87%|██████████████████████████████████▉     | 872/1000 [01:14<00:11, 11.51it/s]\u001b[A\n",
      " 87%|██████████████████████████████████▉     | 874/1000 [01:14<00:10, 11.48it/s]\u001b[A"
     ]
    },
    {
     "name": "stdout",
     "output_type": "stream",
     "text": [
      "0.08739686012268066\n",
      "0.09207725524902344\n",
      "0.08219075202941895\n"
     ]
    },
    {
     "name": "stderr",
     "output_type": "stream",
     "text": [
      "\n",
      " 88%|███████████████████████████████████     | 876/1000 [01:15<00:10, 11.51it/s]\u001b[A"
     ]
    },
    {
     "name": "stdout",
     "output_type": "stream",
     "text": [
      "0.08996176719665527\n",
      "0.08193016052246094\n",
      "0.08638215065002441\n"
     ]
    },
    {
     "name": "stderr",
     "output_type": "stream",
     "text": [
      "\n",
      " 88%|███████████████████████████████████     | 878/1000 [01:15<00:10, 11.53it/s]\u001b[A\n",
      " 88%|███████████████████████████████████▏    | 880/1000 [01:15<00:10, 11.60it/s]\u001b[A"
     ]
    },
    {
     "name": "stdout",
     "output_type": "stream",
     "text": [
      "0.08516287803649902\n",
      "0.08477234840393066\n",
      "0.08411431312561035\n"
     ]
    },
    {
     "name": "stderr",
     "output_type": "stream",
     "text": [
      "\n",
      " 88%|███████████████████████████████████▎    | 882/1000 [01:15<00:10, 11.64it/s]\u001b[A"
     ]
    },
    {
     "name": "stdout",
     "output_type": "stream",
     "text": [
      "0.08722352981567383\n",
      "0.08227729797363281\n",
      "0.08600378036499023\n"
     ]
    },
    {
     "name": "stderr",
     "output_type": "stream",
     "text": [
      "\n",
      " 88%|███████████████████████████████████▎    | 884/1000 [01:15<00:09, 11.64it/s]\u001b[A\n",
      " 89%|███████████████████████████████████▍    | 886/1000 [01:15<00:09, 11.66it/s]\u001b[A"
     ]
    },
    {
     "name": "stdout",
     "output_type": "stream",
     "text": [
      "0.0848243236541748\n",
      "0.08770275115966797\n",
      "0.0822150707244873\n"
     ]
    },
    {
     "name": "stderr",
     "output_type": "stream",
     "text": [
      "\n",
      " 89%|███████████████████████████████████▌    | 888/1000 [01:16<00:09, 11.66it/s]\u001b[A"
     ]
    },
    {
     "name": "stdout",
     "output_type": "stream",
     "text": [
      "0.08852243423461914\n",
      "0.08210396766662598\n",
      "0.08504557609558105\n"
     ]
    },
    {
     "name": "stderr",
     "output_type": "stream",
     "text": [
      "\n",
      " 89%|███████████████████████████████████▌    | 890/1000 [01:16<00:09, 11.65it/s]\u001b[A\n",
      " 89%|███████████████████████████████████▋    | 892/1000 [01:16<00:09, 11.57it/s]\u001b[A"
     ]
    },
    {
     "name": "stdout",
     "output_type": "stream",
     "text": [
      "0.08576750755310059\n",
      "0.08656001091003418\n",
      "0.08799147605895996\n"
     ]
    },
    {
     "name": "stderr",
     "output_type": "stream",
     "text": [
      "\n",
      " 89%|███████████████████████████████████▊    | 894/1000 [01:16<00:09, 11.42it/s]\u001b[A"
     ]
    },
    {
     "name": "stdout",
     "output_type": "stream",
     "text": [
      "0.09056282043457031\n",
      "0.08878064155578613\n",
      "0.08941817283630371\n"
     ]
    },
    {
     "name": "stderr",
     "output_type": "stream",
     "text": [
      "\n",
      " 90%|███████████████████████████████████▊    | 896/1000 [01:16<00:09, 11.28it/s]\u001b[A\n",
      " 90%|███████████████████████████████████▉    | 898/1000 [01:17<00:09, 11.28it/s]\u001b[A"
     ]
    },
    {
     "name": "stdout",
     "output_type": "stream",
     "text": [
      "0.09120321273803711\n",
      "0.08916902542114258\n",
      "0.08729982376098633\n"
     ]
    },
    {
     "name": "stderr",
     "output_type": "stream",
     "text": [
      "\n",
      " 90%|████████████████████████████████████    | 900/1000 [01:17<00:08, 11.40it/s]\u001b[A"
     ]
    },
    {
     "name": "stdout",
     "output_type": "stream",
     "text": [
      "0.08756661415100098\n",
      "0.08217716217041016\n",
      "0.08695197105407715\n"
     ]
    },
    {
     "name": "stderr",
     "output_type": "stream",
     "text": [
      "\n",
      " 90%|████████████████████████████████████    | 902/1000 [01:17<00:08, 11.42it/s]\u001b[A\n",
      " 90%|████████████████████████████████████▏   | 904/1000 [01:17<00:08, 11.56it/s]\u001b[A"
     ]
    },
    {
     "name": "stdout",
     "output_type": "stream",
     "text": [
      "0.08633685111999512\n",
      "0.08503413200378418\n",
      "0.08230042457580566\n"
     ]
    },
    {
     "name": "stderr",
     "output_type": "stream",
     "text": [
      "\n",
      " 91%|████████████████████████████████████▏   | 906/1000 [01:17<00:08, 11.49it/s]\u001b[A"
     ]
    },
    {
     "name": "stdout",
     "output_type": "stream",
     "text": [
      "0.08946657180786133\n",
      "0.08564329147338867\n",
      "0.08556461334228516\n"
     ]
    },
    {
     "name": "stderr",
     "output_type": "stream",
     "text": [
      "\n",
      " 91%|████████████████████████████████████▎   | 908/1000 [01:17<00:07, 11.53it/s]\u001b[A\n",
      " 91%|████████████████████████████████████▍   | 910/1000 [01:18<00:07, 11.61it/s]\u001b[A"
     ]
    },
    {
     "name": "stdout",
     "output_type": "stream",
     "text": [
      "0.08527612686157227\n",
      "0.0863027572631836\n",
      "0.08209347724914551\n"
     ]
    },
    {
     "name": "stderr",
     "output_type": "stream",
     "text": [
      "\n",
      " 91%|████████████████████████████████████▍   | 912/1000 [01:18<00:07, 11.62it/s]\u001b[A"
     ]
    },
    {
     "name": "stdout",
     "output_type": "stream",
     "text": [
      "0.08816719055175781\n",
      "0.08237743377685547\n",
      "0.08713793754577637\n"
     ]
    },
    {
     "name": "stderr",
     "output_type": "stream",
     "text": [
      "\n",
      " 91%|████████████████████████████████████▌   | 914/1000 [01:18<00:07, 11.60it/s]\u001b[A\n",
      " 92%|████████████████████████████████████▋   | 916/1000 [01:18<00:07, 11.71it/s]\u001b[A"
     ]
    },
    {
     "name": "stdout",
     "output_type": "stream",
     "text": [
      "0.08500361442565918\n",
      "0.08424711227416992\n",
      "0.08221197128295898\n"
     ]
    },
    {
     "name": "stderr",
     "output_type": "stream",
     "text": [
      "\n",
      " 92%|████████████████████████████████████▋   | 918/1000 [01:18<00:07, 11.66it/s]\u001b[A"
     ]
    },
    {
     "name": "stdout",
     "output_type": "stream",
     "text": [
      "0.0887906551361084\n",
      "0.08334064483642578\n",
      "0.08664321899414062\n"
     ]
    },
    {
     "name": "stderr",
     "output_type": "stream",
     "text": [
      "\n",
      " 92%|████████████████████████████████████▊   | 920/1000 [01:18<00:06, 11.61it/s]\u001b[A\n",
      " 92%|████████████████████████████████████▉   | 922/1000 [01:19<00:06, 11.69it/s]\u001b[A"
     ]
    },
    {
     "name": "stdout",
     "output_type": "stream",
     "text": [
      "0.08636617660522461\n",
      "0.08493232727050781\n",
      "0.08232879638671875\n"
     ]
    },
    {
     "name": "stderr",
     "output_type": "stream",
     "text": [
      "\n",
      " 92%|████████████████████████████████████▉   | 924/1000 [01:19<00:06, 11.65it/s]\u001b[A"
     ]
    },
    {
     "name": "stdout",
     "output_type": "stream",
     "text": [
      "0.08973336219787598\n",
      "0.08235836029052734\n",
      "0.08588743209838867\n"
     ]
    },
    {
     "name": "stderr",
     "output_type": "stream",
     "text": [
      "\n",
      " 93%|█████████████████████████████████████   | 926/1000 [01:19<00:06, 11.66it/s]\u001b[A\n",
      " 93%|█████████████████████████████████████   | 928/1000 [01:19<00:06, 11.64it/s]\u001b[A"
     ]
    },
    {
     "name": "stdout",
     "output_type": "stream",
     "text": [
      "0.0845947265625\n",
      "0.08777904510498047\n",
      "0.08367562294006348\n"
     ]
    },
    {
     "name": "stderr",
     "output_type": "stream",
     "text": [
      "\n",
      " 93%|█████████████████████████████████████▏  | 930/1000 [01:19<00:06, 11.61it/s]\u001b[A"
     ]
    },
    {
     "name": "stdout",
     "output_type": "stream",
     "text": [
      "0.08840346336364746\n",
      "0.08402538299560547\n",
      "0.08751440048217773\n"
     ]
    },
    {
     "name": "stderr",
     "output_type": "stream",
     "text": [
      "\n",
      " 93%|█████████████████████████████████████▎  | 932/1000 [01:19<00:05, 11.55it/s]\u001b[A\n",
      " 93%|█████████████████████████████████████▎  | 934/1000 [01:20<00:05, 11.63it/s]\u001b[A"
     ]
    },
    {
     "name": "stdout",
     "output_type": "stream",
     "text": [
      "0.08651256561279297\n",
      "0.08624029159545898\n",
      "0.0821378231048584\n"
     ]
    },
    {
     "name": "stderr",
     "output_type": "stream",
     "text": [
      "\n",
      " 94%|█████████████████████████████████████▍  | 936/1000 [01:20<00:05, 11.60it/s]\u001b[A"
     ]
    },
    {
     "name": "stdout",
     "output_type": "stream",
     "text": [
      "0.08985209465026855\n",
      "0.08249163627624512\n",
      "0.08892035484313965\n"
     ]
    },
    {
     "name": "stderr",
     "output_type": "stream",
     "text": [
      "\n",
      " 94%|█████████████████████████████████████▌  | 938/1000 [01:20<00:05, 11.52it/s]\u001b[A\n",
      " 94%|█████████████████████████████████████▌  | 940/1000 [01:20<00:05, 11.58it/s]\u001b[A"
     ]
    },
    {
     "name": "stdout",
     "output_type": "stream",
     "text": [
      "0.08673644065856934\n",
      "0.08684873580932617\n",
      "0.08260989189147949\n"
     ]
    },
    {
     "name": "stderr",
     "output_type": "stream",
     "text": [
      "\n",
      " 94%|█████████████████████████████████████▋  | 942/1000 [01:20<00:05, 11.36it/s]\u001b[A"
     ]
    },
    {
     "name": "stdout",
     "output_type": "stream",
     "text": [
      "0.09254813194274902\n",
      "0.09029150009155273\n",
      "0.09168219566345215\n"
     ]
    },
    {
     "name": "stderr",
     "output_type": "stream",
     "text": [
      "\n",
      " 94%|█████████████████████████████████████▊  | 944/1000 [01:21<00:05, 11.18it/s]\u001b[A\n",
      " 95%|█████████████████████████████████████▊  | 946/1000 [01:21<00:04, 11.31it/s]\u001b[A"
     ]
    },
    {
     "name": "stdout",
     "output_type": "stream",
     "text": [
      "0.09267234802246094\n",
      "0.0853719711303711\n",
      "0.08586239814758301\n"
     ]
    },
    {
     "name": "stderr",
     "output_type": "stream",
     "text": [
      "\n",
      " 95%|█████████████████████████████████████▉  | 948/1000 [01:21<00:04, 11.22it/s]\u001b[A"
     ]
    },
    {
     "name": "stdout",
     "output_type": "stream",
     "text": [
      "0.09159588813781738\n",
      "0.08903956413269043\n",
      "0.0848090648651123\n"
     ]
    },
    {
     "name": "stderr",
     "output_type": "stream",
     "text": [
      "\n",
      " 95%|██████████████████████████████████████  | 950/1000 [01:21<00:04, 11.31it/s]\u001b[A\n",
      " 95%|██████████████████████████████████████  | 952/1000 [01:21<00:04, 11.25it/s]\u001b[A"
     ]
    },
    {
     "name": "stdout",
     "output_type": "stream",
     "text": [
      "0.08783555030822754\n",
      "0.08908796310424805\n",
      "0.08940720558166504\n"
     ]
    },
    {
     "name": "stderr",
     "output_type": "stream",
     "text": [
      "\n",
      " 95%|██████████████████████████████████████▏ | 954/1000 [01:21<00:04, 11.38it/s]\u001b[A"
     ]
    },
    {
     "name": "stdout",
     "output_type": "stream",
     "text": [
      "0.08785605430603027\n",
      "0.08181309700012207\n",
      "0.08892464637756348\n"
     ]
    },
    {
     "name": "stderr",
     "output_type": "stream",
     "text": [
      "\n",
      " 96%|██████████████████████████████████████▏ | 956/1000 [01:22<00:03, 11.30it/s]\u001b[A\n",
      " 96%|██████████████████████████████████████▎ | 958/1000 [01:22<00:03, 11.41it/s]\u001b[A"
     ]
    },
    {
     "name": "stdout",
     "output_type": "stream",
     "text": [
      "0.09003210067749023\n",
      "0.08828592300415039\n",
      "0.08195090293884277\n"
     ]
    },
    {
     "name": "stderr",
     "output_type": "stream",
     "text": [
      "\n",
      " 96%|██████████████████████████████████████▍ | 960/1000 [01:22<00:03, 11.32it/s]\u001b[A"
     ]
    },
    {
     "name": "stdout",
     "output_type": "stream",
     "text": [
      "0.09064888954162598\n",
      "0.08826017379760742\n",
      "0.08857226371765137\n"
     ]
    },
    {
     "name": "stderr",
     "output_type": "stream",
     "text": [
      "\n",
      " 96%|██████████████████████████████████████▍ | 962/1000 [01:22<00:03, 11.27it/s]\u001b[A\n",
      " 96%|██████████████████████████████████████▌ | 964/1000 [01:22<00:03, 11.31it/s]\u001b[A"
     ]
    },
    {
     "name": "stdout",
     "output_type": "stream",
     "text": [
      "0.08933186531066895\n",
      "0.08749651908874512\n",
      "0.08670377731323242\n"
     ]
    },
    {
     "name": "stderr",
     "output_type": "stream",
     "text": [
      "\n",
      " 97%|██████████████████████████████████████▋ | 966/1000 [01:22<00:03, 11.21it/s]\u001b[A"
     ]
    },
    {
     "name": "stdout",
     "output_type": "stream",
     "text": [
      "0.09225130081176758\n",
      "0.08817696571350098\n",
      "0.08611679077148438\n"
     ]
    },
    {
     "name": "stderr",
     "output_type": "stream",
     "text": [
      "\n",
      " 97%|██████████████████████████████████████▋ | 968/1000 [01:23<00:02, 11.32it/s]\u001b[A\n",
      " 97%|██████████████████████████████████████▊ | 970/1000 [01:23<00:02, 11.26it/s]\u001b[A"
     ]
    },
    {
     "name": "stdout",
     "output_type": "stream",
     "text": [
      "0.08551979064941406\n",
      "0.0895850658416748\n",
      "0.08882355690002441\n"
     ]
    },
    {
     "name": "stderr",
     "output_type": "stream",
     "text": [
      "\n",
      " 97%|██████████████████████████████████████▉ | 972/1000 [01:23<00:02, 11.32it/s]\u001b[A"
     ]
    },
    {
     "name": "stdout",
     "output_type": "stream",
     "text": [
      "0.09084415435791016\n",
      "0.08263611793518066\n",
      "0.08765482902526855\n"
     ]
    },
    {
     "name": "stderr",
     "output_type": "stream",
     "text": [
      "\n",
      " 97%|██████████████████████████████████████▉ | 974/1000 [01:23<00:02, 11.31it/s]\u001b[A\n",
      " 98%|███████████████████████████████████████ | 976/1000 [01:23<00:02, 11.39it/s]\u001b[A"
     ]
    },
    {
     "name": "stdout",
     "output_type": "stream",
     "text": [
      "0.08840417861938477\n",
      "0.08915925025939941\n",
      "0.08216428756713867\n"
     ]
    },
    {
     "name": "stderr",
     "output_type": "stream",
     "text": [
      "\n",
      " 98%|███████████████████████████████████████ | 978/1000 [01:24<00:01, 11.36it/s]\u001b[A"
     ]
    },
    {
     "name": "stdout",
     "output_type": "stream",
     "text": [
      "0.08897113800048828\n",
      "0.08747458457946777\n",
      "0.0895998477935791\n"
     ]
    },
    {
     "name": "stderr",
     "output_type": "stream",
     "text": [
      "\n",
      " 98%|███████████████████████████████████████▏| 980/1000 [01:24<00:01, 11.26it/s]\u001b[A\n",
      " 98%|███████████████████████████████████████▎| 982/1000 [01:24<00:01, 11.42it/s]\u001b[A"
     ]
    },
    {
     "name": "stdout",
     "output_type": "stream",
     "text": [
      "0.09028983116149902\n",
      "0.08654522895812988\n",
      "0.08123159408569336\n"
     ]
    },
    {
     "name": "stderr",
     "output_type": "stream",
     "text": [
      "\n",
      " 98%|███████████████████████████████████████▎| 984/1000 [01:24<00:01, 11.32it/s]\u001b[A"
     ]
    },
    {
     "name": "stdout",
     "output_type": "stream",
     "text": [
      "0.0893251895904541\n",
      "0.08958959579467773\n",
      "0.09110736846923828\n"
     ]
    },
    {
     "name": "stderr",
     "output_type": "stream",
     "text": [
      "\n",
      " 99%|███████████████████████████████████████▍| 986/1000 [01:24<00:01, 11.24it/s]\u001b[A\n",
      " 99%|███████████████████████████████████████▌| 988/1000 [01:24<00:01, 11.39it/s]\u001b[A"
     ]
    },
    {
     "name": "stdout",
     "output_type": "stream",
     "text": [
      "0.08870196342468262\n",
      "0.08788442611694336\n",
      "0.0810401439666748\n"
     ]
    },
    {
     "name": "stderr",
     "output_type": "stream",
     "text": [
      "\n",
      " 99%|███████████████████████████████████████▌| 990/1000 [01:25<00:00, 11.27it/s]\u001b[A"
     ]
    },
    {
     "name": "stdout",
     "output_type": "stream",
     "text": [
      "0.09271836280822754\n",
      "0.08824992179870605\n",
      "0.09166288375854492\n"
     ]
    },
    {
     "name": "stderr",
     "output_type": "stream",
     "text": [
      "\n",
      " 99%|███████████████████████████████████████▋| 992/1000 [01:25<00:00, 11.25it/s]\u001b[A\n",
      " 99%|███████████████████████████████████████▊| 994/1000 [01:25<00:00, 11.31it/s]\u001b[A"
     ]
    },
    {
     "name": "stdout",
     "output_type": "stream",
     "text": [
      "0.08540534973144531\n",
      "0.08777976036071777\n",
      "0.08549976348876953\n"
     ]
    },
    {
     "name": "stderr",
     "output_type": "stream",
     "text": [
      "\n",
      "100%|███████████████████████████████████████▊| 996/1000 [01:25<00:00, 11.22it/s]\u001b[A"
     ]
    },
    {
     "name": "stdout",
     "output_type": "stream",
     "text": [
      "0.09179091453552246\n",
      "0.08854174613952637\n",
      "0.08534932136535645\n"
     ]
    },
    {
     "name": "stderr",
     "output_type": "stream",
     "text": [
      "\n",
      "100%|███████████████████████████████████████▉| 998/1000 [01:25<00:00, 11.33it/s]\u001b[A\n",
      "100%|███████████████████████████████████████| 1000/1000 [01:25<00:00, 11.63it/s]\u001b[A\n",
      " 80%|████████████████████████████████████         | 4/5 [05:41<01:25, 85.63s/it]"
     ]
    },
    {
     "name": "stdout",
     "output_type": "stream",
     "text": [
      "0.08569669723510742\n",
      "0.08756017684936523\n",
      "0.08634567260742188\n",
      "One run completed\n"
     ]
    },
    {
     "name": "stderr",
     "output_type": "stream",
     "text": [
      "\n",
      "  0%|                                                  | 0/1000 [00:00<?, ?it/s]\u001b[A\n",
      "  0%|                                          | 2/1000 [00:00<01:28, 11.22it/s]\u001b[A"
     ]
    },
    {
     "name": "stdout",
     "output_type": "stream",
     "text": [
      "0.09075069427490234\n",
      "0.08730125427246094\n",
      "0.08649611473083496\n"
     ]
    },
    {
     "name": "stderr",
     "output_type": "stream",
     "text": [
      "\n",
      "  0%|▏                                         | 4/1000 [00:00<01:26, 11.45it/s]\u001b[A\n",
      "  1%|▎                                         | 6/1000 [00:00<01:25, 11.63it/s]\u001b[A"
     ]
    },
    {
     "name": "stdout",
     "output_type": "stream",
     "text": [
      "0.08431077003479004\n",
      "0.08574557304382324\n",
      "0.08187699317932129\n"
     ]
    },
    {
     "name": "stderr",
     "output_type": "stream",
     "text": [
      "\n",
      "  1%|▎                                         | 8/1000 [00:00<01:25, 11.58it/s]\u001b[A"
     ]
    },
    {
     "name": "stdout",
     "output_type": "stream",
     "text": [
      "0.0907435417175293\n",
      "0.08208584785461426\n",
      "0.08750486373901367\n"
     ]
    },
    {
     "name": "stderr",
     "output_type": "stream",
     "text": [
      "\n",
      "  1%|▍                                        | 10/1000 [00:00<01:25, 11.58it/s]\u001b[A\n",
      "  1%|▍                                        | 12/1000 [00:01<01:24, 11.67it/s]\u001b[A"
     ]
    },
    {
     "name": "stdout",
     "output_type": "stream",
     "text": [
      "0.0843203067779541\n",
      "0.08522653579711914\n",
      "0.0825965404510498\n"
     ]
    },
    {
     "name": "stderr",
     "output_type": "stream",
     "text": [
      "\n",
      "  1%|▌                                        | 14/1000 [00:01<01:24, 11.67it/s]\u001b[A"
     ]
    },
    {
     "name": "stdout",
     "output_type": "stream",
     "text": [
      "0.08858990669250488\n",
      "0.08174777030944824\n",
      "0.0856165885925293\n"
     ]
    },
    {
     "name": "stderr",
     "output_type": "stream",
     "text": [
      "\n",
      "  2%|▋                                        | 16/1000 [00:01<01:24, 11.69it/s]\u001b[A\n",
      "  2%|▋                                        | 18/1000 [00:01<01:23, 11.76it/s]\u001b[A"
     ]
    },
    {
     "name": "stdout",
     "output_type": "stream",
     "text": [
      "0.08402395248413086\n",
      "0.08428764343261719\n",
      "0.082244873046875\n"
     ]
    },
    {
     "name": "stderr",
     "output_type": "stream",
     "text": [
      "\n",
      "  2%|▊                                        | 20/1000 [00:01<01:23, 11.70it/s]\u001b[A"
     ]
    },
    {
     "name": "stdout",
     "output_type": "stream",
     "text": [
      "0.08758711814880371\n",
      "0.0844111442565918\n",
      "0.09201502799987793\n"
     ]
    },
    {
     "name": "stderr",
     "output_type": "stream",
     "text": [
      "\n",
      "  2%|▉                                        | 22/1000 [00:01<01:25, 11.41it/s]\u001b[A\n",
      "  2%|▉                                        | 24/1000 [00:02<01:25, 11.47it/s]\u001b[A"
     ]
    },
    {
     "name": "stdout",
     "output_type": "stream",
     "text": [
      "0.09164881706237793\n",
      "0.08895730972290039\n",
      "0.08220267295837402\n"
     ]
    },
    {
     "name": "stderr",
     "output_type": "stream",
     "text": [
      "\n",
      "  3%|█                                        | 26/1000 [00:02<01:26, 11.29it/s]\u001b[A"
     ]
    },
    {
     "name": "stdout",
     "output_type": "stream",
     "text": [
      "0.09118127822875977\n",
      "0.09133577346801758\n",
      "0.09094882011413574\n"
     ]
    },
    {
     "name": "stderr",
     "output_type": "stream",
     "text": [
      "\n",
      "  3%|█▏                                       | 28/1000 [00:02<01:26, 11.22it/s]\u001b[A\n",
      "  3%|█▏                                       | 30/1000 [00:02<01:25, 11.32it/s]\u001b[A"
     ]
    },
    {
     "name": "stdout",
     "output_type": "stream",
     "text": [
      "0.08843493461608887\n",
      "0.08557891845703125\n",
      "0.08658623695373535\n"
     ]
    },
    {
     "name": "stderr",
     "output_type": "stream",
     "text": [
      "\n",
      "  3%|█▎                                       | 32/1000 [00:02<01:26, 11.16it/s]\u001b[A"
     ]
    },
    {
     "name": "stdout",
     "output_type": "stream",
     "text": [
      "0.09365224838256836\n",
      "0.09038758277893066\n",
      "0.08969926834106445\n"
     ]
    },
    {
     "name": "stderr",
     "output_type": "stream",
     "text": [
      "\n",
      "  3%|█▍                                       | 34/1000 [00:02<01:26, 11.21it/s]\u001b[A\n",
      "  4%|█▍                                       | 36/1000 [00:03<01:26, 11.19it/s]\u001b[A"
     ]
    },
    {
     "name": "stdout",
     "output_type": "stream",
     "text": [
      "0.08613157272338867\n",
      "0.08738160133361816\n",
      "0.0908823013305664\n"
     ]
    },
    {
     "name": "stderr",
     "output_type": "stream",
     "text": [
      "\n",
      "  4%|█▌                                       | 38/1000 [00:03<01:26, 11.09it/s]\u001b[A"
     ]
    },
    {
     "name": "stdout",
     "output_type": "stream",
     "text": [
      "0.09372758865356445\n",
      "0.08918428421020508\n",
      "0.08788466453552246\n"
     ]
    },
    {
     "name": "stderr",
     "output_type": "stream",
     "text": [
      "\n",
      "  4%|█▋                                       | 40/1000 [00:03<01:25, 11.23it/s]\u001b[A\n",
      "  4%|█▋                                       | 42/1000 [00:03<01:23, 11.41it/s]\u001b[A"
     ]
    },
    {
     "name": "stdout",
     "output_type": "stream",
     "text": [
      "0.08392167091369629\n",
      "0.08604550361633301\n",
      "0.08167171478271484\n"
     ]
    },
    {
     "name": "stderr",
     "output_type": "stream",
     "text": [
      "\n",
      "  4%|█▊                                       | 44/1000 [00:03<01:23, 11.50it/s]\u001b[A"
     ]
    },
    {
     "name": "stdout",
     "output_type": "stream",
     "text": [
      "0.08763360977172852\n",
      "0.0820314884185791\n",
      "0.0854482650756836\n"
     ]
    },
    {
     "name": "stderr",
     "output_type": "stream",
     "text": [
      "\n",
      "  5%|█▉                                       | 46/1000 [00:04<01:22, 11.57it/s]\u001b[A\n",
      "  5%|█▉                                       | 48/1000 [00:04<01:21, 11.62it/s]\u001b[A"
     ]
    },
    {
     "name": "stdout",
     "output_type": "stream",
     "text": [
      "0.08416461944580078\n",
      "0.08720207214355469\n",
      "0.08182477951049805\n"
     ]
    },
    {
     "name": "stderr",
     "output_type": "stream",
     "text": [
      "\n",
      "  5%|██                                       | 50/1000 [00:04<01:21, 11.68it/s]\u001b[A"
     ]
    },
    {
     "name": "stdout",
     "output_type": "stream",
     "text": [
      "0.08643627166748047\n",
      "0.0817253589630127\n",
      "0.08663558959960938\n"
     ]
    },
    {
     "name": "stderr",
     "output_type": "stream",
     "text": [
      "\n",
      "  5%|██▏                                      | 52/1000 [00:04<01:21, 11.68it/s]\u001b[A\n",
      "  5%|██▏                                      | 54/1000 [00:04<01:20, 11.71it/s]\u001b[A"
     ]
    },
    {
     "name": "stdout",
     "output_type": "stream",
     "text": [
      "0.08395552635192871\n",
      "0.08723163604736328\n",
      "0.08164405822753906\n"
     ]
    },
    {
     "name": "stderr",
     "output_type": "stream",
     "text": [
      "\n",
      "  6%|██▎                                      | 56/1000 [00:04<01:20, 11.70it/s]\u001b[A"
     ]
    },
    {
     "name": "stdout",
     "output_type": "stream",
     "text": [
      "0.08848071098327637\n",
      "0.08162593841552734\n",
      "0.08697772026062012\n"
     ]
    },
    {
     "name": "stderr",
     "output_type": "stream",
     "text": [
      "\n",
      "  6%|██▍                                      | 58/1000 [00:05<01:20, 11.68it/s]\u001b[A\n",
      "  6%|██▍                                      | 60/1000 [00:05<01:19, 11.77it/s]\u001b[A"
     ]
    },
    {
     "name": "stdout",
     "output_type": "stream",
     "text": [
      "0.08405876159667969\n",
      "0.08380866050720215\n",
      "0.08173966407775879\n"
     ]
    },
    {
     "name": "stderr",
     "output_type": "stream",
     "text": [
      "\n",
      "  6%|██▌                                      | 62/1000 [00:05<01:19, 11.75it/s]\u001b[A"
     ]
    },
    {
     "name": "stdout",
     "output_type": "stream",
     "text": [
      "0.08824324607849121\n",
      "0.08172988891601562\n",
      "0.08686208724975586\n"
     ]
    },
    {
     "name": "stderr",
     "output_type": "stream",
     "text": [
      "\n",
      "  6%|██▌                                      | 64/1000 [00:05<01:19, 11.72it/s]\u001b[A\n",
      "  7%|██▋                                      | 66/1000 [00:05<01:19, 11.73it/s]\u001b[A"
     ]
    },
    {
     "name": "stdout",
     "output_type": "stream",
     "text": [
      "0.08420324325561523\n",
      "0.08719944953918457\n",
      "0.08170533180236816\n"
     ]
    },
    {
     "name": "stderr",
     "output_type": "stream",
     "text": [
      "\n",
      "  7%|██▊                                      | 68/1000 [00:05<01:19, 11.71it/s]\u001b[A"
     ]
    },
    {
     "name": "stdout",
     "output_type": "stream",
     "text": [
      "0.08883142471313477\n",
      "0.08180713653564453\n",
      "0.09122848510742188\n"
     ]
    },
    {
     "name": "stderr",
     "output_type": "stream",
     "text": [
      "\n",
      "  7%|██▊                                      | 70/1000 [00:06<01:20, 11.59it/s]\u001b[A\n",
      "  7%|██▉                                      | 72/1000 [00:06<01:19, 11.69it/s]\u001b[A"
     ]
    },
    {
     "name": "stdout",
     "output_type": "stream",
     "text": [
      "0.08435964584350586\n",
      "0.08446836471557617\n",
      "0.08223795890808105\n"
     ]
    },
    {
     "name": "stderr",
     "output_type": "stream",
     "text": [
      "\n",
      "  7%|███                                      | 74/1000 [00:06<01:19, 11.68it/s]\u001b[A"
     ]
    },
    {
     "name": "stdout",
     "output_type": "stream",
     "text": [
      "0.08856654167175293\n",
      "0.08219718933105469\n",
      "0.08735036849975586\n"
     ]
    },
    {
     "name": "stderr",
     "output_type": "stream",
     "text": [
      "\n",
      "  8%|███                                      | 76/1000 [00:06<01:19, 11.65it/s]\u001b[A\n",
      "  8%|███▏                                     | 78/1000 [00:06<01:18, 11.71it/s]\u001b[A"
     ]
    },
    {
     "name": "stdout",
     "output_type": "stream",
     "text": [
      "0.08408260345458984\n",
      "0.08609747886657715\n",
      "0.0815732479095459\n"
     ]
    },
    {
     "name": "stderr",
     "output_type": "stream",
     "text": [
      "\n",
      "  8%|███▎                                     | 80/1000 [00:06<01:18, 11.70it/s]\u001b[A"
     ]
    },
    {
     "name": "stdout",
     "output_type": "stream",
     "text": [
      "0.0883796215057373\n",
      "0.08186578750610352\n",
      "0.0872201919555664\n"
     ]
    },
    {
     "name": "stderr",
     "output_type": "stream",
     "text": [
      "\n",
      "  8%|███▎                                     | 82/1000 [00:07<01:18, 11.65it/s]\u001b[A\n",
      "  8%|███▍                                     | 84/1000 [00:07<01:17, 11.74it/s]\u001b[A"
     ]
    },
    {
     "name": "stdout",
     "output_type": "stream",
     "text": [
      "0.08533596992492676\n",
      "0.08425331115722656\n",
      "0.08182954788208008\n"
     ]
    },
    {
     "name": "stderr",
     "output_type": "stream",
     "text": [
      "\n",
      "  9%|███▌                                     | 86/1000 [00:07<01:17, 11.74it/s]\u001b[A"
     ]
    },
    {
     "name": "stdout",
     "output_type": "stream",
     "text": [
      "0.08760452270507812\n",
      "0.0819087028503418\n",
      "0.08614635467529297\n"
     ]
    },
    {
     "name": "stderr",
     "output_type": "stream",
     "text": [
      "\n",
      "  9%|███▌                                     | 88/1000 [00:07<01:17, 11.70it/s]\u001b[A\n",
      "  9%|███▋                                     | 90/1000 [00:07<01:18, 11.65it/s]\u001b[A"
     ]
    },
    {
     "name": "stdout",
     "output_type": "stream",
     "text": [
      "0.08535552024841309\n",
      "0.08823847770690918\n",
      "0.0838780403137207\n"
     ]
    },
    {
     "name": "stderr",
     "output_type": "stream",
     "text": [
      "\n",
      "  9%|███▊                                     | 92/1000 [00:07<01:18, 11.60it/s]\u001b[A"
     ]
    },
    {
     "name": "stdout",
     "output_type": "stream",
     "text": [
      "0.09004616737365723\n",
      "0.08295845985412598\n",
      "0.08703279495239258\n"
     ]
    },
    {
     "name": "stderr",
     "output_type": "stream",
     "text": [
      "\n",
      "  9%|███▊                                     | 94/1000 [00:08<01:18, 11.57it/s]\u001b[A\n",
      " 10%|███▉                                     | 96/1000 [00:08<01:17, 11.64it/s]\u001b[A"
     ]
    },
    {
     "name": "stdout",
     "output_type": "stream",
     "text": [
      "0.08607983589172363\n",
      "0.08406949043273926\n",
      "0.08426165580749512\n"
     ]
    },
    {
     "name": "stderr",
     "output_type": "stream",
     "text": [
      "\n",
      " 10%|████                                     | 98/1000 [00:08<01:17, 11.58it/s]\u001b[A"
     ]
    },
    {
     "name": "stdout",
     "output_type": "stream",
     "text": [
      "0.0889744758605957\n",
      "0.08485198020935059\n",
      "0.08797192573547363\n"
     ]
    },
    {
     "name": "stderr",
     "output_type": "stream",
     "text": [
      "\n",
      " 10%|████                                    | 100/1000 [00:08<01:17, 11.55it/s]\u001b[A\n",
      " 10%|████                                    | 102/1000 [00:08<01:18, 11.42it/s]\u001b[A"
     ]
    },
    {
     "name": "stdout",
     "output_type": "stream",
     "text": [
      "0.0853414535522461\n",
      "0.08866524696350098\n",
      "0.08986544609069824\n"
     ]
    },
    {
     "name": "stderr",
     "output_type": "stream",
     "text": [
      "\n",
      " 10%|████▏                                   | 104/1000 [00:09<01:19, 11.29it/s]\u001b[A"
     ]
    },
    {
     "name": "stdout",
     "output_type": "stream",
     "text": [
      "0.09094023704528809\n",
      "0.08963298797607422\n",
      "0.08913612365722656\n"
     ]
    },
    {
     "name": "stderr",
     "output_type": "stream",
     "text": [
      "\n",
      " 11%|████▏                                   | 106/1000 [00:09<01:19, 11.27it/s]\u001b[A\n",
      " 11%|████▎                                   | 108/1000 [00:09<01:18, 11.35it/s]\u001b[A"
     ]
    },
    {
     "name": "stdout",
     "output_type": "stream",
     "text": [
      "0.08801937103271484\n",
      "0.08600306510925293\n",
      "0.08637666702270508\n"
     ]
    },
    {
     "name": "stderr",
     "output_type": "stream",
     "text": [
      "\n",
      " 11%|████▍                                   | 110/1000 [00:09<01:18, 11.27it/s]\u001b[A"
     ]
    },
    {
     "name": "stdout",
     "output_type": "stream",
     "text": [
      "0.08979916572570801\n",
      "0.08915257453918457\n",
      "0.08638381958007812\n"
     ]
    },
    {
     "name": "stderr",
     "output_type": "stream",
     "text": [
      "\n",
      " 11%|████▍                                   | 112/1000 [00:09<01:18, 11.37it/s]\u001b[A\n",
      " 11%|████▌                                   | 114/1000 [00:09<01:16, 11.53it/s]\u001b[A"
     ]
    },
    {
     "name": "stdout",
     "output_type": "stream",
     "text": [
      "0.08461761474609375\n",
      "0.08470964431762695\n",
      "0.0821998119354248\n"
     ]
    },
    {
     "name": "stderr",
     "output_type": "stream",
     "text": [
      "\n",
      " 12%|████▋                                   | 116/1000 [00:10<01:16, 11.54it/s]\u001b[A"
     ]
    },
    {
     "name": "stdout",
     "output_type": "stream",
     "text": [
      "0.08939337730407715\n",
      "0.08258581161499023\n",
      "0.0857396125793457\n"
     ]
    },
    {
     "name": "stderr",
     "output_type": "stream",
     "text": [
      "\n",
      " 12%|████▋                                   | 118/1000 [00:10<01:16, 11.59it/s]\u001b[A\n",
      " 12%|████▊                                   | 120/1000 [00:10<01:16, 11.48it/s]\u001b[A"
     ]
    },
    {
     "name": "stdout",
     "output_type": "stream",
     "text": [
      "0.08437705039978027\n",
      "0.08862066268920898\n",
      "0.08825111389160156\n"
     ]
    },
    {
     "name": "stderr",
     "output_type": "stream",
     "text": [
      "\n",
      " 12%|████▉                                   | 122/1000 [00:10<01:17, 11.37it/s]\u001b[A"
     ]
    },
    {
     "name": "stdout",
     "output_type": "stream",
     "text": [
      "0.09128236770629883\n",
      "0.08711385726928711\n",
      "0.08620476722717285\n"
     ]
    },
    {
     "name": "stderr",
     "output_type": "stream",
     "text": [
      "\n",
      " 12%|████▉                                   | 124/1000 [00:10<01:16, 11.44it/s]\u001b[A\n",
      " 13%|█████                                   | 126/1000 [00:10<01:16, 11.37it/s]\u001b[A"
     ]
    },
    {
     "name": "stdout",
     "output_type": "stream",
     "text": [
      "0.08501768112182617\n",
      "0.08986091613769531\n",
      "0.08748888969421387\n"
     ]
    },
    {
     "name": "stderr",
     "output_type": "stream",
     "text": [
      "\n",
      " 13%|█████                                   | 128/1000 [00:11<01:16, 11.38it/s]\u001b[A"
     ]
    },
    {
     "name": "stdout",
     "output_type": "stream",
     "text": [
      "0.0904238224029541\n",
      "0.08318305015563965\n",
      "0.08707237243652344\n"
     ]
    },
    {
     "name": "stderr",
     "output_type": "stream",
     "text": [
      "\n",
      " 13%|█████▏                                  | 130/1000 [00:11<01:16, 11.35it/s]\u001b[A\n",
      " 13%|█████▎                                  | 132/1000 [00:11<01:15, 11.45it/s]\u001b[A"
     ]
    },
    {
     "name": "stdout",
     "output_type": "stream",
     "text": [
      "0.0892798900604248\n",
      "0.08566689491271973\n",
      "0.08435845375061035\n"
     ]
    },
    {
     "name": "stderr",
     "output_type": "stream",
     "text": [
      "\n",
      " 13%|█████▎                                  | 134/1000 [00:11<01:16, 11.37it/s]\u001b[A"
     ]
    },
    {
     "name": "stdout",
     "output_type": "stream",
     "text": [
      "0.08945083618164062\n",
      "0.08832550048828125\n",
      "0.08902740478515625\n"
     ]
    },
    {
     "name": "stderr",
     "output_type": "stream",
     "text": [
      "\n",
      " 14%|█████▍                                  | 136/1000 [00:11<01:16, 11.33it/s]\u001b[A\n",
      " 14%|█████▌                                  | 138/1000 [00:11<01:14, 11.51it/s]\u001b[A"
     ]
    },
    {
     "name": "stdout",
     "output_type": "stream",
     "text": [
      "0.08721661567687988\n",
      "0.08428478240966797\n",
      "0.08225655555725098\n"
     ]
    },
    {
     "name": "stderr",
     "output_type": "stream",
     "text": [
      "\n",
      " 14%|█████▌                                  | 140/1000 [00:12<01:15, 11.41it/s]\u001b[A"
     ]
    },
    {
     "name": "stdout",
     "output_type": "stream",
     "text": [
      "0.08862590789794922\n",
      "0.08902168273925781\n",
      "0.08851122856140137\n"
     ]
    },
    {
     "name": "stderr",
     "output_type": "stream",
     "text": [
      "\n",
      " 14%|█████▋                                  | 142/1000 [00:12<01:15, 11.34it/s]\u001b[A\n",
      " 14%|█████▊                                  | 144/1000 [00:12<01:14, 11.49it/s]\u001b[A"
     ]
    },
    {
     "name": "stdout",
     "output_type": "stream",
     "text": [
      "0.08890461921691895\n",
      "0.08521628379821777\n",
      "0.08196711540222168\n"
     ]
    },
    {
     "name": "stderr",
     "output_type": "stream",
     "text": [
      "\n",
      " 15%|█████▊                                  | 146/1000 [00:12<01:13, 11.55it/s]\u001b[A"
     ]
    },
    {
     "name": "stdout",
     "output_type": "stream",
     "text": [
      "0.08783459663391113\n",
      "0.08237528800964355\n",
      "0.08799505233764648\n"
     ]
    },
    {
     "name": "stderr",
     "output_type": "stream",
     "text": [
      "\n",
      " 15%|█████▉                                  | 148/1000 [00:12<01:13, 11.53it/s]\u001b[A\n",
      " 15%|██████                                  | 150/1000 [00:13<01:13, 11.62it/s]\u001b[A"
     ]
    },
    {
     "name": "stdout",
     "output_type": "stream",
     "text": [
      "0.0849604606628418\n",
      "0.08603072166442871\n",
      "0.08213043212890625\n"
     ]
    },
    {
     "name": "stderr",
     "output_type": "stream",
     "text": [
      "\n",
      " 15%|██████                                  | 152/1000 [00:13<01:12, 11.63it/s]\u001b[A"
     ]
    },
    {
     "name": "stdout",
     "output_type": "stream",
     "text": [
      "0.08849406242370605\n",
      "0.08210062980651855\n",
      "0.08494758605957031\n"
     ]
    },
    {
     "name": "stderr",
     "output_type": "stream",
     "text": [
      "\n",
      " 15%|██████▏                                 | 154/1000 [00:13<01:12, 11.67it/s]\u001b[A\n",
      " 16%|██████▏                                 | 156/1000 [00:13<01:12, 11.69it/s]\u001b[A"
     ]
    },
    {
     "name": "stdout",
     "output_type": "stream",
     "text": [
      "0.08415412902832031\n",
      "0.08774089813232422\n",
      "0.08150172233581543\n"
     ]
    },
    {
     "name": "stderr",
     "output_type": "stream",
     "text": [
      "\n",
      " 16%|██████▎                                 | 158/1000 [00:13<01:12, 11.68it/s]\u001b[A"
     ]
    },
    {
     "name": "stdout",
     "output_type": "stream",
     "text": [
      "0.08815360069274902\n",
      "0.08234953880310059\n",
      "0.08848714828491211\n"
     ]
    },
    {
     "name": "stderr",
     "output_type": "stream",
     "text": [
      "\n",
      " 16%|██████▍                                 | 160/1000 [00:13<01:12, 11.63it/s]\u001b[A\n",
      " 16%|██████▍                                 | 162/1000 [00:14<01:11, 11.72it/s]\u001b[A"
     ]
    },
    {
     "name": "stdout",
     "output_type": "stream",
     "text": [
      "0.08422565460205078\n",
      "0.08418631553649902\n",
      "0.08227705955505371\n"
     ]
    },
    {
     "name": "stderr",
     "output_type": "stream",
     "text": [
      "\n",
      " 16%|██████▌                                 | 164/1000 [00:14<01:12, 11.51it/s]\u001b[A"
     ]
    },
    {
     "name": "stdout",
     "output_type": "stream",
     "text": [
      "0.09140825271606445\n",
      "0.08861970901489258\n",
      "0.08858513832092285\n"
     ]
    },
    {
     "name": "stderr",
     "output_type": "stream",
     "text": [
      "\n",
      " 17%|██████▋                                 | 166/1000 [00:14<01:12, 11.44it/s]\u001b[A\n",
      " 17%|██████▋                                 | 168/1000 [00:14<01:12, 11.52it/s]\u001b[A"
     ]
    },
    {
     "name": "stdout",
     "output_type": "stream",
     "text": [
      "0.08720040321350098\n",
      "0.08746910095214844\n",
      "0.08243966102600098\n"
     ]
    },
    {
     "name": "stderr",
     "output_type": "stream",
     "text": [
      "\n",
      " 17%|██████▊                                 | 170/1000 [00:14<01:11, 11.55it/s]\u001b[A"
     ]
    },
    {
     "name": "stdout",
     "output_type": "stream",
     "text": [
      "0.08769989013671875\n",
      "0.08325481414794922\n",
      "0.08569049835205078\n"
     ]
    },
    {
     "name": "stderr",
     "output_type": "stream",
     "text": [
      "\n",
      " 17%|██████▉                                 | 172/1000 [00:14<01:11, 11.59it/s]\u001b[A\n",
      " 17%|██████▉                                 | 174/1000 [00:15<01:10, 11.67it/s]\u001b[A"
     ]
    },
    {
     "name": "stdout",
     "output_type": "stream",
     "text": [
      "0.0845491886138916\n",
      "0.08579230308532715\n",
      "0.08174467086791992\n"
     ]
    },
    {
     "name": "stderr",
     "output_type": "stream",
     "text": [
      "\n",
      " 18%|███████                                 | 176/1000 [00:15<01:10, 11.68it/s]\u001b[A"
     ]
    },
    {
     "name": "stdout",
     "output_type": "stream",
     "text": [
      "0.08753705024719238\n",
      "0.08221578598022461\n",
      "0.0853586196899414\n"
     ]
    },
    {
     "name": "stderr",
     "output_type": "stream",
     "text": [
      "\n",
      " 18%|███████                                 | 178/1000 [00:15<01:10, 11.70it/s]\u001b[A\n",
      " 18%|███████▏                                | 180/1000 [00:15<01:10, 11.71it/s]\u001b[A"
     ]
    },
    {
     "name": "stdout",
     "output_type": "stream",
     "text": [
      "0.08392333984375\n",
      "0.08732843399047852\n",
      "0.08216691017150879\n"
     ]
    },
    {
     "name": "stderr",
     "output_type": "stream",
     "text": [
      "\n",
      " 18%|███████▎                                | 182/1000 [00:15<01:09, 11.72it/s]\u001b[A"
     ]
    },
    {
     "name": "stdout",
     "output_type": "stream",
     "text": [
      "0.0875387191772461\n",
      "0.08190703392028809\n",
      "0.08783721923828125\n"
     ]
    },
    {
     "name": "stderr",
     "output_type": "stream",
     "text": [
      "\n",
      " 18%|███████▎                                | 184/1000 [00:15<01:09, 11.66it/s]\u001b[A\n",
      " 19%|███████▍                                | 186/1000 [00:16<01:09, 11.75it/s]\u001b[A"
     ]
    },
    {
     "name": "stdout",
     "output_type": "stream",
     "text": [
      "0.08462405204772949\n",
      "0.0843358039855957\n",
      "0.0819556713104248\n"
     ]
    },
    {
     "name": "stderr",
     "output_type": "stream",
     "text": [
      "\n",
      " 19%|███████▌                                | 188/1000 [00:16<01:09, 11.73it/s]\u001b[A"
     ]
    },
    {
     "name": "stdout",
     "output_type": "stream",
     "text": [
      "0.08771872520446777\n",
      "0.08251953125\n",
      "0.08697676658630371\n"
     ]
    },
    {
     "name": "stderr",
     "output_type": "stream",
     "text": [
      "\n",
      " 19%|███████▌                                | 190/1000 [00:16<01:09, 11.69it/s]\u001b[A\n",
      " 19%|███████▋                                | 192/1000 [00:16<01:09, 11.65it/s]\u001b[A"
     ]
    },
    {
     "name": "stdout",
     "output_type": "stream",
     "text": [
      "0.08437132835388184\n",
      "0.08977317810058594\n",
      "0.08222246170043945\n"
     ]
    },
    {
     "name": "stderr",
     "output_type": "stream",
     "text": [
      "\n",
      " 19%|███████▊                                | 194/1000 [00:16<01:09, 11.66it/s]\u001b[A"
     ]
    },
    {
     "name": "stdout",
     "output_type": "stream",
     "text": [
      "0.0878591537475586\n",
      "0.08250021934509277\n",
      "0.08707380294799805\n"
     ]
    },
    {
     "name": "stderr",
     "output_type": "stream",
     "text": [
      "\n",
      " 20%|███████▊                                | 196/1000 [00:16<01:09, 11.64it/s]\u001b[A\n",
      " 20%|███████▉                                | 198/1000 [00:17<01:08, 11.66it/s]\u001b[A"
     ]
    },
    {
     "name": "stdout",
     "output_type": "stream",
     "text": [
      "0.08423614501953125\n",
      "0.08765101432800293\n",
      "0.08205485343933105\n"
     ]
    },
    {
     "name": "stderr",
     "output_type": "stream",
     "text": [
      "\n",
      " 20%|████████                                | 200/1000 [00:17<01:08, 11.65it/s]\u001b[A"
     ]
    },
    {
     "name": "stdout",
     "output_type": "stream",
     "text": [
      "0.08872818946838379\n",
      "0.08225154876708984\n",
      "0.08791875839233398\n"
     ]
    },
    {
     "name": "stderr",
     "output_type": "stream",
     "text": [
      "\n",
      " 20%|████████                                | 202/1000 [00:17<01:08, 11.62it/s]\u001b[A\n",
      " 20%|████████▏                               | 204/1000 [00:17<01:08, 11.68it/s]\u001b[A"
     ]
    },
    {
     "name": "stdout",
     "output_type": "stream",
     "text": [
      "0.08441686630249023\n",
      "0.08553647994995117\n",
      "0.0821690559387207\n"
     ]
    },
    {
     "name": "stderr",
     "output_type": "stream",
     "text": [
      "\n",
      " 21%|████████▏                               | 206/1000 [00:17<01:08, 11.67it/s]\u001b[A"
     ]
    },
    {
     "name": "stdout",
     "output_type": "stream",
     "text": [
      "0.08775448799133301\n",
      "0.08296084403991699\n",
      "0.08728384971618652\n"
     ]
    },
    {
     "name": "stderr",
     "output_type": "stream",
     "text": [
      "\n",
      " 21%|████████▎                               | 208/1000 [00:18<01:08, 11.64it/s]\u001b[A\n",
      " 21%|████████▍                               | 210/1000 [00:18<01:07, 11.67it/s]\u001b[A"
     ]
    },
    {
     "name": "stdout",
     "output_type": "stream",
     "text": [
      "0.08486318588256836\n",
      "0.08710575103759766\n",
      "0.0818324089050293\n",
      "0.08784794807434082\n"
     ]
    },
    {
     "name": "stderr",
     "output_type": "stream",
     "text": [
      "\n",
      " 21%|████████▍                               | 212/1000 [00:18<01:25,  9.22it/s]\u001b[A\n",
      " 21%|████████▌                               | 214/1000 [00:18<01:19,  9.86it/s]\u001b[A"
     ]
    },
    {
     "name": "stdout",
     "output_type": "stream",
     "text": [
      "0.23405909538269043\n",
      "0.08701324462890625\n",
      "0.08217167854309082\n"
     ]
    },
    {
     "name": "stderr",
     "output_type": "stream",
     "text": [
      "\n",
      " 22%|████████▋                               | 216/1000 [00:18<01:15, 10.33it/s]\u001b[A"
     ]
    },
    {
     "name": "stdout",
     "output_type": "stream",
     "text": [
      "0.08763289451599121\n",
      "0.0832512378692627\n",
      "0.08574557304382324\n"
     ]
    },
    {
     "name": "stderr",
     "output_type": "stream",
     "text": [
      "\n",
      " 22%|████████▋                               | 218/1000 [00:19<01:13, 10.71it/s]\u001b[A\n",
      " 22%|████████▊                               | 220/1000 [00:19<01:10, 11.04it/s]\u001b[A"
     ]
    },
    {
     "name": "stdout",
     "output_type": "stream",
     "text": [
      "0.08427309989929199\n",
      "0.08482122421264648\n",
      "0.08220958709716797\n"
     ]
    },
    {
     "name": "stderr",
     "output_type": "stream",
     "text": [
      "\n",
      " 22%|████████▉                               | 222/1000 [00:19<01:09, 11.22it/s]\u001b[A"
     ]
    },
    {
     "name": "stdout",
     "output_type": "stream",
     "text": [
      "0.088165283203125\n",
      "0.08235359191894531\n",
      "0.08804750442504883\n"
     ]
    },
    {
     "name": "stderr",
     "output_type": "stream",
     "text": [
      "\n",
      " 22%|████████▉                               | 224/1000 [00:19<01:08, 11.30it/s]\u001b[A\n",
      " 23%|█████████                               | 226/1000 [00:19<01:07, 11.49it/s]\u001b[A"
     ]
    },
    {
     "name": "stdout",
     "output_type": "stream",
     "text": [
      "0.08471465110778809\n",
      "0.08458375930786133\n",
      "0.08193588256835938\n"
     ]
    },
    {
     "name": "stderr",
     "output_type": "stream",
     "text": [
      "\n",
      " 23%|█████████                               | 228/1000 [00:19<01:06, 11.53it/s]\u001b[A"
     ]
    },
    {
     "name": "stdout",
     "output_type": "stream",
     "text": [
      "0.08760285377502441\n",
      "0.08318138122558594\n",
      "0.0867304801940918\n"
     ]
    },
    {
     "name": "stderr",
     "output_type": "stream",
     "text": [
      "\n",
      " 23%|█████████▏                              | 230/1000 [00:20<01:06, 11.55it/s]\u001b[A\n",
      " 23%|█████████▎                              | 232/1000 [00:20<01:06, 11.60it/s]\u001b[A"
     ]
    },
    {
     "name": "stdout",
     "output_type": "stream",
     "text": [
      "0.08450627326965332\n",
      "0.08750462532043457\n",
      "0.08221101760864258\n"
     ]
    },
    {
     "name": "stderr",
     "output_type": "stream",
     "text": [
      "\n",
      " 23%|█████████▎                              | 234/1000 [00:20<01:05, 11.62it/s]\u001b[A"
     ]
    },
    {
     "name": "stdout",
     "output_type": "stream",
     "text": [
      "0.08853626251220703\n",
      "0.08187127113342285\n",
      "0.08538961410522461\n"
     ]
    },
    {
     "name": "stderr",
     "output_type": "stream",
     "text": [
      "\n",
      " 24%|█████████▍                              | 236/1000 [00:20<01:05, 11.66it/s]\u001b[A\n",
      " 24%|█████████▌                              | 238/1000 [00:20<01:04, 11.74it/s]\u001b[A"
     ]
    },
    {
     "name": "stdout",
     "output_type": "stream",
     "text": [
      "0.08391737937927246\n",
      "0.08441543579101562\n",
      "0.08208298683166504\n"
     ]
    },
    {
     "name": "stderr",
     "output_type": "stream",
     "text": [
      "\n",
      " 24%|█████████▌                              | 240/1000 [00:20<01:05, 11.68it/s]\u001b[A"
     ]
    },
    {
     "name": "stdout",
     "output_type": "stream",
     "text": [
      "0.08946633338928223\n",
      "0.0826866626739502\n",
      "0.08401060104370117\n"
     ]
    },
    {
     "name": "stderr",
     "output_type": "stream",
     "text": [
      "\n",
      " 24%|█████████▋                              | 242/1000 [00:21<01:04, 11.72it/s]\u001b[A\n",
      " 24%|█████████▊                              | 244/1000 [00:21<01:04, 11.68it/s]\u001b[A"
     ]
    },
    {
     "name": "stdout",
     "output_type": "stream",
     "text": [
      "0.08443975448608398\n",
      "0.0847015380859375\n",
      "0.08657550811767578\n"
     ]
    },
    {
     "name": "stderr",
     "output_type": "stream",
     "text": [
      "\n",
      " 25%|█████████▊                              | 246/1000 [00:21<01:05, 11.49it/s]\u001b[A"
     ]
    },
    {
     "name": "stdout",
     "output_type": "stream",
     "text": [
      "0.0901796817779541\n",
      "0.08898663520812988\n",
      "0.08719229698181152\n"
     ]
    },
    {
     "name": "stderr",
     "output_type": "stream",
     "text": [
      "\n",
      " 25%|█████████▉                              | 248/1000 [00:21<01:05, 11.48it/s]\u001b[A\n",
      " 25%|██████████                              | 250/1000 [00:21<01:05, 11.41it/s]\u001b[A"
     ]
    },
    {
     "name": "stdout",
     "output_type": "stream",
     "text": [
      "0.08624911308288574\n",
      "0.08854198455810547\n",
      "0.08799195289611816\n"
     ]
    },
    {
     "name": "stderr",
     "output_type": "stream",
     "text": [
      "\n",
      " 25%|██████████                              | 252/1000 [00:21<01:05, 11.38it/s]\u001b[A"
     ]
    },
    {
     "name": "stdout",
     "output_type": "stream",
     "text": [
      "0.09286236763000488\n",
      "0.08272051811218262\n",
      "0.08869051933288574\n"
     ]
    },
    {
     "name": "stderr",
     "output_type": "stream",
     "text": [
      "\n",
      " 25%|██████████▏                             | 254/1000 [00:22<01:05, 11.31it/s]\u001b[A\n",
      " 26%|██████████▏                             | 256/1000 [00:22<01:05, 11.35it/s]\u001b[A"
     ]
    },
    {
     "name": "stdout",
     "output_type": "stream",
     "text": [
      "0.08929014205932617\n",
      "0.09046649932861328\n",
      "0.08316946029663086\n"
     ]
    },
    {
     "name": "stderr",
     "output_type": "stream",
     "text": [
      "\n",
      " 26%|██████████▎                             | 258/1000 [00:22<01:05, 11.26it/s]\u001b[A"
     ]
    },
    {
     "name": "stdout",
     "output_type": "stream",
     "text": [
      "0.09109354019165039\n",
      "0.08892583847045898\n",
      "0.08888936042785645\n"
     ]
    },
    {
     "name": "stderr",
     "output_type": "stream",
     "text": [
      "\n",
      " 26%|██████████▍                             | 260/1000 [00:22<01:05, 11.26it/s]\u001b[A\n",
      " 26%|██████████▍                             | 262/1000 [00:22<01:05, 11.22it/s]\u001b[A"
     ]
    },
    {
     "name": "stdout",
     "output_type": "stream",
     "text": [
      "0.08716487884521484\n",
      "0.08994197845458984\n",
      "0.0883796215057373\n"
     ]
    },
    {
     "name": "stderr",
     "output_type": "stream",
     "text": [
      "\n",
      " 26%|██████████▌                             | 264/1000 [00:23<01:05, 11.31it/s]\u001b[A"
     ]
    },
    {
     "name": "stdout",
     "output_type": "stream",
     "text": [
      "0.08990597724914551\n",
      "0.0827188491821289\n",
      "0.09007811546325684\n"
     ]
    },
    {
     "name": "stderr",
     "output_type": "stream",
     "text": [
      "\n",
      " 27%|██████████▋                             | 266/1000 [00:23<01:05, 11.23it/s]\u001b[A\n",
      " 27%|██████████▋                             | 268/1000 [00:23<01:04, 11.35it/s]\u001b[A"
     ]
    },
    {
     "name": "stdout",
     "output_type": "stream",
     "text": [
      "0.08974671363830566\n",
      "0.08843755722045898\n",
      "0.08214354515075684\n"
     ]
    },
    {
     "name": "stderr",
     "output_type": "stream",
     "text": [
      "\n",
      " 27%|██████████▊                             | 270/1000 [00:23<01:04, 11.25it/s]\u001b[A"
     ]
    },
    {
     "name": "stdout",
     "output_type": "stream",
     "text": [
      "0.09068560600280762\n",
      "0.08994197845458984\n",
      "0.08986663818359375\n"
     ]
    },
    {
     "name": "stderr",
     "output_type": "stream",
     "text": [
      "\n",
      " 27%|██████████▉                             | 272/1000 [00:23<01:04, 11.23it/s]\u001b[A\n",
      " 27%|██████████▉                             | 274/1000 [00:23<01:04, 11.24it/s]\u001b[A"
     ]
    },
    {
     "name": "stdout",
     "output_type": "stream",
     "text": [
      "0.08746194839477539\n",
      "0.08761215209960938\n",
      "0.08895015716552734\n"
     ]
    },
    {
     "name": "stderr",
     "output_type": "stream",
     "text": [
      "\n",
      " 28%|███████████                             | 276/1000 [00:24<01:04, 11.20it/s]\u001b[A"
     ]
    },
    {
     "name": "stdout",
     "output_type": "stream",
     "text": [
      "0.09146761894226074\n",
      "0.08739328384399414\n",
      "0.08754777908325195\n"
     ]
    },
    {
     "name": "stderr",
     "output_type": "stream",
     "text": [
      "\n",
      " 28%|███████████                             | 278/1000 [00:24<01:03, 11.29it/s]\u001b[A\n",
      " 28%|███████████▏                            | 280/1000 [00:24<01:03, 11.27it/s]\u001b[A"
     ]
    },
    {
     "name": "stdout",
     "output_type": "stream",
     "text": [
      "0.0849301815032959\n",
      "0.08837223052978516\n",
      "0.08878970146179199\n"
     ]
    },
    {
     "name": "stderr",
     "output_type": "stream",
     "text": [
      "\n",
      " 28%|███████████▎                            | 282/1000 [00:24<01:03, 11.29it/s]\u001b[A"
     ]
    },
    {
     "name": "stdout",
     "output_type": "stream",
     "text": [
      "0.09009170532226562\n",
      "0.08522939682006836\n",
      "0.08608579635620117\n"
     ]
    },
    {
     "name": "stderr",
     "output_type": "stream",
     "text": [
      "\n",
      " 28%|███████████▎                            | 284/1000 [00:24<01:03, 11.33it/s]\u001b[A\n",
      " 29%|███████████▍                            | 286/1000 [00:24<01:03, 11.28it/s]\u001b[A"
     ]
    },
    {
     "name": "stdout",
     "output_type": "stream",
     "text": [
      "0.08745241165161133\n",
      "0.08939766883850098\n",
      "0.08825421333312988\n"
     ]
    },
    {
     "name": "stderr",
     "output_type": "stream",
     "text": [
      "\n",
      " 29%|███████████▌                            | 288/1000 [00:25<01:02, 11.39it/s]\u001b[A"
     ]
    },
    {
     "name": "stdout",
     "output_type": "stream",
     "text": [
      "0.08759450912475586\n",
      "0.08266663551330566\n",
      "0.08601641654968262\n"
     ]
    },
    {
     "name": "stderr",
     "output_type": "stream",
     "text": [
      "\n",
      " 29%|███████████▌                            | 290/1000 [00:25<01:02, 11.38it/s]\u001b[A\n",
      " 29%|███████████▋                            | 292/1000 [00:25<01:02, 11.30it/s]\u001b[A"
     ]
    },
    {
     "name": "stdout",
     "output_type": "stream",
     "text": [
      "0.08870220184326172\n",
      "0.09030365943908691\n",
      "0.08836817741394043\n"
     ]
    },
    {
     "name": "stderr",
     "output_type": "stream",
     "text": [
      "\n",
      " 29%|███████████▊                            | 294/1000 [00:25<01:01, 11.41it/s]\u001b[A"
     ]
    },
    {
     "name": "stdout",
     "output_type": "stream",
     "text": [
      "0.08751559257507324\n",
      "0.08205270767211914\n",
      "0.09008598327636719\n"
     ]
    },
    {
     "name": "stderr",
     "output_type": "stream",
     "text": [
      "\n",
      " 30%|███████████▊                            | 296/1000 [00:25<01:02, 11.29it/s]\u001b[A\n",
      " 30%|███████████▉                            | 298/1000 [00:26<01:02, 11.30it/s]\u001b[A"
     ]
    },
    {
     "name": "stdout",
     "output_type": "stream",
     "text": [
      "0.09024834632873535\n",
      "0.08977651596069336\n",
      "0.0856478214263916\n"
     ]
    },
    {
     "name": "stderr",
     "output_type": "stream",
     "text": [
      "\n",
      " 30%|████████████                            | 300/1000 [00:26<01:01, 11.38it/s]\u001b[A"
     ]
    },
    {
     "name": "stdout",
     "output_type": "stream",
     "text": [
      "0.08707380294799805\n",
      "0.08486032485961914\n",
      "0.08955645561218262\n"
     ]
    },
    {
     "name": "stderr",
     "output_type": "stream",
     "text": [
      "\n",
      " 30%|████████████                            | 302/1000 [00:26<01:01, 11.30it/s]\u001b[A\n",
      " 30%|████████████▏                           | 304/1000 [00:26<01:01, 11.41it/s]\u001b[A"
     ]
    },
    {
     "name": "stdout",
     "output_type": "stream",
     "text": [
      "0.08902764320373535\n",
      "0.08800768852233887\n",
      "0.08210611343383789\n"
     ]
    },
    {
     "name": "stderr",
     "output_type": "stream",
     "text": [
      "\n",
      " 31%|████████████▏                           | 306/1000 [00:26<01:01, 11.32it/s]\u001b[A"
     ]
    },
    {
     "name": "stdout",
     "output_type": "stream",
     "text": [
      "0.09076833724975586\n",
      "0.08805966377258301\n",
      "0.08887481689453125\n"
     ]
    },
    {
     "name": "stderr",
     "output_type": "stream",
     "text": [
      "\n",
      " 31%|████████████▎                           | 308/1000 [00:26<01:01, 11.32it/s]\u001b[A\n",
      " 31%|████████████▍                           | 310/1000 [00:27<01:00, 11.36it/s]\u001b[A"
     ]
    },
    {
     "name": "stdout",
     "output_type": "stream",
     "text": [
      "0.08610367774963379\n",
      "0.08465242385864258\n",
      "0.0889577865600586\n"
     ]
    },
    {
     "name": "stderr",
     "output_type": "stream",
     "text": [
      "\n",
      " 31%|████████████▍                           | 312/1000 [00:27<01:00, 11.31it/s]\u001b[A"
     ]
    },
    {
     "name": "stdout",
     "output_type": "stream",
     "text": [
      "0.0909891128540039\n",
      "0.08618330955505371\n",
      "0.08812499046325684\n"
     ]
    },
    {
     "name": "stderr",
     "output_type": "stream",
     "text": [
      "\n",
      " 31%|████████████▌                           | 314/1000 [00:27<01:00, 11.34it/s]\u001b[A\n",
      " 32%|████████████▋                           | 316/1000 [00:27<01:01, 11.08it/s]\u001b[A"
     ]
    },
    {
     "name": "stdout",
     "output_type": "stream",
     "text": [
      "0.0863332748413086\n",
      "0.09704208374023438\n",
      "0.09144759178161621\n"
     ]
    },
    {
     "name": "stderr",
     "output_type": "stream",
     "text": [
      "\n",
      " 32%|████████████▋                           | 318/1000 [00:27<01:01, 11.09it/s]\u001b[A"
     ]
    },
    {
     "name": "stdout",
     "output_type": "stream",
     "text": [
      "0.09524774551391602\n",
      "0.08338522911071777\n",
      "0.0961904525756836\n"
     ]
    },
    {
     "name": "stderr",
     "output_type": "stream",
     "text": [
      "\n",
      " 32%|████████████▊                           | 320/1000 [00:27<01:02, 10.90it/s]\u001b[A\n",
      " 32%|████████████▉                           | 322/1000 [00:28<01:01, 11.03it/s]\u001b[A"
     ]
    },
    {
     "name": "stdout",
     "output_type": "stream",
     "text": [
      "0.0934607982635498\n",
      "0.09273624420166016\n",
      "0.0820760726928711\n"
     ]
    },
    {
     "name": "stderr",
     "output_type": "stream",
     "text": [
      "\n",
      " 32%|████████████▉                           | 324/1000 [00:28<01:02, 10.89it/s]\u001b[A"
     ]
    },
    {
     "name": "stdout",
     "output_type": "stream",
     "text": [
      "0.0965738296508789\n",
      "0.09142661094665527\n",
      "0.09254217147827148\n"
     ]
    },
    {
     "name": "stderr",
     "output_type": "stream",
     "text": [
      "\n",
      " 33%|█████████████                           | 326/1000 [00:28<01:01, 10.91it/s]\u001b[A\n",
      " 33%|█████████████                           | 328/1000 [00:28<01:00, 11.07it/s]\u001b[A"
     ]
    },
    {
     "name": "stdout",
     "output_type": "stream",
     "text": [
      "0.08872556686401367\n",
      "0.09029603004455566\n",
      "0.08316326141357422\n"
     ]
    },
    {
     "name": "stderr",
     "output_type": "stream",
     "text": [
      "\n",
      " 33%|█████████████▏                          | 330/1000 [00:28<01:00, 10.99it/s]\u001b[A"
     ]
    },
    {
     "name": "stdout",
     "output_type": "stream",
     "text": [
      "0.09432101249694824\n",
      "0.08894491195678711\n",
      "0.08685684204101562\n"
     ]
    },
    {
     "name": "stderr",
     "output_type": "stream",
     "text": [
      "\n",
      " 33%|█████████████▎                          | 332/1000 [00:29<00:59, 11.15it/s]\u001b[A\n",
      " 33%|█████████████▎                          | 334/1000 [00:29<00:59, 11.13it/s]\u001b[A"
     ]
    },
    {
     "name": "stdout",
     "output_type": "stream",
     "text": [
      "0.08501148223876953\n",
      "0.08812570571899414\n",
      "0.09121131896972656\n"
     ]
    },
    {
     "name": "stderr",
     "output_type": "stream",
     "text": [
      "\n",
      " 34%|█████████████▍                          | 336/1000 [00:29<01:00, 11.03it/s]\u001b[A"
     ]
    },
    {
     "name": "stdout",
     "output_type": "stream",
     "text": [
      "0.09472441673278809\n",
      "0.08935332298278809\n",
      "0.09143185615539551\n"
     ]
    },
    {
     "name": "stderr",
     "output_type": "stream",
     "text": [
      "\n",
      " 34%|█████████████▌                          | 338/1000 [00:29<00:59, 11.06it/s]\u001b[A\n",
      " 34%|█████████████▌                          | 340/1000 [00:29<00:59, 11.01it/s]\u001b[A"
     ]
    },
    {
     "name": "stdout",
     "output_type": "stream",
     "text": [
      "0.08714461326599121\n",
      "0.09404110908508301\n",
      "0.08854103088378906\n"
     ]
    },
    {
     "name": "stderr",
     "output_type": "stream",
     "text": [
      "\n",
      " 34%|█████████████▋                          | 342/1000 [00:29<00:59, 11.15it/s]\u001b[A"
     ]
    },
    {
     "name": "stdout",
     "output_type": "stream",
     "text": [
      "0.09041547775268555\n",
      "0.08235645294189453\n",
      "0.08962035179138184\n"
     ]
    },
    {
     "name": "stderr",
     "output_type": "stream",
     "text": [
      "\n",
      " 34%|█████████████▊                          | 344/1000 [00:30<00:58, 11.12it/s]\u001b[A\n",
      " 35%|█████████████▊                          | 346/1000 [00:30<00:59, 10.98it/s]\u001b[A"
     ]
    },
    {
     "name": "stdout",
     "output_type": "stream",
     "text": [
      "0.09032416343688965\n",
      "0.09510445594787598\n",
      "0.09085988998413086\n"
     ]
    },
    {
     "name": "stderr",
     "output_type": "stream",
     "text": [
      "\n",
      " 35%|█████████████▉                          | 348/1000 [00:30<00:58, 11.17it/s]\u001b[A"
     ]
    },
    {
     "name": "stdout",
     "output_type": "stream",
     "text": [
      "0.08976864814758301\n",
      "0.08095002174377441\n",
      "0.09088444709777832\n"
     ]
    },
    {
     "name": "stderr",
     "output_type": "stream",
     "text": [
      "\n",
      " 35%|██████████████                          | 350/1000 [00:30<00:58, 11.04it/s]\u001b[A\n",
      " 35%|██████████████                          | 352/1000 [00:30<00:58, 11.04it/s]\u001b[A"
     ]
    },
    {
     "name": "stdout",
     "output_type": "stream",
     "text": [
      "0.09410619735717773\n",
      "0.09345722198486328\n",
      "0.08632349967956543\n"
     ]
    },
    {
     "name": "stderr",
     "output_type": "stream",
     "text": [
      "\n",
      " 35%|██████████████▏                         | 354/1000 [00:31<00:57, 11.20it/s]\u001b[A"
     ]
    },
    {
     "name": "stdout",
     "output_type": "stream",
     "text": [
      "0.09059906005859375\n",
      "0.08045268058776855\n",
      "0.0924229621887207\n"
     ]
    },
    {
     "name": "stderr",
     "output_type": "stream",
     "text": [
      "\n",
      " 36%|██████████████▏                         | 356/1000 [00:31<00:58, 11.08it/s]\u001b[A\n",
      " 36%|██████████████▎                         | 358/1000 [00:31<00:57, 11.15it/s]\u001b[A"
     ]
    },
    {
     "name": "stdout",
     "output_type": "stream",
     "text": [
      "0.09169197082519531\n",
      "0.08988642692565918\n",
      "0.08540225028991699\n"
     ]
    },
    {
     "name": "stderr",
     "output_type": "stream",
     "text": [
      "\n",
      " 36%|██████████████▍                         | 360/1000 [00:31<00:56, 11.34it/s]\u001b[A"
     ]
    },
    {
     "name": "stdout",
     "output_type": "stream",
     "text": [
      "0.08789944648742676\n",
      "0.08030533790588379\n",
      "0.08929228782653809\n"
     ]
    },
    {
     "name": "stderr",
     "output_type": "stream",
     "text": [
      "\n",
      " 36%|██████████████▍                         | 362/1000 [00:31<00:56, 11.27it/s]\u001b[A\n",
      " 36%|██████████████▌                         | 364/1000 [00:31<00:56, 11.35it/s]\u001b[A"
     ]
    },
    {
     "name": "stdout",
     "output_type": "stream",
     "text": [
      "0.08947038650512695\n",
      "0.08923649787902832\n",
      "0.08307456970214844\n"
     ]
    },
    {
     "name": "stderr",
     "output_type": "stream",
     "text": [
      "\n",
      " 37%|██████████████▋                         | 366/1000 [00:32<00:55, 11.48it/s]\u001b[A"
     ]
    },
    {
     "name": "stdout",
     "output_type": "stream",
     "text": [
      "0.08762025833129883\n",
      "0.08073019981384277\n",
      "0.09042787551879883\n"
     ]
    },
    {
     "name": "stderr",
     "output_type": "stream",
     "text": [
      "\n",
      " 37%|██████████████▋                         | 368/1000 [00:32<00:55, 11.33it/s]\u001b[A\n",
      " 37%|██████████████▊                         | 370/1000 [00:32<00:55, 11.35it/s]\u001b[A"
     ]
    },
    {
     "name": "stdout",
     "output_type": "stream",
     "text": [
      "0.09033918380737305\n",
      "0.0899190902709961\n",
      "0.0841989517211914\n"
     ]
    },
    {
     "name": "stderr",
     "output_type": "stream",
     "text": [
      "\n",
      " 37%|██████████████▉                         | 372/1000 [00:32<00:54, 11.43it/s]\u001b[A"
     ]
    },
    {
     "name": "stdout",
     "output_type": "stream",
     "text": [
      "0.0881807804107666\n",
      "0.08305621147155762\n",
      "0.0902552604675293\n"
     ]
    },
    {
     "name": "stderr",
     "output_type": "stream",
     "text": [
      "\n",
      " 37%|██████████████▉                         | 374/1000 [00:32<00:55, 11.29it/s]\u001b[A\n",
      " 38%|███████████████                         | 376/1000 [00:32<00:55, 11.34it/s]\u001b[A"
     ]
    },
    {
     "name": "stdout",
     "output_type": "stream",
     "text": [
      "0.09099268913269043\n",
      "0.08908963203430176\n",
      "0.08404064178466797\n"
     ]
    },
    {
     "name": "stderr",
     "output_type": "stream",
     "text": [
      "\n",
      " 38%|███████████████                         | 378/1000 [00:33<00:55, 11.30it/s]\u001b[A"
     ]
    },
    {
     "name": "stdout",
     "output_type": "stream",
     "text": [
      "0.08837366104125977\n",
      "0.08888697624206543\n",
      "0.0909125804901123\n"
     ]
    },
    {
     "name": "stderr",
     "output_type": "stream",
     "text": [
      "\n",
      " 38%|███████████████▏                        | 380/1000 [00:33<00:55, 11.14it/s]\u001b[A\n",
      " 38%|███████████████▎                        | 382/1000 [00:33<00:54, 11.31it/s]\u001b[A"
     ]
    },
    {
     "name": "stdout",
     "output_type": "stream",
     "text": [
      "0.09361934661865234\n",
      "0.08667373657226562\n",
      "0.08240485191345215\n"
     ]
    },
    {
     "name": "stderr",
     "output_type": "stream",
     "text": [
      "\n",
      " 38%|███████████████▎                        | 384/1000 [00:33<00:54, 11.22it/s]\u001b[A"
     ]
    },
    {
     "name": "stdout",
     "output_type": "stream",
     "text": [
      "0.09120368957519531\n",
      "0.08863472938537598\n",
      "0.08782839775085449\n"
     ]
    },
    {
     "name": "stderr",
     "output_type": "stream",
     "text": [
      "\n",
      " 39%|███████████████▍                        | 386/1000 [00:33<00:54, 11.28it/s]\u001b[A\n",
      " 39%|███████████████▌                        | 388/1000 [00:34<00:54, 11.25it/s]\u001b[A"
     ]
    },
    {
     "name": "stdout",
     "output_type": "stream",
     "text": [
      "0.0858759880065918\n",
      "0.08854436874389648\n",
      "0.08903264999389648\n"
     ]
    },
    {
     "name": "stderr",
     "output_type": "stream",
     "text": [
      "\n",
      " 39%|███████████████▌                        | 390/1000 [00:34<00:54, 11.20it/s]\u001b[A"
     ]
    },
    {
     "name": "stdout",
     "output_type": "stream",
     "text": [
      "0.0910642147064209\n",
      "0.08826684951782227\n",
      "0.08792400360107422\n"
     ]
    },
    {
     "name": "stderr",
     "output_type": "stream",
     "text": [
      "\n",
      " 39%|███████████████▋                        | 392/1000 [00:34<00:54, 11.22it/s]\u001b[A\n",
      " 39%|███████████████▊                        | 394/1000 [00:34<00:54, 11.17it/s]\u001b[A"
     ]
    },
    {
     "name": "stdout",
     "output_type": "stream",
     "text": [
      "0.0883030891418457\n",
      "0.09088468551635742\n",
      "0.08877897262573242\n"
     ]
    },
    {
     "name": "stderr",
     "output_type": "stream",
     "text": [
      "\n",
      " 40%|███████████████▊                        | 396/1000 [00:34<00:53, 11.31it/s]\u001b[A"
     ]
    },
    {
     "name": "stdout",
     "output_type": "stream",
     "text": [
      "0.08721709251403809\n",
      "0.08342599868774414\n",
      "0.0924685001373291\n"
     ]
    },
    {
     "name": "stderr",
     "output_type": "stream",
     "text": [
      "\n",
      " 40%|███████████████▉                        | 398/1000 [00:34<00:53, 11.16it/s]\u001b[A\n",
      " 40%|████████████████                        | 400/1000 [00:35<00:53, 11.16it/s]\u001b[A"
     ]
    },
    {
     "name": "stdout",
     "output_type": "stream",
     "text": [
      "0.09078431129455566\n",
      "0.09188103675842285\n",
      "0.08586788177490234\n"
     ]
    },
    {
     "name": "stderr",
     "output_type": "stream",
     "text": [
      "\n",
      " 40%|████████████████                        | 402/1000 [00:35<00:53, 11.17it/s]\u001b[A"
     ]
    },
    {
     "name": "stdout",
     "output_type": "stream",
     "text": [
      "0.08963489532470703\n",
      "0.08789801597595215\n",
      "0.09006404876708984\n"
     ]
    },
    {
     "name": "stderr",
     "output_type": "stream",
     "text": [
      "\n",
      " 40%|████████████████▏                       | 404/1000 [00:35<00:53, 11.10it/s]\u001b[A\n",
      " 41%|████████████████▏                       | 406/1000 [00:35<00:52, 11.31it/s]\u001b[A"
     ]
    },
    {
     "name": "stdout",
     "output_type": "stream",
     "text": [
      "0.09157872200012207\n",
      "0.08584880828857422\n",
      "0.08177900314331055\n"
     ]
    },
    {
     "name": "stderr",
     "output_type": "stream",
     "text": [
      "\n",
      " 41%|████████████████▎                       | 408/1000 [00:35<00:52, 11.20it/s]\u001b[A"
     ]
    },
    {
     "name": "stdout",
     "output_type": "stream",
     "text": [
      "0.09122014045715332\n",
      "0.09014201164245605\n",
      "0.08926057815551758\n"
     ]
    },
    {
     "name": "stderr",
     "output_type": "stream",
     "text": [
      "\n",
      " 41%|████████████████▍                       | 410/1000 [00:36<00:52, 11.24it/s]\u001b[A\n",
      " 41%|████████████████▍                       | 412/1000 [00:36<00:52, 11.22it/s]\u001b[A"
     ]
    },
    {
     "name": "stdout",
     "output_type": "stream",
     "text": [
      "0.08585548400878906\n",
      "0.08918642997741699\n",
      "0.08868098258972168\n"
     ]
    },
    {
     "name": "stderr",
     "output_type": "stream",
     "text": [
      "\n",
      " 41%|████████████████▌                       | 414/1000 [00:36<00:52, 11.20it/s]\u001b[A"
     ]
    },
    {
     "name": "stdout",
     "output_type": "stream",
     "text": [
      "0.09178471565246582\n",
      "0.08615255355834961\n",
      "0.08784079551696777\n"
     ]
    },
    {
     "name": "stderr",
     "output_type": "stream",
     "text": [
      "\n",
      " 42%|████████████████▋                       | 416/1000 [00:36<00:51, 11.24it/s]\u001b[A\n",
      " 42%|████████████████▋                       | 418/1000 [00:36<00:51, 11.20it/s]\u001b[A"
     ]
    },
    {
     "name": "stdout",
     "output_type": "stream",
     "text": [
      "0.08752131462097168\n",
      "0.0898888111114502\n",
      "0.08879685401916504\n"
     ]
    },
    {
     "name": "stderr",
     "output_type": "stream",
     "text": [
      "\n",
      " 42%|████████████████▊                       | 420/1000 [00:36<00:51, 11.30it/s]\u001b[A"
     ]
    },
    {
     "name": "stdout",
     "output_type": "stream",
     "text": [
      "0.08905529975891113\n",
      "0.08296823501586914\n",
      "0.0893712043762207\n"
     ]
    },
    {
     "name": "stderr",
     "output_type": "stream",
     "text": [
      "\n",
      " 42%|████████████████▉                       | 422/1000 [00:37<00:51, 11.19it/s]\u001b[A\n",
      " 42%|████████████████▉                       | 424/1000 [00:37<00:50, 11.35it/s]\u001b[A"
     ]
    },
    {
     "name": "stdout",
     "output_type": "stream",
     "text": [
      "0.09210753440856934\n",
      "0.08734250068664551\n",
      "0.0821065902709961\n"
     ]
    },
    {
     "name": "stderr",
     "output_type": "stream",
     "text": [
      "\n",
      " 43%|█████████████████                       | 426/1000 [00:37<00:51, 11.24it/s]\u001b[A"
     ]
    },
    {
     "name": "stdout",
     "output_type": "stream",
     "text": [
      "0.09171652793884277\n",
      "0.08875393867492676\n",
      "0.08921170234680176\n"
     ]
    },
    {
     "name": "stderr",
     "output_type": "stream",
     "text": [
      "\n",
      " 43%|█████████████████                       | 428/1000 [00:37<00:50, 11.24it/s]\u001b[A\n",
      " 43%|█████████████████▏                      | 430/1000 [00:37<00:50, 11.35it/s]\u001b[A"
     ]
    },
    {
     "name": "stdout",
     "output_type": "stream",
     "text": [
      "0.0875244140625\n",
      "0.08446455001831055\n",
      "0.08668065071105957\n"
     ]
    },
    {
     "name": "stderr",
     "output_type": "stream",
     "text": [
      "\n",
      " 43%|█████████████████▎                      | 432/1000 [00:37<00:50, 11.25it/s]\u001b[A"
     ]
    },
    {
     "name": "stdout",
     "output_type": "stream",
     "text": [
      "0.09075355529785156\n",
      "0.0892331600189209\n",
      "0.08579850196838379\n"
     ]
    },
    {
     "name": "stderr",
     "output_type": "stream",
     "text": [
      "\n",
      " 43%|█████████████████▎                      | 434/1000 [00:38<00:49, 11.36it/s]\u001b[A\n",
      " 44%|█████████████████▍                      | 436/1000 [00:38<00:49, 11.29it/s]\u001b[A"
     ]
    },
    {
     "name": "stdout",
     "output_type": "stream",
     "text": [
      "0.08527994155883789\n",
      "0.08938932418823242\n",
      "0.08905482292175293\n"
     ]
    },
    {
     "name": "stderr",
     "output_type": "stream",
     "text": [
      "\n",
      " 44%|█████████████████▌                      | 438/1000 [00:38<00:49, 11.29it/s]\u001b[A"
     ]
    },
    {
     "name": "stdout",
     "output_type": "stream",
     "text": [
      "0.09070754051208496\n",
      "0.08509135246276855\n",
      "0.08784031867980957\n"
     ]
    },
    {
     "name": "stderr",
     "output_type": "stream",
     "text": [
      "\n",
      " 44%|█████████████████▌                      | 440/1000 [00:38<00:49, 11.28it/s]\u001b[A\n",
      " 44%|█████████████████▋                      | 442/1000 [00:38<00:49, 11.18it/s]\u001b[A"
     ]
    },
    {
     "name": "stdout",
     "output_type": "stream",
     "text": [
      "0.08867526054382324\n",
      "0.09191465377807617\n",
      "0.08913636207580566\n"
     ]
    },
    {
     "name": "stderr",
     "output_type": "stream",
     "text": [
      "\n",
      " 44%|█████████████████▊                      | 444/1000 [00:39<00:49, 11.29it/s]\u001b[A"
     ]
    },
    {
     "name": "stdout",
     "output_type": "stream",
     "text": [
      "0.08948254585266113\n",
      "0.08225107192993164\n",
      "0.09002327919006348\n"
     ]
    },
    {
     "name": "stderr",
     "output_type": "stream",
     "text": [
      "\n",
      " 45%|█████████████████▊                      | 446/1000 [00:39<00:49, 11.11it/s]\u001b[A\n",
      " 45%|█████████████████▉                      | 448/1000 [00:39<00:49, 11.12it/s]\u001b[A"
     ]
    },
    {
     "name": "stdout",
     "output_type": "stream",
     "text": [
      "0.09542536735534668\n",
      "0.09102296829223633\n",
      "0.0871725082397461\n"
     ]
    },
    {
     "name": "stderr",
     "output_type": "stream",
     "text": [
      "\n",
      " 45%|██████████████████                      | 450/1000 [00:39<00:48, 11.26it/s]\u001b[A"
     ]
    },
    {
     "name": "stdout",
     "output_type": "stream",
     "text": [
      "0.08914041519165039\n",
      "0.08198833465576172\n",
      "0.09017658233642578\n"
     ]
    },
    {
     "name": "stderr",
     "output_type": "stream",
     "text": [
      "\n",
      " 45%|██████████████████                      | 452/1000 [00:39<00:49, 11.16it/s]\u001b[A\n",
      " 45%|██████████████████▏                     | 454/1000 [00:39<00:49, 11.14it/s]\u001b[A"
     ]
    },
    {
     "name": "stdout",
     "output_type": "stream",
     "text": [
      "0.09186434745788574\n",
      "0.09138226509094238\n",
      "0.08747625350952148\n"
     ]
    },
    {
     "name": "stderr",
     "output_type": "stream",
     "text": [
      "\n",
      " 46%|██████████████████▏                     | 456/1000 [00:40<00:48, 11.29it/s]\u001b[A"
     ]
    },
    {
     "name": "stdout",
     "output_type": "stream",
     "text": [
      "0.08862948417663574\n",
      "0.08206415176391602\n",
      "0.09005475044250488\n"
     ]
    },
    {
     "name": "stderr",
     "output_type": "stream",
     "text": [
      "\n",
      " 46%|██████████████████▎                     | 458/1000 [00:40<00:48, 11.18it/s]\u001b[A\n",
      " 46%|██████████████████▍                     | 460/1000 [00:40<00:48, 11.24it/s]\u001b[A"
     ]
    },
    {
     "name": "stdout",
     "output_type": "stream",
     "text": [
      "0.09150934219360352\n",
      "0.09074521064758301\n",
      "0.0839986801147461\n"
     ]
    },
    {
     "name": "stderr",
     "output_type": "stream",
     "text": [
      "\n",
      " 46%|██████████████████▍                     | 462/1000 [00:40<00:47, 11.33it/s]\u001b[A"
     ]
    },
    {
     "name": "stdout",
     "output_type": "stream",
     "text": [
      "0.08984780311584473\n",
      "0.08208346366882324\n",
      "0.0901188850402832\n"
     ]
    },
    {
     "name": "stderr",
     "output_type": "stream",
     "text": [
      "\n",
      " 46%|██████████████████▌                     | 464/1000 [00:40<00:47, 11.19it/s]\u001b[A\n",
      " 47%|██████████████████▋                     | 466/1000 [00:41<00:47, 11.17it/s]\u001b[A"
     ]
    },
    {
     "name": "stdout",
     "output_type": "stream",
     "text": [
      "0.09242701530456543\n",
      "0.09073400497436523\n",
      "0.08755302429199219\n"
     ]
    },
    {
     "name": "stderr",
     "output_type": "stream",
     "text": [
      "\n",
      " 47%|██████████████████▋                     | 468/1000 [00:41<00:47, 11.26it/s]\u001b[A"
     ]
    },
    {
     "name": "stdout",
     "output_type": "stream",
     "text": [
      "0.0908198356628418\n",
      "0.0823664665222168\n",
      "0.0919792652130127\n"
     ]
    },
    {
     "name": "stderr",
     "output_type": "stream",
     "text": [
      "\n",
      " 47%|██████████████████▊                     | 470/1000 [00:41<00:47, 11.13it/s]\u001b[A\n",
      " 47%|██████████████████▉                     | 472/1000 [00:41<00:47, 11.17it/s]\u001b[A"
     ]
    },
    {
     "name": "stdout",
     "output_type": "stream",
     "text": [
      "0.0912468433380127\n",
      "0.0920100212097168\n",
      "0.08417749404907227\n"
     ]
    },
    {
     "name": "stderr",
     "output_type": "stream",
     "text": [
      "\n",
      " 47%|██████████████████▉                     | 474/1000 [00:41<00:46, 11.27it/s]\u001b[A"
     ]
    },
    {
     "name": "stdout",
     "output_type": "stream",
     "text": [
      "0.09050393104553223\n",
      "0.08216667175292969\n",
      "0.08689641952514648\n"
     ]
    },
    {
     "name": "stderr",
     "output_type": "stream",
     "text": [
      "\n",
      " 48%|███████████████████                     | 476/1000 [00:41<00:46, 11.34it/s]\u001b[A\n",
      " 48%|███████████████████                     | 478/1000 [00:42<00:45, 11.49it/s]\u001b[A"
     ]
    },
    {
     "name": "stdout",
     "output_type": "stream",
     "text": [
      "0.08611178398132324\n",
      "0.08583354949951172\n",
      "0.08200860023498535\n"
     ]
    },
    {
     "name": "stderr",
     "output_type": "stream",
     "text": [
      "\n",
      " 48%|███████████████████▏                    | 480/1000 [00:42<00:45, 11.51it/s]\u001b[A"
     ]
    },
    {
     "name": "stdout",
     "output_type": "stream",
     "text": [
      "0.08977675437927246\n",
      "0.08231401443481445\n",
      "0.0880286693572998\n"
     ]
    },
    {
     "name": "stderr",
     "output_type": "stream",
     "text": [
      "\n",
      " 48%|███████████████████▎                    | 482/1000 [00:42<00:45, 11.48it/s]\u001b[A\n",
      " 48%|███████████████████▎                    | 484/1000 [00:42<00:44, 11.51it/s]\u001b[A"
     ]
    },
    {
     "name": "stdout",
     "output_type": "stream",
     "text": [
      "0.0858144760131836\n",
      "0.08956742286682129\n",
      "0.08221817016601562\n"
     ]
    },
    {
     "name": "stderr",
     "output_type": "stream",
     "text": [
      "\n",
      " 49%|███████████████████▍                    | 486/1000 [00:42<00:44, 11.51it/s]\u001b[A"
     ]
    },
    {
     "name": "stdout",
     "output_type": "stream",
     "text": [
      "0.09043598175048828\n",
      "0.08217787742614746\n",
      "0.08896207809448242\n"
     ]
    },
    {
     "name": "stderr",
     "output_type": "stream",
     "text": [
      "\n",
      " 49%|███████████████████▌                    | 488/1000 [00:42<00:44, 11.49it/s]\u001b[A\n",
      " 49%|███████████████████▌                    | 490/1000 [00:43<00:44, 11.55it/s]\u001b[A"
     ]
    },
    {
     "name": "stdout",
     "output_type": "stream",
     "text": [
      "0.0847780704498291\n",
      "0.08778715133666992\n",
      "0.08214116096496582\n"
     ]
    },
    {
     "name": "stderr",
     "output_type": "stream",
     "text": [
      "\n",
      " 49%|███████████████████▋                    | 492/1000 [00:43<00:43, 11.57it/s]\u001b[A"
     ]
    },
    {
     "name": "stdout",
     "output_type": "stream",
     "text": [
      "0.08812618255615234\n",
      "0.08318424224853516\n",
      "0.08948731422424316\n"
     ]
    },
    {
     "name": "stderr",
     "output_type": "stream",
     "text": [
      "\n",
      " 49%|███████████████████▊                    | 494/1000 [00:43<00:44, 11.41it/s]\u001b[A\n",
      " 50%|███████████████████▊                    | 496/1000 [00:43<00:44, 11.44it/s]\u001b[A"
     ]
    },
    {
     "name": "stdout",
     "output_type": "stream",
     "text": [
      "0.08997082710266113\n",
      "0.08957695960998535\n",
      "0.08296990394592285\n"
     ]
    },
    {
     "name": "stderr",
     "output_type": "stream",
     "text": [
      "\n",
      " 50%|███████████████████▉                    | 498/1000 [00:43<00:43, 11.41it/s]\u001b[A"
     ]
    },
    {
     "name": "stdout",
     "output_type": "stream",
     "text": [
      "0.08872675895690918\n",
      "0.08625650405883789\n",
      "0.0898885726928711\n"
     ]
    },
    {
     "name": "stderr",
     "output_type": "stream",
     "text": [
      "\n",
      " 50%|████████████████████                    | 500/1000 [00:43<00:44, 11.30it/s]\u001b[A\n",
      " 50%|████████████████████                    | 502/1000 [00:44<00:43, 11.42it/s]\u001b[A"
     ]
    },
    {
     "name": "stdout",
     "output_type": "stream",
     "text": [
      "0.08996081352233887\n",
      "0.08705997467041016\n",
      "0.08237671852111816\n"
     ]
    },
    {
     "name": "stderr",
     "output_type": "stream",
     "text": [
      "\n",
      " 50%|████████████████████▏                   | 504/1000 [00:44<00:43, 11.33it/s]\u001b[A"
     ]
    },
    {
     "name": "stdout",
     "output_type": "stream",
     "text": [
      "0.09069705009460449\n",
      "0.0880439281463623\n",
      "0.08945083618164062\n"
     ]
    },
    {
     "name": "stderr",
     "output_type": "stream",
     "text": [
      "\n",
      " 51%|████████████████████▏                   | 506/1000 [00:44<00:43, 11.29it/s]\u001b[A\n",
      " 51%|████████████████████▎                   | 508/1000 [00:44<00:43, 11.38it/s]\u001b[A"
     ]
    },
    {
     "name": "stdout",
     "output_type": "stream",
     "text": [
      "0.08783793449401855\n",
      "0.08470749855041504\n",
      "0.0865478515625\n"
     ]
    },
    {
     "name": "stderr",
     "output_type": "stream",
     "text": [
      "\n",
      " 51%|████████████████████▍                   | 510/1000 [00:44<00:43, 11.18it/s]\u001b[A"
     ]
    },
    {
     "name": "stdout",
     "output_type": "stream",
     "text": [
      "0.09537005424499512\n",
      "0.08965706825256348\n",
      "0.08504319190979004\n"
     ]
    },
    {
     "name": "stderr",
     "output_type": "stream",
     "text": [
      "\n",
      " 51%|████████████████████▍                   | 512/1000 [00:45<00:43, 11.31it/s]\u001b[A\n",
      " 51%|████████████████████▌                   | 514/1000 [00:45<00:42, 11.48it/s]\u001b[A"
     ]
    },
    {
     "name": "stdout",
     "output_type": "stream",
     "text": [
      "0.08512997627258301\n",
      "0.08509683609008789\n",
      "0.08239316940307617\n"
     ]
    },
    {
     "name": "stderr",
     "output_type": "stream",
     "text": [
      "\n",
      " 52%|████████████████████▋                   | 516/1000 [00:45<00:41, 11.55it/s]\u001b[A"
     ]
    },
    {
     "name": "stdout",
     "output_type": "stream",
     "text": [
      "0.08705568313598633\n",
      "0.08214688301086426\n",
      "0.08671283721923828\n"
     ]
    },
    {
     "name": "stderr",
     "output_type": "stream",
     "text": [
      "\n",
      " 52%|████████████████████▋                   | 518/1000 [00:45<00:42, 11.46it/s]\u001b[A\n",
      " 52%|████████████████████▊                   | 520/1000 [00:45<00:42, 11.34it/s]\u001b[A"
     ]
    },
    {
     "name": "stdout",
     "output_type": "stream",
     "text": [
      "0.09001326560974121\n",
      "0.08960270881652832\n",
      "0.08961153030395508\n"
     ]
    },
    {
     "name": "stderr",
     "output_type": "stream",
     "text": [
      "\n",
      " 52%|████████████████████▉                   | 522/1000 [00:45<00:41, 11.42it/s]\u001b[A"
     ]
    },
    {
     "name": "stdout",
     "output_type": "stream",
     "text": [
      "0.08810591697692871\n",
      "0.08302092552185059\n",
      "0.08606719970703125\n"
     ]
    },
    {
     "name": "stderr",
     "output_type": "stream",
     "text": [
      "\n",
      " 52%|████████████████████▉                   | 524/1000 [00:46<00:41, 11.37it/s]\u001b[A\n",
      " 53%|█████████████████████                   | 526/1000 [00:46<00:42, 11.27it/s]\u001b[A"
     ]
    },
    {
     "name": "stdout",
     "output_type": "stream",
     "text": [
      "0.09003281593322754\n",
      "0.09022951126098633\n",
      "0.08984565734863281\n"
     ]
    },
    {
     "name": "stderr",
     "output_type": "stream",
     "text": [
      "\n",
      " 53%|█████████████████████                   | 528/1000 [00:46<00:41, 11.37it/s]\u001b[A"
     ]
    },
    {
     "name": "stdout",
     "output_type": "stream",
     "text": [
      "0.08806514739990234\n",
      "0.08249783515930176\n",
      "0.08782219886779785\n"
     ]
    },
    {
     "name": "stderr",
     "output_type": "stream",
     "text": [
      "\n",
      " 53%|█████████████████████▏                  | 530/1000 [00:46<00:41, 11.42it/s]\u001b[A\n",
      " 53%|█████████████████████▎                  | 532/1000 [00:46<00:40, 11.56it/s]\u001b[A"
     ]
    },
    {
     "name": "stdout",
     "output_type": "stream",
     "text": [
      "0.08474063873291016\n",
      "0.08471012115478516\n",
      "0.08205103874206543\n"
     ]
    },
    {
     "name": "stderr",
     "output_type": "stream",
     "text": [
      "\n",
      " 53%|█████████████████████▎                  | 534/1000 [00:46<00:40, 11.56it/s]\u001b[A"
     ]
    },
    {
     "name": "stdout",
     "output_type": "stream",
     "text": [
      "0.08928203582763672\n",
      "0.08250927925109863\n",
      "0.08790302276611328\n"
     ]
    },
    {
     "name": "stderr",
     "output_type": "stream",
     "text": [
      "\n",
      " 54%|█████████████████████▍                  | 536/1000 [00:47<00:40, 11.55it/s]\u001b[A\n",
      " 54%|█████████████████████▌                  | 538/1000 [00:47<00:40, 11.48it/s]\u001b[A"
     ]
    },
    {
     "name": "stdout",
     "output_type": "stream",
     "text": [
      "0.08495545387268066\n",
      "0.08720111846923828\n",
      "0.08831214904785156\n"
     ]
    },
    {
     "name": "stderr",
     "output_type": "stream",
     "text": [
      "\n",
      " 54%|█████████████████████▌                  | 540/1000 [00:47<00:40, 11.33it/s]\u001b[A"
     ]
    },
    {
     "name": "stdout",
     "output_type": "stream",
     "text": [
      "0.09093284606933594\n",
      "0.08941769599914551\n",
      "0.08521747589111328\n"
     ]
    },
    {
     "name": "stderr",
     "output_type": "stream",
     "text": [
      "\n",
      " 54%|█████████████████████▋                  | 542/1000 [00:47<00:40, 11.43it/s]\u001b[A\n",
      " 54%|█████████████████████▊                  | 544/1000 [00:47<00:39, 11.41it/s]\u001b[A"
     ]
    },
    {
     "name": "stdout",
     "output_type": "stream",
     "text": [
      "0.08529853820800781\n",
      "0.08550620079040527\n",
      "0.0895845890045166\n"
     ]
    },
    {
     "name": "stderr",
     "output_type": "stream",
     "text": [
      "\n",
      " 55%|█████████████████████▊                  | 546/1000 [00:48<00:39, 11.36it/s]\u001b[A"
     ]
    },
    {
     "name": "stdout",
     "output_type": "stream",
     "text": [
      "0.09093475341796875\n",
      "0.08484935760498047\n",
      "0.08636927604675293\n"
     ]
    },
    {
     "name": "stderr",
     "output_type": "stream",
     "text": [
      "\n",
      " 55%|█████████████████████▉                  | 548/1000 [00:48<00:39, 11.35it/s]\u001b[A\n",
      " 55%|██████████████████████                  | 550/1000 [00:48<00:39, 11.28it/s]\u001b[A"
     ]
    },
    {
     "name": "stdout",
     "output_type": "stream",
     "text": [
      "0.08923053741455078\n",
      "0.08949136734008789\n",
      "0.0891120433807373\n"
     ]
    },
    {
     "name": "stderr",
     "output_type": "stream",
     "text": [
      "\n",
      " 55%|██████████████████████                  | 552/1000 [00:48<00:39, 11.39it/s]\u001b[A"
     ]
    },
    {
     "name": "stdout",
     "output_type": "stream",
     "text": [
      "0.08814191818237305\n",
      "0.08203935623168945\n",
      "0.09046745300292969\n"
     ]
    },
    {
     "name": "stderr",
     "output_type": "stream",
     "text": [
      "\n",
      " 55%|██████████████████████▏                 | 554/1000 [00:48<00:39, 11.27it/s]\u001b[A\n",
      " 56%|██████████████████████▏                 | 556/1000 [00:48<00:39, 11.30it/s]\u001b[A"
     ]
    },
    {
     "name": "stdout",
     "output_type": "stream",
     "text": [
      "0.09051156044006348\n",
      "0.08899521827697754\n",
      "0.08545184135437012\n"
     ]
    },
    {
     "name": "stderr",
     "output_type": "stream",
     "text": [
      "\n",
      " 56%|██████████████████████▎                 | 558/1000 [00:49<00:38, 11.40it/s]\u001b[A"
     ]
    },
    {
     "name": "stdout",
     "output_type": "stream",
     "text": [
      "0.08839583396911621\n",
      "0.0824286937713623\n",
      "0.08742809295654297\n"
     ]
    },
    {
     "name": "stderr",
     "output_type": "stream",
     "text": [
      "\n",
      " 56%|██████████████████████▍                 | 560/1000 [00:49<00:38, 11.44it/s]\u001b[A\n",
      " 56%|██████████████████████▍                 | 562/1000 [00:49<00:37, 11.59it/s]\u001b[A"
     ]
    },
    {
     "name": "stdout",
     "output_type": "stream",
     "text": [
      "0.08497309684753418\n",
      "0.08409905433654785\n",
      "0.08196067810058594\n"
     ]
    },
    {
     "name": "stderr",
     "output_type": "stream",
     "text": [
      "\n",
      " 56%|██████████████████████▌                 | 564/1000 [00:49<00:37, 11.60it/s]\u001b[A"
     ]
    },
    {
     "name": "stdout",
     "output_type": "stream",
     "text": [
      "0.08905529975891113\n",
      "0.08208203315734863\n",
      "0.0886383056640625\n"
     ]
    },
    {
     "name": "stderr",
     "output_type": "stream",
     "text": [
      "\n",
      " 57%|██████████████████████▋                 | 566/1000 [00:49<00:37, 11.46it/s]\u001b[A\n",
      " 57%|██████████████████████▋                 | 568/1000 [00:49<00:37, 11.44it/s]\u001b[A"
     ]
    },
    {
     "name": "stdout",
     "output_type": "stream",
     "text": [
      "0.08936691284179688\n",
      "0.09103083610534668\n",
      "0.08320975303649902\n"
     ]
    },
    {
     "name": "stderr",
     "output_type": "stream",
     "text": [
      "\n",
      " 57%|██████████████████████▊                 | 570/1000 [00:50<00:37, 11.48it/s]\u001b[A"
     ]
    },
    {
     "name": "stdout",
     "output_type": "stream",
     "text": [
      "0.0886240005493164\n",
      "0.08322668075561523\n",
      "0.09150362014770508\n"
     ]
    },
    {
     "name": "stderr",
     "output_type": "stream",
     "text": [
      "\n",
      " 57%|██████████████████████▉                 | 572/1000 [00:50<00:37, 11.28it/s]\u001b[A\n",
      " 57%|██████████████████████▉                 | 574/1000 [00:50<00:37, 11.29it/s]\u001b[A"
     ]
    },
    {
     "name": "stdout",
     "output_type": "stream",
     "text": [
      "0.09171223640441895\n",
      "0.09107732772827148\n",
      "0.08458995819091797\n"
     ]
    },
    {
     "name": "stderr",
     "output_type": "stream",
     "text": [
      "\n",
      " 58%|███████████████████████                 | 576/1000 [00:50<00:37, 11.27it/s]\u001b[A"
     ]
    },
    {
     "name": "stdout",
     "output_type": "stream",
     "text": [
      "0.0949258804321289\n",
      "0.08217668533325195\n",
      "0.09063005447387695\n"
     ]
    },
    {
     "name": "stderr",
     "output_type": "stream",
     "text": [
      "\n",
      " 58%|███████████████████████                 | 578/1000 [00:50<00:37, 11.18it/s]\u001b[A\n",
      " 58%|███████████████████████▏                | 580/1000 [00:51<00:37, 11.20it/s]\u001b[A"
     ]
    },
    {
     "name": "stdout",
     "output_type": "stream",
     "text": [
      "0.09035468101501465\n",
      "0.09072709083557129\n",
      "0.08559846878051758\n"
     ]
    },
    {
     "name": "stderr",
     "output_type": "stream",
     "text": [
      "\n",
      " 58%|███████████████████████▎                | 582/1000 [00:51<00:36, 11.33it/s]\u001b[A"
     ]
    },
    {
     "name": "stdout",
     "output_type": "stream",
     "text": [
      "0.08864426612854004\n",
      "0.08215832710266113\n",
      "0.0885016918182373\n"
     ]
    },
    {
     "name": "stderr",
     "output_type": "stream",
     "text": [
      "\n",
      " 58%|███████████████████████▎                | 584/1000 [00:51<00:36, 11.27it/s]\u001b[A\n",
      " 59%|███████████████████████▍                | 586/1000 [00:51<00:36, 11.22it/s]\u001b[A"
     ]
    },
    {
     "name": "stdout",
     "output_type": "stream",
     "text": [
      "0.0899660587310791\n",
      "0.09107565879821777\n",
      "0.0880587100982666\n"
     ]
    },
    {
     "name": "stderr",
     "output_type": "stream",
     "text": [
      "\n",
      " 59%|███████████████████████▌                | 588/1000 [00:51<00:36, 11.35it/s]\u001b[A"
     ]
    },
    {
     "name": "stdout",
     "output_type": "stream",
     "text": [
      "0.08723115921020508\n",
      "0.08249402046203613\n",
      "0.08658576011657715\n"
     ]
    },
    {
     "name": "stderr",
     "output_type": "stream",
     "text": [
      "\n",
      " 59%|███████████████████████▌                | 590/1000 [00:51<00:36, 11.35it/s]\u001b[A\n",
      " 59%|███████████████████████▋                | 592/1000 [00:52<00:36, 11.28it/s]\u001b[A"
     ]
    },
    {
     "name": "stdout",
     "output_type": "stream",
     "text": [
      "0.08864021301269531\n",
      "0.08955860137939453\n",
      "0.08905625343322754\n"
     ]
    },
    {
     "name": "stderr",
     "output_type": "stream",
     "text": [
      "\n",
      " 59%|███████████████████████▊                | 594/1000 [00:52<00:35, 11.35it/s]\u001b[A"
     ]
    },
    {
     "name": "stdout",
     "output_type": "stream",
     "text": [
      "0.08992433547973633\n",
      "0.082489013671875\n",
      "0.08600163459777832\n"
     ]
    },
    {
     "name": "stderr",
     "output_type": "stream",
     "text": [
      "\n",
      " 60%|███████████████████████▊                | 596/1000 [00:52<00:35, 11.43it/s]\u001b[A\n",
      " 60%|███████████████████████▉                | 598/1000 [00:52<00:35, 11.34it/s]\u001b[A"
     ]
    },
    {
     "name": "stdout",
     "output_type": "stream",
     "text": [
      "0.08491826057434082\n",
      "0.09045600891113281\n",
      "0.08777761459350586\n"
     ]
    },
    {
     "name": "stderr",
     "output_type": "stream",
     "text": [
      "\n",
      " 60%|████████████████████████                | 600/1000 [00:52<00:35, 11.28it/s]\u001b[A"
     ]
    },
    {
     "name": "stdout",
     "output_type": "stream",
     "text": [
      "0.0926513671875\n",
      "0.08588051795959473\n",
      "0.09025883674621582\n"
     ]
    },
    {
     "name": "stderr",
     "output_type": "stream",
     "text": [
      "\n",
      " 60%|████████████████████████                | 602/1000 [00:52<00:35, 11.26it/s]\u001b[A\n",
      " 60%|████████████████████████▏               | 604/1000 [00:53<00:34, 11.35it/s]\u001b[A"
     ]
    },
    {
     "name": "stdout",
     "output_type": "stream",
     "text": [
      "0.08668017387390137\n",
      "0.08819127082824707\n",
      "0.08364391326904297\n"
     ]
    },
    {
     "name": "stderr",
     "output_type": "stream",
     "text": [
      "\n",
      " 61%|████████████████████████▏               | 606/1000 [00:53<00:34, 11.35it/s]\u001b[A"
     ]
    },
    {
     "name": "stdout",
     "output_type": "stream",
     "text": [
      "0.09092283248901367\n",
      "0.08417797088623047\n",
      "0.08891820907592773\n"
     ]
    },
    {
     "name": "stderr",
     "output_type": "stream",
     "text": [
      "\n",
      " 61%|████████████████████████▎               | 608/1000 [00:53<00:34, 11.36it/s]\u001b[A\n",
      " 61%|████████████████████████▍               | 610/1000 [00:53<00:34, 11.43it/s]\u001b[A"
     ]
    },
    {
     "name": "stdout",
     "output_type": "stream",
     "text": [
      "0.08582782745361328\n",
      "0.08924603462219238\n",
      "0.08230161666870117\n"
     ]
    },
    {
     "name": "stderr",
     "output_type": "stream",
     "text": [
      "\n",
      " 61%|████████████████████████▍               | 612/1000 [00:53<00:33, 11.48it/s]\u001b[A"
     ]
    },
    {
     "name": "stdout",
     "output_type": "stream",
     "text": [
      "0.0885310173034668\n",
      "0.08273196220397949\n",
      "0.08895063400268555\n"
     ]
    },
    {
     "name": "stderr",
     "output_type": "stream",
     "text": [
      "\n",
      " 61%|████████████████████████▌               | 614/1000 [00:54<00:34, 11.35it/s]\u001b[A\n",
      " 62%|████████████████████████▋               | 616/1000 [00:54<00:34, 11.25it/s]\u001b[A"
     ]
    },
    {
     "name": "stdout",
     "output_type": "stream",
     "text": [
      "0.09103035926818848\n",
      "0.08983445167541504\n",
      "0.0899960994720459\n"
     ]
    },
    {
     "name": "stderr",
     "output_type": "stream",
     "text": [
      "\n",
      " 62%|████████████████████████▋               | 618/1000 [00:54<00:33, 11.36it/s]\u001b[A"
     ]
    },
    {
     "name": "stdout",
     "output_type": "stream",
     "text": [
      "0.08827829360961914\n",
      "0.08215546607971191\n",
      "0.08692359924316406\n"
     ]
    },
    {
     "name": "stderr",
     "output_type": "stream",
     "text": [
      "\n",
      " 62%|████████████████████████▊               | 620/1000 [00:54<00:33, 11.30it/s]\u001b[A\n",
      " 62%|████████████████████████▉               | 622/1000 [00:54<00:33, 11.26it/s]\u001b[A"
     ]
    },
    {
     "name": "stdout",
     "output_type": "stream",
     "text": [
      "0.0911550521850586\n",
      "0.08968234062194824\n",
      "0.08780670166015625\n"
     ]
    },
    {
     "name": "stderr",
     "output_type": "stream",
     "text": [
      "\n",
      " 62%|████████████████████████▉               | 624/1000 [00:54<00:33, 11.35it/s]\u001b[A"
     ]
    },
    {
     "name": "stdout",
     "output_type": "stream",
     "text": [
      "0.08883118629455566\n",
      "0.08260917663574219\n",
      "0.08690571784973145\n"
     ]
    },
    {
     "name": "stderr",
     "output_type": "stream",
     "text": [
      "\n",
      " 63%|█████████████████████████               | 626/1000 [00:55<00:32, 11.35it/s]\u001b[A\n",
      " 63%|█████████████████████████               | 628/1000 [00:55<00:32, 11.29it/s]\u001b[A"
     ]
    },
    {
     "name": "stdout",
     "output_type": "stream",
     "text": [
      "0.08840727806091309\n",
      "0.08977675437927246\n",
      "0.0882420539855957\n"
     ]
    },
    {
     "name": "stderr",
     "output_type": "stream",
     "text": [
      "\n",
      " 63%|█████████████████████████▏              | 630/1000 [00:55<00:32, 11.41it/s]\u001b[A"
     ]
    },
    {
     "name": "stdout",
     "output_type": "stream",
     "text": [
      "0.08708858489990234\n",
      "0.0823523998260498\n",
      "0.08590102195739746\n"
     ]
    },
    {
     "name": "stderr",
     "output_type": "stream",
     "text": [
      "\n",
      " 63%|█████████████████████████▎              | 632/1000 [00:55<00:32, 11.42it/s]\u001b[A\n",
      " 63%|█████████████████████████▎              | 634/1000 [00:55<00:32, 11.33it/s]\u001b[A"
     ]
    },
    {
     "name": "stdout",
     "output_type": "stream",
     "text": [
      "0.08814668655395508\n",
      "0.08946394920349121\n",
      "0.08890509605407715\n"
     ]
    },
    {
     "name": "stderr",
     "output_type": "stream",
     "text": [
      "\n",
      " 64%|█████████████████████████▍              | 636/1000 [00:55<00:31, 11.40it/s]\u001b[A"
     ]
    },
    {
     "name": "stdout",
     "output_type": "stream",
     "text": [
      "0.08938169479370117\n",
      "0.0821990966796875\n",
      "0.08708977699279785\n"
     ]
    },
    {
     "name": "stderr",
     "output_type": "stream",
     "text": [
      "\n",
      " 64%|█████████████████████████▌              | 638/1000 [00:56<00:32, 11.23it/s]\u001b[A\n",
      " 64%|█████████████████████████▌              | 640/1000 [00:56<00:32, 11.18it/s]\u001b[A"
     ]
    },
    {
     "name": "stdout",
     "output_type": "stream",
     "text": [
      "0.09613370895385742\n",
      "0.09044647216796875\n",
      "0.08852529525756836\n"
     ]
    },
    {
     "name": "stderr",
     "output_type": "stream",
     "text": [
      "\n",
      " 64%|█████████████████████████▋              | 642/1000 [00:56<00:31, 11.33it/s]\u001b[A"
     ]
    },
    {
     "name": "stdout",
     "output_type": "stream",
     "text": [
      "0.0875234603881836\n",
      "0.08243489265441895\n",
      "0.0911722183227539\n"
     ]
    },
    {
     "name": "stderr",
     "output_type": "stream",
     "text": [
      "\n",
      " 64%|█████████████████████████▊              | 644/1000 [00:56<00:31, 11.20it/s]\u001b[A\n",
      " 65%|█████████████████████████▊              | 646/1000 [00:56<00:31, 11.20it/s]\u001b[A"
     ]
    },
    {
     "name": "stdout",
     "output_type": "stream",
     "text": [
      "0.09122347831726074\n",
      "0.09063124656677246\n",
      "0.08691978454589844\n"
     ]
    },
    {
     "name": "stderr",
     "output_type": "stream",
     "text": [
      "\n",
      " 65%|█████████████████████████▉              | 648/1000 [00:57<00:31, 11.30it/s]\u001b[A"
     ]
    },
    {
     "name": "stdout",
     "output_type": "stream",
     "text": [
      "0.0892953872680664\n",
      "0.08251953125\n",
      "0.0863034725189209\n"
     ]
    },
    {
     "name": "stderr",
     "output_type": "stream",
     "text": [
      "\n",
      " 65%|██████████████████████████              | 650/1000 [00:57<00:30, 11.38it/s]\u001b[A\n",
      " 65%|██████████████████████████              | 652/1000 [00:57<00:30, 11.54it/s]\u001b[A"
     ]
    },
    {
     "name": "stdout",
     "output_type": "stream",
     "text": [
      "0.08529520034790039\n",
      "0.08454108238220215\n",
      "0.08226537704467773\n"
     ]
    },
    {
     "name": "stderr",
     "output_type": "stream",
     "text": [
      "\n",
      " 65%|██████████████████████████▏             | 654/1000 [00:57<00:29, 11.56it/s]\u001b[A"
     ]
    },
    {
     "name": "stdout",
     "output_type": "stream",
     "text": [
      "0.08884763717651367\n",
      "0.08246350288391113\n",
      "0.08604907989501953\n"
     ]
    },
    {
     "name": "stderr",
     "output_type": "stream",
     "text": [
      "\n",
      " 66%|██████████████████████████▏             | 656/1000 [00:57<00:29, 11.52it/s]\u001b[A\n",
      " 66%|██████████████████████████▎             | 658/1000 [00:57<00:29, 11.46it/s]\u001b[A"
     ]
    },
    {
     "name": "stdout",
     "output_type": "stream",
     "text": [
      "0.08804202079772949\n",
      "0.08886933326721191\n",
      "0.08659744262695312\n"
     ]
    },
    {
     "name": "stderr",
     "output_type": "stream",
     "text": [
      "\n",
      " 66%|██████████████████████████▍             | 660/1000 [00:58<00:30, 11.31it/s]\u001b[A"
     ]
    },
    {
     "name": "stdout",
     "output_type": "stream",
     "text": [
      "0.09253883361816406\n",
      "0.08846378326416016\n",
      "0.0902700424194336\n"
     ]
    },
    {
     "name": "stderr",
     "output_type": "stream",
     "text": [
      "\n",
      " 66%|██████████████████████████▍             | 662/1000 [00:58<00:29, 11.28it/s]\u001b[A\n",
      " 66%|██████████████████████████▌             | 664/1000 [00:58<00:29, 11.35it/s]\u001b[A"
     ]
    },
    {
     "name": "stdout",
     "output_type": "stream",
     "text": [
      "0.08653903007507324\n",
      "0.08535146713256836\n",
      "0.08727264404296875\n"
     ]
    },
    {
     "name": "stderr",
     "output_type": "stream",
     "text": [
      "\n",
      " 67%|██████████████████████████▋             | 666/1000 [00:58<00:29, 11.25it/s]\u001b[A"
     ]
    },
    {
     "name": "stdout",
     "output_type": "stream",
     "text": [
      "0.09270143508911133\n",
      "0.0875089168548584\n",
      "0.08480143547058105\n"
     ]
    },
    {
     "name": "stderr",
     "output_type": "stream",
     "text": [
      "\n",
      " 67%|██████████████████████████▋             | 668/1000 [00:58<00:29, 11.37it/s]\u001b[A\n",
      " 67%|██████████████████████████▊             | 670/1000 [00:58<00:29, 11.28it/s]\u001b[A"
     ]
    },
    {
     "name": "stdout",
     "output_type": "stream",
     "text": [
      "0.08563494682312012\n",
      "0.08983945846557617\n",
      "0.08929824829101562\n"
     ]
    },
    {
     "name": "stderr",
     "output_type": "stream",
     "text": [
      "\n",
      " 67%|██████████████████████████▉             | 672/1000 [00:59<00:29, 11.23it/s]\u001b[A"
     ]
    },
    {
     "name": "stdout",
     "output_type": "stream",
     "text": [
      "0.09164094924926758\n",
      "0.08716177940368652\n",
      "0.08841371536254883\n"
     ]
    },
    {
     "name": "stderr",
     "output_type": "stream",
     "text": [
      "\n",
      " 67%|██████████████████████████▉             | 674/1000 [00:59<00:28, 11.28it/s]\u001b[A\n",
      " 68%|███████████████████████████             | 676/1000 [00:59<00:28, 11.39it/s]\u001b[A"
     ]
    },
    {
     "name": "stdout",
     "output_type": "stream",
     "text": [
      "0.08615279197692871\n",
      "0.08807635307312012\n",
      "0.08250236511230469\n"
     ]
    },
    {
     "name": "stderr",
     "output_type": "stream",
     "text": [
      "\n",
      " 68%|███████████████████████████             | 678/1000 [00:59<00:28, 11.44it/s]\u001b[A"
     ]
    },
    {
     "name": "stdout",
     "output_type": "stream",
     "text": [
      "0.08915328979492188\n",
      "0.08238458633422852\n",
      "0.08713841438293457\n"
     ]
    },
    {
     "name": "stderr",
     "output_type": "stream",
     "text": [
      "\n",
      " 68%|███████████████████████████▏            | 680/1000 [00:59<00:27, 11.46it/s]\u001b[A\n",
      " 68%|███████████████████████████▎            | 682/1000 [00:59<00:27, 11.57it/s]\u001b[A"
     ]
    },
    {
     "name": "stdout",
     "output_type": "stream",
     "text": [
      "0.08566570281982422\n",
      "0.08549213409423828\n",
      "0.08222460746765137\n"
     ]
    },
    {
     "name": "stderr",
     "output_type": "stream",
     "text": [
      "\n",
      " 68%|███████████████████████████▎            | 684/1000 [01:00<00:27, 11.57it/s]\u001b[A"
     ]
    },
    {
     "name": "stdout",
     "output_type": "stream",
     "text": [
      "0.08906698226928711\n",
      "0.08315253257751465\n",
      "0.08617067337036133\n"
     ]
    },
    {
     "name": "stderr",
     "output_type": "stream",
     "text": [
      "\n",
      " 69%|███████████████████████████▍            | 686/1000 [01:00<00:27, 11.46it/s]\u001b[A\n",
      " 69%|███████████████████████████▌            | 688/1000 [01:00<00:27, 11.31it/s]\u001b[A"
     ]
    },
    {
     "name": "stdout",
     "output_type": "stream",
     "text": [
      "0.09089803695678711\n",
      "0.09155893325805664\n",
      "0.08940434455871582\n"
     ]
    },
    {
     "name": "stderr",
     "output_type": "stream",
     "text": [
      "\n",
      " 69%|███████████████████████████▌            | 690/1000 [01:00<00:27, 11.38it/s]\u001b[A"
     ]
    },
    {
     "name": "stdout",
     "output_type": "stream",
     "text": [
      "0.09010171890258789\n",
      "0.08207368850708008\n",
      "0.08655714988708496\n"
     ]
    },
    {
     "name": "stderr",
     "output_type": "stream",
     "text": [
      "\n",
      " 69%|███████████████████████████▋            | 692/1000 [01:00<00:27, 11.30it/s]\u001b[A\n",
      " 69%|███████████████████████████▊            | 694/1000 [01:01<00:27, 11.24it/s]\u001b[A"
     ]
    },
    {
     "name": "stdout",
     "output_type": "stream",
     "text": [
      "0.0917975902557373\n",
      "0.08924198150634766\n",
      "0.08956313133239746\n"
     ]
    },
    {
     "name": "stderr",
     "output_type": "stream",
     "text": [
      "\n",
      " 70%|███████████████████████████▊            | 696/1000 [01:01<00:26, 11.38it/s]\u001b[A"
     ]
    },
    {
     "name": "stdout",
     "output_type": "stream",
     "text": [
      "0.08768463134765625\n",
      "0.08208560943603516\n",
      "0.09072184562683105\n"
     ]
    },
    {
     "name": "stderr",
     "output_type": "stream",
     "text": [
      "\n",
      " 70%|███████████████████████████▉            | 698/1000 [01:01<00:26, 11.25it/s]\u001b[A\n",
      " 70%|████████████████████████████            | 700/1000 [01:01<00:26, 11.29it/s]\u001b[A"
     ]
    },
    {
     "name": "stdout",
     "output_type": "stream",
     "text": [
      "0.09069967269897461\n",
      "0.08940601348876953\n",
      "0.08515071868896484\n"
     ]
    },
    {
     "name": "stderr",
     "output_type": "stream",
     "text": [
      "\n",
      " 70%|████████████████████████████            | 702/1000 [01:01<00:26, 11.26it/s]\u001b[A"
     ]
    },
    {
     "name": "stdout",
     "output_type": "stream",
     "text": [
      "0.09420895576477051\n",
      "0.08318376541137695\n",
      "0.09117007255554199\n"
     ]
    },
    {
     "name": "stderr",
     "output_type": "stream",
     "text": [
      "\n",
      " 70%|████████████████████████████▏           | 704/1000 [01:01<00:26, 11.15it/s]\u001b[A\n",
      " 71%|████████████████████████████▏           | 706/1000 [01:02<00:26, 11.14it/s]\u001b[A"
     ]
    },
    {
     "name": "stdout",
     "output_type": "stream",
     "text": [
      "0.09125185012817383\n",
      "0.08975839614868164\n",
      "0.08860087394714355\n"
     ]
    },
    {
     "name": "stderr",
     "output_type": "stream",
     "text": [
      "\n",
      " 71%|████████████████████████████▎           | 708/1000 [01:02<00:25, 11.27it/s]\u001b[A"
     ]
    },
    {
     "name": "stdout",
     "output_type": "stream",
     "text": [
      "0.08875131607055664\n",
      "0.08271431922912598\n",
      "0.09069490432739258\n"
     ]
    },
    {
     "name": "stderr",
     "output_type": "stream",
     "text": [
      "\n",
      " 71%|████████████████████████████▍           | 710/1000 [01:02<00:25, 11.17it/s]\u001b[A\n",
      " 71%|████████████████████████████▍           | 712/1000 [01:02<00:25, 11.22it/s]\u001b[A"
     ]
    },
    {
     "name": "stdout",
     "output_type": "stream",
     "text": [
      "0.09106063842773438\n",
      "0.0896000862121582\n",
      "0.08541154861450195\n"
     ]
    },
    {
     "name": "stderr",
     "output_type": "stream",
     "text": [
      "\n",
      " 71%|████████████████████████████▌           | 714/1000 [01:02<00:25, 11.24it/s]\u001b[A"
     ]
    },
    {
     "name": "stdout",
     "output_type": "stream",
     "text": [
      "0.09113645553588867\n",
      "0.08467912673950195\n",
      "0.0903787612915039\n"
     ]
    },
    {
     "name": "stderr",
     "output_type": "stream",
     "text": [
      "\n",
      " 72%|████████████████████████████▋           | 716/1000 [01:03<00:25, 11.14it/s]\u001b[A\n",
      " 72%|████████████████████████████▋           | 718/1000 [01:03<00:25, 11.11it/s]\u001b[A"
     ]
    },
    {
     "name": "stdout",
     "output_type": "stream",
     "text": [
      "0.09208559989929199\n",
      "0.08971524238586426\n",
      "0.0899350643157959\n"
     ]
    },
    {
     "name": "stderr",
     "output_type": "stream",
     "text": [
      "\n",
      " 72%|████████████████████████████▊           | 720/1000 [01:03<00:25, 11.19it/s]\u001b[A"
     ]
    },
    {
     "name": "stdout",
     "output_type": "stream",
     "text": [
      "0.08917427062988281\n",
      "0.0855715274810791\n",
      "0.09047484397888184\n"
     ]
    },
    {
     "name": "stderr",
     "output_type": "stream",
     "text": [
      "\n",
      " 72%|████████████████████████████▉           | 722/1000 [01:03<00:24, 11.17it/s]\u001b[A\n",
      " 72%|████████████████████████████▉           | 724/1000 [01:03<00:24, 11.30it/s]\u001b[A"
     ]
    },
    {
     "name": "stdout",
     "output_type": "stream",
     "text": [
      "0.08832335472106934\n",
      "0.0875086784362793\n",
      "0.08375263214111328\n"
     ]
    },
    {
     "name": "stderr",
     "output_type": "stream",
     "text": [
      "\n",
      " 73%|█████████████████████████████           | 726/1000 [01:03<00:24, 11.18it/s]\u001b[A"
     ]
    },
    {
     "name": "stdout",
     "output_type": "stream",
     "text": [
      "0.09217572212219238\n",
      "0.09013676643371582\n",
      "0.09047079086303711\n"
     ]
    },
    {
     "name": "stderr",
     "output_type": "stream",
     "text": [
      "\n",
      " 73%|█████████████████████████████           | 728/1000 [01:04<00:24, 11.08it/s]\u001b[A\n",
      " 73%|█████████████████████████████▏          | 730/1000 [01:04<00:24, 11.14it/s]\u001b[A"
     ]
    },
    {
     "name": "stdout",
     "output_type": "stream",
     "text": [
      "0.09254240989685059\n",
      "0.09137272834777832\n",
      "0.08468317985534668\n"
     ]
    },
    {
     "name": "stderr",
     "output_type": "stream",
     "text": [
      "\n",
      " 73%|█████████████████████████████▎          | 732/1000 [01:04<00:24, 11.07it/s]\u001b[A"
     ]
    },
    {
     "name": "stdout",
     "output_type": "stream",
     "text": [
      "0.09345364570617676\n",
      "0.08895540237426758\n",
      "0.0900881290435791\n"
     ]
    },
    {
     "name": "stderr",
     "output_type": "stream",
     "text": [
      "\n",
      " 73%|█████████████████████████████▎          | 734/1000 [01:04<00:24, 11.05it/s]\u001b[A\n",
      " 74%|█████████████████████████████▍          | 736/1000 [01:04<00:23, 11.13it/s]\u001b[A"
     ]
    },
    {
     "name": "stdout",
     "output_type": "stream",
     "text": [
      "0.09039592742919922\n",
      "0.09001636505126953\n",
      "0.08538150787353516\n"
     ]
    },
    {
     "name": "stderr",
     "output_type": "stream",
     "text": [
      "\n",
      " 74%|█████████████████████████████▌          | 738/1000 [01:05<00:23, 11.01it/s]\u001b[A"
     ]
    },
    {
     "name": "stdout",
     "output_type": "stream",
     "text": [
      "0.09434938430786133\n",
      "0.09036970138549805\n",
      "0.08776473999023438\n"
     ]
    },
    {
     "name": "stderr",
     "output_type": "stream",
     "text": [
      "\n",
      " 74%|█████████████████████████████▌          | 740/1000 [01:05<00:23, 11.09it/s]\u001b[A\n",
      " 74%|█████████████████████████████▋          | 742/1000 [01:05<00:23, 11.04it/s]\u001b[A"
     ]
    },
    {
     "name": "stdout",
     "output_type": "stream",
     "text": [
      "0.08810830116271973\n",
      "0.09290337562561035\n",
      "0.08921551704406738\n"
     ]
    },
    {
     "name": "stderr",
     "output_type": "stream",
     "text": [
      "\n",
      " 74%|█████████████████████████████▊          | 744/1000 [01:05<00:23, 10.97it/s]\u001b[A"
     ]
    },
    {
     "name": "stdout",
     "output_type": "stream",
     "text": [
      "0.09329819679260254\n",
      "0.09062957763671875\n",
      "0.09004974365234375\n"
     ]
    },
    {
     "name": "stderr",
     "output_type": "stream",
     "text": [
      "\n",
      " 75%|█████████████████████████████▊          | 746/1000 [01:05<00:23, 11.02it/s]\u001b[A\n",
      " 75%|█████████████████████████████▉          | 748/1000 [01:05<00:22, 11.10it/s]\u001b[A"
     ]
    },
    {
     "name": "stdout",
     "output_type": "stream",
     "text": [
      "0.08790397644042969\n",
      "0.0903925895690918\n",
      "0.08581876754760742\n"
     ]
    },
    {
     "name": "stderr",
     "output_type": "stream",
     "text": [
      "\n",
      " 75%|██████████████████████████████          | 750/1000 [01:06<00:22, 10.97it/s]\u001b[A"
     ]
    },
    {
     "name": "stdout",
     "output_type": "stream",
     "text": [
      "0.0947721004486084\n",
      "0.091064453125\n",
      "0.08998513221740723\n"
     ]
    },
    {
     "name": "stderr",
     "output_type": "stream",
     "text": [
      "\n",
      " 75%|██████████████████████████████          | 752/1000 [01:06<00:22, 11.00it/s]\u001b[A\n",
      " 75%|██████████████████████████████▏         | 754/1000 [01:06<00:22, 11.12it/s]\u001b[A"
     ]
    },
    {
     "name": "stdout",
     "output_type": "stream",
     "text": [
      "0.08946990966796875\n",
      "0.08934140205383301\n",
      "0.08467221260070801\n"
     ]
    },
    {
     "name": "stderr",
     "output_type": "stream",
     "text": [
      "\n",
      " 76%|██████████████████████████████▏         | 756/1000 [01:06<00:22, 11.01it/s]\u001b[A"
     ]
    },
    {
     "name": "stdout",
     "output_type": "stream",
     "text": [
      "0.09294438362121582\n",
      "0.09144258499145508\n",
      "0.09274959564208984\n"
     ]
    },
    {
     "name": "stderr",
     "output_type": "stream",
     "text": [
      "\n",
      " 76%|██████████████████████████████▎         | 758/1000 [01:06<00:22, 10.98it/s]\u001b[A\n",
      " 76%|██████████████████████████████▍         | 760/1000 [01:06<00:21, 11.07it/s]\u001b[A"
     ]
    },
    {
     "name": "stdout",
     "output_type": "stream",
     "text": [
      "0.0893092155456543\n",
      "0.09104251861572266\n",
      "0.08485198020935059\n"
     ]
    },
    {
     "name": "stderr",
     "output_type": "stream",
     "text": [
      "\n",
      " 76%|██████████████████████████████▍         | 762/1000 [01:07<00:21, 10.92it/s]\u001b[A"
     ]
    },
    {
     "name": "stdout",
     "output_type": "stream",
     "text": [
      "0.09742283821105957\n",
      "0.09076094627380371\n",
      "0.0916910171508789\n"
     ]
    },
    {
     "name": "stderr",
     "output_type": "stream",
     "text": [
      "\n",
      " 76%|██████████████████████████████▌         | 764/1000 [01:07<00:21, 10.86it/s]\u001b[A\n",
      " 77%|██████████████████████████████▋         | 766/1000 [01:07<00:21, 11.01it/s]\u001b[A"
     ]
    },
    {
     "name": "stdout",
     "output_type": "stream",
     "text": [
      "0.09301042556762695\n",
      "0.08962631225585938\n",
      "0.08460807800292969\n"
     ]
    },
    {
     "name": "stderr",
     "output_type": "stream",
     "text": [
      "\n",
      " 77%|██████████████████████████████▋         | 768/1000 [01:07<00:20, 11.12it/s]\u001b[A"
     ]
    },
    {
     "name": "stdout",
     "output_type": "stream",
     "text": [
      "0.09096074104309082\n",
      "0.08380985260009766\n",
      "0.0898134708404541\n"
     ]
    },
    {
     "name": "stderr",
     "output_type": "stream",
     "text": [
      "\n",
      " 77%|██████████████████████████████▊         | 770/1000 [01:07<00:20, 11.12it/s]\u001b[A\n",
      " 77%|██████████████████████████████▉         | 772/1000 [01:08<00:20, 11.19it/s]\u001b[A"
     ]
    },
    {
     "name": "stdout",
     "output_type": "stream",
     "text": [
      "0.08885669708251953\n",
      "0.0903775691986084\n",
      "0.08446288108825684\n"
     ]
    },
    {
     "name": "stderr",
     "output_type": "stream",
     "text": [
      "\n",
      " 77%|██████████████████████████████▉         | 774/1000 [01:08<00:20, 11.14it/s]\u001b[A"
     ]
    },
    {
     "name": "stdout",
     "output_type": "stream",
     "text": [
      "0.09125947952270508\n",
      "0.08934617042541504\n",
      "0.09355831146240234\n"
     ]
    },
    {
     "name": "stderr",
     "output_type": "stream",
     "text": [
      "\n",
      " 78%|███████████████████████████████         | 776/1000 [01:08<00:20, 10.96it/s]\u001b[A\n",
      " 78%|███████████████████████████████         | 778/1000 [01:08<00:20, 11.07it/s]\u001b[A"
     ]
    },
    {
     "name": "stdout",
     "output_type": "stream",
     "text": [
      "0.09409141540527344\n",
      "0.0904228687286377\n",
      "0.08490920066833496\n"
     ]
    },
    {
     "name": "stderr",
     "output_type": "stream",
     "text": [
      "\n",
      " 78%|███████████████████████████████▏        | 780/1000 [01:08<00:19, 11.11it/s]\u001b[A"
     ]
    },
    {
     "name": "stdout",
     "output_type": "stream",
     "text": [
      "0.0917978286743164\n",
      "0.08556365966796875\n",
      "0.09030580520629883\n"
     ]
    },
    {
     "name": "stderr",
     "output_type": "stream",
     "text": [
      "\n",
      " 78%|███████████████████████████████▎        | 782/1000 [01:08<00:19, 11.00it/s]\u001b[A\n",
      " 78%|███████████████████████████████▎        | 784/1000 [01:09<00:19, 10.96it/s]\u001b[A"
     ]
    },
    {
     "name": "stdout",
     "output_type": "stream",
     "text": [
      "0.09471893310546875\n",
      "0.09191727638244629\n",
      "0.09096288681030273\n"
     ]
    },
    {
     "name": "stderr",
     "output_type": "stream",
     "text": [
      "\n",
      " 79%|███████████████████████████████▍        | 786/1000 [01:09<00:19, 11.07it/s]\u001b[A"
     ]
    },
    {
     "name": "stdout",
     "output_type": "stream",
     "text": [
      "0.09032964706420898\n",
      "0.0850222110748291\n",
      "0.08985543251037598\n"
     ]
    },
    {
     "name": "stderr",
     "output_type": "stream",
     "text": [
      "\n",
      " 79%|███████████████████████████████▌        | 788/1000 [01:09<00:19, 11.00it/s]\u001b[A\n",
      " 79%|███████████████████████████████▌        | 790/1000 [01:09<00:19, 11.01it/s]\u001b[A"
     ]
    },
    {
     "name": "stdout",
     "output_type": "stream",
     "text": [
      "0.09306764602661133\n",
      "0.09106612205505371\n",
      "0.0891265869140625\n"
     ]
    },
    {
     "name": "stderr",
     "output_type": "stream",
     "text": [
      "\n",
      " 79%|███████████████████████████████▋        | 792/1000 [01:09<00:18, 11.03it/s]\u001b[A"
     ]
    },
    {
     "name": "stdout",
     "output_type": "stream",
     "text": [
      "0.09165668487548828\n",
      "0.08762383460998535\n",
      "0.09273266792297363\n"
     ]
    },
    {
     "name": "stderr",
     "output_type": "stream",
     "text": [
      "\n",
      " 79%|███████████████████████████████▊        | 794/1000 [01:10<00:18, 10.94it/s]\u001b[A\n",
      " 80%|███████████████████████████████▊        | 796/1000 [01:10<00:18, 10.99it/s]\u001b[A"
     ]
    },
    {
     "name": "stdout",
     "output_type": "stream",
     "text": [
      "0.09223365783691406\n",
      "0.09262800216674805\n",
      "0.08603048324584961\n"
     ]
    },
    {
     "name": "stderr",
     "output_type": "stream",
     "text": [
      "\n",
      " 80%|███████████████████████████████▉        | 798/1000 [01:10<00:18, 10.93it/s]\u001b[A"
     ]
    },
    {
     "name": "stdout",
     "output_type": "stream",
     "text": [
      "0.09194040298461914\n",
      "0.09233832359313965\n",
      "0.0934145450592041\n"
     ]
    },
    {
     "name": "stderr",
     "output_type": "stream",
     "text": [
      "\n",
      " 80%|████████████████████████████████        | 800/1000 [01:10<00:18, 10.85it/s]\u001b[A\n",
      " 80%|████████████████████████████████        | 802/1000 [01:10<00:18, 10.97it/s]\u001b[A"
     ]
    },
    {
     "name": "stdout",
     "output_type": "stream",
     "text": [
      "0.09293651580810547\n",
      "0.09094929695129395\n",
      "0.08558320999145508\n"
     ]
    },
    {
     "name": "stderr",
     "output_type": "stream",
     "text": [
      "\n",
      " 80%|████████████████████████████████▏       | 804/1000 [01:10<00:17, 11.02it/s]\u001b[A"
     ]
    },
    {
     "name": "stdout",
     "output_type": "stream",
     "text": [
      "0.09273004531860352\n",
      "0.08565092086791992\n",
      "0.09073472023010254\n"
     ]
    },
    {
     "name": "stderr",
     "output_type": "stream",
     "text": [
      "\n",
      " 81%|████████████████████████████████▏       | 806/1000 [01:11<00:17, 11.03it/s]\u001b[A\n",
      " 81%|████████████████████████████████▎       | 808/1000 [01:11<00:17, 11.15it/s]\u001b[A"
     ]
    },
    {
     "name": "stdout",
     "output_type": "stream",
     "text": [
      "0.08935379981994629\n",
      "0.08866214752197266\n",
      "0.08514213562011719\n"
     ]
    },
    {
     "name": "stderr",
     "output_type": "stream",
     "text": [
      "\n",
      " 81%|████████████████████████████████▍       | 810/1000 [01:11<00:17, 11.17it/s]\u001b[A"
     ]
    },
    {
     "name": "stdout",
     "output_type": "stream",
     "text": [
      "0.0923466682434082\n",
      "0.08520030975341797\n",
      "0.08777046203613281\n"
     ]
    },
    {
     "name": "stderr",
     "output_type": "stream",
     "text": [
      "\n",
      " 81%|████████████████████████████████▍       | 812/1000 [01:11<00:16, 11.20it/s]\u001b[A\n",
      " 81%|████████████████████████████████▌       | 814/1000 [01:11<00:16, 11.22it/s]\u001b[A"
     ]
    },
    {
     "name": "stdout",
     "output_type": "stream",
     "text": [
      "0.08878874778747559\n",
      "0.09056472778320312\n",
      "0.08589625358581543\n"
     ]
    },
    {
     "name": "stderr",
     "output_type": "stream",
     "text": [
      "\n",
      " 82%|████████████████████████████████▋       | 816/1000 [01:12<00:16, 11.26it/s]\u001b[A"
     ]
    },
    {
     "name": "stdout",
     "output_type": "stream",
     "text": [
      "0.09120345115661621\n",
      "0.08393573760986328\n",
      "0.08963847160339355\n"
     ]
    },
    {
     "name": "stderr",
     "output_type": "stream",
     "text": [
      "\n",
      " 82%|████████████████████████████████▋       | 818/1000 [01:12<00:16, 11.25it/s]\u001b[A\n",
      " 82%|████████████████████████████████▊       | 820/1000 [01:12<00:15, 11.32it/s]\u001b[A"
     ]
    },
    {
     "name": "stdout",
     "output_type": "stream",
     "text": [
      "0.08782553672790527\n",
      "0.08938860893249512\n",
      "0.08371376991271973\n"
     ]
    },
    {
     "name": "stderr",
     "output_type": "stream",
     "text": [
      "\n",
      " 82%|████████████████████████████████▉       | 822/1000 [01:12<00:15, 11.23it/s]\u001b[A"
     ]
    },
    {
     "name": "stdout",
     "output_type": "stream",
     "text": [
      "0.09569382667541504\n",
      "0.08432340621948242\n",
      "0.08917737007141113\n"
     ]
    },
    {
     "name": "stderr",
     "output_type": "stream",
     "text": [
      "\n",
      " 82%|████████████████████████████████▉       | 824/1000 [01:12<00:15, 11.25it/s]\u001b[A\n",
      " 83%|█████████████████████████████████       | 826/1000 [01:12<00:15, 11.35it/s]\u001b[A"
     ]
    },
    {
     "name": "stdout",
     "output_type": "stream",
     "text": [
      "0.08692121505737305\n",
      "0.08681559562683105\n",
      "0.08449578285217285\n"
     ]
    },
    {
     "name": "stderr",
     "output_type": "stream",
     "text": [
      "\n",
      " 83%|█████████████████████████████████       | 828/1000 [01:13<00:15, 11.38it/s]\u001b[A"
     ]
    },
    {
     "name": "stdout",
     "output_type": "stream",
     "text": [
      "0.09011101722717285\n",
      "0.08354306221008301\n",
      "0.08632564544677734\n"
     ]
    },
    {
     "name": "stderr",
     "output_type": "stream",
     "text": [
      "\n",
      " 83%|█████████████████████████████████▏      | 830/1000 [01:13<00:14, 11.45it/s]\u001b[A\n",
      " 83%|█████████████████████████████████▎      | 832/1000 [01:13<00:14, 11.57it/s]\u001b[A"
     ]
    },
    {
     "name": "stdout",
     "output_type": "stream",
     "text": [
      "0.08507871627807617\n",
      "0.08507943153381348\n",
      "0.0824897289276123\n"
     ]
    },
    {
     "name": "stderr",
     "output_type": "stream",
     "text": [
      "\n",
      " 83%|█████████████████████████████████▎      | 834/1000 [01:13<00:14, 11.38it/s]\u001b[A"
     ]
    },
    {
     "name": "stdout",
     "output_type": "stream",
     "text": [
      "0.09134960174560547\n",
      "0.09030508995056152\n",
      "0.09008669853210449\n"
     ]
    },
    {
     "name": "stderr",
     "output_type": "stream",
     "text": [
      "\n",
      " 84%|█████████████████████████████████▍      | 836/1000 [01:13<00:14, 11.26it/s]\u001b[A\n",
      " 84%|█████████████████████████████████▌      | 838/1000 [01:13<00:14, 11.37it/s]\u001b[A"
     ]
    },
    {
     "name": "stdout",
     "output_type": "stream",
     "text": [
      "0.09021258354187012\n",
      "0.08816266059875488\n",
      "0.08221268653869629\n"
     ]
    },
    {
     "name": "stderr",
     "output_type": "stream",
     "text": [
      "\n",
      " 84%|█████████████████████████████████▌      | 840/1000 [01:14<00:14, 11.23it/s]\u001b[A"
     ]
    },
    {
     "name": "stdout",
     "output_type": "stream",
     "text": [
      "0.09132266044616699\n",
      "0.09102988243103027\n",
      "0.08954572677612305\n"
     ]
    },
    {
     "name": "stderr",
     "output_type": "stream",
     "text": [
      "\n",
      " 84%|█████████████████████████████████▋      | 842/1000 [01:14<00:14, 11.19it/s]\u001b[A\n",
      " 84%|█████████████████████████████████▊      | 844/1000 [01:14<00:13, 11.38it/s]\u001b[A"
     ]
    },
    {
     "name": "stdout",
     "output_type": "stream",
     "text": [
      "0.08967089653015137\n",
      "0.08531522750854492\n",
      "0.08233308792114258\n"
     ]
    },
    {
     "name": "stderr",
     "output_type": "stream",
     "text": [
      "\n",
      " 85%|█████████████████████████████████▊      | 846/1000 [01:14<00:13, 11.27it/s]\u001b[A"
     ]
    },
    {
     "name": "stdout",
     "output_type": "stream",
     "text": [
      "0.09072113037109375\n",
      "0.08970880508422852\n",
      "0.08896660804748535\n"
     ]
    },
    {
     "name": "stderr",
     "output_type": "stream",
     "text": [
      "\n",
      " 85%|█████████████████████████████████▉      | 848/1000 [01:14<00:13, 11.25it/s]\u001b[A\n",
      " 85%|██████████████████████████████████      | 850/1000 [01:15<00:13, 11.30it/s]\u001b[A"
     ]
    },
    {
     "name": "stdout",
     "output_type": "stream",
     "text": [
      "0.08786773681640625\n",
      "0.08855175971984863\n",
      "0.08599591255187988\n"
     ]
    },
    {
     "name": "stderr",
     "output_type": "stream",
     "text": [
      "\n",
      " 85%|██████████████████████████████████      | 852/1000 [01:15<00:13, 11.19it/s]\u001b[A"
     ]
    },
    {
     "name": "stdout",
     "output_type": "stream",
     "text": [
      "0.09155726432800293\n",
      "0.08967280387878418\n",
      "0.08890652656555176\n"
     ]
    },
    {
     "name": "stderr",
     "output_type": "stream",
     "text": [
      "\n",
      " 85%|██████████████████████████████████▏     | 854/1000 [01:15<00:12, 11.23it/s]\u001b[A\n",
      " 86%|██████████████████████████████████▏     | 856/1000 [01:15<00:12, 11.14it/s]\u001b[A"
     ]
    },
    {
     "name": "stdout",
     "output_type": "stream",
     "text": [
      "0.08613443374633789\n",
      "0.0914449691772461\n",
      "0.09031915664672852\n"
     ]
    },
    {
     "name": "stderr",
     "output_type": "stream",
     "text": [
      "\n",
      " 86%|██████████████████████████████████▎     | 858/1000 [01:15<00:12, 11.08it/s]\u001b[A"
     ]
    },
    {
     "name": "stdout",
     "output_type": "stream",
     "text": [
      "0.09257197380065918\n",
      "0.08909416198730469\n",
      "0.08983111381530762\n"
     ]
    },
    {
     "name": "stderr",
     "output_type": "stream",
     "text": [
      "\n",
      " 86%|██████████████████████████████████▍     | 860/1000 [01:15<00:12, 11.05it/s]\u001b[A\n",
      " 86%|██████████████████████████████████▍     | 862/1000 [01:16<00:12, 10.99it/s]\u001b[A"
     ]
    },
    {
     "name": "stdout",
     "output_type": "stream",
     "text": [
      "0.09096741676330566\n",
      "0.09155821800231934\n",
      "0.09122753143310547\n"
     ]
    },
    {
     "name": "stderr",
     "output_type": "stream",
     "text": [
      "\n",
      " 86%|██████████████████████████████████▌     | 864/1000 [01:16<00:12, 11.06it/s]\u001b[A"
     ]
    },
    {
     "name": "stdout",
     "output_type": "stream",
     "text": [
      "0.09195089340209961\n",
      "0.08454251289367676\n",
      "0.0883629322052002\n"
     ]
    },
    {
     "name": "stderr",
     "output_type": "stream",
     "text": [
      "\n",
      " 87%|██████████████████████████████████▋     | 866/1000 [01:16<00:12, 11.09it/s]\u001b[A\n",
      " 87%|██████████████████████████████████▋     | 868/1000 [01:16<00:12, 10.98it/s]\u001b[A"
     ]
    },
    {
     "name": "stdout",
     "output_type": "stream",
     "text": [
      "0.0900571346282959\n",
      "0.09173440933227539\n",
      "0.09338569641113281\n"
     ]
    },
    {
     "name": "stderr",
     "output_type": "stream",
     "text": [
      "\n",
      " 87%|██████████████████████████████████▊     | 870/1000 [01:16<00:11, 11.08it/s]\u001b[A"
     ]
    },
    {
     "name": "stdout",
     "output_type": "stream",
     "text": [
      "0.09025025367736816\n",
      "0.08497309684753418\n",
      "0.09105086326599121\n"
     ]
    },
    {
     "name": "stderr",
     "output_type": "stream",
     "text": [
      "\n",
      " 87%|██████████████████████████████████▉     | 872/1000 [01:17<00:11, 11.06it/s]\u001b[A\n",
      " 87%|██████████████████████████████████▉     | 874/1000 [01:17<00:11, 10.87it/s]\u001b[A"
     ]
    },
    {
     "name": "stdout",
     "output_type": "stream",
     "text": [
      "0.08938241004943848\n",
      "0.09728670120239258\n",
      "0.09333562850952148\n"
     ]
    },
    {
     "name": "stderr",
     "output_type": "stream",
     "text": [
      "\n",
      " 88%|███████████████████████████████████     | 876/1000 [01:17<00:11, 10.88it/s]\u001b[A"
     ]
    },
    {
     "name": "stdout",
     "output_type": "stream",
     "text": [
      "0.09326004981994629\n",
      "0.08896112442016602\n",
      "0.09013557434082031\n"
     ]
    },
    {
     "name": "stderr",
     "output_type": "stream",
     "text": [
      "\n",
      " 88%|███████████████████████████████████     | 878/1000 [01:17<00:11, 10.95it/s]\u001b[A\n",
      " 88%|███████████████████████████████████▏    | 880/1000 [01:17<00:10, 11.09it/s]\u001b[A"
     ]
    },
    {
     "name": "stdout",
     "output_type": "stream",
     "text": [
      "0.08850359916687012\n",
      "0.08618378639221191\n",
      "0.08768153190612793\n"
     ]
    },
    {
     "name": "stderr",
     "output_type": "stream",
     "text": [
      "\n",
      " 88%|███████████████████████████████████▎    | 882/1000 [01:17<00:10, 10.86it/s]\u001b[A"
     ]
    },
    {
     "name": "stdout",
     "output_type": "stream",
     "text": [
      "0.09965395927429199\n",
      "0.09229063987731934\n",
      "0.09070110321044922\n"
     ]
    },
    {
     "name": "stderr",
     "output_type": "stream",
     "text": [
      "\n",
      " 88%|███████████████████████████████████▎    | 884/1000 [01:18<00:10, 10.92it/s]\u001b[A\n",
      " 89%|███████████████████████████████████▍    | 886/1000 [01:18<00:10, 10.97it/s]\u001b[A"
     ]
    },
    {
     "name": "stdout",
     "output_type": "stream",
     "text": [
      "0.0882871150970459\n",
      "0.09060478210449219\n",
      "0.08902120590209961\n"
     ]
    },
    {
     "name": "stderr",
     "output_type": "stream",
     "text": [
      "\n",
      " 89%|███████████████████████████████████▌    | 888/1000 [01:18<00:10, 10.89it/s]\u001b[A"
     ]
    },
    {
     "name": "stdout",
     "output_type": "stream",
     "text": [
      "0.09301471710205078\n",
      "0.09166216850280762\n",
      "0.0887753963470459\n"
     ]
    },
    {
     "name": "stderr",
     "output_type": "stream",
     "text": [
      "\n",
      " 89%|███████████████████████████████████▌    | 890/1000 [01:18<00:10, 10.98it/s]\u001b[A\n",
      " 89%|███████████████████████████████████▋    | 892/1000 [01:18<00:09, 10.93it/s]\u001b[A"
     ]
    },
    {
     "name": "stdout",
     "output_type": "stream",
     "text": [
      "0.08871030807495117\n",
      "0.09270596504211426\n",
      "0.09105229377746582\n"
     ]
    },
    {
     "name": "stderr",
     "output_type": "stream",
     "text": [
      "\n",
      " 89%|███████████████████████████████████▊    | 894/1000 [01:19<00:09, 10.97it/s]\u001b[A"
     ]
    },
    {
     "name": "stdout",
     "output_type": "stream",
     "text": [
      "0.09429526329040527\n",
      "0.08463048934936523\n",
      "0.0907754898071289\n"
     ]
    },
    {
     "name": "stderr",
     "output_type": "stream",
     "text": [
      "\n",
      " 90%|███████████████████████████████████▊    | 896/1000 [01:19<00:09, 10.95it/s]\u001b[A\n",
      " 90%|███████████████████████████████████▉    | 898/1000 [01:19<00:09, 10.95it/s]\u001b[A"
     ]
    },
    {
     "name": "stdout",
     "output_type": "stream",
     "text": [
      "0.09162354469299316\n",
      "0.09151363372802734\n",
      "0.08954381942749023\n"
     ]
    },
    {
     "name": "stderr",
     "output_type": "stream",
     "text": [
      "\n",
      " 90%|████████████████████████████████████    | 900/1000 [01:19<00:09, 11.08it/s]\u001b[A"
     ]
    },
    {
     "name": "stdout",
     "output_type": "stream",
     "text": [
      "0.09004926681518555\n",
      "0.0841684341430664\n",
      "0.0925905704498291\n"
     ]
    },
    {
     "name": "stderr",
     "output_type": "stream",
     "text": [
      "\n",
      " 90%|████████████████████████████████████    | 902/1000 [01:19<00:08, 10.98it/s]\u001b[A\n",
      " 90%|████████████████████████████████████▏   | 904/1000 [01:19<00:08, 11.07it/s]\u001b[A"
     ]
    },
    {
     "name": "stdout",
     "output_type": "stream",
     "text": [
      "0.09268021583557129\n",
      "0.09145236015319824\n",
      "0.08449840545654297\n"
     ]
    },
    {
     "name": "stderr",
     "output_type": "stream",
     "text": [
      "\n",
      " 91%|████████████████████████████████████▏   | 906/1000 [01:20<00:08, 11.21it/s]\u001b[A"
     ]
    },
    {
     "name": "stdout",
     "output_type": "stream",
     "text": [
      "0.08990669250488281\n",
      "0.0821695327758789\n",
      "0.09135699272155762\n"
     ]
    },
    {
     "name": "stderr",
     "output_type": "stream",
     "text": [
      "\n",
      " 91%|████████████████████████████████████▎   | 908/1000 [01:20<00:08, 11.10it/s]\u001b[A\n",
      " 91%|████████████████████████████████████▍   | 910/1000 [01:20<00:08, 11.17it/s]\u001b[A"
     ]
    },
    {
     "name": "stdout",
     "output_type": "stream",
     "text": [
      "0.09186363220214844\n",
      "0.0915379524230957\n",
      "0.08368802070617676\n"
     ]
    },
    {
     "name": "stderr",
     "output_type": "stream",
     "text": [
      "\n",
      " 91%|████████████████████████████████████▍   | 912/1000 [01:20<00:07, 11.27it/s]\u001b[A"
     ]
    },
    {
     "name": "stdout",
     "output_type": "stream",
     "text": [
      "0.08942675590515137\n",
      "0.08335304260253906\n",
      "0.09059500694274902\n"
     ]
    },
    {
     "name": "stderr",
     "output_type": "stream",
     "text": [
      "\n",
      " 91%|████████████████████████████████████▌   | 914/1000 [01:20<00:07, 11.16it/s]\u001b[A\n",
      " 92%|████████████████████████████████████▋   | 916/1000 [01:21<00:07, 11.00it/s]\u001b[A"
     ]
    },
    {
     "name": "stdout",
     "output_type": "stream",
     "text": [
      "0.09159255027770996\n",
      "0.09472990036010742\n",
      "0.09217143058776855\n"
     ]
    },
    {
     "name": "stderr",
     "output_type": "stream",
     "text": [
      "\n",
      " 92%|████████████████████████████████████▋   | 918/1000 [01:21<00:07, 11.03it/s]\u001b[A"
     ]
    },
    {
     "name": "stdout",
     "output_type": "stream",
     "text": [
      "0.09276771545410156\n",
      "0.08620285987854004\n",
      "0.08920025825500488\n"
     ]
    },
    {
     "name": "stderr",
     "output_type": "stream",
     "text": [
      "\n",
      " 92%|████████████████████████████████████▊   | 920/1000 [01:21<00:07, 11.10it/s]\u001b[A\n",
      " 92%|████████████████████████████████████▉   | 922/1000 [01:21<00:06, 11.28it/s]\u001b[A"
     ]
    },
    {
     "name": "stdout",
     "output_type": "stream",
     "text": [
      "0.08733129501342773\n",
      "0.08564138412475586\n",
      "0.08381056785583496\n"
     ]
    },
    {
     "name": "stderr",
     "output_type": "stream",
     "text": [
      "\n",
      " 92%|████████████████████████████████████▉   | 924/1000 [01:21<00:06, 11.17it/s]\u001b[A"
     ]
    },
    {
     "name": "stdout",
     "output_type": "stream",
     "text": [
      "0.09266161918640137\n",
      "0.08964943885803223\n",
      "0.09050607681274414\n"
     ]
    },
    {
     "name": "stderr",
     "output_type": "stream",
     "text": [
      "\n",
      " 93%|█████████████████████████████████████   | 926/1000 [01:21<00:06, 11.13it/s]\u001b[A\n",
      " 93%|█████████████████████████████████████   | 928/1000 [01:22<00:06, 11.31it/s]\u001b[A"
     ]
    },
    {
     "name": "stdout",
     "output_type": "stream",
     "text": [
      "0.08944201469421387\n",
      "0.0854952335357666\n",
      "0.08397388458251953\n"
     ]
    },
    {
     "name": "stderr",
     "output_type": "stream",
     "text": [
      "\n",
      " 93%|█████████████████████████████████████▏  | 930/1000 [01:22<00:06, 11.23it/s]\u001b[A"
     ]
    },
    {
     "name": "stdout",
     "output_type": "stream",
     "text": [
      "0.09207677841186523\n",
      "0.08756160736083984\n",
      "0.09200215339660645\n"
     ]
    },
    {
     "name": "stderr",
     "output_type": "stream",
     "text": [
      "\n",
      " 93%|█████████████████████████████████████▎  | 932/1000 [01:22<00:06, 11.13it/s]\u001b[A\n",
      " 93%|█████████████████████████████████████▎  | 934/1000 [01:22<00:05, 11.04it/s]\u001b[A"
     ]
    },
    {
     "name": "stdout",
     "output_type": "stream",
     "text": [
      "0.09060049057006836\n",
      "0.09098386764526367\n",
      "0.09253573417663574\n"
     ]
    },
    {
     "name": "stderr",
     "output_type": "stream",
     "text": [
      "\n",
      " 94%|█████████████████████████████████████▍  | 936/1000 [01:22<00:05, 10.89it/s]\u001b[A"
     ]
    },
    {
     "name": "stdout",
     "output_type": "stream",
     "text": [
      "0.09620499610900879\n",
      "0.09198999404907227\n",
      "0.0906217098236084\n"
     ]
    },
    {
     "name": "stderr",
     "output_type": "stream",
     "text": [
      "\n",
      " 94%|█████████████████████████████████████▌  | 938/1000 [01:23<00:05, 10.93it/s]\u001b[A\n",
      " 94%|█████████████████████████████████████▌  | 940/1000 [01:23<00:05, 11.02it/s]\u001b[A"
     ]
    },
    {
     "name": "stdout",
     "output_type": "stream",
     "text": [
      "0.08963847160339355\n",
      "0.09288454055786133\n",
      "0.0838778018951416\n"
     ]
    },
    {
     "name": "stderr",
     "output_type": "stream",
     "text": [
      "\n",
      " 94%|█████████████████████████████████████▋  | 942/1000 [01:23<00:05, 11.07it/s]\u001b[A"
     ]
    },
    {
     "name": "stdout",
     "output_type": "stream",
     "text": [
      "0.09267234802246094\n",
      "0.08531355857849121\n",
      "0.0907292366027832\n"
     ]
    },
    {
     "name": "stderr",
     "output_type": "stream",
     "text": [
      "\n",
      " 94%|█████████████████████████████████████▊  | 944/1000 [01:23<00:05, 11.09it/s]\u001b[A\n",
      " 95%|█████████████████████████████████████▊  | 946/1000 [01:23<00:04, 11.11it/s]\u001b[A"
     ]
    },
    {
     "name": "stdout",
     "output_type": "stream",
     "text": [
      "0.0879220962524414\n",
      "0.09201383590698242\n",
      "0.08605790138244629\n"
     ]
    },
    {
     "name": "stderr",
     "output_type": "stream",
     "text": [
      "\n",
      " 95%|█████████████████████████████████████▉  | 948/1000 [01:23<00:04, 11.05it/s]\u001b[A"
     ]
    },
    {
     "name": "stdout",
     "output_type": "stream",
     "text": [
      "0.09592628479003906\n",
      "0.08602046966552734\n",
      "0.09093570709228516\n"
     ]
    },
    {
     "name": "stderr",
     "output_type": "stream",
     "text": [
      "\n",
      " 95%|██████████████████████████████████████  | 950/1000 [01:24<00:04, 11.05it/s]\u001b[A\n",
      " 95%|██████████████████████████████████████  | 952/1000 [01:24<00:04, 11.10it/s]\u001b[A"
     ]
    },
    {
     "name": "stdout",
     "output_type": "stream",
     "text": [
      "0.08913373947143555\n",
      "0.09113311767578125\n",
      "0.08621549606323242\n"
     ]
    },
    {
     "name": "stderr",
     "output_type": "stream",
     "text": [
      "\n",
      " 95%|██████████████████████████████████████▏ | 954/1000 [01:24<00:04, 11.12it/s]\u001b[A"
     ]
    },
    {
     "name": "stdout",
     "output_type": "stream",
     "text": [
      "0.09157705307006836\n",
      "0.08616304397583008\n",
      "0.09502005577087402\n"
     ]
    },
    {
     "name": "stderr",
     "output_type": "stream",
     "text": [
      "\n",
      " 96%|██████████████████████████████████████▏ | 956/1000 [01:24<00:04, 10.90it/s]\u001b[A\n",
      " 96%|██████████████████████████████████████▎ | 958/1000 [01:24<00:03, 10.90it/s]\u001b[A"
     ]
    },
    {
     "name": "stdout",
     "output_type": "stream",
     "text": [
      "0.09526586532592773\n",
      "0.09530210494995117\n",
      "0.08714556694030762\n"
     ]
    },
    {
     "name": "stderr",
     "output_type": "stream",
     "text": [
      "\n",
      " 96%|██████████████████████████████████████▍ | 960/1000 [01:25<00:03, 10.87it/s]\u001b[A"
     ]
    },
    {
     "name": "stdout",
     "output_type": "stream",
     "text": [
      "0.09741401672363281\n",
      "0.08669161796569824\n",
      "0.09473514556884766\n"
     ]
    },
    {
     "name": "stderr",
     "output_type": "stream",
     "text": [
      "\n",
      " 96%|██████████████████████████████████████▍ | 962/1000 [01:25<00:03, 10.75it/s]\u001b[A\n",
      " 96%|██████████████████████████████████████▌ | 964/1000 [01:25<00:03, 10.79it/s]\u001b[A"
     ]
    },
    {
     "name": "stdout",
     "output_type": "stream",
     "text": [
      "0.09495282173156738\n",
      "0.09403610229492188\n",
      "0.08830809593200684\n"
     ]
    },
    {
     "name": "stderr",
     "output_type": "stream",
     "text": [
      "\n",
      " 97%|██████████████████████████████████████▋ | 966/1000 [01:25<00:03, 10.82it/s]\u001b[A"
     ]
    },
    {
     "name": "stdout",
     "output_type": "stream",
     "text": [
      "0.09295248985290527\n",
      "0.0897071361541748\n"
     ]
    },
    {
     "name": "stderr",
     "output_type": "stream",
     "text": [
      "\n",
      " 97%|██████████████████████████████████████▋ | 968/1000 [01:25<00:03, 10.39it/s]\u001b[A"
     ]
    },
    {
     "name": "stdout",
     "output_type": "stream",
     "text": [
      "0.11461925506591797\n",
      "0.09416627883911133\n",
      "0.09167194366455078\n"
     ]
    },
    {
     "name": "stderr",
     "output_type": "stream",
     "text": [
      "\n",
      " 97%|██████████████████████████████████████▊ | 970/1000 [01:25<00:02, 10.57it/s]\u001b[A\n",
      " 97%|██████████████████████████████████████▉ | 972/1000 [01:26<00:02, 10.61it/s]\u001b[A"
     ]
    },
    {
     "name": "stdout",
     "output_type": "stream",
     "text": [
      "0.0885164737701416\n",
      "0.09374833106994629\n",
      "0.0918574333190918\n"
     ]
    },
    {
     "name": "stderr",
     "output_type": "stream",
     "text": [
      "\n",
      " 97%|██████████████████████████████████████▉ | 974/1000 [01:26<00:02, 10.68it/s]\u001b[A"
     ]
    },
    {
     "name": "stdout",
     "output_type": "stream",
     "text": [
      "0.09456419944763184\n",
      "0.08817839622497559\n",
      "0.0919334888458252\n"
     ]
    },
    {
     "name": "stderr",
     "output_type": "stream",
     "text": [
      "\n",
      " 98%|███████████████████████████████████████ | 976/1000 [01:26<00:02, 10.74it/s]\u001b[A\n",
      " 98%|███████████████████████████████████████ | 978/1000 [01:26<00:02, 10.71it/s]\u001b[A"
     ]
    },
    {
     "name": "stdout",
     "output_type": "stream",
     "text": [
      "0.09052705764770508\n",
      "0.0946662425994873\n",
      "0.09164118766784668\n"
     ]
    },
    {
     "name": "stderr",
     "output_type": "stream",
     "text": [
      "\n",
      " 98%|███████████████████████████████████████▏| 980/1000 [01:26<00:01, 10.86it/s]\u001b[A"
     ]
    },
    {
     "name": "stdout",
     "output_type": "stream",
     "text": [
      "0.09153580665588379\n",
      "0.08525848388671875\n",
      "0.09258842468261719\n"
     ]
    },
    {
     "name": "stderr",
     "output_type": "stream",
     "text": [
      "\n",
      " 98%|███████████████████████████████████████▎| 982/1000 [01:27<00:01, 10.90it/s]\u001b[A\n",
      " 98%|███████████████████████████████████████▎| 984/1000 [01:27<00:01, 10.83it/s]\u001b[A"
     ]
    },
    {
     "name": "stdout",
     "output_type": "stream",
     "text": [
      "0.08781552314758301\n",
      "0.09343075752258301\n",
      "0.09309840202331543\n"
     ]
    },
    {
     "name": "stderr",
     "output_type": "stream",
     "text": [
      "\n",
      " 99%|███████████████████████████████████████▍| 986/1000 [01:27<00:01, 10.83it/s]\u001b[A"
     ]
    },
    {
     "name": "stdout",
     "output_type": "stream",
     "text": [
      "0.0935368537902832\n",
      "0.08931279182434082\n",
      "0.09200429916381836\n"
     ]
    },
    {
     "name": "stderr",
     "output_type": "stream",
     "text": [
      "\n",
      " 99%|███████████████████████████████████████▌| 988/1000 [01:27<00:01, 10.86it/s]\u001b[A\n",
      " 99%|███████████████████████████████████████▌| 990/1000 [01:27<00:00, 10.70it/s]\u001b[A"
     ]
    },
    {
     "name": "stdout",
     "output_type": "stream",
     "text": [
      "0.0897679328918457\n",
      "0.09660196304321289\n",
      "0.09551143646240234\n"
     ]
    },
    {
     "name": "stderr",
     "output_type": "stream",
     "text": [
      "\n",
      " 99%|███████████████████████████████████████▋| 992/1000 [01:28<00:00, 10.74it/s]\u001b[A"
     ]
    },
    {
     "name": "stdout",
     "output_type": "stream",
     "text": [
      "0.0938718318939209\n",
      "0.08927083015441895\n",
      "0.09076595306396484\n"
     ]
    },
    {
     "name": "stderr",
     "output_type": "stream",
     "text": [
      "\n",
      " 99%|███████████████████████████████████████▊| 994/1000 [01:28<00:00, 10.85it/s]\u001b[A\n",
      "100%|███████████████████████████████████████▊| 996/1000 [01:28<00:00, 10.81it/s]\u001b[A"
     ]
    },
    {
     "name": "stdout",
     "output_type": "stream",
     "text": [
      "0.08804869651794434\n",
      "0.09316039085388184\n",
      "0.09215188026428223\n"
     ]
    },
    {
     "name": "stderr",
     "output_type": "stream",
     "text": [
      "\n",
      "100%|███████████████████████████████████████▉| 998/1000 [01:28<00:00, 10.80it/s]\u001b[A"
     ]
    },
    {
     "name": "stdout",
     "output_type": "stream",
     "text": [
      "0.09376907348632812\n",
      "0.09048604965209961\n",
      "0.09178018569946289\n"
     ]
    },
    {
     "name": "stderr",
     "output_type": "stream",
     "text": [
      "\n",
      "100%|███████████████████████████████████████| 1000/1000 [01:28<00:00, 11.27it/s]\u001b[A\n",
      "100%|█████████████████████████████████████████████| 5/5 [07:10<00:00, 86.14s/it]\n"
     ]
    },
    {
     "name": "stdout",
     "output_type": "stream",
     "text": [
      "0.0886693000793457\n",
      "One run completed\n"
     ]
    }
   ],
   "source": [
    "if __name__ =='__main__':\n",
    "    T,runs,lr,batch_size,state,nS,nA,rep_cost,alpha,gamma = get_hyperparameters().ret_hyperparameters();\n",
    "    print(nS,nA);\n",
    "    nPOL = nS;\n",
    "    T_update = int(T/batch_size);\n",
    "    mr_obj = Machine_Replacement(rep_cost,nS,nA);\n",
    "    P,R = mr_obj.gen_probability(),mr_obj.gen_expected_reward()\n",
    "    theta = np.ones(nPOL);\n",
    "    behaviour_policy = np.ones((nS,nA))*0.5;\n",
    "    print(behaviour_policy,P);\n",
    "    behaviour_policy_state_distribution = beh_pol_sd(P,behaviour_policy,nS,nA).state_distribution_simulated(0);\n",
    "    data = simulate_episode(T,state,behaviour_policy,P,batch_size);\n",
    "    with open('data_used','wb') as f:\n",
    "      pickle.dump(data,f);\n",
    "    target_policy = np.ones((nPOL,nS),dtype = np.int8)\n",
    "    data_dict={0:[],1:[],2:[],3:[],4:[]};\n",
    "    val2 = []\n",
    "    for i in range(nPOL-1,0,-1):\n",
    "        target_policy[nPOL-i-1][0:i] = 0;\n",
    "    for t in target_policy:\n",
    "        val2.append(sum([R[t[s],s] for s in range(nS)]))\n",
    "    val2 = np.array(val2);\n",
    "    one_hot_target_policy = one_hot(target_policy,nS,nA)\n",
    "    w_obj = average_case_version_2(nS,nA,behaviour_policy,state,lr,one_hot_target_policy,batch_size,data_dict);\n",
    "    '''for i in range(nPOL):\n",
    "      w_obj[i].set_target_policy(one_hot_target_policy[i]);'''\n",
    "    policy_selected = np.zeros((T_update,runs))\n",
    "    policy_sampled = np.zeros((T_update,runs))\n",
    "    theta_change = []\n",
    "    estimated_value = np.zeros((T_update,runs))\n",
    "    loss = np.zeros((T_update,runs))\n",
    "    val = 50;\n",
    "    lr = 1;\n",
    "    beta = 1;\n",
    "    #######################################################################################\n",
    "    '''mp.set_start_method('spawn')\n",
    "    p1 = mp.Process(target = processing ,args=(nPOL,0,policy_sampled,policy_selected,loss,estimated_value,T_update,P,R,val))\n",
    "    p2 = mp.Process(target = processing ,args=(nPOL,1,policy_sampled,policy_selected,loss,estimated_value,T_update,P,R,val))\n",
    "    p3 = mp.Process(target = processing ,args=(nPOL,2,policy_sampled,policy_selected,loss,estimated_value,T_update,P,R,val))\n",
    "    p4 = mp.Process(target = processing ,args=(nPOL,3,policy_sampled,policy_selected,loss,estimated_value,T_update,P,R,val))\n",
    "    p5 = mp.Process(target = processing ,args=(nPOL,4,policy_sampled,policy_selected,loss,estimated_value,T_update,P,R,val))\n",
    "    #p1 = mp.Process(target = processing ,args=(0,policy_sampled,policy_selected,loss,estimated_value,T_update,val))\n",
    "    #p1 = mp.Process(target = processing ,args=(0,policy_sampled,policy_selected,loss,estimated_value,T_update,val))\n",
    "    #p1 = mp.Process(target = processing ,args=(0,policy_sampled,policy_selected,loss,estimated_value,T_update,val))\n",
    "    #p1 = mp.Process(target = processing ,args=(0,policy_sampled,policy_selected,loss,estimated_value,T_update,val))\n",
    "    #p1 = mp.Process(target = processing ,args=(0,policy_sampled,policy_selected,loss,estimated_value,T_update,val))\n",
    "    p1.start();\n",
    "    p2.start();\n",
    "    p3.start();\n",
    "    p4.start();\n",
    "    p5.start();\n",
    "    p1.join();\n",
    "    p2.join();\n",
    "    p3.join();\n",
    "    p4.join();\n",
    "    p5.join();'''\n",
    "    #######################################################################################\n",
    "    for run in tqdm(range(runs)):\n",
    "        processing(nPOL,run,policy_sampled,policy_selected,loss,estimated_value,T_update,P,R,val,val2,behaviour_policy_state_distribution,beta,batch_size,alpha,data)\n",
    "        print(\"One run completed\");\n",
    "    #######################################################################################\n",
    "    #pd.DataFrame(policy_selected).to_excel(\"Policy_selection.xlsx\");\n",
    "    #pd.DataFrame(np.array(theta_change)).to_excel(\"Theta_values_non_estimate.xlsx\");\n",
    "    pd.DataFrame(policy_sampled).to_excel(\"Policy_sampling_Thompson_Sampling_variant_2_faster.xlsx\");\n",
    "    pd.DataFrame(data[T_update-1]).to_excel(\"Data_Used_Thompson_Sampling_variant_2_faster.xlsx\");\n",
    "    pd.DataFrame(estimated_value).to_excel(\"Estimated_Value_functions_Thompson_Sampling_variant_2_faster.xlsx\");"
   ]
  },
  {
   "cell_type": "code",
   "execution_count": 23,
   "id": "a137b7ba",
   "metadata": {},
   "outputs": [
    {
     "name": "stdout",
     "output_type": "stream",
     "text": [
      "Requirement already satisfied: openpyxl in ./anaconda3/lib/python3.9/site-packages (3.0.9)\n",
      "Requirement already satisfied: et-xmlfile in ./anaconda3/lib/python3.9/site-packages (from openpyxl) (1.1.0)\n",
      "\u001b[33mWARNING: You are using pip version 22.0.4; however, version 22.3.1 is available.\n",
      "You should consider upgrading via the '/home/user/anaconda3/bin/python -m pip install --upgrade pip' command.\u001b[0m\u001b[33m\n",
      "\u001b[0m"
     ]
    }
   ],
   "source": [
    "!pip3 install openpyxl"
   ]
  },
  {
   "cell_type": "code",
   "execution_count": 24,
   "id": "459d1ea1",
   "metadata": {},
   "outputs": [],
   "source": [
    "state_dist=[]\n",
    "for s in range(nS):\n",
    "    c=w_obj.weight_obj(s).detach().cpu().numpy()[0]\n",
    "    state_dist.append(c)\n",
    "c=np.array(state_dist)*behaviour_policy_state_distribution"
   ]
  },
  {
   "cell_type": "code",
   "execution_count": 25,
   "id": "50e7b588",
   "metadata": {},
   "outputs": [
    {
     "data": {
      "text/plain": [
       "array([0.49553907, 0.15608018, 0.14004363, 0.20833712])"
      ]
     },
     "execution_count": 25,
     "metadata": {},
     "output_type": "execute_result"
    }
   ],
   "source": [
    "c/np.sum(c)"
   ]
  },
  {
   "cell_type": "code",
   "execution_count": null,
   "id": "e4390085",
   "metadata": {},
   "outputs": [],
   "source": [
    "pd.DataFrame(data[T_update-1]).to_excel(\"Data_Used_Thompson_Sampling_variant_2.xlsx\");\n",
    "pd.DataFrame(estimated_value).to_excel(\"Estimated_Value_functions_Thompson_Sampling_variant_2.xlsx\");"
   ]
  },
  {
   "cell_type": "code",
   "execution_count": null,
   "id": "820fba8b",
   "metadata": {},
   "outputs": [],
   "source": [
    "len(data[T_update-1])"
   ]
  },
  {
   "cell_type": "code",
   "execution_count": 347,
   "id": "900f83e5",
   "metadata": {},
   "outputs": [],
   "source": [
    "a = np.ones(10)\n",
    "a[1] = 3\n",
    "a[4] = 5\n",
    "a\n",
    "b = np.reshape(a,(5,2))"
   ]
  },
  {
   "cell_type": "code",
   "execution_count": 348,
   "id": "edfdbdd0",
   "metadata": {},
   "outputs": [
    {
     "data": {
      "text/plain": [
       "array([1., 3., 1., 1., 5., 1., 1., 1., 1., 1.])"
      ]
     },
     "execution_count": 348,
     "metadata": {},
     "output_type": "execute_result"
    }
   ],
   "source": [
    "a"
   ]
  },
  {
   "cell_type": "code",
   "execution_count": 349,
   "id": "569fd726",
   "metadata": {},
   "outputs": [
    {
     "data": {
      "text/plain": [
       "array([[1., 3.],\n",
       "       [1., 1.],\n",
       "       [5., 1.],\n",
       "       [1., 1.],\n",
       "       [1., 1.]])"
      ]
     },
     "execution_count": 349,
     "metadata": {},
     "output_type": "execute_result"
    }
   ],
   "source": [
    "b"
   ]
  },
  {
   "cell_type": "code",
   "execution_count": null,
   "id": "a7685460",
   "metadata": {},
   "outputs": [],
   "source": []
  }
 ],
 "metadata": {
  "kernelspec": {
   "display_name": "Python 3 (ipykernel)",
   "language": "python",
   "name": "python3"
  },
  "language_info": {
   "codemirror_mode": {
    "name": "ipython",
    "version": 3
   },
   "file_extension": ".py",
   "mimetype": "text/x-python",
   "name": "python",
   "nbconvert_exporter": "python",
   "pygments_lexer": "ipython3",
   "version": "3.9.7"
  }
 },
 "nbformat": 4,
 "nbformat_minor": 5
}
