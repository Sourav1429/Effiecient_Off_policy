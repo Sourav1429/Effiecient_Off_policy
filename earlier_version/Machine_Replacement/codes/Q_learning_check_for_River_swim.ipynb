{
 "cells": [
  {
   "cell_type": "code",
   "execution_count": 37,
   "id": "bcab2c60",
   "metadata": {},
   "outputs": [
    {
     "data": {
      "text/plain": [
       "'nS = 6;\\nnA=2;\\nobj = River_Swim(nS,nA);\\nprint(\"Probability matrix\");\\nprint(obj.gen_probability());\\nprint(\"Reward Matrix\");\\nprint(obj.gen_expected_reward());'"
      ]
     },
     "execution_count": 37,
     "metadata": {},
     "output_type": "execute_result"
    }
   ],
   "source": [
    "#creating the environment down here\n",
    "#!/usr/bin/env python3\n",
    "# -*- coding: utf-8 -*-\n",
    "\"\"\"\n",
    "Created on Wed Aug 10 11:43:00 2022\n",
    "\n",
    "@author: Sourav\n",
    "\"\"\"\n",
    "import numpy as np\n",
    "class River_Swim:\n",
    "    def __init__(self,nS=6,nA=2):\n",
    "        self.nS = nS;\n",
    "        self.nA = nA;\n",
    "    def gen_probability(self):\n",
    "        P = np.zeros((self.nA,self.nS,self.nS));\n",
    "        P[0,0,0],P[0,0,1] = 0.9,0.1\n",
    "        P[1,self.nS-1,self.nS-1],P[1,self.nS-1,self.nS-2] = 0.6,0.4\n",
    "        for i in range(1,self.nS-1):\n",
    "            P[0,i,i-1],P[0,i,i],P[0,i,i+1] = 0.3,0.6,0.1\n",
    "            P[1,self.nS-i-1,self.nS-i],P[1,self.nS-i-1,self.nS-i-1],P[1,self.nS-i-1,self.nS-i-2] = 0.3,0.6,0.1\n",
    "        P[0,self.nS-1,self.nS-1],P[0,self.nS-1,self.nS-2] = 0.7,0.3\n",
    "        P[1,0,0],P[1,0,1] = 0.7,0.3\n",
    "        #print(P)\n",
    "        #print(\"Reward function\");\n",
    "        return P;\n",
    "    def gen_expected_reward(self):\n",
    "        R = np.zeros((self.nA,self.nS));\n",
    "        R[0,0] = 1\n",
    "        R[1,self.nS-1] = 0.82\n",
    "        #print(R);\n",
    "        return R;\n",
    "'''nS = 6;\n",
    "nA=2;\n",
    "obj = River_Swim(nS,nA);\n",
    "print(\"Probability matrix\");\n",
    "print(obj.gen_probability());\n",
    "print(\"Reward Matrix\");\n",
    "print(obj.gen_expected_reward());'''"
   ]
  },
  {
   "cell_type": "code",
   "execution_count": 38,
   "id": "f4efa147",
   "metadata": {},
   "outputs": [],
   "source": [
    "import numpy as np\n",
    "#from River_swim_env_create_new_env import River_Swim\n",
    "class beh_pol_sd:\n",
    "    def __init__(self,P,policy,nS,nA):\n",
    "        self.P = P\n",
    "        self.policy = policy\n",
    "        self.nS = nS;\n",
    "        self.nA = nA;\n",
    "    \n",
    "    def onehot(self):\n",
    "        pol = np.zeros((self.nS,self.nA));\n",
    "        for i in range(self.nS):\n",
    "            pol[i][int(self.policy[i])]=1;\n",
    "        return pol;\n",
    "    def find_transition_matrix(self,onehot_encode=1):\n",
    "        if(onehot_encode==1):\n",
    "            self.policy = self.onehot()\n",
    "        T_s_s_next = np.zeros((self.nS,self.nS));\n",
    "        for s in range(self.nS):\n",
    "            for s_next in range(self.nS):\n",
    "                for a in range(self.nA):\n",
    "                    #print(s,s_next,a);\n",
    "                    #print(T[a,s,s_next]);\n",
    "                    T_s_s_next[s,s_next]+=self.P[a,s,s_next]*self.policy[s,a];\n",
    "        return T_s_s_next;\n",
    "    def state_distribution_simulated(self,onehot_encode=1):\n",
    "        P_policy = self.find_transition_matrix(onehot_encode)\n",
    "        #print(P_policy);\n",
    "        P_dash = np.append(P_policy - np.eye(self.nS),np.ones((self.nS,1)),axis=1);\n",
    "        #print(P_dash);\n",
    "        P_last = np.linalg.pinv(np.transpose(P_dash))[:,-1]\n",
    "        return P_last;"
   ]
  },
  {
   "cell_type": "code",
   "execution_count": 39,
   "id": "18ee68b3",
   "metadata": {},
   "outputs": [],
   "source": [
    "def one_hot(target_policy,nS,nA):\n",
    "    tp=np.zeros((nS,nA));\n",
    "    for j in range(nS):\n",
    "        tp[j][int(target_policy[j])] = 1;\n",
    "    return np.array(tp);"
   ]
  },
  {
   "cell_type": "code",
   "execution_count": 40,
   "id": "8b4589ca",
   "metadata": {},
   "outputs": [],
   "source": [
    "nS,nA = 6,2\n",
    "gamma = 1\n",
    "mr_obj = River_Swim();\n",
    "P,R = mr_obj.gen_probability(),mr_obj.gen_expected_reward()"
   ]
  },
  {
   "cell_type": "code",
   "execution_count": 41,
   "id": "b413dd65",
   "metadata": {},
   "outputs": [],
   "source": [
    "T,runs = 100000,5\n",
    "alpha = 0.1;\n",
    "start = 0;\n",
    "gamma = 0.9;\n",
    "values = np.zeros((T,runs))\n",
    "optimal = 0.6733169818431697\n",
    "for run in range(runs):\n",
    "    Q_table = np.random.random((nS,nA));\n",
    "    state = start\n",
    "    for t in range(T):\n",
    "        if(np.random.random()<0.1):\n",
    "            action = np.random.choice(nA);\n",
    "        else:\n",
    "            action = np.argmax(Q_table[state,:]);\n",
    "        next_state = np.argmax(np.random.multinomial(1,P[action,state,:]));\n",
    "        Q_table[state,action] = Q_table[state,action] + alpha*(R[action,action]+gamma * np.max(Q_table[next_state,:])-Q_table[state,action])\n",
    "        policy = np.array([np.argmax(Q_table[state,:]) for state in range(nS)]);\n",
    "        policy = one_hot(policy,nS,nA);\n",
    "        #print(policy);\n",
    "        #input();\n",
    "        sd = beh_pol_sd(P, policy, nS, nA).state_distribution_simulated(0)\n",
    "        values[t,run] = sum([R[np.argmax(Q_table[state,:]),state]*sd[state] for state in range(nS)]) \n",
    "        state = next_state"
   ]
  },
  {
   "cell_type": "code",
   "execution_count": 43,
   "id": "1292ec02",
   "metadata": {},
   "outputs": [
    {
     "data": {
      "image/png": "[encoded data removed]",
      "text/plain": [
       "<Figure size 432x288 with 1 Axes>"
      ]
     },
     "metadata": {
      "needs_background": "light"
     },
     "output_type": "display_data"
    }
   ],
   "source": [
    "cost_avg1 = np.mean(values,axis = 1)\n",
    "from matplotlib import pyplot as plt\n",
    "plt.figure();\n",
    "plt.plot(np.abs(np.cumsum(cost_avg1)-optimal*np.arange(1,T+1)));\n",
    "plt.xlabel('Time steps');\n",
    "plt.ylabel('Cumulative Regret');\n",
    "#plt.legend(['Off_policy_algo1','Q_learning','Pmu approach']);\n",
    "#plt.show();"
   ]
  },
  {
   "cell_type": "code",
   "execution_count": 46,
   "id": "09ba3141",
   "metadata": {},
   "outputs": [
    {
     "name": "stdout",
     "output_type": "stream",
     "text": [
      "(100000, 5)\n"
     ]
    },
    {
     "data": {
      "image/png": "[encoded data removed]",
      "text/plain": [
       "<Figure size 432x288 with 1 Axes>"
      ]
     },
     "metadata": {
      "needs_background": "light"
     },
     "output_type": "display_data"
    }
   ],
   "source": [
    "eps = 0.01\n",
    "data1 = np.array([np.where(np.abs(values[i]-optimal)>eps,1,0) for i in range(T)]);\n",
    "print(data1.shape)\n",
    "cost_avg1 = np.array([np.mean([data1[i][run] for run in range(runs)])for i in range(T)])\n",
    "plt.figure();\n",
    "plt.plot(cost_avg1,linestyle='dashed');\n",
    "#plt.title(\"Comparison with Q_learning(for riverswim)_eps_\"+str(eps));\n",
    "plt.xlabel('Time steps');\n",
    "plt.ylabel('Whether vf not epsilon optimal?');\n",
    "#plt.legend(['Off_policy_algo1','Q_learning','Pmu method']);"
   ]
  },
  {
   "cell_type": "code",
   "execution_count": 42,
   "id": "0791c3c0",
   "metadata": {},
   "outputs": [
    {
     "data": {
      "text/plain": [
       "array([[9.99999971, 8.99999956],\n",
       "       [9.99999968, 8.9999989 ],\n",
       "       [9.99999649, 8.99999397],\n",
       "       [9.99998544, 8.99993659],\n",
       "       [9.99995034, 8.97297451],\n",
       "       [9.99982682, 7.96392378]])"
      ]
     },
     "execution_count": 42,
     "metadata": {},
     "output_type": "execute_result"
    }
   ],
   "source": [
    "Q_table"
   ]
  },
  {
   "cell_type": "code",
   "execution_count": null,
   "id": "33bc489f",
   "metadata": {},
   "outputs": [],
   "source": []
  }
 ],
 "metadata": {
  "kernelspec": {
   "display_name": "Python 3 (ipykernel)",
   "language": "python",
   "name": "python3"
  },
  "language_info": {
   "codemirror_mode": {
    "name": "ipython",
    "version": 3
   },
   "file_extension": ".py",
   "mimetype": "text/x-python",
   "name": "python",
   "nbconvert_exporter": "python",
   "pygments_lexer": "ipython3",
   "version": "3.9.7"
  }
 },
 "nbformat": 4,
 "nbformat_minor": 5
}
